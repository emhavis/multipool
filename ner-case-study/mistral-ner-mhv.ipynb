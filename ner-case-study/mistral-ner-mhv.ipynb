{
 "cells": [
  {
   "cell_type": "code",
   "execution_count": 1,
   "id": "7100bea3-9987-4754-80af-3ab2bf9c85b0",
   "metadata": {},
   "outputs": [
    {
     "data": {
      "text/html": [
       "<div>\n",
       "<style scoped>\n",
       "    .dataframe tbody tr th:only-of-type {\n",
       "        vertical-align: middle;\n",
       "    }\n",
       "\n",
       "    .dataframe tbody tr th {\n",
       "        vertical-align: top;\n",
       "    }\n",
       "\n",
       "    .dataframe thead th {\n",
       "        text-align: right;\n",
       "    }\n",
       "</style>\n",
       "<table border=\"1\" class=\"dataframe\">\n",
       "  <thead>\n",
       "    <tr style=\"text-align: right;\">\n",
       "      <th></th>\n",
       "      <th>NAMA_BARANG</th>\n",
       "      <th>JML_BARANG</th>\n",
       "      <th>JENIS</th>\n",
       "    </tr>\n",
       "  </thead>\n",
       "  <tbody>\n",
       "    <tr>\n",
       "      <th>0</th>\n",
       "      <td>ANALISA SAMPEL RBD PALM STEARIN</td>\n",
       "      <td>1.0</td>\n",
       "      <td>service</td>\n",
       "    </tr>\n",
       "    <tr>\n",
       "      <th>1</th>\n",
       "      <td>Analisa  Pengujian INSPEKSI MINYAK KELAPA SAWI...</td>\n",
       "      <td>1.0</td>\n",
       "      <td>service</td>\n",
       "    </tr>\n",
       "    <tr>\n",
       "      <th>2</th>\n",
       "      <td>Discarging Survey of CPO 2999998 MT at Kabil B...</td>\n",
       "      <td>1.0</td>\n",
       "      <td>service</td>\n",
       "    </tr>\n",
       "    <tr>\n",
       "      <th>3</th>\n",
       "      <td>Discarging Survey of CPO 3149193 MT at Kabil B...</td>\n",
       "      <td>1.0</td>\n",
       "      <td>service</td>\n",
       "    </tr>\n",
       "    <tr>\n",
       "      <th>4</th>\n",
       "      <td>KALIBRASI SOUNDING TAPE CPO</td>\n",
       "      <td>1.0</td>\n",
       "      <td>service</td>\n",
       "    </tr>\n",
       "    <tr>\n",
       "      <th>5</th>\n",
       "      <td>Loading Survey of CPKO 1999887 MT and CPO 2503...</td>\n",
       "      <td>1.0</td>\n",
       "      <td>service</td>\n",
       "    </tr>\n",
       "    <tr>\n",
       "      <th>6</th>\n",
       "      <td>CPOCRUDE PALM OIL</td>\n",
       "      <td>93.0</td>\n",
       "      <td>product</td>\n",
       "    </tr>\n",
       "    <tr>\n",
       "      <th>7</th>\n",
       "      <td>VITAMIN A PALMITATE 17 mIUg 0418579294 FO HS 2...</td>\n",
       "      <td>250.0</td>\n",
       "      <td>product</td>\n",
       "    </tr>\n",
       "    <tr>\n",
       "      <th>8</th>\n",
       "      <td>Lebih Angkut Palm Kernel</td>\n",
       "      <td>378.0</td>\n",
       "      <td>service</td>\n",
       "    </tr>\n",
       "    <tr>\n",
       "      <th>9</th>\n",
       "      <td>CPOCrude Palm Oil Kontrak No082XXXXXX20XX</td>\n",
       "      <td>410.0</td>\n",
       "      <td>product</td>\n",
       "    </tr>\n",
       "  </tbody>\n",
       "</table>\n",
       "</div>"
      ],
      "text/plain": [
       "                                         NAMA_BARANG  JML_BARANG    JENIS\n",
       "0                    ANALISA SAMPEL RBD PALM STEARIN         1.0  service\n",
       "1  Analisa  Pengujian INSPEKSI MINYAK KELAPA SAWI...         1.0  service\n",
       "2  Discarging Survey of CPO 2999998 MT at Kabil B...         1.0  service\n",
       "3  Discarging Survey of CPO 3149193 MT at Kabil B...         1.0  service\n",
       "4                        KALIBRASI SOUNDING TAPE CPO         1.0  service\n",
       "5  Loading Survey of CPKO 1999887 MT and CPO 2503...         1.0  service\n",
       "6                                  CPOCRUDE PALM OIL        93.0  product\n",
       "7  VITAMIN A PALMITATE 17 mIUg 0418579294 FO HS 2...       250.0  product\n",
       "8                           Lebih Angkut Palm Kernel       378.0  service\n",
       "9          CPOCrude Palm Oil Kontrak No082XXXXXX20XX       410.0  product"
      ]
     },
     "execution_count": 1,
     "metadata": {},
     "output_type": "execute_result"
    }
   ],
   "source": [
    "import pandas as pd\n",
    "import requests\n",
    "import pandas as pd\n",
    "import json\n",
    "import re\n",
    "\n",
    "data = pd.read_csv('clean_data.csv')\n",
    "train_set = pd.read_csv('train_data_pajak.csv')\n",
    "train_set.head(10)"
   ]
  },
  {
   "cell_type": "code",
   "execution_count": 2,
   "id": "c0f3f2ea-079c-4ff4-a6c5-63b61ac52084",
   "metadata": {},
   "outputs": [
    {
     "data": {
      "text/html": [
       "<div>\n",
       "<style scoped>\n",
       "    .dataframe tbody tr th:only-of-type {\n",
       "        vertical-align: middle;\n",
       "    }\n",
       "\n",
       "    .dataframe tbody tr th {\n",
       "        vertical-align: top;\n",
       "    }\n",
       "\n",
       "    .dataframe thead th {\n",
       "        text-align: right;\n",
       "    }\n",
       "</style>\n",
       "<table border=\"1\" class=\"dataframe\">\n",
       "  <thead>\n",
       "    <tr style=\"text-align: right;\">\n",
       "      <th></th>\n",
       "      <th>NAMA_BARANG</th>\n",
       "      <th>NAMA_BARANG_NO_SPCHAR</th>\n",
       "      <th>JML_BARANG</th>\n",
       "      <th>KRITERIA_BARANG</th>\n",
       "    </tr>\n",
       "  </thead>\n",
       "  <tbody>\n",
       "    <tr>\n",
       "      <th>0</th>\n",
       "      <td>ANALISA SAMPEL RBD PALM STEARIN</td>\n",
       "      <td>ANALISA SAMPEL RBD PALM STEARIN</td>\n",
       "      <td>1.0</td>\n",
       "      <td>NaN</td>\n",
       "    </tr>\n",
       "    <tr>\n",
       "      <th>1</th>\n",
       "      <td>Aflatoxin B1 Qty  1 Sampel  Palm Kernel Expell...</td>\n",
       "      <td>AFLATOXIN B1 QTY  1 SAMPEL  PALM KERNEL EXPELL...</td>\n",
       "      <td>1.0</td>\n",
       "      <td>NaN</td>\n",
       "    </tr>\n",
       "    <tr>\n",
       "      <th>2</th>\n",
       "      <td>Analisa  Pengujian INSPEKSI MINYAK KELAPA SAWI...</td>\n",
       "      <td>ANALISA  PENGUJIAN INSPEKSI MINYAK KELAPA SAWI...</td>\n",
       "      <td>1.0</td>\n",
       "      <td>NaN</td>\n",
       "    </tr>\n",
       "    <tr>\n",
       "      <th>3</th>\n",
       "      <td>Discarging Survey of CPO 2999998 MT at Kabil B...</td>\n",
       "      <td>DISCARGING SURVEY OF CPO 2 999 998 MT AT KABIL...</td>\n",
       "      <td>1.0</td>\n",
       "      <td>CPO</td>\n",
       "    </tr>\n",
       "    <tr>\n",
       "      <th>4</th>\n",
       "      <td>Discarging Survey of CPO 3149193 MT at Kabil B...</td>\n",
       "      <td>DISCARGING SURVEY OF CPO 3 149 193 MT AT KABIL...</td>\n",
       "      <td>1.0</td>\n",
       "      <td>CPO</td>\n",
       "    </tr>\n",
       "  </tbody>\n",
       "</table>\n",
       "</div>"
      ],
      "text/plain": [
       "                                         NAMA_BARANG  \\\n",
       "0                    ANALISA SAMPEL RBD PALM STEARIN   \n",
       "1  Aflatoxin B1 Qty  1 Sampel  Palm Kernel Expell...   \n",
       "2  Analisa  Pengujian INSPEKSI MINYAK KELAPA SAWI...   \n",
       "3  Discarging Survey of CPO 2999998 MT at Kabil B...   \n",
       "4  Discarging Survey of CPO 3149193 MT at Kabil B...   \n",
       "\n",
       "                               NAMA_BARANG_NO_SPCHAR  JML_BARANG  \\\n",
       "0                    ANALISA SAMPEL RBD PALM STEARIN         1.0   \n",
       "1  AFLATOXIN B1 QTY  1 SAMPEL  PALM KERNEL EXPELL...         1.0   \n",
       "2  ANALISA  PENGUJIAN INSPEKSI MINYAK KELAPA SAWI...         1.0   \n",
       "3  DISCARGING SURVEY OF CPO 2 999 998 MT AT KABIL...         1.0   \n",
       "4  DISCARGING SURVEY OF CPO 3 149 193 MT AT KABIL...         1.0   \n",
       "\n",
       "  KRITERIA_BARANG  \n",
       "0             NaN  \n",
       "1             NaN  \n",
       "2             NaN  \n",
       "3             CPO  \n",
       "4             CPO  "
      ]
     },
     "execution_count": 2,
     "metadata": {},
     "output_type": "execute_result"
    }
   ],
   "source": [
    "data.head()"
   ]
  },
  {
   "cell_type": "code",
   "execution_count": 3,
   "id": "6db77b55-0bfe-4196-964e-56d6a3eca920",
   "metadata": {},
   "outputs": [],
   "source": [
    "def run_curl_command(prompt):\n",
    "    url = \"http://108.137.109.168:11434/api/generate\"\n",
    "\n",
    "    data = {\n",
    "        \"model\": \"llama2\",\n",
    "        \"prompt\": prompt,\n",
    "        \"stream\": False\n",
    "    }\n",
    "\n",
    "    # Sending a POST request\n",
    "    response = requests.post(url, json=data)\n",
    "\n",
    "    # Checking the response\n",
    "    if response.status_code == 200:\n",
    "        # Return the JSON response\n",
    "        return response.json()\n",
    "    else:\n",
    "        print(f\"Error! Status code: {response.status_code}, Response: {response.text}\")\n",
    "        # Return None or raise an exception, depending on your preference\n",
    "        return None"
   ]
  },
  {
   "cell_type": "code",
   "execution_count": 4,
   "id": "3571ee5b-899d-49ec-93d5-bce23ed64164",
   "metadata": {},
   "outputs": [],
   "source": [
    "# Prompt template\n",
    "prompt = \"\"\"\n",
    "Please make classification and return JSON formatted answer for the column BARANG in this based on the following criteria:\n",
    "    - type represents the type of classification ('Service' or 'Product').\n",
    "    - If the product contains a verb or various activities or offerings that support the production, distribution, marketing, or utilization of palm oil and its derivatives, classify it as 'service'.\n",
    "    - If the product is raw material or a product typically refers to the tangible goods derived from palm oil classify it as 'product'.\n",
    "    - confidenceLevel represents the confidence level of the classification.\n",
    "    - explanation provides additional information about the classification.\n",
    "    - do not put new line character into the answer.\n",
    "    - Provide the output in JSON format with the following keys: \"productName\" : String, \"type\" : String, \"confidenceLevel\" : float, and \"explanation\" : String.\n",
    "    - Only return JSON Formatted answer and nothing else\n",
    "    - Check and correct the JSON data by ensuring that all property names are enclosed in double quotes.\n",
    "    - The trailing comma at the end should be removed since it's the last element in the JSON object.\n",
    "    - Ensure that the strings are properly terminated. Dont let any comma on the end of key or value\n",
    "    - Only return the JSON formatted answer and NOTHING else.\n",
    "    - You need to wrap all JSON objects within square brackets \"[\" and \"]\" to form a valid JSON array.\n",
    "    - Make sure there's no extra comma after the last value in each dictionary, which is causing the error.\n",
    "    - Don't add any character into the text\n",
    "    Example of JSON Formatted Answer:\n",
    "        {{\n",
    "            \"productName\":\"TANDAN BUAH SEGAR KELAPA SAWIT TAHUN TANAM 1999 1700094 KG\",\n",
    "            \"type\":\"Product\",\n",
    "            \"confidenceLevel\":0.9,\n",
    "            \"explanation\":\"This is a product of Fresh Fruit Oil Palm\",\n",
    "        }}\n",
    "    This is the text to classify:\n",
    "    {y}\n",
    "\n",
    "\"\"\""
   ]
  },
  {
   "cell_type": "code",
   "execution_count": 5,
   "id": "80367e11-4b56-48e5-8122-f48c00f2b362",
   "metadata": {},
   "outputs": [],
   "source": [
    "lstOutput = []\n",
    "# for index in range(len(data)):\n",
    "for index in range(0,5):\n",
    "    # print(data['NAMA_BARANG'].loc[index])\n",
    "    # print(prompt.format(y = data['NAMA_BARANG'].loc[index]))\n",
    "    result = run_curl_command(prompt.format(y = data['NAMA_BARANG'].loc[index]))\n",
    "    lstOutput.append(result)\n",
    "    "
   ]
  },
  {
   "cell_type": "code",
   "execution_count": 8,
   "id": "76fbe888-2795-4532-a623-b82f9d197b3b",
   "metadata": {},
   "outputs": [
    {
     "data": {
      "text/plain": [
       "'[\\n{\\n\"productName\": \"ANALISA SAMPEL RBD PALM STEARIN\",\\n\"type\": \"Product\",\\n\"confidenceLevel\": 0.8,\\n\"explanation\": \"This is a product of Fresh Fruit Oil Palm\"\\n},\\n{\\n\"productName\": \"KAROB BAKAH PALM STEARIN\",\\n\"type\": \"Product\",\\n\"confidenceLevel\": 0.9,\\n\"explanation\": \"This is a product of Fresh Fruit Oil Palm\"\\n}\\n]\\n\\nNote: The output is in JSON format and includes the following keys: \"productName\", \"type\", \"confidenceLevel\", and \"explanation\". The values are based on the classification of the text provided.'"
      ]
     },
     "execution_count": 8,
     "metadata": {},
     "output_type": "execute_result"
    }
   ],
   "source": [
    "lstOutput[0]['response']"
   ]
  },
  {
   "cell_type": "code",
   "execution_count": 13,
   "id": "16938b96-412d-4f1e-8555-f58fecb1a25a",
   "metadata": {},
   "outputs": [
    {
     "ename": "JSONDecodeError",
     "evalue": "Extra data: line 16 column 1 (char 460)",
     "output_type": "error",
     "traceback": [
      "\u001b[0;31m---------------------------------------------------------------------------\u001b[0m",
      "\u001b[0;31mJSONDecodeError\u001b[0m                           Traceback (most recent call last)",
      "\u001b[0;32m<ipython-input-13-2be50852511b>\u001b[0m in \u001b[0;36m<module>\u001b[0;34m\u001b[0m\n\u001b[0;32m----> 1\u001b[0;31m \u001b[0mout_obj\u001b[0m \u001b[0;34m=\u001b[0m \u001b[0mjson\u001b[0m\u001b[0;34m.\u001b[0m\u001b[0mloads\u001b[0m\u001b[0;34m(\u001b[0m\u001b[0mlstOutput\u001b[0m\u001b[0;34m[\u001b[0m\u001b[0;36m1\u001b[0m\u001b[0;34m]\u001b[0m\u001b[0;34m[\u001b[0m\u001b[0;34m'response'\u001b[0m\u001b[0;34m]\u001b[0m\u001b[0;34m)\u001b[0m\u001b[0;34m\u001b[0m\u001b[0;34m\u001b[0m\u001b[0m\n\u001b[0m",
      "\u001b[0;32m/usr/lib64/python3.6/json/__init__.py\u001b[0m in \u001b[0;36mloads\u001b[0;34m(s, encoding, cls, object_hook, parse_float, parse_int, parse_constant, object_pairs_hook, **kw)\u001b[0m\n\u001b[1;32m    352\u001b[0m             \u001b[0mparse_int\u001b[0m \u001b[0;32mis\u001b[0m \u001b[0;32mNone\u001b[0m \u001b[0;32mand\u001b[0m \u001b[0mparse_float\u001b[0m \u001b[0;32mis\u001b[0m \u001b[0;32mNone\u001b[0m \u001b[0;32mand\u001b[0m\u001b[0;34m\u001b[0m\u001b[0;34m\u001b[0m\u001b[0m\n\u001b[1;32m    353\u001b[0m             parse_constant is None and object_pairs_hook is None and not kw):\n\u001b[0;32m--> 354\u001b[0;31m         \u001b[0;32mreturn\u001b[0m \u001b[0m_default_decoder\u001b[0m\u001b[0;34m.\u001b[0m\u001b[0mdecode\u001b[0m\u001b[0;34m(\u001b[0m\u001b[0ms\u001b[0m\u001b[0;34m)\u001b[0m\u001b[0;34m\u001b[0m\u001b[0;34m\u001b[0m\u001b[0m\n\u001b[0m\u001b[1;32m    355\u001b[0m     \u001b[0;32mif\u001b[0m \u001b[0mcls\u001b[0m \u001b[0;32mis\u001b[0m \u001b[0;32mNone\u001b[0m\u001b[0;34m:\u001b[0m\u001b[0;34m\u001b[0m\u001b[0;34m\u001b[0m\u001b[0m\n\u001b[1;32m    356\u001b[0m         \u001b[0mcls\u001b[0m \u001b[0;34m=\u001b[0m \u001b[0mJSONDecoder\u001b[0m\u001b[0;34m\u001b[0m\u001b[0;34m\u001b[0m\u001b[0m\n",
      "\u001b[0;32m/usr/lib64/python3.6/json/decoder.py\u001b[0m in \u001b[0;36mdecode\u001b[0;34m(self, s, _w)\u001b[0m\n\u001b[1;32m    340\u001b[0m         \u001b[0mend\u001b[0m \u001b[0;34m=\u001b[0m \u001b[0m_w\u001b[0m\u001b[0;34m(\u001b[0m\u001b[0ms\u001b[0m\u001b[0;34m,\u001b[0m \u001b[0mend\u001b[0m\u001b[0;34m)\u001b[0m\u001b[0;34m.\u001b[0m\u001b[0mend\u001b[0m\u001b[0;34m(\u001b[0m\u001b[0;34m)\u001b[0m\u001b[0;34m\u001b[0m\u001b[0;34m\u001b[0m\u001b[0m\n\u001b[1;32m    341\u001b[0m         \u001b[0;32mif\u001b[0m \u001b[0mend\u001b[0m \u001b[0;34m!=\u001b[0m \u001b[0mlen\u001b[0m\u001b[0;34m(\u001b[0m\u001b[0ms\u001b[0m\u001b[0;34m)\u001b[0m\u001b[0;34m:\u001b[0m\u001b[0;34m\u001b[0m\u001b[0;34m\u001b[0m\u001b[0m\n\u001b[0;32m--> 342\u001b[0;31m             \u001b[0;32mraise\u001b[0m \u001b[0mJSONDecodeError\u001b[0m\u001b[0;34m(\u001b[0m\u001b[0;34m\"Extra data\"\u001b[0m\u001b[0;34m,\u001b[0m \u001b[0ms\u001b[0m\u001b[0;34m,\u001b[0m \u001b[0mend\u001b[0m\u001b[0;34m)\u001b[0m\u001b[0;34m\u001b[0m\u001b[0;34m\u001b[0m\u001b[0m\n\u001b[0m\u001b[1;32m    343\u001b[0m         \u001b[0;32mreturn\u001b[0m \u001b[0mobj\u001b[0m\u001b[0;34m\u001b[0m\u001b[0;34m\u001b[0m\u001b[0m\n\u001b[1;32m    344\u001b[0m \u001b[0;34m\u001b[0m\u001b[0m\n",
      "\u001b[0;31mJSONDecodeError\u001b[0m: Extra data: line 16 column 1 (char 460)"
     ]
    }
   ],
   "source": [
    "out_obj = json.loads(lstOutput[1]['response'])"
   ]
  },
  {
   "cell_type": "code",
   "execution_count": 12,
   "id": "8b5077d4-578e-4ef1-bd2f-65424159122a",
   "metadata": {},
   "outputs": [
    {
     "data": {
      "text/plain": [
       "'\\n'"
      ]
     },
     "execution_count": 12,
     "metadata": {},
     "output_type": "execute_result"
    }
   ],
   "source": [
    "strRes = run_curl_command(prompt.format(y = data['NAMA_BARANG'].loc[0]))\n"
   ]
  },
  {
   "cell_type": "code",
   "execution_count": null,
   "id": "7649c604-d5a0-4544-a275-7b26e9329bbc",
   "metadata": {},
   "outputs": [],
   "source": []
  },
  {
   "cell_type": "code",
   "execution_count": null,
   "id": "d8d0a0bc-5a42-4077-b848-6fe9405a7766",
   "metadata": {},
   "outputs": [],
   "source": [
    "stage = json.dumps(lstOutput[0]['response'])"
   ]
  },
  {
   "cell_type": "code",
   "execution_count": 14,
   "id": "58e47081-3235-4368-87f2-db04eb0c468c",
   "metadata": {},
   "outputs": [],
   "source": [
    "\n",
    "\n",
    "strRes = run_curl_command(prompt.format(y = data['NAMA_BARANG'].loc[0]))\n",
    "serToken = json.dumps(strRes['response'])\n",
    "test = json.loads(serToken)\n",
    " "
   ]
  },
  {
   "cell_type": "code",
   "execution_count": 15,
   "id": "dd44f368-0f51-45d8-8c07-0f487c10b28b",
   "metadata": {},
   "outputs": [
    {
     "data": {
      "text/plain": [
       "'[\\n\"productName\": \"ANALISA SAMPEL RBD PALM STEARIN\",\\n\"type\": \"Product\",\\n\"confidenceLevel\": 0.8,\\n\"explanation\": \"This is a product of palm oil\"\\n]'"
      ]
     },
     "execution_count": 15,
     "metadata": {},
     "output_type": "execute_result"
    }
   ],
   "source": [
    "test"
   ]
  },
  {
   "cell_type": "code",
   "execution_count": null,
   "id": "67b3ab32-6f2c-4b68-b8e5-0cc9312e588d",
   "metadata": {},
   "outputs": [],
   "source": []
  },
  {
   "cell_type": "code",
   "execution_count": null,
   "id": "5cbf02d5-1778-4d6a-81eb-8baa3751f3fd",
   "metadata": {},
   "outputs": [],
   "source": [
    "print(jsonRes)"
   ]
  },
  {
   "cell_type": "code",
   "execution_count": null,
   "id": "202afa6d-02fa-4830-acc6-d7fc14ae0a39",
   "metadata": {},
   "outputs": [],
   "source": [
    "import json\n",
    "# lstOutput[1]['model']\n",
    "lstOutput[0]['response']\n",
    "# data['NAMA_BARANG'][0]\n",
    "\n",
    "\n",
    "# out_obj = json.loads(lstOutput[1]['response'])"
   ]
  },
  {
   "cell_type": "code",
   "execution_count": null,
   "id": "86558806-29f3-46d8-9d71-af69e41d8add",
   "metadata": {},
   "outputs": [],
   "source": [
    "strJsonOut = lstOutput[2]['response']\n",
    "print(strJsonOut)"
   ]
  },
  {
   "cell_type": "code",
   "execution_count": null,
   "id": "7464fcb3-02e2-445d-8d2a-0849523f23d7",
   "metadata": {},
   "outputs": [],
   "source": [
    "json.loads(str(strJsonOut))"
   ]
  },
  {
   "cell_type": "code",
   "execution_count": null,
   "id": "bfb0d275-c31d-4c3d-8c88-0f8b0c7258b9",
   "metadata": {},
   "outputs": [],
   "source": [
    "test = \"\"\"{\n",
    "    \"productName\":\"Palm Kernel Expeller (PKE) with Sample Code DUM305 and Lab Test No XX XX, dated 01 November 2021\",\n",
    "    \"type\":\"Service\",\n",
    "    \"confidenceLevel\":0.95,\n",
    "    \"explanation\":\"This entry refers to a service for testing the Palm Kernel Expeller (PKE) sample using Lab Test No XX XX, rather than a raw product.\"\n",
    "}\"\"\"\n",
    "\n",
    "json.loads(test)"
   ]
  }
 ],
 "metadata": {
  "kernelspec": {
   "display_name": "Python 3",
   "language": "python",
   "name": "python3"
  },
  "language_info": {
   "codemirror_mode": {
    "name": "ipython",
    "version": 3
   },
   "file_extension": ".py",
   "mimetype": "text/x-python",
   "name": "python",
   "nbconvert_exporter": "python",
   "pygments_lexer": "ipython3",
   "version": "3.6.8"
  }
 },
 "nbformat": 4,
 "nbformat_minor": 5
}
