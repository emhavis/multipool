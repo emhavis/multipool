{
 "cells": [
  {
   "cell_type": "code",
   "execution_count": 59,
   "id": "7100bea3-9987-4754-80af-3ab2bf9c85b0",
   "metadata": {},
   "outputs": [
    {
     "data": {
      "text/html": [
       "<div>\n",
       "<style scoped>\n",
       "    .dataframe tbody tr th:only-of-type {\n",
       "        vertical-align: middle;\n",
       "    }\n",
       "\n",
       "    .dataframe tbody tr th {\n",
       "        vertical-align: top;\n",
       "    }\n",
       "\n",
       "    .dataframe thead th {\n",
       "        text-align: right;\n",
       "    }\n",
       "</style>\n",
       "<table border=\"1\" class=\"dataframe\">\n",
       "  <thead>\n",
       "    <tr style=\"text-align: right;\">\n",
       "      <th></th>\n",
       "      <th>NAMA_BARANG</th>\n",
       "      <th>JML_BARANG</th>\n",
       "      <th>JENIS</th>\n",
       "    </tr>\n",
       "  </thead>\n",
       "  <tbody>\n",
       "    <tr>\n",
       "      <th>0</th>\n",
       "      <td>ANALISA SAMPEL RBD PALM STEARIN</td>\n",
       "      <td>1.0</td>\n",
       "      <td>service</td>\n",
       "    </tr>\n",
       "    <tr>\n",
       "      <th>1</th>\n",
       "      <td>Analisa  Pengujian INSPEKSI MINYAK KELAPA SAWI...</td>\n",
       "      <td>1.0</td>\n",
       "      <td>service</td>\n",
       "    </tr>\n",
       "    <tr>\n",
       "      <th>2</th>\n",
       "      <td>Discarging Survey of CPO 2999998 MT at Kabil B...</td>\n",
       "      <td>1.0</td>\n",
       "      <td>service</td>\n",
       "    </tr>\n",
       "    <tr>\n",
       "      <th>3</th>\n",
       "      <td>Discarging Survey of CPO 3149193 MT at Kabil B...</td>\n",
       "      <td>1.0</td>\n",
       "      <td>service</td>\n",
       "    </tr>\n",
       "    <tr>\n",
       "      <th>4</th>\n",
       "      <td>KALIBRASI SOUNDING TAPE CPO</td>\n",
       "      <td>1.0</td>\n",
       "      <td>service</td>\n",
       "    </tr>\n",
       "    <tr>\n",
       "      <th>5</th>\n",
       "      <td>Loading Survey of CPKO 1999887 MT and CPO 2503...</td>\n",
       "      <td>1.0</td>\n",
       "      <td>service</td>\n",
       "    </tr>\n",
       "    <tr>\n",
       "      <th>6</th>\n",
       "      <td>CPOCRUDE PALM OIL</td>\n",
       "      <td>93.0</td>\n",
       "      <td>product</td>\n",
       "    </tr>\n",
       "    <tr>\n",
       "      <th>7</th>\n",
       "      <td>VITAMIN A PALMITATE 17 mIUg 0418579294 FO HS 2...</td>\n",
       "      <td>250.0</td>\n",
       "      <td>product</td>\n",
       "    </tr>\n",
       "    <tr>\n",
       "      <th>8</th>\n",
       "      <td>Lebih Angkut Palm Kernel</td>\n",
       "      <td>378.0</td>\n",
       "      <td>service</td>\n",
       "    </tr>\n",
       "    <tr>\n",
       "      <th>9</th>\n",
       "      <td>CPOCrude Palm Oil Kontrak No082XXXXXX20XX</td>\n",
       "      <td>410.0</td>\n",
       "      <td>product</td>\n",
       "    </tr>\n",
       "  </tbody>\n",
       "</table>\n",
       "</div>"
      ],
      "text/plain": [
       "                                         NAMA_BARANG  JML_BARANG    JENIS\n",
       "0                    ANALISA SAMPEL RBD PALM STEARIN         1.0  service\n",
       "1  Analisa  Pengujian INSPEKSI MINYAK KELAPA SAWI...         1.0  service\n",
       "2  Discarging Survey of CPO 2999998 MT at Kabil B...         1.0  service\n",
       "3  Discarging Survey of CPO 3149193 MT at Kabil B...         1.0  service\n",
       "4                        KALIBRASI SOUNDING TAPE CPO         1.0  service\n",
       "5  Loading Survey of CPKO 1999887 MT and CPO 2503...         1.0  service\n",
       "6                                  CPOCRUDE PALM OIL        93.0  product\n",
       "7  VITAMIN A PALMITATE 17 mIUg 0418579294 FO HS 2...       250.0  product\n",
       "8                           Lebih Angkut Palm Kernel       378.0  service\n",
       "9          CPOCrude Palm Oil Kontrak No082XXXXXX20XX       410.0  product"
      ]
     },
     "execution_count": 59,
     "metadata": {},
     "output_type": "execute_result"
    }
   ],
   "source": [
    "import pandas as pd\n",
    "import requests\n",
    "import pandas as pd\n",
    "import json\n",
    "import re\n",
    "\n",
    "data = pd.read_csv('clean_data.csv')\n",
    "train_set = pd.read_csv('train_data_pajak.csv')\n",
    "train_set.head(10)"
   ]
  },
  {
   "cell_type": "code",
   "execution_count": null,
   "id": "c0f3f2ea-079c-4ff4-a6c5-63b61ac52084",
   "metadata": {},
   "outputs": [],
   "source": [
    "data.head()"
   ]
  },
  {
   "cell_type": "code",
   "execution_count": 70,
   "id": "6db77b55-0bfe-4196-964e-56d6a3eca920",
   "metadata": {},
   "outputs": [],
   "source": [
    "def run_curl_command(prompt):\n",
    "    url = \"http://108.137.109.168:11434/api/generate\"\n",
    "\n",
    "    data = {\n",
    "        \"model\": \"Classsifier1\",\n",
    "        \"prompt\": prompt,\n",
    "        \"stream\": False\n",
    "    }\n",
    "\n",
    "    # Sending a POST request\n",
    "    response = requests.post(url, json=data)\n",
    "\n",
    "    # Checking the response\n",
    "    if response.status_code == 200:\n",
    "        # Return the JSON response\n",
    "        return response.json()\n",
    "    else:\n",
    "        print(f\"Error! Status code: {response.status_code}, Response: {response.text}\")\n",
    "        # Return None or raise an exception, depending on your preference\n",
    "        return None"
   ]
  },
  {
   "cell_type": "code",
   "execution_count": 71,
   "id": "3571ee5b-899d-49ec-93d5-bce23ed64164",
   "metadata": {
    "tags": []
   },
   "outputs": [],
   "source": [
    "#\n",
    "# test the result\n",
    "jsonRespond = run_curl_command(\"What color is the sky at different times of the day? Respond using JSON\")\n",
    "# jsonRespond_res = json.loads(jsonRespond['response'])\n",
    "# print(jsonRespond_res['6:00 AM']['color'])\n",
    "# print(jsonRespond_res['6:00 AM']['description'])"
   ]
  },
  {
   "cell_type": "code",
   "execution_count": 52,
   "id": "ed175ceb-d2a2-4b4c-81cc-8371eaba1992",
   "metadata": {},
   "outputs": [
    {
     "name": "stdout",
     "output_type": "stream",
     "text": [
      "{'model': 'mistral', 'created_at': '2024-02-22T09:53:39.625627033Z', 'response': ' {\\n \"6:00 AM\": {\\n   \"color\": \"#F0F8FF\",\\n   \"description\": \"Sky is usually light blue or white, depending on weather conditions\"\\n },\\n \"9:00 AM\": {\\n   \"color\": \"#BFEFFF\",\\n   \"description\": \"Sky gradually turns lighter blue as the sun rises higher\"\\n },\\n \"12:00 PM\": {\\n   \"color\": \"#9FC5DE\",\\n   \"description\": \"Clear blue sky in the afternoon\"\\n },\\n \"3:00 PM\": {\\n   \"color\": \"#ADD8E6\",\\n   \"description\": \"Sky may have a hint of pink or orange near the horizon\"\\n },\\n \"6:00 PM\": {\\n   \"color\": \"#C5CAE9\",\\n   \"description\": \"Sky begins to change color as sun sets, usually appearing pink, orange, purple or red\"\\n },\\n \"9:00 PM\": {\\n   \"color\": \"#47484B\",\\n   \"description\": \"Night sky is typically dark blue or black with stars visible\"\\n }\\n}', 'done': True, 'context': [733, 16289, 28793, 28705, 1824, 3181, 349, 272, 7212, 438, 1581, 2421, 302, 272, 1370, 28804, 1992, 19571, 1413, 9292, 733, 28748, 16289, 28793, 371, 13, 345, 28784, 28747, 28734, 28734, 10401, 1264, 371, 13, 259, 345, 3456, 1264, 11441, 28765, 28734, 28765, 28783, 1831, 548, 13, 259, 345, 6518, 1264, 345, 28735, 4845, 349, 4312, 2061, 5045, 442, 3075, 28725, 10085, 356, 8086, 4331, 28739, 13, 1630, 13, 345, 28774, 28747, 28734, 28734, 10401, 1264, 371, 13, 259, 345, 3456, 1264, 11441, 28760, 5790, 1831, 28765, 548, 13, 259, 345, 6518, 1264, 345, 28735, 4845, 17885, 8617, 23645, 5045, 390, 272, 4376, 408, 3900, 4337, 28739, 13, 1630, 13, 345, 28740, 28750, 28747, 28734, 28734, 9632, 1264, 371, 13, 259, 345, 3456, 1264, 11441, 28774, 5417, 28782, 1336, 548, 13, 259, 345, 6518, 1264, 345, 13012, 5045, 7212, 297, 272, 8635, 28739, 13, 1630, 13, 345, 28770, 28747, 28734, 28734, 9632, 1264, 371, 13, 259, 345, 3456, 1264, 11441, 10868, 28783, 28749, 28784, 548, 13, 259, 345, 6518, 1264, 345, 28735, 4845, 993, 506, 264, 12427, 302, 12937, 442, 14545, 3065, 272, 18259, 28739, 13, 1630, 13, 345, 28784, 28747, 28734, 28734, 9632, 1264, 371, 13, 259, 345, 3456, 1264, 11441, 28743, 28782, 5194, 28749, 28774, 548, 13, 259, 345, 6518, 1264, 345, 28735, 4845, 10658, 298, 2268, 3181, 390, 4376, 6491, 28725, 4312, 19711, 12937, 28725, 14545, 28725, 19435, 442, 2760, 28739, 13, 1630, 13, 345, 28774, 28747, 28734, 28734, 9632, 1264, 371, 13, 259, 345, 3456, 1264, 11441, 28781, 28787, 28781, 28783, 28781, 28760, 548, 13, 259, 345, 6518, 1264, 345, 28759, 454, 7212, 349, 9566, 3199, 5045, 442, 2687, 395, 7448, 9141, 28739, 13, 443, 13, 28752], 'total_duration': 4164857681, 'load_duration': 925118443, 'prompt_eval_count': 25, 'prompt_eval_duration': 106380000, 'eval_count': 258, 'eval_duration': 3132987000}\n"
     ]
    }
   ],
   "source": [
    "print(jsonRespond)"
   ]
  },
  {
   "cell_type": "code",
   "execution_count": 72,
   "id": "4a7579cb-ded1-42b7-972c-b917b998ae4b",
   "metadata": {},
   "outputs": [],
   "source": [
    "prompt = \"\"\"\n",
    "Please make classification for below text string based on the following criteria\n",
    "1. type represents the type of classification ('Service' or 'Product'). If the product contains a verb or various activities or offerings that support the production, distribution, marketing, or utilization of palm oil and its derivatives, classify it as 'service'.If the product is raw material or a product typically refers to the tangible goods derived from palm oil classify it as 'product'.\n",
    "2. confidenceLevel represents the confidence level of the classification as real number between 0.00 and 1.00\n",
    "3. explanation provides additional information about the classification.\n",
    "4. quantity as the quantity stated in the text, please put 0 if you cant find it, and dont put other explanation outside json structure\n",
    "5. Do not add any text outside the json structure\n",
    "This is the text to classify:\n",
    "{y}\n",
    "\n",
    "Respond using JSON\n",
    "\"\"\""
   ]
  },
  {
   "cell_type": "code",
   "execution_count": 38,
   "id": "d6ecc3e9-6cfe-46ce-b1fb-6e55b567bf4e",
   "metadata": {},
   "outputs": [],
   "source": []
  },
  {
   "cell_type": "code",
   "execution_count": 39,
   "id": "bbe111b5-e3b4-4dca-b61a-ec707c463331",
   "metadata": {},
   "outputs": [],
   "source": []
  },
  {
   "cell_type": "code",
   "execution_count": 73,
   "id": "8ff76695-56d7-4916-abde-d1fb91605fc9",
   "metadata": {},
   "outputs": [
    {
     "name": "stdout",
     "output_type": "stream",
     "text": [
      "\n",
      "Please make classification for below text string based on the following criteria\n",
      "1. type represents the type of classification ('Service' or 'Product'). If the product contains a verb or various activities or offerings that support the production, distribution, marketing, or utilization of palm oil and its derivatives, classify it as 'service'.If the product is raw material or a product typically refers to the tangible goods derived from palm oil classify it as 'product'.\n",
      "2. confidenceLevel represents the confidence level of the classification as real number between 0.00 and 1.00\n",
      "3. explanation provides additional information about the classification.\n",
      "4. quantity as the quantity stated in the text, please put 0 if you cant find it, and dont put other explanation outside json structure\n",
      "5. Do not add any text outside the json structure\n",
      "This is the text to classify:\n",
      "ANALISA SAMPEL RBD PALM STEARIN\n",
      "\n",
      "Respond using JSON\n",
      "\n"
     ]
    }
   ],
   "source": [
    "print(prompt.format(y=data['NAMA_BARANG'].loc[0]))"
   ]
  },
  {
   "cell_type": "code",
   "execution_count": 74,
   "id": "79f65d19-4e44-45fe-9ce5-95ca3da49956",
   "metadata": {},
   "outputs": [],
   "source": [
    "jsRespond = run_curl_command(prompt.format(y=data['NAMA_BARANG'].loc[0]))"
   ]
  },
  {
   "cell_type": "code",
   "execution_count": 75,
   "id": "bf8478fa-36da-49a4-aa40-3873e659b235",
   "metadata": {},
   "outputs": [],
   "source": [
    "jsClass = json.loads(jsRespond['response'])"
   ]
  },
  {
   "cell_type": "code",
   "execution_count": 76,
   "id": "3b7585c5-cf60-4fe6-98b2-870483addc2d",
   "metadata": {},
   "outputs": [
    {
     "data": {
      "text/plain": [
       "{'type': 'Product',\n",
       " 'confidenceLevel': 1.0,\n",
       " 'explanation': 'RBD palm stearin is a product derived from palm oil.',\n",
       " 'quantity': 1.0}"
      ]
     },
     "execution_count": 76,
     "metadata": {},
     "output_type": "execute_result"
    }
   ],
   "source": [
    "# jsClass['type']\n",
    "jsClass"
   ]
  },
  {
   "cell_type": "code",
   "execution_count": 77,
   "id": "b5667935-d298-4168-80e3-17bb3338870e",
   "metadata": {},
   "outputs": [
    {
     "name": "stderr",
     "output_type": "stream",
     "text": [
      "100%|██████████| 7/7 [00:09<00:00,  1.34s/it]\n"
     ]
    }
   ],
   "source": [
    "lsResult = []\n",
    "lstError = []\n",
    "\n",
    "from tqdm import tqdm\n",
    "\n",
    "for index in tqdm(range(0, 7)):\n",
    "    try:\n",
    "        jsRespond = run_curl_command(prompt.format(y=data['NAMA_BARANG'].loc[index]))\n",
    "        jsClass = json.loads(jsRespond['response'])\n",
    "        lsResult.append(jsClass)\n",
    "        \n",
    "    except json.JSONDecodeError as e:\n",
    "        print(f\"Error decoding JSON for index {index}: {e}\")\n",
    "        # Append the error to lstError\n",
    "        lstError.append(f\"Error decoding JSON for index {index}: {e}\")\n",
    "        # Continue with the next iteration of the loop\n",
    "        continue\n",
    "        \n",
    "    except Exception as ex:\n",
    "        print(f\"An unexpected error occurred for index {index}: {ex}\")\n",
    "        # Append the error to lstError\n",
    "        lstError.append(f\"Unexpected error for index {index}: {ex}\")\n",
    "        # Continue with the next iteration of the loop\n",
    "        continue\n"
   ]
  },
  {
   "cell_type": "code",
   "execution_count": null,
   "id": "530f9267-b638-4855-a59e-8a4b72146c60",
   "metadata": {},
   "outputs": [],
   "source": [
    "print(lstError)"
   ]
  },
  {
   "cell_type": "code",
   "execution_count": 79,
   "id": "10d79576-84aa-4be9-abaa-8b7729d077a2",
   "metadata": {},
   "outputs": [
    {
     "name": "stderr",
     "output_type": "stream",
     "text": [
      "100%|██████████| 1532/1532 [23:30<00:00,  1.09it/s]\n"
     ]
    }
   ],
   "source": [
    "#\n",
    "#\n",
    "#\n",
    "# Full scale operation\n",
    "#\n",
    "#\n",
    "\n",
    "from tqdm import tqdm\n",
    "import json\n",
    "from datetime import datetime\n",
    "\n",
    "lsResult = []\n",
    "lstError = []\n",
    "\n",
    "for index in tqdm(range(len(data))):\n",
    "    try:\n",
    "        jsRespond = run_curl_command(prompt.format(y=data['NAMA_BARANG'].loc[index]))\n",
    "        jsClass = json.loads(jsRespond['response'])\n",
    "        lsResult.append(jsClass)\n",
    "    except json.JSONDecodeError as e:\n",
    "        error_message = f\"Error decoding JSON for index {index} with data '{data['NAMA_BARANG'].loc[index]}': {e}\\nOriginal text: {jsRespond['response']}\"\n",
    "        print(error_message)\n",
    "        # Append the error message to lstError\n",
    "        lstError.append(error_message)\n",
    "        # Continue with the next iteration of the loop\n",
    "        continue\n",
    "    except Exception as ex:\n",
    "        error_message = f\"Unexpected error for index {index} with data '{data['NAMA_BARANG'].loc[index]}': {ex}\"\n",
    "        print(error_message)\n",
    "        # Append the error message to lstError\n",
    "        lstError.append(error_message)\n",
    "        # Continue with the next iteration of the loop\n",
    "        continue\n",
    "\n",
    "# Write lsResult to result.txt with a timestamp prefix\n",
    "result_filename = f\"result_{datetime.now().strftime('%Y%m%d_%H%M%S')}.txt\"\n",
    "with open(result_filename, 'w') as result_file:\n",
    "    for result in lsResult:\n",
    "        result_file.write(json.dumps(result) + '\\n')\n",
    "\n",
    "# Write lstError to error.txt with a timestamp prefix\n",
    "error_filename = f\"error_{datetime.now().strftime('%Y%m%d_%H%M%S')}.txt\"\n",
    "with open(error_filename, 'w') as error_file:\n",
    "    for error_message in lstError:\n",
    "        error_file.write(error_message + '\\n')\n",
    "\n",
    "# result.txt and error.txt with timestamped filenames containing the contents of lsResult and lstError.\n"
   ]
  },
  {
   "cell_type": "code",
   "execution_count": 23,
   "id": "1484b161-b9cd-438e-9963-d3f3df109ebd",
   "metadata": {},
   "outputs": [],
   "source": [
    "jsRespond = run_curl_command(prompt.format(y=\"10 Bl Blanko Analisa Minyak Sawit Oil Loss SCPR  0010810374\"))"
   ]
  },
  {
   "cell_type": "code",
   "execution_count": 24,
   "id": "8657a7a8-3d4d-431c-92c4-0913183538a2",
   "metadata": {},
   "outputs": [],
   "source": [
    "jsClass = json.loads(jsRespond['response'])"
   ]
  },
  {
   "cell_type": "code",
   "execution_count": 11,
   "id": "e7e31c78-d980-4965-bab9-31f94433b731",
   "metadata": {},
   "outputs": [],
   "source": [
    "testInput = \"\"\"\n",
    "{\n",
    "\"type\": \"product\",\n",
    "\"confidenceLevel\": 0.95,\n",
    "\"explanation\": \"The text 'Master Key Gembok Truk CPO' does not contain any verbs or activities related to the production, distribution, marketing, or utilization of palm oil and its derivatives. Instead, it appears to be referring to a product or key made from CPO (Crude Palm Oil), which is a raw material derived from palm oil. Therefore, it is classified as a 'product'.\"\n",
    "}\n",
    "\"\"\""
   ]
  },
  {
   "cell_type": "code",
   "execution_count": 12,
   "id": "ddf96127-aa2f-475e-9026-fc188b9f1ad1",
   "metadata": {},
   "outputs": [
    {
     "data": {
      "text/plain": [
       "{'type': 'product',\n",
       " 'confidenceLevel': 0.95,\n",
       " 'explanation': \"The text 'Master Key Gembok Truk CPO' does not contain any verbs or activities related to the production, distribution, marketing, or utilization of palm oil and its derivatives. Instead, it appears to be referring to a product or key made from CPO (Crude Palm Oil), which is a raw material derived from palm oil. Therefore, it is classified as a 'product'.\"}"
      ]
     },
     "execution_count": 12,
     "metadata": {},
     "output_type": "execute_result"
    }
   ],
   "source": [
    "json.loads(testInput)"
   ]
  },
  {
   "cell_type": "code",
   "execution_count": null,
   "id": "4b507c60-569a-4f6d-a8ac-103de5404135",
   "metadata": {},
   "outputs": [],
   "source": []
  }
 ],
 "metadata": {
  "kernelspec": {
   "display_name": "Python 3",
   "language": "python",
   "name": "python3"
  },
  "language_info": {
   "codemirror_mode": {
    "name": "ipython",
    "version": 3
   },
   "file_extension": ".py",
   "mimetype": "text/x-python",
   "name": "python",
   "nbconvert_exporter": "python",
   "pygments_lexer": "ipython3",
   "version": "3.6.8"
  }
 },
 "nbformat": 4,
 "nbformat_minor": 5
}
