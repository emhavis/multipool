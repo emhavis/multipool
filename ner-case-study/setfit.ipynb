{
 "cells": [
  {
   "cell_type": "code",
   "execution_count": null,
   "id": "3177a31b-8a9a-4a8e-8265-f7d7990c7efb",
   "metadata": {},
   "outputs": [],
   "source": [
    "### Required Packages ###\n",
    "# !pip3 install SetFit\n",
    "# !pip3 install sklearn\n",
    "# !pip3 install transformers\n",
    "# !pip3 install sentence-transformers"
   ]
  },
  {
   "cell_type": "code",
   "execution_count": null,
   "id": "2e333bca-b0ae-406a-adde-854616e8f993",
   "metadata": {},
   "outputs": [],
   "source": [
    "# Load dataset\n",
    "from datasets import load_dataset\n",
    "dataset = load_dataset('csv', data_files={\n",
    "\"train\": 'your_train_dataset.csv',\n",
    "\"test\": 'your_eval_dataset.csv'\n",
    "})"
   ]
  },
  {
   "cell_type": "code",
   "execution_count": null,
   "id": "4071b8c2-b41a-4a85-88ac-677a4fa22ae5",
   "metadata": {},
   "outputs": [],
   "source": [
    "# Check data\n",
    "dataset[\"train\"]\n",
    "dataset[\"test\"]\n",
    "dataset[\"train\"].unique(\"KODE_LABEL\")\n",
    "dataset[\"train\"][0]"
   ]
  },
  {
   "cell_type": "code",
   "execution_count": null,
   "id": "51a02a0d-23ee-417e-a443-4d5b8182d34a",
   "metadata": {},
   "outputs": [],
   "source": []
  },
  {
   "cell_type": "code",
   "execution_count": null,
   "id": "bfd7f75c-5aed-4e79-872e-b9c26c38918b",
   "metadata": {},
   "outputs": [],
   "source": []
  },
  {
   "cell_type": "code",
   "execution_count": null,
   "id": "9a6eba8f-a348-4910-a484-4459c0a6bdee",
   "metadata": {},
   "outputs": [],
   "source": []
  },
  {
   "cell_type": "code",
   "execution_count": null,
   "id": "47032bc4-3c46-4dfb-a58e-bce60780a432",
   "metadata": {},
   "outputs": [],
   "source": []
  }
 ],
 "metadata": {
  "kernelspec": {
   "display_name": "Python 3",
   "language": "python",
   "name": "python3"
  },
  "language_info": {
   "codemirror_mode": {
    "name": "ipython",
    "version": 3
   },
   "file_extension": ".py",
   "mimetype": "text/x-python",
   "name": "python",
   "nbconvert_exporter": "python",
   "pygments_lexer": "ipython3",
   "version": "3.6.8"
  }
 },
 "nbformat": 4,
 "nbformat_minor": 5
}
