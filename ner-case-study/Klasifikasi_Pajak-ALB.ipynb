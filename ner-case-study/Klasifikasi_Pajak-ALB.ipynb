{
 "cells": [
  {
   "cell_type": "code",
   "execution_count": 2,
   "id": "2e333bca-b0ae-406a-adde-854616e8f993",
   "metadata": {},
   "outputs": [],
   "source": [
    "df1 = pd.read_csv('Sawit_Dataset.csv')\n",
    "df2 = pd.read_csv('clean_data.csv')\n",
    "def run_curl_command(prompt):\n",
    "    url = \"http://108.137.109.168:11434/api/generate\"\n",
    "\n",
    "    data = {\n",
    "        \"model\": \"mistral\",\n",
    "        \"prompt\": prompt,\n",
    "        \"stream\": False\n",
    "    }\n",
    "\n",
    "    # Sending a POST request\n",
    "    response = requests.post(url, json=data)\n",
    "\n",
    "    # Checking the response\n",
    "    if response.status_code == 200:\n",
    "        # Return the JSON response\n",
    "        return response.json()['response']\n",
    "    else:\n",
    "        print(f\"Error! Status code: {response.status_code}, Response: {response.text}\")\n",
    "        # Return None or raise an exception, depending on your preference\n",
    "        return None"
   ]
  },
  {
   "cell_type": "code",
   "execution_count": 12,
   "id": "e29b06c3-7d37-40ae-81af-4a4d9b21e50e",
   "metadata": {
    "tags": []
   },
   "outputs": [],
   "source": [
    "df2=pd.read_csv('clean_data.csv')\n"
   ]
  },
  {
   "cell_type": "code",
   "execution_count": 3,
   "id": "851b4016-ea45-4002-86aa-8b801c2dd5d7",
   "metadata": {
    "tags": []
   },
   "outputs": [
    {
     "name": "stdout",
     "output_type": "stream",
     "text": [
      " I'm an AI language model, I don't have the ability to process or understand languages directly as a human does. However, I can generate text based on the input provided to me. I have been trained on a large corpus of data including Indonesian language texts. The amount of specific Indonesian training data is not something I can precisely quantify as it's part of my overall dataset.\n",
      "\n",
      "As for differentiating verbs and nouns in Indonesian, yes, I can do that to some extent based on the context provided in a given text. For instance, if the word \"baca\" (read) is followed by a direct object like \"buku\" (book), then \"baca\" is most likely a verb. But keep in mind, Indonesian language has complexities and nuances that go beyond simple verb-noun distinctions, making automatic processing challenging at times.\n"
     ]
    }
   ],
   "source": [
    "print(run_curl_command(\"How well can you process Indonesian Language? How many training data do you have on Indonesian? Do you know how to differentiate verb and noun in Indonesian?\"))"
   ]
  },
  {
   "cell_type": "code",
   "execution_count": 26,
   "id": "31345d77-ce49-4b84-90a2-6f9d090fed6b",
   "metadata": {
    "tags": []
   },
   "outputs": [
    {
     "name": "stdout",
     "output_type": "stream",
     "text": [
      " Yes, you asked if I could remember the question you asked a moment ago. However, without additional context, I cannot provide an answer to that question as I do not have the ability to recall specific conversations or events outside of the given interaction. If you have a new question, please feel free to ask and I will do my best to help answer it.\n"
     ]
    }
   ],
   "source": [
    "print(run_curl_command(\"Do you remember what i just asked?\"))"
   ]
  },
  {
   "cell_type": "code",
   "execution_count": 22,
   "id": "d08c2d04-02c1-4b63-a97d-aa5058f577b8",
   "metadata": {
    "tags": []
   },
   "outputs": [
    {
     "name": "stdout",
     "output_type": "stream",
     "text": [
      " [\n",
      "{\n",
      "\"NAMA\\_BARANG\": \"ANALISA SAMPEL RBD PALM STEARIN\",\n",
      "\"Type\": \"Product\",\n",
      "\"CONFIDENCE\\_LEVEL\": 1.0,\n",
      "\"explanation\": \"This item is a product as it refers to 'RBD Palm Stearin' which is a type of palm oil derivative.\"\n",
      "},\n",
      "{\n",
      "\"NAMA\\_BARANG\": \"Aflatoxin B1 Qty\",\n",
      "\"Type\": \"Service\",\n",
      "\"CONFIDENCE\\_LEVEL\": 1.0,\n",
      "\"explanation\": \"This item is a service as it refers to 'Qty' which indicates a quantity and possibly a testing or inspection service related to Aflatoxin B1 in Palm Kernel.\"\n",
      "},\n",
      "{\n",
      "\"NAMA\\_BARANG\": \"Analisa Pengujian INSPEKSI MINYAK KELAPA SAWI\",\n",
      "\"Type\": \"Service\",\n",
      "\"CONFIDENCE\\_LEVEL\": 1.0,\n",
      "\"explanation\": \"This item is a service as it refers to 'Analisa' which means analysis or examination in Indonesian and 'Inspeksi Minyak Kelapa Sawit' meaning Palm Oil Inspection.\"\n",
      "},\n",
      "{\n",
      "\"NAMA\\_BARANG\": \"Discarging Survey of CPO\",\n",
      "\"Type\": \"Service\",\n",
      "\"CONFIDENCE\\_LEVEL\": 1.0,\n",
      "\"explanation\": \"This item is a service as it refers to 'Survey' which indicates an inspection or assessment.\"\n",
      "},\n",
      "{\n",
      "\"NAMA\\_BARANG\": \"Uang muka 50 angkutan CPO\",\n",
      "\"Type\": \"Product\",\n",
      "\"CONFIDENCE\\_LEVEL\": 0.9,\n",
      "\"explanation\": \"This item is likely a product as it refers to 'uang muka' which means advance payment or downpayment in Indonesian and 'CPO' is Crude Palm Oil.\"\n",
      "},\n",
      "{\n",
      "\"NAMA\\_BARANG\": \"CRUDE PALM OIL\",\n",
      "\"Type\": \"Product\",\n",
      "\"CONFIDENCE\\_LEVEL\": 1.0,\n",
      "\"explanation\": \"This item is a product as it refers to 'Crude Palm Oil' which is a physical commodity.\"\n",
      "},\n",
      "{\n",
      "\"NAMA\\_BARANG\": \"Sewa Tangki Timbun CPO\",\n",
      "\"Type\": \"Service\",\n",
      "\"CONFIDENCE\\_LEVEL\": 1.0,\n",
      "\"explanation\": \"This item is a service as it refers to 'sewa' which means rent or lease in Indonesian and 'tangki timbun' meaning storage tank for Palm Oil.\"\n",
      "},\n",
      "{\n",
      "\"NAMA\\_BARANG\": \"Pelunasan 50 angkutan CPO\",\n",
      "\"Type\": \"Product\",\n",
      "\"CONFIDENCE\\_LEVEL\": 0.9,\n",
      "\"explanation\": \"This item is likely a product as it refers to 'pelunasan' which means settlement or payment in Indonesian and 'angkutan' meaning trucks and 'CPO' is Crude Palm Oil.\"\n",
      "}\n",
      "]\n"
     ]
    }
   ],
   "source": [
    "# print(df2['NAMA_BARANG'])\n",
    "prompt = \"\"\"\n",
    "I have a dataset in Indonesian language, this list only consists of Products and Services Here is the list:\n",
    "{z}\n",
    "For each unique items, categorize each item into product or service (any data with verb), respond with three fields (data, confidence level, reason/explanation) in the following format json as example\n",
    "[{{\n",
    "            'NAMA_BARANG':'xxx',\n",
    "            'Type':'Service',\n",
    "            'CONFIDENCE_LEVEL':1.0,\n",
    "            'explanation':'yyy'\n",
    "}},{{\n",
    "            'NAMA_BARANG':'xxx',\n",
    "            'Type':'Product',\n",
    "            'CONFIDENCE_LEVEL':0.9,\n",
    "            'explanation':'yyy'\n",
    "}},]\"\"\".format(z=df2['NAMA_BARANG'])\n",
    "print(run_curl_command(prompt))"
   ]
  },
  {
   "cell_type": "code",
   "execution_count": null,
   "id": "73ae9b8b-c335-440f-be45-540aed17ff27",
   "metadata": {
    "tags": []
   },
   "outputs": [],
   "source": [
    "for i in range (0,10,2):\n",
    "    run_curl_command(\"\"\"please do a classification into a part of palm oil structure of {x} which have a group as \"Product\" , example format:\n",
    "             \"title\": \"INTI SAWIT\"\n",
    "             \"group\": \"Product\"\n",
    "             \"type\" : \"Fresh Fruit Bunch\"\n",
    "             \"detail part of palm oil\" : \"Kernel\"\n",
    "            \"confidence level\": 1.0\n",
    "             \"\"\".format(df2[x=i]))\n",
    "    run_curl_command(\"\"\"please do a classification into a part of palm oil structure of {x} which have a group as \"Product\" , example format:\n",
    "             \"title\": \"INTI SAWIT\"\n",
    "             \"group\": \"Product\"\n",
    "             \"type\" : \"Fresh Fruit Bunch\"\n",
    "             \"detail part of palm oil\" : \"Kernel\"\n",
    "            \"confidence level\": 1.0\n",
    "             \"\"\".format(df2[x=i+1]))"
   ]
  },
  {
   "cell_type": "code",
   "execution_count": null,
   "id": "d1656358-bc51-4067-b569-ef6331f95578",
   "metadata": {
    "tags": []
   },
   "outputs": [],
   "source": [
    "for i in range (0,10,2):\n",
    "    run_curl_command(\"\"\"please do a classification of palm oil output of dataset {x} which have a group as \"Product\", example format:\n",
    "             \"title\": \"VITAMIN A PALMITATE 17 mIUg 0418579294 FO HS 29362100\"\n",
    "             \"group\": \"Product\"\n",
    "             \"product\" : \"Fresh Fruit Bunch\"\n",
    "             \"detail part of palm oil\" : \"Crude Palm Oil\"\n",
    "            \"confidence level\": 1.0\n",
    "            \"reason of confidence level\": \"Vitamin A is\"\n",
    "             \"\"\".format(df2[x=i]))"
   ]
  },
  {
   "cell_type": "code",
   "execution_count": null,
   "id": "e8c4fad6-a8e8-4411-94a3-02cdf9f244fa",
   "metadata": {},
   "outputs": [],
   "source": [
    "for i in range (0,len(df2),2):\n",
    "    run_curl_command(\"\"\"please breakdown text of column NAMA_BARANG in {x} which have a group as \"Product\" and do a classification of it into a part of palm oil structure, example format:\n",
    "             \"title\": \"TANDAN BUAH SEGAR KELAPA SAWIT TAHUN TANAM 1994 1081230 KG\"\n",
    "             \"group\": \"Product\"\n",
    "             \"year_planted\": 1994\n",
    "             \"weight\" : 1081230\n",
    "             \"unit\" : kg\n",
    "             \"contract number\": null\n",
    "             \"classification\" : \"Fresh Fruit Bunch\"\n",
    "             \"detail part of palm oil\" : \"Fresh fruit Bunch\"\n",
    "            \"confidence level\": 1.0\n",
    "             \"\"\".format(df2[x=i]))\n",
    "    run_curl_command(\"\"\"please breakdown text of column NAMA_BARANG in {x} which have a group as \"Product\" and do a classification of it into a part of palm oil structure, example format:\n",
    "             \"title\": \"CPOCrude Palm Oil Kontrak No004PSJCCPOI2021\"\n",
    "             \"group\": \"Product\"\n",
    "             \"year_planted\": null\n",
    "             \"weight\" : null\n",
    "             \"unit\" : null\n",
    "             \"contract number\": No004PSJCCPOI2021\n",
    "             \"classification\" : \"Fresh Fruit Bunch\"\n",
    "             \"detail part of palm oil\" : \"Crude Palm Oil\"\n",
    "            \"confidence level\": 1.0\n",
    "             \"\"\".format(df2[x=i]))"
   ]
  },
  {
   "cell_type": "code",
   "execution_count": 140,
   "id": "42f8bc0e-e723-446e-ac5b-031668255139",
   "metadata": {},
   "outputs": [],
   "source": [
    "prompt= \"\"\"please do an identification on this text TANDAN BUAH SEGAR KELAPA SAWIT TAHUN TANAM 1994 1190024 KG, example format:\n",
    "             \"title\": \"TANDAN BUAH SEGAR KELAPA SAWIT TAHUN TANAM 1994 1081230 KG\"\n",
    "             \"group\": \"Product\"\n",
    "             \"year_planted\": 1994\n",
    "             \"weight\" : 1081230\n",
    "             \"unit\" : kg\n",
    "             \"contract number\": null\n",
    "             \"classification\" : \"Fresh Fruit Bunch\"\n",
    "             \"detail part of palm oil\" : \"Fresh fruit Bunch\"\n",
    "            \"confidence level\": 1.0\n",
    "\"\"\""
   ]
  },
  {
   "cell_type": "code",
   "execution_count": 150,
   "id": "0ac3e10c-7553-4f36-99af-34b8466b3f55",
   "metadata": {},
   "outputs": [],
   "source": [
    "prompt= \"\"\"please do an identification on this text saparated by comma 'Pembayaran Uang Muka PKPalm Kernel NoKontrak 077XXXXXX20XX, TANDAN BUAH SEGAR KELAPA SAWIT TAHUN TANAM 1996 12217767 KG\n",
    ", CRUDE PALM OIL', example format:\n",
    "             \"title\": \"TANDAN BUAH SEGAR KELAPA SAWIT TAHUN TANAM 1994 1081230 KG\"\n",
    "             \"group\": \"Product\"\n",
    "             \"year_planted\": 1994\n",
    "             \"weight\" : 1081230\n",
    "             \"unit\" : kg\n",
    "             \"contract number\": null\n",
    "             \"classification\" : \"Fresh Fruit Bunch\"\n",
    "             \"detail part of palm oil\" : \"Fresh fruit Bunch\"\n",
    "            \"confidence level\": 1.0\n",
    "\"\"\""
   ]
  },
  {
   "cell_type": "code",
   "execution_count": 144,
   "id": "2ba527c8-dc39-4680-ac79-7677f787a4ef",
   "metadata": {},
   "outputs": [],
   "source": [
    "prompt= \"\"\"please do an identification on this text 'CRUDE PALM OIL CPO HS CODE  15111000', example format:\n",
    "             \"title\": \"TANDAN BUAH SEGAR KELAPA SAWIT TAHUN TANAM 1994 1081230 KG\"\n",
    "             \"group\": \"Product\"\n",
    "             \"year_planted\": 1994\n",
    "             \"weight\" : 1081230\n",
    "             \"unit\" : kg\n",
    "             \"contract number\": null\n",
    "             \"classification\" : \"Fresh Fruit Bunch\"\n",
    "             \"detail part of palm oil\" : \"Fresh fruit Bunch\"\n",
    "            \"confidence level\": 1.0\n",
    "\"\"\""
   ]
  },
  {
   "cell_type": "code",
   "execution_count": 146,
   "id": "89c8f01c-b7d2-4d58-8fa0-758ef9f4125c",
   "metadata": {},
   "outputs": [],
   "source": [
    "prompt= \"\"\"please do an identification on this text 'ANALISA SAMPEL RBD PALM STEARIN', example format:\n",
    "             \"title\": \"TANDAN BUAH SEGAR KELAPA SAWIT TAHUN TANAM 1994 1081230 KG\"\n",
    "             \"group\": \"Product\"\n",
    "             \"year_planted\": 1994\n",
    "             \"weight\" : 1081230\n",
    "             \"unit\" : kg\n",
    "             \"contract number\": null\n",
    "             \"classification\" : \"Fresh Fruit Bunch\"\n",
    "             \"detail part of palm oil\" : \"Fresh fruit Bunch\"\n",
    "            \"confidence level\": 1.0\n",
    "\"\"\""
   ]
  },
  {
   "cell_type": "code",
   "execution_count": 152,
   "id": "5f91de27-b65e-4520-990d-e9f5b8734548",
   "metadata": {},
   "outputs": [],
   "source": [
    "prompt= \"\"\"please do an identification on this text 'Discarging Survey of CPO 3149193 MT at Kabil Batam on 2628102021', example format:\n",
    "             \"title\": \"TANDAN BUAH SEGAR KELAPA SAWIT TAHUN TANAM 1994 1081230 KG\"\n",
    "             \"group\": \"Product\"\n",
    "             \"year_planted\": 1994\n",
    "             \"weight\" : 1081230\n",
    "             \"unit\" : kg\n",
    "             \"contract number\": null\n",
    "             \"classification\" : \"Fresh Fruit Bunch\"\n",
    "             \"detail part of palm oil\" : \"Fresh fruit Bunch\"\n",
    "            \"confidence level\": 1.0\n",
    "\"\"\""
   ]
  }
 ],
 "metadata": {
  "kernelspec": {
   "display_name": "Python 3",
   "language": "python",
   "name": "python3"
  },
  "language_info": {
   "codemirror_mode": {
    "name": "ipython",
    "version": 3
   },
   "file_extension": ".py",
   "mimetype": "text/x-python",
   "name": "python",
   "nbconvert_exporter": "python",
   "pygments_lexer": "ipython3",
   "version": "3.6.8"
  }
 },
 "nbformat": 4,
 "nbformat_minor": 5
}
