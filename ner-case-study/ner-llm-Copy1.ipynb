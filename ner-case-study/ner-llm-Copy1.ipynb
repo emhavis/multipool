{
 "cells": [
  {
   "cell_type": "code",
   "execution_count": 11,
   "id": "7100bea3-9987-4754-80af-3ab2bf9c85b0",
   "metadata": {},
   "outputs": [
    {
     "data": {
      "text/html": [
       "<div>\n",
       "<style scoped>\n",
       "    .dataframe tbody tr th:only-of-type {\n",
       "        vertical-align: middle;\n",
       "    }\n",
       "\n",
       "    .dataframe tbody tr th {\n",
       "        vertical-align: top;\n",
       "    }\n",
       "\n",
       "    .dataframe thead th {\n",
       "        text-align: right;\n",
       "    }\n",
       "</style>\n",
       "<table border=\"1\" class=\"dataframe\">\n",
       "  <thead>\n",
       "    <tr style=\"text-align: right;\">\n",
       "      <th></th>\n",
       "      <th>NAMA_BARANG</th>\n",
       "      <th>JML_BARANG</th>\n",
       "      <th>JENIS</th>\n",
       "    </tr>\n",
       "  </thead>\n",
       "  <tbody>\n",
       "    <tr>\n",
       "      <th>0</th>\n",
       "      <td>ANALISA SAMPEL RBD PALM STEARIN</td>\n",
       "      <td>1.0</td>\n",
       "      <td>service</td>\n",
       "    </tr>\n",
       "    <tr>\n",
       "      <th>1</th>\n",
       "      <td>Analisa  Pengujian INSPEKSI MINYAK KELAPA SAWI...</td>\n",
       "      <td>1.0</td>\n",
       "      <td>service</td>\n",
       "    </tr>\n",
       "    <tr>\n",
       "      <th>2</th>\n",
       "      <td>Discarging Survey of CPO 2999998 MT at Kabil B...</td>\n",
       "      <td>1.0</td>\n",
       "      <td>service</td>\n",
       "    </tr>\n",
       "    <tr>\n",
       "      <th>3</th>\n",
       "      <td>Discarging Survey of CPO 3149193 MT at Kabil B...</td>\n",
       "      <td>1.0</td>\n",
       "      <td>service</td>\n",
       "    </tr>\n",
       "    <tr>\n",
       "      <th>4</th>\n",
       "      <td>KALIBRASI SOUNDING TAPE CPO</td>\n",
       "      <td>1.0</td>\n",
       "      <td>service</td>\n",
       "    </tr>\n",
       "    <tr>\n",
       "      <th>5</th>\n",
       "      <td>Loading Survey of CPKO 1999887 MT and CPO 2503...</td>\n",
       "      <td>1.0</td>\n",
       "      <td>service</td>\n",
       "    </tr>\n",
       "    <tr>\n",
       "      <th>6</th>\n",
       "      <td>CPOCRUDE PALM OIL</td>\n",
       "      <td>93.0</td>\n",
       "      <td>product</td>\n",
       "    </tr>\n",
       "    <tr>\n",
       "      <th>7</th>\n",
       "      <td>VITAMIN A PALMITATE 17 mIUg 0418579294 FO HS 2...</td>\n",
       "      <td>250.0</td>\n",
       "      <td>product</td>\n",
       "    </tr>\n",
       "    <tr>\n",
       "      <th>8</th>\n",
       "      <td>Lebih Angkut Palm Kernel</td>\n",
       "      <td>378.0</td>\n",
       "      <td>service</td>\n",
       "    </tr>\n",
       "    <tr>\n",
       "      <th>9</th>\n",
       "      <td>CPOCrude Palm Oil Kontrak No082XXXXXX20XX</td>\n",
       "      <td>410.0</td>\n",
       "      <td>product</td>\n",
       "    </tr>\n",
       "  </tbody>\n",
       "</table>\n",
       "</div>"
      ],
      "text/plain": [
       "                                         NAMA_BARANG  JML_BARANG    JENIS\n",
       "0                    ANALISA SAMPEL RBD PALM STEARIN         1.0  service\n",
       "1  Analisa  Pengujian INSPEKSI MINYAK KELAPA SAWI...         1.0  service\n",
       "2  Discarging Survey of CPO 2999998 MT at Kabil B...         1.0  service\n",
       "3  Discarging Survey of CPO 3149193 MT at Kabil B...         1.0  service\n",
       "4                        KALIBRASI SOUNDING TAPE CPO         1.0  service\n",
       "5  Loading Survey of CPKO 1999887 MT and CPO 2503...         1.0  service\n",
       "6                                  CPOCRUDE PALM OIL        93.0  product\n",
       "7  VITAMIN A PALMITATE 17 mIUg 0418579294 FO HS 2...       250.0  product\n",
       "8                           Lebih Angkut Palm Kernel       378.0  service\n",
       "9          CPOCrude Palm Oil Kontrak No082XXXXXX20XX       410.0  product"
      ]
     },
     "execution_count": 11,
     "metadata": {},
     "output_type": "execute_result"
    }
   ],
   "source": [
    "import pandas as pd\n",
    "import requests\n",
    "import json\n",
    "\n",
    "data = pd.read_csv('clean_data.csv')\n",
    "train_set = pd.read_csv('train_data_pajak.csv')\n",
    "train_set.head(10)"
   ]
  },
  {
   "cell_type": "code",
   "execution_count": null,
   "id": "c0f3f2ea-079c-4ff4-a6c5-63b61ac52084",
   "metadata": {
    "jupyter": {
     "source_hidden": true
    },
    "tags": []
   },
   "outputs": [],
   "source": [
    "data.head()"
   ]
  },
  {
   "cell_type": "code",
   "execution_count": 8,
   "id": "6db77b55-0bfe-4196-964e-56d6a3eca920",
   "metadata": {},
   "outputs": [],
   "source": [
    "def run_curl_command(prompt):\n",
    "    url = \"http://108.137.109.168:11434/api/generate\"\n",
    "\n",
    "    data = {\n",
    "        \"model\": \"Ollaclassifier1\",\n",
    "        \"prompt\": prompt,\n",
    "        \"stream\": False\n",
    "    }\n",
    "\n",
    "    # Sending a POST request\n",
    "    response = requests.post(url, json=data)\n",
    "\n",
    "    # Checking the response\n",
    "    if response.status_code == 200:\n",
    "        # Return the JSON response\n",
    "        return response.json()\n",
    "    else:\n",
    "        print(f\"Error! Status code: {response.status_code}, Response: {response.text}\")\n",
    "        # Return None or raise an exception, depending on your preference\n",
    "        return None"
   ]
  },
  {
   "cell_type": "code",
   "execution_count": 75,
   "id": "3571ee5b-899d-49ec-93d5-bce23ed64164",
   "metadata": {
    "jupyter": {
     "source_hidden": true
    },
    "tags": []
   },
   "outputs": [],
   "source": [
    "#\n",
    "# test the result\n",
    "jsonRespond = run_curl_command(\"What color is the sky at different times of the day? Respond using JSON\")\n",
    "# jsonRespond_res = json.loads(jsonRespond['response'])\n",
    "# print(jsonRespond_res['6:00 AM']['color'])\n",
    "# print(jsonRespond_res['6:00 AM']['description'])"
   ]
  },
  {
   "cell_type": "code",
   "execution_count": 17,
   "id": "ed175ceb-d2a2-4b4c-81cc-8371eaba1992",
   "metadata": {
    "jupyter": {
     "source_hidden": true
    },
    "tags": []
   },
   "outputs": [
    {
     "name": "stdout",
     "output_type": "stream",
     "text": [
      "{'model': 'Classsifier1', 'created_at': '2024-02-23T08:40:56.455179704Z', 'response': '\\n{\\n\"time\": \"morning\",\\n\"sky_color\": \"light blue\"\\n}\\n\\n{\\n\"time\": \"noon\",\\n\"sky_color\": \"blue\"\\n}\\n\\n{\\n\"time\": \"evening\",\\n\"sky_color\": \"pink\"\\n}', 'done': True, 'context': [518, 25580, 29962, 3532, 14816, 29903, 6778, 29925, 2267, 355, 393, 366, 526, 385, 17924, 363, 770, 9215, 443, 4984, 2955, 1426, 4475, 304, 5112, 29885, 17182, 29889, 3529, 1234, 278, 5131, 1121, 3721, 408, 278, 982, 372, 17645, 297, 278, 9508, 19423, 829, 14816, 29903, 6778, 13, 13, 5618, 2927, 338, 278, 14744, 472, 1422, 3064, 310, 278, 2462, 29973, 2538, 2818, 773, 4663, 518, 29914, 25580, 29962, 13, 13, 29912, 13, 29908, 2230, 1115, 376, 12257, 1076, 613, 13, 29908, 7912, 29918, 2780, 1115, 376, 4366, 7254, 29908, 13, 29913, 13, 13, 29912, 13, 29908, 2230, 1115, 376, 1217, 265, 613, 13, 29908, 7912, 29918, 2780, 1115, 376, 9539, 29908, 13, 29913, 13, 13, 29912, 13, 29908, 2230, 1115, 376, 11884, 292, 613, 13, 29908, 7912, 29918, 2780, 1115, 376, 29886, 682, 29908, 13, 29913], 'total_duration': 1750762642, 'load_duration': 857349181, 'prompt_eval_count': 71, 'prompt_eval_duration': 112676000, 'eval_count': 68, 'eval_duration': 780328000}\n"
     ]
    }
   ],
   "source": [
    "print(jsonRespond)"
   ]
  },
  {
   "cell_type": "code",
   "execution_count": 12,
   "id": "4a7579cb-ded1-42b7-972c-b917b998ae4b",
   "metadata": {},
   "outputs": [],
   "source": [
    "prompt = \"\"\"\n",
    "Please make classification for below text string based on the following criteria\n",
    "1. type represents the classification. If the product contains a verb or any services such as transport service, maintain service, rental, 'Management Service', 'Labor Service', 'Processing Fee Service', 'Office/Building Rental Service', 'Waste Processing Service', or 'Contractor Service' classify it as 'service'.If the product is raw material of palm oil fruit, chemical, machine, and tools, classify it as a 'product'.\n",
    "2. category represents of the detail from type, if type is 'service' choose the categorization between 'Transport service', 'Maintenance/Repair Service', 'Management Service', 'Labor Service', 'Processing Fee Service', 'Office/Building Rental Service', 'Waste Processing Service', or 'Contractor Service'. if type is 'product' do the categorization as 'Primary', 'Supplementary', 'Ancillary', or 'Asset'.  \n",
    "3. confidenceLevel represents the confidence level of the classification of type as real number between 0.00 and 1.00\n",
    "4. explanation provides additional information about the classification.\n",
    "5. quantity as the quantity stated in the text, please put 0 if you cant find it, and dont put other explanation outside json structure\n",
    "6. UoM as the Unit of Measurement based on the information of the text\n",
    "6. one text only have one type and one category.\n",
    "7. Only return the JSON formatted answer, Do not add any text outside the json structure\n",
    "8. If you could not classify it neither 'service' or 'product' because less of the information from the product, please classify the type as 'Unclassify'.\n",
    "\n",
    "here the additional information:\n",
    "'Primary' is a part of the oil palm fruit such as palm kernel, palm shell, etc. \n",
    "'Supplementary' if the materials and parts that directly contribute to the processing of palm oil such fertilizer, chemical, Fossil Fuel-based Energy, etc. \n",
    "'Ancillary' if the materials are not directly connected to the palm oil processing process such as Administrative Facilities, Cleaning Equipment for machinary, etc. \n",
    "'Asset' which are assets, machines, tools used to process palm oil such as washing machine, pressing equipment, boilers, etc. \n",
    "\n",
    "\n",
    "\n",
    "Respond using JSON\n",
    "This is the text to classify:\n",
    "{y}\n",
    "\"\"\""
   ]
  },
  {
   "cell_type": "code",
   "execution_count": 104,
   "id": "8ff76695-56d7-4916-abde-d1fb91605fc9",
   "metadata": {
    "tags": []
   },
   "outputs": [
    {
     "name": "stdout",
     "output_type": "stream",
     "text": [
      "\n",
      "Please make classification for below text string based on the following criteria\n",
      "1. type represents the classification. If the product contains a verb or any services such as transport service, maintain service, rental, 'Management Service', 'Labor Service', 'Processing Fee Service', 'Office/Building Rental Service', 'Waste Processing Service', or 'Contractor Service' classify it as 'service'.If the product is raw material of palm oil fruit, chemical, machine, and tools, classify it as a 'product'.\n",
      "2. category represents of the detail from type, if type is 'service' choose the categorization between 'Transport service', 'Maintenance/Repair Service', 'Management Service', 'Labor Service', 'Processing Fee Service', 'Office/Building Rental Service', 'Waste Processing Service', or 'Contractor Service'. if type is 'product' do the categorization as 'Primary', 'Supplementary', 'Ancillary', or 'Asset'.  \n",
      "3. confidenceLevel represents the confidence level of the classification of type as real number between 0.00 and 1.00\n",
      "4. explanation provides additional information about the classification.\n",
      "5. quantity as the quantity stated in the text, please put 0 if you cant find it, and dont put other explanation outside json structure\n",
      "6. UoM as the Unit of Measurement based on the information of the text\n",
      "6. one text only have one type and one category.\n",
      "7. Only return the JSON formatted answer, Do not add any text outside the json structure\n",
      "8. If you could not classify it neither 'service' or 'product' because less of the information from the product, please classify the type as 'Unclassify'.\n",
      "\n",
      "here the additional information:\n",
      "'Primary' is a part of the oil palm fruit such as palm kernel, palm shell, etc. \n",
      "'Supplementary' if the materials and parts that directly contribute to the processing of palm oil such fertilizer, chemical, Fossil Fuel-based Energy, etc. \n",
      "'Ancillary' if the materials are not directly connected to the palm oil processing process such as Administrative Facilities, Cleaning Equipment for machinary, etc. \n",
      "'Asset' which are assets, machines, tools used to process palm oil such as washing machine, pressing equipment, boilers, etc. \n",
      "\n",
      "\n",
      "\n",
      "Respond using JSON\n",
      "This is the text to classify:\n",
      "ANALISA SAMPEL RBD PALM STEARIN\n",
      "\n"
     ]
    }
   ],
   "source": [
    "print(prompt.format(y=data['NAMA_BARANG'].loc[0]))"
   ]
  },
  {
   "cell_type": "code",
   "execution_count": 40,
   "id": "79f65d19-4e44-45fe-9ce5-95ca3da49956",
   "metadata": {
    "jupyter": {
     "source_hidden": true
    },
    "tags": []
   },
   "outputs": [],
   "source": [
    "jsRespond = run_curl_command(prompt.format(y=data['NAMA_BARANG'].loc[0]))"
   ]
  },
  {
   "cell_type": "code",
   "execution_count": 41,
   "id": "bf8478fa-36da-49a4-aa40-3873e659b235",
   "metadata": {
    "jupyter": {
     "source_hidden": true
    },
    "tags": []
   },
   "outputs": [],
   "source": [
    "jsClass = json.loads(jsRespond['response'])"
   ]
  },
  {
   "cell_type": "code",
   "execution_count": 105,
   "id": "3b7585c5-cf60-4fe6-98b2-870483addc2d",
   "metadata": {
    "collapsed": true,
    "jupyter": {
     "outputs_hidden": true,
     "source_hidden": true
    },
    "tags": []
   },
   "outputs": [
    {
     "data": {
      "text/plain": [
       "{'type': 'product',\n",
       " 'category': 'Primary',\n",
       " 'confidenceLevel': 1.0,\n",
       " 'explanation': 'Crude palm oil is a primary product of the oil palm fruit.',\n",
       " 'quantity': 100.0}"
      ]
     },
     "execution_count": 105,
     "metadata": {},
     "output_type": "execute_result"
    }
   ],
   "source": [
    "# jsClass['type']\n",
    "jsClass"
   ]
  },
  {
   "cell_type": "code",
   "execution_count": 10,
   "id": "b5667935-d298-4168-80e3-17bb3338870e",
   "metadata": {
    "collapsed": true,
    "jupyter": {
     "outputs_hidden": true,
     "source_hidden": true
    },
    "tags": []
   },
   "outputs": [
    {
     "name": "stderr",
     "output_type": "stream",
     "text": [
      "100%|██████████| 7/7 [00:00<00:00, 21667.99it/s]"
     ]
    },
    {
     "name": "stdout",
     "output_type": "stream",
     "text": [
      "An unexpected error occurred for index 0: 'NAMA_BARANG'\n",
      "An unexpected error occurred for index 1: 'NAMA_BARANG'\n",
      "An unexpected error occurred for index 2: 'NAMA_BARANG'\n",
      "An unexpected error occurred for index 3: 'NAMA_BARANG'\n",
      "An unexpected error occurred for index 4: 'NAMA_BARANG'\n",
      "An unexpected error occurred for index 5: 'NAMA_BARANG'\n",
      "An unexpected error occurred for index 6: 'NAMA_BARANG'\n"
     ]
    },
    {
     "name": "stderr",
     "output_type": "stream",
     "text": [
      "\n"
     ]
    }
   ],
   "source": [
    "lsResult = []\n",
    "lstError = []\n",
    "\n",
    "from tqdm import tqdm\n",
    "\n",
    "for index in tqdm(range(0, 7)):\n",
    "    try:\n",
    "        jsRespond = run_curl_command(prompt.format(y=data['NAMA_BARANG'].loc[index]))\n",
    "        jsClass = json.loads(jsRespond['response'])\n",
    "        lsResult.append(jsClass)\n",
    "        \n",
    "    except json.JSONDecodeError as e:\n",
    "        print(f\"Error decoding JSON for index {index}: {e}\")\n",
    "        # Append the error to lstError\n",
    "        lstError.append(f\"Error decoding JSON for index {index}: {e}\")\n",
    "        # Continue with the next iteration of the loop\n",
    "        continue\n",
    "        \n",
    "    except Exception as ex:\n",
    "        print(f\"An unexpected error occurred for index {index}: {ex}\")\n",
    "        # Append the error to lstError\n",
    "        lstError.append(f\"Unexpected error for index {index}: {ex}\")\n",
    "        # Continue with the next iteration of the loop\n",
    "        continue\n"
   ]
  },
  {
   "cell_type": "code",
   "execution_count": 13,
   "id": "530f9267-b638-4855-a59e-8a4b72146c60",
   "metadata": {
    "jupyter": {
     "source_hidden": true
    },
    "tags": []
   },
   "outputs": [
    {
     "name": "stdout",
     "output_type": "stream",
     "text": [
      "[]\n"
     ]
    }
   ],
   "source": [
    "print(lstError)"
   ]
  },
  {
   "cell_type": "code",
   "execution_count": 107,
   "id": "10d79576-84aa-4be9-abaa-8b7729d077a2",
   "metadata": {},
   "outputs": [
    {
     "name": "stderr",
     "output_type": "stream",
     "text": [
      "100%|██████████| 100/100 [01:45<00:00,  1.05s/it]\n"
     ]
    }
   ],
   "source": [
    "#\n",
    "#\n",
    "#\n",
    "# Full scale operation\n",
    "#\n",
    "#\n",
    "\n",
    "from tqdm import tqdm\n",
    "import json\n",
    "from datetime import datetime\n",
    "\n",
    "lsResult = []\n",
    "lstError = []\n",
    "\n",
    "for index in tqdm(range(len(data))):\n",
    "    try:\n",
    "        jsRespond = run_curl_command(prompt.format(y=data['NAMA_BARANG'].loc[index]))\n",
    "        jsClass = json.loads(jsRespond['response'])\n",
    "        lsResult.append(jsClass)\n",
    "    except json.JSONDecodeError as e:\n",
    "        error_message = f\"Error decoding JSON for index {index} with data '{data['NAMA_BARANG'].loc[index]}': {e}\\nOriginal text: {jsRespond['response']}\"\n",
    "        print(error_message)\n",
    "        # Append the error message to lstError\n",
    "        lstError.append(error_message)\n",
    "        # Continue with the next iteration of the loop\n",
    "        continue\n",
    "    except Exception as ex:\n",
    "        error_message = f\"Unexpected error for index {index} with data '{data['NAMA_BARANG'].loc[index]}': {ex}\"\n",
    "        print(error_message)\n",
    "        # Append the error message to lstError\n",
    "        lstError.append(error_message)\n",
    "        # Continue with the next iteration of the loop\n",
    "        continue\n",
    "\n",
    "# Write lsResult to result.txt with a timestamp prefix\n",
    "result_filename = f\"result_{datetime.now().strftime('%Y%m%d_%H%M%S')}.txt\"\n",
    "with open(result_filename, 'w') as result_file:\n",
    "    for result in lsResult:\n",
    "        result_file.write(json.dumps(result) + '\\n')\n",
    "\n",
    "# Write lstError to error.txt with a timestamp prefix\n",
    "error_filename = f\"error_{datetime.now().strftime('%Y%m%d_%H%M%S')}.txt\"\n",
    "with open(error_filename, 'w') as error_file:\n",
    "    for error_message in lstError:\n",
    "        error_file.write(error_message + '\\n')\n",
    "\n",
    "# result.txt and error.txt with timestamped filenames containing the contents of lsResult and lstError.\n"
   ]
  },
  {
   "cell_type": "code",
   "execution_count": null,
   "id": "1484b161-b9cd-438e-9963-d3f3df109ebd",
   "metadata": {
    "jupyter": {
     "source_hidden": true
    },
    "tags": []
   },
   "outputs": [],
   "source": [
    "jsRespond = run_curl_command(prompt.format(y=\"10 Bl Blanko Analisa Minyak Sawit Oil Loss SCPR  0010810374\"))"
   ]
  },
  {
   "cell_type": "code",
   "execution_count": 24,
   "id": "8657a7a8-3d4d-431c-92c4-0913183538a2",
   "metadata": {
    "jupyter": {
     "source_hidden": true
    },
    "tags": []
   },
   "outputs": [],
   "source": [
    "jsClass = json.loads(jsRespond['response'])"
   ]
  },
  {
   "cell_type": "code",
   "execution_count": 11,
   "id": "e7e31c78-d980-4965-bab9-31f94433b731",
   "metadata": {
    "jupyter": {
     "source_hidden": true
    },
    "tags": []
   },
   "outputs": [],
   "source": [
    "testInput = \"\"\"\n",
    "{\n",
    "\"type\": \"product\",\n",
    "\"confidenceLevel\": 0.95,\n",
    "\"explanation\": \"The text 'Master Key Gembok Truk CPO' does not contain any verbs or activities related to the production, distribution, marketing, or utilization of palm oil and its derivatives. Instead, it appears to be referring to a product or key made from CPO (Crude Palm Oil), which is a raw material derived from palm oil. Therefore, it is classified as a 'product'.\"\n",
    "}\n",
    "\"\"\""
   ]
  },
  {
   "cell_type": "code",
   "execution_count": 12,
   "id": "ddf96127-aa2f-475e-9026-fc188b9f1ad1",
   "metadata": {
    "collapsed": true,
    "jupyter": {
     "outputs_hidden": true,
     "source_hidden": true
    },
    "tags": []
   },
   "outputs": [
    {
     "data": {
      "text/plain": [
       "{'type': 'product',\n",
       " 'confidenceLevel': 0.95,\n",
       " 'explanation': \"The text 'Master Key Gembok Truk CPO' does not contain any verbs or activities related to the production, distribution, marketing, or utilization of palm oil and its derivatives. Instead, it appears to be referring to a product or key made from CPO (Crude Palm Oil), which is a raw material derived from palm oil. Therefore, it is classified as a 'product'.\"}"
      ]
     },
     "execution_count": 12,
     "metadata": {},
     "output_type": "execute_result"
    }
   ],
   "source": [
    "json.loads(testInput)"
   ]
  },
  {
   "cell_type": "code",
   "execution_count": 6,
   "id": "4b507c60-569a-4f6d-a8ac-103de5404135",
   "metadata": {
    "tags": []
   },
   "outputs": [
    {
     "name": "stdout",
     "output_type": "stream",
     "text": [
      "       type                    category  confidenceLevel  \\\n",
      "0   product                     Primary             1.00   \n",
      "1   product                     Primary             1.00   \n",
      "2   service  Maintenance/Repair Service             0.80   \n",
      "3   service           Transport service             0.95   \n",
      "4   service           Transport service             0.95   \n",
      "..      ...                         ...              ...   \n",
      "95  product                     Primary             1.00   \n",
      "96  product                     Primary             1.00   \n",
      "97  product                     Primary             1.00   \n",
      "98  product                     Primary             1.00   \n",
      "99  product                     Primary             1.00   \n",
      "\n",
      "                                          explanation   quantity         UoM  \\\n",
      "0   The text refers to a sample of palm stearin, w...      100.0          kg   \n",
      "1   Palm kernel is a part of the oil palm fruit an...        1.0      DUM305   \n",
      "2   The text mentions the inspection of palm oil a...        1.0  inspection   \n",
      "3   Discarging survey of CPO refers to the process...  2999998.0          MT   \n",
      "4   Discarging survey of CPO refers to the process...        1.0          MT   \n",
      "..                                                ...        ...         ...   \n",
      "95  Crude palm oil is a primary product of the oil...        0.0               \n",
      "96  Crude palm oil is a primary product of the oil...        5.0         ton   \n",
      "97  Penjuanal 7100 kg CPO is a product of oil palm...     7100.0          kg   \n",
      "98  Palm kernel is a primary part of the oil palm ...        0.0               \n",
      "99  Palm kernel is a part of the oil palm fruit an...        0.0               \n",
      "\n",
      "   unclassify  \n",
      "0         NaN  \n",
      "1         NaN  \n",
      "2         NaN  \n",
      "3         NaN  \n",
      "4         NaN  \n",
      "..        ...  \n",
      "95        NaN  \n",
      "96        NaN  \n",
      "97        NaN  \n",
      "98        NaN  \n",
      "99        NaN  \n",
      "\n",
      "[100 rows x 7 columns]\n"
     ]
    }
   ],
   "source": [
    "import json\n",
    "import csv\n",
    "txt_file = 'result_20240226_184552.txt'\n",
    "csv_file = 'OutputClassificationUoM.csv'\n",
    "data_list = []\n",
    "\n",
    "# Open the input text file for reading\n",
    "with open(txt_file, 'r') as infile:\n",
    "    # Read each line from the text file\n",
    "    for line in infile:\n",
    "        # Load JSON data from the line\n",
    "        data = json.loads(line)\n",
    "        # Append the loaded JSON data to the list\n",
    "        data_list.append(data)\n",
    "\n",
    "# Create a DataFrame from the list of dictionaries\n",
    "dftable = pd.DataFrame(data_list)\n",
    "\n",
    "print(dftable)"
   ]
  },
  {
   "cell_type": "code",
   "execution_count": 7,
   "id": "3bba86ca-e337-4ca1-9e40-0510c6ae87ae",
   "metadata": {},
   "outputs": [],
   "source": [
    "dftable.to_csv(csv_file, index=False)"
   ]
  },
  {
   "cell_type": "code",
   "execution_count": 93,
   "id": "628be12b-67d3-4042-ba4d-3a45e6107fab",
   "metadata": {},
   "outputs": [],
   "source": [
    "dfClean = pd.read_csv('clean_dataset_pajak_header.csv')"
   ]
  },
  {
   "cell_type": "code",
   "execution_count": 96,
   "id": "14f73b30-38b3-4137-bda0-80dec010a99a",
   "metadata": {},
   "outputs": [],
   "source": [
    "# Concatenate the two DataFrames\n",
    "concatenated_df = pd.concat([dfClean, dftable], axis=1)\n",
    "\n",
    "# Path to your output CSV file\n",
    "output_csv_file = 'output_concatenated.csv'\n",
    "\n",
    "# Write the concatenated DataFrame to a new CSV file\n",
    "concatenated_df.to_csv(output_csv_file, index=False)"
   ]
  },
  {
   "cell_type": "code",
   "execution_count": null,
   "id": "2b1efda5-f2ca-4bc0-938c-eb0b1b735721",
   "metadata": {},
   "outputs": [],
   "source": []
  }
 ],
 "metadata": {
  "kernelspec": {
   "display_name": "Python 3",
   "language": "python",
   "name": "python3"
  },
  "language_info": {
   "codemirror_mode": {
    "name": "ipython",
    "version": 3
   },
   "file_extension": ".py",
   "mimetype": "text/x-python",
   "name": "python",
   "nbconvert_exporter": "python",
   "pygments_lexer": "ipython3",
   "version": "3.6.8"
  }
 },
 "nbformat": 4,
 "nbformat_minor": 5
}
