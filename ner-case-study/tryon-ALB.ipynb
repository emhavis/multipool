{
 "cells": [
  {
   "cell_type": "code",
   "execution_count": 2,
   "id": "878afbf7-a0d5-4124-b2ff-18accb5d965f",
   "metadata": {},
   "outputs": [],
   "source": [
    "import requests\n",
    "import pandas as pd"
   ]
  },
  {
   "cell_type": "code",
   "execution_count": 3,
   "id": "b54a6641-137f-447c-8587-f80391665889",
   "metadata": {},
   "outputs": [],
   "source": [
    "df1 = pd.read_csv('clean_data.csv')\n",
    "def run_curl_command(prompt):\n",
    "    url = \"http://108.137.109.168:11434/api/generate\"\n",
    "\n",
    "    data = {\n",
    "        \"model\": \"llama2\",\n",
    "        \"prompt\": prompt,\n",
    "        \"stream\": False\n",
    "    }\n",
    "# Sending a POST request\n",
    "    response = requests.post(url, json=data)\n",
    "\n",
    "    # Checking the response\n",
    "    if response.status_code == 200:\n",
    "        # Return the JSON response\n",
    "        return response.json()\n",
    "    else:\n",
    "        print(f\"Error! Status code: {response.status_code}, Response: {response.text}\")\n",
    "        # Return None or raise an exception, depending on your preference\n",
    "        return None\n",
    "    "
   ]
  },
  {
   "cell_type": "code",
   "execution_count": 6,
   "id": "c4970a6f-4d87-4d1e-a420-5ba3789cb5c8",
   "metadata": {
    "collapsed": true,
    "jupyter": {
     "outputs_hidden": true
    },
    "tags": []
   },
   "outputs": [
    {
     "name": "stdout",
     "output_type": "stream",
     "text": [
      "                                            NAMA_BARANG  \\\n",
      "0                       ANALISA SAMPEL RBD PALM STEARIN   \n",
      "1     Aflatoxin B1 Qty  1 Sampel  Palm Kernel Expell...   \n",
      "2     Analisa  Pengujian INSPEKSI MINYAK KELAPA SAWI...   \n",
      "3     Discarging Survey of CPO 2999998 MT at Kabil B...   \n",
      "4     Discarging Survey of CPO 3149193 MT at Kabil B...   \n",
      "...                                                 ...   \n",
      "1527  Uang muka 50 angkutan CPO dari Bumi Harjo Kuma...   \n",
      "1528                                     CRUDE PALM OIL   \n",
      "1529                             SEWA TANGKI TIMBUN CPO   \n",
      "1530  Pelunasan 50 angkutan CPO dari Talang Duku Jam...   \n",
      "1531                                     CRUDE PALM OIL   \n",
      "\n",
      "                                  NAMA_BARANG_NO_SPCHAR  JML_BARANG  \\\n",
      "0                       ANALISA SAMPEL RBD PALM STEARIN         1.0   \n",
      "1     AFLATOXIN B1 QTY  1 SAMPEL  PALM KERNEL EXPELL...         1.0   \n",
      "2     ANALISA  PENGUJIAN INSPEKSI MINYAK KELAPA SAWI...         1.0   \n",
      "3     DISCARGING SURVEY OF CPO 2 999 998 MT AT KABIL...         1.0   \n",
      "4     DISCARGING SURVEY OF CPO 3 149 193 MT AT KABIL...         1.0   \n",
      "...                                                 ...         ...   \n",
      "1527  UANG MUKA 50  ANGKUTAN CPO DARI BUMI HARJO KUM...   5002097.0   \n",
      "1528                                     CRUDE PALM OIL   5002250.0   \n",
      "1529                             SEWA TANGKI TIMBUN CPO   5123326.0   \n",
      "1530  PELUNASAN 50  ANGKUTAN CPO DARI TALANG DUKU JA...   5523870.0   \n",
      "1531                                     CRUDE PALM OIL   7500000.0   \n",
      "\n",
      "     KRITERIA_BARANG  \n",
      "0                NaN  \n",
      "1                NaN  \n",
      "2                NaN  \n",
      "3                CPO  \n",
      "4                CPO  \n",
      "...              ...  \n",
      "1527             NaN  \n",
      "1528             CPO  \n",
      "1529             NaN  \n",
      "1530             NaN  \n",
      "1531             CPO  \n",
      "\n",
      "[1532 rows x 4 columns]\n"
     ]
    }
   ],
   "source": [
    "# free_text = df1[\"NAMA_BARANG\"].unique()\n",
    "# len(free_text)\n",
    "print(df1)"
   ]
  },
  {
   "cell_type": "code",
   "execution_count": 7,
   "id": "082be091-fee2-463e-83a4-d7d56efdd1f0",
   "metadata": {
    "tags": []
   },
   "outputs": [],
   "source": [
    "# def categorize_tax (categorize_name,data):\n",
    "#     question_response= prompt.invoke(\"please categorize the text into product or services only, categorize the data into 'service' if it is containing verb, Please classify it as a 'product' if it is raw material or processed from palm oil. example format: ANALISA SAMPEL RBD PALM STEARIN - Services, Pengiriman Kecambah Sawit- Services, TANDAN BUAH SEGAR KELAPA SAWIT TAHUN TANAM 1994 1081230 KG - Product, Pengiriman Kecambah Sawit - Services\")\n",
    "#     question_response= question_response.split('\\n')\n",
    "#     print(question_response)\n",
    "                   \n",
    "#     # Put in dataframe\n",
    "#     categories_df = pd.DataFrame({'nama_barang - kelompok': run_curl_command(prompt)})\n",
    "#     categories_df[['nama_barang', 'Kelompok']] = categories_df['nama_barang - kelompok'].str.split(' - ', n=1, expand=True)"
   ]
  },
  {
   "cell_type": "code",
   "execution_count": 9,
   "id": "b31912cf-d402-4998-98c4-7098b7293b61",
   "metadata": {},
   "outputs": [
    {
     "name": "stdout",
     "output_type": "stream",
     "text": [
      "{'model': 'llama2', 'created_at': '2024-02-12T15:07:37.238188982Z', 'response': 'Based on the provided data, the categories that can be identified are:\\n\\n1. Product/Commodity: CRUDE PALM OIL, ANALISA SAMPEL RBD PALM STEARIN, Uang muka 50 angkutan CPO dari Bumi Harjo Kumala, Pelunasan 50 angkutan CPO dari Talang Duku Jam.\\n2. Survey/Inspection: Analisa Pengujian INSPEKSI MINYAK KELAPA SAWI, Discarging Survey of CPO.\\n3. Location: Kabil B, Bumi Harjo Kumala, Talang Duku Jam.\\n4. Quantity: 50 angkutan CPO, Uang muka.\\n5. Time: None.\\n6. Purpose: NAMA_BARANG (the name of the barang/commodity).\\n\\nThe categories are not exhaustive and can be modified based on the specific requirements of the analysis.', 'done': True, 'context': [518, 25580, 29962, 3532, 14816, 29903, 29958, 5299, 829, 14816, 29903, 6778, 13, 13, 29887, 5428, 278, 1494, 848, 29871, 29900, 462, 308, 13764, 1964, 3235, 29909, 16698, 3580, 6670, 390, 29121, 349, 1964, 29924, 317, 4330, 1718, 1177, 13, 29896, 539, 319, 1579, 1219, 29916, 262, 350, 29896, 660, 1017, 259, 29896, 317, 1160, 295, 29871, 3793, 29885, 476, 5851, 12027, 514, 856, 13, 29906, 539, 530, 5711, 29874, 29871, 349, 996, 8016, 713, 2672, 29903, 4162, 29968, 5425, 341, 1177, 29979, 22311, 476, 6670, 3301, 29909, 16698, 22119, 856, 13, 29941, 539, 8565, 1191, 292, 23218, 310, 315, 13152, 29871, 29906, 29929, 29929, 29929, 29929, 29929, 29947, 341, 29911, 472, 476, 4427, 350, 856, 13, 29946, 539, 8565, 1191, 292, 23218, 310, 315, 13152, 29871, 29941, 29896, 29946, 29929, 29896, 29929, 29941, 341, 29911, 472, 476, 4427, 350, 856, 13, 462, 795, 2023, 462, 308, 13, 29896, 29945, 29906, 29955, 1678, 501, 574, 3887, 1335, 29871, 29945, 29900, 2614, 29895, 329, 273, 315, 13152, 270, 1306, 350, 15547, 3536, 2212, 476, 10859, 856, 13, 29896, 29945, 29906, 29947, 462, 462, 539, 15600, 29965, 2287, 349, 1964, 29924, 438, 6227, 13, 29896, 29945, 29906, 29929, 462, 1669, 3725, 12982, 323, 19453, 29968, 29902, 323, 7833, 29933, 3904, 315, 13152, 13, 29896, 29945, 29941, 29900, 1678, 15549, 17496, 273, 29871, 29945, 29900, 2614, 29895, 329, 273, 315, 13152, 270, 1306, 10288, 574, 5334, 2120, 16131, 856, 13, 29896, 29945, 29941, 29896, 462, 462, 539, 15600, 29965, 2287, 349, 1964, 29924, 438, 6227, 13, 1170, 29901, 8598, 1529, 29918, 29933, 1718, 19453, 29892, 365, 1477, 29901, 29871, 29896, 29945, 29941, 29906, 29892, 26688, 29901, 1203, 297, 16704, 713, 29892, 920, 723, 366, 11608, 675, 1269, 4452, 29973, 825, 13997, 526, 3625, 29973, 518, 29914, 25580, 29962, 13, 29933, 1463, 373, 278, 4944, 848, 29892, 278, 13997, 393, 508, 367, 15659, 526, 29901, 13, 13, 29896, 29889, 10969, 29914, 1523, 1545, 537, 29901, 15600, 29965, 2287, 349, 1964, 29924, 438, 6227, 29892, 13764, 1964, 3235, 29909, 16698, 3580, 6670, 390, 29121, 349, 1964, 29924, 317, 4330, 1718, 1177, 29892, 501, 574, 3887, 1335, 29871, 29945, 29900, 2614, 29895, 329, 273, 315, 13152, 270, 1306, 350, 15547, 3536, 2212, 476, 398, 2883, 29892, 15549, 17496, 273, 29871, 29945, 29900, 2614, 29895, 329, 273, 315, 13152, 270, 1306, 10288, 574, 5334, 2120, 16131, 29889, 13, 29906, 29889, 23218, 29914, 797, 5965, 428, 29901, 530, 5711, 29874, 349, 996, 8016, 713, 2672, 29903, 4162, 29968, 5425, 341, 1177, 29979, 22311, 476, 6670, 3301, 29909, 16698, 22119, 29892, 8565, 1191, 292, 23218, 310, 315, 13152, 29889, 13, 29941, 29889, 17015, 29901, 476, 4427, 350, 29892, 350, 15547, 3536, 2212, 476, 398, 2883, 29892, 10288, 574, 5334, 2120, 16131, 29889, 13, 29946, 29889, 22746, 537, 29901, 29871, 29945, 29900, 2614, 29895, 329, 273, 315, 13152, 29892, 501, 574, 3887, 1335, 29889, 13, 29945, 29889, 5974, 29901, 6213, 29889, 13, 29953, 29889, 15247, 4220, 29901, 8598, 1529, 29918, 29933, 1718, 19453, 313, 1552, 1024, 310, 278, 2594, 574, 29914, 510, 1545, 537, 467, 13, 13, 1576, 13997, 526, 451, 27096, 573, 322, 508, 367, 9120, 2729, 373, 278, 2702, 11780, 310, 278, 7418, 29889], 'total_duration': 3093686881, 'load_duration': 361966, 'prompt_eval_count': 277, 'prompt_eval_duration': 149389000, 'eval_count': 231, 'eval_duration': 2943421000}\n"
     ]
    }
   ],
   "source": [
    "prompt=\"given the following data {x} in Indonesian, how would you categorize each items? what categories are available?\".format(x=df1[\"NAMA_BARANG\"])\n",
    "print(run_curl_command(prompt))"
   ]
  }
 ],
 "metadata": {
  "kernelspec": {
   "display_name": "Python 3",
   "language": "python",
   "name": "python3"
  },
  "language_info": {
   "codemirror_mode": {
    "name": "ipython",
    "version": 3
   },
   "file_extension": ".py",
   "mimetype": "text/x-python",
   "name": "python",
   "nbconvert_exporter": "python",
   "pygments_lexer": "ipython3",
   "version": "3.6.8"
  }
 },
 "nbformat": 4,
 "nbformat_minor": 5
}
