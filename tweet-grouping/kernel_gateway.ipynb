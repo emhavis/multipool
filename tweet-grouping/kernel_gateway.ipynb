{
 "cells": [
  {
   "cell_type": "code",
   "execution_count": 1,
   "id": "brave-jacob",
   "metadata": {},
   "outputs": [],
   "source": [
    "import math\n",
    "import json\n",
    "import time"
   ]
  },
  {
   "cell_type": "code",
   "execution_count": null,
   "id": "multiple-fellow",
   "metadata": {},
   "outputs": [],
   "source": [
    "# GET /convert\n",
    "req = json.loads(REQUEST)\n",
    "args = req['args']\n",
    "\n",
    "angle = args['angle'][0]\n",
    "\n",
    "if 'angle' not in args:\n",
    "  print(json.dumps({'convertedAngle': None}))\n",
    "else:\n",
    "  # Note the [0] when retrieving the argument.\n",
    "  # This is because you could potentially pass multiple angles.\n",
    "  angle = int(args['angle'][0])\n",
    "  converted = math.radians(angle)\n",
    "  print(json.dumps({'convertedAngle': converted}))"
   ]
  }
 ],
 "metadata": {
  "kernelspec": {
   "display_name": "Python 3",
   "language": "python",
   "name": "python3"
  },
  "language_info": {
   "codemirror_mode": {
    "name": "ipython",
    "version": 3
   },
   "file_extension": ".py",
   "mimetype": "text/x-python",
   "name": "python",
   "nbconvert_exporter": "python",
   "pygments_lexer": "ipython3",
   "version": "3.8.5"
  }
 },
 "nbformat": 4,
 "nbformat_minor": 5
}
