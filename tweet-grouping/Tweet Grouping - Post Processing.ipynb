{
 "cells": [
  {
   "cell_type": "markdown",
   "id": "unlimited-indicator",
   "metadata": {},
   "source": [
    "### Goals of the program\n",
    "To get read the matrix, df, store to mySQL Server"
   ]
  },
  {
   "cell_type": "code",
   "execution_count": 15,
   "id": "numerical-tsunami",
   "metadata": {},
   "outputs": [
    {
     "data": {
      "text/plain": [
       "1352693681531064811"
      ]
     },
     "execution_count": 15,
     "metadata": {},
     "output_type": "execute_result"
    }
   ],
   "source": [
    "import uuid\n",
    "\n",
    "uuid.uuid1().int>>64\n"
   ]
  }
 ],
 "metadata": {
  "kernelspec": {
   "display_name": "Python 3",
   "language": "python",
   "name": "python3"
  },
  "language_info": {
   "codemirror_mode": {
    "name": "ipython",
    "version": 3
   },
   "file_extension": ".py",
   "mimetype": "text/x-python",
   "name": "python",
   "nbconvert_exporter": "python",
   "pygments_lexer": "ipython3",
   "version": "3.8.5"
  }
 },
 "nbformat": 4,
 "nbformat_minor": 5
}
