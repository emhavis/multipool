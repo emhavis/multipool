{
 "cells": [
  {
   "cell_type": "markdown",
   "id": "liked-washington",
   "metadata": {
    "editable": true,
    "slideshow": {
     "slide_type": ""
    },
    "tags": []
   },
   "source": [
    "# Hashtag Grouping on Twitter\n",
    "\n",
    "Input: \n",
    "    Hastag scrap result from cekmedsos_database.vw_ttidata\n",
    "\n",
    "Output: \n",
    "    Mapping tables to group each hashtag entry with similarity\n",
    "    \n",
    "\n",
    "What we need to do....\n",
    "1. Load the table entry from mySQL into python\n",
    "2. Read the entry\n",
    "\n",
    "Pre-requisite\n",
    "pip install wheel\n",
    "pip install pandas"
   ]
  },
  {
   "cell_type": "markdown",
   "id": "downtown-hayes",
   "metadata": {},
   "source": [
    "### 1. Create Connection to mySQL\n",
    "\n",
    "ref to this page:\n",
    "    [How to Use Python with mySQL in Jupyter](https://medium.com/@tattwei46/how-to-use-python-with-mysql-79304bee8753)\n",
    "    \n",
    "first, we need to install mysql connector"
   ]
  },
  {
   "cell_type": "code",
   "execution_count": 1,
   "id": "danish-particular",
   "metadata": {
    "execution": {
     "iopub.execute_input": "2023-12-28T03:38:04.002333Z",
     "iopub.status.busy": "2023-12-28T03:38:03.998874Z",
     "iopub.status.idle": "2023-12-28T03:38:04.334427Z",
     "shell.execute_reply": "2023-12-28T03:38:04.335032Z"
    }
   },
   "outputs": [],
   "source": [
    "import pymysql.cursors\n",
    "import pandas as pd\n",
    "import uuid\n",
    "import time\n",
    "import os\n",
    "\n",
    "# db parameters\n",
    "_conn_host='202.157.185.40'\n",
    "_conn_user='cekmedsos_db'\n",
    "_conn_password='282E~f0si'\n",
    "_conn_database='cekmedsos_database'"
   ]
  },
  {
   "cell_type": "markdown",
   "id": "three-palestinian",
   "metadata": {},
   "source": [
    "### Input as proces started\n",
    "Record header and parameter information\n",
    "\n",
    " * Kesepakatan status di kolom screen_analisis_ai.status\n",
    " * 1 --> baru diinput\n",
    " * 2 --> lagi dikerjakan\n",
    " * 3 --> proses berhasil\n",
    " * 4 --> proses gagal\n",
    " *\n",
    " \n",
    " * Kesepakatan jenis analisa AI\n",
    " * 1 --> Analisa Cluster\n",
    " * 2 --> Analisa image clustering\n",
    " * 3 --> Analisa sentiment\n",
    " \n",
    " "
   ]
  },
  {
   "cell_type": "code",
   "execution_count": 2,
   "id": "fresh-video",
   "metadata": {
    "execution": {
     "iopub.execute_input": "2023-12-28T03:38:04.342464Z",
     "iopub.status.busy": "2023-12-28T03:38:04.341812Z",
     "iopub.status.idle": "2023-12-28T03:38:04.354941Z",
     "shell.execute_reply": "2023-12-28T03:38:04.354405Z"
    },
    "scrolled": true
   },
   "outputs": [
    {
     "name": "stdout",
     "output_type": "stream",
     "text": [
      "87315\n",
      "0.88\n",
      "3621\n"
     ]
    }
   ],
   "source": [
    "from datetime import datetime\n",
    "\n",
    "# Connect to the database\n",
    "connection = pymysql.connect(host=_conn_host,\n",
    "                             user=_conn_user,\n",
    "                             password=_conn_password,\n",
    "                             database=_conn_database,\n",
    "                             charset='utf8mb4',\n",
    "                             cursorclass=pymysql.cursors.DictCursor)\n",
    "\n",
    "cursor = connection.cursor()\n",
    "\n",
    "# get available jobs from database server, first come first serve\n",
    "sql = \"select id, hastag, `parameter` \\\n",
    "from screen_analisis_ai \\\n",
    "where active = 1 \\\n",
    "and status = 1 \\\n",
    "and jenis_analisa = 1 \\\n",
    "order by created asc, id asc limit 1\"\n",
    "\n",
    "row_count = cursor.execute(sql)\n",
    "\n",
    "if(row_count == 0):\n",
    "    # get out, nothing to do\n",
    "    print('Zero jobs, quitting now')\n",
    "    quit()\n",
    "\n",
    "result = cursor.fetchall()\n",
    "database_keyword_id = result[0]['hastag']\n",
    "similarity_treshold = result[0]['parameter']\n",
    "i_process_id = result[0]['id']\n",
    "screen_name = ''\n",
    "\n",
    "print(database_keyword_id)\n",
    "print(similarity_treshold)\n",
    "print(i_process_id)"
   ]
  },
  {
   "cell_type": "markdown",
   "id": "stainless-microwave",
   "metadata": {},
   "source": [
    "### Marking this process as running\n",
    "so that another process will not take this one\n"
   ]
  },
  {
   "cell_type": "code",
   "execution_count": 3,
   "id": "chief-resource",
   "metadata": {
    "execution": {
     "iopub.execute_input": "2023-12-28T03:38:04.360533Z",
     "iopub.status.busy": "2023-12-28T03:38:04.359963Z",
     "iopub.status.idle": "2023-12-28T03:38:04.385214Z",
     "shell.execute_reply": "2023-12-28T03:38:04.385687Z"
    }
   },
   "outputs": [
    {
     "name": "stdout",
     "output_type": "stream",
     "text": [
      "3621\n"
     ]
    }
   ],
   "source": [
    "# Connect to the database\n",
    "connection = pymysql.connect(host=_conn_host,\n",
    "                             user=_conn_user,\n",
    "                             password=_conn_password,\n",
    "                             database=_conn_database,\n",
    "                             charset='utf8mb4',\n",
    "                             cursorclass=pymysql.cursors.DictCursor)\n",
    "cursor = connection.cursor()\n",
    "\n",
    "# Prepare SQL Statement\n",
    "print(i_process_id)\n",
    "sql = \"update screen_analisis_ai set status = 2, last_status_update = now(), start_process = now() where id = %s\"\n",
    "\n",
    "# execute\n",
    "cursor.execute(sql, i_process_id)\n",
    "\n",
    "# commit record\n",
    "connection.commit()"
   ]
  },
  {
   "cell_type": "markdown",
   "id": "excessive-louisiana",
   "metadata": {},
   "source": [
    "### Runnning Process\n"
   ]
  },
  {
   "cell_type": "code",
   "execution_count": 4,
   "id": "spectacular-manner",
   "metadata": {
    "execution": {
     "iopub.execute_input": "2023-12-28T03:38:04.392541Z",
     "iopub.status.busy": "2023-12-28T03:38:04.391897Z",
     "iopub.status.idle": "2023-12-28T03:38:04.415741Z",
     "shell.execute_reply": "2023-12-28T03:38:04.416256Z"
    }
   },
   "outputs": [
    {
     "name": "stdout",
     "output_type": "stream",
     "text": [
      "3621\n"
     ]
    }
   ],
   "source": [
    "# Connect to the database\n",
    "connection = pymysql.connect(host=_conn_host,\n",
    "                             user=_conn_user,\n",
    "                             password=_conn_password,\n",
    "                             database=_conn_database,\n",
    "                             charset='utf8mb4',\n",
    "                             cursorclass=pymysql.cursors.DictCursor)\n",
    "\n",
    "cursor = connection.cursor()\n",
    "\n",
    "#\n",
    "# Create Header Record\n",
    "sql = \"insert into ret_analysis_header (job_id, datetime_start, user_id) values (%s, %s, %s)\"\n",
    "# Execute the query\n",
    "print(i_process_id)\n",
    "cursor.execute(sql, (str(i_process_id), datetime.now(), 1 ))\n",
    "\n",
    "#\n",
    "# Create Parameter Record\n",
    "sql = \"insert into ret_analysis_parameter (job_id, param_id, param_name, param_value) values (%s, %s, %s, %s)\"\n",
    "# Execute the query\n",
    "cursor.execute(sql, (i_process_id, 1, 'Similarity Treshold', similarity_treshold))\n",
    "cursor.execute(sql, (i_process_id, 1, 'DB_ID', database_keyword_id))\n",
    "\n",
    "# Commit Record\n",
    "connection.commit()"
   ]
  },
  {
   "cell_type": "markdown",
   "id": "caring-lighting",
   "metadata": {},
   "source": [
    "#### Starting process, \n",
    "Run query against RDBMS\n"
   ]
  },
  {
   "cell_type": "code",
   "execution_count": 5,
   "id": "c18eb618-f28a-42c6-92d6-c721943afdbc",
   "metadata": {
    "editable": true,
    "execution": {
     "iopub.execute_input": "2023-12-28T03:38:04.424271Z",
     "iopub.status.busy": "2023-12-28T03:38:04.423452Z",
     "iopub.status.idle": "2023-12-28T03:38:04.600352Z",
     "shell.execute_reply": "2023-12-28T03:38:04.599733Z"
    },
    "slideshow": {
     "slide_type": ""
    },
    "tags": []
   },
   "outputs": [],
   "source": [
    "from sqlalchemy.exc import SQLAlchemyError\n",
    "from sqlalchemy import create_engine, text\n",
    "from sqlalchemy.orm import sessionmaker\n",
    "\n",
    "def execute_mysql_query(query):\n",
    "    try:\n",
    "        # Define the connection parameters inside the function\n",
    "        host = \"202.157.185.40\"\n",
    "        port = 3306  # Replace with your MySQL port number\n",
    "        database = \"cekmedsos_database\"\n",
    "        user = \"cekmedsos_db\"\n",
    "        password = \"282E~f0si\"\n",
    "\n",
    "        # Create a SQLAlchemy engine using the provided connection parameters\n",
    "        connection_url = f\"mysql+pymysql://{user}:{password}@{host}:{port}/{database}\"\n",
    "        engine = create_engine(connection_url)\n",
    "\n",
    "        # Establish a connection\n",
    "        connection = engine.connect()\n",
    "\n",
    "        # Execute the MySQL query and fetch the results into a DataFrame\n",
    "        result_df = pd.read_sql(query, connection)\n",
    "\n",
    "        # Close the database connection\n",
    "        connection.close()\n",
    "\n",
    "        print(\"Query executed successfully.\")\n",
    "\n",
    "        return result_df\n",
    "\n",
    "    except SQLAlchemyError as e:\n",
    "        print(f\"Error: {str(e)}\")\n",
    "        return None"
   ]
  },
  {
   "cell_type": "code",
   "execution_count": 6,
   "id": "weekly-jonathan",
   "metadata": {
    "editable": true,
    "execution": {
     "iopub.execute_input": "2023-12-28T03:38:04.606714Z",
     "iopub.status.busy": "2023-12-28T03:38:04.605833Z",
     "iopub.status.idle": "2023-12-28T03:38:04.763086Z",
     "shell.execute_reply": "2023-12-28T03:38:04.763839Z"
    },
    "slideshow": {
     "slide_type": ""
    },
    "tags": []
   },
   "outputs": [
    {
     "name": "stdout",
     "output_type": "stream",
     "text": [
      "select id, tweet, tweet_date_time from ret_tweet where db_id = \"87315\"\n",
      "Query executed successfully.\n"
     ]
    },
    {
     "data": {
      "text/html": [
       "<div>\n",
       "<style scoped>\n",
       "    .dataframe tbody tr th:only-of-type {\n",
       "        vertical-align: middle;\n",
       "    }\n",
       "\n",
       "    .dataframe tbody tr th {\n",
       "        vertical-align: top;\n",
       "    }\n",
       "\n",
       "    .dataframe thead th {\n",
       "        text-align: right;\n",
       "    }\n",
       "</style>\n",
       "<table border=\"1\" class=\"dataframe\">\n",
       "  <thead>\n",
       "    <tr style=\"text-align: right;\">\n",
       "      <th></th>\n",
       "      <th>id</th>\n",
       "      <th>tweet</th>\n",
       "      <th>tweet_date_time</th>\n",
       "    </tr>\n",
       "  </thead>\n",
       "  <tbody>\n",
       "    <tr>\n",
       "      <th>0</th>\n",
       "      <td>1735296508592074876</td>\n",
       "      <td>sekarang mah yang bukti nyata aja kerjanya, bu...</td>\n",
       "      <td>2023-12-14 20:51:42</td>\n",
       "    </tr>\n",
       "    <tr>\n",
       "      <th>1</th>\n",
       "      <td>1736029730569334788</td>\n",
       "      <td>Ucapan #MulutManisAnies saat debat capres meng...</td>\n",
       "      <td>2023-12-16 21:25:16</td>\n",
       "    </tr>\n",
       "    <tr>\n",
       "      <th>2</th>\n",
       "      <td>1737196029026701423</td>\n",
       "      <td>BREAKING NEWS PEMILU 2024\\n\\nTrend:\\nBawaslu N...</td>\n",
       "      <td>2023-12-20 02:39:43</td>\n",
       "    </tr>\n",
       "    <tr>\n",
       "      <th>3</th>\n",
       "      <td>1737475396084355445</td>\n",
       "      <td>Janji #MulutManisAnies saat debat capres :\\n1....</td>\n",
       "      <td>2023-12-20 21:09:49</td>\n",
       "    </tr>\n",
       "    <tr>\n",
       "      <th>4</th>\n",
       "      <td>1737536460277059972</td>\n",
       "      <td>#MulutManisAnies https://t.co/MEEQLtPxBU</td>\n",
       "      <td>2023-12-21 01:12:28</td>\n",
       "    </tr>\n",
       "  </tbody>\n",
       "</table>\n",
       "</div>"
      ],
      "text/plain": [
       "                    id                                              tweet  \\\n",
       "0  1735296508592074876  sekarang mah yang bukti nyata aja kerjanya, bu...   \n",
       "1  1736029730569334788  Ucapan #MulutManisAnies saat debat capres meng...   \n",
       "2  1737196029026701423  BREAKING NEWS PEMILU 2024\\n\\nTrend:\\nBawaslu N...   \n",
       "3  1737475396084355445  Janji #MulutManisAnies saat debat capres :\\n1....   \n",
       "4  1737536460277059972           #MulutManisAnies https://t.co/MEEQLtPxBU   \n",
       "\n",
       "      tweet_date_time  \n",
       "0 2023-12-14 20:51:42  \n",
       "1 2023-12-16 21:25:16  \n",
       "2 2023-12-20 02:39:43  \n",
       "3 2023-12-20 21:09:49  \n",
       "4 2023-12-21 01:12:28  "
      ]
     },
     "execution_count": 1,
     "metadata": {},
     "output_type": "execute_result"
    }
   ],
   "source": [
    "#\n",
    "# Query to get tweet data, apply analitics to this dataset\n",
    "#\n",
    "\n",
    "# Connect to the database\n",
    "connection = pymysql.connect(host=_conn_host,\n",
    "                             user=_conn_user,\n",
    "                             password=_conn_password,\n",
    "                             database=_conn_database,\n",
    "                             charset='utf8mb4',\n",
    "                             cursorclass=pymysql.cursors.DictCursor)\n",
    "\n",
    "cursor = connection.cursor()\n",
    "\n",
    "s_query_string = 'select id, tweet, tweet_date_time from ret_tweet where '\n",
    "# s_query_string = 'select id, tweet, tweet_date_time from vw_ret_tweet_clean where '\n",
    "\n",
    "if (screen_name != ''):\n",
    "    # print('use screen name')\n",
    "    s_query_string = s_query_string + 'screen_name = \"' + screen_name + '\" and db_id = \"' + str(database_keyword_id) + '\"'\n",
    "else:\n",
    "    # print('no use')\n",
    "    s_query_string = s_query_string + 'db_id = \"' + database_keyword_id.replace('\"','') + '\"'\n",
    "    \n",
    "print(s_query_string)\n",
    "df = execute_mysql_query(s_query_string)\n",
    "\n",
    "# Close Connection\n",
    "connection.close()\n",
    "\n",
    "# see result\n",
    "df.head()"
   ]
  },
  {
   "cell_type": "markdown",
   "id": "dense-waste",
   "metadata": {},
   "source": [
    "### 2. Try to pre-process all the text\n",
    "\n",
    "target-> tokenizing into another dataframe"
   ]
  },
  {
   "cell_type": "code",
   "execution_count": 7,
   "id": "chemical-bulgarian",
   "metadata": {
    "execution": {
     "iopub.execute_input": "2023-12-28T03:38:04.770374Z",
     "iopub.status.busy": "2023-12-28T03:38:04.769706Z",
     "iopub.status.idle": "2023-12-28T03:38:05.457270Z",
     "shell.execute_reply": "2023-12-28T03:38:05.456553Z"
    }
   },
   "outputs": [
    {
     "data": {
      "text/html": [
       "<div>\n",
       "<style scoped>\n",
       "    .dataframe tbody tr th:only-of-type {\n",
       "        vertical-align: middle;\n",
       "    }\n",
       "\n",
       "    .dataframe tbody tr th {\n",
       "        vertical-align: top;\n",
       "    }\n",
       "\n",
       "    .dataframe thead th {\n",
       "        text-align: right;\n",
       "    }\n",
       "</style>\n",
       "<table border=\"1\" class=\"dataframe\">\n",
       "  <thead>\n",
       "    <tr style=\"text-align: right;\">\n",
       "      <th></th>\n",
       "      <th>id</th>\n",
       "      <th>tweet</th>\n",
       "      <th>tweet_date_time</th>\n",
       "    </tr>\n",
       "  </thead>\n",
       "  <tbody>\n",
       "    <tr>\n",
       "      <th>0</th>\n",
       "      <td>1735296508592074876</td>\n",
       "      <td>sekarang mah yang bukti nyata aja kerjanya buk...</td>\n",
       "      <td>2023-12-14 20:51:42</td>\n",
       "    </tr>\n",
       "    <tr>\n",
       "      <th>1</th>\n",
       "      <td>1736029730569334788</td>\n",
       "      <td>ucapan mulutmanisanies saat debat capres menge...</td>\n",
       "      <td>2023-12-16 21:25:16</td>\n",
       "    </tr>\n",
       "    <tr>\n",
       "      <th>2</th>\n",
       "      <td>1737196029026701423</td>\n",
       "      <td>breaking news pemilu trend bawaslu ndasmu mulu...</td>\n",
       "      <td>2023-12-20 02:39:43</td>\n",
       "    </tr>\n",
       "    <tr>\n",
       "      <th>3</th>\n",
       "      <td>1737475396084355445</td>\n",
       "      <td>janji mulutmanisanies saat debat capres kebeba...</td>\n",
       "      <td>2023-12-20 21:09:49</td>\n",
       "    </tr>\n",
       "    <tr>\n",
       "      <th>4</th>\n",
       "      <td>1737536460277059972</td>\n",
       "      <td>mulutmanisanies httpstcomeeqltpxbu</td>\n",
       "      <td>2023-12-21 01:12:28</td>\n",
       "    </tr>\n",
       "  </tbody>\n",
       "</table>\n",
       "</div>"
      ],
      "text/plain": [
       "                    id                                              tweet  \\\n",
       "0  1735296508592074876  sekarang mah yang bukti nyata aja kerjanya buk...   \n",
       "1  1736029730569334788  ucapan mulutmanisanies saat debat capres menge...   \n",
       "2  1737196029026701423  breaking news pemilu trend bawaslu ndasmu mulu...   \n",
       "3  1737475396084355445  janji mulutmanisanies saat debat capres kebeba...   \n",
       "4  1737536460277059972                 mulutmanisanies httpstcomeeqltpxbu   \n",
       "\n",
       "      tweet_date_time  \n",
       "0 2023-12-14 20:51:42  \n",
       "1 2023-12-16 21:25:16  \n",
       "2 2023-12-20 02:39:43  \n",
       "3 2023-12-20 21:09:49  \n",
       "4 2023-12-21 01:12:28  "
      ]
     },
     "execution_count": 1,
     "metadata": {},
     "output_type": "execute_result"
    }
   ],
   "source": [
    "import string\n",
    "import re\n",
    "import nltk\n",
    "\n",
    "from nltk.tokenize import word_tokenize\n",
    "\n",
    "# Text Preprocessing, \n",
    "def text_preproc(strIn):\n",
    "    # case folding\n",
    "    strOut = strIn.lower()\n",
    "    # remove numbers\n",
    "    strOut = re.sub(r\"\\d+\", \"\", strOut)\n",
    "    # remote punctuation\n",
    "    strOut = strOut.translate(str.maketrans(\"\",\"\",string.punctuation))\n",
    "    # remove whitspace\n",
    "    strOut = strOut.strip()\n",
    "    # \n",
    "    strOut = re.sub('\\s+',' ',strOut)\n",
    "    \n",
    "    return strOut\n",
    "# end Text Preprocessing\n",
    "\n",
    "\n",
    "# Apply to data frame\n",
    "df['tweet'] = df['tweet'].apply(text_preproc)\n",
    "\n",
    "df.head()"
   ]
  },
  {
   "cell_type": "markdown",
   "id": "verbal-power",
   "metadata": {},
   "source": [
    "### Finish preprocessing, Tokenized\n",
    "Next step, is to output to new column for tokenized sentence"
   ]
  },
  {
   "cell_type": "code",
   "execution_count": 8,
   "id": "classical-position",
   "metadata": {
    "execution": {
     "iopub.execute_input": "2023-12-28T03:38:05.462881Z",
     "iopub.status.busy": "2023-12-28T03:38:05.462294Z",
     "iopub.status.idle": "2023-12-28T03:38:06.234175Z",
     "shell.execute_reply": "2023-12-28T03:38:06.233544Z"
    },
    "scrolled": true
   },
   "outputs": [
    {
     "data": {
      "text/html": [
       "<div>\n",
       "<style scoped>\n",
       "    .dataframe tbody tr th:only-of-type {\n",
       "        vertical-align: middle;\n",
       "    }\n",
       "\n",
       "    .dataframe tbody tr th {\n",
       "        vertical-align: top;\n",
       "    }\n",
       "\n",
       "    .dataframe thead th {\n",
       "        text-align: right;\n",
       "    }\n",
       "</style>\n",
       "<table border=\"1\" class=\"dataframe\">\n",
       "  <thead>\n",
       "    <tr style=\"text-align: right;\">\n",
       "      <th></th>\n",
       "      <th>id</th>\n",
       "      <th>tweet</th>\n",
       "      <th>tweet_date_time</th>\n",
       "      <th>tokenized_tweet</th>\n",
       "      <th>sw</th>\n",
       "    </tr>\n",
       "  </thead>\n",
       "  <tbody>\n",
       "    <tr>\n",
       "      <th>0</th>\n",
       "      <td>1735296508592074876</td>\n",
       "      <td>sekarang mah yang bukti nyata aja kerjanya buk...</td>\n",
       "      <td>2023-12-14 20:51:42</td>\n",
       "      <td>[sekarang, mah, yang, bukti, nyata, aja, kerja...</td>\n",
       "      <td>{bicara, gerak, nyata, mulutmanisanies, httpst...</td>\n",
       "    </tr>\n",
       "    <tr>\n",
       "      <th>1</th>\n",
       "      <td>1736029730569334788</td>\n",
       "      <td>ucapan mulutmanisanies saat debat capres menge...</td>\n",
       "      <td>2023-12-16 21:25:16</td>\n",
       "      <td>[ucapan, mulutmanisanies, saat, debat, capres,...</td>\n",
       "      <td>{pembangunan, debat, ucapan, disetor, keberpih...</td>\n",
       "    </tr>\n",
       "    <tr>\n",
       "      <th>2</th>\n",
       "      <td>1737196029026701423</td>\n",
       "      <td>breaking news pemilu trend bawaslu ndasmu mulu...</td>\n",
       "      <td>2023-12-20 02:39:43</td>\n",
       "      <td>[breaking, news, pemilu, trend, bawaslu, ndasm...</td>\n",
       "      <td>{ndasmu, httpstcobvurbdwab, mulutmanisanies, p...</td>\n",
       "    </tr>\n",
       "    <tr>\n",
       "      <th>3</th>\n",
       "      <td>1737475396084355445</td>\n",
       "      <td>janji mulutmanisanies saat debat capres kebeba...</td>\n",
       "      <td>2023-12-20 21:09:49</td>\n",
       "      <td>[janji, mulutmanisanies, saat, debat, capres, ...</td>\n",
       "      <td>{lawyer, line, tutup, berbicara, debat, pengad...</td>\n",
       "    </tr>\n",
       "    <tr>\n",
       "      <th>4</th>\n",
       "      <td>1737536460277059972</td>\n",
       "      <td>mulutmanisanies httpstcomeeqltpxbu</td>\n",
       "      <td>2023-12-21 01:12:28</td>\n",
       "      <td>[mulutmanisanies, httpstcomeeqltpxbu]</td>\n",
       "      <td>{httpstcomeeqltpxbu, mulutmanisanies}</td>\n",
       "    </tr>\n",
       "  </tbody>\n",
       "</table>\n",
       "</div>"
      ],
      "text/plain": [
       "                    id                                              tweet  \\\n",
       "0  1735296508592074876  sekarang mah yang bukti nyata aja kerjanya buk...   \n",
       "1  1736029730569334788  ucapan mulutmanisanies saat debat capres menge...   \n",
       "2  1737196029026701423  breaking news pemilu trend bawaslu ndasmu mulu...   \n",
       "3  1737475396084355445  janji mulutmanisanies saat debat capres kebeba...   \n",
       "4  1737536460277059972                 mulutmanisanies httpstcomeeqltpxbu   \n",
       "\n",
       "      tweet_date_time                                    tokenized_tweet  \\\n",
       "0 2023-12-14 20:51:42  [sekarang, mah, yang, bukti, nyata, aja, kerja...   \n",
       "1 2023-12-16 21:25:16  [ucapan, mulutmanisanies, saat, debat, capres,...   \n",
       "2 2023-12-20 02:39:43  [breaking, news, pemilu, trend, bawaslu, ndasm...   \n",
       "3 2023-12-20 21:09:49  [janji, mulutmanisanies, saat, debat, capres, ...   \n",
       "4 2023-12-21 01:12:28              [mulutmanisanies, httpstcomeeqltpxbu]   \n",
       "\n",
       "                                                  sw  \n",
       "0  {bicara, gerak, nyata, mulutmanisanies, httpst...  \n",
       "1  {pembangunan, debat, ucapan, disetor, keberpih...  \n",
       "2  {ndasmu, httpstcobvurbdwab, mulutmanisanies, p...  \n",
       "3  {lawyer, line, tutup, berbicara, debat, pengad...  \n",
       "4              {httpstcomeeqltpxbu, mulutmanisanies}  "
      ]
     },
     "execution_count": 1,
     "metadata": {},
     "output_type": "execute_result"
    }
   ],
   "source": [
    "from nltk.corpus import stopwords \n",
    "\n",
    "# Load stopwords\n",
    "sw = stopwords.words('indonesian')\n",
    "\n",
    "# apply tokenize\n",
    "df['tokenized_tweet'] = df.apply(lambda row: nltk.word_tokenize(row['tweet']), axis=1)\n",
    "\n",
    "# apply stopword removal\n",
    "df['sw'] = df.apply(lambda row: {w for w in row['tokenized_tweet'] if not w in sw}, axis=1)\n",
    "\n",
    "df.head()"
   ]
  },
  {
   "cell_type": "markdown",
   "id": "becoming-commerce",
   "metadata": {},
   "source": [
    "### Define function to calculate similarity\n",
    "Function return similarity score"
   ]
  },
  {
   "cell_type": "code",
   "execution_count": 9,
   "id": "close-sessions",
   "metadata": {
    "execution": {
     "iopub.execute_input": "2023-12-28T03:38:06.245134Z",
     "iopub.status.busy": "2023-12-28T03:38:06.243053Z",
     "iopub.status.idle": "2023-12-28T03:38:06.247971Z",
     "shell.execute_reply": "2023-12-28T03:38:06.247273Z"
    },
    "scrolled": true
   },
   "outputs": [],
   "source": [
    "def calculate_similarity(X_set, Y_set):\n",
    "# Program to measure the similarity between  \n",
    "# two sentences using cosine similarity. \n",
    "\n",
    "    l1 =[];l2 =[]\n",
    "\n",
    "    # form a set containing keywords of both strings  \n",
    "    rvector = X_set.union(Y_set)  \n",
    "    for w in rvector: \n",
    "        if w in X_set: l1.append(1) # create a vector\n",
    "        else: l1.append(0) \n",
    "        if w in Y_set: l2.append(1) \n",
    "        else: l2.append(0) \n",
    "    c = 0\n",
    "\n",
    "    # cosine formula  \n",
    "    for i in range(len(rvector)): \n",
    "            c+= l1[i]*l2[i]\n",
    "    try:\n",
    "        cosine = c / float((sum(l1)*sum(l2))**0.5) \n",
    "    except:\n",
    "        # print('zero div on X_set')\n",
    "        return 0;\n",
    "        \n",
    "    return cosine\n",
    "\n",
    "def largest_in_col(arr,nCol):\n",
    "    # \n",
    "    # Find largest value of col nCol on 2D arr\n",
    "    #\n",
    "    \n",
    "    # init value\n",
    "    max_val = arr[0][nCol]\n",
    "    # also, remember index\n",
    "    row_index = 0\n",
    "    \n",
    "    for x in range(0, len(arr)):\n",
    "        if arr[x][nCol] > max_val:\n",
    "            max_val = arr[x][nCol]\n",
    "            row_index = x\n",
    "        \n",
    "    return max_val,row_index\n",
    "\n",
    "def smallest_in_col(arr,nCol):\n",
    "    # \n",
    "    # Find smallest value of col nCol on 2D arr\n",
    "    #\n",
    "    \n",
    "    # init value\n",
    "    min_val = arr[0][nCol]\n",
    "    # also, remember index\n",
    "    row_index = 0\n",
    "    \n",
    "    for x in range(0, len(arr)):\n",
    "        if arr[x][nCol] < min_val:\n",
    "            min_val = arr[x][nCol]\n",
    "            row_index = x\n",
    "        \n",
    "    return min_val,row_index\n"
   ]
  },
  {
   "cell_type": "markdown",
   "id": "unnecessary-appearance",
   "metadata": {},
   "source": [
    "### Try to using function\n",
    "using some of array cells, create n matrices\n",
    "\n",
    "1. take one tweet, compare to all data set\n",
    "2. flag 1 if similar\n",
    "3. take next tweet, if similar from prev tweet, skip\n",
    "4. if not similar, add counter, then proceed"
   ]
  },
  {
   "cell_type": "code",
   "execution_count": 10,
   "id": "unavailable-clearing",
   "metadata": {
    "execution": {
     "iopub.execute_input": "2023-12-28T03:38:06.261505Z",
     "iopub.status.busy": "2023-12-28T03:38:06.260686Z",
     "iopub.status.idle": "2023-12-28T03:39:35.276114Z",
     "shell.execute_reply": "2023-12-28T03:39:35.276682Z"
    },
    "scrolled": true
   },
   "outputs": [
    {
     "name": "stderr",
     "output_type": "stream",
     "text": [
      "100%|██████████| 3741480/3741480.0 [01:29<00:00, 42037.88it/s]"
     ]
    },
    {
     "name": "stdout",
     "output_type": "stream",
     "text": [
      "[[ 0.  0.  0. ...  0.  0.  0.]\n",
      " [ 0.  0.  0. ...  0.  0.  0.]\n",
      " [ 0.  0.  0. ...  0.  0.  0.]\n",
      " ...\n",
      " [ 0.  0.  0. ...  0.  0.  0.]\n",
      " [ 0.  0.  0. ...  0.  0.  0.]\n",
      " [ 0.  0.  0. ... 17.  0.  0.]]\n"
     ]
    },
    {
     "name": "stderr",
     "output_type": "stream",
     "text": [
      "\n"
     ]
    }
   ],
   "source": [
    "import numpy as np\n",
    "import array as arr\n",
    "from tqdm import tqdm\n",
    "\n",
    "# set to max CPU Cores\n",
    "# multitasking.set_max_threads(multitasking.config[\"CPU_CORES\"] * 5)\n",
    "\n",
    "st = similarity_treshold\n",
    "cluster_no = 1\n",
    "s_score = 0\n",
    "s_score_current = 0\n",
    "i_current_cluster = 0\n",
    "\n",
    "#create zero element array\n",
    "#col 0 => index base tweet\n",
    "#col 1 => cluster number\n",
    "#col 2 => similarity score\n",
    "base_tweet = []\n",
    "\n",
    "#proceed to compare to all tweet\n",
    "cosine_matrix = np.zeros(( len(df), len(df) ), dtype=np.dtype('f4'))\n",
    "\n",
    "# flag the mt\n",
    "with tqdm(total=( (len(df)*len(df)/2))-(len(df)/2))  as pbar:\n",
    "    for j in range(0, len(df)):\n",
    "        tweet_to_compare = df['sw'][j]\n",
    "\n",
    "        #check, is this second tweet?\n",
    "        if(j == 0):\n",
    "            #first tweet, add as cluster no #1\n",
    "            base_tweet.append([j,1,1.0])\n",
    "            i_current_cluster = base_tweet[0][1]\n",
    "\n",
    "        elif(j == 1):\n",
    "            #compare to prev tweet\n",
    "            s_score = calculate_similarity(tweet_to_compare, df['sw'][ base_tweet[0][0] ])\n",
    "\n",
    "            if(s_score < st):\n",
    "                #not similar\n",
    "                base_tweet.append([j,2,1])\n",
    "                i_current_cluster = base_tweet[j][1]\n",
    "\n",
    "        else:\n",
    "            #other else tweet\n",
    "            for x in range(0,len(base_tweet)):\n",
    "                #compare every element\n",
    "                s_score = calculate_similarity(tweet_to_compare, df['sw'][ base_tweet[x][0] ])\n",
    "                base_tweet[x][2] = s_score\n",
    "\n",
    "            if(largest_in_col(base_tweet,2)[0] < st):\n",
    "                #no similar, add as one new cluster\n",
    "                i_current_cluster = i_current_cluster + 1\n",
    "                base_tweet.append([j,i_current_cluster,largest_in_col(base_tweet,2)[0]])\n",
    "            else:\n",
    "                #determine cluster# from biggest similarity\n",
    "                i_current_cluster = base_tweet[(largest_in_col(base_tweet,2)[1])][1]\n",
    "\n",
    "        #proceed to compare to all tweet\n",
    "        for i in range(0,len(df)):\n",
    "            # update progress\n",
    "            if (j<i):\n",
    "                pbar.update(1)\n",
    "                s_score = calculate_similarity(tweet_to_compare, df['sw'][i])\n",
    "                if (s_score >= st):\n",
    "                    cosine_matrix[i,j] = i_current_cluster\n",
    "\n",
    "\n",
    "pbar.close()\n",
    "print(cosine_matrix)"
   ]
  },
  {
   "cell_type": "code",
   "execution_count": null,
   "id": "b73c3e4e-1355-489a-a639-920b9ee60a7e",
   "metadata": {
    "editable": true,
    "slideshow": {
     "slide_type": ""
    },
    "tags": []
   },
   "outputs": [],
   "source": []
  },
  {
   "cell_type": "markdown",
   "id": "minor-transparency",
   "metadata": {},
   "source": [
    "### Writing result to file\n",
    "Using NPZ format for efficiency, and try to load them after save\n"
   ]
  },
  {
   "cell_type": "code",
   "execution_count": 11,
   "id": "valid-mobile",
   "metadata": {
    "editable": true,
    "execution": {
     "iopub.execute_input": "2023-12-28T03:39:35.281995Z",
     "iopub.status.busy": "2023-12-28T03:39:35.281349Z",
     "iopub.status.idle": "2023-12-28T03:39:35.285227Z",
     "shell.execute_reply": "2023-12-28T03:39:35.285771Z"
    },
    "scrolled": true,
    "slideshow": {
     "slide_type": ""
    },
    "tags": []
   },
   "outputs": [
    {
     "name": "stdout",
     "output_type": "stream",
     "text": [
      "2736\n",
      "Save data complete .... \n"
     ]
    }
   ],
   "source": [
    "# save numpy array as npz file\n",
    "from numpy import asarray\n",
    "from numpy import savez_compressed\n",
    "\n",
    "# save to npy file\n",
    "# savez_compressed('./output/df_380.npz',df)\n",
    "# savez_compressed('./output/data_380.npz', cosine_matrix)\n",
    "# savez_compressed('./output/data_380_base.npz', base_tweet)\n",
    "\n",
    "print(len(cosine_matrix))\n",
    "print('Save data complete .... ')"
   ]
  },
  {
   "cell_type": "markdown",
   "id": "apart-tennessee",
   "metadata": {},
   "source": [
    "### How to save to rdbms?\n",
    "save the header data, meta data of the process\n",
    "[ret_analysis_header]\n",
    "- JobID\n",
    "- user initiated\n",
    "- Time Started\n",
    "- Time End\n",
    "\n",
    "Process Parameter\n",
    "[ret_analysis_parameter]\n",
    "- JobID\n",
    "- Param Name\n",
    "- Param Value\n",
    "    - ST Value\n",
    "    - DB ID\n",
    "    - Screen Name\n",
    "    - How Many Tweet analyzed\n",
    "\n",
    "save detail cluster information\n",
    "[ret_base_tweet]\n",
    "- JobID\n",
    "- Tweet Base# --> tweet ID\n",
    "- Cluster#\n",
    "\n",
    "save detail calculation result, structure\n",
    "[ret_cluster_result]\n",
    "- JobID\n",
    "- TweetID\n",
    "- Cluster"
   ]
  },
  {
   "cell_type": "code",
   "execution_count": 12,
   "id": "tribal-intent",
   "metadata": {
    "execution": {
     "iopub.execute_input": "2023-12-28T03:39:35.293001Z",
     "iopub.status.busy": "2023-12-28T03:39:35.291260Z",
     "iopub.status.idle": "2023-12-28T03:39:36.182947Z",
     "shell.execute_reply": "2023-12-28T03:39:36.182181Z"
    }
   },
   "outputs": [
    {
     "name": "stdout",
     "output_type": "stream",
     "text": [
      "finished inserting base tweet record\n"
     ]
    }
   ],
   "source": [
    "# Connect to the database\n",
    "connection = pymysql.connect(host=_conn_host,\n",
    "                             user=_conn_user,\n",
    "                             password=_conn_password,\n",
    "                             database=_conn_database,\n",
    "                             charset='utf8mb4',\n",
    "                             cursorclass=pymysql.cursors.DictCursor)\n",
    "\n",
    "cursor = connection.cursor()\n",
    "\n",
    "#\n",
    "# Create Base Tweet Record\n",
    "sql = \"insert into ret_base_tweet (job_id, tweet_id, cluster_id) values (%s, %s, %s)\"\n",
    "\n",
    "## inserting base taweet\n",
    "for i in range(0,len(base_tweet)):\n",
    "    # Execute the query\n",
    "    cursor.execute(sql, (i_process_id, df['id'][i], base_tweet[i][1]))\n",
    "    \n",
    "connection.commit()\n",
    "connection.close()\n",
    "\n",
    "print('finished inserting base tweet record')"
   ]
  },
  {
   "cell_type": "markdown",
   "id": "practical-kennedy",
   "metadata": {},
   "source": [
    "### Record cluster result\n",
    "into table ret_cluster_result"
   ]
  },
  {
   "cell_type": "code",
   "execution_count": 13,
   "id": "mineral-disclosure",
   "metadata": {
    "execution": {
     "iopub.execute_input": "2023-12-28T03:39:36.188865Z",
     "iopub.status.busy": "2023-12-28T03:39:36.188269Z",
     "iopub.status.idle": "2023-12-28T03:39:39.130080Z",
     "shell.execute_reply": "2023-12-28T03:39:39.129203Z"
    }
   },
   "outputs": [],
   "source": [
    "from numpy import asarray\n",
    "from numpy import savetxt\n",
    "\n",
    "savetxt('data.csv', cosine_matrix, delimiter=',')"
   ]
  },
  {
   "cell_type": "code",
   "execution_count": 14,
   "id": "painted-nylon",
   "metadata": {
    "execution": {
     "iopub.execute_input": "2023-12-28T03:39:39.142112Z",
     "iopub.status.busy": "2023-12-28T03:39:39.139260Z",
     "iopub.status.idle": "2023-12-28T03:39:57.699855Z",
     "shell.execute_reply": "2023-12-28T03:39:57.699210Z"
    }
   },
   "outputs": [
    {
     "name": "stdout",
     "output_type": "stream",
     "text": [
      "2736\n",
      "3621\n",
      "finished inserting cluster data\n"
     ]
    }
   ],
   "source": [
    "# Connect to the database\n",
    "connection = pymysql.connect(host=_conn_host,\n",
    "                             user=_conn_user,\n",
    "                             password=_conn_password,\n",
    "                             database=_conn_database,\n",
    "                             charset='utf8mb4',\n",
    "                             cursorclass=pymysql.cursors.DictCursor)\n",
    "\n",
    "cursor = connection.cursor()\n",
    "\n",
    "#\n",
    "# Create Tweet Cluster Record\n",
    "sql = \"insert into ret_cluster_result (job_id, tweet_id, cluster_no) values (%s, %s, %s)\"\n",
    "\n",
    "print(len(cosine_matrix))\n",
    "print(i_process_id)\n",
    "\n",
    "# initiate cluster number\n",
    "i_cluster_no_save = 0\n",
    "temp_val = 0\n",
    "                 \n",
    "## inserting tweet cluster\n",
    "for i in range(0, len(cosine_matrix)):\n",
    "    \n",
    "    # find value in this particular row\n",
    "    for j in range(0,len(cosine_matrix[i])):\n",
    "        \n",
    "        # print(cosine_matrix[i][j])\n",
    "        temp_val = cosine_matrix[j][i]\n",
    "        \n",
    "        if(temp_val != 0):\n",
    "            i_cluster_no_save = temp_val\n",
    "\n",
    "    # Execute the query\n",
    "    cursor.execute(sql, (i_process_id, df['id'][i], i_cluster_no_save))\n",
    "    \n",
    "connection.commit()\n",
    "connection.close()\n",
    "\n",
    "print('finished inserting cluster data')"
   ]
  },
  {
   "cell_type": "markdown",
   "id": "institutional-foundation",
   "metadata": {},
   "source": [
    "### Record finish time\n",
    "update table ret_analysis_header"
   ]
  },
  {
   "cell_type": "code",
   "execution_count": 15,
   "id": "mighty-florence",
   "metadata": {
    "execution": {
     "iopub.execute_input": "2023-12-28T03:39:57.707779Z",
     "iopub.status.busy": "2023-12-28T03:39:57.707122Z",
     "iopub.status.idle": "2023-12-28T03:39:57.729107Z",
     "shell.execute_reply": "2023-12-28T03:39:57.728583Z"
    },
    "scrolled": true
   },
   "outputs": [
    {
     "name": "stdout",
     "output_type": "stream",
     "text": [
      "3621\n",
      "job finished\n"
     ]
    }
   ],
   "source": [
    "# Connect to the database\n",
    "connection = pymysql.connect(host=_conn_host,\n",
    "                             user=_conn_user,\n",
    "                             password=_conn_password,\n",
    "                             database=_conn_database,\n",
    "                             charset='utf8mb4',\n",
    "                             cursorclass=pymysql.cursors.DictCursor)\n",
    "\n",
    "cursor = connection.cursor()\n",
    "\n",
    "#\n",
    "# Create Parameter Record\n",
    "sql = \"insert into ret_analysis_parameter (job_id, param_id, param_name, param_value) values (%s, %s, %s, %s)\"\n",
    "# Execute the query\n",
    "cursor.execute(sql, (i_process_id, 1, '#Tweet Processed',len(df)))\n",
    "\n",
    "#\n",
    "# Create Tweet Cluster Record\n",
    "sql = \"update ret_analysis_header set datetime_finish = %s where job_id = %s\"\n",
    "# Executing query\n",
    "cursor.execute(sql, (datetime.now(),i_process_id) )\n",
    "\n",
    "print(i_process_id)\n",
    "\n",
    "connection.commit()\n",
    "connection.close()\n",
    "\n",
    "print('job finished')"
   ]
  },
  {
   "cell_type": "markdown",
   "id": "public-brown",
   "metadata": {},
   "source": [
    "### Marking as finished the job\n",
    "on this particular i_process_id"
   ]
  },
  {
   "cell_type": "code",
   "execution_count": 16,
   "id": "august-interaction",
   "metadata": {
    "execution": {
     "iopub.execute_input": "2023-12-28T03:39:57.734833Z",
     "iopub.status.busy": "2023-12-28T03:39:57.734313Z",
     "iopub.status.idle": "2023-12-28T03:39:59.336190Z",
     "shell.execute_reply": "2023-12-28T03:39:59.335482Z"
    }
   },
   "outputs": [
    {
     "name": "stdout",
     "output_type": "stream",
     "text": [
      "inserting result finished\n"
     ]
    }
   ],
   "source": [
    "# Connect to the database\n",
    "connection = pymysql.connect(host=_conn_host,\n",
    "                             user=_conn_user,\n",
    "                             password=_conn_password,\n",
    "                             database=_conn_database,\n",
    "                             charset='utf8mb4',\n",
    "                             cursorclass=pymysql.cursors.DictCursor)\n",
    "\n",
    "cursor = connection.cursor()\n",
    "\n",
    "# inserting jobs into table mv result\n",
    "sql = \"call spInsertResultToMV(%s);\" \n",
    "# Executing query\n",
    "cursor.execute(sql,i_process_id)\n",
    "\n",
    "sql = \"update screen_analisis_ai set status = 3, end_process = now(), duration = TIMESTAMPDIFF(second,start_process, end_process) where id = %s\"\n",
    "# Executing query\n",
    "cursor.execute(sql,i_process_id)\n",
    "\n",
    "# commit changes\n",
    "connection.commit()\n",
    "connection.close()\n",
    "\n",
    "print('inserting result finished')\n",
    "\n"
   ]
  },
  {
   "cell_type": "markdown",
   "id": "attended-tooth",
   "metadata": {},
   "source": [
    "### Done Here ...\n",
    "1. Create data structure to record below things\n",
    "    Job Header\n",
    "    - JobID\n",
    "    - Similarity Treshold\n",
    "    - Dataset Parameter\n",
    "        - By User\n",
    "        - By Keyword\n",
    "    - Running time start\n",
    "    - Running time end\n",
    "    \n",
    "    Dataset Result\n",
    "        - base_tweet\n",
    "        - cosine_matrix\n",
    "        \n",
    "2. Push the result data into RDBMS Server, in this case is mySQL\n",
    "    - upload csv file to mySQL\n",
    "    - import to database\n",
    "  \n",
    "Entry on crontab\n",
    "* * * * * /home/haviz/ai-project/tweet-grouping/run_one.sh >> /home/haviz/ai-project/tweet_gorup.log 2>&1"
   ]
  },
  {
   "cell_type": "code",
   "execution_count": 17,
   "id": "saving-technique",
   "metadata": {
    "editable": true,
    "execution": {
     "iopub.execute_input": "2023-12-28T03:39:59.340771Z",
     "iopub.status.busy": "2023-12-28T03:39:59.340051Z",
     "iopub.status.idle": "2023-12-28T03:40:09.353672Z",
     "shell.execute_reply": "2023-12-28T03:40:09.352987Z"
    },
    "slideshow": {
     "slide_type": ""
    },
    "tags": []
   },
   "outputs": [],
   "source": [
    "# Wait 10 sec before release\n",
    "time.sleep(10)"
   ]
  }
 ],
 "metadata": {
  "kernelspec": {
   "display_name": "Python 3",
   "language": "python",
   "name": "python3"
  },
  "language_info": {
   "codemirror_mode": {
    "name": "ipython",
    "version": 3
   },
   "file_extension": ".py",
   "mimetype": "text/x-python",
   "name": "python",
   "nbconvert_exporter": "python",
   "pygments_lexer": "ipython3",
   "version": "3.6.8"
  }
 },
 "nbformat": 4,
 "nbformat_minor": 5
}
