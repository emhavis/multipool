{
 "cells": [
  {
   "cell_type": "markdown",
   "id": "dc88b042-9d24-48fc-94a3-6009b4951e7b",
   "metadata": {},
   "source": [
    "# Multipool Google Sentiment Analysis\n",
    "\n",
    "this function will get data from google_result table\n",
    "and calculate the sentiment analysis. Result is store in google_result_sentiment\n",
    "\n",
    "crontab command\n",
    "* * * * * /home/haviz/multipool/ai-case-study/run-ai-sa-google.sh >> /home/haviz/multipool/ai-sa-google.log\n",
    "\n"
   ]
  },
  {
   "cell_type": "code",
   "execution_count": 1,
   "id": "39d0afb3-cd43-479c-a645-5eb16d589ba4",
   "metadata": {
    "execution": {
     "iopub.execute_input": "2024-03-12T22:19:03.531842Z",
     "iopub.status.busy": "2024-03-12T22:19:03.531369Z",
     "iopub.status.idle": "2024-03-12T22:19:09.877412Z",
     "shell.execute_reply": "2024-03-12T22:19:09.876712Z"
    }
   },
   "outputs": [],
   "source": [
    "import numpy as np\n",
    "import pandas as pd\n",
    "import seaborn as sn\n",
    "import matplotlib.pyplot as plt\n",
    "import pymysql.cursors\n",
    "import sqlalchemy as sa\n",
    "import nltk\n",
    "import string\n",
    "import os\n",
    "\n",
    "from nltk.corpus import stopwords \n",
    "from sqlalchemy import create_engine, Column, Integer, String, MetaData, Table\n",
    "from sqlalchemy.sql import text\n",
    "from sqlalchemy.orm import sessionmaker\n",
    "import pandas as pd\n",
    "\n",
    "# nltk.download('stopwords')\n",
    "\n",
    "\n",
    "os.environ['TF_CPP_MIN_LOG_LEVEL'] = '2'\n",
    "\n",
    "# Use a pipeline as a high-level helper\n",
    "from transformers import pipeline\n",
    "pipe = pipeline(\"text-classification\", model=\"ayameRushia/bert-base-indonesian-1.5G-sentiment-analysis-smsa\")"
   ]
  },
  {
   "cell_type": "code",
   "execution_count": 2,
   "id": "ec64d1af-b458-4c9e-9762-1d3d780b616f",
   "metadata": {
    "execution": {
     "iopub.execute_input": "2024-03-12T22:19:09.881214Z",
     "iopub.status.busy": "2024-03-12T22:19:09.880416Z",
     "iopub.status.idle": "2024-03-12T22:19:09.887617Z",
     "shell.execute_reply": "2024-03-12T22:19:09.887043Z"
    }
   },
   "outputs": [],
   "source": [
    "from sqlalchemy.util import deprecations\n",
    "deprecations.SILENCE_UBER_WARNING = True\n",
    "\n",
    "def execute_query(query, params=None):\n",
    "    # Set your PostgreSQL connection parameters\n",
    "    db_params = {\n",
    "        'host': '98.98.117.105',\n",
    "        'port': '5432',\n",
    "        'database': 'medols',\n",
    "        'user': 'postgres',\n",
    "        'password': 'FEWcTB3JIX5gK4T06c1MdkM9N2S8w9pb',\n",
    "    }\n",
    "\n",
    "    # Create a SQLAlchemy engine\n",
    "    engine = create_engine(f\"postgresql+psycopg2://{db_params['user']}:{db_params['password']}@{db_params['host']}:{db_params['port']}/{db_params['database']}\")\n",
    "\n",
    "    # Create a metadata object\n",
    "    metadata = MetaData()\n",
    "\n",
    "    # Example: Define your table\n",
    "    your_table = Table('your_table', metadata,\n",
    "                       Column('id', Integer, primary_key=True),\n",
    "                       Column('column1', String),\n",
    "                       Column('column2', String)\n",
    "                       )\n",
    "\n",
    "    # Create a session\n",
    "    Session = sessionmaker(bind=engine)\n",
    "    session = Session()\n",
    "\n",
    "    try:\n",
    "        # Execute the query with optional parameters\n",
    "        result = session.execute(text(query), params)\n",
    "\n",
    "        # Check if the query is a SELECT query\n",
    "        is_select_query = result.returns_rows\n",
    "\n",
    "        if is_select_query:\n",
    "            # Fetch the data and return as a Pandas DataFrame\n",
    "            columns = result.keys()\n",
    "            fetched_data = result.fetchall()\n",
    "            df = pd.DataFrame(fetched_data, columns=columns)\n",
    "            # print(\"Fetched Data as DataFrame:\")\n",
    "            # print(df)\n",
    "            return df\n",
    "        else:\n",
    "            # Get the number of rows affected for non-SELECT queries\n",
    "            rows_affected = result.rowcount\n",
    "\n",
    "            # Commit the changes to the database for non-SELECT queries\n",
    "            session.commit()\n",
    "\n",
    "            print(f\"Query executed successfully. {rows_affected} rows affected.\")\n",
    "            return rows_affected\n",
    "    except Exception as e:\n",
    "        # Rollback changes if there's an error\n",
    "        session.rollback()\n",
    "        print(f\"Error executing query: {e}\")\n",
    "    finally:\n",
    "        # Close the session\n",
    "        session.close()"
   ]
  },
  {
   "cell_type": "code",
   "execution_count": 3,
   "id": "97cf0378-4165-46bd-abc9-05c3a9fe18ba",
   "metadata": {
    "execution": {
     "iopub.execute_input": "2024-03-12T22:19:09.890227Z",
     "iopub.status.busy": "2024-03-12T22:19:09.889742Z",
     "iopub.status.idle": "2024-03-12T22:19:09.895539Z",
     "shell.execute_reply": "2024-03-12T22:19:09.894956Z"
    }
   },
   "outputs": [],
   "source": [
    "import pandas as pd\n",
    "import re\n",
    "from sqlalchemy import create_engine\n",
    "\n",
    "def stemming(comment):\n",
    "    factory = StemmerFactory()\n",
    "    stemmer = factory.create_stemmer()\n",
    "    do = []\n",
    "    for w in comment:\n",
    "        dt = stemmer.stem(w)\n",
    "        do.append(dt)\n",
    "    d_clean = []\n",
    "    d_clean = \" \".join(do)\n",
    "    return d_clean\n",
    "    \n",
    "# function case folding\n",
    "def casefolding(comment):\n",
    "    comment = comment.lower()\n",
    "    comment = comment.strip(\" \")\n",
    "    comment = re.sub(r'[?|$|.|!_:\")(-+,]','',comment)\n",
    "    return comment\n",
    "\n",
    "def clean_up_tag(comment):\n",
    "    x_ret = ' '.join(re.sub(\"(@[A-Za-z0-9]+)|([^0-9A-Za-z \\t])|(\\w+:\\/\\/\\S+)\",\" \",comment).split())\n",
    "    return x_ret\n",
    "\n",
    "# Text Preprocessing, \n",
    "def text_preproc(strIn):\n",
    "    # case folding\n",
    "    strOut = strIn.lower()\n",
    "    \n",
    "    # remove numbers\n",
    "    strOut = re.sub(r\"\\d+\", \"\", strOut)\n",
    "    \n",
    "    # remote punctuation\n",
    "    strOut = strOut.translate(str.maketrans(\"\",\"\",string.punctuation))\n",
    "    \n",
    "    # remove whitspace\n",
    "    strOut = strOut.strip()\n",
    "    \n",
    "    # \n",
    "    strOut = re.sub('\\s+',' ',strOut)\n",
    "    return strOut"
   ]
  },
  {
   "cell_type": "code",
   "execution_count": 4,
   "id": "438a292a-3e97-4161-bcaf-1887c838ae1f",
   "metadata": {
    "execution": {
     "iopub.execute_input": "2024-03-12T22:19:09.898086Z",
     "iopub.status.busy": "2024-03-12T22:19:09.897876Z",
     "iopub.status.idle": "2024-03-12T22:19:09.907757Z",
     "shell.execute_reply": "2024-03-12T22:19:09.907203Z"
    }
   },
   "outputs": [],
   "source": [
    "def process_by_df(source_ds, col_name):\n",
    "    from tqdm import tqdm\n",
    "    pd.options.mode.chained_assignment = None \n",
    "    \n",
    "    # trim to 2500 character\n",
    "    source_ds[col_name] = source_ds[col_name].str.slice(0,2000)\n",
    "\n",
    "    # skip stemming\n",
    "    source_ds['stemmed'] = source_ds[col_name].apply(clean_up_tag)\n",
    "    source_ds['stemmed'] = source_ds['stemmed'].apply(casefolding)\n",
    "    source_ds['stemmed'] = source_ds['stemmed'].apply(text_preproc)\n",
    "\n",
    "    sw = stopwords.words('indonesian')\n",
    "    #tokenized\n",
    "    source_ds['tokenized_tweet'] = source_ds.apply(lambda row: nltk.word_tokenize(row['stemmed']), axis=1)\n",
    "\n",
    "    # apply stopword removal\n",
    "    source_ds['tokenized_tweet'] = source_ds.apply(lambda row: {w for w in row['tokenized_tweet'] if not w in sw}, axis=1)\n",
    "    sw = stopwords.words('indonesian')\n",
    "\n",
    "    #tokenized\n",
    "    source_ds['tokenized_tweet'] = source_ds.apply(lambda row: nltk.word_tokenize(row['stemmed']), axis=1)\n",
    "\n",
    "    # apply stopword removal\n",
    "    source_ds['tokenized_tweet'] = source_ds.apply(lambda row: {w for w in row['tokenized_tweet'] if not w in sw}, axis=1)\n",
    "\n",
    "    # Notes on return sentiment values\n",
    "    # 1 >> positif >> stay\n",
    "    # 2 >> negatif >> convert to -1\n",
    "    # 0 >> netral >> stay\n",
    "\n",
    "    # Create a new list and insert each element from the original list\n",
    "    from tqdm import tqdm\n",
    "\n",
    "    list_text = source_ds['stemmed'].tolist()\n",
    "    new_list = []\n",
    "    for i in tqdm(range( len(list_text) )):\n",
    "        # print(len(list_text[i]))\n",
    "        try:\n",
    "            if len(list_text[i]) > 0:\n",
    "                res = pipe( list_text[i] )\n",
    "                new_list.append(res)\n",
    "            else:\n",
    "                res = pipe( 'kalimat netral' )\n",
    "                new_list.append(res)\n",
    "                zip\n",
    "        except Exception as e:\n",
    "            # Handle the exception (error) here\n",
    "            print(f\"Error processing value at index {i}: {list_text[i]}\")\n",
    "            print(f\"Error message: {str(e)}\")\n",
    "            res = pipe( 'kalimat netral' )\n",
    "            new_list.append(res)      \n",
    "            \n",
    "            continue\n",
    "\n",
    "    # Notes on return sentiment values\n",
    "    # 1 >> positif >> stay\n",
    "    # 2 >> negatif >> convert to -1\n",
    "    # 0 >> netral >> stay\n",
    "    # create a list of our conditions\n",
    "    for i in range(0, len(new_list)):\n",
    "        # print(new_list[i][0]['label'])\n",
    "        if new_list[i][0]['label'] == 'Positive':\n",
    "            new_list[i][0]['Value'] = 1\n",
    "        elif new_list[i][0]['label'] == 'Negative':\n",
    "            new_list[i][0]['Value'] = -1\n",
    "        elif new_list[i][0]['label'] == 'Neutral':\n",
    "            new_list[i][0]['Value'] = 0\n",
    "\n",
    "    for index, row in source_ds.iterrows():\n",
    "        source_ds.at[index,'Prediction'] = new_list[index][0]['label']\n",
    "\n",
    "    for index, row in source_ds.iterrows():\n",
    "        source_ds.at[index,'Prediction'] = new_list[index][0]['label']\n",
    "        source_ds.at[index,'Score'] = new_list[index][0]['score']\n",
    "        #source_ds.at[index,'Score'] = new_list[index][0]['Value']\n",
    "        \n",
    "    return source_ds\n"
   ]
  },
  {
   "cell_type": "code",
   "execution_count": 5,
   "id": "325b5528-6ca4-411d-9b57-069e3a6d3a25",
   "metadata": {
    "execution": {
     "iopub.execute_input": "2024-03-12T22:19:09.910271Z",
     "iopub.status.busy": "2024-03-12T22:19:09.909805Z",
     "iopub.status.idle": "2024-03-12T22:19:10.020243Z",
     "shell.execute_reply": "2024-03-12T22:19:10.019668Z"
    }
   },
   "outputs": [],
   "source": [
    "# query 400 rows of data query data from table\n",
    "select_query = \"select * \\\n",
    "from news_national_medol gr \\\n",
    "where id not in (select news_national_medol_id from news_national_medol_sentiment) \\\n",
    "order by id desc limit 500\"\n",
    "\n",
    "source_ds = execute_query(select_query)\n",
    "\n",
    "if len(source_ds) == 0:\n",
    "    # get out, nothing to do\n",
    "    print('Zero jobs, quitting now')\n",
    "    quit()\n",
    "    \n",
    "# source_ds.head()"
   ]
  },
  {
   "cell_type": "code",
   "execution_count": 6,
   "id": "5a9fe7d0-c005-45ad-8291-16c8bd9f7dbf",
   "metadata": {
    "execution": {
     "iopub.execute_input": "2024-03-12T22:19:10.022769Z",
     "iopub.status.busy": "2024-03-12T22:19:10.022351Z",
     "iopub.status.idle": "2024-03-12T22:19:11.465282Z",
     "shell.execute_reply": "2024-03-12T22:19:11.464633Z"
    }
   },
   "outputs": [
    {
     "name": "stderr",
     "output_type": "stream",
     "text": [
      "\r",
      "  0%|          | 0/50 [00:00<?, ?it/s]"
     ]
    },
    {
     "name": "stderr",
     "output_type": "stream",
     "text": [
      "\r",
      "  8%|▊         | 4/50 [00:00<00:01, 34.38it/s]"
     ]
    },
    {
     "name": "stderr",
     "output_type": "stream",
     "text": [
      "\r",
      " 16%|█▌        | 8/50 [00:00<00:01, 34.73it/s]"
     ]
    },
    {
     "name": "stderr",
     "output_type": "stream",
     "text": [
      "\r",
      " 24%|██▍       | 12/50 [00:00<00:01, 34.72it/s]"
     ]
    },
    {
     "name": "stderr",
     "output_type": "stream",
     "text": [
      "\r",
      " 34%|███▍      | 17/50 [00:00<00:00, 37.14it/s]"
     ]
    },
    {
     "name": "stderr",
     "output_type": "stream",
     "text": [
      "\r",
      " 42%|████▏     | 21/50 [00:00<00:00, 36.55it/s]"
     ]
    },
    {
     "name": "stderr",
     "output_type": "stream",
     "text": [
      "\r",
      " 50%|█████     | 25/50 [00:00<00:00, 37.51it/s]"
     ]
    },
    {
     "name": "stderr",
     "output_type": "stream",
     "text": [
      "\r",
      " 58%|█████▊    | 29/50 [00:00<00:00, 37.61it/s]"
     ]
    },
    {
     "name": "stderr",
     "output_type": "stream",
     "text": [
      "\r",
      " 66%|██████▌   | 33/50 [00:00<00:00, 37.63it/s]"
     ]
    },
    {
     "name": "stderr",
     "output_type": "stream",
     "text": [
      "\r",
      " 74%|███████▍  | 37/50 [00:01<00:00, 36.49it/s]"
     ]
    },
    {
     "name": "stderr",
     "output_type": "stream",
     "text": [
      "\r",
      " 82%|████████▏ | 41/50 [00:01<00:00, 34.30it/s]"
     ]
    },
    {
     "name": "stderr",
     "output_type": "stream",
     "text": [
      "\r",
      " 90%|█████████ | 45/50 [00:01<00:00, 35.53it/s]"
     ]
    },
    {
     "name": "stderr",
     "output_type": "stream",
     "text": [
      "\r",
      " 98%|█████████▊| 49/50 [00:01<00:00, 34.31it/s]"
     ]
    },
    {
     "name": "stderr",
     "output_type": "stream",
     "text": [
      "\r",
      "100%|██████████| 50/50 [00:01<00:00, 35.81it/s]"
     ]
    },
    {
     "name": "stderr",
     "output_type": "stream",
     "text": [
      "\n"
     ]
    }
   ],
   "source": [
    "ds_title = source_ds\n",
    "res_ds = process_by_df(ds_title,'title')"
   ]
  },
  {
   "cell_type": "code",
   "execution_count": 7,
   "id": "4d30b8a9-31bc-4bd6-a4da-7484686cac4b",
   "metadata": {
    "execution": {
     "iopub.execute_input": "2024-03-12T22:19:11.468239Z",
     "iopub.status.busy": "2024-03-12T22:19:11.467684Z",
     "iopub.status.idle": "2024-03-12T22:19:11.487623Z",
     "shell.execute_reply": "2024-03-12T22:19:11.487060Z"
    }
   },
   "outputs": [
    {
     "data": {
      "text/html": [
       "<div>\n",
       "<style scoped>\n",
       "    .dataframe tbody tr th:only-of-type {\n",
       "        vertical-align: middle;\n",
       "    }\n",
       "\n",
       "    .dataframe tbody tr th {\n",
       "        vertical-align: top;\n",
       "    }\n",
       "\n",
       "    .dataframe thead th {\n",
       "        text-align: right;\n",
       "    }\n",
       "</style>\n",
       "<table border=\"1\" class=\"dataframe\">\n",
       "  <thead>\n",
       "    <tr style=\"text-align: right;\">\n",
       "      <th></th>\n",
       "      <th>id</th>\n",
       "      <th>title</th>\n",
       "      <th>content</th>\n",
       "      <th>publish_date</th>\n",
       "      <th>publisher</th>\n",
       "      <th>source</th>\n",
       "      <th>search_url</th>\n",
       "      <th>created_date</th>\n",
       "      <th>national_medol_id</th>\n",
       "      <th>is_polri</th>\n",
       "      <th>reporter</th>\n",
       "      <th>editor</th>\n",
       "      <th>is_deleted</th>\n",
       "      <th>stemmed</th>\n",
       "      <th>tokenized_tweet</th>\n",
       "      <th>Prediction</th>\n",
       "      <th>Score</th>\n",
       "    </tr>\n",
       "  </thead>\n",
       "  <tbody>\n",
       "    <tr>\n",
       "      <th>0</th>\n",
       "      <td>22842</td>\n",
       "      <td>Terkendala Cuaca, Pencarian WNA Asal Taiwan Ko...</td>\n",
       "      <td>JAKARTA - Tim SAR masih terus melakukan penc...</td>\n",
       "      <td>Rabu 13 Maret 2024 00:18 WIB</td>\n",
       "      <td></td>\n",
       "      <td>https://www.okezone.com/</td>\n",
       "      <td>https://megapolitan.okezone.com/read/2024/03/1...</td>\n",
       "      <td>2024-03-13 05:13:23.238687</td>\n",
       "      <td>11</td>\n",
       "      <td>False</td>\n",
       "      <td></td>\n",
       "      <td>Riyan Rizki Roshali</td>\n",
       "      <td>False</td>\n",
       "      <td>terkendala cuaca pencarian wna asal taiwan kor...</td>\n",
       "      <td>{dilanjutkan, wna, taiwan, parikudus, pagi, ko...</td>\n",
       "      <td>Neutral</td>\n",
       "      <td>0.999700</td>\n",
       "    </tr>\n",
       "    <tr>\n",
       "      <th>1</th>\n",
       "      <td>22841</td>\n",
       "      <td>Polisi Amankan 4 Remaja Perang Sarung di Kota ...</td>\n",
       "      <td>BOGOR - Polisi mengamankan 4 remaja yang mela...</td>\n",
       "      <td>Rabu 13 Maret 2024 00:22 WIB</td>\n",
       "      <td></td>\n",
       "      <td>https://www.okezone.com/</td>\n",
       "      <td>https://megapolitan.okezone.com/read/2024/03/1...</td>\n",
       "      <td>2024-03-13 05:13:23.233424</td>\n",
       "      <td>11</td>\n",
       "      <td>False</td>\n",
       "      <td></td>\n",
       "      <td>Putra Ramadhani Astyawan</td>\n",
       "      <td>False</td>\n",
       "      <td>polisi amankan remaja perang sarung di kota bogor</td>\n",
       "      <td>{perang, sarung, kota, amankan, remaja, polisi...</td>\n",
       "      <td>Neutral</td>\n",
       "      <td>0.999717</td>\n",
       "    </tr>\n",
       "    <tr>\n",
       "      <th>2</th>\n",
       "      <td>22840</td>\n",
       "      <td>Rapat Bareng DPR, KPU Siap Beri Penjelasan Pel...</td>\n",
       "      <td>JAKARTA - Komisi Pemilihan Umum (KPU) membena...</td>\n",
       "      <td>Rabu 13 Maret 2024 00:28 WIB</td>\n",
       "      <td></td>\n",
       "      <td>https://www.okezone.com/</td>\n",
       "      <td>https://nasional.okezone.com/read/2024/03/13/3...</td>\n",
       "      <td>2024-03-13 05:13:23.230825</td>\n",
       "      <td>11</td>\n",
       "      <td>False</td>\n",
       "      <td></td>\n",
       "      <td>Felldy Utama</td>\n",
       "      <td>False</td>\n",
       "      <td>rapat bareng dpr kpu siap beri penjelasan pela...</td>\n",
       "      <td>{pemilu, kpu, bareng, penjelasan, dpr, pelaksa...</td>\n",
       "      <td>Neutral</td>\n",
       "      <td>0.999737</td>\n",
       "    </tr>\n",
       "    <tr>\n",
       "      <th>3</th>\n",
       "      <td>22839</td>\n",
       "      <td>Aksi Geng Motor Keroyok hingga Bacok Warga di ...</td>\n",
       "      <td>BANDUNG - Sekelompok orang yang diduga anggo...</td>\n",
       "      <td>Rabu 13 Maret 2024 00:45 WIB</td>\n",
       "      <td></td>\n",
       "      <td>https://www.okezone.com/</td>\n",
       "      <td>https://news.okezone.com/read/2024/03/13/525/2...</td>\n",
       "      <td>2024-03-13 05:13:23.226262</td>\n",
       "      <td>11</td>\n",
       "      <td>False</td>\n",
       "      <td></td>\n",
       "      <td>Agi Ilman</td>\n",
       "      <td>False</td>\n",
       "      <td>aksi geng motor keroyok hingga bacok warga di ...</td>\n",
       "      <td>{motor, diamankan, keroyok, soreang, geng, aks...</td>\n",
       "      <td>Neutral</td>\n",
       "      <td>0.999613</td>\n",
       "    </tr>\n",
       "    <tr>\n",
       "      <th>4</th>\n",
       "      <td>22838</td>\n",
       "      <td>Didukung Mayoritas Fraksi, Baleg Yakin RUU DKJ...</td>\n",
       "      <td>JAKARTA - Anggota Badan Legislasi (Baleg) DPR...</td>\n",
       "      <td>Rabu 13 Maret 2024 01:01 WIB</td>\n",
       "      <td></td>\n",
       "      <td>https://www.okezone.com/</td>\n",
       "      <td>https://nasional.okezone.com/read/2024/03/13/3...</td>\n",
       "      <td>2024-03-13 05:13:23.223574</td>\n",
       "      <td>11</td>\n",
       "      <td>False</td>\n",
       "      <td></td>\n",
       "      <td>Felldy Utama</td>\n",
       "      <td>False</td>\n",
       "      <td>didukung mayoritas fraksi baleg yakin ruu dkj ...</td>\n",
       "      <td>{ruu, rampung, mayoritas, fraksi, baleg, dibah...</td>\n",
       "      <td>Neutral</td>\n",
       "      <td>0.998750</td>\n",
       "    </tr>\n",
       "  </tbody>\n",
       "</table>\n",
       "</div>"
      ],
      "text/plain": [
       "      id                                              title  \\\n",
       "0  22842  Terkendala Cuaca, Pencarian WNA Asal Taiwan Ko...   \n",
       "1  22841  Polisi Amankan 4 Remaja Perang Sarung di Kota ...   \n",
       "2  22840  Rapat Bareng DPR, KPU Siap Beri Penjelasan Pel...   \n",
       "3  22839  Aksi Geng Motor Keroyok hingga Bacok Warga di ...   \n",
       "4  22838  Didukung Mayoritas Fraksi, Baleg Yakin RUU DKJ...   \n",
       "\n",
       "                                             content  \\\n",
       "0    JAKARTA - Tim SAR masih terus melakukan penc...   \n",
       "1   BOGOR - Polisi mengamankan 4 remaja yang mela...   \n",
       "2   JAKARTA - Komisi Pemilihan Umum (KPU) membena...   \n",
       "3    BANDUNG - Sekelompok orang yang diduga anggo...   \n",
       "4   JAKARTA - Anggota Badan Legislasi (Baleg) DPR...   \n",
       "\n",
       "                   publish_date publisher                    source  \\\n",
       "0  Rabu 13 Maret 2024 00:18 WIB            https://www.okezone.com/   \n",
       "1  Rabu 13 Maret 2024 00:22 WIB            https://www.okezone.com/   \n",
       "2  Rabu 13 Maret 2024 00:28 WIB            https://www.okezone.com/   \n",
       "3  Rabu 13 Maret 2024 00:45 WIB            https://www.okezone.com/   \n",
       "4  Rabu 13 Maret 2024 01:01 WIB            https://www.okezone.com/   \n",
       "\n",
       "                                          search_url  \\\n",
       "0  https://megapolitan.okezone.com/read/2024/03/1...   \n",
       "1  https://megapolitan.okezone.com/read/2024/03/1...   \n",
       "2  https://nasional.okezone.com/read/2024/03/13/3...   \n",
       "3  https://news.okezone.com/read/2024/03/13/525/2...   \n",
       "4  https://nasional.okezone.com/read/2024/03/13/3...   \n",
       "\n",
       "                created_date  national_medol_id  is_polri reporter  \\\n",
       "0 2024-03-13 05:13:23.238687                 11     False            \n",
       "1 2024-03-13 05:13:23.233424                 11     False            \n",
       "2 2024-03-13 05:13:23.230825                 11     False            \n",
       "3 2024-03-13 05:13:23.226262                 11     False            \n",
       "4 2024-03-13 05:13:23.223574                 11     False            \n",
       "\n",
       "                     editor  is_deleted  \\\n",
       "0       Riyan Rizki Roshali       False   \n",
       "1  Putra Ramadhani Astyawan       False   \n",
       "2              Felldy Utama       False   \n",
       "3                 Agi Ilman       False   \n",
       "4              Felldy Utama       False   \n",
       "\n",
       "                                             stemmed  \\\n",
       "0  terkendala cuaca pencarian wna asal taiwan kor...   \n",
       "1  polisi amankan remaja perang sarung di kota bogor   \n",
       "2  rapat bareng dpr kpu siap beri penjelasan pela...   \n",
       "3  aksi geng motor keroyok hingga bacok warga di ...   \n",
       "4  didukung mayoritas fraksi baleg yakin ruu dkj ...   \n",
       "\n",
       "                                     tokenized_tweet Prediction     Score  \n",
       "0  {dilanjutkan, wna, taiwan, parikudus, pagi, ko...    Neutral  0.999700  \n",
       "1  {perang, sarung, kota, amankan, remaja, polisi...    Neutral  0.999717  \n",
       "2  {pemilu, kpu, bareng, penjelasan, dpr, pelaksa...    Neutral  0.999737  \n",
       "3  {motor, diamankan, keroyok, soreang, geng, aks...    Neutral  0.999613  \n",
       "4  {ruu, rampung, mayoritas, fraksi, baleg, dibah...    Neutral  0.998750  "
      ]
     },
     "execution_count": 7,
     "metadata": {},
     "output_type": "execute_result"
    }
   ],
   "source": [
    "res_ds.head()"
   ]
  },
  {
   "cell_type": "code",
   "execution_count": 8,
   "id": "c5d92f04-856f-49d7-ac4c-b10fb4516774",
   "metadata": {
    "execution": {
     "iopub.execute_input": "2024-03-12T22:19:11.490114Z",
     "iopub.status.busy": "2024-03-12T22:19:11.489728Z",
     "iopub.status.idle": "2024-03-12T22:19:12.291274Z",
     "shell.execute_reply": "2024-03-12T22:19:12.290641Z"
    }
   },
   "outputs": [
    {
     "name": "stdout",
     "output_type": "stream",
     "text": [
      "Query executed successfully. 1 rows affected.\n",
      "Query executed successfully. 1 rows affected.\n",
      "Query executed successfully. 1 rows affected.\n",
      "Query executed successfully. 1 rows affected.\n",
      "Query executed successfully. 1 rows affected.\n",
      "Query executed successfully. 1 rows affected.\n",
      "Query executed successfully. 1 rows affected.\n",
      "Query executed successfully. 1 rows affected.\n",
      "Query executed successfully. 1 rows affected.\n",
      "Query executed successfully. 1 rows affected.\n",
      "Query executed successfully. 1 rows affected.\n",
      "Query executed successfully. 1 rows affected.\n",
      "Query executed successfully. 1 rows affected.\n",
      "Query executed successfully. 1 rows affected.\n"
     ]
    },
    {
     "name": "stdout",
     "output_type": "stream",
     "text": [
      "Query executed successfully. 1 rows affected.\n",
      "Query executed successfully. 1 rows affected.\n",
      "Query executed successfully. 1 rows affected.\n",
      "Query executed successfully. 1 rows affected.\n",
      "Query executed successfully. 1 rows affected.\n",
      "Query executed successfully. 1 rows affected.\n",
      "Query executed successfully. 1 rows affected.\n",
      "Query executed successfully. 1 rows affected.\n",
      "Query executed successfully. 1 rows affected.\n",
      "Query executed successfully. 1 rows affected.\n",
      "Query executed successfully. 1 rows affected.\n",
      "Query executed successfully. 1 rows affected.\n",
      "Query executed successfully. 1 rows affected.\n"
     ]
    },
    {
     "name": "stdout",
     "output_type": "stream",
     "text": [
      "Query executed successfully. 1 rows affected.\n",
      "Query executed successfully. 1 rows affected.\n",
      "Query executed successfully. 1 rows affected.\n",
      "Query executed successfully. 1 rows affected.\n",
      "Query executed successfully. 1 rows affected.\n",
      "Query executed successfully. 1 rows affected.\n",
      "Query executed successfully. 1 rows affected.\n",
      "Query executed successfully. 1 rows affected.\n",
      "Query executed successfully. 1 rows affected.\n",
      "Query executed successfully. 1 rows affected.\n",
      "Query executed successfully. 1 rows affected.\n",
      "Query executed successfully. 1 rows affected.\n",
      "Query executed successfully. 1 rows affected.\n"
     ]
    },
    {
     "name": "stdout",
     "output_type": "stream",
     "text": [
      "Query executed successfully. 1 rows affected.\n",
      "Query executed successfully. 1 rows affected.\n",
      "Query executed successfully. 1 rows affected.\n",
      "Query executed successfully. 1 rows affected.\n",
      "Query executed successfully. 1 rows affected.\n",
      "Query executed successfully. 1 rows affected.\n",
      "Query executed successfully. 1 rows affected.\n",
      "Query executed successfully. 1 rows affected.\n",
      "Query executed successfully. 1 rows affected.\n",
      "Query executed successfully. 1 rows affected.\n"
     ]
    }
   ],
   "source": [
    "# record result\n",
    "sentiment_class = 0\n",
    "\n",
    "# INSERT INTO public.news_national_medol_sentiment (sentiment_category, score, news_national_medol_id) VALUES( 0, 0, 0);\n",
    "\n",
    "for index, row in res_ds.iterrows():\n",
    "    if row['Prediction'] == 'Positive':\n",
    "        sentiment_class = 1\n",
    "    elif row['Prediction'] == 'Negative':\n",
    "        sentiment_class = -1\n",
    "    else:\n",
    "        sentiment_class = 0\n",
    "        \n",
    "    sql = \"INSERT INTO news_national_medol_sentiment (sentiment_category, score, news_national_medol_id) VALUES(%s, %s, %s);\" % (sentiment_class,row['Score'],row['id']) \n",
    "    # print(sql)\n",
    "    execute_query(sql)"
   ]
  },
  {
   "cell_type": "code",
   "execution_count": 9,
   "id": "67f357c0-df61-4855-9dfe-f28e94536a50",
   "metadata": {
    "execution": {
     "iopub.execute_input": "2024-03-12T22:19:12.294221Z",
     "iopub.status.busy": "2024-03-12T22:19:12.293764Z",
     "iopub.status.idle": "2024-03-12T22:19:17.891812Z",
     "shell.execute_reply": "2024-03-12T22:19:17.891167Z"
    }
   },
   "outputs": [
    {
     "name": "stderr",
     "output_type": "stream",
     "text": [
      "\r",
      "  0%|          | 0/50 [00:00<?, ?it/s]"
     ]
    },
    {
     "name": "stderr",
     "output_type": "stream",
     "text": [
      "\r",
      "  2%|▏         | 1/50 [00:00<00:09,  5.34it/s]"
     ]
    },
    {
     "name": "stderr",
     "output_type": "stream",
     "text": [
      "\r",
      "  6%|▌         | 3/50 [00:00<00:05,  8.67it/s]"
     ]
    },
    {
     "name": "stderr",
     "output_type": "stream",
     "text": [
      "\r",
      "  8%|▊         | 4/50 [00:00<00:05,  7.86it/s]"
     ]
    },
    {
     "name": "stderr",
     "output_type": "stream",
     "text": [
      "\r",
      " 12%|█▏        | 6/50 [00:00<00:04,  8.87it/s]"
     ]
    },
    {
     "name": "stderr",
     "output_type": "stream",
     "text": [
      "\r",
      " 14%|█▍        | 7/50 [00:00<00:05,  8.23it/s]"
     ]
    },
    {
     "name": "stderr",
     "output_type": "stream",
     "text": [
      "\r",
      " 16%|█▌        | 8/50 [00:00<00:04,  8.45it/s]"
     ]
    },
    {
     "name": "stderr",
     "output_type": "stream",
     "text": [
      "\r",
      " 18%|█▊        | 9/50 [00:01<00:04,  8.37it/s]"
     ]
    },
    {
     "name": "stderr",
     "output_type": "stream",
     "text": [
      "\r",
      " 20%|██        | 10/50 [00:01<00:04,  8.24it/s]"
     ]
    },
    {
     "name": "stderr",
     "output_type": "stream",
     "text": [
      "\r",
      " 22%|██▏       | 11/50 [00:01<00:04,  8.28it/s]"
     ]
    },
    {
     "name": "stderr",
     "output_type": "stream",
     "text": [
      "\r",
      " 24%|██▍       | 12/50 [00:01<00:04,  8.33it/s]"
     ]
    },
    {
     "name": "stderr",
     "output_type": "stream",
     "text": [
      "\r",
      " 28%|██▊       | 14/50 [00:01<00:03,  9.56it/s]"
     ]
    },
    {
     "name": "stderr",
     "output_type": "stream",
     "text": [
      "\r",
      " 30%|███       | 15/50 [00:01<00:03,  9.30it/s]"
     ]
    },
    {
     "name": "stderr",
     "output_type": "stream",
     "text": [
      "\r",
      " 32%|███▏      | 16/50 [00:01<00:03,  9.29it/s]"
     ]
    },
    {
     "name": "stderr",
     "output_type": "stream",
     "text": [
      "\r",
      " 34%|███▍      | 17/50 [00:01<00:03,  9.19it/s]"
     ]
    },
    {
     "name": "stderr",
     "output_type": "stream",
     "text": [
      "\r",
      " 36%|███▌      | 18/50 [00:02<00:03,  9.11it/s]"
     ]
    },
    {
     "name": "stderr",
     "output_type": "stream",
     "text": [
      "\r",
      " 38%|███▊      | 19/50 [00:02<00:03,  8.87it/s]"
     ]
    },
    {
     "name": "stderr",
     "output_type": "stream",
     "text": [
      "\r",
      " 42%|████▏     | 21/50 [00:02<00:02, 10.04it/s]"
     ]
    },
    {
     "name": "stderr",
     "output_type": "stream",
     "text": [
      "\r",
      " 46%|████▌     | 23/50 [00:02<00:02, 10.57it/s]"
     ]
    },
    {
     "name": "stderr",
     "output_type": "stream",
     "text": [
      "\r",
      " 50%|█████     | 25/50 [00:02<00:02,  9.94it/s]"
     ]
    },
    {
     "name": "stderr",
     "output_type": "stream",
     "text": [
      "\r",
      " 52%|█████▏    | 26/50 [00:02<00:02,  9.86it/s]"
     ]
    },
    {
     "name": "stderr",
     "output_type": "stream",
     "text": [
      "\r",
      " 54%|█████▍    | 27/50 [00:02<00:02,  9.89it/s]"
     ]
    },
    {
     "name": "stderr",
     "output_type": "stream",
     "text": [
      "\r",
      " 56%|█████▌    | 28/50 [00:03<00:02,  9.11it/s]"
     ]
    },
    {
     "name": "stderr",
     "output_type": "stream",
     "text": [
      "\r",
      " 60%|██████    | 30/50 [00:03<00:01, 11.50it/s]"
     ]
    },
    {
     "name": "stderr",
     "output_type": "stream",
     "text": [
      "\r",
      " 64%|██████▍   | 32/50 [00:03<00:01, 13.32it/s]"
     ]
    },
    {
     "name": "stderr",
     "output_type": "stream",
     "text": [
      "\r",
      " 68%|██████▊   | 34/50 [00:03<00:01, 11.57it/s]"
     ]
    },
    {
     "name": "stderr",
     "output_type": "stream",
     "text": [
      "\r",
      " 72%|███████▏  | 36/50 [00:03<00:01, 10.71it/s]"
     ]
    },
    {
     "name": "stderr",
     "output_type": "stream",
     "text": [
      "\r",
      " 76%|███████▌  | 38/50 [00:03<00:01, 10.39it/s]"
     ]
    },
    {
     "name": "stderr",
     "output_type": "stream",
     "text": [
      "\r",
      " 80%|████████  | 40/50 [00:04<00:00, 10.66it/s]"
     ]
    },
    {
     "name": "stderr",
     "output_type": "stream",
     "text": [
      "\r",
      " 84%|████████▍ | 42/50 [00:04<00:00, 10.37it/s]"
     ]
    },
    {
     "name": "stderr",
     "output_type": "stream",
     "text": [
      "\r",
      " 88%|████████▊ | 44/50 [00:04<00:00,  9.72it/s]"
     ]
    },
    {
     "name": "stderr",
     "output_type": "stream",
     "text": [
      "\r",
      " 92%|█████████▏| 46/50 [00:04<00:00,  9.31it/s]"
     ]
    },
    {
     "name": "stderr",
     "output_type": "stream",
     "text": [
      "\r",
      " 94%|█████████▍| 47/50 [00:04<00:00,  8.95it/s]"
     ]
    },
    {
     "name": "stderr",
     "output_type": "stream",
     "text": [
      "\r",
      " 96%|█████████▌| 48/50 [00:05<00:00,  8.56it/s]"
     ]
    },
    {
     "name": "stderr",
     "output_type": "stream",
     "text": [
      "\r",
      " 98%|█████████▊| 49/50 [00:05<00:00,  8.59it/s]"
     ]
    },
    {
     "name": "stderr",
     "output_type": "stream",
     "text": [
      "\r",
      "100%|██████████| 50/50 [00:05<00:00,  8.36it/s]"
     ]
    },
    {
     "name": "stderr",
     "output_type": "stream",
     "text": [
      "\r",
      "100%|██████████| 50/50 [00:05<00:00,  9.40it/s]"
     ]
    },
    {
     "name": "stderr",
     "output_type": "stream",
     "text": [
      "\n"
     ]
    }
   ],
   "source": [
    "ds_content = source_ds\n",
    "res_ds_content = process_by_df(ds_content,'content')"
   ]
  },
  {
   "cell_type": "code",
   "execution_count": 10,
   "id": "71b27044-32ec-4ca2-bbf6-b6f5e2522f73",
   "metadata": {
    "execution": {
     "iopub.execute_input": "2024-03-12T22:19:17.894655Z",
     "iopub.status.busy": "2024-03-12T22:19:17.894104Z",
     "iopub.status.idle": "2024-03-12T22:19:17.910128Z",
     "shell.execute_reply": "2024-03-12T22:19:17.909532Z"
    }
   },
   "outputs": [
    {
     "data": {
      "text/html": [
       "<div>\n",
       "<style scoped>\n",
       "    .dataframe tbody tr th:only-of-type {\n",
       "        vertical-align: middle;\n",
       "    }\n",
       "\n",
       "    .dataframe tbody tr th {\n",
       "        vertical-align: top;\n",
       "    }\n",
       "\n",
       "    .dataframe thead th {\n",
       "        text-align: right;\n",
       "    }\n",
       "</style>\n",
       "<table border=\"1\" class=\"dataframe\">\n",
       "  <thead>\n",
       "    <tr style=\"text-align: right;\">\n",
       "      <th></th>\n",
       "      <th>id</th>\n",
       "      <th>title</th>\n",
       "      <th>content</th>\n",
       "      <th>publish_date</th>\n",
       "      <th>publisher</th>\n",
       "      <th>source</th>\n",
       "      <th>search_url</th>\n",
       "      <th>created_date</th>\n",
       "      <th>national_medol_id</th>\n",
       "      <th>is_polri</th>\n",
       "      <th>reporter</th>\n",
       "      <th>editor</th>\n",
       "      <th>is_deleted</th>\n",
       "      <th>stemmed</th>\n",
       "      <th>tokenized_tweet</th>\n",
       "      <th>Prediction</th>\n",
       "      <th>Score</th>\n",
       "    </tr>\n",
       "  </thead>\n",
       "  <tbody>\n",
       "    <tr>\n",
       "      <th>0</th>\n",
       "      <td>22842</td>\n",
       "      <td>Terkendala Cuaca, Pencarian WNA Asal Taiwan Ko...</td>\n",
       "      <td>JAKARTA - Tim SAR masih terus melakukan penc...</td>\n",
       "      <td>Rabu 13 Maret 2024 00:18 WIB</td>\n",
       "      <td></td>\n",
       "      <td>https://www.okezone.com/</td>\n",
       "      <td>https://megapolitan.okezone.com/read/2024/03/1...</td>\n",
       "      <td>2024-03-13 05:13:23.238687</td>\n",
       "      <td>11</td>\n",
       "      <td>False</td>\n",
       "      <td></td>\n",
       "      <td>Riyan Rizki Roshali</td>\n",
       "      <td>False</td>\n",
       "      <td>jakarta tim sar masih terus melakukan pencaria...</td>\n",
       "      <td>{terbatas, asha, berhasil, unsur, desiana, kep...</td>\n",
       "      <td>Neutral</td>\n",
       "      <td>0.999182</td>\n",
       "    </tr>\n",
       "    <tr>\n",
       "      <th>1</th>\n",
       "      <td>22841</td>\n",
       "      <td>Polisi Amankan 4 Remaja Perang Sarung di Kota ...</td>\n",
       "      <td>BOGOR - Polisi mengamankan 4 remaja yang mela...</td>\n",
       "      <td>Rabu 13 Maret 2024 00:22 WIB</td>\n",
       "      <td></td>\n",
       "      <td>https://www.okezone.com/</td>\n",
       "      <td>https://megapolitan.okezone.com/read/2024/03/1...</td>\n",
       "      <td>2024-03-13 05:13:23.233424</td>\n",
       "      <td>11</td>\n",
       "      <td>False</td>\n",
       "      <td></td>\n",
       "      <td>Putra Ramadhani Astyawan</td>\n",
       "      <td>False</td>\n",
       "      <td>bogor polisi mengamankan remaja yang melakukan...</td>\n",
       "      <td>{tawuran, berhasil, hantam, wilayah, dm, klik,...</td>\n",
       "      <td>Neutral</td>\n",
       "      <td>0.997083</td>\n",
       "    </tr>\n",
       "    <tr>\n",
       "      <th>2</th>\n",
       "      <td>22840</td>\n",
       "      <td>Rapat Bareng DPR, KPU Siap Beri Penjelasan Pel...</td>\n",
       "      <td>JAKARTA - Komisi Pemilihan Umum (KPU) membena...</td>\n",
       "      <td>Rabu 13 Maret 2024 00:28 WIB</td>\n",
       "      <td></td>\n",
       "      <td>https://www.okezone.com/</td>\n",
       "      <td>https://nasional.okezone.com/read/2024/03/13/3...</td>\n",
       "      <td>2024-03-13 05:13:23.230825</td>\n",
       "      <td>11</td>\n",
       "      <td>False</td>\n",
       "      <td></td>\n",
       "      <td>Felldy Utama</td>\n",
       "      <td>False</td>\n",
       "      <td>jakarta komisi pemilihan umum kpu membenarkan ...</td>\n",
       "      <td>{ri, maret, sistem, pembahasan, pusat, rakyat,...</td>\n",
       "      <td>Neutral</td>\n",
       "      <td>0.999470</td>\n",
       "    </tr>\n",
       "    <tr>\n",
       "      <th>3</th>\n",
       "      <td>22839</td>\n",
       "      <td>Aksi Geng Motor Keroyok hingga Bacok Warga di ...</td>\n",
       "      <td>BANDUNG - Sekelompok orang yang diduga anggo...</td>\n",
       "      <td>Rabu 13 Maret 2024 00:45 WIB</td>\n",
       "      <td></td>\n",
       "      <td>https://www.okezone.com/</td>\n",
       "      <td>https://news.okezone.com/read/2024/03/13/525/2...</td>\n",
       "      <td>2024-03-13 05:13:23.226262</td>\n",
       "      <td>11</td>\n",
       "      <td>False</td>\n",
       "      <td></td>\n",
       "      <td>Agi Ilman</td>\n",
       "      <td>False</td>\n",
       "      <td>bandung sekelompok orang yang diduga anggota g...</td>\n",
       "      <td>{duga, minggu, berhasil, barang, tajam, penump...</td>\n",
       "      <td>Negative</td>\n",
       "      <td>0.681552</td>\n",
       "    </tr>\n",
       "    <tr>\n",
       "      <th>4</th>\n",
       "      <td>22838</td>\n",
       "      <td>Didukung Mayoritas Fraksi, Baleg Yakin RUU DKJ...</td>\n",
       "      <td>JAKARTA - Anggota Badan Legislasi (Baleg) DPR...</td>\n",
       "      <td>Rabu 13 Maret 2024 01:01 WIB</td>\n",
       "      <td></td>\n",
       "      <td>https://www.okezone.com/</td>\n",
       "      <td>https://nasional.okezone.com/read/2024/03/13/3...</td>\n",
       "      <td>2024-03-13 05:13:23.223574</td>\n",
       "      <td>11</td>\n",
       "      <td>False</td>\n",
       "      <td></td>\n",
       "      <td>Felldy Utama</td>\n",
       "      <td>False</td>\n",
       "      <td>jakarta anggota badan legislasi baleg dpr ri g...</td>\n",
       "      <td>{pks, ri, badan, baleg, iv, maret, pembahasan,...</td>\n",
       "      <td>Neutral</td>\n",
       "      <td>0.999281</td>\n",
       "    </tr>\n",
       "  </tbody>\n",
       "</table>\n",
       "</div>"
      ],
      "text/plain": [
       "      id                                              title  \\\n",
       "0  22842  Terkendala Cuaca, Pencarian WNA Asal Taiwan Ko...   \n",
       "1  22841  Polisi Amankan 4 Remaja Perang Sarung di Kota ...   \n",
       "2  22840  Rapat Bareng DPR, KPU Siap Beri Penjelasan Pel...   \n",
       "3  22839  Aksi Geng Motor Keroyok hingga Bacok Warga di ...   \n",
       "4  22838  Didukung Mayoritas Fraksi, Baleg Yakin RUU DKJ...   \n",
       "\n",
       "                                             content  \\\n",
       "0    JAKARTA - Tim SAR masih terus melakukan penc...   \n",
       "1   BOGOR - Polisi mengamankan 4 remaja yang mela...   \n",
       "2   JAKARTA - Komisi Pemilihan Umum (KPU) membena...   \n",
       "3    BANDUNG - Sekelompok orang yang diduga anggo...   \n",
       "4   JAKARTA - Anggota Badan Legislasi (Baleg) DPR...   \n",
       "\n",
       "                   publish_date publisher                    source  \\\n",
       "0  Rabu 13 Maret 2024 00:18 WIB            https://www.okezone.com/   \n",
       "1  Rabu 13 Maret 2024 00:22 WIB            https://www.okezone.com/   \n",
       "2  Rabu 13 Maret 2024 00:28 WIB            https://www.okezone.com/   \n",
       "3  Rabu 13 Maret 2024 00:45 WIB            https://www.okezone.com/   \n",
       "4  Rabu 13 Maret 2024 01:01 WIB            https://www.okezone.com/   \n",
       "\n",
       "                                          search_url  \\\n",
       "0  https://megapolitan.okezone.com/read/2024/03/1...   \n",
       "1  https://megapolitan.okezone.com/read/2024/03/1...   \n",
       "2  https://nasional.okezone.com/read/2024/03/13/3...   \n",
       "3  https://news.okezone.com/read/2024/03/13/525/2...   \n",
       "4  https://nasional.okezone.com/read/2024/03/13/3...   \n",
       "\n",
       "                created_date  national_medol_id  is_polri reporter  \\\n",
       "0 2024-03-13 05:13:23.238687                 11     False            \n",
       "1 2024-03-13 05:13:23.233424                 11     False            \n",
       "2 2024-03-13 05:13:23.230825                 11     False            \n",
       "3 2024-03-13 05:13:23.226262                 11     False            \n",
       "4 2024-03-13 05:13:23.223574                 11     False            \n",
       "\n",
       "                     editor  is_deleted  \\\n",
       "0       Riyan Rizki Roshali       False   \n",
       "1  Putra Ramadhani Astyawan       False   \n",
       "2              Felldy Utama       False   \n",
       "3                 Agi Ilman       False   \n",
       "4              Felldy Utama       False   \n",
       "\n",
       "                                             stemmed  \\\n",
       "0  jakarta tim sar masih terus melakukan pencaria...   \n",
       "1  bogor polisi mengamankan remaja yang melakukan...   \n",
       "2  jakarta komisi pemilihan umum kpu membenarkan ...   \n",
       "3  bandung sekelompok orang yang diduga anggota g...   \n",
       "4  jakarta anggota badan legislasi baleg dpr ri g...   \n",
       "\n",
       "                                     tokenized_tweet Prediction     Score  \n",
       "0  {terbatas, asha, berhasil, unsur, desiana, kep...    Neutral  0.999182  \n",
       "1  {tawuran, berhasil, hantam, wilayah, dm, klik,...    Neutral  0.997083  \n",
       "2  {ri, maret, sistem, pembahasan, pusat, rakyat,...    Neutral  0.999470  \n",
       "3  {duga, minggu, berhasil, barang, tajam, penump...   Negative  0.681552  \n",
       "4  {pks, ri, badan, baleg, iv, maret, pembahasan,...    Neutral  0.999281  "
      ]
     },
     "execution_count": 10,
     "metadata": {},
     "output_type": "execute_result"
    }
   ],
   "source": [
    "res_ds_content.head()"
   ]
  },
  {
   "cell_type": "code",
   "execution_count": 11,
   "id": "50fb4c52-f25a-47d1-9355-50689ed9307b",
   "metadata": {
    "execution": {
     "iopub.execute_input": "2024-03-12T22:19:17.912731Z",
     "iopub.status.busy": "2024-03-12T22:19:17.912258Z",
     "iopub.status.idle": "2024-03-12T22:19:18.785373Z",
     "shell.execute_reply": "2024-03-12T22:19:18.784787Z"
    }
   },
   "outputs": [
    {
     "name": "stdout",
     "output_type": "stream",
     "text": [
      "Query executed successfully. 1 rows affected.\n",
      "Query executed successfully. 1 rows affected.\n",
      "Query executed successfully. 1 rows affected.\n",
      "Query executed successfully. 1 rows affected.\n",
      "Query executed successfully. 1 rows affected.\n",
      "Query executed successfully. 1 rows affected.\n",
      "Query executed successfully. 1 rows affected.\n",
      "Query executed successfully. 1 rows affected.\n",
      "Query executed successfully. 1 rows affected.\n",
      "Query executed successfully. 1 rows affected.\n",
      "Query executed successfully. 1 rows affected.\n",
      "Query executed successfully. 1 rows affected.\n"
     ]
    },
    {
     "name": "stdout",
     "output_type": "stream",
     "text": [
      "Query executed successfully. 1 rows affected.\n",
      "Query executed successfully. 1 rows affected.\n",
      "Query executed successfully. 1 rows affected.\n",
      "Query executed successfully. 1 rows affected.\n",
      "Query executed successfully. 1 rows affected.\n",
      "Query executed successfully. 1 rows affected.\n",
      "Query executed successfully. 1 rows affected.\n",
      "Query executed successfully. 1 rows affected.\n",
      "Query executed successfully. 1 rows affected.\n",
      "Query executed successfully. 1 rows affected.\n",
      "Query executed successfully. 1 rows affected.\n",
      "Query executed successfully. 1 rows affected.\n"
     ]
    },
    {
     "name": "stdout",
     "output_type": "stream",
     "text": [
      "Query executed successfully. 1 rows affected.\n",
      "Query executed successfully. 1 rows affected.\n",
      "Query executed successfully. 1 rows affected.\n",
      "Query executed successfully. 1 rows affected.\n",
      "Query executed successfully. 1 rows affected.\n",
      "Query executed successfully. 1 rows affected.\n",
      "Query executed successfully. 1 rows affected.\n",
      "Query executed successfully. 1 rows affected.\n",
      "Query executed successfully. 1 rows affected.\n",
      "Query executed successfully. 1 rows affected.\n",
      "Query executed successfully. 1 rows affected.\n",
      "Query executed successfully. 1 rows affected.\n"
     ]
    },
    {
     "name": "stdout",
     "output_type": "stream",
     "text": [
      "Query executed successfully. 1 rows affected.\n",
      "Query executed successfully. 1 rows affected.\n",
      "Query executed successfully. 1 rows affected.\n",
      "Query executed successfully. 1 rows affected.\n",
      "Query executed successfully. 1 rows affected.\n",
      "Query executed successfully. 1 rows affected.\n",
      "Query executed successfully. 1 rows affected.\n",
      "Query executed successfully. 1 rows affected.\n",
      "Query executed successfully. 1 rows affected.\n",
      "Query executed successfully. 1 rows affected.\n",
      "Query executed successfully. 1 rows affected.\n",
      "Query executed successfully. 1 rows affected.\n"
     ]
    },
    {
     "name": "stdout",
     "output_type": "stream",
     "text": [
      "Query executed successfully. 1 rows affected.\n",
      "Query executed successfully. 1 rows affected.\n"
     ]
    }
   ],
   "source": [
    "# record result\n",
    "sentiment_class = 0\n",
    "\n",
    "for index, row in res_ds_content.iterrows():\n",
    "    if row['Prediction'] == 'Positive':\n",
    "        sentiment_class = 1\n",
    "    elif row['Prediction'] == 'Negative':\n",
    "        sentiment_class = -1\n",
    "    else:\n",
    "        sentiment_class = 0\n",
    "        \n",
    "    sql = \"update news_national_medol_sentiment set sentiment_category_content = %s, score_content = %s where news_national_medol_id = %s\" % (sentiment_class,row['Score'],row['id']) \n",
    "    # print(sql)\n",
    "    execute_query(sql)"
   ]
  }
 ],
 "metadata": {
  "kernelspec": {
   "display_name": "Python 3 (ipykernel)",
   "language": "python",
   "name": "python3"
  },
  "language_info": {
   "codemirror_mode": {
    "name": "ipython",
    "version": 3
   },
   "file_extension": ".py",
   "mimetype": "text/x-python",
   "name": "python",
   "nbconvert_exporter": "python",
   "pygments_lexer": "ipython3",
   "version": "3.8.10"
  }
 },
 "nbformat": 4,
 "nbformat_minor": 5
}
