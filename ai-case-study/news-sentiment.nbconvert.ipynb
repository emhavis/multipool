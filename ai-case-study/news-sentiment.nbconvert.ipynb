{
 "cells": [
  {
   "cell_type": "markdown",
   "id": "dc88b042-9d24-48fc-94a3-6009b4951e7b",
   "metadata": {},
   "source": [
    "# Multipool Google Sentiment Analysis\n",
    "\n",
    "this function will get data from google_result table\n",
    "and calculate the sentiment analysis. Result is store in google_result_sentiment\n",
    "\n",
    "crontab command\n",
    "* * * * * /home/haviz/multipool/ai-case-study/run-ai-sa-google.sh >> /home/haviz/multipool/ai-sa-google.log\n",
    "\n"
   ]
  },
  {
   "cell_type": "code",
   "execution_count": 1,
   "id": "39d0afb3-cd43-479c-a645-5eb16d589ba4",
   "metadata": {
    "execution": {
     "iopub.execute_input": "2024-04-10T01:04:04.014491Z",
     "iopub.status.busy": "2024-04-10T01:04:04.013981Z",
     "iopub.status.idle": "2024-04-10T01:04:10.620656Z",
     "shell.execute_reply": "2024-04-10T01:04:10.619955Z"
    }
   },
   "outputs": [],
   "source": [
    "import numpy as np\n",
    "import pandas as pd\n",
    "import seaborn as sn\n",
    "import matplotlib.pyplot as plt\n",
    "import pymysql.cursors\n",
    "import sqlalchemy as sa\n",
    "import nltk\n",
    "import string\n",
    "import os\n",
    "\n",
    "from nltk.corpus import stopwords \n",
    "from sqlalchemy import create_engine, Column, Integer, String, MetaData, Table\n",
    "from sqlalchemy.sql import text\n",
    "from sqlalchemy.orm import sessionmaker\n",
    "import pandas as pd\n",
    "\n",
    "# nltk.download('stopwords')\n",
    "\n",
    "\n",
    "os.environ['TF_CPP_MIN_LOG_LEVEL'] = '2'\n",
    "\n",
    "# Use a pipeline as a high-level helper\n",
    "from transformers import pipeline\n",
    "pipe = pipeline(\"text-classification\", model=\"ayameRushia/bert-base-indonesian-1.5G-sentiment-analysis-smsa\")"
   ]
  },
  {
   "cell_type": "code",
   "execution_count": 2,
   "id": "ec64d1af-b458-4c9e-9762-1d3d780b616f",
   "metadata": {
    "execution": {
     "iopub.execute_input": "2024-04-10T01:04:10.624786Z",
     "iopub.status.busy": "2024-04-10T01:04:10.624063Z",
     "iopub.status.idle": "2024-04-10T01:04:10.631253Z",
     "shell.execute_reply": "2024-04-10T01:04:10.630695Z"
    }
   },
   "outputs": [],
   "source": [
    "from sqlalchemy.util import deprecations\n",
    "deprecations.SILENCE_UBER_WARNING = True\n",
    "\n",
    "def execute_query(query, params=None):\n",
    "    # Set your PostgreSQL connection parameters\n",
    "    db_params = {\n",
    "        'host': '98.98.117.105',\n",
    "        'port': '5432',\n",
    "        'database': 'medols',\n",
    "        'user': 'postgres',\n",
    "        'password': 'FEWcTB3JIX5gK4T06c1MdkM9N2S8w9pb',\n",
    "    }\n",
    "\n",
    "    # Create a SQLAlchemy engine\n",
    "    engine = create_engine(f\"postgresql+psycopg2://{db_params['user']}:{db_params['password']}@{db_params['host']}:{db_params['port']}/{db_params['database']}\")\n",
    "\n",
    "    # Create a metadata object\n",
    "    metadata = MetaData()\n",
    "\n",
    "    # Example: Define your table\n",
    "    your_table = Table('your_table', metadata,\n",
    "                       Column('id', Integer, primary_key=True),\n",
    "                       Column('column1', String),\n",
    "                       Column('column2', String)\n",
    "                       )\n",
    "\n",
    "    # Create a session\n",
    "    Session = sessionmaker(bind=engine)\n",
    "    session = Session()\n",
    "\n",
    "    try:\n",
    "        # Execute the query with optional parameters\n",
    "        result = session.execute(text(query), params)\n",
    "\n",
    "        # Check if the query is a SELECT query\n",
    "        is_select_query = result.returns_rows\n",
    "\n",
    "        if is_select_query:\n",
    "            # Fetch the data and return as a Pandas DataFrame\n",
    "            columns = result.keys()\n",
    "            fetched_data = result.fetchall()\n",
    "            df = pd.DataFrame(fetched_data, columns=columns)\n",
    "            # print(\"Fetched Data as DataFrame:\")\n",
    "            # print(df)\n",
    "            return df\n",
    "        else:\n",
    "            # Get the number of rows affected for non-SELECT queries\n",
    "            rows_affected = result.rowcount\n",
    "\n",
    "            # Commit the changes to the database for non-SELECT queries\n",
    "            session.commit()\n",
    "\n",
    "            print(f\"Query executed successfully. {rows_affected} rows affected.\")\n",
    "            return rows_affected\n",
    "    except Exception as e:\n",
    "        # Rollback changes if there's an error\n",
    "        session.rollback()\n",
    "        print(f\"Error executing query: {e}\")\n",
    "    finally:\n",
    "        # Close the session\n",
    "        session.close()"
   ]
  },
  {
   "cell_type": "code",
   "execution_count": 3,
   "id": "97cf0378-4165-46bd-abc9-05c3a9fe18ba",
   "metadata": {
    "execution": {
     "iopub.execute_input": "2024-04-10T01:04:10.633970Z",
     "iopub.status.busy": "2024-04-10T01:04:10.633480Z",
     "iopub.status.idle": "2024-04-10T01:04:10.639177Z",
     "shell.execute_reply": "2024-04-10T01:04:10.638643Z"
    }
   },
   "outputs": [],
   "source": [
    "import pandas as pd\n",
    "import re\n",
    "from sqlalchemy import create_engine\n",
    "\n",
    "def stemming(comment):\n",
    "    factory = StemmerFactory()\n",
    "    stemmer = factory.create_stemmer()\n",
    "    do = []\n",
    "    for w in comment:\n",
    "        dt = stemmer.stem(w)\n",
    "        do.append(dt)\n",
    "    d_clean = []\n",
    "    d_clean = \" \".join(do)\n",
    "    return d_clean\n",
    "    \n",
    "# function case folding\n",
    "def casefolding(comment):\n",
    "    comment = comment.lower()\n",
    "    comment = comment.strip(\" \")\n",
    "    comment = re.sub(r'[?|$|.|!_:\")(-+,]','',comment)\n",
    "    return comment\n",
    "\n",
    "def clean_up_tag(comment):\n",
    "    x_ret = ' '.join(re.sub(\"(@[A-Za-z0-9]+)|([^0-9A-Za-z \\t])|(\\w+:\\/\\/\\S+)\",\" \",comment).split())\n",
    "    return x_ret\n",
    "\n",
    "# Text Preprocessing, \n",
    "def text_preproc(strIn):\n",
    "    # case folding\n",
    "    strOut = strIn.lower()\n",
    "    \n",
    "    # remove numbers\n",
    "    strOut = re.sub(r\"\\d+\", \"\", strOut)\n",
    "    \n",
    "    # remote punctuation\n",
    "    strOut = strOut.translate(str.maketrans(\"\",\"\",string.punctuation))\n",
    "    \n",
    "    # remove whitspace\n",
    "    strOut = strOut.strip()\n",
    "    \n",
    "    # \n",
    "    strOut = re.sub('\\s+',' ',strOut)\n",
    "    return strOut"
   ]
  },
  {
   "cell_type": "code",
   "execution_count": 4,
   "id": "438a292a-3e97-4161-bcaf-1887c838ae1f",
   "metadata": {
    "execution": {
     "iopub.execute_input": "2024-04-10T01:04:10.641784Z",
     "iopub.status.busy": "2024-04-10T01:04:10.641555Z",
     "iopub.status.idle": "2024-04-10T01:04:10.651396Z",
     "shell.execute_reply": "2024-04-10T01:04:10.650867Z"
    }
   },
   "outputs": [],
   "source": [
    "def process_by_df(source_ds, col_name):\n",
    "    from tqdm import tqdm\n",
    "    pd.options.mode.chained_assignment = None \n",
    "    \n",
    "    # trim to 2500 character\n",
    "    source_ds[col_name] = source_ds[col_name].str.slice(0,2000)\n",
    "\n",
    "    # skip stemming\n",
    "    source_ds['stemmed'] = source_ds[col_name].apply(clean_up_tag)\n",
    "    source_ds['stemmed'] = source_ds['stemmed'].apply(casefolding)\n",
    "    source_ds['stemmed'] = source_ds['stemmed'].apply(text_preproc)\n",
    "\n",
    "    sw = stopwords.words('indonesian')\n",
    "    #tokenized\n",
    "    source_ds['tokenized_tweet'] = source_ds.apply(lambda row: nltk.word_tokenize(row['stemmed']), axis=1)\n",
    "\n",
    "    # apply stopword removal\n",
    "    source_ds['tokenized_tweet'] = source_ds.apply(lambda row: {w for w in row['tokenized_tweet'] if not w in sw}, axis=1)\n",
    "    sw = stopwords.words('indonesian')\n",
    "\n",
    "    #tokenized\n",
    "    source_ds['tokenized_tweet'] = source_ds.apply(lambda row: nltk.word_tokenize(row['stemmed']), axis=1)\n",
    "\n",
    "    # apply stopword removal\n",
    "    source_ds['tokenized_tweet'] = source_ds.apply(lambda row: {w for w in row['tokenized_tweet'] if not w in sw}, axis=1)\n",
    "\n",
    "    # Notes on return sentiment values\n",
    "    # 1 >> positif >> stay\n",
    "    # 2 >> negatif >> convert to -1\n",
    "    # 0 >> netral >> stay\n",
    "\n",
    "    # Create a new list and insert each element from the original list\n",
    "    from tqdm import tqdm\n",
    "\n",
    "    list_text = source_ds['stemmed'].tolist()\n",
    "    new_list = []\n",
    "    for i in tqdm(range( len(list_text) )):\n",
    "        # print(len(list_text[i]))\n",
    "        try:\n",
    "            if len(list_text[i]) > 0:\n",
    "                res = pipe( list_text[i] )\n",
    "                new_list.append(res)\n",
    "            else:\n",
    "                res = pipe( 'kalimat netral' )\n",
    "                new_list.append(res)\n",
    "                zip\n",
    "        except Exception as e:\n",
    "            # Handle the exception (error) here\n",
    "            print(f\"Error processing value at index {i}: {list_text[i]}\")\n",
    "            print(f\"Error message: {str(e)}\")\n",
    "            res = pipe( 'kalimat netral' )\n",
    "            new_list.append(res)      \n",
    "            \n",
    "            continue\n",
    "\n",
    "    # Notes on return sentiment values\n",
    "    # 1 >> positif >> stay\n",
    "    # 2 >> negatif >> convert to -1\n",
    "    # 0 >> netral >> stay\n",
    "    # create a list of our conditions\n",
    "    for i in range(0, len(new_list)):\n",
    "        # print(new_list[i][0]['label'])\n",
    "        if new_list[i][0]['label'] == 'Positive':\n",
    "            new_list[i][0]['Value'] = 1\n",
    "        elif new_list[i][0]['label'] == 'Negative':\n",
    "            new_list[i][0]['Value'] = -1\n",
    "        elif new_list[i][0]['label'] == 'Neutral':\n",
    "            new_list[i][0]['Value'] = 0\n",
    "\n",
    "    for index, row in source_ds.iterrows():\n",
    "        source_ds.at[index,'Prediction'] = new_list[index][0]['label']\n",
    "\n",
    "    for index, row in source_ds.iterrows():\n",
    "        source_ds.at[index,'Prediction'] = new_list[index][0]['label']\n",
    "        source_ds.at[index,'Score'] = new_list[index][0]['score']\n",
    "        #source_ds.at[index,'Score'] = new_list[index][0]['Value']\n",
    "        \n",
    "    return source_ds\n"
   ]
  },
  {
   "cell_type": "code",
   "execution_count": 5,
   "id": "325b5528-6ca4-411d-9b57-069e3a6d3a25",
   "metadata": {
    "execution": {
     "iopub.execute_input": "2024-04-10T01:04:10.653854Z",
     "iopub.status.busy": "2024-04-10T01:04:10.653485Z",
     "iopub.status.idle": "2024-04-10T01:04:10.751571Z",
     "shell.execute_reply": "2024-04-10T01:04:10.750724Z"
    }
   },
   "outputs": [],
   "source": [
    "# query 400 rows of data query data from table\n",
    "select_query = \"select * \\\n",
    "from news_national_medol gr \\\n",
    "where id not in (select news_national_medol_id from news_national_medol_sentiment) \\\n",
    "order by id desc limit 500\"\n",
    "\n",
    "source_ds = execute_query(select_query)\n",
    "\n",
    "if len(source_ds) == 0:\n",
    "    # get out, nothing to do\n",
    "    print('Zero jobs, quitting now')\n",
    "    quit()\n",
    "    \n",
    "# source_ds.head()"
   ]
  },
  {
   "cell_type": "code",
   "execution_count": 6,
   "id": "5a9fe7d0-c005-45ad-8291-16c8bd9f7dbf",
   "metadata": {
    "execution": {
     "iopub.execute_input": "2024-04-10T01:04:10.754914Z",
     "iopub.status.busy": "2024-04-10T01:04:10.754214Z",
     "iopub.status.idle": "2024-04-10T01:04:11.582533Z",
     "shell.execute_reply": "2024-04-10T01:04:11.581652Z"
    }
   },
   "outputs": [
    {
     "name": "stderr",
     "output_type": "stream",
     "text": [
      "\r",
      "  0%|          | 0/23 [00:00<?, ?it/s]"
     ]
    },
    {
     "name": "stderr",
     "output_type": "stream",
     "text": [
      "\r",
      " 13%|█▎        | 3/23 [00:00<00:00, 25.42it/s]"
     ]
    },
    {
     "name": "stderr",
     "output_type": "stream",
     "text": [
      "\r",
      " 30%|███       | 7/23 [00:00<00:00, 28.22it/s]"
     ]
    },
    {
     "name": "stderr",
     "output_type": "stream",
     "text": [
      "\r",
      " 48%|████▊     | 11/23 [00:00<00:00, 29.43it/s]"
     ]
    },
    {
     "name": "stderr",
     "output_type": "stream",
     "text": [
      "\r",
      " 61%|██████    | 14/23 [00:00<00:00, 27.83it/s]"
     ]
    },
    {
     "name": "stderr",
     "output_type": "stream",
     "text": [
      "\r",
      " 78%|███████▊  | 18/23 [00:00<00:00, 29.18it/s]"
     ]
    },
    {
     "name": "stderr",
     "output_type": "stream",
     "text": [
      "\r",
      " 91%|█████████▏| 21/23 [00:00<00:00, 29.32it/s]"
     ]
    },
    {
     "name": "stderr",
     "output_type": "stream",
     "text": [
      "\r",
      "100%|██████████| 23/23 [00:00<00:00, 29.03it/s]"
     ]
    },
    {
     "name": "stderr",
     "output_type": "stream",
     "text": [
      "\n"
     ]
    }
   ],
   "source": [
    "ds_title = source_ds\n",
    "res_ds = process_by_df(ds_title,'title')"
   ]
  },
  {
   "cell_type": "code",
   "execution_count": 7,
   "id": "4d30b8a9-31bc-4bd6-a4da-7484686cac4b",
   "metadata": {
    "execution": {
     "iopub.execute_input": "2024-04-10T01:04:11.585990Z",
     "iopub.status.busy": "2024-04-10T01:04:11.585328Z",
     "iopub.status.idle": "2024-04-10T01:04:11.606306Z",
     "shell.execute_reply": "2024-04-10T01:04:11.605609Z"
    }
   },
   "outputs": [
    {
     "data": {
      "text/html": [
       "<div>\n",
       "<style scoped>\n",
       "    .dataframe tbody tr th:only-of-type {\n",
       "        vertical-align: middle;\n",
       "    }\n",
       "\n",
       "    .dataframe tbody tr th {\n",
       "        vertical-align: top;\n",
       "    }\n",
       "\n",
       "    .dataframe thead th {\n",
       "        text-align: right;\n",
       "    }\n",
       "</style>\n",
       "<table border=\"1\" class=\"dataframe\">\n",
       "  <thead>\n",
       "    <tr style=\"text-align: right;\">\n",
       "      <th></th>\n",
       "      <th>id</th>\n",
       "      <th>title</th>\n",
       "      <th>content</th>\n",
       "      <th>publish_date</th>\n",
       "      <th>publisher</th>\n",
       "      <th>source</th>\n",
       "      <th>search_url</th>\n",
       "      <th>created_date</th>\n",
       "      <th>national_medol_id</th>\n",
       "      <th>is_polri</th>\n",
       "      <th>reporter</th>\n",
       "      <th>editor</th>\n",
       "      <th>is_deleted</th>\n",
       "      <th>stemmed</th>\n",
       "      <th>tokenized_tweet</th>\n",
       "      <th>Prediction</th>\n",
       "      <th>Score</th>\n",
       "    </tr>\n",
       "  </thead>\n",
       "  <tbody>\n",
       "    <tr>\n",
       "      <th>0</th>\n",
       "      <td>29568</td>\n",
       "      <td>Arab Saudi Persiapkan Salat Idul Fitri di Dua ...</td>\n",
       "      <td>JEDDAH - Kepresidenan Urusan Agama di Arab Sau...</td>\n",
       "      <td>Rabu 10 April 2024 07:51 WIB</td>\n",
       "      <td></td>\n",
       "      <td>https://www.okezone.com/</td>\n",
       "      <td>https://news.okezone.com/read/2024/04/10/18/29...</td>\n",
       "      <td>2024-04-10 08:04:08.480148</td>\n",
       "      <td>11</td>\n",
       "      <td>False</td>\n",
       "      <td></td>\n",
       "      <td>Susi Susanti</td>\n",
       "      <td>False</td>\n",
       "      <td>arab saudi persiapkan salat idul fitri di dua ...</td>\n",
       "      <td>{fitri, arab, suci, masjidil, persiapkan, sala...</td>\n",
       "      <td>Neutral</td>\n",
       "      <td>0.999746</td>\n",
       "    </tr>\n",
       "    <tr>\n",
       "      <th>1</th>\n",
       "      <td>29567</td>\n",
       "      <td>Idul Fitri 1445 Hijriah, Wapres Ajak Terus Hid...</td>\n",
       "      <td>JAKARTA - Wakil Presiden (Wapres) Ma’ruf Amin ...</td>\n",
       "      <td>Rabu 10 April 2024 07:43 WIB</td>\n",
       "      <td></td>\n",
       "      <td>https://www.okezone.com/</td>\n",
       "      <td>https://nasional.okezone.com/read/2024/04/10/3...</td>\n",
       "      <td>2024-04-10 08:04:08.477281</td>\n",
       "      <td>11</td>\n",
       "      <td>False</td>\n",
       "      <td></td>\n",
       "      <td>Binti Mufarida</td>\n",
       "      <td>False</td>\n",
       "      <td>idul fitri hijriah wapres ajak terus hidupkan ...</td>\n",
       "      <td>{fitri, ramadhan, ajak, hidupkan, wapres, hijr...</td>\n",
       "      <td>Neutral</td>\n",
       "      <td>0.999646</td>\n",
       "    </tr>\n",
       "    <tr>\n",
       "      <th>2</th>\n",
       "      <td>29566</td>\n",
       "      <td>Anies Baswedan dan Keluarga Sholat Idul Fitri ...</td>\n",
       "      <td>JAKARTA - Eks Gubernur DKI Jakarta periode (20...</td>\n",
       "      <td>Rabu 10 April 2024 07:32 WIB</td>\n",
       "      <td></td>\n",
       "      <td>https://www.okezone.com/</td>\n",
       "      <td>https://nasional.okezone.com/read/2024/04/10/3...</td>\n",
       "      <td>2024-04-10 08:04:08.474356</td>\n",
       "      <td>11</td>\n",
       "      <td>False</td>\n",
       "      <td></td>\n",
       "      <td>Muhammad Refi Sandi</td>\n",
       "      <td>False</td>\n",
       "      <td>anies baswedan dan keluarga sholat idul fitri ...</td>\n",
       "      <td>{anies, fitri, baswedan, khoirot, h, babul, bu...</td>\n",
       "      <td>Neutral</td>\n",
       "      <td>0.999703</td>\n",
       "    </tr>\n",
       "    <tr>\n",
       "      <th>3</th>\n",
       "      <td>29565</td>\n",
       "      <td>Satu Pria Ditangkap Gegara Hendak Masuk Istana...</td>\n",
       "      <td>JAKARTA - Polisi mengamankan DM, pria berusia ...</td>\n",
       "      <td>Rabu 10 April 2024 07:27 WIB</td>\n",
       "      <td></td>\n",
       "      <td>https://www.okezone.com/</td>\n",
       "      <td>https://nasional.okezone.com/read/2024/04/10/3...</td>\n",
       "      <td>2024-04-10 08:04:08.471591</td>\n",
       "      <td>11</td>\n",
       "      <td>False</td>\n",
       "      <td></td>\n",
       "      <td>Jonathan Simanjuntak</td>\n",
       "      <td>False</td>\n",
       "      <td>satu pria ditangkap gegara hendak masuk istana...</td>\n",
       "      <td>{masuk, kepresidenan, ditangkap, istana, gegar...</td>\n",
       "      <td>Neutral</td>\n",
       "      <td>0.999612</td>\n",
       "    </tr>\n",
       "    <tr>\n",
       "      <th>4</th>\n",
       "      <td>29564</td>\n",
       "      <td>Presiden Jokowi dan Ma'ruf Amin Sholat Id di M...</td>\n",
       "      <td>JAKARTA - Presiden Joko Widodo (Jokowi) bersam...</td>\n",
       "      <td>Rabu 10 April 2024 07:27 WIB</td>\n",
       "      <td></td>\n",
       "      <td>https://www.okezone.com/</td>\n",
       "      <td>https://nasional.okezone.com/read/2024/04/10/3...</td>\n",
       "      <td>2024-04-10 08:04:08.468744</td>\n",
       "      <td>11</td>\n",
       "      <td>False</td>\n",
       "      <td></td>\n",
       "      <td>Raka Dwi Novianto</td>\n",
       "      <td>False</td>\n",
       "      <td>presiden jokowi dan ma ruf amin sholat id di m...</td>\n",
       "      <td>{id, istiqlal, jokowi, ruf, ma, sholat, masjid...</td>\n",
       "      <td>Neutral</td>\n",
       "      <td>0.999618</td>\n",
       "    </tr>\n",
       "  </tbody>\n",
       "</table>\n",
       "</div>"
      ],
      "text/plain": [
       "      id                                              title  \\\n",
       "0  29568  Arab Saudi Persiapkan Salat Idul Fitri di Dua ...   \n",
       "1  29567  Idul Fitri 1445 Hijriah, Wapres Ajak Terus Hid...   \n",
       "2  29566  Anies Baswedan dan Keluarga Sholat Idul Fitri ...   \n",
       "3  29565  Satu Pria Ditangkap Gegara Hendak Masuk Istana...   \n",
       "4  29564  Presiden Jokowi dan Ma'ruf Amin Sholat Id di M...   \n",
       "\n",
       "                                             content  \\\n",
       "0  JEDDAH - Kepresidenan Urusan Agama di Arab Sau...   \n",
       "1  JAKARTA - Wakil Presiden (Wapres) Ma’ruf Amin ...   \n",
       "2  JAKARTA - Eks Gubernur DKI Jakarta periode (20...   \n",
       "3  JAKARTA - Polisi mengamankan DM, pria berusia ...   \n",
       "4  JAKARTA - Presiden Joko Widodo (Jokowi) bersam...   \n",
       "\n",
       "                   publish_date publisher                    source  \\\n",
       "0  Rabu 10 April 2024 07:51 WIB            https://www.okezone.com/   \n",
       "1  Rabu 10 April 2024 07:43 WIB            https://www.okezone.com/   \n",
       "2  Rabu 10 April 2024 07:32 WIB            https://www.okezone.com/   \n",
       "3  Rabu 10 April 2024 07:27 WIB            https://www.okezone.com/   \n",
       "4  Rabu 10 April 2024 07:27 WIB            https://www.okezone.com/   \n",
       "\n",
       "                                          search_url  \\\n",
       "0  https://news.okezone.com/read/2024/04/10/18/29...   \n",
       "1  https://nasional.okezone.com/read/2024/04/10/3...   \n",
       "2  https://nasional.okezone.com/read/2024/04/10/3...   \n",
       "3  https://nasional.okezone.com/read/2024/04/10/3...   \n",
       "4  https://nasional.okezone.com/read/2024/04/10/3...   \n",
       "\n",
       "                created_date  national_medol_id  is_polri reporter  \\\n",
       "0 2024-04-10 08:04:08.480148                 11     False            \n",
       "1 2024-04-10 08:04:08.477281                 11     False            \n",
       "2 2024-04-10 08:04:08.474356                 11     False            \n",
       "3 2024-04-10 08:04:08.471591                 11     False            \n",
       "4 2024-04-10 08:04:08.468744                 11     False            \n",
       "\n",
       "                 editor  is_deleted  \\\n",
       "0          Susi Susanti       False   \n",
       "1        Binti Mufarida       False   \n",
       "2   Muhammad Refi Sandi       False   \n",
       "3  Jonathan Simanjuntak       False   \n",
       "4     Raka Dwi Novianto       False   \n",
       "\n",
       "                                             stemmed  \\\n",
       "0  arab saudi persiapkan salat idul fitri di dua ...   \n",
       "1  idul fitri hijriah wapres ajak terus hidupkan ...   \n",
       "2  anies baswedan dan keluarga sholat idul fitri ...   \n",
       "3  satu pria ditangkap gegara hendak masuk istana...   \n",
       "4  presiden jokowi dan ma ruf amin sholat id di m...   \n",
       "\n",
       "                                     tokenized_tweet Prediction     Score  \n",
       "0  {fitri, arab, suci, masjidil, persiapkan, sala...    Neutral  0.999746  \n",
       "1  {fitri, ramadhan, ajak, hidupkan, wapres, hijr...    Neutral  0.999646  \n",
       "2  {anies, fitri, baswedan, khoirot, h, babul, bu...    Neutral  0.999703  \n",
       "3  {masuk, kepresidenan, ditangkap, istana, gegar...    Neutral  0.999612  \n",
       "4  {id, istiqlal, jokowi, ruf, ma, sholat, masjid...    Neutral  0.999618  "
      ]
     },
     "execution_count": 7,
     "metadata": {},
     "output_type": "execute_result"
    }
   ],
   "source": [
    "res_ds.head()"
   ]
  },
  {
   "cell_type": "code",
   "execution_count": 8,
   "id": "c5d92f04-856f-49d7-ac4c-b10fb4516774",
   "metadata": {
    "execution": {
     "iopub.execute_input": "2024-04-10T01:04:11.609411Z",
     "iopub.status.busy": "2024-04-10T01:04:11.608782Z",
     "iopub.status.idle": "2024-04-10T01:04:12.046608Z",
     "shell.execute_reply": "2024-04-10T01:04:12.045674Z"
    }
   },
   "outputs": [
    {
     "name": "stdout",
     "output_type": "stream",
     "text": [
      "Query executed successfully. 1 rows affected.\n",
      "Query executed successfully. 1 rows affected.\n",
      "Query executed successfully. 1 rows affected.\n",
      "Query executed successfully. 1 rows affected.\n",
      "Query executed successfully. 1 rows affected.\n",
      "Query executed successfully. 1 rows affected.\n",
      "Query executed successfully. 1 rows affected.\n",
      "Query executed successfully. 1 rows affected.\n",
      "Query executed successfully. 1 rows affected.\n",
      "Query executed successfully. 1 rows affected.\n",
      "Query executed successfully. 1 rows affected.\n",
      "Query executed successfully. 1 rows affected.\n"
     ]
    },
    {
     "name": "stdout",
     "output_type": "stream",
     "text": [
      "Query executed successfully. 1 rows affected.\n",
      "Query executed successfully. 1 rows affected.\n",
      "Query executed successfully. 1 rows affected.\n",
      "Query executed successfully. 1 rows affected.\n",
      "Query executed successfully. 1 rows affected.\n",
      "Query executed successfully. 1 rows affected.\n",
      "Query executed successfully. 1 rows affected.\n",
      "Query executed successfully. 1 rows affected.\n",
      "Query executed successfully. 1 rows affected.\n",
      "Query executed successfully. 1 rows affected.\n"
     ]
    },
    {
     "name": "stdout",
     "output_type": "stream",
     "text": [
      "Query executed successfully. 1 rows affected.\n"
     ]
    }
   ],
   "source": [
    "# record result\n",
    "sentiment_class = 0\n",
    "\n",
    "# INSERT INTO public.news_national_medol_sentiment (sentiment_category, score, news_national_medol_id) VALUES( 0, 0, 0);\n",
    "\n",
    "for index, row in res_ds.iterrows():\n",
    "    if row['Prediction'] == 'Positive':\n",
    "        sentiment_class = 1\n",
    "    elif row['Prediction'] == 'Negative':\n",
    "        sentiment_class = -1\n",
    "    else:\n",
    "        sentiment_class = 0\n",
    "        \n",
    "    sql = \"INSERT INTO news_national_medol_sentiment (sentiment_category, score, news_national_medol_id) VALUES(%s, %s, %s);\" % (sentiment_class,row['Score'],row['id']) \n",
    "    # print(sql)\n",
    "    execute_query(sql)"
   ]
  },
  {
   "cell_type": "code",
   "execution_count": 9,
   "id": "67f357c0-df61-4855-9dfe-f28e94536a50",
   "metadata": {
    "execution": {
     "iopub.execute_input": "2024-04-10T01:04:12.050014Z",
     "iopub.status.busy": "2024-04-10T01:04:12.049379Z",
     "iopub.status.idle": "2024-04-10T01:04:15.148126Z",
     "shell.execute_reply": "2024-04-10T01:04:15.147273Z"
    }
   },
   "outputs": [
    {
     "name": "stderr",
     "output_type": "stream",
     "text": [
      "\r",
      "  0%|          | 0/23 [00:00<?, ?it/s]"
     ]
    },
    {
     "name": "stderr",
     "output_type": "stream",
     "text": [
      "\r",
      "  9%|▊         | 2/23 [00:00<00:02,  8.31it/s]"
     ]
    },
    {
     "name": "stderr",
     "output_type": "stream",
     "text": [
      "\r",
      " 13%|█▎        | 3/23 [00:00<00:02,  8.08it/s]"
     ]
    },
    {
     "name": "stderr",
     "output_type": "stream",
     "text": [
      "\r",
      " 17%|█▋        | 4/23 [00:00<00:02,  8.26it/s]"
     ]
    },
    {
     "name": "stderr",
     "output_type": "stream",
     "text": [
      "\r",
      " 22%|██▏       | 5/23 [00:00<00:02,  7.71it/s]"
     ]
    },
    {
     "name": "stderr",
     "output_type": "stream",
     "text": [
      "\r",
      " 26%|██▌       | 6/23 [00:00<00:02,  6.81it/s]"
     ]
    },
    {
     "name": "stderr",
     "output_type": "stream",
     "text": [
      "\r",
      " 30%|███       | 7/23 [00:00<00:02,  6.54it/s]"
     ]
    },
    {
     "name": "stderr",
     "output_type": "stream",
     "text": [
      "\r",
      " 35%|███▍      | 8/23 [00:01<00:02,  6.92it/s]"
     ]
    },
    {
     "name": "stderr",
     "output_type": "stream",
     "text": [
      "\r",
      " 39%|███▉      | 9/23 [00:01<00:02,  6.69it/s]"
     ]
    },
    {
     "name": "stderr",
     "output_type": "stream",
     "text": [
      "\r",
      " 43%|████▎     | 10/23 [00:01<00:01,  6.51it/s]"
     ]
    },
    {
     "name": "stderr",
     "output_type": "stream",
     "text": [
      "\r",
      " 48%|████▊     | 11/23 [00:01<00:01,  6.77it/s]"
     ]
    },
    {
     "name": "stderr",
     "output_type": "stream",
     "text": [
      "\r",
      " 52%|█████▏    | 12/23 [00:01<00:01,  7.00it/s]"
     ]
    },
    {
     "name": "stderr",
     "output_type": "stream",
     "text": [
      "\r",
      " 57%|█████▋    | 13/23 [00:01<00:01,  6.77it/s]"
     ]
    },
    {
     "name": "stderr",
     "output_type": "stream",
     "text": [
      "\r",
      " 61%|██████    | 14/23 [00:01<00:01,  7.09it/s]"
     ]
    },
    {
     "name": "stderr",
     "output_type": "stream",
     "text": [
      "\r",
      " 70%|██████▉   | 16/23 [00:02<00:00,  8.32it/s]"
     ]
    },
    {
     "name": "stderr",
     "output_type": "stream",
     "text": [
      "\r",
      " 78%|███████▊  | 18/23 [00:02<00:00,  8.74it/s]"
     ]
    },
    {
     "name": "stderr",
     "output_type": "stream",
     "text": [
      "\r",
      " 83%|████████▎ | 19/23 [00:02<00:00,  8.47it/s]"
     ]
    },
    {
     "name": "stderr",
     "output_type": "stream",
     "text": [
      "\r",
      " 87%|████████▋ | 20/23 [00:02<00:00,  8.34it/s]"
     ]
    },
    {
     "name": "stderr",
     "output_type": "stream",
     "text": [
      "\r",
      " 91%|█████████▏| 21/23 [00:02<00:00,  8.58it/s]"
     ]
    },
    {
     "name": "stderr",
     "output_type": "stream",
     "text": [
      "\r",
      " 96%|█████████▌| 22/23 [00:02<00:00,  8.76it/s]"
     ]
    },
    {
     "name": "stderr",
     "output_type": "stream",
     "text": [
      "\r",
      "100%|██████████| 23/23 [00:02<00:00,  9.02it/s]"
     ]
    },
    {
     "name": "stderr",
     "output_type": "stream",
     "text": [
      "\r",
      "100%|██████████| 23/23 [00:02<00:00,  7.78it/s]"
     ]
    },
    {
     "name": "stderr",
     "output_type": "stream",
     "text": [
      "\n"
     ]
    }
   ],
   "source": [
    "ds_content = source_ds\n",
    "res_ds_content = process_by_df(ds_content,'content')"
   ]
  },
  {
   "cell_type": "code",
   "execution_count": 10,
   "id": "71b27044-32ec-4ca2-bbf6-b6f5e2522f73",
   "metadata": {
    "execution": {
     "iopub.execute_input": "2024-04-10T01:04:15.151382Z",
     "iopub.status.busy": "2024-04-10T01:04:15.151113Z",
     "iopub.status.idle": "2024-04-10T01:04:15.169571Z",
     "shell.execute_reply": "2024-04-10T01:04:15.168908Z"
    }
   },
   "outputs": [
    {
     "data": {
      "text/html": [
       "<div>\n",
       "<style scoped>\n",
       "    .dataframe tbody tr th:only-of-type {\n",
       "        vertical-align: middle;\n",
       "    }\n",
       "\n",
       "    .dataframe tbody tr th {\n",
       "        vertical-align: top;\n",
       "    }\n",
       "\n",
       "    .dataframe thead th {\n",
       "        text-align: right;\n",
       "    }\n",
       "</style>\n",
       "<table border=\"1\" class=\"dataframe\">\n",
       "  <thead>\n",
       "    <tr style=\"text-align: right;\">\n",
       "      <th></th>\n",
       "      <th>id</th>\n",
       "      <th>title</th>\n",
       "      <th>content</th>\n",
       "      <th>publish_date</th>\n",
       "      <th>publisher</th>\n",
       "      <th>source</th>\n",
       "      <th>search_url</th>\n",
       "      <th>created_date</th>\n",
       "      <th>national_medol_id</th>\n",
       "      <th>is_polri</th>\n",
       "      <th>reporter</th>\n",
       "      <th>editor</th>\n",
       "      <th>is_deleted</th>\n",
       "      <th>stemmed</th>\n",
       "      <th>tokenized_tweet</th>\n",
       "      <th>Prediction</th>\n",
       "      <th>Score</th>\n",
       "    </tr>\n",
       "  </thead>\n",
       "  <tbody>\n",
       "    <tr>\n",
       "      <th>0</th>\n",
       "      <td>29568</td>\n",
       "      <td>Arab Saudi Persiapkan Salat Idul Fitri di Dua ...</td>\n",
       "      <td>JEDDAH - Kepresidenan Urusan Agama di Arab Sau...</td>\n",
       "      <td>Rabu 10 April 2024 07:51 WIB</td>\n",
       "      <td></td>\n",
       "      <td>https://www.okezone.com/</td>\n",
       "      <td>https://news.okezone.com/read/2024/04/10/18/29...</td>\n",
       "      <td>2024-04-10 08:04:08.480148</td>\n",
       "      <td>11</td>\n",
       "      <td>False</td>\n",
       "      <td></td>\n",
       "      <td>Susi Susanti</td>\n",
       "      <td>False</td>\n",
       "      <td>jeddah kepresidenan urusan agama di arab saudi...</td>\n",
       "      <td>{aspek, dipersiapkan, sepenuhnya, arab, venna,...</td>\n",
       "      <td>Neutral</td>\n",
       "      <td>0.999416</td>\n",
       "    </tr>\n",
       "    <tr>\n",
       "      <th>1</th>\n",
       "      <td>29567</td>\n",
       "      <td>Idul Fitri 1445 Hijriah, Wapres Ajak Terus Hid...</td>\n",
       "      <td>JAKARTA - Wakil Presiden (Wapres) Ma’ruf Amin ...</td>\n",
       "      <td>Rabu 10 April 2024 07:43 WIB</td>\n",
       "      <td></td>\n",
       "      <td>https://www.okezone.com/</td>\n",
       "      <td>https://nasional.okezone.com/read/2024/04/10/3...</td>\n",
       "      <td>2024-04-10 08:04:08.477281</td>\n",
       "      <td>11</td>\n",
       "      <td>False</td>\n",
       "      <td></td>\n",
       "      <td>Binti Mufarida</td>\n",
       "      <td>False</td>\n",
       "      <td>jakarta wakil presiden wapres ma ruf amin meng...</td>\n",
       "      <td>{idulfitri, wal, sanak, irawan, semangat, kasi...</td>\n",
       "      <td>Positive</td>\n",
       "      <td>0.973453</td>\n",
       "    </tr>\n",
       "    <tr>\n",
       "      <th>2</th>\n",
       "      <td>29566</td>\n",
       "      <td>Anies Baswedan dan Keluarga Sholat Idul Fitri ...</td>\n",
       "      <td>JAKARTA - Eks Gubernur DKI Jakarta periode (20...</td>\n",
       "      <td>Rabu 10 April 2024 07:32 WIB</td>\n",
       "      <td></td>\n",
       "      <td>https://www.okezone.com/</td>\n",
       "      <td>https://nasional.okezone.com/read/2024/04/10/3...</td>\n",
       "      <td>2024-04-10 08:04:08.474356</td>\n",
       "      <td>11</td>\n",
       "      <td>False</td>\n",
       "      <td></td>\n",
       "      <td>Muhammad Refi Sandi</td>\n",
       "      <td>False</td>\n",
       "      <td>jakarta eks gubernur dki jakarta periode anies...</td>\n",
       "      <td>{mnc, oktober, bulus, irawan, mikail, dki, men...</td>\n",
       "      <td>Neutral</td>\n",
       "      <td>0.999478</td>\n",
       "    </tr>\n",
       "    <tr>\n",
       "      <th>3</th>\n",
       "      <td>29565</td>\n",
       "      <td>Satu Pria Ditangkap Gegara Hendak Masuk Istana...</td>\n",
       "      <td>JAKARTA - Polisi mengamankan DM, pria berusia ...</td>\n",
       "      <td>Rabu 10 April 2024 07:27 WIB</td>\n",
       "      <td></td>\n",
       "      <td>https://www.okezone.com/</td>\n",
       "      <td>https://nasional.okezone.com/read/2024/04/10/3...</td>\n",
       "      <td>2024-04-10 08:04:08.471591</td>\n",
       "      <td>11</td>\n",
       "      <td>False</td>\n",
       "      <td></td>\n",
       "      <td>Jonathan Simanjuntak</td>\n",
       "      <td>False</td>\n",
       "      <td>jakarta polisi mengamankan dm pria berusia sek...</td>\n",
       "      <td>{condro, gangguan, pusat, motif, irawan, istan...</td>\n",
       "      <td>Neutral</td>\n",
       "      <td>0.999556</td>\n",
       "    </tr>\n",
       "    <tr>\n",
       "      <th>4</th>\n",
       "      <td>29564</td>\n",
       "      <td>Presiden Jokowi dan Ma'ruf Amin Sholat Id di M...</td>\n",
       "      <td>JAKARTA - Presiden Joko Widodo (Jokowi) bersam...</td>\n",
       "      <td>Rabu 10 April 2024 07:27 WIB</td>\n",
       "      <td></td>\n",
       "      <td>https://www.okezone.com/</td>\n",
       "      <td>https://nasional.okezone.com/read/2024/04/10/3...</td>\n",
       "      <td>2024-04-10 08:04:08.468744</td>\n",
       "      <td>11</td>\n",
       "      <td>False</td>\n",
       "      <td></td>\n",
       "      <td>Raka Dwi Novianto</td>\n",
       "      <td>False</td>\n",
       "      <td>jakarta presiden joko widodo jokowi bersama de...</td>\n",
       "      <td>{pusat, lainnyajakarta, irawan, istana, mengen...</td>\n",
       "      <td>Neutral</td>\n",
       "      <td>0.998952</td>\n",
       "    </tr>\n",
       "  </tbody>\n",
       "</table>\n",
       "</div>"
      ],
      "text/plain": [
       "      id                                              title  \\\n",
       "0  29568  Arab Saudi Persiapkan Salat Idul Fitri di Dua ...   \n",
       "1  29567  Idul Fitri 1445 Hijriah, Wapres Ajak Terus Hid...   \n",
       "2  29566  Anies Baswedan dan Keluarga Sholat Idul Fitri ...   \n",
       "3  29565  Satu Pria Ditangkap Gegara Hendak Masuk Istana...   \n",
       "4  29564  Presiden Jokowi dan Ma'ruf Amin Sholat Id di M...   \n",
       "\n",
       "                                             content  \\\n",
       "0  JEDDAH - Kepresidenan Urusan Agama di Arab Sau...   \n",
       "1  JAKARTA - Wakil Presiden (Wapres) Ma’ruf Amin ...   \n",
       "2  JAKARTA - Eks Gubernur DKI Jakarta periode (20...   \n",
       "3  JAKARTA - Polisi mengamankan DM, pria berusia ...   \n",
       "4  JAKARTA - Presiden Joko Widodo (Jokowi) bersam...   \n",
       "\n",
       "                   publish_date publisher                    source  \\\n",
       "0  Rabu 10 April 2024 07:51 WIB            https://www.okezone.com/   \n",
       "1  Rabu 10 April 2024 07:43 WIB            https://www.okezone.com/   \n",
       "2  Rabu 10 April 2024 07:32 WIB            https://www.okezone.com/   \n",
       "3  Rabu 10 April 2024 07:27 WIB            https://www.okezone.com/   \n",
       "4  Rabu 10 April 2024 07:27 WIB            https://www.okezone.com/   \n",
       "\n",
       "                                          search_url  \\\n",
       "0  https://news.okezone.com/read/2024/04/10/18/29...   \n",
       "1  https://nasional.okezone.com/read/2024/04/10/3...   \n",
       "2  https://nasional.okezone.com/read/2024/04/10/3...   \n",
       "3  https://nasional.okezone.com/read/2024/04/10/3...   \n",
       "4  https://nasional.okezone.com/read/2024/04/10/3...   \n",
       "\n",
       "                created_date  national_medol_id  is_polri reporter  \\\n",
       "0 2024-04-10 08:04:08.480148                 11     False            \n",
       "1 2024-04-10 08:04:08.477281                 11     False            \n",
       "2 2024-04-10 08:04:08.474356                 11     False            \n",
       "3 2024-04-10 08:04:08.471591                 11     False            \n",
       "4 2024-04-10 08:04:08.468744                 11     False            \n",
       "\n",
       "                 editor  is_deleted  \\\n",
       "0          Susi Susanti       False   \n",
       "1        Binti Mufarida       False   \n",
       "2   Muhammad Refi Sandi       False   \n",
       "3  Jonathan Simanjuntak       False   \n",
       "4     Raka Dwi Novianto       False   \n",
       "\n",
       "                                             stemmed  \\\n",
       "0  jeddah kepresidenan urusan agama di arab saudi...   \n",
       "1  jakarta wakil presiden wapres ma ruf amin meng...   \n",
       "2  jakarta eks gubernur dki jakarta periode anies...   \n",
       "3  jakarta polisi mengamankan dm pria berusia sek...   \n",
       "4  jakarta presiden joko widodo jokowi bersama de...   \n",
       "\n",
       "                                     tokenized_tweet Prediction     Score  \n",
       "0  {aspek, dipersiapkan, sepenuhnya, arab, venna,...    Neutral  0.999416  \n",
       "1  {idulfitri, wal, sanak, irawan, semangat, kasi...   Positive  0.973453  \n",
       "2  {mnc, oktober, bulus, irawan, mikail, dki, men...    Neutral  0.999478  \n",
       "3  {condro, gangguan, pusat, motif, irawan, istan...    Neutral  0.999556  \n",
       "4  {pusat, lainnyajakarta, irawan, istana, mengen...    Neutral  0.998952  "
      ]
     },
     "execution_count": 10,
     "metadata": {},
     "output_type": "execute_result"
    }
   ],
   "source": [
    "res_ds_content.head()"
   ]
  },
  {
   "cell_type": "code",
   "execution_count": 11,
   "id": "50fb4c52-f25a-47d1-9355-50689ed9307b",
   "metadata": {
    "execution": {
     "iopub.execute_input": "2024-04-10T01:04:15.172243Z",
     "iopub.status.busy": "2024-04-10T01:04:15.171999Z",
     "iopub.status.idle": "2024-04-10T01:04:20.053871Z",
     "shell.execute_reply": "2024-04-10T01:04:20.053186Z"
    }
   },
   "outputs": [
    {
     "name": "stdout",
     "output_type": "stream",
     "text": [
      "Query executed successfully. 1 rows affected.\n",
      "Query executed successfully. 1 rows affected.\n"
     ]
    },
    {
     "name": "stdout",
     "output_type": "stream",
     "text": [
      "Query executed successfully. 1 rows affected.\n"
     ]
    },
    {
     "name": "stdout",
     "output_type": "stream",
     "text": [
      "Query executed successfully. 1 rows affected.\n"
     ]
    },
    {
     "name": "stdout",
     "output_type": "stream",
     "text": [
      "Query executed successfully. 1 rows affected.\n"
     ]
    },
    {
     "name": "stdout",
     "output_type": "stream",
     "text": [
      "Query executed successfully. 1 rows affected.\n"
     ]
    },
    {
     "name": "stdout",
     "output_type": "stream",
     "text": [
      "Query executed successfully. 1 rows affected.\n"
     ]
    },
    {
     "name": "stdout",
     "output_type": "stream",
     "text": [
      "Query executed successfully. 1 rows affected.\n"
     ]
    },
    {
     "name": "stdout",
     "output_type": "stream",
     "text": [
      "Query executed successfully. 1 rows affected.\n"
     ]
    },
    {
     "name": "stdout",
     "output_type": "stream",
     "text": [
      "Query executed successfully. 1 rows affected.\n"
     ]
    },
    {
     "name": "stdout",
     "output_type": "stream",
     "text": [
      "Query executed successfully. 1 rows affected.\n"
     ]
    },
    {
     "name": "stdout",
     "output_type": "stream",
     "text": [
      "Query executed successfully. 1 rows affected.\n"
     ]
    },
    {
     "name": "stdout",
     "output_type": "stream",
     "text": [
      "Query executed successfully. 1 rows affected.\n"
     ]
    },
    {
     "name": "stdout",
     "output_type": "stream",
     "text": [
      "Query executed successfully. 1 rows affected.\n",
      "Query executed successfully. 1 rows affected.\n",
      "Query executed successfully. 1 rows affected.\n",
      "Query executed successfully. 1 rows affected.\n",
      "Query executed successfully. 1 rows affected.\n",
      "Query executed successfully. 1 rows affected.\n",
      "Query executed successfully. 1 rows affected.\n",
      "Query executed successfully. 1 rows affected.\n",
      "Query executed successfully. 1 rows affected.\n"
     ]
    },
    {
     "name": "stdout",
     "output_type": "stream",
     "text": [
      "Query executed successfully. 1 rows affected.\n"
     ]
    }
   ],
   "source": [
    "# record result\n",
    "sentiment_class = 0\n",
    "\n",
    "for index, row in res_ds_content.iterrows():\n",
    "    if row['Prediction'] == 'Positive':\n",
    "        sentiment_class = 1\n",
    "    elif row['Prediction'] == 'Negative':\n",
    "        sentiment_class = -1\n",
    "    else:\n",
    "        sentiment_class = 0\n",
    "        \n",
    "    sql = \"update news_national_medol_sentiment set sentiment_category_content = %s, score_content = %s where news_national_medol_id = %s\" % (sentiment_class,row['Score'],row['id']) \n",
    "    # print(sql)\n",
    "    execute_query(sql)"
   ]
  }
 ],
 "metadata": {
  "kernelspec": {
   "display_name": "Python 3 (ipykernel)",
   "language": "python",
   "name": "python3"
  },
  "language_info": {
   "codemirror_mode": {
    "name": "ipython",
    "version": 3
   },
   "file_extension": ".py",
   "mimetype": "text/x-python",
   "name": "python",
   "nbconvert_exporter": "python",
   "pygments_lexer": "ipython3",
   "version": "3.8.10"
  }
 },
 "nbformat": 4,
 "nbformat_minor": 5
}
