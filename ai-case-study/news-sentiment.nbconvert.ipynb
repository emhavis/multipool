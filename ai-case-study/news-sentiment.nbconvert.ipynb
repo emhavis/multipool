{
 "cells": [
  {
   "cell_type": "markdown",
   "id": "dc88b042-9d24-48fc-94a3-6009b4951e7b",
   "metadata": {},
   "source": [
    "# Multipool Google Sentiment Analysis\n",
    "\n",
    "this function will get data from google_result table\n",
    "and calculate the sentiment analysis. Result is store in google_result_sentiment\n",
    "\n",
    "crontab command\n",
    "* * * * * /home/haviz/multipool/ai-case-study/run-ai-sa-google.sh >> /home/haviz/multipool/ai-sa-google.log\n",
    "\n"
   ]
  },
  {
   "cell_type": "code",
   "execution_count": 1,
   "id": "39d0afb3-cd43-479c-a645-5eb16d589ba4",
   "metadata": {
    "execution": {
     "iopub.execute_input": "2024-06-01T09:40:05.949559Z",
     "iopub.status.busy": "2024-06-01T09:40:05.949136Z",
     "iopub.status.idle": "2024-06-01T09:40:17.821110Z",
     "shell.execute_reply": "2024-06-01T09:40:17.820000Z"
    }
   },
   "outputs": [],
   "source": [
    "import numpy as np\n",
    "import pandas as pd\n",
    "import seaborn as sn\n",
    "import matplotlib.pyplot as plt\n",
    "import pymysql.cursors\n",
    "import sqlalchemy as sa\n",
    "import nltk\n",
    "import string\n",
    "import os\n",
    "\n",
    "from nltk.corpus import stopwords \n",
    "from sqlalchemy import create_engine, Column, Integer, String, MetaData, Table\n",
    "from sqlalchemy.sql import text\n",
    "from sqlalchemy.orm import sessionmaker\n",
    "import pandas as pd\n",
    "\n",
    "# nltk.download('stopwords')\n",
    "\n",
    "\n",
    "os.environ['TF_CPP_MIN_LOG_LEVEL'] = '2'\n",
    "\n",
    "# Use a pipeline as a high-level helper\n",
    "from transformers import pipeline\n",
    "pipe = pipeline(\"text-classification\", model=\"ayameRushia/bert-base-indonesian-1.5G-sentiment-analysis-smsa\")"
   ]
  },
  {
   "cell_type": "code",
   "execution_count": 2,
   "id": "ec64d1af-b458-4c9e-9762-1d3d780b616f",
   "metadata": {
    "execution": {
     "iopub.execute_input": "2024-06-01T09:40:17.831040Z",
     "iopub.status.busy": "2024-06-01T09:40:17.828746Z",
     "iopub.status.idle": "2024-06-01T09:40:17.848320Z",
     "shell.execute_reply": "2024-06-01T09:40:17.842531Z"
    }
   },
   "outputs": [],
   "source": [
    "from sqlalchemy.util import deprecations\n",
    "deprecations.SILENCE_UBER_WARNING = True\n",
    "\n",
    "def execute_query(query, params=None):\n",
    "    # Set your PostgreSQL connection parameters\n",
    "    db_params = {\n",
    "        'host': '98.98.117.105',\n",
    "        'port': '5432',\n",
    "        'database': 'medols',\n",
    "        'user': 'postgres',\n",
    "        'password': 'FEWcTB3JIX5gK4T06c1MdkM9N2S8w9pb',\n",
    "    }\n",
    "\n",
    "    # Create a SQLAlchemy engine\n",
    "    engine = create_engine(f\"postgresql+psycopg2://{db_params['user']}:{db_params['password']}@{db_params['host']}:{db_params['port']}/{db_params['database']}\")\n",
    "\n",
    "    # Create a metadata object\n",
    "    metadata = MetaData()\n",
    "\n",
    "    # Example: Define your table\n",
    "    your_table = Table('your_table', metadata,\n",
    "                       Column('id', Integer, primary_key=True),\n",
    "                       Column('column1', String),\n",
    "                       Column('column2', String)\n",
    "                       )\n",
    "\n",
    "    # Create a session\n",
    "    Session = sessionmaker(bind=engine)\n",
    "    session = Session()\n",
    "\n",
    "    try:\n",
    "        # Execute the query with optional parameters\n",
    "        result = session.execute(text(query), params)\n",
    "\n",
    "        # Check if the query is a SELECT query\n",
    "        is_select_query = result.returns_rows\n",
    "\n",
    "        if is_select_query:\n",
    "            # Fetch the data and return as a Pandas DataFrame\n",
    "            columns = result.keys()\n",
    "            fetched_data = result.fetchall()\n",
    "            df = pd.DataFrame(fetched_data, columns=columns)\n",
    "            # print(\"Fetched Data as DataFrame:\")\n",
    "            # print(df)\n",
    "            return df\n",
    "        else:\n",
    "            # Get the number of rows affected for non-SELECT queries\n",
    "            rows_affected = result.rowcount\n",
    "\n",
    "            # Commit the changes to the database for non-SELECT queries\n",
    "            session.commit()\n",
    "\n",
    "            print(f\"Query executed successfully. {rows_affected} rows affected.\")\n",
    "            return rows_affected\n",
    "    except Exception as e:\n",
    "        # Rollback changes if there's an error\n",
    "        session.rollback()\n",
    "        print(f\"Error executing query: {e}\")\n",
    "    finally:\n",
    "        # Close the session\n",
    "        session.close()"
   ]
  },
  {
   "cell_type": "code",
   "execution_count": 3,
   "id": "97cf0378-4165-46bd-abc9-05c3a9fe18ba",
   "metadata": {
    "execution": {
     "iopub.execute_input": "2024-06-01T09:40:17.866643Z",
     "iopub.status.busy": "2024-06-01T09:40:17.853406Z",
     "iopub.status.idle": "2024-06-01T09:40:17.878925Z",
     "shell.execute_reply": "2024-06-01T09:40:17.877653Z"
    }
   },
   "outputs": [],
   "source": [
    "import pandas as pd\n",
    "import re\n",
    "from sqlalchemy import create_engine\n",
    "\n",
    "def stemming(comment):\n",
    "    factory = StemmerFactory()\n",
    "    stemmer = factory.create_stemmer()\n",
    "    do = []\n",
    "    for w in comment:\n",
    "        dt = stemmer.stem(w)\n",
    "        do.append(dt)\n",
    "    d_clean = []\n",
    "    d_clean = \" \".join(do)\n",
    "    return d_clean\n",
    "    \n",
    "# function case folding\n",
    "def casefolding(comment):\n",
    "    comment = comment.lower()\n",
    "    comment = comment.strip(\" \")\n",
    "    comment = re.sub(r'[?|$|.|!_:\")(-+,]','',comment)\n",
    "    return comment\n",
    "\n",
    "def clean_up_tag(comment):\n",
    "    x_ret = ' '.join(re.sub(\"(@[A-Za-z0-9]+)|([^0-9A-Za-z \\t])|(\\w+:\\/\\/\\S+)\",\" \",comment).split())\n",
    "    return x_ret\n",
    "\n",
    "# Text Preprocessing, \n",
    "def text_preproc(strIn):\n",
    "    # case folding\n",
    "    strOut = strIn.lower()\n",
    "    \n",
    "    # remove numbers\n",
    "    strOut = re.sub(r\"\\d+\", \"\", strOut)\n",
    "    \n",
    "    # remote punctuation\n",
    "    strOut = strOut.translate(str.maketrans(\"\",\"\",string.punctuation))\n",
    "    \n",
    "    # remove whitspace\n",
    "    strOut = strOut.strip()\n",
    "    \n",
    "    # \n",
    "    strOut = re.sub('\\s+',' ',strOut)\n",
    "    return strOut"
   ]
  },
  {
   "cell_type": "code",
   "execution_count": 4,
   "id": "438a292a-3e97-4161-bcaf-1887c838ae1f",
   "metadata": {
    "execution": {
     "iopub.execute_input": "2024-06-01T09:40:17.883615Z",
     "iopub.status.busy": "2024-06-01T09:40:17.883186Z",
     "iopub.status.idle": "2024-06-01T09:40:17.905892Z",
     "shell.execute_reply": "2024-06-01T09:40:17.901660Z"
    }
   },
   "outputs": [],
   "source": [
    "def process_by_df(source_ds, col_name):\n",
    "    from tqdm import tqdm\n",
    "    pd.options.mode.chained_assignment = None \n",
    "    \n",
    "    # trim to 2500 character\n",
    "    source_ds[col_name] = source_ds[col_name].str.slice(0,2000)\n",
    "\n",
    "    # skip stemming\n",
    "    source_ds['stemmed'] = source_ds[col_name].apply(clean_up_tag)\n",
    "    source_ds['stemmed'] = source_ds['stemmed'].apply(casefolding)\n",
    "    source_ds['stemmed'] = source_ds['stemmed'].apply(text_preproc)\n",
    "\n",
    "    sw = stopwords.words('indonesian')\n",
    "    #tokenized\n",
    "    source_ds['tokenized_tweet'] = source_ds.apply(lambda row: nltk.word_tokenize(row['stemmed']), axis=1)\n",
    "\n",
    "    # apply stopword removal\n",
    "    source_ds['tokenized_tweet'] = source_ds.apply(lambda row: {w for w in row['tokenized_tweet'] if not w in sw}, axis=1)\n",
    "    sw = stopwords.words('indonesian')\n",
    "\n",
    "    #tokenized\n",
    "    source_ds['tokenized_tweet'] = source_ds.apply(lambda row: nltk.word_tokenize(row['stemmed']), axis=1)\n",
    "\n",
    "    # apply stopword removal\n",
    "    source_ds['tokenized_tweet'] = source_ds.apply(lambda row: {w for w in row['tokenized_tweet'] if not w in sw}, axis=1)\n",
    "\n",
    "    # Notes on return sentiment values\n",
    "    # 1 >> positif >> stay\n",
    "    # 2 >> negatif >> convert to -1\n",
    "    # 0 >> netral >> stay\n",
    "\n",
    "    # Create a new list and insert each element from the original list\n",
    "    from tqdm import tqdm\n",
    "\n",
    "    list_text = source_ds['stemmed'].tolist()\n",
    "    new_list = []\n",
    "    for i in tqdm(range( len(list_text) )):\n",
    "        # print(len(list_text[i]))\n",
    "        try:\n",
    "            if len(list_text[i]) > 0:\n",
    "                res = pipe( list_text[i] )\n",
    "                new_list.append(res)\n",
    "            else:\n",
    "                res = pipe( 'kalimat netral' )\n",
    "                new_list.append(res)\n",
    "                zip\n",
    "        except Exception as e:\n",
    "            # Handle the exception (error) here\n",
    "            print(f\"Error processing value at index {i}: {list_text[i]}\")\n",
    "            print(f\"Error message: {str(e)}\")\n",
    "            res = pipe( 'kalimat netral' )\n",
    "            new_list.append(res)      \n",
    "            \n",
    "            continue\n",
    "\n",
    "    # Notes on return sentiment values\n",
    "    # 1 >> positif >> stay\n",
    "    # 2 >> negatif >> convert to -1\n",
    "    # 0 >> netral >> stay\n",
    "    # create a list of our conditions\n",
    "    for i in range(0, len(new_list)):\n",
    "        # print(new_list[i][0]['label'])\n",
    "        if new_list[i][0]['label'] == 'Positive':\n",
    "            new_list[i][0]['Value'] = 1\n",
    "        elif new_list[i][0]['label'] == 'Negative':\n",
    "            new_list[i][0]['Value'] = -1\n",
    "        elif new_list[i][0]['label'] == 'Neutral':\n",
    "            new_list[i][0]['Value'] = 0\n",
    "\n",
    "    for index, row in source_ds.iterrows():\n",
    "        source_ds.at[index,'Prediction'] = new_list[index][0]['label']\n",
    "\n",
    "    for index, row in source_ds.iterrows():\n",
    "        source_ds.at[index,'Prediction'] = new_list[index][0]['label']\n",
    "        source_ds.at[index,'Score'] = new_list[index][0]['score']\n",
    "        #source_ds.at[index,'Score'] = new_list[index][0]['Value']\n",
    "        \n",
    "    return source_ds\n"
   ]
  },
  {
   "cell_type": "code",
   "execution_count": 5,
   "id": "325b5528-6ca4-411d-9b57-069e3a6d3a25",
   "metadata": {
    "execution": {
     "iopub.execute_input": "2024-06-01T09:40:17.911389Z",
     "iopub.status.busy": "2024-06-01T09:40:17.910942Z",
     "iopub.status.idle": "2024-06-01T09:40:18.166981Z",
     "shell.execute_reply": "2024-06-01T09:40:18.165629Z"
    }
   },
   "outputs": [],
   "source": [
    "# query 400 rows of data query data from table\n",
    "select_query = \"select * \\\n",
    "from news_national_medol gr \\\n",
    "where id not in (select news_national_medol_id from news_national_medol_sentiment) \\\n",
    "order by id desc limit 500\"\n",
    "\n",
    "source_ds = execute_query(select_query)\n",
    "\n",
    "if len(source_ds) == 0:\n",
    "    # get out, nothing to do\n",
    "    print('Zero jobs, quitting now')\n",
    "    quit()\n",
    "    \n",
    "# source_ds.head()"
   ]
  },
  {
   "cell_type": "code",
   "execution_count": 6,
   "id": "5a9fe7d0-c005-45ad-8291-16c8bd9f7dbf",
   "metadata": {
    "execution": {
     "iopub.execute_input": "2024-06-01T09:40:18.172442Z",
     "iopub.status.busy": "2024-06-01T09:40:18.171884Z",
     "iopub.status.idle": "2024-06-01T09:40:33.824187Z",
     "shell.execute_reply": "2024-06-01T09:40:33.821575Z"
    }
   },
   "outputs": [
    {
     "name": "stderr",
     "output_type": "stream",
     "text": [
      "\r",
      "  0%|          | 0/13 [00:00<?, ?it/s]"
     ]
    },
    {
     "name": "stderr",
     "output_type": "stream",
     "text": [
      "\r",
      "  8%|▊         | 1/13 [00:01<00:16,  1.40s/it]"
     ]
    },
    {
     "name": "stderr",
     "output_type": "stream",
     "text": [
      "\r",
      " 15%|█▌        | 2/13 [00:02<00:15,  1.37s/it]"
     ]
    },
    {
     "name": "stderr",
     "output_type": "stream",
     "text": [
      "\r",
      " 23%|██▎       | 3/13 [00:03<00:11,  1.11s/it]"
     ]
    },
    {
     "name": "stderr",
     "output_type": "stream",
     "text": [
      "\r",
      " 31%|███       | 4/13 [00:04<00:10,  1.17s/it]"
     ]
    },
    {
     "name": "stderr",
     "output_type": "stream",
     "text": [
      "\r",
      " 38%|███▊      | 5/13 [00:05<00:08,  1.04s/it]"
     ]
    },
    {
     "name": "stderr",
     "output_type": "stream",
     "text": [
      "\r",
      " 46%|████▌     | 6/13 [00:06<00:06,  1.01it/s]"
     ]
    },
    {
     "name": "stderr",
     "output_type": "stream",
     "text": [
      "\r",
      " 54%|█████▍    | 7/13 [00:07<00:06,  1.11s/it]"
     ]
    },
    {
     "name": "stderr",
     "output_type": "stream",
     "text": [
      "\r",
      " 62%|██████▏   | 8/13 [00:08<00:05,  1.06s/it]"
     ]
    },
    {
     "name": "stderr",
     "output_type": "stream",
     "text": [
      "\r",
      " 69%|██████▉   | 9/13 [00:09<00:04,  1.07s/it]"
     ]
    },
    {
     "name": "stderr",
     "output_type": "stream",
     "text": [
      "\r",
      " 77%|███████▋  | 10/13 [00:11<00:03,  1.21s/it]"
     ]
    },
    {
     "name": "stderr",
     "output_type": "stream",
     "text": [
      "\r",
      " 85%|████████▍ | 11/13 [00:12<00:02,  1.25s/it]"
     ]
    },
    {
     "name": "stderr",
     "output_type": "stream",
     "text": [
      "\r",
      " 92%|█████████▏| 12/13 [00:14<00:01,  1.32s/it]"
     ]
    },
    {
     "name": "stderr",
     "output_type": "stream",
     "text": [
      "\r",
      "100%|██████████| 13/13 [00:15<00:00,  1.32s/it]"
     ]
    },
    {
     "name": "stderr",
     "output_type": "stream",
     "text": [
      "\r",
      "100%|██████████| 13/13 [00:15<00:00,  1.20s/it]"
     ]
    },
    {
     "name": "stderr",
     "output_type": "stream",
     "text": [
      "\n"
     ]
    }
   ],
   "source": [
    "ds_title = source_ds\n",
    "res_ds = process_by_df(ds_title,'title')"
   ]
  },
  {
   "cell_type": "code",
   "execution_count": 7,
   "id": "4d30b8a9-31bc-4bd6-a4da-7484686cac4b",
   "metadata": {
    "execution": {
     "iopub.execute_input": "2024-06-01T09:40:33.836594Z",
     "iopub.status.busy": "2024-06-01T09:40:33.831919Z",
     "iopub.status.idle": "2024-06-01T09:40:33.877065Z",
     "shell.execute_reply": "2024-06-01T09:40:33.876143Z"
    }
   },
   "outputs": [
    {
     "data": {
      "text/html": [
       "<div>\n",
       "<style scoped>\n",
       "    .dataframe tbody tr th:only-of-type {\n",
       "        vertical-align: middle;\n",
       "    }\n",
       "\n",
       "    .dataframe tbody tr th {\n",
       "        vertical-align: top;\n",
       "    }\n",
       "\n",
       "    .dataframe thead th {\n",
       "        text-align: right;\n",
       "    }\n",
       "</style>\n",
       "<table border=\"1\" class=\"dataframe\">\n",
       "  <thead>\n",
       "    <tr style=\"text-align: right;\">\n",
       "      <th></th>\n",
       "      <th>id</th>\n",
       "      <th>title</th>\n",
       "      <th>content</th>\n",
       "      <th>publish_date</th>\n",
       "      <th>publisher</th>\n",
       "      <th>source</th>\n",
       "      <th>search_url</th>\n",
       "      <th>created_date</th>\n",
       "      <th>national_medol_id</th>\n",
       "      <th>is_polri</th>\n",
       "      <th>reporter</th>\n",
       "      <th>editor</th>\n",
       "      <th>is_deleted</th>\n",
       "      <th>publish_date_convert</th>\n",
       "      <th>calculation_mark</th>\n",
       "      <th>stemmed</th>\n",
       "      <th>tokenized_tweet</th>\n",
       "      <th>Prediction</th>\n",
       "      <th>Score</th>\n",
       "    </tr>\n",
       "  </thead>\n",
       "  <tbody>\n",
       "    <tr>\n",
       "      <th>0</th>\n",
       "      <td>61860</td>\n",
       "      <td>Bamsoet Ungkap, Dunia Internasional Kagumi Pan...</td>\n",
       "      <td>RM.id  Rakyat Merdeka - Ketua MPR sekaligus Wa...</td>\n",
       "      <td>Sabtu, 1 Juni 2024 16:01 WIB</td>\n",
       "      <td></td>\n",
       "      <td>https://rm.id/</td>\n",
       "      <td>https://rm.id/baca-berita/parlemen/222647/upac...</td>\n",
       "      <td>2024-06-01 16:33:36.265070</td>\n",
       "      <td>17</td>\n",
       "      <td>True</td>\n",
       "      <td>UJANG SUNDA</td>\n",
       "      <td>UJANG SUNDA</td>\n",
       "      <td>False</td>\n",
       "      <td>2024-06-01 16:01:00</td>\n",
       "      <td>1</td>\n",
       "      <td>bamsoet ungkap dunia internasional kagumi panc...</td>\n",
       "      <td>{bamsoet, kagumi, pancasila, internasional, du...</td>\n",
       "      <td>Neutral</td>\n",
       "      <td>0.644616</td>\n",
       "    </tr>\n",
       "    <tr>\n",
       "      <th>1</th>\n",
       "      <td>61859</td>\n",
       "      <td>Di Depan BEM PTNU Se-Nusantara, Bahlil Dorong ...</td>\n",
       "      <td>RM.id  Rakyat Merdeka - Menteri Investasi/Kepa...</td>\n",
       "      <td>Sabtu, 1 Juni 2024 15:46 WIB</td>\n",
       "      <td></td>\n",
       "      <td>https://rm.id/</td>\n",
       "      <td>https://rm.id/baca-berita/ekonomi-bisnis/22264...</td>\n",
       "      <td>2024-06-01 16:33:36.257516</td>\n",
       "      <td>17</td>\n",
       "      <td>False</td>\n",
       "      <td>DWI ILHAMIEditor :</td>\n",
       "      <td>SRI NURGANINGSIH</td>\n",
       "      <td>False</td>\n",
       "      <td>2024-06-01 15:46:00</td>\n",
       "      <td>1</td>\n",
       "      <td>di depan bem ptnu se nusantara bahlil dorong m...</td>\n",
       "      <td>{dorong, mahasiswa, bem, nusantara, bahlil, pt...</td>\n",
       "      <td>Neutral</td>\n",
       "      <td>0.999673</td>\n",
       "    </tr>\n",
       "    <tr>\n",
       "      <th>2</th>\n",
       "      <td>61858</td>\n",
       "      <td>Jokowi Minta Pertamina Dan PLN Geber Energi Hi...</td>\n",
       "      <td>RM.id  Rakyat Merdeka - Presiden Jokowi mengim...</td>\n",
       "      <td>Sabtu, 1 Juni 2024 15:43 WIB</td>\n",
       "      <td></td>\n",
       "      <td>https://rm.id/</td>\n",
       "      <td>https://rm.id/baca-berita/ekonomi-bisnis/22264...</td>\n",
       "      <td>2024-06-01 16:33:36.249971</td>\n",
       "      <td>17</td>\n",
       "      <td>False</td>\n",
       "      <td>FIRSTY HESTYARINI</td>\n",
       "      <td>FIRSTY HESTYARINI</td>\n",
       "      <td>False</td>\n",
       "      <td>2024-06-01 15:43:00</td>\n",
       "      <td>1</td>\n",
       "      <td>jokowi minta pertamina dan pln geber energi hi...</td>\n",
       "      <td>{jokowi, alasannya, pln, hijau, geber, pertami...</td>\n",
       "      <td>Neutral</td>\n",
       "      <td>0.999761</td>\n",
       "    </tr>\n",
       "    <tr>\n",
       "      <th>3</th>\n",
       "      <td>61857</td>\n",
       "      <td>Update Haji: 146 Ribu Jemaah Telah Tiba di Tan...</td>\n",
       "      <td>RM.id  Rakyat Merdeka - Berdasarkan laporan Pe...</td>\n",
       "      <td>Sabtu, 1 Juni 2024 15:05 WIB</td>\n",
       "      <td></td>\n",
       "      <td>https://rm.id/</td>\n",
       "      <td>https://rm.id/baca-berita/humaniora/222640/upd...</td>\n",
       "      <td>2024-06-01 16:33:36.243274</td>\n",
       "      <td>17</td>\n",
       "      <td>False</td>\n",
       "      <td>UJANG SUNDA</td>\n",
       "      <td>UJANG SUNDA</td>\n",
       "      <td>False</td>\n",
       "      <td>2024-06-01 15:05:00</td>\n",
       "      <td>1</td>\n",
       "      <td>update haji ribu jemaah telah tiba di tanah su...</td>\n",
       "      <td>{tanah, suci, jemaah, haji, wafat, ribu, orang...</td>\n",
       "      <td>Neutral</td>\n",
       "      <td>0.999694</td>\n",
       "    </tr>\n",
       "    <tr>\n",
       "      <th>4</th>\n",
       "      <td>61856</td>\n",
       "      <td>Perolehan Suara Melorot, Ketua PPP DKI Didesak...</td>\n",
       "      <td>RM.id  Rakyat Merdeka - Kinerja pengurus Parta...</td>\n",
       "      <td>Sabtu, 1 Juni 2024 15:04 WIB</td>\n",
       "      <td></td>\n",
       "      <td>https://rm.id/</td>\n",
       "      <td>https://rm.id/baca-berita/parpol/222641/perole...</td>\n",
       "      <td>2024-06-01 16:33:36.236495</td>\n",
       "      <td>17</td>\n",
       "      <td>False</td>\n",
       "      <td>DEDE ISWADI IDRISEditor :</td>\n",
       "      <td>FAQIH MUBAROK</td>\n",
       "      <td>False</td>\n",
       "      <td>2024-06-01 15:04:00</td>\n",
       "      <td>1</td>\n",
       "      <td>perolehan suara melorot ketua ppp dki didesak ...</td>\n",
       "      <td>{melorot, undur, suara, ppp, dki, ketua, dides...</td>\n",
       "      <td>Neutral</td>\n",
       "      <td>0.999639</td>\n",
       "    </tr>\n",
       "  </tbody>\n",
       "</table>\n",
       "</div>"
      ],
      "text/plain": [
       "      id                                              title  \\\n",
       "0  61860  Bamsoet Ungkap, Dunia Internasional Kagumi Pan...   \n",
       "1  61859  Di Depan BEM PTNU Se-Nusantara, Bahlil Dorong ...   \n",
       "2  61858  Jokowi Minta Pertamina Dan PLN Geber Energi Hi...   \n",
       "3  61857  Update Haji: 146 Ribu Jemaah Telah Tiba di Tan...   \n",
       "4  61856  Perolehan Suara Melorot, Ketua PPP DKI Didesak...   \n",
       "\n",
       "                                             content  \\\n",
       "0  RM.id  Rakyat Merdeka - Ketua MPR sekaligus Wa...   \n",
       "1  RM.id  Rakyat Merdeka - Menteri Investasi/Kepa...   \n",
       "2  RM.id  Rakyat Merdeka - Presiden Jokowi mengim...   \n",
       "3  RM.id  Rakyat Merdeka - Berdasarkan laporan Pe...   \n",
       "4  RM.id  Rakyat Merdeka - Kinerja pengurus Parta...   \n",
       "\n",
       "                   publish_date publisher          source  \\\n",
       "0  Sabtu, 1 Juni 2024 16:01 WIB            https://rm.id/   \n",
       "1  Sabtu, 1 Juni 2024 15:46 WIB            https://rm.id/   \n",
       "2  Sabtu, 1 Juni 2024 15:43 WIB            https://rm.id/   \n",
       "3  Sabtu, 1 Juni 2024 15:05 WIB            https://rm.id/   \n",
       "4  Sabtu, 1 Juni 2024 15:04 WIB            https://rm.id/   \n",
       "\n",
       "                                          search_url  \\\n",
       "0  https://rm.id/baca-berita/parlemen/222647/upac...   \n",
       "1  https://rm.id/baca-berita/ekonomi-bisnis/22264...   \n",
       "2  https://rm.id/baca-berita/ekonomi-bisnis/22264...   \n",
       "3  https://rm.id/baca-berita/humaniora/222640/upd...   \n",
       "4  https://rm.id/baca-berita/parpol/222641/perole...   \n",
       "\n",
       "                created_date  national_medol_id  is_polri  \\\n",
       "0 2024-06-01 16:33:36.265070                 17      True   \n",
       "1 2024-06-01 16:33:36.257516                 17     False   \n",
       "2 2024-06-01 16:33:36.249971                 17     False   \n",
       "3 2024-06-01 16:33:36.243274                 17     False   \n",
       "4 2024-06-01 16:33:36.236495                 17     False   \n",
       "\n",
       "                    reporter             editor  is_deleted  \\\n",
       "0                UJANG SUNDA        UJANG SUNDA       False   \n",
       "1         DWI ILHAMIEditor :   SRI NURGANINGSIH       False   \n",
       "2          FIRSTY HESTYARINI  FIRSTY HESTYARINI       False   \n",
       "3                UJANG SUNDA        UJANG SUNDA       False   \n",
       "4  DEDE ISWADI IDRISEditor :      FAQIH MUBAROK       False   \n",
       "\n",
       "  publish_date_convert  calculation_mark  \\\n",
       "0  2024-06-01 16:01:00                 1   \n",
       "1  2024-06-01 15:46:00                 1   \n",
       "2  2024-06-01 15:43:00                 1   \n",
       "3  2024-06-01 15:05:00                 1   \n",
       "4  2024-06-01 15:04:00                 1   \n",
       "\n",
       "                                             stemmed  \\\n",
       "0  bamsoet ungkap dunia internasional kagumi panc...   \n",
       "1  di depan bem ptnu se nusantara bahlil dorong m...   \n",
       "2  jokowi minta pertamina dan pln geber energi hi...   \n",
       "3  update haji ribu jemaah telah tiba di tanah su...   \n",
       "4  perolehan suara melorot ketua ppp dki didesak ...   \n",
       "\n",
       "                                     tokenized_tweet Prediction     Score  \n",
       "0  {bamsoet, kagumi, pancasila, internasional, du...    Neutral  0.644616  \n",
       "1  {dorong, mahasiswa, bem, nusantara, bahlil, pt...    Neutral  0.999673  \n",
       "2  {jokowi, alasannya, pln, hijau, geber, pertami...    Neutral  0.999761  \n",
       "3  {tanah, suci, jemaah, haji, wafat, ribu, orang...    Neutral  0.999694  \n",
       "4  {melorot, undur, suara, ppp, dki, ketua, dides...    Neutral  0.999639  "
      ]
     },
     "execution_count": 7,
     "metadata": {},
     "output_type": "execute_result"
    }
   ],
   "source": [
    "res_ds.head()"
   ]
  },
  {
   "cell_type": "code",
   "execution_count": 8,
   "id": "c5d92f04-856f-49d7-ac4c-b10fb4516774",
   "metadata": {
    "execution": {
     "iopub.execute_input": "2024-06-01T09:40:33.884912Z",
     "iopub.status.busy": "2024-06-01T09:40:33.881883Z",
     "iopub.status.idle": "2024-06-01T09:40:34.381025Z",
     "shell.execute_reply": "2024-06-01T09:40:34.379686Z"
    }
   },
   "outputs": [
    {
     "name": "stdout",
     "output_type": "stream",
     "text": [
      "Query executed successfully. 1 rows affected.\n",
      "Query executed successfully. 1 rows affected.\n",
      "Query executed successfully. 1 rows affected.\n",
      "Query executed successfully. 1 rows affected.\n",
      "Query executed successfully. 1 rows affected.\n",
      "Query executed successfully. 1 rows affected.\n"
     ]
    },
    {
     "name": "stdout",
     "output_type": "stream",
     "text": [
      "Query executed successfully. 1 rows affected.\n",
      "Query executed successfully. 1 rows affected.\n",
      "Query executed successfully. 1 rows affected.\n",
      "Query executed successfully. 1 rows affected.\n",
      "Query executed successfully. 1 rows affected.\n",
      "Query executed successfully. 1 rows affected.\n"
     ]
    },
    {
     "name": "stdout",
     "output_type": "stream",
     "text": [
      "Query executed successfully. 1 rows affected.\n"
     ]
    }
   ],
   "source": [
    "# record result\n",
    "sentiment_class = 0\n",
    "\n",
    "# INSERT INTO public.news_national_medol_sentiment (sentiment_category, score, news_national_medol_id) VALUES( 0, 0, 0);\n",
    "\n",
    "for index, row in res_ds.iterrows():\n",
    "    if row['Prediction'] == 'Positive':\n",
    "        sentiment_class = 1\n",
    "    elif row['Prediction'] == 'Negative':\n",
    "        sentiment_class = -1\n",
    "    else:\n",
    "        sentiment_class = 0\n",
    "        \n",
    "    sql = \"INSERT INTO news_national_medol_sentiment (sentiment_category, score, news_national_medol_id) VALUES(%s, %s, %s);\" % (sentiment_class,row['Score'],row['id']) \n",
    "    # print(sql)\n",
    "    execute_query(sql)"
   ]
  },
  {
   "cell_type": "code",
   "execution_count": 9,
   "id": "67f357c0-df61-4855-9dfe-f28e94536a50",
   "metadata": {
    "execution": {
     "iopub.execute_input": "2024-06-01T09:40:34.386711Z",
     "iopub.status.busy": "2024-06-01T09:40:34.386072Z",
     "iopub.status.idle": "2024-06-01T09:41:11.065693Z",
     "shell.execute_reply": "2024-06-01T09:41:11.058490Z"
    }
   },
   "outputs": [
    {
     "name": "stderr",
     "output_type": "stream",
     "text": [
      "\r",
      "  0%|          | 0/13 [00:00<?, ?it/s]"
     ]
    },
    {
     "name": "stderr",
     "output_type": "stream",
     "text": [
      "\r",
      "  8%|▊         | 1/13 [00:02<00:29,  2.47s/it]"
     ]
    },
    {
     "name": "stderr",
     "output_type": "stream",
     "text": [
      "\r",
      " 15%|█▌        | 2/13 [00:05<00:28,  2.59s/it]"
     ]
    },
    {
     "name": "stderr",
     "output_type": "stream",
     "text": [
      "\r",
      " 23%|██▎       | 3/13 [00:07<00:26,  2.63s/it]"
     ]
    },
    {
     "name": "stderr",
     "output_type": "stream",
     "text": [
      "\r",
      " 31%|███       | 4/13 [00:10<00:22,  2.52s/it]"
     ]
    },
    {
     "name": "stderr",
     "output_type": "stream",
     "text": [
      "\r",
      " 38%|███▊      | 5/13 [00:13<00:21,  2.67s/it]"
     ]
    },
    {
     "name": "stderr",
     "output_type": "stream",
     "text": [
      "\r",
      " 46%|████▌     | 6/13 [00:15<00:18,  2.63s/it]"
     ]
    },
    {
     "name": "stderr",
     "output_type": "stream",
     "text": [
      "\r",
      " 54%|█████▍    | 7/13 [00:18<00:15,  2.59s/it]"
     ]
    },
    {
     "name": "stderr",
     "output_type": "stream",
     "text": [
      "\r",
      " 62%|██████▏   | 8/13 [00:20<00:11,  2.35s/it]"
     ]
    },
    {
     "name": "stderr",
     "output_type": "stream",
     "text": [
      "\r",
      " 69%|██████▉   | 9/13 [00:22<00:09,  2.48s/it]"
     ]
    },
    {
     "name": "stderr",
     "output_type": "stream",
     "text": [
      "\r",
      " 77%|███████▋  | 10/13 [00:25<00:07,  2.51s/it]"
     ]
    },
    {
     "name": "stderr",
     "output_type": "stream",
     "text": [
      "\r",
      " 85%|████████▍ | 11/13 [00:29<00:05,  2.92s/it]"
     ]
    },
    {
     "name": "stderr",
     "output_type": "stream",
     "text": [
      "\r",
      " 92%|█████████▏| 12/13 [00:33<00:03,  3.23s/it]"
     ]
    },
    {
     "name": "stderr",
     "output_type": "stream",
     "text": [
      "\r",
      "100%|██████████| 13/13 [00:36<00:00,  3.26s/it]"
     ]
    },
    {
     "name": "stderr",
     "output_type": "stream",
     "text": [
      "\r",
      "100%|██████████| 13/13 [00:36<00:00,  2.81s/it]"
     ]
    },
    {
     "name": "stderr",
     "output_type": "stream",
     "text": [
      "\n"
     ]
    }
   ],
   "source": [
    "ds_content = source_ds\n",
    "res_ds_content = process_by_df(ds_content,'content')"
   ]
  },
  {
   "cell_type": "code",
   "execution_count": 10,
   "id": "71b27044-32ec-4ca2-bbf6-b6f5e2522f73",
   "metadata": {
    "execution": {
     "iopub.execute_input": "2024-06-01T09:41:11.072979Z",
     "iopub.status.busy": "2024-06-01T09:41:11.070474Z",
     "iopub.status.idle": "2024-06-01T09:41:11.110513Z",
     "shell.execute_reply": "2024-06-01T09:41:11.107044Z"
    }
   },
   "outputs": [
    {
     "data": {
      "text/html": [
       "<div>\n",
       "<style scoped>\n",
       "    .dataframe tbody tr th:only-of-type {\n",
       "        vertical-align: middle;\n",
       "    }\n",
       "\n",
       "    .dataframe tbody tr th {\n",
       "        vertical-align: top;\n",
       "    }\n",
       "\n",
       "    .dataframe thead th {\n",
       "        text-align: right;\n",
       "    }\n",
       "</style>\n",
       "<table border=\"1\" class=\"dataframe\">\n",
       "  <thead>\n",
       "    <tr style=\"text-align: right;\">\n",
       "      <th></th>\n",
       "      <th>id</th>\n",
       "      <th>title</th>\n",
       "      <th>content</th>\n",
       "      <th>publish_date</th>\n",
       "      <th>publisher</th>\n",
       "      <th>source</th>\n",
       "      <th>search_url</th>\n",
       "      <th>created_date</th>\n",
       "      <th>national_medol_id</th>\n",
       "      <th>is_polri</th>\n",
       "      <th>reporter</th>\n",
       "      <th>editor</th>\n",
       "      <th>is_deleted</th>\n",
       "      <th>publish_date_convert</th>\n",
       "      <th>calculation_mark</th>\n",
       "      <th>stemmed</th>\n",
       "      <th>tokenized_tweet</th>\n",
       "      <th>Prediction</th>\n",
       "      <th>Score</th>\n",
       "    </tr>\n",
       "  </thead>\n",
       "  <tbody>\n",
       "    <tr>\n",
       "      <th>0</th>\n",
       "      <td>61860</td>\n",
       "      <td>Bamsoet Ungkap, Dunia Internasional Kagumi Pan...</td>\n",
       "      <td>RM.id  Rakyat Merdeka - Ketua MPR sekaligus Wa...</td>\n",
       "      <td>Sabtu, 1 Juni 2024 16:01 WIB</td>\n",
       "      <td></td>\n",
       "      <td>https://rm.id/</td>\n",
       "      <td>https://rm.id/baca-berita/parlemen/222647/upac...</td>\n",
       "      <td>2024-06-01 16:33:36.265070</td>\n",
       "      <td>17</td>\n",
       "      <td>True</td>\n",
       "      <td>UJANG SUNDA</td>\n",
       "      <td>UJANG SUNDA</td>\n",
       "      <td>False</td>\n",
       "      <td>2024-06-01 16:01:00</td>\n",
       "      <td>1</td>\n",
       "      <td>rm id rakyat merdeka ketua mpr sekaligus wakil...</td>\n",
       "      <td>{dasar, kemerdekaan, riau, kediaman, menteri, ...</td>\n",
       "      <td>Neutral</td>\n",
       "      <td>0.999451</td>\n",
       "    </tr>\n",
       "    <tr>\n",
       "      <th>1</th>\n",
       "      <td>61859</td>\n",
       "      <td>Di Depan BEM PTNU Se-Nusantara, Bahlil Dorong ...</td>\n",
       "      <td>RM.id  Rakyat Merdeka - Menteri Investasi/Kepa...</td>\n",
       "      <td>Sabtu, 1 Juni 2024 15:46 WIB</td>\n",
       "      <td></td>\n",
       "      <td>https://rm.id/</td>\n",
       "      <td>https://rm.id/baca-berita/ekonomi-bisnis/22264...</td>\n",
       "      <td>2024-06-01 16:33:36.257516</td>\n",
       "      <td>17</td>\n",
       "      <td>False</td>\n",
       "      <td>DWI ILHAMIEditor :</td>\n",
       "      <td>SRI NURGANINGSIH</td>\n",
       "      <td>False</td>\n",
       "      <td>2024-06-01 15:46:00</td>\n",
       "      <td>1</td>\n",
       "      <td>rm id rakyat merdeka menteri investasi kepala ...</td>\n",
       "      <td>{juta, perguruan, kepala, digit, sektor, kesei...</td>\n",
       "      <td>Neutral</td>\n",
       "      <td>0.713130</td>\n",
       "    </tr>\n",
       "    <tr>\n",
       "      <th>2</th>\n",
       "      <td>61858</td>\n",
       "      <td>Jokowi Minta Pertamina Dan PLN Geber Energi Hi...</td>\n",
       "      <td>RM.id  Rakyat Merdeka - Presiden Jokowi mengim...</td>\n",
       "      <td>Sabtu, 1 Juni 2024 15:43 WIB</td>\n",
       "      <td></td>\n",
       "      <td>https://rm.id/</td>\n",
       "      <td>https://rm.id/baca-berita/ekonomi-bisnis/22264...</td>\n",
       "      <td>2024-06-01 16:33:36.249971</td>\n",
       "      <td>17</td>\n",
       "      <td>False</td>\n",
       "      <td>FIRSTY HESTYARINI</td>\n",
       "      <td>FIRSTY HESTYARINI</td>\n",
       "      <td>False</td>\n",
       "      <td>2024-06-01 15:43:00</td>\n",
       "      <td>1</td>\n",
       "      <td>rm id rakyat merdeka presiden jokowi mengimbau...</td>\n",
       "      <td>{mengimbau, riau, gelar, ekspor, panas, energi...</td>\n",
       "      <td>Positive</td>\n",
       "      <td>0.969753</td>\n",
       "    </tr>\n",
       "    <tr>\n",
       "      <th>3</th>\n",
       "      <td>61857</td>\n",
       "      <td>Update Haji: 146 Ribu Jemaah Telah Tiba di Tan...</td>\n",
       "      <td>RM.id  Rakyat Merdeka - Berdasarkan laporan Pe...</td>\n",
       "      <td>Sabtu, 1 Juni 2024 15:05 WIB</td>\n",
       "      <td></td>\n",
       "      <td>https://rm.id/</td>\n",
       "      <td>https://rm.id/baca-berita/humaniora/222640/upd...</td>\n",
       "      <td>2024-06-01 16:33:36.243274</td>\n",
       "      <td>17</td>\n",
       "      <td>False</td>\n",
       "      <td>UJANG SUNDA</td>\n",
       "      <td>UJANG SUNDA</td>\n",
       "      <td>False</td>\n",
       "      <td>2024-06-01 15:05:00</td>\n",
       "      <td>1</td>\n",
       "      <td>rm id rakyat merdeka berdasarkan laporan petug...</td>\n",
       "      <td>{jemaah, arab, orang, indonesia, wafatsementar...</td>\n",
       "      <td>Neutral</td>\n",
       "      <td>0.999562</td>\n",
       "    </tr>\n",
       "    <tr>\n",
       "      <th>4</th>\n",
       "      <td>61856</td>\n",
       "      <td>Perolehan Suara Melorot, Ketua PPP DKI Didesak...</td>\n",
       "      <td>RM.id  Rakyat Merdeka - Kinerja pengurus Parta...</td>\n",
       "      <td>Sabtu, 1 Juni 2024 15:04 WIB</td>\n",
       "      <td></td>\n",
       "      <td>https://rm.id/</td>\n",
       "      <td>https://rm.id/baca-berita/parpol/222641/perole...</td>\n",
       "      <td>2024-06-01 16:33:36.236495</td>\n",
       "      <td>17</td>\n",
       "      <td>False</td>\n",
       "      <td>DEDE ISWADI IDRISEditor :</td>\n",
       "      <td>FAQIH MUBAROK</td>\n",
       "      <td>False</td>\n",
       "      <td>2024-06-01 15:04:00</td>\n",
       "      <td>1</td>\n",
       "      <td>rm id rakyat merdeka kinerja pengurus partai p...</td>\n",
       "      <td>{fakta, meraih, terbukti, wilayah, zaky, mente...</td>\n",
       "      <td>Neutral</td>\n",
       "      <td>0.978405</td>\n",
       "    </tr>\n",
       "  </tbody>\n",
       "</table>\n",
       "</div>"
      ],
      "text/plain": [
       "      id                                              title  \\\n",
       "0  61860  Bamsoet Ungkap, Dunia Internasional Kagumi Pan...   \n",
       "1  61859  Di Depan BEM PTNU Se-Nusantara, Bahlil Dorong ...   \n",
       "2  61858  Jokowi Minta Pertamina Dan PLN Geber Energi Hi...   \n",
       "3  61857  Update Haji: 146 Ribu Jemaah Telah Tiba di Tan...   \n",
       "4  61856  Perolehan Suara Melorot, Ketua PPP DKI Didesak...   \n",
       "\n",
       "                                             content  \\\n",
       "0  RM.id  Rakyat Merdeka - Ketua MPR sekaligus Wa...   \n",
       "1  RM.id  Rakyat Merdeka - Menteri Investasi/Kepa...   \n",
       "2  RM.id  Rakyat Merdeka - Presiden Jokowi mengim...   \n",
       "3  RM.id  Rakyat Merdeka - Berdasarkan laporan Pe...   \n",
       "4  RM.id  Rakyat Merdeka - Kinerja pengurus Parta...   \n",
       "\n",
       "                   publish_date publisher          source  \\\n",
       "0  Sabtu, 1 Juni 2024 16:01 WIB            https://rm.id/   \n",
       "1  Sabtu, 1 Juni 2024 15:46 WIB            https://rm.id/   \n",
       "2  Sabtu, 1 Juni 2024 15:43 WIB            https://rm.id/   \n",
       "3  Sabtu, 1 Juni 2024 15:05 WIB            https://rm.id/   \n",
       "4  Sabtu, 1 Juni 2024 15:04 WIB            https://rm.id/   \n",
       "\n",
       "                                          search_url  \\\n",
       "0  https://rm.id/baca-berita/parlemen/222647/upac...   \n",
       "1  https://rm.id/baca-berita/ekonomi-bisnis/22264...   \n",
       "2  https://rm.id/baca-berita/ekonomi-bisnis/22264...   \n",
       "3  https://rm.id/baca-berita/humaniora/222640/upd...   \n",
       "4  https://rm.id/baca-berita/parpol/222641/perole...   \n",
       "\n",
       "                created_date  national_medol_id  is_polri  \\\n",
       "0 2024-06-01 16:33:36.265070                 17      True   \n",
       "1 2024-06-01 16:33:36.257516                 17     False   \n",
       "2 2024-06-01 16:33:36.249971                 17     False   \n",
       "3 2024-06-01 16:33:36.243274                 17     False   \n",
       "4 2024-06-01 16:33:36.236495                 17     False   \n",
       "\n",
       "                    reporter             editor  is_deleted  \\\n",
       "0                UJANG SUNDA        UJANG SUNDA       False   \n",
       "1         DWI ILHAMIEditor :   SRI NURGANINGSIH       False   \n",
       "2          FIRSTY HESTYARINI  FIRSTY HESTYARINI       False   \n",
       "3                UJANG SUNDA        UJANG SUNDA       False   \n",
       "4  DEDE ISWADI IDRISEditor :      FAQIH MUBAROK       False   \n",
       "\n",
       "  publish_date_convert  calculation_mark  \\\n",
       "0  2024-06-01 16:01:00                 1   \n",
       "1  2024-06-01 15:46:00                 1   \n",
       "2  2024-06-01 15:43:00                 1   \n",
       "3  2024-06-01 15:05:00                 1   \n",
       "4  2024-06-01 15:04:00                 1   \n",
       "\n",
       "                                             stemmed  \\\n",
       "0  rm id rakyat merdeka ketua mpr sekaligus wakil...   \n",
       "1  rm id rakyat merdeka menteri investasi kepala ...   \n",
       "2  rm id rakyat merdeka presiden jokowi mengimbau...   \n",
       "3  rm id rakyat merdeka berdasarkan laporan petug...   \n",
       "4  rm id rakyat merdeka kinerja pengurus partai p...   \n",
       "\n",
       "                                     tokenized_tweet Prediction     Score  \n",
       "0  {dasar, kemerdekaan, riau, kediaman, menteri, ...    Neutral  0.999451  \n",
       "1  {juta, perguruan, kepala, digit, sektor, kesei...    Neutral  0.713130  \n",
       "2  {mengimbau, riau, gelar, ekspor, panas, energi...   Positive  0.969753  \n",
       "3  {jemaah, arab, orang, indonesia, wafatsementar...    Neutral  0.999562  \n",
       "4  {fakta, meraih, terbukti, wilayah, zaky, mente...    Neutral  0.978405  "
      ]
     },
     "execution_count": 10,
     "metadata": {},
     "output_type": "execute_result"
    }
   ],
   "source": [
    "res_ds_content.head()"
   ]
  },
  {
   "cell_type": "code",
   "execution_count": 11,
   "id": "50fb4c52-f25a-47d1-9355-50689ed9307b",
   "metadata": {
    "execution": {
     "iopub.execute_input": "2024-06-01T09:41:11.121996Z",
     "iopub.status.busy": "2024-06-01T09:41:11.116353Z",
     "iopub.status.idle": "2024-06-01T09:41:11.678056Z",
     "shell.execute_reply": "2024-06-01T09:41:11.677005Z"
    }
   },
   "outputs": [
    {
     "name": "stdout",
     "output_type": "stream",
     "text": [
      "Query executed successfully. 1 rows affected.\n",
      "Query executed successfully. 1 rows affected.\n",
      "Query executed successfully. 1 rows affected.\n",
      "Query executed successfully. 1 rows affected.\n",
      "Query executed successfully. 1 rows affected.\n",
      "Query executed successfully. 1 rows affected.\n"
     ]
    },
    {
     "name": "stdout",
     "output_type": "stream",
     "text": [
      "Query executed successfully. 1 rows affected.\n",
      "Query executed successfully. 1 rows affected.\n",
      "Query executed successfully. 1 rows affected.\n",
      "Query executed successfully. 1 rows affected.\n",
      "Query executed successfully. 1 rows affected.\n"
     ]
    },
    {
     "name": "stdout",
     "output_type": "stream",
     "text": [
      "Query executed successfully. 1 rows affected.\n",
      "Query executed successfully. 1 rows affected.\n"
     ]
    }
   ],
   "source": [
    "# record result\n",
    "sentiment_class = 0\n",
    "\n",
    "for index, row in res_ds_content.iterrows():\n",
    "    if row['Prediction'] == 'Positive':\n",
    "        sentiment_class = 1\n",
    "    elif row['Prediction'] == 'Negative':\n",
    "        sentiment_class = -1\n",
    "    else:\n",
    "        sentiment_class = 0\n",
    "        \n",
    "    sql = \"update news_national_medol_sentiment set sentiment_category_content = %s, score_content = %s where news_national_medol_id = %s\" % (sentiment_class,row['Score'],row['id']) \n",
    "    # print(sql)\n",
    "    execute_query(sql)"
   ]
  }
 ],
 "metadata": {
  "kernelspec": {
   "display_name": "Python 3 (ipykernel)",
   "language": "python",
   "name": "python3"
  },
  "language_info": {
   "codemirror_mode": {
    "name": "ipython",
    "version": 3
   },
   "file_extension": ".py",
   "mimetype": "text/x-python",
   "name": "python",
   "nbconvert_exporter": "python",
   "pygments_lexer": "ipython3",
   "version": "3.8.10"
  }
 },
 "nbformat": 4,
 "nbformat_minor": 5
}
