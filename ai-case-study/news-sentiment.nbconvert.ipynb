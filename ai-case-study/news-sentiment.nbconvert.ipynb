{
 "cells": [
  {
   "cell_type": "markdown",
   "id": "dc88b042-9d24-48fc-94a3-6009b4951e7b",
   "metadata": {},
   "source": [
    "# Multipool Google Sentiment Analysis\n",
    "\n",
    "this function will get data from google_result table\n",
    "and calculate the sentiment analysis. Result is store in google_result_sentiment\n",
    "\n",
    "crontab command\n",
    "* * * * * /home/haviz/multipool/ai-case-study/run-ai-sa-google.sh >> /home/haviz/multipool/ai-sa-google.log\n",
    "\n"
   ]
  },
  {
   "cell_type": "code",
   "execution_count": 1,
   "id": "39d0afb3-cd43-479c-a645-5eb16d589ba4",
   "metadata": {
    "execution": {
     "iopub.execute_input": "2024-06-07T09:53:04.585140Z",
     "iopub.status.busy": "2024-06-07T09:53:04.584179Z",
     "iopub.status.idle": "2024-06-07T09:53:16.016876Z",
     "shell.execute_reply": "2024-06-07T09:53:16.015575Z"
    }
   },
   "outputs": [],
   "source": [
    "import numpy as np\n",
    "import pandas as pd\n",
    "import seaborn as sn\n",
    "import matplotlib.pyplot as plt\n",
    "import pymysql.cursors\n",
    "import sqlalchemy as sa\n",
    "import nltk\n",
    "import string\n",
    "import os\n",
    "\n",
    "from nltk.corpus import stopwords \n",
    "from sqlalchemy import create_engine, Column, Integer, String, MetaData, Table\n",
    "from sqlalchemy.sql import text\n",
    "from sqlalchemy.orm import sessionmaker\n",
    "import pandas as pd\n",
    "\n",
    "# nltk.download('stopwords')\n",
    "\n",
    "\n",
    "os.environ['TF_CPP_MIN_LOG_LEVEL'] = '2'\n",
    "\n",
    "# Use a pipeline as a high-level helper\n",
    "from transformers import pipeline\n",
    "pipe = pipeline(\"text-classification\", model=\"ayameRushia/bert-base-indonesian-1.5G-sentiment-analysis-smsa\")"
   ]
  },
  {
   "cell_type": "code",
   "execution_count": 2,
   "id": "ec64d1af-b458-4c9e-9762-1d3d780b616f",
   "metadata": {
    "execution": {
     "iopub.execute_input": "2024-06-07T09:53:16.024121Z",
     "iopub.status.busy": "2024-06-07T09:53:16.023468Z",
     "iopub.status.idle": "2024-06-07T09:53:16.042755Z",
     "shell.execute_reply": "2024-06-07T09:53:16.038340Z"
    }
   },
   "outputs": [],
   "source": [
    "from sqlalchemy.util import deprecations\n",
    "deprecations.SILENCE_UBER_WARNING = True\n",
    "\n",
    "def execute_query(query, params=None):\n",
    "    # Set your PostgreSQL connection parameters\n",
    "    db_params = {\n",
    "        'host': '98.98.117.105',\n",
    "        'port': '5432',\n",
    "        'database': 'medols',\n",
    "        'user': 'postgres',\n",
    "        'password': 'FEWcTB3JIX5gK4T06c1MdkM9N2S8w9pb',\n",
    "    }\n",
    "\n",
    "    # Create a SQLAlchemy engine\n",
    "    engine = create_engine(f\"postgresql+psycopg2://{db_params['user']}:{db_params['password']}@{db_params['host']}:{db_params['port']}/{db_params['database']}\")\n",
    "\n",
    "    # Create a metadata object\n",
    "    metadata = MetaData()\n",
    "\n",
    "    # Example: Define your table\n",
    "    your_table = Table('your_table', metadata,\n",
    "                       Column('id', Integer, primary_key=True),\n",
    "                       Column('column1', String),\n",
    "                       Column('column2', String)\n",
    "                       )\n",
    "\n",
    "    # Create a session\n",
    "    Session = sessionmaker(bind=engine)\n",
    "    session = Session()\n",
    "\n",
    "    try:\n",
    "        # Execute the query with optional parameters\n",
    "        result = session.execute(text(query), params)\n",
    "\n",
    "        # Check if the query is a SELECT query\n",
    "        is_select_query = result.returns_rows\n",
    "\n",
    "        if is_select_query:\n",
    "            # Fetch the data and return as a Pandas DataFrame\n",
    "            columns = result.keys()\n",
    "            fetched_data = result.fetchall()\n",
    "            df = pd.DataFrame(fetched_data, columns=columns)\n",
    "            # print(\"Fetched Data as DataFrame:\")\n",
    "            # print(df)\n",
    "            return df\n",
    "        else:\n",
    "            # Get the number of rows affected for non-SELECT queries\n",
    "            rows_affected = result.rowcount\n",
    "\n",
    "            # Commit the changes to the database for non-SELECT queries\n",
    "            session.commit()\n",
    "\n",
    "            print(f\"Query executed successfully. {rows_affected} rows affected.\")\n",
    "            return rows_affected\n",
    "    except Exception as e:\n",
    "        # Rollback changes if there's an error\n",
    "        session.rollback()\n",
    "        print(f\"Error executing query: {e}\")\n",
    "    finally:\n",
    "        # Close the session\n",
    "        session.close()"
   ]
  },
  {
   "cell_type": "code",
   "execution_count": 3,
   "id": "97cf0378-4165-46bd-abc9-05c3a9fe18ba",
   "metadata": {
    "execution": {
     "iopub.execute_input": "2024-06-07T09:53:16.048501Z",
     "iopub.status.busy": "2024-06-07T09:53:16.048086Z",
     "iopub.status.idle": "2024-06-07T09:53:16.061014Z",
     "shell.execute_reply": "2024-06-07T09:53:16.059732Z"
    }
   },
   "outputs": [],
   "source": [
    "import pandas as pd\n",
    "import re\n",
    "from sqlalchemy import create_engine\n",
    "\n",
    "def stemming(comment):\n",
    "    factory = StemmerFactory()\n",
    "    stemmer = factory.create_stemmer()\n",
    "    do = []\n",
    "    for w in comment:\n",
    "        dt = stemmer.stem(w)\n",
    "        do.append(dt)\n",
    "    d_clean = []\n",
    "    d_clean = \" \".join(do)\n",
    "    return d_clean\n",
    "    \n",
    "# function case folding\n",
    "def casefolding(comment):\n",
    "    comment = comment.lower()\n",
    "    comment = comment.strip(\" \")\n",
    "    comment = re.sub(r'[?|$|.|!_:\")(-+,]','',comment)\n",
    "    return comment\n",
    "\n",
    "def clean_up_tag(comment):\n",
    "    x_ret = ' '.join(re.sub(\"(@[A-Za-z0-9]+)|([^0-9A-Za-z \\t])|(\\w+:\\/\\/\\S+)\",\" \",comment).split())\n",
    "    return x_ret\n",
    "\n",
    "# Text Preprocessing, \n",
    "def text_preproc(strIn):\n",
    "    # case folding\n",
    "    strOut = strIn.lower()\n",
    "    \n",
    "    # remove numbers\n",
    "    strOut = re.sub(r\"\\d+\", \"\", strOut)\n",
    "    \n",
    "    # remote punctuation\n",
    "    strOut = strOut.translate(str.maketrans(\"\",\"\",string.punctuation))\n",
    "    \n",
    "    # remove whitspace\n",
    "    strOut = strOut.strip()\n",
    "    \n",
    "    # \n",
    "    strOut = re.sub('\\s+',' ',strOut)\n",
    "    return strOut"
   ]
  },
  {
   "cell_type": "code",
   "execution_count": 4,
   "id": "438a292a-3e97-4161-bcaf-1887c838ae1f",
   "metadata": {
    "execution": {
     "iopub.execute_input": "2024-06-07T09:53:16.065847Z",
     "iopub.status.busy": "2024-06-07T09:53:16.065495Z",
     "iopub.status.idle": "2024-06-07T09:53:16.080591Z",
     "shell.execute_reply": "2024-06-07T09:53:16.079324Z"
    }
   },
   "outputs": [],
   "source": [
    "def process_by_df(source_ds, col_name):\n",
    "    from tqdm import tqdm\n",
    "    pd.options.mode.chained_assignment = None \n",
    "    \n",
    "    # trim to 2500 character\n",
    "    source_ds[col_name] = source_ds[col_name].str.slice(0,2000)\n",
    "\n",
    "    # skip stemming\n",
    "    source_ds['stemmed'] = source_ds[col_name].apply(clean_up_tag)\n",
    "    source_ds['stemmed'] = source_ds['stemmed'].apply(casefolding)\n",
    "    source_ds['stemmed'] = source_ds['stemmed'].apply(text_preproc)\n",
    "\n",
    "    sw = stopwords.words('indonesian')\n",
    "    #tokenized\n",
    "    source_ds['tokenized_tweet'] = source_ds.apply(lambda row: nltk.word_tokenize(row['stemmed']), axis=1)\n",
    "\n",
    "    # apply stopword removal\n",
    "    source_ds['tokenized_tweet'] = source_ds.apply(lambda row: {w for w in row['tokenized_tweet'] if not w in sw}, axis=1)\n",
    "    sw = stopwords.words('indonesian')\n",
    "\n",
    "    #tokenized\n",
    "    source_ds['tokenized_tweet'] = source_ds.apply(lambda row: nltk.word_tokenize(row['stemmed']), axis=1)\n",
    "\n",
    "    # apply stopword removal\n",
    "    source_ds['tokenized_tweet'] = source_ds.apply(lambda row: {w for w in row['tokenized_tweet'] if not w in sw}, axis=1)\n",
    "\n",
    "    # Notes on return sentiment values\n",
    "    # 1 >> positif >> stay\n",
    "    # 2 >> negatif >> convert to -1\n",
    "    # 0 >> netral >> stay\n",
    "\n",
    "    # Create a new list and insert each element from the original list\n",
    "    from tqdm import tqdm\n",
    "\n",
    "    list_text = source_ds['stemmed'].tolist()\n",
    "    new_list = []\n",
    "    for i in tqdm(range( len(list_text) )):\n",
    "        # print(len(list_text[i]))\n",
    "        try:\n",
    "            if len(list_text[i]) > 0:\n",
    "                res = pipe( list_text[i] )\n",
    "                new_list.append(res)\n",
    "            else:\n",
    "                res = pipe( 'kalimat netral' )\n",
    "                new_list.append(res)\n",
    "                zip\n",
    "        except Exception as e:\n",
    "            # Handle the exception (error) here\n",
    "            print(f\"Error processing value at index {i}: {list_text[i]}\")\n",
    "            print(f\"Error message: {str(e)}\")\n",
    "            res = pipe( 'kalimat netral' )\n",
    "            new_list.append(res)      \n",
    "            \n",
    "            continue\n",
    "\n",
    "    # Notes on return sentiment values\n",
    "    # 1 >> positif >> stay\n",
    "    # 2 >> negatif >> convert to -1\n",
    "    # 0 >> netral >> stay\n",
    "    # create a list of our conditions\n",
    "    for i in range(0, len(new_list)):\n",
    "        # print(new_list[i][0]['label'])\n",
    "        if new_list[i][0]['label'] == 'Positive':\n",
    "            new_list[i][0]['Value'] = 1\n",
    "        elif new_list[i][0]['label'] == 'Negative':\n",
    "            new_list[i][0]['Value'] = -1\n",
    "        elif new_list[i][0]['label'] == 'Neutral':\n",
    "            new_list[i][0]['Value'] = 0\n",
    "\n",
    "    for index, row in source_ds.iterrows():\n",
    "        source_ds.at[index,'Prediction'] = new_list[index][0]['label']\n",
    "\n",
    "    for index, row in source_ds.iterrows():\n",
    "        source_ds.at[index,'Prediction'] = new_list[index][0]['label']\n",
    "        source_ds.at[index,'Score'] = new_list[index][0]['score']\n",
    "        #source_ds.at[index,'Score'] = new_list[index][0]['Value']\n",
    "        \n",
    "    return source_ds\n"
   ]
  },
  {
   "cell_type": "code",
   "execution_count": 5,
   "id": "325b5528-6ca4-411d-9b57-069e3a6d3a25",
   "metadata": {
    "execution": {
     "iopub.execute_input": "2024-06-07T09:53:16.085684Z",
     "iopub.status.busy": "2024-06-07T09:53:16.085278Z",
     "iopub.status.idle": "2024-06-07T09:53:16.323855Z",
     "shell.execute_reply": "2024-06-07T09:53:16.322333Z"
    }
   },
   "outputs": [],
   "source": [
    "# query 400 rows of data query data from table\n",
    "select_query = \"select * \\\n",
    "from news_national_medol gr \\\n",
    "where id not in (select news_national_medol_id from news_national_medol_sentiment) \\\n",
    "order by id desc limit 500\"\n",
    "\n",
    "source_ds = execute_query(select_query)\n",
    "\n",
    "if len(source_ds) == 0:\n",
    "    # get out, nothing to do\n",
    "    print('Zero jobs, quitting now')\n",
    "    quit()\n",
    "    \n",
    "# source_ds.head()"
   ]
  },
  {
   "cell_type": "code",
   "execution_count": 6,
   "id": "5a9fe7d0-c005-45ad-8291-16c8bd9f7dbf",
   "metadata": {
    "execution": {
     "iopub.execute_input": "2024-06-07T09:53:16.333488Z",
     "iopub.status.busy": "2024-06-07T09:53:16.332511Z",
     "iopub.status.idle": "2024-06-07T09:53:24.019131Z",
     "shell.execute_reply": "2024-06-07T09:53:24.018025Z"
    }
   },
   "outputs": [
    {
     "name": "stderr",
     "output_type": "stream",
     "text": [
      "\r",
      "  0%|          | 0/71 [00:00<?, ?it/s]"
     ]
    },
    {
     "name": "stderr",
     "output_type": "stream",
     "text": [
      "\r",
      "  1%|▏         | 1/71 [00:00<00:53,  1.30it/s]"
     ]
    },
    {
     "name": "stderr",
     "output_type": "stream",
     "text": [
      "\r",
      "  3%|▎         | 2/71 [00:01<00:47,  1.45it/s]"
     ]
    },
    {
     "name": "stderr",
     "output_type": "stream",
     "text": [
      "\r",
      "  4%|▍         | 3/71 [00:02<00:46,  1.46it/s]"
     ]
    },
    {
     "name": "stderr",
     "output_type": "stream",
     "text": [
      "\r",
      "  6%|▌         | 4/71 [00:02<00:47,  1.42it/s]"
     ]
    },
    {
     "name": "stderr",
     "output_type": "stream",
     "text": [
      "\r",
      "  7%|▋         | 5/71 [00:03<00:39,  1.66it/s]"
     ]
    },
    {
     "name": "stderr",
     "output_type": "stream",
     "text": [
      "\r",
      "  8%|▊         | 6/71 [00:03<00:28,  2.25it/s]"
     ]
    },
    {
     "name": "stderr",
     "output_type": "stream",
     "text": [
      "\r",
      " 11%|█▏        | 8/71 [00:03<00:16,  3.84it/s]"
     ]
    },
    {
     "name": "stderr",
     "output_type": "stream",
     "text": [
      "\r",
      " 14%|█▍        | 10/71 [00:03<00:11,  5.50it/s]"
     ]
    },
    {
     "name": "stderr",
     "output_type": "stream",
     "text": [
      "\r",
      " 17%|█▋        | 12/71 [00:03<00:08,  7.18it/s]"
     ]
    },
    {
     "name": "stderr",
     "output_type": "stream",
     "text": [
      "\r",
      " 20%|█▉        | 14/71 [00:03<00:06,  8.84it/s]"
     ]
    },
    {
     "name": "stderr",
     "output_type": "stream",
     "text": [
      "\r",
      " 23%|██▎       | 16/71 [00:04<00:05, 10.34it/s]"
     ]
    },
    {
     "name": "stderr",
     "output_type": "stream",
     "text": [
      "\r",
      " 25%|██▌       | 18/71 [00:04<00:04, 11.92it/s]"
     ]
    },
    {
     "name": "stderr",
     "output_type": "stream",
     "text": [
      "\r",
      " 28%|██▊       | 20/71 [00:04<00:03, 12.77it/s]"
     ]
    },
    {
     "name": "stderr",
     "output_type": "stream",
     "text": [
      "\r",
      " 31%|███       | 22/71 [00:04<00:03, 13.56it/s]"
     ]
    },
    {
     "name": "stderr",
     "output_type": "stream",
     "text": [
      "\r",
      " 34%|███▍      | 24/71 [00:04<00:03, 14.42it/s]"
     ]
    },
    {
     "name": "stderr",
     "output_type": "stream",
     "text": [
      "\r",
      " 37%|███▋      | 26/71 [00:04<00:02, 15.09it/s]"
     ]
    },
    {
     "name": "stderr",
     "output_type": "stream",
     "text": [
      "\r",
      " 39%|███▉      | 28/71 [00:04<00:02, 15.10it/s]"
     ]
    },
    {
     "name": "stderr",
     "output_type": "stream",
     "text": [
      "\r",
      " 42%|████▏     | 30/71 [00:04<00:02, 16.19it/s]"
     ]
    },
    {
     "name": "stderr",
     "output_type": "stream",
     "text": [
      "\r",
      " 45%|████▌     | 32/71 [00:05<00:02, 15.11it/s]"
     ]
    },
    {
     "name": "stderr",
     "output_type": "stream",
     "text": [
      "\r",
      " 48%|████▊     | 34/71 [00:05<00:02, 14.60it/s]"
     ]
    },
    {
     "name": "stderr",
     "output_type": "stream",
     "text": [
      "\r",
      " 51%|█████     | 36/71 [00:05<00:02, 15.20it/s]"
     ]
    },
    {
     "name": "stderr",
     "output_type": "stream",
     "text": [
      "\r",
      " 54%|█████▎    | 38/71 [00:05<00:02, 15.36it/s]"
     ]
    },
    {
     "name": "stderr",
     "output_type": "stream",
     "text": [
      "\r",
      " 56%|█████▋    | 40/71 [00:05<00:02, 14.37it/s]"
     ]
    },
    {
     "name": "stderr",
     "output_type": "stream",
     "text": [
      "\r",
      " 59%|█████▉    | 42/71 [00:05<00:02, 14.37it/s]"
     ]
    },
    {
     "name": "stderr",
     "output_type": "stream",
     "text": [
      "\r",
      " 62%|██████▏   | 44/71 [00:05<00:01, 14.14it/s]"
     ]
    },
    {
     "name": "stderr",
     "output_type": "stream",
     "text": [
      "\r",
      " 65%|██████▍   | 46/71 [00:06<00:01, 13.86it/s]"
     ]
    },
    {
     "name": "stderr",
     "output_type": "stream",
     "text": [
      "\r",
      " 68%|██████▊   | 48/71 [00:06<00:01, 14.13it/s]"
     ]
    },
    {
     "name": "stderr",
     "output_type": "stream",
     "text": [
      "\r",
      " 70%|███████   | 50/71 [00:06<00:01, 15.35it/s]"
     ]
    },
    {
     "name": "stderr",
     "output_type": "stream",
     "text": [
      "\r",
      " 73%|███████▎  | 52/71 [00:06<00:01, 15.30it/s]"
     ]
    },
    {
     "name": "stderr",
     "output_type": "stream",
     "text": [
      "\r",
      " 76%|███████▌  | 54/71 [00:06<00:01, 16.03it/s]"
     ]
    },
    {
     "name": "stderr",
     "output_type": "stream",
     "text": [
      "\r",
      " 79%|███████▉  | 56/71 [00:06<00:00, 16.02it/s]"
     ]
    },
    {
     "name": "stderr",
     "output_type": "stream",
     "text": [
      "\r",
      " 82%|████████▏ | 58/71 [00:06<00:00, 16.49it/s]"
     ]
    },
    {
     "name": "stderr",
     "output_type": "stream",
     "text": [
      "\r",
      " 85%|████████▍ | 60/71 [00:06<00:00, 16.27it/s]"
     ]
    },
    {
     "name": "stderr",
     "output_type": "stream",
     "text": [
      "\r",
      " 87%|████████▋ | 62/71 [00:07<00:00, 16.29it/s]"
     ]
    },
    {
     "name": "stderr",
     "output_type": "stream",
     "text": [
      "\r",
      " 90%|█████████ | 64/71 [00:07<00:00, 16.05it/s]"
     ]
    },
    {
     "name": "stderr",
     "output_type": "stream",
     "text": [
      "\r",
      " 93%|█████████▎| 66/71 [00:07<00:00, 15.36it/s]"
     ]
    },
    {
     "name": "stderr",
     "output_type": "stream",
     "text": [
      "\r",
      " 96%|█████████▌| 68/71 [00:07<00:00, 15.47it/s]"
     ]
    },
    {
     "name": "stderr",
     "output_type": "stream",
     "text": [
      "\r",
      " 99%|█████████▊| 70/71 [00:07<00:00, 16.33it/s]"
     ]
    },
    {
     "name": "stderr",
     "output_type": "stream",
     "text": [
      "\r",
      "100%|██████████| 71/71 [00:07<00:00,  9.39it/s]"
     ]
    },
    {
     "name": "stderr",
     "output_type": "stream",
     "text": [
      "\n"
     ]
    }
   ],
   "source": [
    "ds_title = source_ds\n",
    "res_ds = process_by_df(ds_title,'title')"
   ]
  },
  {
   "cell_type": "code",
   "execution_count": 7,
   "id": "4d30b8a9-31bc-4bd6-a4da-7484686cac4b",
   "metadata": {
    "execution": {
     "iopub.execute_input": "2024-06-07T09:53:24.024380Z",
     "iopub.status.busy": "2024-06-07T09:53:24.023380Z",
     "iopub.status.idle": "2024-06-07T09:53:24.054574Z",
     "shell.execute_reply": "2024-06-07T09:53:24.053383Z"
    }
   },
   "outputs": [
    {
     "data": {
      "text/html": [
       "<div>\n",
       "<style scoped>\n",
       "    .dataframe tbody tr th:only-of-type {\n",
       "        vertical-align: middle;\n",
       "    }\n",
       "\n",
       "    .dataframe tbody tr th {\n",
       "        vertical-align: top;\n",
       "    }\n",
       "\n",
       "    .dataframe thead th {\n",
       "        text-align: right;\n",
       "    }\n",
       "</style>\n",
       "<table border=\"1\" class=\"dataframe\">\n",
       "  <thead>\n",
       "    <tr style=\"text-align: right;\">\n",
       "      <th></th>\n",
       "      <th>id</th>\n",
       "      <th>title</th>\n",
       "      <th>content</th>\n",
       "      <th>publish_date</th>\n",
       "      <th>publisher</th>\n",
       "      <th>source</th>\n",
       "      <th>search_url</th>\n",
       "      <th>created_date</th>\n",
       "      <th>national_medol_id</th>\n",
       "      <th>is_polri</th>\n",
       "      <th>reporter</th>\n",
       "      <th>editor</th>\n",
       "      <th>is_deleted</th>\n",
       "      <th>publish_date_convert</th>\n",
       "      <th>calculation_mark</th>\n",
       "      <th>stemmed</th>\n",
       "      <th>tokenized_tweet</th>\n",
       "      <th>Prediction</th>\n",
       "      <th>Score</th>\n",
       "    </tr>\n",
       "  </thead>\n",
       "  <tbody>\n",
       "    <tr>\n",
       "      <th>0</th>\n",
       "      <td>68870</td>\n",
       "      <td>SYL Surati Airlangga Hingga Jokowi untuk Jadi ...</td>\n",
       "      <td>REPUBLIKA.CO.ID, JAKARTA -- Eks Menteri Perta...</td>\n",
       "      <td>Jumat   07 Jun 2024  16:16 WIB</td>\n",
       "      <td></td>\n",
       "      <td>https://www.liputan6.com/</td>\n",
       "      <td>https://news.republika.co.id/berita/sepds3377/...</td>\n",
       "      <td>2024-06-07 16:52:58.318892</td>\n",
       "      <td>13</td>\n",
       "      <td>False</td>\n",
       "      <td>Rep: Rizky Suryarandika/        Red: Teguh Fir...</td>\n",
       "      <td>Rep: Rizky Suryarandika/        Red: Teguh Fir...</td>\n",
       "      <td>False</td>\n",
       "      <td>2024-06-07 16:16:00</td>\n",
       "      <td>1</td>\n",
       "      <td>syl surati airlangga hingga jokowi untuk jadi ...</td>\n",
       "      <td>{jokowi, meringankan, dibalas, saksi, airlangg...</td>\n",
       "      <td>Neutral</td>\n",
       "      <td>0.999742</td>\n",
       "    </tr>\n",
       "    <tr>\n",
       "      <th>1</th>\n",
       "      <td>68869</td>\n",
       "      <td>Harun Masiku, Timbul Tenggelam, Timbul dan Ten...</td>\n",
       "      <td>REPUBLIKA.CO.ID, JAKARTA -- KPK akan memeriks...</td>\n",
       "      <td>Jumat   07 Jun 2024  16:09 WIB</td>\n",
       "      <td></td>\n",
       "      <td>https://www.liputan6.com/</td>\n",
       "      <td>https://news.republika.co.id/berita/sepdfn377/...</td>\n",
       "      <td>2024-06-07 16:52:58.311525</td>\n",
       "      <td>13</td>\n",
       "      <td>True</td>\n",
       "      <td>Rep: Rizky Suryarandika/Nawir/        Red: Teg...</td>\n",
       "      <td>Rep: Rizky Suryarandika/Nawir/        Red: Teg...</td>\n",
       "      <td>False</td>\n",
       "      <td>2024-06-07 16:09:00</td>\n",
       "      <td>1</td>\n",
       "      <td>harun masiku timbul tenggelam timbul dan tengg...</td>\n",
       "      <td>{harun, masiku, timbul, tenggelam}</td>\n",
       "      <td>Negative</td>\n",
       "      <td>0.999845</td>\n",
       "    </tr>\n",
       "    <tr>\n",
       "      <th>2</th>\n",
       "      <td>68868</td>\n",
       "      <td>Bahlil: Tambang yang Dikelola Ormas Keagamaan ...</td>\n",
       "      <td>REPUBLIKA.CO.ID, JAKARTA - Menteri Investasi/...</td>\n",
       "      <td>Jumat   07 Jun 2024  15:48 WIB</td>\n",
       "      <td></td>\n",
       "      <td>https://www.liputan6.com/</td>\n",
       "      <td>https://news.republika.co.id/berita/sepch4487/...</td>\n",
       "      <td>2024-06-07 16:52:58.305398</td>\n",
       "      <td>13</td>\n",
       "      <td>False</td>\n",
       "      <td></td>\n",
       "      <td>Red: Mas Alamil Huda</td>\n",
       "      <td>False</td>\n",
       "      <td>2024-06-07 15:48:00</td>\n",
       "      <td>1</td>\n",
       "      <td>bahlil tambang yang dikelola ormas keagamaan d...</td>\n",
       "      <td>{dikelola, keagamaan, ormas, kontraktor, bahli...</td>\n",
       "      <td>Neutral</td>\n",
       "      <td>0.999692</td>\n",
       "    </tr>\n",
       "    <tr>\n",
       "      <th>3</th>\n",
       "      <td>68867</td>\n",
       "      <td>Festival Kenduri Swarnabhumi, Merayakan Warisa...</td>\n",
       "      <td>REPUBLIKA.CO.ID, JAMBI -- Kegiatan kebudayaan...</td>\n",
       "      <td>Jumat   07 Jun 2024  15:42 WIB</td>\n",
       "      <td></td>\n",
       "      <td>https://www.liputan6.com/</td>\n",
       "      <td>https://news.republika.co.id/berita/sepc6w484/...</td>\n",
       "      <td>2024-06-07 16:52:58.300040</td>\n",
       "      <td>13</td>\n",
       "      <td>False</td>\n",
       "      <td>Rep: Antara/Erik PP/        Red: Erik Purnama ...</td>\n",
       "      <td>Rep: Antara/Erik PP/        Red: Erik Purnama ...</td>\n",
       "      <td>False</td>\n",
       "      <td>2024-06-07 15:42:00</td>\n",
       "      <td>1</td>\n",
       "      <td>festival kenduri swarnabhumi merayakan warisan...</td>\n",
       "      <td>{warisan, merayakan, batanghari, swarnabhumi, ...</td>\n",
       "      <td>Neutral</td>\n",
       "      <td>0.998909</td>\n",
       "    </tr>\n",
       "    <tr>\n",
       "      <th>4</th>\n",
       "      <td>68866</td>\n",
       "      <td>Ini Rencana Pemerintah untuk Percepat Pembangu...</td>\n",
       "      <td>REPUBLIKA.CO.ID, JAKARTA -- Pemerintah melunc...</td>\n",
       "      <td>Jumat   07 Jun 2024  15:41 WIB</td>\n",
       "      <td></td>\n",
       "      <td>https://www.liputan6.com/</td>\n",
       "      <td>https://news.republika.co.id/berita/sepc4g416/...</td>\n",
       "      <td>2024-06-07 16:52:58.293557</td>\n",
       "      <td>13</td>\n",
       "      <td>False</td>\n",
       "      <td></td>\n",
       "      <td>Red: Satria K Yudha</td>\n",
       "      <td>False</td>\n",
       "      <td>2024-06-07 15:41:00</td>\n",
       "      <td>1</td>\n",
       "      <td>ini rencana pemerintah untuk percepat pembangu...</td>\n",
       "      <td>{pemerintah, percepat, papua, rencana, pembang...</td>\n",
       "      <td>Neutral</td>\n",
       "      <td>0.998839</td>\n",
       "    </tr>\n",
       "  </tbody>\n",
       "</table>\n",
       "</div>"
      ],
      "text/plain": [
       "      id                                              title  \\\n",
       "0  68870  SYL Surati Airlangga Hingga Jokowi untuk Jadi ...   \n",
       "1  68869  Harun Masiku, Timbul Tenggelam, Timbul dan Ten...   \n",
       "2  68868  Bahlil: Tambang yang Dikelola Ormas Keagamaan ...   \n",
       "3  68867  Festival Kenduri Swarnabhumi, Merayakan Warisa...   \n",
       "4  68866  Ini Rencana Pemerintah untuk Percepat Pembangu...   \n",
       "\n",
       "                                             content  \\\n",
       "0   REPUBLIKA.CO.ID, JAKARTA -- Eks Menteri Perta...   \n",
       "1   REPUBLIKA.CO.ID, JAKARTA -- KPK akan memeriks...   \n",
       "2   REPUBLIKA.CO.ID, JAKARTA - Menteri Investasi/...   \n",
       "3   REPUBLIKA.CO.ID, JAMBI -- Kegiatan kebudayaan...   \n",
       "4   REPUBLIKA.CO.ID, JAKARTA -- Pemerintah melunc...   \n",
       "\n",
       "                     publish_date publisher                     source  \\\n",
       "0  Jumat   07 Jun 2024  16:16 WIB            https://www.liputan6.com/   \n",
       "1  Jumat   07 Jun 2024  16:09 WIB            https://www.liputan6.com/   \n",
       "2  Jumat   07 Jun 2024  15:48 WIB            https://www.liputan6.com/   \n",
       "3  Jumat   07 Jun 2024  15:42 WIB            https://www.liputan6.com/   \n",
       "4  Jumat   07 Jun 2024  15:41 WIB            https://www.liputan6.com/   \n",
       "\n",
       "                                          search_url  \\\n",
       "0  https://news.republika.co.id/berita/sepds3377/...   \n",
       "1  https://news.republika.co.id/berita/sepdfn377/...   \n",
       "2  https://news.republika.co.id/berita/sepch4487/...   \n",
       "3  https://news.republika.co.id/berita/sepc6w484/...   \n",
       "4  https://news.republika.co.id/berita/sepc4g416/...   \n",
       "\n",
       "                created_date  national_medol_id  is_polri  \\\n",
       "0 2024-06-07 16:52:58.318892                 13     False   \n",
       "1 2024-06-07 16:52:58.311525                 13      True   \n",
       "2 2024-06-07 16:52:58.305398                 13     False   \n",
       "3 2024-06-07 16:52:58.300040                 13     False   \n",
       "4 2024-06-07 16:52:58.293557                 13     False   \n",
       "\n",
       "                                            reporter  \\\n",
       "0  Rep: Rizky Suryarandika/        Red: Teguh Fir...   \n",
       "1  Rep: Rizky Suryarandika/Nawir/        Red: Teg...   \n",
       "2                                                      \n",
       "3  Rep: Antara/Erik PP/        Red: Erik Purnama ...   \n",
       "4                                                      \n",
       "\n",
       "                                              editor  is_deleted  \\\n",
       "0  Rep: Rizky Suryarandika/        Red: Teguh Fir...       False   \n",
       "1  Rep: Rizky Suryarandika/Nawir/        Red: Teg...       False   \n",
       "2                               Red: Mas Alamil Huda       False   \n",
       "3  Rep: Antara/Erik PP/        Red: Erik Purnama ...       False   \n",
       "4                                Red: Satria K Yudha       False   \n",
       "\n",
       "  publish_date_convert  calculation_mark  \\\n",
       "0  2024-06-07 16:16:00                 1   \n",
       "1  2024-06-07 16:09:00                 1   \n",
       "2  2024-06-07 15:48:00                 1   \n",
       "3  2024-06-07 15:42:00                 1   \n",
       "4  2024-06-07 15:41:00                 1   \n",
       "\n",
       "                                             stemmed  \\\n",
       "0  syl surati airlangga hingga jokowi untuk jadi ...   \n",
       "1  harun masiku timbul tenggelam timbul dan tengg...   \n",
       "2  bahlil tambang yang dikelola ormas keagamaan d...   \n",
       "3  festival kenduri swarnabhumi merayakan warisan...   \n",
       "4  ini rencana pemerintah untuk percepat pembangu...   \n",
       "\n",
       "                                     tokenized_tweet Prediction     Score  \n",
       "0  {jokowi, meringankan, dibalas, saksi, airlangg...    Neutral  0.999742  \n",
       "1                 {harun, masiku, timbul, tenggelam}   Negative  0.999845  \n",
       "2  {dikelola, keagamaan, ormas, kontraktor, bahli...    Neutral  0.999692  \n",
       "3  {warisan, merayakan, batanghari, swarnabhumi, ...    Neutral  0.998909  \n",
       "4  {pemerintah, percepat, papua, rencana, pembang...    Neutral  0.998839  "
      ]
     },
     "execution_count": 7,
     "metadata": {},
     "output_type": "execute_result"
    }
   ],
   "source": [
    "res_ds.head()"
   ]
  },
  {
   "cell_type": "code",
   "execution_count": 8,
   "id": "c5d92f04-856f-49d7-ac4c-b10fb4516774",
   "metadata": {
    "execution": {
     "iopub.execute_input": "2024-06-07T09:53:24.059905Z",
     "iopub.status.busy": "2024-06-07T09:53:24.058882Z",
     "iopub.status.idle": "2024-06-07T09:53:26.388292Z",
     "shell.execute_reply": "2024-06-07T09:53:26.386751Z"
    }
   },
   "outputs": [
    {
     "name": "stdout",
     "output_type": "stream",
     "text": [
      "Query executed successfully. 1 rows affected.\n",
      "Query executed successfully. 1 rows affected.\n",
      "Query executed successfully. 1 rows affected.\n",
      "Query executed successfully. 1 rows affected.\n",
      "Query executed successfully. 1 rows affected.\n",
      "Query executed successfully. 1 rows affected.\n",
      "Query executed successfully. 1 rows affected.\n"
     ]
    },
    {
     "name": "stdout",
     "output_type": "stream",
     "text": [
      "Query executed successfully. 1 rows affected.\n",
      "Query executed successfully. 1 rows affected.\n",
      "Query executed successfully. 1 rows affected.\n",
      "Query executed successfully. 1 rows affected.\n",
      "Query executed successfully. 1 rows affected.\n",
      "Query executed successfully. 1 rows affected.\n",
      "Query executed successfully. 1 rows affected.\n"
     ]
    },
    {
     "name": "stdout",
     "output_type": "stream",
     "text": [
      "Query executed successfully. 1 rows affected.\n",
      "Query executed successfully. 1 rows affected.\n",
      "Query executed successfully. 1 rows affected.\n",
      "Query executed successfully. 1 rows affected.\n",
      "Query executed successfully. 1 rows affected.\n",
      "Query executed successfully. 1 rows affected.\n"
     ]
    },
    {
     "name": "stdout",
     "output_type": "stream",
     "text": [
      "Query executed successfully. 1 rows affected.\n",
      "Query executed successfully. 1 rows affected.\n",
      "Query executed successfully. 1 rows affected.\n",
      "Query executed successfully. 1 rows affected.\n",
      "Query executed successfully. 1 rows affected.\n",
      "Query executed successfully. 1 rows affected.\n"
     ]
    },
    {
     "name": "stdout",
     "output_type": "stream",
     "text": [
      "Query executed successfully. 1 rows affected.\n",
      "Query executed successfully. 1 rows affected.\n",
      "Query executed successfully. 1 rows affected.\n",
      "Query executed successfully. 1 rows affected.\n",
      "Query executed successfully. 1 rows affected.\n",
      "Query executed successfully. 1 rows affected.\n",
      "Query executed successfully. 1 rows affected.\n"
     ]
    },
    {
     "name": "stdout",
     "output_type": "stream",
     "text": [
      "Query executed successfully. 1 rows affected.\n",
      "Query executed successfully. 1 rows affected.\n",
      "Query executed successfully. 1 rows affected.\n",
      "Query executed successfully. 1 rows affected.\n",
      "Query executed successfully. 1 rows affected.\n",
      "Query executed successfully. 1 rows affected.\n",
      "Query executed successfully. 1 rows affected.\n"
     ]
    },
    {
     "name": "stdout",
     "output_type": "stream",
     "text": [
      "Query executed successfully. 1 rows affected.\n",
      "Query executed successfully. 1 rows affected.\n",
      "Query executed successfully. 1 rows affected.\n",
      "Query executed successfully. 1 rows affected.\n",
      "Query executed successfully. 1 rows affected.\n",
      "Query executed successfully. 1 rows affected.\n"
     ]
    },
    {
     "name": "stdout",
     "output_type": "stream",
     "text": [
      "Query executed successfully. 1 rows affected.\n",
      "Query executed successfully. 1 rows affected.\n",
      "Query executed successfully. 1 rows affected.\n",
      "Query executed successfully. 1 rows affected.\n",
      "Query executed successfully. 1 rows affected.\n",
      "Query executed successfully. 1 rows affected.\n",
      "Query executed successfully. 1 rows affected.\n"
     ]
    },
    {
     "name": "stdout",
     "output_type": "stream",
     "text": [
      "Query executed successfully. 1 rows affected.\n",
      "Query executed successfully. 1 rows affected.\n",
      "Query executed successfully. 1 rows affected.\n",
      "Query executed successfully. 1 rows affected.\n",
      "Query executed successfully. 1 rows affected.\n",
      "Query executed successfully. 1 rows affected.\n"
     ]
    },
    {
     "name": "stdout",
     "output_type": "stream",
     "text": [
      "Query executed successfully. 1 rows affected.\n",
      "Query executed successfully. 1 rows affected.\n",
      "Query executed successfully. 1 rows affected.\n",
      "Query executed successfully. 1 rows affected.\n",
      "Query executed successfully. 1 rows affected.\n",
      "Query executed successfully. 1 rows affected.\n",
      "Query executed successfully. 1 rows affected.\n"
     ]
    },
    {
     "name": "stdout",
     "output_type": "stream",
     "text": [
      "Query executed successfully. 1 rows affected.\n",
      "Query executed successfully. 1 rows affected.\n",
      "Query executed successfully. 1 rows affected.\n",
      "Query executed successfully. 1 rows affected.\n",
      "Query executed successfully. 1 rows affected.\n"
     ]
    }
   ],
   "source": [
    "# record result\n",
    "sentiment_class = 0\n",
    "\n",
    "# INSERT INTO public.news_national_medol_sentiment (sentiment_category, score, news_national_medol_id) VALUES( 0, 0, 0);\n",
    "\n",
    "for index, row in res_ds.iterrows():\n",
    "    if row['Prediction'] == 'Positive':\n",
    "        sentiment_class = 1\n",
    "    elif row['Prediction'] == 'Negative':\n",
    "        sentiment_class = -1\n",
    "    else:\n",
    "        sentiment_class = 0\n",
    "        \n",
    "    sql = \"INSERT INTO news_national_medol_sentiment (sentiment_category, score, news_national_medol_id) VALUES(%s, %s, %s);\" % (sentiment_class,row['Score'],row['id']) \n",
    "    # print(sql)\n",
    "    execute_query(sql)"
   ]
  },
  {
   "cell_type": "code",
   "execution_count": 9,
   "id": "67f357c0-df61-4855-9dfe-f28e94536a50",
   "metadata": {
    "execution": {
     "iopub.execute_input": "2024-06-07T09:53:26.393783Z",
     "iopub.status.busy": "2024-06-07T09:53:26.393335Z",
     "iopub.status.idle": "2024-06-07T09:53:42.782089Z",
     "shell.execute_reply": "2024-06-07T09:53:42.780914Z"
    }
   },
   "outputs": [
    {
     "name": "stderr",
     "output_type": "stream",
     "text": [
      "\r",
      "  0%|          | 0/71 [00:00<?, ?it/s]"
     ]
    },
    {
     "name": "stderr",
     "output_type": "stream",
     "text": [
      "\r",
      "  1%|▏         | 1/71 [00:00<00:17,  4.00it/s]"
     ]
    },
    {
     "name": "stderr",
     "output_type": "stream",
     "text": [
      "\r",
      "  3%|▎         | 2/71 [00:00<00:16,  4.09it/s]"
     ]
    },
    {
     "name": "stderr",
     "output_type": "stream",
     "text": [
      "\r",
      "  4%|▍         | 3/71 [00:00<00:15,  4.47it/s]"
     ]
    },
    {
     "name": "stderr",
     "output_type": "stream",
     "text": [
      "\r",
      "  6%|▌         | 4/71 [00:00<00:14,  4.72it/s]"
     ]
    },
    {
     "name": "stderr",
     "output_type": "stream",
     "text": [
      "\r",
      "  7%|▋         | 5/71 [00:01<00:13,  4.95it/s]"
     ]
    },
    {
     "name": "stderr",
     "output_type": "stream",
     "text": [
      "\r",
      "  8%|▊         | 6/71 [00:01<00:13,  4.90it/s]"
     ]
    },
    {
     "name": "stderr",
     "output_type": "stream",
     "text": [
      "\r",
      " 10%|▉         | 7/71 [00:01<00:12,  5.10it/s]"
     ]
    },
    {
     "name": "stderr",
     "output_type": "stream",
     "text": [
      "\r",
      " 11%|█▏        | 8/71 [00:01<00:12,  4.87it/s]"
     ]
    },
    {
     "name": "stderr",
     "output_type": "stream",
     "text": [
      "\r",
      " 13%|█▎        | 9/71 [00:01<00:12,  5.12it/s]"
     ]
    },
    {
     "name": "stderr",
     "output_type": "stream",
     "text": [
      "\r",
      " 14%|█▍        | 10/71 [00:02<00:12,  5.01it/s]"
     ]
    },
    {
     "name": "stderr",
     "output_type": "stream",
     "text": [
      "\r",
      " 15%|█▌        | 11/71 [00:02<00:14,  4.15it/s]"
     ]
    },
    {
     "name": "stderr",
     "output_type": "stream",
     "text": [
      "\r",
      " 17%|█▋        | 12/71 [00:02<00:13,  4.24it/s]"
     ]
    },
    {
     "name": "stderr",
     "output_type": "stream",
     "text": [
      "\r",
      " 20%|█▉        | 14/71 [00:02<00:10,  5.30it/s]"
     ]
    },
    {
     "name": "stderr",
     "output_type": "stream",
     "text": [
      "\r",
      " 21%|██        | 15/71 [00:03<00:11,  4.78it/s]"
     ]
    },
    {
     "name": "stderr",
     "output_type": "stream",
     "text": [
      "\r",
      " 23%|██▎       | 16/71 [00:03<00:11,  4.87it/s]"
     ]
    },
    {
     "name": "stderr",
     "output_type": "stream",
     "text": [
      "\r",
      " 24%|██▍       | 17/71 [00:03<00:11,  4.62it/s]"
     ]
    },
    {
     "name": "stderr",
     "output_type": "stream",
     "text": [
      "\r",
      " 25%|██▌       | 18/71 [00:03<00:11,  4.63it/s]"
     ]
    },
    {
     "name": "stderr",
     "output_type": "stream",
     "text": [
      "\r",
      " 27%|██▋       | 19/71 [00:04<00:10,  4.75it/s]"
     ]
    },
    {
     "name": "stderr",
     "output_type": "stream",
     "text": [
      "\r",
      " 28%|██▊       | 20/71 [00:04<00:10,  4.99it/s]"
     ]
    },
    {
     "name": "stderr",
     "output_type": "stream",
     "text": [
      "\r",
      " 30%|██▉       | 21/71 [00:04<00:10,  4.60it/s]"
     ]
    },
    {
     "name": "stderr",
     "output_type": "stream",
     "text": [
      "\r",
      " 31%|███       | 22/71 [00:04<00:10,  4.52it/s]"
     ]
    },
    {
     "name": "stderr",
     "output_type": "stream",
     "text": [
      "\r",
      " 32%|███▏      | 23/71 [00:04<00:11,  4.34it/s]"
     ]
    },
    {
     "name": "stderr",
     "output_type": "stream",
     "text": [
      "\r",
      " 34%|███▍      | 24/71 [00:05<00:10,  4.32it/s]"
     ]
    },
    {
     "name": "stderr",
     "output_type": "stream",
     "text": [
      "\r",
      " 35%|███▌      | 25/71 [00:05<00:09,  4.68it/s]"
     ]
    },
    {
     "name": "stderr",
     "output_type": "stream",
     "text": [
      "\r",
      " 37%|███▋      | 26/71 [00:05<00:10,  4.42it/s]"
     ]
    },
    {
     "name": "stderr",
     "output_type": "stream",
     "text": [
      "\r",
      " 38%|███▊      | 27/71 [00:05<00:09,  4.64it/s]"
     ]
    },
    {
     "name": "stderr",
     "output_type": "stream",
     "text": [
      "\r",
      " 39%|███▉      | 28/71 [00:06<00:09,  4.51it/s]"
     ]
    },
    {
     "name": "stderr",
     "output_type": "stream",
     "text": [
      "\r",
      " 41%|████      | 29/71 [00:06<00:09,  4.55it/s]"
     ]
    },
    {
     "name": "stderr",
     "output_type": "stream",
     "text": [
      "\r",
      " 42%|████▏     | 30/71 [00:06<00:09,  4.39it/s]"
     ]
    },
    {
     "name": "stderr",
     "output_type": "stream",
     "text": [
      "\r",
      " 44%|████▎     | 31/71 [00:06<00:08,  4.50it/s]"
     ]
    },
    {
     "name": "stderr",
     "output_type": "stream",
     "text": [
      "\r",
      " 45%|████▌     | 32/71 [00:06<00:08,  4.45it/s]"
     ]
    },
    {
     "name": "stderr",
     "output_type": "stream",
     "text": [
      "\r",
      " 46%|████▋     | 33/71 [00:07<00:08,  4.46it/s]"
     ]
    },
    {
     "name": "stderr",
     "output_type": "stream",
     "text": [
      "\r",
      " 48%|████▊     | 34/71 [00:07<00:08,  4.52it/s]"
     ]
    },
    {
     "name": "stderr",
     "output_type": "stream",
     "text": [
      "\r",
      " 49%|████▉     | 35/71 [00:07<00:07,  4.77it/s]"
     ]
    },
    {
     "name": "stderr",
     "output_type": "stream",
     "text": [
      "\r",
      " 51%|█████     | 36/71 [00:07<00:07,  4.43it/s]"
     ]
    },
    {
     "name": "stderr",
     "output_type": "stream",
     "text": [
      "\r",
      " 52%|█████▏    | 37/71 [00:08<00:07,  4.34it/s]"
     ]
    },
    {
     "name": "stderr",
     "output_type": "stream",
     "text": [
      "\r",
      " 54%|█████▎    | 38/71 [00:08<00:07,  4.48it/s]"
     ]
    },
    {
     "name": "stderr",
     "output_type": "stream",
     "text": [
      "\r",
      " 55%|█████▍    | 39/71 [00:08<00:07,  4.32it/s]"
     ]
    },
    {
     "name": "stderr",
     "output_type": "stream",
     "text": [
      "\r",
      " 56%|█████▋    | 40/71 [00:08<00:07,  4.26it/s]"
     ]
    },
    {
     "name": "stderr",
     "output_type": "stream",
     "text": [
      "\r",
      " 58%|█████▊    | 41/71 [00:08<00:06,  4.40it/s]"
     ]
    },
    {
     "name": "stderr",
     "output_type": "stream",
     "text": [
      "\r",
      " 59%|█████▉    | 42/71 [00:09<00:06,  4.62it/s]"
     ]
    },
    {
     "name": "stderr",
     "output_type": "stream",
     "text": [
      "\r",
      " 61%|██████    | 43/71 [00:09<00:05,  4.68it/s]"
     ]
    },
    {
     "name": "stderr",
     "output_type": "stream",
     "text": [
      "\r",
      " 62%|██████▏   | 44/71 [00:09<00:05,  4.59it/s]"
     ]
    },
    {
     "name": "stderr",
     "output_type": "stream",
     "text": [
      "\r",
      " 63%|██████▎   | 45/71 [00:09<00:05,  4.49it/s]"
     ]
    },
    {
     "name": "stderr",
     "output_type": "stream",
     "text": [
      "\r",
      " 65%|██████▍   | 46/71 [00:10<00:05,  4.36it/s]"
     ]
    },
    {
     "name": "stderr",
     "output_type": "stream",
     "text": [
      "\r",
      " 66%|██████▌   | 47/71 [00:10<00:05,  4.40it/s]"
     ]
    },
    {
     "name": "stderr",
     "output_type": "stream",
     "text": [
      "\r",
      " 68%|██████▊   | 48/71 [00:10<00:05,  4.35it/s]"
     ]
    },
    {
     "name": "stderr",
     "output_type": "stream",
     "text": [
      "\r",
      " 69%|██████▉   | 49/71 [00:10<00:05,  4.24it/s]"
     ]
    },
    {
     "name": "stderr",
     "output_type": "stream",
     "text": [
      "\r",
      " 70%|███████   | 50/71 [00:10<00:04,  4.31it/s]"
     ]
    },
    {
     "name": "stderr",
     "output_type": "stream",
     "text": [
      "\r",
      " 72%|███████▏  | 51/71 [00:11<00:04,  4.37it/s]"
     ]
    },
    {
     "name": "stderr",
     "output_type": "stream",
     "text": [
      "\r",
      " 73%|███████▎  | 52/71 [00:11<00:04,  4.32it/s]"
     ]
    },
    {
     "name": "stderr",
     "output_type": "stream",
     "text": [
      "\r",
      " 75%|███████▍  | 53/71 [00:11<00:04,  4.22it/s]"
     ]
    },
    {
     "name": "stderr",
     "output_type": "stream",
     "text": [
      "\r",
      " 76%|███████▌  | 54/71 [00:11<00:03,  4.31it/s]"
     ]
    },
    {
     "name": "stderr",
     "output_type": "stream",
     "text": [
      "\r",
      " 77%|███████▋  | 55/71 [00:12<00:03,  4.45it/s]"
     ]
    },
    {
     "name": "stderr",
     "output_type": "stream",
     "text": [
      "\r",
      " 79%|███████▉  | 56/71 [00:12<00:03,  4.49it/s]"
     ]
    },
    {
     "name": "stderr",
     "output_type": "stream",
     "text": [
      "\r",
      " 80%|████████  | 57/71 [00:12<00:03,  4.33it/s]"
     ]
    },
    {
     "name": "stderr",
     "output_type": "stream",
     "text": [
      "\r",
      " 82%|████████▏ | 58/71 [00:12<00:02,  4.44it/s]"
     ]
    },
    {
     "name": "stderr",
     "output_type": "stream",
     "text": [
      "\r",
      " 83%|████████▎ | 59/71 [00:13<00:02,  4.39it/s]"
     ]
    },
    {
     "name": "stderr",
     "output_type": "stream",
     "text": [
      "\r",
      " 85%|████████▍ | 60/71 [00:13<00:02,  4.64it/s]"
     ]
    },
    {
     "name": "stderr",
     "output_type": "stream",
     "text": [
      "\r",
      " 86%|████████▌ | 61/71 [00:13<00:02,  4.43it/s]"
     ]
    },
    {
     "name": "stderr",
     "output_type": "stream",
     "text": [
      "\r",
      " 89%|████████▊ | 63/71 [00:13<00:01,  5.10it/s]"
     ]
    },
    {
     "name": "stderr",
     "output_type": "stream",
     "text": [
      "\r",
      " 90%|█████████ | 64/71 [00:14<00:01,  4.60it/s]"
     ]
    },
    {
     "name": "stderr",
     "output_type": "stream",
     "text": [
      "\r",
      " 92%|█████████▏| 65/71 [00:14<00:01,  4.45it/s]"
     ]
    },
    {
     "name": "stderr",
     "output_type": "stream",
     "text": [
      "\r",
      " 93%|█████████▎| 66/71 [00:14<00:01,  4.22it/s]"
     ]
    },
    {
     "name": "stderr",
     "output_type": "stream",
     "text": [
      "\r",
      " 94%|█████████▍| 67/71 [00:14<00:00,  4.20it/s]"
     ]
    },
    {
     "name": "stderr",
     "output_type": "stream",
     "text": [
      "\r",
      " 96%|█████████▌| 68/71 [00:15<00:00,  4.30it/s]"
     ]
    },
    {
     "name": "stderr",
     "output_type": "stream",
     "text": [
      "\r",
      " 97%|█████████▋| 69/71 [00:15<00:00,  4.21it/s]"
     ]
    },
    {
     "name": "stderr",
     "output_type": "stream",
     "text": [
      "\r",
      " 99%|█████████▊| 70/71 [00:15<00:00,  4.39it/s]"
     ]
    },
    {
     "name": "stderr",
     "output_type": "stream",
     "text": [
      "\r",
      "100%|██████████| 71/71 [00:15<00:00,  4.62it/s]"
     ]
    },
    {
     "name": "stderr",
     "output_type": "stream",
     "text": [
      "\r",
      "100%|██████████| 71/71 [00:15<00:00,  4.52it/s]"
     ]
    },
    {
     "name": "stderr",
     "output_type": "stream",
     "text": [
      "\n"
     ]
    }
   ],
   "source": [
    "ds_content = source_ds\n",
    "res_ds_content = process_by_df(ds_content,'content')"
   ]
  },
  {
   "cell_type": "code",
   "execution_count": 10,
   "id": "71b27044-32ec-4ca2-bbf6-b6f5e2522f73",
   "metadata": {
    "execution": {
     "iopub.execute_input": "2024-06-07T09:53:42.787801Z",
     "iopub.status.busy": "2024-06-07T09:53:42.787369Z",
     "iopub.status.idle": "2024-06-07T09:53:42.820918Z",
     "shell.execute_reply": "2024-06-07T09:53:42.819555Z"
    }
   },
   "outputs": [
    {
     "data": {
      "text/html": [
       "<div>\n",
       "<style scoped>\n",
       "    .dataframe tbody tr th:only-of-type {\n",
       "        vertical-align: middle;\n",
       "    }\n",
       "\n",
       "    .dataframe tbody tr th {\n",
       "        vertical-align: top;\n",
       "    }\n",
       "\n",
       "    .dataframe thead th {\n",
       "        text-align: right;\n",
       "    }\n",
       "</style>\n",
       "<table border=\"1\" class=\"dataframe\">\n",
       "  <thead>\n",
       "    <tr style=\"text-align: right;\">\n",
       "      <th></th>\n",
       "      <th>id</th>\n",
       "      <th>title</th>\n",
       "      <th>content</th>\n",
       "      <th>publish_date</th>\n",
       "      <th>publisher</th>\n",
       "      <th>source</th>\n",
       "      <th>search_url</th>\n",
       "      <th>created_date</th>\n",
       "      <th>national_medol_id</th>\n",
       "      <th>is_polri</th>\n",
       "      <th>reporter</th>\n",
       "      <th>editor</th>\n",
       "      <th>is_deleted</th>\n",
       "      <th>publish_date_convert</th>\n",
       "      <th>calculation_mark</th>\n",
       "      <th>stemmed</th>\n",
       "      <th>tokenized_tweet</th>\n",
       "      <th>Prediction</th>\n",
       "      <th>Score</th>\n",
       "    </tr>\n",
       "  </thead>\n",
       "  <tbody>\n",
       "    <tr>\n",
       "      <th>0</th>\n",
       "      <td>68870</td>\n",
       "      <td>SYL Surati Airlangga Hingga Jokowi untuk Jadi ...</td>\n",
       "      <td>REPUBLIKA.CO.ID, JAKARTA -- Eks Menteri Perta...</td>\n",
       "      <td>Jumat   07 Jun 2024  16:16 WIB</td>\n",
       "      <td></td>\n",
       "      <td>https://www.liputan6.com/</td>\n",
       "      <td>https://news.republika.co.id/berita/sepds3377/...</td>\n",
       "      <td>2024-06-07 16:52:58.318892</td>\n",
       "      <td>13</td>\n",
       "      <td>False</td>\n",
       "      <td>Rep: Rizky Suryarandika/        Red: Teguh Fir...</td>\n",
       "      <td>Rep: Rizky Suryarandika/        Red: Teguh Fir...</td>\n",
       "      <td>False</td>\n",
       "      <td>2024-06-07 16:16:00</td>\n",
       "      <td>1</td>\n",
       "      <td>republika co id jakarta eks menteri pertanian ...</td>\n",
       "      <td>{mendampingi, de, covid, meringankan, markas, ...</td>\n",
       "      <td>Neutral</td>\n",
       "      <td>0.903884</td>\n",
       "    </tr>\n",
       "    <tr>\n",
       "      <th>1</th>\n",
       "      <td>68869</td>\n",
       "      <td>Harun Masiku, Timbul Tenggelam, Timbul dan Ten...</td>\n",
       "      <td>REPUBLIKA.CO.ID, JAKARTA -- KPK akan memeriks...</td>\n",
       "      <td>Jumat   07 Jun 2024  16:09 WIB</td>\n",
       "      <td></td>\n",
       "      <td>https://www.liputan6.com/</td>\n",
       "      <td>https://news.republika.co.id/berita/sepdfn377/...</td>\n",
       "      <td>2024-06-07 16:52:58.311525</td>\n",
       "      <td>13</td>\n",
       "      <td>True</td>\n",
       "      <td>Rep: Rizky Suryarandika/Nawir/        Red: Teg...</td>\n",
       "      <td>Rep: Rizky Suryarandika/Nawir/        Red: Teg...</td>\n",
       "      <td>False</td>\n",
       "      <td>2024-06-07 16:09:00</td>\n",
       "      <td>1</td>\n",
       "      <td>republika co id jakarta kpk akan memeriksa sek...</td>\n",
       "      <td>{penandatanganan, fikri, sekretaris, hilang, k...</td>\n",
       "      <td>Neutral</td>\n",
       "      <td>0.999503</td>\n",
       "    </tr>\n",
       "    <tr>\n",
       "      <th>2</th>\n",
       "      <td>68868</td>\n",
       "      <td>Bahlil: Tambang yang Dikelola Ormas Keagamaan ...</td>\n",
       "      <td>REPUBLIKA.CO.ID, JAKARTA - Menteri Investasi/...</td>\n",
       "      <td>Jumat   07 Jun 2024  15:48 WIB</td>\n",
       "      <td></td>\n",
       "      <td>https://www.liputan6.com/</td>\n",
       "      <td>https://news.republika.co.id/berita/sepch4487/...</td>\n",
       "      <td>2024-06-07 16:52:58.305398</td>\n",
       "      <td>13</td>\n",
       "      <td>False</td>\n",
       "      <td></td>\n",
       "      <td>Red: Mas Alamil Huda</td>\n",
       "      <td>False</td>\n",
       "      <td>2024-06-07 15:48:00</td>\n",
       "      <td>1</td>\n",
       "      <td>republika co id jakarta menteri investasi kepa...</td>\n",
       "      <td>{pembuatan, ormas, dipindahtangankan, konferen...</td>\n",
       "      <td>Neutral</td>\n",
       "      <td>0.999561</td>\n",
       "    </tr>\n",
       "    <tr>\n",
       "      <th>3</th>\n",
       "      <td>68867</td>\n",
       "      <td>Festival Kenduri Swarnabhumi, Merayakan Warisa...</td>\n",
       "      <td>REPUBLIKA.CO.ID, JAMBI -- Kegiatan kebudayaan...</td>\n",
       "      <td>Jumat   07 Jun 2024  15:42 WIB</td>\n",
       "      <td></td>\n",
       "      <td>https://www.liputan6.com/</td>\n",
       "      <td>https://news.republika.co.id/berita/sepc6w484/...</td>\n",
       "      <td>2024-06-07 16:52:58.300040</td>\n",
       "      <td>13</td>\n",
       "      <td>False</td>\n",
       "      <td>Rep: Antara/Erik PP/        Red: Erik Purnama ...</td>\n",
       "      <td>Rep: Antara/Erik PP/        Red: Erik Purnama ...</td>\n",
       "      <td>False</td>\n",
       "      <td>2024-06-07 15:42:00</td>\n",
       "      <td>1</td>\n",
       "      <td>republika co id jambi kegiatan kebudayaan kend...</td>\n",
       "      <td>{rabu, provinsi, mengambil, perfilman, kebahag...</td>\n",
       "      <td>Positive</td>\n",
       "      <td>0.982662</td>\n",
       "    </tr>\n",
       "    <tr>\n",
       "      <th>4</th>\n",
       "      <td>68866</td>\n",
       "      <td>Ini Rencana Pemerintah untuk Percepat Pembangu...</td>\n",
       "      <td>REPUBLIKA.CO.ID, JAKARTA -- Pemerintah melunc...</td>\n",
       "      <td>Jumat   07 Jun 2024  15:41 WIB</td>\n",
       "      <td></td>\n",
       "      <td>https://www.liputan6.com/</td>\n",
       "      <td>https://news.republika.co.id/berita/sepc4g416/...</td>\n",
       "      <td>2024-06-07 16:52:58.293557</td>\n",
       "      <td>13</td>\n",
       "      <td>False</td>\n",
       "      <td></td>\n",
       "      <td>Red: Satria K Yudha</td>\n",
       "      <td>False</td>\n",
       "      <td>2024-06-07 15:41:00</td>\n",
       "      <td>1</td>\n",
       "      <td>republika co id jakarta pemerintah meluncurkan...</td>\n",
       "      <td>{inovasi, unggul, kompetensi, pembangunan, ter...</td>\n",
       "      <td>Neutral</td>\n",
       "      <td>0.993074</td>\n",
       "    </tr>\n",
       "  </tbody>\n",
       "</table>\n",
       "</div>"
      ],
      "text/plain": [
       "      id                                              title  \\\n",
       "0  68870  SYL Surati Airlangga Hingga Jokowi untuk Jadi ...   \n",
       "1  68869  Harun Masiku, Timbul Tenggelam, Timbul dan Ten...   \n",
       "2  68868  Bahlil: Tambang yang Dikelola Ormas Keagamaan ...   \n",
       "3  68867  Festival Kenduri Swarnabhumi, Merayakan Warisa...   \n",
       "4  68866  Ini Rencana Pemerintah untuk Percepat Pembangu...   \n",
       "\n",
       "                                             content  \\\n",
       "0   REPUBLIKA.CO.ID, JAKARTA -- Eks Menteri Perta...   \n",
       "1   REPUBLIKA.CO.ID, JAKARTA -- KPK akan memeriks...   \n",
       "2   REPUBLIKA.CO.ID, JAKARTA - Menteri Investasi/...   \n",
       "3   REPUBLIKA.CO.ID, JAMBI -- Kegiatan kebudayaan...   \n",
       "4   REPUBLIKA.CO.ID, JAKARTA -- Pemerintah melunc...   \n",
       "\n",
       "                     publish_date publisher                     source  \\\n",
       "0  Jumat   07 Jun 2024  16:16 WIB            https://www.liputan6.com/   \n",
       "1  Jumat   07 Jun 2024  16:09 WIB            https://www.liputan6.com/   \n",
       "2  Jumat   07 Jun 2024  15:48 WIB            https://www.liputan6.com/   \n",
       "3  Jumat   07 Jun 2024  15:42 WIB            https://www.liputan6.com/   \n",
       "4  Jumat   07 Jun 2024  15:41 WIB            https://www.liputan6.com/   \n",
       "\n",
       "                                          search_url  \\\n",
       "0  https://news.republika.co.id/berita/sepds3377/...   \n",
       "1  https://news.republika.co.id/berita/sepdfn377/...   \n",
       "2  https://news.republika.co.id/berita/sepch4487/...   \n",
       "3  https://news.republika.co.id/berita/sepc6w484/...   \n",
       "4  https://news.republika.co.id/berita/sepc4g416/...   \n",
       "\n",
       "                created_date  national_medol_id  is_polri  \\\n",
       "0 2024-06-07 16:52:58.318892                 13     False   \n",
       "1 2024-06-07 16:52:58.311525                 13      True   \n",
       "2 2024-06-07 16:52:58.305398                 13     False   \n",
       "3 2024-06-07 16:52:58.300040                 13     False   \n",
       "4 2024-06-07 16:52:58.293557                 13     False   \n",
       "\n",
       "                                            reporter  \\\n",
       "0  Rep: Rizky Suryarandika/        Red: Teguh Fir...   \n",
       "1  Rep: Rizky Suryarandika/Nawir/        Red: Teg...   \n",
       "2                                                      \n",
       "3  Rep: Antara/Erik PP/        Red: Erik Purnama ...   \n",
       "4                                                      \n",
       "\n",
       "                                              editor  is_deleted  \\\n",
       "0  Rep: Rizky Suryarandika/        Red: Teguh Fir...       False   \n",
       "1  Rep: Rizky Suryarandika/Nawir/        Red: Teg...       False   \n",
       "2                               Red: Mas Alamil Huda       False   \n",
       "3  Rep: Antara/Erik PP/        Red: Erik Purnama ...       False   \n",
       "4                                Red: Satria K Yudha       False   \n",
       "\n",
       "  publish_date_convert  calculation_mark  \\\n",
       "0  2024-06-07 16:16:00                 1   \n",
       "1  2024-06-07 16:09:00                 1   \n",
       "2  2024-06-07 15:48:00                 1   \n",
       "3  2024-06-07 15:42:00                 1   \n",
       "4  2024-06-07 15:41:00                 1   \n",
       "\n",
       "                                             stemmed  \\\n",
       "0  republika co id jakarta eks menteri pertanian ...   \n",
       "1  republika co id jakarta kpk akan memeriksa sek...   \n",
       "2  republika co id jakarta menteri investasi kepa...   \n",
       "3  republika co id jambi kegiatan kebudayaan kend...   \n",
       "4  republika co id jakarta pemerintah meluncurkan...   \n",
       "\n",
       "                                     tokenized_tweet Prediction     Score  \n",
       "0  {mendampingi, de, covid, meringankan, markas, ...    Neutral  0.903884  \n",
       "1  {penandatanganan, fikri, sekretaris, hilang, k...    Neutral  0.999503  \n",
       "2  {pembuatan, ormas, dipindahtangankan, konferen...    Neutral  0.999561  \n",
       "3  {rabu, provinsi, mengambil, perfilman, kebahag...   Positive  0.982662  \n",
       "4  {inovasi, unggul, kompetensi, pembangunan, ter...    Neutral  0.993074  "
      ]
     },
     "execution_count": 10,
     "metadata": {},
     "output_type": "execute_result"
    }
   ],
   "source": [
    "res_ds_content.head()"
   ]
  },
  {
   "cell_type": "code",
   "execution_count": 11,
   "id": "50fb4c52-f25a-47d1-9355-50689ed9307b",
   "metadata": {
    "execution": {
     "iopub.execute_input": "2024-06-07T09:53:42.826270Z",
     "iopub.status.busy": "2024-06-07T09:53:42.825754Z",
     "iopub.status.idle": "2024-06-07T09:53:45.836856Z",
     "shell.execute_reply": "2024-06-07T09:53:45.835727Z"
    }
   },
   "outputs": [
    {
     "name": "stdout",
     "output_type": "stream",
     "text": [
      "Query executed successfully. 1 rows affected.\n",
      "Query executed successfully. 1 rows affected.\n",
      "Query executed successfully. 1 rows affected.\n",
      "Query executed successfully. 1 rows affected.\n",
      "Query executed successfully. 1 rows affected.\n"
     ]
    },
    {
     "name": "stdout",
     "output_type": "stream",
     "text": [
      "Query executed successfully. 1 rows affected.\n",
      "Query executed successfully. 1 rows affected.\n",
      "Query executed successfully. 1 rows affected.\n",
      "Query executed successfully. 1 rows affected.\n",
      "Query executed successfully. 1 rows affected.\n"
     ]
    },
    {
     "name": "stdout",
     "output_type": "stream",
     "text": [
      "Query executed successfully. 1 rows affected.\n",
      "Query executed successfully. 1 rows affected.\n",
      "Query executed successfully. 1 rows affected.\n",
      "Query executed successfully. 1 rows affected.\n",
      "Query executed successfully. 1 rows affected.\n"
     ]
    },
    {
     "name": "stdout",
     "output_type": "stream",
     "text": [
      "Query executed successfully. 1 rows affected.\n",
      "Query executed successfully. 1 rows affected.\n",
      "Query executed successfully. 1 rows affected.\n",
      "Query executed successfully. 1 rows affected.\n",
      "Query executed successfully. 1 rows affected.\n",
      "Query executed successfully. 1 rows affected.\n"
     ]
    },
    {
     "name": "stdout",
     "output_type": "stream",
     "text": [
      "Query executed successfully. 1 rows affected.\n",
      "Query executed successfully. 1 rows affected.\n",
      "Query executed successfully. 1 rows affected.\n",
      "Query executed successfully. 1 rows affected.\n",
      "Query executed successfully. 1 rows affected.\n"
     ]
    },
    {
     "name": "stdout",
     "output_type": "stream",
     "text": [
      "Query executed successfully. 1 rows affected.\n",
      "Query executed successfully. 1 rows affected.\n",
      "Query executed successfully. 1 rows affected.\n",
      "Query executed successfully. 1 rows affected.\n",
      "Query executed successfully. 1 rows affected.\n"
     ]
    },
    {
     "name": "stdout",
     "output_type": "stream",
     "text": [
      "Query executed successfully. 1 rows affected.\n",
      "Query executed successfully. 1 rows affected.\n",
      "Query executed successfully. 1 rows affected.\n",
      "Query executed successfully. 1 rows affected.\n",
      "Query executed successfully. 1 rows affected.\n"
     ]
    },
    {
     "name": "stdout",
     "output_type": "stream",
     "text": [
      "Query executed successfully. 1 rows affected.\n",
      "Query executed successfully. 1 rows affected.\n",
      "Query executed successfully. 1 rows affected.\n",
      "Query executed successfully. 1 rows affected.\n",
      "Query executed successfully. 1 rows affected.\n"
     ]
    },
    {
     "name": "stdout",
     "output_type": "stream",
     "text": [
      "Query executed successfully. 1 rows affected.\n",
      "Query executed successfully. 1 rows affected.\n",
      "Query executed successfully. 1 rows affected.\n",
      "Query executed successfully. 1 rows affected.\n",
      "Query executed successfully. 1 rows affected.\n"
     ]
    },
    {
     "name": "stdout",
     "output_type": "stream",
     "text": [
      "Query executed successfully. 1 rows affected.\n",
      "Query executed successfully. 1 rows affected.\n",
      "Query executed successfully. 1 rows affected.\n",
      "Query executed successfully. 1 rows affected.\n",
      "Query executed successfully. 1 rows affected.\n"
     ]
    },
    {
     "name": "stdout",
     "output_type": "stream",
     "text": [
      "Query executed successfully. 1 rows affected.\n",
      "Query executed successfully. 1 rows affected.\n",
      "Query executed successfully. 1 rows affected.\n",
      "Query executed successfully. 1 rows affected.\n",
      "Query executed successfully. 1 rows affected.\n"
     ]
    },
    {
     "name": "stdout",
     "output_type": "stream",
     "text": [
      "Query executed successfully. 1 rows affected.\n",
      "Query executed successfully. 1 rows affected.\n",
      "Query executed successfully. 1 rows affected.\n",
      "Query executed successfully. 1 rows affected.\n",
      "Query executed successfully. 1 rows affected.\n"
     ]
    },
    {
     "name": "stdout",
     "output_type": "stream",
     "text": [
      "Query executed successfully. 1 rows affected.\n",
      "Query executed successfully. 1 rows affected.\n",
      "Query executed successfully. 1 rows affected.\n",
      "Query executed successfully. 1 rows affected.\n",
      "Query executed successfully. 1 rows affected.\n",
      "Query executed successfully. 1 rows affected.\n"
     ]
    },
    {
     "name": "stdout",
     "output_type": "stream",
     "text": [
      "Query executed successfully. 1 rows affected.\n",
      "Query executed successfully. 1 rows affected.\n",
      "Query executed successfully. 1 rows affected.\n",
      "Query executed successfully. 1 rows affected.\n"
     ]
    }
   ],
   "source": [
    "# record result\n",
    "sentiment_class = 0\n",
    "\n",
    "for index, row in res_ds_content.iterrows():\n",
    "    if row['Prediction'] == 'Positive':\n",
    "        sentiment_class = 1\n",
    "    elif row['Prediction'] == 'Negative':\n",
    "        sentiment_class = -1\n",
    "    else:\n",
    "        sentiment_class = 0\n",
    "        \n",
    "    sql = \"update news_national_medol_sentiment set sentiment_category_content = %s, score_content = %s where news_national_medol_id = %s\" % (sentiment_class,row['Score'],row['id']) \n",
    "    # print(sql)\n",
    "    execute_query(sql)"
   ]
  }
 ],
 "metadata": {
  "kernelspec": {
   "display_name": "Python 3 (ipykernel)",
   "language": "python",
   "name": "python3"
  },
  "language_info": {
   "codemirror_mode": {
    "name": "ipython",
    "version": 3
   },
   "file_extension": ".py",
   "mimetype": "text/x-python",
   "name": "python",
   "nbconvert_exporter": "python",
   "pygments_lexer": "ipython3",
   "version": "3.8.10"
  }
 },
 "nbformat": 4,
 "nbformat_minor": 5
}
