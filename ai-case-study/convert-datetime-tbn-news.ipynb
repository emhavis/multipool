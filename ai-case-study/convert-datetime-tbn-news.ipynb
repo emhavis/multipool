{
 "cells": [
  {
   "cell_type": "code",
   "execution_count": 6,
   "id": "404a198a-b5d2-464e-be54-074782eaab60",
   "metadata": {
    "editable": true,
    "slideshow": {
     "slide_type": ""
    },
    "tags": []
   },
   "outputs": [],
   "source": [
    "import psycopg2\n",
    "import pandas as pd\n",
    "from datetime import timedelta\n",
    "from dateutil import parser\n"
   ]
  },
  {
   "cell_type": "code",
   "execution_count": 7,
   "id": "a9ca1395-9afe-468e-b8f9-5274583b3859",
   "metadata": {},
   "outputs": [],
   "source": [
    "import pandas as pd\n",
    "from sqlalchemy import create_engine, Column, Integer, String, MetaData, Table\n",
    "from sqlalchemy.orm import sessionmaker\n",
    "from sqlalchemy.exc import SQLAlchemyError\n",
    "from sqlalchemy.util import deprecations\n",
    "from sqlalchemy.sql import text\n",
    "deprecations.SILENCE_UBER_WARNING = True\n",
    "# create database connection\n",
    "import psycopg2\n",
    "import psycopg2.extras\n",
    "from typing import Iterator, Dict, Any\n",
    "\n",
    "def insert_execute_batch(connection, ssql, df_dict) -> None:\n",
    "    \n",
    "    connection = psycopg2.connect(\n",
    "        host=\"98.98.117.105\",\n",
    "        port='5432',\n",
    "        database=\"medols\",\n",
    "        user=\"postgres\",\n",
    "        password='FEWcTB3JIX5gK4T06c1MdkM9N2S8w9pb',\n",
    "    )\n",
    "\n",
    "    try:\n",
    "        connection.autocommit = True\n",
    "        with connection.cursor() as cursor:\n",
    "            psycopg2.extras.execute_batch(cursor, ssql, df_dict)\n",
    "\n",
    "    except:\n",
    "        # Rollback changes if there's an error\n",
    "        print(f\"Error executing query: {e}\")\n",
    "\n",
    "    finally:\n",
    "        connection.close()\n",
    "\n",
    "def execute_query_psql(query, params=None):\n",
    "    # Set your PostgreSQL connection parameters\n",
    "    db_params = {\n",
    "        'host': '98.98.117.105',\n",
    "        'port': '5432',\n",
    "        'database': 'medols',\n",
    "        'user': 'postgres',\n",
    "        'password': 'FEWcTB3JIX5gK4T06c1MdkM9N2S8w9pb',\n",
    "    }\n",
    "\n",
    "    # Create a SQLAlchemy engine\n",
    "    engine = create_engine(f\"postgresql+psycopg2://{db_params['user']}:{db_params['password']}@{db_params['host']}:{db_params['port']}/{db_params['database']}\")\n",
    "\n",
    "    # Create a metadata object\n",
    "    metadata = MetaData()\n",
    "\n",
    "    # Create a session\n",
    "    Session = sessionmaker(bind=engine)\n",
    "    session = Session()\n",
    "\n",
    "    try:\n",
    "        # Execute the query with optional parameters\n",
    "        result = session.execute(text(query), params)\n",
    "\n",
    "        # Check if the query is a SELECT query\n",
    "        is_select_query = result.returns_rows\n",
    "\n",
    "        if is_select_query:\n",
    "            # Fetch the data and return as a Pandas DataFrame\n",
    "            columns = result.keys()\n",
    "            fetched_data = result.fetchall()\n",
    "            df = pd.DataFrame(fetched_data, columns=columns)\n",
    "            # print(\"Fetched Data as DataFrame:\")\n",
    "            # print(df)\n",
    "            return df\n",
    "        else:\n",
    "            # Get the number of rows affected for non-SELECT queries\n",
    "            rows_affected = result.rowcount\n",
    "\n",
    "            # Commit the changes to the database for non-SELECT queries\n",
    "            session.commit()\n",
    "\n",
    "            print(f\"Query executed successfully. {rows_affected} rows affected.\")\n",
    "            return rows_affected\n",
    "    except Exception as e:\n",
    "        # Rollback changes if there's an error\n",
    "        session.rollback()\n",
    "        print(f\"Error executing query: {e}\")\n",
    "    finally:\n",
    "        # Close the session\n",
    "        session.close()"
   ]
  },
  {
   "cell_type": "code",
   "execution_count": 8,
   "id": "4a25a382-6ca8-4324-9e9c-1a6dae717c3e",
   "metadata": {},
   "outputs": [],
   "source": [
    "df = execute_query_psql(\"select id, publish_date from news_tbn_medol where converted_date is null\")"
   ]
  },
  {
   "cell_type": "code",
   "execution_count": 9,
   "id": "eaa83dbc-c5a8-4a4d-bd4e-8d2225d11fd5",
   "metadata": {},
   "outputs": [],
   "source": [
    "from datetime import timedelta\n",
    "from dateutil import parser\n",
    "import pandas as pd\n",
    "\n",
    "def convert_dates_final_adjustment(date_str):\n",
    "    if pd.isna(date_str) or not isinstance(date_str, str):\n",
    "        return None\n",
    "    original_date_str = date_str  # Store the original date string\n",
    "    date_str = date_str.replace(\"WIB\", \"\").replace(\"WITA\", \"\").replace('-', '').strip()\n",
    "    date_str = ' '.join(date_str.split())  # Normalize whitespace\n",
    "    try:\n",
    "        date_time = parser.parse(date_str, fuzzy=True)\n",
    "        if \"WITA\" in date_str:\n",
    "            date_time += timedelta(hours=1)  # Adjust for WITA timezone\n",
    "        return date_time\n",
    "    except Exception as e:\n",
    "        print(f\"Error parsing date '{original_date_str}': {e}\")\n",
    "        return None\n",
    "\n",
    "# Example of how this function might be called with a problematic date string:\n",
    "# convert_dates_final_adjustment(\"32 February 2023 - 25:61 WIB\")\n"
   ]
  },
  {
   "cell_type": "code",
   "execution_count": 18,
   "id": "39c0a422-ed1f-44bd-9b7b-d4f7d35e784f",
   "metadata": {},
   "outputs": [
    {
     "name": "stdout",
     "output_type": "stream",
     "text": [
      "Error parsing date 'Senin, 26 Februari 2024 16:05 WIB': bad month number 26; must be 1-12: Senin, 26 Februari 2024 16:05\n"
     ]
    }
   ],
   "source": [
    "x = convert_dates_final_adjustment('Senin, 26 Februari 2024 16:05 WIB')"
   ]
  },
  {
   "cell_type": "code",
   "execution_count": 16,
   "id": "56255cb8-7efa-422e-bac4-9547845e35ab",
   "metadata": {},
   "outputs": [
    {
     "name": "stdout",
     "output_type": "stream",
     "text": [
      "None\n"
     ]
    }
   ],
   "source": [
    "print(x)"
   ]
  },
  {
   "cell_type": "code",
   "execution_count": 5,
   "id": "a4ebc783-83cd-43ec-93b8-8e8ea8f7808c",
   "metadata": {},
   "outputs": [],
   "source": [
    "def update_database(row):\n",
    "    update_query = \"\"\"\n",
    "    UPDATE news_tbn_medol\n",
    "    SET converted_date = '%s'\n",
    "    WHERE id = %s\n",
    "    \"\"\"\n",
    "    update_query = update_query %(row['converted_date'], row['id'])\n",
    "    # print(update_query)\n",
    "    execute_query_psql(update_query)\n",
    "    \n",
    "if len(df) > 0:\n",
    "    # Apply the conversion function to the 'publish_date' column\n",
    "    df['converted_date'] = df['publish_date'].apply(convert_dates_final_adjustment)\n",
    "    df.apply(update_database, axis=1)\n",
    "    # print(df)"
   ]
  }
 ],
 "metadata": {
  "kernelspec": {
   "display_name": "Python 3 (ipykernel)",
   "language": "python",
   "name": "python3"
  },
  "language_info": {
   "codemirror_mode": {
    "name": "ipython",
    "version": 3
   },
   "file_extension": ".py",
   "mimetype": "text/x-python",
   "name": "python",
   "nbconvert_exporter": "python",
   "pygments_lexer": "ipython3",
   "version": "3.8.10"
  }
 },
 "nbformat": 4,
 "nbformat_minor": 5
}
