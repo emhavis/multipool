{
 "cells": [
  {
   "cell_type": "code",
   "execution_count": 1,
   "id": "0ed565e4-65ab-463a-b16e-e4fbe978bd0d",
   "metadata": {},
   "outputs": [
    {
     "name": "stdout",
     "output_type": "stream",
     "text": [
      "Job started.\n",
      "Instance 0 started.\n",
      "Instance 1 started.\n",
      "Instance 2 started.\n",
      "Instance 3 started.\n",
      "Instance 4 started.\n",
      "Instance 0 finished.\n",
      "Instance 1 finished.\n",
      "Instance 2 finished.\n",
      "Instance 3 finished.\n",
      "Instance 4 finished.\n",
      "All instances finished.\n"
     ]
    }
   ],
   "source": [
    "import os\n",
    "import time\n",
    "import datetime\n",
    "import nbformat\n",
    "from nbconvert.preprocessors import ExecutePreprocessor\n",
    "import concurrent.futures\n",
    "\n",
    "lock_file = 'job.lock'\n",
    "timeout_seconds = 3600  # Timeout period to consider a job as halted, e.g., 10 minutes\n",
    "num_parallel_executions = 5  # Number of parallel executions\n",
    "delay_between_starts = 2  # Delay in seconds between starts\n",
    "\n",
    "def create_lock_file():\n",
    "    with open(lock_file, 'w') as f:\n",
    "        f.write(datetime.datetime.now().isoformat())\n",
    "\n",
    "def update_lock_file():\n",
    "    with open(lock_file, 'w') as f:\n",
    "        f.write(datetime.datetime.now().isoformat())\n",
    "\n",
    "def check_lock_file():\n",
    "    if os.path.exists(lock_file):\n",
    "        with open(lock_file, 'r') as f:\n",
    "            timestamp = f.read()\n",
    "            last_run_time = datetime.datetime.fromisoformat(timestamp)\n",
    "            if (datetime.datetime.now() - last_run_time).total_seconds() < timeout_seconds:\n",
    "                return True  # Job is still running\n",
    "    return False  # Job is not running or has halted\n",
    "\n",
    "def run_notebook(instance_id, notebook_path, timeout=600):\n",
    "    try:\n",
    "        print(f\"Instance {instance_id} started.\")\n",
    "        with open(notebook_path) as f:\n",
    "            nb = nbformat.read(f, as_version=4)\n",
    "        ep = ExecutePreprocessor(timeout=timeout, kernel_name='python3')\n",
    "        ep.preprocess(nb, {'metadata': {'path': '/home/ubuntu/ml_project/notebook_directory/multipool/ai-case-study/'}})\n",
    "        with open(notebook_path, 'w') as f:\n",
    "            nbformat.write(nb, f)\n",
    "        print(f\"Instance {instance_id} finished.\")\n",
    "    except Exception as e:\n",
    "        print(f\"Instance {instance_id} failed: {e}\")\n",
    "\n",
    "# Check if the lock file exists and the job is still running\n",
    "if check_lock_file():\n",
    "    print(\"Previous job is still running. Exiting.\")\n",
    "else:\n",
    "    # Create a lock file to indicate that the job is running\n",
    "    create_lock_file()\n",
    "    print(\"Job started.\")\n",
    "    try:\n",
    "        # Run the notebook in parallel\n",
    "        with concurrent.futures.ThreadPoolExecutor(max_workers=num_parallel_executions) as executor:\n",
    "            futures = {}\n",
    "            for i in range(num_parallel_executions):\n",
    "                futures[executor.submit(run_notebook, i, '/home/ubuntu/ml_project/notebook_directory/multipool/ai-case-study/topic-detection.ipynb')] = i\n",
    "                time.sleep(delay_between_starts)  # Delay between starting each instance\n",
    "            for future in concurrent.futures.as_completed(futures):\n",
    "                instance_id = futures[future]\n",
    "                try:\n",
    "                    future.result()\n",
    "                except Exception as e:\n",
    "                    print(f\"Instance {instance_id} generated an exception: {e}\")\n",
    "        print(\"All instances finished.\")\n",
    "    finally:\n",
    "        # Remove the lock file when the job is done\n",
    "        if os.path.exists(lock_file):\n",
    "            os.remove(lock_file)\n"
   ]
  },
  {
   "cell_type": "code",
   "execution_count": null,
   "id": "05bb0a07-7ec3-4fff-a252-72c0ad890c43",
   "metadata": {},
   "outputs": [],
   "source": []
  }
 ],
 "metadata": {
  "kernelspec": {
   "display_name": "Python 3 (ipykernel)",
   "language": "python",
   "name": "python3"
  },
  "language_info": {
   "codemirror_mode": {
    "name": "ipython",
    "version": 3
   },
   "file_extension": ".py",
   "mimetype": "text/x-python",
   "name": "python",
   "nbconvert_exporter": "python",
   "pygments_lexer": "ipython3",
   "version": "3.10.9"
  }
 },
 "nbformat": 4,
 "nbformat_minor": 5
}
