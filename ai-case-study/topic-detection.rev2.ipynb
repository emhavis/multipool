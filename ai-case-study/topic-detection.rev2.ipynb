{
 "cells": [
  {
   "cell_type": "markdown",
   "id": "0da3450d-8f91-4c32-9566-8d275334ba0a",
   "metadata": {},
   "source": [
    "# Extract the Data"
   ]
  },
  {
   "cell_type": "code",
   "execution_count": 1,
   "id": "a1ca9eb1-48f1-4032-ba07-2335a4364ef7",
   "metadata": {
    "editable": true,
    "execution": {
     "iopub.execute_input": "2024-08-22T23:56:09.352662Z",
     "iopub.status.busy": "2024-08-22T23:56:09.352429Z",
     "iopub.status.idle": "2024-08-22T23:56:09.922888Z",
     "shell.execute_reply": "2024-08-22T23:56:09.922293Z"
    },
    "slideshow": {
     "slide_type": ""
    },
    "tags": []
   },
   "outputs": [],
   "source": [
    "import psycopg2\n",
    "import re\n",
    "import requests\n",
    "from ollama import Client\n",
    "import data_connector as dc\n",
    "\n",
    "# Processing jobs for each platform\n",
    "# 10 = tiktok\n",
    "# 20 = youtube\n",
    "# 30 = instagram_post\n",
    "# 40 = facebook_post\n",
    "# 50 = google_result\n",
    "# 60 = twitter_tweets\n",
    "\n",
    "# Step 1: Extract Data\n",
    "def fetch_posts(social_media_monitoring_id, platform_id):\n",
    "    conn = psycopg2.connect(\n",
    "        dbname='medols',\n",
    "        user='postgres',\n",
    "        password='FEWcTB3JIX5gK4T06c1MdkM9N2S8w9pb',\n",
    "        host='98.98.117.105',\n",
    "        port='5432')\n",
    "\n",
    "    if (platform_id == 60):\n",
    "        ## twitter\n",
    "        query = \"\"\"\n",
    "        select tweet as post_content \n",
    "        from twitter_tweets \n",
    "        where monitoring_id = '%s'\n",
    "        \"\"\" % social_media_monitoring_id\n",
    "    elif (platform_id == 40):\n",
    "        ## facebook post\n",
    "        query = \"\"\"\n",
    "        select  description as post_content\n",
    "        from \tfacebook_post \n",
    "        where monitoring_id = '%s'\n",
    "        \"\"\" % social_media_monitoring_id\n",
    "    elif (platform_id == 30):\n",
    "        ## instagram post\n",
    "        query = \"\"\"\n",
    "        select \tcontent as post_content\n",
    "        from \tinstagram_post \n",
    "        where monitoring_id = '%s'\n",
    "        \"\"\" % social_media_monitoring_id\n",
    "    elif (platform_id == 20):\n",
    "        ## youtube post\n",
    "        query = \"\"\"\n",
    "        select \tdescription as post_content\n",
    "        from \tyoutube     \n",
    "        where monitoring_id = '%s'\n",
    "        \"\"\" % social_media_monitoring_id\n",
    "    elif (platform_id == 10):\n",
    "        ## tiktok post\n",
    "        query = \"\"\"\n",
    "        select \t\"desc\" as post_content\n",
    "        from \ttiktok        \n",
    "        where monitoring_id = '%s'\n",
    "        \"\"\" % social_media_monitoring_id\n",
    "\n",
    "    \n",
    "    cursor = conn.cursor()\n",
    "    cursor.execute(query)\n",
    "    posts = cursor.fetchall()\n",
    "    cursor.close()\n",
    "    conn.close()\n",
    "    return [post[0] for post in posts]\n"
   ]
  },
  {
   "cell_type": "markdown",
   "id": "b93b7841-a49c-48e9-9b3d-72f3291dfa11",
   "metadata": {},
   "source": [
    "# Pre Process the Data"
   ]
  },
  {
   "cell_type": "code",
   "execution_count": 2,
   "id": "340788af-1296-4b54-a7dc-866ab2875ad3",
   "metadata": {
    "execution": {
     "iopub.execute_input": "2024-08-22T23:56:09.925912Z",
     "iopub.status.busy": "2024-08-22T23:56:09.925343Z",
     "iopub.status.idle": "2024-08-22T23:56:09.929185Z",
     "shell.execute_reply": "2024-08-22T23:56:09.928558Z"
    }
   },
   "outputs": [],
   "source": [
    "# Step 2: Preprocess Data\n",
    "def preprocess_text(text):\n",
    "    # Remove URLs\n",
    "    text = re.sub(r'http\\S+|www\\S+|https\\S+', '', text, flags=re.MULTILINE)\n",
    "    # Remove user mentions\n",
    "    text = re.sub(r'@\\w+', '', text)\n",
    "    # Remove hashtags\n",
    "    text = re.sub(r'#\\w+', '', text)\n",
    "    # Remove special characters and numbers\n",
    "    text = re.sub(r'\\W+|\\d+', ' ', text)\n",
    "    # Convert to lowercase\n",
    "    text = text.lower()\n",
    "    return text"
   ]
  },
  {
   "cell_type": "markdown",
   "id": "76e6a086-ce24-4a14-9f49-ffc344c7dfb5",
   "metadata": {},
   "source": [
    "# Step 4: Recording to database"
   ]
  },
  {
   "cell_type": "code",
   "execution_count": 3,
   "id": "676333e7-c8e7-4863-a986-6604d2ff3083",
   "metadata": {
    "execution": {
     "iopub.execute_input": "2024-08-22T23:56:09.931513Z",
     "iopub.status.busy": "2024-08-22T23:56:09.931234Z",
     "iopub.status.idle": "2024-08-22T23:56:09.937533Z",
     "shell.execute_reply": "2024-08-22T23:56:09.936911Z"
    }
   },
   "outputs": [],
   "source": [
    "def record_to_database(topics_output, social_media_monitoring_id, platform_id):\n",
    "\n",
    "    # Establish connection\n",
    "    conn = psycopg2.connect(\n",
    "        dbname='medols',\n",
    "        user='postgres',\n",
    "        password='FEWcTB3JIX5gK4T06c1MdkM9N2S8w9pb',\n",
    "        host='98.98.117.105',\n",
    "        port='5432'\n",
    "    )\n",
    "\n",
    "    # Create a cursor\n",
    "    cur = conn.cursor()\n",
    "    \n",
    "    # Text containing apostrophe and double quotes\n",
    "    # text = 'It\\'s a \"beautiful\" day.'\n",
    "    \n",
    "    #preparing all the data component\n",
    "    model = topics_output['model']\n",
    "    created_at = topics_output['created_at']\n",
    "    total_duration = topics_output['total_duration']\n",
    "    load_duration = topics_output['load_duration']\n",
    "    prompt_eval_duration = topics_output['prompt_eval_duration']\n",
    "    eval_count = topics_output['eval_count']\n",
    "    eval_duration = topics_output['eval_duration']\n",
    "    role = topics_output['message']['role']\n",
    "    text_output = \"$$\" + topics_output['message']['content'] + \"$$\"\n",
    "\n",
    "    ssql = \"\"\"\n",
    "    insert into topic_detection (social_media_monitoring_id, model, created_at ,total_duration, \n",
    "\t\t\t\t\t \tload_duration, prompt_eval_duration, eval_count, eval_duration,\n",
    "\t\t\t\t\t \tllm_role, topic_detection, platform_id)\n",
    "    values ('%s','%s','%s',%s ,%s ,%s ,%s ,%s, '%s', %s, %s)\n",
    "    \"\"\"\n",
    "    ssql = ssql % (social_media_monitoring_id, model, created_at, total_duration, load_duration, prompt_eval_duration, eval_count, eval_duration, role, text_output, platform_id)\n",
    "    #print(ssql)\n",
    "    #dc.execute_query_psql(ssql)\n",
    "\n",
    "    # Parameterized query\n",
    "    cur.execute(ssql, (social_media_monitoring_id, model, created_at, total_duration, load_duration, prompt_eval_duration, eval_count, eval_duration, role, text_output, platform_id,))\n",
    "    \n",
    "    # Commit the transaction\n",
    "    conn.commit()\n",
    "    \n",
    "    # Close the cursor and connection\n",
    "    cur.close()\n",
    "    conn.close()\n",
    "\n",
    "def record_calculated(social_media_monitoring_id):\n",
    "    ssql = \"insert into topic_detection_rec (monitoring_search_id, process_time) values ('%s', NOW())\"\n",
    "    ssql = ssql % (social_media_monitoring_id)\n",
    "    dc.execute_query_psql(ssql)\n",
    "    \n",
    "\n",
    "def pre_insert(social_media_monitoring_id, platform_id):\n",
    "    ssql = \"delete from topic_detection where social_media_monitoring_id = '%s' and platform_id = %s\"\n",
    "    ssql = ssql % (social_media_monitoring_id, platform_id)\n",
    "    dc.execute_query_psql(ssql)"
   ]
  },
  {
   "cell_type": "code",
   "execution_count": 4,
   "id": "632b4a2a-d3be-42ab-bed7-e9f477a958b6",
   "metadata": {
    "execution": {
     "iopub.execute_input": "2024-08-22T23:56:09.939804Z",
     "iopub.status.busy": "2024-08-22T23:56:09.939504Z",
     "iopub.status.idle": "2024-08-22T23:56:09.944499Z",
     "shell.execute_reply": "2024-08-22T23:56:09.943993Z"
    }
   },
   "outputs": [],
   "source": [
    "# Step 3: Query the Hosted LLM\n",
    "def query_ollama_llm(platform_id,texts, num_topics=5):\n",
    "# 10 = tiktok\n",
    "# 20 = youtube\n",
    "# 30 = instagram_post\n",
    "# 40 = facebook_post\n",
    "# 50 = google_result\n",
    "# 60 = twitter_tweets\n",
    "    \n",
    "    client = Client(host='http://localhost:11434')\n",
    "    print(\"PlatformID: %s\" %str(platform_id))\n",
    "\n",
    "    prompt_txt = \"\"\"\n",
    "Anda adalah seorang Ahli Analitik Media Sosial Lanjutan. Berdasarkan postingan %s di bawah ini, \n",
    "tentukan 5 topik utama yang mencakup keseluruhan. Sertakan tema-tema kunci, kata kunci, \n",
    "dan penjelasan singkat untuk setiap topik yang diidentifikasi, gunakanlah bahasa indonesia\n",
    "yang baik dan benar dalam seluruh jawaban anda.\n",
    "Di bawah ini adalah postingan %s:\n",
    "\n",
    "{post1}\n",
    "{post2}\n",
    "{post3}\n",
    "...\n",
    "N. {postN}\n",
    "    \"\"\"\n",
    "    if platform_id == 10:\n",
    "        prompt_txt = prompt_txt % ('Tiktok','Tiktok')\n",
    "    elif platform_id == 20:\n",
    "        prompt_txt = prompt_txt % ('Youtube','Youtube')\n",
    "    elif platform_id == 30:\n",
    "        prompt_txt = prompt_txt % ('Instagram','Instagram')\n",
    "    elif platform_id == 40:\n",
    "        prompt_txt = prompt_txt % ('Facebook','Facebook')\n",
    "    elif platform_id == 60:\n",
    "        prompt_txt = prompt_txt % ('Twitter','Twitter')\n",
    "\n",
    "    print(prompt_txt)\n",
    "    prompt_txt = prompt_txt + '\\n\\n'\n",
    "    prompt_txt = prompt_txt.join(texts)\n",
    "    \n",
    "    prompt_msg = [\n",
    "      {\n",
    "        'role': 'user',\n",
    "        'content': prompt_txt,\n",
    "      },\n",
    "    ]\n",
    "    # print(prompt_msg[:1000])\n",
    "    \n",
    "    response = client.chat(model='llama3', messages=prompt_msg)\n",
    "    # return \"\"\n",
    "    return response\n",
    "\n"
   ]
  },
  {
   "cell_type": "markdown",
   "id": "893e8905-3922-4dbd-b781-be271c271fe6",
   "metadata": {},
   "source": [
    "# Executing LLM Query"
   ]
  },
  {
   "cell_type": "code",
   "execution_count": 5,
   "id": "ae6ba093-1e5e-470d-968c-33190c3bdc66",
   "metadata": {
    "execution": {
     "iopub.execute_input": "2024-08-22T23:56:09.946770Z",
     "iopub.status.busy": "2024-08-22T23:56:09.946498Z",
     "iopub.status.idle": "2024-08-22T23:56:10.690789Z",
     "shell.execute_reply": "2024-08-22T23:56:10.690169Z"
    },
    "scrolled": true
   },
   "outputs": [
    {
     "name": "stderr",
     "output_type": "stream",
     "text": [
      "INFO:httpx:HTTP Request: POST http://localhost:11434/api/chat \"HTTP/1.1 200 OK\"\n"
     ]
    },
    {
     "name": "stderr",
     "output_type": "stream",
     "text": [
      "ERROR:root:Error fetching posts: 'total_duration'\n"
     ]
    },
    {
     "name": "stdout",
     "output_type": "stream",
     "text": [
      "Processing SosmedID cbe29a29-f969-4db5-9364-a1992488ff7c\n",
      "Processing MedolID f37e3421-ea02-43da-a5fb-0fc79b7cca60\n",
      "process twitter\n",
      "process tiktok\n",
      "PlatformID: 10\n",
      "\n",
      "Anda adalah seorang Ahli Analitik Media Sosial Lanjutan. Berdasarkan postingan Tiktok di bawah ini, \n",
      "tentukan 5 topik utama yang mencakup keseluruhan. Sertakan tema-tema kunci, kata kunci, \n",
      "dan penjelasan singkat untuk setiap topik yang diidentifikasi, gunakanlah bahasa indonesia\n",
      "yang baik dan benar dalam seluruh jawaban anda.\n",
      "Di bawah ini adalah postingan Tiktok:\n",
      "\n",
      "{post1}\n",
      "{post2}\n",
      "{post3}\n",
      "...\n",
      "N. {postN}\n",
      "    \n",
      "process facebook\n"
     ]
    },
    {
     "name": "stderr",
     "output_type": "stream",
     "text": [
      "INFO:httpx:HTTP Request: POST http://localhost:11434/api/chat \"HTTP/1.1 200 OK\"\n"
     ]
    },
    {
     "name": "stderr",
     "output_type": "stream",
     "text": [
      "ERROR:root:Error fetching posts: 'total_duration'\n"
     ]
    },
    {
     "name": "stderr",
     "output_type": "stream",
     "text": [
      "INFO:httpx:HTTP Request: POST http://localhost:11434/api/chat \"HTTP/1.1 200 OK\"\n"
     ]
    },
    {
     "name": "stdout",
     "output_type": "stream",
     "text": [
      "PlatformID: 40\n",
      "\n",
      "Anda adalah seorang Ahli Analitik Media Sosial Lanjutan. Berdasarkan postingan Facebook di bawah ini, \n",
      "tentukan 5 topik utama yang mencakup keseluruhan. Sertakan tema-tema kunci, kata kunci, \n",
      "dan penjelasan singkat untuk setiap topik yang diidentifikasi, gunakanlah bahasa indonesia\n",
      "yang baik dan benar dalam seluruh jawaban anda.\n",
      "Di bawah ini adalah postingan Facebook:\n",
      "\n",
      "{post1}\n",
      "{post2}\n",
      "{post3}\n",
      "...\n",
      "N. {postN}\n",
      "    \n",
      "process instagram\n",
      "PlatformID: 30\n",
      "\n",
      "Anda adalah seorang Ahli Analitik Media Sosial Lanjutan. Berdasarkan postingan Instagram di bawah ini, \n",
      "tentukan 5 topik utama yang mencakup keseluruhan. Sertakan tema-tema kunci, kata kunci, \n",
      "dan penjelasan singkat untuk setiap topik yang diidentifikasi, gunakanlah bahasa indonesia\n",
      "yang baik dan benar dalam seluruh jawaban anda.\n",
      "Di bawah ini adalah postingan Instagram:\n",
      "\n",
      "{post1}\n",
      "{post2}\n",
      "{post3}\n",
      "...\n",
      "N. {postN}\n",
      "    \n"
     ]
    },
    {
     "name": "stderr",
     "output_type": "stream",
     "text": [
      "ERROR:root:Error fetching posts: 'total_duration'\n"
     ]
    },
    {
     "name": "stderr",
     "output_type": "stream",
     "text": [
      "INFO:httpx:HTTP Request: POST http://localhost:11434/api/chat \"HTTP/1.1 200 OK\"\n"
     ]
    },
    {
     "name": "stderr",
     "output_type": "stream",
     "text": [
      "ERROR:root:Error fetching posts: 'total_duration'\n"
     ]
    },
    {
     "name": "stdout",
     "output_type": "stream",
     "text": [
      "process youtube\n",
      "PlatformID: 20\n",
      "\n",
      "Anda adalah seorang Ahli Analitik Media Sosial Lanjutan. Berdasarkan postingan Youtube di bawah ini, \n",
      "tentukan 5 topik utama yang mencakup keseluruhan. Sertakan tema-tema kunci, kata kunci, \n",
      "dan penjelasan singkat untuk setiap topik yang diidentifikasi, gunakanlah bahasa indonesia\n",
      "yang baik dan benar dalam seluruh jawaban anda.\n",
      "Di bawah ini adalah postingan Youtube:\n",
      "\n",
      "{post1}\n",
      "{post2}\n",
      "{post3}\n",
      "...\n",
      "N. {postN}\n",
      "    \n"
     ]
    }
   ],
   "source": [
    "import json\n",
    "import textwrap\n",
    "import logging\n",
    "\n",
    "# Set up logging to capture errors\n",
    "logging.basicConfig(level=logging.INFO)\n",
    "\n",
    "social_media_monitoring_id = \"\"\n",
    "platform_id = 0\n",
    "\n",
    "# query for outstanding\n",
    "ssql = \"\"\"\n",
    "select \tb.id as medsos_id,\n",
    "\t\tc.id as medol_id,\n",
    "\t\tb.is_twitter,\n",
    "\t\tb.is_tiktok,\n",
    "\t\tb.is_facebook,\n",
    "\t\tb.is_instagram,\n",
    "\t\tb.is_youtube\n",
    "from \tmonitoring_search a \n",
    "\t\tleft outer join monitoring_media_social b \n",
    "\t\t\ton a.id = b.monitoring_search_id\n",
    "\t\tleft outer join monitoring_media_online c\n",
    "\t\t\ton a.id = c.monitoring_search_id \n",
    "where \tb.id not in (select monitoring_search_id from topic_detection_rec)\n",
    "\t\tand a.monitoring_id in (select id \n",
    "\t\t\t\t\t\t\t\tfrom monitoring\n",
    "\t\t\t\t\t\t\t\twhere status = 3)\n",
    "\t\tand extract(year from a.created_date) = 2024\n",
    "\t\tand extract(month from a.created_date) >= 8\n",
    "order by a.created_date desc \n",
    "limit 1\n",
    "\"\"\"\n",
    "df_source = dc.execute_query_psql(ssql)\n",
    "df_source.head()\n",
    "\n",
    "social_media_monitoring_id = df_source.iloc[0]['medsos_id']\n",
    "online_media_monitoring_id = df_source.iloc[0]['medol_id']\n",
    "print(\"Processing SosmedID %s\" % (social_media_monitoring_id))\n",
    "print(\"Processing MedolID %s\" % (online_media_monitoring_id))\n",
    "\n",
    "# Processing jobs for each platform\n",
    "# 10 = tiktok\n",
    "# 20 = youtube\n",
    "# 30 = instagram_post\n",
    "# 40 = facebook_post\n",
    "# 50 = google_result\n",
    "# 60 = twitter_tweets\n",
    "\n",
    "if (df_source.iloc[0]['is_twitter']):\n",
    "    print('process twitter')\n",
    "    platform_id = 60\n",
    "    \n",
    "    try:\n",
    "        # Fetch the posts\n",
    "        posts = fetch_posts(social_media_monitoring_id, platform_id)\n",
    "        if len(posts) > 0:\n",
    "            # Preprocess the posts\n",
    "            cleaned_posts = [preprocess_text(post) for post in posts]\n",
    "            \n",
    "            topics = query_ollama_llm(platform_id,cleaned_posts,5)\n",
    "            \n",
    "            # recording to database\n",
    "            pre_insert(social_media_monitoring_id, platform_id)\n",
    "            record_to_database(topics, social_media_monitoring_id, platform_id)\n",
    "    except Exception as e:\n",
    "        logging.error(f\"Error fetching posts: {e}\")\n",
    "        posts = []\n",
    "        \n",
    "if (df_source.iloc[0]['is_tiktok']):\n",
    "    print('process tiktok')\n",
    "    platform_id = 10\n",
    "    \n",
    "    try:\n",
    "        # Fetch the posts\n",
    "        posts = fetch_posts(social_media_monitoring_id, platform_id)\n",
    "        \n",
    "        # Preprocess the posts\n",
    "        cleaned_posts = [preprocess_text(post) for post in posts]\n",
    "        \n",
    "        topics = query_ollama_llm(platform_id, cleaned_posts,5)\n",
    "        \n",
    "        # recording to database\n",
    "        pre_insert(social_media_monitoring_id, platform_id)\n",
    "        record_to_database(topics, social_media_monitoring_id, platform_id)\n",
    "    except Exception as e:\n",
    "        logging.error(f\"Error fetching posts: {e}\")\n",
    "        posts = []\n",
    "\n",
    "if (df_source.iloc[0]['is_facebook']):\n",
    "    print('process facebook')\n",
    "    platform_id = 40\n",
    "    \n",
    "    try:\n",
    "        # Fetch the posts\n",
    "        posts = fetch_posts(social_media_monitoring_id, platform_id)\n",
    "        \n",
    "        # Preprocess the posts\n",
    "        cleaned_posts = [preprocess_text(post) for post in posts]\n",
    "        \n",
    "        topics = query_ollama_llm(platform_id, cleaned_posts,5)\n",
    "        \n",
    "        # recording to database\n",
    "        pre_insert(social_media_monitoring_id, platform_id)\n",
    "        record_to_database(topics, social_media_monitoring_id, platform_id)\n",
    "    except Exception as e:\n",
    "        logging.error(f\"Error fetching posts: {e}\")\n",
    "        posts = []\n",
    "\n",
    "if (df_source.iloc[0]['is_instagram']):\n",
    "    print('process instagram')\n",
    "    platform_id = 30\n",
    "    \n",
    "    try:\n",
    "        # Fetch the posts\n",
    "        posts = fetch_posts(social_media_monitoring_id, platform_id)\n",
    "        \n",
    "        # Preprocess the posts\n",
    "        cleaned_posts = [preprocess_text(post) for post in posts]\n",
    "        \n",
    "        topics = query_ollama_llm(platform_id, cleaned_posts,5)\n",
    "        \n",
    "        # recording to database\n",
    "        pre_insert(social_media_monitoring_id, platform_id)\n",
    "        record_to_database(topics, social_media_monitoring_id, platform_id)\n",
    "    except Exception as e:\n",
    "        logging.error(f\"Error fetching posts: {e}\")\n",
    "        posts = []\n",
    "\n",
    "if (df_source.iloc[0]['is_youtube']):\n",
    "    print('process youtube')\n",
    "    platform_id = 20\n",
    "    \n",
    "    try:\n",
    "        # Fetch the posts\n",
    "        posts = fetch_posts(social_media_monitoring_id, platform_id)\n",
    "        \n",
    "        # Preprocess the posts\n",
    "        cleaned_posts = [preprocess_text(post) for post in posts]\n",
    "        \n",
    "        topics = query_ollama_llm(platform_id, cleaned_posts,5)\n",
    "        \n",
    "        # recording to database\n",
    "        pre_insert(social_media_monitoring_id, platform_id)\n",
    "        record_to_database(topics, social_media_monitoring_id, platform_id)\n",
    "    except Exception as e:\n",
    "        logging.error(f\"Error fetching posts: {e}\")\n",
    "        posts = []\n",
    "\n"
   ]
  },
  {
   "cell_type": "markdown",
   "id": "077ae378-1d72-4a1f-92a9-60003593afc2",
   "metadata": {},
   "source": [
    "# Recording Monitoring ID"
   ]
  },
  {
   "cell_type": "code",
   "execution_count": 6,
   "id": "bed1eb58-d573-4b1f-bfb3-88e64ce3477f",
   "metadata": {
    "execution": {
     "iopub.execute_input": "2024-08-22T23:56:10.693502Z",
     "iopub.status.busy": "2024-08-22T23:56:10.692988Z",
     "iopub.status.idle": "2024-08-22T23:56:10.755286Z",
     "shell.execute_reply": "2024-08-22T23:56:10.754590Z"
    }
   },
   "outputs": [],
   "source": [
    "# record as calculated\n",
    "record_calculated(social_media_monitoring_id)"
   ]
  }
 ],
 "metadata": {
  "kernelspec": {
   "display_name": "Python 3 (ipykernel)",
   "language": "python",
   "name": "python3"
  },
  "language_info": {
   "codemirror_mode": {
    "name": "ipython",
    "version": 3
   },
   "file_extension": ".py",
   "mimetype": "text/x-python",
   "name": "python",
   "nbconvert_exporter": "python",
   "pygments_lexer": "ipython3",
   "version": "3.10.9"
  }
 },
 "nbformat": 4,
 "nbformat_minor": 5
}
