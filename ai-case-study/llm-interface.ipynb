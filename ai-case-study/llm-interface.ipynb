{
 "cells": [
  {
   "cell_type": "code",
   "execution_count": 1,
   "id": "c70ad33e-d5ce-4bcf-8e38-038c62846878",
   "metadata": {},
   "outputs": [],
   "source": [
    "from sqlalchemy.util import deprecations\n",
    "deprecations.SILENCE_UBER_WARNING = True\n",
    "\n",
    "def execute_query(query, params=None):\n",
    "    # Set your PostgreSQL connection parameters\n",
    "    db_params = {\n",
    "        'host': '103.82.242.92',\n",
    "        'port': '5710',\n",
    "        'database': 'medols',\n",
    "        'user': 'postgres',\n",
    "        'password': 'FEWcTB3JIX5gK4T06c1MdkM9N2S8w9pb',\n",
    "    }\n",
    "\n",
    "    # Create a SQLAlchemy engine\n",
    "    engine = create_engine(f\"postgresql+psycopg2://{db_params['user']}:{db_params['password']}@{db_params['host']}:{db_params['port']}/{db_params['database']}\")\n",
    "\n",
    "    # Create a metadata object\n",
    "    metadata = MetaData(bind=engine)\n",
    "\n",
    "    # Example: Define your table\n",
    "    your_table = Table('your_table', metadata,\n",
    "                       Column('id', Integer, primary_key=True),\n",
    "                       Column('column1', String),\n",
    "                       Column('column2', String)\n",
    "                       )\n",
    "\n",
    "    # Create a session\n",
    "    Session = sessionmaker(bind=engine)\n",
    "    session = Session()\n",
    "\n",
    "    try:\n",
    "        # Execute the query with optional parameters\n",
    "        result = session.execute(text(query), params)\n",
    "\n",
    "        # Check if the query is a SELECT query\n",
    "        is_select_query = result.returns_rows\n",
    "\n",
    "        if is_select_query:\n",
    "            # Fetch the data and return as a Pandas DataFrame\n",
    "            columns = result.keys()\n",
    "            fetched_data = result.fetchall()\n",
    "            df = pd.DataFrame(fetched_data, columns=columns)\n",
    "            # print(\"Fetched Data as DataFrame:\")\n",
    "            # print(df)\n",
    "            return df\n",
    "        else:\n",
    "            # Get the number of rows affected for non-SELECT queries\n",
    "            rows_affected = result.rowcount\n",
    "\n",
    "            # Commit the changes to the database for non-SELECT queries\n",
    "            session.commit()\n",
    "\n",
    "            print(f\"Query executed successfully. {rows_affected} rows affected.\")\n",
    "            return rows_affected\n",
    "    except Exception as e:\n",
    "        # Rollback changes if there's an error\n",
    "        session.rollback()\n",
    "        print(f\"Error executing query: {e}\")\n",
    "    finally:\n",
    "        # Close the session\n",
    "        session.close()"
   ]
  },
  {
   "cell_type": "code",
   "execution_count": 2,
   "id": "a021ff4f-5e0e-41ec-9ba8-940babb99925",
   "metadata": {},
   "outputs": [],
   "source": [
    "import requests\n",
    "\n",
    "def run_curl_command(prompt):\n",
    "    url = \"http://108.137.109.168:11434/api/generate\"\n",
    "\n",
    "    data = {\n",
    "        \"model\": \"mistral\",\n",
    "        \"prompt\": prompt,\n",
    "        \"stream\": False\n",
    "    }\n",
    "\n",
    "    # Sending a POST request\n",
    "    response = requests.post(url, json=data)\n",
    "\n",
    "    # Checking the response\n",
    "    if response.status_code == 200:\n",
    "        # Return the JSON response\n",
    "        return response.json()\n",
    "    else:\n",
    "        print(f\"Error! Status code: {response.status_code}, Response: {response.text}\")\n",
    "        # Return None or raise an exception, depending on your preference\n",
    "        return None\n"
   ]
  },
  {
   "cell_type": "code",
   "execution_count": 3,
   "id": "f349bb36-50cb-4a25-9dbb-e405452bb25b",
   "metadata": {},
   "outputs": [
    {
     "name": "stdout",
     "output_type": "stream",
     "text": [
      "\n",
      "Consider the following two sentences:\n",
      "\n",
      "1. Seniman Tato Dilaporkan ke Polisi Usai Aniaya Kekasihnya\n",
      "2. Polisi indonesia menjalankan tugasnya dengan baik\n",
      "\n",
      "Indicate the overall sentiment expressed in these sentences. Choose from the options: Positive, Negative, or Neutral. If the sentiment varies between the two sentences or if there's mixed sentiment, provide an assessment based on the overall tone. Please avoid using mixed sentiment.\n",
      "\n",
      "Please respond in a valid JSON format, including the sentiment and sentiment score, for example:\n",
      "{\n",
      "  \"sentiment\": \"Positive\",\n",
      "  \"sentiment_score\": 0.8,\n",
      "  \"justification\": \"The overall tone of the sentences indicates a positive sentiment due to...\"\n",
      "\n",
      "}\n",
      "\n"
     ]
    }
   ],
   "source": [
    "prompt_template = \"\"\"\n",
    "Consider the following two sentences:\n",
    "\n",
    "1. {first_sentence}\n",
    "2. {second_sentence}\n",
    "\n",
    "Indicate the overall sentiment expressed in these sentences. Choose from the options: Positive, Negative, or Neutral. If the sentiment varies between the two sentences or if there's mixed sentiment, provide an assessment based on the overall tone. Please avoid using mixed sentiment.\n",
    "\n",
    "Please respond in a valid JSON format, including the sentiment and sentiment score, for example:\n",
    "{{\n",
    "  \"sentiment\": \"Positive\",\n",
    "  \"sentiment_score\": 0.8,\n",
    "  \"justification\": \"The overall tone of the sentences indicates a positive sentiment due to...\"\n",
    "\n",
    "}}\n",
    "\"\"\"\n",
    "\n",
    "# Replace {first_sentence} and {second_sentence} with your actual sentences\n",
    "first_sentence = \"Seniman Tato Dilaporkan ke Polisi Usai Aniaya Kekasihnya\"\n",
    "second_sentence = \"Polisi indonesia menjalankan tugasnya dengan baik\"\n",
    "\n",
    "prompt = prompt_template.format(first_sentence=first_sentence, second_sentence=second_sentence)\n",
    "\n",
    "# Print or use the 'prompt' variable as needed\n",
    "print(prompt)"
   ]
  },
  {
   "cell_type": "code",
   "execution_count": 4,
   "id": "b30ac52e-3304-45a0-8146-72ab29fcb352",
   "metadata": {},
   "outputs": [
    {
     "name": "stdout",
     "output_type": "stream",
     "text": [
      "Returned JSON value:\n",
      "{'model': 'mistral', 'created_at': '2024-02-07T06:26:07.867202817Z', 'response': ' {\\n  \"sentiment\": \"Neutural\",\\n  \"sentiment_score\": 0.5,\\n  \"justification\": \"The first sentence expresses a negative event where a seniman (artist) reports his lost lover to the police. The second sentence is about the Indonesian police performing their duties well, which carries a positive tone. However, these two sentences do not have an overall sentiment as they are unrelated and convey different tones.\"\\n}', 'done': True, 'context': [733, 16289, 28793, 259, 13, 21432, 1184, 272, 2296, 989, 23748, 28747, 13, 13, 28740, 28723, 5355, 27153, 320, 1827, 384, 309, 377, 580, 276, 945, 2538, 10867, 4547, 1585, 1094, 28710, 9851, 524, 950, 293, 4371, 1780, 28708, 13, 28750, 28723, 2538, 10867, 1176, 2402, 515, 1683, 21939, 978, 276, 24197, 293, 1780, 28708, 281, 980, 276, 15771, 849, 13, 13, 1961, 5749, 272, 7544, 21790, 11558, 297, 1167, 23748, 28723, 21815, 477, 272, 2877, 28747, 8202, 2468, 28725, 12165, 1197, 28725, 442, 3147, 329, 1650, 28723, 1047, 272, 21790, 27950, 1444, 272, 989, 23748, 442, 513, 736, 28742, 28713, 9430, 21790, 28725, 3084, 396, 15081, 2818, 356, 272, 7544, 10294, 28723, 5919, 4461, 1413, 9430, 21790, 28723, 13, 13, 12069, 9421, 297, 264, 3716, 9292, 5032, 28725, 2490, 272, 21790, 304, 21790, 7420, 28725, 354, 2757, 28747, 13, 28751, 13, 28705, 345, 16788, 2487, 1264, 345, 3529, 2468, 548, 13, 28705, 345, 16788, 2487, 28730, 11831, 1264, 28705, 28734, 28723, 28783, 28725, 13, 28705, 345, 4022, 2500, 1264, 345, 1014, 7544, 10294, 302, 272, 23748, 12825, 264, 5278, 21790, 2940, 298, 7508, 13, 13, 28752, 13, 733, 28748, 16289, 28793, 371, 13, 28705, 345, 16788, 2487, 1264, 345, 6947, 329, 1890, 548, 13, 28705, 345, 16788, 2487, 28730, 11831, 1264, 28705, 28734, 28723, 28782, 28725, 13, 28705, 345, 4022, 2500, 1264, 345, 1014, 907, 12271, 4072, 274, 264, 7087, 1951, 970, 264, 5351, 27153, 325, 444, 392, 28731, 7959, 516, 3654, 19568, 298, 272, 4758, 28723, 415, 1676, 12271, 349, 684, 272, 16653, 753, 4758, 13801, 652, 17401, 1162, 28725, 690, 21277, 264, 5278, 10294, 28723, 2993, 28725, 1167, 989, 23748, 511, 459, 506, 396, 7544, 21790, 390, 590, 460, 521, 9646, 304, 18887, 1581, 261, 2402, 611, 13, 28752], 'total_duration': 34037145556, 'load_duration': 32628125590, 'prompt_eval_count': 193, 'prompt_eval_duration': 121850000, 'eval_count': 101, 'eval_duration': 1286464000}\n"
     ]
    }
   ],
   "source": [
    "# Call the function with a specific prompt and get the JSON response\n",
    "result = run_curl_command(prompt)\n",
    "\n",
    "# Check if the result is not None before using it\n",
    "if result is not None:\n",
    "    print(\"Returned JSON value:\")\n",
    "    print(result)"
   ]
  },
  {
   "cell_type": "code",
   "execution_count": 25,
   "id": "850aa5ef-c959-41b2-b890-265800d5fa8d",
   "metadata": {},
   "outputs": [],
   "source": [
    "def generate_sql_query(response_data):\n",
    "    # Build the SQL INSERT statement\n",
    "    insert_query = f\"\"\"\n",
    "        response_data['model']\n",
    "    \"\"\"\n",
    "    \n",
    "    return insert_query"
   ]
  },
  {
   "cell_type": "code",
   "execution_count": 19,
   "id": "34af1eee-b822-4d00-af21-2b94e3907c0a",
   "metadata": {},
   "outputs": [
    {
     "name": "stdout",
     "output_type": "stream",
     "text": [
      "{'model': 'llama2', 'created_at': '2024-02-04T12:17:17.740326452Z', 'response': '{\\n\"sentiment\": \"Neutral\",\\n\"sentiment_score\": 0.5,\\n\"justification\": \"Both sentences have a neutral tone, as they simply state facts without expressing any strong emotions or opinions.\"\\n}', 'done': True, 'context': [518, 25580, 29962, 3532, 14816, 29903, 29958, 5299, 829, 14816, 29903, 6778, 13, 13, 13, 13696, 1241, 278, 1494, 1023, 25260, 29901, 13, 13, 29896, 29889, 5811, 25895, 323, 1219, 360, 309, 481, 548, 273, 1589, 2043, 10770, 10783, 1794, 530, 29875, 9010, 476, 1416, 294, 4861, 1460, 29874, 13, 29906, 29889, 2043, 10770, 1399, 2873, 423, 1757, 12429, 804, 273, 260, 688, 294, 1460, 29874, 972, 6249, 9922, 638, 13, 13, 2568, 9593, 278, 12463, 19688, 13384, 297, 1438, 25260, 29889, 14542, 852, 515, 278, 3987, 29901, 10321, 3321, 29892, 12610, 1230, 29892, 470, 2448, 329, 1705, 29889, 960, 278, 19688, 722, 583, 1546, 278, 1023, 25260, 470, 565, 727, 29915, 29879, 12849, 19688, 29892, 3867, 385, 24809, 358, 2729, 373, 278, 12463, 16225, 29889, 3529, 4772, 773, 12849, 19688, 29889, 13, 13, 12148, 10049, 297, 263, 2854, 4663, 3402, 29892, 3704, 278, 19688, 322, 19688, 8158, 29892, 363, 1342, 29901, 13, 29912, 13, 29871, 376, 18616, 2073, 1115, 376, 9135, 3321, 613, 13, 29871, 376, 18616, 2073, 29918, 13628, 1115, 29871, 29900, 29889, 29947, 29892, 13, 29871, 376, 5143, 2450, 1115, 376, 1576, 12463, 16225, 310, 278, 25260, 14088, 263, 6374, 19688, 2861, 304, 17794, 13, 13, 29913, 13, 518, 29914, 25580, 29962, 13, 29912, 13, 29908, 18616, 2073, 1115, 376, 8139, 329, 1705, 613, 13, 29908, 18616, 2073, 29918, 13628, 1115, 29871, 29900, 29889, 29945, 29892, 13, 29908, 5143, 2450, 1115, 376, 29933, 720, 25260, 505, 263, 21104, 16225, 29892, 408, 896, 3763, 2106, 17099, 1728, 4653, 292, 738, 4549, 23023, 1080, 470, 26971, 1213, 13, 29913], 'total_duration': 1638652045, 'load_duration': 847340212, 'prompt_eval_count': 207, 'prompt_eval_duration': 118311000, 'eval_count': 55, 'eval_duration': 672421000}\n"
     ]
    }
   ],
   "source": [
    "print(result)"
   ]
  },
  {
   "cell_type": "code",
   "execution_count": 24,
   "id": "1ef6339b-e07c-4e11-b598-a14afb1fcf84",
   "metadata": {},
   "outputs": [
    {
     "data": {
      "text/plain": [
       "'llama2'"
      ]
     },
     "execution_count": 24,
     "metadata": {},
     "output_type": "execute_result"
    }
   ],
   "source": [
    "result['model']"
   ]
  },
  {
   "cell_type": "code",
   "execution_count": 20,
   "id": "a68d6682-1e5a-47a4-a0a9-c59731a7f360",
   "metadata": {},
   "outputs": [
    {
     "ename": "AttributeError",
     "evalue": "'str' object has no attribute 'get'",
     "output_type": "error",
     "traceback": [
      "\u001b[0;31m---------------------------------------------------------------------------\u001b[0m",
      "\u001b[0;31mAttributeError\u001b[0m                            Traceback (most recent call last)",
      "\u001b[0;32m<ipython-input-20-653a8ca48146>\u001b[0m in \u001b[0;36m<module>\u001b[0;34m\u001b[0m\n\u001b[1;32m      1\u001b[0m \u001b[0;31m# Example usage:\u001b[0m\u001b[0;34m\u001b[0m\u001b[0;34m\u001b[0m\u001b[0;34m\u001b[0m\u001b[0m\n\u001b[1;32m      2\u001b[0m \u001b[0;31m# json_response_example = '{\"model\": \"llama2\", \"created_at\": \"2024-02-04T11:44:50.763782493Z\", \"response\": {\"sentiment\": \"Mixed\", \"sentiment_score\": 0.5, \"justification\": \"The first sentence expresses a negative sentiment towards the person who was tattled to the police, while the second sentence expresses a positive sentiment towards the Indonesian police.\"}, \"done\": true, \"context\": [518, 25580, ...]}'\u001b[0m\u001b[0;34m\u001b[0m\u001b[0;34m\u001b[0m\u001b[0;34m\u001b[0m\u001b[0m\n\u001b[0;32m----> 3\u001b[0;31m \u001b[0msql_query\u001b[0m \u001b[0;34m=\u001b[0m \u001b[0mgenerate_sql_query\u001b[0m\u001b[0;34m(\u001b[0m\u001b[0mresult\u001b[0m\u001b[0;34m)\u001b[0m\u001b[0;34m\u001b[0m\u001b[0;34m\u001b[0m\u001b[0m\n\u001b[0m\u001b[1;32m      4\u001b[0m \u001b[0;34m\u001b[0m\u001b[0m\n\u001b[1;32m      5\u001b[0m \u001b[0mprint\u001b[0m\u001b[0;34m(\u001b[0m\u001b[0msql_query\u001b[0m\u001b[0;34m)\u001b[0m\u001b[0;34m\u001b[0m\u001b[0;34m\u001b[0m\u001b[0m\n",
      "\u001b[0;32m<ipython-input-18-e54e18837527>\u001b[0m in \u001b[0;36mgenerate_sql_query\u001b[0;34m(response_data)\u001b[0m\n\u001b[1;32m     14\u001b[0m         )\n\u001b[1;32m     15\u001b[0m         \u001b[0mRETURNING\u001b[0m \u001b[0mid\u001b[0m\u001b[0;34m;\u001b[0m\u001b[0;34m\u001b[0m\u001b[0;34m\u001b[0m\u001b[0m\n\u001b[0;32m---> 16\u001b[0;31m     \"\"\"\n\u001b[0m\u001b[1;32m     17\u001b[0m \u001b[0;34m\u001b[0m\u001b[0m\n\u001b[1;32m     18\u001b[0m     \u001b[0;32mreturn\u001b[0m \u001b[0minsert_query\u001b[0m\u001b[0;34m\u001b[0m\u001b[0;34m\u001b[0m\u001b[0m\n",
      "\u001b[0;31mAttributeError\u001b[0m: 'str' object has no attribute 'get'"
     ]
    }
   ],
   "source": [
    "# Example usage:\n",
    "# json_response_example = '{\"model\": \"llama2\", \"created_at\": \"2024-02-04T11:44:50.763782493Z\", \"response\": {\"sentiment\": \"Mixed\", \"sentiment_score\": 0.5, \"justification\": \"The first sentence expresses a negative sentiment towards the person who was tattled to the police, while the second sentence expresses a positive sentiment towards the Indonesian police.\"}, \"done\": true, \"context\": [518, 25580, ...]}'\n",
    "sql_query = generate_sql_query(result)\n",
    "\n",
    "print(sql_query)"
   ]
  }
 ],
 "metadata": {
  "kernelspec": {
   "display_name": "Python 3",
   "language": "python",
   "name": "python3"
  },
  "language_info": {
   "codemirror_mode": {
    "name": "ipython",
    "version": 3
   },
   "file_extension": ".py",
   "mimetype": "text/x-python",
   "name": "python",
   "nbconvert_exporter": "python",
   "pygments_lexer": "ipython3",
   "version": "3.6.8"
  }
 },
 "nbformat": 4,
 "nbformat_minor": 5
}
