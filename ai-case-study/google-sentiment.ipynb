{
 "cells": [
  {
   "cell_type": "markdown",
   "id": "dc88b042-9d24-48fc-94a3-6009b4951e7b",
   "metadata": {},
   "source": [
    "# Multipool Google Sentiment Analysis\n",
    "\n",
    "this function will get data from google_result table\n",
    "and calculate the sentiment analysis. Result is store in google_result_sentiment\n",
    "\n",
    "crontab command\n",
    "* * * * * /home/haviz/multipool/ai-case-study/run-ai-sa-google.sh >> /home/haviz/multipool/ai-sa-google.log\n",
    "\n"
   ]
  },
  {
   "cell_type": "code",
   "execution_count": 1,
   "id": "39d0afb3-cd43-479c-a645-5eb16d589ba4",
   "metadata": {},
   "outputs": [],
   "source": [
    "import numpy as np\n",
    "import pandas as pd\n",
    "import seaborn as sn\n",
    "import matplotlib.pyplot as plt\n",
    "import pymysql.cursors\n",
    "import sqlalchemy as sa\n",
    "import nltk\n",
    "import string\n",
    "import os\n",
    "\n",
    "from nltk.corpus import stopwords \n",
    "from sqlalchemy import create_engine, Column, Integer, String, MetaData, Table\n",
    "from sqlalchemy.sql import text\n",
    "from sqlalchemy.orm import sessionmaker\n",
    "from tqdm import tqdm\n",
    "import pandas as pd\n",
    "\n",
    "# nltk.download('stopwords')\n",
    "\n",
    "\n",
    "os.environ['TF_CPP_MIN_LOG_LEVEL'] = '2'\n",
    "\n",
    "# Use a pipeline as a high-level helper\n",
    "from transformers import pipeline\n",
    "pipe = pipeline(\"text-classification\", model=\"ayameRushia/bert-base-indonesian-1.5G-sentiment-analysis-smsa\")"
   ]
  },
  {
   "cell_type": "code",
   "execution_count": 2,
   "id": "ec64d1af-b458-4c9e-9762-1d3d780b616f",
   "metadata": {},
   "outputs": [],
   "source": [
    "from sqlalchemy import create_engine, MetaData, text\n",
    "from sqlalchemy.orm import sessionmaker\n",
    "from sqlalchemy.exc import SQLAlchemyError\n",
    "from tqdm import tqdm\n",
    "import pandas as pd\n",
    "import time\n",
    "\n",
    "# Define maximum allowed connections\n",
    "MAX_CONNECTIONS = 10\n",
    "\n",
    "# Track the number of active connections\n",
    "active_connections = 0\n",
    "\n",
    "def execute_query(query, params=None):\n",
    "    global active_connections\n",
    "\n",
    "    # Ensure active connections do not exceed the maximum limit\n",
    "    if active_connections >= MAX_CONNECTIONS:\n",
    "        print(\"Maximum connection limit reached. Cannot execute query.\")\n",
    "        return None\n",
    "\n",
    "    # Set your PostgreSQL connection parameters\n",
    "    db_params = {\n",
    "        'host': '98.98.117.105',\n",
    "        'port': '5432',\n",
    "        'database': 'medols',\n",
    "        'user': 'postgres',\n",
    "        'password': 'FEWcTB3JIX5gK4T06c1MdkM9N2S8w9pb',\n",
    "    }\n",
    "\n",
    "    # Create a SQLAlchemy engine\n",
    "    engine = create_engine(f\"postgresql+psycopg2://{db_params['user']}:{db_params['password']}@{db_params['host']}:{db_params['port']}/{db_params['database']}\")\n",
    "\n",
    "    # Create a session\n",
    "    Session = sessionmaker(bind=engine)\n",
    "    session = Session()\n",
    "\n",
    "    try:\n",
    "        # Increment active connections count\n",
    "        active_connections += 1\n",
    "\n",
    "        # Execute the query with optional parameters\n",
    "        result = session.execute(text(query), params)\n",
    "\n",
    "        # Check if the query is a SELECT query\n",
    "        is_select_query = result.returns_rows\n",
    "\n",
    "        if is_select_query:\n",
    "            # Fetch the data and return as a Pandas DataFrame\n",
    "            columns = result.keys()\n",
    "            fetched_data = result.fetchall()\n",
    "            df = pd.DataFrame(fetched_data, columns=columns)\n",
    "            return df\n",
    "        else:\n",
    "            # Get the number of rows affected for non-SELECT queries\n",
    "            rows_affected = result.rowcount\n",
    "\n",
    "            # Commit the changes to the database for non-SELECT queries\n",
    "            # session.commit()\n",
    "            return rows_affected\n",
    "    except SQLAlchemyError as e:\n",
    "        # Rollback changes if there's an error\n",
    "        session.rollback()\n",
    "        print(f\"Error executing query: {e}\")\n",
    "        return None\n",
    "    finally:\n",
    "        # Decrement active connections count\n",
    "        active_connections -= 1\n",
    "\n",
    "        # Close the session\n",
    "        session.close()"
   ]
  },
  {
   "cell_type": "code",
   "execution_count": 3,
   "id": "97cf0378-4165-46bd-abc9-05c3a9fe18ba",
   "metadata": {},
   "outputs": [],
   "source": [
    "import pandas as pd\n",
    "import re\n",
    "from sqlalchemy import create_engine\n",
    "\n",
    "def remove_mentions(tweet):\n",
    "    # Define regular expression pattern to match mentions\n",
    "    pattern = r'@\\w+'\n",
    "    \n",
    "    # Replace mentions with an empty string\n",
    "    cleaned_tweet = re.sub(pattern, '', tweet)\n",
    "    \n",
    "    return cleaned_tweet\n",
    "\n",
    "def stemming(comment):\n",
    "    factory = StemmerFactory()\n",
    "    stemmer = factory.create_stemmer()\n",
    "    do = []\n",
    "    for w in comment:\n",
    "        dt = stemmer.stem(w)\n",
    "        do.append(dt)\n",
    "    d_clean = []\n",
    "    d_clean = \" \".join(do)\n",
    "    return d_clean\n",
    "    \n",
    "# function case folding\n",
    "def casefolding(comment):\n",
    "    comment = comment.lower()\n",
    "    comment = comment.strip(\" \")\n",
    "    comment = re.sub(r'[?|$|.|!_:\")(-+,]','',comment)\n",
    "    return comment\n",
    "\n",
    "def clean_up_tag(comment):\n",
    "    x_ret = ' '.join(re.sub(\"(@[A-Za-z0-9]+)|([^0-9A-Za-z \\t])|(\\w+:\\/\\/\\S+)\",\" \",comment).split())\n",
    "    return x_ret\n",
    "\n",
    "# Text Preprocessing, \n",
    "def text_preproc(strIn):\n",
    "    # case folding\n",
    "    strOut = strIn.lower()\n",
    "    \n",
    "    # remove numbers\n",
    "    strOut = re.sub(r\"\\d+\", \"\", strOut)\n",
    "    \n",
    "    # remote punctuation\n",
    "    strOut = strOut.translate(str.maketrans(\"\",\"\",string.punctuation))\n",
    "    \n",
    "    # remove whitspace\n",
    "    strOut = strOut.strip()\n",
    "    \n",
    "    # \n",
    "    strOut = re.sub('\\s+',' ',strOut)\n",
    "    return strOut"
   ]
  },
  {
   "cell_type": "code",
   "execution_count": 4,
   "id": "438a292a-3e97-4161-bcaf-1887c838ae1f",
   "metadata": {},
   "outputs": [],
   "source": [
    "def process_by_df(source_ds):\n",
    "    from tqdm import tqdm\n",
    "    pd.options.mode.chained_assignment = None \n",
    "\n",
    "    # we calculate sentiment for 'title' and 'description' column\n",
    "\n",
    "    # remove first\n",
    "    source_ds['title'] = source_ds['title'].apply(clean_up_tag)\n",
    "    source_ds['description'] = source_ds['description'].apply(clean_up_tag)\n",
    "\n",
    "\n",
    "    # skip stemming\n",
    "    source_ds['stemmed'] = source_ds['title']\n",
    "    source_ds['stemmed'] = source_ds['stemmed'].apply(casefolding)\n",
    "    source_ds['stemmed'] = source_ds['stemmed'].apply(text_preproc)\n",
    "\n",
    "    sw = stopwords.words('indonesian')\n",
    "    # tokenized\n",
    "    source_ds['tokenized_tweet'] = source_ds.apply(lambda row: nltk.word_tokenize(row['stemmed']), axis=1)\n",
    "\n",
    "    # apply stopword removal\n",
    "    source_ds['tokenized_tweet'] = source_ds.apply(lambda row: {w for w in row['tokenized_tweet'] if not w in sw}, axis=1)\n",
    "\n",
    "    # Notes on return sentiment values\n",
    "    # 1 >> positif >> stay\n",
    "    # 2 >> negatif >> convert to -1\n",
    "    # 0 >> netral >> stay\n",
    "\n",
    "    # Create a new list and insert each element from the original list\n",
    "    from tqdm import tqdm\n",
    "\n",
    "    list_text = source_ds['stemmed'].tolist()\n",
    "    new_list = []\n",
    "    for i in tqdm(range( len(list_text) )):\n",
    "        res = pipe(list_text[i])\n",
    "        #print(res)\n",
    "        new_list.append(res)\n",
    "\n",
    "    # Notes on return sentiment values\n",
    "    # 1 >> positif >> stay\n",
    "    # 2 >> negatif >> convert to -1\n",
    "    # 0 >> netral >> stay\n",
    "    # create a list of our conditions\n",
    "    for i in range(0, len(new_list)):\n",
    "        # print(new_list[i][0]['label'])\n",
    "        if new_list[i][0]['label'] == 'Positive':\n",
    "            new_list[i][0]['Value'] = 1\n",
    "        elif new_list[i][0]['label'] == 'Negative':\n",
    "            new_list[i][0]['Value'] = -1\n",
    "        elif new_list[i][0]['label'] == 'Neutral':\n",
    "            new_list[i][0]['Value'] = 0\n",
    "\n",
    "    for index, row in source_ds.iterrows():\n",
    "        source_ds.at[index,'Prediction'] = new_list[index][0]['label']\n",
    "\n",
    "    for index, row in source_ds.iterrows():\n",
    "        source_ds.at[index,'Prediction'] = new_list[index][0]['label']\n",
    "        source_ds.at[index,'Score'] = new_list[index][0]['score']\n",
    "        #source_ds.at[index,'Score'] = new_list[index][0]['Value']\n",
    "        \n",
    "    return source_ds\n"
   ]
  },
  {
   "cell_type": "code",
   "execution_count": 5,
   "id": "a8fa271b-38b8-4b07-bbf8-a47a457be5a7",
   "metadata": {},
   "outputs": [],
   "source": [
    "# Set up logging to a file\n",
    "import logging\n",
    "logging.basicConfig(filename='error.log', level=logging.ERROR)\n",
    "\n",
    "def calculate_sentiment(row, col_description):\n",
    "    try:\n",
    "        # cleansing\n",
    "        strSource = row[col_description]\n",
    "\n",
    "        # cleansing\n",
    "        strSource = clean_up_tag(strSource)\n",
    "        strSource = casefolding(strSource)\n",
    "        strSource = text_preproc(strSource)\n",
    "        strSource = remove_mentions(strSource)\n",
    "\n",
    "        # tokenized\n",
    "        sToken = nltk.word_tokenize(strSource)\n",
    "\n",
    "        # remove stopwords\n",
    "        sw = stopwords.words('indonesian')\n",
    "\n",
    "        filtered_words = [word for word in sToken if word.lower() not in sw]\n",
    "        filtered_text = ' '.join(filtered_words)\n",
    "\n",
    "        # Notes on return sentiment values\n",
    "        # 1 >> positif >> stay\n",
    "        # 2 >> negatif >> convert to -1\n",
    "        # 0 >> netral >> stay\n",
    "        result = pipe(strSource)\n",
    "\n",
    "        if result[0]['label'] == 'Negative':\n",
    "            sentimentClass = -1\n",
    "        elif result[0]['label'] == 'Positive':\n",
    "            sentimentClass = 1\n",
    "        else:\n",
    "            sentimentClass = 0\n",
    "\n",
    "        score = result[0]['score']\n",
    "\n",
    "        # put to result    \n",
    "        return pd.Series({'sentiment_category': sentimentClass, 'score': score})\n",
    "\n",
    "    except Exception as e:\n",
    "        \n",
    "        # Log the exception to the error.log file\n",
    "        logging.error(f\"An error occurred: {e}\")\n",
    "        # Return default values or None for the columns\n",
    "        return pd.Series({'sentiment_category': None, 'score': None})\n",
    "\n",
    "    "
   ]
  },
  {
   "cell_type": "code",
   "execution_count": null,
   "id": "2325ad3f-7285-4e5a-bed9-8942d2df8c39",
   "metadata": {
    "scrolled": true
   },
   "outputs": [
    {
     "name": "stderr",
     "output_type": "stream",
     "text": [
      " 35%|███████████████████████████████████████████████                                                                                       | 3509/10000 [07:54<14:45,  7.33it/s]"
     ]
    },
    {
     "name": "stdout",
     "output_type": "stream",
     "text": [
      "Error executing query: (psycopg2.OperationalError) connection to server at \"98.98.117.105\", port 5432 failed: FATAL:  sorry, too many clients already\n",
      "connection to server at \"98.98.117.105\", port 5432 failed: FATAL:  sorry, too many clients already\n",
      "\n",
      "(Background on this error at: https://sqlalche.me/e/20/e3q8)\n"
     ]
    },
    {
     "name": "stderr",
     "output_type": "stream",
     "text": [
      " 35%|███████████████████████████████████████████████                                                                                       | 3511/10000 [07:54<13:51,  7.81it/s]"
     ]
    },
    {
     "name": "stdout",
     "output_type": "stream",
     "text": [
      "Error executing query: (psycopg2.OperationalError) connection to server at \"98.98.117.105\", port 5432 failed: FATAL:  sorry, too many clients already\n",
      "connection to server at \"98.98.117.105\", port 5432 failed: FATAL:  sorry, too many clients already\n",
      "\n",
      "(Background on this error at: https://sqlalche.me/e/20/e3q8)\n",
      "Error executing query: (psycopg2.OperationalError) connection to server at \"98.98.117.105\", port 5432 failed: FATAL:  sorry, too many clients already\n",
      "connection to server at \"98.98.117.105\", port 5432 failed: FATAL:  sorry, too many clients already\n",
      "\n",
      "(Background on this error at: https://sqlalche.me/e/20/e3q8)\n"
     ]
    },
    {
     "name": "stderr",
     "output_type": "stream",
     "text": [
      " 35%|███████████████████████████████████████████████▌                                                                                      | 3545/10000 [07:59<14:22,  7.48it/s]"
     ]
    },
    {
     "name": "stdout",
     "output_type": "stream",
     "text": [
      "Error executing query: (psycopg2.OperationalError) connection to server at \"98.98.117.105\", port 5432 failed: FATAL:  sorry, too many clients already\n",
      "connection to server at \"98.98.117.105\", port 5432 failed: FATAL:  sorry, too many clients already\n",
      "\n",
      "(Background on this error at: https://sqlalche.me/e/20/e3q8)\n"
     ]
    },
    {
     "name": "stderr",
     "output_type": "stream",
     "text": [
      " 35%|███████████████████████████████████████████████▌                                                                                      | 3548/10000 [07:59<14:39,  7.34it/s]"
     ]
    },
    {
     "name": "stdout",
     "output_type": "stream",
     "text": [
      "Error executing query: (psycopg2.OperationalError) connection to server at \"98.98.117.105\", port 5432 failed: FATAL:  sorry, too many clients already\n",
      "connection to server at \"98.98.117.105\", port 5432 failed: FATAL:  sorry, too many clients already\n",
      "\n",
      "(Background on this error at: https://sqlalche.me/e/20/e3q8)\n"
     ]
    },
    {
     "name": "stderr",
     "output_type": "stream",
     "text": [
      " 36%|███████████████████████████████████████████████▌                                                                                      | 3551/10000 [07:59<13:19,  8.07it/s]"
     ]
    },
    {
     "name": "stdout",
     "output_type": "stream",
     "text": [
      "Error executing query: (psycopg2.OperationalError) connection to server at \"98.98.117.105\", port 5432 failed: FATAL:  sorry, too many clients already\n",
      "connection to server at \"98.98.117.105\", port 5432 failed: FATAL:  sorry, too many clients already\n",
      "\n",
      "(Background on this error at: https://sqlalche.me/e/20/e3q8)\n"
     ]
    },
    {
     "name": "stderr",
     "output_type": "stream",
     "text": [
      " 36%|███████████████████████████████████████████████▌                                                                                      | 3554/10000 [08:00<14:05,  7.63it/s]"
     ]
    },
    {
     "name": "stdout",
     "output_type": "stream",
     "text": [
      "Error executing query: (psycopg2.OperationalError) connection to server at \"98.98.117.105\", port 5432 failed: FATAL:  sorry, too many clients already\n",
      "connection to server at \"98.98.117.105\", port 5432 failed: FATAL:  sorry, too many clients already\n",
      "\n",
      "(Background on this error at: https://sqlalche.me/e/20/e3q8)\n"
     ]
    },
    {
     "name": "stderr",
     "output_type": "stream",
     "text": [
      " 36%|████████████████████████████████████████████████                                                                                      | 3584/10000 [08:04<14:24,  7.42it/s]"
     ]
    },
    {
     "name": "stdout",
     "output_type": "stream",
     "text": [
      "Error executing query: (psycopg2.OperationalError) connection to server at \"98.98.117.105\", port 5432 failed: FATAL:  sorry, too many clients already\n",
      "connection to server at \"98.98.117.105\", port 5432 failed: FATAL:  sorry, too many clients already\n",
      "\n",
      "(Background on this error at: https://sqlalche.me/e/20/e3q8)\n"
     ]
    },
    {
     "name": "stderr",
     "output_type": "stream",
     "text": [
      " 36%|████████████████████████████████████████████████                                                                                      | 3587/10000 [08:04<14:30,  7.37it/s]"
     ]
    },
    {
     "name": "stdout",
     "output_type": "stream",
     "text": [
      "Error executing query: (psycopg2.OperationalError) connection to server at \"98.98.117.105\", port 5432 failed: FATAL:  sorry, too many clients already\n",
      "connection to server at \"98.98.117.105\", port 5432 failed: FATAL:  sorry, too many clients already\n",
      "\n",
      "(Background on this error at: https://sqlalche.me/e/20/e3q8)\n"
     ]
    },
    {
     "name": "stderr",
     "output_type": "stream",
     "text": [
      " 36%|████████████████████████████████████████████████                                                                                      | 3590/10000 [08:05<13:23,  7.98it/s]"
     ]
    },
    {
     "name": "stdout",
     "output_type": "stream",
     "text": [
      "Error executing query: (psycopg2.OperationalError) connection to server at \"98.98.117.105\", port 5432 failed: FATAL:  sorry, too many clients already\n",
      "connection to server at \"98.98.117.105\", port 5432 failed: FATAL:  sorry, too many clients already\n",
      "\n",
      "(Background on this error at: https://sqlalche.me/e/20/e3q8)\n"
     ]
    },
    {
     "name": "stderr",
     "output_type": "stream",
     "text": [
      " 36%|████████████████████████████████████████████████▏                                                                                     | 3592/10000 [08:05<13:02,  8.19it/s]"
     ]
    },
    {
     "name": "stdout",
     "output_type": "stream",
     "text": [
      "Error executing query: (psycopg2.OperationalError) connection to server at \"98.98.117.105\", port 5432 failed: FATAL:  sorry, too many clients already\n",
      "connection to server at \"98.98.117.105\", port 5432 failed: FATAL:  sorry, too many clients already\n",
      "\n",
      "(Background on this error at: https://sqlalche.me/e/20/e3q8)\n",
      "Error executing query: (psycopg2.OperationalError) connection to server at \"98.98.117.105\", port 5432 failed: FATAL:  sorry, too many clients already\n",
      "connection to server at \"98.98.117.105\", port 5432 failed: FATAL:  sorry, too many clients already\n",
      "\n",
      "(Background on this error at: https://sqlalche.me/e/20/e3q8)\n"
     ]
    },
    {
     "name": "stderr",
     "output_type": "stream",
     "text": [
      " 36%|████████████████████████████████████████████████▏                                                                                     | 3594/10000 [08:05<12:49,  8.32it/s]"
     ]
    },
    {
     "name": "stdout",
     "output_type": "stream",
     "text": [
      "Error executing query: (psycopg2.OperationalError) connection to server at \"98.98.117.105\", port 5432 failed: FATAL:  sorry, too many clients already\n",
      "connection to server at \"98.98.117.105\", port 5432 failed: FATAL:  sorry, too many clients already\n",
      "\n",
      "(Background on this error at: https://sqlalche.me/e/20/e3q8)\n",
      "Error executing query: (psycopg2.OperationalError) connection to server at \"98.98.117.105\", port 5432 failed: FATAL:  sorry, too many clients already\n",
      "connection to server at \"98.98.117.105\", port 5432 failed: FATAL:  sorry, too many clients already\n",
      "\n",
      "(Background on this error at: https://sqlalche.me/e/20/e3q8)\n"
     ]
    },
    {
     "name": "stderr",
     "output_type": "stream",
     "text": [
      " 36%|████████████████████████████████████████████████▏                                                                                     | 3596/10000 [08:05<12:31,  8.52it/s]"
     ]
    },
    {
     "name": "stdout",
     "output_type": "stream",
     "text": [
      "Error executing query: (psycopg2.OperationalError) connection to server at \"98.98.117.105\", port 5432 failed: FATAL:  sorry, too many clients already\n",
      "connection to server at \"98.98.117.105\", port 5432 failed: FATAL:  sorry, too many clients already\n",
      "\n",
      "(Background on this error at: https://sqlalche.me/e/20/e3q8)\n",
      "Error executing query: (psycopg2.OperationalError) connection to server at \"98.98.117.105\", port 5432 failed: FATAL:  sorry, too many clients already\n",
      "connection to server at \"98.98.117.105\", port 5432 failed: FATAL:  sorry, too many clients already\n",
      "\n",
      "(Background on this error at: https://sqlalche.me/e/20/e3q8)\n"
     ]
    },
    {
     "name": "stderr",
     "output_type": "stream",
     "text": [
      " 36%|████████████████████████████████████████████████▌                                                                                     | 3626/10000 [08:09<13:29,  7.88it/s]"
     ]
    },
    {
     "name": "stdout",
     "output_type": "stream",
     "text": [
      "Error executing query: (psycopg2.OperationalError) connection to server at \"98.98.117.105\", port 5432 failed: FATAL:  sorry, too many clients already\n",
      "connection to server at \"98.98.117.105\", port 5432 failed: FATAL:  sorry, too many clients already\n",
      "\n",
      "(Background on this error at: https://sqlalche.me/e/20/e3q8)\n"
     ]
    },
    {
     "name": "stderr",
     "output_type": "stream",
     "text": [
      " 36%|████████████████████████████████████████████████▋                                                                                     | 3629/10000 [08:10<12:57,  8.19it/s]"
     ]
    },
    {
     "name": "stdout",
     "output_type": "stream",
     "text": [
      "Error executing query: (psycopg2.OperationalError) connection to server at \"98.98.117.105\", port 5432 failed: FATAL:  sorry, too many clients already\n",
      "connection to server at \"98.98.117.105\", port 5432 failed: FATAL:  sorry, too many clients already\n",
      "\n",
      "(Background on this error at: https://sqlalche.me/e/20/e3q8)\n"
     ]
    },
    {
     "name": "stderr",
     "output_type": "stream",
     "text": [
      " 36%|████████████████████████████████████████████████▋                                                                                     | 3631/10000 [08:10<13:26,  7.90it/s]"
     ]
    },
    {
     "name": "stdout",
     "output_type": "stream",
     "text": [
      "Error executing query: (psycopg2.OperationalError) connection to server at \"98.98.117.105\", port 5432 failed: FATAL:  sorry, too many clients already\n",
      "connection to server at \"98.98.117.105\", port 5432 failed: FATAL:  sorry, too many clients already\n",
      "\n",
      "(Background on this error at: https://sqlalche.me/e/20/e3q8)\n"
     ]
    },
    {
     "name": "stderr",
     "output_type": "stream",
     "text": [
      " 36%|████████████████████████████████████████████████▋                                                                                     | 3634/10000 [08:10<12:27,  8.52it/s]"
     ]
    },
    {
     "name": "stdout",
     "output_type": "stream",
     "text": [
      "Error executing query: (psycopg2.OperationalError) connection to server at \"98.98.117.105\", port 5432 failed: FATAL:  sorry, too many clients already\n",
      "connection to server at \"98.98.117.105\", port 5432 failed: FATAL:  sorry, too many clients already\n",
      "\n",
      "(Background on this error at: https://sqlalche.me/e/20/e3q8)\n",
      "Error executing query: (psycopg2.OperationalError) connection to server at \"98.98.117.105\", port 5432 failed: FATAL:  sorry, too many clients already\n",
      "connection to server at \"98.98.117.105\", port 5432 failed: FATAL:  sorry, too many clients already\n",
      "\n",
      "(Background on this error at: https://sqlalche.me/e/20/e3q8)\n"
     ]
    },
    {
     "name": "stderr",
     "output_type": "stream",
     "text": [
      " 36%|████████████████████████████████████████████████▋                                                                                     | 3636/10000 [08:11<12:35,  8.42it/s]"
     ]
    },
    {
     "name": "stdout",
     "output_type": "stream",
     "text": [
      "Error executing query: (psycopg2.OperationalError) connection to server at \"98.98.117.105\", port 5432 failed: FATAL:  sorry, too many clients already\n",
      "connection to server at \"98.98.117.105\", port 5432 failed: FATAL:  sorry, too many clients already\n",
      "\n",
      "(Background on this error at: https://sqlalche.me/e/20/e3q8)\n",
      "Error executing query: (psycopg2.OperationalError) connection to server at \"98.98.117.105\", port 5432 failed: FATAL:  sorry, too many clients already\n",
      "connection to server at \"98.98.117.105\", port 5432 failed: FATAL:  sorry, too many clients already\n",
      "\n",
      "(Background on this error at: https://sqlalche.me/e/20/e3q8)\n"
     ]
    },
    {
     "name": "stderr",
     "output_type": "stream",
     "text": [
      " 36%|████████████████████████████████████████████████▋                                                                                     | 3638/10000 [08:11<12:21,  8.58it/s]"
     ]
    },
    {
     "name": "stdout",
     "output_type": "stream",
     "text": [
      "Error executing query: (psycopg2.OperationalError) connection to server at \"98.98.117.105\", port 5432 failed: FATAL:  sorry, too many clients already\n",
      "connection to server at \"98.98.117.105\", port 5432 failed: FATAL:  sorry, too many clients already\n",
      "\n",
      "(Background on this error at: https://sqlalche.me/e/20/e3q8)\n",
      "Error executing query: (psycopg2.OperationalError) connection to server at \"98.98.117.105\", port 5432 failed: FATAL:  sorry, too many clients already\n",
      "connection to server at \"98.98.117.105\", port 5432 failed: FATAL:  sorry, too many clients already\n",
      "\n",
      "(Background on this error at: https://sqlalche.me/e/20/e3q8)\n"
     ]
    },
    {
     "name": "stderr",
     "output_type": "stream",
     "text": [
      " 37%|█████████████████████████████████████████████████▏                                                                                    | 3668/10000 [08:15<12:41,  8.32it/s]"
     ]
    },
    {
     "name": "stdout",
     "output_type": "stream",
     "text": [
      "Error executing query: (psycopg2.OperationalError) connection to server at \"98.98.117.105\", port 5432 failed: FATAL:  sorry, too many clients already\n",
      "connection to server at \"98.98.117.105\", port 5432 failed: FATAL:  sorry, too many clients already\n",
      "\n",
      "(Background on this error at: https://sqlalche.me/e/20/e3q8)\n"
     ]
    },
    {
     "name": "stderr",
     "output_type": "stream",
     "text": [
      " 37%|█████████████████████████████████████████████████▏                                                                                    | 3671/10000 [08:15<12:18,  8.57it/s]"
     ]
    },
    {
     "name": "stdout",
     "output_type": "stream",
     "text": [
      "Error executing query: (psycopg2.OperationalError) connection to server at \"98.98.117.105\", port 5432 failed: FATAL:  sorry, too many clients already\n",
      "connection to server at \"98.98.117.105\", port 5432 failed: FATAL:  sorry, too many clients already\n",
      "\n",
      "(Background on this error at: https://sqlalche.me/e/20/e3q8)\n"
     ]
    },
    {
     "name": "stderr",
     "output_type": "stream",
     "text": [
      " 37%|█████████████████████████████████████████████████▏                                                                                    | 3674/10000 [08:15<12:26,  8.47it/s]"
     ]
    },
    {
     "name": "stdout",
     "output_type": "stream",
     "text": [
      "Error executing query: (psycopg2.OperationalError) connection to server at \"98.98.117.105\", port 5432 failed: FATAL:  sorry, too many clients already\n",
      "connection to server at \"98.98.117.105\", port 5432 failed: FATAL:  sorry, too many clients already\n",
      "\n",
      "(Background on this error at: https://sqlalche.me/e/20/e3q8)\n"
     ]
    },
    {
     "name": "stderr",
     "output_type": "stream",
     "text": [
      " 37%|█████████████████████████████████████████████████▎                                                                                    | 3676/10000 [08:16<12:27,  8.46it/s]"
     ]
    },
    {
     "name": "stdout",
     "output_type": "stream",
     "text": [
      "Error executing query: (psycopg2.OperationalError) connection to server at \"98.98.117.105\", port 5432 failed: FATAL:  sorry, too many clients already\n",
      "connection to server at \"98.98.117.105\", port 5432 failed: FATAL:  sorry, too many clients already\n",
      "\n",
      "(Background on this error at: https://sqlalche.me/e/20/e3q8)\n",
      "Error executing query: (psycopg2.OperationalError) connection to server at \"98.98.117.105\", port 5432 failed: FATAL:  sorry, too many clients already\n",
      "connection to server at \"98.98.117.105\", port 5432 failed: FATAL:  sorry, too many clients already\n",
      "\n",
      "(Background on this error at: https://sqlalche.me/e/20/e3q8)\n"
     ]
    },
    {
     "name": "stderr",
     "output_type": "stream",
     "text": [
      " 37%|█████████████████████████████████████████████████▎                                                                                    | 3679/10000 [08:16<11:03,  9.53it/s]"
     ]
    },
    {
     "name": "stdout",
     "output_type": "stream",
     "text": [
      "Error executing query: (psycopg2.OperationalError) connection to server at \"98.98.117.105\", port 5432 failed: FATAL:  sorry, too many clients already\n",
      "connection to server at \"98.98.117.105\", port 5432 failed: FATAL:  sorry, too many clients already\n",
      "\n",
      "(Background on this error at: https://sqlalche.me/e/20/e3q8)\n",
      "Error executing query: (psycopg2.OperationalError) connection to server at \"98.98.117.105\", port 5432 failed: FATAL:  sorry, too many clients already\n",
      "connection to server at \"98.98.117.105\", port 5432 failed: FATAL:  sorry, too many clients already\n",
      "\n",
      "(Background on this error at: https://sqlalche.me/e/20/e3q8)\n",
      "Error executing query: (psycopg2.OperationalError) connection to server at \"98.98.117.105\", port 5432 failed: FATAL:  sorry, too many clients already\n",
      "connection to server at \"98.98.117.105\", port 5432 failed: FATAL:  sorry, too many clients already\n",
      "\n",
      "(Background on this error at: https://sqlalche.me/e/20/e3q8)\n"
     ]
    },
    {
     "name": "stderr",
     "output_type": "stream",
     "text": [
      " 37%|█████████████████████████████████████████████████▎                                                                                    | 3681/10000 [08:16<12:32,  8.40it/s]"
     ]
    },
    {
     "name": "stdout",
     "output_type": "stream",
     "text": [
      "Error executing query: (psycopg2.OperationalError) connection to server at \"98.98.117.105\", port 5432 failed: FATAL:  sorry, too many clients already\n",
      "connection to server at \"98.98.117.105\", port 5432 failed: FATAL:  sorry, too many clients already\n",
      "\n",
      "(Background on this error at: https://sqlalche.me/e/20/e3q8)\n"
     ]
    },
    {
     "name": "stderr",
     "output_type": "stream",
     "text": [
      " 37%|█████████████████████████████████████████████████▋                                                                                    | 3705/10000 [08:19<13:17,  7.89it/s]"
     ]
    },
    {
     "name": "stdout",
     "output_type": "stream",
     "text": [
      "Error executing query: (psycopg2.OperationalError) connection to server at \"98.98.117.105\", port 5432 failed: FATAL:  sorry, too many clients already\n",
      "connection to server at \"98.98.117.105\", port 5432 failed: FATAL:  sorry, too many clients already\n",
      "\n",
      "(Background on this error at: https://sqlalche.me/e/20/e3q8)\n"
     ]
    },
    {
     "name": "stderr",
     "output_type": "stream",
     "text": [
      " 37%|█████████████████████████████████████████████████▋                                                                                    | 3708/10000 [08:20<12:47,  8.20it/s]"
     ]
    },
    {
     "name": "stdout",
     "output_type": "stream",
     "text": [
      "Error executing query: (psycopg2.OperationalError) connection to server at \"98.98.117.105\", port 5432 failed: FATAL:  sorry, too many clients already\n",
      "connection to server at \"98.98.117.105\", port 5432 failed: FATAL:  sorry, too many clients already\n",
      "\n",
      "(Background on this error at: https://sqlalche.me/e/20/e3q8)\n",
      "Error executing query: (psycopg2.OperationalError) connection to server at \"98.98.117.105\", port 5432 failed: FATAL:  sorry, too many clients already\n",
      "connection to server at \"98.98.117.105\", port 5432 failed: FATAL:  sorry, too many clients already\n",
      "\n",
      "(Background on this error at: https://sqlalche.me/e/20/e3q8)\n"
     ]
    },
    {
     "name": "stderr",
     "output_type": "stream",
     "text": [
      " 37%|█████████████████████████████████████████████████▋                                                                                    | 3710/10000 [08:20<12:00,  8.73it/s]"
     ]
    },
    {
     "name": "stdout",
     "output_type": "stream",
     "text": [
      "Error executing query: (psycopg2.OperationalError) connection to server at \"98.98.117.105\", port 5432 failed: FATAL:  sorry, too many clients already\n",
      "connection to server at \"98.98.117.105\", port 5432 failed: FATAL:  sorry, too many clients already\n",
      "\n",
      "(Background on this error at: https://sqlalche.me/e/20/e3q8)\n",
      "Error executing query: (psycopg2.OperationalError) connection to server at \"98.98.117.105\", port 5432 failed: FATAL:  sorry, too many clients already\n",
      "connection to server at \"98.98.117.105\", port 5432 failed: FATAL:  sorry, too many clients already\n",
      "\n",
      "(Background on this error at: https://sqlalche.me/e/20/e3q8)\n"
     ]
    },
    {
     "name": "stderr",
     "output_type": "stream",
     "text": [
      " 37%|█████████████████████████████████████████████████▋                                                                                    | 3712/10000 [08:20<12:06,  8.65it/s]"
     ]
    },
    {
     "name": "stdout",
     "output_type": "stream",
     "text": [
      "Error executing query: (psycopg2.OperationalError) connection to server at \"98.98.117.105\", port 5432 failed: FATAL:  sorry, too many clients already\n",
      "connection to server at \"98.98.117.105\", port 5432 failed: FATAL:  sorry, too many clients already\n",
      "\n",
      "(Background on this error at: https://sqlalche.me/e/20/e3q8)\n",
      "Error executing query: (psycopg2.OperationalError) connection to server at \"98.98.117.105\", port 5432 failed: FATAL:  sorry, too many clients already\n",
      "connection to server at \"98.98.117.105\", port 5432 failed: FATAL:  sorry, too many clients already\n",
      "\n",
      "(Background on this error at: https://sqlalche.me/e/20/e3q8)\n"
     ]
    },
    {
     "name": "stderr",
     "output_type": "stream",
     "text": [
      " 37%|█████████████████████████████████████████████████▊                                                                                    | 3714/10000 [08:20<11:40,  8.97it/s]"
     ]
    },
    {
     "name": "stdout",
     "output_type": "stream",
     "text": [
      "Error executing query: (psycopg2.OperationalError) connection to server at \"98.98.117.105\", port 5432 failed: FATAL:  sorry, too many clients already\n",
      "connection to server at \"98.98.117.105\", port 5432 failed: FATAL:  sorry, too many clients already\n",
      "\n",
      "(Background on this error at: https://sqlalche.me/e/20/e3q8)\n",
      "Error executing query: (psycopg2.OperationalError) connection to server at \"98.98.117.105\", port 5432 failed: FATAL:  sorry, too many clients already\n",
      "connection to server at \"98.98.117.105\", port 5432 failed: FATAL:  sorry, too many clients already\n",
      "\n",
      "(Background on this error at: https://sqlalche.me/e/20/e3q8)\n"
     ]
    },
    {
     "name": "stderr",
     "output_type": "stream",
     "text": [
      " 37%|█████████████████████████████████████████████████▊                                                                                    | 3717/10000 [08:21<11:00,  9.51it/s]"
     ]
    },
    {
     "name": "stdout",
     "output_type": "stream",
     "text": [
      "Error executing query: (psycopg2.OperationalError) connection to server at \"98.98.117.105\", port 5432 failed: FATAL:  sorry, too many clients already\n",
      "connection to server at \"98.98.117.105\", port 5432 failed: FATAL:  sorry, too many clients already\n",
      "\n",
      "(Background on this error at: https://sqlalche.me/e/20/e3q8)\n",
      "Error executing query: (psycopg2.OperationalError) connection to server at \"98.98.117.105\", port 5432 failed: FATAL:  sorry, too many clients already\n",
      "connection to server at \"98.98.117.105\", port 5432 failed: FATAL:  sorry, too many clients already\n",
      "\n",
      "(Background on this error at: https://sqlalche.me/e/20/e3q8)\n",
      "Error executing query: (psycopg2.OperationalError) connection to server at \"98.98.117.105\", port 5432 failed: FATAL:  sorry, too many clients already\n",
      "connection to server at \"98.98.117.105\", port 5432 failed: FATAL:  sorry, too many clients already\n",
      "\n",
      "(Background on this error at: https://sqlalche.me/e/20/e3q8)\n"
     ]
    },
    {
     "name": "stderr",
     "output_type": "stream",
     "text": [
      " 37%|█████████████████████████████████████████████████▊                                                                                    | 3719/10000 [08:21<11:40,  8.97it/s]"
     ]
    },
    {
     "name": "stdout",
     "output_type": "stream",
     "text": [
      "Error executing query: (psycopg2.OperationalError) connection to server at \"98.98.117.105\", port 5432 failed: FATAL:  sorry, too many clients already\n",
      "connection to server at \"98.98.117.105\", port 5432 failed: FATAL:  sorry, too many clients already\n",
      "\n",
      "(Background on this error at: https://sqlalche.me/e/20/e3q8)\n",
      "Error executing query: (psycopg2.OperationalError) connection to server at \"98.98.117.105\", port 5432 failed: FATAL:  sorry, too many clients already\n",
      "connection to server at \"98.98.117.105\", port 5432 failed: FATAL:  sorry, too many clients already\n",
      "\n",
      "(Background on this error at: https://sqlalche.me/e/20/e3q8)\n"
     ]
    },
    {
     "name": "stderr",
     "output_type": "stream",
     "text": [
      " 37%|█████████████████████████████████████████████████▊                                                                                    | 3720/10000 [08:21<11:35,  9.03it/s]"
     ]
    },
    {
     "name": "stdout",
     "output_type": "stream",
     "text": [
      "Error executing query: (psycopg2.OperationalError) connection to server at \"98.98.117.105\", port 5432 failed: FATAL:  sorry, too many clients already\n",
      "connection to server at \"98.98.117.105\", port 5432 failed: FATAL:  sorry, too many clients already\n",
      "\n",
      "(Background on this error at: https://sqlalche.me/e/20/e3q8)\n"
     ]
    },
    {
     "name": "stderr",
     "output_type": "stream",
     "text": [
      " 37%|█████████████████████████████████████████████████▉                                                                                    | 3724/10000 [08:21<12:23,  8.44it/s]"
     ]
    },
    {
     "name": "stdout",
     "output_type": "stream",
     "text": [
      "Error executing query: (psycopg2.OperationalError) connection to server at \"98.98.117.105\", port 5432 failed: FATAL:  sorry, too many clients already\n",
      "connection to server at \"98.98.117.105\", port 5432 failed: FATAL:  sorry, too many clients already\n",
      "\n",
      "(Background on this error at: https://sqlalche.me/e/20/e3q8)\n"
     ]
    },
    {
     "name": "stderr",
     "output_type": "stream",
     "text": [
      " 37%|█████████████████████████████████████████████████▉                                                                                    | 3727/10000 [08:22<11:33,  9.04it/s]"
     ]
    },
    {
     "name": "stdout",
     "output_type": "stream",
     "text": [
      "Error executing query: (psycopg2.OperationalError) connection to server at \"98.98.117.105\", port 5432 failed: FATAL:  sorry, too many clients already\n",
      "connection to server at \"98.98.117.105\", port 5432 failed: FATAL:  sorry, too many clients already\n",
      "\n",
      "(Background on this error at: https://sqlalche.me/e/20/e3q8)\n",
      "Error executing query: (psycopg2.OperationalError) connection to server at \"98.98.117.105\", port 5432 failed: FATAL:  sorry, too many clients already\n",
      "connection to server at \"98.98.117.105\", port 5432 failed: FATAL:  sorry, too many clients already\n",
      "\n",
      "(Background on this error at: https://sqlalche.me/e/20/e3q8)\n",
      "Error executing query: (psycopg2.OperationalError) connection to server at \"98.98.117.105\", port 5432 failed: FATAL:  sorry, too many clients already\n",
      "connection to server at \"98.98.117.105\", port 5432 failed: FATAL:  sorry, too many clients already\n",
      "\n",
      "(Background on this error at: https://sqlalche.me/e/20/e3q8)\n"
     ]
    },
    {
     "name": "stderr",
     "output_type": "stream",
     "text": [
      " 37%|█████████████████████████████████████████████████▉                                                                                    | 3731/10000 [08:22<10:31,  9.92it/s]"
     ]
    },
    {
     "name": "stdout",
     "output_type": "stream",
     "text": [
      "Error executing query: (psycopg2.OperationalError) connection to server at \"98.98.117.105\", port 5432 failed: FATAL:  sorry, too many clients already\n",
      "connection to server at \"98.98.117.105\", port 5432 failed: FATAL:  sorry, too many clients already\n",
      "\n",
      "(Background on this error at: https://sqlalche.me/e/20/e3q8)\n",
      "Error executing query: (psycopg2.OperationalError) connection to server at \"98.98.117.105\", port 5432 failed: FATAL:  sorry, too many clients already\n",
      "connection to server at \"98.98.117.105\", port 5432 failed: FATAL:  sorry, too many clients already\n",
      "\n",
      "(Background on this error at: https://sqlalche.me/e/20/e3q8)\n"
     ]
    },
    {
     "name": "stderr",
     "output_type": "stream",
     "text": [
      " 37%|██████████████████████████████████████████████████                                                                                    | 3734/10000 [08:22<12:07,  8.61it/s]"
     ]
    },
    {
     "name": "stdout",
     "output_type": "stream",
     "text": [
      "Error executing query: (psycopg2.OperationalError) connection to server at \"98.98.117.105\", port 5432 failed: FATAL:  sorry, too many clients already\n",
      "connection to server at \"98.98.117.105\", port 5432 failed: FATAL:  sorry, too many clients already\n",
      "\n",
      "(Background on this error at: https://sqlalche.me/e/20/e3q8)\n",
      "Error executing query: (psycopg2.OperationalError) connection to server at \"98.98.117.105\", port 5432 failed: FATAL:  sorry, too many clients already\n",
      "connection to server at \"98.98.117.105\", port 5432 failed: FATAL:  sorry, too many clients already\n",
      "\n",
      "(Background on this error at: https://sqlalche.me/e/20/e3q8)\n"
     ]
    },
    {
     "name": "stderr",
     "output_type": "stream",
     "text": [
      " 37%|██████████████████████████████████████████████████                                                                                    | 3736/10000 [08:23<11:57,  8.73it/s]"
     ]
    },
    {
     "name": "stdout",
     "output_type": "stream",
     "text": [
      "Error executing query: (psycopg2.OperationalError) connection to server at \"98.98.117.105\", port 5432 failed: FATAL:  sorry, too many clients already\n",
      "connection to server at \"98.98.117.105\", port 5432 failed: FATAL:  sorry, too many clients already\n",
      "\n",
      "(Background on this error at: https://sqlalche.me/e/20/e3q8)\n",
      "Error executing query: (psycopg2.OperationalError) connection to server at \"98.98.117.105\", port 5432 failed: FATAL:  sorry, too many clients already\n",
      "connection to server at \"98.98.117.105\", port 5432 failed: FATAL:  sorry, too many clients already\n",
      "\n",
      "(Background on this error at: https://sqlalche.me/e/20/e3q8)\n"
     ]
    },
    {
     "name": "stderr",
     "output_type": "stream",
     "text": [
      " 37%|██████████████████████████████████████████████████                                                                                    | 3738/10000 [08:23<12:16,  8.50it/s]"
     ]
    },
    {
     "name": "stdout",
     "output_type": "stream",
     "text": [
      "Error executing query: (psycopg2.OperationalError) connection to server at \"98.98.117.105\", port 5432 failed: FATAL:  sorry, too many clients already\n",
      "connection to server at \"98.98.117.105\", port 5432 failed: FATAL:  sorry, too many clients already\n",
      "\n",
      "(Background on this error at: https://sqlalche.me/e/20/e3q8)\n"
     ]
    },
    {
     "name": "stderr",
     "output_type": "stream",
     "text": [
      " 37%|██████████████████████████████████████████████████▏                                                                                   | 3741/10000 [08:23<11:02,  9.45it/s]"
     ]
    },
    {
     "name": "stdout",
     "output_type": "stream",
     "text": [
      "Error executing query: (psycopg2.OperationalError) connection to server at \"98.98.117.105\", port 5432 failed: FATAL:  sorry, too many clients already\n",
      "connection to server at \"98.98.117.105\", port 5432 failed: FATAL:  sorry, too many clients already\n",
      "\n",
      "(Background on this error at: https://sqlalche.me/e/20/e3q8)\n",
      "Error executing query: (psycopg2.OperationalError) connection to server at \"98.98.117.105\", port 5432 failed: FATAL:  sorry, too many clients already\n",
      "connection to server at \"98.98.117.105\", port 5432 failed: FATAL:  sorry, too many clients already\n",
      "\n",
      "(Background on this error at: https://sqlalche.me/e/20/e3q8)\n",
      "Error executing query: (psycopg2.OperationalError) connection to server at \"98.98.117.105\", port 5432 failed: FATAL:  sorry, too many clients already\n",
      "connection to server at \"98.98.117.105\", port 5432 failed: FATAL:  sorry, too many clients already\n",
      "\n",
      "(Background on this error at: https://sqlalche.me/e/20/e3q8)\n"
     ]
    },
    {
     "name": "stderr",
     "output_type": "stream",
     "text": [
      " 37%|██████████████████████████████████████████████████▏                                                                                   | 3744/10000 [08:24<10:58,  9.50it/s]"
     ]
    },
    {
     "name": "stdout",
     "output_type": "stream",
     "text": [
      "Error executing query: (psycopg2.OperationalError) connection to server at \"98.98.117.105\", port 5432 failed: FATAL:  sorry, too many clients already\n",
      "connection to server at \"98.98.117.105\", port 5432 failed: FATAL:  sorry, too many clients already\n",
      "\n",
      "(Background on this error at: https://sqlalche.me/e/20/e3q8)\n",
      "Error executing query: (psycopg2.OperationalError) connection to server at \"98.98.117.105\", port 5432 failed: FATAL:  sorry, too many clients already\n",
      "connection to server at \"98.98.117.105\", port 5432 failed: FATAL:  sorry, too many clients already\n",
      "\n",
      "(Background on this error at: https://sqlalche.me/e/20/e3q8)\n",
      "Error executing query: (psycopg2.OperationalError) connection to server at \"98.98.117.105\", port 5432 failed: FATAL:  sorry, too many clients already\n",
      "connection to server at \"98.98.117.105\", port 5432 failed: FATAL:  sorry, too many clients already\n",
      "\n",
      "(Background on this error at: https://sqlalche.me/e/20/e3q8)\n"
     ]
    },
    {
     "name": "stderr",
     "output_type": "stream",
     "text": [
      " 37%|██████████████████████████████████████████████████▏                                                                                   | 3746/10000 [08:24<09:52, 10.55it/s]"
     ]
    },
    {
     "name": "stdout",
     "output_type": "stream",
     "text": [
      "Error executing query: (psycopg2.OperationalError) connection to server at \"98.98.117.105\", port 5432 failed: FATAL:  sorry, too many clients already\n",
      "connection to server at \"98.98.117.105\", port 5432 failed: FATAL:  sorry, too many clients already\n",
      "\n",
      "(Background on this error at: https://sqlalche.me/e/20/e3q8)\n",
      "Error executing query: (psycopg2.OperationalError) connection to server at \"98.98.117.105\", port 5432 failed: FATAL:  sorry, too many clients already\n",
      "connection to server at \"98.98.117.105\", port 5432 failed: FATAL:  sorry, too many clients already\n",
      "\n",
      "(Background on this error at: https://sqlalche.me/e/20/e3q8)\n",
      "Error executing query: (psycopg2.OperationalError) connection to server at \"98.98.117.105\", port 5432 failed: FATAL:  sorry, too many clients already\n",
      "connection to server at \"98.98.117.105\", port 5432 failed: FATAL:  sorry, too many clients already\n",
      "\n",
      "(Background on this error at: https://sqlalche.me/e/20/e3q8)\n"
     ]
    },
    {
     "name": "stderr",
     "output_type": "stream",
     "text": [
      " 38%|██████████████████████████████████████████████████▎                                                                                   | 3750/10000 [08:24<09:27, 11.01it/s]"
     ]
    },
    {
     "name": "stdout",
     "output_type": "stream",
     "text": [
      "Error executing query: (psycopg2.OperationalError) connection to server at \"98.98.117.105\", port 5432 failed: FATAL:  sorry, too many clients already\n",
      "connection to server at \"98.98.117.105\", port 5432 failed: FATAL:  sorry, too many clients already\n",
      "\n",
      "(Background on this error at: https://sqlalche.me/e/20/e3q8)\n",
      "Error executing query: (psycopg2.OperationalError) connection to server at \"98.98.117.105\", port 5432 failed: FATAL:  sorry, too many clients already\n",
      "connection to server at \"98.98.117.105\", port 5432 failed: FATAL:  sorry, too many clients already\n",
      "\n",
      "(Background on this error at: https://sqlalche.me/e/20/e3q8)\n",
      "Error executing query: (psycopg2.OperationalError) connection to server at \"98.98.117.105\", port 5432 failed: FATAL:  sorry, too many clients already\n",
      "connection to server at \"98.98.117.105\", port 5432 failed: FATAL:  sorry, too many clients already\n",
      "\n",
      "(Background on this error at: https://sqlalche.me/e/20/e3q8)\n"
     ]
    },
    {
     "name": "stderr",
     "output_type": "stream",
     "text": [
      " 38%|██████████████████████████████████████████████████▎                                                                                   | 3752/10000 [08:24<09:51, 10.55it/s]"
     ]
    },
    {
     "name": "stdout",
     "output_type": "stream",
     "text": [
      "Error executing query: (psycopg2.OperationalError) connection to server at \"98.98.117.105\", port 5432 failed: FATAL:  sorry, too many clients already\n",
      "connection to server at \"98.98.117.105\", port 5432 failed: FATAL:  sorry, too many clients already\n",
      "\n",
      "(Background on this error at: https://sqlalche.me/e/20/e3q8)\n",
      "Error executing query: (psycopg2.OperationalError) connection to server at \"98.98.117.105\", port 5432 failed: FATAL:  sorry, too many clients already\n",
      "connection to server at \"98.98.117.105\", port 5432 failed: FATAL:  sorry, too many clients already\n",
      "\n",
      "(Background on this error at: https://sqlalche.me/e/20/e3q8)\n"
     ]
    },
    {
     "name": "stderr",
     "output_type": "stream",
     "text": [
      " 38%|██████████████████████████████████████████████████▎                                                                                   | 3754/10000 [08:25<10:59,  9.47it/s]"
     ]
    },
    {
     "name": "stdout",
     "output_type": "stream",
     "text": [
      "Error executing query: (psycopg2.OperationalError) connection to server at \"98.98.117.105\", port 5432 failed: FATAL:  sorry, too many clients already\n",
      "connection to server at \"98.98.117.105\", port 5432 failed: FATAL:  sorry, too many clients already\n",
      "\n",
      "(Background on this error at: https://sqlalche.me/e/20/e3q8)\n",
      "Error executing query: (psycopg2.OperationalError) connection to server at \"98.98.117.105\", port 5432 failed: FATAL:  sorry, too many clients already\n",
      "connection to server at \"98.98.117.105\", port 5432 failed: FATAL:  sorry, too many clients already\n",
      "\n",
      "(Background on this error at: https://sqlalche.me/e/20/e3q8)\n"
     ]
    },
    {
     "name": "stderr",
     "output_type": "stream",
     "text": [
      " 38%|██████████████████████████████████████████████████▎                                                                                   | 3756/10000 [08:25<10:38,  9.79it/s]"
     ]
    },
    {
     "name": "stdout",
     "output_type": "stream",
     "text": [
      "Error executing query: (psycopg2.OperationalError) connection to server at \"98.98.117.105\", port 5432 failed: FATAL:  sorry, too many clients already\n",
      "connection to server at \"98.98.117.105\", port 5432 failed: FATAL:  sorry, too many clients already\n",
      "\n",
      "(Background on this error at: https://sqlalche.me/e/20/e3q8)\n",
      "Error executing query: (psycopg2.OperationalError) connection to server at \"98.98.117.105\", port 5432 failed: FATAL:  sorry, too many clients already\n",
      "connection to server at \"98.98.117.105\", port 5432 failed: FATAL:  sorry, too many clients already\n",
      "\n",
      "(Background on this error at: https://sqlalche.me/e/20/e3q8)\n"
     ]
    },
    {
     "name": "stderr",
     "output_type": "stream",
     "text": [
      " 38%|██████████████████████████████████████████████████▎                                                                                   | 3758/10000 [08:25<10:49,  9.61it/s]"
     ]
    },
    {
     "name": "stdout",
     "output_type": "stream",
     "text": [
      "Error executing query: (psycopg2.OperationalError) connection to server at \"98.98.117.105\", port 5432 failed: FATAL:  sorry, too many clients already\n",
      "connection to server at \"98.98.117.105\", port 5432 failed: FATAL:  sorry, too many clients already\n",
      "\n",
      "(Background on this error at: https://sqlalche.me/e/20/e3q8)\n",
      "Error executing query: (psycopg2.OperationalError) connection to server at \"98.98.117.105\", port 5432 failed: FATAL:  sorry, too many clients already\n",
      "connection to server at \"98.98.117.105\", port 5432 failed: FATAL:  sorry, too many clients already\n",
      "\n",
      "(Background on this error at: https://sqlalche.me/e/20/e3q8)\n"
     ]
    },
    {
     "name": "stderr",
     "output_type": "stream",
     "text": [
      " 38%|██████████████████████████████████████████████████▍                                                                                   | 3760/10000 [08:25<10:07, 10.27it/s]"
     ]
    },
    {
     "name": "stdout",
     "output_type": "stream",
     "text": [
      "Error executing query: (psycopg2.OperationalError) connection to server at \"98.98.117.105\", port 5432 failed: FATAL:  sorry, too many clients already\n",
      "connection to server at \"98.98.117.105\", port 5432 failed: FATAL:  sorry, too many clients already\n",
      "\n",
      "(Background on this error at: https://sqlalche.me/e/20/e3q8)\n"
     ]
    },
    {
     "name": "stderr",
     "output_type": "stream",
     "text": [
      " 38%|██████████████████████████████████████████████████▍                                                                                   | 3763/10000 [08:25<10:35,  9.82it/s]"
     ]
    },
    {
     "name": "stdout",
     "output_type": "stream",
     "text": [
      "Error executing query: (psycopg2.OperationalError) connection to server at \"98.98.117.105\", port 5432 failed: FATAL:  sorry, too many clients already\n",
      "connection to server at \"98.98.117.105\", port 5432 failed: FATAL:  sorry, too many clients already\n",
      "\n",
      "(Background on this error at: https://sqlalche.me/e/20/e3q8)\n",
      "Error executing query: (psycopg2.OperationalError) connection to server at \"98.98.117.105\", port 5432 failed: FATAL:  sorry, too many clients already\n",
      "connection to server at \"98.98.117.105\", port 5432 failed: FATAL:  sorry, too many clients already\n",
      "\n",
      "(Background on this error at: https://sqlalche.me/e/20/e3q8)\n"
     ]
    },
    {
     "name": "stderr",
     "output_type": "stream",
     "text": [
      " 38%|██████████████████████████████████████████████████▍                                                                                   | 3766/10000 [08:26<10:23, 10.00it/s]"
     ]
    },
    {
     "name": "stdout",
     "output_type": "stream",
     "text": [
      "Error executing query: (psycopg2.OperationalError) connection to server at \"98.98.117.105\", port 5432 failed: FATAL:  sorry, too many clients already\n",
      "connection to server at \"98.98.117.105\", port 5432 failed: FATAL:  sorry, too many clients already\n",
      "\n",
      "(Background on this error at: https://sqlalche.me/e/20/e3q8)\n",
      "Error executing query: (psycopg2.OperationalError) connection to server at \"98.98.117.105\", port 5432 failed: FATAL:  sorry, too many clients already\n",
      "connection to server at \"98.98.117.105\", port 5432 failed: FATAL:  sorry, too many clients already\n",
      "\n",
      "(Background on this error at: https://sqlalche.me/e/20/e3q8)\n"
     ]
    },
    {
     "name": "stderr",
     "output_type": "stream",
     "text": [
      " 38%|██████████████████████████████████████████████████▌                                                                                   | 3769/10000 [08:26<10:23, 10.00it/s]"
     ]
    },
    {
     "name": "stdout",
     "output_type": "stream",
     "text": [
      "Error executing query: (psycopg2.OperationalError) connection to server at \"98.98.117.105\", port 5432 failed: FATAL:  sorry, too many clients already\n",
      "connection to server at \"98.98.117.105\", port 5432 failed: FATAL:  sorry, too many clients already\n",
      "\n",
      "(Background on this error at: https://sqlalche.me/e/20/e3q8)\n",
      "Error executing query: (psycopg2.OperationalError) connection to server at \"98.98.117.105\", port 5432 failed: FATAL:  sorry, too many clients already\n",
      "connection to server at \"98.98.117.105\", port 5432 failed: FATAL:  sorry, too many clients already\n",
      "\n",
      "(Background on this error at: https://sqlalche.me/e/20/e3q8)\n"
     ]
    },
    {
     "name": "stderr",
     "output_type": "stream",
     "text": [
      " 38%|██████████████████████████████████████████████████▌                                                                                   | 3773/10000 [08:26<10:35,  9.79it/s]"
     ]
    },
    {
     "name": "stdout",
     "output_type": "stream",
     "text": [
      "Error executing query: (psycopg2.OperationalError) connection to server at \"98.98.117.105\", port 5432 failed: FATAL:  sorry, too many clients already\n",
      "connection to server at \"98.98.117.105\", port 5432 failed: FATAL:  sorry, too many clients already\n",
      "\n",
      "(Background on this error at: https://sqlalche.me/e/20/e3q8)\n",
      "Error executing query: (psycopg2.OperationalError) connection to server at \"98.98.117.105\", port 5432 failed: FATAL:  sorry, too many clients already\n",
      "connection to server at \"98.98.117.105\", port 5432 failed: FATAL:  sorry, too many clients already\n",
      "\n",
      "(Background on this error at: https://sqlalche.me/e/20/e3q8)\n"
     ]
    },
    {
     "name": "stderr",
     "output_type": "stream",
     "text": [
      " 38%|██████████████████████████████████████████████████▌                                                                                   | 3775/10000 [08:27<09:47, 10.60it/s]"
     ]
    },
    {
     "name": "stdout",
     "output_type": "stream",
     "text": [
      "Error executing query: (psycopg2.OperationalError) connection to server at \"98.98.117.105\", port 5432 failed: FATAL:  sorry, too many clients already\n",
      "connection to server at \"98.98.117.105\", port 5432 failed: FATAL:  sorry, too many clients already\n",
      "\n",
      "(Background on this error at: https://sqlalche.me/e/20/e3q8)\n",
      "Error executing query: (psycopg2.OperationalError) connection to server at \"98.98.117.105\", port 5432 failed: FATAL:  sorry, too many clients already\n",
      "connection to server at \"98.98.117.105\", port 5432 failed: FATAL:  sorry, too many clients already\n",
      "\n",
      "(Background on this error at: https://sqlalche.me/e/20/e3q8)\n"
     ]
    },
    {
     "name": "stderr",
     "output_type": "stream",
     "text": [
      " 38%|██████████████████████████████████████████████████▌                                                                                   | 3777/10000 [08:27<10:01, 10.35it/s]"
     ]
    },
    {
     "name": "stdout",
     "output_type": "stream",
     "text": [
      "Error executing query: (psycopg2.OperationalError) connection to server at \"98.98.117.105\", port 5432 failed: FATAL:  sorry, too many clients already\n",
      "connection to server at \"98.98.117.105\", port 5432 failed: FATAL:  sorry, too many clients already\n",
      "\n",
      "(Background on this error at: https://sqlalche.me/e/20/e3q8)\n",
      "Error executing query: (psycopg2.OperationalError) connection to server at \"98.98.117.105\", port 5432 failed: FATAL:  sorry, too many clients already\n",
      "connection to server at \"98.98.117.105\", port 5432 failed: FATAL:  sorry, too many clients already\n",
      "\n",
      "(Background on this error at: https://sqlalche.me/e/20/e3q8)\n"
     ]
    },
    {
     "name": "stderr",
     "output_type": "stream",
     "text": [
      " 38%|██████████████████████████████████████████████████▋                                                                                   | 3781/10000 [08:27<10:21, 10.00it/s]"
     ]
    },
    {
     "name": "stdout",
     "output_type": "stream",
     "text": [
      "Error executing query: (psycopg2.OperationalError) connection to server at \"98.98.117.105\", port 5432 failed: FATAL:  sorry, too many clients already\n",
      "connection to server at \"98.98.117.105\", port 5432 failed: FATAL:  sorry, too many clients already\n",
      "\n",
      "(Background on this error at: https://sqlalche.me/e/20/e3q8)\n",
      "Error executing query: (psycopg2.OperationalError) connection to server at \"98.98.117.105\", port 5432 failed: FATAL:  sorry, too many clients already\n",
      "connection to server at \"98.98.117.105\", port 5432 failed: FATAL:  sorry, too many clients already\n",
      "\n",
      "(Background on this error at: https://sqlalche.me/e/20/e3q8)\n"
     ]
    },
    {
     "name": "stderr",
     "output_type": "stream",
     "text": [
      " 38%|██████████████████████████████████████████████████▋                                                                                   | 3785/10000 [08:28<10:28,  9.89it/s]"
     ]
    },
    {
     "name": "stdout",
     "output_type": "stream",
     "text": [
      "Error executing query: (psycopg2.OperationalError) connection to server at \"98.98.117.105\", port 5432 failed: FATAL:  sorry, too many clients already\n",
      "connection to server at \"98.98.117.105\", port 5432 failed: FATAL:  sorry, too many clients already\n",
      "\n",
      "(Background on this error at: https://sqlalche.me/e/20/e3q8)\n",
      "Error executing query: (psycopg2.OperationalError) connection to server at \"98.98.117.105\", port 5432 failed: FATAL:  sorry, too many clients already\n",
      "connection to server at \"98.98.117.105\", port 5432 failed: FATAL:  sorry, too many clients already\n",
      "\n",
      "(Background on this error at: https://sqlalche.me/e/20/e3q8)\n"
     ]
    },
    {
     "name": "stderr",
     "output_type": "stream",
     "text": [
      " 38%|██████████████████████████████████████████████████▋                                                                                   | 3787/10000 [08:28<10:16, 10.07it/s]"
     ]
    },
    {
     "name": "stdout",
     "output_type": "stream",
     "text": [
      "Error executing query: (psycopg2.OperationalError) connection to server at \"98.98.117.105\", port 5432 failed: FATAL:  sorry, too many clients already\n",
      "connection to server at \"98.98.117.105\", port 5432 failed: FATAL:  sorry, too many clients already\n",
      "\n",
      "(Background on this error at: https://sqlalche.me/e/20/e3q8)\n",
      "Error executing query: (psycopg2.OperationalError) connection to server at \"98.98.117.105\", port 5432 failed: FATAL:  sorry, too many clients already\n",
      "connection to server at \"98.98.117.105\", port 5432 failed: FATAL:  sorry, too many clients already\n",
      "\n",
      "(Background on this error at: https://sqlalche.me/e/20/e3q8)\n"
     ]
    },
    {
     "name": "stderr",
     "output_type": "stream",
     "text": [
      " 38%|██████████████████████████████████████████████████▊                                                                                   | 3790/10000 [08:28<11:01,  9.38it/s]"
     ]
    },
    {
     "name": "stdout",
     "output_type": "stream",
     "text": [
      "Error executing query: (psycopg2.OperationalError) connection to server at \"98.98.117.105\", port 5432 failed: FATAL:  sorry, too many clients already\n",
      "connection to server at \"98.98.117.105\", port 5432 failed: FATAL:  sorry, too many clients already\n",
      "\n",
      "(Background on this error at: https://sqlalche.me/e/20/e3q8)\n",
      "Error executing query: (psycopg2.OperationalError) connection to server at \"98.98.117.105\", port 5432 failed: FATAL:  sorry, too many clients already\n",
      "connection to server at \"98.98.117.105\", port 5432 failed: FATAL:  sorry, too many clients already\n",
      "\n",
      "(Background on this error at: https://sqlalche.me/e/20/e3q8)\n"
     ]
    },
    {
     "name": "stderr",
     "output_type": "stream",
     "text": [
      " 38%|██████████████████████████████████████████████████▊                                                                                   | 3794/10000 [08:29<10:33,  9.80it/s]"
     ]
    },
    {
     "name": "stdout",
     "output_type": "stream",
     "text": [
      "Error executing query: (psycopg2.OperationalError) connection to server at \"98.98.117.105\", port 5432 failed: FATAL:  sorry, too many clients already\n",
      "connection to server at \"98.98.117.105\", port 5432 failed: FATAL:  sorry, too many clients already\n",
      "\n",
      "(Background on this error at: https://sqlalche.me/e/20/e3q8)\n",
      "Error executing query: (psycopg2.OperationalError) connection to server at \"98.98.117.105\", port 5432 failed: FATAL:  sorry, too many clients already\n",
      "connection to server at \"98.98.117.105\", port 5432 failed: FATAL:  sorry, too many clients already\n",
      "\n",
      "(Background on this error at: https://sqlalche.me/e/20/e3q8)\n"
     ]
    },
    {
     "name": "stderr",
     "output_type": "stream",
     "text": [
      " 38%|██████████████████████████████████████████████████▊                                                                                   | 3796/10000 [08:29<09:56, 10.41it/s]"
     ]
    },
    {
     "name": "stdout",
     "output_type": "stream",
     "text": [
      "Error executing query: (psycopg2.OperationalError) connection to server at \"98.98.117.105\", port 5432 failed: FATAL:  sorry, too many clients already\n",
      "connection to server at \"98.98.117.105\", port 5432 failed: FATAL:  sorry, too many clients already\n",
      "\n",
      "(Background on this error at: https://sqlalche.me/e/20/e3q8)\n",
      "Error executing query: (psycopg2.OperationalError) connection to server at \"98.98.117.105\", port 5432 failed: FATAL:  sorry, too many clients already\n",
      "connection to server at \"98.98.117.105\", port 5432 failed: FATAL:  sorry, too many clients already\n",
      "\n",
      "(Background on this error at: https://sqlalche.me/e/20/e3q8)\n"
     ]
    },
    {
     "name": "stderr",
     "output_type": "stream",
     "text": [
      " 38%|██████████████████████████████████████████████████▉                                                                                   | 3798/10000 [08:29<10:01, 10.31it/s]"
     ]
    },
    {
     "name": "stdout",
     "output_type": "stream",
     "text": [
      "Error executing query: (psycopg2.OperationalError) connection to server at \"98.98.117.105\", port 5432 failed: FATAL:  sorry, too many clients already\n",
      "connection to server at \"98.98.117.105\", port 5432 failed: FATAL:  sorry, too many clients already\n",
      "\n",
      "(Background on this error at: https://sqlalche.me/e/20/e3q8)\n",
      "Error executing query: (psycopg2.OperationalError) connection to server at \"98.98.117.105\", port 5432 failed: FATAL:  sorry, too many clients already\n",
      "connection to server at \"98.98.117.105\", port 5432 failed: FATAL:  sorry, too many clients already\n",
      "\n",
      "(Background on this error at: https://sqlalche.me/e/20/e3q8)\n"
     ]
    },
    {
     "name": "stderr",
     "output_type": "stream",
     "text": [
      " 38%|██████████████████████████████████████████████████▉                                                                                   | 3802/10000 [08:29<11:51,  8.71it/s]"
     ]
    },
    {
     "name": "stdout",
     "output_type": "stream",
     "text": [
      "Error executing query: (psycopg2.OperationalError) connection to server at \"98.98.117.105\", port 5432 failed: FATAL:  sorry, too many clients already\n",
      "connection to server at \"98.98.117.105\", port 5432 failed: FATAL:  sorry, too many clients already\n",
      "\n",
      "(Background on this error at: https://sqlalche.me/e/20/e3q8)\n",
      "Error executing query: (psycopg2.OperationalError) connection to server at \"98.98.117.105\", port 5432 failed: FATAL:  sorry, too many clients already\n",
      "connection to server at \"98.98.117.105\", port 5432 failed: FATAL:  sorry, too many clients already\n",
      "\n",
      "(Background on this error at: https://sqlalche.me/e/20/e3q8)\n"
     ]
    },
    {
     "name": "stderr",
     "output_type": "stream",
     "text": [
      " 38%|███████████████████████████████████████████████████                                                                                   | 3806/10000 [08:30<11:01,  9.36it/s]"
     ]
    },
    {
     "name": "stdout",
     "output_type": "stream",
     "text": [
      "Error executing query: (psycopg2.OperationalError) connection to server at \"98.98.117.105\", port 5432 failed: FATAL:  sorry, too many clients already\n",
      "connection to server at \"98.98.117.105\", port 5432 failed: FATAL:  sorry, too many clients already\n",
      "\n",
      "(Background on this error at: https://sqlalche.me/e/20/e3q8)\n",
      "Error executing query: (psycopg2.OperationalError) connection to server at \"98.98.117.105\", port 5432 failed: FATAL:  sorry, too many clients already\n",
      "connection to server at \"98.98.117.105\", port 5432 failed: FATAL:  sorry, too many clients already\n",
      "\n",
      "(Background on this error at: https://sqlalche.me/e/20/e3q8)\n"
     ]
    },
    {
     "name": "stderr",
     "output_type": "stream",
     "text": [
      " 38%|███████████████████████████████████████████████████                                                                                   | 3808/10000 [08:30<10:51,  9.50it/s]"
     ]
    },
    {
     "name": "stdout",
     "output_type": "stream",
     "text": [
      "Error executing query: (psycopg2.OperationalError) connection to server at \"98.98.117.105\", port 5432 failed: FATAL:  sorry, too many clients already\n",
      "connection to server at \"98.98.117.105\", port 5432 failed: FATAL:  sorry, too many clients already\n",
      "\n",
      "(Background on this error at: https://sqlalche.me/e/20/e3q8)\n",
      "Error executing query: (psycopg2.OperationalError) connection to server at \"98.98.117.105\", port 5432 failed: FATAL:  sorry, too many clients already\n",
      "connection to server at \"98.98.117.105\", port 5432 failed: FATAL:  sorry, too many clients already\n",
      "\n",
      "(Background on this error at: https://sqlalche.me/e/20/e3q8)\n"
     ]
    },
    {
     "name": "stderr",
     "output_type": "stream",
     "text": [
      " 38%|███████████████████████████████████████████████████                                                                                   | 3811/10000 [08:30<10:27,  9.86it/s]"
     ]
    },
    {
     "name": "stdout",
     "output_type": "stream",
     "text": [
      "Error executing query: (psycopg2.OperationalError) connection to server at \"98.98.117.105\", port 5432 failed: FATAL:  sorry, too many clients already\n",
      "connection to server at \"98.98.117.105\", port 5432 failed: FATAL:  sorry, too many clients already\n",
      "\n",
      "(Background on this error at: https://sqlalche.me/e/20/e3q8)\n",
      "Error executing query: (psycopg2.OperationalError) connection to server at \"98.98.117.105\", port 5432 failed: FATAL:  sorry, too many clients already\n",
      "connection to server at \"98.98.117.105\", port 5432 failed: FATAL:  sorry, too many clients already\n",
      "\n",
      "(Background on this error at: https://sqlalche.me/e/20/e3q8)\n"
     ]
    },
    {
     "name": "stderr",
     "output_type": "stream",
     "text": [
      " 38%|███████████████████████████████████████████████████                                                                                   | 3813/10000 [08:31<09:48, 10.51it/s]"
     ]
    },
    {
     "name": "stdout",
     "output_type": "stream",
     "text": [
      "Error executing query: (psycopg2.OperationalError) connection to server at \"98.98.117.105\", port 5432 failed: FATAL:  sorry, too many clients already\n",
      "connection to server at \"98.98.117.105\", port 5432 failed: FATAL:  sorry, too many clients already\n",
      "\n",
      "(Background on this error at: https://sqlalche.me/e/20/e3q8)\n",
      "Error executing query: (psycopg2.OperationalError) connection to server at \"98.98.117.105\", port 5432 failed: FATAL:  sorry, too many clients already\n",
      "connection to server at \"98.98.117.105\", port 5432 failed: FATAL:  sorry, too many clients already\n",
      "\n",
      "(Background on this error at: https://sqlalche.me/e/20/e3q8)\n"
     ]
    },
    {
     "name": "stderr",
     "output_type": "stream",
     "text": [
      " 38%|███████████████████████████████████████████████████▏                                                                                  | 3817/10000 [08:31<13:03,  7.89it/s]"
     ]
    },
    {
     "name": "stdout",
     "output_type": "stream",
     "text": [
      "Error executing query: (psycopg2.OperationalError) connection to server at \"98.98.117.105\", port 5432 failed: FATAL:  sorry, too many clients already\n",
      "connection to server at \"98.98.117.105\", port 5432 failed: FATAL:  sorry, too many clients already\n",
      "\n",
      "(Background on this error at: https://sqlalche.me/e/20/e3q8)\n",
      "Error executing query: (psycopg2.OperationalError) connection to server at \"98.98.117.105\", port 5432 failed: FATAL:  sorry, too many clients already\n",
      "connection to server at \"98.98.117.105\", port 5432 failed: FATAL:  sorry, too many clients already\n",
      "\n",
      "(Background on this error at: https://sqlalche.me/e/20/e3q8)\n"
     ]
    },
    {
     "name": "stderr",
     "output_type": "stream",
     "text": [
      " 38%|███████████████████████████████████████████████████▏                                                                                  | 3821/10000 [08:32<12:04,  8.53it/s]"
     ]
    },
    {
     "name": "stdout",
     "output_type": "stream",
     "text": [
      "Error executing query: (psycopg2.OperationalError) connection to server at \"98.98.117.105\", port 5432 failed: FATAL:  sorry, too many clients already\n",
      "connection to server at \"98.98.117.105\", port 5432 failed: FATAL:  sorry, too many clients already\n",
      "\n",
      "(Background on this error at: https://sqlalche.me/e/20/e3q8)\n"
     ]
    },
    {
     "name": "stderr",
     "output_type": "stream",
     "text": [
      " 38%|███████████████████████████████████████████████████▏                                                                                  | 3824/10000 [08:32<11:12,  9.18it/s]"
     ]
    },
    {
     "name": "stdout",
     "output_type": "stream",
     "text": [
      "Error executing query: (psycopg2.OperationalError) connection to server at \"98.98.117.105\", port 5432 failed: FATAL:  sorry, too many clients already\n",
      "connection to server at \"98.98.117.105\", port 5432 failed: FATAL:  sorry, too many clients already\n",
      "\n",
      "(Background on this error at: https://sqlalche.me/e/20/e3q8)\n"
     ]
    },
    {
     "name": "stderr",
     "output_type": "stream",
     "text": [
      " 38%|███████████████████████████████████████████████████▎                                                                                  | 3827/10000 [08:32<10:15, 10.03it/s]"
     ]
    },
    {
     "name": "stdout",
     "output_type": "stream",
     "text": [
      "Error executing query: (psycopg2.OperationalError) connection to server at \"98.98.117.105\", port 5432 failed: FATAL:  sorry, too many clients already\n",
      "connection to server at \"98.98.117.105\", port 5432 failed: FATAL:  sorry, too many clients already\n",
      "\n",
      "(Background on this error at: https://sqlalche.me/e/20/e3q8)\n",
      "Error executing query: (psycopg2.OperationalError) connection to server at \"98.98.117.105\", port 5432 failed: FATAL:  sorry, too many clients already\n",
      "connection to server at \"98.98.117.105\", port 5432 failed: FATAL:  sorry, too many clients already\n",
      "\n",
      "(Background on this error at: https://sqlalche.me/e/20/e3q8)\n",
      "Error executing query: (psycopg2.OperationalError) connection to server at \"98.98.117.105\", port 5432 failed: FATAL:  sorry, too many clients already\n",
      "connection to server at \"98.98.117.105\", port 5432 failed: FATAL:  sorry, too many clients already\n",
      "\n",
      "(Background on this error at: https://sqlalche.me/e/20/e3q8)\n"
     ]
    },
    {
     "name": "stderr",
     "output_type": "stream",
     "text": [
      " 38%|███████████████████████████████████████████████████▎                                                                                  | 3828/10000 [08:32<10:22,  9.92it/s]"
     ]
    },
    {
     "name": "stdout",
     "output_type": "stream",
     "text": [
      "Error executing query: (psycopg2.OperationalError) connection to server at \"98.98.117.105\", port 5432 failed: FATAL:  sorry, too many clients already\n",
      "connection to server at \"98.98.117.105\", port 5432 failed: FATAL:  sorry, too many clients already\n",
      "\n",
      "(Background on this error at: https://sqlalche.me/e/20/e3q8)\n",
      "Error executing query: (psycopg2.OperationalError) connection to server at \"98.98.117.105\", port 5432 failed: FATAL:  sorry, too many clients already\n",
      "connection to server at \"98.98.117.105\", port 5432 failed: FATAL:  sorry, too many clients already\n",
      "\n",
      "(Background on this error at: https://sqlalche.me/e/20/e3q8)\n"
     ]
    },
    {
     "name": "stderr",
     "output_type": "stream",
     "text": [
      " 38%|███████████████████████████████████████████████████▎                                                                                  | 3831/10000 [08:33<11:33,  8.89it/s]"
     ]
    },
    {
     "name": "stdout",
     "output_type": "stream",
     "text": [
      "Error executing query: (psycopg2.OperationalError) connection to server at \"98.98.117.105\", port 5432 failed: FATAL:  sorry, too many clients already\n",
      "connection to server at \"98.98.117.105\", port 5432 failed: FATAL:  sorry, too many clients already\n",
      "\n",
      "(Background on this error at: https://sqlalche.me/e/20/e3q8)\n"
     ]
    },
    {
     "name": "stderr",
     "output_type": "stream",
     "text": [
      " 38%|███████████████████████████████████████████████████▍                                                                                  | 3834/10000 [08:33<12:14,  8.40it/s]"
     ]
    },
    {
     "name": "stdout",
     "output_type": "stream",
     "text": [
      "Error executing query: (psycopg2.OperationalError) connection to server at \"98.98.117.105\", port 5432 failed: FATAL:  sorry, too many clients already\n",
      "connection to server at \"98.98.117.105\", port 5432 failed: FATAL:  sorry, too many clients already\n",
      "\n",
      "(Background on this error at: https://sqlalche.me/e/20/e3q8)\n"
     ]
    },
    {
     "name": "stderr",
     "output_type": "stream",
     "text": [
      " 38%|███████████████████████████████████████████████████▍                                                                                  | 3837/10000 [08:33<12:32,  8.20it/s]"
     ]
    },
    {
     "name": "stdout",
     "output_type": "stream",
     "text": [
      "Error executing query: (psycopg2.OperationalError) connection to server at \"98.98.117.105\", port 5432 failed: FATAL:  sorry, too many clients already\n",
      "connection to server at \"98.98.117.105\", port 5432 failed: FATAL:  sorry, too many clients already\n",
      "\n",
      "(Background on this error at: https://sqlalche.me/e/20/e3q8)\n",
      "Error executing query: (psycopg2.OperationalError) connection to server at \"98.98.117.105\", port 5432 failed: FATAL:  sorry, too many clients already\n",
      "connection to server at \"98.98.117.105\", port 5432 failed: FATAL:  sorry, too many clients already\n",
      "\n",
      "(Background on this error at: https://sqlalche.me/e/20/e3q8)\n"
     ]
    },
    {
     "name": "stderr",
     "output_type": "stream",
     "text": [
      " 38%|███████████████████████████████████████████████████▍                                                                                  | 3840/10000 [08:34<14:00,  7.33it/s]"
     ]
    },
    {
     "name": "stdout",
     "output_type": "stream",
     "text": [
      "Error executing query: (psycopg2.OperationalError) connection to server at \"98.98.117.105\", port 5432 failed: FATAL:  sorry, too many clients already\n",
      "connection to server at \"98.98.117.105\", port 5432 failed: FATAL:  sorry, too many clients already\n",
      "\n",
      "(Background on this error at: https://sqlalche.me/e/20/e3q8)\n",
      "Error executing query: (psycopg2.OperationalError) connection to server at \"98.98.117.105\", port 5432 failed: FATAL:  sorry, too many clients already\n",
      "connection to server at \"98.98.117.105\", port 5432 failed: FATAL:  sorry, too many clients already\n",
      "\n",
      "(Background on this error at: https://sqlalche.me/e/20/e3q8)\n"
     ]
    },
    {
     "name": "stderr",
     "output_type": "stream",
     "text": [
      " 38%|███████████████████████████████████████████████████▌                                                                                  | 3844/10000 [08:34<11:49,  8.67it/s]"
     ]
    },
    {
     "name": "stdout",
     "output_type": "stream",
     "text": [
      "Error executing query: (psycopg2.OperationalError) connection to server at \"98.98.117.105\", port 5432 failed: FATAL:  sorry, too many clients already\n",
      "connection to server at \"98.98.117.105\", port 5432 failed: FATAL:  sorry, too many clients already\n",
      "\n",
      "(Background on this error at: https://sqlalche.me/e/20/e3q8)\n",
      "Error executing query: (psycopg2.OperationalError) connection to server at \"98.98.117.105\", port 5432 failed: FATAL:  sorry, too many clients already\n",
      "connection to server at \"98.98.117.105\", port 5432 failed: FATAL:  sorry, too many clients already\n",
      "\n",
      "(Background on this error at: https://sqlalche.me/e/20/e3q8)\n"
     ]
    },
    {
     "name": "stderr",
     "output_type": "stream",
     "text": [
      " 38%|███████████████████████████████████████████████████▌                                                                                  | 3846/10000 [08:35<11:20,  9.04it/s]"
     ]
    },
    {
     "name": "stdout",
     "output_type": "stream",
     "text": [
      "Error executing query: (psycopg2.OperationalError) connection to server at \"98.98.117.105\", port 5432 failed: FATAL:  sorry, too many clients already\n",
      "connection to server at \"98.98.117.105\", port 5432 failed: FATAL:  sorry, too many clients already\n",
      "\n",
      "(Background on this error at: https://sqlalche.me/e/20/e3q8)\n"
     ]
    },
    {
     "name": "stderr",
     "output_type": "stream",
     "text": [
      " 39%|████████████████████████████████████████████████████▎                                                                                 | 3902/10000 [08:42<12:25,  8.18it/s]"
     ]
    },
    {
     "name": "stdout",
     "output_type": "stream",
     "text": [
      "Error executing query: (psycopg2.OperationalError) connection to server at \"98.98.117.105\", port 5432 failed: FATAL:  sorry, too many clients already\n",
      "connection to server at \"98.98.117.105\", port 5432 failed: FATAL:  sorry, too many clients already\n",
      "\n",
      "(Background on this error at: https://sqlalche.me/e/20/e3q8)\n"
     ]
    },
    {
     "name": "stderr",
     "output_type": "stream",
     "text": [
      " 39%|████████████████████████████████████████████████████▎                                                                                 | 3904/10000 [08:42<11:21,  8.94it/s]"
     ]
    },
    {
     "name": "stdout",
     "output_type": "stream",
     "text": [
      "Error executing query: (psycopg2.OperationalError) connection to server at \"98.98.117.105\", port 5432 failed: FATAL:  sorry, too many clients already\n",
      "connection to server at \"98.98.117.105\", port 5432 failed: FATAL:  sorry, too many clients already\n",
      "\n",
      "(Background on this error at: https://sqlalche.me/e/20/e3q8)\n",
      "Error executing query: (psycopg2.OperationalError) connection to server at \"98.98.117.105\", port 5432 failed: FATAL:  sorry, too many clients already\n",
      "connection to server at \"98.98.117.105\", port 5432 failed: FATAL:  sorry, too many clients already\n",
      "\n",
      "(Background on this error at: https://sqlalche.me/e/20/e3q8)\n"
     ]
    },
    {
     "name": "stderr",
     "output_type": "stream",
     "text": [
      " 39%|████████████████████████████████████████████████████▎                                                                                 | 3906/10000 [08:42<11:53,  8.54it/s]"
     ]
    },
    {
     "name": "stdout",
     "output_type": "stream",
     "text": [
      "Error executing query: (psycopg2.OperationalError) connection to server at \"98.98.117.105\", port 5432 failed: FATAL:  sorry, too many clients already\n",
      "connection to server at \"98.98.117.105\", port 5432 failed: FATAL:  sorry, too many clients already\n",
      "\n",
      "(Background on this error at: https://sqlalche.me/e/20/e3q8)\n",
      "Error executing query: (psycopg2.OperationalError) connection to server at \"98.98.117.105\", port 5432 failed: FATAL:  sorry, too many clients already\n",
      "connection to server at \"98.98.117.105\", port 5432 failed: FATAL:  sorry, too many clients already\n",
      "\n",
      "(Background on this error at: https://sqlalche.me/e/20/e3q8)\n"
     ]
    },
    {
     "name": "stderr",
     "output_type": "stream",
     "text": [
      " 39%|████████████████████████████████████████████████████▍                                                                                 | 3910/10000 [08:43<09:54, 10.25it/s]"
     ]
    },
    {
     "name": "stdout",
     "output_type": "stream",
     "text": [
      "Error executing query: (psycopg2.OperationalError) connection to server at \"98.98.117.105\", port 5432 failed: FATAL:  sorry, too many clients already\n",
      "connection to server at \"98.98.117.105\", port 5432 failed: FATAL:  sorry, too many clients already\n",
      "\n",
      "(Background on this error at: https://sqlalche.me/e/20/e3q8)\n",
      "Error executing query: (psycopg2.OperationalError) connection to server at \"98.98.117.105\", port 5432 failed: FATAL:  sorry, too many clients already\n",
      "connection to server at \"98.98.117.105\", port 5432 failed: FATAL:  sorry, too many clients already\n",
      "\n",
      "(Background on this error at: https://sqlalche.me/e/20/e3q8)\n"
     ]
    },
    {
     "name": "stderr",
     "output_type": "stream",
     "text": [
      " 39%|████████████████████████████████████████████████████▍                                                                                 | 3912/10000 [08:43<09:57, 10.20it/s]"
     ]
    },
    {
     "name": "stdout",
     "output_type": "stream",
     "text": [
      "Error executing query: (psycopg2.OperationalError) connection to server at \"98.98.117.105\", port 5432 failed: FATAL:  sorry, too many clients already\n",
      "connection to server at \"98.98.117.105\", port 5432 failed: FATAL:  sorry, too many clients already\n",
      "\n",
      "(Background on this error at: https://sqlalche.me/e/20/e3q8)\n",
      "Error executing query: (psycopg2.OperationalError) connection to server at \"98.98.117.105\", port 5432 failed: FATAL:  sorry, too many clients already\n",
      "connection to server at \"98.98.117.105\", port 5432 failed: FATAL:  sorry, too many clients already\n",
      "\n",
      "(Background on this error at: https://sqlalche.me/e/20/e3q8)\n"
     ]
    },
    {
     "name": "stderr",
     "output_type": "stream",
     "text": [
      " 39%|████████████████████████████████████████████████████▊                                                                                 | 3939/10000 [08:46<11:38,  8.68it/s]"
     ]
    },
    {
     "name": "stdout",
     "output_type": "stream",
     "text": [
      "Error executing query: (psycopg2.OperationalError) connection to server at \"98.98.117.105\", port 5432 failed: FATAL:  sorry, too many clients already\n",
      "connection to server at \"98.98.117.105\", port 5432 failed: FATAL:  sorry, too many clients already\n",
      "\n",
      "(Background on this error at: https://sqlalche.me/e/20/e3q8)\n"
     ]
    },
    {
     "name": "stderr",
     "output_type": "stream",
     "text": [
      " 39%|████████████████████████████████████████████████████▊                                                                                 | 3942/10000 [08:47<12:47,  7.90it/s]"
     ]
    },
    {
     "name": "stdout",
     "output_type": "stream",
     "text": [
      "Error executing query: (psycopg2.OperationalError) connection to server at \"98.98.117.105\", port 5432 failed: FATAL:  sorry, too many clients already\n",
      "connection to server at \"98.98.117.105\", port 5432 failed: FATAL:  sorry, too many clients already\n",
      "\n",
      "(Background on this error at: https://sqlalche.me/e/20/e3q8)\n"
     ]
    },
    {
     "name": "stderr",
     "output_type": "stream",
     "text": [
      " 39%|████████████████████████████████████████████████████▊                                                                                 | 3944/10000 [08:47<11:03,  9.13it/s]"
     ]
    },
    {
     "name": "stdout",
     "output_type": "stream",
     "text": [
      "Error executing query: (psycopg2.OperationalError) connection to server at \"98.98.117.105\", port 5432 failed: FATAL:  sorry, too many clients already\n",
      "connection to server at \"98.98.117.105\", port 5432 failed: FATAL:  sorry, too many clients already\n",
      "\n",
      "(Background on this error at: https://sqlalche.me/e/20/e3q8)\n",
      "Error executing query: (psycopg2.OperationalError) connection to server at \"98.98.117.105\", port 5432 failed: FATAL:  sorry, too many clients already\n",
      "connection to server at \"98.98.117.105\", port 5432 failed: FATAL:  sorry, too many clients already\n",
      "\n",
      "(Background on this error at: https://sqlalche.me/e/20/e3q8)\n"
     ]
    },
    {
     "name": "stderr",
     "output_type": "stream",
     "text": [
      " 39%|████████████████████████████████████████████████████▉                                                                                 | 3946/10000 [08:47<11:12,  9.00it/s]"
     ]
    },
    {
     "name": "stdout",
     "output_type": "stream",
     "text": [
      "Error executing query: (psycopg2.OperationalError) connection to server at \"98.98.117.105\", port 5432 failed: FATAL:  sorry, too many clients already\n",
      "connection to server at \"98.98.117.105\", port 5432 failed: FATAL:  sorry, too many clients already\n",
      "\n",
      "(Background on this error at: https://sqlalche.me/e/20/e3q8)\n",
      "Error executing query: (psycopg2.OperationalError) connection to server at \"98.98.117.105\", port 5432 failed: FATAL:  sorry, too many clients already\n",
      "connection to server at \"98.98.117.105\", port 5432 failed: FATAL:  sorry, too many clients already\n",
      "\n",
      "(Background on this error at: https://sqlalche.me/e/20/e3q8)\n"
     ]
    },
    {
     "name": "stderr",
     "output_type": "stream",
     "text": [
      " 39%|████████████████████████████████████████████████████▉                                                                                 | 3948/10000 [08:47<10:58,  9.18it/s]"
     ]
    },
    {
     "name": "stdout",
     "output_type": "stream",
     "text": [
      "Error executing query: (psycopg2.OperationalError) connection to server at \"98.98.117.105\", port 5432 failed: FATAL:  sorry, too many clients already\n",
      "connection to server at \"98.98.117.105\", port 5432 failed: FATAL:  sorry, too many clients already\n",
      "\n",
      "(Background on this error at: https://sqlalche.me/e/20/e3q8)\n",
      "Error executing query: (psycopg2.OperationalError) connection to server at \"98.98.117.105\", port 5432 failed: FATAL:  sorry, too many clients already\n",
      "connection to server at \"98.98.117.105\", port 5432 failed: FATAL:  sorry, too many clients already\n",
      "\n",
      "(Background on this error at: https://sqlalche.me/e/20/e3q8)\n"
     ]
    },
    {
     "name": "stderr",
     "output_type": "stream",
     "text": [
      " 39%|████████████████████████████████████████████████████▉                                                                                 | 3949/10000 [08:47<11:11,  9.01it/s]"
     ]
    },
    {
     "name": "stdout",
     "output_type": "stream",
     "text": [
      "Error executing query: (psycopg2.OperationalError) connection to server at \"98.98.117.105\", port 5432 failed: FATAL:  sorry, too many clients already\n",
      "connection to server at \"98.98.117.105\", port 5432 failed: FATAL:  sorry, too many clients already\n",
      "\n",
      "(Background on this error at: https://sqlalche.me/e/20/e3q8)\n",
      "Error executing query: (psycopg2.OperationalError) connection to server at \"98.98.117.105\", port 5432 failed: FATAL:  sorry, too many clients already\n",
      "connection to server at \"98.98.117.105\", port 5432 failed: FATAL:  sorry, too many clients already\n",
      "\n",
      "(Background on this error at: https://sqlalche.me/e/20/e3q8)\n"
     ]
    },
    {
     "name": "stderr",
     "output_type": "stream",
     "text": [
      " 40%|████████████████████████████████████████████████████▉                                                                                 | 3952/10000 [08:48<11:04,  9.11it/s]"
     ]
    },
    {
     "name": "stdout",
     "output_type": "stream",
     "text": [
      "Error executing query: (psycopg2.OperationalError) connection to server at \"98.98.117.105\", port 5432 failed: FATAL:  sorry, too many clients already\n",
      "connection to server at \"98.98.117.105\", port 5432 failed: FATAL:  sorry, too many clients already\n",
      "\n",
      "(Background on this error at: https://sqlalche.me/e/20/e3q8)\n",
      "Error executing query: (psycopg2.OperationalError) connection to server at \"98.98.117.105\", port 5432 failed: FATAL:  sorry, too many clients already\n",
      "connection to server at \"98.98.117.105\", port 5432 failed: FATAL:  sorry, too many clients already\n",
      "\n",
      "(Background on this error at: https://sqlalche.me/e/20/e3q8)\n",
      "Error executing query: (psycopg2.OperationalError) connection to server at \"98.98.117.105\", port 5432 failed: FATAL:  sorry, too many clients already\n",
      "connection to server at \"98.98.117.105\", port 5432 failed: FATAL:  sorry, too many clients already\n",
      "\n",
      "(Background on this error at: https://sqlalche.me/e/20/e3q8)\n"
     ]
    },
    {
     "name": "stderr",
     "output_type": "stream",
     "text": [
      " 40%|████████████████████████████████████████████████████▉                                                                                 | 3955/10000 [08:48<10:52,  9.27it/s]"
     ]
    },
    {
     "name": "stdout",
     "output_type": "stream",
     "text": [
      "Error executing query: (psycopg2.OperationalError) connection to server at \"98.98.117.105\", port 5432 failed: FATAL:  sorry, too many clients already\n",
      "connection to server at \"98.98.117.105\", port 5432 failed: FATAL:  sorry, too many clients already\n",
      "\n",
      "(Background on this error at: https://sqlalche.me/e/20/e3q8)\n"
     ]
    },
    {
     "name": "stderr",
     "output_type": "stream",
     "text": [
      " 40%|█████████████████████████████████████████████████████▎                                                                                | 3980/10000 [08:51<12:50,  7.81it/s]"
     ]
    },
    {
     "name": "stdout",
     "output_type": "stream",
     "text": [
      "Error executing query: (psycopg2.OperationalError) connection to server at \"98.98.117.105\", port 5432 failed: FATAL:  sorry, too many clients already\n",
      "connection to server at \"98.98.117.105\", port 5432 failed: FATAL:  sorry, too many clients already\n",
      "\n",
      "(Background on this error at: https://sqlalche.me/e/20/e3q8)\n"
     ]
    },
    {
     "name": "stderr",
     "output_type": "stream",
     "text": [
      " 40%|█████████████████████████████████████████████████████▎                                                                                | 3983/10000 [08:52<13:00,  7.71it/s]"
     ]
    },
    {
     "name": "stdout",
     "output_type": "stream",
     "text": [
      "Error executing query: (psycopg2.OperationalError) connection to server at \"98.98.117.105\", port 5432 failed: FATAL:  sorry, too many clients already\n",
      "connection to server at \"98.98.117.105\", port 5432 failed: FATAL:  sorry, too many clients already\n",
      "\n",
      "(Background on this error at: https://sqlalche.me/e/20/e3q8)\n",
      "Error executing query: (psycopg2.OperationalError) connection to server at \"98.98.117.105\", port 5432 failed: FATAL:  sorry, too many clients already\n",
      "connection to server at \"98.98.117.105\", port 5432 failed: FATAL:  sorry, too many clients already\n",
      "\n",
      "(Background on this error at: https://sqlalche.me/e/20/e3q8)\n"
     ]
    },
    {
     "name": "stderr",
     "output_type": "stream",
     "text": [
      " 40%|█████████████████████████████████████████████████████▍                                                                                | 3986/10000 [08:52<11:08,  8.99it/s]"
     ]
    },
    {
     "name": "stdout",
     "output_type": "stream",
     "text": [
      "Error executing query: (psycopg2.OperationalError) connection to server at \"98.98.117.105\", port 5432 failed: FATAL:  sorry, too many clients already\n",
      "connection to server at \"98.98.117.105\", port 5432 failed: FATAL:  sorry, too many clients already\n",
      "\n",
      "(Background on this error at: https://sqlalche.me/e/20/e3q8)\n",
      "Error executing query: (psycopg2.OperationalError) connection to server at \"98.98.117.105\", port 5432 failed: FATAL:  sorry, too many clients already\n",
      "connection to server at \"98.98.117.105\", port 5432 failed: FATAL:  sorry, too many clients already\n",
      "\n",
      "(Background on this error at: https://sqlalche.me/e/20/e3q8)\n"
     ]
    },
    {
     "name": "stderr",
     "output_type": "stream",
     "text": [
      " 40%|█████████████████████████████████████████████████████▍                                                                                | 3988/10000 [08:52<11:10,  8.97it/s]"
     ]
    },
    {
     "name": "stdout",
     "output_type": "stream",
     "text": [
      "Error executing query: (psycopg2.OperationalError) connection to server at \"98.98.117.105\", port 5432 failed: FATAL:  sorry, too many clients already\n",
      "connection to server at \"98.98.117.105\", port 5432 failed: FATAL:  sorry, too many clients already\n",
      "\n",
      "(Background on this error at: https://sqlalche.me/e/20/e3q8)\n",
      "Error executing query: (psycopg2.OperationalError) connection to server at \"98.98.117.105\", port 5432 failed: FATAL:  sorry, too many clients already\n",
      "connection to server at \"98.98.117.105\", port 5432 failed: FATAL:  sorry, too many clients already\n",
      "\n",
      "(Background on this error at: https://sqlalche.me/e/20/e3q8)\n"
     ]
    },
    {
     "name": "stderr",
     "output_type": "stream",
     "text": [
      " 40%|█████████████████████████████████████████████████████▍                                                                                | 3990/10000 [08:52<10:48,  9.27it/s]"
     ]
    },
    {
     "name": "stdout",
     "output_type": "stream",
     "text": [
      "Error executing query: (psycopg2.OperationalError) connection to server at \"98.98.117.105\", port 5432 failed: FATAL:  sorry, too many clients already\n",
      "connection to server at \"98.98.117.105\", port 5432 failed: FATAL:  sorry, too many clients already\n",
      "\n",
      "(Background on this error at: https://sqlalche.me/e/20/e3q8)\n",
      "Error executing query: (psycopg2.OperationalError) connection to server at \"98.98.117.105\", port 5432 failed: FATAL:  sorry, too many clients already\n",
      "connection to server at \"98.98.117.105\", port 5432 failed: FATAL:  sorry, too many clients already\n",
      "\n",
      "(Background on this error at: https://sqlalche.me/e/20/e3q8)\n"
     ]
    },
    {
     "name": "stderr",
     "output_type": "stream",
     "text": [
      " 40%|█████████████████████████████████████████████████████▍                                                                                | 3992/10000 [08:53<10:53,  9.19it/s]"
     ]
    },
    {
     "name": "stdout",
     "output_type": "stream",
     "text": [
      "Error executing query: (psycopg2.OperationalError) connection to server at \"98.98.117.105\", port 5432 failed: FATAL:  sorry, too many clients already\n",
      "connection to server at \"98.98.117.105\", port 5432 failed: FATAL:  sorry, too many clients already\n",
      "\n",
      "(Background on this error at: https://sqlalche.me/e/20/e3q8)\n",
      "Error executing query: (psycopg2.OperationalError) connection to server at \"98.98.117.105\", port 5432 failed: FATAL:  sorry, too many clients already\n",
      "connection to server at \"98.98.117.105\", port 5432 failed: FATAL:  sorry, too many clients already\n",
      "\n",
      "(Background on this error at: https://sqlalche.me/e/20/e3q8)\n"
     ]
    },
    {
     "name": "stderr",
     "output_type": "stream",
     "text": [
      " 40%|█████████████████████████████████████████████████████▌                                                                                | 3994/10000 [08:53<10:22,  9.64it/s]"
     ]
    },
    {
     "name": "stdout",
     "output_type": "stream",
     "text": [
      "Error executing query: (psycopg2.OperationalError) connection to server at \"98.98.117.105\", port 5432 failed: FATAL:  sorry, too many clients already\n",
      "connection to server at \"98.98.117.105\", port 5432 failed: FATAL:  sorry, too many clients already\n",
      "\n",
      "(Background on this error at: https://sqlalche.me/e/20/e3q8)\n",
      "Error executing query: (psycopg2.OperationalError) connection to server at \"98.98.117.105\", port 5432 failed: FATAL:  sorry, too many clients already\n",
      "connection to server at \"98.98.117.105\", port 5432 failed: FATAL:  sorry, too many clients already\n",
      "\n",
      "(Background on this error at: https://sqlalche.me/e/20/e3q8)\n"
     ]
    },
    {
     "name": "stderr",
     "output_type": "stream",
     "text": [
      " 40%|█████████████████████████████████████████████████████▌                                                                                | 3996/10000 [08:53<11:40,  8.57it/s]"
     ]
    },
    {
     "name": "stdout",
     "output_type": "stream",
     "text": [
      "Error executing query: (psycopg2.OperationalError) connection to server at \"98.98.117.105\", port 5432 failed: FATAL:  sorry, too many clients already\n",
      "connection to server at \"98.98.117.105\", port 5432 failed: FATAL:  sorry, too many clients already\n",
      "\n",
      "(Background on this error at: https://sqlalche.me/e/20/e3q8)\n"
     ]
    },
    {
     "name": "stderr",
     "output_type": "stream",
     "text": [
      " 40%|█████████████████████████████████████████████████████▊                                                                                | 4019/10000 [08:56<11:57,  8.33it/s]"
     ]
    },
    {
     "name": "stdout",
     "output_type": "stream",
     "text": [
      "Error executing query: (psycopg2.OperationalError) connection to server at \"98.98.117.105\", port 5432 failed: FATAL:  sorry, too many clients already\n",
      "connection to server at \"98.98.117.105\", port 5432 failed: FATAL:  sorry, too many clients already\n",
      "\n",
      "(Background on this error at: https://sqlalche.me/e/20/e3q8)\n"
     ]
    },
    {
     "name": "stderr",
     "output_type": "stream",
     "text": [
      " 40%|█████████████████████████████████████████████████████▉                                                                                | 4023/10000 [08:56<11:21,  8.78it/s]"
     ]
    },
    {
     "name": "stdout",
     "output_type": "stream",
     "text": [
      "Error executing query: (psycopg2.OperationalError) connection to server at \"98.98.117.105\", port 5432 failed: FATAL:  sorry, too many clients already\n",
      "connection to server at \"98.98.117.105\", port 5432 failed: FATAL:  sorry, too many clients already\n",
      "\n",
      "(Background on this error at: https://sqlalche.me/e/20/e3q8)\n"
     ]
    },
    {
     "name": "stderr",
     "output_type": "stream",
     "text": [
      " 40%|█████████████████████████████████████████████████████▉                                                                                | 4025/10000 [08:57<12:08,  8.20it/s]"
     ]
    },
    {
     "name": "stdout",
     "output_type": "stream",
     "text": [
      "Error executing query: (psycopg2.OperationalError) connection to server at \"98.98.117.105\", port 5432 failed: FATAL:  sorry, too many clients already\n",
      "connection to server at \"98.98.117.105\", port 5432 failed: FATAL:  sorry, too many clients already\n",
      "\n",
      "(Background on this error at: https://sqlalche.me/e/20/e3q8)\n"
     ]
    },
    {
     "name": "stderr",
     "output_type": "stream",
     "text": [
      " 40%|█████████████████████████████████████████████████████▉                                                                                | 4027/10000 [08:57<12:04,  8.24it/s]"
     ]
    },
    {
     "name": "stdout",
     "output_type": "stream",
     "text": [
      "Error executing query: (psycopg2.OperationalError) connection to server at \"98.98.117.105\", port 5432 failed: FATAL:  sorry, too many clients already\n",
      "connection to server at \"98.98.117.105\", port 5432 failed: FATAL:  sorry, too many clients already\n",
      "\n",
      "(Background on this error at: https://sqlalche.me/e/20/e3q8)\n",
      "Error executing query: (psycopg2.OperationalError) connection to server at \"98.98.117.105\", port 5432 failed: FATAL:  sorry, too many clients already\n",
      "connection to server at \"98.98.117.105\", port 5432 failed: FATAL:  sorry, too many clients already\n",
      "\n",
      "(Background on this error at: https://sqlalche.me/e/20/e3q8)\n"
     ]
    },
    {
     "name": "stderr",
     "output_type": "stream",
     "text": [
      " 40%|██████████████████████████████████████████████████████                                                                                | 4030/10000 [08:57<10:18,  9.65it/s]"
     ]
    },
    {
     "name": "stdout",
     "output_type": "stream",
     "text": [
      "Error executing query: (psycopg2.OperationalError) connection to server at \"98.98.117.105\", port 5432 failed: FATAL:  sorry, too many clients already\n",
      "connection to server at \"98.98.117.105\", port 5432 failed: FATAL:  sorry, too many clients already\n",
      "\n",
      "(Background on this error at: https://sqlalche.me/e/20/e3q8)\n",
      "Error executing query: (psycopg2.OperationalError) connection to server at \"98.98.117.105\", port 5432 failed: FATAL:  sorry, too many clients already\n",
      "connection to server at \"98.98.117.105\", port 5432 failed: FATAL:  sorry, too many clients already\n",
      "\n",
      "(Background on this error at: https://sqlalche.me/e/20/e3q8)\n",
      "Error executing query: (psycopg2.OperationalError) connection to server at \"98.98.117.105\", port 5432 failed: FATAL:  sorry, too many clients already\n",
      "connection to server at \"98.98.117.105\", port 5432 failed: FATAL:  sorry, too many clients already\n",
      "\n",
      "(Background on this error at: https://sqlalche.me/e/20/e3q8)\n"
     ]
    },
    {
     "name": "stderr",
     "output_type": "stream",
     "text": [
      " 40%|██████████████████████████████████████████████████████                                                                                | 4032/10000 [08:57<10:18,  9.65it/s]"
     ]
    },
    {
     "name": "stdout",
     "output_type": "stream",
     "text": [
      "Error executing query: (psycopg2.OperationalError) connection to server at \"98.98.117.105\", port 5432 failed: FATAL:  sorry, too many clients already\n",
      "connection to server at \"98.98.117.105\", port 5432 failed: FATAL:  sorry, too many clients already\n",
      "\n",
      "(Background on this error at: https://sqlalche.me/e/20/e3q8)\n",
      "Error executing query: (psycopg2.OperationalError) connection to server at \"98.98.117.105\", port 5432 failed: FATAL:  sorry, too many clients already\n",
      "connection to server at \"98.98.117.105\", port 5432 failed: FATAL:  sorry, too many clients already\n",
      "\n",
      "(Background on this error at: https://sqlalche.me/e/20/e3q8)\n",
      "Error executing query: (psycopg2.OperationalError) connection to server at \"98.98.117.105\", port 5432 failed: FATAL:  sorry, too many clients already\n",
      "connection to server at \"98.98.117.105\", port 5432 failed: FATAL:  sorry, too many clients already\n",
      "\n",
      "(Background on this error at: https://sqlalche.me/e/20/e3q8)\n"
     ]
    },
    {
     "name": "stderr",
     "output_type": "stream",
     "text": [
      " 40%|██████████████████████████████████████████████████████                                                                                | 4034/10000 [08:58<09:37, 10.33it/s]"
     ]
    },
    {
     "name": "stdout",
     "output_type": "stream",
     "text": [
      "Error executing query: (psycopg2.OperationalError) connection to server at \"98.98.117.105\", port 5432 failed: FATAL:  sorry, too many clients already\n",
      "connection to server at \"98.98.117.105\", port 5432 failed: FATAL:  sorry, too many clients already\n",
      "\n",
      "(Background on this error at: https://sqlalche.me/e/20/e3q8)\n",
      "Error executing query: (psycopg2.OperationalError) connection to server at \"98.98.117.105\", port 5432 failed: FATAL:  sorry, too many clients already\n",
      "connection to server at \"98.98.117.105\", port 5432 failed: FATAL:  sorry, too many clients already\n",
      "\n",
      "(Background on this error at: https://sqlalche.me/e/20/e3q8)\n"
     ]
    },
    {
     "name": "stderr",
     "output_type": "stream",
     "text": [
      " 40%|██████████████████████████████████████████████████████                                                                                | 4037/10000 [08:58<10:28,  9.48it/s]"
     ]
    },
    {
     "name": "stdout",
     "output_type": "stream",
     "text": [
      "Error executing query: (psycopg2.OperationalError) connection to server at \"98.98.117.105\", port 5432 failed: FATAL:  sorry, too many clients already\n",
      "connection to server at \"98.98.117.105\", port 5432 failed: FATAL:  sorry, too many clients already\n",
      "\n",
      "(Background on this error at: https://sqlalche.me/e/20/e3q8)\n",
      "Error executing query: (psycopg2.OperationalError) connection to server at \"98.98.117.105\", port 5432 failed: FATAL:  sorry, too many clients already\n",
      "connection to server at \"98.98.117.105\", port 5432 failed: FATAL:  sorry, too many clients already\n",
      "\n",
      "(Background on this error at: https://sqlalche.me/e/20/e3q8)\n"
     ]
    },
    {
     "name": "stderr",
     "output_type": "stream",
     "text": [
      " 41%|██████████████████████████████████████████████████████▍                                                                               | 4060/10000 [09:01<12:19,  8.04it/s]"
     ]
    },
    {
     "name": "stdout",
     "output_type": "stream",
     "text": [
      "Error executing query: (psycopg2.OperationalError) connection to server at \"98.98.117.105\", port 5432 failed: FATAL:  sorry, too many clients already\n",
      "connection to server at \"98.98.117.105\", port 5432 failed: FATAL:  sorry, too many clients already\n",
      "\n",
      "(Background on this error at: https://sqlalche.me/e/20/e3q8)\n"
     ]
    },
    {
     "name": "stderr",
     "output_type": "stream",
     "text": [
      " 41%|██████████████████████████████████████████████████████▍                                                                               | 4063/10000 [09:01<11:41,  8.46it/s]"
     ]
    },
    {
     "name": "stdout",
     "output_type": "stream",
     "text": [
      "Error executing query: (psycopg2.OperationalError) connection to server at \"98.98.117.105\", port 5432 failed: FATAL:  sorry, too many clients already\n",
      "connection to server at \"98.98.117.105\", port 5432 failed: FATAL:  sorry, too many clients already\n",
      "\n",
      "(Background on this error at: https://sqlalche.me/e/20/e3q8)\n"
     ]
    },
    {
     "name": "stderr",
     "output_type": "stream",
     "text": [
      " 41%|██████████████████████████████████████████████████████▍                                                                               | 4066/10000 [09:02<11:51,  8.34it/s]"
     ]
    },
    {
     "name": "stdout",
     "output_type": "stream",
     "text": [
      "Error executing query: (psycopg2.OperationalError) connection to server at \"98.98.117.105\", port 5432 failed: FATAL:  sorry, too many clients already\n",
      "connection to server at \"98.98.117.105\", port 5432 failed: FATAL:  sorry, too many clients already\n",
      "\n",
      "(Background on this error at: https://sqlalche.me/e/20/e3q8)\n"
     ]
    },
    {
     "name": "stderr",
     "output_type": "stream",
     "text": [
      " 41%|██████████████████████████████████████████████████████▌                                                                               | 4068/10000 [09:02<11:29,  8.60it/s]"
     ]
    },
    {
     "name": "stdout",
     "output_type": "stream",
     "text": [
      "Error executing query: (psycopg2.OperationalError) connection to server at \"98.98.117.105\", port 5432 failed: FATAL:  sorry, too many clients already\n",
      "connection to server at \"98.98.117.105\", port 5432 failed: FATAL:  sorry, too many clients already\n",
      "\n",
      "(Background on this error at: https://sqlalche.me/e/20/e3q8)\n",
      "Error executing query: (psycopg2.OperationalError) connection to server at \"98.98.117.105\", port 5432 failed: FATAL:  sorry, too many clients already\n",
      "connection to server at \"98.98.117.105\", port 5432 failed: FATAL:  sorry, too many clients already\n",
      "\n",
      "(Background on this error at: https://sqlalche.me/e/20/e3q8)\n"
     ]
    },
    {
     "name": "stderr",
     "output_type": "stream",
     "text": [
      " 41%|██████████████████████████████████████████████████████▌                                                                               | 4070/10000 [09:02<11:50,  8.34it/s]"
     ]
    },
    {
     "name": "stdout",
     "output_type": "stream",
     "text": [
      "Error executing query: (psycopg2.OperationalError) connection to server at \"98.98.117.105\", port 5432 failed: FATAL:  sorry, too many clients already\n",
      "connection to server at \"98.98.117.105\", port 5432 failed: FATAL:  sorry, too many clients already\n",
      "\n",
      "(Background on this error at: https://sqlalche.me/e/20/e3q8)\n",
      "Error executing query: (psycopg2.OperationalError) connection to server at \"98.98.117.105\", port 5432 failed: FATAL:  sorry, too many clients already\n",
      "connection to server at \"98.98.117.105\", port 5432 failed: FATAL:  sorry, too many clients already\n",
      "\n",
      "(Background on this error at: https://sqlalche.me/e/20/e3q8)\n"
     ]
    },
    {
     "name": "stderr",
     "output_type": "stream",
     "text": [
      " 41%|██████████████████████████████████████████████████████▌                                                                               | 4072/10000 [09:02<11:45,  8.40it/s]"
     ]
    },
    {
     "name": "stdout",
     "output_type": "stream",
     "text": [
      "Error executing query: (psycopg2.OperationalError) connection to server at \"98.98.117.105\", port 5432 failed: FATAL:  sorry, too many clients already\n",
      "connection to server at \"98.98.117.105\", port 5432 failed: FATAL:  sorry, too many clients already\n",
      "\n",
      "(Background on this error at: https://sqlalche.me/e/20/e3q8)\n",
      "Error executing query: (psycopg2.OperationalError) connection to server at \"98.98.117.105\", port 5432 failed: FATAL:  sorry, too many clients already\n",
      "connection to server at \"98.98.117.105\", port 5432 failed: FATAL:  sorry, too many clients already\n",
      "\n",
      "(Background on this error at: https://sqlalche.me/e/20/e3q8)\n"
     ]
    },
    {
     "name": "stderr",
     "output_type": "stream",
     "text": [
      " 41%|██████████████████████████████████████████████████████▌                                                                               | 4074/10000 [09:03<11:33,  8.54it/s]"
     ]
    },
    {
     "name": "stdout",
     "output_type": "stream",
     "text": [
      "Error executing query: (psycopg2.OperationalError) connection to server at \"98.98.117.105\", port 5432 failed: FATAL:  sorry, too many clients already\n",
      "connection to server at \"98.98.117.105\", port 5432 failed: FATAL:  sorry, too many clients already\n",
      "\n",
      "(Background on this error at: https://sqlalche.me/e/20/e3q8)\n",
      "Error executing query: (psycopg2.OperationalError) connection to server at \"98.98.117.105\", port 5432 failed: FATAL:  sorry, too many clients already\n",
      "connection to server at \"98.98.117.105\", port 5432 failed: FATAL:  sorry, too many clients already\n",
      "\n",
      "(Background on this error at: https://sqlalche.me/e/20/e3q8)\n"
     ]
    },
    {
     "name": "stderr",
     "output_type": "stream",
     "text": [
      " 41%|██████████████████████████████████████████████████████▌                                                                               | 4076/10000 [09:03<10:53,  9.07it/s]"
     ]
    },
    {
     "name": "stdout",
     "output_type": "stream",
     "text": [
      "Error executing query: (psycopg2.OperationalError) connection to server at \"98.98.117.105\", port 5432 failed: FATAL:  sorry, too many clients already\n",
      "connection to server at \"98.98.117.105\", port 5432 failed: FATAL:  sorry, too many clients already\n",
      "\n",
      "(Background on this error at: https://sqlalche.me/e/20/e3q8)\n",
      "Error executing query: (psycopg2.OperationalError) connection to server at \"98.98.117.105\", port 5432 failed: FATAL:  sorry, too many clients already\n",
      "connection to server at \"98.98.117.105\", port 5432 failed: FATAL:  sorry, too many clients already\n",
      "\n",
      "(Background on this error at: https://sqlalche.me/e/20/e3q8)\n"
     ]
    },
    {
     "name": "stderr",
     "output_type": "stream",
     "text": [
      " 41%|██████████████████████████████████████████████████████▋                                                                               | 4078/10000 [09:03<11:07,  8.87it/s]"
     ]
    },
    {
     "name": "stdout",
     "output_type": "stream",
     "text": [
      "Error executing query: (psycopg2.OperationalError) connection to server at \"98.98.117.105\", port 5432 failed: FATAL:  sorry, too many clients already\n",
      "connection to server at \"98.98.117.105\", port 5432 failed: FATAL:  sorry, too many clients already\n",
      "\n",
      "(Background on this error at: https://sqlalche.me/e/20/e3q8)\n",
      "Error executing query: (psycopg2.OperationalError) connection to server at \"98.98.117.105\", port 5432 failed: FATAL:  sorry, too many clients already\n",
      "connection to server at \"98.98.117.105\", port 5432 failed: FATAL:  sorry, too many clients already\n",
      "\n",
      "(Background on this error at: https://sqlalche.me/e/20/e3q8)\n"
     ]
    },
    {
     "name": "stderr",
     "output_type": "stream",
     "text": [
      " 41%|██████████████████████████████████████████████████████▉                                                                               | 4101/10000 [09:06<11:41,  8.41it/s]"
     ]
    },
    {
     "name": "stdout",
     "output_type": "stream",
     "text": [
      "Error executing query: (psycopg2.OperationalError) connection to server at \"98.98.117.105\", port 5432 failed: FATAL:  sorry, too many clients already\n",
      "connection to server at \"98.98.117.105\", port 5432 failed: FATAL:  sorry, too many clients already\n",
      "\n",
      "(Background on this error at: https://sqlalche.me/e/20/e3q8)\n"
     ]
    },
    {
     "name": "stderr",
     "output_type": "stream",
     "text": [
      " 41%|██████████████████████████████████████████████████████▉                                                                               | 4104/10000 [09:06<11:37,  8.46it/s]"
     ]
    },
    {
     "name": "stdout",
     "output_type": "stream",
     "text": [
      "Error executing query: (psycopg2.OperationalError) connection to server at \"98.98.117.105\", port 5432 failed: FATAL:  sorry, too many clients already\n",
      "connection to server at \"98.98.117.105\", port 5432 failed: FATAL:  sorry, too many clients already\n",
      "\n",
      "(Background on this error at: https://sqlalche.me/e/20/e3q8)\n"
     ]
    },
    {
     "name": "stderr",
     "output_type": "stream",
     "text": [
      " 41%|███████████████████████████████████████████████████████                                                                               | 4107/10000 [09:07<12:10,  8.07it/s]"
     ]
    },
    {
     "name": "stdout",
     "output_type": "stream",
     "text": [
      "Error executing query: (psycopg2.OperationalError) connection to server at \"98.98.117.105\", port 5432 failed: FATAL:  sorry, too many clients already\n",
      "connection to server at \"98.98.117.105\", port 5432 failed: FATAL:  sorry, too many clients already\n",
      "\n",
      "(Background on this error at: https://sqlalche.me/e/20/e3q8)\n"
     ]
    },
    {
     "name": "stderr",
     "output_type": "stream",
     "text": [
      " 41%|███████████████████████████████████████████████████████                                                                               | 4110/10000 [09:07<10:37,  9.23it/s]"
     ]
    },
    {
     "name": "stdout",
     "output_type": "stream",
     "text": [
      "Error executing query: (psycopg2.OperationalError) connection to server at \"98.98.117.105\", port 5432 failed: FATAL:  sorry, too many clients already\n",
      "connection to server at \"98.98.117.105\", port 5432 failed: FATAL:  sorry, too many clients already\n",
      "\n",
      "(Background on this error at: https://sqlalche.me/e/20/e3q8)\n",
      "Error executing query: (psycopg2.OperationalError) connection to server at \"98.98.117.105\", port 5432 failed: FATAL:  sorry, too many clients already\n",
      "connection to server at \"98.98.117.105\", port 5432 failed: FATAL:  sorry, too many clients already\n",
      "\n",
      "(Background on this error at: https://sqlalche.me/e/20/e3q8)\n",
      "Error executing query: (psycopg2.OperationalError) connection to server at \"98.98.117.105\", port 5432 failed: FATAL:  sorry, too many clients already\n",
      "connection to server at \"98.98.117.105\", port 5432 failed: FATAL:  sorry, too many clients already\n",
      "\n",
      "(Background on this error at: https://sqlalche.me/e/20/e3q8)\n"
     ]
    },
    {
     "name": "stderr",
     "output_type": "stream",
     "text": [
      " 41%|███████████████████████████████████████████████████████                                                                               | 4113/10000 [09:07<09:47, 10.02it/s]"
     ]
    },
    {
     "name": "stdout",
     "output_type": "stream",
     "text": [
      "Error executing query: (psycopg2.OperationalError) connection to server at \"98.98.117.105\", port 5432 failed: FATAL:  sorry, too many clients already\n",
      "connection to server at \"98.98.117.105\", port 5432 failed: FATAL:  sorry, too many clients already\n",
      "\n",
      "(Background on this error at: https://sqlalche.me/e/20/e3q8)\n",
      "Error executing query: (psycopg2.OperationalError) connection to server at \"98.98.117.105\", port 5432 failed: FATAL:  sorry, too many clients already\n",
      "connection to server at \"98.98.117.105\", port 5432 failed: FATAL:  sorry, too many clients already\n",
      "\n",
      "(Background on this error at: https://sqlalche.me/e/20/e3q8)\n",
      "Error executing query: (psycopg2.OperationalError) connection to server at \"98.98.117.105\", port 5432 failed: FATAL:  sorry, too many clients already\n",
      "connection to server at \"98.98.117.105\", port 5432 failed: FATAL:  sorry, too many clients already\n",
      "\n",
      "(Background on this error at: https://sqlalche.me/e/20/e3q8)\n"
     ]
    },
    {
     "name": "stderr",
     "output_type": "stream",
     "text": [
      " 41%|███████████████████████████████████████████████████████▏                                                                              | 4115/10000 [09:08<10:08,  9.67it/s]"
     ]
    },
    {
     "name": "stdout",
     "output_type": "stream",
     "text": [
      "Error executing query: (psycopg2.OperationalError) connection to server at \"98.98.117.105\", port 5432 failed: FATAL:  sorry, too many clients already\n",
      "connection to server at \"98.98.117.105\", port 5432 failed: FATAL:  sorry, too many clients already\n",
      "\n",
      "(Background on this error at: https://sqlalche.me/e/20/e3q8)\n",
      "Error executing query: (psycopg2.OperationalError) connection to server at \"98.98.117.105\", port 5432 failed: FATAL:  sorry, too many clients already\n",
      "connection to server at \"98.98.117.105\", port 5432 failed: FATAL:  sorry, too many clients already\n",
      "\n",
      "(Background on this error at: https://sqlalche.me/e/20/e3q8)\n"
     ]
    },
    {
     "name": "stderr",
     "output_type": "stream",
     "text": [
      " 41%|███████████████████████████████████████████████████████▏                                                                              | 4118/10000 [09:08<09:55,  9.87it/s]"
     ]
    },
    {
     "name": "stdout",
     "output_type": "stream",
     "text": [
      "Error executing query: (psycopg2.OperationalError) connection to server at \"98.98.117.105\", port 5432 failed: FATAL:  sorry, too many clients already\n",
      "connection to server at \"98.98.117.105\", port 5432 failed: FATAL:  sorry, too many clients already\n",
      "\n",
      "(Background on this error at: https://sqlalche.me/e/20/e3q8)\n",
      "Error executing query: (psycopg2.OperationalError) connection to server at \"98.98.117.105\", port 5432 failed: FATAL:  sorry, too many clients already\n",
      "connection to server at \"98.98.117.105\", port 5432 failed: FATAL:  sorry, too many clients already\n",
      "\n",
      "(Background on this error at: https://sqlalche.me/e/20/e3q8)\n",
      "Error executing query: (psycopg2.OperationalError) connection to server at \"98.98.117.105\", port 5432 failed: FATAL:  sorry, too many clients already\n",
      "connection to server at \"98.98.117.105\", port 5432 failed: FATAL:  sorry, too many clients already\n",
      "\n",
      "(Background on this error at: https://sqlalche.me/e/20/e3q8)\n"
     ]
    },
    {
     "name": "stderr",
     "output_type": "stream",
     "text": [
      " 41%|███████████████████████████████████████████████████████▏                                                                              | 4120/10000 [09:08<10:56,  8.95it/s]"
     ]
    },
    {
     "name": "stdout",
     "output_type": "stream",
     "text": [
      "Error executing query: (psycopg2.OperationalError) connection to server at \"98.98.117.105\", port 5432 failed: FATAL:  sorry, too many clients already\n",
      "connection to server at \"98.98.117.105\", port 5432 failed: FATAL:  sorry, too many clients already\n",
      "\n",
      "(Background on this error at: https://sqlalche.me/e/20/e3q8)\n"
     ]
    },
    {
     "name": "stderr",
     "output_type": "stream",
     "text": [
      " 41%|███████████████████████████████████████████████████████▌                                                                              | 4142/10000 [09:11<12:39,  7.71it/s]"
     ]
    },
    {
     "name": "stdout",
     "output_type": "stream",
     "text": [
      "Error executing query: (psycopg2.OperationalError) connection to server at \"98.98.117.105\", port 5432 failed: FATAL:  sorry, too many clients already\n",
      "connection to server at \"98.98.117.105\", port 5432 failed: FATAL:  sorry, too many clients already\n",
      "\n",
      "(Background on this error at: https://sqlalche.me/e/20/e3q8)\n"
     ]
    },
    {
     "name": "stderr",
     "output_type": "stream",
     "text": [
      " 41%|███████████████████████████████████████████████████████▌                                                                              | 4145/10000 [09:11<12:06,  8.06it/s]"
     ]
    },
    {
     "name": "stdout",
     "output_type": "stream",
     "text": [
      "Error executing query: (psycopg2.OperationalError) connection to server at \"98.98.117.105\", port 5432 failed: FATAL:  sorry, too many clients already\n",
      "connection to server at \"98.98.117.105\", port 5432 failed: FATAL:  sorry, too many clients already\n",
      "\n",
      "(Background on this error at: https://sqlalche.me/e/20/e3q8)\n"
     ]
    },
    {
     "name": "stderr",
     "output_type": "stream",
     "text": [
      " 41%|███████████████████████████████████████████████████████▌                                                                              | 4148/10000 [09:12<12:06,  8.06it/s]"
     ]
    },
    {
     "name": "stdout",
     "output_type": "stream",
     "text": [
      "Error executing query: (psycopg2.OperationalError) connection to server at \"98.98.117.105\", port 5432 failed: FATAL:  sorry, too many clients already\n",
      "connection to server at \"98.98.117.105\", port 5432 failed: FATAL:  sorry, too many clients already\n",
      "\n",
      "(Background on this error at: https://sqlalche.me/e/20/e3q8)\n"
     ]
    },
    {
     "name": "stderr",
     "output_type": "stream",
     "text": [
      " 42%|███████████████████████████████████████████████████████▌                                                                              | 4151/10000 [09:12<10:33,  9.24it/s]"
     ]
    },
    {
     "name": "stdout",
     "output_type": "stream",
     "text": [
      "Error executing query: (psycopg2.OperationalError) connection to server at \"98.98.117.105\", port 5432 failed: FATAL:  sorry, too many clients already\n",
      "connection to server at \"98.98.117.105\", port 5432 failed: FATAL:  sorry, too many clients already\n",
      "\n",
      "(Background on this error at: https://sqlalche.me/e/20/e3q8)\n",
      "Error executing query: (psycopg2.OperationalError) connection to server at \"98.98.117.105\", port 5432 failed: FATAL:  sorry, too many clients already\n",
      "connection to server at \"98.98.117.105\", port 5432 failed: FATAL:  sorry, too many clients already\n",
      "\n",
      "(Background on this error at: https://sqlalche.me/e/20/e3q8)\n",
      "Error executing query: (psycopg2.OperationalError) connection to server at \"98.98.117.105\", port 5432 failed: FATAL:  sorry, too many clients already\n",
      "connection to server at \"98.98.117.105\", port 5432 failed: FATAL:  sorry, too many clients already\n",
      "\n",
      "(Background on this error at: https://sqlalche.me/e/20/e3q8)\n"
     ]
    },
    {
     "name": "stderr",
     "output_type": "stream",
     "text": [
      " 42%|███████████████████████████████████████████████████████▋                                                                              | 4153/10000 [09:12<10:55,  8.92it/s]"
     ]
    },
    {
     "name": "stdout",
     "output_type": "stream",
     "text": [
      "Error executing query: (psycopg2.OperationalError) connection to server at \"98.98.117.105\", port 5432 failed: FATAL:  sorry, too many clients already\n",
      "connection to server at \"98.98.117.105\", port 5432 failed: FATAL:  sorry, too many clients already\n",
      "\n",
      "(Background on this error at: https://sqlalche.me/e/20/e3q8)\n",
      "Error executing query: (psycopg2.OperationalError) connection to server at \"98.98.117.105\", port 5432 failed: FATAL:  sorry, too many clients already\n",
      "connection to server at \"98.98.117.105\", port 5432 failed: FATAL:  sorry, too many clients already\n",
      "\n",
      "(Background on this error at: https://sqlalche.me/e/20/e3q8)\n"
     ]
    },
    {
     "name": "stderr",
     "output_type": "stream",
     "text": [
      " 42%|███████████████████████████████████████████████████████▋                                                                              | 4155/10000 [09:12<10:59,  8.86it/s]"
     ]
    },
    {
     "name": "stdout",
     "output_type": "stream",
     "text": [
      "Error executing query: (psycopg2.OperationalError) connection to server at \"98.98.117.105\", port 5432 failed: FATAL:  sorry, too many clients already\n",
      "connection to server at \"98.98.117.105\", port 5432 failed: FATAL:  sorry, too many clients already\n",
      "\n",
      "(Background on this error at: https://sqlalche.me/e/20/e3q8)\n",
      "Error executing query: (psycopg2.OperationalError) connection to server at \"98.98.117.105\", port 5432 failed: FATAL:  sorry, too many clients already\n",
      "connection to server at \"98.98.117.105\", port 5432 failed: FATAL:  sorry, too many clients already\n",
      "\n",
      "(Background on this error at: https://sqlalche.me/e/20/e3q8)\n"
     ]
    },
    {
     "name": "stderr",
     "output_type": "stream",
     "text": [
      " 42%|███████████████████████████████████████████████████████▋                                                                              | 4157/10000 [09:13<10:41,  9.10it/s]"
     ]
    },
    {
     "name": "stdout",
     "output_type": "stream",
     "text": [
      "Error executing query: (psycopg2.OperationalError) connection to server at \"98.98.117.105\", port 5432 failed: FATAL:  sorry, too many clients already\n",
      "connection to server at \"98.98.117.105\", port 5432 failed: FATAL:  sorry, too many clients already\n",
      "\n",
      "(Background on this error at: https://sqlalche.me/e/20/e3q8)\n",
      "Error executing query: (psycopg2.OperationalError) connection to server at \"98.98.117.105\", port 5432 failed: FATAL:  sorry, too many clients already\n",
      "connection to server at \"98.98.117.105\", port 5432 failed: FATAL:  sorry, too many clients already\n",
      "\n",
      "(Background on this error at: https://sqlalche.me/e/20/e3q8)\n"
     ]
    },
    {
     "name": "stderr",
     "output_type": "stream",
     "text": [
      " 42%|███████████████████████████████████████████████████████▋                                                                              | 4159/10000 [09:13<10:31,  9.24it/s]"
     ]
    },
    {
     "name": "stdout",
     "output_type": "stream",
     "text": [
      "Error executing query: (psycopg2.OperationalError) connection to server at \"98.98.117.105\", port 5432 failed: FATAL:  sorry, too many clients already\n",
      "connection to server at \"98.98.117.105\", port 5432 failed: FATAL:  sorry, too many clients already\n",
      "\n",
      "(Background on this error at: https://sqlalche.me/e/20/e3q8)\n",
      "Error executing query: (psycopg2.OperationalError) connection to server at \"98.98.117.105\", port 5432 failed: FATAL:  sorry, too many clients already\n",
      "connection to server at \"98.98.117.105\", port 5432 failed: FATAL:  sorry, too many clients already\n",
      "\n",
      "(Background on this error at: https://sqlalche.me/e/20/e3q8)\n"
     ]
    },
    {
     "name": "stderr",
     "output_type": "stream",
     "text": [
      " 42%|███████████████████████████████████████████████████████▊                                                                              | 4161/10000 [09:13<11:06,  8.76it/s]"
     ]
    },
    {
     "name": "stdout",
     "output_type": "stream",
     "text": [
      "Error executing query: (psycopg2.OperationalError) connection to server at \"98.98.117.105\", port 5432 failed: FATAL:  sorry, too many clients already\n",
      "connection to server at \"98.98.117.105\", port 5432 failed: FATAL:  sorry, too many clients already\n",
      "\n",
      "(Background on this error at: https://sqlalche.me/e/20/e3q8)\n"
     ]
    },
    {
     "name": "stderr",
     "output_type": "stream",
     "text": [
      " 42%|████████████████████████████████████████████████████████                                                                              | 4183/10000 [09:16<12:15,  7.91it/s]"
     ]
    },
    {
     "name": "stdout",
     "output_type": "stream",
     "text": [
      "Error executing query: (psycopg2.OperationalError) connection to server at \"98.98.117.105\", port 5432 failed: FATAL:  sorry, too many clients already\n",
      "connection to server at \"98.98.117.105\", port 5432 failed: FATAL:  sorry, too many clients already\n",
      "\n",
      "(Background on this error at: https://sqlalche.me/e/20/e3q8)\n"
     ]
    },
    {
     "name": "stderr",
     "output_type": "stream",
     "text": [
      " 42%|████████████████████████████████████████████████████████                                                                              | 4186/10000 [09:16<11:34,  8.37it/s]"
     ]
    },
    {
     "name": "stdout",
     "output_type": "stream",
     "text": [
      "Error executing query: (psycopg2.OperationalError) connection to server at \"98.98.117.105\", port 5432 failed: FATAL:  sorry, too many clients already\n",
      "connection to server at \"98.98.117.105\", port 5432 failed: FATAL:  sorry, too many clients already\n",
      "\n",
      "(Background on this error at: https://sqlalche.me/e/20/e3q8)\n"
     ]
    },
    {
     "name": "stderr",
     "output_type": "stream",
     "text": [
      " 42%|████████████████████████████████████████████████████████▏                                                                             | 4189/10000 [09:17<11:24,  8.49it/s]"
     ]
    },
    {
     "name": "stdout",
     "output_type": "stream",
     "text": [
      "Error executing query: (psycopg2.OperationalError) connection to server at \"98.98.117.105\", port 5432 failed: FATAL:  sorry, too many clients already\n",
      "connection to server at \"98.98.117.105\", port 5432 failed: FATAL:  sorry, too many clients already\n",
      "\n",
      "(Background on this error at: https://sqlalche.me/e/20/e3q8)\n"
     ]
    },
    {
     "name": "stderr",
     "output_type": "stream",
     "text": [
      " 42%|████████████████████████████████████████████████████████▏                                                                             | 4191/10000 [09:17<11:02,  8.77it/s]"
     ]
    },
    {
     "name": "stdout",
     "output_type": "stream",
     "text": [
      "Error executing query: (psycopg2.OperationalError) connection to server at \"98.98.117.105\", port 5432 failed: FATAL:  sorry, too many clients already\n",
      "connection to server at \"98.98.117.105\", port 5432 failed: FATAL:  sorry, too many clients already\n",
      "\n",
      "(Background on this error at: https://sqlalche.me/e/20/e3q8)\n",
      "Error executing query: (psycopg2.OperationalError) connection to server at \"98.98.117.105\", port 5432 failed: FATAL:  sorry, too many clients already\n",
      "connection to server at \"98.98.117.105\", port 5432 failed: FATAL:  sorry, too many clients already\n",
      "\n",
      "(Background on this error at: https://sqlalche.me/e/20/e3q8)\n"
     ]
    },
    {
     "name": "stderr",
     "output_type": "stream",
     "text": [
      " 42%|████████████████████████████████████████████████████████▏                                                                             | 4194/10000 [09:17<10:25,  9.28it/s]"
     ]
    },
    {
     "name": "stdout",
     "output_type": "stream",
     "text": [
      "Error executing query: (psycopg2.OperationalError) connection to server at \"98.98.117.105\", port 5432 failed: FATAL:  sorry, too many clients already\n",
      "connection to server at \"98.98.117.105\", port 5432 failed: FATAL:  sorry, too many clients already\n",
      "\n",
      "(Background on this error at: https://sqlalche.me/e/20/e3q8)\n",
      "Error executing query: (psycopg2.OperationalError) connection to server at \"98.98.117.105\", port 5432 failed: FATAL:  sorry, too many clients already\n",
      "connection to server at \"98.98.117.105\", port 5432 failed: FATAL:  sorry, too many clients already\n",
      "\n",
      "(Background on this error at: https://sqlalche.me/e/20/e3q8)\n",
      "Error executing query: (psycopg2.OperationalError) connection to server at \"98.98.117.105\", port 5432 failed: FATAL:  sorry, too many clients already\n",
      "connection to server at \"98.98.117.105\", port 5432 failed: FATAL:  sorry, too many clients already\n",
      "\n",
      "(Background on this error at: https://sqlalche.me/e/20/e3q8)\n"
     ]
    },
    {
     "name": "stderr",
     "output_type": "stream",
     "text": [
      " 42%|████████████████████████████████████████████████████████▏                                                                             | 4196/10000 [09:17<10:22,  9.33it/s]"
     ]
    },
    {
     "name": "stdout",
     "output_type": "stream",
     "text": [
      "Error executing query: (psycopg2.OperationalError) connection to server at \"98.98.117.105\", port 5432 failed: FATAL:  sorry, too many clients already\n",
      "connection to server at \"98.98.117.105\", port 5432 failed: FATAL:  sorry, too many clients already\n",
      "\n",
      "(Background on this error at: https://sqlalche.me/e/20/e3q8)\n",
      "Error executing query: (psycopg2.OperationalError) connection to server at \"98.98.117.105\", port 5432 failed: FATAL:  sorry, too many clients already\n",
      "connection to server at \"98.98.117.105\", port 5432 failed: FATAL:  sorry, too many clients already\n",
      "\n",
      "(Background on this error at: https://sqlalche.me/e/20/e3q8)\n"
     ]
    },
    {
     "name": "stderr",
     "output_type": "stream",
     "text": [
      " 42%|████████████████████████████████████████████████████████▎                                                                             | 4198/10000 [09:18<10:22,  9.32it/s]"
     ]
    },
    {
     "name": "stdout",
     "output_type": "stream",
     "text": [
      "Error executing query: (psycopg2.OperationalError) connection to server at \"98.98.117.105\", port 5432 failed: FATAL:  sorry, too many clients already\n",
      "connection to server at \"98.98.117.105\", port 5432 failed: FATAL:  sorry, too many clients already\n",
      "\n",
      "(Background on this error at: https://sqlalche.me/e/20/e3q8)\n",
      "Error executing query: (psycopg2.OperationalError) connection to server at \"98.98.117.105\", port 5432 failed: FATAL:  sorry, too many clients already\n",
      "connection to server at \"98.98.117.105\", port 5432 failed: FATAL:  sorry, too many clients already\n",
      "\n",
      "(Background on this error at: https://sqlalche.me/e/20/e3q8)\n"
     ]
    },
    {
     "name": "stderr",
     "output_type": "stream",
     "text": [
      " 42%|████████████████████████████████████████████████████████▎                                                                             | 4201/10000 [09:18<09:51,  9.81it/s]"
     ]
    },
    {
     "name": "stdout",
     "output_type": "stream",
     "text": [
      "Error executing query: (psycopg2.OperationalError) connection to server at \"98.98.117.105\", port 5432 failed: FATAL:  sorry, too many clients already\n",
      "connection to server at \"98.98.117.105\", port 5432 failed: FATAL:  sorry, too many clients already\n",
      "\n",
      "(Background on this error at: https://sqlalche.me/e/20/e3q8)\n",
      "Error executing query: (psycopg2.OperationalError) connection to server at \"98.98.117.105\", port 5432 failed: FATAL:  sorry, too many clients already\n",
      "connection to server at \"98.98.117.105\", port 5432 failed: FATAL:  sorry, too many clients already\n",
      "\n",
      "(Background on this error at: https://sqlalche.me/e/20/e3q8)\n",
      "Error executing query: (psycopg2.OperationalError) connection to server at \"98.98.117.105\", port 5432 failed: FATAL:  sorry, too many clients already\n",
      "connection to server at \"98.98.117.105\", port 5432 failed: FATAL:  sorry, too many clients already\n",
      "\n",
      "(Background on this error at: https://sqlalche.me/e/20/e3q8)\n"
     ]
    },
    {
     "name": "stderr",
     "output_type": "stream",
     "text": [
      " 42%|████████████████████████████████████████████████████████▌                                                                             | 4224/10000 [09:21<12:15,  7.85it/s]"
     ]
    },
    {
     "name": "stdout",
     "output_type": "stream",
     "text": [
      "Error executing query: (psycopg2.OperationalError) connection to server at \"98.98.117.105\", port 5432 failed: FATAL:  sorry, too many clients already\n",
      "connection to server at \"98.98.117.105\", port 5432 failed: FATAL:  sorry, too many clients already\n",
      "\n",
      "(Background on this error at: https://sqlalche.me/e/20/e3q8)\n"
     ]
    },
    {
     "name": "stderr",
     "output_type": "stream",
     "text": [
      " 42%|████████████████████████████████████████████████████████▋                                                                             | 4227/10000 [09:21<12:02,  8.00it/s]"
     ]
    },
    {
     "name": "stdout",
     "output_type": "stream",
     "text": [
      "Error executing query: (psycopg2.OperationalError) connection to server at \"98.98.117.105\", port 5432 failed: FATAL:  sorry, too many clients already\n",
      "connection to server at \"98.98.117.105\", port 5432 failed: FATAL:  sorry, too many clients already\n",
      "\n",
      "(Background on this error at: https://sqlalche.me/e/20/e3q8)\n"
     ]
    },
    {
     "name": "stderr",
     "output_type": "stream",
     "text": [
      " 42%|████████████████████████████████████████████████████████▋                                                                             | 4230/10000 [09:22<11:55,  8.06it/s]"
     ]
    },
    {
     "name": "stdout",
     "output_type": "stream",
     "text": [
      "Error executing query: (psycopg2.OperationalError) connection to server at \"98.98.117.105\", port 5432 failed: FATAL:  sorry, too many clients already\n",
      "connection to server at \"98.98.117.105\", port 5432 failed: FATAL:  sorry, too many clients already\n",
      "\n",
      "(Background on this error at: https://sqlalche.me/e/20/e3q8)\n"
     ]
    },
    {
     "name": "stderr",
     "output_type": "stream",
     "text": [
      " 42%|████████████████████████████████████████████████████████▋                                                                             | 4232/10000 [09:22<11:26,  8.41it/s]"
     ]
    },
    {
     "name": "stdout",
     "output_type": "stream",
     "text": [
      "Error executing query: (psycopg2.OperationalError) connection to server at \"98.98.117.105\", port 5432 failed: FATAL:  sorry, too many clients already\n",
      "connection to server at \"98.98.117.105\", port 5432 failed: FATAL:  sorry, too many clients already\n",
      "\n",
      "(Background on this error at: https://sqlalche.me/e/20/e3q8)\n",
      "Error executing query: (psycopg2.OperationalError) connection to server at \"98.98.117.105\", port 5432 failed: FATAL:  sorry, too many clients already\n",
      "connection to server at \"98.98.117.105\", port 5432 failed: FATAL:  sorry, too many clients already\n",
      "\n",
      "(Background on this error at: https://sqlalche.me/e/20/e3q8)\n"
     ]
    },
    {
     "name": "stderr",
     "output_type": "stream",
     "text": [
      " 42%|████████████████████████████████████████████████████████▋                                                                             | 4233/10000 [09:22<11:19,  8.49it/s]"
     ]
    },
    {
     "name": "stdout",
     "output_type": "stream",
     "text": [
      "Error executing query: (psycopg2.OperationalError) connection to server at \"98.98.117.105\", port 5432 failed: FATAL:  sorry, too many clients already\n",
      "connection to server at \"98.98.117.105\", port 5432 failed: FATAL:  sorry, too many clients already\n",
      "\n",
      "(Background on this error at: https://sqlalche.me/e/20/e3q8)\n",
      "Error executing query: (psycopg2.OperationalError) connection to server at \"98.98.117.105\", port 5432 failed: FATAL:  sorry, too many clients already\n",
      "connection to server at \"98.98.117.105\", port 5432 failed: FATAL:  sorry, too many clients already\n",
      "\n",
      "(Background on this error at: https://sqlalche.me/e/20/e3q8)\n"
     ]
    },
    {
     "name": "stderr",
     "output_type": "stream",
     "text": [
      " 42%|████████████████████████████████████████████████████████▊                                                                             | 4236/10000 [09:22<10:59,  8.74it/s]"
     ]
    },
    {
     "name": "stdout",
     "output_type": "stream",
     "text": [
      "Error executing query: (psycopg2.OperationalError) connection to server at \"98.98.117.105\", port 5432 failed: FATAL:  sorry, too many clients already\n",
      "connection to server at \"98.98.117.105\", port 5432 failed: FATAL:  sorry, too many clients already\n",
      "\n",
      "(Background on this error at: https://sqlalche.me/e/20/e3q8)\n",
      "Error executing query: (psycopg2.OperationalError) connection to server at \"98.98.117.105\", port 5432 failed: FATAL:  sorry, too many clients already\n",
      "connection to server at \"98.98.117.105\", port 5432 failed: FATAL:  sorry, too many clients already\n",
      "\n",
      "(Background on this error at: https://sqlalche.me/e/20/e3q8)\n"
     ]
    },
    {
     "name": "stderr",
     "output_type": "stream",
     "text": [
      " 42%|████████████████████████████████████████████████████████▊                                                                             | 4238/10000 [09:22<10:35,  9.06it/s]"
     ]
    },
    {
     "name": "stdout",
     "output_type": "stream",
     "text": [
      "Error executing query: (psycopg2.OperationalError) connection to server at \"98.98.117.105\", port 5432 failed: FATAL:  sorry, too many clients already\n",
      "connection to server at \"98.98.117.105\", port 5432 failed: FATAL:  sorry, too many clients already\n",
      "\n",
      "(Background on this error at: https://sqlalche.me/e/20/e3q8)\n",
      "Error executing query: (psycopg2.OperationalError) connection to server at \"98.98.117.105\", port 5432 failed: FATAL:  sorry, too many clients already\n",
      "connection to server at \"98.98.117.105\", port 5432 failed: FATAL:  sorry, too many clients already\n",
      "\n",
      "(Background on this error at: https://sqlalche.me/e/20/e3q8)\n"
     ]
    },
    {
     "name": "stderr",
     "output_type": "stream",
     "text": [
      " 42%|████████████████████████████████████████████████████████▊                                                                             | 4240/10000 [09:23<10:35,  9.06it/s]"
     ]
    },
    {
     "name": "stdout",
     "output_type": "stream",
     "text": [
      "Error executing query: (psycopg2.OperationalError) connection to server at \"98.98.117.105\", port 5432 failed: FATAL:  sorry, too many clients already\n",
      "connection to server at \"98.98.117.105\", port 5432 failed: FATAL:  sorry, too many clients already\n",
      "\n",
      "(Background on this error at: https://sqlalche.me/e/20/e3q8)\n",
      "Error executing query: (psycopg2.OperationalError) connection to server at \"98.98.117.105\", port 5432 failed: FATAL:  sorry, too many clients already\n",
      "connection to server at \"98.98.117.105\", port 5432 failed: FATAL:  sorry, too many clients already\n",
      "\n",
      "(Background on this error at: https://sqlalche.me/e/20/e3q8)\n"
     ]
    },
    {
     "name": "stderr",
     "output_type": "stream",
     "text": [
      " 42%|████████████████████████████████████████████████████████▊                                                                             | 4242/10000 [09:23<10:29,  9.14it/s]"
     ]
    },
    {
     "name": "stdout",
     "output_type": "stream",
     "text": [
      "Error executing query: (psycopg2.OperationalError) connection to server at \"98.98.117.105\", port 5432 failed: FATAL:  sorry, too many clients already\n",
      "connection to server at \"98.98.117.105\", port 5432 failed: FATAL:  sorry, too many clients already\n",
      "\n",
      "(Background on this error at: https://sqlalche.me/e/20/e3q8)\n",
      "Error executing query: (psycopg2.OperationalError) connection to server at \"98.98.117.105\", port 5432 failed: FATAL:  sorry, too many clients already\n",
      "connection to server at \"98.98.117.105\", port 5432 failed: FATAL:  sorry, too many clients already\n",
      "\n",
      "(Background on this error at: https://sqlalche.me/e/20/e3q8)\n"
     ]
    },
    {
     "name": "stderr",
     "output_type": "stream",
     "text": [
      " 43%|█████████████████████████████████████████████████████████▏                                                                            | 4265/10000 [09:26<11:40,  8.18it/s]"
     ]
    },
    {
     "name": "stdout",
     "output_type": "stream",
     "text": [
      "Error executing query: (psycopg2.OperationalError) connection to server at \"98.98.117.105\", port 5432 failed: FATAL:  sorry, too many clients already\n",
      "connection to server at \"98.98.117.105\", port 5432 failed: FATAL:  sorry, too many clients already\n",
      "\n",
      "(Background on this error at: https://sqlalche.me/e/20/e3q8)\n"
     ]
    },
    {
     "name": "stderr",
     "output_type": "stream",
     "text": [
      " 43%|█████████████████████████████████████████████████████████▏                                                                            | 4268/10000 [09:26<12:17,  7.77it/s]"
     ]
    },
    {
     "name": "stdout",
     "output_type": "stream",
     "text": [
      "Error executing query: (psycopg2.OperationalError) connection to server at \"98.98.117.105\", port 5432 failed: FATAL:  sorry, too many clients already\n",
      "connection to server at \"98.98.117.105\", port 5432 failed: FATAL:  sorry, too many clients already\n",
      "\n",
      "(Background on this error at: https://sqlalche.me/e/20/e3q8)\n"
     ]
    },
    {
     "name": "stderr",
     "output_type": "stream",
     "text": [
      " 43%|█████████████████████████████████████████████████████████▏                                                                            | 4271/10000 [09:27<10:39,  8.96it/s]"
     ]
    },
    {
     "name": "stdout",
     "output_type": "stream",
     "text": [
      "Error executing query: (psycopg2.OperationalError) connection to server at \"98.98.117.105\", port 5432 failed: FATAL:  sorry, too many clients already\n",
      "connection to server at \"98.98.117.105\", port 5432 failed: FATAL:  sorry, too many clients already\n",
      "\n",
      "(Background on this error at: https://sqlalche.me/e/20/e3q8)\n"
     ]
    },
    {
     "name": "stderr",
     "output_type": "stream",
     "text": [
      " 43%|█████████████████████████████████████████████████████████▎                                                                            | 4274/10000 [09:27<10:01,  9.52it/s]"
     ]
    },
    {
     "name": "stdout",
     "output_type": "stream",
     "text": [
      "Error executing query: (psycopg2.OperationalError) connection to server at \"98.98.117.105\", port 5432 failed: FATAL:  sorry, too many clients already\n",
      "connection to server at \"98.98.117.105\", port 5432 failed: FATAL:  sorry, too many clients already\n",
      "\n",
      "(Background on this error at: https://sqlalche.me/e/20/e3q8)\n",
      "Error executing query: (psycopg2.OperationalError) connection to server at \"98.98.117.105\", port 5432 failed: FATAL:  sorry, too many clients already\n",
      "connection to server at \"98.98.117.105\", port 5432 failed: FATAL:  sorry, too many clients already\n",
      "\n",
      "(Background on this error at: https://sqlalche.me/e/20/e3q8)\n",
      "Error executing query: (psycopg2.OperationalError) connection to server at \"98.98.117.105\", port 5432 failed: FATAL:  sorry, too many clients already\n",
      "connection to server at \"98.98.117.105\", port 5432 failed: FATAL:  sorry, too many clients already\n",
      "\n",
      "(Background on this error at: https://sqlalche.me/e/20/e3q8)\n"
     ]
    },
    {
     "name": "stderr",
     "output_type": "stream",
     "text": [
      " 43%|█████████████████████████████████████████████████████████▎                                                                            | 4276/10000 [09:27<09:58,  9.56it/s]"
     ]
    },
    {
     "name": "stdout",
     "output_type": "stream",
     "text": [
      "Error executing query: (psycopg2.OperationalError) connection to server at \"98.98.117.105\", port 5432 failed: FATAL:  sorry, too many clients already\n",
      "connection to server at \"98.98.117.105\", port 5432 failed: FATAL:  sorry, too many clients already\n",
      "\n",
      "(Background on this error at: https://sqlalche.me/e/20/e3q8)\n",
      "Error executing query: (psycopg2.OperationalError) connection to server at \"98.98.117.105\", port 5432 failed: FATAL:  sorry, too many clients already\n",
      "connection to server at \"98.98.117.105\", port 5432 failed: FATAL:  sorry, too many clients already\n",
      "\n",
      "(Background on this error at: https://sqlalche.me/e/20/e3q8)\n",
      "Error executing query: (psycopg2.OperationalError) connection to server at \"98.98.117.105\", port 5432 failed: FATAL:  sorry, too many clients already\n",
      "connection to server at \"98.98.117.105\", port 5432 failed: FATAL:  sorry, too many clients already\n",
      "\n",
      "(Background on this error at: https://sqlalche.me/e/20/e3q8)\n"
     ]
    },
    {
     "name": "stderr",
     "output_type": "stream",
     "text": [
      " 43%|█████████████████████████████████████████████████████████▎                                                                            | 4279/10000 [09:27<09:35,  9.95it/s]"
     ]
    },
    {
     "name": "stdout",
     "output_type": "stream",
     "text": [
      "Error executing query: (psycopg2.OperationalError) connection to server at \"98.98.117.105\", port 5432 failed: FATAL:  sorry, too many clients already\n",
      "connection to server at \"98.98.117.105\", port 5432 failed: FATAL:  sorry, too many clients already\n",
      "\n",
      "(Background on this error at: https://sqlalche.me/e/20/e3q8)\n",
      "Error executing query: (psycopg2.OperationalError) connection to server at \"98.98.117.105\", port 5432 failed: FATAL:  sorry, too many clients already\n",
      "connection to server at \"98.98.117.105\", port 5432 failed: FATAL:  sorry, too many clients already\n",
      "\n",
      "(Background on this error at: https://sqlalche.me/e/20/e3q8)\n"
     ]
    },
    {
     "name": "stderr",
     "output_type": "stream",
     "text": [
      " 43%|█████████████████████████████████████████████████████████▎                                                                            | 4281/10000 [09:28<09:45,  9.76it/s]"
     ]
    },
    {
     "name": "stdout",
     "output_type": "stream",
     "text": [
      "Error executing query: (psycopg2.OperationalError) connection to server at \"98.98.117.105\", port 5432 failed: FATAL:  sorry, too many clients already\n",
      "connection to server at \"98.98.117.105\", port 5432 failed: FATAL:  sorry, too many clients already\n",
      "\n",
      "(Background on this error at: https://sqlalche.me/e/20/e3q8)\n",
      "Error executing query: (psycopg2.OperationalError) connection to server at \"98.98.117.105\", port 5432 failed: FATAL:  sorry, too many clients already\n",
      "connection to server at \"98.98.117.105\", port 5432 failed: FATAL:  sorry, too many clients already\n",
      "\n",
      "(Background on this error at: https://sqlalche.me/e/20/e3q8)\n"
     ]
    },
    {
     "name": "stderr",
     "output_type": "stream",
     "text": [
      " 43%|█████████████████████████████████████████████████████████▍                                                                            | 4283/10000 [09:28<10:14,  9.31it/s]"
     ]
    },
    {
     "name": "stdout",
     "output_type": "stream",
     "text": [
      "Error executing query: (psycopg2.OperationalError) connection to server at \"98.98.117.105\", port 5432 failed: FATAL:  sorry, too many clients already\n",
      "connection to server at \"98.98.117.105\", port 5432 failed: FATAL:  sorry, too many clients already\n",
      "\n",
      "(Background on this error at: https://sqlalche.me/e/20/e3q8)\n",
      "Error executing query: (psycopg2.OperationalError) connection to server at \"98.98.117.105\", port 5432 failed: FATAL:  sorry, too many clients already\n",
      "connection to server at \"98.98.117.105\", port 5432 failed: FATAL:  sorry, too many clients already\n",
      "\n",
      "(Background on this error at: https://sqlalche.me/e/20/e3q8)\n"
     ]
    },
    {
     "name": "stderr",
     "output_type": "stream",
     "text": [
      " 43%|█████████████████████████████████████████████████████████▋                                                                            | 4306/10000 [09:31<12:02,  7.88it/s]"
     ]
    },
    {
     "name": "stdout",
     "output_type": "stream",
     "text": [
      "Error executing query: (psycopg2.OperationalError) connection to server at \"98.98.117.105\", port 5432 failed: FATAL:  sorry, too many clients already\n",
      "connection to server at \"98.98.117.105\", port 5432 failed: FATAL:  sorry, too many clients already\n",
      "\n",
      "(Background on this error at: https://sqlalche.me/e/20/e3q8)\n"
     ]
    },
    {
     "name": "stderr",
     "output_type": "stream",
     "text": [
      " 43%|█████████████████████████████████████████████████████████▋                                                                            | 4309/10000 [09:31<11:44,  8.08it/s]"
     ]
    },
    {
     "name": "stdout",
     "output_type": "stream",
     "text": [
      "Error executing query: (psycopg2.OperationalError) connection to server at \"98.98.117.105\", port 5432 failed: FATAL:  sorry, too many clients already\n",
      "connection to server at \"98.98.117.105\", port 5432 failed: FATAL:  sorry, too many clients already\n",
      "\n",
      "(Background on this error at: https://sqlalche.me/e/20/e3q8)\n"
     ]
    },
    {
     "name": "stderr",
     "output_type": "stream",
     "text": [
      " 43%|█████████████████████████████████████████████████████████▊                                                                            | 4312/10000 [09:31<11:40,  8.12it/s]"
     ]
    },
    {
     "name": "stdout",
     "output_type": "stream",
     "text": [
      "Error executing query: (psycopg2.OperationalError) connection to server at \"98.98.117.105\", port 5432 failed: FATAL:  sorry, too many clients already\n",
      "connection to server at \"98.98.117.105\", port 5432 failed: FATAL:  sorry, too many clients already\n",
      "\n",
      "(Background on this error at: https://sqlalche.me/e/20/e3q8)\n",
      "Error executing query: (psycopg2.OperationalError) connection to server at \"98.98.117.105\", port 5432 failed: FATAL:  sorry, too many clients already\n",
      "connection to server at \"98.98.117.105\", port 5432 failed: FATAL:  sorry, too many clients already\n",
      "\n",
      "(Background on this error at: https://sqlalche.me/e/20/e3q8)\n"
     ]
    },
    {
     "name": "stderr",
     "output_type": "stream",
     "text": [
      " 43%|█████████████████████████████████████████████████████████▊                                                                            | 4315/10000 [09:32<10:08,  9.35it/s]"
     ]
    },
    {
     "name": "stdout",
     "output_type": "stream",
     "text": [
      "Error executing query: (psycopg2.OperationalError) connection to server at \"98.98.117.105\", port 5432 failed: FATAL:  sorry, too many clients already\n",
      "connection to server at \"98.98.117.105\", port 5432 failed: FATAL:  sorry, too many clients already\n",
      "\n",
      "(Background on this error at: https://sqlalche.me/e/20/e3q8)\n",
      "Error executing query: (psycopg2.OperationalError) connection to server at \"98.98.117.105\", port 5432 failed: FATAL:  sorry, too many clients already\n",
      "connection to server at \"98.98.117.105\", port 5432 failed: FATAL:  sorry, too many clients already\n",
      "\n",
      "(Background on this error at: https://sqlalche.me/e/20/e3q8)\n"
     ]
    },
    {
     "name": "stderr",
     "output_type": "stream",
     "text": [
      " 43%|█████████████████████████████████████████████████████████▊                                                                            | 4317/10000 [09:32<10:02,  9.43it/s]"
     ]
    },
    {
     "name": "stdout",
     "output_type": "stream",
     "text": [
      "Error executing query: (psycopg2.OperationalError) connection to server at \"98.98.117.105\", port 5432 failed: FATAL:  sorry, too many clients already\n",
      "connection to server at \"98.98.117.105\", port 5432 failed: FATAL:  sorry, too many clients already\n",
      "\n",
      "(Background on this error at: https://sqlalche.me/e/20/e3q8)\n",
      "Error executing query: (psycopg2.OperationalError) connection to server at \"98.98.117.105\", port 5432 failed: FATAL:  sorry, too many clients already\n",
      "connection to server at \"98.98.117.105\", port 5432 failed: FATAL:  sorry, too many clients already\n",
      "\n",
      "(Background on this error at: https://sqlalche.me/e/20/e3q8)\n"
     ]
    },
    {
     "name": "stderr",
     "output_type": "stream",
     "text": [
      " 43%|█████████████████████████████████████████████████████████▊                                                                            | 4319/10000 [09:32<09:47,  9.67it/s]"
     ]
    },
    {
     "name": "stdout",
     "output_type": "stream",
     "text": [
      "Error executing query: (psycopg2.OperationalError) connection to server at \"98.98.117.105\", port 5432 failed: FATAL:  sorry, too many clients already\n",
      "connection to server at \"98.98.117.105\", port 5432 failed: FATAL:  sorry, too many clients already\n",
      "\n",
      "(Background on this error at: https://sqlalche.me/e/20/e3q8)\n",
      "Error executing query: (psycopg2.OperationalError) connection to server at \"98.98.117.105\", port 5432 failed: FATAL:  sorry, too many clients already\n",
      "connection to server at \"98.98.117.105\", port 5432 failed: FATAL:  sorry, too many clients already\n",
      "\n",
      "(Background on this error at: https://sqlalche.me/e/20/e3q8)\n"
     ]
    },
    {
     "name": "stderr",
     "output_type": "stream",
     "text": [
      " 43%|█████████████████████████████████████████████████████████▉                                                                            | 4321/10000 [09:32<09:54,  9.56it/s]"
     ]
    },
    {
     "name": "stdout",
     "output_type": "stream",
     "text": [
      "Error executing query: (psycopg2.OperationalError) connection to server at \"98.98.117.105\", port 5432 failed: FATAL:  sorry, too many clients already\n",
      "connection to server at \"98.98.117.105\", port 5432 failed: FATAL:  sorry, too many clients already\n",
      "\n",
      "(Background on this error at: https://sqlalche.me/e/20/e3q8)\n",
      "Error executing query: (psycopg2.OperationalError) connection to server at \"98.98.117.105\", port 5432 failed: FATAL:  sorry, too many clients already\n",
      "connection to server at \"98.98.117.105\", port 5432 failed: FATAL:  sorry, too many clients already\n",
      "\n",
      "(Background on this error at: https://sqlalche.me/e/20/e3q8)\n"
     ]
    },
    {
     "name": "stderr",
     "output_type": "stream",
     "text": [
      " 43%|█████████████████████████████████████████████████████████▉                                                                            | 4323/10000 [09:33<10:14,  9.24it/s]"
     ]
    },
    {
     "name": "stdout",
     "output_type": "stream",
     "text": [
      "Error executing query: (psycopg2.OperationalError) connection to server at \"98.98.117.105\", port 5432 failed: FATAL:  sorry, too many clients already\n",
      "connection to server at \"98.98.117.105\", port 5432 failed: FATAL:  sorry, too many clients already\n",
      "\n",
      "(Background on this error at: https://sqlalche.me/e/20/e3q8)\n",
      "Error executing query: (psycopg2.OperationalError) connection to server at \"98.98.117.105\", port 5432 failed: FATAL:  sorry, too many clients already\n",
      "connection to server at \"98.98.117.105\", port 5432 failed: FATAL:  sorry, too many clients already\n",
      "\n",
      "(Background on this error at: https://sqlalche.me/e/20/e3q8)\n"
     ]
    },
    {
     "name": "stderr",
     "output_type": "stream",
     "text": [
      " 43%|█████████████████████████████████████████████████████████▉                                                                            | 4325/10000 [09:33<10:54,  8.67it/s]"
     ]
    },
    {
     "name": "stdout",
     "output_type": "stream",
     "text": [
      "Error executing query: (psycopg2.OperationalError) connection to server at \"98.98.117.105\", port 5432 failed: FATAL:  sorry, too many clients already\n",
      "connection to server at \"98.98.117.105\", port 5432 failed: FATAL:  sorry, too many clients already\n",
      "\n",
      "(Background on this error at: https://sqlalche.me/e/20/e3q8)\n"
     ]
    },
    {
     "name": "stderr",
     "output_type": "stream",
     "text": [
      " 43%|██████████████████████████████████████████████████████████▏                                                                           | 4347/10000 [09:36<11:56,  7.89it/s]"
     ]
    },
    {
     "name": "stdout",
     "output_type": "stream",
     "text": [
      "Error executing query: (psycopg2.OperationalError) connection to server at \"98.98.117.105\", port 5432 failed: FATAL:  sorry, too many clients already\n",
      "connection to server at \"98.98.117.105\", port 5432 failed: FATAL:  sorry, too many clients already\n",
      "\n",
      "(Background on this error at: https://sqlalche.me/e/20/e3q8)\n"
     ]
    },
    {
     "name": "stderr",
     "output_type": "stream",
     "text": [
      " 44%|██████████████████████████████████████████████████████████▎                                                                           | 4350/10000 [09:36<11:24,  8.26it/s]"
     ]
    },
    {
     "name": "stdout",
     "output_type": "stream",
     "text": [
      "Error executing query: (psycopg2.OperationalError) connection to server at \"98.98.117.105\", port 5432 failed: FATAL:  sorry, too many clients already\n",
      "connection to server at \"98.98.117.105\", port 5432 failed: FATAL:  sorry, too many clients already\n",
      "\n",
      "(Background on this error at: https://sqlalche.me/e/20/e3q8)\n"
     ]
    },
    {
     "name": "stderr",
     "output_type": "stream",
     "text": [
      " 44%|██████████████████████████████████████████████████████████▎                                                                           | 4353/10000 [09:36<11:15,  8.36it/s]"
     ]
    },
    {
     "name": "stdout",
     "output_type": "stream",
     "text": [
      "Error executing query: (psycopg2.OperationalError) connection to server at \"98.98.117.105\", port 5432 failed: FATAL:  sorry, too many clients already\n",
      "connection to server at \"98.98.117.105\", port 5432 failed: FATAL:  sorry, too many clients already\n",
      "\n",
      "(Background on this error at: https://sqlalche.me/e/20/e3q8)\n"
     ]
    },
    {
     "name": "stderr",
     "output_type": "stream",
     "text": [
      " 44%|██████████████████████████████████████████████████████████▎                                                                           | 4355/10000 [09:37<10:30,  8.95it/s]"
     ]
    },
    {
     "name": "stdout",
     "output_type": "stream",
     "text": [
      "Error executing query: (psycopg2.OperationalError) connection to server at \"98.98.117.105\", port 5432 failed: FATAL:  sorry, too many clients already\n",
      "connection to server at \"98.98.117.105\", port 5432 failed: FATAL:  sorry, too many clients already\n",
      "\n",
      "(Background on this error at: https://sqlalche.me/e/20/e3q8)\n",
      "Error executing query: (psycopg2.OperationalError) connection to server at \"98.98.117.105\", port 5432 failed: FATAL:  sorry, too many clients already\n",
      "connection to server at \"98.98.117.105\", port 5432 failed: FATAL:  sorry, too many clients already\n",
      "\n",
      "(Background on this error at: https://sqlalche.me/e/20/e3q8)\n"
     ]
    },
    {
     "name": "stderr",
     "output_type": "stream",
     "text": [
      " 44%|██████████████████████████████████████████████████████████▍                                                                           | 4357/10000 [09:37<10:15,  9.16it/s]"
     ]
    },
    {
     "name": "stdout",
     "output_type": "stream",
     "text": [
      "Error executing query: (psycopg2.OperationalError) connection to server at \"98.98.117.105\", port 5432 failed: FATAL:  sorry, too many clients already\n",
      "connection to server at \"98.98.117.105\", port 5432 failed: FATAL:  sorry, too many clients already\n",
      "\n",
      "(Background on this error at: https://sqlalche.me/e/20/e3q8)\n",
      "Error executing query: (psycopg2.OperationalError) connection to server at \"98.98.117.105\", port 5432 failed: FATAL:  sorry, too many clients already\n",
      "connection to server at \"98.98.117.105\", port 5432 failed: FATAL:  sorry, too many clients already\n",
      "\n",
      "(Background on this error at: https://sqlalche.me/e/20/e3q8)\n"
     ]
    },
    {
     "name": "stderr",
     "output_type": "stream",
     "text": [
      " 44%|██████████████████████████████████████████████████████████▍                                                                           | 4359/10000 [09:37<10:16,  9.15it/s]"
     ]
    },
    {
     "name": "stdout",
     "output_type": "stream",
     "text": [
      "Error executing query: (psycopg2.OperationalError) connection to server at \"98.98.117.105\", port 5432 failed: FATAL:  sorry, too many clients already\n",
      "connection to server at \"98.98.117.105\", port 5432 failed: FATAL:  sorry, too many clients already\n",
      "\n",
      "(Background on this error at: https://sqlalche.me/e/20/e3q8)\n",
      "Error executing query: (psycopg2.OperationalError) connection to server at \"98.98.117.105\", port 5432 failed: FATAL:  sorry, too many clients already\n",
      "connection to server at \"98.98.117.105\", port 5432 failed: FATAL:  sorry, too many clients already\n",
      "\n",
      "(Background on this error at: https://sqlalche.me/e/20/e3q8)\n"
     ]
    },
    {
     "name": "stderr",
     "output_type": "stream",
     "text": [
      " 44%|██████████████████████████████████████████████████████████▍                                                                           | 4361/10000 [09:37<10:04,  9.33it/s]"
     ]
    },
    {
     "name": "stdout",
     "output_type": "stream",
     "text": [
      "Error executing query: (psycopg2.OperationalError) connection to server at \"98.98.117.105\", port 5432 failed: FATAL:  sorry, too many clients already\n",
      "connection to server at \"98.98.117.105\", port 5432 failed: FATAL:  sorry, too many clients already\n",
      "\n",
      "(Background on this error at: https://sqlalche.me/e/20/e3q8)\n",
      "Error executing query: (psycopg2.OperationalError) connection to server at \"98.98.117.105\", port 5432 failed: FATAL:  sorry, too many clients already\n",
      "connection to server at \"98.98.117.105\", port 5432 failed: FATAL:  sorry, too many clients already\n",
      "\n",
      "(Background on this error at: https://sqlalche.me/e/20/e3q8)\n"
     ]
    },
    {
     "name": "stderr",
     "output_type": "stream",
     "text": [
      " 44%|██████████████████████████████████████████████████████████▍                                                                           | 4363/10000 [09:37<09:58,  9.42it/s]"
     ]
    },
    {
     "name": "stdout",
     "output_type": "stream",
     "text": [
      "Error executing query: (psycopg2.OperationalError) connection to server at \"98.98.117.105\", port 5432 failed: FATAL:  sorry, too many clients already\n",
      "connection to server at \"98.98.117.105\", port 5432 failed: FATAL:  sorry, too many clients already\n",
      "\n",
      "(Background on this error at: https://sqlalche.me/e/20/e3q8)\n",
      "Error executing query: (psycopg2.OperationalError) connection to server at \"98.98.117.105\", port 5432 failed: FATAL:  sorry, too many clients already\n",
      "connection to server at \"98.98.117.105\", port 5432 failed: FATAL:  sorry, too many clients already\n",
      "\n",
      "(Background on this error at: https://sqlalche.me/e/20/e3q8)\n"
     ]
    },
    {
     "name": "stderr",
     "output_type": "stream",
     "text": [
      " 44%|██████████████████████████████████████████████████████████▍                                                                           | 4365/10000 [09:38<09:58,  9.42it/s]"
     ]
    },
    {
     "name": "stdout",
     "output_type": "stream",
     "text": [
      "Error executing query: (psycopg2.OperationalError) connection to server at \"98.98.117.105\", port 5432 failed: FATAL:  sorry, too many clients already\n",
      "connection to server at \"98.98.117.105\", port 5432 failed: FATAL:  sorry, too many clients already\n",
      "\n",
      "(Background on this error at: https://sqlalche.me/e/20/e3q8)\n",
      "Error executing query: (psycopg2.OperationalError) connection to server at \"98.98.117.105\", port 5432 failed: FATAL:  sorry, too many clients already\n",
      "connection to server at \"98.98.117.105\", port 5432 failed: FATAL:  sorry, too many clients already\n",
      "\n",
      "(Background on this error at: https://sqlalche.me/e/20/e3q8)\n"
     ]
    },
    {
     "name": "stderr",
     "output_type": "stream",
     "text": [
      " 44%|██████████████████████████████████████████████████████████▊                                                                           | 4388/10000 [09:41<11:45,  7.96it/s]"
     ]
    },
    {
     "name": "stdout",
     "output_type": "stream",
     "text": [
      "Error executing query: (psycopg2.OperationalError) connection to server at \"98.98.117.105\", port 5432 failed: FATAL:  sorry, too many clients already\n",
      "connection to server at \"98.98.117.105\", port 5432 failed: FATAL:  sorry, too many clients already\n",
      "\n",
      "(Background on this error at: https://sqlalche.me/e/20/e3q8)\n"
     ]
    },
    {
     "name": "stderr",
     "output_type": "stream",
     "text": [
      " 44%|██████████████████████████████████████████████████████████▊                                                                           | 4391/10000 [09:41<11:25,  8.19it/s]"
     ]
    },
    {
     "name": "stdout",
     "output_type": "stream",
     "text": [
      "Error executing query: (psycopg2.OperationalError) connection to server at \"98.98.117.105\", port 5432 failed: FATAL:  sorry, too many clients already\n",
      "connection to server at \"98.98.117.105\", port 5432 failed: FATAL:  sorry, too many clients already\n",
      "\n",
      "(Background on this error at: https://sqlalche.me/e/20/e3q8)\n"
     ]
    },
    {
     "name": "stderr",
     "output_type": "stream",
     "text": [
      " 44%|██████████████████████████████████████████████████████████▉                                                                           | 4394/10000 [09:41<11:33,  8.08it/s]"
     ]
    },
    {
     "name": "stdout",
     "output_type": "stream",
     "text": [
      "Error executing query: (psycopg2.OperationalError) connection to server at \"98.98.117.105\", port 5432 failed: FATAL:  sorry, too many clients already\n",
      "connection to server at \"98.98.117.105\", port 5432 failed: FATAL:  sorry, too many clients already\n",
      "\n",
      "(Background on this error at: https://sqlalche.me/e/20/e3q8)\n"
     ]
    },
    {
     "name": "stderr",
     "output_type": "stream",
     "text": [
      " 44%|██████████████████████████████████████████████████████████▉                                                                           | 4396/10000 [09:42<10:44,  8.69it/s]"
     ]
    },
    {
     "name": "stdout",
     "output_type": "stream",
     "text": [
      "Error executing query: (psycopg2.OperationalError) connection to server at \"98.98.117.105\", port 5432 failed: FATAL:  sorry, too many clients already\n",
      "connection to server at \"98.98.117.105\", port 5432 failed: FATAL:  sorry, too many clients already\n",
      "\n",
      "(Background on this error at: https://sqlalche.me/e/20/e3q8)\n",
      "Error executing query: (psycopg2.OperationalError) connection to server at \"98.98.117.105\", port 5432 failed: FATAL:  sorry, too many clients already\n",
      "connection to server at \"98.98.117.105\", port 5432 failed: FATAL:  sorry, too many clients already\n",
      "\n",
      "(Background on this error at: https://sqlalche.me/e/20/e3q8)\n"
     ]
    },
    {
     "name": "stderr",
     "output_type": "stream",
     "text": [
      " 44%|██████████████████████████████████████████████████████████▉                                                                           | 4398/10000 [09:42<10:23,  8.99it/s]"
     ]
    },
    {
     "name": "stdout",
     "output_type": "stream",
     "text": [
      "Error executing query: (psycopg2.OperationalError) connection to server at \"98.98.117.105\", port 5432 failed: FATAL:  sorry, too many clients already\n",
      "connection to server at \"98.98.117.105\", port 5432 failed: FATAL:  sorry, too many clients already\n",
      "\n",
      "(Background on this error at: https://sqlalche.me/e/20/e3q8)\n",
      "Error executing query: (psycopg2.OperationalError) connection to server at \"98.98.117.105\", port 5432 failed: FATAL:  sorry, too many clients already\n",
      "connection to server at \"98.98.117.105\", port 5432 failed: FATAL:  sorry, too many clients already\n",
      "\n",
      "(Background on this error at: https://sqlalche.me/e/20/e3q8)\n"
     ]
    },
    {
     "name": "stderr",
     "output_type": "stream",
     "text": [
      " 44%|██████████████████████████████████████████████████████████▉                                                                           | 4400/10000 [09:42<10:21,  9.01it/s]"
     ]
    },
    {
     "name": "stdout",
     "output_type": "stream",
     "text": [
      "Error executing query: (psycopg2.OperationalError) connection to server at \"98.98.117.105\", port 5432 failed: FATAL:  sorry, too many clients already\n",
      "connection to server at \"98.98.117.105\", port 5432 failed: FATAL:  sorry, too many clients already\n",
      "\n",
      "(Background on this error at: https://sqlalche.me/e/20/e3q8)\n",
      "Error executing query: (psycopg2.OperationalError) connection to server at \"98.98.117.105\", port 5432 failed: FATAL:  sorry, too many clients already\n",
      "connection to server at \"98.98.117.105\", port 5432 failed: FATAL:  sorry, too many clients already\n",
      "\n",
      "(Background on this error at: https://sqlalche.me/e/20/e3q8)\n"
     ]
    },
    {
     "name": "stderr",
     "output_type": "stream",
     "text": [
      " 44%|██████████████████████████████████████████████████████████▉                                                                           | 4402/10000 [09:42<10:22,  9.00it/s]"
     ]
    },
    {
     "name": "stdout",
     "output_type": "stream",
     "text": [
      "Error executing query: (psycopg2.OperationalError) connection to server at \"98.98.117.105\", port 5432 failed: FATAL:  sorry, too many clients already\n",
      "connection to server at \"98.98.117.105\", port 5432 failed: FATAL:  sorry, too many clients already\n",
      "\n",
      "(Background on this error at: https://sqlalche.me/e/20/e3q8)\n",
      "Error executing query: (psycopg2.OperationalError) connection to server at \"98.98.117.105\", port 5432 failed: FATAL:  sorry, too many clients already\n",
      "connection to server at \"98.98.117.105\", port 5432 failed: FATAL:  sorry, too many clients already\n",
      "\n",
      "(Background on this error at: https://sqlalche.me/e/20/e3q8)\n"
     ]
    },
    {
     "name": "stderr",
     "output_type": "stream",
     "text": [
      " 44%|███████████████████████████████████████████████████████████                                                                           | 4404/10000 [09:42<10:09,  9.18it/s]"
     ]
    },
    {
     "name": "stdout",
     "output_type": "stream",
     "text": [
      "Error executing query: (psycopg2.OperationalError) connection to server at \"98.98.117.105\", port 5432 failed: FATAL:  sorry, too many clients already\n",
      "connection to server at \"98.98.117.105\", port 5432 failed: FATAL:  sorry, too many clients already\n",
      "\n",
      "(Background on this error at: https://sqlalche.me/e/20/e3q8)\n",
      "Error executing query: (psycopg2.OperationalError) connection to server at \"98.98.117.105\", port 5432 failed: FATAL:  sorry, too many clients already\n",
      "connection to server at \"98.98.117.105\", port 5432 failed: FATAL:  sorry, too many clients already\n",
      "\n",
      "(Background on this error at: https://sqlalche.me/e/20/e3q8)\n"
     ]
    },
    {
     "name": "stderr",
     "output_type": "stream",
     "text": [
      " 44%|███████████████████████████████████████████████████████████                                                                           | 4405/10000 [09:43<10:03,  9.27it/s]"
     ]
    },
    {
     "name": "stdout",
     "output_type": "stream",
     "text": [
      "Error executing query: (psycopg2.OperationalError) connection to server at \"98.98.117.105\", port 5432 failed: FATAL:  sorry, too many clients already\n",
      "connection to server at \"98.98.117.105\", port 5432 failed: FATAL:  sorry, too many clients already\n",
      "\n",
      "(Background on this error at: https://sqlalche.me/e/20/e3q8)\n",
      "Error executing query: (psycopg2.OperationalError) connection to server at \"98.98.117.105\", port 5432 failed: FATAL:  sorry, too many clients already\n",
      "connection to server at \"98.98.117.105\", port 5432 failed: FATAL:  sorry, too many clients already\n",
      "\n",
      "(Background on this error at: https://sqlalche.me/e/20/e3q8)\n"
     ]
    },
    {
     "name": "stderr",
     "output_type": "stream",
     "text": [
      " 44%|███████████████████████████████████████████████████████████▎                                                                          | 4429/10000 [09:46<11:29,  8.08it/s]"
     ]
    },
    {
     "name": "stdout",
     "output_type": "stream",
     "text": [
      "Error executing query: (psycopg2.OperationalError) connection to server at \"98.98.117.105\", port 5432 failed: FATAL:  sorry, too many clients already\n",
      "connection to server at \"98.98.117.105\", port 5432 failed: FATAL:  sorry, too many clients already\n",
      "\n",
      "(Background on this error at: https://sqlalche.me/e/20/e3q8)\n"
     ]
    },
    {
     "name": "stderr",
     "output_type": "stream",
     "text": [
      " 44%|███████████████████████████████████████████████████████████▍                                                                          | 4432/10000 [09:46<11:13,  8.27it/s]"
     ]
    },
    {
     "name": "stdout",
     "output_type": "stream",
     "text": [
      "Error executing query: (psycopg2.OperationalError) connection to server at \"98.98.117.105\", port 5432 failed: FATAL:  sorry, too many clients already\n",
      "connection to server at \"98.98.117.105\", port 5432 failed: FATAL:  sorry, too many clients already\n",
      "\n",
      "(Background on this error at: https://sqlalche.me/e/20/e3q8)\n"
     ]
    },
    {
     "name": "stderr",
     "output_type": "stream",
     "text": [
      " 44%|███████████████████████████████████████████████████████████▍                                                                          | 4435/10000 [09:46<11:29,  8.08it/s]"
     ]
    },
    {
     "name": "stdout",
     "output_type": "stream",
     "text": [
      "Error executing query: (psycopg2.OperationalError) connection to server at \"98.98.117.105\", port 5432 failed: FATAL:  sorry, too many clients already\n",
      "connection to server at \"98.98.117.105\", port 5432 failed: FATAL:  sorry, too many clients already\n",
      "\n",
      "(Background on this error at: https://sqlalche.me/e/20/e3q8)\n"
     ]
    },
    {
     "name": "stderr",
     "output_type": "stream",
     "text": [
      " 44%|███████████████████████████████████████████████████████████▍                                                                          | 4437/10000 [09:47<10:38,  8.71it/s]"
     ]
    },
    {
     "name": "stdout",
     "output_type": "stream",
     "text": [
      "Error executing query: (psycopg2.OperationalError) connection to server at \"98.98.117.105\", port 5432 failed: FATAL:  sorry, too many clients already\n",
      "connection to server at \"98.98.117.105\", port 5432 failed: FATAL:  sorry, too many clients already\n",
      "\n",
      "(Background on this error at: https://sqlalche.me/e/20/e3q8)\n",
      "Error executing query: (psycopg2.OperationalError) connection to server at \"98.98.117.105\", port 5432 failed: FATAL:  sorry, too many clients already\n",
      "connection to server at \"98.98.117.105\", port 5432 failed: FATAL:  sorry, too many clients already\n",
      "\n",
      "(Background on this error at: https://sqlalche.me/e/20/e3q8)\n"
     ]
    },
    {
     "name": "stderr",
     "output_type": "stream",
     "text": [
      " 44%|███████████████████████████████████████████████████████████▍                                                                          | 4439/10000 [09:47<10:33,  8.79it/s]"
     ]
    },
    {
     "name": "stdout",
     "output_type": "stream",
     "text": [
      "Error executing query: (psycopg2.OperationalError) connection to server at \"98.98.117.105\", port 5432 failed: FATAL:  sorry, too many clients already\n",
      "connection to server at \"98.98.117.105\", port 5432 failed: FATAL:  sorry, too many clients already\n",
      "\n",
      "(Background on this error at: https://sqlalche.me/e/20/e3q8)\n",
      "Error executing query: (psycopg2.OperationalError) connection to server at \"98.98.117.105\", port 5432 failed: FATAL:  sorry, too many clients already\n",
      "connection to server at \"98.98.117.105\", port 5432 failed: FATAL:  sorry, too many clients already\n",
      "\n",
      "(Background on this error at: https://sqlalche.me/e/20/e3q8)\n"
     ]
    },
    {
     "name": "stderr",
     "output_type": "stream",
     "text": [
      " 44%|███████████████████████████████████████████████████████████▌                                                                          | 4441/10000 [09:47<10:07,  9.15it/s]"
     ]
    },
    {
     "name": "stdout",
     "output_type": "stream",
     "text": [
      "Error executing query: (psycopg2.OperationalError) connection to server at \"98.98.117.105\", port 5432 failed: FATAL:  sorry, too many clients already\n",
      "connection to server at \"98.98.117.105\", port 5432 failed: FATAL:  sorry, too many clients already\n",
      "\n",
      "(Background on this error at: https://sqlalche.me/e/20/e3q8)\n",
      "Error executing query: (psycopg2.OperationalError) connection to server at \"98.98.117.105\", port 5432 failed: FATAL:  sorry, too many clients already\n",
      "connection to server at \"98.98.117.105\", port 5432 failed: FATAL:  sorry, too many clients already\n",
      "\n",
      "(Background on this error at: https://sqlalche.me/e/20/e3q8)\n"
     ]
    },
    {
     "name": "stderr",
     "output_type": "stream",
     "text": [
      " 44%|███████████████████████████████████████████████████████████▌                                                                          | 4443/10000 [09:47<10:02,  9.22it/s]"
     ]
    },
    {
     "name": "stdout",
     "output_type": "stream",
     "text": [
      "Error executing query: (psycopg2.OperationalError) connection to server at \"98.98.117.105\", port 5432 failed: FATAL:  sorry, too many clients already\n",
      "connection to server at \"98.98.117.105\", port 5432 failed: FATAL:  sorry, too many clients already\n",
      "\n",
      "(Background on this error at: https://sqlalche.me/e/20/e3q8)\n",
      "Error executing query: (psycopg2.OperationalError) connection to server at \"98.98.117.105\", port 5432 failed: FATAL:  sorry, too many clients already\n",
      "connection to server at \"98.98.117.105\", port 5432 failed: FATAL:  sorry, too many clients already\n",
      "\n",
      "(Background on this error at: https://sqlalche.me/e/20/e3q8)\n"
     ]
    },
    {
     "name": "stderr",
     "output_type": "stream",
     "text": [
      " 44%|███████████████████████████████████████████████████████████▌                                                                          | 4445/10000 [09:47<10:02,  9.23it/s]"
     ]
    },
    {
     "name": "stdout",
     "output_type": "stream",
     "text": [
      "Error executing query: (psycopg2.OperationalError) connection to server at \"98.98.117.105\", port 5432 failed: FATAL:  sorry, too many clients already\n",
      "connection to server at \"98.98.117.105\", port 5432 failed: FATAL:  sorry, too many clients already\n",
      "\n",
      "(Background on this error at: https://sqlalche.me/e/20/e3q8)\n",
      "Error executing query: (psycopg2.OperationalError) connection to server at \"98.98.117.105\", port 5432 failed: FATAL:  sorry, too many clients already\n",
      "connection to server at \"98.98.117.105\", port 5432 failed: FATAL:  sorry, too many clients already\n",
      "\n",
      "(Background on this error at: https://sqlalche.me/e/20/e3q8)\n",
      "Error executing query: (psycopg2.OperationalError) connection to server at \"98.98.117.105\", port 5432 failed: FATAL:  sorry, too many clients already\n",
      "connection to server at \"98.98.117.105\", port 5432 failed: FATAL:  sorry, too many clients already\n",
      "\n",
      "(Background on this error at: https://sqlalche.me/e/20/e3q8)\n"
     ]
    },
    {
     "name": "stderr",
     "output_type": "stream",
     "text": [
      " 44%|███████████████████████████████████████████████████████████▌                                                                          | 4448/10000 [09:48<10:09,  9.11it/s]"
     ]
    },
    {
     "name": "stdout",
     "output_type": "stream",
     "text": [
      "Error executing query: (psycopg2.OperationalError) connection to server at \"98.98.117.105\", port 5432 failed: FATAL:  sorry, too many clients already\n",
      "connection to server at \"98.98.117.105\", port 5432 failed: FATAL:  sorry, too many clients already\n",
      "\n",
      "(Background on this error at: https://sqlalche.me/e/20/e3q8)\n"
     ]
    },
    {
     "name": "stderr",
     "output_type": "stream",
     "text": [
      " 45%|███████████████████████████████████████████████████████████▉                                                                          | 4470/10000 [09:51<12:22,  7.45it/s]"
     ]
    },
    {
     "name": "stdout",
     "output_type": "stream",
     "text": [
      "Error executing query: (psycopg2.OperationalError) connection to server at \"98.98.117.105\", port 5432 failed: FATAL:  sorry, too many clients already\n",
      "connection to server at \"98.98.117.105\", port 5432 failed: FATAL:  sorry, too many clients already\n",
      "\n",
      "(Background on this error at: https://sqlalche.me/e/20/e3q8)\n"
     ]
    },
    {
     "name": "stderr",
     "output_type": "stream",
     "text": [
      " 45%|███████████████████████████████████████████████████████████▉                                                                          | 4473/10000 [09:51<11:53,  7.74it/s]"
     ]
    },
    {
     "name": "stdout",
     "output_type": "stream",
     "text": [
      "Error executing query: (psycopg2.OperationalError) connection to server at \"98.98.117.105\", port 5432 failed: FATAL:  sorry, too many clients already\n",
      "connection to server at \"98.98.117.105\", port 5432 failed: FATAL:  sorry, too many clients already\n",
      "\n",
      "(Background on this error at: https://sqlalche.me/e/20/e3q8)\n"
     ]
    },
    {
     "name": "stderr",
     "output_type": "stream",
     "text": [
      " 45%|███████████████████████████████████████████████████████████▉                                                                          | 4476/10000 [09:51<12:29,  7.37it/s]"
     ]
    },
    {
     "name": "stdout",
     "output_type": "stream",
     "text": [
      "Error executing query: (psycopg2.OperationalError) connection to server at \"98.98.117.105\", port 5432 failed: FATAL:  sorry, too many clients already\n",
      "connection to server at \"98.98.117.105\", port 5432 failed: FATAL:  sorry, too many clients already\n",
      "\n",
      "(Background on this error at: https://sqlalche.me/e/20/e3q8)\n"
     ]
    },
    {
     "name": "stderr",
     "output_type": "stream",
     "text": [
      " 45%|████████████████████████████████████████████████████████████                                                                          | 4478/10000 [09:52<11:14,  8.19it/s]"
     ]
    },
    {
     "name": "stdout",
     "output_type": "stream",
     "text": [
      "Error executing query: (psycopg2.OperationalError) connection to server at \"98.98.117.105\", port 5432 failed: FATAL:  sorry, too many clients already\n",
      "connection to server at \"98.98.117.105\", port 5432 failed: FATAL:  sorry, too many clients already\n",
      "\n",
      "(Background on this error at: https://sqlalche.me/e/20/e3q8)\n",
      "Error executing query: (psycopg2.OperationalError) connection to server at \"98.98.117.105\", port 5432 failed: FATAL:  sorry, too many clients already\n",
      "connection to server at \"98.98.117.105\", port 5432 failed: FATAL:  sorry, too many clients already\n",
      "\n",
      "(Background on this error at: https://sqlalche.me/e/20/e3q8)\n"
     ]
    },
    {
     "name": "stderr",
     "output_type": "stream",
     "text": [
      " 45%|████████████████████████████████████████████████████████████                                                                          | 4480/10000 [09:52<10:37,  8.66it/s]"
     ]
    },
    {
     "name": "stdout",
     "output_type": "stream",
     "text": [
      "Error executing query: (psycopg2.OperationalError) connection to server at \"98.98.117.105\", port 5432 failed: FATAL:  sorry, too many clients already\n",
      "connection to server at \"98.98.117.105\", port 5432 failed: FATAL:  sorry, too many clients already\n",
      "\n",
      "(Background on this error at: https://sqlalche.me/e/20/e3q8)\n",
      "Error executing query: (psycopg2.OperationalError) connection to server at \"98.98.117.105\", port 5432 failed: FATAL:  sorry, too many clients already\n",
      "connection to server at \"98.98.117.105\", port 5432 failed: FATAL:  sorry, too many clients already\n",
      "\n",
      "(Background on this error at: https://sqlalche.me/e/20/e3q8)\n"
     ]
    },
    {
     "name": "stderr",
     "output_type": "stream",
     "text": [
      " 45%|████████████████████████████████████████████████████████████                                                                          | 4482/10000 [09:52<10:15,  8.96it/s]"
     ]
    },
    {
     "name": "stdout",
     "output_type": "stream",
     "text": [
      "Error executing query: (psycopg2.OperationalError) connection to server at \"98.98.117.105\", port 5432 failed: FATAL:  sorry, too many clients already\n",
      "connection to server at \"98.98.117.105\", port 5432 failed: FATAL:  sorry, too many clients already\n",
      "\n",
      "(Background on this error at: https://sqlalche.me/e/20/e3q8)\n",
      "Error executing query: (psycopg2.OperationalError) connection to server at \"98.98.117.105\", port 5432 failed: FATAL:  sorry, too many clients already\n",
      "connection to server at \"98.98.117.105\", port 5432 failed: FATAL:  sorry, too many clients already\n",
      "\n",
      "(Background on this error at: https://sqlalche.me/e/20/e3q8)\n"
     ]
    },
    {
     "name": "stderr",
     "output_type": "stream",
     "text": [
      " 45%|████████████████████████████████████████████████████████████                                                                          | 4484/10000 [09:52<10:18,  8.92it/s]"
     ]
    },
    {
     "name": "stdout",
     "output_type": "stream",
     "text": [
      "Error executing query: (psycopg2.OperationalError) connection to server at \"98.98.117.105\", port 5432 failed: FATAL:  sorry, too many clients already\n",
      "connection to server at \"98.98.117.105\", port 5432 failed: FATAL:  sorry, too many clients already\n",
      "\n",
      "(Background on this error at: https://sqlalche.me/e/20/e3q8)\n",
      "Error executing query: (psycopg2.OperationalError) connection to server at \"98.98.117.105\", port 5432 failed: FATAL:  sorry, too many clients already\n",
      "connection to server at \"98.98.117.105\", port 5432 failed: FATAL:  sorry, too many clients already\n",
      "\n",
      "(Background on this error at: https://sqlalche.me/e/20/e3q8)\n"
     ]
    },
    {
     "name": "stderr",
     "output_type": "stream",
     "text": [
      " 45%|████████████████████████████████████████████████████████████                                                                          | 4485/10000 [09:52<10:33,  8.70it/s]"
     ]
    },
    {
     "name": "stdout",
     "output_type": "stream",
     "text": [
      "Error executing query: (psycopg2.OperationalError) connection to server at \"98.98.117.105\", port 5432 failed: FATAL:  sorry, too many clients already\n",
      "connection to server at \"98.98.117.105\", port 5432 failed: FATAL:  sorry, too many clients already\n",
      "\n",
      "(Background on this error at: https://sqlalche.me/e/20/e3q8)\n",
      "Error executing query: (psycopg2.OperationalError) connection to server at \"98.98.117.105\", port 5432 failed: FATAL:  sorry, too many clients already\n",
      "connection to server at \"98.98.117.105\", port 5432 failed: FATAL:  sorry, too many clients already\n",
      "\n",
      "(Background on this error at: https://sqlalche.me/e/20/e3q8)\n"
     ]
    },
    {
     "name": "stderr",
     "output_type": "stream",
     "text": [
      " 45%|████████████████████████████████████████████████████████████▏                                                                         | 4488/10000 [09:53<10:01,  9.17it/s]"
     ]
    },
    {
     "name": "stdout",
     "output_type": "stream",
     "text": [
      "Error executing query: (psycopg2.OperationalError) connection to server at \"98.98.117.105\", port 5432 failed: FATAL:  sorry, too many clients already\n",
      "connection to server at \"98.98.117.105\", port 5432 failed: FATAL:  sorry, too many clients already\n",
      "\n",
      "(Background on this error at: https://sqlalche.me/e/20/e3q8)\n",
      "Error executing query: (psycopg2.OperationalError) connection to server at \"98.98.117.105\", port 5432 failed: FATAL:  sorry, too many clients already\n",
      "connection to server at \"98.98.117.105\", port 5432 failed: FATAL:  sorry, too many clients already\n",
      "\n",
      "(Background on this error at: https://sqlalche.me/e/20/e3q8)\n"
     ]
    },
    {
     "name": "stderr",
     "output_type": "stream",
     "text": [
      " 45%|████████████████████████████████████████████████████████████▌                                                                         | 4515/10000 [09:56<11:53,  7.69it/s]"
     ]
    },
    {
     "name": "stdout",
     "output_type": "stream",
     "text": [
      "Error executing query: (psycopg2.OperationalError) connection to server at \"98.98.117.105\", port 5432 failed: FATAL:  sorry, too many clients already\n",
      "connection to server at \"98.98.117.105\", port 5432 failed: FATAL:  sorry, too many clients already\n",
      "\n",
      "(Background on this error at: https://sqlalche.me/e/20/e3q8)\n"
     ]
    },
    {
     "name": "stderr",
     "output_type": "stream",
     "text": [
      " 45%|████████████████████████████████████████████████████████████▌                                                                         | 4518/10000 [09:57<11:49,  7.73it/s]"
     ]
    },
    {
     "name": "stdout",
     "output_type": "stream",
     "text": [
      "Error executing query: (psycopg2.OperationalError) connection to server at \"98.98.117.105\", port 5432 failed: FATAL:  sorry, too many clients already\n",
      "connection to server at \"98.98.117.105\", port 5432 failed: FATAL:  sorry, too many clients already\n",
      "\n",
      "(Background on this error at: https://sqlalche.me/e/20/e3q8)\n"
     ]
    },
    {
     "name": "stderr",
     "output_type": "stream",
     "text": [
      " 45%|████████████████████████████████████████████████████████████▌                                                                         | 4521/10000 [09:57<11:21,  8.04it/s]"
     ]
    },
    {
     "name": "stdout",
     "output_type": "stream",
     "text": [
      "Error executing query: (psycopg2.OperationalError) connection to server at \"98.98.117.105\", port 5432 failed: FATAL:  sorry, too many clients already\n",
      "connection to server at \"98.98.117.105\", port 5432 failed: FATAL:  sorry, too many clients already\n",
      "\n",
      "(Background on this error at: https://sqlalche.me/e/20/e3q8)\n"
     ]
    },
    {
     "name": "stderr",
     "output_type": "stream",
     "text": [
      " 45%|████████████████████████████████████████████████████████████▌                                                                         | 4523/10000 [09:57<10:22,  8.79it/s]"
     ]
    },
    {
     "name": "stdout",
     "output_type": "stream",
     "text": [
      "Error executing query: (psycopg2.OperationalError) connection to server at \"98.98.117.105\", port 5432 failed: FATAL:  sorry, too many clients already\n",
      "connection to server at \"98.98.117.105\", port 5432 failed: FATAL:  sorry, too many clients already\n",
      "\n",
      "(Background on this error at: https://sqlalche.me/e/20/e3q8)\n",
      "Error executing query: (psycopg2.OperationalError) connection to server at \"98.98.117.105\", port 5432 failed: FATAL:  sorry, too many clients already\n",
      "connection to server at \"98.98.117.105\", port 5432 failed: FATAL:  sorry, too many clients already\n",
      "\n",
      "(Background on this error at: https://sqlalche.me/e/20/e3q8)\n"
     ]
    },
    {
     "name": "stderr",
     "output_type": "stream",
     "text": [
      " 45%|████████████████████████████████████████████████████████████▋                                                                         | 4525/10000 [09:58<10:00,  9.12it/s]"
     ]
    },
    {
     "name": "stdout",
     "output_type": "stream",
     "text": [
      "Error executing query: (psycopg2.OperationalError) connection to server at \"98.98.117.105\", port 5432 failed: FATAL:  sorry, too many clients already\n",
      "connection to server at \"98.98.117.105\", port 5432 failed: FATAL:  sorry, too many clients already\n",
      "\n",
      "(Background on this error at: https://sqlalche.me/e/20/e3q8)\n",
      "Error executing query: (psycopg2.OperationalError) connection to server at \"98.98.117.105\", port 5432 failed: FATAL:  sorry, too many clients already\n",
      "connection to server at \"98.98.117.105\", port 5432 failed: FATAL:  sorry, too many clients already\n",
      "\n",
      "(Background on this error at: https://sqlalche.me/e/20/e3q8)\n"
     ]
    },
    {
     "name": "stderr",
     "output_type": "stream",
     "text": [
      " 45%|████████████████████████████████████████████████████████████▋                                                                         | 4527/10000 [09:58<09:47,  9.32it/s]"
     ]
    },
    {
     "name": "stdout",
     "output_type": "stream",
     "text": [
      "Error executing query: (psycopg2.OperationalError) connection to server at \"98.98.117.105\", port 5432 failed: FATAL:  sorry, too many clients already\n",
      "connection to server at \"98.98.117.105\", port 5432 failed: FATAL:  sorry, too many clients already\n",
      "\n",
      "(Background on this error at: https://sqlalche.me/e/20/e3q8)\n",
      "Error executing query: (psycopg2.OperationalError) connection to server at \"98.98.117.105\", port 5432 failed: FATAL:  sorry, too many clients already\n",
      "connection to server at \"98.98.117.105\", port 5432 failed: FATAL:  sorry, too many clients already\n",
      "\n",
      "(Background on this error at: https://sqlalche.me/e/20/e3q8)\n"
     ]
    },
    {
     "name": "stderr",
     "output_type": "stream",
     "text": [
      " 45%|████████████████████████████████████████████████████████████▋                                                                         | 4529/10000 [09:58<09:57,  9.15it/s]"
     ]
    },
    {
     "name": "stdout",
     "output_type": "stream",
     "text": [
      "Error executing query: (psycopg2.OperationalError) connection to server at \"98.98.117.105\", port 5432 failed: FATAL:  sorry, too many clients already\n",
      "connection to server at \"98.98.117.105\", port 5432 failed: FATAL:  sorry, too many clients already\n",
      "\n",
      "(Background on this error at: https://sqlalche.me/e/20/e3q8)\n",
      "Error executing query: (psycopg2.OperationalError) connection to server at \"98.98.117.105\", port 5432 failed: FATAL:  sorry, too many clients already\n",
      "connection to server at \"98.98.117.105\", port 5432 failed: FATAL:  sorry, too many clients already\n",
      "\n",
      "(Background on this error at: https://sqlalche.me/e/20/e3q8)\n"
     ]
    },
    {
     "name": "stderr",
     "output_type": "stream",
     "text": [
      " 45%|████████████████████████████████████████████████████████████▋                                                                         | 4531/10000 [09:58<10:28,  8.70it/s]"
     ]
    },
    {
     "name": "stdout",
     "output_type": "stream",
     "text": [
      "Error executing query: (psycopg2.OperationalError) connection to server at \"98.98.117.105\", port 5432 failed: FATAL:  sorry, too many clients already\n",
      "connection to server at \"98.98.117.105\", port 5432 failed: FATAL:  sorry, too many clients already\n",
      "\n",
      "(Background on this error at: https://sqlalche.me/e/20/e3q8)\n"
     ]
    },
    {
     "name": "stderr",
     "output_type": "stream",
     "text": [
      " 46%|█████████████████████████████████████████████████████████████                                                                         | 4553/10000 [10:01<11:14,  8.07it/s]"
     ]
    },
    {
     "name": "stdout",
     "output_type": "stream",
     "text": [
      "Error executing query: (psycopg2.OperationalError) connection to server at \"98.98.117.105\", port 5432 failed: FATAL:  sorry, too many clients already\n",
      "connection to server at \"98.98.117.105\", port 5432 failed: FATAL:  sorry, too many clients already\n",
      "\n",
      "(Background on this error at: https://sqlalche.me/e/20/e3q8)\n"
     ]
    },
    {
     "name": "stderr",
     "output_type": "stream",
     "text": [
      " 46%|█████████████████████████████████████████████████████████████                                                                         | 4556/10000 [10:02<10:57,  8.28it/s]"
     ]
    },
    {
     "name": "stdout",
     "output_type": "stream",
     "text": [
      "Error executing query: (psycopg2.OperationalError) connection to server at \"98.98.117.105\", port 5432 failed: FATAL:  sorry, too many clients already\n",
      "connection to server at \"98.98.117.105\", port 5432 failed: FATAL:  sorry, too many clients already\n",
      "\n",
      "(Background on this error at: https://sqlalche.me/e/20/e3q8)\n"
     ]
    },
    {
     "name": "stderr",
     "output_type": "stream",
     "text": [
      " 46%|█████████████████████████████████████████████████████████████                                                                         | 4559/10000 [10:02<10:52,  8.34it/s]"
     ]
    },
    {
     "name": "stdout",
     "output_type": "stream",
     "text": [
      "Error executing query: (psycopg2.OperationalError) connection to server at \"98.98.117.105\", port 5432 failed: FATAL:  sorry, too many clients already\n",
      "connection to server at \"98.98.117.105\", port 5432 failed: FATAL:  sorry, too many clients already\n",
      "\n",
      "(Background on this error at: https://sqlalche.me/e/20/e3q8)\n"
     ]
    },
    {
     "name": "stderr",
     "output_type": "stream",
     "text": [
      " 46%|█████████████████████████████████████████████████████████████                                                                         | 4561/10000 [10:02<10:16,  8.82it/s]"
     ]
    },
    {
     "name": "stdout",
     "output_type": "stream",
     "text": [
      "Error executing query: (psycopg2.OperationalError) connection to server at \"98.98.117.105\", port 5432 failed: FATAL:  sorry, too many clients already\n",
      "connection to server at \"98.98.117.105\", port 5432 failed: FATAL:  sorry, too many clients already\n",
      "\n",
      "(Background on this error at: https://sqlalche.me/e/20/e3q8)\n",
      "Error executing query: (psycopg2.OperationalError) connection to server at \"98.98.117.105\", port 5432 failed: FATAL:  sorry, too many clients already\n",
      "connection to server at \"98.98.117.105\", port 5432 failed: FATAL:  sorry, too many clients already\n",
      "\n",
      "(Background on this error at: https://sqlalche.me/e/20/e3q8)\n"
     ]
    },
    {
     "name": "stderr",
     "output_type": "stream",
     "text": [
      " 46%|█████████████████████████████████████████████████████████████▏                                                                        | 4563/10000 [10:02<10:06,  8.97it/s]"
     ]
    },
    {
     "name": "stdout",
     "output_type": "stream",
     "text": [
      "Error executing query: (psycopg2.OperationalError) connection to server at \"98.98.117.105\", port 5432 failed: FATAL:  sorry, too many clients already\n",
      "connection to server at \"98.98.117.105\", port 5432 failed: FATAL:  sorry, too many clients already\n",
      "\n",
      "(Background on this error at: https://sqlalche.me/e/20/e3q8)\n",
      "Error executing query: (psycopg2.OperationalError) connection to server at \"98.98.117.105\", port 5432 failed: FATAL:  sorry, too many clients already\n",
      "connection to server at \"98.98.117.105\", port 5432 failed: FATAL:  sorry, too many clients already\n",
      "\n",
      "(Background on this error at: https://sqlalche.me/e/20/e3q8)\n"
     ]
    },
    {
     "name": "stderr",
     "output_type": "stream",
     "text": [
      " 46%|█████████████████████████████████████████████████████████████▏                                                                        | 4565/10000 [10:03<09:50,  9.21it/s]"
     ]
    },
    {
     "name": "stdout",
     "output_type": "stream",
     "text": [
      "Error executing query: (psycopg2.OperationalError) connection to server at \"98.98.117.105\", port 5432 failed: FATAL:  sorry, too many clients already\n",
      "connection to server at \"98.98.117.105\", port 5432 failed: FATAL:  sorry, too many clients already\n",
      "\n",
      "(Background on this error at: https://sqlalche.me/e/20/e3q8)\n",
      "Error executing query: (psycopg2.OperationalError) connection to server at \"98.98.117.105\", port 5432 failed: FATAL:  sorry, too many clients already\n",
      "connection to server at \"98.98.117.105\", port 5432 failed: FATAL:  sorry, too many clients already\n",
      "\n",
      "(Background on this error at: https://sqlalche.me/e/20/e3q8)\n"
     ]
    },
    {
     "name": "stderr",
     "output_type": "stream",
     "text": [
      " 46%|█████████████████████████████████████████████████████████████▏                                                                        | 4567/10000 [10:03<10:33,  8.58it/s]"
     ]
    },
    {
     "name": "stdout",
     "output_type": "stream",
     "text": [
      "Error executing query: (psycopg2.OperationalError) connection to server at \"98.98.117.105\", port 5432 failed: FATAL:  sorry, too many clients already\n",
      "connection to server at \"98.98.117.105\", port 5432 failed: FATAL:  sorry, too many clients already\n",
      "\n",
      "(Background on this error at: https://sqlalche.me/e/20/e3q8)\n",
      "Error executing query: (psycopg2.OperationalError) connection to server at \"98.98.117.105\", port 5432 failed: FATAL:  sorry, too many clients already\n",
      "connection to server at \"98.98.117.105\", port 5432 failed: FATAL:  sorry, too many clients already\n",
      "\n",
      "(Background on this error at: https://sqlalche.me/e/20/e3q8)\n"
     ]
    },
    {
     "name": "stderr",
     "output_type": "stream",
     "text": [
      " 46%|█████████████████████████████████████████████████████████████▏                                                                        | 4569/10000 [10:03<10:23,  8.71it/s]"
     ]
    },
    {
     "name": "stdout",
     "output_type": "stream",
     "text": [
      "Error executing query: (psycopg2.OperationalError) connection to server at \"98.98.117.105\", port 5432 failed: FATAL:  sorry, too many clients already\n",
      "connection to server at \"98.98.117.105\", port 5432 failed: FATAL:  sorry, too many clients already\n",
      "\n",
      "(Background on this error at: https://sqlalche.me/e/20/e3q8)\n",
      "Error executing query: (psycopg2.OperationalError) connection to server at \"98.98.117.105\", port 5432 failed: FATAL:  sorry, too many clients already\n",
      "connection to server at \"98.98.117.105\", port 5432 failed: FATAL:  sorry, too many clients already\n",
      "\n",
      "(Background on this error at: https://sqlalche.me/e/20/e3q8)\n"
     ]
    },
    {
     "name": "stderr",
     "output_type": "stream",
     "text": [
      " 46%|█████████████████████████████████████████████████████████████▎                                                                        | 4571/10000 [10:03<09:53,  9.15it/s]"
     ]
    },
    {
     "name": "stdout",
     "output_type": "stream",
     "text": [
      "Error executing query: (psycopg2.OperationalError) connection to server at \"98.98.117.105\", port 5432 failed: FATAL:  sorry, too many clients already\n",
      "connection to server at \"98.98.117.105\", port 5432 failed: FATAL:  sorry, too many clients already\n",
      "\n",
      "(Background on this error at: https://sqlalche.me/e/20/e3q8)\n",
      "Error executing query: (psycopg2.OperationalError) connection to server at \"98.98.117.105\", port 5432 failed: FATAL:  sorry, too many clients already\n",
      "connection to server at \"98.98.117.105\", port 5432 failed: FATAL:  sorry, too many clients already\n",
      "\n",
      "(Background on this error at: https://sqlalche.me/e/20/e3q8)\n"
     ]
    },
    {
     "name": "stderr",
     "output_type": "stream",
     "text": [
      " 46%|█████████████████████████████████████████████████████████████▌                                                                        | 4594/10000 [10:06<11:03,  8.15it/s]"
     ]
    },
    {
     "name": "stdout",
     "output_type": "stream",
     "text": [
      "Error executing query: (psycopg2.OperationalError) connection to server at \"98.98.117.105\", port 5432 failed: FATAL:  sorry, too many clients already\n",
      "connection to server at \"98.98.117.105\", port 5432 failed: FATAL:  sorry, too many clients already\n",
      "\n",
      "(Background on this error at: https://sqlalche.me/e/20/e3q8)\n"
     ]
    },
    {
     "name": "stderr",
     "output_type": "stream",
     "text": [
      " 46%|█████████████████████████████████████████████████████████████▌                                                                        | 4597/10000 [10:07<11:24,  7.89it/s]"
     ]
    },
    {
     "name": "stdout",
     "output_type": "stream",
     "text": [
      "Error executing query: (psycopg2.OperationalError) connection to server at \"98.98.117.105\", port 5432 failed: FATAL:  sorry, too many clients already\n",
      "connection to server at \"98.98.117.105\", port 5432 failed: FATAL:  sorry, too many clients already\n",
      "\n",
      "(Background on this error at: https://sqlalche.me/e/20/e3q8)\n"
     ]
    },
    {
     "name": "stderr",
     "output_type": "stream",
     "text": [
      " 46%|█████████████████████████████████████████████████████████████▋                                                                        | 4600/10000 [10:07<10:56,  8.22it/s]"
     ]
    },
    {
     "name": "stdout",
     "output_type": "stream",
     "text": [
      "Error executing query: (psycopg2.OperationalError) connection to server at \"98.98.117.105\", port 5432 failed: FATAL:  sorry, too many clients already\n",
      "connection to server at \"98.98.117.105\", port 5432 failed: FATAL:  sorry, too many clients already\n",
      "\n",
      "(Background on this error at: https://sqlalche.me/e/20/e3q8)\n"
     ]
    },
    {
     "name": "stderr",
     "output_type": "stream",
     "text": [
      " 46%|█████████████████████████████████████████████████████████████▋                                                                        | 4602/10000 [10:07<09:54,  9.08it/s]"
     ]
    },
    {
     "name": "stdout",
     "output_type": "stream",
     "text": [
      "Error executing query: (psycopg2.OperationalError) connection to server at \"98.98.117.105\", port 5432 failed: FATAL:  sorry, too many clients already\n",
      "connection to server at \"98.98.117.105\", port 5432 failed: FATAL:  sorry, too many clients already\n",
      "\n",
      "(Background on this error at: https://sqlalche.me/e/20/e3q8)\n",
      "Error executing query: (psycopg2.OperationalError) connection to server at \"98.98.117.105\", port 5432 failed: FATAL:  sorry, too many clients already\n",
      "connection to server at \"98.98.117.105\", port 5432 failed: FATAL:  sorry, too many clients already\n",
      "\n",
      "(Background on this error at: https://sqlalche.me/e/20/e3q8)\n"
     ]
    },
    {
     "name": "stderr",
     "output_type": "stream",
     "text": [
      " 46%|█████████████████████████████████████████████████████████████▋                                                                        | 4604/10000 [10:07<10:07,  8.88it/s]"
     ]
    },
    {
     "name": "stdout",
     "output_type": "stream",
     "text": [
      "Error executing query: (psycopg2.OperationalError) connection to server at \"98.98.117.105\", port 5432 failed: FATAL:  sorry, too many clients already\n",
      "connection to server at \"98.98.117.105\", port 5432 failed: FATAL:  sorry, too many clients already\n",
      "\n",
      "(Background on this error at: https://sqlalche.me/e/20/e3q8)\n",
      "Error executing query: (psycopg2.OperationalError) connection to server at \"98.98.117.105\", port 5432 failed: FATAL:  sorry, too many clients already\n",
      "connection to server at \"98.98.117.105\", port 5432 failed: FATAL:  sorry, too many clients already\n",
      "\n",
      "(Background on this error at: https://sqlalche.me/e/20/e3q8)\n"
     ]
    },
    {
     "name": "stderr",
     "output_type": "stream",
     "text": [
      " 46%|█████████████████████████████████████████████████████████████▋                                                                        | 4606/10000 [10:08<10:21,  8.67it/s]"
     ]
    },
    {
     "name": "stdout",
     "output_type": "stream",
     "text": [
      "Error executing query: (psycopg2.OperationalError) connection to server at \"98.98.117.105\", port 5432 failed: FATAL:  sorry, too many clients already\n",
      "connection to server at \"98.98.117.105\", port 5432 failed: FATAL:  sorry, too many clients already\n",
      "\n",
      "(Background on this error at: https://sqlalche.me/e/20/e3q8)\n",
      "Error executing query: (psycopg2.OperationalError) connection to server at \"98.98.117.105\", port 5432 failed: FATAL:  sorry, too many clients already\n",
      "connection to server at \"98.98.117.105\", port 5432 failed: FATAL:  sorry, too many clients already\n",
      "\n",
      "(Background on this error at: https://sqlalche.me/e/20/e3q8)\n"
     ]
    },
    {
     "name": "stderr",
     "output_type": "stream",
     "text": [
      " 46%|█████████████████████████████████████████████████████████████▋                                                                        | 4608/10000 [10:08<10:08,  8.86it/s]"
     ]
    },
    {
     "name": "stdout",
     "output_type": "stream",
     "text": [
      "Error executing query: (psycopg2.OperationalError) connection to server at \"98.98.117.105\", port 5432 failed: FATAL:  sorry, too many clients already\n",
      "connection to server at \"98.98.117.105\", port 5432 failed: FATAL:  sorry, too many clients already\n",
      "\n",
      "(Background on this error at: https://sqlalche.me/e/20/e3q8)\n",
      "Error executing query: (psycopg2.OperationalError) connection to server at \"98.98.117.105\", port 5432 failed: FATAL:  sorry, too many clients already\n",
      "connection to server at \"98.98.117.105\", port 5432 failed: FATAL:  sorry, too many clients already\n",
      "\n",
      "(Background on this error at: https://sqlalche.me/e/20/e3q8)\n"
     ]
    },
    {
     "name": "stderr",
     "output_type": "stream",
     "text": [
      " 46%|█████████████████████████████████████████████████████████████▊                                                                        | 4610/10000 [10:08<10:02,  8.94it/s]"
     ]
    },
    {
     "name": "stdout",
     "output_type": "stream",
     "text": [
      "Error executing query: (psycopg2.OperationalError) connection to server at \"98.98.117.105\", port 5432 failed: FATAL:  sorry, too many clients already\n",
      "connection to server at \"98.98.117.105\", port 5432 failed: FATAL:  sorry, too many clients already\n",
      "\n",
      "(Background on this error at: https://sqlalche.me/e/20/e3q8)\n",
      "Error executing query: (psycopg2.OperationalError) connection to server at \"98.98.117.105\", port 5432 failed: FATAL:  sorry, too many clients already\n",
      "connection to server at \"98.98.117.105\", port 5432 failed: FATAL:  sorry, too many clients already\n",
      "\n",
      "(Background on this error at: https://sqlalche.me/e/20/e3q8)\n"
     ]
    },
    {
     "name": "stderr",
     "output_type": "stream",
     "text": [
      " 46%|█████████████████████████████████████████████████████████████▊                                                                        | 4612/10000 [10:08<09:45,  9.20it/s]"
     ]
    },
    {
     "name": "stdout",
     "output_type": "stream",
     "text": [
      "Error executing query: (psycopg2.OperationalError) connection to server at \"98.98.117.105\", port 5432 failed: FATAL:  sorry, too many clients already\n",
      "connection to server at \"98.98.117.105\", port 5432 failed: FATAL:  sorry, too many clients already\n",
      "\n",
      "(Background on this error at: https://sqlalche.me/e/20/e3q8)\n",
      "Error executing query: (psycopg2.OperationalError) connection to server at \"98.98.117.105\", port 5432 failed: FATAL:  sorry, too many clients already\n",
      "connection to server at \"98.98.117.105\", port 5432 failed: FATAL:  sorry, too many clients already\n",
      "\n",
      "(Background on this error at: https://sqlalche.me/e/20/e3q8)\n"
     ]
    },
    {
     "name": "stderr",
     "output_type": "stream",
     "text": [
      " 46%|██████████████████████████████████████████████████████████████                                                                        | 4635/10000 [10:11<10:56,  8.17it/s]"
     ]
    },
    {
     "name": "stdout",
     "output_type": "stream",
     "text": [
      "Error executing query: (psycopg2.OperationalError) connection to server at \"98.98.117.105\", port 5432 failed: FATAL:  sorry, too many clients already\n",
      "connection to server at \"98.98.117.105\", port 5432 failed: FATAL:  sorry, too many clients already\n",
      "\n",
      "(Background on this error at: https://sqlalche.me/e/20/e3q8)\n"
     ]
    },
    {
     "name": "stderr",
     "output_type": "stream",
     "text": [
      " 46%|██████████████████████████████████████████████████████████████▏                                                                       | 4638/10000 [10:12<10:42,  8.35it/s]"
     ]
    },
    {
     "name": "stdout",
     "output_type": "stream",
     "text": [
      "Error executing query: (psycopg2.OperationalError) connection to server at \"98.98.117.105\", port 5432 failed: FATAL:  sorry, too many clients already\n",
      "connection to server at \"98.98.117.105\", port 5432 failed: FATAL:  sorry, too many clients already\n",
      "\n",
      "(Background on this error at: https://sqlalche.me/e/20/e3q8)\n"
     ]
    },
    {
     "name": "stderr",
     "output_type": "stream",
     "text": [
      " 46%|██████████████████████████████████████████████████████████████▏                                                                       | 4641/10000 [10:12<10:39,  8.38it/s]"
     ]
    },
    {
     "name": "stdout",
     "output_type": "stream",
     "text": [
      "Error executing query: (psycopg2.OperationalError) connection to server at \"98.98.117.105\", port 5432 failed: FATAL:  sorry, too many clients already\n",
      "connection to server at \"98.98.117.105\", port 5432 failed: FATAL:  sorry, too many clients already\n",
      "\n",
      "(Background on this error at: https://sqlalche.me/e/20/e3q8)\n"
     ]
    },
    {
     "name": "stderr",
     "output_type": "stream",
     "text": [
      " 46%|██████████████████████████████████████████████████████████████▏                                                                       | 4643/10000 [10:12<09:58,  8.95it/s]"
     ]
    },
    {
     "name": "stdout",
     "output_type": "stream",
     "text": [
      "Error executing query: (psycopg2.OperationalError) connection to server at \"98.98.117.105\", port 5432 failed: FATAL:  sorry, too many clients already\n",
      "connection to server at \"98.98.117.105\", port 5432 failed: FATAL:  sorry, too many clients already\n",
      "\n",
      "(Background on this error at: https://sqlalche.me/e/20/e3q8)\n",
      "Error executing query: (psycopg2.OperationalError) connection to server at \"98.98.117.105\", port 5432 failed: FATAL:  sorry, too many clients already\n",
      "connection to server at \"98.98.117.105\", port 5432 failed: FATAL:  sorry, too many clients already\n",
      "\n",
      "(Background on this error at: https://sqlalche.me/e/20/e3q8)\n"
     ]
    },
    {
     "name": "stderr",
     "output_type": "stream",
     "text": [
      " 46%|██████████████████████████████████████████████████████████████▏                                                                       | 4645/10000 [10:12<09:43,  9.18it/s]"
     ]
    },
    {
     "name": "stdout",
     "output_type": "stream",
     "text": [
      "Error executing query: (psycopg2.OperationalError) connection to server at \"98.98.117.105\", port 5432 failed: FATAL:  sorry, too many clients already\n",
      "connection to server at \"98.98.117.105\", port 5432 failed: FATAL:  sorry, too many clients already\n",
      "\n",
      "(Background on this error at: https://sqlalche.me/e/20/e3q8)\n",
      "Error executing query: (psycopg2.OperationalError) connection to server at \"98.98.117.105\", port 5432 failed: FATAL:  sorry, too many clients already\n",
      "connection to server at \"98.98.117.105\", port 5432 failed: FATAL:  sorry, too many clients already\n",
      "\n",
      "(Background on this error at: https://sqlalche.me/e/20/e3q8)\n"
     ]
    },
    {
     "name": "stderr",
     "output_type": "stream",
     "text": [
      " 46%|██████████████████████████████████████████████████████████████▎                                                                       | 4647/10000 [10:13<09:31,  9.37it/s]"
     ]
    },
    {
     "name": "stdout",
     "output_type": "stream",
     "text": [
      "Error executing query: (psycopg2.OperationalError) connection to server at \"98.98.117.105\", port 5432 failed: FATAL:  sorry, too many clients already\n",
      "connection to server at \"98.98.117.105\", port 5432 failed: FATAL:  sorry, too many clients already\n",
      "\n",
      "(Background on this error at: https://sqlalche.me/e/20/e3q8)\n",
      "Error executing query: (psycopg2.OperationalError) connection to server at \"98.98.117.105\", port 5432 failed: FATAL:  sorry, too many clients already\n",
      "connection to server at \"98.98.117.105\", port 5432 failed: FATAL:  sorry, too many clients already\n",
      "\n",
      "(Background on this error at: https://sqlalche.me/e/20/e3q8)\n"
     ]
    },
    {
     "name": "stderr",
     "output_type": "stream",
     "text": [
      " 46%|██████████████████████████████████████████████████████████████▎                                                                       | 4650/10000 [10:13<09:01,  9.88it/s]"
     ]
    },
    {
     "name": "stdout",
     "output_type": "stream",
     "text": [
      "Error executing query: (psycopg2.OperationalError) connection to server at \"98.98.117.105\", port 5432 failed: FATAL:  sorry, too many clients already\n",
      "connection to server at \"98.98.117.105\", port 5432 failed: FATAL:  sorry, too many clients already\n",
      "\n",
      "(Background on this error at: https://sqlalche.me/e/20/e3q8)\n",
      "Error executing query: (psycopg2.OperationalError) connection to server at \"98.98.117.105\", port 5432 failed: FATAL:  sorry, too many clients already\n",
      "connection to server at \"98.98.117.105\", port 5432 failed: FATAL:  sorry, too many clients already\n",
      "\n",
      "(Background on this error at: https://sqlalche.me/e/20/e3q8)\n",
      "Error executing query: (psycopg2.OperationalError) connection to server at \"98.98.117.105\", port 5432 failed: FATAL:  sorry, too many clients already\n",
      "connection to server at \"98.98.117.105\", port 5432 failed: FATAL:  sorry, too many clients already\n",
      "\n",
      "(Background on this error at: https://sqlalche.me/e/20/e3q8)\n"
     ]
    },
    {
     "name": "stderr",
     "output_type": "stream",
     "text": [
      " 47%|██████████████████████████████████████████████████████████████▎                                                                       | 4652/10000 [10:13<09:07,  9.77it/s]"
     ]
    },
    {
     "name": "stdout",
     "output_type": "stream",
     "text": [
      "Error executing query: (psycopg2.OperationalError) connection to server at \"98.98.117.105\", port 5432 failed: FATAL:  sorry, too many clients already\n",
      "connection to server at \"98.98.117.105\", port 5432 failed: FATAL:  sorry, too many clients already\n",
      "\n",
      "(Background on this error at: https://sqlalche.me/e/20/e3q8)\n",
      "Error executing query: (psycopg2.OperationalError) connection to server at \"98.98.117.105\", port 5432 failed: FATAL:  sorry, too many clients already\n",
      "connection to server at \"98.98.117.105\", port 5432 failed: FATAL:  sorry, too many clients already\n",
      "\n",
      "(Background on this error at: https://sqlalche.me/e/20/e3q8)\n",
      "Error executing query: (psycopg2.OperationalError) connection to server at \"98.98.117.105\", port 5432 failed: FATAL:  sorry, too many clients already\n",
      "connection to server at \"98.98.117.105\", port 5432 failed: FATAL:  sorry, too many clients already\n",
      "\n",
      "(Background on this error at: https://sqlalche.me/e/20/e3q8)\n"
     ]
    },
    {
     "name": "stderr",
     "output_type": "stream",
     "text": [
      " 47%|██████████████████████████████████████████████████████████████▋                                                                       | 4676/10000 [10:16<12:03,  7.36it/s]"
     ]
    },
    {
     "name": "stdout",
     "output_type": "stream",
     "text": [
      "Error executing query: (psycopg2.OperationalError) connection to server at \"98.98.117.105\", port 5432 failed: FATAL:  sorry, too many clients already\n",
      "connection to server at \"98.98.117.105\", port 5432 failed: FATAL:  sorry, too many clients already\n",
      "\n",
      "(Background on this error at: https://sqlalche.me/e/20/e3q8)\n"
     ]
    },
    {
     "name": "stderr",
     "output_type": "stream",
     "text": [
      " 47%|██████████████████████████████████████████████████████████████▋                                                                       | 4679/10000 [10:17<11:41,  7.59it/s]"
     ]
    },
    {
     "name": "stdout",
     "output_type": "stream",
     "text": [
      "Error executing query: (psycopg2.OperationalError) connection to server at \"98.98.117.105\", port 5432 failed: FATAL:  sorry, too many clients already\n",
      "connection to server at \"98.98.117.105\", port 5432 failed: FATAL:  sorry, too many clients already\n",
      "\n",
      "(Background on this error at: https://sqlalche.me/e/20/e3q8)\n"
     ]
    },
    {
     "name": "stderr",
     "output_type": "stream",
     "text": [
      " 47%|██████████████████████████████████████████████████████████████▋                                                                       | 4682/10000 [10:17<11:15,  7.87it/s]"
     ]
    },
    {
     "name": "stdout",
     "output_type": "stream",
     "text": [
      "Error executing query: (psycopg2.OperationalError) connection to server at \"98.98.117.105\", port 5432 failed: FATAL:  sorry, too many clients already\n",
      "connection to server at \"98.98.117.105\", port 5432 failed: FATAL:  sorry, too many clients already\n",
      "\n",
      "(Background on this error at: https://sqlalche.me/e/20/e3q8)\n"
     ]
    },
    {
     "name": "stderr",
     "output_type": "stream",
     "text": [
      " 47%|██████████████████████████████████████████████████████████████▊                                                                       | 4684/10000 [10:17<10:41,  8.29it/s]"
     ]
    },
    {
     "name": "stdout",
     "output_type": "stream",
     "text": [
      "Error executing query: (psycopg2.OperationalError) connection to server at \"98.98.117.105\", port 5432 failed: FATAL:  sorry, too many clients already\n",
      "connection to server at \"98.98.117.105\", port 5432 failed: FATAL:  sorry, too many clients already\n",
      "\n",
      "(Background on this error at: https://sqlalche.me/e/20/e3q8)\n",
      "Error executing query: (psycopg2.OperationalError) connection to server at \"98.98.117.105\", port 5432 failed: FATAL:  sorry, too many clients already\n",
      "connection to server at \"98.98.117.105\", port 5432 failed: FATAL:  sorry, too many clients already\n",
      "\n",
      "(Background on this error at: https://sqlalche.me/e/20/e3q8)\n"
     ]
    },
    {
     "name": "stderr",
     "output_type": "stream",
     "text": [
      " 47%|██████████████████████████████████████████████████████████████▊                                                                       | 4686/10000 [10:17<10:20,  8.56it/s]"
     ]
    },
    {
     "name": "stdout",
     "output_type": "stream",
     "text": [
      "Error executing query: (psycopg2.OperationalError) connection to server at \"98.98.117.105\", port 5432 failed: FATAL:  sorry, too many clients already\n",
      "connection to server at \"98.98.117.105\", port 5432 failed: FATAL:  sorry, too many clients already\n",
      "\n",
      "(Background on this error at: https://sqlalche.me/e/20/e3q8)\n",
      "Error executing query: (psycopg2.OperationalError) connection to server at \"98.98.117.105\", port 5432 failed: FATAL:  sorry, too many clients already\n",
      "connection to server at \"98.98.117.105\", port 5432 failed: FATAL:  sorry, too many clients already\n",
      "\n",
      "(Background on this error at: https://sqlalche.me/e/20/e3q8)\n"
     ]
    },
    {
     "name": "stderr",
     "output_type": "stream",
     "text": [
      " 47%|██████████████████████████████████████████████████████████████▊                                                                       | 4688/10000 [10:18<10:00,  8.85it/s]"
     ]
    },
    {
     "name": "stdout",
     "output_type": "stream",
     "text": [
      "Error executing query: (psycopg2.OperationalError) connection to server at \"98.98.117.105\", port 5432 failed: FATAL:  sorry, too many clients already\n",
      "connection to server at \"98.98.117.105\", port 5432 failed: FATAL:  sorry, too many clients already\n",
      "\n",
      "(Background on this error at: https://sqlalche.me/e/20/e3q8)\n",
      "Error executing query: (psycopg2.OperationalError) connection to server at \"98.98.117.105\", port 5432 failed: FATAL:  sorry, too many clients already\n",
      "connection to server at \"98.98.117.105\", port 5432 failed: FATAL:  sorry, too many clients already\n",
      "\n",
      "(Background on this error at: https://sqlalche.me/e/20/e3q8)\n"
     ]
    },
    {
     "name": "stderr",
     "output_type": "stream",
     "text": [
      " 47%|██████████████████████████████████████████████████████████████▊                                                                       | 4690/10000 [10:18<09:48,  9.03it/s]"
     ]
    },
    {
     "name": "stdout",
     "output_type": "stream",
     "text": [
      "Error executing query: (psycopg2.OperationalError) connection to server at \"98.98.117.105\", port 5432 failed: FATAL:  sorry, too many clients already\n",
      "connection to server at \"98.98.117.105\", port 5432 failed: FATAL:  sorry, too many clients already\n",
      "\n",
      "(Background on this error at: https://sqlalche.me/e/20/e3q8)\n",
      "Error executing query: (psycopg2.OperationalError) connection to server at \"98.98.117.105\", port 5432 failed: FATAL:  sorry, too many clients already\n",
      "connection to server at \"98.98.117.105\", port 5432 failed: FATAL:  sorry, too many clients already\n",
      "\n",
      "(Background on this error at: https://sqlalche.me/e/20/e3q8)\n"
     ]
    },
    {
     "name": "stderr",
     "output_type": "stream",
     "text": [
      " 47%|██████████████████████████████████████████████████████████████▊                                                                       | 4692/10000 [10:18<09:29,  9.33it/s]"
     ]
    },
    {
     "name": "stdout",
     "output_type": "stream",
     "text": [
      "Error executing query: (psycopg2.OperationalError) connection to server at \"98.98.117.105\", port 5432 failed: FATAL:  sorry, too many clients already\n",
      "connection to server at \"98.98.117.105\", port 5432 failed: FATAL:  sorry, too many clients already\n",
      "\n",
      "(Background on this error at: https://sqlalche.me/e/20/e3q8)\n",
      "Error executing query: (psycopg2.OperationalError) connection to server at \"98.98.117.105\", port 5432 failed: FATAL:  sorry, too many clients already\n",
      "connection to server at \"98.98.117.105\", port 5432 failed: FATAL:  sorry, too many clients already\n",
      "\n",
      "(Background on this error at: https://sqlalche.me/e/20/e3q8)\n"
     ]
    },
    {
     "name": "stderr",
     "output_type": "stream",
     "text": [
      " 47%|██████████████████████████████████████████████████████████████▉                                                                       | 4693/10000 [10:18<09:30,  9.30it/s]"
     ]
    },
    {
     "name": "stdout",
     "output_type": "stream",
     "text": [
      "Error executing query: (psycopg2.OperationalError) connection to server at \"98.98.117.105\", port 5432 failed: FATAL:  sorry, too many clients already\n",
      "connection to server at \"98.98.117.105\", port 5432 failed: FATAL:  sorry, too many clients already\n",
      "\n",
      "(Background on this error at: https://sqlalche.me/e/20/e3q8)\n",
      "Error executing query: (psycopg2.OperationalError) connection to server at \"98.98.117.105\", port 5432 failed: FATAL:  sorry, too many clients already\n",
      "connection to server at \"98.98.117.105\", port 5432 failed: FATAL:  sorry, too many clients already\n",
      "\n",
      "(Background on this error at: https://sqlalche.me/e/20/e3q8)\n"
     ]
    },
    {
     "name": "stderr",
     "output_type": "stream",
     "text": [
      " 47%|███████████████████████████████████████████████████████████████▏                                                                      | 4717/10000 [10:21<10:41,  8.23it/s]"
     ]
    },
    {
     "name": "stdout",
     "output_type": "stream",
     "text": [
      "Error executing query: (psycopg2.OperationalError) connection to server at \"98.98.117.105\", port 5432 failed: FATAL:  sorry, too many clients already\n",
      "connection to server at \"98.98.117.105\", port 5432 failed: FATAL:  sorry, too many clients already\n",
      "\n",
      "(Background on this error at: https://sqlalche.me/e/20/e3q8)\n"
     ]
    },
    {
     "name": "stderr",
     "output_type": "stream",
     "text": [
      " 47%|███████████████████████████████████████████████████████████████▏                                                                      | 4720/10000 [10:22<11:06,  7.93it/s]"
     ]
    },
    {
     "name": "stdout",
     "output_type": "stream",
     "text": [
      "Error executing query: (psycopg2.OperationalError) connection to server at \"98.98.117.105\", port 5432 failed: FATAL:  sorry, too many clients already\n",
      "connection to server at \"98.98.117.105\", port 5432 failed: FATAL:  sorry, too many clients already\n",
      "\n",
      "(Background on this error at: https://sqlalche.me/e/20/e3q8)\n"
     ]
    },
    {
     "name": "stderr",
     "output_type": "stream",
     "text": [
      " 47%|███████████████████████████████████████████████████████████████▎                                                                      | 4723/10000 [10:22<10:51,  8.09it/s]"
     ]
    },
    {
     "name": "stdout",
     "output_type": "stream",
     "text": [
      "Error executing query: (psycopg2.OperationalError) connection to server at \"98.98.117.105\", port 5432 failed: FATAL:  sorry, too many clients already\n",
      "connection to server at \"98.98.117.105\", port 5432 failed: FATAL:  sorry, too many clients already\n",
      "\n",
      "(Background on this error at: https://sqlalche.me/e/20/e3q8)\n"
     ]
    },
    {
     "name": "stderr",
     "output_type": "stream",
     "text": [
      " 47%|███████████████████████████████████████████████████████████████▎                                                                      | 4725/10000 [10:22<10:30,  8.36it/s]"
     ]
    },
    {
     "name": "stdout",
     "output_type": "stream",
     "text": [
      "Error executing query: (psycopg2.OperationalError) connection to server at \"98.98.117.105\", port 5432 failed: FATAL:  sorry, too many clients already\n",
      "connection to server at \"98.98.117.105\", port 5432 failed: FATAL:  sorry, too many clients already\n",
      "\n",
      "(Background on this error at: https://sqlalche.me/e/20/e3q8)\n",
      "Error executing query: (psycopg2.OperationalError) connection to server at \"98.98.117.105\", port 5432 failed: FATAL:  sorry, too many clients already\n",
      "connection to server at \"98.98.117.105\", port 5432 failed: FATAL:  sorry, too many clients already\n",
      "\n",
      "(Background on this error at: https://sqlalche.me/e/20/e3q8)\n"
     ]
    },
    {
     "name": "stderr",
     "output_type": "stream",
     "text": [
      " 47%|███████████████████████████████████████████████████████████████▎                                                                      | 4727/10000 [10:22<09:55,  8.86it/s]"
     ]
    },
    {
     "name": "stdout",
     "output_type": "stream",
     "text": [
      "Error executing query: (psycopg2.OperationalError) connection to server at \"98.98.117.105\", port 5432 failed: FATAL:  sorry, too many clients already\n",
      "connection to server at \"98.98.117.105\", port 5432 failed: FATAL:  sorry, too many clients already\n",
      "\n",
      "(Background on this error at: https://sqlalche.me/e/20/e3q8)\n",
      "Error executing query: (psycopg2.OperationalError) connection to server at \"98.98.117.105\", port 5432 failed: FATAL:  sorry, too many clients already\n",
      "connection to server at \"98.98.117.105\", port 5432 failed: FATAL:  sorry, too many clients already\n",
      "\n",
      "(Background on this error at: https://sqlalche.me/e/20/e3q8)\n"
     ]
    },
    {
     "name": "stderr",
     "output_type": "stream",
     "text": [
      " 47%|███████████████████████████████████████████████████████████████▎                                                                      | 4729/10000 [10:23<09:40,  9.07it/s]"
     ]
    },
    {
     "name": "stdout",
     "output_type": "stream",
     "text": [
      "Error executing query: (psycopg2.OperationalError) connection to server at \"98.98.117.105\", port 5432 failed: FATAL:  sorry, too many clients already\n",
      "connection to server at \"98.98.117.105\", port 5432 failed: FATAL:  sorry, too many clients already\n",
      "\n",
      "(Background on this error at: https://sqlalche.me/e/20/e3q8)\n",
      "Error executing query: (psycopg2.OperationalError) connection to server at \"98.98.117.105\", port 5432 failed: FATAL:  sorry, too many clients already\n",
      "connection to server at \"98.98.117.105\", port 5432 failed: FATAL:  sorry, too many clients already\n",
      "\n",
      "(Background on this error at: https://sqlalche.me/e/20/e3q8)\n"
     ]
    },
    {
     "name": "stderr",
     "output_type": "stream",
     "text": [
      " 47%|███████████████████████████████████████████████████████████████▍                                                                      | 4732/10000 [10:23<09:13,  9.52it/s]"
     ]
    },
    {
     "name": "stdout",
     "output_type": "stream",
     "text": [
      "Error executing query: (psycopg2.OperationalError) connection to server at \"98.98.117.105\", port 5432 failed: FATAL:  sorry, too many clients already\n",
      "connection to server at \"98.98.117.105\", port 5432 failed: FATAL:  sorry, too many clients already\n",
      "\n",
      "(Background on this error at: https://sqlalche.me/e/20/e3q8)\n",
      "Error executing query: (psycopg2.OperationalError) connection to server at \"98.98.117.105\", port 5432 failed: FATAL:  sorry, too many clients already\n",
      "connection to server at \"98.98.117.105\", port 5432 failed: FATAL:  sorry, too many clients already\n",
      "\n",
      "(Background on this error at: https://sqlalche.me/e/20/e3q8)\n",
      "Error executing query: (psycopg2.OperationalError) connection to server at \"98.98.117.105\", port 5432 failed: FATAL:  sorry, too many clients already\n",
      "connection to server at \"98.98.117.105\", port 5432 failed: FATAL:  sorry, too many clients already\n",
      "\n",
      "(Background on this error at: https://sqlalche.me/e/20/e3q8)\n"
     ]
    },
    {
     "name": "stderr",
     "output_type": "stream",
     "text": [
      " 47%|███████████████████████████████████████████████████████████████▍                                                                      | 4734/10000 [10:23<08:44, 10.04it/s]"
     ]
    },
    {
     "name": "stdout",
     "output_type": "stream",
     "text": [
      "Error executing query: (psycopg2.OperationalError) connection to server at \"98.98.117.105\", port 5432 failed: FATAL:  sorry, too many clients already\n",
      "connection to server at \"98.98.117.105\", port 5432 failed: FATAL:  sorry, too many clients already\n",
      "\n",
      "(Background on this error at: https://sqlalche.me/e/20/e3q8)\n",
      "Error executing query: (psycopg2.OperationalError) connection to server at \"98.98.117.105\", port 5432 failed: FATAL:  sorry, too many clients already\n",
      "connection to server at \"98.98.117.105\", port 5432 failed: FATAL:  sorry, too many clients already\n",
      "\n",
      "(Background on this error at: https://sqlalche.me/e/20/e3q8)\n"
     ]
    },
    {
     "name": "stderr",
     "output_type": "stream",
     "text": [
      " 47%|███████████████████████████████████████████████████████████████▍                                                                      | 4736/10000 [10:23<08:56,  9.81it/s]"
     ]
    },
    {
     "name": "stdout",
     "output_type": "stream",
     "text": [
      "Error executing query: (psycopg2.OperationalError) connection to server at \"98.98.117.105\", port 5432 failed: FATAL:  sorry, too many clients already\n",
      "connection to server at \"98.98.117.105\", port 5432 failed: FATAL:  sorry, too many clients already\n",
      "\n",
      "(Background on this error at: https://sqlalche.me/e/20/e3q8)\n"
     ]
    },
    {
     "name": "stderr",
     "output_type": "stream",
     "text": [
      " 48%|███████████████████████████████████████████████████████████████▊                                                                      | 4761/10000 [10:27<11:09,  7.82it/s]"
     ]
    },
    {
     "name": "stdout",
     "output_type": "stream",
     "text": [
      "Error executing query: (psycopg2.OperationalError) connection to server at \"98.98.117.105\", port 5432 failed: FATAL:  sorry, too many clients already\n",
      "connection to server at \"98.98.117.105\", port 5432 failed: FATAL:  sorry, too many clients already\n",
      "\n",
      "(Background on this error at: https://sqlalche.me/e/20/e3q8)\n"
     ]
    },
    {
     "name": "stderr",
     "output_type": "stream",
     "text": [
      " 48%|███████████████████████████████████████████████████████████████▊                                                                      | 4764/10000 [10:27<10:26,  8.35it/s]"
     ]
    },
    {
     "name": "stdout",
     "output_type": "stream",
     "text": [
      "Error executing query: (psycopg2.OperationalError) connection to server at \"98.98.117.105\", port 5432 failed: FATAL:  sorry, too many clients already\n",
      "connection to server at \"98.98.117.105\", port 5432 failed: FATAL:  sorry, too many clients already\n",
      "\n",
      "(Background on this error at: https://sqlalche.me/e/20/e3q8)\n"
     ]
    },
    {
     "name": "stderr",
     "output_type": "stream",
     "text": [
      " 48%|███████████████████████████████████████████████████████████████▊                                                                      | 4766/10000 [10:27<09:54,  8.81it/s]"
     ]
    },
    {
     "name": "stdout",
     "output_type": "stream",
     "text": [
      "Error executing query: (psycopg2.OperationalError) connection to server at \"98.98.117.105\", port 5432 failed: FATAL:  sorry, too many clients already\n",
      "connection to server at \"98.98.117.105\", port 5432 failed: FATAL:  sorry, too many clients already\n",
      "\n",
      "(Background on this error at: https://sqlalche.me/e/20/e3q8)\n",
      "Error executing query: (psycopg2.OperationalError) connection to server at \"98.98.117.105\", port 5432 failed: FATAL:  sorry, too many clients already\n",
      "connection to server at \"98.98.117.105\", port 5432 failed: FATAL:  sorry, too many clients already\n",
      "\n",
      "(Background on this error at: https://sqlalche.me/e/20/e3q8)\n"
     ]
    },
    {
     "name": "stderr",
     "output_type": "stream",
     "text": [
      " 48%|███████████████████████████████████████████████████████████████▉                                                                      | 4768/10000 [10:27<09:33,  9.12it/s]"
     ]
    },
    {
     "name": "stdout",
     "output_type": "stream",
     "text": [
      "Error executing query: (psycopg2.OperationalError) connection to server at \"98.98.117.105\", port 5432 failed: FATAL:  sorry, too many clients already\n",
      "connection to server at \"98.98.117.105\", port 5432 failed: FATAL:  sorry, too many clients already\n",
      "\n",
      "(Background on this error at: https://sqlalche.me/e/20/e3q8)\n",
      "Error executing query: (psycopg2.OperationalError) connection to server at \"98.98.117.105\", port 5432 failed: FATAL:  sorry, too many clients already\n",
      "connection to server at \"98.98.117.105\", port 5432 failed: FATAL:  sorry, too many clients already\n",
      "\n",
      "(Background on this error at: https://sqlalche.me/e/20/e3q8)\n"
     ]
    },
    {
     "name": "stderr",
     "output_type": "stream",
     "text": [
      " 48%|███████████████████████████████████████████████████████████████▉                                                                      | 4771/10000 [10:28<08:59,  9.69it/s]"
     ]
    },
    {
     "name": "stdout",
     "output_type": "stream",
     "text": [
      "Error executing query: (psycopg2.OperationalError) connection to server at \"98.98.117.105\", port 5432 failed: FATAL:  sorry, too many clients already\n",
      "connection to server at \"98.98.117.105\", port 5432 failed: FATAL:  sorry, too many clients already\n",
      "\n",
      "(Background on this error at: https://sqlalche.me/e/20/e3q8)\n",
      "Error executing query: (psycopg2.OperationalError) connection to server at \"98.98.117.105\", port 5432 failed: FATAL:  sorry, too many clients already\n",
      "connection to server at \"98.98.117.105\", port 5432 failed: FATAL:  sorry, too many clients already\n",
      "\n",
      "(Background on this error at: https://sqlalche.me/e/20/e3q8)\n",
      "Error executing query: (psycopg2.OperationalError) connection to server at \"98.98.117.105\", port 5432 failed: FATAL:  sorry, too many clients already\n",
      "connection to server at \"98.98.117.105\", port 5432 failed: FATAL:  sorry, too many clients already\n",
      "\n",
      "(Background on this error at: https://sqlalche.me/e/20/e3q8)\n"
     ]
    },
    {
     "name": "stderr",
     "output_type": "stream",
     "text": [
      " 48%|███████████████████████████████████████████████████████████████▉                                                                      | 4773/10000 [10:28<09:07,  9.55it/s]"
     ]
    },
    {
     "name": "stdout",
     "output_type": "stream",
     "text": [
      "Error executing query: (psycopg2.OperationalError) connection to server at \"98.98.117.105\", port 5432 failed: FATAL:  sorry, too many clients already\n",
      "connection to server at \"98.98.117.105\", port 5432 failed: FATAL:  sorry, too many clients already\n",
      "\n",
      "(Background on this error at: https://sqlalche.me/e/20/e3q8)\n",
      "Error executing query: (psycopg2.OperationalError) connection to server at \"98.98.117.105\", port 5432 failed: FATAL:  sorry, too many clients already\n",
      "connection to server at \"98.98.117.105\", port 5432 failed: FATAL:  sorry, too many clients already\n",
      "\n",
      "(Background on this error at: https://sqlalche.me/e/20/e3q8)\n"
     ]
    },
    {
     "name": "stderr",
     "output_type": "stream",
     "text": [
      " 48%|███████████████████████████████████████████████████████████████▉                                                                      | 4775/10000 [10:28<09:13,  9.44it/s]"
     ]
    },
    {
     "name": "stdout",
     "output_type": "stream",
     "text": [
      "Error executing query: (psycopg2.OperationalError) connection to server at \"98.98.117.105\", port 5432 failed: FATAL:  sorry, too many clients already\n",
      "connection to server at \"98.98.117.105\", port 5432 failed: FATAL:  sorry, too many clients already\n",
      "\n",
      "(Background on this error at: https://sqlalche.me/e/20/e3q8)\n",
      "Error executing query: (psycopg2.OperationalError) connection to server at \"98.98.117.105\", port 5432 failed: FATAL:  sorry, too many clients already\n",
      "connection to server at \"98.98.117.105\", port 5432 failed: FATAL:  sorry, too many clients already\n",
      "\n",
      "(Background on this error at: https://sqlalche.me/e/20/e3q8)\n"
     ]
    },
    {
     "name": "stderr",
     "output_type": "stream",
     "text": [
      " 48%|████████████████████████████████████████████████████████████████                                                                      | 4777/10000 [10:28<09:46,  8.90it/s]"
     ]
    },
    {
     "name": "stdout",
     "output_type": "stream",
     "text": [
      "Error executing query: (psycopg2.OperationalError) connection to server at \"98.98.117.105\", port 5432 failed: FATAL:  sorry, too many clients already\n",
      "connection to server at \"98.98.117.105\", port 5432 failed: FATAL:  sorry, too many clients already\n",
      "\n",
      "(Background on this error at: https://sqlalche.me/e/20/e3q8)\n"
     ]
    },
    {
     "name": "stderr",
     "output_type": "stream",
     "text": [
      " 48%|████████████████████████████████████████████████████████████████▎                                                                     | 4802/10000 [10:32<11:27,  7.56it/s]"
     ]
    },
    {
     "name": "stdout",
     "output_type": "stream",
     "text": [
      "Error executing query: (psycopg2.OperationalError) connection to server at \"98.98.117.105\", port 5432 failed: FATAL:  sorry, too many clients already\n",
      "connection to server at \"98.98.117.105\", port 5432 failed: FATAL:  sorry, too many clients already\n",
      "\n",
      "(Background on this error at: https://sqlalche.me/e/20/e3q8)\n"
     ]
    },
    {
     "name": "stderr",
     "output_type": "stream",
     "text": [
      " 48%|████████████████████████████████████████████████████████████████▍                                                                     | 4805/10000 [10:32<11:16,  7.68it/s]"
     ]
    },
    {
     "name": "stdout",
     "output_type": "stream",
     "text": [
      "Error executing query: (psycopg2.OperationalError) connection to server at \"98.98.117.105\", port 5432 failed: FATAL:  sorry, too many clients already\n",
      "connection to server at \"98.98.117.105\", port 5432 failed: FATAL:  sorry, too many clients already\n",
      "\n",
      "(Background on this error at: https://sqlalche.me/e/20/e3q8)\n"
     ]
    },
    {
     "name": "stderr",
     "output_type": "stream",
     "text": [
      " 48%|████████████████████████████████████████████████████████████████▍                                                                     | 4806/10000 [10:32<10:38,  8.13it/s]"
     ]
    },
    {
     "name": "stdout",
     "output_type": "stream",
     "text": [
      "Error executing query: (psycopg2.OperationalError) connection to server at \"98.98.117.105\", port 5432 failed: FATAL:  sorry, too many clients already\n",
      "connection to server at \"98.98.117.105\", port 5432 failed: FATAL:  sorry, too many clients already\n",
      "\n",
      "(Background on this error at: https://sqlalche.me/e/20/e3q8)\n",
      "Error executing query: (psycopg2.OperationalError) connection to server at \"98.98.117.105\", port 5432 failed: FATAL:  sorry, too many clients already\n",
      "connection to server at \"98.98.117.105\", port 5432 failed: FATAL:  sorry, too many clients already\n",
      "\n",
      "(Background on this error at: https://sqlalche.me/e/20/e3q8)\n"
     ]
    },
    {
     "name": "stderr",
     "output_type": "stream",
     "text": [
      " 48%|████████████████████████████████████████████████████████████████▍                                                                     | 4809/10000 [10:32<09:45,  8.86it/s]"
     ]
    },
    {
     "name": "stdout",
     "output_type": "stream",
     "text": [
      "Error executing query: (psycopg2.OperationalError) connection to server at \"98.98.117.105\", port 5432 failed: FATAL:  sorry, too many clients already\n",
      "connection to server at \"98.98.117.105\", port 5432 failed: FATAL:  sorry, too many clients already\n",
      "\n",
      "(Background on this error at: https://sqlalche.me/e/20/e3q8)\n",
      "Error executing query: (psycopg2.OperationalError) connection to server at \"98.98.117.105\", port 5432 failed: FATAL:  sorry, too many clients already\n",
      "connection to server at \"98.98.117.105\", port 5432 failed: FATAL:  sorry, too many clients already\n",
      "\n",
      "(Background on this error at: https://sqlalche.me/e/20/e3q8)\n"
     ]
    },
    {
     "name": "stderr",
     "output_type": "stream",
     "text": [
      " 48%|████████████████████████████████████████████████████████████████▍                                                                     | 4811/10000 [10:33<09:09,  9.45it/s]"
     ]
    },
    {
     "name": "stdout",
     "output_type": "stream",
     "text": [
      "Error executing query: (psycopg2.OperationalError) connection to server at \"98.98.117.105\", port 5432 failed: FATAL:  sorry, too many clients already\n",
      "connection to server at \"98.98.117.105\", port 5432 failed: FATAL:  sorry, too many clients already\n",
      "\n",
      "(Background on this error at: https://sqlalche.me/e/20/e3q8)\n",
      "Error executing query: (psycopg2.OperationalError) connection to server at \"98.98.117.105\", port 5432 failed: FATAL:  sorry, too many clients already\n",
      "connection to server at \"98.98.117.105\", port 5432 failed: FATAL:  sorry, too many clients already\n",
      "\n",
      "(Background on this error at: https://sqlalche.me/e/20/e3q8)\n",
      "Error executing query: (psycopg2.OperationalError) connection to server at \"98.98.117.105\", port 5432 failed: FATAL:  sorry, too many clients already\n",
      "connection to server at \"98.98.117.105\", port 5432 failed: FATAL:  sorry, too many clients already\n",
      "\n",
      "(Background on this error at: https://sqlalche.me/e/20/e3q8)\n"
     ]
    },
    {
     "name": "stderr",
     "output_type": "stream",
     "text": [
      " 48%|████████████████████████████████████████████████████████████████▌                                                                     | 4814/10000 [10:33<09:08,  9.45it/s]"
     ]
    },
    {
     "name": "stdout",
     "output_type": "stream",
     "text": [
      "Error executing query: (psycopg2.OperationalError) connection to server at \"98.98.117.105\", port 5432 failed: FATAL:  sorry, too many clients already\n",
      "connection to server at \"98.98.117.105\", port 5432 failed: FATAL:  sorry, too many clients already\n",
      "\n",
      "(Background on this error at: https://sqlalche.me/e/20/e3q8)\n",
      "Error executing query: (psycopg2.OperationalError) connection to server at \"98.98.117.105\", port 5432 failed: FATAL:  sorry, too many clients already\n",
      "connection to server at \"98.98.117.105\", port 5432 failed: FATAL:  sorry, too many clients already\n",
      "\n",
      "(Background on this error at: https://sqlalche.me/e/20/e3q8)\n"
     ]
    },
    {
     "name": "stderr",
     "output_type": "stream",
     "text": [
      " 48%|████████████████████████████████████████████████████████████████▌                                                                     | 4816/10000 [10:33<10:03,  8.59it/s]"
     ]
    },
    {
     "name": "stdout",
     "output_type": "stream",
     "text": [
      "Error executing query: (psycopg2.OperationalError) connection to server at \"98.98.117.105\", port 5432 failed: FATAL:  sorry, too many clients already\n",
      "connection to server at \"98.98.117.105\", port 5432 failed: FATAL:  sorry, too many clients already\n",
      "\n",
      "(Background on this error at: https://sqlalche.me/e/20/e3q8)\n"
     ]
    },
    {
     "name": "stderr",
     "output_type": "stream",
     "text": [
      " 48%|████████████████████████████████████████████████████████████████▌                                                                     | 4818/10000 [10:33<10:28,  8.25it/s]"
     ]
    },
    {
     "name": "stdout",
     "output_type": "stream",
     "text": [
      "Error executing query: (psycopg2.OperationalError) connection to server at \"98.98.117.105\", port 5432 failed: FATAL:  sorry, too many clients already\n",
      "connection to server at \"98.98.117.105\", port 5432 failed: FATAL:  sorry, too many clients already\n",
      "\n",
      "(Background on this error at: https://sqlalche.me/e/20/e3q8)\n"
     ]
    },
    {
     "name": "stderr",
     "output_type": "stream",
     "text": [
      " 73%|█████████████████████████████████████████████████████████████████████████████████████████████████▉                                    | 7313/10000 [16:00<05:52,  7.62it/s]\n"
     ]
    }
   ],
   "source": [
    "#\n",
    "# Calculate sentiment from table twitter_tweets and record to rdbms\n",
    "# \n",
    "select_query = \"\"\"\n",
    "SELECT t.id, t.tweet\n",
    "FROM twitter_tweets t\n",
    "LEFT JOIN twitter_tweets_result_sentiment r ON t.id = r.twitter_tweets_id\n",
    "WHERE r.twitter_tweets_id IS NULL\n",
    "ORDER BY t.id desc limit 10000\n",
    "\"\"\"\n",
    "\n",
    "source_ds = execute_query(select_query)\n",
    "\n",
    "if len(source_ds) != 0:\n",
    "    for i in tqdm(range(len(source_ds))):\n",
    "        row = source_ds.iloc[i]\n",
    "        id = row['id']\n",
    "        out_row = calculate_sentiment(row, 'tweet')\n",
    "        \n",
    "        ssql = \"\"\"\n",
    "INSERT into twitter_tweets_result_sentiment (sentiment_category, score, twitter_tweets_id)\n",
    "VALUES (%s, %s, %s);\n",
    "\"\"\" %(out_row['sentiment_category'],out_row['score'],row['id'])\n",
    "        execute_query(ssql)\n",
    "\n",
    "\n"
   ]
  },
  {
   "cell_type": "code",
   "execution_count": null,
   "id": "325b5528-6ca4-411d-9b57-069e3a6d3a25",
   "metadata": {},
   "outputs": [],
   "source": [
    "# \n",
    "# calculate sentiment result for google_result\n",
    "# \n",
    "\n",
    "def record_google_sentiment(row):\n",
    "    ssql = \"\"\"\n",
    "    INSERT INTO public.google_result_sentiment \n",
    "    (id, sentiment_category, score, google_result_id) \n",
    "    VALUES(nextval('google_result_sentiment_id_seq'::regclass), %s, %s, %s);\n",
    "    \"\"\" %(row['sentiment_category'],row['score'],row['google_result_id'])\n",
    "    #\n",
    "    # print(ssql)\n",
    "    execute_query(ssql)\n",
    "\n",
    "select_query = \"select * \\\n",
    "from google_result gr \\\n",
    "where google_result_id not in (select google_result_id from google_result_sentiment) \\\n",
    "order by google_result_id desc limit 100\"\n",
    "\n",
    "source_ds2 = execute_query(select_query)\n",
    "\n",
    "if len(source_ds2) != 0:\n",
    "    source_ds2[['sentiment_category','score']] = source_ds2.apply(calculate_sentiment, args=('title',), axis=1)\n",
    "    source_ds2.apply(record_google_sentiment, axis=1)\n"
   ]
  }
 ],
 "metadata": {
  "kernelspec": {
   "display_name": "Python 3 (ipykernel)",
   "language": "python",
   "name": "python3"
  },
  "language_info": {
   "codemirror_mode": {
    "name": "ipython",
    "version": 3
   },
   "file_extension": ".py",
   "mimetype": "text/x-python",
   "name": "python",
   "nbconvert_exporter": "python",
   "pygments_lexer": "ipython3",
   "version": "3.10.9"
  }
 },
 "nbformat": 4,
 "nbformat_minor": 5
}
