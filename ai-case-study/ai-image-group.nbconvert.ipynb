{
 "cells": [
  {
   "cell_type": "markdown",
   "id": "77be3745-de0f-4f27-a7ce-f0b3839d647f",
   "metadata": {
    "editable": true,
    "slideshow": {
     "slide_type": ""
    },
    "tags": []
   },
   "source": [
    "1. get sample image\n",
    "2. download image\n",
    "3. perform imnage grouping\n",
    "4. inspect result\n",
    "\n",
    "Next items to do, prepare and package as jobs\n",
    "1. create auto-query\n",
    "2. create sql to store result\n",
    "3. export to executable py\n",
    "\n",
    "\n",
    "# Plot sse against k\n",
    "plt.figure(figsize=(6, 6))\n",
    "plt.plot(list_k, sse)\n",
    "plt.xlabel(r'Number of clusters *k*')\n",
    "plt.ylabel('Sum of squared distance');\n",
    "\n",
    "# prepare data for saving to rdbms\n",
    "# print(clus_new)\n",
    "# i = 0 \n",
    "result_cluster = []\n",
    "\n",
    "for item in clus_new:\n",
    "    # print(clus_new[item])\n",
    "    print(len(clus_new[item]))\n",
    "    for file in clus_new[item]:\n",
    "        # print(file, item)\n",
    "        result_cluster.append(file)\n",
    "    # i = i + 1\n",
    "\n",
    "# view_cluster_2(0)\n",
    "len(clus_new)\n",
    "len(result_cluster)\n",
    "\n",
    "\n",
    " * Kesepakatan status di kolom screen_analisis_ai.status\n",
    " * 1 --> baru diinput\n",
    " * 2 --> lagi dikerjakan\n",
    " * 3 --> proses berhasil\n",
    " * 4 --> proses gagal\n",
    " *\n",
    " \n",
    " * Kesepakatan jenis analisa AI\n",
    " * 1 --> Analisa Cluster\n",
    " * 2 --> Analisa image clustering\n",
    " * 3 --> Analisa sentiment\n"
   ]
  },
  {
   "cell_type": "code",
   "execution_count": 1,
   "id": "ff0951b4-bdc4-4c7a-9846-016d02539805",
   "metadata": {
    "execution": {
     "iopub.execute_input": "2024-03-11T09:09:03.759408Z",
     "iopub.status.busy": "2024-03-11T09:09:03.759055Z",
     "iopub.status.idle": "2024-03-11T09:09:06.438962Z",
     "shell.execute_reply": "2024-03-11T09:09:06.438261Z"
    },
    "jupyter": {
     "source_hidden": true
    }
   },
   "outputs": [
    {
     "name": "stderr",
     "output_type": "stream",
     "text": [
      "2024-03-11 09:09:03.967699: I tensorflow/core/util/port.cc:110] oneDNN custom operations are on. You may see slightly different numerical results due to floating-point round-off errors from different computation orders. To turn them off, set the environment variable `TF_ENABLE_ONEDNN_OPTS=0`.\n",
      "2024-03-11 09:09:03.969907: I tensorflow/tsl/cuda/cudart_stub.cc:28] Could not find cuda drivers on your machine, GPU will not be used.\n",
      "2024-03-11 09:09:04.015694: I tensorflow/tsl/cuda/cudart_stub.cc:28] Could not find cuda drivers on your machine, GPU will not be used.\n",
      "2024-03-11 09:09:04.016749: I tensorflow/core/platform/cpu_feature_guard.cc:182] This TensorFlow binary is optimized to use available CPU instructions in performance-critical operations.\n",
      "To enable the following instructions: AVX2 AVX512F AVX512_VNNI FMA, in other operations, rebuild TensorFlow with the appropriate compiler flags.\n"
     ]
    },
    {
     "name": "stderr",
     "output_type": "stream",
     "text": [
      "2024-03-11 09:09:04.798195: W tensorflow/compiler/tf2tensorrt/utils/py_utils.cc:38] TF-TRT Warning: Could not find TensorRT\n"
     ]
    }
   ],
   "source": [
    "# for loading/processing the images  \n",
    "from keras.preprocessing.image import load_img \n",
    "from keras.preprocessing.image import img_to_array \n",
    "from keras.applications.vgg16 import preprocess_input \n",
    "from sklearn.metrics.pairwise import cosine_similarity\n",
    "\n",
    "# models \n",
    "from keras.applications.vgg16 import VGG16 \n",
    "from keras.models import Model\n",
    "\n",
    "# clustering and dimension reduction\n",
    "from sklearn.cluster import KMeans\n",
    "from sklearn.decomposition import PCA\n",
    "\n",
    "# for everything else\n",
    "import os\n",
    "import numpy as np\n",
    "import matplotlib.pyplot as plt\n",
    "from random import randint\n",
    "import pandas as pd\n",
    "import pickle\n",
    "import requests\n",
    "from pathlib import Path\n",
    "from sqlalchemy import create_engine\n",
    "from sqlalchemy.exc import SQLAlchemyError\n",
    "from PIL import Image\n",
    "from io import BytesIO\n",
    "from urllib.parse import urlparse"
   ]
  },
  {
   "cell_type": "code",
   "execution_count": 2,
   "id": "51bdb754-c427-4732-8940-d82b64678866",
   "metadata": {
    "editable": true,
    "execution": {
     "iopub.execute_input": "2024-03-11T09:09:06.442721Z",
     "iopub.status.busy": "2024-03-11T09:09:06.442322Z",
     "iopub.status.idle": "2024-03-11T09:09:06.650911Z",
     "shell.execute_reply": "2024-03-11T09:09:06.650277Z"
    },
    "jupyter": {
     "source_hidden": true
    },
    "slideshow": {
     "slide_type": ""
    },
    "tags": []
   },
   "outputs": [],
   "source": [
    "def resize_and_upload_image(url, save_folder):\n",
    "    try:\n",
    "        # Fetch the image from the URL\n",
    "        response = requests.get(url)\n",
    "        response.raise_for_status()\n",
    "\n",
    "        # Open the image from the response content\n",
    "        image = Image.open(BytesIO(response.content))\n",
    "\n",
    "        # Check the image size in bytes\n",
    "        image_size = len(response.content)\n",
    "\n",
    "        # Set the maximum allowed size in bytes (200KB)\n",
    "        max_size = 200 * 1024\n",
    "\n",
    "        # Extract the base path from the URL for saving the images\n",
    "        parsed_url = urlparse(url)\n",
    "        base_path = os.path.basename(parsed_url.path)\n",
    "\n",
    "        # Determine the paths for saving the images\n",
    "        original_image_path = os.path.join(save_folder, 'original_' + base_path)\n",
    "        resized_image_path = os.path.join(save_folder, 'resized_' + base_path)\n",
    "\n",
    "        # If the image size exceeds the maximum allowed size, resize it\n",
    "        if image_size > max_size:\n",
    "            print('more than 200kb')\n",
    "            print(original_image_path)\n",
    "            print(resized_image_path)\n",
    "            \n",
    "            # Calculate the scaling factor to reduce the image size\n",
    "            scale_factor = (max_size / image_size) ** 0.5\n",
    "            new_width = int(image.width * scale_factor)\n",
    "            new_height = int(image.height * scale_factor)\n",
    "\n",
    "            # Resize the image\n",
    "            resized_image = image.resize((new_width, new_height), Image.ANTIALIAS)\n",
    "\n",
    "            # Save the resized image to the local folder\n",
    "            resized_image.save(resized_image_path, format=\"JPEG\")\n",
    "\n",
    "            # Reupload the resized image to the original location\n",
    "            with open(resized_image_path, 'rb') as resized_file:\n",
    "                reupload_url = url  # Use the original URL for reupload\n",
    "                print(url)\n",
    "                files = {'file': ('resized_' + base_path, resized_file)}\n",
    "                reupload_response = requests.post(reupload_url, files=files)\n",
    "                print(reupload_response)\n",
    "\n",
    "            # Delete the original image in the local folder\n",
    "            os.remove(original_image_path)\n",
    "\n",
    "        else:\n",
    "            # Image is smaller than 200KB, no need to resize or reupload\n",
    "            resized_image_path = original_image_path\n",
    "\n",
    "        return original_image_path, resized_image_path\n",
    "\n",
    "    except Exception as e:\n",
    "        # Handle errors such as invalid URLs or image processing issues\n",
    "        return str(e)\n",
    "\n",
    "# Example usage:\n",
    "# imageURL = \"https://example.com/path/to/your/image.jpg\"\n",
    "# save_folder = \"path/to/your/local/folder\"\n",
    "# original_image_path, resized_image_path = resize_and_upload_image(imageURL, save_folder)\n",
    "# Both original_image_path and resized_image_path will contain the file paths in the local folder.\n",
    "\n",
    "def download_image(url, folder_path):\n",
    "    try:\n",
    "        # Send an HTTP GET request to the URL\n",
    "        response = requests.get(url)\n",
    "\n",
    "        # Check if the request was successful (status code 200)\n",
    "        if response.status_code == 200:\n",
    "            # Extract the filename from the URL\n",
    "            filename = os.path.join(folder_path, os.path.basename(url))\n",
    "\n",
    "            # Save the image to the specified folder location\n",
    "            with open(filename, 'wb') as file:\n",
    "                file.write(response.content)\n",
    "            file_size_bytes = os.path.getsize(filename)\n",
    "            file_size_kb = file_size_bytes / 1024\n",
    "\n",
    "            if file_size_kb >= 200:\n",
    "                print(\"Resizing...\")\n",
    "                resize_and_upload_image(filename,url)\n",
    "            # print(f\"Image downloaded and saved as {filename}\")\n",
    "        else:\n",
    "            print(f\"Failed to download image. Status code: {response.status_code}\")\n",
    "\n",
    "    except Exception as e:\n",
    "        print(f\"Error: {str(e)}\")\n",
    "\n",
    "def resize_and_upload_image(file_path, upload_url, target_size_kb=200):\n",
    "    try:\n",
    "        # Open the image from the file\n",
    "        with Image.open(file_path) as image:\n",
    "            # Calculate the target size in bytes\n",
    "            target_size_bytes = target_size_kb * 1024\n",
    "\n",
    "            # Initialize the quality variable\n",
    "            quality = 95\n",
    "\n",
    "            while os.path.getsize(file_path) > target_size_bytes:\n",
    "                # Resize the image while keeping the quality constant\n",
    "                width, height = image.size\n",
    "                new_width = int(width * 0.9)\n",
    "                new_height = int(height * 0.9)\n",
    "\n",
    "                # Ensure the dimensions are at least 1\n",
    "                new_width = max(1, new_width)\n",
    "                new_height = max(1, new_height)\n",
    "\n",
    "                image = image.resize((new_width, new_height), Image.LANCZOS)\n",
    "\n",
    "                # Save the resized image to the same file\n",
    "                image.save(file_path, \"JPEG\", quality=quality)\n",
    "\n",
    "            if os.path.getsize(file_path) <= target_size_bytes:\n",
    "                print(f\"Image resized and overwritten at: {file_path}\")\n",
    "\n",
    "                # Upload the resized image to the given URL\n",
    "                with open(file_path, 'rb') as file:\n",
    "                    response = requests.post(upload_url, files={'file': (os.path.basename(file_path), file)})\n",
    "\n",
    "                if response.status_code == 200:\n",
    "                    print(f\"Image uploaded to {upload_url}\")\n",
    "                else:\n",
    "                    print(f\"Upload failed with status code {response.status_code}\")\n",
    "            else:\n",
    "                print(f\"Image not resized, not uploaded.\")\n",
    "                \n",
    "    except Exception as e:\n",
    "        print(f\"Error: {e}\")\n",
    "\n",
    "## query functions\n",
    "\n",
    "\n",
    "import pandas as pd\n",
    "from sqlalchemy import create_engine, Column, Integer, String, MetaData, Table\n",
    "from sqlalchemy.orm import sessionmaker\n",
    "from sqlalchemy.exc import SQLAlchemyError\n",
    "from sqlalchemy.util import deprecations\n",
    "from sqlalchemy.sql import text\n",
    "deprecations.SILENCE_UBER_WARNING = True\n",
    "\n",
    "def execute_query_psql(query, params=None):\n",
    "    # Set your PostgreSQL connection parameters\n",
    "    db_params = {\n",
    "        'host': '98.98.117.105',\n",
    "        'port': '5432',\n",
    "        'database': 'medols',\n",
    "        'user': 'postgres',\n",
    "        'password': 'FEWcTB3JIX5gK4T06c1MdkM9N2S8w9pb',\n",
    "    }\n",
    "\n",
    "    # Create a SQLAlchemy engine\n",
    "    engine = create_engine(f\"postgresql+psycopg2://{db_params['user']}:{db_params['password']}@{db_params['host']}:{db_params['port']}/{db_params['database']}\")\n",
    "\n",
    "    # Create a metadata object\n",
    "    metadata = MetaData()\n",
    "\n",
    "    # Create a session\n",
    "    Session = sessionmaker(bind=engine)\n",
    "    session = Session()\n",
    "\n",
    "    try:\n",
    "        # Execute the query with optional parameters\n",
    "        result = session.execute(text(query), params)\n",
    "\n",
    "        # Check if the query is a SELECT query\n",
    "        is_select_query = result.returns_rows\n",
    "\n",
    "        if is_select_query:\n",
    "            # Fetch the data and return as a Pandas DataFrame\n",
    "            columns = result.keys()\n",
    "            fetched_data = result.fetchall()\n",
    "            df = pd.DataFrame(fetched_data, columns=columns)\n",
    "            # print(\"Fetched Data as DataFrame:\")\n",
    "            # print(df)\n",
    "            return df\n",
    "        else:\n",
    "            # Get the number of rows affected for non-SELECT queries\n",
    "            rows_affected = result.rowcount\n",
    "\n",
    "            # Commit the changes to the database for non-SELECT queries\n",
    "            session.commit()\n",
    "\n",
    "            print(f\"Query executed successfully. {rows_affected} rows affected.\")\n",
    "            return rows_affected\n",
    "    except Exception as e:\n",
    "        # Rollback changes if there's an error\n",
    "        session.rollback()\n",
    "        print(f\"Error executing query: {e}\")\n",
    "    finally:\n",
    "        # Close the session\n",
    "        session.close()\n",
    "\n",
    "def clear_image():\n",
    "    folder_path = '/home/jup_user/multipool/ai-case-study/img'\n",
    "    # Create a Path object for the folder\n",
    "    folder = Path(folder_path)\n",
    "    \n",
    "    # Iterate through the files in the folder and delete them\n",
    "    for file in folder.iterdir():\n",
    "        try:\n",
    "            if file.is_file():\n",
    "                file.unlink()\n",
    "                # print(f\"Deleted {file}\")\n",
    "            else:\n",
    "                print(f\"{file} is not a file.\")\n",
    "        except Exception as e:\n",
    "            print(f\"Error deleting {file}: {str(e)}\")\n",
    "\n",
    "# extracting feature from image files\n",
    "def extract_features(file, model):\n",
    "    # load the image as a 224x224 array\n",
    "    img = load_img(file, target_size=(224,224))\n",
    "    # convert from 'PIL.Image.Image' to numpy array\n",
    "    img = np.array(img) \n",
    "    # reshape the data for the model reshape(num_of_samples, dim 1, dim 2, channels)\n",
    "    reshaped_img = img.reshape(1,224,224,3) \n",
    "    # prepare image for model\n",
    "    imgx = preprocess_input(reshaped_img)\n",
    "    # get the feature vector\n",
    "    features = model.predict(imgx, use_multiprocessing=True)\n",
    "    return features\n",
    "\n",
    "# function that lets you view a cluster (based on identifier)        \n",
    "def view_cluster(cluster):\n",
    "    plt.figure(figsize = (25,25));\n",
    "    # gets the list of filenames for a cluster\n",
    "    files = groups[cluster]\n",
    "    # only allow up to 30 images to be shown at a time\n",
    "    if len(files) > 30:\n",
    "        print(f\"Clipping cluster size from {len(files)} to 30\")\n",
    "        files = files[:29]\n",
    "    # plot each image in the cluster\n",
    "    for index, file in enumerate(files):\n",
    "        plt.subplot(10,10,index+1);\n",
    "        img = load_img(file)\n",
    "        img = np.array(img)\n",
    "        plt.imshow(img)\n",
    "        plt.axis('off')"
   ]
  },
  {
   "cell_type": "code",
   "execution_count": 3,
   "id": "06e7431f-bef6-42e7-a49e-27ebcf66c2cd",
   "metadata": {
    "execution": {
     "iopub.execute_input": "2024-03-11T09:09:06.653754Z",
     "iopub.status.busy": "2024-03-11T09:09:06.653343Z",
     "iopub.status.idle": "2024-03-11T09:09:06.719015Z",
     "shell.execute_reply": "2024-03-11T09:09:06.718448Z"
    }
   },
   "outputs": [
    {
     "name": "stdout",
     "output_type": "stream",
     "text": [
      "iJobID: 87390\n",
      "const_job_id: 2933\n",
      "const_parameter: None\n"
     ]
    }
   ],
   "source": [
    "#\n",
    "# Get jobsid from queue table\n",
    "# \n",
    "iJobID = 0\n",
    "sql = \"\"\"\n",
    "select \ta.id, a.hastag, a.parameter\n",
    "from \tscreen_analisis_ai a inner join ret_available_db b \n",
    "\t\ton a.hastag = b.db_id \n",
    "where \ta.active = 1\n",
    "\t\tand a.status = 1\n",
    "\t\tand a.jenis_analisa = '2'\n",
    "order by b.since desc limit 1\n",
    "\"\"\"\n",
    "\n",
    "df_res = execute_query_psql(sql)\n",
    "\n",
    "# check job availability\n",
    "if(len(df_res)) == 0:\n",
    "    # get out, nothing to do\n",
    "    print('Zero jobs, quitting now')\n",
    "    quit()\n",
    "\n",
    "df_res.head()\n",
    "iJobID = df_res['hastag'][0]\n",
    "const_job_id = df_res['id'][0]\n",
    "const_parameter = df_res['parameter'][0]\n",
    "\n",
    "print('iJobID: ' + str(iJobID))\n",
    "print('const_job_id: ' + str(const_job_id))\n",
    "print('const_parameter: ' + str(const_parameter))\n"
   ]
  },
  {
   "cell_type": "code",
   "execution_count": 4,
   "id": "4f216f10-c9cf-45c4-8a41-3ab3245d8c5a",
   "metadata": {
    "execution": {
     "iopub.execute_input": "2024-03-11T09:09:06.721647Z",
     "iopub.status.busy": "2024-03-11T09:09:06.721234Z",
     "iopub.status.idle": "2024-03-11T09:09:06.761074Z",
     "shell.execute_reply": "2024-03-11T09:09:06.760541Z"
    }
   },
   "outputs": [
    {
     "name": "stdout",
     "output_type": "stream",
     "text": [
      "update screen_analisis_ai set status = 2, last_status_update = now(), start_process = now() where id = '2933';\n",
      "Query executed successfully. 1 rows affected.\n",
      "Query executed successfully. 1 rows affected.\n"
     ]
    },
    {
     "data": {
      "text/plain": [
       "1"
      ]
     },
     "execution_count": 4,
     "metadata": {},
     "output_type": "execute_result"
    }
   ],
   "source": [
    "## report to dbms that we are working on this row\n",
    "sql = \"\"\n",
    "sql = \"update screen_analisis_ai set status = 2, last_status_update = now(), start_process = now() where id = '\" + str(const_job_id) + \"';\"\n",
    "print(sql)\n",
    "# execute\n",
    "# execute_sqlalchemy_transaction(sql)\n",
    "execute_query_psql(sql)\n",
    "#\n",
    "# Create Header Record\n",
    "sql = \"insert into ret_analysis_header (job_id, datetime_start, user_id) values (%s, now(), %s)\" % (const_job_id,\"1\")\n",
    "# Execute the query\n",
    "execute_query_psql(sql)\n"
   ]
  },
  {
   "cell_type": "code",
   "execution_count": 5,
   "id": "b14cc5e6-bd16-4a40-b585-478eeea0e8c9",
   "metadata": {
    "collapsed": true,
    "execution": {
     "iopub.execute_input": "2024-03-11T09:09:06.763692Z",
     "iopub.status.busy": "2024-03-11T09:09:06.763261Z",
     "iopub.status.idle": "2024-03-11T09:09:08.594132Z",
     "shell.execute_reply": "2024-03-11T09:09:08.593552Z"
    },
    "jupyter": {
     "outputs_hidden": true
    },
    "scrolled": true
   },
   "outputs": [
    {
     "name": "stdout",
     "output_type": "stream",
     "text": [
      "\n",
      "select a.id, a.db_id, c.tweet_id, c.filename\n",
      "from ret_available_db a inner join ret_tweet b on a.db_id = b.db_id\n",
      "inner join media_files c on b.id = c.tweet_id\n",
      "where \ta.db_id = 87390\n",
      "\n"
     ]
    },
    {
     "name": "stdout",
     "output_type": "stream",
     "text": [
      "http://98.98.117.121:8082/api/media/photo/download/twitter/GEATfzKbkAANA5A.png\n",
      "http://98.98.117.121:8082/api/media/photo/download/twitter/GEAgmqLaEAAMbDu.jpg\n",
      "http://98.98.117.121:8082/api/media/photo/download/twitter/GEAuAV_bkAA-Ein.jpg\n",
      "http://98.98.117.121:8082/api/media/photo/download/twitter/GEAnugbbgAADvbw.jpg\n",
      "http://98.98.117.121:8082/api/media/photo/download/twitter/GEAtyvNbUAA-HGY.jpg\n",
      "http://98.98.117.121:8082/api/media/photo/download/twitter/GEAtNnZaUAADl7l.jpg\n",
      "http://98.98.117.121:8082/api/media/photo/download/twitter/GEAayNMbYAEPjny.jpg\n",
      "http://98.98.117.121:8082/api/media/photo/download/twitter/GD_uv0KaoAA2t54.jpg\n",
      "http://98.98.117.121:8082/api/media/photo/download/twitter/GEAsgc0aIAAUNW1.jpg\n",
      "http://98.98.117.121:8082/api/media/photo/download/twitter/GD_tYx-a8AAP-zD.jpg\n",
      "http://98.98.117.121:8082/api/media/photo/download/twitter/GD_swJ2bgAA783y.jpg\n",
      "http://98.98.117.121:8082/api/media/photo/download/twitter/GD_svjLa4AAbf3m.jpg\n",
      "http://98.98.117.121:8082/api/media/photo/download/twitter/GD_svk4aUAAmNFY.jpg\n",
      "http://98.98.117.121:8082/api/media/photo/download/twitter/GD_sDOLaIAAbUwD.jpg\n",
      "http://98.98.117.121:8082/api/media/photo/download/twitter/GD_qwVbbwAAph26.jpg\n",
      "http://98.98.117.121:8082/api/media/photo/download/twitter/GD_peOGaAAAxkFX.jpg\n",
      "http://98.98.117.121:8082/api/media/photo/download/twitter/GEArsnbaoAA4SLv.jpg\n",
      "http://98.98.117.121:8082/api/media/photo/download/twitter/GEARbC5bQAAGLxQ.jpg\n",
      "http://98.98.117.121:8082/api/media/photo/download/twitter/GEAq2ihbMAAEo6q.jpg\n",
      "http://98.98.117.121:8082/api/media/photo/download/twitter/GEAqu_7bsAAuQ0L.jpg\n",
      "http://98.98.117.121:8082/api/media/photo/download/twitter/GEAPGF9aUAAtkV8.jpg\n",
      "http://98.98.117.121:8082/api/media/photo/download/twitter/GD9Cg1gbUAAqAAe.jpg\n",
      "http://98.98.117.121:8082/api/media/photo/download/twitter/GEAoKTPa8AAUF2J.jpg\n",
      "http://98.98.117.121:8082/api/media/photo/download/twitter/GD7s9qybcAApDho.jpg\n",
      "http://98.98.117.121:8082/api/media/photo/download/twitter/GEAn7yHbUAAKv1I.jpg\n",
      "http://98.98.117.121:8082/api/media/photo/download/twitter/GEAnVDtbgAE4q4h.jpg\n",
      "http://98.98.117.121:8082/api/media/photo/download/twitter/GEAm8N6awAAIfD2.jpg\n",
      "http://98.98.117.121:8082/api/media/photo/download/twitter/GD__nARa0AAZKWZ.jpg\n",
      "http://98.98.117.121:8082/api/media/photo/download/twitter/GD__SklbMAAQUVK.jpg\n",
      "http://98.98.117.121:8082/api/media/photo/download/twitter/GD_-j7_bIAACB3v.jpg\n",
      "http://98.98.117.121:8082/api/media/photo/download/twitter/GEAkcSja4AAwyD7.jpg\n",
      "http://98.98.117.121:8082/api/media/photo/download/twitter/GD7oPbiakAAr8tM.jpg\n",
      "http://98.98.117.121:8082/api/media/photo/download/twitter/GD_rDhdaUAAvgpe.jpg\n",
      "http://98.98.117.121:8082/api/media/photo/download/twitter/GD_qj_2aoAADJqa.jpg\n",
      "http://98.98.117.121:8082/api/media/photo/download/twitter/GD_nheIa8AADUiJ.jpg\n",
      "http://98.98.117.121:8082/api/media/photo/download/twitter/GD_f7RZbUAA23JJ.jpg\n",
      "http://98.98.117.121:8082/api/media/photo/download/twitter/GD_e8J7bMAA6n23.jpg\n",
      "http://98.98.117.121:8082/api/media/photo/download/twitter/GEAeAnAaQAAA6Ai.jpg\n",
      "http://98.98.117.121:8082/api/media/photo/download/twitter/GD_aCRebUAA0X1X.jpg\n",
      "http://98.98.117.121:8082/api/media/photo/download/twitter/GD_YcULacAAWotf.jpg\n",
      "http://98.98.117.121:8082/api/media/photo/download/twitter/GD_YXtDbwAAYuLD.jpg\n",
      "http://98.98.117.121:8082/api/media/photo/download/twitter/GD_XwA_aIAAVIOt.jpg\n",
      "http://98.98.117.121:8082/api/media/photo/download/twitter/GD_TobZbIAAhV0V.jpg\n",
      "http://98.98.117.121:8082/api/media/photo/download/twitter/GEAcdEVaEAA7OI_.jpg\n",
      "http://98.98.117.121:8082/api/media/photo/download/twitter/GEAbIX6bMAAWo39.jpg\n",
      "http://98.98.117.121:8082/api/media/photo/download/twitter/GEAZ4VSbcAAVYl7.jpg\n",
      "http://98.98.117.121:8082/api/media/photo/download/twitter/GEAZp3tbMAAeddK.jpg\n",
      "http://98.98.117.121:8082/api/media/photo/download/twitter/GD-XgeObwAA1O9-.jpg\n",
      "http://98.98.117.121:8082/api/media/photo/download/twitter/GEAkkhWbIAApdB_.jpg\n",
      "http://98.98.117.121:8082/api/media/photo/download/twitter/GEAWs9CW4AABCWk.jpg\n",
      "http://98.98.117.121:8082/api/media/photo/download/twitter/GEAWe_0aIAA6Ynx.jpg\n",
      "http://98.98.117.121:8082/api/media/photo/download/twitter/GEAUkjEbcAAH5xp.jpg\n",
      "http://98.98.117.121:8082/api/media/photo/download/twitter/GD8b6vLa0AAA9Va.jpg\n",
      "http://98.98.117.121:8082/api/media/photo/download/twitter/GEAUEG4bQAA40wd.jpg\n",
      "http://98.98.117.121:8082/api/media/photo/download/twitter/GEAT7ilbkAAaZeS.jpg\n",
      "http://98.98.117.121:8082/api/media/photo/download/twitter/GEAT2kfbsAAFcjj.jpg\n",
      "http://98.98.117.121:8082/api/media/photo/download/twitter/GEATTxfaMAAF5ta.jpg\n",
      "http://98.98.117.121:8082/api/media/photo/download/twitter/GEASoUZagAABLDI.jpg\n"
     ]
    },
    {
     "name": "stdout",
     "output_type": "stream",
     "text": [
      "http://98.98.117.121:8082/api/media/photo/download/twitter/GD-NJtOaAAAfSgg.jpg\n",
      "http://98.98.117.121:8082/api/media/photo/download/twitter/GEAR920bIAAv8RD.jpg\n",
      "http://98.98.117.121:8082/api/media/photo/download/twitter/GEAR2fQaoAATUim.jpg\n",
      "http://98.98.117.121:8082/api/media/photo/download/twitter/GEARfBia8AAbooN.jpg\n",
      "http://98.98.117.121:8082/api/media/photo/download/twitter/GEAPSveakAA7HVr.jpg\n",
      "http://98.98.117.121:8082/api/media/photo/download/twitter/GD_XKEJasAA_C_T.jpg\n",
      "http://98.98.117.121:8082/api/media/photo/download/twitter/GEALyoMagAAOLxL.jpg\n",
      "http://98.98.117.121:8082/api/media/photo/download/twitter/GEALs2ubgAA9Z72.jpg\n",
      "http://98.98.117.121:8082/api/media/photo/download/twitter/GEAJvS0bsAAEn0U.jpg\n",
      "http://98.98.117.121:8082/api/media/photo/download/twitter/GEAJpx5bUAA8qzd.jpg\n",
      "http://98.98.117.121:8082/api/media/photo/download/twitter/GD-gjRSbEAA5VNx.jpg\n",
      "http://98.98.117.121:8082/api/media/photo/download/twitter/GEAJabNboAA45FN.jpg\n",
      "http://98.98.117.121:8082/api/media/photo/download/twitter/GD-cyk7bUAAkmWs.jpg\n",
      "http://98.98.117.121:8082/api/media/photo/download/twitter/GD_CmUBbAAAJnNx.jpg\n",
      "http://98.98.117.121:8082/api/media/photo/download/twitter/GEAHoenbgAAKwoH.jpg\n",
      "http://98.98.117.121:8082/api/media/photo/download/twitter/GEAHmrKasAAdP48.jpg\n",
      "http://98.98.117.121:8082/api/media/photo/download/twitter/GEAGxCeaoAAKPkZ.jpg\n",
      "http://98.98.117.121:8082/api/media/photo/download/twitter/GEAFopIbsAAi2dh.jpg\n",
      "http://98.98.117.121:8082/api/media/photo/download/twitter/GEADLaAawAA9q8v.jpg\n",
      "http://98.98.117.121:8082/api/media/photo/download/twitter/GEBUi1JbkAAFiYU.jpg\n",
      "http://98.98.117.121:8082/api/media/photo/download/twitter/GD9iGkTbMAAT1V5.jpg\n",
      "http://98.98.117.121:8082/api/media/photo/download/twitter/GD7yzGybYAE3aX1.jpg\n",
      "http://98.98.117.121:8082/api/media/photo/download/twitter/GD5JOd2WQAANGgm.jpg\n",
      "http://98.98.117.121:8082/api/media/photo/download/twitter/GD5H6qAWIAE0g7Q.jpg\n",
      "http://98.98.117.121:8082/api/media/photo/download/twitter/GEBGUaTbcAANKD8.jpg\n",
      "http://98.98.117.121:8082/api/media/photo/download/twitter/GD_2RTQaYAAqc2M.jpg\n",
      "http://98.98.117.121:8082/api/media/photo/download/twitter/GD70AVjbEAAxxo_.jpg\n",
      "http://98.98.117.121:8082/api/media/photo/download/twitter/GD_1Kvta4AANrqh.jpg\n",
      "http://98.98.117.121:8082/api/media/photo/download/twitter/GD_00VcbQAAYHnJ.jpg\n",
      "http://98.98.117.121:8082/api/media/photo/download/twitter/GD_z9tZWgAAGU84.jpg\n",
      "http://98.98.117.121:8082/api/media/photo/download/twitter/GD_yhw0bgAAKJf-.jpg\n",
      "http://98.98.117.121:8082/api/media/photo/download/twitter/GD7s0-SbgAAgaJE.jpg\n",
      "http://98.98.117.121:8082/api/media/photo/download/twitter/GD_qCp1aEAAj6Wn.jpg\n",
      "http://98.98.117.121:8082/api/media/photo/download/twitter/GD_nTs_aYAAfP6d.jpg\n",
      "http://98.98.117.121:8082/api/media/photo/download/twitter/GD_i87Aa0AA-3cU.jpg\n",
      "http://98.98.117.121:8082/api/media/photo/download/twitter/GD_i2tdaoAAVCm9.jpg\n",
      "http://98.98.117.121:8082/api/media/photo/download/twitter/GD-7Z-3aEAA7yRR.jpg\n",
      "http://98.98.117.121:8082/api/media/photo/download/twitter/GD_fg9kboAA2diA.jpg\n",
      "http://98.98.117.121:8082/api/media/photo/download/twitter/GD_YOA5a0AAHqRl.jpg\n",
      "http://98.98.117.121:8082/api/media/photo/download/twitter/GD_XvkLbMAAoIuB.jpg\n",
      "http://98.98.117.121:8082/api/media/photo/download/twitter/GD_W7jVbAAAkTC_.jpg\n",
      "http://98.98.117.121:8082/api/media/photo/download/twitter/GD_VewQaoAATDOz.jpg\n",
      "http://98.98.117.121:8082/api/media/photo/download/twitter/GD-R9V7aoAANfMt.jpg\n",
      "http://98.98.117.121:8082/api/media/photo/download/twitter/GD_PjUka4AAhiMe.jpg\n",
      "http://98.98.117.121:8082/api/media/photo/download/twitter/GD_PlCUboAABZ8t.jpg\n",
      "http://98.98.117.121:8082/api/media/photo/download/twitter/GD_OMQPakAAxT6J.jpg\n",
      "http://98.98.117.121:8082/api/media/photo/download/twitter/GD_IxWpa8AArA3h.jpg\n",
      "http://98.98.117.121:8082/api/media/photo/download/twitter/GD_IoXxbwAA2M2b.jpg\n",
      "http://98.98.117.121:8082/api/media/photo/download/twitter/GD_In6ibkAAjm2p.jpg\n",
      "http://98.98.117.121:8082/api/media/photo/download/twitter/GD_InwyaEAAHdQX.jpg\n",
      "http://98.98.117.121:8082/api/media/photo/download/twitter/GD_InBJbUAAwqCm.jpg\n",
      "http://98.98.117.121:8082/api/media/photo/download/twitter/GD_IlmjbsAA9UPe.jpg\n",
      "http://98.98.117.121:8082/api/media/photo/download/twitter/GD_IlMcbkAAFybY.jpg\n",
      "http://98.98.117.121:8082/api/media/photo/download/twitter/GD_IjhCa8AA9wlu.jpg\n",
      "http://98.98.117.121:8082/api/media/photo/download/twitter/GD_IjBobAAAXmok.jpg\n"
     ]
    },
    {
     "name": "stdout",
     "output_type": "stream",
     "text": [
      "http://98.98.117.121:8082/api/media/photo/download/twitter/GD_Ii7nbkAADuEQ.jpg\n",
      "http://98.98.117.121:8082/api/media/photo/download/twitter/GD_IipibkAA226F.jpg\n",
      "http://98.98.117.121:8082/api/media/photo/download/twitter/GD_IiMVb0AEwtbO.jpg\n",
      "http://98.98.117.121:8082/api/media/photo/download/twitter/GD_IiDcaQAAMAnb.jpg\n",
      "http://98.98.117.121:8082/api/media/photo/download/twitter/GD_Ihq2bEAAaRJ1.jpg\n",
      "http://98.98.117.121:8082/api/media/photo/download/twitter/GD_Ig9WaYAAKLAB.jpg\n",
      "http://98.98.117.121:8082/api/media/photo/download/twitter/GD_Ig6AasAAeREE.jpg\n",
      "http://98.98.117.121:8082/api/media/photo/download/twitter/GD_Ignna8AA_AhU.jpg\n",
      "http://98.98.117.121:8082/api/media/photo/download/twitter/GD_IgeJbIAAUMSF.jpg\n",
      "http://98.98.117.121:8082/api/media/photo/download/twitter/GD_IgERbEAAPArS.jpg\n",
      "http://98.98.117.121:8082/api/media/photo/download/twitter/GD_IekiaMAAvrpV.jpg\n",
      "http://98.98.117.121:8082/api/media/photo/download/twitter/GD_Iec6bUAA1yET.jpg\n",
      "http://98.98.117.121:8082/api/media/photo/download/twitter/GD_IdwCaIAAjRC4.jpg\n",
      "http://98.98.117.121:8082/api/media/photo/download/twitter/GD_IbKAaUAAslOI.jpg\n",
      "http://98.98.117.121:8082/api/media/photo/download/twitter/GD_IG7PaUAAiwxN.jpg\n",
      "http://98.98.117.121:8082/api/media/photo/download/twitter/GD_H-p0aEAAAtWX.jpg\n",
      "http://98.98.117.121:8082/api/media/photo/download/twitter/GD_H-atbIAA_7Nr.jpg\n",
      "http://98.98.117.121:8082/api/media/photo/download/twitter/GD_H9Adb0AAaIgG.jpg\n",
      "http://98.98.117.121:8082/api/media/photo/download/twitter/GD_H8rXbIAAvIRe.jpg\n",
      "http://98.98.117.121:8082/api/media/photo/download/twitter/GD_H7fmbsAAQark.jpg\n",
      "http://98.98.117.121:8082/api/media/photo/download/twitter/GD_H7HqagAAu7S3.jpg\n",
      "http://98.98.117.121:8082/api/media/photo/download/twitter/GD_H6-1agAAkOt7.jpg\n",
      "http://98.98.117.121:8082/api/media/photo/download/twitter/GD_H6oPaQAAWQxG.jpg\n",
      "http://98.98.117.121:8082/api/media/photo/download/twitter/GD_H6c4boAAevie.jpg\n",
      "http://98.98.117.121:8082/api/media/photo/download/twitter/GD_H5_gaoAA8I-R.jpg\n",
      "http://98.98.117.121:8082/api/media/photo/download/twitter/GD_H5JqakAA52LD.jpg\n",
      "http://98.98.117.121:8082/api/media/photo/download/twitter/GD_H5FHbsAAnqx3.jpg\n",
      "http://98.98.117.121:8082/api/media/photo/download/twitter/GD_H4k0akAAX5oz.jpg\n",
      "http://98.98.117.121:8082/api/media/photo/download/twitter/GD_H4gcbEAAwPgQ.jpg\n",
      "http://98.98.117.121:8082/api/media/photo/download/twitter/GD_H4ANboAAlq-V.jpg\n",
      "http://98.98.117.121:8082/api/media/photo/download/twitter/GD_H3qla8AAGWX5.jpg\n",
      "http://98.98.117.121:8082/api/media/photo/download/twitter/GD_H3KXb0AAloSh.jpg\n",
      "http://98.98.117.121:8082/api/media/photo/download/twitter/GD_H22La4AASnpQ.jpg\n",
      "http://98.98.117.121:8082/api/media/photo/download/twitter/GD_H2r4aQAAJ9bS.jpg\n",
      "http://98.98.117.121:8082/api/media/photo/download/twitter/GD_H2QnaYAAtb4n.jpg\n",
      "http://98.98.117.121:8082/api/media/photo/download/twitter/GD_H00dboAAkbB9.jpg\n",
      "http://98.98.117.121:8082/api/media/photo/download/twitter/GD_HzdQaMAARhRD.jpg\n",
      "http://98.98.117.121:8082/api/media/photo/download/twitter/GD_Hc0ibMAA2sCM.jpg\n",
      "http://98.98.117.121:8082/api/media/photo/download/twitter/GD_HVt2agAAKDOV.jpg\n",
      "http://98.98.117.121:8082/api/media/photo/download/twitter/GD_HVQXaIAAtdtG.jpg\n",
      "http://98.98.117.121:8082/api/media/photo/download/twitter/GD_HU5Ua8AAUaha.jpg\n",
      "http://98.98.117.121:8082/api/media/photo/download/twitter/GD_HTgmbcAAJWZq.jpg\n",
      "http://98.98.117.121:8082/api/media/photo/download/twitter/GD_HTAnawAAS6to.jpg\n",
      "http://98.98.117.121:8082/api/media/photo/download/twitter/GD_HSe4acAA3LvG.jpg\n",
      "http://98.98.117.121:8082/api/media/photo/download/twitter/GD_HSLDa0AAEQIH.jpg\n",
      "http://98.98.117.121:8082/api/media/photo/download/twitter/GD_HR_AasAAWqQk.jpg\n",
      "http://98.98.117.121:8082/api/media/photo/download/twitter/GD_HR5YaIAA5hzD.jpg\n",
      "http://98.98.117.121:8082/api/media/photo/download/twitter/GD_HQ9wa4AAPxXA.jpg\n",
      "http://98.98.117.121:8082/api/media/photo/download/twitter/GD_HQakbwAA9vZ0.jpg\n"
     ]
    },
    {
     "name": "stdout",
     "output_type": "stream",
     "text": [
      "http://98.98.117.121:8082/api/media/photo/download/twitter/GD_HQF8boAAPefo.jpg\n",
      "http://98.98.117.121:8082/api/media/photo/download/twitter/GD_HPv_bQAAMx41.jpg\n",
      "http://98.98.117.121:8082/api/media/photo/download/twitter/GD_HPr2bgAA-001.jpg\n",
      "http://98.98.117.121:8082/api/media/photo/download/twitter/GD_HO9fbwAA2KzI.jpg\n",
      "http://98.98.117.121:8082/api/media/photo/download/twitter/GD_HOmPbgAAKvv4.jpg\n",
      "http://98.98.117.121:8082/api/media/photo/download/twitter/GD_HOaHb0AAlEQ2.jpg\n",
      "http://98.98.117.121:8082/api/media/photo/download/twitter/GD_HOK0a8AAEGah.jpg\n",
      "http://98.98.117.121:8082/api/media/photo/download/twitter/GD_HNyMa8AA3HLQ.jpg\n",
      "http://98.98.117.121:8082/api/media/photo/download/twitter/GD_HNFVaAAAX-Fh.jpg\n",
      "http://98.98.117.121:8082/api/media/photo/download/twitter/GD_HLn7boAAA_Xw.jpg\n",
      "http://98.98.117.121:8082/api/media/photo/download/twitter/GD_HLT_aIAAav1b.jpg\n",
      "http://98.98.117.121:8082/api/media/photo/download/twitter/GD_HLGCasAAU7W5.jpg\n",
      "http://98.98.117.121:8082/api/media/photo/download/twitter/GD_Gyo6aYAAMLla.jpg\n",
      "http://98.98.117.121:8082/api/media/photo/download/twitter/GD_Gr5masAAYxO-.jpg\n",
      "http://98.98.117.121:8082/api/media/photo/download/twitter/GD_Grd0bcAAATXe.jpg\n",
      "http://98.98.117.121:8082/api/media/photo/download/twitter/GD_GrLJaIAAkm6V.jpg\n",
      "http://98.98.117.121:8082/api/media/photo/download/twitter/GD_Gp8PacAAGsJe.jpg\n",
      "http://98.98.117.121:8082/api/media/photo/download/twitter/GD_GpyMaAAAZrrk.jpg\n",
      "http://98.98.117.121:8082/api/media/photo/download/twitter/GD_GpBWaAAAmK_3.jpg\n",
      "http://98.98.117.121:8082/api/media/photo/download/twitter/GD_GomMb0AAo4SJ.jpg\n",
      "http://98.98.117.121:8082/api/media/photo/download/twitter/GD_GocvaQAARLFm.jpg\n",
      "http://98.98.117.121:8082/api/media/photo/download/twitter/GD_GoZSbIAA2_xB.jpg\n",
      "http://98.98.117.121:8082/api/media/photo/download/twitter/GD_Gn7BbUAAdcvq.jpg\n",
      "http://98.98.117.121:8082/api/media/photo/download/twitter/GD_GnvcaUAABcqL.jpg\n",
      "http://98.98.117.121:8082/api/media/photo/download/twitter/GD_Gnisa0AEf6Ar.jpg\n",
      "http://98.98.117.121:8082/api/media/photo/download/twitter/GD_GnF1bkAAa9tJ.jpg\n",
      "http://98.98.117.121:8082/api/media/photo/download/twitter/GD_Gm-hbQAAxVyC.jpg\n",
      "http://98.98.117.121:8082/api/media/photo/download/twitter/GD_Gm6TbMAA3Uiv.jpg\n",
      "http://98.98.117.121:8082/api/media/photo/download/twitter/GD_Glhwa8AA6rqs.jpg\n",
      "http://98.98.117.121:8082/api/media/photo/download/twitter/GD_GlVwboAANSjA.jpg\n",
      "http://98.98.117.121:8082/api/media/photo/download/twitter/GD_GlJ4akAA_hdH.jpg\n",
      "http://98.98.117.121:8082/api/media/photo/download/twitter/GD_Gkw9a0AAOrKY.jpg\n",
      "http://98.98.117.121:8082/api/media/photo/download/twitter/GD_GjIwa4AA-zCn.jpg\n",
      "http://98.98.117.121:8082/api/media/photo/download/twitter/GD_GjH5bAAEjpoS.jpg\n",
      "http://98.98.117.121:8082/api/media/photo/download/twitter/GD_GjCgboAAopAH.jpg\n",
      "http://98.98.117.121:8082/api/media/photo/download/twitter/GD_GI3jaUAEA4lo.jpg\n",
      "http://98.98.117.121:8082/api/media/photo/download/twitter/GD_GCjLbgAAllR9.jpg\n",
      "http://98.98.117.121:8082/api/media/photo/download/twitter/GD_GCiAboAAg6wu.jpg\n",
      "http://98.98.117.121:8082/api/media/photo/download/twitter/GD_GBq8bcAAB25c.jpg\n",
      "http://98.98.117.121:8082/api/media/photo/download/twitter/GD_GBM5bUAAsy6E.jpg\n",
      "http://98.98.117.121:8082/api/media/photo/download/twitter/GD_GAOraUAA8VGc.jpg\n",
      "http://98.98.117.121:8082/api/media/photo/download/twitter/GD_GAEKboAA-1IR.jpg\n",
      "http://98.98.117.121:8082/api/media/photo/download/twitter/GD_F_7TaoAAhg_R.jpg\n",
      "http://98.98.117.121:8082/api/media/photo/download/twitter/GD_F_kUbYAAqnFO.jpg\n",
      "http://98.98.117.121:8082/api/media/photo/download/twitter/GD_F_goaEAA79o0.jpg\n",
      "http://98.98.117.121:8082/api/media/photo/download/twitter/GD_F_HabkAADAED.jpg\n",
      "http://98.98.117.121:8082/api/media/photo/download/twitter/GD_F_Aga4AA6Mjb.jpg\n",
      "http://98.98.117.121:8082/api/media/photo/download/twitter/GD_F_Czb0AAptz3.jpg\n",
      "http://98.98.117.121:8082/api/media/photo/download/twitter/GD_F-ZpbYAA3D99.jpg\n"
     ]
    },
    {
     "name": "stdout",
     "output_type": "stream",
     "text": [
      "http://98.98.117.121:8082/api/media/photo/download/twitter/GD_F-OVbkAAEl2j.jpg\n",
      "http://98.98.117.121:8082/api/media/photo/download/twitter/GD_F9OwaMAA9u1h.jpg\n",
      "http://98.98.117.121:8082/api/media/photo/download/twitter/GD_F9DHa8AANe9r.jpg\n",
      "http://98.98.117.121:8082/api/media/photo/download/twitter/GD_F8szbIAACY3K.jpg\n",
      "http://98.98.117.121:8082/api/media/photo/download/twitter/GD_F8a_a4AAHKGn.jpg\n",
      "http://98.98.117.121:8082/api/media/photo/download/twitter/GD_F7qFbsAAPp78.jpg\n",
      "http://98.98.117.121:8082/api/media/photo/download/twitter/GD_F7cYakAAjIR_.jpg\n",
      "http://98.98.117.121:8082/api/media/photo/download/twitter/GD_F7S0awAAGWWu.jpg\n",
      "http://98.98.117.121:8082/api/media/photo/download/twitter/GD_F6XEacAA8LfJ.jpg\n",
      "http://98.98.117.121:8082/api/media/photo/download/twitter/GD_FetaaQAAifIN.jpg\n",
      "http://98.98.117.121:8082/api/media/photo/download/twitter/GD_FaR4bMAAXvfO.jpg\n",
      "http://98.98.117.121:8082/api/media/photo/download/twitter/GD_FZEZakAAtkfB.jpg\n",
      "http://98.98.117.121:8082/api/media/photo/download/twitter/GD_FYxDakAAagtd.jpg\n",
      "http://98.98.117.121:8082/api/media/photo/download/twitter/GD_FXVUa8AA56kx.jpg\n",
      "http://98.98.117.121:8082/api/media/photo/download/twitter/GD_FXKWbMAAbnY5.jpg\n",
      "http://98.98.117.121:8082/api/media/photo/download/twitter/GD_FXEDaoAEtMdH.jpg\n",
      "http://98.98.117.121:8082/api/media/photo/download/twitter/GD_FXErbwAAyhvt.jpg\n",
      "http://98.98.117.121:8082/api/media/photo/download/twitter/GD_FXA3aoAA90v3.jpg\n",
      "http://98.98.117.121:8082/api/media/photo/download/twitter/GD_FW7daAAA2h-g.jpg\n",
      "http://98.98.117.121:8082/api/media/photo/download/twitter/GD_FW2ObQAAUfEx.jpg\n",
      "http://98.98.117.121:8082/api/media/photo/download/twitter/GD_FWxmbcAA5XlH.jpg\n",
      "http://98.98.117.121:8082/api/media/photo/download/twitter/GD_FV5ZbMAAWVzm.jpg\n",
      "http://98.98.117.121:8082/api/media/photo/download/twitter/GD_FVjxa8AAOcoh.jpg\n",
      "http://98.98.117.121:8082/api/media/photo/download/twitter/GD_FVE2aQAAKMqE.jpg\n",
      "http://98.98.117.121:8082/api/media/photo/download/twitter/GD_FVAZaIAAnqA0.jpg\n",
      "http://98.98.117.121:8082/api/media/photo/download/twitter/GD_FUmxb0AAdhp-.jpg\n",
      "http://98.98.117.121:8082/api/media/photo/download/twitter/GD_FUPKaoAA3yAd.jpg\n",
      "http://98.98.117.121:8082/api/media/photo/download/twitter/GD_FTblbMAAvYsT.jpg\n",
      "http://98.98.117.121:8082/api/media/photo/download/twitter/GD_FTW1a0AAzmet.jpg\n",
      "http://98.98.117.121:8082/api/media/photo/download/twitter/GD_FTXbakAAPqH1.jpg\n",
      "http://98.98.117.121:8082/api/media/photo/download/twitter/GD_FS7cbwAAStci.jpg\n",
      "http://98.98.117.121:8082/api/media/photo/download/twitter/GD_FSiabkAAhifJ.jpg\n",
      "http://98.98.117.121:8082/api/media/photo/download/twitter/GD9Veh8awAACMuA.jpg\n",
      "http://98.98.117.121:8082/api/media/photo/download/twitter/GD_Ew_DaoAE4G9G.jpg\n",
      "http://98.98.117.121:8082/api/media/photo/download/twitter/GD_EuUIa4AAK1q-.jpg\n",
      "http://98.98.117.121:8082/api/media/photo/download/twitter/GD_EGJXbMAA-cg2.jpg\n",
      "http://98.98.117.121:8082/api/media/photo/download/twitter/GD_EFlmaoAA79f8.jpg\n",
      "http://98.98.117.121:8082/api/media/photo/download/twitter/GD_EFMUaAAAyb7P.jpg\n",
      "http://98.98.117.121:8082/api/media/photo/download/twitter/GD_EEpRbQAAQU97.jpg\n",
      "http://98.98.117.121:8082/api/media/photo/download/twitter/GD_EET5bkAAZReE.jpg\n",
      "http://98.98.117.121:8082/api/media/photo/download/twitter/GD_EDHGbQAAwiJV.jpg\n",
      "http://98.98.117.121:8082/api/media/photo/download/twitter/GD_DednaoAAZf3A.jpg\n",
      "http://98.98.117.121:8082/api/media/photo/download/twitter/GD_Dc4ybAAAyX-e.jpg\n",
      "http://98.98.117.121:8082/api/media/photo/download/twitter/GD_DcQLasAAz-HF.jpg\n",
      "http://98.98.117.121:8082/api/media/photo/download/twitter/GD_DcI4aIAAUdD_.jpg\n",
      "http://98.98.117.121:8082/api/media/photo/download/twitter/GD_DaRYaEAAIB3r.jpg\n",
      "http://98.98.117.121:8082/api/media/photo/download/twitter/GD_6KPxbwAAxdiS.png\n",
      "http://98.98.117.121:8082/api/media/photo/download/twitter/GD_DZioaMAA2ePV.jpg\n",
      "http://98.98.117.121:8082/api/media/photo/download/twitter/GD_DYQsaAAAUTQo.jpg\n",
      "http://98.98.117.121:8082/api/media/photo/download/twitter/GD7AorHa4AA5all.jpg\n"
     ]
    },
    {
     "name": "stdout",
     "output_type": "stream",
     "text": [
      "http://98.98.117.121:8082/api/media/photo/download/twitter/GD_Cz4LbwAAmIJD.jpg\n",
      "http://98.98.117.121:8082/api/media/photo/download/twitter/GD_CzhHbwAAoW7f.jpg\n",
      "http://98.98.117.121:8082/api/media/photo/download/twitter/GD_CyXDbcAA-g7p.jpg\n",
      "http://98.98.117.121:8082/api/media/photo/download/twitter/GD_CyU1agAAIziy.jpg\n",
      "http://98.98.117.121:8082/api/media/photo/download/twitter/GD_CxXDacAEBjCs.jpg\n",
      "http://98.98.117.121:8082/api/media/photo/download/twitter/GEAlAnSbQAAOYRE.png\n",
      "http://98.98.117.121:8082/api/media/photo/download/twitter/GD8WtSAboAA2twL.jpg\n",
      "http://98.98.117.121:8082/api/media/photo/download/twitter/GD7STIAbkAAhFFU.jpg\n",
      "http://98.98.117.121:8082/api/media/photo/download/twitter/GEAzuUHaMAAlw7G.jpg\n",
      "http://98.98.117.121:8082/api/media/photo/download/twitter/GEAzfoob0AAlgBK.jpg\n",
      "http://98.98.117.121:8082/api/media/photo/download/twitter/GEAya7EaQAAgtW4.jpg\n",
      "http://98.98.117.121:8082/api/media/photo/download/twitter/GEAy_swaEAEppIU.jpg\n",
      "http://98.98.117.121:8082/api/media/photo/download/twitter/GEAyxS5a0AAAp2W.jpg\n",
      "http://98.98.117.121:8082/api/media/photo/download/twitter/GEAxkd6bEAAaPih.jpg\n",
      "http://98.98.117.121:8082/api/media/photo/download/twitter/GEA38zWa8AAioff.jpg\n",
      "http://98.98.117.121:8082/api/media/photo/download/twitter/GEA3o-3bAAAsfm3.jpg\n",
      "http://98.98.117.121:8082/api/media/photo/download/twitter/GEAvTq-aQAA2XeL.jpg\n",
      "http://98.98.117.121:8082/api/media/photo/download/twitter/GEAvVN1acAABiQI.jpg\n",
      "http://98.98.117.121:8082/api/media/photo/download/twitter/GEAuvpObEAAWRSH.jpg\n",
      "http://98.98.117.121:8082/api/media/photo/download/twitter/GEAGhpNbsAAsoph.png\n",
      "http://98.98.117.121:8082/api/media/photo/download/twitter/GD_9_-0asAA9373.png\n",
      "finished downloading 282 image set\n"
     ]
    }
   ],
   "source": [
    "## get images from server\n",
    "# Example usage:\n",
    "query = \"\"\"\n",
    "select a.id, a.db_id, c.tweet_id, c.filename\n",
    "from ret_available_db a inner join ret_tweet b on a.db_id = b.db_id\n",
    "inner join media_files c on b.id = c.tweet_id\n",
    "where \ta.db_id = %s\n",
    "\"\"\"\n",
    "query = query % str(iJobID)\n",
    "print(query)\n",
    "\n",
    "result_df = execute_query_psql(query)\n",
    "\n",
    "## downloading image set\n",
    "img_prefix_http = \"http://98.98.117.121:8082/api/media/photo/download/twitter/\"\n",
    "folder_path = \"/home/jup_user/multipool/ai-case-study/img\"    # Replace with the desired folder path\n",
    "\n",
    "# download_image(url, folder_path)\n",
    "# clear up folder first\n",
    "clear_image()\n",
    "\n",
    "i = 0\n",
    "for index, row in result_df.iterrows():\n",
    "    # print(result_df.at[index,'filename'])\n",
    "    url = img_prefix_http + result_df.at[index,'filename']\n",
    "    print(url)\n",
    "    download_image(url, folder_path)\n",
    "    i = i +1\n",
    "\n",
    "print(\"finished downloading \" + str(i) + \" image set\" )"
   ]
  },
  {
   "cell_type": "code",
   "execution_count": 6,
   "id": "406c4e8c-9403-4fc5-b1c1-562e1f0cf97a",
   "metadata": {
    "collapsed": true,
    "editable": true,
    "execution": {
     "iopub.execute_input": "2024-03-11T09:09:08.597093Z",
     "iopub.status.busy": "2024-03-11T09:09:08.596862Z",
     "iopub.status.idle": "2024-03-11T09:09:53.749444Z",
     "shell.execute_reply": "2024-03-11T09:09:53.748653Z"
    },
    "jupyter": {
     "outputs_hidden": true
    },
    "slideshow": {
     "slide_type": ""
    },
    "tags": []
   },
   "outputs": [
    {
     "name": "stdout",
     "output_type": "stream",
     "text": [
      "\r",
      "1/1 [==============================] - ETA: 0s"
     ]
    },
    {
     "name": "stdout",
     "output_type": "stream",
     "text": [
      "\b\b\b\b\b\b\b\b\b\b\b\b\b\b\b\b\b\b\b\b\b\b\b\b\b\b\b\b\b\b\b\b\b\b\b\b\b\b\b\b\b\b\b\b\b\b\r",
      "1/1 [==============================] - 0s 213ms/step\n"
     ]
    },
    {
     "name": "stdout",
     "output_type": "stream",
     "text": [
      "\r",
      "1/1 [==============================] - ETA: 0s"
     ]
    },
    {
     "name": "stdout",
     "output_type": "stream",
     "text": [
      "\b\b\b\b\b\b\b\b\b\b\b\b\b\b\b\b\b\b\b\b\b\b\b\b\b\b\b\b\b\b\b\b\b\b\b\b\b\b\b\b\b\b\b\b\b\b\r",
      "1/1 [==============================] - 0s 61ms/step\n"
     ]
    },
    {
     "name": "stdout",
     "output_type": "stream",
     "text": [
      "\r",
      "1/1 [==============================] - ETA: 0s"
     ]
    },
    {
     "name": "stdout",
     "output_type": "stream",
     "text": [
      "\b\b\b\b\b\b\b\b\b\b\b\b\b\b\b\b\b\b\b\b\b\b\b\b\b\b\b\b\b\b\b\b\b\b\b\b\b\b\b\b\b\b\b\b\b\b\r",
      "1/1 [==============================] - 0s 59ms/step\n"
     ]
    },
    {
     "name": "stdout",
     "output_type": "stream",
     "text": [
      "\r",
      "1/1 [==============================] - ETA: 0s"
     ]
    },
    {
     "name": "stdout",
     "output_type": "stream",
     "text": [
      "\b\b\b\b\b\b\b\b\b\b\b\b\b\b\b\b\b\b\b\b\b\b\b\b\b\b\b\b\b\b\b\b\b\b\b\b\b\b\b\b\b\b\b\b\b\b\r",
      "1/1 [==============================] - 0s 61ms/step\n"
     ]
    },
    {
     "name": "stdout",
     "output_type": "stream",
     "text": [
      "\r",
      "1/1 [==============================] - ETA: 0s"
     ]
    },
    {
     "name": "stdout",
     "output_type": "stream",
     "text": [
      "\b\b\b\b\b\b\b\b\b\b\b\b\b\b\b\b\b\b\b\b\b\b\b\b\b\b\b\b\b\b\b\b\b\b\b\b\b\b\b\b\b\b\b\b\b\b\r",
      "1/1 [==============================] - 0s 60ms/step\n"
     ]
    },
    {
     "name": "stdout",
     "output_type": "stream",
     "text": [
      "\r",
      "1/1 [==============================] - ETA: 0s"
     ]
    },
    {
     "name": "stdout",
     "output_type": "stream",
     "text": [
      "\b\b\b\b\b\b\b\b\b\b\b\b\b\b\b\b\b\b\b\b\b\b\b\b\b\b\b\b\b\b\b\b\b\b\b\b\b\b\b\b\b\b\b\b\b\b\r",
      "1/1 [==============================] - 0s 57ms/step\n"
     ]
    },
    {
     "name": "stdout",
     "output_type": "stream",
     "text": [
      "\r",
      "1/1 [==============================] - ETA: 0s"
     ]
    },
    {
     "name": "stdout",
     "output_type": "stream",
     "text": [
      "\b\b\b\b\b\b\b\b\b\b\b\b\b\b\b\b\b\b\b\b\b\b\b\b\b\b\b\b\b\b\b\b\b\b\b\b\b\b\b\b\b\b\b\b\b\b\r",
      "1/1 [==============================] - 0s 62ms/step\n"
     ]
    },
    {
     "name": "stdout",
     "output_type": "stream",
     "text": [
      "\r",
      "1/1 [==============================] - ETA: 0s"
     ]
    },
    {
     "name": "stdout",
     "output_type": "stream",
     "text": [
      "\b\b\b\b\b\b\b\b\b\b\b\b\b\b\b\b\b\b\b\b\b\b\b\b\b\b\b\b\b\b\b\b\b\b\b\b\b\b\b\b\b\b\b\b\b\b\r",
      "1/1 [==============================] - 0s 57ms/step\n"
     ]
    },
    {
     "name": "stdout",
     "output_type": "stream",
     "text": [
      "\r",
      "1/1 [==============================] - ETA: 0s"
     ]
    },
    {
     "name": "stdout",
     "output_type": "stream",
     "text": [
      "\b\b\b\b\b\b\b\b\b\b\b\b\b\b\b\b\b\b\b\b\b\b\b\b\b\b\b\b\b\b\b\b\b\b\b\b\b\b\b\b\b\b\b\b\b\b\r",
      "1/1 [==============================] - 0s 59ms/step\n"
     ]
    },
    {
     "name": "stdout",
     "output_type": "stream",
     "text": [
      "\r",
      "1/1 [==============================] - ETA: 0s"
     ]
    },
    {
     "name": "stdout",
     "output_type": "stream",
     "text": [
      "\b\b\b\b\b\b\b\b\b\b\b\b\b\b\b\b\b\b\b\b\b\b\b\b\b\b\b\b\b\b\b\b\b\b\b\b\b\b\b\b\b\b\b\b\b\b\r",
      "1/1 [==============================] - 0s 65ms/step\n"
     ]
    },
    {
     "name": "stdout",
     "output_type": "stream",
     "text": [
      "\r",
      "1/1 [==============================] - ETA: 0s"
     ]
    },
    {
     "name": "stdout",
     "output_type": "stream",
     "text": [
      "\b\b\b\b\b\b\b\b\b\b\b\b\b\b\b\b\b\b\b\b\b\b\b\b\b\b\b\b\b\b\b\b\b\b\b\b\b\b\b\b\b\b\b\b\b\b\r",
      "1/1 [==============================] - 0s 60ms/step\n"
     ]
    },
    {
     "name": "stdout",
     "output_type": "stream",
     "text": [
      "\r",
      "1/1 [==============================] - ETA: 0s"
     ]
    },
    {
     "name": "stdout",
     "output_type": "stream",
     "text": [
      "\b\b\b\b\b\b\b\b\b\b\b\b\b\b\b\b\b\b\b\b\b\b\b\b\b\b\b\b\b\b\b\b\b\b\b\b\b\b\b\b\b\b\b\b\b\b\r",
      "1/1 [==============================] - 0s 61ms/step\n"
     ]
    },
    {
     "name": "stdout",
     "output_type": "stream",
     "text": [
      "\r",
      "1/1 [==============================] - ETA: 0s"
     ]
    },
    {
     "name": "stdout",
     "output_type": "stream",
     "text": [
      "\b\b\b\b\b\b\b\b\b\b\b\b\b\b\b\b\b\b\b\b\b\b\b\b\b\b\b\b\b\b\b\b\b\b\b\b\b\b\b\b\b\b\b\b\b\b\r",
      "1/1 [==============================] - 0s 61ms/step\n"
     ]
    },
    {
     "name": "stdout",
     "output_type": "stream",
     "text": [
      "\r",
      "1/1 [==============================] - ETA: 0s"
     ]
    },
    {
     "name": "stdout",
     "output_type": "stream",
     "text": [
      "\b\b\b\b\b\b\b\b\b\b\b\b\b\b\b\b\b\b\b\b\b\b\b\b\b\b\b\b\b\b\b\b\b\b\b\b\b\b\b\b\b\b\b\b\b\b\r",
      "1/1 [==============================] - 0s 60ms/step\n"
     ]
    },
    {
     "name": "stdout",
     "output_type": "stream",
     "text": [
      "\r",
      "1/1 [==============================] - ETA: 0s"
     ]
    },
    {
     "name": "stdout",
     "output_type": "stream",
     "text": [
      "\b\b\b\b\b\b\b\b\b\b\b\b\b\b\b\b\b\b\b\b\b\b\b\b\b\b\b\b\b\b\b\b\b\b\b\b\b\b\b\b\b\b\b\b\b\b\r",
      "1/1 [==============================] - 0s 63ms/step\n"
     ]
    },
    {
     "name": "stdout",
     "output_type": "stream",
     "text": [
      "\r",
      "1/1 [==============================] - ETA: 0s"
     ]
    },
    {
     "name": "stdout",
     "output_type": "stream",
     "text": [
      "\b\b\b\b\b\b\b\b\b\b\b\b\b\b\b\b\b\b\b\b\b\b\b\b\b\b\b\b\b\b\b\b\b\b\b\b\b\b\b\b\b\b\b\b\b\b\r",
      "1/1 [==============================] - 0s 89ms/step\n"
     ]
    },
    {
     "name": "stdout",
     "output_type": "stream",
     "text": [
      "\r",
      "1/1 [==============================] - ETA: 0s"
     ]
    },
    {
     "name": "stdout",
     "output_type": "stream",
     "text": [
      "\b\b\b\b\b\b\b\b\b\b\b\b\b\b\b\b\b\b\b\b\b\b\b\b\b\b\b\b\b\b\b\b\b\b\b\b\b\b\b\b\b\b\b\b\b\b\r",
      "1/1 [==============================] - 0s 90ms/step\n"
     ]
    },
    {
     "name": "stdout",
     "output_type": "stream",
     "text": [
      "\r",
      "1/1 [==============================] - ETA: 0s"
     ]
    },
    {
     "name": "stdout",
     "output_type": "stream",
     "text": [
      "\b\b\b\b\b\b\b\b\b\b\b\b\b\b\b\b\b\b\b\b\b\b\b\b\b\b\b\b\b\b\b\b\b\b\b\b\b\b\b\b\b\b\b\b\b\b\r",
      "1/1 [==============================] - 0s 89ms/step\n"
     ]
    },
    {
     "name": "stdout",
     "output_type": "stream",
     "text": [
      "\r",
      "1/1 [==============================] - ETA: 0s"
     ]
    },
    {
     "name": "stdout",
     "output_type": "stream",
     "text": [
      "\b\b\b\b\b\b\b\b\b\b\b\b\b\b\b\b\b\b\b\b\b\b\b\b\b\b\b\b\b\b\b\b\b\b\b\b\b\b\b\b\b\b\b\b\b\b\r",
      "1/1 [==============================] - 0s 90ms/step\n"
     ]
    },
    {
     "name": "stdout",
     "output_type": "stream",
     "text": [
      "\r",
      "1/1 [==============================] - ETA: 0s"
     ]
    },
    {
     "name": "stdout",
     "output_type": "stream",
     "text": [
      "\b\b\b\b\b\b\b\b\b\b\b\b\b\b\b\b\b\b\b\b\b\b\b\b\b\b\b\b\b\b\b\b\b\b\b\b\b\b\b\b\b\b\b\b\b\b\r",
      "1/1 [==============================] - 0s 89ms/step\n"
     ]
    },
    {
     "name": "stdout",
     "output_type": "stream",
     "text": [
      "\r",
      "1/1 [==============================] - ETA: 0s"
     ]
    },
    {
     "name": "stdout",
     "output_type": "stream",
     "text": [
      "\b\b\b\b\b\b\b\b\b\b\b\b\b\b\b\b\b\b\b\b\b\b\b\b\b\b\b\b\b\b\b\b\b\b\b\b\b\b\b\b\b\b\b\b\b\b\r",
      "1/1 [==============================] - 0s 92ms/step\n"
     ]
    },
    {
     "name": "stdout",
     "output_type": "stream",
     "text": [
      "\r",
      "1/1 [==============================] - ETA: 0s"
     ]
    },
    {
     "name": "stdout",
     "output_type": "stream",
     "text": [
      "\b\b\b\b\b\b\b\b\b\b\b\b\b\b\b\b\b\b\b\b\b\b\b\b\b\b\b\b\b\b\b\b\b\b\b\b\b\b\b\b\b\b\b\b\b\b\r",
      "1/1 [==============================] - 0s 89ms/step\n"
     ]
    },
    {
     "name": "stderr",
     "output_type": "stream",
     "text": [
      "/home/jup_user/mlproject/jup-env/lib/python3.8/site-packages/PIL/Image.py:981: UserWarning: Palette images with Transparency expressed in bytes should be converted to RGBA images\n",
      "  warnings.warn(\n"
     ]
    },
    {
     "name": "stdout",
     "output_type": "stream",
     "text": [
      "\r",
      "1/1 [==============================] - ETA: 0s"
     ]
    },
    {
     "name": "stdout",
     "output_type": "stream",
     "text": [
      "\b\b\b\b\b\b\b\b\b\b\b\b\b\b\b\b\b\b\b\b\b\b\b\b\b\b\b\b\b\b\b\b\b\b\b\b\b\b\b\b\b\b\b\b\b\b\r",
      "1/1 [==============================] - 0s 91ms/step\n"
     ]
    },
    {
     "name": "stdout",
     "output_type": "stream",
     "text": [
      "\r",
      "1/1 [==============================] - ETA: 0s"
     ]
    },
    {
     "name": "stdout",
     "output_type": "stream",
     "text": [
      "\b\b\b\b\b\b\b\b\b\b\b\b\b\b\b\b\b\b\b\b\b\b\b\b\b\b\b\b\b\b\b\b\b\b\b\b\b\b\b\b\b\b\b\b\b\b\r",
      "1/1 [==============================] - 0s 90ms/step\n"
     ]
    },
    {
     "name": "stdout",
     "output_type": "stream",
     "text": [
      "\r",
      "1/1 [==============================] - ETA: 0s"
     ]
    },
    {
     "name": "stdout",
     "output_type": "stream",
     "text": [
      "\b\b\b\b\b\b\b\b\b\b\b\b\b\b\b\b\b\b\b\b\b\b\b\b\b\b\b\b\b\b\b\b\b\b\b\b\b\b\b\b\b\b\b\b\b\b\r",
      "1/1 [==============================] - 0s 90ms/step\n"
     ]
    },
    {
     "name": "stdout",
     "output_type": "stream",
     "text": [
      "\r",
      "1/1 [==============================] - ETA: 0s"
     ]
    },
    {
     "name": "stdout",
     "output_type": "stream",
     "text": [
      "\b\b\b\b\b\b\b\b\b\b\b\b\b\b\b\b\b\b\b\b\b\b\b\b\b\b\b\b\b\b\b\b\b\b\b\b\b\b\b\b\b\b\b\b\b\b\r",
      "1/1 [==============================] - 0s 90ms/step\n"
     ]
    },
    {
     "name": "stdout",
     "output_type": "stream",
     "text": [
      "\r",
      "1/1 [==============================] - ETA: 0s"
     ]
    },
    {
     "name": "stdout",
     "output_type": "stream",
     "text": [
      "\b\b\b\b\b\b\b\b\b\b\b\b\b\b\b\b\b\b\b\b\b\b\b\b\b\b\b\b\b\b\b\b\b\b\b\b\b\b\b\b\b\b\b\b\b\b\r",
      "1/1 [==============================] - 0s 92ms/step\n"
     ]
    },
    {
     "name": "stdout",
     "output_type": "stream",
     "text": [
      "\r",
      "1/1 [==============================] - ETA: 0s"
     ]
    },
    {
     "name": "stdout",
     "output_type": "stream",
     "text": [
      "\b\b\b\b\b\b\b\b\b\b\b\b\b\b\b\b\b\b\b\b\b\b\b\b\b\b\b\b\b\b\b\b\b\b\b\b\b\b\b\b\b\b\b\b\b\b\r",
      "1/1 [==============================] - 0s 66ms/step\n"
     ]
    },
    {
     "name": "stdout",
     "output_type": "stream",
     "text": [
      "\r",
      "1/1 [==============================] - ETA: 0s"
     ]
    },
    {
     "name": "stdout",
     "output_type": "stream",
     "text": [
      "\b\b\b\b\b\b\b\b\b\b\b\b\b\b\b\b\b\b\b\b\b\b\b\b\b\b\b\b\b\b\b\b\b\b\b\b\b\b\b\b\b\b\b\b\b\b\r",
      "1/1 [==============================] - 0s 60ms/step\n"
     ]
    },
    {
     "name": "stdout",
     "output_type": "stream",
     "text": [
      "\r",
      "1/1 [==============================] - ETA: 0s"
     ]
    },
    {
     "name": "stdout",
     "output_type": "stream",
     "text": [
      "\b\b\b\b\b\b\b\b\b\b\b\b\b\b\b\b\b\b\b\b\b\b\b\b\b\b\b\b\b\b\b\b\b\b\b\b\b\b\b\b\b\b\b\b\b\b\r",
      "1/1 [==============================] - 0s 59ms/step\n"
     ]
    },
    {
     "name": "stdout",
     "output_type": "stream",
     "text": [
      "\r",
      "1/1 [==============================] - ETA: 0s"
     ]
    },
    {
     "name": "stdout",
     "output_type": "stream",
     "text": [
      "\b\b\b\b\b\b\b\b\b\b\b\b\b\b\b\b\b\b\b\b\b\b\b\b\b\b\b\b\b\b\b\b\b\b\b\b\b\b\b\b\b\b\b\b\b\b\r",
      "1/1 [==============================] - 0s 59ms/step\n"
     ]
    },
    {
     "name": "stdout",
     "output_type": "stream",
     "text": [
      "\r",
      "1/1 [==============================] - ETA: 0s"
     ]
    },
    {
     "name": "stdout",
     "output_type": "stream",
     "text": [
      "\b\b\b\b\b\b\b\b\b\b\b\b\b\b\b\b\b\b\b\b\b\b\b\b\b\b\b\b\b\b\b\b\b\b\b\b\b\b\b\b\b\b\b\b\b\b\r",
      "1/1 [==============================] - 0s 59ms/step\n"
     ]
    },
    {
     "name": "stdout",
     "output_type": "stream",
     "text": [
      "\r",
      "1/1 [==============================] - ETA: 0s"
     ]
    },
    {
     "name": "stdout",
     "output_type": "stream",
     "text": [
      "\b\b\b\b\b\b\b\b\b\b\b\b\b\b\b\b\b\b\b\b\b\b\b\b\b\b\b\b\b\b\b\b\b\b\b\b\b\b\b\b\b\b\b\b\b\b\r",
      "1/1 [==============================] - 0s 60ms/step\n"
     ]
    },
    {
     "name": "stdout",
     "output_type": "stream",
     "text": [
      "\r",
      "1/1 [==============================] - ETA: 0s"
     ]
    },
    {
     "name": "stdout",
     "output_type": "stream",
     "text": [
      "\b\b\b\b\b\b\b\b\b\b\b\b\b\b\b\b\b\b\b\b\b\b\b\b\b\b\b\b\b\b\b\b\b\b\b\b\b\b\b\b\b\b\b\b\b\b\r",
      "1/1 [==============================] - 0s 60ms/step\n"
     ]
    },
    {
     "name": "stdout",
     "output_type": "stream",
     "text": [
      "\r",
      "1/1 [==============================] - ETA: 0s"
     ]
    },
    {
     "name": "stdout",
     "output_type": "stream",
     "text": [
      "\b\b\b\b\b\b\b\b\b\b\b\b\b\b\b\b\b\b\b\b\b\b\b\b\b\b\b\b\b\b\b\b\b\b\b\b\b\b\b\b\b\b\b\b\b\b\r",
      "1/1 [==============================] - 0s 61ms/step\n"
     ]
    },
    {
     "name": "stdout",
     "output_type": "stream",
     "text": [
      "\r",
      "1/1 [==============================] - ETA: 0s"
     ]
    },
    {
     "name": "stdout",
     "output_type": "stream",
     "text": [
      "\b\b\b\b\b\b\b\b\b\b\b\b\b\b\b\b\b\b\b\b\b\b\b\b\b\b\b\b\b\b\b\b\b\b\b\b\b\b\b\b\b\b\b\b\b\b\r",
      "1/1 [==============================] - 0s 60ms/step\n"
     ]
    },
    {
     "name": "stdout",
     "output_type": "stream",
     "text": [
      "\r",
      "1/1 [==============================] - ETA: 0s"
     ]
    },
    {
     "name": "stdout",
     "output_type": "stream",
     "text": [
      "\b\b\b\b\b\b\b\b\b\b\b\b\b\b\b\b\b\b\b\b\b\b\b\b\b\b\b\b\b\b\b\b\b\b\b\b\b\b\b\b\b\b\b\b\b\b\r",
      "1/1 [==============================] - 0s 90ms/step\n"
     ]
    },
    {
     "name": "stdout",
     "output_type": "stream",
     "text": [
      "\r",
      "1/1 [==============================] - ETA: 0s"
     ]
    },
    {
     "name": "stdout",
     "output_type": "stream",
     "text": [
      "\b\b\b\b\b\b\b\b\b\b\b\b\b\b\b\b\b\b\b\b\b\b\b\b\b\b\b\b\b\b\b\b\b\b\b\b\b\b\b\b\b\b\b\b\b\b\r",
      "1/1 [==============================] - 0s 89ms/step\n"
     ]
    },
    {
     "name": "stdout",
     "output_type": "stream",
     "text": [
      "\r",
      "1/1 [==============================] - ETA: 0s"
     ]
    },
    {
     "name": "stdout",
     "output_type": "stream",
     "text": [
      "\b\b\b\b\b\b\b\b\b\b\b\b\b\b\b\b\b\b\b\b\b\b\b\b\b\b\b\b\b\b\b\b\b\b\b\b\b\b\b\b\b\b\b\b\b\b\r",
      "1/1 [==============================] - 0s 91ms/step\n"
     ]
    },
    {
     "name": "stdout",
     "output_type": "stream",
     "text": [
      "\r",
      "1/1 [==============================] - ETA: 0s"
     ]
    },
    {
     "name": "stdout",
     "output_type": "stream",
     "text": [
      "\b\b\b\b\b\b\b\b\b\b\b\b\b\b\b\b\b\b\b\b\b\b\b\b\b\b\b\b\b\b\b\b\b\b\b\b\b\b\b\b\b\b\b\b\b\b\r",
      "1/1 [==============================] - 0s 90ms/step\n"
     ]
    },
    {
     "name": "stdout",
     "output_type": "stream",
     "text": [
      "\r",
      "1/1 [==============================] - ETA: 0s"
     ]
    },
    {
     "name": "stdout",
     "output_type": "stream",
     "text": [
      "\b\b\b\b\b\b\b\b\b\b\b\b\b\b\b\b\b\b\b\b\b\b\b\b\b\b\b\b\b\b\b\b\b\b\b\b\b\b\b\b\b\b\b\b\b\b\r",
      "1/1 [==============================] - 0s 61ms/step\n"
     ]
    },
    {
     "name": "stdout",
     "output_type": "stream",
     "text": [
      "\r",
      "1/1 [==============================] - ETA: 0s"
     ]
    },
    {
     "name": "stdout",
     "output_type": "stream",
     "text": [
      "\b\b\b\b\b\b\b\b\b\b\b\b\b\b\b\b\b\b\b\b\b\b\b\b\b\b\b\b\b\b\b\b\b\b\b\b\b\b\b\b\b\b\b\b\b\b\r",
      "1/1 [==============================] - 0s 61ms/step\n"
     ]
    },
    {
     "name": "stdout",
     "output_type": "stream",
     "text": [
      "\r",
      "1/1 [==============================] - ETA: 0s"
     ]
    },
    {
     "name": "stdout",
     "output_type": "stream",
     "text": [
      "\b\b\b\b\b\b\b\b\b\b\b\b\b\b\b\b\b\b\b\b\b\b\b\b\b\b\b\b\b\b\b\b\b\b\b\b\b\b\b\b\b\b\b\b\b\b\r",
      "1/1 [==============================] - 0s 59ms/step\n"
     ]
    },
    {
     "name": "stdout",
     "output_type": "stream",
     "text": [
      "\r",
      "1/1 [==============================] - ETA: 0s"
     ]
    },
    {
     "name": "stdout",
     "output_type": "stream",
     "text": [
      "\b\b\b\b\b\b\b\b\b\b\b\b\b\b\b\b\b\b\b\b\b\b\b\b\b\b\b\b\b\b\b\b\b\b\b\b\b\b\b\b\b\b\b\b\b\b\r",
      "1/1 [==============================] - 0s 57ms/step\n"
     ]
    },
    {
     "name": "stdout",
     "output_type": "stream",
     "text": [
      "\r",
      "1/1 [==============================] - ETA: 0s"
     ]
    },
    {
     "name": "stdout",
     "output_type": "stream",
     "text": [
      "\b\b\b\b\b\b\b\b\b\b\b\b\b\b\b\b\b\b\b\b\b\b\b\b\b\b\b\b\b\b\b\b\b\b\b\b\b\b\b\b\b\b\b\b\b\b\r",
      "1/1 [==============================] - 0s 56ms/step\n"
     ]
    },
    {
     "name": "stdout",
     "output_type": "stream",
     "text": [
      "\r",
      "1/1 [==============================] - ETA: 0s"
     ]
    },
    {
     "name": "stdout",
     "output_type": "stream",
     "text": [
      "\b\b\b\b\b\b\b\b\b\b\b\b\b\b\b\b\b\b\b\b\b\b\b\b\b\b\b\b\b\b\b\b\b\b\b\b\b\b\b\b\b\b\b\b\b\b\r",
      "1/1 [==============================] - 0s 56ms/step\n"
     ]
    },
    {
     "name": "stdout",
     "output_type": "stream",
     "text": [
      "\r",
      "1/1 [==============================] - ETA: 0s"
     ]
    },
    {
     "name": "stdout",
     "output_type": "stream",
     "text": [
      "\b\b\b\b\b\b\b\b\b\b\b\b\b\b\b\b\b\b\b\b\b\b\b\b\b\b\b\b\b\b\b\b\b\b\b\b\b\b\b\b\b\b\b\b\b\b\r",
      "1/1 [==============================] - 0s 61ms/step\n"
     ]
    },
    {
     "name": "stdout",
     "output_type": "stream",
     "text": [
      "\r",
      "1/1 [==============================] - ETA: 0s"
     ]
    },
    {
     "name": "stdout",
     "output_type": "stream",
     "text": [
      "\b\b\b\b\b\b\b\b\b\b\b\b\b\b\b\b\b\b\b\b\b\b\b\b\b\b\b\b\b\b\b\b\b\b\b\b\b\b\b\b\b\b\b\b\b\b\r",
      "1/1 [==============================] - 0s 60ms/step\n"
     ]
    },
    {
     "name": "stdout",
     "output_type": "stream",
     "text": [
      "\r",
      "1/1 [==============================] - ETA: 0s"
     ]
    },
    {
     "name": "stdout",
     "output_type": "stream",
     "text": [
      "\b\b\b\b\b\b\b\b\b\b\b\b\b\b\b\b\b\b\b\b\b\b\b\b\b\b\b\b\b\b\b\b\b\b\b\b\b\b\b\b\b\b\b\b\b\b\r",
      "1/1 [==============================] - 0s 69ms/step\n"
     ]
    },
    {
     "name": "stdout",
     "output_type": "stream",
     "text": [
      "\r",
      "1/1 [==============================] - ETA: 0s"
     ]
    },
    {
     "name": "stdout",
     "output_type": "stream",
     "text": [
      "\b\b\b\b\b\b\b\b\b\b\b\b\b\b\b\b\b\b\b\b\b\b\b\b\b\b\b\b\b\b\b\b\b\b\b\b\b\b\b\b\b\b\b\b\b\b\r",
      "1/1 [==============================] - 0s 60ms/step\n"
     ]
    },
    {
     "name": "stdout",
     "output_type": "stream",
     "text": [
      "\r",
      "1/1 [==============================] - ETA: 0s"
     ]
    },
    {
     "name": "stdout",
     "output_type": "stream",
     "text": [
      "\b\b\b\b\b\b\b\b\b\b\b\b\b\b\b\b\b\b\b\b\b\b\b\b\b\b\b\b\b\b\b\b\b\b\b\b\b\b\b\b\b\b\b\b\b\b\r",
      "1/1 [==============================] - 0s 59ms/step\n"
     ]
    },
    {
     "name": "stdout",
     "output_type": "stream",
     "text": [
      "\r",
      "1/1 [==============================] - ETA: 0s"
     ]
    },
    {
     "name": "stdout",
     "output_type": "stream",
     "text": [
      "\b\b\b\b\b\b\b\b\b\b\b\b\b\b\b\b\b\b\b\b\b\b\b\b\b\b\b\b\b\b\b\b\b\b\b\b\b\b\b\b\b\b\b\b\b\b\r",
      "1/1 [==============================] - 0s 56ms/step\n"
     ]
    },
    {
     "name": "stdout",
     "output_type": "stream",
     "text": [
      "\r",
      "1/1 [==============================] - ETA: 0s"
     ]
    },
    {
     "name": "stdout",
     "output_type": "stream",
     "text": [
      "\b\b\b\b\b\b\b\b\b\b\b\b\b\b\b\b\b\b\b\b\b\b\b\b\b\b\b\b\b\b\b\b\b\b\b\b\b\b\b\b\b\b\b\b\b\b\r",
      "1/1 [==============================] - 0s 59ms/step\n"
     ]
    },
    {
     "name": "stdout",
     "output_type": "stream",
     "text": [
      "\r",
      "1/1 [==============================] - ETA: 0s"
     ]
    },
    {
     "name": "stdout",
     "output_type": "stream",
     "text": [
      "\b\b\b\b\b\b\b\b\b\b\b\b\b\b\b\b\b\b\b\b\b\b\b\b\b\b\b\b\b\b\b\b\b\b\b\b\b\b\b\b\b\b\b\b\b\b\r",
      "1/1 [==============================] - 0s 60ms/step\n"
     ]
    },
    {
     "name": "stdout",
     "output_type": "stream",
     "text": [
      "\r",
      "1/1 [==============================] - ETA: 0s"
     ]
    },
    {
     "name": "stdout",
     "output_type": "stream",
     "text": [
      "\b\b\b\b\b\b\b\b\b\b\b\b\b\b\b\b\b\b\b\b\b\b\b\b\b\b\b\b\b\b\b\b\b\b\b\b\b\b\b\b\b\b\b\b\b\b\r",
      "1/1 [==============================] - 0s 59ms/step\n"
     ]
    },
    {
     "name": "stdout",
     "output_type": "stream",
     "text": [
      "\r",
      "1/1 [==============================] - ETA: 0s"
     ]
    },
    {
     "name": "stdout",
     "output_type": "stream",
     "text": [
      "\b\b\b\b\b\b\b\b\b\b\b\b\b\b\b\b\b\b\b\b\b\b\b\b\b\b\b\b\b\b\b\b\b\b\b\b\b\b\b\b\b\b\b\b\b\b\r",
      "1/1 [==============================] - 0s 57ms/step\n"
     ]
    },
    {
     "name": "stdout",
     "output_type": "stream",
     "text": [
      "\r",
      "1/1 [==============================] - ETA: 0s"
     ]
    },
    {
     "name": "stdout",
     "output_type": "stream",
     "text": [
      "\b\b\b\b\b\b\b\b\b\b\b\b\b\b\b\b\b\b\b\b\b\b\b\b\b\b\b\b\b\b\b\b\b\b\b\b\b\b\b\b\b\b\b\b\b\b\r",
      "1/1 [==============================] - 0s 57ms/step\n"
     ]
    },
    {
     "name": "stdout",
     "output_type": "stream",
     "text": [
      "\r",
      "1/1 [==============================] - ETA: 0s"
     ]
    },
    {
     "name": "stdout",
     "output_type": "stream",
     "text": [
      "\b\b\b\b\b\b\b\b\b\b\b\b\b\b\b\b\b\b\b\b\b\b\b\b\b\b\b\b\b\b\b\b\b\b\b\b\b\b\b\b\b\b\b\b\b\b\r",
      "1/1 [==============================] - 0s 62ms/step\n"
     ]
    },
    {
     "name": "stdout",
     "output_type": "stream",
     "text": [
      "\r",
      "1/1 [==============================] - ETA: 0s"
     ]
    },
    {
     "name": "stdout",
     "output_type": "stream",
     "text": [
      "\b\b\b\b\b\b\b\b\b\b\b\b\b\b\b\b\b\b\b\b\b\b\b\b\b\b\b\b\b\b\b\b\b\b\b\b\b\b\b\b\b\b\b\b\b\b\r",
      "1/1 [==============================] - 0s 62ms/step\n"
     ]
    },
    {
     "name": "stdout",
     "output_type": "stream",
     "text": [
      "\r",
      "1/1 [==============================] - ETA: 0s"
     ]
    },
    {
     "name": "stdout",
     "output_type": "stream",
     "text": [
      "\b\b\b\b\b\b\b\b\b\b\b\b\b\b\b\b\b\b\b\b\b\b\b\b\b\b\b\b\b\b\b\b\b\b\b\b\b\b\b\b\b\b\b\b\b\b\r",
      "1/1 [==============================] - 0s 60ms/step\n"
     ]
    },
    {
     "name": "stdout",
     "output_type": "stream",
     "text": [
      "\r",
      "1/1 [==============================] - ETA: 0s"
     ]
    },
    {
     "name": "stdout",
     "output_type": "stream",
     "text": [
      "\b\b\b\b\b\b\b\b\b\b\b\b\b\b\b\b\b\b\b\b\b\b\b\b\b\b\b\b\b\b\b\b\b\b\b\b\b\b\b\b\b\b\b\b\b\b\r",
      "1/1 [==============================] - 0s 61ms/step\n"
     ]
    },
    {
     "name": "stdout",
     "output_type": "stream",
     "text": [
      "\r",
      "1/1 [==============================] - ETA: 0s"
     ]
    },
    {
     "name": "stdout",
     "output_type": "stream",
     "text": [
      "\b\b\b\b\b\b\b\b\b\b\b\b\b\b\b\b\b\b\b\b\b\b\b\b\b\b\b\b\b\b\b\b\b\b\b\b\b\b\b\b\b\b\b\b\b\b\r",
      "1/1 [==============================] - 0s 56ms/step\n"
     ]
    },
    {
     "name": "stdout",
     "output_type": "stream",
     "text": [
      "\r",
      "1/1 [==============================] - ETA: 0s"
     ]
    },
    {
     "name": "stdout",
     "output_type": "stream",
     "text": [
      "\b\b\b\b\b\b\b\b\b\b\b\b\b\b\b\b\b\b\b\b\b\b\b\b\b\b\b\b\b\b\b\b\b\b\b\b\b\b\b\b\b\b\b\b\b\b\r",
      "1/1 [==============================] - 0s 62ms/step\n"
     ]
    },
    {
     "name": "stdout",
     "output_type": "stream",
     "text": [
      "\r",
      "1/1 [==============================] - ETA: 0s"
     ]
    },
    {
     "name": "stdout",
     "output_type": "stream",
     "text": [
      "\b\b\b\b\b\b\b\b\b\b\b\b\b\b\b\b\b\b\b\b\b\b\b\b\b\b\b\b\b\b\b\b\b\b\b\b\b\b\b\b\b\b\b\b\b\b\r",
      "1/1 [==============================] - 0s 57ms/step\n"
     ]
    },
    {
     "name": "stdout",
     "output_type": "stream",
     "text": [
      "\r",
      "1/1 [==============================] - ETA: 0s"
     ]
    },
    {
     "name": "stdout",
     "output_type": "stream",
     "text": [
      "\b\b\b\b\b\b\b\b\b\b\b\b\b\b\b\b\b\b\b\b\b\b\b\b\b\b\b\b\b\b\b\b\b\b\b\b\b\b\b\b\b\b\b\b\b\b\r",
      "1/1 [==============================] - 0s 57ms/step\n"
     ]
    },
    {
     "name": "stdout",
     "output_type": "stream",
     "text": [
      "\r",
      "1/1 [==============================] - ETA: 0s"
     ]
    },
    {
     "name": "stdout",
     "output_type": "stream",
     "text": [
      "\b\b\b\b\b\b\b\b\b\b\b\b\b\b\b\b\b\b\b\b\b\b\b\b\b\b\b\b\b\b\b\b\b\b\b\b\b\b\b\b\b\b\b\b\b\b\r",
      "1/1 [==============================] - 0s 56ms/step\n"
     ]
    },
    {
     "name": "stdout",
     "output_type": "stream",
     "text": [
      "\r",
      "1/1 [==============================] - ETA: 0s"
     ]
    },
    {
     "name": "stdout",
     "output_type": "stream",
     "text": [
      "\b\b\b\b\b\b\b\b\b\b\b\b\b\b\b\b\b\b\b\b\b\b\b\b\b\b\b\b\b\b\b\b\b\b\b\b\b\b\b\b\b\b\b\b\b\b\r",
      "1/1 [==============================] - 0s 59ms/step\n"
     ]
    },
    {
     "name": "stdout",
     "output_type": "stream",
     "text": [
      "\r",
      "1/1 [==============================] - ETA: 0s"
     ]
    },
    {
     "name": "stdout",
     "output_type": "stream",
     "text": [
      "\b\b\b\b\b\b\b\b\b\b\b\b\b\b\b\b\b\b\b\b\b\b\b\b\b\b\b\b\b\b\b\b\b\b\b\b\b\b\b\b\b\b\b\b\b\b\r",
      "1/1 [==============================] - 0s 56ms/step\n"
     ]
    },
    {
     "name": "stdout",
     "output_type": "stream",
     "text": [
      "\r",
      "1/1 [==============================] - ETA: 0s"
     ]
    },
    {
     "name": "stdout",
     "output_type": "stream",
     "text": [
      "\b\b\b\b\b\b\b\b\b\b\b\b\b\b\b\b\b\b\b\b\b\b\b\b\b\b\b\b\b\b\b\b\b\b\b\b\b\b\b\b\b\b\b\b\b\b\r",
      "1/1 [==============================] - 0s 59ms/step\n"
     ]
    },
    {
     "name": "stdout",
     "output_type": "stream",
     "text": [
      "\r",
      "1/1 [==============================] - ETA: 0s"
     ]
    },
    {
     "name": "stdout",
     "output_type": "stream",
     "text": [
      "\b\b\b\b\b\b\b\b\b\b\b\b\b\b\b\b\b\b\b\b\b\b\b\b\b\b\b\b\b\b\b\b\b\b\b\b\b\b\b\b\b\b\b\b\b\b\r",
      "1/1 [==============================] - 0s 61ms/step\n"
     ]
    },
    {
     "name": "stdout",
     "output_type": "stream",
     "text": [
      "\r",
      "1/1 [==============================] - ETA: 0s"
     ]
    },
    {
     "name": "stdout",
     "output_type": "stream",
     "text": [
      "\b\b\b\b\b\b\b\b\b\b\b\b\b\b\b\b\b\b\b\b\b\b\b\b\b\b\b\b\b\b\b\b\b\b\b\b\b\b\b\b\b\b\b\b\b\b\r",
      "1/1 [==============================] - 0s 61ms/step\n"
     ]
    },
    {
     "name": "stdout",
     "output_type": "stream",
     "text": [
      "\r",
      "1/1 [==============================] - ETA: 0s"
     ]
    },
    {
     "name": "stdout",
     "output_type": "stream",
     "text": [
      "\b\b\b\b\b\b\b\b\b\b\b\b\b\b\b\b\b\b\b\b\b\b\b\b\b\b\b\b\b\b\b\b\b\b\b\b\b\b\b\b\b\b\b\b\b\b\r",
      "1/1 [==============================] - 0s 61ms/step\n"
     ]
    },
    {
     "name": "stdout",
     "output_type": "stream",
     "text": [
      "\r",
      "1/1 [==============================] - ETA: 0s"
     ]
    },
    {
     "name": "stdout",
     "output_type": "stream",
     "text": [
      "\b\b\b\b\b\b\b\b\b\b\b\b\b\b\b\b\b\b\b\b\b\b\b\b\b\b\b\b\b\b\b\b\b\b\b\b\b\b\b\b\b\b\b\b\b\b\r",
      "1/1 [==============================] - 0s 60ms/step\n"
     ]
    },
    {
     "name": "stdout",
     "output_type": "stream",
     "text": [
      "\r",
      "1/1 [==============================] - ETA: 0s"
     ]
    },
    {
     "name": "stdout",
     "output_type": "stream",
     "text": [
      "\b\b\b\b\b\b\b\b\b\b\b\b\b\b\b\b\b\b\b\b\b\b\b\b\b\b\b\b\b\b\b\b\b\b\b\b\b\b\b\b\b\b\b\b\b\b\r",
      "1/1 [==============================] - 0s 56ms/step\n"
     ]
    },
    {
     "name": "stdout",
     "output_type": "stream",
     "text": [
      "\r",
      "1/1 [==============================] - ETA: 0s"
     ]
    },
    {
     "name": "stdout",
     "output_type": "stream",
     "text": [
      "\b\b\b\b\b\b\b\b\b\b\b\b\b\b\b\b\b\b\b\b\b\b\b\b\b\b\b\b\b\b\b\b\b\b\b\b\b\b\b\b\b\b\b\b\b\b\r",
      "1/1 [==============================] - 0s 60ms/step\n"
     ]
    },
    {
     "name": "stdout",
     "output_type": "stream",
     "text": [
      "\r",
      "1/1 [==============================] - ETA: 0s"
     ]
    },
    {
     "name": "stdout",
     "output_type": "stream",
     "text": [
      "\b\b\b\b\b\b\b\b\b\b\b\b\b\b\b\b\b\b\b\b\b\b\b\b\b\b\b\b\b\b\b\b\b\b\b\b\b\b\b\b\b\b\b\b\b\b\r",
      "1/1 [==============================] - 0s 60ms/step\n"
     ]
    },
    {
     "name": "stdout",
     "output_type": "stream",
     "text": [
      "\r",
      "1/1 [==============================] - ETA: 0s"
     ]
    },
    {
     "name": "stdout",
     "output_type": "stream",
     "text": [
      "\b\b\b\b\b\b\b\b\b\b\b\b\b\b\b\b\b\b\b\b\b\b\b\b\b\b\b\b\b\b\b\b\b\b\b\b\b\b\b\b\b\b\b\b\b\b\r",
      "1/1 [==============================] - 0s 58ms/step\n"
     ]
    },
    {
     "name": "stdout",
     "output_type": "stream",
     "text": [
      "\r",
      "1/1 [==============================] - ETA: 0s"
     ]
    },
    {
     "name": "stdout",
     "output_type": "stream",
     "text": [
      "\b\b\b\b\b\b\b\b\b\b\b\b\b\b\b\b\b\b\b\b\b\b\b\b\b\b\b\b\b\b\b\b\b\b\b\b\b\b\b\b\b\b\b\b\b\b\r",
      "1/1 [==============================] - 0s 56ms/step\n"
     ]
    },
    {
     "name": "stdout",
     "output_type": "stream",
     "text": [
      "\r",
      "1/1 [==============================] - ETA: 0s"
     ]
    },
    {
     "name": "stdout",
     "output_type": "stream",
     "text": [
      "\b\b\b\b\b\b\b\b\b\b\b\b\b\b\b\b\b\b\b\b\b\b\b\b\b\b\b\b\b\b\b\b\b\b\b\b\b\b\b\b\b\b\b\b\b\b\r",
      "1/1 [==============================] - 0s 59ms/step\n"
     ]
    },
    {
     "name": "stdout",
     "output_type": "stream",
     "text": [
      "\r",
      "1/1 [==============================] - ETA: 0s"
     ]
    },
    {
     "name": "stdout",
     "output_type": "stream",
     "text": [
      "\b\b\b\b\b\b\b\b\b\b\b\b\b\b\b\b\b\b\b\b\b\b\b\b\b\b\b\b\b\b\b\b\b\b\b\b\b\b\b\b\b\b\b\b\b\b\r",
      "1/1 [==============================] - 0s 59ms/step\n"
     ]
    },
    {
     "name": "stdout",
     "output_type": "stream",
     "text": [
      "\r",
      "1/1 [==============================] - ETA: 0s"
     ]
    },
    {
     "name": "stdout",
     "output_type": "stream",
     "text": [
      "\b\b\b\b\b\b\b\b\b\b\b\b\b\b\b\b\b\b\b\b\b\b\b\b\b\b\b\b\b\b\b\b\b\b\b\b\b\b\b\b\b\b\b\b\b\b\r",
      "1/1 [==============================] - 0s 59ms/step\n"
     ]
    },
    {
     "name": "stdout",
     "output_type": "stream",
     "text": [
      "\r",
      "1/1 [==============================] - ETA: 0s"
     ]
    },
    {
     "name": "stdout",
     "output_type": "stream",
     "text": [
      "\b\b\b\b\b\b\b\b\b\b\b\b\b\b\b\b\b\b\b\b\b\b\b\b\b\b\b\b\b\b\b\b\b\b\b\b\b\b\b\b\b\b\b\b\b\b\r",
      "1/1 [==============================] - 0s 60ms/step\n"
     ]
    },
    {
     "name": "stdout",
     "output_type": "stream",
     "text": [
      "\r",
      "1/1 [==============================] - ETA: 0s"
     ]
    },
    {
     "name": "stdout",
     "output_type": "stream",
     "text": [
      "\b\b\b\b\b\b\b\b\b\b\b\b\b\b\b\b\b\b\b\b\b\b\b\b\b\b\b\b\b\b\b\b\b\b\b\b\b\b\b\b\b\b\b\b\b\b\r",
      "1/1 [==============================] - 0s 59ms/step\n"
     ]
    },
    {
     "name": "stdout",
     "output_type": "stream",
     "text": [
      "\r",
      "1/1 [==============================] - ETA: 0s"
     ]
    },
    {
     "name": "stdout",
     "output_type": "stream",
     "text": [
      "\b\b\b\b\b\b\b\b\b\b\b\b\b\b\b\b\b\b\b\b\b\b\b\b\b\b\b\b\b\b\b\b\b\b\b\b\b\b\b\b\b\b\b\b\b\b\r",
      "1/1 [==============================] - 0s 65ms/step\n"
     ]
    },
    {
     "name": "stdout",
     "output_type": "stream",
     "text": [
      "\r",
      "1/1 [==============================] - ETA: 0s"
     ]
    },
    {
     "name": "stdout",
     "output_type": "stream",
     "text": [
      "\b\b\b\b\b\b\b\b\b\b\b\b\b\b\b\b\b\b\b\b\b\b\b\b\b\b\b\b\b\b\b\b\b\b\b\b\b\b\b\b\b\b\b\b\b\b\r",
      "1/1 [==============================] - 0s 59ms/step\n"
     ]
    },
    {
     "name": "stdout",
     "output_type": "stream",
     "text": [
      "\r",
      "1/1 [==============================] - ETA: 0s"
     ]
    },
    {
     "name": "stdout",
     "output_type": "stream",
     "text": [
      "\b\b\b\b\b\b\b\b\b\b\b\b\b\b\b\b\b\b\b\b\b\b\b\b\b\b\b\b\b\b\b\b\b\b\b\b\b\b\b\b\b\b\b\b\b\b\r",
      "1/1 [==============================] - 0s 62ms/step\n"
     ]
    },
    {
     "name": "stdout",
     "output_type": "stream",
     "text": [
      "\r",
      "1/1 [==============================] - ETA: 0s"
     ]
    },
    {
     "name": "stdout",
     "output_type": "stream",
     "text": [
      "\b\b\b\b\b\b\b\b\b\b\b\b\b\b\b\b\b\b\b\b\b\b\b\b\b\b\b\b\b\b\b\b\b\b\b\b\b\b\b\b\b\b\b\b\b\b\r",
      "1/1 [==============================] - 0s 59ms/step\n"
     ]
    },
    {
     "name": "stdout",
     "output_type": "stream",
     "text": [
      "\r",
      "1/1 [==============================] - ETA: 0s"
     ]
    },
    {
     "name": "stdout",
     "output_type": "stream",
     "text": [
      "\b\b\b\b\b\b\b\b\b\b\b\b\b\b\b\b\b\b\b\b\b\b\b\b\b\b\b\b\b\b\b\b\b\b\b\b\b\b\b\b\b\b\b\b\b\b\r",
      "1/1 [==============================] - 0s 62ms/step\n"
     ]
    },
    {
     "name": "stdout",
     "output_type": "stream",
     "text": [
      "\r",
      "1/1 [==============================] - ETA: 0s"
     ]
    },
    {
     "name": "stdout",
     "output_type": "stream",
     "text": [
      "\b\b\b\b\b\b\b\b\b\b\b\b\b\b\b\b\b\b\b\b\b\b\b\b\b\b\b\b\b\b\b\b\b\b\b\b\b\b\b\b\b\b\b\b\b\b\r",
      "1/1 [==============================] - 0s 60ms/step\n"
     ]
    },
    {
     "name": "stdout",
     "output_type": "stream",
     "text": [
      "\r",
      "1/1 [==============================] - ETA: 0s"
     ]
    },
    {
     "name": "stdout",
     "output_type": "stream",
     "text": [
      "\b\b\b\b\b\b\b\b\b\b\b\b\b\b\b\b\b\b\b\b\b\b\b\b\b\b\b\b\b\b\b\b\b\b\b\b\b\b\b\b\b\b\b\b\b\b\r",
      "1/1 [==============================] - 0s 61ms/step\n"
     ]
    },
    {
     "name": "stdout",
     "output_type": "stream",
     "text": [
      "\r",
      "1/1 [==============================] - ETA: 0s"
     ]
    },
    {
     "name": "stdout",
     "output_type": "stream",
     "text": [
      "\b\b\b\b\b\b\b\b\b\b\b\b\b\b\b\b\b\b\b\b\b\b\b\b\b\b\b\b\b\b\b\b\b\b\b\b\b\b\b\b\b\b\b\b\b\b\r",
      "1/1 [==============================] - 0s 57ms/step\n"
     ]
    },
    {
     "name": "stdout",
     "output_type": "stream",
     "text": [
      "\r",
      "1/1 [==============================] - ETA: 0s"
     ]
    },
    {
     "name": "stdout",
     "output_type": "stream",
     "text": [
      "\b\b\b\b\b\b\b\b\b\b\b\b\b\b\b\b\b\b\b\b\b\b\b\b\b\b\b\b\b\b\b\b\b\b\b\b\b\b\b\b\b\b\b\b\b\b\r",
      "1/1 [==============================] - 0s 56ms/step\n"
     ]
    },
    {
     "name": "stdout",
     "output_type": "stream",
     "text": [
      "\r",
      "1/1 [==============================] - ETA: 0s"
     ]
    },
    {
     "name": "stdout",
     "output_type": "stream",
     "text": [
      "\b\b\b\b\b\b\b\b\b\b\b\b\b\b\b\b\b\b\b\b\b\b\b\b\b\b\b\b\b\b\b\b\b\b\b\b\b\b\b\b\b\b\b\b\b\b\r",
      "1/1 [==============================] - 0s 58ms/step\n"
     ]
    },
    {
     "name": "stdout",
     "output_type": "stream",
     "text": [
      "\r",
      "1/1 [==============================] - ETA: 0s"
     ]
    },
    {
     "name": "stdout",
     "output_type": "stream",
     "text": [
      "\b\b\b\b\b\b\b\b\b\b\b\b\b\b\b\b\b\b\b\b\b\b\b\b\b\b\b\b\b\b\b\b\b\b\b\b\b\b\b\b\b\b\b\b\b\b\r",
      "1/1 [==============================] - 0s 68ms/step\n"
     ]
    },
    {
     "name": "stdout",
     "output_type": "stream",
     "text": [
      "\r",
      "1/1 [==============================] - ETA: 0s"
     ]
    },
    {
     "name": "stdout",
     "output_type": "stream",
     "text": [
      "\b\b\b\b\b\b\b\b\b\b\b\b\b\b\b\b\b\b\b\b\b\b\b\b\b\b\b\b\b\b\b\b\b\b\b\b\b\b\b\b\b\b\b\b\b\b\r",
      "1/1 [==============================] - 0s 58ms/step\n"
     ]
    },
    {
     "name": "stdout",
     "output_type": "stream",
     "text": [
      "\r",
      "1/1 [==============================] - ETA: 0s"
     ]
    },
    {
     "name": "stdout",
     "output_type": "stream",
     "text": [
      "\b\b\b\b\b\b\b\b\b\b\b\b\b\b\b\b\b\b\b\b\b\b\b\b\b\b\b\b\b\b\b\b\b\b\b\b\b\b\b\b\b\b\b\b\b\b\r",
      "1/1 [==============================] - 0s 63ms/step\n"
     ]
    },
    {
     "name": "stdout",
     "output_type": "stream",
     "text": [
      "\r",
      "1/1 [==============================] - ETA: 0s"
     ]
    },
    {
     "name": "stdout",
     "output_type": "stream",
     "text": [
      "\b\b\b\b\b\b\b\b\b\b\b\b\b\b\b\b\b\b\b\b\b\b\b\b\b\b\b\b\b\b\b\b\b\b\b\b\b\b\b\b\b\b\b\b\b\b\r",
      "1/1 [==============================] - 0s 60ms/step\n"
     ]
    },
    {
     "name": "stdout",
     "output_type": "stream",
     "text": [
      "\r",
      "1/1 [==============================] - ETA: 0s"
     ]
    },
    {
     "name": "stdout",
     "output_type": "stream",
     "text": [
      "\b\b\b\b\b\b\b\b\b\b\b\b\b\b\b\b\b\b\b\b\b\b\b\b\b\b\b\b\b\b\b\b\b\b\b\b\b\b\b\b\b\b\b\b\b\b\r",
      "1/1 [==============================] - 0s 60ms/step\n"
     ]
    },
    {
     "name": "stdout",
     "output_type": "stream",
     "text": [
      "\r",
      "1/1 [==============================] - ETA: 0s"
     ]
    },
    {
     "name": "stdout",
     "output_type": "stream",
     "text": [
      "\b\b\b\b\b\b\b\b\b\b\b\b\b\b\b\b\b\b\b\b\b\b\b\b\b\b\b\b\b\b\b\b\b\b\b\b\b\b\b\b\b\b\b\b\b\b\r",
      "1/1 [==============================] - 0s 58ms/step\n"
     ]
    },
    {
     "name": "stdout",
     "output_type": "stream",
     "text": [
      "\r",
      "1/1 [==============================] - ETA: 0s"
     ]
    },
    {
     "name": "stdout",
     "output_type": "stream",
     "text": [
      "\b\b\b\b\b\b\b\b\b\b\b\b\b\b\b\b\b\b\b\b\b\b\b\b\b\b\b\b\b\b\b\b\b\b\b\b\b\b\b\b\b\b\b\b\b\b\r",
      "1/1 [==============================] - 0s 60ms/step\n"
     ]
    },
    {
     "name": "stdout",
     "output_type": "stream",
     "text": [
      "\r",
      "1/1 [==============================] - ETA: 0s"
     ]
    },
    {
     "name": "stdout",
     "output_type": "stream",
     "text": [
      "\b\b\b\b\b\b\b\b\b\b\b\b\b\b\b\b\b\b\b\b\b\b\b\b\b\b\b\b\b\b\b\b\b\b\b\b\b\b\b\b\b\b\b\b\b\b\r",
      "1/1 [==============================] - 0s 57ms/step\n"
     ]
    },
    {
     "name": "stdout",
     "output_type": "stream",
     "text": [
      "\r",
      "1/1 [==============================] - ETA: 0s"
     ]
    },
    {
     "name": "stdout",
     "output_type": "stream",
     "text": [
      "\b\b\b\b\b\b\b\b\b\b\b\b\b\b\b\b\b\b\b\b\b\b\b\b\b\b\b\b\b\b\b\b\b\b\b\b\b\b\b\b\b\b\b\b\b\b\r",
      "1/1 [==============================] - 0s 61ms/step\n"
     ]
    },
    {
     "name": "stdout",
     "output_type": "stream",
     "text": [
      "\r",
      "1/1 [==============================] - ETA: 0s"
     ]
    },
    {
     "name": "stdout",
     "output_type": "stream",
     "text": [
      "\b\b\b\b\b\b\b\b\b\b\b\b\b\b\b\b\b\b\b\b\b\b\b\b\b\b\b\b\b\b\b\b\b\b\b\b\b\b\b\b\b\b\b\b\b\b\r",
      "1/1 [==============================] - 0s 57ms/step\n"
     ]
    },
    {
     "name": "stdout",
     "output_type": "stream",
     "text": [
      "\r",
      "1/1 [==============================] - ETA: 0s"
     ]
    },
    {
     "name": "stdout",
     "output_type": "stream",
     "text": [
      "\b\b\b\b\b\b\b\b\b\b\b\b\b\b\b\b\b\b\b\b\b\b\b\b\b\b\b\b\b\b\b\b\b\b\b\b\b\b\b\b\b\b\b\b\b\b\r",
      "1/1 [==============================] - 0s 58ms/step\n"
     ]
    },
    {
     "name": "stdout",
     "output_type": "stream",
     "text": [
      "\r",
      "1/1 [==============================] - ETA: 0s"
     ]
    },
    {
     "name": "stdout",
     "output_type": "stream",
     "text": [
      "\b\b\b\b\b\b\b\b\b\b\b\b\b\b\b\b\b\b\b\b\b\b\b\b\b\b\b\b\b\b\b\b\b\b\b\b\b\b\b\b\b\b\b\b\b\b\r",
      "1/1 [==============================] - 0s 60ms/step\n"
     ]
    },
    {
     "name": "stdout",
     "output_type": "stream",
     "text": [
      "\r",
      "1/1 [==============================] - ETA: 0s"
     ]
    },
    {
     "name": "stdout",
     "output_type": "stream",
     "text": [
      "\b\b\b\b\b\b\b\b\b\b\b\b\b\b\b\b\b\b\b\b\b\b\b\b\b\b\b\b\b\b\b\b\b\b\b\b\b\b\b\b\b\b\b\b\b\b\r",
      "1/1 [==============================] - 0s 57ms/step\n"
     ]
    },
    {
     "name": "stdout",
     "output_type": "stream",
     "text": [
      "\r",
      "1/1 [==============================] - ETA: 0s"
     ]
    },
    {
     "name": "stdout",
     "output_type": "stream",
     "text": [
      "\b\b\b\b\b\b\b\b\b\b\b\b\b\b\b\b\b\b\b\b\b\b\b\b\b\b\b\b\b\b\b\b\b\b\b\b\b\b\b\b\b\b\b\b\b\b\r",
      "1/1 [==============================] - 0s 56ms/step\n"
     ]
    },
    {
     "name": "stdout",
     "output_type": "stream",
     "text": [
      "\r",
      "1/1 [==============================] - ETA: 0s"
     ]
    },
    {
     "name": "stdout",
     "output_type": "stream",
     "text": [
      "\b\b\b\b\b\b\b\b\b\b\b\b\b\b\b\b\b\b\b\b\b\b\b\b\b\b\b\b\b\b\b\b\b\b\b\b\b\b\b\b\b\b\b\b\b\b\r",
      "1/1 [==============================] - 0s 60ms/step\n"
     ]
    },
    {
     "name": "stdout",
     "output_type": "stream",
     "text": [
      "\r",
      "1/1 [==============================] - ETA: 0s"
     ]
    },
    {
     "name": "stdout",
     "output_type": "stream",
     "text": [
      "\b\b\b\b\b\b\b\b\b\b\b\b\b\b\b\b\b\b\b\b\b\b\b\b\b\b\b\b\b\b\b\b\b\b\b\b\b\b\b\b\b\b\b\b\b\b\r",
      "1/1 [==============================] - 0s 57ms/step\n"
     ]
    },
    {
     "name": "stdout",
     "output_type": "stream",
     "text": [
      "\r",
      "1/1 [==============================] - ETA: 0s"
     ]
    },
    {
     "name": "stdout",
     "output_type": "stream",
     "text": [
      "\b\b\b\b\b\b\b\b\b\b\b\b\b\b\b\b\b\b\b\b\b\b\b\b\b\b\b\b\b\b\b\b\b\b\b\b\b\b\b\b\b\b\b\b\b\b\r",
      "1/1 [==============================] - 0s 57ms/step\n"
     ]
    },
    {
     "name": "stdout",
     "output_type": "stream",
     "text": [
      "\r",
      "1/1 [==============================] - ETA: 0s"
     ]
    },
    {
     "name": "stdout",
     "output_type": "stream",
     "text": [
      "\b\b\b\b\b\b\b\b\b\b\b\b\b\b\b\b\b\b\b\b\b\b\b\b\b\b\b\b\b\b\b\b\b\b\b\b\b\b\b\b\b\b\b\b\b\b\r",
      "1/1 [==============================] - 0s 57ms/step\n"
     ]
    },
    {
     "name": "stdout",
     "output_type": "stream",
     "text": [
      "\r",
      "1/1 [==============================] - ETA: 0s"
     ]
    },
    {
     "name": "stdout",
     "output_type": "stream",
     "text": [
      "\b\b\b\b\b\b\b\b\b\b\b\b\b\b\b\b\b\b\b\b\b\b\b\b\b\b\b\b\b\b\b\b\b\b\b\b\b\b\b\b\b\b\b\b\b\b\r",
      "1/1 [==============================] - 0s 60ms/step\n"
     ]
    },
    {
     "name": "stdout",
     "output_type": "stream",
     "text": [
      "\r",
      "1/1 [==============================] - ETA: 0s"
     ]
    },
    {
     "name": "stdout",
     "output_type": "stream",
     "text": [
      "\b\b\b\b\b\b\b\b\b\b\b\b\b\b\b\b\b\b\b\b\b\b\b\b\b\b\b\b\b\b\b\b\b\b\b\b\b\b\b\b\b\b\b\b\b\b\r",
      "1/1 [==============================] - 0s 59ms/step\n"
     ]
    },
    {
     "name": "stdout",
     "output_type": "stream",
     "text": [
      "\r",
      "1/1 [==============================] - ETA: 0s"
     ]
    },
    {
     "name": "stdout",
     "output_type": "stream",
     "text": [
      "\b\b\b\b\b\b\b\b\b\b\b\b\b\b\b\b\b\b\b\b\b\b\b\b\b\b\b\b\b\b\b\b\b\b\b\b\b\b\b\b\b\b\b\b\b\b\r",
      "1/1 [==============================] - 0s 59ms/step\n"
     ]
    },
    {
     "name": "stdout",
     "output_type": "stream",
     "text": [
      "\r",
      "1/1 [==============================] - ETA: 0s"
     ]
    },
    {
     "name": "stdout",
     "output_type": "stream",
     "text": [
      "\b\b\b\b\b\b\b\b\b\b\b\b\b\b\b\b\b\b\b\b\b\b\b\b\b\b\b\b\b\b\b\b\b\b\b\b\b\b\b\b\b\b\b\b\b\b\r",
      "1/1 [==============================] - 0s 59ms/step\n"
     ]
    },
    {
     "name": "stdout",
     "output_type": "stream",
     "text": [
      "\r",
      "1/1 [==============================] - ETA: 0s"
     ]
    },
    {
     "name": "stdout",
     "output_type": "stream",
     "text": [
      "\b\b\b\b\b\b\b\b\b\b\b\b\b\b\b\b\b\b\b\b\b\b\b\b\b\b\b\b\b\b\b\b\b\b\b\b\b\b\b\b\b\b\b\b\b\b\r",
      "1/1 [==============================] - 0s 61ms/step\n"
     ]
    },
    {
     "name": "stdout",
     "output_type": "stream",
     "text": [
      "\r",
      "1/1 [==============================] - ETA: 0s"
     ]
    },
    {
     "name": "stdout",
     "output_type": "stream",
     "text": [
      "\b\b\b\b\b\b\b\b\b\b\b\b\b\b\b\b\b\b\b\b\b\b\b\b\b\b\b\b\b\b\b\b\b\b\b\b\b\b\b\b\b\b\b\b\b\b\r",
      "1/1 [==============================] - 0s 59ms/step\n"
     ]
    },
    {
     "name": "stdout",
     "output_type": "stream",
     "text": [
      "\r",
      "1/1 [==============================] - ETA: 0s"
     ]
    },
    {
     "name": "stdout",
     "output_type": "stream",
     "text": [
      "\b\b\b\b\b\b\b\b\b\b\b\b\b\b\b\b\b\b\b\b\b\b\b\b\b\b\b\b\b\b\b\b\b\b\b\b\b\b\b\b\b\b\b\b\b\b\r",
      "1/1 [==============================] - 0s 60ms/step\n"
     ]
    },
    {
     "name": "stdout",
     "output_type": "stream",
     "text": [
      "\r",
      "1/1 [==============================] - ETA: 0s"
     ]
    },
    {
     "name": "stdout",
     "output_type": "stream",
     "text": [
      "\b\b\b\b\b\b\b\b\b\b\b\b\b\b\b\b\b\b\b\b\b\b\b\b\b\b\b\b\b\b\b\b\b\b\b\b\b\b\b\b\b\b\b\b\b\b\r",
      "1/1 [==============================] - 0s 60ms/step\n"
     ]
    },
    {
     "name": "stdout",
     "output_type": "stream",
     "text": [
      "\r",
      "1/1 [==============================] - ETA: 0s"
     ]
    },
    {
     "name": "stdout",
     "output_type": "stream",
     "text": [
      "\b\b\b\b\b\b\b\b\b\b\b\b\b\b\b\b\b\b\b\b\b\b\b\b\b\b\b\b\b\b\b\b\b\b\b\b\b\b\b\b\b\b\b\b\b\b\r",
      "1/1 [==============================] - 0s 57ms/step\n"
     ]
    },
    {
     "name": "stdout",
     "output_type": "stream",
     "text": [
      "\r",
      "1/1 [==============================] - ETA: 0s"
     ]
    },
    {
     "name": "stdout",
     "output_type": "stream",
     "text": [
      "\b\b\b\b\b\b\b\b\b\b\b\b\b\b\b\b\b\b\b\b\b\b\b\b\b\b\b\b\b\b\b\b\b\b\b\b\b\b\b\b\b\b\b\b\b\b\r",
      "1/1 [==============================] - 0s 59ms/step\n"
     ]
    },
    {
     "name": "stdout",
     "output_type": "stream",
     "text": [
      "\r",
      "1/1 [==============================] - ETA: 0s"
     ]
    },
    {
     "name": "stdout",
     "output_type": "stream",
     "text": [
      "\b\b\b\b\b\b\b\b\b\b\b\b\b\b\b\b\b\b\b\b\b\b\b\b\b\b\b\b\b\b\b\b\b\b\b\b\b\b\b\b\b\b\b\b\b\b\r",
      "1/1 [==============================] - 0s 57ms/step\n"
     ]
    },
    {
     "name": "stdout",
     "output_type": "stream",
     "text": [
      "\r",
      "1/1 [==============================] - ETA: 0s"
     ]
    },
    {
     "name": "stdout",
     "output_type": "stream",
     "text": [
      "\b\b\b\b\b\b\b\b\b\b\b\b\b\b\b\b\b\b\b\b\b\b\b\b\b\b\b\b\b\b\b\b\b\b\b\b\b\b\b\b\b\b\b\b\b\b\r",
      "1/1 [==============================] - 0s 90ms/step\n"
     ]
    },
    {
     "name": "stdout",
     "output_type": "stream",
     "text": [
      "\r",
      "1/1 [==============================] - ETA: 0s"
     ]
    },
    {
     "name": "stdout",
     "output_type": "stream",
     "text": [
      "\b\b\b\b\b\b\b\b\b\b\b\b\b\b\b\b\b\b\b\b\b\b\b\b\b\b\b\b\b\b\b\b\b\b\b\b\b\b\b\b\b\b\b\b\b\b\r",
      "1/1 [==============================] - 0s 89ms/step\n"
     ]
    },
    {
     "name": "stdout",
     "output_type": "stream",
     "text": [
      "\r",
      "1/1 [==============================] - ETA: 0s"
     ]
    },
    {
     "name": "stdout",
     "output_type": "stream",
     "text": [
      "\b\b\b\b\b\b\b\b\b\b\b\b\b\b\b\b\b\b\b\b\b\b\b\b\b\b\b\b\b\b\b\b\b\b\b\b\b\b\b\b\b\b\b\b\b\b\r",
      "1/1 [==============================] - 0s 90ms/step\n"
     ]
    },
    {
     "name": "stdout",
     "output_type": "stream",
     "text": [
      "\r",
      "1/1 [==============================] - ETA: 0s"
     ]
    },
    {
     "name": "stdout",
     "output_type": "stream",
     "text": [
      "\b\b\b\b\b\b\b\b\b\b\b\b\b\b\b\b\b\b\b\b\b\b\b\b\b\b\b\b\b\b\b\b\b\b\b\b\b\b\b\b\b\b\b\b\b\b\r",
      "1/1 [==============================] - 0s 89ms/step\n"
     ]
    },
    {
     "name": "stdout",
     "output_type": "stream",
     "text": [
      "\r",
      "1/1 [==============================] - ETA: 0s"
     ]
    },
    {
     "name": "stdout",
     "output_type": "stream",
     "text": [
      "\b\b\b\b\b\b\b\b\b\b\b\b\b\b\b\b\b\b\b\b\b\b\b\b\b\b\b\b\b\b\b\b\b\b\b\b\b\b\b\b\b\b\b\b\b\b\r",
      "1/1 [==============================] - 0s 89ms/step\n"
     ]
    },
    {
     "name": "stdout",
     "output_type": "stream",
     "text": [
      "\r",
      "1/1 [==============================] - ETA: 0s"
     ]
    },
    {
     "name": "stdout",
     "output_type": "stream",
     "text": [
      "\b\b\b\b\b\b\b\b\b\b\b\b\b\b\b\b\b\b\b\b\b\b\b\b\b\b\b\b\b\b\b\b\b\b\b\b\b\b\b\b\b\b\b\b\b\b\r",
      "1/1 [==============================] - 0s 90ms/step\n"
     ]
    },
    {
     "name": "stdout",
     "output_type": "stream",
     "text": [
      "\r",
      "1/1 [==============================] - ETA: 0s"
     ]
    },
    {
     "name": "stdout",
     "output_type": "stream",
     "text": [
      "\b\b\b\b\b\b\b\b\b\b\b\b\b\b\b\b\b\b\b\b\b\b\b\b\b\b\b\b\b\b\b\b\b\b\b\b\b\b\b\b\b\b\b\b\b\b\r",
      "1/1 [==============================] - 0s 89ms/step\n"
     ]
    },
    {
     "name": "stdout",
     "output_type": "stream",
     "text": [
      "\r",
      "1/1 [==============================] - ETA: 0s"
     ]
    },
    {
     "name": "stdout",
     "output_type": "stream",
     "text": [
      "\b\b\b\b\b\b\b\b\b\b\b\b\b\b\b\b\b\b\b\b\b\b\b\b\b\b\b\b\b\b\b\b\b\b\b\b\b\b\b\b\b\b\b\b\b\b\r",
      "1/1 [==============================] - 0s 89ms/step\n"
     ]
    },
    {
     "name": "stdout",
     "output_type": "stream",
     "text": [
      "\r",
      "1/1 [==============================] - ETA: 0s"
     ]
    },
    {
     "name": "stdout",
     "output_type": "stream",
     "text": [
      "\b\b\b\b\b\b\b\b\b\b\b\b\b\b\b\b\b\b\b\b\b\b\b\b\b\b\b\b\b\b\b\b\b\b\b\b\b\b\b\b\b\b\b\b\b\b\r",
      "1/1 [==============================] - 0s 88ms/step\n"
     ]
    },
    {
     "name": "stdout",
     "output_type": "stream",
     "text": [
      "\r",
      "1/1 [==============================] - ETA: 0s"
     ]
    },
    {
     "name": "stdout",
     "output_type": "stream",
     "text": [
      "\b\b\b\b\b\b\b\b\b\b\b\b\b\b\b\b\b\b\b\b\b\b\b\b\b\b\b\b\b\b\b\b\b\b\b\b\b\b\b\b\b\b\b\b\b\b\r",
      "1/1 [==============================] - 0s 88ms/step\n"
     ]
    },
    {
     "name": "stdout",
     "output_type": "stream",
     "text": [
      "\r",
      "1/1 [==============================] - ETA: 0s"
     ]
    },
    {
     "name": "stdout",
     "output_type": "stream",
     "text": [
      "\b\b\b\b\b\b\b\b\b\b\b\b\b\b\b\b\b\b\b\b\b\b\b\b\b\b\b\b\b\b\b\b\b\b\b\b\b\b\b\b\b\b\b\b\b\b\r",
      "1/1 [==============================] - 0s 86ms/step\n"
     ]
    },
    {
     "name": "stdout",
     "output_type": "stream",
     "text": [
      "\r",
      "1/1 [==============================] - ETA: 0s"
     ]
    },
    {
     "name": "stdout",
     "output_type": "stream",
     "text": [
      "\b\b\b\b\b\b\b\b\b\b\b\b\b\b\b\b\b\b\b\b\b\b\b\b\b\b\b\b\b\b\b\b\b\b\b\b\b\b\b\b\b\b\b\b\b\b\r",
      "1/1 [==============================] - 0s 57ms/step\n"
     ]
    },
    {
     "name": "stdout",
     "output_type": "stream",
     "text": [
      "\r",
      "1/1 [==============================] - ETA: 0s"
     ]
    },
    {
     "name": "stdout",
     "output_type": "stream",
     "text": [
      "\b\b\b\b\b\b\b\b\b\b\b\b\b\b\b\b\b\b\b\b\b\b\b\b\b\b\b\b\b\b\b\b\b\b\b\b\b\b\b\b\b\b\b\b\b\b\r",
      "1/1 [==============================] - 0s 60ms/step\n"
     ]
    },
    {
     "name": "stdout",
     "output_type": "stream",
     "text": [
      "\r",
      "1/1 [==============================] - ETA: 0s"
     ]
    },
    {
     "name": "stdout",
     "output_type": "stream",
     "text": [
      "\b\b\b\b\b\b\b\b\b\b\b\b\b\b\b\b\b\b\b\b\b\b\b\b\b\b\b\b\b\b\b\b\b\b\b\b\b\b\b\b\b\b\b\b\b\b\r",
      "1/1 [==============================] - 0s 60ms/step\n"
     ]
    },
    {
     "name": "stdout",
     "output_type": "stream",
     "text": [
      "\r",
      "1/1 [==============================] - ETA: 0s"
     ]
    },
    {
     "name": "stdout",
     "output_type": "stream",
     "text": [
      "\b\b\b\b\b\b\b\b\b\b\b\b\b\b\b\b\b\b\b\b\b\b\b\b\b\b\b\b\b\b\b\b\b\b\b\b\b\b\b\b\b\b\b\b\b\b\r",
      "1/1 [==============================] - 0s 61ms/step\n"
     ]
    },
    {
     "name": "stdout",
     "output_type": "stream",
     "text": [
      "\r",
      "1/1 [==============================] - ETA: 0s"
     ]
    },
    {
     "name": "stdout",
     "output_type": "stream",
     "text": [
      "\b\b\b\b\b\b\b\b\b\b\b\b\b\b\b\b\b\b\b\b\b\b\b\b\b\b\b\b\b\b\b\b\b\b\b\b\b\b\b\b\b\b\b\b\b\b\r",
      "1/1 [==============================] - 0s 65ms/step\n"
     ]
    },
    {
     "name": "stdout",
     "output_type": "stream",
     "text": [
      "\r",
      "1/1 [==============================] - ETA: 0s"
     ]
    },
    {
     "name": "stdout",
     "output_type": "stream",
     "text": [
      "\b\b\b\b\b\b\b\b\b\b\b\b\b\b\b\b\b\b\b\b\b\b\b\b\b\b\b\b\b\b\b\b\b\b\b\b\b\b\b\b\b\b\b\b\b\b\r",
      "1/1 [==============================] - 0s 63ms/step\n"
     ]
    },
    {
     "name": "stdout",
     "output_type": "stream",
     "text": [
      "\r",
      "1/1 [==============================] - ETA: 0s"
     ]
    },
    {
     "name": "stdout",
     "output_type": "stream",
     "text": [
      "\b\b\b\b\b\b\b\b\b\b\b\b\b\b\b\b\b\b\b\b\b\b\b\b\b\b\b\b\b\b\b\b\b\b\b\b\b\b\b\b\b\b\b\b\b\b\r",
      "1/1 [==============================] - 0s 61ms/step\n"
     ]
    },
    {
     "name": "stdout",
     "output_type": "stream",
     "text": [
      "\r",
      "1/1 [==============================] - ETA: 0s"
     ]
    },
    {
     "name": "stdout",
     "output_type": "stream",
     "text": [
      "\b\b\b\b\b\b\b\b\b\b\b\b\b\b\b\b\b\b\b\b\b\b\b\b\b\b\b\b\b\b\b\b\b\b\b\b\b\b\b\b\b\b\b\b\b\b\r",
      "1/1 [==============================] - 0s 77ms/step\n"
     ]
    },
    {
     "name": "stdout",
     "output_type": "stream",
     "text": [
      "\r",
      "1/1 [==============================] - ETA: 0s"
     ]
    },
    {
     "name": "stdout",
     "output_type": "stream",
     "text": [
      "\b\b\b\b\b\b\b\b\b\b\b\b\b\b\b\b\b\b\b\b\b\b\b\b\b\b\b\b\b\b\b\b\b\b\b\b\b\b\b\b\b\b\b\b\b\b\r",
      "1/1 [==============================] - 0s 88ms/step\n"
     ]
    },
    {
     "name": "stdout",
     "output_type": "stream",
     "text": [
      "\r",
      "1/1 [==============================] - ETA: 0s"
     ]
    },
    {
     "name": "stdout",
     "output_type": "stream",
     "text": [
      "\b\b\b\b\b\b\b\b\b\b\b\b\b\b\b\b\b\b\b\b\b\b\b\b\b\b\b\b\b\b\b\b\b\b\b\b\b\b\b\b\b\b\b\b\b\b\r",
      "1/1 [==============================] - 0s 88ms/step\n"
     ]
    },
    {
     "name": "stdout",
     "output_type": "stream",
     "text": [
      "\r",
      "1/1 [==============================] - ETA: 0s"
     ]
    },
    {
     "name": "stdout",
     "output_type": "stream",
     "text": [
      "\b\b\b\b\b\b\b\b\b\b\b\b\b\b\b\b\b\b\b\b\b\b\b\b\b\b\b\b\b\b\b\b\b\b\b\b\b\b\b\b\b\b\b\b\b\b\r",
      "1/1 [==============================] - 0s 89ms/step\n"
     ]
    },
    {
     "name": "stdout",
     "output_type": "stream",
     "text": [
      "\r",
      "1/1 [==============================] - ETA: 0s"
     ]
    },
    {
     "name": "stdout",
     "output_type": "stream",
     "text": [
      "\b\b\b\b\b\b\b\b\b\b\b\b\b\b\b\b\b\b\b\b\b\b\b\b\b\b\b\b\b\b\b\b\b\b\b\b\b\b\b\b\b\b\b\b\b\b\r",
      "1/1 [==============================] - 0s 89ms/step\n"
     ]
    },
    {
     "name": "stdout",
     "output_type": "stream",
     "text": [
      "\r",
      "1/1 [==============================] - ETA: 0s"
     ]
    },
    {
     "name": "stdout",
     "output_type": "stream",
     "text": [
      "\b\b\b\b\b\b\b\b\b\b\b\b\b\b\b\b\b\b\b\b\b\b\b\b\b\b\b\b\b\b\b\b\b\b\b\b\b\b\b\b\b\b\b\b\b\b\r",
      "1/1 [==============================] - 0s 88ms/step\n"
     ]
    },
    {
     "name": "stdout",
     "output_type": "stream",
     "text": [
      "\r",
      "1/1 [==============================] - ETA: 0s"
     ]
    },
    {
     "name": "stdout",
     "output_type": "stream",
     "text": [
      "\b\b\b\b\b\b\b\b\b\b\b\b\b\b\b\b\b\b\b\b\b\b\b\b\b\b\b\b\b\b\b\b\b\b\b\b\b\b\b\b\b\b\b\b\b\b\r",
      "1/1 [==============================] - 0s 89ms/step\n"
     ]
    },
    {
     "name": "stdout",
     "output_type": "stream",
     "text": [
      "\r",
      "1/1 [==============================] - ETA: 0s"
     ]
    },
    {
     "name": "stdout",
     "output_type": "stream",
     "text": [
      "\b\b\b\b\b\b\b\b\b\b\b\b\b\b\b\b\b\b\b\b\b\b\b\b\b\b\b\b\b\b\b\b\b\b\b\b\b\b\b\b\b\b\b\b\b\b\r",
      "1/1 [==============================] - 0s 88ms/step\n"
     ]
    },
    {
     "name": "stdout",
     "output_type": "stream",
     "text": [
      "\r",
      "1/1 [==============================] - ETA: 0s"
     ]
    },
    {
     "name": "stdout",
     "output_type": "stream",
     "text": [
      "\b\b\b\b\b\b\b\b\b\b\b\b\b\b\b\b\b\b\b\b\b\b\b\b\b\b\b\b\b\b\b\b\b\b\b\b\b\b\b\b\b\b\b\b\b\b\r",
      "1/1 [==============================] - 0s 88ms/step\n"
     ]
    },
    {
     "name": "stdout",
     "output_type": "stream",
     "text": [
      "\r",
      "1/1 [==============================] - ETA: 0s"
     ]
    },
    {
     "name": "stdout",
     "output_type": "stream",
     "text": [
      "\b\b\b\b\b\b\b\b\b\b\b\b\b\b\b\b\b\b\b\b\b\b\b\b\b\b\b\b\b\b\b\b\b\b\b\b\b\b\b\b\b\b\b\b\b\b\r",
      "1/1 [==============================] - 0s 88ms/step\n"
     ]
    },
    {
     "name": "stdout",
     "output_type": "stream",
     "text": [
      "\r",
      "1/1 [==============================] - ETA: 0s"
     ]
    },
    {
     "name": "stdout",
     "output_type": "stream",
     "text": [
      "\b\b\b\b\b\b\b\b\b\b\b\b\b\b\b\b\b\b\b\b\b\b\b\b\b\b\b\b\b\b\b\b\b\b\b\b\b\b\b\b\b\b\b\b\b\b\r",
      "1/1 [==============================] - 0s 90ms/step\n"
     ]
    },
    {
     "name": "stdout",
     "output_type": "stream",
     "text": [
      "\r",
      "1/1 [==============================] - ETA: 0s"
     ]
    },
    {
     "name": "stdout",
     "output_type": "stream",
     "text": [
      "\b\b\b\b\b\b\b\b\b\b\b\b\b\b\b\b\b\b\b\b\b\b\b\b\b\b\b\b\b\b\b\b\b\b\b\b\b\b\b\b\b\b\b\b\b\b\r",
      "1/1 [==============================] - 0s 89ms/step\n"
     ]
    },
    {
     "name": "stdout",
     "output_type": "stream",
     "text": [
      "\r",
      "1/1 [==============================] - ETA: 0s"
     ]
    },
    {
     "name": "stdout",
     "output_type": "stream",
     "text": [
      "\b\b\b\b\b\b\b\b\b\b\b\b\b\b\b\b\b\b\b\b\b\b\b\b\b\b\b\b\b\b\b\b\b\b\b\b\b\b\b\b\b\b\b\b\b\b\r",
      "1/1 [==============================] - 0s 89ms/step\n"
     ]
    },
    {
     "name": "stdout",
     "output_type": "stream",
     "text": [
      "\r",
      "1/1 [==============================] - ETA: 0s"
     ]
    },
    {
     "name": "stdout",
     "output_type": "stream",
     "text": [
      "\b\b\b\b\b\b\b\b\b\b\b\b\b\b\b\b\b\b\b\b\b\b\b\b\b\b\b\b\b\b\b\b\b\b\b\b\b\b\b\b\b\b\b\b\b\b\r",
      "1/1 [==============================] - 0s 67ms/step\n"
     ]
    },
    {
     "name": "stdout",
     "output_type": "stream",
     "text": [
      "\r",
      "1/1 [==============================] - ETA: 0s"
     ]
    },
    {
     "name": "stdout",
     "output_type": "stream",
     "text": [
      "\b\b\b\b\b\b\b\b\b\b\b\b\b\b\b\b\b\b\b\b\b\b\b\b\b\b\b\b\b\b\b\b\b\b\b\b\b\b\b\b\b\b\b\b\b\b\r",
      "1/1 [==============================] - 0s 62ms/step\n"
     ]
    },
    {
     "name": "stdout",
     "output_type": "stream",
     "text": [
      "\r",
      "1/1 [==============================] - ETA: 0s"
     ]
    },
    {
     "name": "stdout",
     "output_type": "stream",
     "text": [
      "\b\b\b\b\b\b\b\b\b\b\b\b\b\b\b\b\b\b\b\b\b\b\b\b\b\b\b\b\b\b\b\b\b\b\b\b\b\b\b\b\b\b\b\b\b\b\r",
      "1/1 [==============================] - 0s 60ms/step\n"
     ]
    },
    {
     "name": "stdout",
     "output_type": "stream",
     "text": [
      "\r",
      "1/1 [==============================] - ETA: 0s"
     ]
    },
    {
     "name": "stdout",
     "output_type": "stream",
     "text": [
      "\b\b\b\b\b\b\b\b\b\b\b\b\b\b\b\b\b\b\b\b\b\b\b\b\b\b\b\b\b\b\b\b\b\b\b\b\b\b\b\b\b\b\b\b\b\b\r",
      "1/1 [==============================] - 0s 60ms/step\n"
     ]
    },
    {
     "name": "stdout",
     "output_type": "stream",
     "text": [
      "\r",
      "1/1 [==============================] - ETA: 0s"
     ]
    },
    {
     "name": "stdout",
     "output_type": "stream",
     "text": [
      "\b\b\b\b\b\b\b\b\b\b\b\b\b\b\b\b\b\b\b\b\b\b\b\b\b\b\b\b\b\b\b\b\b\b\b\b\b\b\b\b\b\b\b\b\b\b\r",
      "1/1 [==============================] - 0s 60ms/step\n"
     ]
    },
    {
     "name": "stdout",
     "output_type": "stream",
     "text": [
      "\r",
      "1/1 [==============================] - ETA: 0s"
     ]
    },
    {
     "name": "stdout",
     "output_type": "stream",
     "text": [
      "\b\b\b\b\b\b\b\b\b\b\b\b\b\b\b\b\b\b\b\b\b\b\b\b\b\b\b\b\b\b\b\b\b\b\b\b\b\b\b\b\b\b\b\b\b\b\r",
      "1/1 [==============================] - 0s 60ms/step\n"
     ]
    },
    {
     "name": "stdout",
     "output_type": "stream",
     "text": [
      "\r",
      "1/1 [==============================] - ETA: 0s"
     ]
    },
    {
     "name": "stdout",
     "output_type": "stream",
     "text": [
      "\b\b\b\b\b\b\b\b\b\b\b\b\b\b\b\b\b\b\b\b\b\b\b\b\b\b\b\b\b\b\b\b\b\b\b\b\b\b\b\b\b\b\b\b\b\b\r",
      "1/1 [==============================] - 0s 61ms/step\n"
     ]
    },
    {
     "name": "stdout",
     "output_type": "stream",
     "text": [
      "\r",
      "1/1 [==============================] - ETA: 0s"
     ]
    },
    {
     "name": "stdout",
     "output_type": "stream",
     "text": [
      "\b\b\b\b\b\b\b\b\b\b\b\b\b\b\b\b\b\b\b\b\b\b\b\b\b\b\b\b\b\b\b\b\b\b\b\b\b\b\b\b\b\b\b\b\b\b\r",
      "1/1 [==============================] - 0s 59ms/step\n"
     ]
    },
    {
     "name": "stdout",
     "output_type": "stream",
     "text": [
      "\r",
      "1/1 [==============================] - ETA: 0s"
     ]
    },
    {
     "name": "stdout",
     "output_type": "stream",
     "text": [
      "\b\b\b\b\b\b\b\b\b\b\b\b\b\b\b\b\b\b\b\b\b\b\b\b\b\b\b\b\b\b\b\b\b\b\b\b\b\b\b\b\b\b\b\b\b\b\r",
      "1/1 [==============================] - 0s 60ms/step\n"
     ]
    },
    {
     "name": "stdout",
     "output_type": "stream",
     "text": [
      "\r",
      "1/1 [==============================] - ETA: 0s"
     ]
    },
    {
     "name": "stdout",
     "output_type": "stream",
     "text": [
      "\b\b\b\b\b\b\b\b\b\b\b\b\b\b\b\b\b\b\b\b\b\b\b\b\b\b\b\b\b\b\b\b\b\b\b\b\b\b\b\b\b\b\b\b\b\b\r",
      "1/1 [==============================] - 0s 58ms/step\n"
     ]
    },
    {
     "name": "stdout",
     "output_type": "stream",
     "text": [
      "\r",
      "1/1 [==============================] - ETA: 0s"
     ]
    },
    {
     "name": "stdout",
     "output_type": "stream",
     "text": [
      "\b\b\b\b\b\b\b\b\b\b\b\b\b\b\b\b\b\b\b\b\b\b\b\b\b\b\b\b\b\b\b\b\b\b\b\b\b\b\b\b\b\b\b\b\b\b\r",
      "1/1 [==============================] - 0s 61ms/step\n"
     ]
    },
    {
     "name": "stdout",
     "output_type": "stream",
     "text": [
      "\r",
      "1/1 [==============================] - ETA: 0s"
     ]
    },
    {
     "name": "stdout",
     "output_type": "stream",
     "text": [
      "\b\b\b\b\b\b\b\b\b\b\b\b\b\b\b\b\b\b\b\b\b\b\b\b\b\b\b\b\b\b\b\b\b\b\b\b\b\b\b\b\b\b\b\b\b\b\r",
      "1/1 [==============================] - 0s 66ms/step\n"
     ]
    },
    {
     "name": "stdout",
     "output_type": "stream",
     "text": [
      "\r",
      "1/1 [==============================] - ETA: 0s"
     ]
    },
    {
     "name": "stdout",
     "output_type": "stream",
     "text": [
      "\b\b\b\b\b\b\b\b\b\b\b\b\b\b\b\b\b\b\b\b\b\b\b\b\b\b\b\b\b\b\b\b\b\b\b\b\b\b\b\b\b\b\b\b\b\b\r",
      "1/1 [==============================] - 0s 62ms/step\n"
     ]
    },
    {
     "name": "stdout",
     "output_type": "stream",
     "text": [
      "\r",
      "1/1 [==============================] - ETA: 0s"
     ]
    },
    {
     "name": "stdout",
     "output_type": "stream",
     "text": [
      "\b\b\b\b\b\b\b\b\b\b\b\b\b\b\b\b\b\b\b\b\b\b\b\b\b\b\b\b\b\b\b\b\b\b\b\b\b\b\b\b\b\b\b\b\b\b\r",
      "1/1 [==============================] - 0s 59ms/step\n"
     ]
    },
    {
     "name": "stdout",
     "output_type": "stream",
     "text": [
      "\r",
      "1/1 [==============================] - ETA: 0s"
     ]
    },
    {
     "name": "stdout",
     "output_type": "stream",
     "text": [
      "\b\b\b\b\b\b\b\b\b\b\b\b\b\b\b\b\b\b\b\b\b\b\b\b\b\b\b\b\b\b\b\b\b\b\b\b\b\b\b\b\b\b\b\b\b\b\r",
      "1/1 [==============================] - 0s 61ms/step\n"
     ]
    },
    {
     "name": "stdout",
     "output_type": "stream",
     "text": [
      "\r",
      "1/1 [==============================] - ETA: 0s"
     ]
    },
    {
     "name": "stdout",
     "output_type": "stream",
     "text": [
      "\b\b\b\b\b\b\b\b\b\b\b\b\b\b\b\b\b\b\b\b\b\b\b\b\b\b\b\b\b\b\b\b\b\b\b\b\b\b\b\b\b\b\b\b\b\b\r",
      "1/1 [==============================] - 0s 59ms/step\n"
     ]
    },
    {
     "name": "stdout",
     "output_type": "stream",
     "text": [
      "\r",
      "1/1 [==============================] - ETA: 0s"
     ]
    },
    {
     "name": "stdout",
     "output_type": "stream",
     "text": [
      "\b\b\b\b\b\b\b\b\b\b\b\b\b\b\b\b\b\b\b\b\b\b\b\b\b\b\b\b\b\b\b\b\b\b\b\b\b\b\b\b\b\b\b\b\b\b\r",
      "1/1 [==============================] - 0s 63ms/step\n"
     ]
    },
    {
     "name": "stdout",
     "output_type": "stream",
     "text": [
      "\r",
      "1/1 [==============================] - ETA: 0s"
     ]
    },
    {
     "name": "stdout",
     "output_type": "stream",
     "text": [
      "\b\b\b\b\b\b\b\b\b\b\b\b\b\b\b\b\b\b\b\b\b\b\b\b\b\b\b\b\b\b\b\b\b\b\b\b\b\b\b\b\b\b\b\b\b\b\r",
      "1/1 [==============================] - 0s 63ms/step\n"
     ]
    },
    {
     "name": "stdout",
     "output_type": "stream",
     "text": [
      "\r",
      "1/1 [==============================] - ETA: 0s"
     ]
    },
    {
     "name": "stdout",
     "output_type": "stream",
     "text": [
      "\b\b\b\b\b\b\b\b\b\b\b\b\b\b\b\b\b\b\b\b\b\b\b\b\b\b\b\b\b\b\b\b\b\b\b\b\b\b\b\b\b\b\b\b\b\b\r",
      "1/1 [==============================] - 0s 59ms/step\n"
     ]
    },
    {
     "name": "stdout",
     "output_type": "stream",
     "text": [
      "\r",
      "1/1 [==============================] - ETA: 0s"
     ]
    },
    {
     "name": "stdout",
     "output_type": "stream",
     "text": [
      "\b\b\b\b\b\b\b\b\b\b\b\b\b\b\b\b\b\b\b\b\b\b\b\b\b\b\b\b\b\b\b\b\b\b\b\b\b\b\b\b\b\b\b\b\b\b\r",
      "1/1 [==============================] - 0s 68ms/step\n"
     ]
    },
    {
     "name": "stdout",
     "output_type": "stream",
     "text": [
      "\r",
      "1/1 [==============================] - ETA: 0s"
     ]
    },
    {
     "name": "stdout",
     "output_type": "stream",
     "text": [
      "\b\b\b\b\b\b\b\b\b\b\b\b\b\b\b\b\b\b\b\b\b\b\b\b\b\b\b\b\b\b\b\b\b\b\b\b\b\b\b\b\b\b\b\b\b\b\r",
      "1/1 [==============================] - 0s 58ms/step\n"
     ]
    },
    {
     "name": "stdout",
     "output_type": "stream",
     "text": [
      "\r",
      "1/1 [==============================] - ETA: 0s"
     ]
    },
    {
     "name": "stdout",
     "output_type": "stream",
     "text": [
      "\b\b\b\b\b\b\b\b\b\b\b\b\b\b\b\b\b\b\b\b\b\b\b\b\b\b\b\b\b\b\b\b\b\b\b\b\b\b\b\b\b\b\b\b\b\b\r",
      "1/1 [==============================] - 0s 62ms/step\n"
     ]
    },
    {
     "name": "stdout",
     "output_type": "stream",
     "text": [
      "\r",
      "1/1 [==============================] - ETA: 0s"
     ]
    },
    {
     "name": "stdout",
     "output_type": "stream",
     "text": [
      "\b\b\b\b\b\b\b\b\b\b\b\b\b\b\b\b\b\b\b\b\b\b\b\b\b\b\b\b\b\b\b\b\b\b\b\b\b\b\b\b\b\b\b\b\b\b\r",
      "1/1 [==============================] - 0s 57ms/step\n"
     ]
    },
    {
     "name": "stdout",
     "output_type": "stream",
     "text": [
      "\r",
      "1/1 [==============================] - ETA: 0s"
     ]
    },
    {
     "name": "stdout",
     "output_type": "stream",
     "text": [
      "\b\b\b\b\b\b\b\b\b\b\b\b\b\b\b\b\b\b\b\b\b\b\b\b\b\b\b\b\b\b\b\b\b\b\b\b\b\b\b\b\b\b\b\b\b\b\r",
      "1/1 [==============================] - 0s 60ms/step\n"
     ]
    },
    {
     "name": "stdout",
     "output_type": "stream",
     "text": [
      "\r",
      "1/1 [==============================] - ETA: 0s"
     ]
    },
    {
     "name": "stdout",
     "output_type": "stream",
     "text": [
      "\b\b\b\b\b\b\b\b\b\b\b\b\b\b\b\b\b\b\b\b\b\b\b\b\b\b\b\b\b\b\b\b\b\b\b\b\b\b\b\b\b\b\b\b\b\b\r",
      "1/1 [==============================] - 0s 56ms/step\n"
     ]
    },
    {
     "name": "stdout",
     "output_type": "stream",
     "text": [
      "\r",
      "1/1 [==============================] - ETA: 0s"
     ]
    },
    {
     "name": "stdout",
     "output_type": "stream",
     "text": [
      "\b\b\b\b\b\b\b\b\b\b\b\b\b\b\b\b\b\b\b\b\b\b\b\b\b\b\b\b\b\b\b\b\b\b\b\b\b\b\b\b\b\b\b\b\b\b\r",
      "1/1 [==============================] - 0s 59ms/step\n"
     ]
    },
    {
     "name": "stdout",
     "output_type": "stream",
     "text": [
      "\r",
      "1/1 [==============================] - ETA: 0s"
     ]
    },
    {
     "name": "stdout",
     "output_type": "stream",
     "text": [
      "\b\b\b\b\b\b\b\b\b\b\b\b\b\b\b\b\b\b\b\b\b\b\b\b\b\b\b\b\b\b\b\b\b\b\b\b\b\b\b\b\b\b\b\b\b\b\r",
      "1/1 [==============================] - 0s 60ms/step\n"
     ]
    },
    {
     "name": "stdout",
     "output_type": "stream",
     "text": [
      "\r",
      "1/1 [==============================] - ETA: 0s"
     ]
    },
    {
     "name": "stdout",
     "output_type": "stream",
     "text": [
      "\b\b\b\b\b\b\b\b\b\b\b\b\b\b\b\b\b\b\b\b\b\b\b\b\b\b\b\b\b\b\b\b\b\b\b\b\b\b\b\b\b\b\b\b\b\b\r",
      "1/1 [==============================] - 0s 58ms/step\n"
     ]
    },
    {
     "name": "stdout",
     "output_type": "stream",
     "text": [
      "\r",
      "1/1 [==============================] - ETA: 0s"
     ]
    },
    {
     "name": "stdout",
     "output_type": "stream",
     "text": [
      "\b\b\b\b\b\b\b\b\b\b\b\b\b\b\b\b\b\b\b\b\b\b\b\b\b\b\b\b\b\b\b\b\b\b\b\b\b\b\b\b\b\b\b\b\b\b\r",
      "1/1 [==============================] - 0s 58ms/step\n"
     ]
    },
    {
     "name": "stdout",
     "output_type": "stream",
     "text": [
      "\r",
      "1/1 [==============================] - ETA: 0s"
     ]
    },
    {
     "name": "stdout",
     "output_type": "stream",
     "text": [
      "\b\b\b\b\b\b\b\b\b\b\b\b\b\b\b\b\b\b\b\b\b\b\b\b\b\b\b\b\b\b\b\b\b\b\b\b\b\b\b\b\b\b\b\b\b\b\r",
      "1/1 [==============================] - 0s 61ms/step\n"
     ]
    },
    {
     "name": "stdout",
     "output_type": "stream",
     "text": [
      "\r",
      "1/1 [==============================] - ETA: 0s"
     ]
    },
    {
     "name": "stdout",
     "output_type": "stream",
     "text": [
      "\b\b\b\b\b\b\b\b\b\b\b\b\b\b\b\b\b\b\b\b\b\b\b\b\b\b\b\b\b\b\b\b\b\b\b\b\b\b\b\b\b\b\b\b\b\b\r",
      "1/1 [==============================] - 0s 62ms/step\n"
     ]
    },
    {
     "name": "stdout",
     "output_type": "stream",
     "text": [
      "\r",
      "1/1 [==============================] - ETA: 0s"
     ]
    },
    {
     "name": "stdout",
     "output_type": "stream",
     "text": [
      "\b\b\b\b\b\b\b\b\b\b\b\b\b\b\b\b\b\b\b\b\b\b\b\b\b\b\b\b\b\b\b\b\b\b\b\b\b\b\b\b\b\b\b\b\b\b\r",
      "1/1 [==============================] - 0s 62ms/step\n"
     ]
    },
    {
     "name": "stdout",
     "output_type": "stream",
     "text": [
      "\r",
      "1/1 [==============================] - ETA: 0s"
     ]
    },
    {
     "name": "stdout",
     "output_type": "stream",
     "text": [
      "\b\b\b\b\b\b\b\b\b\b\b\b\b\b\b\b\b\b\b\b\b\b\b\b\b\b\b\b\b\b\b\b\b\b\b\b\b\b\b\b\b\b\b\b\b\b\r",
      "1/1 [==============================] - 0s 59ms/step\n"
     ]
    },
    {
     "name": "stdout",
     "output_type": "stream",
     "text": [
      "\r",
      "1/1 [==============================] - ETA: 0s"
     ]
    },
    {
     "name": "stdout",
     "output_type": "stream",
     "text": [
      "\b\b\b\b\b\b\b\b\b\b\b\b\b\b\b\b\b\b\b\b\b\b\b\b\b\b\b\b\b\b\b\b\b\b\b\b\b\b\b\b\b\b\b\b\b\b\r",
      "1/1 [==============================] - 0s 62ms/step\n"
     ]
    },
    {
     "name": "stdout",
     "output_type": "stream",
     "text": [
      "\r",
      "1/1 [==============================] - ETA: 0s"
     ]
    },
    {
     "name": "stdout",
     "output_type": "stream",
     "text": [
      "\b\b\b\b\b\b\b\b\b\b\b\b\b\b\b\b\b\b\b\b\b\b\b\b\b\b\b\b\b\b\b\b\b\b\b\b\b\b\b\b\b\b\b\b\b\b\r",
      "1/1 [==============================] - 0s 62ms/step\n"
     ]
    },
    {
     "name": "stdout",
     "output_type": "stream",
     "text": [
      "\r",
      "1/1 [==============================] - ETA: 0s"
     ]
    },
    {
     "name": "stdout",
     "output_type": "stream",
     "text": [
      "\b\b\b\b\b\b\b\b\b\b\b\b\b\b\b\b\b\b\b\b\b\b\b\b\b\b\b\b\b\b\b\b\b\b\b\b\b\b\b\b\b\b\b\b\b\b\r",
      "1/1 [==============================] - 0s 57ms/step\n"
     ]
    },
    {
     "name": "stdout",
     "output_type": "stream",
     "text": [
      "\r",
      "1/1 [==============================] - ETA: 0s"
     ]
    },
    {
     "name": "stdout",
     "output_type": "stream",
     "text": [
      "\b\b\b\b\b\b\b\b\b\b\b\b\b\b\b\b\b\b\b\b\b\b\b\b\b\b\b\b\b\b\b\b\b\b\b\b\b\b\b\b\b\b\b\b\b\b\r",
      "1/1 [==============================] - 0s 56ms/step\n"
     ]
    },
    {
     "name": "stdout",
     "output_type": "stream",
     "text": [
      "\r",
      "1/1 [==============================] - ETA: 0s"
     ]
    },
    {
     "name": "stdout",
     "output_type": "stream",
     "text": [
      "\b\b\b\b\b\b\b\b\b\b\b\b\b\b\b\b\b\b\b\b\b\b\b\b\b\b\b\b\b\b\b\b\b\b\b\b\b\b\b\b\b\b\b\b\b\b\r",
      "1/1 [==============================] - 0s 62ms/step\n"
     ]
    },
    {
     "name": "stdout",
     "output_type": "stream",
     "text": [
      "\r",
      "1/1 [==============================] - ETA: 0s"
     ]
    },
    {
     "name": "stdout",
     "output_type": "stream",
     "text": [
      "\b\b\b\b\b\b\b\b\b\b\b\b\b\b\b\b\b\b\b\b\b\b\b\b\b\b\b\b\b\b\b\b\b\b\b\b\b\b\b\b\b\b\b\b\b\b\r",
      "1/1 [==============================] - 0s 57ms/step\n"
     ]
    },
    {
     "name": "stdout",
     "output_type": "stream",
     "text": [
      "\r",
      "1/1 [==============================] - ETA: 0s"
     ]
    },
    {
     "name": "stdout",
     "output_type": "stream",
     "text": [
      "\b\b\b\b\b\b\b\b\b\b\b\b\b\b\b\b\b\b\b\b\b\b\b\b\b\b\b\b\b\b\b\b\b\b\b\b\b\b\b\b\b\b\b\b\b\b\r",
      "1/1 [==============================] - 0s 58ms/step\n"
     ]
    },
    {
     "name": "stdout",
     "output_type": "stream",
     "text": [
      "\r",
      "1/1 [==============================] - ETA: 0s"
     ]
    },
    {
     "name": "stdout",
     "output_type": "stream",
     "text": [
      "\b\b\b\b\b\b\b\b\b\b\b\b\b\b\b\b\b\b\b\b\b\b\b\b\b\b\b\b\b\b\b\b\b\b\b\b\b\b\b\b\b\b\b\b\b\b\r",
      "1/1 [==============================] - 0s 61ms/step\n"
     ]
    },
    {
     "name": "stdout",
     "output_type": "stream",
     "text": [
      "\r",
      "1/1 [==============================] - ETA: 0s"
     ]
    },
    {
     "name": "stdout",
     "output_type": "stream",
     "text": [
      "\b\b\b\b\b\b\b\b\b\b\b\b\b\b\b\b\b\b\b\b\b\b\b\b\b\b\b\b\b\b\b\b\b\b\b\b\b\b\b\b\b\b\b\b\b\b\r",
      "1/1 [==============================] - 0s 59ms/step\n"
     ]
    },
    {
     "name": "stdout",
     "output_type": "stream",
     "text": [
      "\r",
      "1/1 [==============================] - ETA: 0s"
     ]
    },
    {
     "name": "stdout",
     "output_type": "stream",
     "text": [
      "\b\b\b\b\b\b\b\b\b\b\b\b\b\b\b\b\b\b\b\b\b\b\b\b\b\b\b\b\b\b\b\b\b\b\b\b\b\b\b\b\b\b\b\b\b\b\r",
      "1/1 [==============================] - 0s 58ms/step\n"
     ]
    },
    {
     "name": "stdout",
     "output_type": "stream",
     "text": [
      "\r",
      "1/1 [==============================] - ETA: 0s"
     ]
    },
    {
     "name": "stdout",
     "output_type": "stream",
     "text": [
      "\b\b\b\b\b\b\b\b\b\b\b\b\b\b\b\b\b\b\b\b\b\b\b\b\b\b\b\b\b\b\b\b\b\b\b\b\b\b\b\b\b\b\b\b\b\b\r",
      "1/1 [==============================] - 0s 57ms/step\n"
     ]
    },
    {
     "name": "stdout",
     "output_type": "stream",
     "text": [
      "\r",
      "1/1 [==============================] - ETA: 0s"
     ]
    },
    {
     "name": "stdout",
     "output_type": "stream",
     "text": [
      "\b\b\b\b\b\b\b\b\b\b\b\b\b\b\b\b\b\b\b\b\b\b\b\b\b\b\b\b\b\b\b\b\b\b\b\b\b\b\b\b\b\b\b\b\b\b\r",
      "1/1 [==============================] - 0s 56ms/step\n"
     ]
    },
    {
     "name": "stdout",
     "output_type": "stream",
     "text": [
      "\r",
      "1/1 [==============================] - ETA: 0s"
     ]
    },
    {
     "name": "stdout",
     "output_type": "stream",
     "text": [
      "\b\b\b\b\b\b\b\b\b\b\b\b\b\b\b\b\b\b\b\b\b\b\b\b\b\b\b\b\b\b\b\b\b\b\b\b\b\b\b\b\b\b\b\b\b\b\r",
      "1/1 [==============================] - 0s 56ms/step\n"
     ]
    },
    {
     "name": "stdout",
     "output_type": "stream",
     "text": [
      "\r",
      "1/1 [==============================] - ETA: 0s"
     ]
    },
    {
     "name": "stdout",
     "output_type": "stream",
     "text": [
      "\b\b\b\b\b\b\b\b\b\b\b\b\b\b\b\b\b\b\b\b\b\b\b\b\b\b\b\b\b\b\b\b\b\b\b\b\b\b\b\b\b\b\b\b\b\b\r",
      "1/1 [==============================] - 0s 89ms/step\n"
     ]
    },
    {
     "name": "stdout",
     "output_type": "stream",
     "text": [
      "\r",
      "1/1 [==============================] - ETA: 0s"
     ]
    },
    {
     "name": "stdout",
     "output_type": "stream",
     "text": [
      "\b\b\b\b\b\b\b\b\b\b\b\b\b\b\b\b\b\b\b\b\b\b\b\b\b\b\b\b\b\b\b\b\b\b\b\b\b\b\b\b\b\b\b\b\b\b\r",
      "1/1 [==============================] - 0s 89ms/step\n"
     ]
    },
    {
     "name": "stdout",
     "output_type": "stream",
     "text": [
      "\r",
      "1/1 [==============================] - ETA: 0s"
     ]
    },
    {
     "name": "stdout",
     "output_type": "stream",
     "text": [
      "\b\b\b\b\b\b\b\b\b\b\b\b\b\b\b\b\b\b\b\b\b\b\b\b\b\b\b\b\b\b\b\b\b\b\b\b\b\b\b\b\b\b\b\b\b\b\r",
      "1/1 [==============================] - 0s 88ms/step\n"
     ]
    },
    {
     "name": "stdout",
     "output_type": "stream",
     "text": [
      "\r",
      "1/1 [==============================] - ETA: 0s"
     ]
    },
    {
     "name": "stdout",
     "output_type": "stream",
     "text": [
      "\b\b\b\b\b\b\b\b\b\b\b\b\b\b\b\b\b\b\b\b\b\b\b\b\b\b\b\b\b\b\b\b\b\b\b\b\b\b\b\b\b\b\b\b\b\b\r",
      "1/1 [==============================] - 0s 88ms/step\n"
     ]
    },
    {
     "name": "stdout",
     "output_type": "stream",
     "text": [
      "\r",
      "1/1 [==============================] - ETA: 0s"
     ]
    },
    {
     "name": "stdout",
     "output_type": "stream",
     "text": [
      "\b\b\b\b\b\b\b\b\b\b\b\b\b\b\b\b\b\b\b\b\b\b\b\b\b\b\b\b\b\b\b\b\b\b\b\b\b\b\b\b\b\b\b\b\b\b\r",
      "1/1 [==============================] - 0s 88ms/step\n"
     ]
    },
    {
     "name": "stdout",
     "output_type": "stream",
     "text": [
      "\r",
      "1/1 [==============================] - ETA: 0s"
     ]
    },
    {
     "name": "stdout",
     "output_type": "stream",
     "text": [
      "\b\b\b\b\b\b\b\b\b\b\b\b\b\b\b\b\b\b\b\b\b\b\b\b\b\b\b\b\b\b\b\b\b\b\b\b\b\b\b\b\b\b\b\b\b\b\r",
      "1/1 [==============================] - 0s 89ms/step\n"
     ]
    },
    {
     "name": "stdout",
     "output_type": "stream",
     "text": [
      "\r",
      "1/1 [==============================] - ETA: 0s"
     ]
    },
    {
     "name": "stdout",
     "output_type": "stream",
     "text": [
      "\b\b\b\b\b\b\b\b\b\b\b\b\b\b\b\b\b\b\b\b\b\b\b\b\b\b\b\b\b\b\b\b\b\b\b\b\b\b\b\b\b\b\b\b\b\b\r",
      "1/1 [==============================] - 0s 89ms/step\n"
     ]
    },
    {
     "name": "stdout",
     "output_type": "stream",
     "text": [
      "\r",
      "1/1 [==============================] - ETA: 0s"
     ]
    },
    {
     "name": "stdout",
     "output_type": "stream",
     "text": [
      "\b\b\b\b\b\b\b\b\b\b\b\b\b\b\b\b\b\b\b\b\b\b\b\b\b\b\b\b\b\b\b\b\b\b\b\b\b\b\b\b\b\b\b\b\b\b\r",
      "1/1 [==============================] - 0s 90ms/step\n"
     ]
    },
    {
     "name": "stdout",
     "output_type": "stream",
     "text": [
      "\r",
      "1/1 [==============================] - ETA: 0s"
     ]
    },
    {
     "name": "stdout",
     "output_type": "stream",
     "text": [
      "\b\b\b\b\b\b\b\b\b\b\b\b\b\b\b\b\b\b\b\b\b\b\b\b\b\b\b\b\b\b\b\b\b\b\b\b\b\b\b\b\b\b\b\b\b\b\r",
      "1/1 [==============================] - 0s 89ms/step\n"
     ]
    },
    {
     "name": "stdout",
     "output_type": "stream",
     "text": [
      "\r",
      "1/1 [==============================] - ETA: 0s"
     ]
    },
    {
     "name": "stdout",
     "output_type": "stream",
     "text": [
      "\b\b\b\b\b\b\b\b\b\b\b\b\b\b\b\b\b\b\b\b\b\b\b\b\b\b\b\b\b\b\b\b\b\b\b\b\b\b\b\b\b\b\b\b\b\b\r",
      "1/1 [==============================] - 0s 89ms/step\n"
     ]
    },
    {
     "name": "stdout",
     "output_type": "stream",
     "text": [
      "\r",
      "1/1 [==============================] - ETA: 0s"
     ]
    },
    {
     "name": "stdout",
     "output_type": "stream",
     "text": [
      "\b\b\b\b\b\b\b\b\b\b\b\b\b\b\b\b\b\b\b\b\b\b\b\b\b\b\b\b\b\b\b\b\b\b\b\b\b\b\b\b\b\b\b\b\b\b\r",
      "1/1 [==============================] - 0s 92ms/step\n"
     ]
    },
    {
     "name": "stdout",
     "output_type": "stream",
     "text": [
      "\r",
      "1/1 [==============================] - ETA: 0s"
     ]
    },
    {
     "name": "stdout",
     "output_type": "stream",
     "text": [
      "\b\b\b\b\b\b\b\b\b\b\b\b\b\b\b\b\b\b\b\b\b\b\b\b\b\b\b\b\b\b\b\b\b\b\b\b\b\b\b\b\b\b\b\b\b\b\r",
      "1/1 [==============================] - 0s 89ms/step\n"
     ]
    },
    {
     "name": "stdout",
     "output_type": "stream",
     "text": [
      "\r",
      "1/1 [==============================] - ETA: 0s"
     ]
    },
    {
     "name": "stdout",
     "output_type": "stream",
     "text": [
      "\b\b\b\b\b\b\b\b\b\b\b\b\b\b\b\b\b\b\b\b\b\b\b\b\b\b\b\b\b\b\b\b\b\b\b\b\b\b\b\b\b\b\b\b\b\b\r",
      "1/1 [==============================] - 0s 89ms/step\n"
     ]
    },
    {
     "name": "stdout",
     "output_type": "stream",
     "text": [
      "\r",
      "1/1 [==============================] - ETA: 0s"
     ]
    },
    {
     "name": "stdout",
     "output_type": "stream",
     "text": [
      "\b\b\b\b\b\b\b\b\b\b\b\b\b\b\b\b\b\b\b\b\b\b\b\b\b\b\b\b\b\b\b\b\b\b\b\b\b\b\b\b\b\b\b\b\b\b\r",
      "1/1 [==============================] - 0s 89ms/step\n"
     ]
    },
    {
     "name": "stdout",
     "output_type": "stream",
     "text": [
      "\r",
      "1/1 [==============================] - ETA: 0s"
     ]
    },
    {
     "name": "stdout",
     "output_type": "stream",
     "text": [
      "\b\b\b\b\b\b\b\b\b\b\b\b\b\b\b\b\b\b\b\b\b\b\b\b\b\b\b\b\b\b\b\b\b\b\b\b\b\b\b\b\b\b\b\b\b\b\r",
      "1/1 [==============================] - 0s 91ms/step\n"
     ]
    },
    {
     "name": "stdout",
     "output_type": "stream",
     "text": [
      "\r",
      "1/1 [==============================] - ETA: 0s"
     ]
    },
    {
     "name": "stdout",
     "output_type": "stream",
     "text": [
      "\b\b\b\b\b\b\b\b\b\b\b\b\b\b\b\b\b\b\b\b\b\b\b\b\b\b\b\b\b\b\b\b\b\b\b\b\b\b\b\b\b\b\b\b\b\b\r",
      "1/1 [==============================] - 0s 90ms/step\n"
     ]
    },
    {
     "name": "stdout",
     "output_type": "stream",
     "text": [
      "\r",
      "1/1 [==============================] - ETA: 0s"
     ]
    },
    {
     "name": "stdout",
     "output_type": "stream",
     "text": [
      "\b\b\b\b\b\b\b\b\b\b\b\b\b\b\b\b\b\b\b\b\b\b\b\b\b\b\b\b\b\b\b\b\b\b\b\b\b\b\b\b\b\b\b\b\b\b\r",
      "1/1 [==============================] - 0s 69ms/step\n"
     ]
    },
    {
     "name": "stdout",
     "output_type": "stream",
     "text": [
      "\r",
      "1/1 [==============================] - ETA: 0s"
     ]
    },
    {
     "name": "stdout",
     "output_type": "stream",
     "text": [
      "\b\b\b\b\b\b\b\b\b\b\b\b\b\b\b\b\b\b\b\b\b\b\b\b\b\b\b\b\b\b\b\b\b\b\b\b\b\b\b\b\b\b\b\b\b\b\r",
      "1/1 [==============================] - 0s 58ms/step\n"
     ]
    },
    {
     "name": "stdout",
     "output_type": "stream",
     "text": [
      "\r",
      "1/1 [==============================] - ETA: 0s"
     ]
    },
    {
     "name": "stdout",
     "output_type": "stream",
     "text": [
      "\b\b\b\b\b\b\b\b\b\b\b\b\b\b\b\b\b\b\b\b\b\b\b\b\b\b\b\b\b\b\b\b\b\b\b\b\b\b\b\b\b\b\b\b\b\b\r",
      "1/1 [==============================] - 0s 60ms/step\n"
     ]
    },
    {
     "name": "stdout",
     "output_type": "stream",
     "text": [
      "\r",
      "1/1 [==============================] - ETA: 0s"
     ]
    },
    {
     "name": "stdout",
     "output_type": "stream",
     "text": [
      "\b\b\b\b\b\b\b\b\b\b\b\b\b\b\b\b\b\b\b\b\b\b\b\b\b\b\b\b\b\b\b\b\b\b\b\b\b\b\b\b\b\b\b\b\b\b\r",
      "1/1 [==============================] - 0s 57ms/step\n"
     ]
    },
    {
     "name": "stdout",
     "output_type": "stream",
     "text": [
      "\r",
      "1/1 [==============================] - ETA: 0s"
     ]
    },
    {
     "name": "stdout",
     "output_type": "stream",
     "text": [
      "\b\b\b\b\b\b\b\b\b\b\b\b\b\b\b\b\b\b\b\b\b\b\b\b\b\b\b\b\b\b\b\b\b\b\b\b\b\b\b\b\b\b\b\b\b\b\r",
      "1/1 [==============================] - 0s 56ms/step\n"
     ]
    },
    {
     "name": "stdout",
     "output_type": "stream",
     "text": [
      "\r",
      "1/1 [==============================] - ETA: 0s"
     ]
    },
    {
     "name": "stdout",
     "output_type": "stream",
     "text": [
      "\b\b\b\b\b\b\b\b\b\b\b\b\b\b\b\b\b\b\b\b\b\b\b\b\b\b\b\b\b\b\b\b\b\b\b\b\b\b\b\b\b\b\b\b\b\b\r",
      "1/1 [==============================] - 0s 56ms/step\n"
     ]
    },
    {
     "name": "stdout",
     "output_type": "stream",
     "text": [
      "\r",
      "1/1 [==============================] - ETA: 0s"
     ]
    },
    {
     "name": "stdout",
     "output_type": "stream",
     "text": [
      "\b\b\b\b\b\b\b\b\b\b\b\b\b\b\b\b\b\b\b\b\b\b\b\b\b\b\b\b\b\b\b\b\b\b\b\b\b\b\b\b\b\b\b\b\b\b\r",
      "1/1 [==============================] - 0s 60ms/step\n"
     ]
    },
    {
     "name": "stdout",
     "output_type": "stream",
     "text": [
      "\r",
      "1/1 [==============================] - ETA: 0s"
     ]
    },
    {
     "name": "stdout",
     "output_type": "stream",
     "text": [
      "\b\b\b\b\b\b\b\b\b\b\b\b\b\b\b\b\b\b\b\b\b\b\b\b\b\b\b\b\b\b\b\b\b\b\b\b\b\b\b\b\b\b\b\b\b\b\r",
      "1/1 [==============================] - 0s 58ms/step\n"
     ]
    },
    {
     "name": "stdout",
     "output_type": "stream",
     "text": [
      "\r",
      "1/1 [==============================] - ETA: 0s"
     ]
    },
    {
     "name": "stdout",
     "output_type": "stream",
     "text": [
      "\b\b\b\b\b\b\b\b\b\b\b\b\b\b\b\b\b\b\b\b\b\b\b\b\b\b\b\b\b\b\b\b\b\b\b\b\b\b\b\b\b\b\b\b\b\b\r",
      "1/1 [==============================] - 0s 63ms/step\n"
     ]
    },
    {
     "name": "stdout",
     "output_type": "stream",
     "text": [
      "\r",
      "1/1 [==============================] - ETA: 0s"
     ]
    },
    {
     "name": "stdout",
     "output_type": "stream",
     "text": [
      "\b\b\b\b\b\b\b\b\b\b\b\b\b\b\b\b\b\b\b\b\b\b\b\b\b\b\b\b\b\b\b\b\b\b\b\b\b\b\b\b\b\b\b\b\b\b\r",
      "1/1 [==============================] - 0s 59ms/step\n"
     ]
    },
    {
     "name": "stdout",
     "output_type": "stream",
     "text": [
      "\r",
      "1/1 [==============================] - ETA: 0s"
     ]
    },
    {
     "name": "stdout",
     "output_type": "stream",
     "text": [
      "\b\b\b\b\b\b\b\b\b\b\b\b\b\b\b\b\b\b\b\b\b\b\b\b\b\b\b\b\b\b\b\b\b\b\b\b\b\b\b\b\b\b\b\b\b\b\r",
      "1/1 [==============================] - 0s 57ms/step\n"
     ]
    },
    {
     "name": "stdout",
     "output_type": "stream",
     "text": [
      "\r",
      "1/1 [==============================] - ETA: 0s"
     ]
    },
    {
     "name": "stdout",
     "output_type": "stream",
     "text": [
      "\b\b\b\b\b\b\b\b\b\b\b\b\b\b\b\b\b\b\b\b\b\b\b\b\b\b\b\b\b\b\b\b\b\b\b\b\b\b\b\b\b\b\b\b\b\b\r",
      "1/1 [==============================] - 0s 56ms/step\n"
     ]
    },
    {
     "name": "stdout",
     "output_type": "stream",
     "text": [
      "\r",
      "1/1 [==============================] - ETA: 0s"
     ]
    },
    {
     "name": "stdout",
     "output_type": "stream",
     "text": [
      "\b\b\b\b\b\b\b\b\b\b\b\b\b\b\b\b\b\b\b\b\b\b\b\b\b\b\b\b\b\b\b\b\b\b\b\b\b\b\b\b\b\b\b\b\b\b\r",
      "1/1 [==============================] - 0s 60ms/step\n"
     ]
    },
    {
     "name": "stdout",
     "output_type": "stream",
     "text": [
      "\r",
      "1/1 [==============================] - ETA: 0s"
     ]
    },
    {
     "name": "stdout",
     "output_type": "stream",
     "text": [
      "\b\b\b\b\b\b\b\b\b\b\b\b\b\b\b\b\b\b\b\b\b\b\b\b\b\b\b\b\b\b\b\b\b\b\b\b\b\b\b\b\b\b\b\b\b\b\r",
      "1/1 [==============================] - 0s 57ms/step\n"
     ]
    },
    {
     "name": "stdout",
     "output_type": "stream",
     "text": [
      "\r",
      "1/1 [==============================] - ETA: 0s"
     ]
    },
    {
     "name": "stdout",
     "output_type": "stream",
     "text": [
      "\b\b\b\b\b\b\b\b\b\b\b\b\b\b\b\b\b\b\b\b\b\b\b\b\b\b\b\b\b\b\b\b\b\b\b\b\b\b\b\b\b\b\b\b\b\b\r",
      "1/1 [==============================] - 0s 56ms/step\n"
     ]
    },
    {
     "name": "stdout",
     "output_type": "stream",
     "text": [
      "\r",
      "1/1 [==============================] - ETA: 0s"
     ]
    },
    {
     "name": "stdout",
     "output_type": "stream",
     "text": [
      "\b\b\b\b\b\b\b\b\b\b\b\b\b\b\b\b\b\b\b\b\b\b\b\b\b\b\b\b\b\b\b\b\b\b\b\b\b\b\b\b\b\b\b\b\b\b\r",
      "1/1 [==============================] - 0s 59ms/step\n"
     ]
    },
    {
     "name": "stdout",
     "output_type": "stream",
     "text": [
      "\r",
      "1/1 [==============================] - ETA: 0s"
     ]
    },
    {
     "name": "stdout",
     "output_type": "stream",
     "text": [
      "\b\b\b\b\b\b\b\b\b\b\b\b\b\b\b\b\b\b\b\b\b\b\b\b\b\b\b\b\b\b\b\b\b\b\b\b\b\b\b\b\b\b\b\b\b\b\r",
      "1/1 [==============================] - 0s 59ms/step\n"
     ]
    },
    {
     "name": "stdout",
     "output_type": "stream",
     "text": [
      "\r",
      "1/1 [==============================] - ETA: 0s"
     ]
    },
    {
     "name": "stdout",
     "output_type": "stream",
     "text": [
      "\b\b\b\b\b\b\b\b\b\b\b\b\b\b\b\b\b\b\b\b\b\b\b\b\b\b\b\b\b\b\b\b\b\b\b\b\b\b\b\b\b\b\b\b\b\b\r",
      "1/1 [==============================] - 0s 58ms/step\n"
     ]
    },
    {
     "name": "stdout",
     "output_type": "stream",
     "text": [
      "\r",
      "1/1 [==============================] - ETA: 0s"
     ]
    },
    {
     "name": "stdout",
     "output_type": "stream",
     "text": [
      "\b\b\b\b\b\b\b\b\b\b\b\b\b\b\b\b\b\b\b\b\b\b\b\b\b\b\b\b\b\b\b\b\b\b\b\b\b\b\b\b\b\b\b\b\b\b\r",
      "1/1 [==============================] - 0s 56ms/step\n"
     ]
    },
    {
     "name": "stdout",
     "output_type": "stream",
     "text": [
      "\r",
      "1/1 [==============================] - ETA: 0s"
     ]
    },
    {
     "name": "stdout",
     "output_type": "stream",
     "text": [
      "\b\b\b\b\b\b\b\b\b\b\b\b\b\b\b\b\b\b\b\b\b\b\b\b\b\b\b\b\b\b\b\b\b\b\b\b\b\b\b\b\b\b\b\b\b\b\r",
      "1/1 [==============================] - 0s 59ms/step\n"
     ]
    },
    {
     "name": "stdout",
     "output_type": "stream",
     "text": [
      "\r",
      "1/1 [==============================] - ETA: 0s"
     ]
    },
    {
     "name": "stdout",
     "output_type": "stream",
     "text": [
      "\b\b\b\b\b\b\b\b\b\b\b\b\b\b\b\b\b\b\b\b\b\b\b\b\b\b\b\b\b\b\b\b\b\b\b\b\b\b\b\b\b\b\b\b\b\b\r",
      "1/1 [==============================] - 0s 57ms/step\n"
     ]
    },
    {
     "name": "stdout",
     "output_type": "stream",
     "text": [
      "\r",
      "1/1 [==============================] - ETA: 0s"
     ]
    },
    {
     "name": "stdout",
     "output_type": "stream",
     "text": [
      "\b\b\b\b\b\b\b\b\b\b\b\b\b\b\b\b\b\b\b\b\b\b\b\b\b\b\b\b\b\b\b\b\b\b\b\b\b\b\b\b\b\b\b\b\b\b\r",
      "1/1 [==============================] - 0s 61ms/step\n"
     ]
    },
    {
     "name": "stdout",
     "output_type": "stream",
     "text": [
      "\r",
      "1/1 [==============================] - ETA: 0s"
     ]
    },
    {
     "name": "stdout",
     "output_type": "stream",
     "text": [
      "\b\b\b\b\b\b\b\b\b\b\b\b\b\b\b\b\b\b\b\b\b\b\b\b\b\b\b\b\b\b\b\b\b\b\b\b\b\b\b\b\b\b\b\b\b\b\r",
      "1/1 [==============================] - 0s 57ms/step\n"
     ]
    },
    {
     "name": "stdout",
     "output_type": "stream",
     "text": [
      "\r",
      "1/1 [==============================] - ETA: 0s"
     ]
    },
    {
     "name": "stdout",
     "output_type": "stream",
     "text": [
      "\b\b\b\b\b\b\b\b\b\b\b\b\b\b\b\b\b\b\b\b\b\b\b\b\b\b\b\b\b\b\b\b\b\b\b\b\b\b\b\b\b\b\b\b\b\b\r",
      "1/1 [==============================] - 0s 58ms/step\n"
     ]
    },
    {
     "name": "stdout",
     "output_type": "stream",
     "text": [
      "\r",
      "1/1 [==============================] - ETA: 0s"
     ]
    },
    {
     "name": "stdout",
     "output_type": "stream",
     "text": [
      "\b\b\b\b\b\b\b\b\b\b\b\b\b\b\b\b\b\b\b\b\b\b\b\b\b\b\b\b\b\b\b\b\b\b\b\b\b\b\b\b\b\b\b\b\b\b\r",
      "1/1 [==============================] - 0s 58ms/step\n"
     ]
    },
    {
     "name": "stdout",
     "output_type": "stream",
     "text": [
      "\r",
      "1/1 [==============================] - ETA: 0s"
     ]
    },
    {
     "name": "stdout",
     "output_type": "stream",
     "text": [
      "\b\b\b\b\b\b\b\b\b\b\b\b\b\b\b\b\b\b\b\b\b\b\b\b\b\b\b\b\b\b\b\b\b\b\b\b\b\b\b\b\b\b\b\b\b\b\r",
      "1/1 [==============================] - 0s 58ms/step\n"
     ]
    },
    {
     "name": "stdout",
     "output_type": "stream",
     "text": [
      "\r",
      "1/1 [==============================] - ETA: 0s"
     ]
    },
    {
     "name": "stdout",
     "output_type": "stream",
     "text": [
      "\b\b\b\b\b\b\b\b\b\b\b\b\b\b\b\b\b\b\b\b\b\b\b\b\b\b\b\b\b\b\b\b\b\b\b\b\b\b\b\b\b\b\b\b\b\b\r",
      "1/1 [==============================] - 0s 58ms/step\n"
     ]
    },
    {
     "name": "stdout",
     "output_type": "stream",
     "text": [
      "\r",
      "1/1 [==============================] - ETA: 0s"
     ]
    },
    {
     "name": "stdout",
     "output_type": "stream",
     "text": [
      "\b\b\b\b\b\b\b\b\b\b\b\b\b\b\b\b\b\b\b\b\b\b\b\b\b\b\b\b\b\b\b\b\b\b\b\b\b\b\b\b\b\b\b\b\b\b\r",
      "1/1 [==============================] - 0s 56ms/step\n"
     ]
    },
    {
     "name": "stdout",
     "output_type": "stream",
     "text": [
      "\r",
      "1/1 [==============================] - ETA: 0s"
     ]
    },
    {
     "name": "stdout",
     "output_type": "stream",
     "text": [
      "\b\b\b\b\b\b\b\b\b\b\b\b\b\b\b\b\b\b\b\b\b\b\b\b\b\b\b\b\b\b\b\b\b\b\b\b\b\b\b\b\b\b\b\b\b\b\r",
      "1/1 [==============================] - 0s 57ms/step\n"
     ]
    },
    {
     "name": "stdout",
     "output_type": "stream",
     "text": [
      "\r",
      "1/1 [==============================] - ETA: 0s"
     ]
    },
    {
     "name": "stdout",
     "output_type": "stream",
     "text": [
      "\b\b\b\b\b\b\b\b\b\b\b\b\b\b\b\b\b\b\b\b\b\b\b\b\b\b\b\b\b\b\b\b\b\b\b\b\b\b\b\b\b\b\b\b\b\b\r",
      "1/1 [==============================] - 0s 60ms/step\n"
     ]
    },
    {
     "name": "stdout",
     "output_type": "stream",
     "text": [
      "\r",
      "1/1 [==============================] - ETA: 0s"
     ]
    },
    {
     "name": "stdout",
     "output_type": "stream",
     "text": [
      "\b\b\b\b\b\b\b\b\b\b\b\b\b\b\b\b\b\b\b\b\b\b\b\b\b\b\b\b\b\b\b\b\b\b\b\b\b\b\b\b\b\b\b\b\b\b\r",
      "1/1 [==============================] - 0s 58ms/step\n"
     ]
    },
    {
     "name": "stdout",
     "output_type": "stream",
     "text": [
      "\r",
      "1/1 [==============================] - ETA: 0s"
     ]
    },
    {
     "name": "stdout",
     "output_type": "stream",
     "text": [
      "\b\b\b\b\b\b\b\b\b\b\b\b\b\b\b\b\b\b\b\b\b\b\b\b\b\b\b\b\b\b\b\b\b\b\b\b\b\b\b\b\b\b\b\b\b\b\r",
      "1/1 [==============================] - 0s 61ms/step\n"
     ]
    },
    {
     "name": "stdout",
     "output_type": "stream",
     "text": [
      "\r",
      "1/1 [==============================] - ETA: 0s"
     ]
    },
    {
     "name": "stdout",
     "output_type": "stream",
     "text": [
      "\b\b\b\b\b\b\b\b\b\b\b\b\b\b\b\b\b\b\b\b\b\b\b\b\b\b\b\b\b\b\b\b\b\b\b\b\b\b\b\b\b\b\b\b\b\b\r",
      "1/1 [==============================] - 0s 61ms/step\n"
     ]
    },
    {
     "name": "stdout",
     "output_type": "stream",
     "text": [
      "\r",
      "1/1 [==============================] - ETA: 0s"
     ]
    },
    {
     "name": "stdout",
     "output_type": "stream",
     "text": [
      "\b\b\b\b\b\b\b\b\b\b\b\b\b\b\b\b\b\b\b\b\b\b\b\b\b\b\b\b\b\b\b\b\b\b\b\b\b\b\b\b\b\b\b\b\b\b\r",
      "1/1 [==============================] - 0s 67ms/step\n"
     ]
    },
    {
     "name": "stdout",
     "output_type": "stream",
     "text": [
      "\r",
      "1/1 [==============================] - ETA: 0s"
     ]
    },
    {
     "name": "stdout",
     "output_type": "stream",
     "text": [
      "\b\b\b\b\b\b\b\b\b\b\b\b\b\b\b\b\b\b\b\b\b\b\b\b\b\b\b\b\b\b\b\b\b\b\b\b\b\b\b\b\b\b\b\b\b\b\r",
      "1/1 [==============================] - 0s 59ms/step\n"
     ]
    },
    {
     "name": "stdout",
     "output_type": "stream",
     "text": [
      "\r",
      "1/1 [==============================] - ETA: 0s"
     ]
    },
    {
     "name": "stdout",
     "output_type": "stream",
     "text": [
      "\b\b\b\b\b\b\b\b\b\b\b\b\b\b\b\b\b\b\b\b\b\b\b\b\b\b\b\b\b\b\b\b\b\b\b\b\b\b\b\b\b\b\b\b\b\b\r",
      "1/1 [==============================] - 0s 60ms/step\n"
     ]
    },
    {
     "name": "stdout",
     "output_type": "stream",
     "text": [
      "\r",
      "1/1 [==============================] - ETA: 0s"
     ]
    },
    {
     "name": "stdout",
     "output_type": "stream",
     "text": [
      "\b\b\b\b\b\b\b\b\b\b\b\b\b\b\b\b\b\b\b\b\b\b\b\b\b\b\b\b\b\b\b\b\b\b\b\b\b\b\b\b\b\b\b\b\b\b\r",
      "1/1 [==============================] - 0s 58ms/step\n"
     ]
    },
    {
     "name": "stdout",
     "output_type": "stream",
     "text": [
      "\r",
      "1/1 [==============================] - ETA: 0s"
     ]
    },
    {
     "name": "stdout",
     "output_type": "stream",
     "text": [
      "\b\b\b\b\b\b\b\b\b\b\b\b\b\b\b\b\b\b\b\b\b\b\b\b\b\b\b\b\b\b\b\b\b\b\b\b\b\b\b\b\b\b\b\b\b\b\r",
      "1/1 [==============================] - 0s 73ms/step\n"
     ]
    },
    {
     "name": "stdout",
     "output_type": "stream",
     "text": [
      "\r",
      "1/1 [==============================] - ETA: 0s"
     ]
    },
    {
     "name": "stdout",
     "output_type": "stream",
     "text": [
      "\b\b\b\b\b\b\b\b\b\b\b\b\b\b\b\b\b\b\b\b\b\b\b\b\b\b\b\b\b\b\b\b\b\b\b\b\b\b\b\b\b\b\b\b\b\b\r",
      "1/1 [==============================] - 0s 73ms/step\n"
     ]
    },
    {
     "name": "stdout",
     "output_type": "stream",
     "text": [
      "\r",
      "1/1 [==============================] - ETA: 0s"
     ]
    },
    {
     "name": "stdout",
     "output_type": "stream",
     "text": [
      "\b\b\b\b\b\b\b\b\b\b\b\b\b\b\b\b\b\b\b\b\b\b\b\b\b\b\b\b\b\b\b\b\b\b\b\b\b\b\b\b\b\b\b\b\b\b\r",
      "1/1 [==============================] - 0s 66ms/step\n"
     ]
    },
    {
     "name": "stdout",
     "output_type": "stream",
     "text": [
      "\r",
      "1/1 [==============================] - ETA: 0s"
     ]
    },
    {
     "name": "stdout",
     "output_type": "stream",
     "text": [
      "\b\b\b\b\b\b\b\b\b\b\b\b\b\b\b\b\b\b\b\b\b\b\b\b\b\b\b\b\b\b\b\b\b\b\b\b\b\b\b\b\b\b\b\b\b\b\r",
      "1/1 [==============================] - 0s 67ms/step\n"
     ]
    },
    {
     "name": "stdout",
     "output_type": "stream",
     "text": [
      "\r",
      "1/1 [==============================] - ETA: 0s"
     ]
    },
    {
     "name": "stdout",
     "output_type": "stream",
     "text": [
      "\b\b\b\b\b\b\b\b\b\b\b\b\b\b\b\b\b\b\b\b\b\b\b\b\b\b\b\b\b\b\b\b\b\b\b\b\b\b\b\b\b\b\b\b\b\b\r",
      "1/1 [==============================] - 0s 65ms/step\n"
     ]
    },
    {
     "name": "stdout",
     "output_type": "stream",
     "text": [
      "\r",
      "1/1 [==============================] - ETA: 0s"
     ]
    },
    {
     "name": "stdout",
     "output_type": "stream",
     "text": [
      "\b\b\b\b\b\b\b\b\b\b\b\b\b\b\b\b\b\b\b\b\b\b\b\b\b\b\b\b\b\b\b\b\b\b\b\b\b\b\b\b\b\b\b\b\b\b\r",
      "1/1 [==============================] - 0s 70ms/step\n"
     ]
    },
    {
     "name": "stdout",
     "output_type": "stream",
     "text": [
      "\r",
      "1/1 [==============================] - ETA: 0s"
     ]
    },
    {
     "name": "stdout",
     "output_type": "stream",
     "text": [
      "\b\b\b\b\b\b\b\b\b\b\b\b\b\b\b\b\b\b\b\b\b\b\b\b\b\b\b\b\b\b\b\b\b\b\b\b\b\b\b\b\b\b\b\b\b\b\r",
      "1/1 [==============================] - 0s 61ms/step\n"
     ]
    },
    {
     "name": "stdout",
     "output_type": "stream",
     "text": [
      "\r",
      "1/1 [==============================] - ETA: 0s"
     ]
    },
    {
     "name": "stdout",
     "output_type": "stream",
     "text": [
      "\b\b\b\b\b\b\b\b\b\b\b\b\b\b\b\b\b\b\b\b\b\b\b\b\b\b\b\b\b\b\b\b\b\b\b\b\b\b\b\b\b\b\b\b\b\b\r",
      "1/1 [==============================] - 0s 61ms/step\n"
     ]
    },
    {
     "name": "stdout",
     "output_type": "stream",
     "text": [
      "\r",
      "1/1 [==============================] - ETA: 0s"
     ]
    },
    {
     "name": "stdout",
     "output_type": "stream",
     "text": [
      "\b\b\b\b\b\b\b\b\b\b\b\b\b\b\b\b\b\b\b\b\b\b\b\b\b\b\b\b\b\b\b\b\b\b\b\b\b\b\b\b\b\b\b\b\b\b\r",
      "1/1 [==============================] - 0s 60ms/step\n"
     ]
    },
    {
     "name": "stdout",
     "output_type": "stream",
     "text": [
      "\r",
      "1/1 [==============================] - ETA: 0s"
     ]
    },
    {
     "name": "stdout",
     "output_type": "stream",
     "text": [
      "\b\b\b\b\b\b\b\b\b\b\b\b\b\b\b\b\b\b\b\b\b\b\b\b\b\b\b\b\b\b\b\b\b\b\b\b\b\b\b\b\b\b\b\b\b\b\r",
      "1/1 [==============================] - 0s 58ms/step\n"
     ]
    },
    {
     "name": "stdout",
     "output_type": "stream",
     "text": [
      "\r",
      "1/1 [==============================] - ETA: 0s"
     ]
    },
    {
     "name": "stdout",
     "output_type": "stream",
     "text": [
      "\b\b\b\b\b\b\b\b\b\b\b\b\b\b\b\b\b\b\b\b\b\b\b\b\b\b\b\b\b\b\b\b\b\b\b\b\b\b\b\b\b\b\b\b\b\b\r",
      "1/1 [==============================] - 0s 57ms/step\n"
     ]
    },
    {
     "name": "stdout",
     "output_type": "stream",
     "text": [
      "\r",
      "1/1 [==============================] - ETA: 0s"
     ]
    },
    {
     "name": "stdout",
     "output_type": "stream",
     "text": [
      "\b\b\b\b\b\b\b\b\b\b\b\b\b\b\b\b\b\b\b\b\b\b\b\b\b\b\b\b\b\b\b\b\b\b\b\b\b\b\b\b\b\b\b\b\b\b\r",
      "1/1 [==============================] - 0s 60ms/step\n"
     ]
    },
    {
     "name": "stdout",
     "output_type": "stream",
     "text": [
      "\r",
      "1/1 [==============================] - ETA: 0s"
     ]
    },
    {
     "name": "stdout",
     "output_type": "stream",
     "text": [
      "\b\b\b\b\b\b\b\b\b\b\b\b\b\b\b\b\b\b\b\b\b\b\b\b\b\b\b\b\b\b\b\b\b\b\b\b\b\b\b\b\b\b\b\b\b\b\r",
      "1/1 [==============================] - 0s 61ms/step\n"
     ]
    },
    {
     "name": "stdout",
     "output_type": "stream",
     "text": [
      "\r",
      "1/1 [==============================] - ETA: 0s"
     ]
    },
    {
     "name": "stdout",
     "output_type": "stream",
     "text": [
      "\b\b\b\b\b\b\b\b\b\b\b\b\b\b\b\b\b\b\b\b\b\b\b\b\b\b\b\b\b\b\b\b\b\b\b\b\b\b\b\b\b\b\b\b\b\b\r",
      "1/1 [==============================] - 0s 57ms/step\n"
     ]
    },
    {
     "name": "stdout",
     "output_type": "stream",
     "text": [
      "\r",
      "1/1 [==============================] - ETA: 0s"
     ]
    },
    {
     "name": "stdout",
     "output_type": "stream",
     "text": [
      "\b\b\b\b\b\b\b\b\b\b\b\b\b\b\b\b\b\b\b\b\b\b\b\b\b\b\b\b\b\b\b\b\b\b\b\b\b\b\b\b\b\b\b\b\b\b\r",
      "1/1 [==============================] - 0s 57ms/step\n"
     ]
    },
    {
     "name": "stdout",
     "output_type": "stream",
     "text": [
      "\r",
      "1/1 [==============================] - ETA: 0s"
     ]
    },
    {
     "name": "stdout",
     "output_type": "stream",
     "text": [
      "\b\b\b\b\b\b\b\b\b\b\b\b\b\b\b\b\b\b\b\b\b\b\b\b\b\b\b\b\b\b\b\b\b\b\b\b\b\b\b\b\b\b\b\b\b\b\r",
      "1/1 [==============================] - 0s 58ms/step\n"
     ]
    },
    {
     "name": "stdout",
     "output_type": "stream",
     "text": [
      "\r",
      "1/1 [==============================] - ETA: 0s"
     ]
    },
    {
     "name": "stdout",
     "output_type": "stream",
     "text": [
      "\b\b\b\b\b\b\b\b\b\b\b\b\b\b\b\b\b\b\b\b\b\b\b\b\b\b\b\b\b\b\b\b\b\b\b\b\b\b\b\b\b\b\b\b\b\b\r",
      "1/1 [==============================] - 0s 60ms/step\n"
     ]
    },
    {
     "name": "stdout",
     "output_type": "stream",
     "text": [
      "\r",
      "1/1 [==============================] - ETA: 0s"
     ]
    },
    {
     "name": "stdout",
     "output_type": "stream",
     "text": [
      "\b\b\b\b\b\b\b\b\b\b\b\b\b\b\b\b\b\b\b\b\b\b\b\b\b\b\b\b\b\b\b\b\b\b\b\b\b\b\b\b\b\b\b\b\b\b\r",
      "1/1 [==============================] - 0s 58ms/step\n"
     ]
    },
    {
     "name": "stdout",
     "output_type": "stream",
     "text": [
      "\r",
      "1/1 [==============================] - ETA: 0s"
     ]
    },
    {
     "name": "stdout",
     "output_type": "stream",
     "text": [
      "\b\b\b\b\b\b\b\b\b\b\b\b\b\b\b\b\b\b\b\b\b\b\b\b\b\b\b\b\b\b\b\b\b\b\b\b\b\b\b\b\b\b\b\b\b\b\r",
      "1/1 [==============================] - 0s 60ms/step\n"
     ]
    },
    {
     "name": "stdout",
     "output_type": "stream",
     "text": [
      "\r",
      "1/1 [==============================] - ETA: 0s"
     ]
    },
    {
     "name": "stdout",
     "output_type": "stream",
     "text": [
      "\b\b\b\b\b\b\b\b\b\b\b\b\b\b\b\b\b\b\b\b\b\b\b\b\b\b\b\b\b\b\b\b\b\b\b\b\b\b\b\b\b\b\b\b\b\b\r",
      "1/1 [==============================] - 0s 58ms/step\n"
     ]
    },
    {
     "name": "stdout",
     "output_type": "stream",
     "text": [
      "\r",
      "1/1 [==============================] - ETA: 0s"
     ]
    },
    {
     "name": "stdout",
     "output_type": "stream",
     "text": [
      "\b\b\b\b\b\b\b\b\b\b\b\b\b\b\b\b\b\b\b\b\b\b\b\b\b\b\b\b\b\b\b\b\b\b\b\b\b\b\b\b\b\b\b\b\b\b\r",
      "1/1 [==============================] - 0s 57ms/step\n"
     ]
    },
    {
     "name": "stdout",
     "output_type": "stream",
     "text": [
      "\r",
      "1/1 [==============================] - ETA: 0s"
     ]
    },
    {
     "name": "stdout",
     "output_type": "stream",
     "text": [
      "\b\b\b\b\b\b\b\b\b\b\b\b\b\b\b\b\b\b\b\b\b\b\b\b\b\b\b\b\b\b\b\b\b\b\b\b\b\b\b\b\b\b\b\b\b\b\r",
      "1/1 [==============================] - 0s 57ms/step\n"
     ]
    },
    {
     "name": "stdout",
     "output_type": "stream",
     "text": [
      "\r",
      "1/1 [==============================] - ETA: 0s"
     ]
    },
    {
     "name": "stdout",
     "output_type": "stream",
     "text": [
      "\b\b\b\b\b\b\b\b\b\b\b\b\b\b\b\b\b\b\b\b\b\b\b\b\b\b\b\b\b\b\b\b\b\b\b\b\b\b\b\b\b\b\b\b\b\b\r",
      "1/1 [==============================] - 0s 57ms/step\n"
     ]
    },
    {
     "name": "stdout",
     "output_type": "stream",
     "text": [
      "\r",
      "1/1 [==============================] - ETA: 0s"
     ]
    },
    {
     "name": "stdout",
     "output_type": "stream",
     "text": [
      "\b\b\b\b\b\b\b\b\b\b\b\b\b\b\b\b\b\b\b\b\b\b\b\b\b\b\b\b\b\b\b\b\b\b\b\b\b\b\b\b\b\b\b\b\b\b\r",
      "1/1 [==============================] - 0s 58ms/step\n"
     ]
    },
    {
     "name": "stdout",
     "output_type": "stream",
     "text": [
      "\r",
      "1/1 [==============================] - ETA: 0s"
     ]
    },
    {
     "name": "stdout",
     "output_type": "stream",
     "text": [
      "\b\b\b\b\b\b\b\b\b\b\b\b\b\b\b\b\b\b\b\b\b\b\b\b\b\b\b\b\b\b\b\b\b\b\b\b\b\b\b\b\b\b\b\b\b\b\r",
      "1/1 [==============================] - 0s 56ms/step\n"
     ]
    },
    {
     "name": "stdout",
     "output_type": "stream",
     "text": [
      "\r",
      "1/1 [==============================] - ETA: 0s"
     ]
    },
    {
     "name": "stdout",
     "output_type": "stream",
     "text": [
      "\b\b\b\b\b\b\b\b\b\b\b\b\b\b\b\b\b\b\b\b\b\b\b\b\b\b\b\b\b\b\b\b\b\b\b\b\b\b\b\b\b\b\b\b\b\b\r",
      "1/1 [==============================] - 0s 58ms/step\n"
     ]
    },
    {
     "name": "stdout",
     "output_type": "stream",
     "text": [
      "\r",
      "1/1 [==============================] - ETA: 0s"
     ]
    },
    {
     "name": "stdout",
     "output_type": "stream",
     "text": [
      "\b\b\b\b\b\b\b\b\b\b\b\b\b\b\b\b\b\b\b\b\b\b\b\b\b\b\b\b\b\b\b\b\b\b\b\b\b\b\b\b\b\b\b\b\b\b\r",
      "1/1 [==============================] - 0s 57ms/step\n"
     ]
    },
    {
     "name": "stdout",
     "output_type": "stream",
     "text": [
      "\r",
      "1/1 [==============================] - ETA: 0s"
     ]
    },
    {
     "name": "stdout",
     "output_type": "stream",
     "text": [
      "\b\b\b\b\b\b\b\b\b\b\b\b\b\b\b\b\b\b\b\b\b\b\b\b\b\b\b\b\b\b\b\b\b\b\b\b\b\b\b\b\b\b\b\b\b\b\r",
      "1/1 [==============================] - 0s 56ms/step\n"
     ]
    },
    {
     "name": "stdout",
     "output_type": "stream",
     "text": [
      "\r",
      "1/1 [==============================] - ETA: 0s"
     ]
    },
    {
     "name": "stdout",
     "output_type": "stream",
     "text": [
      "\b\b\b\b\b\b\b\b\b\b\b\b\b\b\b\b\b\b\b\b\b\b\b\b\b\b\b\b\b\b\b\b\b\b\b\b\b\b\b\b\b\b\b\b\b\b\r",
      "1/1 [==============================] - 0s 60ms/step\n"
     ]
    },
    {
     "name": "stdout",
     "output_type": "stream",
     "text": [
      "\r",
      "1/1 [==============================] - ETA: 0s"
     ]
    },
    {
     "name": "stdout",
     "output_type": "stream",
     "text": [
      "\b\b\b\b\b\b\b\b\b\b\b\b\b\b\b\b\b\b\b\b\b\b\b\b\b\b\b\b\b\b\b\b\b\b\b\b\b\b\b\b\b\b\b\b\b\b\r",
      "1/1 [==============================] - 0s 61ms/step\n"
     ]
    },
    {
     "name": "stderr",
     "output_type": "stream",
     "text": [
      "/home/jup_user/mlproject/jup-env/lib/python3.8/site-packages/sklearn/cluster/_kmeans.py:1416: FutureWarning: The default value of `n_init` will change from 10 to 'auto' in 1.4. Set the value of `n_init` explicitly to suppress the warning\n",
      "  super()._check_params_vs_input(X, default_n_init=10)\n"
     ]
    },
    {
     "name": "stderr",
     "output_type": "stream",
     "text": [
      "/home/jup_user/mlproject/jup-env/lib/python3.8/site-packages/sklearn/cluster/_kmeans.py:1416: FutureWarning: The default value of `n_init` will change from 10 to 'auto' in 1.4. Set the value of `n_init` explicitly to suppress the warning\n",
      "  super()._check_params_vs_input(X, default_n_init=10)\n"
     ]
    },
    {
     "name": "stderr",
     "output_type": "stream",
     "text": [
      "/home/jup_user/mlproject/jup-env/lib/python3.8/site-packages/sklearn/cluster/_kmeans.py:1416: FutureWarning: The default value of `n_init` will change from 10 to 'auto' in 1.4. Set the value of `n_init` explicitly to suppress the warning\n",
      "  super()._check_params_vs_input(X, default_n_init=10)\n",
      "/home/jup_user/mlproject/jup-env/lib/python3.8/site-packages/sklearn/cluster/_kmeans.py:1416: FutureWarning: The default value of `n_init` will change from 10 to 'auto' in 1.4. Set the value of `n_init` explicitly to suppress the warning\n",
      "  super()._check_params_vs_input(X, default_n_init=10)\n"
     ]
    },
    {
     "name": "stderr",
     "output_type": "stream",
     "text": [
      "/home/jup_user/mlproject/jup-env/lib/python3.8/site-packages/sklearn/cluster/_kmeans.py:1416: FutureWarning: The default value of `n_init` will change from 10 to 'auto' in 1.4. Set the value of `n_init` explicitly to suppress the warning\n",
      "  super()._check_params_vs_input(X, default_n_init=10)\n",
      "/home/jup_user/mlproject/jup-env/lib/python3.8/site-packages/sklearn/cluster/_kmeans.py:1416: FutureWarning: The default value of `n_init` will change from 10 to 'auto' in 1.4. Set the value of `n_init` explicitly to suppress the warning\n",
      "  super()._check_params_vs_input(X, default_n_init=10)\n"
     ]
    },
    {
     "name": "stderr",
     "output_type": "stream",
     "text": [
      "/home/jup_user/mlproject/jup-env/lib/python3.8/site-packages/sklearn/cluster/_kmeans.py:1416: FutureWarning: The default value of `n_init` will change from 10 to 'auto' in 1.4. Set the value of `n_init` explicitly to suppress the warning\n",
      "  super()._check_params_vs_input(X, default_n_init=10)\n",
      "/home/jup_user/mlproject/jup-env/lib/python3.8/site-packages/sklearn/cluster/_kmeans.py:1416: FutureWarning: The default value of `n_init` will change from 10 to 'auto' in 1.4. Set the value of `n_init` explicitly to suppress the warning\n",
      "  super()._check_params_vs_input(X, default_n_init=10)\n"
     ]
    },
    {
     "name": "stderr",
     "output_type": "stream",
     "text": [
      "/home/jup_user/mlproject/jup-env/lib/python3.8/site-packages/sklearn/cluster/_kmeans.py:1416: FutureWarning: The default value of `n_init` will change from 10 to 'auto' in 1.4. Set the value of `n_init` explicitly to suppress the warning\n",
      "  super()._check_params_vs_input(X, default_n_init=10)\n"
     ]
    },
    {
     "name": "stderr",
     "output_type": "stream",
     "text": [
      "/home/jup_user/mlproject/jup-env/lib/python3.8/site-packages/sklearn/cluster/_kmeans.py:1416: FutureWarning: The default value of `n_init` will change from 10 to 'auto' in 1.4. Set the value of `n_init` explicitly to suppress the warning\n",
      "  super()._check_params_vs_input(X, default_n_init=10)\n",
      "/home/jup_user/mlproject/jup-env/lib/python3.8/site-packages/sklearn/cluster/_kmeans.py:1416: FutureWarning: The default value of `n_init` will change from 10 to 'auto' in 1.4. Set the value of `n_init` explicitly to suppress the warning\n",
      "  super()._check_params_vs_input(X, default_n_init=10)\n"
     ]
    },
    {
     "name": "stderr",
     "output_type": "stream",
     "text": [
      "/home/jup_user/mlproject/jup-env/lib/python3.8/site-packages/sklearn/cluster/_kmeans.py:1416: FutureWarning: The default value of `n_init` will change from 10 to 'auto' in 1.4. Set the value of `n_init` explicitly to suppress the warning\n",
      "  super()._check_params_vs_input(X, default_n_init=10)\n"
     ]
    },
    {
     "name": "stderr",
     "output_type": "stream",
     "text": [
      "/home/jup_user/mlproject/jup-env/lib/python3.8/site-packages/sklearn/cluster/_kmeans.py:1416: FutureWarning: The default value of `n_init` will change from 10 to 'auto' in 1.4. Set the value of `n_init` explicitly to suppress the warning\n",
      "  super()._check_params_vs_input(X, default_n_init=10)\n"
     ]
    },
    {
     "name": "stderr",
     "output_type": "stream",
     "text": [
      "/home/jup_user/mlproject/jup-env/lib/python3.8/site-packages/sklearn/cluster/_kmeans.py:1416: FutureWarning: The default value of `n_init` will change from 10 to 'auto' in 1.4. Set the value of `n_init` explicitly to suppress the warning\n",
      "  super()._check_params_vs_input(X, default_n_init=10)\n"
     ]
    },
    {
     "name": "stderr",
     "output_type": "stream",
     "text": [
      "/home/jup_user/mlproject/jup-env/lib/python3.8/site-packages/sklearn/cluster/_kmeans.py:1416: FutureWarning: The default value of `n_init` will change from 10 to 'auto' in 1.4. Set the value of `n_init` explicitly to suppress the warning\n",
      "  super()._check_params_vs_input(X, default_n_init=10)\n"
     ]
    },
    {
     "name": "stderr",
     "output_type": "stream",
     "text": [
      "/home/jup_user/mlproject/jup-env/lib/python3.8/site-packages/sklearn/cluster/_kmeans.py:1416: FutureWarning: The default value of `n_init` will change from 10 to 'auto' in 1.4. Set the value of `n_init` explicitly to suppress the warning\n",
      "  super()._check_params_vs_input(X, default_n_init=10)\n"
     ]
    },
    {
     "name": "stderr",
     "output_type": "stream",
     "text": [
      "/home/jup_user/mlproject/jup-env/lib/python3.8/site-packages/sklearn/cluster/_kmeans.py:1416: FutureWarning: The default value of `n_init` will change from 10 to 'auto' in 1.4. Set the value of `n_init` explicitly to suppress the warning\n",
      "  super()._check_params_vs_input(X, default_n_init=10)\n"
     ]
    },
    {
     "name": "stderr",
     "output_type": "stream",
     "text": [
      "/home/jup_user/mlproject/jup-env/lib/python3.8/site-packages/sklearn/cluster/_kmeans.py:1416: FutureWarning: The default value of `n_init` will change from 10 to 'auto' in 1.4. Set the value of `n_init` explicitly to suppress the warning\n",
      "  super()._check_params_vs_input(X, default_n_init=10)\n"
     ]
    },
    {
     "name": "stderr",
     "output_type": "stream",
     "text": [
      "/home/jup_user/mlproject/jup-env/lib/python3.8/site-packages/sklearn/cluster/_kmeans.py:1416: FutureWarning: The default value of `n_init` will change from 10 to 'auto' in 1.4. Set the value of `n_init` explicitly to suppress the warning\n",
      "  super()._check_params_vs_input(X, default_n_init=10)\n"
     ]
    },
    {
     "name": "stderr",
     "output_type": "stream",
     "text": [
      "/home/jup_user/mlproject/jup-env/lib/python3.8/site-packages/sklearn/cluster/_kmeans.py:1416: FutureWarning: The default value of `n_init` will change from 10 to 'auto' in 1.4. Set the value of `n_init` explicitly to suppress the warning\n",
      "  super()._check_params_vs_input(X, default_n_init=10)\n"
     ]
    },
    {
     "name": "stderr",
     "output_type": "stream",
     "text": [
      "/home/jup_user/mlproject/jup-env/lib/python3.8/site-packages/sklearn/cluster/_kmeans.py:1416: FutureWarning: The default value of `n_init` will change from 10 to 'auto' in 1.4. Set the value of `n_init` explicitly to suppress the warning\n",
      "  super()._check_params_vs_input(X, default_n_init=10)\n"
     ]
    },
    {
     "name": "stderr",
     "output_type": "stream",
     "text": [
      "/home/jup_user/mlproject/jup-env/lib/python3.8/site-packages/sklearn/cluster/_kmeans.py:1416: FutureWarning: The default value of `n_init` will change from 10 to 'auto' in 1.4. Set the value of `n_init` explicitly to suppress the warning\n",
      "  super()._check_params_vs_input(X, default_n_init=10)\n"
     ]
    },
    {
     "name": "stderr",
     "output_type": "stream",
     "text": [
      "/home/jup_user/mlproject/jup-env/lib/python3.8/site-packages/sklearn/cluster/_kmeans.py:1416: FutureWarning: The default value of `n_init` will change from 10 to 'auto' in 1.4. Set the value of `n_init` explicitly to suppress the warning\n",
      "  super()._check_params_vs_input(X, default_n_init=10)\n"
     ]
    },
    {
     "name": "stderr",
     "output_type": "stream",
     "text": [
      "/home/jup_user/mlproject/jup-env/lib/python3.8/site-packages/sklearn/cluster/_kmeans.py:1416: FutureWarning: The default value of `n_init` will change from 10 to 'auto' in 1.4. Set the value of `n_init` explicitly to suppress the warning\n",
      "  super()._check_params_vs_input(X, default_n_init=10)\n"
     ]
    },
    {
     "name": "stderr",
     "output_type": "stream",
     "text": [
      "/home/jup_user/mlproject/jup-env/lib/python3.8/site-packages/sklearn/cluster/_kmeans.py:1416: FutureWarning: The default value of `n_init` will change from 10 to 'auto' in 1.4. Set the value of `n_init` explicitly to suppress the warning\n",
      "  super()._check_params_vs_input(X, default_n_init=10)\n"
     ]
    },
    {
     "name": "stderr",
     "output_type": "stream",
     "text": [
      "/home/jup_user/mlproject/jup-env/lib/python3.8/site-packages/sklearn/cluster/_kmeans.py:1416: FutureWarning: The default value of `n_init` will change from 10 to 'auto' in 1.4. Set the value of `n_init` explicitly to suppress the warning\n",
      "  super()._check_params_vs_input(X, default_n_init=10)\n"
     ]
    },
    {
     "name": "stderr",
     "output_type": "stream",
     "text": [
      "/home/jup_user/mlproject/jup-env/lib/python3.8/site-packages/sklearn/cluster/_kmeans.py:1416: FutureWarning: The default value of `n_init` will change from 10 to 'auto' in 1.4. Set the value of `n_init` explicitly to suppress the warning\n",
      "  super()._check_params_vs_input(X, default_n_init=10)\n"
     ]
    },
    {
     "name": "stderr",
     "output_type": "stream",
     "text": [
      "/home/jup_user/mlproject/jup-env/lib/python3.8/site-packages/sklearn/cluster/_kmeans.py:1416: FutureWarning: The default value of `n_init` will change from 10 to 'auto' in 1.4. Set the value of `n_init` explicitly to suppress the warning\n",
      "  super()._check_params_vs_input(X, default_n_init=10)\n"
     ]
    },
    {
     "name": "stderr",
     "output_type": "stream",
     "text": [
      "/home/jup_user/mlproject/jup-env/lib/python3.8/site-packages/sklearn/cluster/_kmeans.py:1416: FutureWarning: The default value of `n_init` will change from 10 to 'auto' in 1.4. Set the value of `n_init` explicitly to suppress the warning\n",
      "  super()._check_params_vs_input(X, default_n_init=10)\n"
     ]
    },
    {
     "name": "stderr",
     "output_type": "stream",
     "text": [
      "/home/jup_user/mlproject/jup-env/lib/python3.8/site-packages/sklearn/cluster/_kmeans.py:1416: FutureWarning: The default value of `n_init` will change from 10 to 'auto' in 1.4. Set the value of `n_init` explicitly to suppress the warning\n",
      "  super()._check_params_vs_input(X, default_n_init=10)\n"
     ]
    },
    {
     "name": "stderr",
     "output_type": "stream",
     "text": [
      "/home/jup_user/mlproject/jup-env/lib/python3.8/site-packages/sklearn/cluster/_kmeans.py:1416: FutureWarning: The default value of `n_init` will change from 10 to 'auto' in 1.4. Set the value of `n_init` explicitly to suppress the warning\n",
      "  super()._check_params_vs_input(X, default_n_init=10)\n"
     ]
    },
    {
     "name": "stderr",
     "output_type": "stream",
     "text": [
      "/home/jup_user/mlproject/jup-env/lib/python3.8/site-packages/sklearn/cluster/_kmeans.py:1416: FutureWarning: The default value of `n_init` will change from 10 to 'auto' in 1.4. Set the value of `n_init` explicitly to suppress the warning\n",
      "  super()._check_params_vs_input(X, default_n_init=10)\n"
     ]
    },
    {
     "name": "stderr",
     "output_type": "stream",
     "text": [
      "/home/jup_user/mlproject/jup-env/lib/python3.8/site-packages/sklearn/cluster/_kmeans.py:1416: FutureWarning: The default value of `n_init` will change from 10 to 'auto' in 1.4. Set the value of `n_init` explicitly to suppress the warning\n",
      "  super()._check_params_vs_input(X, default_n_init=10)\n"
     ]
    },
    {
     "name": "stderr",
     "output_type": "stream",
     "text": [
      "/home/jup_user/mlproject/jup-env/lib/python3.8/site-packages/sklearn/cluster/_kmeans.py:1416: FutureWarning: The default value of `n_init` will change from 10 to 'auto' in 1.4. Set the value of `n_init` explicitly to suppress the warning\n",
      "  super()._check_params_vs_input(X, default_n_init=10)\n"
     ]
    },
    {
     "name": "stderr",
     "output_type": "stream",
     "text": [
      "/home/jup_user/mlproject/jup-env/lib/python3.8/site-packages/sklearn/cluster/_kmeans.py:1416: FutureWarning: The default value of `n_init` will change from 10 to 'auto' in 1.4. Set the value of `n_init` explicitly to suppress the warning\n",
      "  super()._check_params_vs_input(X, default_n_init=10)\n"
     ]
    },
    {
     "name": "stderr",
     "output_type": "stream",
     "text": [
      "/home/jup_user/mlproject/jup-env/lib/python3.8/site-packages/sklearn/cluster/_kmeans.py:1416: FutureWarning: The default value of `n_init` will change from 10 to 'auto' in 1.4. Set the value of `n_init` explicitly to suppress the warning\n",
      "  super()._check_params_vs_input(X, default_n_init=10)\n"
     ]
    },
    {
     "name": "stderr",
     "output_type": "stream",
     "text": [
      "/home/jup_user/mlproject/jup-env/lib/python3.8/site-packages/sklearn/cluster/_kmeans.py:1416: FutureWarning: The default value of `n_init` will change from 10 to 'auto' in 1.4. Set the value of `n_init` explicitly to suppress the warning\n",
      "  super()._check_params_vs_input(X, default_n_init=10)\n"
     ]
    },
    {
     "name": "stderr",
     "output_type": "stream",
     "text": [
      "/home/jup_user/mlproject/jup-env/lib/python3.8/site-packages/sklearn/cluster/_kmeans.py:1416: FutureWarning: The default value of `n_init` will change from 10 to 'auto' in 1.4. Set the value of `n_init` explicitly to suppress the warning\n",
      "  super()._check_params_vs_input(X, default_n_init=10)\n"
     ]
    },
    {
     "name": "stderr",
     "output_type": "stream",
     "text": [
      "/home/jup_user/mlproject/jup-env/lib/python3.8/site-packages/sklearn/cluster/_kmeans.py:1416: FutureWarning: The default value of `n_init` will change from 10 to 'auto' in 1.4. Set the value of `n_init` explicitly to suppress the warning\n",
      "  super()._check_params_vs_input(X, default_n_init=10)\n"
     ]
    },
    {
     "name": "stderr",
     "output_type": "stream",
     "text": [
      "/home/jup_user/mlproject/jup-env/lib/python3.8/site-packages/sklearn/cluster/_kmeans.py:1416: FutureWarning: The default value of `n_init` will change from 10 to 'auto' in 1.4. Set the value of `n_init` explicitly to suppress the warning\n",
      "  super()._check_params_vs_input(X, default_n_init=10)\n"
     ]
    },
    {
     "name": "stderr",
     "output_type": "stream",
     "text": [
      "/home/jup_user/mlproject/jup-env/lib/python3.8/site-packages/sklearn/cluster/_kmeans.py:1416: FutureWarning: The default value of `n_init` will change from 10 to 'auto' in 1.4. Set the value of `n_init` explicitly to suppress the warning\n",
      "  super()._check_params_vs_input(X, default_n_init=10)\n"
     ]
    },
    {
     "name": "stderr",
     "output_type": "stream",
     "text": [
      "/home/jup_user/mlproject/jup-env/lib/python3.8/site-packages/sklearn/cluster/_kmeans.py:1416: FutureWarning: The default value of `n_init` will change from 10 to 'auto' in 1.4. Set the value of `n_init` explicitly to suppress the warning\n",
      "  super()._check_params_vs_input(X, default_n_init=10)\n"
     ]
    },
    {
     "name": "stderr",
     "output_type": "stream",
     "text": [
      "/home/jup_user/mlproject/jup-env/lib/python3.8/site-packages/sklearn/cluster/_kmeans.py:1416: FutureWarning: The default value of `n_init` will change from 10 to 'auto' in 1.4. Set the value of `n_init` explicitly to suppress the warning\n",
      "  super()._check_params_vs_input(X, default_n_init=10)\n"
     ]
    },
    {
     "name": "stderr",
     "output_type": "stream",
     "text": [
      "/home/jup_user/mlproject/jup-env/lib/python3.8/site-packages/sklearn/cluster/_kmeans.py:1416: FutureWarning: The default value of `n_init` will change from 10 to 'auto' in 1.4. Set the value of `n_init` explicitly to suppress the warning\n",
      "  super()._check_params_vs_input(X, default_n_init=10)\n"
     ]
    },
    {
     "name": "stderr",
     "output_type": "stream",
     "text": [
      "/home/jup_user/mlproject/jup-env/lib/python3.8/site-packages/sklearn/cluster/_kmeans.py:1416: FutureWarning: The default value of `n_init` will change from 10 to 'auto' in 1.4. Set the value of `n_init` explicitly to suppress the warning\n",
      "  super()._check_params_vs_input(X, default_n_init=10)\n"
     ]
    },
    {
     "name": "stderr",
     "output_type": "stream",
     "text": [
      "/home/jup_user/mlproject/jup-env/lib/python3.8/site-packages/sklearn/cluster/_kmeans.py:1416: FutureWarning: The default value of `n_init` will change from 10 to 'auto' in 1.4. Set the value of `n_init` explicitly to suppress the warning\n",
      "  super()._check_params_vs_input(X, default_n_init=10)\n"
     ]
    },
    {
     "name": "stderr",
     "output_type": "stream",
     "text": [
      "/home/jup_user/mlproject/jup-env/lib/python3.8/site-packages/sklearn/cluster/_kmeans.py:1416: FutureWarning: The default value of `n_init` will change from 10 to 'auto' in 1.4. Set the value of `n_init` explicitly to suppress the warning\n",
      "  super()._check_params_vs_input(X, default_n_init=10)\n"
     ]
    },
    {
     "name": "stderr",
     "output_type": "stream",
     "text": [
      "/home/jup_user/mlproject/jup-env/lib/python3.8/site-packages/sklearn/cluster/_kmeans.py:1416: FutureWarning: The default value of `n_init` will change from 10 to 'auto' in 1.4. Set the value of `n_init` explicitly to suppress the warning\n",
      "  super()._check_params_vs_input(X, default_n_init=10)\n"
     ]
    }
   ],
   "source": [
    "path = folder_path\n",
    "# change the working directory to the path where the images are located\n",
    "os.chdir(path)\n",
    "\n",
    "# this list holds all the image filename\n",
    "flowers = []\n",
    "\n",
    "# creates a ScandirIterator aliased as files\n",
    "with os.scandir(path) as files:\n",
    "  # loops through each file in the directory\n",
    "    for file in files:\n",
    "        if file.name.endswith('.jpg'):\n",
    "          # adds only the image files to the flowers list\n",
    "            flowers.append(file.name)\n",
    "        if file.name.endswith('.png'):\n",
    "            # adds only the image files to the flowers list\n",
    "            flowers.append(file.name)\n",
    "            \n",
    "model = VGG16()\n",
    "model = Model(inputs = model.inputs, outputs = model.layers[-2].output)\n",
    "   \n",
    "data = {}\n",
    "p = \"/home/jup_user/multipool/ai-case-study/img\"\n",
    "\n",
    "# lop through each image in the dataset\n",
    "for flower in flowers:\n",
    "    # try to extract the features and update the dictionary\n",
    "    try:\n",
    "        feat = extract_features(flower,model)\n",
    "        data[flower] = feat\n",
    "    # if something fails, save the extracted features as a pickle file (optional)\n",
    "    except:\n",
    "        with open(p,'wb') as file:\n",
    "            pickle.dump(data,file)\n",
    "          \n",
    "# get a list of the filenames\n",
    "filenames = np.array(list(data.keys()))\n",
    "\n",
    "# get a list of just the features\n",
    "feat = np.array(list(data.values()))\n",
    "\n",
    "# reshape so that there are 210 samples of 4096 vectors\n",
    "feat = feat.reshape(-1,4096)\n",
    "\n",
    "# get the unique labels (from the flower_labels.csv)\n",
    "df = pd.read_csv('/home/jup_user/multipool/ai-case-study/flower_labels.csv')\n",
    "label = df['label'].tolist()\n",
    "unique_labels = list(set(label))\n",
    "\n",
    "# reduce the amount of dimensions in the feature vector\n",
    "pca = PCA(n_components=100, random_state=22)\n",
    "pca.fit(feat)\n",
    "x = pca.transform(feat)\n",
    "\n",
    "# cluster feature vectors\n",
    "kmeans = KMeans(n_clusters=len(unique_labels), random_state=22)\n",
    "kmeans.fit(x)\n",
    "\n",
    "# holds the cluster id and the images { id: [images] }\n",
    "groups = {}\n",
    "for file, cluster in zip(filenames,kmeans.labels_):\n",
    "    if cluster not in groups.keys():\n",
    "        groups[cluster] = []\n",
    "        groups[cluster].append(file)\n",
    "    else:\n",
    "        groups[cluster].append(file)\n",
    "\n",
    "# this is just incase you want to see which value for k might be the best \n",
    "sse = []\n",
    "list_k = list(range(3, 50))\n",
    "\n",
    "for k in list_k:\n",
    "    km = KMeans(n_clusters=k, random_state=22)\n",
    "    km.fit(x)\n",
    "    \n",
    "    sse.append(km.inertia_)\n",
    "\n",
    "# function to calculate clusters\n",
    "def cluster(filePaths, features, threshold=0.9):\n",
    "    features = features.reshape(-1,4096)\n",
    "    simMatrix = cosine_similarity(features)\n",
    "    clusters = {}\n",
    "    for i in range(len(features)):\n",
    "        dupIdx = list(np.where(simMatrix[i] > threshold)[0])\n",
    "        # The similarity matrix will include comparisons of items with themselves, which will always \n",
    "        # result in a similarity of 1.0 (100%) and is redundant, so we ignore those\n",
    "        if len(dupIdx) > 1:\n",
    "            curCluster, clusterMatch = list(dupIdx), None\n",
    "            # The first time an image is found to be in any given cluster, we log the entire cluster, \n",
    "            # so subsequent checks of other images from the same cluster would result in duplicated clusters.\n",
    "            # Check for that here\n",
    "            for cIdx in clusters:\n",
    "                if curCluster[0] in clusters[cIdx]:\n",
    "                    clusterMatch = cIdx\n",
    "                    break\n",
    "            # If the current cluster didn't match any existing ones, create/log it\n",
    "            if clusterMatch == None: clusters[len(clusters)] = curCluster\n",
    "    # Resolve file indices back to file paths\n",
    "    for cIdx in clusters: clusters[cIdx] = [filePaths[x] for x in clusters[cIdx]]\n",
    "    return clusters\n",
    "\n",
    "# another method of clustering based on CSI\n",
    "clus_new = cluster(filenames, feat, threshold=0.6)"
   ]
  },
  {
   "cell_type": "code",
   "execution_count": 7,
   "id": "d431c067-bb02-4785-9f0a-511ceacbb4cc",
   "metadata": {
    "execution": {
     "iopub.execute_input": "2024-03-11T09:09:53.752879Z",
     "iopub.status.busy": "2024-03-11T09:09:53.752569Z",
     "iopub.status.idle": "2024-03-11T09:09:53.756900Z",
     "shell.execute_reply": "2024-03-11T09:09:53.756385Z"
    }
   },
   "outputs": [],
   "source": [
    "# prepare data for saving to rdbms\n",
    "save_df = result_df"
   ]
  },
  {
   "cell_type": "code",
   "execution_count": 8,
   "id": "19662fd0-5dd8-466f-a505-a81568f2a000",
   "metadata": {
    "execution": {
     "iopub.execute_input": "2024-03-11T09:09:53.759469Z",
     "iopub.status.busy": "2024-03-11T09:09:53.759144Z",
     "iopub.status.idle": "2024-03-11T09:09:53.762901Z",
     "shell.execute_reply": "2024-03-11T09:09:53.762025Z"
    }
   },
   "outputs": [],
   "source": [
    "# save_df[[\"file_folder\",\"filename_actual\"]] = save_df['filename'].str.split('/',n=1, expand=True)\n",
    "save_df['cluster_number'] = 0"
   ]
  },
  {
   "cell_type": "code",
   "execution_count": 9,
   "id": "e81fc242-b9f9-4d7e-a4e2-7e4605826aaf",
   "metadata": {
    "collapsed": true,
    "execution": {
     "iopub.execute_input": "2024-03-11T09:09:53.765433Z",
     "iopub.status.busy": "2024-03-11T09:09:53.765126Z",
     "iopub.status.idle": "2024-03-11T09:09:53.920298Z",
     "shell.execute_reply": "2024-03-11T09:09:53.919504Z"
    },
    "jupyter": {
     "outputs_hidden": true
    }
   },
   "outputs": [
    {
     "name": "stdout",
     "output_type": "stream",
     "text": [
      "GD_DednaoAAZf3A.jpg\n",
      "GD_FXVUa8AA56kx.jpg\n",
      "GD_CyU1agAAIziy.jpg\n",
      "GD_IjhCa8AA9wlu.jpg\n",
      "GD_GCiAboAAg6wu.jpg\n",
      "GD_Gm-hbQAAxVyC.jpg\n",
      "GD_F_Czb0AAptz3.jpg\n",
      "GD_GBM5bUAAsy6E.jpg\n",
      "GD_H7fmbsAAQark.jpg\n",
      "GD-cyk7bUAAkmWs.jpg\n",
      "GD_FWxmbcAA5XlH.jpg\n",
      "GD_FZEZakAAtkfB.jpg\n",
      "GD_HQF8boAAPefo.jpg\n",
      "GD_DaRYaEAAIB3r.jpg\n",
      "GD_DZioaMAA2ePV.jpg\n",
      "GD_Grd0bcAAATXe.jpg\n",
      "GD_H3qla8AAGWX5.jpg\n",
      "GD_H00dboAAkbB9.jpg\n",
      "GD_H22La4AASnpQ.jpg\n",
      "GD_Gnisa0AEf6Ar.jpg\n",
      "GD_IoXxbwAA2M2b.jpg\n",
      "GD_Gr5masAAYxO-.jpg\n",
      "GD_In6ibkAAjm2p.jpg\n",
      "GD_GjIwa4AA-zCn.jpg\n",
      "GD_FUmxb0AAdhp-.jpg\n",
      "GD_H2r4aQAAJ9bS.jpg\n",
      "GD_H6c4boAAevie.jpg\n",
      "GD_GAEKboAA-1IR.jpg\n",
      "GD_GlVwboAANSjA.jpg\n",
      "GD_H6oPaQAAWQxG.jpg\n",
      "GD5JOd2WQAANGgm.jpg\n",
      "GD_Iec6bUAA1yET.jpg\n",
      "GD_IjBobAAAXmok.jpg\n",
      "GD_IdwCaIAAjRC4.jpg\n",
      "GD_Ig9WaYAAKLAB.jpg\n",
      "GD_HVQXaIAAtdtG.jpg\n",
      "GD_F9OwaMAA9u1h.jpg\n",
      "GEAUkjEbcAAH5xp.jpg\n",
      "GD_EGJXbMAA-cg2.jpg\n",
      "GD_FXKWbMAAbnY5.jpg\n",
      "GD_HOmPbgAAKvv4.jpg\n",
      "GD_F-OVbkAAEl2j.jpg\n",
      "GD_CyXDbcAA-g7p.jpg\n",
      "GD_Gm6TbMAA3Uiv.jpg\n",
      "GD_DcQLasAAz-HF.jpg\n",
      "GD_FW7daAAA2h-g.jpg\n",
      "GEAR920bIAAv8RD.jpg\n",
      "GD_F_Aga4AA6Mjb.jpg\n",
      "GD_EFlmaoAA79f8.jpg\n",
      "GD_DcI4aIAAUdD_.jpg\n",
      "GD7STIAbkAAhFFU.jpg\n",
      "GD_HLGCasAAU7W5.jpg\n",
      "GD_FetaaQAAifIN.jpg\n",
      "GD_Gn7BbUAAdcvq.jpg\n",
      "GEA38zWa8AAioff.jpg\n",
      "GD_H4ANboAAlq-V.jpg\n",
      "GD_Hc0ibMAA2sCM.jpg\n",
      "GD_FSiabkAAhifJ.jpg\n",
      "GD_HU5Ua8AAUaha.jpg\n",
      "GD_FS7cbwAAStci.jpg\n",
      "GD5H6qAWIAE0g7Q.jpg\n",
      "GD_1Kvta4AANrqh.jpg\n",
      "GD_H5_gaoAA8I-R.jpg\n",
      "GD_HR5YaIAA5hzD.jpg\n",
      "GD_Ew_DaoAE4G9G.jpg\n",
      "GD_HTgmbcAAJWZq.jpg\n",
      "GEAPSveakAA7HVr.jpg\n",
      "GEAnVDtbgAE4q4h.jpg\n",
      "GD_IiDcaQAAMAnb.jpg\n",
      "GD_H2QnaYAAtb4n.jpg\n",
      "GD_HO9fbwAA2KzI.jpg\n",
      "GD_F8a_a4AAHKGn.jpg\n",
      "GD_Cz4LbwAAmIJD.jpg\n",
      "GD_GoZSbIAA2_xB.jpg\n",
      "GEAzuUHaMAAlw7G.jpg\n",
      "GD_H4k0akAAX5oz.jpg\n",
      "GD_EuUIa4AAK1q-.jpg\n",
      "GD_CzhHbwAAoW7f.jpg\n",
      "GD_Ignna8AA_AhU.jpg\n",
      "GD_FTXbakAAPqH1.jpg\n",
      "GEARfBia8AAbooN.jpg\n",
      "GD_H9Adb0AAaIgG.jpg\n",
      "GD_CxXDacAEBjCs.jpg\n",
      "GD_FXErbwAAyhvt.jpg\n",
      "GD_H-p0aEAAAtWX.jpg\n",
      "GD_GnvcaUAABcqL.jpg\n",
      "GD_F9DHa8AANe9r.jpg\n",
      "GD_FV5ZbMAAWVzm.jpg\n",
      "GD_FXA3aoAA90v3.jpg\n",
      "GD_F-ZpbYAA3D99.jpg\n",
      "GD_F7cYakAAjIR_.jpg\n",
      "GD_HNFVaAAAX-Fh.jpg\n",
      "GD-NJtOaAAAfSgg.jpg\n",
      "GD_GlJ4akAA_hdH.jpg\n",
      "GD_HOaHb0AAlEQ2.jpg\n",
      "GD_IxWpa8AArA3h.jpg\n",
      "GD_FYxDakAAagtd.jpg\n",
      "GD_HLn7boAAA_Xw.jpg\n",
      "GD_HSLDa0AAEQIH.jpg\n",
      "GD_HR_AasAAWqQk.jpg\n",
      "GD_GBq8bcAAB25c.jpg\n",
      "GD_F8szbIAACY3K.jpg\n",
      "GD_EDHGbQAAwiJV.jpg\n",
      "GD_IipibkAA226F.jpg\n",
      "GD_H7HqagAAu7S3.jpg\n",
      "GD_H5FHbsAAnqx3.jpg\n",
      "GD_IiMVb0AEwtbO.jpg\n",
      "GD_FTW1a0AAzmet.jpg\n",
      "GD_FUPKaoAA3yAd.jpg\n",
      "GD_Glhwa8AA6rqs.jpg\n",
      "GD_GpBWaAAAmK_3.jpg\n",
      "GD_InBJbUAAwqCm.jpg\n",
      "GD_GnF1bkAAa9tJ.jpg\n",
      "GD_Gyo6aYAAMLla.jpg\n",
      "GD_Gp8PacAAGsJe.jpg\n",
      "GD_F7S0awAAGWWu.jpg\n",
      "GD_GrLJaIAAkm6V.jpg\n",
      "GD_F_kUbYAAqnFO.jpg\n",
      "GD_HLT_aIAAav1b.jpg\n",
      "GD_GjH5bAAEjpoS.jpg\n",
      "GEAuAV_bkAA-Ein.jpg\n",
      "GD_IekiaMAAvrpV.jpg\n",
      "GD_EET5bkAAZReE.jpg\n",
      "GD_GjCgboAAopAH.jpg\n",
      "GD_GI3jaUAEA4lo.jpg\n",
      "GD_F6XEacAA8LfJ.jpg\n",
      "GD_FaR4bMAAXvfO.jpg\n",
      "GD_EFMUaAAAyb7P.jpg\n",
      "GD_IgeJbIAAUMSF.jpg\n",
      "GD_H-atbIAA_7Nr.jpg\n",
      "GD_FVAZaIAAnqA0.jpg\n",
      "GD_IlMcbkAAFybY.jpg\n",
      "GD_Ig6AasAAeREE.jpg\n",
      "GD_GomMb0AAo4SJ.jpg\n",
      "GEATTxfaMAAF5ta.jpg\n",
      "GD_H3KXb0AAloSh.jpg\n",
      "GEA3o-3bAAAsfm3.jpg\n",
      "GD_Gkw9a0AAOrKY.jpg\n",
      "GD_InwyaEAAHdQX.jpg\n",
      "GD_GAOraUAA8VGc.jpg\n",
      "GD_GpyMaAAAZrrk.jpg\n",
      "GD_FVjxa8AAOcoh.jpg\n",
      "GD_Dc4ybAAAyX-e.jpg\n",
      "GD_F7qFbsAAPp78.jpg\n",
      "GD_GocvaQAARLFm.jpg\n",
      "GD_HQ9wa4AAPxXA.jpg\n",
      "GD_F_7TaoAAhg_R.jpg\n",
      "GD_HVt2agAAKDOV.jpg\n",
      "GD_IbKAaUAAslOI.jpg\n",
      "GD_HNyMa8AA3HLQ.jpg\n",
      "GD_FXEDaoAEtMdH.jpg\n",
      "GEAayNMbYAEPjny.jpg\n",
      "GD_H6-1agAAkOt7.jpg\n",
      "GD_H5JqakAA52LD.jpg\n",
      "GD_FVE2aQAAKMqE.jpg\n",
      "GD_IgERbEAAPArS.jpg\n",
      "GD_GCjLbgAAllR9.jpg\n",
      "GD_H8rXbIAAvIRe.jpg\n",
      "GEAbIX6bMAAWo39.jpg\n",
      "GD_FW2ObQAAUfEx.jpg\n",
      "GD_F_HabkAADAED.jpg\n",
      "GEAT7ilbkAAaZeS.jpg\n",
      "GD_HPr2bgAA-001.jpg\n",
      "GD_F_goaEAA79o0.jpg\n",
      "GD_HzdQaMAARhRD.jpg\n",
      "GD_IlmjbsAA9UPe.jpg\n",
      "GD_H4gcbEAAwPgQ.jpg\n",
      "GD_HQakbwAA9vZ0.jpg\n",
      "GD_FTblbMAAvYsT.jpg\n",
      "GD_IG7PaUAAiwxN.jpg\n",
      "GD_HSe4acAA3LvG.jpg\n",
      "GEASoUZagAABLDI.jpg\n",
      "GD_HOK0a8AAEGah.jpg\n",
      "GD_EEpRbQAAQU97.jpg\n",
      "GD_HPv_bQAAMx41.jpg\n",
      "GD_HTAnawAAS6to.jpg\n",
      "GD_OMQPakAAxT6J.jpg\n",
      "GD_Ihq2bEAAaRJ1.jpg\n",
      "GD_Ii7nbkAADuEQ.jpg\n",
      "GEAcdEVaEAA7OI_.jpg\n",
      "GD5JOd2WQAANGgm.jpg\n",
      "GD7STIAbkAAhFFU.jpg\n",
      "GD5H6qAWIAE0g7Q.jpg\n",
      "GD_1Kvta4AANrqh.jpg\n",
      "GEBUi1JbkAAFiYU.jpg\n",
      "GEAPSveakAA7HVr.jpg\n",
      "GEAnVDtbgAE4q4h.jpg\n",
      "GEAzfoob0AAlgBK.jpg\n",
      "GD-NJtOaAAAfSgg.jpg\n",
      "GEAvVN1acAABiQI.jpg\n",
      "GEALs2ubgAA9Z72.jpg\n",
      "GEAq2ihbMAAEo6q.jpg\n",
      "GEA3o-3bAAAsfm3.jpg\n",
      "GEAn7yHbUAAKv1I.jpg\n",
      "GD_OMQPakAAxT6J.jpg\n",
      "GD_-j7_bIAACB3v.jpg\n",
      "GD_nheIa8AADUiJ.jpg\n",
      "GEAGhpNbsAAsoph.png\n",
      "GD_9_-0asAA9373.png\n",
      "GD8b6vLa0AAA9Va.jpg\n",
      "GEAm8N6awAAIfD2.jpg\n",
      "GEAR2fQaoAATUim.jpg\n",
      "GD7yzGybYAE3aX1.jpg\n",
      "GD-R9V7aoAANfMt.jpg\n",
      "GD5JOd2WQAANGgm.jpg\n",
      "GD7STIAbkAAhFFU.jpg\n",
      "GD7s9qybcAApDho.jpg\n",
      "GD5H6qAWIAE0g7Q.jpg\n",
      "GD_1Kvta4AANrqh.jpg\n",
      "GEBUi1JbkAAFiYU.jpg\n",
      "GEAPSveakAA7HVr.jpg\n",
      "GEAnVDtbgAE4q4h.jpg\n",
      "GD_2RTQaYAAqc2M.jpg\n",
      "GD_fg9kboAA2diA.jpg\n",
      "GEAzfoob0AAlgBK.jpg\n",
      "GD-NJtOaAAAfSgg.jpg\n",
      "GEAkkhWbIAApdB_.jpg\n",
      "GEAvVN1acAABiQI.jpg\n",
      "GEALs2ubgAA9Z72.jpg\n",
      "GEAq2ihbMAAEo6q.jpg\n",
      "GD_z9tZWgAAGU84.jpg\n",
      "GEA3o-3bAAAsfm3.jpg\n",
      "GEAn7yHbUAAKv1I.jpg\n",
      "GEAuvpObEAAWRSH.jpg\n",
      "GD_OMQPakAAxT6J.jpg\n",
      "GD_uv0KaoAA2t54.jpg\n",
      "GD_svjLa4AAbf3m.jpg\n",
      "GEAnVDtbgAE4q4h.jpg\n",
      "GD_sDOLaIAAbUwD.jpg\n",
      "GD_swJ2bgAA783y.jpg\n",
      "GD_peOGaAAAxkFX.jpg\n",
      "GD_qwVbbwAAph26.jpg\n",
      "GD_z9tZWgAAGU84.jpg\n",
      "GD_tYx-a8AAP-zD.jpg\n",
      "GD_svk4aUAAmNFY.jpg\n",
      "GEATfzKbkAANA5A.png\n",
      "GEAR2fQaoAATUim.jpg\n",
      "GD_yhw0bgAAKJf-.jpg\n",
      "GEAeAnAaQAAA6Ai.jpg\n",
      "GD_fg9kboAA2diA.jpg\n",
      "GEAya7EaQAAgtW4.jpg\n",
      "GEAuvpObEAAWRSH.jpg\n",
      "GD_i87Aa0AA-3cU.jpg\n",
      "GD_PlCUboAABZ8t.jpg\n",
      "GD_PjUka4AAhiMe.jpg\n",
      "GEARbC5bQAAGLxQ.jpg\n",
      "GD_i2tdaoAAVCm9.jpg\n",
      "GEAPGF9aUAAtkV8.jpg\n",
      "GD__nARa0AAZKWZ.jpg\n",
      "GD_qj_2aoAADJqa.jpg\n",
      "GD9Veh8awAACMuA.jpg\n",
      "GEAFopIbsAAi2dh.jpg\n",
      "GD_XvkLbMAAoIuB.jpg\n",
      "GD70AVjbEAAxxo_.jpg\n",
      "GEAZ4VSbcAAVYl7.jpg\n",
      "GD_qCp1aEAAj6Wn.jpg\n",
      "GEBGUaTbcAANKD8.jpg\n",
      "GD_YOA5a0AAHqRl.jpg\n",
      "GEAJpx5bUAA8qzd.jpg\n",
      "GEAJabNboAA45FN.jpg\n"
     ]
    }
   ],
   "source": [
    "for item in clus_new:\n",
    "    # print(clus_new[item])\n",
    "    # print(len(clus_new[item]))\n",
    "    for file in clus_new[item]:\n",
    "        # print(item)\n",
    "        print(file)\n",
    "        filter_condition = save_df['filename'] == file\n",
    "        save_df.loc[filter_condition,'cluster_number'] = item\n",
    "        result = save_df[filter_condition]\n",
    "        # result['cluster_number'] = item\n",
    "        # print(save_df.loc[filter_condition,'cluster_number'])"
   ]
  },
  {
   "cell_type": "code",
   "execution_count": 10,
   "id": "75d585c9-ce51-461d-86c7-c9bc2c45fb79",
   "metadata": {
    "collapsed": true,
    "execution": {
     "iopub.execute_input": "2024-03-11T09:09:53.923165Z",
     "iopub.status.busy": "2024-03-11T09:09:53.922763Z",
     "iopub.status.idle": "2024-03-11T09:09:58.232005Z",
     "shell.execute_reply": "2024-03-11T09:09:58.231409Z"
    },
    "jupyter": {
     "outputs_hidden": true
    }
   },
   "outputs": [
    {
     "name": "stdout",
     "output_type": "stream",
     "text": [
      "INSERT into ret_cluster_result (job_id, tweet_id, cluster_no) values (2933, 1747389638204072095, 7)\n",
      "Query executed successfully. 1 rows affected.\n",
      "INSERT into ret_cluster_result (job_id, tweet_id, cluster_no) values (2933, 1747433368495718634, 0)\n",
      "Query executed successfully. 1 rows affected.\n",
      "INSERT into ret_cluster_result (job_id, tweet_id, cluster_no) values (2933, 1747285510513656141, 0)\n"
     ]
    },
    {
     "name": "stdout",
     "output_type": "stream",
     "text": [
      "Query executed successfully. 1 rows affected.\n",
      "INSERT into ret_cluster_result (job_id, tweet_id, cluster_no) values (2933, 1747447096188489812, 0)\n",
      "Query executed successfully. 1 rows affected.\n",
      "INSERT into ret_cluster_result (job_id, tweet_id, cluster_no) values (2933, 1747447079335776502, 0)\n",
      "Query executed successfully. 1 rows affected.\n",
      "INSERT into ret_cluster_result (job_id, tweet_id, cluster_no) values (2933, 1747446554066358774, 0)\n",
      "Query executed successfully. 1 rows affected.\n",
      "INSERT into ret_cluster_result (job_id, tweet_id, cluster_no) values (2933, 1747407366201745583, 0)\n",
      "Query executed successfully. 1 rows affected.\n",
      "INSERT into ret_cluster_result (job_id, tweet_id, cluster_no) values (2933, 1747377691349877184, 6)\n",
      "Query executed successfully. 1 rows affected.\n",
      "INSERT into ret_cluster_result (job_id, tweet_id, cluster_no) values (2933, 1747445668774649873, 0)\n",
      "Query executed successfully. 1 rows affected.\n",
      "INSERT into ret_cluster_result (job_id, tweet_id, cluster_no) values (2933, 1747376196881641473, 6)\n",
      "Query executed successfully. 1 rows affected.\n",
      "INSERT into ret_cluster_result (job_id, tweet_id, cluster_no) values (2933, 1747375499083694352, 6)\n",
      "Query executed successfully. 1 rows affected.\n",
      "INSERT into ret_cluster_result (job_id, tweet_id, cluster_no) values (2933, 1747375487943581854, 6)\n",
      "Query executed successfully. 1 rows affected.\n",
      "INSERT into ret_cluster_result (job_id, tweet_id, cluster_no) values (2933, 1747375487708709212, 6)\n"
     ]
    },
    {
     "name": "stdout",
     "output_type": "stream",
     "text": [
      "Query executed successfully. 1 rows affected.\n",
      "INSERT into ret_cluster_result (job_id, tweet_id, cluster_no) values (2933, 1747374726379618629, 6)\n",
      "Query executed successfully. 1 rows affected.\n",
      "INSERT into ret_cluster_result (job_id, tweet_id, cluster_no) values (2933, 1747373302623195351, 6)\n",
      "Query executed successfully. 1 rows affected.\n",
      "INSERT into ret_cluster_result (job_id, tweet_id, cluster_no) values (2933, 1747371890988265888, 6)\n"
     ]
    },
    {
     "name": "stdout",
     "output_type": "stream",
     "text": [
      "Query executed successfully. 1 rows affected.\n",
      "INSERT into ret_cluster_result (job_id, tweet_id, cluster_no) values (2933, 1747444722564771960, 0)\n",
      "Query executed successfully. 1 rows affected.\n",
      "INSERT into ret_cluster_result (job_id, tweet_id, cluster_no) values (2933, 1747415816222765349, 9)\n",
      "Query executed successfully. 1 rows affected.\n",
      "INSERT into ret_cluster_result (job_id, tweet_id, cluster_no) values (2933, 1747111378832548000, 5)\n",
      "Query executed successfully. 1 rows affected.\n",
      "INSERT into ret_cluster_result (job_id, tweet_id, cluster_no) values (2933, 1747443733510193626, 0)\n",
      "Query executed successfully. 1 rows affected.\n",
      "INSERT into ret_cluster_result (job_id, tweet_id, cluster_no) values (2933, 1747413264173298155, 9)\n",
      "Query executed successfully. 1 rows affected.\n",
      "INSERT into ret_cluster_result (job_id, tweet_id, cluster_no) values (2933, 1747442819558781342, 0)\n",
      "Query executed successfully. 1 rows affected.\n",
      "INSERT into ret_cluster_result (job_id, tweet_id, cluster_no) values (2933, 1747441051751841985, 0)\n",
      "Query executed successfully. 1 rows affected.\n",
      "INSERT into ret_cluster_result (job_id, tweet_id, cluster_no) values (2933, 1747440839293603921, 5)\n",
      "Query executed successfully. 1 rows affected.\n",
      "INSERT into ret_cluster_result (job_id, tweet_id, cluster_no) values (2933, 1747440571986350236, 5)\n"
     ]
    },
    {
     "name": "stdout",
     "output_type": "stream",
     "text": [
      "Query executed successfully. 1 rows affected.\n",
      "INSERT into ret_cluster_result (job_id, tweet_id, cluster_no) values (2933, 1747439913304502342, 6)\n",
      "Query executed successfully. 1 rows affected.\n",
      "INSERT into ret_cluster_result (job_id, tweet_id, cluster_no) values (2933, 1747439473754075371, 4)\n",
      "Query executed successfully. 1 rows affected.\n",
      "INSERT into ret_cluster_result (job_id, tweet_id, cluster_no) values (2933, 1747396231746453694, 10)\n",
      "Query executed successfully. 1 rows affected.\n",
      "INSERT into ret_cluster_result (job_id, tweet_id, cluster_no) values (2933, 1747395880259670133, 0)\n",
      "Query executed successfully. 1 rows affected.\n",
      "INSERT into ret_cluster_result (job_id, tweet_id, cluster_no) values (2933, 1747395079881494694, 2)\n"
     ]
    },
    {
     "name": "stdout",
     "output_type": "stream",
     "text": [
      "Query executed successfully. 1 rows affected.\n",
      "INSERT into ret_cluster_result (job_id, tweet_id, cluster_no) values (2933, 1747436990520512908, 0)\n",
      "Query executed successfully. 1 rows affected.\n",
      "INSERT into ret_cluster_result (job_id, tweet_id, cluster_no) values (2933, 1747435278489587839, 0)\n",
      "Query executed successfully. 1 rows affected.\n",
      "INSERT into ret_cluster_result (job_id, tweet_id, cluster_no) values (2933, 1747373628503826505, 0)\n",
      "Query executed successfully. 1 rows affected.\n",
      "INSERT into ret_cluster_result (job_id, tweet_id, cluster_no) values (2933, 1747373087795142969, 10)\n",
      "Query executed successfully. 1 rows affected.\n",
      "INSERT into ret_cluster_result (job_id, tweet_id, cluster_no) values (2933, 1747369745182331196, 2)\n",
      "Query executed successfully. 1 rows affected.\n",
      "INSERT into ret_cluster_result (job_id, tweet_id, cluster_no) values (2933, 1747361396281770386, 0)\n",
      "Query executed successfully. 1 rows affected.\n",
      "INSERT into ret_cluster_result (job_id, tweet_id, cluster_no) values (2933, 1747360379439919369, 0)\n",
      "Query executed successfully. 1 rows affected.\n",
      "INSERT into ret_cluster_result (job_id, tweet_id, cluster_no) values (2933, 1747212176778211467, 8)\n",
      "Query executed successfully. 1 rows affected.\n",
      "INSERT into ret_cluster_result (job_id, tweet_id, cluster_no) values (2933, 1747354918330196207, 0)\n"
     ]
    },
    {
     "name": "stdout",
     "output_type": "stream",
     "text": [
      "Query executed successfully. 1 rows affected.\n",
      "INSERT into ret_cluster_result (job_id, tweet_id, cluster_no) values (2933, 1747353169506816321, 0)\n",
      "Query executed successfully. 1 rows affected.\n",
      "INSERT into ret_cluster_result (job_id, tweet_id, cluster_no) values (2933, 1747353102272139482, 0)\n",
      "Query executed successfully. 1 rows affected.\n",
      "INSERT into ret_cluster_result (job_id, tweet_id, cluster_no) values (2933, 1747352422157300161, 0)\n",
      "Query executed successfully. 1 rows affected.\n",
      "INSERT into ret_cluster_result (job_id, tweet_id, cluster_no) values (2933, 1747347875015671946, 0)\n",
      "Query executed successfully. 1 rows affected.\n",
      "INSERT into ret_cluster_result (job_id, tweet_id, cluster_no) values (2933, 1747412696180642182, 1)\n"
     ]
    },
    {
     "name": "stdout",
     "output_type": "stream",
     "text": [
      "Query executed successfully. 1 rows affected.\n",
      "INSERT into ret_cluster_result (job_id, tweet_id, cluster_no) values (2933, 1747426488977416464, 0)\n",
      "Query executed successfully. 1 rows affected.\n",
      "INSERT into ret_cluster_result (job_id, tweet_id, cluster_no) values (2933, 1747246922002481659, 13)\n",
      "Query executed successfully. 1 rows affected.\n",
      "INSERT into ret_cluster_result (job_id, tweet_id, cluster_no) values (2933, 1747188649404555653, 0)\n",
      "Query executed successfully. 1 rows affected.\n",
      "INSERT into ret_cluster_result (job_id, tweet_id, cluster_no) values (2933, 1747246922002481659, 0)\n",
      "Query executed successfully. 1 rows affected.\n",
      "INSERT into ret_cluster_result (job_id, tweet_id, cluster_no) values (2933, 1747214979324067948, 5)\n",
      "Query executed successfully. 1 rows affected.\n",
      "INSERT into ret_cluster_result (job_id, tweet_id, cluster_no) values (2933, 1747421621361709128, 0)\n",
      "Query executed successfully. 1 rows affected.\n",
      "INSERT into ret_cluster_result (job_id, tweet_id, cluster_no) values (2933, 1747407366201745583, 0)\n",
      "Query executed successfully. 1 rows affected.\n",
      "INSERT into ret_cluster_result (job_id, tweet_id, cluster_no) values (2933, 1747419280302616712, 0)\n",
      "Query executed successfully. 1 rows affected.\n",
      "INSERT into ret_cluster_result (job_id, tweet_id, cluster_no) values (2933, 1747418884981075987, 4)\n"
     ]
    },
    {
     "name": "stdout",
     "output_type": "stream",
     "text": [
      "Query executed successfully. 1 rows affected.\n",
      "INSERT into ret_cluster_result (job_id, tweet_id, cluster_no) values (2933, 1747418857348936059, 0)\n",
      "Query executed successfully. 1 rows affected.\n",
      "INSERT into ret_cluster_result (job_id, tweet_id, cluster_no) values (2933, 1747418575936376910, 0)\n",
      "Query executed successfully. 1 rows affected.\n",
      "INSERT into ret_cluster_result (job_id, tweet_id, cluster_no) values (2933, 1747418486740316227, 0)\n",
      "Query executed successfully. 1 rows affected.\n",
      "INSERT into ret_cluster_result (job_id, tweet_id, cluster_no) values (2933, 1747417892470362444, 0)\n",
      "Query executed successfully. 1 rows affected.\n",
      "INSERT into ret_cluster_result (job_id, tweet_id, cluster_no) values (2933, 1747417145968144619, 0)\n"
     ]
    },
    {
     "name": "stdout",
     "output_type": "stream",
     "text": [
      "Query executed successfully. 1 rows affected.\n",
      "INSERT into ret_cluster_result (job_id, tweet_id, cluster_no) values (2933, 1747052882657255631, 5)\n",
      "Query executed successfully. 1 rows affected.\n",
      "INSERT into ret_cluster_result (job_id, tweet_id, cluster_no) values (2933, 1747416416524095735, 0)\n",
      "Query executed successfully. 1 rows affected.\n",
      "INSERT into ret_cluster_result (job_id, tweet_id, cluster_no) values (2933, 1747416285179461818, 7)\n",
      "Query executed successfully. 1 rows affected.\n",
      "INSERT into ret_cluster_result (job_id, tweet_id, cluster_no) values (2933, 1747415887119102194, 0)\n",
      "Query executed successfully. 1 rows affected.\n",
      "INSERT into ret_cluster_result (job_id, tweet_id, cluster_no) values (2933, 1747285515857224043, 5)\n",
      "Query executed successfully. 1 rows affected.\n",
      "INSERT into ret_cluster_result (job_id, tweet_id, cluster_no) values (2933, 1747351755787309443, 0)\n",
      "Query executed successfully. 1 rows affected.\n",
      "INSERT into ret_cluster_result (job_id, tweet_id, cluster_no) values (2933, 1747071123563712950, 0)\n",
      "Query executed successfully. 1 rows affected.\n",
      "INSERT into ret_cluster_result (job_id, tweet_id, cluster_no) values (2933, 1747285515857224043, 5)\n",
      "Query executed successfully. 1 rows affected.\n",
      "INSERT into ret_cluster_result (job_id, tweet_id, cluster_no) values (2933, 1747407366017134917, 0)\n"
     ]
    },
    {
     "name": "stdout",
     "output_type": "stream",
     "text": [
      "Query executed successfully. 1 rows affected.\n",
      "INSERT into ret_cluster_result (job_id, tweet_id, cluster_no) values (2933, 1747191723955204433, 14)\n",
      "Query executed successfully. 1 rows affected.\n",
      "INSERT into ret_cluster_result (job_id, tweet_id, cluster_no) values (2933, 1747234095153951131, 0)\n",
      "Query executed successfully. 1 rows affected.\n",
      "INSERT into ret_cluster_result (job_id, tweet_id, cluster_no) values (2933, 1747191723955204433, 14)\n",
      "Query executed successfully. 1 rows affected.\n",
      "INSERT into ret_cluster_result (job_id, tweet_id, cluster_no) values (2933, 1747052882657255631, 0)\n",
      "Query executed successfully. 1 rows affected.\n",
      "INSERT into ret_cluster_result (job_id, tweet_id, cluster_no) values (2933, 1747405905195622816, 0)\n"
     ]
    },
    {
     "name": "stdout",
     "output_type": "stream",
     "text": [
      "Query executed successfully. 1 rows affected.\n",
      "INSERT into ret_cluster_result (job_id, tweet_id, cluster_no) values (2933, 1747234095153951131, 0)\n",
      "Query executed successfully. 1 rows affected.\n",
      "INSERT into ret_cluster_result (job_id, tweet_id, cluster_no) values (2933, 1747078133306843366, 0)\n",
      "Query executed successfully. 1 rows affected.\n",
      "INSERT into ret_cluster_result (job_id, tweet_id, cluster_no) values (2933, 1747085296062407085, 0)\n",
      "Query executed successfully. 1 rows affected.\n",
      "INSERT into ret_cluster_result (job_id, tweet_id, cluster_no) values (2933, 1747402853642346497, 11)\n",
      "Query executed successfully. 1 rows affected.\n",
      "INSERT into ret_cluster_result (job_id, tweet_id, cluster_no) values (2933, 1747254020203544794, 0)\n",
      "Query executed successfully. 1 rows affected.\n",
      "INSERT into ret_cluster_result (job_id, tweet_id, cluster_no) values (2933, 1747121084770709621, 5)\n",
      "Query executed successfully. 1 rows affected.\n",
      "INSERT into ret_cluster_result (job_id, tweet_id, cluster_no) values (2933, 1747223047587955078, 0)\n",
      "Query executed successfully. 1 rows affected.\n",
      "INSERT into ret_cluster_result (job_id, tweet_id, cluster_no) values (2933, 1747389253397700645, 4)\n",
      "Query executed successfully. 1 rows affected.\n",
      "INSERT into ret_cluster_result (job_id, tweet_id, cluster_no) values (2933, 1746871428023239015, 5)\n"
     ]
    },
    {
     "name": "stdout",
     "output_type": "stream",
     "text": [
      "Query executed successfully. 1 rows affected.\n",
      "INSERT into ret_cluster_result (job_id, tweet_id, cluster_no) values (2933, 1746837407373402306, 5)\n",
      "Query executed successfully. 1 rows affected.\n",
      "INSERT into ret_cluster_result (job_id, tweet_id, cluster_no) values (2933, 1747402121593709032, 13)\n",
      "Query executed successfully. 1 rows affected.\n",
      "INSERT into ret_cluster_result (job_id, tweet_id, cluster_no) values (2933, 1747142817552773287, 5)\n",
      "Query executed successfully. 1 rows affected.\n",
      "INSERT into ret_cluster_result (job_id, tweet_id, cluster_no) values (2933, 1747385715057668289, 12)\n",
      "Query executed successfully. 1 rows affected.\n",
      "INSERT into ret_cluster_result (job_id, tweet_id, cluster_no) values (2933, 1747243823213019385, 5)\n"
     ]
    },
    {
     "name": "stdout",
     "output_type": "stream",
     "text": [
      "Query executed successfully. 1 rows affected.\n",
      "INSERT into ret_cluster_result (job_id, tweet_id, cluster_no) values (2933, 1747191723955204433, 0)\n",
      "Query executed successfully. 1 rows affected.\n",
      "INSERT into ret_cluster_result (job_id, tweet_id, cluster_no) values (2933, 1747383424397062290, 6)\n",
      "Query executed successfully. 1 rows affected.\n",
      "INSERT into ret_cluster_result (job_id, tweet_id, cluster_no) values (2933, 1747381850484654446, 8)\n",
      "Query executed successfully. 1 rows affected.\n",
      "INSERT into ret_cluster_result (job_id, tweet_id, cluster_no) values (2933, 1747373492092452908, 0)\n",
      "Query executed successfully. 1 rows affected.\n",
      "INSERT into ret_cluster_result (job_id, tweet_id, cluster_no) values (2933, 1747372514429501557, 13)\n",
      "Query executed successfully. 1 rows affected.\n",
      "INSERT into ret_cluster_result (job_id, tweet_id, cluster_no) values (2933, 1747129935880474763, 0)\n",
      "Query executed successfully. 1 rows affected.\n",
      "INSERT into ret_cluster_result (job_id, tweet_id, cluster_no) values (2933, 1747364719068061758, 9)\n",
      "Query executed successfully. 1 rows affected.\n",
      "INSERT into ret_cluster_result (job_id, tweet_id, cluster_no) values (2933, 1747364612100808869, 9)\n",
      "Query executed successfully. 1 rows affected.\n",
      "INSERT into ret_cluster_result (job_id, tweet_id, cluster_no) values (2933, 1747212962606268740, 0)\n"
     ]
    },
    {
     "name": "stdout",
     "output_type": "stream",
     "text": [
      "Query executed successfully. 1 rows affected.\n",
      "INSERT into ret_cluster_result (job_id, tweet_id, cluster_no) values (2933, 1747075389913170082, 8)\n",
      "Query executed successfully. 1 rows affected.\n",
      "INSERT into ret_cluster_result (job_id, tweet_id, cluster_no) values (2933, 1743247925013319688, 14)\n",
      "Query executed successfully. 1 rows affected.\n",
      "INSERT into ret_cluster_result (job_id, tweet_id, cluster_no) values (2933, 1747352394567160127, 12)\n",
      "Query executed successfully. 1 rows affected.\n",
      "INSERT into ret_cluster_result (job_id, tweet_id, cluster_no) values (2933, 1747351508495348202, 0)\n",
      "Query executed successfully. 1 rows affected.\n",
      "INSERT into ret_cluster_result (job_id, tweet_id, cluster_no) values (2933, 1747349915737661837, 0)\n"
     ]
    },
    {
     "name": "stdout",
     "output_type": "stream",
     "text": [
      "Query executed successfully. 1 rows affected.\n",
      "INSERT into ret_cluster_result (job_id, tweet_id, cluster_no) values (2933, 1747346491528904739, 5)\n",
      "Query executed successfully. 1 rows affected.\n",
      "INSERT into ret_cluster_result (job_id, tweet_id, cluster_no) values (2933, 1747343942730076286, 9)\n",
      "Query executed successfully. 1 rows affected.\n",
      "INSERT into ret_cluster_result (job_id, tweet_id, cluster_no) values (2933, 1747343932919587158, 9)\n",
      "Query executed successfully. 1 rows affected.\n",
      "INSERT into ret_cluster_result (job_id, tweet_id, cluster_no) values (2933, 1747147402073801113, 5)\n",
      "Query executed successfully. 1 rows affected.\n",
      "INSERT into ret_cluster_result (job_id, tweet_id, cluster_no) values (2933, 1747335936994947126, 0)\n",
      "Query executed successfully. 1 rows affected.\n",
      "INSERT into ret_cluster_result (job_id, tweet_id, cluster_no) values (2933, 1747335782661312673, 0)\n",
      "Query executed successfully. 1 rows affected.\n",
      "INSERT into ret_cluster_result (job_id, tweet_id, cluster_no) values (2933, 1747335775480602687, 0)\n",
      "Query executed successfully. 1 rows affected.\n",
      "INSERT into ret_cluster_result (job_id, tweet_id, cluster_no) values (2933, 1747335772381073744, 0)\n",
      "Query executed successfully. 1 rows affected.\n",
      "INSERT into ret_cluster_result (job_id, tweet_id, cluster_no) values (2933, 1747335759353545163, 0)\n"
     ]
    },
    {
     "name": "stdout",
     "output_type": "stream",
     "text": [
      "Query executed successfully. 1 rows affected.\n",
      "INSERT into ret_cluster_result (job_id, tweet_id, cluster_no) values (2933, 1747335735404003529, 0)\n",
      "Query executed successfully. 1 rows affected.\n",
      "INSERT into ret_cluster_result (job_id, tweet_id, cluster_no) values (2933, 1747335728558903769, 0)\n",
      "Query executed successfully. 1 rows affected.\n",
      "INSERT into ret_cluster_result (job_id, tweet_id, cluster_no) values (2933, 1747335699119165864, 0)\n",
      "Query executed successfully. 1 rows affected.\n",
      "INSERT into ret_cluster_result (job_id, tweet_id, cluster_no) values (2933, 1747335691271635039, 0)\n",
      "Query executed successfully. 1 rows affected.\n",
      "INSERT into ret_cluster_result (job_id, tweet_id, cluster_no) values (2933, 1747335689686134842, 0)\n"
     ]
    },
    {
     "name": "stdout",
     "output_type": "stream",
     "text": [
      "Query executed successfully. 1 rows affected.\n",
      "INSERT into ret_cluster_result (job_id, tweet_id, cluster_no) values (2933, 1747335684539720005, 0)\n",
      "Query executed successfully. 1 rows affected.\n",
      "INSERT into ret_cluster_result (job_id, tweet_id, cluster_no) values (2933, 1747335676637655325, 0)\n",
      "Query executed successfully. 1 rows affected.\n",
      "INSERT into ret_cluster_result (job_id, tweet_id, cluster_no) values (2933, 1747335673634607132, 0)\n",
      "Query executed successfully. 1 rows affected.\n",
      "INSERT into ret_cluster_result (job_id, tweet_id, cluster_no) values (2933, 1747335667699618200, 0)\n",
      "Query executed successfully. 1 rows affected.\n",
      "INSERT into ret_cluster_result (job_id, tweet_id, cluster_no) values (2933, 1747335655431242005, 0)\n",
      "Query executed successfully. 1 rows affected.\n",
      "INSERT into ret_cluster_result (job_id, tweet_id, cluster_no) values (2933, 1747335654512746504, 0)\n",
      "Query executed successfully. 1 rows affected.\n",
      "INSERT into ret_cluster_result (job_id, tweet_id, cluster_no) values (2933, 1747335649643126828, 0)\n",
      "Query executed successfully. 1 rows affected.\n",
      "INSERT into ret_cluster_result (job_id, tweet_id, cluster_no) values (2933, 1747335646790991945, 0)\n",
      "Query executed successfully. 1 rows affected.\n",
      "INSERT into ret_cluster_result (job_id, tweet_id, cluster_no) values (2933, 1747335640134598795, 0)\n"
     ]
    },
    {
     "name": "stdout",
     "output_type": "stream",
     "text": [
      "Query executed successfully. 1 rows affected.\n",
      "INSERT into ret_cluster_result (job_id, tweet_id, cluster_no) values (2933, 1747335614503309433, 0)\n",
      "Query executed successfully. 1 rows affected.\n",
      "INSERT into ret_cluster_result (job_id, tweet_id, cluster_no) values (2933, 1747335612150243505, 0)\n",
      "Query executed successfully. 1 rows affected.\n",
      "INSERT into ret_cluster_result (job_id, tweet_id, cluster_no) values (2933, 1747335599949029660, 0)\n",
      "Query executed successfully. 1 rows affected.\n",
      "INSERT into ret_cluster_result (job_id, tweet_id, cluster_no) values (2933, 1747335556730921325, 0)\n",
      "Query executed successfully. 1 rows affected.\n",
      "INSERT into ret_cluster_result (job_id, tweet_id, cluster_no) values (2933, 1747335209329242125, 0)\n"
     ]
    },
    {
     "name": "stdout",
     "output_type": "stream",
     "text": [
      "Query executed successfully. 1 rows affected.\n",
      "INSERT into ret_cluster_result (job_id, tweet_id, cluster_no) values (2933, 1747335065716265011, 0)\n",
      "Query executed successfully. 1 rows affected.\n",
      "INSERT into ret_cluster_result (job_id, tweet_id, cluster_no) values (2933, 1747335061966627014, 0)\n",
      "Query executed successfully. 1 rows affected.\n",
      "INSERT into ret_cluster_result (job_id, tweet_id, cluster_no) values (2933, 1747335037593456856, 0)\n",
      "Query executed successfully. 1 rows affected.\n",
      "INSERT into ret_cluster_result (job_id, tweet_id, cluster_no) values (2933, 1747335031952191866, 0)\n",
      "Query executed successfully. 1 rows affected.\n",
      "INSERT into ret_cluster_result (job_id, tweet_id, cluster_no) values (2933, 1747335011471331731, 0)\n",
      "Query executed successfully. 1 rows affected.\n",
      "INSERT into ret_cluster_result (job_id, tweet_id, cluster_no) values (2933, 1747335005360267624, 0)\n",
      "Query executed successfully. 1 rows affected.\n",
      "INSERT into ret_cluster_result (job_id, tweet_id, cluster_no) values (2933, 1747335002579456032, 0)\n",
      "Query executed successfully. 1 rows affected.\n",
      "INSERT into ret_cluster_result (job_id, tweet_id, cluster_no) values (2933, 1747334997063897360, 0)\n",
      "Query executed successfully. 1 rows affected.\n",
      "INSERT into ret_cluster_result (job_id, tweet_id, cluster_no) values (2933, 1747334994140487937, 0)\n"
     ]
    },
    {
     "name": "stdout",
     "output_type": "stream",
     "text": [
      "Query executed successfully. 1 rows affected.\n",
      "INSERT into ret_cluster_result (job_id, tweet_id, cluster_no) values (2933, 1747334986012000684, 0)\n",
      "Query executed successfully. 1 rows affected.\n",
      "INSERT into ret_cluster_result (job_id, tweet_id, cluster_no) values (2933, 1747334971453526165, 0)\n",
      "Query executed successfully. 1 rows affected.\n",
      "INSERT into ret_cluster_result (job_id, tweet_id, cluster_no) values (2933, 1747334970673434677, 0)\n",
      "Query executed successfully. 1 rows affected.\n",
      "INSERT into ret_cluster_result (job_id, tweet_id, cluster_no) values (2933, 1747334962247000237, 0)\n",
      "Query executed successfully. 1 rows affected.\n",
      "INSERT into ret_cluster_result (job_id, tweet_id, cluster_no) values (2933, 1747334960699334685, 0)\n"
     ]
    },
    {
     "name": "stdout",
     "output_type": "stream",
     "text": [
      "Query executed successfully. 1 rows affected.\n",
      "INSERT into ret_cluster_result (job_id, tweet_id, cluster_no) values (2933, 1747334951497093517, 0)\n",
      "Query executed successfully. 1 rows affected.\n",
      "INSERT into ret_cluster_result (job_id, tweet_id, cluster_no) values (2933, 1747334945532784838, 0)\n",
      "Query executed successfully. 1 rows affected.\n",
      "INSERT into ret_cluster_result (job_id, tweet_id, cluster_no) values (2933, 1747334937362182261, 0)\n",
      "Query executed successfully. 1 rows affected.\n",
      "INSERT into ret_cluster_result (job_id, tweet_id, cluster_no) values (2933, 1747334932039659848, 0)\n",
      "Query executed successfully. 1 rows affected.\n",
      "INSERT into ret_cluster_result (job_id, tweet_id, cluster_no) values (2933, 1747334928935833968, 0)\n",
      "Query executed successfully. 1 rows affected.\n",
      "INSERT into ret_cluster_result (job_id, tweet_id, cluster_no) values (2933, 1747334921876807750, 0)\n",
      "Query executed successfully. 1 rows affected.\n",
      "INSERT into ret_cluster_result (job_id, tweet_id, cluster_no) values (2933, 1747334897923174890, 0)\n",
      "Query executed successfully. 1 rows affected.\n",
      "INSERT into ret_cluster_result (job_id, tweet_id, cluster_no) values (2933, 1747334873030000843, 0)\n",
      "Query executed successfully. 1 rows affected.\n",
      "INSERT into ret_cluster_result (job_id, tweet_id, cluster_no) values (2933, 1747334485144895830, 0)\n"
     ]
    },
    {
     "name": "stdout",
     "output_type": "stream",
     "text": [
      "Query executed successfully. 1 rows affected.\n",
      "INSERT into ret_cluster_result (job_id, tweet_id, cluster_no) values (2933, 1747334362516062375, 0)\n",
      "Query executed successfully. 1 rows affected.\n",
      "INSERT into ret_cluster_result (job_id, tweet_id, cluster_no) values (2933, 1747334354739884460, 0)\n",
      "Query executed successfully. 1 rows affected.\n",
      "INSERT into ret_cluster_result (job_id, tweet_id, cluster_no) values (2933, 1747334348557472232, 0)\n",
      "Query executed successfully. 1 rows affected.\n",
      "INSERT into ret_cluster_result (job_id, tweet_id, cluster_no) values (2933, 1747334325702623722, 0)\n",
      "Query executed successfully. 1 rows affected.\n",
      "INSERT into ret_cluster_result (job_id, tweet_id, cluster_no) values (2933, 1747334316424921459, 0)\n"
     ]
    },
    {
     "name": "stdout",
     "output_type": "stream",
     "text": [
      "Query executed successfully. 1 rows affected.\n",
      "INSERT into ret_cluster_result (job_id, tweet_id, cluster_no) values (2933, 1747334307251966192, 0)\n",
      "Query executed successfully. 1 rows affected.\n",
      "INSERT into ret_cluster_result (job_id, tweet_id, cluster_no) values (2933, 1747334302034284924, 0)\n",
      "Query executed successfully. 1 rows affected.\n",
      "INSERT into ret_cluster_result (job_id, tweet_id, cluster_no) values (2933, 1747334298322231777, 0)\n",
      "Query executed successfully. 1 rows affected.\n",
      "INSERT into ret_cluster_result (job_id, tweet_id, cluster_no) values (2933, 1747334297546313946, 0)\n",
      "Query executed successfully. 1 rows affected.\n",
      "INSERT into ret_cluster_result (job_id, tweet_id, cluster_no) values (2933, 1747334281133953398, 0)\n",
      "Query executed successfully. 1 rows affected.\n",
      "INSERT into ret_cluster_result (job_id, tweet_id, cluster_no) values (2933, 1747334271919182130, 0)\n",
      "Query executed successfully. 1 rows affected.\n",
      "INSERT into ret_cluster_result (job_id, tweet_id, cluster_no) values (2933, 1747334265480921318, 0)\n",
      "Query executed successfully. 1 rows affected.\n",
      "INSERT into ret_cluster_result (job_id, tweet_id, cluster_no) values (2933, 1747334260393160924, 0)\n",
      "Query executed successfully. 1 rows affected.\n",
      "INSERT into ret_cluster_result (job_id, tweet_id, cluster_no) values (2933, 1747334258929316149, 0)\n"
     ]
    },
    {
     "name": "stdout",
     "output_type": "stream",
     "text": [
      "Query executed successfully. 1 rows affected.\n",
      "INSERT into ret_cluster_result (job_id, tweet_id, cluster_no) values (2933, 1747334246363275660, 0)\n",
      "Query executed successfully. 1 rows affected.\n",
      "INSERT into ret_cluster_result (job_id, tweet_id, cluster_no) values (2933, 1747334240482865571, 0)\n",
      "Query executed successfully. 1 rows affected.\n",
      "INSERT into ret_cluster_result (job_id, tweet_id, cluster_no) values (2933, 1747334237274202368, 0)\n",
      "Query executed successfully. 1 rows affected.\n",
      "INSERT into ret_cluster_result (job_id, tweet_id, cluster_no) values (2933, 1747334233134448956, 0)\n"
     ]
    },
    {
     "name": "stdout",
     "output_type": "stream",
     "text": [
      "Query executed successfully. 1 rows affected.\n",
      "INSERT into ret_cluster_result (job_id, tweet_id, cluster_no) values (2933, 1747334227660853495, 0)\n",
      "Query executed successfully. 1 rows affected.\n",
      "INSERT into ret_cluster_result (job_id, tweet_id, cluster_no) values (2933, 1747334214645944738, 0)\n",
      "Query executed successfully. 1 rows affected.\n",
      "INSERT into ret_cluster_result (job_id, tweet_id, cluster_no) values (2933, 1747334189417177270, 0)\n",
      "Query executed successfully. 1 rows affected.\n",
      "INSERT into ret_cluster_result (job_id, tweet_id, cluster_no) values (2933, 1747334184774050166, 0)\n",
      "Query executed successfully. 1 rows affected.\n",
      "INSERT into ret_cluster_result (job_id, tweet_id, cluster_no) values (2933, 1747334179971596759, 0)\n",
      "Query executed successfully. 1 rows affected.\n",
      "INSERT into ret_cluster_result (job_id, tweet_id, cluster_no) values (2933, 1747333760448884866, 0)\n",
      "Query executed successfully. 1 rows affected.\n",
      "INSERT into ret_cluster_result (job_id, tweet_id, cluster_no) values (2933, 1747333644837134704, 0)\n",
      "Query executed successfully. 1 rows affected.\n",
      "INSERT into ret_cluster_result (job_id, tweet_id, cluster_no) values (2933, 1747333636712739039, 0)\n",
      "Query executed successfully. 1 rows affected.\n",
      "INSERT into ret_cluster_result (job_id, tweet_id, cluster_no) values (2933, 1747333631729967351, 0)\n"
     ]
    },
    {
     "name": "stdout",
     "output_type": "stream",
     "text": [
      "Query executed successfully. 1 rows affected.\n",
      "INSERT into ret_cluster_result (job_id, tweet_id, cluster_no) values (2933, 1747333610888466854, 0)\n",
      "Query executed successfully. 1 rows affected.\n",
      "INSERT into ret_cluster_result (job_id, tweet_id, cluster_no) values (2933, 1747333607847559297, 0)\n",
      "Query executed successfully. 1 rows affected.\n",
      "INSERT into ret_cluster_result (job_id, tweet_id, cluster_no) values (2933, 1747333594790744138, 0)\n",
      "Query executed successfully. 1 rows affected.\n",
      "INSERT into ret_cluster_result (job_id, tweet_id, cluster_no) values (2933, 1747333587672957382, 0)\n",
      "Query executed successfully. 1 rows affected.\n",
      "INSERT into ret_cluster_result (job_id, tweet_id, cluster_no) values (2933, 1747333585001124338, 0)\n"
     ]
    },
    {
     "name": "stdout",
     "output_type": "stream",
     "text": [
      "Query executed successfully. 1 rows affected.\n",
      "INSERT into ret_cluster_result (job_id, tweet_id, cluster_no) values (2933, 1747333584086872226, 0)\n",
      "Query executed successfully. 1 rows affected.\n",
      "INSERT into ret_cluster_result (job_id, tweet_id, cluster_no) values (2933, 1747333575895343358, 0)\n",
      "Query executed successfully. 1 rows affected.\n",
      "INSERT into ret_cluster_result (job_id, tweet_id, cluster_no) values (2933, 1747333572376326269, 0)\n",
      "Query executed successfully. 1 rows affected.\n",
      "INSERT into ret_cluster_result (job_id, tweet_id, cluster_no) values (2933, 1747333569234817041, 0)\n",
      "Query executed successfully. 1 rows affected.\n",
      "INSERT into ret_cluster_result (job_id, tweet_id, cluster_no) values (2933, 1747333562628735064, 0)\n",
      "Query executed successfully. 1 rows affected.\n",
      "INSERT into ret_cluster_result (job_id, tweet_id, cluster_no) values (2933, 1747333559797580091, 0)\n",
      "Query executed successfully. 1 rows affected.\n",
      "INSERT into ret_cluster_result (job_id, tweet_id, cluster_no) values (2933, 1747333558543515715, 0)\n",
      "Query executed successfully. 1 rows affected.\n",
      "INSERT into ret_cluster_result (job_id, tweet_id, cluster_no) values (2933, 1747333534887694603, 0)\n",
      "Query executed successfully. 1 rows affected.\n",
      "INSERT into ret_cluster_result (job_id, tweet_id, cluster_no) values (2933, 1747333532031345117, 0)\n"
     ]
    },
    {
     "name": "stdout",
     "output_type": "stream",
     "text": [
      "Query executed successfully. 1 rows affected.\n",
      "INSERT into ret_cluster_result (job_id, tweet_id, cluster_no) values (2933, 1747333529996796394, 0)\n",
      "Query executed successfully. 1 rows affected.\n",
      "INSERT into ret_cluster_result (job_id, tweet_id, cluster_no) values (2933, 1747333521486827986, 0)\n",
      "Query executed successfully. 1 rows affected.\n",
      "INSERT into ret_cluster_result (job_id, tweet_id, cluster_no) values (2933, 1747333494542569965, 0)\n",
      "Query executed successfully. 1 rows affected.\n",
      "INSERT into ret_cluster_result (job_id, tweet_id, cluster_no) values (2933, 1747333493372403863, 0)\n",
      "Query executed successfully. 1 rows affected.\n",
      "INSERT into ret_cluster_result (job_id, tweet_id, cluster_no) values (2933, 1747333491455590630, 0)\n"
     ]
    },
    {
     "name": "stdout",
     "output_type": "stream",
     "text": [
      "Query executed successfully. 1 rows affected.\n",
      "INSERT into ret_cluster_result (job_id, tweet_id, cluster_no) values (2933, 1747333042350457195, 0)\n",
      "Query executed successfully. 1 rows affected.\n",
      "INSERT into ret_cluster_result (job_id, tweet_id, cluster_no) values (2933, 1747332934154195114, 0)\n",
      "Query executed successfully. 1 rows affected.\n",
      "INSERT into ret_cluster_result (job_id, tweet_id, cluster_no) values (2933, 1747332933554495562, 0)\n",
      "Query executed successfully. 1 rows affected.\n",
      "INSERT into ret_cluster_result (job_id, tweet_id, cluster_no) values (2933, 1747332919675216065, 0)\n",
      "Query executed successfully. 1 rows affected.\n",
      "INSERT into ret_cluster_result (job_id, tweet_id, cluster_no) values (2933, 1747332910791925884, 0)\n",
      "Query executed successfully. 1 rows affected.\n",
      "INSERT into ret_cluster_result (job_id, tweet_id, cluster_no) values (2933, 1747332894346117223, 0)\n",
      "Query executed successfully. 1 rows affected.\n",
      "INSERT into ret_cluster_result (job_id, tweet_id, cluster_no) values (2933, 1747332891238117385, 0)\n",
      "Query executed successfully. 1 rows affected.\n",
      "INSERT into ret_cluster_result (job_id, tweet_id, cluster_no) values (2933, 1747332889132650882, 0)\n"
     ]
    },
    {
     "name": "stdout",
     "output_type": "stream",
     "text": [
      "Query executed successfully. 1 rows affected.\n",
      "INSERT into ret_cluster_result (job_id, tweet_id, cluster_no) values (2933, 1747332883172520164, 0)\n",
      "Query executed successfully. 1 rows affected.\n",
      "INSERT into ret_cluster_result (job_id, tweet_id, cluster_no) values (2933, 1747332882031636893, 0)\n",
      "Query executed successfully. 1 rows affected.\n",
      "INSERT into ret_cluster_result (job_id, tweet_id, cluster_no) values (2933, 1747332875119468607, 0)\n",
      "Query executed successfully. 1 rows affected.\n",
      "INSERT into ret_cluster_result (job_id, tweet_id, cluster_no) values (2933, 1747332873714307547, 0)\n",
      "Query executed successfully. 1 rows affected.\n",
      "INSERT into ret_cluster_result (job_id, tweet_id, cluster_no) values (2933, 1747332873257124079, 0)\n",
      "Query executed successfully. 1 rows affected.\n",
      "INSERT into ret_cluster_result (job_id, tweet_id, cluster_no) values (2933, 1747332862645575941, 0)\n"
     ]
    },
    {
     "name": "stdout",
     "output_type": "stream",
     "text": [
      "Query executed successfully. 1 rows affected.\n",
      "INSERT into ret_cluster_result (job_id, tweet_id, cluster_no) values (2933, 1747332859373981923, 0)\n",
      "Query executed successfully. 1 rows affected.\n",
      "INSERT into ret_cluster_result (job_id, tweet_id, cluster_no) values (2933, 1747332842265436188, 0)\n",
      "Query executed successfully. 1 rows affected.\n",
      "INSERT into ret_cluster_result (job_id, tweet_id, cluster_no) values (2933, 1747332840130547915, 0)\n",
      "Query executed successfully. 1 rows affected.\n",
      "INSERT into ret_cluster_result (job_id, tweet_id, cluster_no) values (2933, 1747332833683861823, 0)\n",
      "Query executed successfully. 1 rows affected.\n",
      "INSERT into ret_cluster_result (job_id, tweet_id, cluster_no) values (2933, 1747332828537516277, 0)\n",
      "Query executed successfully. 1 rows affected.\n",
      "INSERT into ret_cluster_result (job_id, tweet_id, cluster_no) values (2933, 1747332816227213694, 0)\n",
      "Query executed successfully. 1 rows affected.\n",
      "INSERT into ret_cluster_result (job_id, tweet_id, cluster_no) values (2933, 1747332812049625310, 0)\n",
      "Query executed successfully. 1 rows affected.\n",
      "INSERT into ret_cluster_result (job_id, tweet_id, cluster_no) values (2933, 1747332809231049111, 0)\n"
     ]
    },
    {
     "name": "stdout",
     "output_type": "stream",
     "text": [
      "Query executed successfully. 1 rows affected.\n",
      "INSERT into ret_cluster_result (job_id, tweet_id, cluster_no) values (2933, 1747332793372459408, 0)\n",
      "Query executed successfully. 1 rows affected.\n",
      "INSERT into ret_cluster_result (job_id, tweet_id, cluster_no) values (2933, 1747332318656954478, 0)\n",
      "Query executed successfully. 1 rows affected.\n",
      "INSERT into ret_cluster_result (job_id, tweet_id, cluster_no) values (2933, 1747332242391847005, 0)\n",
      "Query executed successfully. 1 rows affected.\n",
      "INSERT into ret_cluster_result (job_id, tweet_id, cluster_no) values (2933, 1747332221902725174, 0)\n",
      "Query executed successfully. 1 rows affected.\n",
      "INSERT into ret_cluster_result (job_id, tweet_id, cluster_no) values (2933, 1747332215783215505, 0)\n",
      "Query executed successfully. 1 rows affected.\n",
      "INSERT into ret_cluster_result (job_id, tweet_id, cluster_no) values (2933, 1747332191036878973, 0)\n"
     ]
    },
    {
     "name": "stdout",
     "output_type": "stream",
     "text": [
      "Query executed successfully. 1 rows affected.\n",
      "INSERT into ret_cluster_result (job_id, tweet_id, cluster_no) values (2933, 1747332188616687819, 0)\n",
      "Query executed successfully. 1 rows affected.\n",
      "INSERT into ret_cluster_result (job_id, tweet_id, cluster_no) values (2933, 1747332187387830458, 0)\n",
      "Query executed successfully. 1 rows affected.\n",
      "INSERT into ret_cluster_result (job_id, tweet_id, cluster_no) values (2933, 1747332186750201883, 0)\n",
      "Query executed successfully. 1 rows affected.\n",
      "INSERT into ret_cluster_result (job_id, tweet_id, cluster_no) values (2933, 1747332186142093322, 0)\n",
      "Query executed successfully. 1 rows affected.\n",
      "INSERT into ret_cluster_result (job_id, tweet_id, cluster_no) values (2933, 1747332183906476067, 0)\n",
      "Query executed successfully. 1 rows affected.\n",
      "INSERT into ret_cluster_result (job_id, tweet_id, cluster_no) values (2933, 1747332182807605254, 0)\n",
      "Query executed successfully. 1 rows affected.\n",
      "INSERT into ret_cluster_result (job_id, tweet_id, cluster_no) values (2933, 1747332181725471153, 0)\n",
      "Query executed successfully. 1 rows affected.\n",
      "INSERT into ret_cluster_result (job_id, tweet_id, cluster_no) values (2933, 1747332166932111517, 0)\n"
     ]
    },
    {
     "name": "stdout",
     "output_type": "stream",
     "text": [
      "Query executed successfully. 1 rows affected.\n",
      "INSERT into ret_cluster_result (job_id, tweet_id, cluster_no) values (2933, 1747332160523252125, 0)\n",
      "Query executed successfully. 1 rows affected.\n",
      "INSERT into ret_cluster_result (job_id, tweet_id, cluster_no) values (2933, 1747332152856129652, 0)\n",
      "Query executed successfully. 1 rows affected.\n",
      "INSERT into ret_cluster_result (job_id, tweet_id, cluster_no) values (2933, 1747332151652278527, 0)\n",
      "Query executed successfully. 1 rows affected.\n",
      "INSERT into ret_cluster_result (job_id, tweet_id, cluster_no) values (2933, 1747332144232571102, 0)\n",
      "Query executed successfully. 1 rows affected.\n",
      "INSERT into ret_cluster_result (job_id, tweet_id, cluster_no) values (2933, 1747332138272506350, 0)\n"
     ]
    },
    {
     "name": "stdout",
     "output_type": "stream",
     "text": [
      "Query executed successfully. 1 rows affected.\n",
      "INSERT into ret_cluster_result (job_id, tweet_id, cluster_no) values (2933, 1747332124473196939, 0)\n",
      "Query executed successfully. 1 rows affected.\n",
      "INSERT into ret_cluster_result (job_id, tweet_id, cluster_no) values (2933, 1747332124192248198, 0)\n",
      "Query executed successfully. 1 rows affected.\n",
      "INSERT into ret_cluster_result (job_id, tweet_id, cluster_no) values (2933, 1747332124183847269, 0)\n",
      "Query executed successfully. 1 rows affected.\n",
      "INSERT into ret_cluster_result (job_id, tweet_id, cluster_no) values (2933, 1747332115229007974, 0)\n",
      "Query executed successfully. 1 rows affected.\n",
      "INSERT into ret_cluster_result (job_id, tweet_id, cluster_no) values (2933, 1747332109310791790, 0)\n",
      "Query executed successfully. 1 rows affected.\n",
      "INSERT into ret_cluster_result (job_id, tweet_id, cluster_no) values (2933, 1747331825784205593, 11)\n",
      "Query executed successfully. 1 rows affected.\n",
      "INSERT into ret_cluster_result (job_id, tweet_id, cluster_no) values (2933, 1747331532648575106, 0)\n",
      "Query executed successfully. 1 rows affected.\n",
      "INSERT into ret_cluster_result (job_id, tweet_id, cluster_no) values (2933, 1747331486712504419, 0)\n",
      "Query executed successfully. 1 rows affected.\n",
      "INSERT into ret_cluster_result (job_id, tweet_id, cluster_no) values (2933, 1747330797139607897, 0)\n"
     ]
    },
    {
     "name": "stdout",
     "output_type": "stream",
     "text": [
      "Query executed successfully. 1 rows affected.\n",
      "INSERT into ret_cluster_result (job_id, tweet_id, cluster_no) values (2933, 1747330787077509215, 0)\n",
      "Query executed successfully. 1 rows affected.\n",
      "INSERT into ret_cluster_result (job_id, tweet_id, cluster_no) values (2933, 1747330780265947521, 0)\n",
      "Query executed successfully. 1 rows affected.\n",
      "INSERT into ret_cluster_result (job_id, tweet_id, cluster_no) values (2933, 1747330770551861302, 0)\n",
      "Query executed successfully. 1 rows affected.\n",
      "INSERT into ret_cluster_result (job_id, tweet_id, cluster_no) values (2933, 1747330764797256010, 0)\n",
      "Query executed successfully. 1 rows affected.\n",
      "INSERT into ret_cluster_result (job_id, tweet_id, cluster_no) values (2933, 1747330744438141360, 0)\n"
     ]
    },
    {
     "name": "stdout",
     "output_type": "stream",
     "text": [
      "Query executed successfully. 1 rows affected.\n",
      "INSERT into ret_cluster_result (job_id, tweet_id, cluster_no) values (2933, 1747330115250671699, 0)\n",
      "Query executed successfully. 1 rows affected.\n",
      "INSERT into ret_cluster_result (job_id, tweet_id, cluster_no) values (2933, 1747330087580828135, 0)\n",
      "Query executed successfully. 1 rows affected.\n",
      "INSERT into ret_cluster_result (job_id, tweet_id, cluster_no) values (2933, 1747330076776214919, 0)\n",
      "Query executed successfully. 1 rows affected.\n",
      "INSERT into ret_cluster_result (job_id, tweet_id, cluster_no) values (2933, 1747330075413053467, 0)\n",
      "Query executed successfully. 1 rows affected.\n",
      "INSERT into ret_cluster_result (job_id, tweet_id, cluster_no) values (2933, 1747330042810814934, 0)\n",
      "Query executed successfully. 1 rows affected.\n",
      "INSERT into ret_cluster_result (job_id, tweet_id, cluster_no) values (2933, 1747390236429369403, 0)\n",
      "Query executed successfully. 1 rows affected.\n",
      "INSERT into ret_cluster_result (job_id, tweet_id, cluster_no) values (2933, 1747330030710198573, 0)\n",
      "Query executed successfully. 1 rows affected.\n",
      "INSERT into ret_cluster_result (job_id, tweet_id, cluster_no) values (2933, 1747330012175532407, 0)\n",
      "Query executed successfully. 1 rows affected.\n",
      "INSERT into ret_cluster_result (job_id, tweet_id, cluster_no) values (2933, 1747329499778490429, 0)\n"
     ]
    },
    {
     "name": "stdout",
     "output_type": "stream",
     "text": [
      "Query executed successfully. 1 rows affected.\n",
      "INSERT into ret_cluster_result (job_id, tweet_id, cluster_no) values (2933, 1747329383533351340, 0)\n",
      "Query executed successfully. 1 rows affected.\n",
      "INSERT into ret_cluster_result (job_id, tweet_id, cluster_no) values (2933, 1747329377292136629, 0)\n",
      "Query executed successfully. 1 rows affected.\n",
      "INSERT into ret_cluster_result (job_id, tweet_id, cluster_no) values (2933, 1747329359843832237, 0)\n",
      "Query executed successfully. 1 rows affected.\n",
      "INSERT into ret_cluster_result (job_id, tweet_id, cluster_no) values (2933, 1747329356836556893, 0)\n",
      "Query executed successfully. 1 rows affected.\n",
      "INSERT into ret_cluster_result (job_id, tweet_id, cluster_no) values (2933, 1747329339774144831, 0)\n"
     ]
    },
    {
     "name": "stdout",
     "output_type": "stream",
     "text": [
      "Query executed successfully. 1 rows affected.\n",
      "INSERT into ret_cluster_result (job_id, tweet_id, cluster_no) values (2933, 1747437861920756039, 0)\n",
      "Query executed successfully. 1 rows affected.\n",
      "INSERT into ret_cluster_result (job_id, tweet_id, cluster_no) values (2933, 1747454313906270284, 0)\n",
      "Query executed successfully. 1 rows affected.\n",
      "INSERT into ret_cluster_result (job_id, tweet_id, cluster_no) values (2933, 1747454231291015251, 5)\n",
      "Query executed successfully. 1 rows affected.\n",
      "INSERT into ret_cluster_result (job_id, tweet_id, cluster_no) values (2933, 1747453885881713038, 0)\n",
      "Query executed successfully. 1 rows affected.\n",
      "INSERT into ret_cluster_result (job_id, tweet_id, cluster_no) values (2933, 1747228184662380840, 5)\n",
      "Query executed successfully. 1 rows affected.\n",
      "INSERT into ret_cluster_result (job_id, tweet_id, cluster_no) values (2933, 1747452167248810230, 8)\n",
      "Query executed successfully. 1 rows affected.\n",
      "INSERT into ret_cluster_result (job_id, tweet_id, cluster_no) values (2933, 1747178015556260119, 0)\n",
      "Query executed successfully. 1 rows affected.\n",
      "INSERT into ret_cluster_result (job_id, tweet_id, cluster_no) values (2933, 1747452481687437418, 0)\n"
     ]
    },
    {
     "name": "stdout",
     "output_type": "stream",
     "text": [
      "Query executed successfully. 1 rows affected.\n",
      "INSERT into ret_cluster_result (job_id, tweet_id, cluster_no) values (2933, 1747451160729100485, 0)\n",
      "Query executed successfully. 1 rows affected.\n",
      "INSERT into ret_cluster_result (job_id, tweet_id, cluster_no) values (2933, 1747052882657255631, 0)\n",
      "Query executed successfully. 1 rows affected.\n",
      "INSERT into ret_cluster_result (job_id, tweet_id, cluster_no) values (2933, 1747245184826663074, 5)\n",
      "Query executed successfully. 1 rows affected.\n",
      "INSERT into ret_cluster_result (job_id, tweet_id, cluster_no) values (2933, 1747449458949026194, 0)\n",
      "Query executed successfully. 1 rows affected.\n",
      "INSERT into ret_cluster_result (job_id, tweet_id, cluster_no) values (2933, 1747188649404555653, 5)\n",
      "Query executed successfully. 1 rows affected.\n",
      "INSERT into ret_cluster_result (job_id, tweet_id, cluster_no) values (2933, 1747448053794279713, 8)\n"
     ]
    },
    {
     "name": "stdout",
     "output_type": "stream",
     "text": [
      "Query executed successfully. 1 rows affected.\n",
      "INSERT into ret_cluster_result (job_id, tweet_id, cluster_no) values (2933, 1747052882657255631, 3)\n",
      "Query executed successfully. 1 rows affected.\n",
      "INSERT into ret_cluster_result (job_id, tweet_id, cluster_no) values (2933, 1747293558410002766, 3)\n",
      "Query executed successfully. 1 rows affected.\n"
     ]
    }
   ],
   "source": [
    "## saving result to table\n",
    "# jobid, tweet_id, cluster_no\n",
    "\n",
    "s_cluster_number = \"\"\n",
    "\n",
    "for index, row in save_df.iterrows():\n",
    "    if row['cluster_number'] == '':\n",
    "        s_cluster_number = \"NULL\"\n",
    "    else:\n",
    "        s_cluster_number = row['cluster_number']\n",
    "        \n",
    "    sql = \"INSERT into ret_cluster_result (job_id, tweet_id, cluster_no) values (%s, %s, %s)\" % (str(const_job_id), row['tweet_id'], s_cluster_number)\n",
    "    print(sql)\n",
    "    execute_query_psql(sql)\n",
    "    \n",
    "    "
   ]
  },
  {
   "cell_type": "code",
   "execution_count": 11,
   "id": "81f02c84-7b1a-44c5-9b1f-40a952c24729",
   "metadata": {
    "execution": {
     "iopub.execute_input": "2024-03-11T09:09:58.234862Z",
     "iopub.status.busy": "2024-03-11T09:09:58.234425Z",
     "iopub.status.idle": "2024-03-11T09:09:58.268495Z",
     "shell.execute_reply": "2024-03-11T09:09:58.267994Z"
    }
   },
   "outputs": [
    {
     "name": "stdout",
     "output_type": "stream",
     "text": [
      "Query executed successfully. 1 rows affected.\n",
      "Query executed successfully. 1 rows affected.\n"
     ]
    },
    {
     "data": {
      "text/plain": [
       "1"
      ]
     },
     "execution_count": 11,
     "metadata": {},
     "output_type": "execute_result"
    }
   ],
   "source": [
    "# closing .... report back job status into rdbms\n",
    "sql = \"update screen_analisis_ai set end_process = now(), status = 3, processby_id = 1 where id = %s\" % (str(const_job_id))\n",
    "execute_query_psql(sql)\n",
    "\n",
    "sql = \"update screen_analisis_ai set duration = EXTRACT(EPOCH FROM (end_process - start_process)) where id = \" + str(const_job_id)\n",
    "execute_query_psql(sql)"
   ]
  },
  {
   "cell_type": "code",
   "execution_count": 12,
   "id": "b46e4f75-0cb1-403d-bce5-355edb5f9879",
   "metadata": {
    "execution": {
     "iopub.execute_input": "2024-03-11T09:09:58.270833Z",
     "iopub.status.busy": "2024-03-11T09:09:58.270621Z",
     "iopub.status.idle": "2024-03-11T09:10:08.283645Z",
     "shell.execute_reply": "2024-03-11T09:10:08.282937Z"
    }
   },
   "outputs": [],
   "source": [
    "# wait 10 seconds before finished\n",
    "import time\n",
    "time.sleep(10)"
   ]
  }
 ],
 "metadata": {
  "kernelspec": {
   "display_name": "Python 3 (ipykernel)",
   "language": "python",
   "name": "python3"
  },
  "language_info": {
   "codemirror_mode": {
    "name": "ipython",
    "version": 3
   },
   "file_extension": ".py",
   "mimetype": "text/x-python",
   "name": "python",
   "nbconvert_exporter": "python",
   "pygments_lexer": "ipython3",
   "version": "3.8.10"
  }
 },
 "nbformat": 4,
 "nbformat_minor": 5
}
