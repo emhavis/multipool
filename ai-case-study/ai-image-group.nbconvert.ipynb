{
 "cells": [
  {
   "cell_type": "markdown",
   "id": "77be3745-de0f-4f27-a7ce-f0b3839d647f",
   "metadata": {
    "editable": true,
    "slideshow": {
     "slide_type": ""
    },
    "tags": []
   },
   "source": [
    "1. get sample image\n",
    "2. download image\n",
    "3. perform imnage grouping\n",
    "4. inspect result\n",
    "\n",
    "Next items to do, prepare and package as jobs\n",
    "1. create auto-query\n",
    "2. create sql to store result\n",
    "3. export to executable py\n",
    "\n",
    "\n",
    "# Plot sse against k\n",
    "plt.figure(figsize=(6, 6))\n",
    "plt.plot(list_k, sse)\n",
    "plt.xlabel(r'Number of clusters *k*')\n",
    "plt.ylabel('Sum of squared distance');\n",
    "\n",
    "# prepare data for saving to rdbms\n",
    "# print(clus_new)\n",
    "# i = 0 \n",
    "result_cluster = []\n",
    "\n",
    "for item in clus_new:\n",
    "    # print(clus_new[item])\n",
    "    print(len(clus_new[item]))\n",
    "    for file in clus_new[item]:\n",
    "        # print(file, item)\n",
    "        result_cluster.append(file)\n",
    "    # i = i + 1\n",
    "\n",
    "# view_cluster_2(0)\n",
    "len(clus_new)\n",
    "len(result_cluster)\n",
    "\n",
    "\n",
    " * Kesepakatan status di kolom screen_analisis_ai.status\n",
    " * 1 --> baru diinput\n",
    " * 2 --> lagi dikerjakan\n",
    " * 3 --> proses berhasil\n",
    " * 4 --> proses gagal\n",
    " *\n",
    " \n",
    " * Kesepakatan jenis analisa AI\n",
    " * 1 --> Analisa Cluster\n",
    " * 2 --> Analisa image clustering\n",
    " * 3 --> Analisa sentiment\n"
   ]
  },
  {
   "cell_type": "code",
   "execution_count": 1,
   "id": "ff0951b4-bdc4-4c7a-9846-016d02539805",
   "metadata": {
    "execution": {
     "iopub.execute_input": "2024-05-23T17:16:05.971452Z",
     "iopub.status.busy": "2024-05-23T17:16:05.970907Z",
     "iopub.status.idle": "2024-05-23T17:16:11.244761Z",
     "shell.execute_reply": "2024-05-23T17:16:11.243374Z"
    }
   },
   "outputs": [
    {
     "name": "stderr",
     "output_type": "stream",
     "text": [
      "2024-05-23 17:16:06.453645: I tensorflow/core/util/port.cc:110] oneDNN custom operations are on. You may see slightly different numerical results due to floating-point round-off errors from different computation orders. To turn them off, set the environment variable `TF_ENABLE_ONEDNN_OPTS=0`.\n",
      "2024-05-23 17:16:06.457599: I tensorflow/tsl/cuda/cudart_stub.cc:28] Could not find cuda drivers on your machine, GPU will not be used.\n",
      "2024-05-23 17:16:06.545970: I tensorflow/tsl/cuda/cudart_stub.cc:28] Could not find cuda drivers on your machine, GPU will not be used.\n",
      "2024-05-23 17:16:06.546908: I tensorflow/core/platform/cpu_feature_guard.cc:182] This TensorFlow binary is optimized to use available CPU instructions in performance-critical operations.\n",
      "To enable the following instructions: AVX2 AVX512F AVX512_VNNI FMA, in other operations, rebuild TensorFlow with the appropriate compiler flags.\n"
     ]
    },
    {
     "name": "stderr",
     "output_type": "stream",
     "text": [
      "2024-05-23 17:16:08.128109: W tensorflow/compiler/tf2tensorrt/utils/py_utils.cc:38] TF-TRT Warning: Could not find TensorRT\n"
     ]
    }
   ],
   "source": [
    "# for loading/processing the images  \n",
    "from keras.preprocessing.image import load_img \n",
    "from keras.preprocessing.image import img_to_array \n",
    "from keras.applications.vgg16 import preprocess_input \n",
    "from sklearn.metrics.pairwise import cosine_similarity\n",
    "\n",
    "# models \n",
    "from keras.applications.vgg16 import VGG16 \n",
    "from keras.models import Model\n",
    "\n",
    "# clustering and dimension reduction\n",
    "from sklearn.cluster import KMeans\n",
    "from sklearn.decomposition import PCA\n",
    "\n",
    "# for everything else\n",
    "import os\n",
    "import numpy as np\n",
    "import matplotlib.pyplot as plt\n",
    "from random import randint\n",
    "import pandas as pd\n",
    "import pickle\n",
    "import requests\n",
    "from pathlib import Path\n",
    "from sqlalchemy import create_engine\n",
    "from sqlalchemy.exc import SQLAlchemyError\n",
    "from PIL import Image\n",
    "from io import BytesIO\n",
    "from urllib.parse import urlparse"
   ]
  },
  {
   "cell_type": "code",
   "execution_count": 2,
   "id": "51bdb754-c427-4732-8940-d82b64678866",
   "metadata": {
    "editable": true,
    "execution": {
     "iopub.execute_input": "2024-05-23T17:16:11.252897Z",
     "iopub.status.busy": "2024-05-23T17:16:11.252192Z",
     "iopub.status.idle": "2024-05-23T17:16:11.611371Z",
     "shell.execute_reply": "2024-05-23T17:16:11.609693Z"
    },
    "slideshow": {
     "slide_type": ""
    },
    "tags": []
   },
   "outputs": [],
   "source": [
    "def resize_and_upload_image(url, save_folder):\n",
    "    try:\n",
    "        # Fetch the image from the URL\n",
    "        response = requests.get(url)\n",
    "        response.raise_for_status()\n",
    "\n",
    "        # Open the image from the response content\n",
    "        image = Image.open(BytesIO(response.content))\n",
    "\n",
    "        # Check the image size in bytes\n",
    "        image_size = len(response.content)\n",
    "\n",
    "        # Set the maximum allowed size in bytes (200KB)\n",
    "        max_size = 200 * 1024\n",
    "\n",
    "        # Extract the base path from the URL for saving the images\n",
    "        parsed_url = urlparse(url)\n",
    "        base_path = os.path.basename(parsed_url.path)\n",
    "\n",
    "        # Determine the paths for saving the images\n",
    "        original_image_path = os.path.join(save_folder, 'original_' + base_path)\n",
    "        resized_image_path = os.path.join(save_folder, 'resized_' + base_path)\n",
    "\n",
    "        # If the image size exceeds the maximum allowed size, resize it\n",
    "        if image_size > max_size:\n",
    "            print('more than 200kb')\n",
    "            print(original_image_path)\n",
    "            print(resized_image_path)\n",
    "            \n",
    "            # Calculate the scaling factor to reduce the image size\n",
    "            scale_factor = (max_size / image_size) ** 0.5\n",
    "            new_width = int(image.width * scale_factor)\n",
    "            new_height = int(image.height * scale_factor)\n",
    "\n",
    "            # Resize the image\n",
    "            resized_image = image.resize((new_width, new_height), Image.ANTIALIAS)\n",
    "\n",
    "            # Save the resized image to the local folder\n",
    "            resized_image.save(resized_image_path, format=\"JPEG\")\n",
    "\n",
    "            # Reupload the resized image to the original location\n",
    "            with open(resized_image_path, 'rb') as resized_file:\n",
    "                reupload_url = url  # Use the original URL for reupload\n",
    "                print(url)\n",
    "                files = {'file': ('resized_' + base_path, resized_file)}\n",
    "                reupload_response = requests.post(reupload_url, files=files)\n",
    "                print(reupload_response)\n",
    "\n",
    "            # Delete the original image in the local folder\n",
    "            os.remove(original_image_path)\n",
    "\n",
    "        else:\n",
    "            # Image is smaller than 200KB, no need to resize or reupload\n",
    "            resized_image_path = original_image_path\n",
    "\n",
    "        return original_image_path, resized_image_path\n",
    "\n",
    "    except Exception as e:\n",
    "        # Handle errors such as invalid URLs or image processing issues\n",
    "        return str(e)\n",
    "\n",
    "# Example usage:\n",
    "# imageURL = \"https://example.com/path/to/your/image.jpg\"\n",
    "# save_folder = \"path/to/your/local/folder\"\n",
    "# original_image_path, resized_image_path = resize_and_upload_image(imageURL, save_folder)\n",
    "# Both original_image_path and resized_image_path will contain the file paths in the local folder.\n",
    "\n",
    "def download_image(url, folder_path):\n",
    "    try:\n",
    "        # Send an HTTP GET request to the URL\n",
    "        response = requests.get(url)\n",
    "\n",
    "        # Check if the request was successful (status code 200)\n",
    "        if response.status_code == 200:\n",
    "            # Extract the filename from the URL\n",
    "            filename = os.path.join(folder_path, os.path.basename(url))\n",
    "\n",
    "            # Save the image to the specified folder location\n",
    "            with open(filename, 'wb') as file:\n",
    "                file.write(response.content)\n",
    "            file_size_bytes = os.path.getsize(filename)\n",
    "            file_size_kb = file_size_bytes / 1024\n",
    "\n",
    "            if file_size_kb >= 200:\n",
    "                print(\"Resizing...\")\n",
    "                resize_and_upload_image(filename,url)\n",
    "            # print(f\"Image downloaded and saved as {filename}\")\n",
    "        else:\n",
    "            print(f\"Failed to download image. Status code: {response.status_code}\")\n",
    "\n",
    "    except Exception as e:\n",
    "        print(f\"Error: {str(e)}\")\n",
    "\n",
    "def resize_and_upload_image(file_path, upload_url, target_size_kb=200):\n",
    "    try:\n",
    "        # Open the image from the file\n",
    "        with Image.open(file_path) as image:\n",
    "            # Calculate the target size in bytes\n",
    "            target_size_bytes = target_size_kb * 1024\n",
    "\n",
    "            # Initialize the quality variable\n",
    "            quality = 95\n",
    "\n",
    "            while os.path.getsize(file_path) > target_size_bytes:\n",
    "                # Resize the image while keeping the quality constant\n",
    "                width, height = image.size\n",
    "                new_width = int(width * 0.9)\n",
    "                new_height = int(height * 0.9)\n",
    "\n",
    "                # Ensure the dimensions are at least 1\n",
    "                new_width = max(1, new_width)\n",
    "                new_height = max(1, new_height)\n",
    "\n",
    "                image = image.resize((new_width, new_height), Image.LANCZOS)\n",
    "\n",
    "                # Save the resized image to the same file\n",
    "                image.save(file_path, \"JPEG\", quality=quality)\n",
    "\n",
    "            if os.path.getsize(file_path) <= target_size_bytes:\n",
    "                print(f\"Image resized and overwritten at: {file_path}\")\n",
    "\n",
    "                # Upload the resized image to the given URL\n",
    "                with open(file_path, 'rb') as file:\n",
    "                    response = requests.post(upload_url, files={'file': (os.path.basename(file_path), file)})\n",
    "\n",
    "                if response.status_code == 200:\n",
    "                    print(f\"Image uploaded to {upload_url}\")\n",
    "                else:\n",
    "                    print(f\"Upload failed with status code {response.status_code}\")\n",
    "            else:\n",
    "                print(f\"Image not resized, not uploaded.\")\n",
    "                \n",
    "    except Exception as e:\n",
    "        print(f\"Error: {e}\")\n",
    "\n",
    "## query functions\n",
    "\n",
    "\n",
    "import pandas as pd\n",
    "from sqlalchemy import create_engine, Column, Integer, String, MetaData, Table\n",
    "from sqlalchemy.orm import sessionmaker\n",
    "from sqlalchemy.exc import SQLAlchemyError\n",
    "from sqlalchemy.util import deprecations\n",
    "from sqlalchemy.sql import text\n",
    "deprecations.SILENCE_UBER_WARNING = True\n",
    "\n",
    "def execute_query_psql(query, params=None):\n",
    "    # Set your PostgreSQL connection parameters\n",
    "    db_params = {\n",
    "        'host': '98.98.117.105',\n",
    "        'port': '5432',\n",
    "        'database': 'medols',\n",
    "        'user': 'postgres',\n",
    "        'password': 'FEWcTB3JIX5gK4T06c1MdkM9N2S8w9pb',\n",
    "    }\n",
    "\n",
    "    # Create a SQLAlchemy engine\n",
    "    engine = create_engine(f\"postgresql+psycopg2://{db_params['user']}:{db_params['password']}@{db_params['host']}:{db_params['port']}/{db_params['database']}\")\n",
    "\n",
    "    # Create a metadata object\n",
    "    metadata = MetaData()\n",
    "\n",
    "    # Create a session\n",
    "    Session = sessionmaker(bind=engine)\n",
    "    session = Session()\n",
    "\n",
    "    try:\n",
    "        # Execute the query with optional parameters\n",
    "        result = session.execute(text(query), params)\n",
    "\n",
    "        # Check if the query is a SELECT query\n",
    "        is_select_query = result.returns_rows\n",
    "\n",
    "        if is_select_query:\n",
    "            # Fetch the data and return as a Pandas DataFrame\n",
    "            columns = result.keys()\n",
    "            fetched_data = result.fetchall()\n",
    "            df = pd.DataFrame(fetched_data, columns=columns)\n",
    "            # print(\"Fetched Data as DataFrame:\")\n",
    "            # print(df)\n",
    "            return df\n",
    "        else:\n",
    "            # Get the number of rows affected for non-SELECT queries\n",
    "            rows_affected = result.rowcount\n",
    "\n",
    "            # Commit the changes to the database for non-SELECT queries\n",
    "            session.commit()\n",
    "\n",
    "            print(f\"Query executed successfully. {rows_affected} rows affected.\")\n",
    "            return rows_affected\n",
    "    except Exception as e:\n",
    "        # Rollback changes if there's an error\n",
    "        session.rollback()\n",
    "        print(f\"Error executing query: {e}\")\n",
    "    finally:\n",
    "        # Close the session\n",
    "        session.close()\n",
    "\n",
    "def clear_image():\n",
    "    folder_path = '/home/jup_user/multipool/ai-case-study/img'\n",
    "    # Create a Path object for the folder\n",
    "    folder = Path(folder_path)\n",
    "    \n",
    "    # Iterate through the files in the folder and delete them\n",
    "    for file in folder.iterdir():\n",
    "        try:\n",
    "            if file.is_file():\n",
    "                file.unlink()\n",
    "                # print(f\"Deleted {file}\")\n",
    "            else:\n",
    "                print(f\"{file} is not a file.\")\n",
    "        except Exception as e:\n",
    "            print(f\"Error deleting {file}: {str(e)}\")\n",
    "\n",
    "# extracting feature from image files\n",
    "def extract_features(file, model):\n",
    "    # load the image as a 224x224 array\n",
    "    img = load_img(file, target_size=(224,224))\n",
    "    # convert from 'PIL.Image.Image' to numpy array\n",
    "    img = np.array(img) \n",
    "    # reshape the data for the model reshape(num_of_samples, dim 1, dim 2, channels)\n",
    "    reshaped_img = img.reshape(1,224,224,3) \n",
    "    # prepare image for model\n",
    "    imgx = preprocess_input(reshaped_img)\n",
    "    # get the feature vector\n",
    "    features = model.predict(imgx, use_multiprocessing=True)\n",
    "    return features\n",
    "\n",
    "# function that lets you view a cluster (based on identifier)        \n",
    "def view_cluster(cluster):\n",
    "    plt.figure(figsize = (25,25));\n",
    "    # gets the list of filenames for a cluster\n",
    "    files = groups[cluster]\n",
    "    # only allow up to 30 images to be shown at a time\n",
    "    if len(files) > 30:\n",
    "        print(f\"Clipping cluster size from {len(files)} to 30\")\n",
    "        files = files[:29]\n",
    "    # plot each image in the cluster\n",
    "    for index, file in enumerate(files):\n",
    "        plt.subplot(10,10,index+1);\n",
    "        img = load_img(file)\n",
    "        img = np.array(img)\n",
    "        plt.imshow(img)\n",
    "        plt.axis('off')"
   ]
  },
  {
   "cell_type": "code",
   "execution_count": 3,
   "id": "06e7431f-bef6-42e7-a49e-27ebcf66c2cd",
   "metadata": {
    "execution": {
     "iopub.execute_input": "2024-05-23T17:16:11.618520Z",
     "iopub.status.busy": "2024-05-23T17:16:11.618025Z",
     "iopub.status.idle": "2024-05-23T17:16:11.726620Z",
     "shell.execute_reply": "2024-05-23T17:16:11.723570Z"
    }
   },
   "outputs": [
    {
     "name": "stdout",
     "output_type": "stream",
     "text": [
      "iJobID: 87619\n",
      "const_job_id: 3891\n",
      "const_parameter: None\n"
     ]
    }
   ],
   "source": [
    "#\n",
    "# Get jobsid from queue table\n",
    "# \n",
    "iJobID = 0\n",
    "sql = \"\"\"\n",
    "select \ta.id, a.hastag, a.parameter\n",
    "from \tscreen_analisis_ai a inner join ret_available_db b \n",
    "\t\ton a.hastag = b.db_id \n",
    "where \ta.active = 1\n",
    "\t\tand a.status = 1\n",
    "\t\tand a.jenis_analisa = '2'\n",
    "order by b.since desc limit 1\n",
    "\"\"\"\n",
    "\n",
    "df_res = execute_query_psql(sql)\n",
    "\n",
    "# check job availability\n",
    "if(len(df_res)) == 0:\n",
    "    # get out, nothing to do\n",
    "    print('Zero jobs, quitting now')\n",
    "    quit()\n",
    "\n",
    "df_res.head()\n",
    "iJobID = df_res['hastag'][0]\n",
    "const_job_id = df_res['id'][0]\n",
    "const_parameter = df_res['parameter'][0]\n",
    "\n",
    "print('iJobID: ' + str(iJobID))\n",
    "print('const_job_id: ' + str(const_job_id))\n",
    "print('const_parameter: ' + str(const_parameter))\n"
   ]
  },
  {
   "cell_type": "code",
   "execution_count": 4,
   "id": "4f216f10-c9cf-45c4-8a41-3ab3245d8c5a",
   "metadata": {
    "execution": {
     "iopub.execute_input": "2024-05-23T17:16:11.738222Z",
     "iopub.status.busy": "2024-05-23T17:16:11.737824Z",
     "iopub.status.idle": "2024-05-23T17:16:11.842703Z",
     "shell.execute_reply": "2024-05-23T17:16:11.841617Z"
    }
   },
   "outputs": [
    {
     "name": "stdout",
     "output_type": "stream",
     "text": [
      "update screen_analisis_ai set status = 2, last_status_update = now(), start_process = now() where id = '3891';\n",
      "Query executed successfully. 1 rows affected.\n",
      "Query executed successfully. 1 rows affected.\n"
     ]
    },
    {
     "data": {
      "text/plain": [
       "1"
      ]
     },
     "execution_count": 4,
     "metadata": {},
     "output_type": "execute_result"
    }
   ],
   "source": [
    "## report to dbms that we are working on this row\n",
    "sql = \"\"\n",
    "sql = \"update screen_analisis_ai set status = 2, last_status_update = now(), start_process = now() where id = '\" + str(const_job_id) + \"';\"\n",
    "print(sql)\n",
    "# execute\n",
    "# execute_sqlalchemy_transaction(sql)\n",
    "execute_query_psql(sql)\n",
    "#\n",
    "# Create Header Record\n",
    "sql = \"insert into ret_analysis_header (job_id, datetime_start, user_id) values (%s, now(), %s)\" % (const_job_id,\"1\")\n",
    "# Execute the query\n",
    "execute_query_psql(sql)\n"
   ]
  },
  {
   "cell_type": "code",
   "execution_count": 5,
   "id": "b14cc5e6-bd16-4a40-b585-478eeea0e8c9",
   "metadata": {
    "collapsed": true,
    "execution": {
     "iopub.execute_input": "2024-05-23T17:16:11.849689Z",
     "iopub.status.busy": "2024-05-23T17:16:11.848547Z",
     "iopub.status.idle": "2024-05-23T17:16:14.248078Z",
     "shell.execute_reply": "2024-05-23T17:16:14.245217Z"
    },
    "jupyter": {
     "outputs_hidden": true
    },
    "scrolled": true
   },
   "outputs": [
    {
     "name": "stdout",
     "output_type": "stream",
     "text": [
      "\n",
      "select a.id, a.db_id, c.tweet_id, c.filename\n",
      "from ret_available_db a inner join ret_tweet b on a.db_id = b.db_id\n",
      "inner join media_files c on b.id = c.tweet_id\n",
      "where \ta.db_id = 87619\n",
      "\n"
     ]
    },
    {
     "name": "stdout",
     "output_type": "stream",
     "text": [
      "http://98.98.117.121:8082/api/media/photo/download/twitter/GOPxOKGWMAAC5CY.jpg\n",
      "http://98.98.117.121:8082/api/media/photo/download/twitter/GOPxNVsXsAA3xhU.jpg\n",
      "http://98.98.117.121:8082/api/media/photo/download/twitter/GOPxJxVXEAABHsV.jpg\n",
      "http://98.98.117.121:8082/api/media/photo/download/twitter/GOPw-b6WEAAQrux.jpg\n",
      "http://98.98.117.121:8082/api/media/photo/download/twitter/GOPuthHWkAAKQab.jpg\n",
      "http://98.98.117.121:8082/api/media/photo/download/twitter/GNpHlriW0AAkqvo.jpg\n",
      "http://98.98.117.121:8082/api/media/photo/download/twitter/GOKoqOUXwAAzGk2.jpg\n",
      "http://98.98.117.121:8082/api/media/photo/download/twitter/GONCc-8b0AAAk7v.jpg\n",
      "http://98.98.117.121:8082/api/media/photo/download/twitter/GOPw62sWEAAFs3g.jpg\n",
      "http://98.98.117.121:8082/api/media/photo/download/twitter/GOPwuNbXMAEewfe.jpg\n",
      "http://98.98.117.121:8082/api/media/photo/download/twitter/GOGTt9abEAE8cHI.jpg\n",
      "http://98.98.117.121:8082/api/media/photo/download/twitter/GOPwoDzacAEo2xS.jpg\n",
      "http://98.98.117.121:8082/api/media/photo/download/twitter/GOPweXpXMAEdXBb.png\n",
      "http://98.98.117.121:8082/api/media/photo/download/twitter/GOL7mifW0AAKNW5.jpg\n",
      "http://98.98.117.121:8082/api/media/photo/download/twitter/GOPwhKXWcAAmSk-.jpg\n",
      "http://98.98.117.121:8082/api/media/photo/download/twitter/GOPwejWXcAAFCBH.jpg\n",
      "http://98.98.117.121:8082/api/media/photo/download/twitter/GOPwKVqXIAALj-x.png\n",
      "http://98.98.117.121:8082/api/media/photo/download/twitter/GONsjPSbQAA8Tg2.jpg\n"
     ]
    },
    {
     "name": "stdout",
     "output_type": "stream",
     "text": [
      "http://98.98.117.121:8082/api/media/photo/download/twitter/GOPwP-ZWYAA2v21.jpg\n",
      "http://98.98.117.121:8082/api/media/photo/download/twitter/GOPwM6na4AEAiap.jpg\n",
      "http://98.98.117.121:8082/api/media/photo/download/twitter/GOPuQguWoAAzwYo.jpg\n",
      "http://98.98.117.121:8082/api/media/photo/download/twitter/GOPwLw7XIAAQGVO.jpg\n",
      "http://98.98.117.121:8082/api/media/photo/download/twitter/GOPwLYxWUAArWjH.jpg\n",
      "http://98.98.117.121:8082/api/media/photo/download/twitter/GOPwKAnbUAAyutr.jpg\n",
      "http://98.98.117.121:8082/api/media/photo/download/twitter/GOMXl2tWUAAZc8i.jpg\n",
      "http://98.98.117.121:8082/api/media/photo/download/twitter/GOPu21vbwAEyzBW.jpg\n",
      "http://98.98.117.121:8082/api/media/photo/download/twitter/GOK4iBMXoAAYEEo.jpg\n",
      "http://98.98.117.121:8082/api/media/photo/download/twitter/GOM198-b0AEwwQb.jpg\n",
      "http://98.98.117.121:8082/api/media/photo/download/twitter/GOPvjrmXEAATr1P.jpg\n",
      "http://98.98.117.121:8082/api/media/photo/download/twitter/GOPvTQ8W4AAvkZ5.png\n",
      "http://98.98.117.121:8082/api/media/photo/download/twitter/GOHjrRMWMAAU4Hm.jpg\n",
      "http://98.98.117.121:8082/api/media/photo/download/twitter/GOPvfkPXgAA4mgY.jpg\n",
      "http://98.98.117.121:8082/api/media/photo/download/twitter/GOPvbdLawAA6Xll.jpg\n",
      "http://98.98.117.121:8082/api/media/photo/download/twitter/GONYVK0aYAA_bp4.jpg\n",
      "http://98.98.117.121:8082/api/media/photo/download/twitter/GOPvPYpa8AEvW75.jpg\n",
      "http://98.98.117.121:8082/api/media/photo/download/twitter/GOPvDKKbAAAknLc.jpg\n",
      "http://98.98.117.121:8082/api/media/photo/download/twitter/GOPvApybMAAZBOh.jpg\n"
     ]
    },
    {
     "name": "stdout",
     "output_type": "stream",
     "text": [
      "http://98.98.117.121:8082/api/media/photo/download/twitter/GOPu-dIWEAAGaRT.jpg\n",
      "http://98.98.117.121:8082/api/media/photo/download/twitter/GOPu6u9WwAAU9y_.jpg\n",
      "http://98.98.117.121:8082/api/media/photo/download/twitter/GOL9ctBWUAAx9xs.jpg\n",
      "http://98.98.117.121:8082/api/media/photo/download/twitter/GOPt5oQXcAAnN1e.jpg\n",
      "http://98.98.117.121:8082/api/media/photo/download/twitter/GOOMsYgbUAAGuHC.jpg\n",
      "http://98.98.117.121:8082/api/media/photo/download/twitter/GOPupDSacAABWWz.jpg\n",
      "http://98.98.117.121:8082/api/media/photo/download/twitter/GOPunHGXsAE4iAw.jpg\n",
      "http://98.98.117.121:8082/api/media/photo/download/twitter/GOPum-5aAAAznFH.jpg\n",
      "http://98.98.117.121:8082/api/media/photo/download/twitter/GOMTgJNXQAE_f8o.jpg\n",
      "http://98.98.117.121:8082/api/media/photo/download/twitter/GONHrgIa0AAOvbt.jpg\n",
      "http://98.98.117.121:8082/api/media/photo/download/twitter/GOPtoEiWUAEbYCY.png\n",
      "http://98.98.117.121:8082/api/media/photo/download/twitter/GOPs64iXEAA5bHY.png\n",
      "http://98.98.117.121:8082/api/media/photo/download/twitter/GOPuO1RWsAAF-w2.jpg\n",
      "http://98.98.117.121:8082/api/media/photo/download/twitter/GOPuE9bXgAAntoz.jpg\n",
      "http://98.98.117.121:8082/api/media/photo/download/twitter/GOPuEjOXEAAW_zx.jpg\n",
      "http://98.98.117.121:8082/api/media/photo/download/twitter/GOPscuRawAAy8z3.jpg\n",
      "http://98.98.117.121:8082/api/media/photo/download/twitter/GOPcdQEbcAEHptU.jpg\n",
      "http://98.98.117.121:8082/api/media/photo/download/twitter/GOIFC3BW0AE-hHx.jpg\n",
      "http://98.98.117.121:8082/api/media/photo/download/twitter/GONAvJfb0AMPIBf.jpg\n"
     ]
    },
    {
     "name": "stdout",
     "output_type": "stream",
     "text": [
      "http://98.98.117.121:8082/api/media/photo/download/twitter/GOPtta1bYAAX4p6.jpg\n",
      "http://98.98.117.121:8082/api/media/photo/download/twitter/GOPA8E_WIAA31A5.jpg\n",
      "http://98.98.117.121:8082/api/media/photo/download/twitter/GOPtB8NWAAEWm9E.jpg\n",
      "http://98.98.117.121:8082/api/media/photo/download/twitter/GOPtIgTXMAAr3cB.jpg\n",
      "http://98.98.117.121:8082/api/media/photo/download/twitter/GONCRqlaUAEN2IH.jpg\n",
      "http://98.98.117.121:8082/api/media/photo/download/twitter/GOPtP_CWIAAOkOA.jpg\n",
      "http://98.98.117.121:8082/api/media/photo/download/twitter/GOPtIQ0XYAAPWGm.jpg\n",
      "http://98.98.117.121:8082/api/media/photo/download/twitter/GOPtJPSWoAAoU6a.jpg\n",
      "http://98.98.117.121:8082/api/media/photo/download/twitter/GOPsyYVaEAAA1Tx.jpg\n",
      "http://98.98.117.121:8082/api/media/photo/download/twitter/GOMtEL5XkAA5w_d.jpg\n",
      "http://98.98.117.121:8082/api/media/photo/download/twitter/GOPs-RXW0AAu5L7.jpg\n",
      "http://98.98.117.121:8082/api/media/photo/download/twitter/GOPsy7LXwAAjOAh.jpg\n",
      "http://98.98.117.121:8082/api/media/photo/download/twitter/GOPswL6WAAAwRIF.jpg\n",
      "http://98.98.117.121:8082/api/media/photo/download/twitter/GOPsvF1XIAAJoQi.jpg\n",
      "http://98.98.117.121:8082/api/media/photo/download/twitter/GOPsrOzbEAA1nbj.jpg\n",
      "http://98.98.117.121:8082/api/media/photo/download/twitter/GOPp4hXaAAAxyvl.jpg\n",
      "http://98.98.117.121:8082/api/media/photo/download/twitter/GOPsjPvXcAAkMYM.jpg\n",
      "http://98.98.117.121:8082/api/media/photo/download/twitter/GOPpRDOWQAAzt2u.jpg\n",
      "http://98.98.117.121:8082/api/media/photo/download/twitter/GOPsdejWMAAu7Dt.jpg\n",
      "http://98.98.117.121:8082/api/media/photo/download/twitter/GOPsYS3bEAEObOM.png\n",
      "http://98.98.117.121:8082/api/media/photo/download/twitter/GODq6JPbUAAZ5hQ.jpg\n"
     ]
    },
    {
     "name": "stdout",
     "output_type": "stream",
     "text": [
      "http://98.98.117.121:8082/api/media/photo/download/twitter/GOPr9gcWYAAHhmi.jpg\n",
      "http://98.98.117.121:8082/api/media/photo/download/twitter/GOPsIDfbgAAzOEQ.jpg\n",
      "http://98.98.117.121:8082/api/media/photo/download/twitter/GOPqqCxXQAEsTsV.jpg\n",
      "http://98.98.117.121:8082/api/media/photo/download/twitter/GOPsGd8WgAEgb5g.jpg\n",
      "http://98.98.117.121:8082/api/media/photo/download/twitter/GOPsAlsXcAA8Sd-.jpg\n",
      "http://98.98.117.121:8082/api/media/photo/download/twitter/GOPqAOfWMAA2YLp.jpg\n",
      "http://98.98.117.121:8082/api/media/photo/download/twitter/GOPrzQbXUAA2HKN.jpg\n",
      "http://98.98.117.121:8082/api/media/photo/download/twitter/GOPrkBZbIAEAsuR.png\n",
      "http://98.98.117.121:8082/api/media/photo/download/twitter/GOPriDlW0AAdvhJ.jpg\n",
      "http://98.98.117.121:8082/api/media/photo/download/twitter/GOMNrhIWEAAHUez.jpg\n",
      "http://98.98.117.121:8082/api/media/photo/download/twitter/GOPrXlsa8AAVLxV.png\n",
      "http://98.98.117.121:8082/api/media/photo/download/twitter/GOMgDw6WAAEf8fz.jpg\n",
      "http://98.98.117.121:8082/api/media/photo/download/twitter/GOPrMHpaMAE3e5y.jpg\n",
      "http://98.98.117.121:8082/api/media/photo/download/twitter/GOPrKQ7XYAAxlJd.jpg\n",
      "http://98.98.117.121:8082/api/media/photo/download/twitter/GOPrInQbcAECUmj.jpg\n",
      "http://98.98.117.121:8082/api/media/photo/download/twitter/GOPrEG5XIAAzw8H.jpg\n",
      "http://98.98.117.121:8082/api/media/photo/download/twitter/GOPrDk4WEAAexGB.jpg\n",
      "http://98.98.117.121:8082/api/media/photo/download/twitter/GOPrBN4WEAAo11b.jpg\n",
      "http://98.98.117.121:8082/api/media/photo/download/twitter/GOM_nhsWAAASp11.png\n",
      "http://98.98.117.121:8082/api/media/photo/download/twitter/GOPq4pPboAEjvHj.jpg\n"
     ]
    },
    {
     "name": "stdout",
     "output_type": "stream",
     "text": [
      "http://98.98.117.121:8082/api/media/photo/download/twitter/GOPqyPmXkAAUESt.jpg\n",
      "http://98.98.117.121:8082/api/media/photo/download/twitter/GOFvJY8XsAAquSh.jpg\n",
      "http://98.98.117.121:8082/api/media/photo/download/twitter/GOPqlr4XUAAHSRO.jpg\n",
      "http://98.98.117.121:8082/api/media/photo/download/twitter/GOPqGrzakAALRoR.png\n",
      "http://98.98.117.121:8082/api/media/photo/download/twitter/GOPqFbwWYAAi2Mb.png\n",
      "http://98.98.117.121:8082/api/media/photo/download/twitter/GOPqLnLXYAAfSwg.jpg\n",
      "http://98.98.117.121:8082/api/media/photo/download/twitter/GOO7TMRWUAAf-AZ.jpg\n",
      "http://98.98.117.121:8082/api/media/photo/download/twitter/GOMDWEoXMAAOwhj.png\n",
      "http://98.98.117.121:8082/api/media/photo/download/twitter/GONVmz9aMAAisrF.jpg\n",
      "http://98.98.117.121:8082/api/media/photo/download/twitter/GOPpkmoacAAH0X-.jpg\n",
      "http://98.98.117.121:8082/api/media/photo/download/twitter/GOPpxWUWUAA0Uj6.jpg\n",
      "http://98.98.117.121:8082/api/media/photo/download/twitter/GOPS4q1XoAApwmi.jpg\n",
      "http://98.98.117.121:8082/api/media/photo/download/twitter/GOPpkaoWEAA4XBe.jpg\n",
      "http://98.98.117.121:8082/api/media/photo/download/twitter/GOPpY_qXsAAzlo2.jpg\n",
      "http://98.98.117.121:8082/api/media/photo/download/twitter/GOPpak4WAAAEkZ1.jpg\n",
      "http://98.98.117.121:8082/api/media/photo/download/twitter/GOPpZXFW4AAKP7l.jpg\n",
      "http://98.98.117.121:8082/api/media/photo/download/twitter/GOPpVdabgAIwTJT.jpg\n",
      "http://98.98.117.121:8082/api/media/photo/download/twitter/GOPpTzbXIAA96hl.jpg\n",
      "http://98.98.117.121:8082/api/media/photo/download/twitter/GOPpM_ZXwAAhJQ7.jpg\n"
     ]
    },
    {
     "name": "stdout",
     "output_type": "stream",
     "text": [
      "http://98.98.117.121:8082/api/media/photo/download/twitter/GOPpLwOaAAAGkix.jpg\n",
      "http://98.98.117.121:8082/api/media/photo/download/twitter/GOPo7hwaoAArtPx.jpg\n",
      "http://98.98.117.121:8082/api/media/photo/download/twitter/GOPo6_wW4AAn5ap.jpg\n",
      "http://98.98.117.121:8082/api/media/photo/download/twitter/GOPo1ZgWYAAP0m5.jpg\n",
      "http://98.98.117.121:8082/api/media/photo/download/twitter/GOL3aoPWUAAxJD2.jpg\n",
      "http://98.98.117.121:8082/api/media/photo/download/twitter/GOPnoXrXAAAkpHL.jpg\n",
      "http://98.98.117.121:8082/api/media/photo/download/twitter/GOMnNUQWYAAWIXh.jpg\n",
      "http://98.98.117.121:8082/api/media/photo/download/twitter/GOPm_M9W4AEJtsl.png\n",
      "http://98.98.117.121:8082/api/media/photo/download/twitter/GOPoPb9bwAA8uo6.jpg\n",
      "http://98.98.117.121:8082/api/media/photo/download/twitter/GOPoJi9XwAA13q2.jpg\n",
      "http://98.98.117.121:8082/api/media/photo/download/twitter/GOPoG_AakAAIbLc.jpg\n",
      "http://98.98.117.121:8082/api/media/photo/download/twitter/GOPoGfVXQAAlzNp.png\n",
      "http://98.98.117.121:8082/api/media/photo/download/twitter/GOPoFXjWcAAvenv.jpg\n",
      "http://98.98.117.121:8082/api/media/photo/download/twitter/GOPnuixXkAATkIK.png\n",
      "http://98.98.117.121:8082/api/media/photo/download/twitter/GOPnozGaIAA3QBw.jpg\n",
      "http://98.98.117.121:8082/api/media/photo/download/twitter/GOPnhYoasAAbXsc.jpg\n",
      "finished downloading 132 image set\n"
     ]
    }
   ],
   "source": [
    "## get images from server\n",
    "# Example usage:\n",
    "query = \"\"\"\n",
    "select a.id, a.db_id, c.tweet_id, c.filename\n",
    "from ret_available_db a inner join ret_tweet b on a.db_id = b.db_id\n",
    "inner join media_files c on b.id = c.tweet_id\n",
    "where \ta.db_id = %s\n",
    "\"\"\"\n",
    "query = query % str(iJobID)\n",
    "print(query)\n",
    "\n",
    "result_df = execute_query_psql(query)\n",
    "\n",
    "## downloading image set\n",
    "img_prefix_http = \"http://98.98.117.121:8082/api/media/photo/download/twitter/\"\n",
    "folder_path = \"/home/jup_user/multipool/ai-case-study/img\"    # Replace with the desired folder path\n",
    "\n",
    "# download_image(url, folder_path)\n",
    "# clear up folder first\n",
    "clear_image()\n",
    "\n",
    "i = 0\n",
    "for index, row in result_df.iterrows():\n",
    "    # print(result_df.at[index,'filename'])\n",
    "    url = img_prefix_http + result_df.at[index,'filename']\n",
    "    print(url)\n",
    "    download_image(url, folder_path)\n",
    "    i = i +1\n",
    "\n",
    "print(\"finished downloading \" + str(i) + \" image set\" )"
   ]
  },
  {
   "cell_type": "code",
   "execution_count": 6,
   "id": "406c4e8c-9403-4fc5-b1c1-562e1f0cf97a",
   "metadata": {
    "collapsed": true,
    "editable": true,
    "execution": {
     "iopub.execute_input": "2024-05-23T17:16:14.254694Z",
     "iopub.status.busy": "2024-05-23T17:16:14.254290Z",
     "iopub.status.idle": "2024-05-23T17:17:20.696957Z",
     "shell.execute_reply": "2024-05-23T17:17:20.695448Z"
    },
    "jupyter": {
     "outputs_hidden": true
    },
    "slideshow": {
     "slide_type": ""
    },
    "tags": []
   },
   "outputs": [
    {
     "name": "stdout",
     "output_type": "stream",
     "text": [
      "\r",
      "1/1 [==============================] - ETA: 0s"
     ]
    },
    {
     "name": "stdout",
     "output_type": "stream",
     "text": [
      "\b\b\b\b\b\b\b\b\b\b\b\b\b\b\b\b\b\b\b\b\b\b\b\b\b\b\b\b\b\b\b\b\b\b\b\b\b\b\b\b\b\b\b\b\b\b\r",
      "1/1 [==============================] - 1s 654ms/step\n"
     ]
    },
    {
     "name": "stdout",
     "output_type": "stream",
     "text": [
      "\r",
      "1/1 [==============================] - ETA: 0s"
     ]
    },
    {
     "name": "stdout",
     "output_type": "stream",
     "text": [
      "\b\b\b\b\b\b\b\b\b\b\b\b\b\b\b\b\b\b\b\b\b\b\b\b\b\b\b\b\b\b\b\b\b\b\b\b\b\b\b\b\b\b\b\b\b\b\r",
      "1/1 [==============================] - 0s 138ms/step\n"
     ]
    },
    {
     "name": "stdout",
     "output_type": "stream",
     "text": [
      "\r",
      "1/1 [==============================] - ETA: 0s"
     ]
    },
    {
     "name": "stdout",
     "output_type": "stream",
     "text": [
      "\b\b\b\b\b\b\b\b\b\b\b\b\b\b\b\b\b\b\b\b\b\b\b\b\b\b\b\b\b\b\b\b\b\b\b\b\b\b\b\b\b\b\b\b\b\b\r",
      "1/1 [==============================] - 0s 147ms/step\n"
     ]
    },
    {
     "name": "stdout",
     "output_type": "stream",
     "text": [
      "\r",
      "1/1 [==============================] - ETA: 0s"
     ]
    },
    {
     "name": "stdout",
     "output_type": "stream",
     "text": [
      "\b\b\b\b\b\b\b\b\b\b\b\b\b\b\b\b\b\b\b\b\b\b\b\b\b\b\b\b\b\b\b\b\b\b\b\b\b\b\b\b\b\b\b\b\b\b\r",
      "1/1 [==============================] - 0s 128ms/step\n"
     ]
    },
    {
     "name": "stdout",
     "output_type": "stream",
     "text": [
      "\r",
      "1/1 [==============================] - ETA: 0s"
     ]
    },
    {
     "name": "stdout",
     "output_type": "stream",
     "text": [
      "\b\b\b\b\b\b\b\b\b\b\b\b\b\b\b\b\b\b\b\b\b\b\b\b\b\b\b\b\b\b\b\b\b\b\b\b\b\b\b\b\b\b\b\b\b\b\r",
      "1/1 [==============================] - 0s 155ms/step\n"
     ]
    },
    {
     "name": "stdout",
     "output_type": "stream",
     "text": [
      "\r",
      "1/1 [==============================] - ETA: 0s"
     ]
    },
    {
     "name": "stdout",
     "output_type": "stream",
     "text": [
      "\b\b\b\b\b\b\b\b\b\b\b\b\b\b\b\b\b\b\b\b\b\b\b\b\b\b\b\b\b\b\b\b\b\b\b\b\b\b\b\b\b\b\b\b\b\b\r",
      "1/1 [==============================] - 0s 118ms/step\n"
     ]
    },
    {
     "name": "stdout",
     "output_type": "stream",
     "text": [
      "\r",
      "1/1 [==============================] - ETA: 0s"
     ]
    },
    {
     "name": "stdout",
     "output_type": "stream",
     "text": [
      "\b\b\b\b\b\b\b\b\b\b\b\b\b\b\b\b\b\b\b\b\b\b\b\b\b\b\b\b\b\b\b\b\b\b\b\b\b\b\b\b\b\b\b\b\b\b\r",
      "1/1 [==============================] - 0s 134ms/step\n"
     ]
    },
    {
     "name": "stdout",
     "output_type": "stream",
     "text": [
      "\r",
      "1/1 [==============================] - ETA: 0s"
     ]
    },
    {
     "name": "stdout",
     "output_type": "stream",
     "text": [
      "\b\b\b\b\b\b\b\b\b\b\b\b\b\b\b\b\b\b\b\b\b\b\b\b\b\b\b\b\b\b\b\b\b\b\b\b\b\b\b\b\b\b\b\b\b\b\r",
      "1/1 [==============================] - 0s 122ms/step\n"
     ]
    },
    {
     "name": "stdout",
     "output_type": "stream",
     "text": [
      "\r",
      "1/1 [==============================] - ETA: 0s"
     ]
    },
    {
     "name": "stdout",
     "output_type": "stream",
     "text": [
      "\b\b\b\b\b\b\b\b\b\b\b\b\b\b\b\b\b\b\b\b\b\b\b\b\b\b\b\b\b\b\b\b\b\b\b\b\b\b\b\b\b\b\b\b\b\b\r",
      "1/1 [==============================] - 0s 167ms/step\n"
     ]
    },
    {
     "name": "stderr",
     "output_type": "stream",
     "text": [
      "/home/jup_user/mlproject/jup-env/lib/python3.8/site-packages/PIL/Image.py:981: UserWarning: Palette images with Transparency expressed in bytes should be converted to RGBA images\n",
      "  warnings.warn(\n"
     ]
    },
    {
     "name": "stdout",
     "output_type": "stream",
     "text": [
      "\r",
      "1/1 [==============================] - ETA: 0s"
     ]
    },
    {
     "name": "stdout",
     "output_type": "stream",
     "text": [
      "\b\b\b\b\b\b\b\b\b\b\b\b\b\b\b\b\b\b\b\b\b\b\b\b\b\b\b\b\b\b\b\b\b\b\b\b\b\b\b\b\b\b\b\b\b\b\r",
      "1/1 [==============================] - 0s 207ms/step\n"
     ]
    },
    {
     "name": "stdout",
     "output_type": "stream",
     "text": [
      "\r",
      "1/1 [==============================] - ETA: 0s"
     ]
    },
    {
     "name": "stdout",
     "output_type": "stream",
     "text": [
      "\b\b\b\b\b\b\b\b\b\b\b\b\b\b\b\b\b\b\b\b\b\b\b\b\b\b\b\b\b\b\b\b\b\b\b\b\b\b\b\b\b\b\b\b\b\b\r",
      "1/1 [==============================] - 0s 172ms/step\n"
     ]
    },
    {
     "name": "stdout",
     "output_type": "stream",
     "text": [
      "\r",
      "1/1 [==============================] - ETA: 0s"
     ]
    },
    {
     "name": "stdout",
     "output_type": "stream",
     "text": [
      "\b\b\b\b\b\b\b\b\b\b\b\b\b\b\b\b\b\b\b\b\b\b\b\b\b\b\b\b\b\b\b\b\b\b\b\b\b\b\b\b\b\b\b\b\b\b\r",
      "1/1 [==============================] - 0s 186ms/step\n"
     ]
    },
    {
     "name": "stdout",
     "output_type": "stream",
     "text": [
      "\r",
      "1/1 [==============================] - ETA: 0s"
     ]
    },
    {
     "name": "stdout",
     "output_type": "stream",
     "text": [
      "\b\b\b\b\b\b\b\b\b\b\b\b\b\b\b\b\b\b\b\b\b\b\b\b\b\b\b\b\b\b\b\b\b\b\b\b\b\b\b\b\b\b\b\b\b\b\r",
      "1/1 [==============================] - 0s 205ms/step\n"
     ]
    },
    {
     "name": "stdout",
     "output_type": "stream",
     "text": [
      "\r",
      "1/1 [==============================] - ETA: 0s"
     ]
    },
    {
     "name": "stdout",
     "output_type": "stream",
     "text": [
      "\b\b\b\b\b\b\b\b\b\b\b\b\b\b\b\b\b\b\b\b\b\b\b\b\b\b\b\b\b\b\b\b\b\b\b\b\b\b\b\b\b\b\b\b\b\b\r",
      "1/1 [==============================] - 0s 217ms/step\n"
     ]
    },
    {
     "name": "stdout",
     "output_type": "stream",
     "text": [
      "\r",
      "1/1 [==============================] - ETA: 0s"
     ]
    },
    {
     "name": "stdout",
     "output_type": "stream",
     "text": [
      "\b\b\b\b\b\b\b\b\b\b\b\b\b\b\b\b\b\b\b\b\b\b\b\b\b\b\b\b\b\b\b\b\b\b\b\b\b\b\b\b\b\b\b\b\b\b\r",
      "1/1 [==============================] - 0s 176ms/step\n"
     ]
    },
    {
     "name": "stdout",
     "output_type": "stream",
     "text": [
      "\r",
      "1/1 [==============================] - ETA: 0s"
     ]
    },
    {
     "name": "stdout",
     "output_type": "stream",
     "text": [
      "\b\b\b\b\b\b\b\b\b\b\b\b\b\b\b\b\b\b\b\b\b\b\b\b\b\b\b\b\b\b\b\b\b\b\b\b\b\b\b\b\b\b\b\b\b\b\r",
      "1/1 [==============================] - 0s 223ms/step\n"
     ]
    },
    {
     "name": "stdout",
     "output_type": "stream",
     "text": [
      "\r",
      "1/1 [==============================] - ETA: 0s"
     ]
    },
    {
     "name": "stdout",
     "output_type": "stream",
     "text": [
      "\b\b\b\b\b\b\b\b\b\b\b\b\b\b\b\b\b\b\b\b\b\b\b\b\b\b\b\b\b\b\b\b\b\b\b\b\b\b\b\b\b\b\b\b\b\b\r",
      "1/1 [==============================] - 0s 205ms/step\n"
     ]
    },
    {
     "name": "stdout",
     "output_type": "stream",
     "text": [
      "\r",
      "1/1 [==============================] - ETA: 0s"
     ]
    },
    {
     "name": "stdout",
     "output_type": "stream",
     "text": [
      "\b\b\b\b\b\b\b\b\b\b\b\b\b\b\b\b\b\b\b\b\b\b\b\b\b\b\b\b\b\b\b\b\b\b\b\b\b\b\b\b\b\b\b\b\b\b\r",
      "1/1 [==============================] - 0s 188ms/step\n"
     ]
    },
    {
     "name": "stdout",
     "output_type": "stream",
     "text": [
      "\r",
      "1/1 [==============================] - ETA: 0s"
     ]
    },
    {
     "name": "stdout",
     "output_type": "stream",
     "text": [
      "\b\b\b\b\b\b\b\b\b\b\b\b\b\b\b\b\b\b\b\b\b\b\b\b\b\b\b\b\b\b\b\b\b\b\b\b\b\b\b\b\b\b\b\b\b\b\r",
      "1/1 [==============================] - 0s 194ms/step\n"
     ]
    },
    {
     "name": "stdout",
     "output_type": "stream",
     "text": [
      "\r",
      "1/1 [==============================] - ETA: 0s"
     ]
    },
    {
     "name": "stdout",
     "output_type": "stream",
     "text": [
      "\b\b\b\b\b\b\b\b\b\b\b\b\b\b\b\b\b\b\b\b\b\b\b\b\b\b\b\b\b\b\b\b\b\b\b\b\b\b\b\b\b\b\b\b\b\b\r",
      "1/1 [==============================] - 0s 177ms/step\n"
     ]
    },
    {
     "name": "stdout",
     "output_type": "stream",
     "text": [
      "\r",
      "1/1 [==============================] - ETA: 0s"
     ]
    },
    {
     "name": "stdout",
     "output_type": "stream",
     "text": [
      "\b\b\b\b\b\b\b\b\b\b\b\b\b\b\b\b\b\b\b\b\b\b\b\b\b\b\b\b\b\b\b\b\b\b\b\b\b\b\b\b\b\b\b\b\b\b\r",
      "1/1 [==============================] - 0s 197ms/step\n"
     ]
    },
    {
     "name": "stdout",
     "output_type": "stream",
     "text": [
      "\r",
      "1/1 [==============================] - ETA: 0s"
     ]
    },
    {
     "name": "stdout",
     "output_type": "stream",
     "text": [
      "\b\b\b\b\b\b\b\b\b\b\b\b\b\b\b\b\b\b\b\b\b\b\b\b\b\b\b\b\b\b\b\b\b\b\b\b\b\b\b\b\b\b\b\b\b\b\r",
      "1/1 [==============================] - 0s 212ms/step\n"
     ]
    },
    {
     "name": "stdout",
     "output_type": "stream",
     "text": [
      "\r",
      "1/1 [==============================] - ETA: 0s"
     ]
    },
    {
     "name": "stdout",
     "output_type": "stream",
     "text": [
      "\b\b\b\b\b\b\b\b\b\b\b\b\b\b\b\b\b\b\b\b\b\b\b\b\b\b\b\b\b\b\b\b\b\b\b\b\b\b\b\b\b\b\b\b\b\b\r",
      "1/1 [==============================] - 0s 215ms/step\n"
     ]
    },
    {
     "name": "stdout",
     "output_type": "stream",
     "text": [
      "\r",
      "1/1 [==============================] - ETA: 0s"
     ]
    },
    {
     "name": "stdout",
     "output_type": "stream",
     "text": [
      "\b\b\b\b\b\b\b\b\b\b\b\b\b\b\b\b\b\b\b\b\b\b\b\b\b\b\b\b\b\b\b\b\b\b\b\b\b\b\b\b\b\b\b\b\b\b\r",
      "1/1 [==============================] - 0s 213ms/step\n"
     ]
    },
    {
     "name": "stdout",
     "output_type": "stream",
     "text": [
      "\r",
      "1/1 [==============================] - ETA: 0s"
     ]
    },
    {
     "name": "stdout",
     "output_type": "stream",
     "text": [
      "\b\b\b\b\b\b\b\b\b\b\b\b\b\b\b\b\b\b\b\b\b\b\b\b\b\b\b\b\b\b\b\b\b\b\b\b\b\b\b\b\b\b\b\b\b\b\r",
      "1/1 [==============================] - 0s 191ms/step\n"
     ]
    },
    {
     "name": "stdout",
     "output_type": "stream",
     "text": [
      "\r",
      "1/1 [==============================] - ETA: 0s"
     ]
    },
    {
     "name": "stdout",
     "output_type": "stream",
     "text": [
      "\b\b\b\b\b\b\b\b\b\b\b\b\b\b\b\b\b\b\b\b\b\b\b\b\b\b\b\b\b\b\b\b\b\b\b\b\b\b\b\b\b\b\b\b\b\b\r",
      "1/1 [==============================] - 0s 180ms/step\n"
     ]
    },
    {
     "name": "stdout",
     "output_type": "stream",
     "text": [
      "\r",
      "1/1 [==============================] - ETA: 0s"
     ]
    },
    {
     "name": "stdout",
     "output_type": "stream",
     "text": [
      "\b\b\b\b\b\b\b\b\b\b\b\b\b\b\b\b\b\b\b\b\b\b\b\b\b\b\b\b\b\b\b\b\b\b\b\b\b\b\b\b\b\b\b\b\b\b\r",
      "1/1 [==============================] - 0s 219ms/step\n"
     ]
    },
    {
     "name": "stdout",
     "output_type": "stream",
     "text": [
      "\r",
      "1/1 [==============================] - ETA: 0s"
     ]
    },
    {
     "name": "stdout",
     "output_type": "stream",
     "text": [
      "\b\b\b\b\b\b\b\b\b\b\b\b\b\b\b\b\b\b\b\b\b\b\b\b\b\b\b\b\b\b\b\b\b\b\b\b\b\b\b\b\b\b\b\b\b\b\r",
      "1/1 [==============================] - 0s 226ms/step\n"
     ]
    },
    {
     "name": "stdout",
     "output_type": "stream",
     "text": [
      "\r",
      "1/1 [==============================] - ETA: 0s"
     ]
    },
    {
     "name": "stdout",
     "output_type": "stream",
     "text": [
      "\b\b\b\b\b\b\b\b\b\b\b\b\b\b\b\b\b\b\b\b\b\b\b\b\b\b\b\b\b\b\b\b\b\b\b\b\b\b\b\b\b\b\b\b\b\b\r",
      "1/1 [==============================] - 0s 172ms/step\n"
     ]
    },
    {
     "name": "stdout",
     "output_type": "stream",
     "text": [
      "\r",
      "1/1 [==============================] - ETA: 0s"
     ]
    },
    {
     "name": "stdout",
     "output_type": "stream",
     "text": [
      "\b\b\b\b\b\b\b\b\b\b\b\b\b\b\b\b\b\b\b\b\b\b\b\b\b\b\b\b\b\b\b\b\b\b\b\b\b\b\b\b\b\b\b\b\b\b\r",
      "1/1 [==============================] - 0s 218ms/step\n"
     ]
    },
    {
     "name": "stdout",
     "output_type": "stream",
     "text": [
      "\r",
      "1/1 [==============================] - ETA: 0s"
     ]
    },
    {
     "name": "stdout",
     "output_type": "stream",
     "text": [
      "\b\b\b\b\b\b\b\b\b\b\b\b\b\b\b\b\b\b\b\b\b\b\b\b\b\b\b\b\b\b\b\b\b\b\b\b\b\b\b\b\b\b\b\b\b\b\r",
      "1/1 [==============================] - 0s 209ms/step\n"
     ]
    },
    {
     "name": "stdout",
     "output_type": "stream",
     "text": [
      "\r",
      "1/1 [==============================] - ETA: 0s"
     ]
    },
    {
     "name": "stdout",
     "output_type": "stream",
     "text": [
      "\b\b\b\b\b\b\b\b\b\b\b\b\b\b\b\b\b\b\b\b\b\b\b\b\b\b\b\b\b\b\b\b\b\b\b\b\b\b\b\b\b\b\b\b\b\b\r",
      "1/1 [==============================] - 0s 225ms/step\n"
     ]
    },
    {
     "name": "stdout",
     "output_type": "stream",
     "text": [
      "\r",
      "1/1 [==============================] - ETA: 0s"
     ]
    },
    {
     "name": "stdout",
     "output_type": "stream",
     "text": [
      "\b\b\b\b\b\b\b\b\b\b\b\b\b\b\b\b\b\b\b\b\b\b\b\b\b\b\b\b\b\b\b\b\b\b\b\b\b\b\b\b\b\b\b\b\b\b\r",
      "1/1 [==============================] - 0s 219ms/step\n"
     ]
    },
    {
     "name": "stdout",
     "output_type": "stream",
     "text": [
      "\r",
      "1/1 [==============================] - ETA: 0s"
     ]
    },
    {
     "name": "stdout",
     "output_type": "stream",
     "text": [
      "\b\b\b\b\b\b\b\b\b\b\b\b\b\b\b\b\b\b\b\b\b\b\b\b\b\b\b\b\b\b\b\b\b\b\b\b\b\b\b\b\b\b\b\b\b\b\r",
      "1/1 [==============================] - 0s 162ms/step\n"
     ]
    },
    {
     "name": "stdout",
     "output_type": "stream",
     "text": [
      "\r",
      "1/1 [==============================] - ETA: 0s"
     ]
    },
    {
     "name": "stdout",
     "output_type": "stream",
     "text": [
      "\b\b\b\b\b\b\b\b\b\b\b\b\b\b\b\b\b\b\b\b\b\b\b\b\b\b\b\b\b\b\b\b\b\b\b\b\b\b\b\b\b\b\b\b\b\b\r",
      "1/1 [==============================] - 0s 228ms/step\n"
     ]
    },
    {
     "name": "stdout",
     "output_type": "stream",
     "text": [
      "\r",
      "1/1 [==============================] - ETA: 0s"
     ]
    },
    {
     "name": "stdout",
     "output_type": "stream",
     "text": [
      "\b\b\b\b\b\b\b\b\b\b\b\b\b\b\b\b\b\b\b\b\b\b\b\b\b\b\b\b\b\b\b\b\b\b\b\b\b\b\b\b\b\b\b\b\b\b\r",
      "1/1 [==============================] - 0s 199ms/step\n"
     ]
    },
    {
     "name": "stdout",
     "output_type": "stream",
     "text": [
      "\r",
      "1/1 [==============================] - ETA: 0s"
     ]
    },
    {
     "name": "stdout",
     "output_type": "stream",
     "text": [
      "\b\b\b\b\b\b\b\b\b\b\b\b\b\b\b\b\b\b\b\b\b\b\b\b\b\b\b\b\b\b\b\b\b\b\b\b\b\b\b\b\b\b\b\b\b\b\r",
      "1/1 [==============================] - 0s 167ms/step\n"
     ]
    },
    {
     "name": "stdout",
     "output_type": "stream",
     "text": [
      "\r",
      "1/1 [==============================] - ETA: 0s"
     ]
    },
    {
     "name": "stdout",
     "output_type": "stream",
     "text": [
      "\b\b\b\b\b\b\b\b\b\b\b\b\b\b\b\b\b\b\b\b\b\b\b\b\b\b\b\b\b\b\b\b\b\b\b\b\b\b\b\b\b\b\b\b\b\b\r",
      "1/1 [==============================] - 0s 227ms/step\n"
     ]
    },
    {
     "name": "stdout",
     "output_type": "stream",
     "text": [
      "\r",
      "1/1 [==============================] - ETA: 0s"
     ]
    },
    {
     "name": "stdout",
     "output_type": "stream",
     "text": [
      "\b\b\b\b\b\b\b\b\b\b\b\b\b\b\b\b\b\b\b\b\b\b\b\b\b\b\b\b\b\b\b\b\b\b\b\b\b\b\b\b\b\b\b\b\b\b\r",
      "1/1 [==============================] - 0s 184ms/step\n"
     ]
    },
    {
     "name": "stdout",
     "output_type": "stream",
     "text": [
      "\r",
      "1/1 [==============================] - ETA: 0s"
     ]
    },
    {
     "name": "stdout",
     "output_type": "stream",
     "text": [
      "\b\b\b\b\b\b\b\b\b\b\b\b\b\b\b\b\b\b\b\b\b\b\b\b\b\b\b\b\b\b\b\b\b\b\b\b\b\b\b\b\b\b\b\b\b\b\r",
      "1/1 [==============================] - 0s 181ms/step\n"
     ]
    },
    {
     "name": "stdout",
     "output_type": "stream",
     "text": [
      "\r",
      "1/1 [==============================] - ETA: 0s"
     ]
    },
    {
     "name": "stdout",
     "output_type": "stream",
     "text": [
      "\b\b\b\b\b\b\b\b\b\b\b\b\b\b\b\b\b\b\b\b\b\b\b\b\b\b\b\b\b\b\b\b\b\b\b\b\b\b\b\b\b\b\b\b\b\b\r",
      "1/1 [==============================] - 0s 211ms/step\n"
     ]
    },
    {
     "name": "stdout",
     "output_type": "stream",
     "text": [
      "\r",
      "1/1 [==============================] - ETA: 0s"
     ]
    },
    {
     "name": "stdout",
     "output_type": "stream",
     "text": [
      "\b\b\b\b\b\b\b\b\b\b\b\b\b\b\b\b\b\b\b\b\b\b\b\b\b\b\b\b\b\b\b\b\b\b\b\b\b\b\b\b\b\b\b\b\b\b\r",
      "1/1 [==============================] - 0s 187ms/step\n"
     ]
    },
    {
     "name": "stdout",
     "output_type": "stream",
     "text": [
      "\r",
      "1/1 [==============================] - ETA: 0s"
     ]
    },
    {
     "name": "stdout",
     "output_type": "stream",
     "text": [
      "\b\b\b\b\b\b\b\b\b\b\b\b\b\b\b\b\b\b\b\b\b\b\b\b\b\b\b\b\b\b\b\b\b\b\b\b\b\b\b\b\b\b\b\b\b\b\r",
      "1/1 [==============================] - 0s 178ms/step\n"
     ]
    },
    {
     "name": "stdout",
     "output_type": "stream",
     "text": [
      "\r",
      "1/1 [==============================] - ETA: 0s"
     ]
    },
    {
     "name": "stdout",
     "output_type": "stream",
     "text": [
      "\b\b\b\b\b\b\b\b\b\b\b\b\b\b\b\b\b\b\b\b\b\b\b\b\b\b\b\b\b\b\b\b\b\b\b\b\b\b\b\b\b\b\b\b\b\b\r",
      "1/1 [==============================] - 0s 207ms/step\n"
     ]
    },
    {
     "name": "stdout",
     "output_type": "stream",
     "text": [
      "\r",
      "1/1 [==============================] - ETA: 0s"
     ]
    },
    {
     "name": "stdout",
     "output_type": "stream",
     "text": [
      "\b\b\b\b\b\b\b\b\b\b\b\b\b\b\b\b\b\b\b\b\b\b\b\b\b\b\b\b\b\b\b\b\b\b\b\b\b\b\b\b\b\b\b\b\b\b\r",
      "1/1 [==============================] - 0s 182ms/step\n"
     ]
    },
    {
     "name": "stdout",
     "output_type": "stream",
     "text": [
      "\r",
      "1/1 [==============================] - ETA: 0s"
     ]
    },
    {
     "name": "stdout",
     "output_type": "stream",
     "text": [
      "\b\b\b\b\b\b\b\b\b\b\b\b\b\b\b\b\b\b\b\b\b\b\b\b\b\b\b\b\b\b\b\b\b\b\b\b\b\b\b\b\b\b\b\b\b\b\r",
      "1/1 [==============================] - 0s 166ms/step\n"
     ]
    },
    {
     "name": "stdout",
     "output_type": "stream",
     "text": [
      "\r",
      "1/1 [==============================] - ETA: 0s"
     ]
    },
    {
     "name": "stdout",
     "output_type": "stream",
     "text": [
      "\b\b\b\b\b\b\b\b\b\b\b\b\b\b\b\b\b\b\b\b\b\b\b\b\b\b\b\b\b\b\b\b\b\b\b\b\b\b\b\b\b\b\b\b\b\b\r",
      "1/1 [==============================] - 0s 203ms/step\n"
     ]
    },
    {
     "name": "stdout",
     "output_type": "stream",
     "text": [
      "\r",
      "1/1 [==============================] - ETA: 0s"
     ]
    },
    {
     "name": "stdout",
     "output_type": "stream",
     "text": [
      "\b\b\b\b\b\b\b\b\b\b\b\b\b\b\b\b\b\b\b\b\b\b\b\b\b\b\b\b\b\b\b\b\b\b\b\b\b\b\b\b\b\b\b\b\b\b\r",
      "1/1 [==============================] - 0s 186ms/step\n"
     ]
    },
    {
     "name": "stdout",
     "output_type": "stream",
     "text": [
      "\r",
      "1/1 [==============================] - ETA: 0s"
     ]
    },
    {
     "name": "stdout",
     "output_type": "stream",
     "text": [
      "\b\b\b\b\b\b\b\b\b\b\b\b\b\b\b\b\b\b\b\b\b\b\b\b\b\b\b\b\b\b\b\b\b\b\b\b\b\b\b\b\b\b\b\b\b\b\r",
      "1/1 [==============================] - 0s 176ms/step\n"
     ]
    },
    {
     "name": "stdout",
     "output_type": "stream",
     "text": [
      "\r",
      "1/1 [==============================] - ETA: 0s"
     ]
    },
    {
     "name": "stdout",
     "output_type": "stream",
     "text": [
      "\b\b\b\b\b\b\b\b\b\b\b\b\b\b\b\b\b\b\b\b\b\b\b\b\b\b\b\b\b\b\b\b\b\b\b\b\b\b\b\b\b\b\b\b\b\b\r",
      "1/1 [==============================] - 0s 201ms/step\n"
     ]
    },
    {
     "name": "stdout",
     "output_type": "stream",
     "text": [
      "\r",
      "1/1 [==============================] - ETA: 0s"
     ]
    },
    {
     "name": "stdout",
     "output_type": "stream",
     "text": [
      "\b\b\b\b\b\b\b\b\b\b\b\b\b\b\b\b\b\b\b\b\b\b\b\b\b\b\b\b\b\b\b\b\b\b\b\b\b\b\b\b\b\b\b\b\b\b\r",
      "1/1 [==============================] - 0s 194ms/step\n"
     ]
    },
    {
     "name": "stdout",
     "output_type": "stream",
     "text": [
      "\r",
      "1/1 [==============================] - ETA: 0s"
     ]
    },
    {
     "name": "stdout",
     "output_type": "stream",
     "text": [
      "\b\b\b\b\b\b\b\b\b\b\b\b\b\b\b\b\b\b\b\b\b\b\b\b\b\b\b\b\b\b\b\b\b\b\b\b\b\b\b\b\b\b\b\b\b\b\r",
      "1/1 [==============================] - 0s 231ms/step\n"
     ]
    },
    {
     "name": "stdout",
     "output_type": "stream",
     "text": [
      "\r",
      "1/1 [==============================] - ETA: 0s"
     ]
    },
    {
     "name": "stdout",
     "output_type": "stream",
     "text": [
      "\b\b\b\b\b\b\b\b\b\b\b\b\b\b\b\b\b\b\b\b\b\b\b\b\b\b\b\b\b\b\b\b\b\b\b\b\b\b\b\b\b\b\b\b\b\b\r",
      "1/1 [==============================] - 0s 219ms/step\n"
     ]
    },
    {
     "name": "stdout",
     "output_type": "stream",
     "text": [
      "\r",
      "1/1 [==============================] - ETA: 0s"
     ]
    },
    {
     "name": "stdout",
     "output_type": "stream",
     "text": [
      "\b\b\b\b\b\b\b\b\b\b\b\b\b\b\b\b\b\b\b\b\b\b\b\b\b\b\b\b\b\b\b\b\b\b\b\b\b\b\b\b\b\b\b\b\b\b\r",
      "1/1 [==============================] - 0s 190ms/step\n"
     ]
    },
    {
     "name": "stdout",
     "output_type": "stream",
     "text": [
      "\r",
      "1/1 [==============================] - ETA: 0s"
     ]
    },
    {
     "name": "stdout",
     "output_type": "stream",
     "text": [
      "\b\b\b\b\b\b\b\b\b\b\b\b\b\b\b\b\b\b\b\b\b\b\b\b\b\b\b\b\b\b\b\b\b\b\b\b\b\b\b\b\b\b\b\b\b\b\r",
      "1/1 [==============================] - 0s 185ms/step\n"
     ]
    },
    {
     "name": "stdout",
     "output_type": "stream",
     "text": [
      "\r",
      "1/1 [==============================] - ETA: 0s"
     ]
    },
    {
     "name": "stdout",
     "output_type": "stream",
     "text": [
      "\b\b\b\b\b\b\b\b\b\b\b\b\b\b\b\b\b\b\b\b\b\b\b\b\b\b\b\b\b\b\b\b\b\b\b\b\b\b\b\b\b\b\b\b\b\b\r",
      "1/1 [==============================] - 0s 193ms/step\n"
     ]
    },
    {
     "name": "stdout",
     "output_type": "stream",
     "text": [
      "\r",
      "1/1 [==============================] - ETA: 0s"
     ]
    },
    {
     "name": "stdout",
     "output_type": "stream",
     "text": [
      "\b\b\b\b\b\b\b\b\b\b\b\b\b\b\b\b\b\b\b\b\b\b\b\b\b\b\b\b\b\b\b\b\b\b\b\b\b\b\b\b\b\b\b\b\b\b\r",
      "1/1 [==============================] - 0s 223ms/step\n"
     ]
    },
    {
     "name": "stdout",
     "output_type": "stream",
     "text": [
      "\r",
      "1/1 [==============================] - ETA: 0s"
     ]
    },
    {
     "name": "stdout",
     "output_type": "stream",
     "text": [
      "\b\b\b\b\b\b\b\b\b\b\b\b\b\b\b\b\b\b\b\b\b\b\b\b\b\b\b\b\b\b\b\b\b\b\b\b\b\b\b\b\b\b\b\b\b\b\r",
      "1/1 [==============================] - 0s 218ms/step\n"
     ]
    },
    {
     "name": "stdout",
     "output_type": "stream",
     "text": [
      "\r",
      "1/1 [==============================] - ETA: 0s"
     ]
    },
    {
     "name": "stdout",
     "output_type": "stream",
     "text": [
      "\b\b\b\b\b\b\b\b\b\b\b\b\b\b\b\b\b\b\b\b\b\b\b\b\b\b\b\b\b\b\b\b\b\b\b\b\b\b\b\b\b\b\b\b\b\b\r",
      "1/1 [==============================] - 0s 209ms/step\n"
     ]
    },
    {
     "name": "stdout",
     "output_type": "stream",
     "text": [
      "\r",
      "1/1 [==============================] - ETA: 0s"
     ]
    },
    {
     "name": "stdout",
     "output_type": "stream",
     "text": [
      "\b\b\b\b\b\b\b\b\b\b\b\b\b\b\b\b\b\b\b\b\b\b\b\b\b\b\b\b\b\b\b\b\b\b\b\b\b\b\b\b\b\b\b\b\b\b\r",
      "1/1 [==============================] - 0s 193ms/step\n"
     ]
    },
    {
     "name": "stdout",
     "output_type": "stream",
     "text": [
      "\r",
      "1/1 [==============================] - ETA: 0s"
     ]
    },
    {
     "name": "stdout",
     "output_type": "stream",
     "text": [
      "\b\b\b\b\b\b\b\b\b\b\b\b\b\b\b\b\b\b\b\b\b\b\b\b\b\b\b\b\b\b\b\b\b\b\b\b\b\b\b\b\b\b\b\b\b\b\r",
      "1/1 [==============================] - 0s 220ms/step\n"
     ]
    },
    {
     "name": "stdout",
     "output_type": "stream",
     "text": [
      "\r",
      "1/1 [==============================] - ETA: 0s"
     ]
    },
    {
     "name": "stdout",
     "output_type": "stream",
     "text": [
      "\b\b\b\b\b\b\b\b\b\b\b\b\b\b\b\b\b\b\b\b\b\b\b\b\b\b\b\b\b\b\b\b\b\b\b\b\b\b\b\b\b\b\b\b\b\b\r",
      "1/1 [==============================] - 0s 222ms/step\n"
     ]
    },
    {
     "name": "stdout",
     "output_type": "stream",
     "text": [
      "\r",
      "1/1 [==============================] - ETA: 0s"
     ]
    },
    {
     "name": "stdout",
     "output_type": "stream",
     "text": [
      "\b\b\b\b\b\b\b\b\b\b\b\b\b\b\b\b\b\b\b\b\b\b\b\b\b\b\b\b\b\b\b\b\b\b\b\b\b\b\b\b\b\b\b\b\b\b\r",
      "1/1 [==============================] - 0s 180ms/step\n"
     ]
    },
    {
     "name": "stdout",
     "output_type": "stream",
     "text": [
      "\r",
      "1/1 [==============================] - ETA: 0s"
     ]
    },
    {
     "name": "stdout",
     "output_type": "stream",
     "text": [
      "\b\b\b\b\b\b\b\b\b\b\b\b\b\b\b\b\b\b\b\b\b\b\b\b\b\b\b\b\b\b\b\b\b\b\b\b\b\b\b\b\b\b\b\b\b\b\r",
      "1/1 [==============================] - 0s 186ms/step\n"
     ]
    },
    {
     "name": "stdout",
     "output_type": "stream",
     "text": [
      "\r",
      "1/1 [==============================] - ETA: 0s"
     ]
    },
    {
     "name": "stdout",
     "output_type": "stream",
     "text": [
      "\b\b\b\b\b\b\b\b\b\b\b\b\b\b\b\b\b\b\b\b\b\b\b\b\b\b\b\b\b\b\b\b\b\b\b\b\b\b\b\b\b\b\b\b\b\b\r",
      "1/1 [==============================] - 0s 208ms/step\n"
     ]
    },
    {
     "name": "stdout",
     "output_type": "stream",
     "text": [
      "\r",
      "1/1 [==============================] - ETA: 0s"
     ]
    },
    {
     "name": "stdout",
     "output_type": "stream",
     "text": [
      "\b\b\b\b\b\b\b\b\b\b\b\b\b\b\b\b\b\b\b\b\b\b\b\b\b\b\b\b\b\b\b\b\b\b\b\b\b\b\b\b\b\b\b\b\b\b\r",
      "1/1 [==============================] - 0s 215ms/step\n"
     ]
    },
    {
     "name": "stdout",
     "output_type": "stream",
     "text": [
      "\r",
      "1/1 [==============================] - ETA: 0s"
     ]
    },
    {
     "name": "stdout",
     "output_type": "stream",
     "text": [
      "\b\b\b\b\b\b\b\b\b\b\b\b\b\b\b\b\b\b\b\b\b\b\b\b\b\b\b\b\b\b\b\b\b\b\b\b\b\b\b\b\b\b\b\b\b\b\r",
      "1/1 [==============================] - 0s 198ms/step\n"
     ]
    },
    {
     "name": "stdout",
     "output_type": "stream",
     "text": [
      "\r",
      "1/1 [==============================] - ETA: 0s"
     ]
    },
    {
     "name": "stdout",
     "output_type": "stream",
     "text": [
      "\b\b\b\b\b\b\b\b\b\b\b\b\b\b\b\b\b\b\b\b\b\b\b\b\b\b\b\b\b\b\b\b\b\b\b\b\b\b\b\b\b\b\b\b\b\b\r",
      "1/1 [==============================] - 0s 192ms/step\n"
     ]
    },
    {
     "name": "stdout",
     "output_type": "stream",
     "text": [
      "\r",
      "1/1 [==============================] - ETA: 0s"
     ]
    },
    {
     "name": "stdout",
     "output_type": "stream",
     "text": [
      "\b\b\b\b\b\b\b\b\b\b\b\b\b\b\b\b\b\b\b\b\b\b\b\b\b\b\b\b\b\b\b\b\b\b\b\b\b\b\b\b\b\b\b\b\b\b\r",
      "1/1 [==============================] - 0s 162ms/step\n"
     ]
    },
    {
     "name": "stdout",
     "output_type": "stream",
     "text": [
      "\r",
      "1/1 [==============================] - ETA: 0s"
     ]
    },
    {
     "name": "stdout",
     "output_type": "stream",
     "text": [
      "\b\b\b\b\b\b\b\b\b\b\b\b\b\b\b\b\b\b\b\b\b\b\b\b\b\b\b\b\b\b\b\b\b\b\b\b\b\b\b\b\b\b\b\b\b\b\r",
      "1/1 [==============================] - 0s 219ms/step\n"
     ]
    },
    {
     "name": "stdout",
     "output_type": "stream",
     "text": [
      "\r",
      "1/1 [==============================] - ETA: 0s"
     ]
    },
    {
     "name": "stdout",
     "output_type": "stream",
     "text": [
      "\b\b\b\b\b\b\b\b\b\b\b\b\b\b\b\b\b\b\b\b\b\b\b\b\b\b\b\b\b\b\b\b\b\b\b\b\b\b\b\b\b\b\b\b\b\b\r",
      "1/1 [==============================] - 0s 184ms/step\n"
     ]
    },
    {
     "name": "stdout",
     "output_type": "stream",
     "text": [
      "\r",
      "1/1 [==============================] - ETA: 0s"
     ]
    },
    {
     "name": "stdout",
     "output_type": "stream",
     "text": [
      "\b\b\b\b\b\b\b\b\b\b\b\b\b\b\b\b\b\b\b\b\b\b\b\b\b\b\b\b\b\b\b\b\b\b\b\b\b\b\b\b\b\b\b\b\b\b\r",
      "1/1 [==============================] - 0s 189ms/step\n"
     ]
    },
    {
     "name": "stdout",
     "output_type": "stream",
     "text": [
      "\r",
      "1/1 [==============================] - ETA: 0s"
     ]
    },
    {
     "name": "stdout",
     "output_type": "stream",
     "text": [
      "\b\b\b\b\b\b\b\b\b\b\b\b\b\b\b\b\b\b\b\b\b\b\b\b\b\b\b\b\b\b\b\b\b\b\b\b\b\b\b\b\b\b\b\b\b\b\r",
      "1/1 [==============================] - 0s 188ms/step\n"
     ]
    },
    {
     "name": "stdout",
     "output_type": "stream",
     "text": [
      "\r",
      "1/1 [==============================] - ETA: 0s"
     ]
    },
    {
     "name": "stdout",
     "output_type": "stream",
     "text": [
      "\b\b\b\b\b\b\b\b\b\b\b\b\b\b\b\b\b\b\b\b\b\b\b\b\b\b\b\b\b\b\b\b\b\b\b\b\b\b\b\b\b\b\b\b\b\b\r",
      "1/1 [==============================] - 0s 224ms/step\n"
     ]
    },
    {
     "name": "stdout",
     "output_type": "stream",
     "text": [
      "\r",
      "1/1 [==============================] - ETA: 0s"
     ]
    },
    {
     "name": "stdout",
     "output_type": "stream",
     "text": [
      "\b\b\b\b\b\b\b\b\b\b\b\b\b\b\b\b\b\b\b\b\b\b\b\b\b\b\b\b\b\b\b\b\b\b\b\b\b\b\b\b\b\b\b\b\b\b\r",
      "1/1 [==============================] - 0s 210ms/step\n"
     ]
    },
    {
     "name": "stdout",
     "output_type": "stream",
     "text": [
      "\r",
      "1/1 [==============================] - ETA: 0s"
     ]
    },
    {
     "name": "stdout",
     "output_type": "stream",
     "text": [
      "\b\b\b\b\b\b\b\b\b\b\b\b\b\b\b\b\b\b\b\b\b\b\b\b\b\b\b\b\b\b\b\b\b\b\b\b\b\b\b\b\b\b\b\b\b\b\r",
      "1/1 [==============================] - 0s 195ms/step\n"
     ]
    },
    {
     "name": "stdout",
     "output_type": "stream",
     "text": [
      "\r",
      "1/1 [==============================] - ETA: 0s"
     ]
    },
    {
     "name": "stdout",
     "output_type": "stream",
     "text": [
      "\b\b\b\b\b\b\b\b\b\b\b\b\b\b\b\b\b\b\b\b\b\b\b\b\b\b\b\b\b\b\b\b\b\b\b\b\b\b\b\b\b\b\b\b\b\b\r",
      "1/1 [==============================] - 0s 206ms/step\n"
     ]
    },
    {
     "name": "stdout",
     "output_type": "stream",
     "text": [
      "\r",
      "1/1 [==============================] - ETA: 0s"
     ]
    },
    {
     "name": "stdout",
     "output_type": "stream",
     "text": [
      "\b\b\b\b\b\b\b\b\b\b\b\b\b\b\b\b\b\b\b\b\b\b\b\b\b\b\b\b\b\b\b\b\b\b\b\b\b\b\b\b\b\b\b\b\b\b\r",
      "1/1 [==============================] - 0s 211ms/step\n"
     ]
    },
    {
     "name": "stdout",
     "output_type": "stream",
     "text": [
      "\r",
      "1/1 [==============================] - ETA: 0s"
     ]
    },
    {
     "name": "stdout",
     "output_type": "stream",
     "text": [
      "\b\b\b\b\b\b\b\b\b\b\b\b\b\b\b\b\b\b\b\b\b\b\b\b\b\b\b\b\b\b\b\b\b\b\b\b\b\b\b\b\b\b\b\b\b\b\r",
      "1/1 [==============================] - 0s 220ms/step\n"
     ]
    },
    {
     "name": "stdout",
     "output_type": "stream",
     "text": [
      "\r",
      "1/1 [==============================] - ETA: 0s"
     ]
    },
    {
     "name": "stdout",
     "output_type": "stream",
     "text": [
      "\b\b\b\b\b\b\b\b\b\b\b\b\b\b\b\b\b\b\b\b\b\b\b\b\b\b\b\b\b\b\b\b\b\b\b\b\b\b\b\b\b\b\b\b\b\b\r",
      "1/1 [==============================] - 0s 160ms/step\n"
     ]
    },
    {
     "name": "stdout",
     "output_type": "stream",
     "text": [
      "\r",
      "1/1 [==============================] - ETA: 0s"
     ]
    },
    {
     "name": "stdout",
     "output_type": "stream",
     "text": [
      "\b\b\b\b\b\b\b\b\b\b\b\b\b\b\b\b\b\b\b\b\b\b\b\b\b\b\b\b\b\b\b\b\b\b\b\b\b\b\b\b\b\b\b\b\b\b\r",
      "1/1 [==============================] - 0s 187ms/step\n"
     ]
    },
    {
     "name": "stdout",
     "output_type": "stream",
     "text": [
      "\r",
      "1/1 [==============================] - ETA: 0s"
     ]
    },
    {
     "name": "stdout",
     "output_type": "stream",
     "text": [
      "\b\b\b\b\b\b\b\b\b\b\b\b\b\b\b\b\b\b\b\b\b\b\b\b\b\b\b\b\b\b\b\b\b\b\b\b\b\b\b\b\b\b\b\b\b\b\r",
      "1/1 [==============================] - 0s 187ms/step\n"
     ]
    },
    {
     "name": "stdout",
     "output_type": "stream",
     "text": [
      "\r",
      "1/1 [==============================] - ETA: 0s"
     ]
    },
    {
     "name": "stdout",
     "output_type": "stream",
     "text": [
      "\b\b\b\b\b\b\b\b\b\b\b\b\b\b\b\b\b\b\b\b\b\b\b\b\b\b\b\b\b\b\b\b\b\b\b\b\b\b\b\b\b\b\b\b\b\b\r",
      "1/1 [==============================] - 0s 223ms/step\n"
     ]
    },
    {
     "name": "stdout",
     "output_type": "stream",
     "text": [
      "\r",
      "1/1 [==============================] - ETA: 0s"
     ]
    },
    {
     "name": "stdout",
     "output_type": "stream",
     "text": [
      "\b\b\b\b\b\b\b\b\b\b\b\b\b\b\b\b\b\b\b\b\b\b\b\b\b\b\b\b\b\b\b\b\b\b\b\b\b\b\b\b\b\b\b\b\b\b\r",
      "1/1 [==============================] - 0s 209ms/step\n"
     ]
    },
    {
     "name": "stdout",
     "output_type": "stream",
     "text": [
      "\r",
      "1/1 [==============================] - ETA: 0s"
     ]
    },
    {
     "name": "stdout",
     "output_type": "stream",
     "text": [
      "\b\b\b\b\b\b\b\b\b\b\b\b\b\b\b\b\b\b\b\b\b\b\b\b\b\b\b\b\b\b\b\b\b\b\b\b\b\b\b\b\b\b\b\b\b\b\r",
      "1/1 [==============================] - 0s 196ms/step\n"
     ]
    },
    {
     "name": "stdout",
     "output_type": "stream",
     "text": [
      "\r",
      "1/1 [==============================] - ETA: 0s"
     ]
    },
    {
     "name": "stdout",
     "output_type": "stream",
     "text": [
      "\b\b\b\b\b\b\b\b\b\b\b\b\b\b\b\b\b\b\b\b\b\b\b\b\b\b\b\b\b\b\b\b\b\b\b\b\b\b\b\b\b\b\b\b\b\b\r",
      "1/1 [==============================] - 0s 180ms/step\n"
     ]
    },
    {
     "name": "stdout",
     "output_type": "stream",
     "text": [
      "\r",
      "1/1 [==============================] - ETA: 0s"
     ]
    },
    {
     "name": "stdout",
     "output_type": "stream",
     "text": [
      "\b\b\b\b\b\b\b\b\b\b\b\b\b\b\b\b\b\b\b\b\b\b\b\b\b\b\b\b\b\b\b\b\b\b\b\b\b\b\b\b\b\b\b\b\b\b\r",
      "1/1 [==============================] - 0s 193ms/step\n"
     ]
    },
    {
     "name": "stdout",
     "output_type": "stream",
     "text": [
      "\r",
      "1/1 [==============================] - ETA: 0s"
     ]
    },
    {
     "name": "stdout",
     "output_type": "stream",
     "text": [
      "\b\b\b\b\b\b\b\b\b\b\b\b\b\b\b\b\b\b\b\b\b\b\b\b\b\b\b\b\b\b\b\b\b\b\b\b\b\b\b\b\b\b\b\b\b\b\r",
      "1/1 [==============================] - 0s 157ms/step\n"
     ]
    },
    {
     "name": "stdout",
     "output_type": "stream",
     "text": [
      "\r",
      "1/1 [==============================] - ETA: 0s"
     ]
    },
    {
     "name": "stdout",
     "output_type": "stream",
     "text": [
      "\b\b\b\b\b\b\b\b\b\b\b\b\b\b\b\b\b\b\b\b\b\b\b\b\b\b\b\b\b\b\b\b\b\b\b\b\b\b\b\b\b\b\b\b\b\b\r",
      "1/1 [==============================] - 0s 220ms/step\n"
     ]
    },
    {
     "name": "stdout",
     "output_type": "stream",
     "text": [
      "\r",
      "1/1 [==============================] - ETA: 0s"
     ]
    },
    {
     "name": "stdout",
     "output_type": "stream",
     "text": [
      "\b\b\b\b\b\b\b\b\b\b\b\b\b\b\b\b\b\b\b\b\b\b\b\b\b\b\b\b\b\b\b\b\b\b\b\b\b\b\b\b\b\b\b\b\b\b\r",
      "1/1 [==============================] - 0s 186ms/step\n"
     ]
    },
    {
     "name": "stdout",
     "output_type": "stream",
     "text": [
      "\r",
      "1/1 [==============================] - ETA: 0s"
     ]
    },
    {
     "name": "stdout",
     "output_type": "stream",
     "text": [
      "\b\b\b\b\b\b\b\b\b\b\b\b\b\b\b\b\b\b\b\b\b\b\b\b\b\b\b\b\b\b\b\b\b\b\b\b\b\b\b\b\b\b\b\b\b\b\r",
      "1/1 [==============================] - 0s 180ms/step\n"
     ]
    },
    {
     "name": "stdout",
     "output_type": "stream",
     "text": [
      "\r",
      "1/1 [==============================] - ETA: 0s"
     ]
    },
    {
     "name": "stdout",
     "output_type": "stream",
     "text": [
      "\b\b\b\b\b\b\b\b\b\b\b\b\b\b\b\b\b\b\b\b\b\b\b\b\b\b\b\b\b\b\b\b\b\b\b\b\b\b\b\b\b\b\b\b\b\b\r",
      "1/1 [==============================] - 0s 181ms/step\n"
     ]
    },
    {
     "name": "stdout",
     "output_type": "stream",
     "text": [
      "\r",
      "1/1 [==============================] - ETA: 0s"
     ]
    },
    {
     "name": "stdout",
     "output_type": "stream",
     "text": [
      "\b\b\b\b\b\b\b\b\b\b\b\b\b\b\b\b\b\b\b\b\b\b\b\b\b\b\b\b\b\b\b\b\b\b\b\b\b\b\b\b\b\b\b\b\b\b\r",
      "1/1 [==============================] - 0s 188ms/step\n"
     ]
    },
    {
     "name": "stdout",
     "output_type": "stream",
     "text": [
      "\r",
      "1/1 [==============================] - ETA: 0s"
     ]
    },
    {
     "name": "stdout",
     "output_type": "stream",
     "text": [
      "\b\b\b\b\b\b\b\b\b\b\b\b\b\b\b\b\b\b\b\b\b\b\b\b\b\b\b\b\b\b\b\b\b\b\b\b\b\b\b\b\b\b\b\b\b\b\r",
      "1/1 [==============================] - 0s 215ms/step\n"
     ]
    },
    {
     "name": "stdout",
     "output_type": "stream",
     "text": [
      "\r",
      "1/1 [==============================] - ETA: 0s"
     ]
    },
    {
     "name": "stdout",
     "output_type": "stream",
     "text": [
      "\b\b\b\b\b\b\b\b\b\b\b\b\b\b\b\b\b\b\b\b\b\b\b\b\b\b\b\b\b\b\b\b\b\b\b\b\b\b\b\b\b\b\b\b\b\b\r",
      "1/1 [==============================] - 0s 197ms/step\n"
     ]
    },
    {
     "name": "stdout",
     "output_type": "stream",
     "text": [
      "\r",
      "1/1 [==============================] - ETA: 0s"
     ]
    },
    {
     "name": "stdout",
     "output_type": "stream",
     "text": [
      "\b\b\b\b\b\b\b\b\b\b\b\b\b\b\b\b\b\b\b\b\b\b\b\b\b\b\b\b\b\b\b\b\b\b\b\b\b\b\b\b\b\b\b\b\b\b\r",
      "1/1 [==============================] - 0s 249ms/step\n"
     ]
    },
    {
     "name": "stdout",
     "output_type": "stream",
     "text": [
      "\r",
      "1/1 [==============================] - ETA: 0s"
     ]
    },
    {
     "name": "stdout",
     "output_type": "stream",
     "text": [
      "\b\b\b\b\b\b\b\b\b\b\b\b\b\b\b\b\b\b\b\b\b\b\b\b\b\b\b\b\b\b\b\b\b\b\b\b\b\b\b\b\b\b\b\b\b\b\r",
      "1/1 [==============================] - 0s 224ms/step\n"
     ]
    },
    {
     "name": "stdout",
     "output_type": "stream",
     "text": [
      "\r",
      "1/1 [==============================] - ETA: 0s"
     ]
    },
    {
     "name": "stdout",
     "output_type": "stream",
     "text": [
      "\b\b\b\b\b\b\b\b\b\b\b\b\b\b\b\b\b\b\b\b\b\b\b\b\b\b\b\b\b\b\b\b\b\b\b\b\b\b\b\b\b\b\b\b\b\b\r",
      "1/1 [==============================] - 0s 189ms/step\n"
     ]
    },
    {
     "name": "stdout",
     "output_type": "stream",
     "text": [
      "\r",
      "1/1 [==============================] - ETA: 0s"
     ]
    },
    {
     "name": "stdout",
     "output_type": "stream",
     "text": [
      "\b\b\b\b\b\b\b\b\b\b\b\b\b\b\b\b\b\b\b\b\b\b\b\b\b\b\b\b\b\b\b\b\b\b\b\b\b\b\b\b\b\b\b\b\b\b\r",
      "1/1 [==============================] - 0s 217ms/step\n"
     ]
    },
    {
     "name": "stdout",
     "output_type": "stream",
     "text": [
      "\r",
      "1/1 [==============================] - ETA: 0s"
     ]
    },
    {
     "name": "stdout",
     "output_type": "stream",
     "text": [
      "\b\b\b\b\b\b\b\b\b\b\b\b\b\b\b\b\b\b\b\b\b\b\b\b\b\b\b\b\b\b\b\b\b\b\b\b\b\b\b\b\b\b\b\b\b\b\r",
      "1/1 [==============================] - 0s 208ms/step\n"
     ]
    },
    {
     "name": "stdout",
     "output_type": "stream",
     "text": [
      "\r",
      "1/1 [==============================] - ETA: 0s"
     ]
    },
    {
     "name": "stdout",
     "output_type": "stream",
     "text": [
      "\b\b\b\b\b\b\b\b\b\b\b\b\b\b\b\b\b\b\b\b\b\b\b\b\b\b\b\b\b\b\b\b\b\b\b\b\b\b\b\b\b\b\b\b\b\b\r",
      "1/1 [==============================] - 0s 207ms/step\n"
     ]
    },
    {
     "name": "stdout",
     "output_type": "stream",
     "text": [
      "\r",
      "1/1 [==============================] - ETA: 0s"
     ]
    },
    {
     "name": "stdout",
     "output_type": "stream",
     "text": [
      "\b\b\b\b\b\b\b\b\b\b\b\b\b\b\b\b\b\b\b\b\b\b\b\b\b\b\b\b\b\b\b\b\b\b\b\b\b\b\b\b\b\b\b\b\b\b\r",
      "1/1 [==============================] - 0s 193ms/step\n"
     ]
    },
    {
     "name": "stdout",
     "output_type": "stream",
     "text": [
      "\r",
      "1/1 [==============================] - ETA: 0s"
     ]
    },
    {
     "name": "stdout",
     "output_type": "stream",
     "text": [
      "\b\b\b\b\b\b\b\b\b\b\b\b\b\b\b\b\b\b\b\b\b\b\b\b\b\b\b\b\b\b\b\b\b\b\b\b\b\b\b\b\b\b\b\b\b\b\r",
      "1/1 [==============================] - 0s 187ms/step\n"
     ]
    },
    {
     "name": "stdout",
     "output_type": "stream",
     "text": [
      "\r",
      "1/1 [==============================] - ETA: 0s"
     ]
    },
    {
     "name": "stdout",
     "output_type": "stream",
     "text": [
      "\b\b\b\b\b\b\b\b\b\b\b\b\b\b\b\b\b\b\b\b\b\b\b\b\b\b\b\b\b\b\b\b\b\b\b\b\b\b\b\b\b\b\b\b\b\b\r",
      "1/1 [==============================] - 0s 182ms/step\n"
     ]
    },
    {
     "name": "stdout",
     "output_type": "stream",
     "text": [
      "\r",
      "1/1 [==============================] - ETA: 0s"
     ]
    },
    {
     "name": "stdout",
     "output_type": "stream",
     "text": [
      "\b\b\b\b\b\b\b\b\b\b\b\b\b\b\b\b\b\b\b\b\b\b\b\b\b\b\b\b\b\b\b\b\b\b\b\b\b\b\b\b\b\b\b\b\b\b\r",
      "1/1 [==============================] - 0s 169ms/step\n"
     ]
    },
    {
     "name": "stdout",
     "output_type": "stream",
     "text": [
      "\r",
      "1/1 [==============================] - ETA: 0s"
     ]
    },
    {
     "name": "stdout",
     "output_type": "stream",
     "text": [
      "\b\b\b\b\b\b\b\b\b\b\b\b\b\b\b\b\b\b\b\b\b\b\b\b\b\b\b\b\b\b\b\b\b\b\b\b\b\b\b\b\b\b\b\b\b\b\r",
      "1/1 [==============================] - 0s 199ms/step\n"
     ]
    },
    {
     "name": "stdout",
     "output_type": "stream",
     "text": [
      "\r",
      "1/1 [==============================] - ETA: 0s"
     ]
    },
    {
     "name": "stdout",
     "output_type": "stream",
     "text": [
      "\b\b\b\b\b\b\b\b\b\b\b\b\b\b\b\b\b\b\b\b\b\b\b\b\b\b\b\b\b\b\b\b\b\b\b\b\b\b\b\b\b\b\b\b\b\b\r",
      "1/1 [==============================] - 0s 204ms/step\n"
     ]
    },
    {
     "name": "stdout",
     "output_type": "stream",
     "text": [
      "\r",
      "1/1 [==============================] - ETA: 0s"
     ]
    },
    {
     "name": "stdout",
     "output_type": "stream",
     "text": [
      "\b\b\b\b\b\b\b\b\b\b\b\b\b\b\b\b\b\b\b\b\b\b\b\b\b\b\b\b\b\b\b\b\b\b\b\b\b\b\b\b\b\b\b\b\b\b\r",
      "1/1 [==============================] - 0s 209ms/step\n"
     ]
    },
    {
     "name": "stdout",
     "output_type": "stream",
     "text": [
      "\r",
      "1/1 [==============================] - ETA: 0s"
     ]
    },
    {
     "name": "stdout",
     "output_type": "stream",
     "text": [
      "\b\b\b\b\b\b\b\b\b\b\b\b\b\b\b\b\b\b\b\b\b\b\b\b\b\b\b\b\b\b\b\b\b\b\b\b\b\b\b\b\b\b\b\b\b\b\r",
      "1/1 [==============================] - 0s 230ms/step\n"
     ]
    },
    {
     "name": "stdout",
     "output_type": "stream",
     "text": [
      "\r",
      "1/1 [==============================] - ETA: 0s"
     ]
    },
    {
     "name": "stdout",
     "output_type": "stream",
     "text": [
      "\b\b\b\b\b\b\b\b\b\b\b\b\b\b\b\b\b\b\b\b\b\b\b\b\b\b\b\b\b\b\b\b\b\b\b\b\b\b\b\b\b\b\b\b\b\b\r",
      "1/1 [==============================] - 0s 207ms/step\n"
     ]
    },
    {
     "name": "stdout",
     "output_type": "stream",
     "text": [
      "\r",
      "1/1 [==============================] - ETA: 0s"
     ]
    },
    {
     "name": "stdout",
     "output_type": "stream",
     "text": [
      "\b\b\b\b\b\b\b\b\b\b\b\b\b\b\b\b\b\b\b\b\b\b\b\b\b\b\b\b\b\b\b\b\b\b\b\b\b\b\b\b\b\b\b\b\b\b\r",
      "1/1 [==============================] - 0s 180ms/step\n"
     ]
    },
    {
     "name": "stdout",
     "output_type": "stream",
     "text": [
      "\r",
      "1/1 [==============================] - ETA: 0s"
     ]
    },
    {
     "name": "stdout",
     "output_type": "stream",
     "text": [
      "\b\b\b\b\b\b\b\b\b\b\b\b\b\b\b\b\b\b\b\b\b\b\b\b\b\b\b\b\b\b\b\b\b\b\b\b\b\b\b\b\b\b\b\b\b\b\r",
      "1/1 [==============================] - 0s 214ms/step\n"
     ]
    },
    {
     "name": "stdout",
     "output_type": "stream",
     "text": [
      "\r",
      "1/1 [==============================] - ETA: 0s"
     ]
    },
    {
     "name": "stdout",
     "output_type": "stream",
     "text": [
      "\b\b\b\b\b\b\b\b\b\b\b\b\b\b\b\b\b\b\b\b\b\b\b\b\b\b\b\b\b\b\b\b\b\b\b\b\b\b\b\b\b\b\b\b\b\b\r",
      "1/1 [==============================] - 0s 168ms/step\n"
     ]
    },
    {
     "name": "stdout",
     "output_type": "stream",
     "text": [
      "\r",
      "1/1 [==============================] - ETA: 0s"
     ]
    },
    {
     "name": "stdout",
     "output_type": "stream",
     "text": [
      "\b\b\b\b\b\b\b\b\b\b\b\b\b\b\b\b\b\b\b\b\b\b\b\b\b\b\b\b\b\b\b\b\b\b\b\b\b\b\b\b\b\b\b\b\b\b\r",
      "1/1 [==============================] - 0s 204ms/step\n"
     ]
    },
    {
     "name": "stdout",
     "output_type": "stream",
     "text": [
      "\r",
      "1/1 [==============================] - ETA: 0s"
     ]
    },
    {
     "name": "stdout",
     "output_type": "stream",
     "text": [
      "\b\b\b\b\b\b\b\b\b\b\b\b\b\b\b\b\b\b\b\b\b\b\b\b\b\b\b\b\b\b\b\b\b\b\b\b\b\b\b\b\b\b\b\b\b\b\r",
      "1/1 [==============================] - 0s 203ms/step\n"
     ]
    },
    {
     "name": "stdout",
     "output_type": "stream",
     "text": [
      "\r",
      "1/1 [==============================] - ETA: 0s"
     ]
    },
    {
     "name": "stdout",
     "output_type": "stream",
     "text": [
      "\b\b\b\b\b\b\b\b\b\b\b\b\b\b\b\b\b\b\b\b\b\b\b\b\b\b\b\b\b\b\b\b\b\b\b\b\b\b\b\b\b\b\b\b\b\b\r",
      "1/1 [==============================] - 0s 200ms/step\n"
     ]
    },
    {
     "name": "stdout",
     "output_type": "stream",
     "text": [
      "\r",
      "1/1 [==============================] - ETA: 0s"
     ]
    },
    {
     "name": "stdout",
     "output_type": "stream",
     "text": [
      "\b\b\b\b\b\b\b\b\b\b\b\b\b\b\b\b\b\b\b\b\b\b\b\b\b\b\b\b\b\b\b\b\b\b\b\b\b\b\b\b\b\b\b\b\b\b\r",
      "1/1 [==============================] - 0s 239ms/step\n"
     ]
    },
    {
     "name": "stdout",
     "output_type": "stream",
     "text": [
      "\r",
      "1/1 [==============================] - ETA: 0s"
     ]
    },
    {
     "name": "stdout",
     "output_type": "stream",
     "text": [
      "\b\b\b\b\b\b\b\b\b\b\b\b\b\b\b\b\b\b\b\b\b\b\b\b\b\b\b\b\b\b\b\b\b\b\b\b\b\b\b\b\b\b\b\b\b\b\r",
      "1/1 [==============================] - 0s 191ms/step\n"
     ]
    },
    {
     "name": "stdout",
     "output_type": "stream",
     "text": [
      "\r",
      "1/1 [==============================] - ETA: 0s"
     ]
    },
    {
     "name": "stdout",
     "output_type": "stream",
     "text": [
      "\b\b\b\b\b\b\b\b\b\b\b\b\b\b\b\b\b\b\b\b\b\b\b\b\b\b\b\b\b\b\b\b\b\b\b\b\b\b\b\b\b\b\b\b\b\b\r",
      "1/1 [==============================] - 0s 194ms/step\n"
     ]
    },
    {
     "name": "stdout",
     "output_type": "stream",
     "text": [
      "\r",
      "1/1 [==============================] - ETA: 0s"
     ]
    },
    {
     "name": "stdout",
     "output_type": "stream",
     "text": [
      "\b\b\b\b\b\b\b\b\b\b\b\b\b\b\b\b\b\b\b\b\b\b\b\b\b\b\b\b\b\b\b\b\b\b\b\b\b\b\b\b\b\b\b\b\b\b\r",
      "1/1 [==============================] - 0s 211ms/step\n"
     ]
    },
    {
     "name": "stdout",
     "output_type": "stream",
     "text": [
      "\r",
      "1/1 [==============================] - ETA: 0s"
     ]
    },
    {
     "name": "stdout",
     "output_type": "stream",
     "text": [
      "\b\b\b\b\b\b\b\b\b\b\b\b\b\b\b\b\b\b\b\b\b\b\b\b\b\b\b\b\b\b\b\b\b\b\b\b\b\b\b\b\b\b\b\b\b\b\r",
      "1/1 [==============================] - 0s 236ms/step\n"
     ]
    },
    {
     "name": "stdout",
     "output_type": "stream",
     "text": [
      "\r",
      "1/1 [==============================] - ETA: 0s"
     ]
    },
    {
     "name": "stdout",
     "output_type": "stream",
     "text": [
      "\b\b\b\b\b\b\b\b\b\b\b\b\b\b\b\b\b\b\b\b\b\b\b\b\b\b\b\b\b\b\b\b\b\b\b\b\b\b\b\b\b\b\b\b\b\b\r",
      "1/1 [==============================] - 0s 202ms/step\n"
     ]
    },
    {
     "name": "stdout",
     "output_type": "stream",
     "text": [
      "\r",
      "1/1 [==============================] - ETA: 0s"
     ]
    },
    {
     "name": "stdout",
     "output_type": "stream",
     "text": [
      "\b\b\b\b\b\b\b\b\b\b\b\b\b\b\b\b\b\b\b\b\b\b\b\b\b\b\b\b\b\b\b\b\b\b\b\b\b\b\b\b\b\b\b\b\b\b\r",
      "1/1 [==============================] - 0s 189ms/step\n"
     ]
    },
    {
     "name": "stdout",
     "output_type": "stream",
     "text": [
      "\r",
      "1/1 [==============================] - ETA: 0s"
     ]
    },
    {
     "name": "stdout",
     "output_type": "stream",
     "text": [
      "\b\b\b\b\b\b\b\b\b\b\b\b\b\b\b\b\b\b\b\b\b\b\b\b\b\b\b\b\b\b\b\b\b\b\b\b\b\b\b\b\b\b\b\b\b\b\r",
      "1/1 [==============================] - 0s 200ms/step\n"
     ]
    },
    {
     "name": "stdout",
     "output_type": "stream",
     "text": [
      "\r",
      "1/1 [==============================] - ETA: 0s"
     ]
    },
    {
     "name": "stdout",
     "output_type": "stream",
     "text": [
      "\b\b\b\b\b\b\b\b\b\b\b\b\b\b\b\b\b\b\b\b\b\b\b\b\b\b\b\b\b\b\b\b\b\b\b\b\b\b\b\b\b\b\b\b\b\b\r",
      "1/1 [==============================] - 0s 199ms/step\n"
     ]
    },
    {
     "name": "stdout",
     "output_type": "stream",
     "text": [
      "\r",
      "1/1 [==============================] - ETA: 0s"
     ]
    },
    {
     "name": "stdout",
     "output_type": "stream",
     "text": [
      "\b\b\b\b\b\b\b\b\b\b\b\b\b\b\b\b\b\b\b\b\b\b\b\b\b\b\b\b\b\b\b\b\b\b\b\b\b\b\b\b\b\b\b\b\b\b\r",
      "1/1 [==============================] - 0s 206ms/step\n"
     ]
    },
    {
     "name": "stdout",
     "output_type": "stream",
     "text": [
      "\r",
      "1/1 [==============================] - ETA: 0s"
     ]
    },
    {
     "name": "stdout",
     "output_type": "stream",
     "text": [
      "\b\b\b\b\b\b\b\b\b\b\b\b\b\b\b\b\b\b\b\b\b\b\b\b\b\b\b\b\b\b\b\b\b\b\b\b\b\b\b\b\b\b\b\b\b\b\r",
      "1/1 [==============================] - 0s 189ms/step\n"
     ]
    },
    {
     "name": "stdout",
     "output_type": "stream",
     "text": [
      "\r",
      "1/1 [==============================] - ETA: 0s"
     ]
    },
    {
     "name": "stdout",
     "output_type": "stream",
     "text": [
      "\b\b\b\b\b\b\b\b\b\b\b\b\b\b\b\b\b\b\b\b\b\b\b\b\b\b\b\b\b\b\b\b\b\b\b\b\b\b\b\b\b\b\b\b\b\b\r",
      "1/1 [==============================] - 0s 203ms/step\n"
     ]
    },
    {
     "name": "stdout",
     "output_type": "stream",
     "text": [
      "\r",
      "1/1 [==============================] - ETA: 0s"
     ]
    },
    {
     "name": "stdout",
     "output_type": "stream",
     "text": [
      "\b\b\b\b\b\b\b\b\b\b\b\b\b\b\b\b\b\b\b\b\b\b\b\b\b\b\b\b\b\b\b\b\b\b\b\b\b\b\b\b\b\b\b\b\b\b\r",
      "1/1 [==============================] - 0s 182ms/step\n"
     ]
    },
    {
     "name": "stdout",
     "output_type": "stream",
     "text": [
      "\r",
      "1/1 [==============================] - ETA: 0s"
     ]
    },
    {
     "name": "stdout",
     "output_type": "stream",
     "text": [
      "\b\b\b\b\b\b\b\b\b\b\b\b\b\b\b\b\b\b\b\b\b\b\b\b\b\b\b\b\b\b\b\b\b\b\b\b\b\b\b\b\b\b\b\b\b\b\r",
      "1/1 [==============================] - 0s 230ms/step\n"
     ]
    },
    {
     "name": "stdout",
     "output_type": "stream",
     "text": [
      "\r",
      "1/1 [==============================] - ETA: 0s"
     ]
    },
    {
     "name": "stdout",
     "output_type": "stream",
     "text": [
      "\b\b\b\b\b\b\b\b\b\b\b\b\b\b\b\b\b\b\b\b\b\b\b\b\b\b\b\b\b\b\b\b\b\b\b\b\b\b\b\b\b\b\b\b\b\b\r",
      "1/1 [==============================] - 0s 171ms/step\n"
     ]
    },
    {
     "name": "stdout",
     "output_type": "stream",
     "text": [
      "\r",
      "1/1 [==============================] - ETA: 0s"
     ]
    },
    {
     "name": "stdout",
     "output_type": "stream",
     "text": [
      "\b\b\b\b\b\b\b\b\b\b\b\b\b\b\b\b\b\b\b\b\b\b\b\b\b\b\b\b\b\b\b\b\b\b\b\b\b\b\b\b\b\b\b\b\b\b\r",
      "1/1 [==============================] - 0s 189ms/step\n"
     ]
    },
    {
     "name": "stderr",
     "output_type": "stream",
     "text": [
      "/home/jup_user/mlproject/jup-env/lib/python3.8/site-packages/sklearn/cluster/_kmeans.py:1416: FutureWarning: The default value of `n_init` will change from 10 to 'auto' in 1.4. Set the value of `n_init` explicitly to suppress the warning\n",
      "  super()._check_params_vs_input(X, default_n_init=10)\n"
     ]
    },
    {
     "name": "stderr",
     "output_type": "stream",
     "text": [
      "/home/jup_user/mlproject/jup-env/lib/python3.8/site-packages/sklearn/cluster/_kmeans.py:1416: FutureWarning: The default value of `n_init` will change from 10 to 'auto' in 1.4. Set the value of `n_init` explicitly to suppress the warning\n",
      "  super()._check_params_vs_input(X, default_n_init=10)\n"
     ]
    },
    {
     "name": "stderr",
     "output_type": "stream",
     "text": [
      "/home/jup_user/mlproject/jup-env/lib/python3.8/site-packages/sklearn/cluster/_kmeans.py:1416: FutureWarning: The default value of `n_init` will change from 10 to 'auto' in 1.4. Set the value of `n_init` explicitly to suppress the warning\n",
      "  super()._check_params_vs_input(X, default_n_init=10)\n"
     ]
    },
    {
     "name": "stderr",
     "output_type": "stream",
     "text": [
      "/home/jup_user/mlproject/jup-env/lib/python3.8/site-packages/sklearn/cluster/_kmeans.py:1416: FutureWarning: The default value of `n_init` will change from 10 to 'auto' in 1.4. Set the value of `n_init` explicitly to suppress the warning\n",
      "  super()._check_params_vs_input(X, default_n_init=10)\n"
     ]
    },
    {
     "name": "stderr",
     "output_type": "stream",
     "text": [
      "/home/jup_user/mlproject/jup-env/lib/python3.8/site-packages/sklearn/cluster/_kmeans.py:1416: FutureWarning: The default value of `n_init` will change from 10 to 'auto' in 1.4. Set the value of `n_init` explicitly to suppress the warning\n",
      "  super()._check_params_vs_input(X, default_n_init=10)\n"
     ]
    },
    {
     "name": "stderr",
     "output_type": "stream",
     "text": [
      "/home/jup_user/mlproject/jup-env/lib/python3.8/site-packages/sklearn/cluster/_kmeans.py:1416: FutureWarning: The default value of `n_init` will change from 10 to 'auto' in 1.4. Set the value of `n_init` explicitly to suppress the warning\n",
      "  super()._check_params_vs_input(X, default_n_init=10)\n",
      "/home/jup_user/mlproject/jup-env/lib/python3.8/site-packages/sklearn/cluster/_kmeans.py:1416: FutureWarning: The default value of `n_init` will change from 10 to 'auto' in 1.4. Set the value of `n_init` explicitly to suppress the warning\n",
      "  super()._check_params_vs_input(X, default_n_init=10)\n"
     ]
    },
    {
     "name": "stderr",
     "output_type": "stream",
     "text": [
      "/home/jup_user/mlproject/jup-env/lib/python3.8/site-packages/sklearn/cluster/_kmeans.py:1416: FutureWarning: The default value of `n_init` will change from 10 to 'auto' in 1.4. Set the value of `n_init` explicitly to suppress the warning\n",
      "  super()._check_params_vs_input(X, default_n_init=10)\n"
     ]
    },
    {
     "name": "stderr",
     "output_type": "stream",
     "text": [
      "/home/jup_user/mlproject/jup-env/lib/python3.8/site-packages/sklearn/cluster/_kmeans.py:1416: FutureWarning: The default value of `n_init` will change from 10 to 'auto' in 1.4. Set the value of `n_init` explicitly to suppress the warning\n",
      "  super()._check_params_vs_input(X, default_n_init=10)\n"
     ]
    },
    {
     "name": "stderr",
     "output_type": "stream",
     "text": [
      "/home/jup_user/mlproject/jup-env/lib/python3.8/site-packages/sklearn/cluster/_kmeans.py:1416: FutureWarning: The default value of `n_init` will change from 10 to 'auto' in 1.4. Set the value of `n_init` explicitly to suppress the warning\n",
      "  super()._check_params_vs_input(X, default_n_init=10)\n"
     ]
    },
    {
     "name": "stderr",
     "output_type": "stream",
     "text": [
      "/home/jup_user/mlproject/jup-env/lib/python3.8/site-packages/sklearn/cluster/_kmeans.py:1416: FutureWarning: The default value of `n_init` will change from 10 to 'auto' in 1.4. Set the value of `n_init` explicitly to suppress the warning\n",
      "  super()._check_params_vs_input(X, default_n_init=10)\n"
     ]
    },
    {
     "name": "stderr",
     "output_type": "stream",
     "text": [
      "/home/jup_user/mlproject/jup-env/lib/python3.8/site-packages/sklearn/cluster/_kmeans.py:1416: FutureWarning: The default value of `n_init` will change from 10 to 'auto' in 1.4. Set the value of `n_init` explicitly to suppress the warning\n",
      "  super()._check_params_vs_input(X, default_n_init=10)\n"
     ]
    },
    {
     "name": "stderr",
     "output_type": "stream",
     "text": [
      "/home/jup_user/mlproject/jup-env/lib/python3.8/site-packages/sklearn/cluster/_kmeans.py:1416: FutureWarning: The default value of `n_init` will change from 10 to 'auto' in 1.4. Set the value of `n_init` explicitly to suppress the warning\n",
      "  super()._check_params_vs_input(X, default_n_init=10)\n"
     ]
    },
    {
     "name": "stderr",
     "output_type": "stream",
     "text": [
      "/home/jup_user/mlproject/jup-env/lib/python3.8/site-packages/sklearn/cluster/_kmeans.py:1416: FutureWarning: The default value of `n_init` will change from 10 to 'auto' in 1.4. Set the value of `n_init` explicitly to suppress the warning\n",
      "  super()._check_params_vs_input(X, default_n_init=10)\n"
     ]
    },
    {
     "name": "stderr",
     "output_type": "stream",
     "text": [
      "/home/jup_user/mlproject/jup-env/lib/python3.8/site-packages/sklearn/cluster/_kmeans.py:1416: FutureWarning: The default value of `n_init` will change from 10 to 'auto' in 1.4. Set the value of `n_init` explicitly to suppress the warning\n",
      "  super()._check_params_vs_input(X, default_n_init=10)\n"
     ]
    },
    {
     "name": "stderr",
     "output_type": "stream",
     "text": [
      "/home/jup_user/mlproject/jup-env/lib/python3.8/site-packages/sklearn/cluster/_kmeans.py:1416: FutureWarning: The default value of `n_init` will change from 10 to 'auto' in 1.4. Set the value of `n_init` explicitly to suppress the warning\n",
      "  super()._check_params_vs_input(X, default_n_init=10)\n"
     ]
    },
    {
     "name": "stderr",
     "output_type": "stream",
     "text": [
      "/home/jup_user/mlproject/jup-env/lib/python3.8/site-packages/sklearn/cluster/_kmeans.py:1416: FutureWarning: The default value of `n_init` will change from 10 to 'auto' in 1.4. Set the value of `n_init` explicitly to suppress the warning\n",
      "  super()._check_params_vs_input(X, default_n_init=10)\n"
     ]
    },
    {
     "name": "stderr",
     "output_type": "stream",
     "text": [
      "/home/jup_user/mlproject/jup-env/lib/python3.8/site-packages/sklearn/cluster/_kmeans.py:1416: FutureWarning: The default value of `n_init` will change from 10 to 'auto' in 1.4. Set the value of `n_init` explicitly to suppress the warning\n",
      "  super()._check_params_vs_input(X, default_n_init=10)\n"
     ]
    },
    {
     "name": "stderr",
     "output_type": "stream",
     "text": [
      "/home/jup_user/mlproject/jup-env/lib/python3.8/site-packages/sklearn/cluster/_kmeans.py:1416: FutureWarning: The default value of `n_init` will change from 10 to 'auto' in 1.4. Set the value of `n_init` explicitly to suppress the warning\n",
      "  super()._check_params_vs_input(X, default_n_init=10)\n"
     ]
    },
    {
     "name": "stderr",
     "output_type": "stream",
     "text": [
      "/home/jup_user/mlproject/jup-env/lib/python3.8/site-packages/sklearn/cluster/_kmeans.py:1416: FutureWarning: The default value of `n_init` will change from 10 to 'auto' in 1.4. Set the value of `n_init` explicitly to suppress the warning\n",
      "  super()._check_params_vs_input(X, default_n_init=10)\n"
     ]
    },
    {
     "name": "stderr",
     "output_type": "stream",
     "text": [
      "/home/jup_user/mlproject/jup-env/lib/python3.8/site-packages/sklearn/cluster/_kmeans.py:1416: FutureWarning: The default value of `n_init` will change from 10 to 'auto' in 1.4. Set the value of `n_init` explicitly to suppress the warning\n",
      "  super()._check_params_vs_input(X, default_n_init=10)\n"
     ]
    },
    {
     "name": "stderr",
     "output_type": "stream",
     "text": [
      "/home/jup_user/mlproject/jup-env/lib/python3.8/site-packages/sklearn/cluster/_kmeans.py:1416: FutureWarning: The default value of `n_init` will change from 10 to 'auto' in 1.4. Set the value of `n_init` explicitly to suppress the warning\n",
      "  super()._check_params_vs_input(X, default_n_init=10)\n"
     ]
    },
    {
     "name": "stderr",
     "output_type": "stream",
     "text": [
      "/home/jup_user/mlproject/jup-env/lib/python3.8/site-packages/sklearn/cluster/_kmeans.py:1416: FutureWarning: The default value of `n_init` will change from 10 to 'auto' in 1.4. Set the value of `n_init` explicitly to suppress the warning\n",
      "  super()._check_params_vs_input(X, default_n_init=10)\n"
     ]
    },
    {
     "name": "stderr",
     "output_type": "stream",
     "text": [
      "/home/jup_user/mlproject/jup-env/lib/python3.8/site-packages/sklearn/cluster/_kmeans.py:1416: FutureWarning: The default value of `n_init` will change from 10 to 'auto' in 1.4. Set the value of `n_init` explicitly to suppress the warning\n",
      "  super()._check_params_vs_input(X, default_n_init=10)\n"
     ]
    },
    {
     "name": "stderr",
     "output_type": "stream",
     "text": [
      "/home/jup_user/mlproject/jup-env/lib/python3.8/site-packages/sklearn/cluster/_kmeans.py:1416: FutureWarning: The default value of `n_init` will change from 10 to 'auto' in 1.4. Set the value of `n_init` explicitly to suppress the warning\n",
      "  super()._check_params_vs_input(X, default_n_init=10)\n"
     ]
    },
    {
     "name": "stderr",
     "output_type": "stream",
     "text": [
      "/home/jup_user/mlproject/jup-env/lib/python3.8/site-packages/sklearn/cluster/_kmeans.py:1416: FutureWarning: The default value of `n_init` will change from 10 to 'auto' in 1.4. Set the value of `n_init` explicitly to suppress the warning\n",
      "  super()._check_params_vs_input(X, default_n_init=10)\n"
     ]
    },
    {
     "name": "stderr",
     "output_type": "stream",
     "text": [
      "/home/jup_user/mlproject/jup-env/lib/python3.8/site-packages/sklearn/cluster/_kmeans.py:1416: FutureWarning: The default value of `n_init` will change from 10 to 'auto' in 1.4. Set the value of `n_init` explicitly to suppress the warning\n",
      "  super()._check_params_vs_input(X, default_n_init=10)\n"
     ]
    },
    {
     "name": "stderr",
     "output_type": "stream",
     "text": [
      "/home/jup_user/mlproject/jup-env/lib/python3.8/site-packages/sklearn/cluster/_kmeans.py:1416: FutureWarning: The default value of `n_init` will change from 10 to 'auto' in 1.4. Set the value of `n_init` explicitly to suppress the warning\n",
      "  super()._check_params_vs_input(X, default_n_init=10)\n"
     ]
    },
    {
     "name": "stderr",
     "output_type": "stream",
     "text": [
      "/home/jup_user/mlproject/jup-env/lib/python3.8/site-packages/sklearn/cluster/_kmeans.py:1416: FutureWarning: The default value of `n_init` will change from 10 to 'auto' in 1.4. Set the value of `n_init` explicitly to suppress the warning\n",
      "  super()._check_params_vs_input(X, default_n_init=10)\n"
     ]
    },
    {
     "name": "stderr",
     "output_type": "stream",
     "text": [
      "/home/jup_user/mlproject/jup-env/lib/python3.8/site-packages/sklearn/cluster/_kmeans.py:1416: FutureWarning: The default value of `n_init` will change from 10 to 'auto' in 1.4. Set the value of `n_init` explicitly to suppress the warning\n",
      "  super()._check_params_vs_input(X, default_n_init=10)\n"
     ]
    },
    {
     "name": "stderr",
     "output_type": "stream",
     "text": [
      "/home/jup_user/mlproject/jup-env/lib/python3.8/site-packages/sklearn/cluster/_kmeans.py:1416: FutureWarning: The default value of `n_init` will change from 10 to 'auto' in 1.4. Set the value of `n_init` explicitly to suppress the warning\n",
      "  super()._check_params_vs_input(X, default_n_init=10)\n"
     ]
    },
    {
     "name": "stderr",
     "output_type": "stream",
     "text": [
      "/home/jup_user/mlproject/jup-env/lib/python3.8/site-packages/sklearn/cluster/_kmeans.py:1416: FutureWarning: The default value of `n_init` will change from 10 to 'auto' in 1.4. Set the value of `n_init` explicitly to suppress the warning\n",
      "  super()._check_params_vs_input(X, default_n_init=10)\n"
     ]
    },
    {
     "name": "stderr",
     "output_type": "stream",
     "text": [
      "/home/jup_user/mlproject/jup-env/lib/python3.8/site-packages/sklearn/cluster/_kmeans.py:1416: FutureWarning: The default value of `n_init` will change from 10 to 'auto' in 1.4. Set the value of `n_init` explicitly to suppress the warning\n",
      "  super()._check_params_vs_input(X, default_n_init=10)\n"
     ]
    },
    {
     "name": "stderr",
     "output_type": "stream",
     "text": [
      "/home/jup_user/mlproject/jup-env/lib/python3.8/site-packages/sklearn/cluster/_kmeans.py:1416: FutureWarning: The default value of `n_init` will change from 10 to 'auto' in 1.4. Set the value of `n_init` explicitly to suppress the warning\n",
      "  super()._check_params_vs_input(X, default_n_init=10)\n"
     ]
    },
    {
     "name": "stderr",
     "output_type": "stream",
     "text": [
      "/home/jup_user/mlproject/jup-env/lib/python3.8/site-packages/sklearn/cluster/_kmeans.py:1416: FutureWarning: The default value of `n_init` will change from 10 to 'auto' in 1.4. Set the value of `n_init` explicitly to suppress the warning\n",
      "  super()._check_params_vs_input(X, default_n_init=10)\n"
     ]
    },
    {
     "name": "stderr",
     "output_type": "stream",
     "text": [
      "/home/jup_user/mlproject/jup-env/lib/python3.8/site-packages/sklearn/cluster/_kmeans.py:1416: FutureWarning: The default value of `n_init` will change from 10 to 'auto' in 1.4. Set the value of `n_init` explicitly to suppress the warning\n",
      "  super()._check_params_vs_input(X, default_n_init=10)\n"
     ]
    },
    {
     "name": "stderr",
     "output_type": "stream",
     "text": [
      "/home/jup_user/mlproject/jup-env/lib/python3.8/site-packages/sklearn/cluster/_kmeans.py:1416: FutureWarning: The default value of `n_init` will change from 10 to 'auto' in 1.4. Set the value of `n_init` explicitly to suppress the warning\n",
      "  super()._check_params_vs_input(X, default_n_init=10)\n"
     ]
    },
    {
     "name": "stderr",
     "output_type": "stream",
     "text": [
      "/home/jup_user/mlproject/jup-env/lib/python3.8/site-packages/sklearn/cluster/_kmeans.py:1416: FutureWarning: The default value of `n_init` will change from 10 to 'auto' in 1.4. Set the value of `n_init` explicitly to suppress the warning\n",
      "  super()._check_params_vs_input(X, default_n_init=10)\n"
     ]
    },
    {
     "name": "stderr",
     "output_type": "stream",
     "text": [
      "/home/jup_user/mlproject/jup-env/lib/python3.8/site-packages/sklearn/cluster/_kmeans.py:1416: FutureWarning: The default value of `n_init` will change from 10 to 'auto' in 1.4. Set the value of `n_init` explicitly to suppress the warning\n",
      "  super()._check_params_vs_input(X, default_n_init=10)\n"
     ]
    },
    {
     "name": "stderr",
     "output_type": "stream",
     "text": [
      "/home/jup_user/mlproject/jup-env/lib/python3.8/site-packages/sklearn/cluster/_kmeans.py:1416: FutureWarning: The default value of `n_init` will change from 10 to 'auto' in 1.4. Set the value of `n_init` explicitly to suppress the warning\n",
      "  super()._check_params_vs_input(X, default_n_init=10)\n"
     ]
    },
    {
     "name": "stderr",
     "output_type": "stream",
     "text": [
      "/home/jup_user/mlproject/jup-env/lib/python3.8/site-packages/sklearn/cluster/_kmeans.py:1416: FutureWarning: The default value of `n_init` will change from 10 to 'auto' in 1.4. Set the value of `n_init` explicitly to suppress the warning\n",
      "  super()._check_params_vs_input(X, default_n_init=10)\n"
     ]
    },
    {
     "name": "stderr",
     "output_type": "stream",
     "text": [
      "/home/jup_user/mlproject/jup-env/lib/python3.8/site-packages/sklearn/cluster/_kmeans.py:1416: FutureWarning: The default value of `n_init` will change from 10 to 'auto' in 1.4. Set the value of `n_init` explicitly to suppress the warning\n",
      "  super()._check_params_vs_input(X, default_n_init=10)\n"
     ]
    },
    {
     "name": "stderr",
     "output_type": "stream",
     "text": [
      "/home/jup_user/mlproject/jup-env/lib/python3.8/site-packages/sklearn/cluster/_kmeans.py:1416: FutureWarning: The default value of `n_init` will change from 10 to 'auto' in 1.4. Set the value of `n_init` explicitly to suppress the warning\n",
      "  super()._check_params_vs_input(X, default_n_init=10)\n"
     ]
    },
    {
     "name": "stderr",
     "output_type": "stream",
     "text": [
      "/home/jup_user/mlproject/jup-env/lib/python3.8/site-packages/sklearn/cluster/_kmeans.py:1416: FutureWarning: The default value of `n_init` will change from 10 to 'auto' in 1.4. Set the value of `n_init` explicitly to suppress the warning\n",
      "  super()._check_params_vs_input(X, default_n_init=10)\n"
     ]
    },
    {
     "name": "stderr",
     "output_type": "stream",
     "text": [
      "/home/jup_user/mlproject/jup-env/lib/python3.8/site-packages/sklearn/cluster/_kmeans.py:1416: FutureWarning: The default value of `n_init` will change from 10 to 'auto' in 1.4. Set the value of `n_init` explicitly to suppress the warning\n",
      "  super()._check_params_vs_input(X, default_n_init=10)\n"
     ]
    },
    {
     "name": "stderr",
     "output_type": "stream",
     "text": [
      "/home/jup_user/mlproject/jup-env/lib/python3.8/site-packages/sklearn/cluster/_kmeans.py:1416: FutureWarning: The default value of `n_init` will change from 10 to 'auto' in 1.4. Set the value of `n_init` explicitly to suppress the warning\n",
      "  super()._check_params_vs_input(X, default_n_init=10)\n"
     ]
    },
    {
     "name": "stderr",
     "output_type": "stream",
     "text": [
      "/home/jup_user/mlproject/jup-env/lib/python3.8/site-packages/sklearn/cluster/_kmeans.py:1416: FutureWarning: The default value of `n_init` will change from 10 to 'auto' in 1.4. Set the value of `n_init` explicitly to suppress the warning\n",
      "  super()._check_params_vs_input(X, default_n_init=10)\n"
     ]
    },
    {
     "name": "stderr",
     "output_type": "stream",
     "text": [
      "/home/jup_user/mlproject/jup-env/lib/python3.8/site-packages/sklearn/cluster/_kmeans.py:1416: FutureWarning: The default value of `n_init` will change from 10 to 'auto' in 1.4. Set the value of `n_init` explicitly to suppress the warning\n",
      "  super()._check_params_vs_input(X, default_n_init=10)\n"
     ]
    }
   ],
   "source": [
    "path = folder_path\n",
    "# change the working directory to the path where the images are located\n",
    "os.chdir(path)\n",
    "\n",
    "# this list holds all the image filename\n",
    "flowers = []\n",
    "\n",
    "# creates a ScandirIterator aliased as files\n",
    "with os.scandir(path) as files:\n",
    "  # loops through each file in the directory\n",
    "    for file in files:\n",
    "        if file.name.endswith('.jpg'):\n",
    "          # adds only the image files to the flowers list\n",
    "            flowers.append(file.name)\n",
    "        if file.name.endswith('.png'):\n",
    "            # adds only the image files to the flowers list\n",
    "            flowers.append(file.name)\n",
    "            \n",
    "model = VGG16()\n",
    "model = Model(inputs = model.inputs, outputs = model.layers[-2].output)\n",
    "   \n",
    "data = {}\n",
    "p = \"/home/jup_user/multipool/ai-case-study/img\"\n",
    "\n",
    "# lop through each image in the dataset\n",
    "for flower in flowers:\n",
    "    # try to extract the features and update the dictionary\n",
    "    try:\n",
    "        feat = extract_features(flower,model)\n",
    "        data[flower] = feat\n",
    "    # if something fails, save the extracted features as a pickle file (optional)\n",
    "    except:\n",
    "        with open(p,'wb') as file:\n",
    "            pickle.dump(data,file)\n",
    "          \n",
    "# get a list of the filenames\n",
    "filenames = np.array(list(data.keys()))\n",
    "\n",
    "# get a list of just the features\n",
    "feat = np.array(list(data.values()))\n",
    "\n",
    "# reshape so that there are 210 samples of 4096 vectors\n",
    "feat = feat.reshape(-1,4096)\n",
    "\n",
    "# get the unique labels (from the flower_labels.csv)\n",
    "df = pd.read_csv('/home/jup_user/multipool/ai-case-study/flower_labels.csv')\n",
    "label = df['label'].tolist()\n",
    "unique_labels = list(set(label))\n",
    "\n",
    "# reduce the amount of dimensions in the feature vector\n",
    "pca = PCA(n_components=100, random_state=22)\n",
    "pca.fit(feat)\n",
    "x = pca.transform(feat)\n",
    "\n",
    "# cluster feature vectors\n",
    "kmeans = KMeans(n_clusters=len(unique_labels), random_state=22)\n",
    "kmeans.fit(x)\n",
    "\n",
    "# holds the cluster id and the images { id: [images] }\n",
    "groups = {}\n",
    "for file, cluster in zip(filenames,kmeans.labels_):\n",
    "    if cluster not in groups.keys():\n",
    "        groups[cluster] = []\n",
    "        groups[cluster].append(file)\n",
    "    else:\n",
    "        groups[cluster].append(file)\n",
    "\n",
    "# this is just incase you want to see which value for k might be the best \n",
    "sse = []\n",
    "list_k = list(range(3, 50))\n",
    "\n",
    "for k in list_k:\n",
    "    km = KMeans(n_clusters=k, random_state=22)\n",
    "    km.fit(x)\n",
    "    \n",
    "    sse.append(km.inertia_)\n",
    "\n",
    "# function to calculate clusters\n",
    "def cluster(filePaths, features, threshold=0.9):\n",
    "    features = features.reshape(-1,4096)\n",
    "    simMatrix = cosine_similarity(features)\n",
    "    clusters = {}\n",
    "    for i in range(len(features)):\n",
    "        dupIdx = list(np.where(simMatrix[i] > threshold)[0])\n",
    "        # The similarity matrix will include comparisons of items with themselves, which will always \n",
    "        # result in a similarity of 1.0 (100%) and is redundant, so we ignore those\n",
    "        if len(dupIdx) > 1:\n",
    "            curCluster, clusterMatch = list(dupIdx), None\n",
    "            # The first time an image is found to be in any given cluster, we log the entire cluster, \n",
    "            # so subsequent checks of other images from the same cluster would result in duplicated clusters.\n",
    "            # Check for that here\n",
    "            for cIdx in clusters:\n",
    "                if curCluster[0] in clusters[cIdx]:\n",
    "                    clusterMatch = cIdx\n",
    "                    break\n",
    "            # If the current cluster didn't match any existing ones, create/log it\n",
    "            if clusterMatch == None: clusters[len(clusters)] = curCluster\n",
    "    # Resolve file indices back to file paths\n",
    "    for cIdx in clusters: clusters[cIdx] = [filePaths[x] for x in clusters[cIdx]]\n",
    "    return clusters\n",
    "\n",
    "# another method of clustering based on CSI\n",
    "clus_new = cluster(filenames, feat, threshold=0.6)"
   ]
  },
  {
   "cell_type": "code",
   "execution_count": 7,
   "id": "d431c067-bb02-4785-9f0a-511ceacbb4cc",
   "metadata": {
    "execution": {
     "iopub.execute_input": "2024-05-23T17:17:20.704784Z",
     "iopub.status.busy": "2024-05-23T17:17:20.702571Z",
     "iopub.status.idle": "2024-05-23T17:17:20.712845Z",
     "shell.execute_reply": "2024-05-23T17:17:20.711531Z"
    }
   },
   "outputs": [],
   "source": [
    "# prepare data for saving to rdbms\n",
    "save_df = result_df"
   ]
  },
  {
   "cell_type": "code",
   "execution_count": 8,
   "id": "19662fd0-5dd8-466f-a505-a81568f2a000",
   "metadata": {
    "execution": {
     "iopub.execute_input": "2024-05-23T17:17:20.717864Z",
     "iopub.status.busy": "2024-05-23T17:17:20.717238Z",
     "iopub.status.idle": "2024-05-23T17:17:20.725685Z",
     "shell.execute_reply": "2024-05-23T17:17:20.724723Z"
    }
   },
   "outputs": [],
   "source": [
    "# save_df[[\"file_folder\",\"filename_actual\"]] = save_df['filename'].str.split('/',n=1, expand=True)\n",
    "save_df['cluster_number'] = 0"
   ]
  },
  {
   "cell_type": "code",
   "execution_count": 9,
   "id": "e81fc242-b9f9-4d7e-a4e2-7e4605826aaf",
   "metadata": {
    "collapsed": true,
    "execution": {
     "iopub.execute_input": "2024-05-23T17:17:20.731537Z",
     "iopub.status.busy": "2024-05-23T17:17:20.730366Z",
     "iopub.status.idle": "2024-05-23T17:17:20.815879Z",
     "shell.execute_reply": "2024-05-23T17:17:20.811243Z"
    },
    "jupyter": {
     "outputs_hidden": true
    }
   },
   "outputs": [
    {
     "name": "stdout",
     "output_type": "stream",
     "text": [
      "GODq6JPbUAAZ5hQ.jpg\n",
      "GONVmz9aMAAisrF.jpg\n",
      "GOPuthHWkAAKQab.jpg\n",
      "GOPr9gcWYAAHhmi.jpg\n",
      "GOPum-5aAAAznFH.jpg\n",
      "GOHjrRMWMAAU4Hm.jpg\n",
      "GOPrXlsa8AAVLxV.png\n",
      "GOPpkaoWEAA4XBe.jpg\n",
      "GOPwLw7XIAAQGVO.jpg\n",
      "GONHrgIa0AAOvbt.jpg\n",
      "GOPuE9bXgAAntoz.jpg\n",
      "GOPrBN4WEAAo11b.jpg\n",
      "GOPuQguWoAAzwYo.jpg\n",
      "GOPqAOfWMAA2YLp.jpg\n",
      "GOPvfkPXgAA4mgY.jpg\n",
      "GOPnuixXkAATkIK.png\n",
      "GOL7mifW0AAKNW5.jpg\n",
      "GOPqGrzakAALRoR.png\n",
      "GOPsIDfbgAAzOEQ.jpg\n",
      "GOPrzQbXUAA2HKN.jpg\n",
      "GOPpVdabgAIwTJT.jpg\n",
      "GOM_nhsWAAASp11.png\n",
      "GOPpak4WAAAEkZ1.jpg\n",
      "GOPw62sWEAAFs3g.jpg\n",
      "GOPoPb9bwAA8uo6.jpg\n",
      "GOPq4pPboAEjvHj.jpg\n",
      "GOPpZXFW4AAKP7l.jpg\n",
      "GONVmz9aMAAisrF.jpg\n",
      "GOL9ctBWUAAx9xs.jpg\n",
      "GOPwejWXcAAFCBH.jpg\n",
      "GOPS4q1XoAApwmi.jpg\n",
      "GOPoFXjWcAAvenv.jpg\n",
      "GOPwP-ZWYAA2v21.jpg\n",
      "GOPo1ZgWYAAP0m5.jpg\n",
      "GOPoG_AakAAIbLc.jpg\n",
      "GOPqqCxXQAEsTsV.jpg\n",
      "GOPwuNbXMAEewfe.jpg\n",
      "GOPu21vbwAEyzBW.jpg\n",
      "GOPpTzbXIAA96hl.jpg\n",
      "GOPsrOzbEAA1nbj.jpg\n",
      "GOM_nhsWAAASp11.png\n",
      "GOPw62sWEAAFs3g.jpg\n",
      "GOPswL6WAAAwRIF.jpg\n",
      "GOMnNUQWYAAWIXh.jpg\n",
      "GOPwejWXcAAFCBH.jpg\n",
      "GOPoFXjWcAAvenv.jpg\n",
      "GOPs-RXW0AAu5L7.jpg\n",
      "GOPpkmoacAAH0X-.jpg\n",
      "GOPw62sWEAAFs3g.jpg\n",
      "GOPnozGaIAA3QBw.jpg\n",
      "GOPxOKGWMAAC5CY.jpg\n",
      "GOPqFbwWYAAi2Mb.png\n",
      "GOPqlr4XUAAHSRO.jpg\n",
      "GONAvJfb0AMPIBf.jpg\n",
      "GOL7mifW0AAKNW5.jpg\n",
      "GOPm_M9W4AEJtsl.png\n",
      "GOPwKAnbUAAyutr.jpg\n",
      "GOPwM6na4AEAiap.jpg\n",
      "GOPtoEiWUAEbYCY.png\n",
      "GOPoPb9bwAA8uo6.jpg\n",
      "GOPu-dIWEAAGaRT.jpg\n"
     ]
    }
   ],
   "source": [
    "for item in clus_new:\n",
    "    # print(clus_new[item])\n",
    "    # print(len(clus_new[item]))\n",
    "    for file in clus_new[item]:\n",
    "        # print(item)\n",
    "        print(file)\n",
    "        filter_condition = save_df['filename'] == file\n",
    "        save_df.loc[filter_condition,'cluster_number'] = item\n",
    "        result = save_df[filter_condition]\n",
    "        # result['cluster_number'] = item\n",
    "        # print(save_df.loc[filter_condition,'cluster_number'])"
   ]
  },
  {
   "cell_type": "code",
   "execution_count": 10,
   "id": "75d585c9-ce51-461d-86c7-c9bc2c45fb79",
   "metadata": {
    "collapsed": true,
    "execution": {
     "iopub.execute_input": "2024-05-23T17:17:20.822719Z",
     "iopub.status.busy": "2024-05-23T17:17:20.822207Z",
     "iopub.status.idle": "2024-05-23T17:17:25.552348Z",
     "shell.execute_reply": "2024-05-23T17:17:25.549854Z"
    },
    "jupyter": {
     "outputs_hidden": true
    }
   },
   "outputs": [
    {
     "name": "stdout",
     "output_type": "stream",
     "text": [
      "INSERT into ret_cluster_result (job_id, tweet_id, cluster_no) values (3891, 1793542310393000439, 4)\n",
      "Query executed successfully. 1 rows affected.\n",
      "INSERT into ret_cluster_result (job_id, tweet_id, cluster_no) values (3891, 1793383236279603227, 0)\n"
     ]
    },
    {
     "name": "stdout",
     "output_type": "stream",
     "text": [
      "Query executed successfully. 1 rows affected.\n",
      "INSERT into ret_cluster_result (job_id, tweet_id, cluster_no) values (3891, 1793288021783031909, 0)\n",
      "Query executed successfully. 1 rows affected.\n",
      "INSERT into ret_cluster_result (job_id, tweet_id, cluster_no) values (3891, 1793332982586941903, 0)\n",
      "Query executed successfully. 1 rows affected.\n",
      "INSERT into ret_cluster_result (job_id, tweet_id, cluster_no) values (3891, 1793542157619560700, 1)\n"
     ]
    },
    {
     "name": "stdout",
     "output_type": "stream",
     "text": [
      "Query executed successfully. 1 rows affected.\n",
      "INSERT into ret_cluster_result (job_id, tweet_id, cluster_no) values (3891, 1793542141433823518, 0)\n",
      "Query executed successfully. 1 rows affected.\n",
      "INSERT into ret_cluster_result (job_id, tweet_id, cluster_no) values (3891, 1793542011829833781, 0)\n",
      "Query executed successfully. 1 rows affected.\n",
      "INSERT into ret_cluster_result (job_id, tweet_id, cluster_no) values (3891, 1793542004892434719, 0)\n"
     ]
    },
    {
     "name": "stdout",
     "output_type": "stream",
     "text": [
      "Query executed successfully. 1 rows affected.\n",
      "INSERT into ret_cluster_result (job_id, tweet_id, cluster_no) values (3891, 1793541976052433077, 3)\n",
      "Query executed successfully. 1 rows affected.\n",
      "INSERT into ret_cluster_result (job_id, tweet_id, cluster_no) values (3891, 1790007607928730102, 1)\n",
      "Query executed successfully. 1 rows affected.\n",
      "INSERT into ret_cluster_result (job_id, tweet_id, cluster_no) values (3891, 1793541662901444947, 0)\n"
     ]
    },
    {
     "name": "stdout",
     "output_type": "stream",
     "text": [
      "Query executed successfully. 1 rows affected.\n",
      "INSERT into ret_cluster_result (job_id, tweet_id, cluster_no) values (3891, 1793541651530743842, 0)\n",
      "Query executed successfully. 1 rows affected.\n",
      "INSERT into ret_cluster_result (job_id, tweet_id, cluster_no) values (3891, 1793541588666528034, 0)\n",
      "Query executed successfully. 1 rows affected.\n",
      "INSERT into ret_cluster_result (job_id, tweet_id, cluster_no) values (3891, 1793541551215542667, 5)\n"
     ]
    },
    {
     "name": "stdout",
     "output_type": "stream",
     "text": [
      "Query executed successfully. 1 rows affected.\n",
      "INSERT into ret_cluster_result (job_id, tweet_id, cluster_no) values (3891, 1793239877330329704, 0)\n",
      "Query executed successfully. 1 rows affected.\n",
      "INSERT into ret_cluster_result (job_id, tweet_id, cluster_no) values (3891, 1793541490746274214, 2)\n"
     ]
    },
    {
     "name": "stdout",
     "output_type": "stream",
     "text": [
      "Query executed successfully. 1 rows affected.\n",
      "INSERT into ret_cluster_result (job_id, tweet_id, cluster_no) values (3891, 1793541476858916988, 0)\n",
      "Query executed successfully. 1 rows affected.\n",
      "INSERT into ret_cluster_result (job_id, tweet_id, cluster_no) values (3891, 1793541450552283579, 0)\n",
      "Query executed successfully. 1 rows affected.\n",
      "INSERT into ret_cluster_result (job_id, tweet_id, cluster_no) values (3891, 1793325789829529770, 1)\n",
      "Query executed successfully. 1 rows affected.\n",
      "INSERT into ret_cluster_result (job_id, tweet_id, cluster_no) values (3891, 1793541183224029513, 6)\n"
     ]
    },
    {
     "name": "stdout",
     "output_type": "stream",
     "text": [
      "Query executed successfully. 1 rows affected.\n",
      "INSERT into ret_cluster_result (job_id, tweet_id, cluster_no) values (3891, 1793541173665300685, 1)\n",
      "Query executed successfully. 1 rows affected.\n",
      "INSERT into ret_cluster_result (job_id, tweet_id, cluster_no) values (3891, 1793541164676923503, 1)\n"
     ]
    },
    {
     "name": "stdout",
     "output_type": "stream",
     "text": [
      "Query executed successfully. 1 rows affected.\n",
      "INSERT into ret_cluster_result (job_id, tweet_id, cluster_no) values (3891, 1793541157890249133, 0)\n",
      "Query executed successfully. 1 rows affected.\n",
      "INSERT into ret_cluster_result (job_id, tweet_id, cluster_no) values (3891, 1793377591292051600, 6)\n",
      "Query executed successfully. 1 rows affected.\n",
      "INSERT into ret_cluster_result (job_id, tweet_id, cluster_no) values (3891, 1793540921533108272, 0)\n",
      "Query executed successfully. 1 rows affected.\n",
      "INSERT into ret_cluster_result (job_id, tweet_id, cluster_no) values (3891, 1793540889371148579, 2)\n",
      "Query executed successfully. 1 rows affected.\n",
      "INSERT into ret_cluster_result (job_id, tweet_id, cluster_no) values (3891, 1793540714045014391, 0)\n"
     ]
    },
    {
     "name": "stdout",
     "output_type": "stream",
     "text": [
      "Query executed successfully. 1 rows affected.\n",
      "INSERT into ret_cluster_result (job_id, tweet_id, cluster_no) values (3891, 1793540593660096846, 0)\n"
     ]
    },
    {
     "name": "stdout",
     "output_type": "stream",
     "text": [
      "Query executed successfully. 1 rows affected.\n",
      "INSERT into ret_cluster_result (job_id, tweet_id, cluster_no) values (3891, 1793540476206727248, 0)\n",
      "Query executed successfully. 1 rows affected.\n",
      "INSERT into ret_cluster_result (job_id, tweet_id, cluster_no) values (3891, 1793540460914602479, 0)\n",
      "Query executed successfully. 1 rows affected.\n",
      "INSERT into ret_cluster_result (job_id, tweet_id, cluster_no) values (3891, 1793540437283946932, 1)\n",
      "Query executed successfully. 1 rows affected.\n",
      "INSERT into ret_cluster_result (job_id, tweet_id, cluster_no) values (3891, 1793422119130583130, 1)\n",
      "Query executed successfully. 1 rows affected.\n",
      "INSERT into ret_cluster_result (job_id, tweet_id, cluster_no) values (3891, 1793540343847432473, 0)\n",
      "Query executed successfully. 1 rows affected.\n",
      "INSERT into ret_cluster_result (job_id, tweet_id, cluster_no) values (3891, 1793540329448313078, 0)\n"
     ]
    },
    {
     "name": "stdout",
     "output_type": "stream",
     "text": [
      "Query executed successfully. 1 rows affected.\n",
      "INSERT into ret_cluster_result (job_id, tweet_id, cluster_no) values (3891, 1793540138926227582, 0)\n"
     ]
    },
    {
     "name": "stdout",
     "output_type": "stream",
     "text": [
      "Query executed successfully. 1 rows affected.\n",
      "INSERT into ret_cluster_result (job_id, tweet_id, cluster_no) values (3891, 1793539924165349688, 0)\n",
      "Query executed successfully. 1 rows affected.\n",
      "INSERT into ret_cluster_result (job_id, tweet_id, cluster_no) values (3891, 1793347946542407836, 0)\n",
      "Query executed successfully. 1 rows affected.\n",
      "INSERT into ret_cluster_result (job_id, tweet_id, cluster_no) values (3891, 1793539835866579448, 7)\n",
      "Query executed successfully. 1 rows affected.\n",
      "INSERT into ret_cluster_result (job_id, tweet_id, cluster_no) values (3891, 1793539782108393761, 0)\n",
      "Query executed successfully. 1 rows affected.\n",
      "INSERT into ret_cluster_result (job_id, tweet_id, cluster_no) values (3891, 1793539724822614421, 1)\n",
      "Query executed successfully. 1 rows affected.\n",
      "INSERT into ret_cluster_result (job_id, tweet_id, cluster_no) values (3891, 1793327307030954033, 0)\n"
     ]
    },
    {
     "name": "stdout",
     "output_type": "stream",
     "text": [
      "Query executed successfully. 1 rows affected.\n",
      "INSERT into ret_cluster_result (job_id, tweet_id, cluster_no) values (3891, 1793539545994269131, 0)\n"
     ]
    },
    {
     "name": "stdout",
     "output_type": "stream",
     "text": [
      "Query executed successfully. 1 rows affected.\n",
      "INSERT into ret_cluster_result (job_id, tweet_id, cluster_no) values (3891, 1793539473504170085, 0)\n",
      "Query executed successfully. 1 rows affected.\n",
      "INSERT into ret_cluster_result (job_id, tweet_id, cluster_no) values (3891, 1793539435239457226, 0)\n",
      "Query executed successfully. 1 rows affected.\n",
      "INSERT into ret_cluster_result (job_id, tweet_id, cluster_no) values (3891, 1793539432387346775, 1)\n",
      "Query executed successfully. 1 rows affected.\n",
      "INSERT into ret_cluster_result (job_id, tweet_id, cluster_no) values (3891, 1793539280448754120, 0)\n",
      "Query executed successfully. 1 rows affected.\n",
      "INSERT into ret_cluster_result (job_id, tweet_id, cluster_no) values (3891, 1793539169903595895, 1)\n"
     ]
    },
    {
     "name": "stdout",
     "output_type": "stream",
     "text": [
      "Query executed successfully. 1 rows affected.\n",
      "INSERT into ret_cluster_result (job_id, tweet_id, cluster_no) values (3891, 1544380486654590983, 7)\n"
     ]
    },
    {
     "name": "stdout",
     "output_type": "stream",
     "text": [
      "Query executed successfully. 1 rows affected.\n",
      "INSERT into ret_cluster_result (job_id, tweet_id, cluster_no) values (3891, 1793539027590893910, 0)\n",
      "Query executed successfully. 1 rows affected.\n",
      "INSERT into ret_cluster_result (job_id, tweet_id, cluster_no) values (3891, 1793539020846502303, 0)\n",
      "Query executed successfully. 1 rows affected.\n",
      "INSERT into ret_cluster_result (job_id, tweet_id, cluster_no) values (3891, 1793522120254996623, 1)\n",
      "Query executed successfully. 1 rows affected.\n",
      "INSERT into ret_cluster_result (job_id, tweet_id, cluster_no) values (3891, 1793342094641098756, 0)\n",
      "Query executed successfully. 1 rows affected.\n",
      "INSERT into ret_cluster_result (job_id, tweet_id, cluster_no) values (3891, 1793399469402198224, 0)\n"
     ]
    },
    {
     "name": "stdout",
     "output_type": "stream",
     "text": [
      "Query executed successfully. 1 rows affected.\n",
      "INSERT into ret_cluster_result (job_id, tweet_id, cluster_no) values (3891, 1793538669271499248, 0)\n"
     ]
    },
    {
     "name": "stdout",
     "output_type": "stream",
     "text": [
      "Query executed successfully. 1 rows affected.\n",
      "INSERT into ret_cluster_result (job_id, tweet_id, cluster_no) values (3891, 1793538602254930209, 0)\n",
      "Query executed successfully. 1 rows affected.\n",
      "INSERT into ret_cluster_result (job_id, tweet_id, cluster_no) values (3891, 1793538454552502500, 5)\n",
      "Query executed successfully. 1 rows affected.\n",
      "INSERT into ret_cluster_result (job_id, tweet_id, cluster_no) values (3891, 1793538446029697161, 0)\n",
      "Query executed successfully. 1 rows affected.\n",
      "INSERT into ret_cluster_result (job_id, tweet_id, cluster_no) values (3891, 1793538295219265666, 0)\n",
      "Query executed successfully. 1 rows affected.\n",
      "INSERT into ret_cluster_result (job_id, tweet_id, cluster_no) values (3891, 1793497862946373838, 0)\n",
      "Query executed successfully. 1 rows affected.\n",
      "INSERT into ret_cluster_result (job_id, tweet_id, cluster_no) values (3891, 1793538104936292451, 0)\n"
     ]
    },
    {
     "name": "stdout",
     "output_type": "stream",
     "text": [
      "Query executed successfully. 1 rows affected."
     ]
    },
    {
     "name": "stdout",
     "output_type": "stream",
     "text": [
      "\n",
      "INSERT into ret_cluster_result (job_id, tweet_id, cluster_no) values (3891, 1793538053778395447, 0)\n",
      "Query executed successfully. 1 rows affected.\n",
      "INSERT into ret_cluster_result (job_id, tweet_id, cluster_no) values (3891, 1793512254484410373, 0)\n",
      "Query executed successfully. 1 rows affected.\n",
      "INSERT into ret_cluster_result (job_id, tweet_id, cluster_no) values (3891, 1793537869677539829, 0)\n",
      "Query executed successfully. 1 rows affected.\n",
      "INSERT into ret_cluster_result (job_id, tweet_id, cluster_no) values (3891, 1793076215051637143, 0)\n",
      "Query executed successfully. 1 rows affected.\n",
      "INSERT into ret_cluster_result (job_id, tweet_id, cluster_no) values (3891, 1793537822416306648, 0)\n",
      "Query executed successfully. 1 rows affected.\n",
      "INSERT into ret_cluster_result (job_id, tweet_id, cluster_no) values (3891, 1793537799792279563, 0)\n",
      "Query executed successfully. 1 rows affected.\n",
      "INSERT into ret_cluster_result (job_id, tweet_id, cluster_no) values (3891, 1793537637204287759, 2)\n"
     ]
    },
    {
     "name": "stdout",
     "output_type": "stream",
     "text": [
      "Query executed successfully. 1 rows affected.\n",
      "INSERT into ret_cluster_result (job_id, tweet_id, cluster_no) values (3891, 1792925009528168797, 0)\n",
      "Query executed successfully. 1 rows affected.\n",
      "INSERT into ret_cluster_result (job_id, tweet_id, cluster_no) values (3891, 1793537391472386089, 2)\n",
      "Query executed successfully. 1 rows affected.\n",
      "INSERT into ret_cluster_result (job_id, tweet_id, cluster_no) values (3891, 1793537375018029461, 0)\n",
      "Query executed successfully. 1 rows affected.\n",
      "INSERT into ret_cluster_result (job_id, tweet_id, cluster_no) values (3891, 1793301084716323295, 2)\n",
      "Query executed successfully. 1 rows affected.\n",
      "INSERT into ret_cluster_result (job_id, tweet_id, cluster_no) values (3891, 1793537180272570768, 0)\n",
      "Query executed successfully. 1 rows affected.\n",
      "INSERT into ret_cluster_result (job_id, tweet_id, cluster_no) values (3891, 1793174050337923336, 0)\n"
     ]
    },
    {
     "name": "stdout",
     "output_type": "stream",
     "text": [
      "Query executed successfully. 1 rows affected.\n",
      "INSERT into ret_cluster_result (job_id, tweet_id, cluster_no) values (3891, 1793537128548434131, 0)\n",
      "Query executed successfully. 1 rows affected.\n",
      "INSERT into ret_cluster_result (job_id, tweet_id, cluster_no) values (3891, 1793526065174134971, 0)\n",
      "Query executed successfully. 1 rows affected.\n",
      "INSERT into ret_cluster_result (job_id, tweet_id, cluster_no) values (3891, 1793537005080727748, 0)\n",
      "Query executed successfully. 1 rows affected.\n",
      "INSERT into ret_cluster_result (job_id, tweet_id, cluster_no) values (3891, 1793536964249124976, 0)\n",
      "Query executed successfully. 1 rows affected.\n",
      "INSERT into ret_cluster_result (job_id, tweet_id, cluster_no) values (3891, 1793321526852223420, 1)\n",
      "Query executed successfully. 1 rows affected.\n",
      "INSERT into ret_cluster_result (job_id, tweet_id, cluster_no) values (3891, 1792953116523999295, 1)\n"
     ]
    },
    {
     "name": "stdout",
     "output_type": "stream",
     "text": [
      "Query executed successfully. 1 rows affected.\n",
      "INSERT into ret_cluster_result (job_id, tweet_id, cluster_no) values (3891, 1793525863969165564, 1)\n",
      "Query executed successfully. 1 rows affected.\n",
      "INSERT into ret_cluster_result (job_id, tweet_id, cluster_no) values (3891, 1793364908693930469, 0)\n",
      "Query executed successfully. 1 rows affected.\n",
      "INSERT into ret_cluster_result (job_id, tweet_id, cluster_no) values (3891, 1793249518663671966, 0)\n",
      "Query executed successfully. 1 rows affected.\n",
      "INSERT into ret_cluster_result (job_id, tweet_id, cluster_no) values (3891, 1793534325708952043, 1)\n",
      "Query executed successfully. 1 rows affected.\n",
      "INSERT into ret_cluster_result (job_id, tweet_id, cluster_no) values (3891, 1793536345261969744, 1)\n",
      "Query executed successfully. 1 rows affected.\n",
      "INSERT into ret_cluster_result (job_id, tweet_id, cluster_no) values (3891, 1793202646309913023, 0)\n"
     ]
    },
    {
     "name": "stdout",
     "output_type": "stream",
     "text": [
      "Query executed successfully. 1 rows affected.\n",
      "INSERT into ret_cluster_result (job_id, tweet_id, cluster_no) values (3891, 1793529407040266482, 0)\n",
      "Query executed successfully. 1 rows affected.\n",
      "INSERT into ret_cluster_result (job_id, tweet_id, cluster_no) values (3891, 1793536045256204671, 0)\n",
      "Query executed successfully. 1 rows affected.\n",
      "INSERT into ret_cluster_result (job_id, tweet_id, cluster_no) values (3891, 1793390247201431580, 1)\n",
      "Query executed successfully. 1 rows affected.\n",
      "INSERT into ret_cluster_result (job_id, tweet_id, cluster_no) values (3891, 1793535817669075082, 0)\n",
      "Query executed successfully. 1 rows affected.\n",
      "INSERT into ret_cluster_result (job_id, tweet_id, cluster_no) values (3891, 1793535788627706368, 0)\n",
      "Query executed successfully. 1 rows affected.\n",
      "INSERT into ret_cluster_result (job_id, tweet_id, cluster_no) values (3891, 1793535645761384672, 0)\n"
     ]
    },
    {
     "name": "stdout",
     "output_type": "stream",
     "text": [
      "Query executed successfully. 1 rows affected.\n",
      "INSERT into ret_cluster_result (job_id, tweet_id, cluster_no) values (3891, 1793535632851284417, 0)\n",
      "Query executed successfully. 1 rows affected.\n",
      "INSERT into ret_cluster_result (job_id, tweet_id, cluster_no) values (3891, 1793535535174013322, 0)\n",
      "Query executed successfully. 1 rows affected.\n",
      "INSERT into ret_cluster_result (job_id, tweet_id, cluster_no) values (3891, 1793535525904896269, 0)\n",
      "Query executed successfully. 1 rows affected.\n",
      "INSERT into ret_cluster_result (job_id, tweet_id, cluster_no) values (3891, 1793307044126011804, 1)\n",
      "Query executed successfully. 1 rows affected.\n",
      "INSERT into ret_cluster_result (job_id, tweet_id, cluster_no) values (3891, 1793535361349791794, 2)\n",
      "Query executed successfully. 1 rows affected.\n",
      "INSERT into ret_cluster_result (job_id, tweet_id, cluster_no) values (3891, 1793535339191235010, 1)\n"
     ]
    },
    {
     "name": "stdout",
     "output_type": "stream",
     "text": [
      "Query executed successfully. 1 rows affected.\n",
      "INSERT into ret_cluster_result (job_id, tweet_id, cluster_no) values (3891, 1793512156861985145, 0)\n",
      "Query executed successfully. 1 rows affected.\n",
      "INSERT into ret_cluster_result (job_id, tweet_id, cluster_no) values (3891, 1793535171633012917, 0)\n",
      "Query executed successfully. 1 rows affected.\n",
      "INSERT into ret_cluster_result (job_id, tweet_id, cluster_no) values (3891, 1792864510488785076, 5)\n",
      "Query executed successfully. 1 rows affected.\n",
      "INSERT into ret_cluster_result (job_id, tweet_id, cluster_no) values (3891, 1793534630928490863, 1)\n",
      "Query executed successfully. 1 rows affected.\n",
      "INSERT into ret_cluster_result (job_id, tweet_id, cluster_no) values (3891, 1793365663085699265, 4)\n",
      "Query executed successfully. 1 rows affected.\n",
      "INSERT into ret_cluster_result (job_id, tweet_id, cluster_no) values (3891, 1793534567779029189, 0)\n"
     ]
    },
    {
     "name": "stdout",
     "output_type": "stream",
     "text": [
      "Query executed successfully. 1 rows affected.\n",
      "INSERT into ret_cluster_result (job_id, tweet_id, cluster_no) values (3891, 1793534455707238514, 0)\n",
      "Query executed successfully. 1 rows affected.\n",
      "INSERT into ret_cluster_result (job_id, tweet_id, cluster_no) values (3891, 1793534396718612501, 0)\n",
      "Query executed successfully. 1 rows affected.\n",
      "INSERT into ret_cluster_result (job_id, tweet_id, cluster_no) values (3891, 1793534272617554122, 1)\n",
      "Query executed successfully. 1 rows affected.\n",
      "INSERT into ret_cluster_result (job_id, tweet_id, cluster_no) values (3891, 1793396907080917500, 3)\n",
      "Query executed successfully. 1 rows affected.\n",
      "INSERT into ret_cluster_result (job_id, tweet_id, cluster_no) values (3891, 1793467110943060036, 0)\n",
      "Query executed successfully. 1 rows affected.\n",
      "INSERT into ret_cluster_result (job_id, tweet_id, cluster_no) values (3891, 1793534070951149615, 1)\n"
     ]
    },
    {
     "name": "stdout",
     "output_type": "stream",
     "text": [
      "Query executed successfully. 1 rows affected.\n",
      "INSERT into ret_cluster_result (job_id, tweet_id, cluster_no) values (3891, 1793379382796697607, 1)\n",
      "Query executed successfully. 1 rows affected.\n",
      "INSERT into ret_cluster_result (job_id, tweet_id, cluster_no) values (3891, 1793295903068983457, 0)\n",
      "Query executed successfully. 1 rows affected.\n",
      "INSERT into ret_cluster_result (job_id, tweet_id, cluster_no) values (3891, 1793533722077335577, 1)\n",
      "Query executed successfully. 1 rows affected.\n",
      "INSERT into ret_cluster_result (job_id, tweet_id, cluster_no) values (3891, 1793533700644483363, 1)\n",
      "Query executed successfully. 1 rows affected.\n",
      "INSERT into ret_cluster_result (job_id, tweet_id, cluster_no) values (3891, 1793533639395008825, 1)\n",
      "Query executed successfully. 1 rows affected.\n",
      "INSERT into ret_cluster_result (job_id, tweet_id, cluster_no) values (3891, 1793533607384109526, 2)\n"
     ]
    },
    {
     "name": "stdout",
     "output_type": "stream",
     "text": [
      "Query executed successfully. 1 rows affected.\n",
      "INSERT into ret_cluster_result (job_id, tweet_id, cluster_no) values (3891, 1792834879492890980, 0)\n",
      "Query executed successfully. 1 rows affected.\n",
      "INSERT into ret_cluster_result (job_id, tweet_id, cluster_no) values (3891, 1793254211305804251, 0)\n",
      "Query executed successfully. 1 rows affected.\n",
      "INSERT into ret_cluster_result (job_id, tweet_id, cluster_no) values (3891, 1793533197260923376, 0)\n",
      "Query executed successfully. 1 rows affected.\n",
      "INSERT into ret_cluster_result (job_id, tweet_id, cluster_no) values (3891, 1793425200287199607, 0)\n",
      "Query executed successfully. 1 rows affected.\n",
      "INSERT into ret_cluster_result (job_id, tweet_id, cluster_no) values (3891, 1793484053360079024, 1)\n",
      "Query executed successfully. 1 rows affected.\n",
      "INSERT into ret_cluster_result (job_id, tweet_id, cluster_no) values (3891, 1793533057896779901, 0)\n"
     ]
    },
    {
     "name": "stdout",
     "output_type": "stream",
     "text": [
      "Query executed successfully. 1 rows affected.\n",
      "INSERT into ret_cluster_result (job_id, tweet_id, cluster_no) values (3891, 1793532983091327449, 0)\n",
      "Query executed successfully. 1 rows affected.\n",
      "INSERT into ret_cluster_result (job_id, tweet_id, cluster_no) values (3891, 1793532908206174539, 2)\n",
      "Query executed successfully. 1 rows affected.\n",
      "INSERT into ret_cluster_result (job_id, tweet_id, cluster_no) values (3891, 1792878760959557719, 5)\n",
      "Query executed successfully. 1 rows affected.\n",
      "INSERT into ret_cluster_result (job_id, tweet_id, cluster_no) values (3891, 1793532431187976217, 7)\n",
      "Query executed successfully. 1 rows affected.\n",
      "INSERT into ret_cluster_result (job_id, tweet_id, cluster_no) values (3891, 1793532331778769047, 0)\n",
      "Query executed successfully. 1 rows affected.\n",
      "INSERT into ret_cluster_result (job_id, tweet_id, cluster_no) values (3891, 1793338193544085638, 1)\n"
     ]
    },
    {
     "name": "stdout",
     "output_type": "stream",
     "text": [
      "Query executed successfully. 1 rows affected.\n",
      "INSERT into ret_cluster_result (job_id, tweet_id, cluster_no) values (3891, 1793300201589133693, 0)\n",
      "Query executed successfully. 1 rows affected.\n",
      "INSERT into ret_cluster_result (job_id, tweet_id, cluster_no) values (3891, 1793532258445574358, 2)\n",
      "Query executed successfully. 1 rows affected.\n",
      "INSERT into ret_cluster_result (job_id, tweet_id, cluster_no) values (3891, 1793203196346662975, 1)\n",
      "Query executed successfully. 1 rows affected.\n",
      "INSERT into ret_cluster_result (job_id, tweet_id, cluster_no) values (3891, 1793531770086064558, 3)\n",
      "Query executed successfully. 1 rows affected.\n",
      "INSERT into ret_cluster_result (job_id, tweet_id, cluster_no) values (3891, 1793531055716401222, 0)\n",
      "Query executed successfully. 1 rows affected.\n"
     ]
    }
   ],
   "source": [
    "## saving result to table\n",
    "# jobid, tweet_id, cluster_no\n",
    "\n",
    "s_cluster_number = \"\"\n",
    "\n",
    "for index, row in save_df.iterrows():\n",
    "    if row['cluster_number'] == '':\n",
    "        s_cluster_number = \"NULL\"\n",
    "    else:\n",
    "        s_cluster_number = row['cluster_number']\n",
    "        \n",
    "    sql = \"INSERT into ret_cluster_result (job_id, tweet_id, cluster_no) values (%s, %s, %s)\" % (str(const_job_id), row['tweet_id'], s_cluster_number)\n",
    "    print(sql)\n",
    "    execute_query_psql(sql)\n",
    "    \n",
    "    "
   ]
  },
  {
   "cell_type": "code",
   "execution_count": 11,
   "id": "81f02c84-7b1a-44c5-9b1f-40a952c24729",
   "metadata": {
    "execution": {
     "iopub.execute_input": "2024-05-23T17:17:25.557853Z",
     "iopub.status.busy": "2024-05-23T17:17:25.557297Z",
     "iopub.status.idle": "2024-05-23T17:17:25.635141Z",
     "shell.execute_reply": "2024-05-23T17:17:25.633827Z"
    }
   },
   "outputs": [
    {
     "name": "stdout",
     "output_type": "stream",
     "text": [
      "Query executed successfully. 1 rows affected.\n",
      "Query executed successfully. 1 rows affected.\n"
     ]
    },
    {
     "data": {
      "text/plain": [
       "1"
      ]
     },
     "execution_count": 11,
     "metadata": {},
     "output_type": "execute_result"
    }
   ],
   "source": [
    "# closing .... report back job status into rdbms\n",
    "sql = \"update screen_analisis_ai set end_process = now(), status = 3, processby_id = 1 where id = %s\" % (str(const_job_id))\n",
    "execute_query_psql(sql)\n",
    "\n",
    "sql = \"update screen_analisis_ai set duration = EXTRACT(EPOCH FROM (end_process - start_process)) where id = \" + str(const_job_id)\n",
    "execute_query_psql(sql)"
   ]
  },
  {
   "cell_type": "code",
   "execution_count": 12,
   "id": "b46e4f75-0cb1-403d-bce5-355edb5f9879",
   "metadata": {
    "execution": {
     "iopub.execute_input": "2024-05-23T17:17:25.640272Z",
     "iopub.status.busy": "2024-05-23T17:17:25.639605Z",
     "iopub.status.idle": "2024-05-23T17:17:35.653836Z",
     "shell.execute_reply": "2024-05-23T17:17:35.652425Z"
    }
   },
   "outputs": [],
   "source": [
    "# wait 10 seconds before finished\n",
    "import time\n",
    "time.sleep(10)"
   ]
  }
 ],
 "metadata": {
  "kernelspec": {
   "display_name": "Python 3 (ipykernel)",
   "language": "python",
   "name": "python3"
  },
  "language_info": {
   "codemirror_mode": {
    "name": "ipython",
    "version": 3
   },
   "file_extension": ".py",
   "mimetype": "text/x-python",
   "name": "python",
   "nbconvert_exporter": "python",
   "pygments_lexer": "ipython3",
   "version": "3.8.10"
  }
 },
 "nbformat": 4,
 "nbformat_minor": 5
}
