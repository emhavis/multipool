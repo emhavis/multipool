{
 "cells": [
  {
   "cell_type": "markdown",
   "id": "77be3745-de0f-4f27-a7ce-f0b3839d647f",
   "metadata": {
    "editable": true,
    "slideshow": {
     "slide_type": ""
    },
    "tags": []
   },
   "source": [
    "1. get sample image\n",
    "2. download image\n",
    "3. perform imnage grouping\n",
    "4. inspect result\n",
    "\n",
    "Next items to do, prepare and package as jobs\n",
    "1. create auto-query\n",
    "2. create sql to store result\n",
    "3. export to executable py\n",
    "\n",
    "\n",
    "# Plot sse against k\n",
    "plt.figure(figsize=(6, 6))\n",
    "plt.plot(list_k, sse)\n",
    "plt.xlabel(r'Number of clusters *k*')\n",
    "plt.ylabel('Sum of squared distance');\n",
    "\n",
    "# prepare data for saving to rdbms\n",
    "# print(clus_new)\n",
    "# i = 0 \n",
    "result_cluster = []\n",
    "\n",
    "for item in clus_new:\n",
    "    # print(clus_new[item])\n",
    "    print(len(clus_new[item]))\n",
    "    for file in clus_new[item]:\n",
    "        # print(file, item)\n",
    "        result_cluster.append(file)\n",
    "    # i = i + 1\n",
    "\n",
    "# view_cluster_2(0)\n",
    "len(clus_new)\n",
    "len(result_cluster)\n",
    "\n",
    "\n",
    " * Kesepakatan status di kolom screen_analisis_ai.status\n",
    " * 1 --> baru diinput\n",
    " * 2 --> lagi dikerjakan\n",
    " * 3 --> proses berhasil\n",
    " * 4 --> proses gagal\n",
    " *\n",
    " \n",
    " * Kesepakatan jenis analisa AI\n",
    " * 1 --> Analisa Cluster\n",
    " * 2 --> Analisa image clustering\n",
    " * 3 --> Analisa sentiment\n"
   ]
  },
  {
   "cell_type": "code",
   "execution_count": 1,
   "id": "ff0951b4-bdc4-4c7a-9846-016d02539805",
   "metadata": {
    "execution": {
     "iopub.execute_input": "2024-06-06T17:10:12.655767Z",
     "iopub.status.busy": "2024-06-06T17:10:12.655386Z",
     "iopub.status.idle": "2024-06-06T17:10:26.206224Z",
     "shell.execute_reply": "2024-06-06T17:10:26.204795Z"
    }
   },
   "outputs": [
    {
     "name": "stderr",
     "output_type": "stream",
     "text": [
      "2024-06-06 17:10:14.077254: I tensorflow/core/util/port.cc:110] oneDNN custom operations are on. You may see slightly different numerical results due to floating-point round-off errors from different computation orders. To turn them off, set the environment variable `TF_ENABLE_ONEDNN_OPTS=0`.\n",
      "2024-06-06 17:10:14.082410: I tensorflow/tsl/cuda/cudart_stub.cc:28] Could not find cuda drivers on your machine, GPU will not be used.\n",
      "2024-06-06 17:10:14.245839: I tensorflow/tsl/cuda/cudart_stub.cc:28] Could not find cuda drivers on your machine, GPU will not be used.\n",
      "2024-06-06 17:10:14.258455: I tensorflow/core/platform/cpu_feature_guard.cc:182] This TensorFlow binary is optimized to use available CPU instructions in performance-critical operations.\n",
      "To enable the following instructions: AVX2 AVX512F AVX512_VNNI FMA, in other operations, rebuild TensorFlow with the appropriate compiler flags.\n"
     ]
    },
    {
     "name": "stderr",
     "output_type": "stream",
     "text": [
      "2024-06-06 17:10:17.752310: W tensorflow/compiler/tf2tensorrt/utils/py_utils.cc:38] TF-TRT Warning: Could not find TensorRT\n"
     ]
    }
   ],
   "source": [
    "# for loading/processing the images  \n",
    "from keras.preprocessing.image import load_img \n",
    "from keras.preprocessing.image import img_to_array \n",
    "from keras.applications.vgg16 import preprocess_input \n",
    "from sklearn.metrics.pairwise import cosine_similarity\n",
    "\n",
    "# models \n",
    "from keras.applications.vgg16 import VGG16 \n",
    "from keras.models import Model\n",
    "\n",
    "# clustering and dimension reduction\n",
    "from sklearn.cluster import KMeans\n",
    "from sklearn.decomposition import PCA\n",
    "\n",
    "# for everything else\n",
    "import os\n",
    "import numpy as np\n",
    "import matplotlib.pyplot as plt\n",
    "from random import randint\n",
    "import pandas as pd\n",
    "import pickle\n",
    "import requests\n",
    "from pathlib import Path\n",
    "from sqlalchemy import create_engine\n",
    "from sqlalchemy.exc import SQLAlchemyError\n",
    "from PIL import Image\n",
    "from io import BytesIO\n",
    "from urllib.parse import urlparse"
   ]
  },
  {
   "cell_type": "code",
   "execution_count": 2,
   "id": "51bdb754-c427-4732-8940-d82b64678866",
   "metadata": {
    "editable": true,
    "execution": {
     "iopub.execute_input": "2024-06-06T17:10:26.229122Z",
     "iopub.status.busy": "2024-06-06T17:10:26.224033Z",
     "iopub.status.idle": "2024-06-06T17:10:27.494709Z",
     "shell.execute_reply": "2024-06-06T17:10:27.480937Z"
    },
    "slideshow": {
     "slide_type": ""
    },
    "tags": []
   },
   "outputs": [],
   "source": [
    "def resize_and_upload_image(url, save_folder):\n",
    "    try:\n",
    "        # Fetch the image from the URL\n",
    "        response = requests.get(url)\n",
    "        response.raise_for_status()\n",
    "\n",
    "        # Open the image from the response content\n",
    "        image = Image.open(BytesIO(response.content))\n",
    "\n",
    "        # Check the image size in bytes\n",
    "        image_size = len(response.content)\n",
    "\n",
    "        # Set the maximum allowed size in bytes (200KB)\n",
    "        max_size = 200 * 1024\n",
    "\n",
    "        # Extract the base path from the URL for saving the images\n",
    "        parsed_url = urlparse(url)\n",
    "        base_path = os.path.basename(parsed_url.path)\n",
    "\n",
    "        # Determine the paths for saving the images\n",
    "        original_image_path = os.path.join(save_folder, 'original_' + base_path)\n",
    "        resized_image_path = os.path.join(save_folder, 'resized_' + base_path)\n",
    "\n",
    "        # If the image size exceeds the maximum allowed size, resize it\n",
    "        if image_size > max_size:\n",
    "            print('more than 200kb')\n",
    "            print(original_image_path)\n",
    "            print(resized_image_path)\n",
    "            \n",
    "            # Calculate the scaling factor to reduce the image size\n",
    "            scale_factor = (max_size / image_size) ** 0.5\n",
    "            new_width = int(image.width * scale_factor)\n",
    "            new_height = int(image.height * scale_factor)\n",
    "\n",
    "            # Resize the image\n",
    "            resized_image = image.resize((new_width, new_height), Image.ANTIALIAS)\n",
    "\n",
    "            # Save the resized image to the local folder\n",
    "            resized_image.save(resized_image_path, format=\"JPEG\")\n",
    "\n",
    "            # Reupload the resized image to the original location\n",
    "            with open(resized_image_path, 'rb') as resized_file:\n",
    "                reupload_url = url  # Use the original URL for reupload\n",
    "                print(url)\n",
    "                files = {'file': ('resized_' + base_path, resized_file)}\n",
    "                reupload_response = requests.post(reupload_url, files=files)\n",
    "                print(reupload_response)\n",
    "\n",
    "            # Delete the original image in the local folder\n",
    "            os.remove(original_image_path)\n",
    "\n",
    "        else:\n",
    "            # Image is smaller than 200KB, no need to resize or reupload\n",
    "            resized_image_path = original_image_path\n",
    "\n",
    "        return original_image_path, resized_image_path\n",
    "\n",
    "    except Exception as e:\n",
    "        # Handle errors such as invalid URLs or image processing issues\n",
    "        return str(e)\n",
    "\n",
    "# Example usage:\n",
    "# imageURL = \"https://example.com/path/to/your/image.jpg\"\n",
    "# save_folder = \"path/to/your/local/folder\"\n",
    "# original_image_path, resized_image_path = resize_and_upload_image(imageURL, save_folder)\n",
    "# Both original_image_path and resized_image_path will contain the file paths in the local folder.\n",
    "\n",
    "def download_image(url, folder_path):\n",
    "    try:\n",
    "        # Send an HTTP GET request to the URL\n",
    "        response = requests.get(url)\n",
    "\n",
    "        # Check if the request was successful (status code 200)\n",
    "        if response.status_code == 200:\n",
    "            # Extract the filename from the URL\n",
    "            filename = os.path.join(folder_path, os.path.basename(url))\n",
    "\n",
    "            # Save the image to the specified folder location\n",
    "            with open(filename, 'wb') as file:\n",
    "                file.write(response.content)\n",
    "            file_size_bytes = os.path.getsize(filename)\n",
    "            file_size_kb = file_size_bytes / 1024\n",
    "\n",
    "            if file_size_kb >= 200:\n",
    "                print(\"Resizing...\")\n",
    "                resize_and_upload_image(filename,url)\n",
    "            # print(f\"Image downloaded and saved as {filename}\")\n",
    "        else:\n",
    "            print(f\"Failed to download image. Status code: {response.status_code}\")\n",
    "\n",
    "    except Exception as e:\n",
    "        print(f\"Error: {str(e)}\")\n",
    "\n",
    "def resize_and_upload_image(file_path, upload_url, target_size_kb=200):\n",
    "    try:\n",
    "        # Open the image from the file\n",
    "        with Image.open(file_path) as image:\n",
    "            # Calculate the target size in bytes\n",
    "            target_size_bytes = target_size_kb * 1024\n",
    "\n",
    "            # Initialize the quality variable\n",
    "            quality = 95\n",
    "\n",
    "            while os.path.getsize(file_path) > target_size_bytes:\n",
    "                # Resize the image while keeping the quality constant\n",
    "                width, height = image.size\n",
    "                new_width = int(width * 0.9)\n",
    "                new_height = int(height * 0.9)\n",
    "\n",
    "                # Ensure the dimensions are at least 1\n",
    "                new_width = max(1, new_width)\n",
    "                new_height = max(1, new_height)\n",
    "\n",
    "                image = image.resize((new_width, new_height), Image.LANCZOS)\n",
    "\n",
    "                # Save the resized image to the same file\n",
    "                image.save(file_path, \"JPEG\", quality=quality)\n",
    "\n",
    "            if os.path.getsize(file_path) <= target_size_bytes:\n",
    "                print(f\"Image resized and overwritten at: {file_path}\")\n",
    "\n",
    "                # Upload the resized image to the given URL\n",
    "                with open(file_path, 'rb') as file:\n",
    "                    response = requests.post(upload_url, files={'file': (os.path.basename(file_path), file)})\n",
    "\n",
    "                if response.status_code == 200:\n",
    "                    print(f\"Image uploaded to {upload_url}\")\n",
    "                else:\n",
    "                    print(f\"Upload failed with status code {response.status_code}\")\n",
    "            else:\n",
    "                print(f\"Image not resized, not uploaded.\")\n",
    "                \n",
    "    except Exception as e:\n",
    "        print(f\"Error: {e}\")\n",
    "\n",
    "## query functions\n",
    "\n",
    "\n",
    "import pandas as pd\n",
    "from sqlalchemy import create_engine, Column, Integer, String, MetaData, Table\n",
    "from sqlalchemy.orm import sessionmaker\n",
    "from sqlalchemy.exc import SQLAlchemyError\n",
    "from sqlalchemy.util import deprecations\n",
    "from sqlalchemy.sql import text\n",
    "deprecations.SILENCE_UBER_WARNING = True\n",
    "\n",
    "def execute_query_psql(query, params=None):\n",
    "    # Set your PostgreSQL connection parameters\n",
    "    db_params = {\n",
    "        'host': '98.98.117.105',\n",
    "        'port': '5432',\n",
    "        'database': 'medols',\n",
    "        'user': 'postgres',\n",
    "        'password': 'FEWcTB3JIX5gK4T06c1MdkM9N2S8w9pb',\n",
    "    }\n",
    "\n",
    "    # Create a SQLAlchemy engine\n",
    "    engine = create_engine(f\"postgresql+psycopg2://{db_params['user']}:{db_params['password']}@{db_params['host']}:{db_params['port']}/{db_params['database']}\")\n",
    "\n",
    "    # Create a metadata object\n",
    "    metadata = MetaData()\n",
    "\n",
    "    # Create a session\n",
    "    Session = sessionmaker(bind=engine)\n",
    "    session = Session()\n",
    "\n",
    "    try:\n",
    "        # Execute the query with optional parameters\n",
    "        result = session.execute(text(query), params)\n",
    "\n",
    "        # Check if the query is a SELECT query\n",
    "        is_select_query = result.returns_rows\n",
    "\n",
    "        if is_select_query:\n",
    "            # Fetch the data and return as a Pandas DataFrame\n",
    "            columns = result.keys()\n",
    "            fetched_data = result.fetchall()\n",
    "            df = pd.DataFrame(fetched_data, columns=columns)\n",
    "            # print(\"Fetched Data as DataFrame:\")\n",
    "            # print(df)\n",
    "            return df\n",
    "        else:\n",
    "            # Get the number of rows affected for non-SELECT queries\n",
    "            rows_affected = result.rowcount\n",
    "\n",
    "            # Commit the changes to the database for non-SELECT queries\n",
    "            session.commit()\n",
    "\n",
    "            print(f\"Query executed successfully. {rows_affected} rows affected.\")\n",
    "            return rows_affected\n",
    "    except Exception as e:\n",
    "        # Rollback changes if there's an error\n",
    "        session.rollback()\n",
    "        print(f\"Error executing query: {e}\")\n",
    "    finally:\n",
    "        # Close the session\n",
    "        session.close()\n",
    "\n",
    "def clear_image():\n",
    "    folder_path = '/home/jup_user/multipool/ai-case-study/img'\n",
    "    # Create a Path object for the folder\n",
    "    folder = Path(folder_path)\n",
    "    \n",
    "    # Iterate through the files in the folder and delete them\n",
    "    for file in folder.iterdir():\n",
    "        try:\n",
    "            if file.is_file():\n",
    "                file.unlink()\n",
    "                # print(f\"Deleted {file}\")\n",
    "            else:\n",
    "                print(f\"{file} is not a file.\")\n",
    "        except Exception as e:\n",
    "            print(f\"Error deleting {file}: {str(e)}\")\n",
    "\n",
    "# extracting feature from image files\n",
    "def extract_features(file, model):\n",
    "    # load the image as a 224x224 array\n",
    "    img = load_img(file, target_size=(224,224))\n",
    "    # convert from 'PIL.Image.Image' to numpy array\n",
    "    img = np.array(img) \n",
    "    # reshape the data for the model reshape(num_of_samples, dim 1, dim 2, channels)\n",
    "    reshaped_img = img.reshape(1,224,224,3) \n",
    "    # prepare image for model\n",
    "    imgx = preprocess_input(reshaped_img)\n",
    "    # get the feature vector\n",
    "    features = model.predict(imgx, use_multiprocessing=True)\n",
    "    return features\n",
    "\n",
    "# function that lets you view a cluster (based on identifier)        \n",
    "def view_cluster(cluster):\n",
    "    plt.figure(figsize = (25,25));\n",
    "    # gets the list of filenames for a cluster\n",
    "    files = groups[cluster]\n",
    "    # only allow up to 30 images to be shown at a time\n",
    "    if len(files) > 30:\n",
    "        print(f\"Clipping cluster size from {len(files)} to 30\")\n",
    "        files = files[:29]\n",
    "    # plot each image in the cluster\n",
    "    for index, file in enumerate(files):\n",
    "        plt.subplot(10,10,index+1);\n",
    "        img = load_img(file)\n",
    "        img = np.array(img)\n",
    "        plt.imshow(img)\n",
    "        plt.axis('off')"
   ]
  },
  {
   "cell_type": "code",
   "execution_count": 3,
   "id": "06e7431f-bef6-42e7-a49e-27ebcf66c2cd",
   "metadata": {
    "execution": {
     "iopub.execute_input": "2024-06-06T17:10:27.519374Z",
     "iopub.status.busy": "2024-06-06T17:10:27.514491Z",
     "iopub.status.idle": "2024-06-06T17:10:27.794081Z",
     "shell.execute_reply": "2024-06-06T17:10:27.784319Z"
    }
   },
   "outputs": [
    {
     "name": "stdout",
     "output_type": "stream",
     "text": [
      "iJobID: 87643\n",
      "const_job_id: 3915\n",
      "const_parameter: None\n"
     ]
    }
   ],
   "source": [
    "#\n",
    "# Get jobsid from queue table\n",
    "# \n",
    "iJobID = 0\n",
    "sql = \"\"\"\n",
    "select \ta.id, a.hastag, a.parameter\n",
    "from \tscreen_analisis_ai a inner join ret_available_db b \n",
    "\t\ton a.hastag = b.db_id \n",
    "where \ta.active = 1\n",
    "\t\tand a.status = 1\n",
    "\t\tand a.jenis_analisa = '2'\n",
    "order by b.since desc limit 1\n",
    "\"\"\"\n",
    "\n",
    "df_res = execute_query_psql(sql)\n",
    "\n",
    "# check job availability\n",
    "if(len(df_res)) == 0:\n",
    "    # get out, nothing to do\n",
    "    print('Zero jobs, quitting now')\n",
    "    quit()\n",
    "\n",
    "df_res.head()\n",
    "iJobID = df_res['hastag'][0]\n",
    "const_job_id = df_res['id'][0]\n",
    "const_parameter = df_res['parameter'][0]\n",
    "\n",
    "print('iJobID: ' + str(iJobID))\n",
    "print('const_job_id: ' + str(const_job_id))\n",
    "print('const_parameter: ' + str(const_parameter))\n"
   ]
  },
  {
   "cell_type": "code",
   "execution_count": 4,
   "id": "4f216f10-c9cf-45c4-8a41-3ab3245d8c5a",
   "metadata": {
    "execution": {
     "iopub.execute_input": "2024-06-06T17:10:27.808457Z",
     "iopub.status.busy": "2024-06-06T17:10:27.807685Z",
     "iopub.status.idle": "2024-06-06T17:10:28.079879Z",
     "shell.execute_reply": "2024-06-06T17:10:28.078745Z"
    }
   },
   "outputs": [
    {
     "name": "stdout",
     "output_type": "stream",
     "text": [
      "update screen_analisis_ai set status = 2, last_status_update = now(), start_process = now() where id = '3915';\n",
      "Query executed successfully. 1 rows affected.\n"
     ]
    },
    {
     "name": "stdout",
     "output_type": "stream",
     "text": [
      "Query executed successfully. 1 rows affected.\n"
     ]
    },
    {
     "data": {
      "text/plain": [
       "1"
      ]
     },
     "execution_count": 4,
     "metadata": {},
     "output_type": "execute_result"
    }
   ],
   "source": [
    "## report to dbms that we are working on this row\n",
    "sql = \"\"\n",
    "sql = \"update screen_analisis_ai set status = 2, last_status_update = now(), start_process = now() where id = '\" + str(const_job_id) + \"';\"\n",
    "print(sql)\n",
    "# execute\n",
    "# execute_sqlalchemy_transaction(sql)\n",
    "execute_query_psql(sql)\n",
    "#\n",
    "# Create Header Record\n",
    "sql = \"insert into ret_analysis_header (job_id, datetime_start, user_id) values (%s, now(), %s)\" % (const_job_id,\"1\")\n",
    "# Execute the query\n",
    "execute_query_psql(sql)\n"
   ]
  },
  {
   "cell_type": "code",
   "execution_count": 5,
   "id": "b14cc5e6-bd16-4a40-b585-478eeea0e8c9",
   "metadata": {
    "collapsed": true,
    "execution": {
     "iopub.execute_input": "2024-06-06T17:10:28.104420Z",
     "iopub.status.busy": "2024-06-06T17:10:28.103759Z",
     "iopub.status.idle": "2024-06-06T17:10:38.552839Z",
     "shell.execute_reply": "2024-06-06T17:10:38.548983Z"
    },
    "jupyter": {
     "outputs_hidden": true
    },
    "scrolled": true
   },
   "outputs": [
    {
     "name": "stdout",
     "output_type": "stream",
     "text": [
      "\n",
      "select a.id, a.db_id, c.tweet_id, c.filename\n",
      "from ret_available_db a inner join ret_tweet b on a.db_id = b.db_id\n",
      "inner join media_files c on b.id = c.tweet_id\n",
      "where \ta.db_id = 87643\n",
      "\n"
     ]
    },
    {
     "name": "stdout",
     "output_type": "stream",
     "text": [
      "http://98.98.117.121:8082/api/media/photo/download/twitter/GPR8tf1WoAAR5S5.jpg\n",
      "http://98.98.117.121:8082/api/media/photo/download/twitter/GPSfYwKacAAsHl8.jpg\n",
      "http://98.98.117.121:8082/api/media/photo/download/twitter/GPTEyEUa8AAxVgV.jpg\n",
      "http://98.98.117.121:8082/api/media/photo/download/twitter/GPTEXRwb0AAmaK5.jpg\n",
      "http://98.98.117.121:8082/api/media/photo/download/twitter/GPR_XwpbsAA79Y7.jpg\n",
      "http://98.98.117.121:8082/api/media/photo/download/twitter/GPTDniPacAAIHYv.jpg\n",
      "http://98.98.117.121:8082/api/media/photo/download/twitter/GPR_Wvxa0AAMMa5.jpg\n"
     ]
    },
    {
     "name": "stdout",
     "output_type": "stream",
     "text": [
      "http://98.98.117.121:8082/api/media/photo/download/twitter/GPR_VXOaYAAqMq8.jpg\n",
      "http://98.98.117.121:8082/api/media/photo/download/twitter/GPR_SQTa8AAS-Pv.jpg\n",
      "http://98.98.117.121:8082/api/media/photo/download/twitter/GPR_FWVasAAL6vn.jpg\n",
      "http://98.98.117.121:8082/api/media/photo/download/twitter/GPR_EV4aEAEVFk4.jpg\n",
      "http://98.98.117.121:8082/api/media/photo/download/twitter/GPR-_LfbMAIpVZo.jpg\n",
      "http://98.98.117.121:8082/api/media/photo/download/twitter/GPR--T7aIAAQTWa.jpg\n",
      "http://98.98.117.121:8082/api/media/photo/download/twitter/GPR-9bHacAAl5sU.jpg\n",
      "http://98.98.117.121:8082/api/media/photo/download/twitter/GPS_1B_akAAOY4t.jpg\n",
      "http://98.98.117.121:8082/api/media/photo/download/twitter/GPTAL42aEAAzpnz.jpg\n"
     ]
    },
    {
     "name": "stdout",
     "output_type": "stream",
     "text": [
      "http://98.98.117.121:8082/api/media/photo/download/twitter/GPRnY1KbAAANWxb.jpg\n",
      "http://98.98.117.121:8082/api/media/photo/download/twitter/GPRqRoBa8AA0dQZ.jpg\n",
      "http://98.98.117.121:8082/api/media/photo/download/twitter/GPS-ILEbMAARLcP.jpg\n",
      "http://98.98.117.121:8082/api/media/photo/download/twitter/GPSeJuSbsAA_kmO.jpg\n",
      "http://98.98.117.121:8082/api/media/photo/download/twitter/GPS5ky1aUAAzgZi.jpg\n",
      "http://98.98.117.121:8082/api/media/photo/download/twitter/GPS3mOCasAAsKhd.jpg\n",
      "http://98.98.117.121:8082/api/media/photo/download/twitter/GPS3ELIagAAD2a8.jpg\n",
      "http://98.98.117.121:8082/api/media/photo/download/twitter/Fnyqof-aIAE3w4f.jpg\n"
     ]
    },
    {
     "name": "stdout",
     "output_type": "stream",
     "text": [
      "http://98.98.117.121:8082/api/media/photo/download/twitter/GPSzNDNbwAAu5c1.png\n",
      "http://98.98.117.121:8082/api/media/photo/download/twitter/GPSzY_7b0AASdsL.jpg\n",
      "http://98.98.117.121:8082/api/media/photo/download/twitter/GPSy4OWbYAAdUdt.jpg\n",
      "http://98.98.117.121:8082/api/media/photo/download/twitter/GPSyJH7W0AA4w7_.jpg\n",
      "http://98.98.117.121:8082/api/media/photo/download/twitter/GPSyBhUa4AAUdFr.jpg\n",
      "http://98.98.117.121:8082/api/media/photo/download/twitter/GPSxp0Da4AArnqN.jpg\n",
      "http://98.98.117.121:8082/api/media/photo/download/twitter/GPSxp2AbkAA2isD.jpg\n",
      "http://98.98.117.121:8082/api/media/photo/download/twitter/GPSw94XbYAAxkIf.jpg\n",
      "http://98.98.117.121:8082/api/media/photo/download/twitter/GPSw4ToaEAAugIK.jpg\n",
      "http://98.98.117.121:8082/api/media/photo/download/twitter/GPSwZRpa0AAbohU.jpg\n"
     ]
    },
    {
     "name": "stdout",
     "output_type": "stream",
     "text": [
      "http://98.98.117.121:8082/api/media/photo/download/twitter/GPSwTH7aMAAH6qo.jpg\n",
      "http://98.98.117.121:8082/api/media/photo/download/twitter/GPSwMdMbgAAcAhy.jpg\n",
      "http://98.98.117.121:8082/api/media/photo/download/twitter/EUgqAZxUYAA9Yg0.jpg\n",
      "http://98.98.117.121:8082/api/media/photo/download/twitter/GPSu2K4bYAAdIYq.jpg\n",
      "http://98.98.117.121:8082/api/media/photo/download/twitter/GPSuxSTbkAAgkKs.jpg\n",
      "http://98.98.117.121:8082/api/media/photo/download/twitter/GPSurRwaUAAlIp0.jpg\n",
      "http://98.98.117.121:8082/api/media/photo/download/twitter/GPStOM_bMAAcKzf.jpg\n",
      "http://98.98.117.121:8082/api/media/photo/download/twitter/GPStFfvaAAARiLc.jpg\n"
     ]
    },
    {
     "name": "stdout",
     "output_type": "stream",
     "text": [
      "http://98.98.117.121:8082/api/media/photo/download/twitter/GPSs-G5agAAS-tX.jpg\n",
      "http://98.98.117.121:8082/api/media/photo/download/twitter/GPSrnClaMAAxXWu.jpg\n",
      "http://98.98.117.121:8082/api/media/photo/download/twitter/GPSrgwnakAAb7Jo.jpg\n",
      "http://98.98.117.121:8082/api/media/photo/download/twitter/GPSraXcbQAE2_cp.jpg\n",
      "http://98.98.117.121:8082/api/media/photo/download/twitter/GPSqJl_aMAAgbk5.jpg\n",
      "http://98.98.117.121:8082/api/media/photo/download/twitter/GPSqD9VbgAAcjbT.jpg\n",
      "http://98.98.117.121:8082/api/media/photo/download/twitter/GPSp-MmaUAAN71h.jpg\n",
      "http://98.98.117.121:8082/api/media/photo/download/twitter/GPSnEsfa0AAzBya.jpg\n",
      "http://98.98.117.121:8082/api/media/photo/download/twitter/GPSmoArbYAEUR8V.jpg\n",
      "http://98.98.117.121:8082/api/media/photo/download/twitter/GPSmQjxakAA7jvQ.jpg\n",
      "http://98.98.117.121:8082/api/media/photo/download/twitter/GPSmAHjbMAAJDA-.jpg\n",
      "http://98.98.117.121:8082/api/media/photo/download/twitter/GPSiI3DaEAAVw1U.jpg\n"
     ]
    },
    {
     "name": "stdout",
     "output_type": "stream",
     "text": [
      "http://98.98.117.121:8082/api/media/photo/download/twitter/GPShHY-aEAAtjnv.jpg\n",
      "http://98.98.117.121:8082/api/media/photo/download/twitter/GPSeVYtaAAA2QQj.jpg\n",
      "http://98.98.117.121:8082/api/media/photo/download/twitter/GPSdXrCbQAAVqJB.jpg\n",
      "http://98.98.117.121:8082/api/media/photo/download/twitter/GPSZapyaUAAZ4FF.jpg\n",
      "http://98.98.117.121:8082/api/media/photo/download/twitter/GPSZZ6ub0AADxwL.jpg\n",
      "http://98.98.117.121:8082/api/media/photo/download/twitter/GPSZZDHbsAAw98g.jpg\n",
      "http://98.98.117.121:8082/api/media/photo/download/twitter/GPSZYXgaEAAr-jx.jpg\n"
     ]
    },
    {
     "name": "stdout",
     "output_type": "stream",
     "text": [
      "http://98.98.117.121:8082/api/media/photo/download/twitter/GPSZXUYbEAAG3Pr.jpg\n",
      "http://98.98.117.121:8082/api/media/photo/download/twitter/GPSZWmnbQAAx2TD.jpg\n",
      "http://98.98.117.121:8082/api/media/photo/download/twitter/GPSXMDAbEAApNFg.jpg\n",
      "http://98.98.117.121:8082/api/media/photo/download/twitter/GPSXEAJaYAA_PIu.jpg\n",
      "http://98.98.117.121:8082/api/media/photo/download/twitter/GPSX2oBa8AAj3XA.jpg\n",
      "http://98.98.117.121:8082/api/media/photo/download/twitter/GPSXBN4bUAEcIBy.jpg\n",
      "http://98.98.117.121:8082/api/media/photo/download/twitter/GPSW_9iaUAAufoo.jpg\n"
     ]
    },
    {
     "name": "stdout",
     "output_type": "stream",
     "text": [
      "http://98.98.117.121:8082/api/media/photo/download/twitter/GPSW-5lbQAAOS5D.jpg\n",
      "http://98.98.117.121:8082/api/media/photo/download/twitter/GPSW-EpbEAAMpP9.jpg\n",
      "http://98.98.117.121:8082/api/media/photo/download/twitter/GPSW9MFb0AA5_0B.jpg\n",
      "http://98.98.117.121:8082/api/media/photo/download/twitter/GPSW8aJaMAALNgn.jpg\n",
      "http://98.98.117.121:8082/api/media/photo/download/twitter/GPSKHaQa4AAiNZf.jpg\n",
      "http://98.98.117.121:8082/api/media/photo/download/twitter/GPSVW_1aUAAbFKo.jpg\n",
      "http://98.98.117.121:8082/api/media/photo/download/twitter/GPST1OxbAAAsP_M.jpg\n",
      "http://98.98.117.121:8082/api/media/photo/download/twitter/GPSUt8ga0AA-60C.jpg\n",
      "http://98.98.117.121:8082/api/media/photo/download/twitter/GPSTbt4a8AAOjEP.jpg\n",
      "http://98.98.117.121:8082/api/media/photo/download/twitter/GPSTSUZaIAAtsKE.jpg\n"
     ]
    },
    {
     "name": "stdout",
     "output_type": "stream",
     "text": [
      "http://98.98.117.121:8082/api/media/photo/download/twitter/GPSTE0BbsAAVUki.jpg\n",
      "http://98.98.117.121:8082/api/media/photo/download/twitter/GPSRUs_bQAEf3Rr.jpg\n",
      "http://98.98.117.121:8082/api/media/photo/download/twitter/GPSRMSbaMAAs4UN.jpg\n",
      "http://98.98.117.121:8082/api/media/photo/download/twitter/GPSRGJJboAAGNE7.jpg\n",
      "http://98.98.117.121:8082/api/media/photo/download/twitter/GPSQ_xDacAAlzFO.jpg\n",
      "http://98.98.117.121:8082/api/media/photo/download/twitter/GPSQ3-bbgAEsC5n.jpg\n",
      "http://98.98.117.121:8082/api/media/photo/download/twitter/GPSQxpAaIAA_hSg.jpg\n",
      "http://98.98.117.121:8082/api/media/photo/download/twitter/GPSQqNcaEAArQD1.jpg\n",
      "http://98.98.117.121:8082/api/media/photo/download/twitter/GPSQkUuaoAA27gy.jpg\n"
     ]
    },
    {
     "name": "stdout",
     "output_type": "stream",
     "text": [
      "http://98.98.117.121:8082/api/media/photo/download/twitter/GPSQfuBbAAAL1TO.jpg\n",
      "http://98.98.117.121:8082/api/media/photo/download/twitter/GPSQZ2EasAAl9ik.jpg\n",
      "http://98.98.117.121:8082/api/media/photo/download/twitter/GPSQRiiaEAAr7BJ.jpg\n",
      "http://98.98.117.121:8082/api/media/photo/download/twitter/GPSQNGPaIAAS--S.png\n",
      "http://98.98.117.121:8082/api/media/photo/download/twitter/GPSQHZGaYAAYpvA.png\n",
      "http://98.98.117.121:8082/api/media/photo/download/twitter/GPSQBMzbcAA4f5K.jpg\n",
      "http://98.98.117.121:8082/api/media/photo/download/twitter/GPSP8fibQAA0D0S.png\n"
     ]
    },
    {
     "name": "stdout",
     "output_type": "stream",
     "text": [
      "http://98.98.117.121:8082/api/media/photo/download/twitter/GPSP0-AacAAi-NX.jpg\n",
      "http://98.98.117.121:8082/api/media/photo/download/twitter/GPSPvhGbcAEhU8Y.jpg\n",
      "http://98.98.117.121:8082/api/media/photo/download/twitter/GPSPpfebEAAxnXF.jpg\n",
      "http://98.98.117.121:8082/api/media/photo/download/twitter/GPSPeWWaIAAG1KS.jpg\n",
      "http://98.98.117.121:8082/api/media/photo/download/twitter/GPSPLAwawAAEO9t.jpg\n",
      "http://98.98.117.121:8082/api/media/photo/download/twitter/GPSO9lxbEAAuFGg.jpg\n",
      "http://98.98.117.121:8082/api/media/photo/download/twitter/GPSOYkCboAA-Euy.jpg\n"
     ]
    },
    {
     "name": "stdout",
     "output_type": "stream",
     "text": [
      "http://98.98.117.121:8082/api/media/photo/download/twitter/GPSNMoca4AAzUMa.jpg\n",
      "http://98.98.117.121:8082/api/media/photo/download/twitter/GPSNCaUbwAA1GOO.jpg\n",
      "http://98.98.117.121:8082/api/media/photo/download/twitter/GPSMe-xboAAD4jx.jpg\n",
      "http://98.98.117.121:8082/api/media/photo/download/twitter/GPSMb39a4AAtJ99.jpg\n",
      "http://98.98.117.121:8082/api/media/photo/download/twitter/GPSK-g-akAAFSF-.jpg\n",
      "http://98.98.117.121:8082/api/media/photo/download/twitter/GPSKcKsbQAIs7tj.jpg\n",
      "http://98.98.117.121:8082/api/media/photo/download/twitter/GPSIYJLbgAAGvn6.jpg\n",
      "http://98.98.117.121:8082/api/media/photo/download/twitter/GPSIdS4aQAASeEI.jpg\n"
     ]
    },
    {
     "name": "stdout",
     "output_type": "stream",
     "text": [
      "http://98.98.117.121:8082/api/media/photo/download/twitter/GPSGah9aAAAD8Ip.jpg\n",
      "http://98.98.117.121:8082/api/media/photo/download/twitter/GPSFZLcbEAAqwkT.jpg\n",
      "http://98.98.117.121:8082/api/media/photo/download/twitter/GPSE81GaoAAzlZX.jpg\n",
      "http://98.98.117.121:8082/api/media/photo/download/twitter/GPSEqkvb0AAcAHw.jpg\n",
      "http://98.98.117.121:8082/api/media/photo/download/twitter/GPSC-YqaMAEkm-R.jpg\n",
      "http://98.98.117.121:8082/api/media/photo/download/twitter/GPSBsLUbcAAXd9x.jpg\n",
      "http://98.98.117.121:8082/api/media/photo/download/twitter/GPSBrZUawAAS2fX.jpg\n",
      "http://98.98.117.121:8082/api/media/photo/download/twitter/GPSBqjoacAA39LH.jpg\n",
      "http://98.98.117.121:8082/api/media/photo/download/twitter/GPSBoONawAAp6jq.jpg\n"
     ]
    },
    {
     "name": "stdout",
     "output_type": "stream",
     "text": [
      "http://98.98.117.121:8082/api/media/photo/download/twitter/GPSBnpfaMAA2qmZ.jpg\n",
      "http://98.98.117.121:8082/api/media/photo/download/twitter/GPSBm3Xa4AAp1Se.jpg\n",
      "http://98.98.117.121:8082/api/media/photo/download/twitter/GPSBcJWasAA6KjX.jpg\n",
      "http://98.98.117.121:8082/api/media/photo/download/twitter/GPSBbZTboAAJXQ0.jpg\n",
      "http://98.98.117.121:8082/api/media/photo/download/twitter/GPSBareaAAAvkN9.jpg\n",
      "http://98.98.117.121:8082/api/media/photo/download/twitter/GPSBXj2bMAAc30A.jpg\n",
      "http://98.98.117.121:8082/api/media/photo/download/twitter/GPSA1DjbIAEnyS-.jpg\n",
      "http://98.98.117.121:8082/api/media/photo/download/twitter/GPRY1oEbAAAsJVX.jpg\n",
      "http://98.98.117.121:8082/api/media/photo/download/twitter/GPR_bVtakAAX50X.jpg\n"
     ]
    },
    {
     "name": "stdout",
     "output_type": "stream",
     "text": [
      "http://98.98.117.121:8082/api/media/photo/download/twitter/GPR-_qhakAAlgt9.jpg\n",
      "http://98.98.117.121:8082/api/media/photo/download/twitter/GPR9KIHaUAA6LuO.jpg\n",
      "http://98.98.117.121:8082/api/media/photo/download/twitter/GPR9xWHaIAAoyAf.jpg\n",
      "http://98.98.117.121:8082/api/media/photo/download/twitter/GPR6zcNaUAAQGSL.jpg\n",
      "http://98.98.117.121:8082/api/media/photo/download/twitter/GPR6ysXbEAAebvC.jpg\n",
      "http://98.98.117.121:8082/api/media/photo/download/twitter/GPR6x4TbwAArxej.jpg\n",
      "http://98.98.117.121:8082/api/media/photo/download/twitter/GPR6d5Tb0AArTt1.jpg\n"
     ]
    },
    {
     "name": "stdout",
     "output_type": "stream",
     "text": [
      "http://98.98.117.121:8082/api/media/photo/download/twitter/GPR6cjKa8AAg1sP.jpg\n",
      "http://98.98.117.121:8082/api/media/photo/download/twitter/GPR6aqUbsAAWMGJ.jpg\n",
      "http://98.98.117.121:8082/api/media/photo/download/twitter/GPR6WCua4AAKtHW.jpg\n",
      "http://98.98.117.121:8082/api/media/photo/download/twitter/GPR6VAwboAAS9A1.jpg\n",
      "http://98.98.117.121:8082/api/media/photo/download/twitter/GPR6TziagAAmvPn.jpg\n",
      "http://98.98.117.121:8082/api/media/photo/download/twitter/GPR6OAvboAI9eP6.jpg\n",
      "http://98.98.117.121:8082/api/media/photo/download/twitter/GPR6NV2akAA4zAT.jpg\n",
      "http://98.98.117.121:8082/api/media/photo/download/twitter/GPR6MWLasAAR4SR.jpg\n"
     ]
    },
    {
     "name": "stdout",
     "output_type": "stream",
     "text": [
      "http://98.98.117.121:8082/api/media/photo/download/twitter/GPR5yKCawAA6_0c.jpg\n",
      "http://98.98.117.121:8082/api/media/photo/download/twitter/GPR5ZASaUAAgMuP.jpg\n",
      "http://98.98.117.121:8082/api/media/photo/download/twitter/GPR5UEzbEAA4Rej.png\n",
      "http://98.98.117.121:8082/api/media/photo/download/twitter/GPR4vJ-aAAASjKG.png\n",
      "http://98.98.117.121:8082/api/media/photo/download/twitter/GPR4lzHbUAA9x-0.jpg\n",
      "http://98.98.117.121:8082/api/media/photo/download/twitter/GPR3bOXaMAA2Hfl.jpg\n",
      "http://98.98.117.121:8082/api/media/photo/download/twitter/GPR2JJqbgAEFHkg.jpg\n",
      "http://98.98.117.121:8082/api/media/photo/download/twitter/GPR1ibYakAApHYn.jpg\n",
      "http://98.98.117.121:8082/api/media/photo/download/twitter/GPR0gRzaYAAxk1y.jpg\n"
     ]
    },
    {
     "name": "stdout",
     "output_type": "stream",
     "text": [
      "http://98.98.117.121:8082/api/media/photo/download/twitter/GPR1Jpaa4AEC5Yg.jpg\n",
      "http://98.98.117.121:8082/api/media/photo/download/twitter/GPRvbw2aQAATz4z.jpg\n",
      "http://98.98.117.121:8082/api/media/photo/download/twitter/GPRvWaXaUAA7iO-.jpg\n",
      "http://98.98.117.121:8082/api/media/photo/download/twitter/GPRuknuaUAAS2qQ.jpg\n",
      "http://98.98.117.121:8082/api/media/photo/download/twitter/GPRqk3LbEAAm_17.jpg\n",
      "http://98.98.117.121:8082/api/media/photo/download/twitter/GPRmNByaUAAvnaI.jpg\n",
      "http://98.98.117.121:8082/api/media/photo/download/twitter/GPRkJ_fasAAihDe.jpg\n",
      "http://98.98.117.121:8082/api/media/photo/download/twitter/GPRj9qtaYAAR_04.jpg\n"
     ]
    },
    {
     "name": "stdout",
     "output_type": "stream",
     "text": [
      "http://98.98.117.121:8082/api/media/photo/download/twitter/GPReOoKagAAukSL.jpg\n",
      "http://98.98.117.121:8082/api/media/photo/download/twitter/GPMxRNqaYAEsANT.jpg\n",
      "http://98.98.117.121:8082/api/media/photo/download/twitter/GPRf8gmbgAAmezn.jpg\n",
      "http://98.98.117.121:8082/api/media/photo/download/twitter/GPReiyCbYAILZ1q.jpg\n",
      "http://98.98.117.121:8082/api/media/photo/download/twitter/GPRd7axbkAA_jsF.jpg\n",
      "http://98.98.117.121:8082/api/media/photo/download/twitter/GPCddDHbIAADdj8.png\n",
      "http://98.98.117.121:8082/api/media/photo/download/twitter/GPRc_oEboAADDiY.jpg\n",
      "http://98.98.117.121:8082/api/media/photo/download/twitter/GPQmV0Ra4AAqrhM.jpg\n"
     ]
    },
    {
     "name": "stdout",
     "output_type": "stream",
     "text": [
      "http://98.98.117.121:8082/api/media/photo/download/twitter/GPQmi2YacAA6TNL.jpg\n",
      "http://98.98.117.121:8082/api/media/photo/download/twitter/GPRZVB2aEAAsiru.jpg\n",
      "http://98.98.117.121:8082/api/media/photo/download/twitter/GPRW340bQAAJ0yr.jpg\n",
      "http://98.98.117.121:8082/api/media/photo/download/twitter/GPRWAVvbEAACPNM.jpg\n",
      "http://98.98.117.121:8082/api/media/photo/download/twitter/GPRTradboAANnZR.jpg\n",
      "http://98.98.117.121:8082/api/media/photo/download/twitter/GPRPEVobQAAAt5Z.jpg\n",
      "http://98.98.117.121:8082/api/media/photo/download/twitter/GPRO6UwbMAAoBfK.jpg\n",
      "http://98.98.117.121:8082/api/media/photo/download/twitter/GPRMBWMbIAAjsm6.jpg\n",
      "http://98.98.117.121:8082/api/media/photo/download/twitter/GPRCepvbYAAjwrL.jpg\n"
     ]
    },
    {
     "name": "stdout",
     "output_type": "stream",
     "text": [
      "http://98.98.117.121:8082/api/media/photo/download/twitter/GPRCcJ9aUAAxpUO.jpg\n",
      "http://98.98.117.121:8082/api/media/photo/download/twitter/GPRCcGUaoAAg0CJ.jpg\n",
      "http://98.98.117.121:8082/api/media/photo/download/twitter/GPRCY5kakAAPADs.jpg\n",
      "http://98.98.117.121:8082/api/media/photo/download/twitter/GPRCW26aYAAXzHz.jpg\n",
      "http://98.98.117.121:8082/api/media/photo/download/twitter/GPRCP8iaYAA09fE.jpg\n",
      "http://98.98.117.121:8082/api/media/photo/download/twitter/GPRCNk7bYAAf4j2.jpg\n",
      "http://98.98.117.121:8082/api/media/photo/download/twitter/GPRCLa1aoAAv7Kt.jpg\n",
      "http://98.98.117.121:8082/api/media/photo/download/twitter/GPRCJOMbUAAtQj_.jpg\n",
      "http://98.98.117.121:8082/api/media/photo/download/twitter/GPRCFUbbkAANa2E.jpg\n"
     ]
    },
    {
     "name": "stdout",
     "output_type": "stream",
     "text": [
      "http://98.98.117.121:8082/api/media/photo/download/twitter/GPRCC7BaAAAnOOg.jpg\n",
      "http://98.98.117.121:8082/api/media/photo/download/twitter/GPRCATJbAAA-wAN.jpg\n",
      "http://98.98.117.121:8082/api/media/photo/download/twitter/GPRB8-jbcAAv2-p.jpg\n",
      "http://98.98.117.121:8082/api/media/photo/download/twitter/GPRB2TlbIAAcGEg.jpg\n",
      "http://98.98.117.121:8082/api/media/photo/download/twitter/GPRBwJGawAASjeb.jpg\n",
      "http://98.98.117.121:8082/api/media/photo/download/twitter/GPRBh-8awAEqCp8.jpg\n",
      "http://98.98.117.121:8082/api/media/photo/download/twitter/GPRBbz3bIAA8Wh_.jpg\n",
      "http://98.98.117.121:8082/api/media/photo/download/twitter/GPQ2KOQbsAAjgu5.png\n",
      "http://98.98.117.121:8082/api/media/photo/download/twitter/GPQunoWbUAAT0Sc.jpg\n"
     ]
    },
    {
     "name": "stdout",
     "output_type": "stream",
     "text": [
      "http://98.98.117.121:8082/api/media/photo/download/twitter/GPQttnxasAAKUW2.jpg\n",
      "http://98.98.117.121:8082/api/media/photo/download/twitter/GPQmesQb0AA9pwM.jpg\n",
      "http://98.98.117.121:8082/api/media/photo/download/twitter/GPQiVETbAAA9Qoa.jpg\n",
      "http://98.98.117.121:8082/api/media/photo/download/twitter/GPQcKt9a0AAXCH5.jpg\n",
      "http://98.98.117.121:8082/api/media/photo/download/twitter/GPQb9z6bUAAU12q.jpg\n",
      "finished downloading 199 image set\n"
     ]
    }
   ],
   "source": [
    "## get images from server\n",
    "# Example usage:\n",
    "query = \"\"\"\n",
    "select a.id, a.db_id, c.tweet_id, c.filename\n",
    "from ret_available_db a inner join ret_tweet b on a.db_id = b.db_id\n",
    "inner join media_files c on b.id = c.tweet_id\n",
    "where \ta.db_id = %s\n",
    "\"\"\"\n",
    "query = query % str(iJobID)\n",
    "print(query)\n",
    "\n",
    "result_df = execute_query_psql(query)\n",
    "\n",
    "## downloading image set\n",
    "img_prefix_http = \"http://98.98.117.121:8082/api/media/photo/download/twitter/\"\n",
    "folder_path = \"/home/jup_user/multipool/ai-case-study/img\"    # Replace with the desired folder path\n",
    "\n",
    "# download_image(url, folder_path)\n",
    "# clear up folder first\n",
    "clear_image()\n",
    "\n",
    "i = 0\n",
    "for index, row in result_df.iterrows():\n",
    "    # print(result_df.at[index,'filename'])\n",
    "    url = img_prefix_http + result_df.at[index,'filename']\n",
    "    print(url)\n",
    "    download_image(url, folder_path)\n",
    "    i = i +1\n",
    "\n",
    "print(\"finished downloading \" + str(i) + \" image set\" )"
   ]
  },
  {
   "cell_type": "code",
   "execution_count": 6,
   "id": "406c4e8c-9403-4fc5-b1c1-562e1f0cf97a",
   "metadata": {
    "collapsed": true,
    "editable": true,
    "execution": {
     "iopub.execute_input": "2024-06-06T17:10:38.564560Z",
     "iopub.status.busy": "2024-06-06T17:10:38.562644Z",
     "iopub.status.idle": "2024-06-06T17:14:16.747291Z",
     "shell.execute_reply": "2024-06-06T17:14:16.736128Z"
    },
    "jupyter": {
     "outputs_hidden": true
    },
    "slideshow": {
     "slide_type": ""
    },
    "tags": []
   },
   "outputs": [
    {
     "name": "stdout",
     "output_type": "stream",
     "text": [
      "\r",
      "1/1 [==============================] - ETA: 0s"
     ]
    },
    {
     "name": "stdout",
     "output_type": "stream",
     "text": [
      "\b\b\b\b\b\b\b\b\b\b\b\b\b\b\b\b\b\b\b\b\b\b\b\b\b\b\b\b\b\b\b\b\b\b\b\b\b\b\b\b\b\b\b\b\b\b\r",
      "1/1 [==============================] - 1s 1s/step\n"
     ]
    },
    {
     "name": "stdout",
     "output_type": "stream",
     "text": [
      "\r",
      "1/1 [==============================] - ETA: 0s"
     ]
    },
    {
     "name": "stdout",
     "output_type": "stream",
     "text": [
      "\b\b\b\b\b\b\b\b\b\b\b\b\b\b\b\b\b\b\b\b\b\b\b\b\b\b\b\b\b\b\b\b\b\b\b\b\b\b\b\b\b\b\b\b\b\b\r",
      "1/1 [==============================] - 1s 530ms/step\n"
     ]
    },
    {
     "name": "stdout",
     "output_type": "stream",
     "text": [
      "\r",
      "1/1 [==============================] - ETA: 0s"
     ]
    },
    {
     "name": "stdout",
     "output_type": "stream",
     "text": [
      "\b\b\b\b\b\b\b\b\b\b\b\b\b\b\b\b\b\b\b\b\b\b\b\b\b\b\b\b\b\b\b\b\b\b\b\b\b\b\b\b\b\b\b\b\b\b\r",
      "1/1 [==============================] - 1s 586ms/step\n"
     ]
    },
    {
     "name": "stdout",
     "output_type": "stream",
     "text": [
      "\r",
      "1/1 [==============================] - ETA: 0s"
     ]
    },
    {
     "name": "stdout",
     "output_type": "stream",
     "text": [
      "\b\b\b\b\b\b\b\b\b\b\b\b\b\b\b\b\b\b\b\b\b\b\b\b\b\b\b\b\b\b\b\b\b\b\b\b\b\b\b\b\b\b\b\b\b\b\r",
      "1/1 [==============================] - 1s 550ms/step\n"
     ]
    },
    {
     "name": "stdout",
     "output_type": "stream",
     "text": [
      "\r",
      "1/1 [==============================] - ETA: 0s"
     ]
    },
    {
     "name": "stdout",
     "output_type": "stream",
     "text": [
      "\b\b\b\b\b\b\b\b\b\b\b\b\b\b\b\b\b\b\b\b\b\b\b\b\b\b\b\b\b\b\b\b\b\b\b\b\b\b\b\b\b\b\b\b\b\b\r",
      "1/1 [==============================] - 1s 596ms/step\n"
     ]
    },
    {
     "name": "stdout",
     "output_type": "stream",
     "text": [
      "\r",
      "1/1 [==============================] - ETA: 0s"
     ]
    },
    {
     "name": "stdout",
     "output_type": "stream",
     "text": [
      "\b\b\b\b\b\b\b\b\b\b\b\b\b\b\b\b\b\b\b\b\b\b\b\b\b\b\b\b\b\b\b\b\b\b\b\b\b\b\b\b\b\b\b\b\b\b\r",
      "1/1 [==============================] - 1s 506ms/step\n"
     ]
    },
    {
     "name": "stdout",
     "output_type": "stream",
     "text": [
      "\r",
      "1/1 [==============================] - ETA: 0s"
     ]
    },
    {
     "name": "stdout",
     "output_type": "stream",
     "text": [
      "\b\b\b\b\b\b\b\b\b\b\b\b\b\b\b\b\b\b\b\b\b\b\b\b\b\b\b\b\b\b\b\b\b\b\b\b\b\b\b\b\b\b\b\b\b\b\r",
      "1/1 [==============================] - 1s 508ms/step\n"
     ]
    },
    {
     "name": "stdout",
     "output_type": "stream",
     "text": [
      "\r",
      "1/1 [==============================] - ETA: 0s"
     ]
    },
    {
     "name": "stdout",
     "output_type": "stream",
     "text": [
      "\b\b\b\b\b\b\b\b\b\b\b\b\b\b\b\b\b\b\b\b\b\b\b\b\b\b\b\b\b\b\b\b\b\b\b\b\b\b\b\b\b\b\b\b\b\b\r",
      "1/1 [==============================] - 0s 498ms/step\n"
     ]
    },
    {
     "name": "stdout",
     "output_type": "stream",
     "text": [
      "\r",
      "1/1 [==============================] - ETA: 0s"
     ]
    },
    {
     "name": "stdout",
     "output_type": "stream",
     "text": [
      "\b\b\b\b\b\b\b\b\b\b\b\b\b\b\b\b\b\b\b\b\b\b\b\b\b\b\b\b\b\b\b\b\b\b\b\b\b\b\b\b\b\b\b\b\b\b\r",
      "1/1 [==============================] - 1s 528ms/step\n"
     ]
    },
    {
     "name": "stdout",
     "output_type": "stream",
     "text": [
      "\r",
      "1/1 [==============================] - ETA: 0s"
     ]
    },
    {
     "name": "stdout",
     "output_type": "stream",
     "text": [
      "\b\b\b\b\b\b\b\b\b\b\b\b\b\b\b\b\b\b\b\b\b\b\b\b\b\b\b\b\b\b\b\b\b\b\b\b\b\b\b\b\b\b\b\b\b\b\r",
      "1/1 [==============================] - 0s 495ms/step\n"
     ]
    },
    {
     "name": "stdout",
     "output_type": "stream",
     "text": [
      "\r",
      "1/1 [==============================] - ETA: 0s"
     ]
    },
    {
     "name": "stdout",
     "output_type": "stream",
     "text": [
      "\b\b\b\b\b\b\b\b\b\b\b\b\b\b\b\b\b\b\b\b\b\b\b\b\b\b\b\b\b\b\b\b\b\b\b\b\b\b\b\b\b\b\b\b\b\b\r",
      "1/1 [==============================] - 0s 476ms/step\n"
     ]
    },
    {
     "name": "stdout",
     "output_type": "stream",
     "text": [
      "\r",
      "1/1 [==============================] - ETA: 0s"
     ]
    },
    {
     "name": "stdout",
     "output_type": "stream",
     "text": [
      "\b\b\b\b\b\b\b\b\b\b\b\b\b\b\b\b\b\b\b\b\b\b\b\b\b\b\b\b\b\b\b\b\b\b\b\b\b\b\b\b\b\b\b\b\b\b\r",
      "1/1 [==============================] - 0s 449ms/step\n"
     ]
    },
    {
     "name": "stdout",
     "output_type": "stream",
     "text": [
      "\r",
      "1/1 [==============================] - ETA: 0s"
     ]
    },
    {
     "name": "stdout",
     "output_type": "stream",
     "text": [
      "\b\b\b\b\b\b\b\b\b\b\b\b\b\b\b\b\b\b\b\b\b\b\b\b\b\b\b\b\b\b\b\b\b\b\b\b\b\b\b\b\b\b\b\b\b\b\r",
      "1/1 [==============================] - 0s 437ms/step\n"
     ]
    },
    {
     "name": "stdout",
     "output_type": "stream",
     "text": [
      "\r",
      "1/1 [==============================] - ETA: 0s"
     ]
    },
    {
     "name": "stdout",
     "output_type": "stream",
     "text": [
      "\b\b\b\b\b\b\b\b\b\b\b\b\b\b\b\b\b\b\b\b\b\b\b\b\b\b\b\b\b\b\b\b\b\b\b\b\b\b\b\b\b\b\b\b\b\b\r",
      "1/1 [==============================] - 1s 504ms/step\n"
     ]
    },
    {
     "name": "stdout",
     "output_type": "stream",
     "text": [
      "\r",
      "1/1 [==============================] - ETA: 0s"
     ]
    },
    {
     "name": "stdout",
     "output_type": "stream",
     "text": [
      "\b\b\b\b\b\b\b\b\b\b\b\b\b\b\b\b\b\b\b\b\b\b\b\b\b\b\b\b\b\b\b\b\b\b\b\b\b\b\b\b\b\b\b\b\b\b\r",
      "1/1 [==============================] - 1s 506ms/step\n"
     ]
    },
    {
     "name": "stdout",
     "output_type": "stream",
     "text": [
      "\r",
      "1/1 [==============================] - ETA: 0s"
     ]
    },
    {
     "name": "stdout",
     "output_type": "stream",
     "text": [
      "\b\b\b\b\b\b\b\b\b\b\b\b\b\b\b\b\b\b\b\b\b\b\b\b\b\b\b\b\b\b\b\b\b\b\b\b\b\b\b\b\b\b\b\b\b\b\r",
      "1/1 [==============================] - 1s 551ms/step\n"
     ]
    },
    {
     "name": "stdout",
     "output_type": "stream",
     "text": [
      "\r",
      "1/1 [==============================] - ETA: 0s"
     ]
    },
    {
     "name": "stdout",
     "output_type": "stream",
     "text": [
      "\b\b\b\b\b\b\b\b\b\b\b\b\b\b\b\b\b\b\b\b\b\b\b\b\b\b\b\b\b\b\b\b\b\b\b\b\b\b\b\b\b\b\b\b\b\b\r",
      "1/1 [==============================] - 1s 505ms/step\n"
     ]
    },
    {
     "name": "stdout",
     "output_type": "stream",
     "text": [
      "\r",
      "1/1 [==============================] - ETA: 0s"
     ]
    },
    {
     "name": "stdout",
     "output_type": "stream",
     "text": [
      "\b\b\b\b\b\b\b\b\b\b\b\b\b\b\b\b\b\b\b\b\b\b\b\b\b\b\b\b\b\b\b\b\b\b\b\b\b\b\b\b\b\b\b\b\b\b\r",
      "1/1 [==============================] - 1s 525ms/step\n"
     ]
    },
    {
     "name": "stdout",
     "output_type": "stream",
     "text": [
      "\r",
      "1/1 [==============================] - ETA: 0s"
     ]
    },
    {
     "name": "stdout",
     "output_type": "stream",
     "text": [
      "\b\b\b\b\b\b\b\b\b\b\b\b\b\b\b\b\b\b\b\b\b\b\b\b\b\b\b\b\b\b\b\b\b\b\b\b\b\b\b\b\b\b\b\b\b\b\r",
      "1/1 [==============================] - 1s 536ms/step\n"
     ]
    },
    {
     "name": "stdout",
     "output_type": "stream",
     "text": [
      "\r",
      "1/1 [==============================] - ETA: 0s"
     ]
    },
    {
     "name": "stdout",
     "output_type": "stream",
     "text": [
      "\b\b\b\b\b\b\b\b\b\b\b\b\b\b\b\b\b\b\b\b\b\b\b\b\b\b\b\b\b\b\b\b\b\b\b\b\b\b\b\b\b\b\b\b\b\b\r",
      "1/1 [==============================] - 1s 504ms/step\n"
     ]
    },
    {
     "name": "stdout",
     "output_type": "stream",
     "text": [
      "\r",
      "1/1 [==============================] - ETA: 0s"
     ]
    },
    {
     "name": "stdout",
     "output_type": "stream",
     "text": [
      "\b\b\b\b\b\b\b\b\b\b\b\b\b\b\b\b\b\b\b\b\b\b\b\b\b\b\b\b\b\b\b\b\b\b\b\b\b\b\b\b\b\b\b\b\b\b\r",
      "1/1 [==============================] - 1s 573ms/step\n"
     ]
    },
    {
     "name": "stdout",
     "output_type": "stream",
     "text": [
      "\r",
      "1/1 [==============================] - ETA: 0s"
     ]
    },
    {
     "name": "stdout",
     "output_type": "stream",
     "text": [
      "\b\b\b\b\b\b\b\b\b\b\b\b\b\b\b\b\b\b\b\b\b\b\b\b\b\b\b\b\b\b\b\b\b\b\b\b\b\b\b\b\b\b\b\b\b\b\r",
      "1/1 [==============================] - 0s 460ms/step\n"
     ]
    },
    {
     "name": "stdout",
     "output_type": "stream",
     "text": [
      "\r",
      "1/1 [==============================] - ETA: 0s"
     ]
    },
    {
     "name": "stdout",
     "output_type": "stream",
     "text": [
      "\b\b\b\b\b\b\b\b\b\b\b\b\b\b\b\b\b\b\b\b\b\b\b\b\b\b\b\b\b\b\b\b\b\b\b\b\b\b\b\b\b\b\b\b\b\b\r",
      "1/1 [==============================] - 1s 674ms/step\n"
     ]
    },
    {
     "name": "stdout",
     "output_type": "stream",
     "text": [
      "\r",
      "1/1 [==============================] - ETA: 0s"
     ]
    },
    {
     "name": "stdout",
     "output_type": "stream",
     "text": [
      "\b\b\b\b\b\b\b\b\b\b\b\b\b\b\b\b\b\b\b\b\b\b\b\b\b\b\b\b\b\b\b\b\b\b\b\b\b\b\b\b\b\b\b\b\b\b\r",
      "1/1 [==============================] - 1s 656ms/step\n"
     ]
    },
    {
     "name": "stdout",
     "output_type": "stream",
     "text": [
      "\r",
      "1/1 [==============================] - ETA: 0s"
     ]
    },
    {
     "name": "stdout",
     "output_type": "stream",
     "text": [
      "\b\b\b\b\b\b\b\b\b\b\b\b\b\b\b\b\b\b\b\b\b\b\b\b\b\b\b\b\b\b\b\b\b\b\b\b\b\b\b\b\b\b\b\b\b\b\r",
      "1/1 [==============================] - 1s 639ms/step\n"
     ]
    },
    {
     "name": "stdout",
     "output_type": "stream",
     "text": [
      "\r",
      "1/1 [==============================] - ETA: 0s"
     ]
    },
    {
     "name": "stdout",
     "output_type": "stream",
     "text": [
      "\b\b\b\b\b\b\b\b\b\b\b\b\b\b\b\b\b\b\b\b\b\b\b\b\b\b\b\b\b\b\b\b\b\b\b\b\b\b\b\b\b\b\b\b\b\b\r",
      "1/1 [==============================] - 1s 712ms/step\n"
     ]
    },
    {
     "name": "stdout",
     "output_type": "stream",
     "text": [
      "\r",
      "1/1 [==============================] - ETA: 0s"
     ]
    },
    {
     "name": "stdout",
     "output_type": "stream",
     "text": [
      "\b\b\b\b\b\b\b\b\b\b\b\b\b\b\b\b\b\b\b\b\b\b\b\b\b\b\b\b\b\b\b\b\b\b\b\b\b\b\b\b\b\b\b\b\b\b\r",
      "1/1 [==============================] - 1s 703ms/step\n"
     ]
    },
    {
     "name": "stdout",
     "output_type": "stream",
     "text": [
      "\r",
      "1/1 [==============================] - ETA: 0s"
     ]
    },
    {
     "name": "stdout",
     "output_type": "stream",
     "text": [
      "\b\b\b\b\b\b\b\b\b\b\b\b\b\b\b\b\b\b\b\b\b\b\b\b\b\b\b\b\b\b\b\b\b\b\b\b\b\b\b\b\b\b\b\b\b\b\r",
      "1/1 [==============================] - 1s 545ms/step\n"
     ]
    },
    {
     "name": "stdout",
     "output_type": "stream",
     "text": [
      "\r",
      "1/1 [==============================] - ETA: 0s"
     ]
    },
    {
     "name": "stdout",
     "output_type": "stream",
     "text": [
      "\b\b\b\b\b\b\b\b\b\b\b\b\b\b\b\b\b\b\b\b\b\b\b\b\b\b\b\b\b\b\b\b\b\b\b\b\b\b\b\b\b\b\b\b\b\b\r",
      "1/1 [==============================] - 1s 539ms/step\n"
     ]
    },
    {
     "name": "stdout",
     "output_type": "stream",
     "text": [
      "\r",
      "1/1 [==============================] - ETA: 0s"
     ]
    },
    {
     "name": "stdout",
     "output_type": "stream",
     "text": [
      "\b\b\b\b\b\b\b\b\b\b\b\b\b\b\b\b\b\b\b\b\b\b\b\b\b\b\b\b\b\b\b\b\b\b\b\b\b\b\b\b\b\b\b\b\b\b\r",
      "1/1 [==============================] - 1s 695ms/step\n"
     ]
    },
    {
     "name": "stdout",
     "output_type": "stream",
     "text": [
      "\r",
      "1/1 [==============================] - ETA: 0s"
     ]
    },
    {
     "name": "stdout",
     "output_type": "stream",
     "text": [
      "\b\b\b\b\b\b\b\b\b\b\b\b\b\b\b\b\b\b\b\b\b\b\b\b\b\b\b\b\b\b\b\b\b\b\b\b\b\b\b\b\b\b\b\b\b\b\r",
      "1/1 [==============================] - 1s 571ms/step\n"
     ]
    },
    {
     "name": "stdout",
     "output_type": "stream",
     "text": [
      "\r",
      "1/1 [==============================] - ETA: 0s"
     ]
    },
    {
     "name": "stdout",
     "output_type": "stream",
     "text": [
      "\b\b\b\b\b\b\b\b\b\b\b\b\b\b\b\b\b\b\b\b\b\b\b\b\b\b\b\b\b\b\b\b\b\b\b\b\b\b\b\b\b\b\b\b\b\b\r",
      "1/1 [==============================] - 0s 489ms/step\n"
     ]
    },
    {
     "name": "stdout",
     "output_type": "stream",
     "text": [
      "\r",
      "1/1 [==============================] - ETA: 0s"
     ]
    },
    {
     "name": "stdout",
     "output_type": "stream",
     "text": [
      "\b\b\b\b\b\b\b\b\b\b\b\b\b\b\b\b\b\b\b\b\b\b\b\b\b\b\b\b\b\b\b\b\b\b\b\b\b\b\b\b\b\b\b\b\b\b\r",
      "1/1 [==============================] - 1s 542ms/step\n"
     ]
    },
    {
     "name": "stdout",
     "output_type": "stream",
     "text": [
      "\r",
      "1/1 [==============================] - ETA: 0s"
     ]
    },
    {
     "name": "stdout",
     "output_type": "stream",
     "text": [
      "\b\b\b\b\b\b\b\b\b\b\b\b\b\b\b\b\b\b\b\b\b\b\b\b\b\b\b\b\b\b\b\b\b\b\b\b\b\b\b\b\b\b\b\b\b\b\r",
      "1/1 [==============================] - 1s 577ms/step\n"
     ]
    },
    {
     "name": "stdout",
     "output_type": "stream",
     "text": [
      "\r",
      "1/1 [==============================] - ETA: 0s"
     ]
    },
    {
     "name": "stdout",
     "output_type": "stream",
     "text": [
      "\b\b\b\b\b\b\b\b\b\b\b\b\b\b\b\b\b\b\b\b\b\b\b\b\b\b\b\b\b\b\b\b\b\b\b\b\b\b\b\b\b\b\b\b\b\b\r",
      "1/1 [==============================] - 1s 609ms/step\n"
     ]
    },
    {
     "name": "stdout",
     "output_type": "stream",
     "text": [
      "\r",
      "1/1 [==============================] - ETA: 0s"
     ]
    },
    {
     "name": "stdout",
     "output_type": "stream",
     "text": [
      "\b\b\b\b\b\b\b\b\b\b\b\b\b\b\b\b\b\b\b\b\b\b\b\b\b\b\b\b\b\b\b\b\b\b\b\b\b\b\b\b\b\b\b\b\b\b\r",
      "1/1 [==============================] - 1s 539ms/step\n"
     ]
    },
    {
     "name": "stdout",
     "output_type": "stream",
     "text": [
      "\r",
      "1/1 [==============================] - ETA: 0s"
     ]
    },
    {
     "name": "stdout",
     "output_type": "stream",
     "text": [
      "\b\b\b\b\b\b\b\b\b\b\b\b\b\b\b\b\b\b\b\b\b\b\b\b\b\b\b\b\b\b\b\b\b\b\b\b\b\b\b\b\b\b\b\b\b\b\r",
      "1/1 [==============================] - 0s 493ms/step\n"
     ]
    },
    {
     "name": "stdout",
     "output_type": "stream",
     "text": [
      "\r",
      "1/1 [==============================] - ETA: 0s"
     ]
    },
    {
     "name": "stdout",
     "output_type": "stream",
     "text": [
      "\b\b\b\b\b\b\b\b\b\b\b\b\b\b\b\b\b\b\b\b\b\b\b\b\b\b\b\b\b\b\b\b\b\b\b\b\b\b\b\b\b\b\b\b\b\b\r",
      "1/1 [==============================] - 1s 502ms/step\n"
     ]
    },
    {
     "name": "stdout",
     "output_type": "stream",
     "text": [
      "\r",
      "1/1 [==============================] - ETA: 0s"
     ]
    },
    {
     "name": "stdout",
     "output_type": "stream",
     "text": [
      "\b\b\b\b\b\b\b\b\b\b\b\b\b\b\b\b\b\b\b\b\b\b\b\b\b\b\b\b\b\b\b\b\b\b\b\b\b\b\b\b\b\b\b\b\b\b\r",
      "1/1 [==============================] - 0s 441ms/step\n"
     ]
    },
    {
     "name": "stdout",
     "output_type": "stream",
     "text": [
      "\r",
      "1/1 [==============================] - ETA: 0s"
     ]
    },
    {
     "name": "stdout",
     "output_type": "stream",
     "text": [
      "\b\b\b\b\b\b\b\b\b\b\b\b\b\b\b\b\b\b\b\b\b\b\b\b\b\b\b\b\b\b\b\b\b\b\b\b\b\b\b\b\b\b\b\b\b\b\r",
      "1/1 [==============================] - 0s 481ms/step\n"
     ]
    },
    {
     "name": "stdout",
     "output_type": "stream",
     "text": [
      "\r",
      "1/1 [==============================] - ETA: 0s"
     ]
    },
    {
     "name": "stdout",
     "output_type": "stream",
     "text": [
      "\b\b\b\b\b\b\b\b\b\b\b\b\b\b\b\b\b\b\b\b\b\b\b\b\b\b\b\b\b\b\b\b\b\b\b\b\b\b\b\b\b\b\b\b\b\b\r",
      "1/1 [==============================] - 1s 564ms/step\n"
     ]
    },
    {
     "name": "stdout",
     "output_type": "stream",
     "text": [
      "\r",
      "1/1 [==============================] - ETA: 0s"
     ]
    },
    {
     "name": "stdout",
     "output_type": "stream",
     "text": [
      "\b\b\b\b\b\b\b\b\b\b\b\b\b\b\b\b\b\b\b\b\b\b\b\b\b\b\b\b\b\b\b\b\b\b\b\b\b\b\b\b\b\b\b\b\b\b\r",
      "1/1 [==============================] - 1s 519ms/step\n"
     ]
    },
    {
     "name": "stdout",
     "output_type": "stream",
     "text": [
      "\r",
      "1/1 [==============================] - ETA: 0s"
     ]
    },
    {
     "name": "stdout",
     "output_type": "stream",
     "text": [
      "\b\b\b\b\b\b\b\b\b\b\b\b\b\b\b\b\b\b\b\b\b\b\b\b\b\b\b\b\b\b\b\b\b\b\b\b\b\b\b\b\b\b\b\b\b\b\r",
      "1/1 [==============================] - 1s 548ms/step\n"
     ]
    },
    {
     "name": "stdout",
     "output_type": "stream",
     "text": [
      "\r",
      "1/1 [==============================] - ETA: 0s"
     ]
    },
    {
     "name": "stdout",
     "output_type": "stream",
     "text": [
      "\b\b\b\b\b\b\b\b\b\b\b\b\b\b\b\b\b\b\b\b\b\b\b\b\b\b\b\b\b\b\b\b\b\b\b\b\b\b\b\b\b\b\b\b\b\b\r",
      "1/1 [==============================] - 1s 577ms/step\n"
     ]
    },
    {
     "name": "stdout",
     "output_type": "stream",
     "text": [
      "\r",
      "1/1 [==============================] - ETA: 0s"
     ]
    },
    {
     "name": "stdout",
     "output_type": "stream",
     "text": [
      "\b\b\b\b\b\b\b\b\b\b\b\b\b\b\b\b\b\b\b\b\b\b\b\b\b\b\b\b\b\b\b\b\b\b\b\b\b\b\b\b\b\b\b\b\b\b\r",
      "1/1 [==============================] - 1s 590ms/step\n"
     ]
    },
    {
     "name": "stdout",
     "output_type": "stream",
     "text": [
      "\r",
      "1/1 [==============================] - ETA: 0s"
     ]
    },
    {
     "name": "stdout",
     "output_type": "stream",
     "text": [
      "\b\b\b\b\b\b\b\b\b\b\b\b\b\b\b\b\b\b\b\b\b\b\b\b\b\b\b\b\b\b\b\b\b\b\b\b\b\b\b\b\b\b\b\b\b\b\r",
      "1/1 [==============================] - 1s 585ms/step\n"
     ]
    },
    {
     "name": "stdout",
     "output_type": "stream",
     "text": [
      "\r",
      "1/1 [==============================] - ETA: 0s"
     ]
    },
    {
     "name": "stdout",
     "output_type": "stream",
     "text": [
      "\b\b\b\b\b\b\b\b\b\b\b\b\b\b\b\b\b\b\b\b\b\b\b\b\b\b\b\b\b\b\b\b\b\b\b\b\b\b\b\b\b\b\b\b\b\b\r",
      "1/1 [==============================] - 1s 546ms/step\n"
     ]
    },
    {
     "name": "stdout",
     "output_type": "stream",
     "text": [
      "\r",
      "1/1 [==============================] - ETA: 0s"
     ]
    },
    {
     "name": "stdout",
     "output_type": "stream",
     "text": [
      "\b\b\b\b\b\b\b\b\b\b\b\b\b\b\b\b\b\b\b\b\b\b\b\b\b\b\b\b\b\b\b\b\b\b\b\b\b\b\b\b\b\b\b\b\b\b\r",
      "1/1 [==============================] - 1s 519ms/step\n"
     ]
    },
    {
     "name": "stdout",
     "output_type": "stream",
     "text": [
      "\r",
      "1/1 [==============================] - ETA: 0s"
     ]
    },
    {
     "name": "stdout",
     "output_type": "stream",
     "text": [
      "\b\b\b\b\b\b\b\b\b\b\b\b\b\b\b\b\b\b\b\b\b\b\b\b\b\b\b\b\b\b\b\b\b\b\b\b\b\b\b\b\b\b\b\b\b\b\r",
      "1/1 [==============================] - 1s 574ms/step\n"
     ]
    },
    {
     "name": "stdout",
     "output_type": "stream",
     "text": [
      "\r",
      "1/1 [==============================] - ETA: 0s"
     ]
    },
    {
     "name": "stdout",
     "output_type": "stream",
     "text": [
      "\b\b\b\b\b\b\b\b\b\b\b\b\b\b\b\b\b\b\b\b\b\b\b\b\b\b\b\b\b\b\b\b\b\b\b\b\b\b\b\b\b\b\b\b\b\b\r",
      "1/1 [==============================] - 1s 538ms/step\n"
     ]
    },
    {
     "name": "stdout",
     "output_type": "stream",
     "text": [
      "\r",
      "1/1 [==============================] - ETA: 0s"
     ]
    },
    {
     "name": "stdout",
     "output_type": "stream",
     "text": [
      "\b\b\b\b\b\b\b\b\b\b\b\b\b\b\b\b\b\b\b\b\b\b\b\b\b\b\b\b\b\b\b\b\b\b\b\b\b\b\b\b\b\b\b\b\b\b\r",
      "1/1 [==============================] - 0s 489ms/step\n"
     ]
    },
    {
     "name": "stdout",
     "output_type": "stream",
     "text": [
      "\r",
      "1/1 [==============================] - ETA: 0s"
     ]
    },
    {
     "name": "stdout",
     "output_type": "stream",
     "text": [
      "\b\b\b\b\b\b\b\b\b\b\b\b\b\b\b\b\b\b\b\b\b\b\b\b\b\b\b\b\b\b\b\b\b\b\b\b\b\b\b\b\b\b\b\b\b\b\r",
      "1/1 [==============================] - 1s 627ms/step\n"
     ]
    },
    {
     "name": "stdout",
     "output_type": "stream",
     "text": [
      "\r",
      "1/1 [==============================] - ETA: 0s"
     ]
    },
    {
     "name": "stdout",
     "output_type": "stream",
     "text": [
      "\b\b\b\b\b\b\b\b\b\b\b\b\b\b\b\b\b\b\b\b\b\b\b\b\b\b\b\b\b\b\b\b\b\b\b\b\b\b\b\b\b\b\b\b\b\b\r",
      "1/1 [==============================] - 1s 565ms/step\n"
     ]
    },
    {
     "name": "stdout",
     "output_type": "stream",
     "text": [
      "\r",
      "1/1 [==============================] - ETA: 0s"
     ]
    },
    {
     "name": "stdout",
     "output_type": "stream",
     "text": [
      "\b\b\b\b\b\b\b\b\b\b\b\b\b\b\b\b\b\b\b\b\b\b\b\b\b\b\b\b\b\b\b\b\b\b\b\b\b\b\b\b\b\b\b\b\b\b\r",
      "1/1 [==============================] - 0s 452ms/step\n"
     ]
    },
    {
     "name": "stdout",
     "output_type": "stream",
     "text": [
      "\r",
      "1/1 [==============================] - ETA: 0s"
     ]
    },
    {
     "name": "stdout",
     "output_type": "stream",
     "text": [
      "\b\b\b\b\b\b\b\b\b\b\b\b\b\b\b\b\b\b\b\b\b\b\b\b\b\b\b\b\b\b\b\b\b\b\b\b\b\b\b\b\b\b\b\b\b\b\r",
      "1/1 [==============================] - 1s 501ms/step\n"
     ]
    },
    {
     "name": "stdout",
     "output_type": "stream",
     "text": [
      "\r",
      "1/1 [==============================] - ETA: 0s"
     ]
    },
    {
     "name": "stdout",
     "output_type": "stream",
     "text": [
      "\b\b\b\b\b\b\b\b\b\b\b\b\b\b\b\b\b\b\b\b\b\b\b\b\b\b\b\b\b\b\b\b\b\b\b\b\b\b\b\b\b\b\b\b\b\b\r",
      "1/1 [==============================] - 1s 506ms/step\n"
     ]
    },
    {
     "name": "stdout",
     "output_type": "stream",
     "text": [
      "\r",
      "1/1 [==============================] - ETA: 0s"
     ]
    },
    {
     "name": "stdout",
     "output_type": "stream",
     "text": [
      "\b\b\b\b\b\b\b\b\b\b\b\b\b\b\b\b\b\b\b\b\b\b\b\b\b\b\b\b\b\b\b\b\b\b\b\b\b\b\b\b\b\b\b\b\b\b\r",
      "1/1 [==============================] - 0s 500ms/step\n"
     ]
    },
    {
     "name": "stdout",
     "output_type": "stream",
     "text": [
      "\r",
      "1/1 [==============================] - ETA: 0s"
     ]
    },
    {
     "name": "stdout",
     "output_type": "stream",
     "text": [
      "\b\b\b\b\b\b\b\b\b\b\b\b\b\b\b\b\b\b\b\b\b\b\b\b\b\b\b\b\b\b\b\b\b\b\b\b\b\b\b\b\b\b\b\b\b\b\r",
      "1/1 [==============================] - 1s 620ms/step\n"
     ]
    },
    {
     "name": "stdout",
     "output_type": "stream",
     "text": [
      "\r",
      "1/1 [==============================] - ETA: 0s"
     ]
    },
    {
     "name": "stdout",
     "output_type": "stream",
     "text": [
      "\b\b\b\b\b\b\b\b\b\b\b\b\b\b\b\b\b\b\b\b\b\b\b\b\b\b\b\b\b\b\b\b\b\b\b\b\b\b\b\b\b\b\b\b\b\b\r",
      "1/1 [==============================] - 1s 518ms/step\n"
     ]
    },
    {
     "name": "stdout",
     "output_type": "stream",
     "text": [
      "\r",
      "1/1 [==============================] - ETA: 0s"
     ]
    },
    {
     "name": "stdout",
     "output_type": "stream",
     "text": [
      "\b\b\b\b\b\b\b\b\b\b\b\b\b\b\b\b\b\b\b\b\b\b\b\b\b\b\b\b\b\b\b\b\b\b\b\b\b\b\b\b\b\b\b\b\b\b\r",
      "1/1 [==============================] - 1s 606ms/step\n"
     ]
    },
    {
     "name": "stdout",
     "output_type": "stream",
     "text": [
      "\r",
      "1/1 [==============================] - ETA: 0s"
     ]
    },
    {
     "name": "stdout",
     "output_type": "stream",
     "text": [
      "\b\b\b\b\b\b\b\b\b\b\b\b\b\b\b\b\b\b\b\b\b\b\b\b\b\b\b\b\b\b\b\b\b\b\b\b\b\b\b\b\b\b\b\b\b\b\r",
      "1/1 [==============================] - 1s 527ms/step\n"
     ]
    },
    {
     "name": "stdout",
     "output_type": "stream",
     "text": [
      "\r",
      "1/1 [==============================] - ETA: 0s"
     ]
    },
    {
     "name": "stdout",
     "output_type": "stream",
     "text": [
      "\b\b\b\b\b\b\b\b\b\b\b\b\b\b\b\b\b\b\b\b\b\b\b\b\b\b\b\b\b\b\b\b\b\b\b\b\b\b\b\b\b\b\b\b\b\b\r",
      "1/1 [==============================] - 0s 481ms/step\n"
     ]
    },
    {
     "name": "stdout",
     "output_type": "stream",
     "text": [
      "\r",
      "1/1 [==============================] - ETA: 0s"
     ]
    },
    {
     "name": "stdout",
     "output_type": "stream",
     "text": [
      "\b\b\b\b\b\b\b\b\b\b\b\b\b\b\b\b\b\b\b\b\b\b\b\b\b\b\b\b\b\b\b\b\b\b\b\b\b\b\b\b\b\b\b\b\b\b\r",
      "1/1 [==============================] - 0s 415ms/step\n"
     ]
    },
    {
     "name": "stdout",
     "output_type": "stream",
     "text": [
      "\r",
      "1/1 [==============================] - ETA: 0s"
     ]
    },
    {
     "name": "stdout",
     "output_type": "stream",
     "text": [
      "\b\b\b\b\b\b\b\b\b\b\b\b\b\b\b\b\b\b\b\b\b\b\b\b\b\b\b\b\b\b\b\b\b\b\b\b\b\b\b\b\b\b\b\b\b\b\r",
      "1/1 [==============================] - 1s 508ms/step\n"
     ]
    },
    {
     "name": "stdout",
     "output_type": "stream",
     "text": [
      "\r",
      "1/1 [==============================] - ETA: 0s"
     ]
    },
    {
     "name": "stdout",
     "output_type": "stream",
     "text": [
      "\b\b\b\b\b\b\b\b\b\b\b\b\b\b\b\b\b\b\b\b\b\b\b\b\b\b\b\b\b\b\b\b\b\b\b\b\b\b\b\b\b\b\b\b\b\b\r",
      "1/1 [==============================] - 0s 445ms/step\n"
     ]
    },
    {
     "name": "stdout",
     "output_type": "stream",
     "text": [
      "\r",
      "1/1 [==============================] - ETA: 0s"
     ]
    },
    {
     "name": "stdout",
     "output_type": "stream",
     "text": [
      "\b\b\b\b\b\b\b\b\b\b\b\b\b\b\b\b\b\b\b\b\b\b\b\b\b\b\b\b\b\b\b\b\b\b\b\b\b\b\b\b\b\b\b\b\b\b\r",
      "1/1 [==============================] - 0s 423ms/step\n"
     ]
    },
    {
     "name": "stdout",
     "output_type": "stream",
     "text": [
      "\r",
      "1/1 [==============================] - ETA: 0s"
     ]
    },
    {
     "name": "stdout",
     "output_type": "stream",
     "text": [
      "\b\b\b\b\b\b\b\b\b\b\b\b\b\b\b\b\b\b\b\b\b\b\b\b\b\b\b\b\b\b\b\b\b\b\b\b\b\b\b\b\b\b\b\b\b\b\r",
      "1/1 [==============================] - 0s 365ms/step\n"
     ]
    },
    {
     "name": "stdout",
     "output_type": "stream",
     "text": [
      "\r",
      "1/1 [==============================] - ETA: 0s"
     ]
    },
    {
     "name": "stdout",
     "output_type": "stream",
     "text": [
      "\b\b\b\b\b\b\b\b\b\b\b\b\b\b\b\b\b\b\b\b\b\b\b\b\b\b\b\b\b\b\b\b\b\b\b\b\b\b\b\b\b\b\b\b\b\b\r",
      "1/1 [==============================] - 0s 454ms/step\n"
     ]
    },
    {
     "name": "stdout",
     "output_type": "stream",
     "text": [
      "\r",
      "1/1 [==============================] - ETA: 0s"
     ]
    },
    {
     "name": "stdout",
     "output_type": "stream",
     "text": [
      "\b\b\b\b\b\b\b\b\b\b\b\b\b\b\b\b\b\b\b\b\b\b\b\b\b\b\b\b\b\b\b\b\b\b\b\b\b\b\b\b\b\b\b\b\b\b\r",
      "1/1 [==============================] - 1s 517ms/step\n"
     ]
    },
    {
     "name": "stdout",
     "output_type": "stream",
     "text": [
      "\r",
      "1/1 [==============================] - ETA: 0s"
     ]
    },
    {
     "name": "stdout",
     "output_type": "stream",
     "text": [
      "\b\b\b\b\b\b\b\b\b\b\b\b\b\b\b\b\b\b\b\b\b\b\b\b\b\b\b\b\b\b\b\b\b\b\b\b\b\b\b\b\b\b\b\b\b\b\r",
      "1/1 [==============================] - 0s 421ms/step\n"
     ]
    },
    {
     "name": "stdout",
     "output_type": "stream",
     "text": [
      "\r",
      "1/1 [==============================] - ETA: 0s"
     ]
    },
    {
     "name": "stdout",
     "output_type": "stream",
     "text": [
      "\b\b\b\b\b\b\b\b\b\b\b\b\b\b\b\b\b\b\b\b\b\b\b\b\b\b\b\b\b\b\b\b\b\b\b\b\b\b\b\b\b\b\b\b\b\b\r",
      "1/1 [==============================] - 1s 515ms/step\n"
     ]
    },
    {
     "name": "stdout",
     "output_type": "stream",
     "text": [
      "\r",
      "1/1 [==============================] - ETA: 0s"
     ]
    },
    {
     "name": "stdout",
     "output_type": "stream",
     "text": [
      "\b\b\b\b\b\b\b\b\b\b\b\b\b\b\b\b\b\b\b\b\b\b\b\b\b\b\b\b\b\b\b\b\b\b\b\b\b\b\b\b\b\b\b\b\b\b\r",
      "1/1 [==============================] - 1s 520ms/step\n"
     ]
    },
    {
     "name": "stdout",
     "output_type": "stream",
     "text": [
      "\r",
      "1/1 [==============================] - ETA: 0s"
     ]
    },
    {
     "name": "stdout",
     "output_type": "stream",
     "text": [
      "\b\b\b\b\b\b\b\b\b\b\b\b\b\b\b\b\b\b\b\b\b\b\b\b\b\b\b\b\b\b\b\b\b\b\b\b\b\b\b\b\b\b\b\b\b\b\r",
      "1/1 [==============================] - 1s 508ms/step\n"
     ]
    },
    {
     "name": "stdout",
     "output_type": "stream",
     "text": [
      "\r",
      "1/1 [==============================] - ETA: 0s"
     ]
    },
    {
     "name": "stdout",
     "output_type": "stream",
     "text": [
      "\b\b\b\b\b\b\b\b\b\b\b\b\b\b\b\b\b\b\b\b\b\b\b\b\b\b\b\b\b\b\b\b\b\b\b\b\b\b\b\b\b\b\b\b\b\b\r",
      "1/1 [==============================] - 1s 511ms/step\n"
     ]
    },
    {
     "name": "stdout",
     "output_type": "stream",
     "text": [
      "\r",
      "1/1 [==============================] - ETA: 0s"
     ]
    },
    {
     "name": "stdout",
     "output_type": "stream",
     "text": [
      "\b\b\b\b\b\b\b\b\b\b\b\b\b\b\b\b\b\b\b\b\b\b\b\b\b\b\b\b\b\b\b\b\b\b\b\b\b\b\b\b\b\b\b\b\b\b\r",
      "1/1 [==============================] - 0s 490ms/step\n"
     ]
    },
    {
     "name": "stdout",
     "output_type": "stream",
     "text": [
      "\r",
      "1/1 [==============================] - ETA: 0s"
     ]
    },
    {
     "name": "stdout",
     "output_type": "stream",
     "text": [
      "\b\b\b\b\b\b\b\b\b\b\b\b\b\b\b\b\b\b\b\b\b\b\b\b\b\b\b\b\b\b\b\b\b\b\b\b\b\b\b\b\b\b\b\b\b\b\r",
      "1/1 [==============================] - 0s 470ms/step\n"
     ]
    },
    {
     "name": "stdout",
     "output_type": "stream",
     "text": [
      "\r",
      "1/1 [==============================] - ETA: 0s"
     ]
    },
    {
     "name": "stdout",
     "output_type": "stream",
     "text": [
      "\b\b\b\b\b\b\b\b\b\b\b\b\b\b\b\b\b\b\b\b\b\b\b\b\b\b\b\b\b\b\b\b\b\b\b\b\b\b\b\b\b\b\b\b\b\b\r",
      "1/1 [==============================] - 0s 392ms/step\n"
     ]
    },
    {
     "name": "stdout",
     "output_type": "stream",
     "text": [
      "\r",
      "1/1 [==============================] - ETA: 0s"
     ]
    },
    {
     "name": "stdout",
     "output_type": "stream",
     "text": [
      "\b\b\b\b\b\b\b\b\b\b\b\b\b\b\b\b\b\b\b\b\b\b\b\b\b\b\b\b\b\b\b\b\b\b\b\b\b\b\b\b\b\b\b\b\b\b\r",
      "1/1 [==============================] - 0s 490ms/step\n"
     ]
    },
    {
     "name": "stdout",
     "output_type": "stream",
     "text": [
      "\r",
      "1/1 [==============================] - ETA: 0s"
     ]
    },
    {
     "name": "stdout",
     "output_type": "stream",
     "text": [
      "\b\b\b\b\b\b\b\b\b\b\b\b\b\b\b\b\b\b\b\b\b\b\b\b\b\b\b\b\b\b\b\b\b\b\b\b\b\b\b\b\b\b\b\b\b\b\r",
      "1/1 [==============================] - 1s 535ms/step\n"
     ]
    },
    {
     "name": "stdout",
     "output_type": "stream",
     "text": [
      "\r",
      "1/1 [==============================] - ETA: 0s"
     ]
    },
    {
     "name": "stdout",
     "output_type": "stream",
     "text": [
      "\b\b\b\b\b\b\b\b\b\b\b\b\b\b\b\b\b\b\b\b\b\b\b\b\b\b\b\b\b\b\b\b\b\b\b\b\b\b\b\b\b\b\b\b\b\b\r",
      "1/1 [==============================] - 1s 575ms/step\n"
     ]
    },
    {
     "name": "stdout",
     "output_type": "stream",
     "text": [
      "\r",
      "1/1 [==============================] - ETA: 0s"
     ]
    },
    {
     "name": "stdout",
     "output_type": "stream",
     "text": [
      "\b\b\b\b\b\b\b\b\b\b\b\b\b\b\b\b\b\b\b\b\b\b\b\b\b\b\b\b\b\b\b\b\b\b\b\b\b\b\b\b\b\b\b\b\b\b\r",
      "1/1 [==============================] - 1s 580ms/step\n"
     ]
    },
    {
     "name": "stdout",
     "output_type": "stream",
     "text": [
      "\r",
      "1/1 [==============================] - ETA: 0s"
     ]
    },
    {
     "name": "stdout",
     "output_type": "stream",
     "text": [
      "\b\b\b\b\b\b\b\b\b\b\b\b\b\b\b\b\b\b\b\b\b\b\b\b\b\b\b\b\b\b\b\b\b\b\b\b\b\b\b\b\b\b\b\b\b\b\r",
      "1/1 [==============================] - 1s 561ms/step\n"
     ]
    },
    {
     "name": "stdout",
     "output_type": "stream",
     "text": [
      "\r",
      "1/1 [==============================] - ETA: 0s"
     ]
    },
    {
     "name": "stdout",
     "output_type": "stream",
     "text": [
      "\b\b\b\b\b\b\b\b\b\b\b\b\b\b\b\b\b\b\b\b\b\b\b\b\b\b\b\b\b\b\b\b\b\b\b\b\b\b\b\b\b\b\b\b\b\b\r",
      "1/1 [==============================] - 1s 576ms/step\n"
     ]
    },
    {
     "name": "stdout",
     "output_type": "stream",
     "text": [
      "\r",
      "1/1 [==============================] - ETA: 0s"
     ]
    },
    {
     "name": "stdout",
     "output_type": "stream",
     "text": [
      "\b\b\b\b\b\b\b\b\b\b\b\b\b\b\b\b\b\b\b\b\b\b\b\b\b\b\b\b\b\b\b\b\b\b\b\b\b\b\b\b\b\b\b\b\b\b\r",
      "1/1 [==============================] - 1s 588ms/step\n"
     ]
    },
    {
     "name": "stdout",
     "output_type": "stream",
     "text": [
      "\r",
      "1/1 [==============================] - ETA: 0s"
     ]
    },
    {
     "name": "stdout",
     "output_type": "stream",
     "text": [
      "\b\b\b\b\b\b\b\b\b\b\b\b\b\b\b\b\b\b\b\b\b\b\b\b\b\b\b\b\b\b\b\b\b\b\b\b\b\b\b\b\b\b\b\b\b\b\r",
      "1/1 [==============================] - 1s 619ms/step\n"
     ]
    },
    {
     "name": "stdout",
     "output_type": "stream",
     "text": [
      "\r",
      "1/1 [==============================] - ETA: 0s"
     ]
    },
    {
     "name": "stdout",
     "output_type": "stream",
     "text": [
      "\b\b\b\b\b\b\b\b\b\b\b\b\b\b\b\b\b\b\b\b\b\b\b\b\b\b\b\b\b\b\b\b\b\b\b\b\b\b\b\b\b\b\b\b\b\b\r",
      "1/1 [==============================] - 1s 583ms/step\n"
     ]
    },
    {
     "name": "stdout",
     "output_type": "stream",
     "text": [
      "\r",
      "1/1 [==============================] - ETA: 0s"
     ]
    },
    {
     "name": "stdout",
     "output_type": "stream",
     "text": [
      "\b\b\b\b\b\b\b\b\b\b\b\b\b\b\b\b\b\b\b\b\b\b\b\b\b\b\b\b\b\b\b\b\b\b\b\b\b\b\b\b\b\b\b\b\b\b\r",
      "1/1 [==============================] - 1s 611ms/step\n"
     ]
    },
    {
     "name": "stdout",
     "output_type": "stream",
     "text": [
      "\r",
      "1/1 [==============================] - ETA: 0s"
     ]
    },
    {
     "name": "stdout",
     "output_type": "stream",
     "text": [
      "\b\b\b\b\b\b\b\b\b\b\b\b\b\b\b\b\b\b\b\b\b\b\b\b\b\b\b\b\b\b\b\b\b\b\b\b\b\b\b\b\b\b\b\b\b\b\r",
      "1/1 [==============================] - 1s 506ms/step\n"
     ]
    },
    {
     "name": "stdout",
     "output_type": "stream",
     "text": [
      "\r",
      "1/1 [==============================] - ETA: 0s"
     ]
    },
    {
     "name": "stdout",
     "output_type": "stream",
     "text": [
      "\b\b\b\b\b\b\b\b\b\b\b\b\b\b\b\b\b\b\b\b\b\b\b\b\b\b\b\b\b\b\b\b\b\b\b\b\b\b\b\b\b\b\b\b\b\b\r",
      "1/1 [==============================] - 0s 457ms/step\n"
     ]
    },
    {
     "name": "stdout",
     "output_type": "stream",
     "text": [
      "\r",
      "1/1 [==============================] - ETA: 0s"
     ]
    },
    {
     "name": "stdout",
     "output_type": "stream",
     "text": [
      "\b\b\b\b\b\b\b\b\b\b\b\b\b\b\b\b\b\b\b\b\b\b\b\b\b\b\b\b\b\b\b\b\b\b\b\b\b\b\b\b\b\b\b\b\b\b\r",
      "1/1 [==============================] - 1s 616ms/step\n"
     ]
    },
    {
     "name": "stdout",
     "output_type": "stream",
     "text": [
      "\r",
      "1/1 [==============================] - ETA: 0s"
     ]
    },
    {
     "name": "stdout",
     "output_type": "stream",
     "text": [
      "\b\b\b\b\b\b\b\b\b\b\b\b\b\b\b\b\b\b\b\b\b\b\b\b\b\b\b\b\b\b\b\b\b\b\b\b\b\b\b\b\b\b\b\b\b\b\r",
      "1/1 [==============================] - 1s 515ms/step\n"
     ]
    },
    {
     "name": "stdout",
     "output_type": "stream",
     "text": [
      "\r",
      "1/1 [==============================] - ETA: 0s"
     ]
    },
    {
     "name": "stdout",
     "output_type": "stream",
     "text": [
      "\b\b\b\b\b\b\b\b\b\b\b\b\b\b\b\b\b\b\b\b\b\b\b\b\b\b\b\b\b\b\b\b\b\b\b\b\b\b\b\b\b\b\b\b\b\b\r",
      "1/1 [==============================] - 0s 470ms/step\n"
     ]
    },
    {
     "name": "stdout",
     "output_type": "stream",
     "text": [
      "\r",
      "1/1 [==============================] - ETA: 0s"
     ]
    },
    {
     "name": "stdout",
     "output_type": "stream",
     "text": [
      "\b\b\b\b\b\b\b\b\b\b\b\b\b\b\b\b\b\b\b\b\b\b\b\b\b\b\b\b\b\b\b\b\b\b\b\b\b\b\b\b\b\b\b\b\b\b\r",
      "1/1 [==============================] - 1s 567ms/step\n"
     ]
    },
    {
     "name": "stdout",
     "output_type": "stream",
     "text": [
      "\r",
      "1/1 [==============================] - ETA: 0s"
     ]
    },
    {
     "name": "stdout",
     "output_type": "stream",
     "text": [
      "\b\b\b\b\b\b\b\b\b\b\b\b\b\b\b\b\b\b\b\b\b\b\b\b\b\b\b\b\b\b\b\b\b\b\b\b\b\b\b\b\b\b\b\b\b\b\r",
      "1/1 [==============================] - 0s 465ms/step\n"
     ]
    },
    {
     "name": "stdout",
     "output_type": "stream",
     "text": [
      "\r",
      "1/1 [==============================] - ETA: 0s"
     ]
    },
    {
     "name": "stdout",
     "output_type": "stream",
     "text": [
      "\b\b\b\b\b\b\b\b\b\b\b\b\b\b\b\b\b\b\b\b\b\b\b\b\b\b\b\b\b\b\b\b\b\b\b\b\b\b\b\b\b\b\b\b\b\b\r",
      "1/1 [==============================] - 0s 429ms/step\n"
     ]
    },
    {
     "name": "stdout",
     "output_type": "stream",
     "text": [
      "\r",
      "1/1 [==============================] - ETA: 0s"
     ]
    },
    {
     "name": "stdout",
     "output_type": "stream",
     "text": [
      "\b\b\b\b\b\b\b\b\b\b\b\b\b\b\b\b\b\b\b\b\b\b\b\b\b\b\b\b\b\b\b\b\b\b\b\b\b\b\b\b\b\b\b\b\b\b\r",
      "1/1 [==============================] - 1s 603ms/step\n"
     ]
    },
    {
     "name": "stdout",
     "output_type": "stream",
     "text": [
      "\r",
      "1/1 [==============================] - ETA: 0s"
     ]
    },
    {
     "name": "stdout",
     "output_type": "stream",
     "text": [
      "\b\b\b\b\b\b\b\b\b\b\b\b\b\b\b\b\b\b\b\b\b\b\b\b\b\b\b\b\b\b\b\b\b\b\b\b\b\b\b\b\b\b\b\b\b\b\r",
      "1/1 [==============================] - 1s 503ms/step\n"
     ]
    },
    {
     "name": "stdout",
     "output_type": "stream",
     "text": [
      "\r",
      "1/1 [==============================] - ETA: 0s"
     ]
    },
    {
     "name": "stdout",
     "output_type": "stream",
     "text": [
      "\b\b\b\b\b\b\b\b\b\b\b\b\b\b\b\b\b\b\b\b\b\b\b\b\b\b\b\b\b\b\b\b\b\b\b\b\b\b\b\b\b\b\b\b\b\b\r",
      "1/1 [==============================] - 1s 508ms/step\n"
     ]
    },
    {
     "name": "stdout",
     "output_type": "stream",
     "text": [
      "\r",
      "1/1 [==============================] - ETA: 0s"
     ]
    },
    {
     "name": "stdout",
     "output_type": "stream",
     "text": [
      "\b\b\b\b\b\b\b\b\b\b\b\b\b\b\b\b\b\b\b\b\b\b\b\b\b\b\b\b\b\b\b\b\b\b\b\b\b\b\b\b\b\b\b\b\b\b\r",
      "1/1 [==============================] - 1s 529ms/step\n"
     ]
    },
    {
     "name": "stdout",
     "output_type": "stream",
     "text": [
      "\r",
      "1/1 [==============================] - ETA: 0s"
     ]
    },
    {
     "name": "stdout",
     "output_type": "stream",
     "text": [
      "\b\b\b\b\b\b\b\b\b\b\b\b\b\b\b\b\b\b\b\b\b\b\b\b\b\b\b\b\b\b\b\b\b\b\b\b\b\b\b\b\b\b\b\b\b\b\r",
      "1/1 [==============================] - 0s 446ms/step\n"
     ]
    },
    {
     "name": "stdout",
     "output_type": "stream",
     "text": [
      "\r",
      "1/1 [==============================] - ETA: 0s"
     ]
    },
    {
     "name": "stdout",
     "output_type": "stream",
     "text": [
      "\b\b\b\b\b\b\b\b\b\b\b\b\b\b\b\b\b\b\b\b\b\b\b\b\b\b\b\b\b\b\b\b\b\b\b\b\b\b\b\b\b\b\b\b\b\b\r",
      "1/1 [==============================] - 0s 495ms/step\n"
     ]
    },
    {
     "name": "stdout",
     "output_type": "stream",
     "text": [
      "\r",
      "1/1 [==============================] - ETA: 0s"
     ]
    },
    {
     "name": "stdout",
     "output_type": "stream",
     "text": [
      "\b\b\b\b\b\b\b\b\b\b\b\b\b\b\b\b\b\b\b\b\b\b\b\b\b\b\b\b\b\b\b\b\b\b\b\b\b\b\b\b\b\b\b\b\b\b\r",
      "1/1 [==============================] - 0s 437ms/step\n"
     ]
    },
    {
     "name": "stdout",
     "output_type": "stream",
     "text": [
      "\r",
      "1/1 [==============================] - ETA: 0s"
     ]
    },
    {
     "name": "stdout",
     "output_type": "stream",
     "text": [
      "\b\b\b\b\b\b\b\b\b\b\b\b\b\b\b\b\b\b\b\b\b\b\b\b\b\b\b\b\b\b\b\b\b\b\b\b\b\b\b\b\b\b\b\b\b\b\r",
      "1/1 [==============================] - 0s 405ms/step\n"
     ]
    },
    {
     "name": "stdout",
     "output_type": "stream",
     "text": [
      "\r",
      "1/1 [==============================] - ETA: 0s"
     ]
    },
    {
     "name": "stdout",
     "output_type": "stream",
     "text": [
      "\b\b\b\b\b\b\b\b\b\b\b\b\b\b\b\b\b\b\b\b\b\b\b\b\b\b\b\b\b\b\b\b\b\b\b\b\b\b\b\b\b\b\b\b\b\b\r",
      "1/1 [==============================] - 1s 503ms/step\n"
     ]
    },
    {
     "name": "stdout",
     "output_type": "stream",
     "text": [
      "\r",
      "1/1 [==============================] - ETA: 0s"
     ]
    },
    {
     "name": "stdout",
     "output_type": "stream",
     "text": [
      "\b\b\b\b\b\b\b\b\b\b\b\b\b\b\b\b\b\b\b\b\b\b\b\b\b\b\b\b\b\b\b\b\b\b\b\b\b\b\b\b\b\b\b\b\b\b\r",
      "1/1 [==============================] - 1s 574ms/step\n"
     ]
    },
    {
     "name": "stdout",
     "output_type": "stream",
     "text": [
      "\r",
      "1/1 [==============================] - ETA: 0s"
     ]
    },
    {
     "name": "stdout",
     "output_type": "stream",
     "text": [
      "\b\b\b\b\b\b\b\b\b\b\b\b\b\b\b\b\b\b\b\b\b\b\b\b\b\b\b\b\b\b\b\b\b\b\b\b\b\b\b\b\b\b\b\b\b\b\r",
      "1/1 [==============================] - 1s 538ms/step\n"
     ]
    },
    {
     "name": "stdout",
     "output_type": "stream",
     "text": [
      "\r",
      "1/1 [==============================] - ETA: 0s"
     ]
    },
    {
     "name": "stdout",
     "output_type": "stream",
     "text": [
      "\b\b\b\b\b\b\b\b\b\b\b\b\b\b\b\b\b\b\b\b\b\b\b\b\b\b\b\b\b\b\b\b\b\b\b\b\b\b\b\b\b\b\b\b\b\b\r",
      "1/1 [==============================] - 1s 652ms/step\n"
     ]
    },
    {
     "name": "stdout",
     "output_type": "stream",
     "text": [
      "\r",
      "1/1 [==============================] - ETA: 0s"
     ]
    },
    {
     "name": "stdout",
     "output_type": "stream",
     "text": [
      "\b\b\b\b\b\b\b\b\b\b\b\b\b\b\b\b\b\b\b\b\b\b\b\b\b\b\b\b\b\b\b\b\b\b\b\b\b\b\b\b\b\b\b\b\b\b\r",
      "1/1 [==============================] - 1s 580ms/step\n"
     ]
    },
    {
     "name": "stdout",
     "output_type": "stream",
     "text": [
      "\r",
      "1/1 [==============================] - ETA: 0s"
     ]
    },
    {
     "name": "stdout",
     "output_type": "stream",
     "text": [
      "\b\b\b\b\b\b\b\b\b\b\b\b\b\b\b\b\b\b\b\b\b\b\b\b\b\b\b\b\b\b\b\b\b\b\b\b\b\b\b\b\b\b\b\b\b\b\r",
      "1/1 [==============================] - 1s 615ms/step\n"
     ]
    },
    {
     "name": "stdout",
     "output_type": "stream",
     "text": [
      "\r",
      "1/1 [==============================] - ETA: 0s"
     ]
    },
    {
     "name": "stdout",
     "output_type": "stream",
     "text": [
      "\b\b\b\b\b\b\b\b\b\b\b\b\b\b\b\b\b\b\b\b\b\b\b\b\b\b\b\b\b\b\b\b\b\b\b\b\b\b\b\b\b\b\b\b\b\b\r",
      "1/1 [==============================] - 1s 546ms/step\n"
     ]
    },
    {
     "name": "stdout",
     "output_type": "stream",
     "text": [
      "\r",
      "1/1 [==============================] - ETA: 0s"
     ]
    },
    {
     "name": "stdout",
     "output_type": "stream",
     "text": [
      "\b\b\b\b\b\b\b\b\b\b\b\b\b\b\b\b\b\b\b\b\b\b\b\b\b\b\b\b\b\b\b\b\b\b\b\b\b\b\b\b\b\b\b\b\b\b\r",
      "1/1 [==============================] - 1s 551ms/step\n"
     ]
    },
    {
     "name": "stdout",
     "output_type": "stream",
     "text": [
      "\r",
      "1/1 [==============================] - ETA: 0s"
     ]
    },
    {
     "name": "stdout",
     "output_type": "stream",
     "text": [
      "\b\b\b\b\b\b\b\b\b\b\b\b\b\b\b\b\b\b\b\b\b\b\b\b\b\b\b\b\b\b\b\b\b\b\b\b\b\b\b\b\b\b\b\b\b\b\r",
      "1/1 [==============================] - 1s 564ms/step\n"
     ]
    },
    {
     "name": "stdout",
     "output_type": "stream",
     "text": [
      "\r",
      "1/1 [==============================] - ETA: 0s"
     ]
    },
    {
     "name": "stdout",
     "output_type": "stream",
     "text": [
      "\b\b\b\b\b\b\b\b\b\b\b\b\b\b\b\b\b\b\b\b\b\b\b\b\b\b\b\b\b\b\b\b\b\b\b\b\b\b\b\b\b\b\b\b\b\b\r",
      "1/1 [==============================] - 1s 511ms/step\n"
     ]
    },
    {
     "name": "stdout",
     "output_type": "stream",
     "text": [
      "\r",
      "1/1 [==============================] - ETA: 0s"
     ]
    },
    {
     "name": "stdout",
     "output_type": "stream",
     "text": [
      "\b\b\b\b\b\b\b\b\b\b\b\b\b\b\b\b\b\b\b\b\b\b\b\b\b\b\b\b\b\b\b\b\b\b\b\b\b\b\b\b\b\b\b\b\b\b\r",
      "1/1 [==============================] - 1s 516ms/step\n"
     ]
    },
    {
     "name": "stdout",
     "output_type": "stream",
     "text": [
      "\r",
      "1/1 [==============================] - ETA: 0s"
     ]
    },
    {
     "name": "stdout",
     "output_type": "stream",
     "text": [
      "\b\b\b\b\b\b\b\b\b\b\b\b\b\b\b\b\b\b\b\b\b\b\b\b\b\b\b\b\b\b\b\b\b\b\b\b\b\b\b\b\b\b\b\b\b\b\r",
      "1/1 [==============================] - 1s 532ms/step\n"
     ]
    },
    {
     "name": "stdout",
     "output_type": "stream",
     "text": [
      "\r",
      "1/1 [==============================] - ETA: 0s"
     ]
    },
    {
     "name": "stdout",
     "output_type": "stream",
     "text": [
      "\b\b\b\b\b\b\b\b\b\b\b\b\b\b\b\b\b\b\b\b\b\b\b\b\b\b\b\b\b\b\b\b\b\b\b\b\b\b\b\b\b\b\b\b\b\b\r",
      "1/1 [==============================] - 1s 549ms/step\n"
     ]
    },
    {
     "name": "stdout",
     "output_type": "stream",
     "text": [
      "\r",
      "1/1 [==============================] - ETA: 0s"
     ]
    },
    {
     "name": "stdout",
     "output_type": "stream",
     "text": [
      "\b\b\b\b\b\b\b\b\b\b\b\b\b\b\b\b\b\b\b\b\b\b\b\b\b\b\b\b\b\b\b\b\b\b\b\b\b\b\b\b\b\b\b\b\b\b\r",
      "1/1 [==============================] - 1s 741ms/step\n"
     ]
    },
    {
     "name": "stdout",
     "output_type": "stream",
     "text": [
      "\r",
      "1/1 [==============================] - ETA: 0s"
     ]
    },
    {
     "name": "stdout",
     "output_type": "stream",
     "text": [
      "\b\b\b\b\b\b\b\b\b\b\b\b\b\b\b\b\b\b\b\b\b\b\b\b\b\b\b\b\b\b\b\b\b\b\b\b\b\b\b\b\b\b\b\b\b\b\r",
      "1/1 [==============================] - 1s 526ms/step\n"
     ]
    },
    {
     "name": "stdout",
     "output_type": "stream",
     "text": [
      "\r",
      "1/1 [==============================] - ETA: 0s"
     ]
    },
    {
     "name": "stdout",
     "output_type": "stream",
     "text": [
      "\b\b\b\b\b\b\b\b\b\b\b\b\b\b\b\b\b\b\b\b\b\b\b\b\b\b\b\b\b\b\b\b\b\b\b\b\b\b\b\b\b\b\b\b\b\b\r",
      "1/1 [==============================] - 1s 505ms/step\n"
     ]
    },
    {
     "name": "stdout",
     "output_type": "stream",
     "text": [
      "\r",
      "1/1 [==============================] - ETA: 0s"
     ]
    },
    {
     "name": "stdout",
     "output_type": "stream",
     "text": [
      "\b\b\b\b\b\b\b\b\b\b\b\b\b\b\b\b\b\b\b\b\b\b\b\b\b\b\b\b\b\b\b\b\b\b\b\b\b\b\b\b\b\b\b\b\b\b\r",
      "1/1 [==============================] - 1s 577ms/step\n"
     ]
    },
    {
     "name": "stdout",
     "output_type": "stream",
     "text": [
      "\r",
      "1/1 [==============================] - ETA: 0s"
     ]
    },
    {
     "name": "stdout",
     "output_type": "stream",
     "text": [
      "\b\b\b\b\b\b\b\b\b\b\b\b\b\b\b\b\b\b\b\b\b\b\b\b\b\b\b\b\b\b\b\b\b\b\b\b\b\b\b\b\b\b\b\b\b\b\r",
      "1/1 [==============================] - 1s 552ms/step\n"
     ]
    },
    {
     "name": "stdout",
     "output_type": "stream",
     "text": [
      "\r",
      "1/1 [==============================] - ETA: 0s"
     ]
    },
    {
     "name": "stdout",
     "output_type": "stream",
     "text": [
      "\b\b\b\b\b\b\b\b\b\b\b\b\b\b\b\b\b\b\b\b\b\b\b\b\b\b\b\b\b\b\b\b\b\b\b\b\b\b\b\b\b\b\b\b\b\b\r",
      "1/1 [==============================] - 1s 605ms/step\n"
     ]
    },
    {
     "name": "stdout",
     "output_type": "stream",
     "text": [
      "\r",
      "1/1 [==============================] - ETA: 0s"
     ]
    },
    {
     "name": "stdout",
     "output_type": "stream",
     "text": [
      "\b\b\b\b\b\b\b\b\b\b\b\b\b\b\b\b\b\b\b\b\b\b\b\b\b\b\b\b\b\b\b\b\b\b\b\b\b\b\b\b\b\b\b\b\b\b\r",
      "1/1 [==============================] - 0s 499ms/step\n"
     ]
    },
    {
     "name": "stdout",
     "output_type": "stream",
     "text": [
      "\r",
      "1/1 [==============================] - ETA: 0s"
     ]
    },
    {
     "name": "stdout",
     "output_type": "stream",
     "text": [
      "\b\b\b\b\b\b\b\b\b\b\b\b\b\b\b\b\b\b\b\b\b\b\b\b\b\b\b\b\b\b\b\b\b\b\b\b\b\b\b\b\b\b\b\b\b\b\r",
      "1/1 [==============================] - 1s 602ms/step\n"
     ]
    },
    {
     "name": "stdout",
     "output_type": "stream",
     "text": [
      "\r",
      "1/1 [==============================] - ETA: 0s"
     ]
    },
    {
     "name": "stdout",
     "output_type": "stream",
     "text": [
      "\b\b\b\b\b\b\b\b\b\b\b\b\b\b\b\b\b\b\b\b\b\b\b\b\b\b\b\b\b\b\b\b\b\b\b\b\b\b\b\b\b\b\b\b\b\b\r",
      "1/1 [==============================] - 1s 506ms/step\n"
     ]
    },
    {
     "name": "stdout",
     "output_type": "stream",
     "text": [
      "\r",
      "1/1 [==============================] - ETA: 0s"
     ]
    },
    {
     "name": "stdout",
     "output_type": "stream",
     "text": [
      "\b\b\b\b\b\b\b\b\b\b\b\b\b\b\b\b\b\b\b\b\b\b\b\b\b\b\b\b\b\b\b\b\b\b\b\b\b\b\b\b\b\b\b\b\b\b\r",
      "1/1 [==============================] - 1s 531ms/step\n"
     ]
    },
    {
     "name": "stdout",
     "output_type": "stream",
     "text": [
      "\r",
      "1/1 [==============================] - ETA: 0s"
     ]
    },
    {
     "name": "stdout",
     "output_type": "stream",
     "text": [
      "\b\b\b\b\b\b\b\b\b\b\b\b\b\b\b\b\b\b\b\b\b\b\b\b\b\b\b\b\b\b\b\b\b\b\b\b\b\b\b\b\b\b\b\b\b\b\r",
      "1/1 [==============================] - 1s 538ms/step\n"
     ]
    },
    {
     "name": "stdout",
     "output_type": "stream",
     "text": [
      "\r",
      "1/1 [==============================] - ETA: 0s"
     ]
    },
    {
     "name": "stdout",
     "output_type": "stream",
     "text": [
      "\b\b\b\b\b\b\b\b\b\b\b\b\b\b\b\b\b\b\b\b\b\b\b\b\b\b\b\b\b\b\b\b\b\b\b\b\b\b\b\b\b\b\b\b\b\b\r",
      "1/1 [==============================] - 1s 537ms/step\n"
     ]
    },
    {
     "name": "stdout",
     "output_type": "stream",
     "text": [
      "\r",
      "1/1 [==============================] - ETA: 0s"
     ]
    },
    {
     "name": "stdout",
     "output_type": "stream",
     "text": [
      "\b\b\b\b\b\b\b\b\b\b\b\b\b\b\b\b\b\b\b\b\b\b\b\b\b\b\b\b\b\b\b\b\b\b\b\b\b\b\b\b\b\b\b\b\b\b\r",
      "1/1 [==============================] - 1s 522ms/step\n"
     ]
    },
    {
     "name": "stdout",
     "output_type": "stream",
     "text": [
      "\r",
      "1/1 [==============================] - ETA: 0s"
     ]
    },
    {
     "name": "stdout",
     "output_type": "stream",
     "text": [
      "\b\b\b\b\b\b\b\b\b\b\b\b\b\b\b\b\b\b\b\b\b\b\b\b\b\b\b\b\b\b\b\b\b\b\b\b\b\b\b\b\b\b\b\b\b\b\r",
      "1/1 [==============================] - 1s 533ms/step\n"
     ]
    },
    {
     "name": "stdout",
     "output_type": "stream",
     "text": [
      "\r",
      "1/1 [==============================] - ETA: 0s"
     ]
    },
    {
     "name": "stdout",
     "output_type": "stream",
     "text": [
      "\b\b\b\b\b\b\b\b\b\b\b\b\b\b\b\b\b\b\b\b\b\b\b\b\b\b\b\b\b\b\b\b\b\b\b\b\b\b\b\b\b\b\b\b\b\b\r",
      "1/1 [==============================] - 1s 594ms/step\n"
     ]
    },
    {
     "name": "stdout",
     "output_type": "stream",
     "text": [
      "\r",
      "1/1 [==============================] - ETA: 0s"
     ]
    },
    {
     "name": "stdout",
     "output_type": "stream",
     "text": [
      "\b\b\b\b\b\b\b\b\b\b\b\b\b\b\b\b\b\b\b\b\b\b\b\b\b\b\b\b\b\b\b\b\b\b\b\b\b\b\b\b\b\b\b\b\b\b\r",
      "1/1 [==============================] - 1s 611ms/step\n"
     ]
    },
    {
     "name": "stdout",
     "output_type": "stream",
     "text": [
      "\r",
      "1/1 [==============================] - ETA: 0s"
     ]
    },
    {
     "name": "stdout",
     "output_type": "stream",
     "text": [
      "\b\b\b\b\b\b\b\b\b\b\b\b\b\b\b\b\b\b\b\b\b\b\b\b\b\b\b\b\b\b\b\b\b\b\b\b\b\b\b\b\b\b\b\b\b\b\r",
      "1/1 [==============================] - 0s 497ms/step\n"
     ]
    },
    {
     "name": "stdout",
     "output_type": "stream",
     "text": [
      "\r",
      "1/1 [==============================] - ETA: 0s"
     ]
    },
    {
     "name": "stdout",
     "output_type": "stream",
     "text": [
      "\b\b\b\b\b\b\b\b\b\b\b\b\b\b\b\b\b\b\b\b\b\b\b\b\b\b\b\b\b\b\b\b\b\b\b\b\b\b\b\b\b\b\b\b\b\b\r",
      "1/1 [==============================] - 0s 486ms/step\n"
     ]
    },
    {
     "name": "stdout",
     "output_type": "stream",
     "text": [
      "\r",
      "1/1 [==============================] - ETA: 0s"
     ]
    },
    {
     "name": "stdout",
     "output_type": "stream",
     "text": [
      "\b\b\b\b\b\b\b\b\b\b\b\b\b\b\b\b\b\b\b\b\b\b\b\b\b\b\b\b\b\b\b\b\b\b\b\b\b\b\b\b\b\b\b\b\b\b\r",
      "1/1 [==============================] - 0s 457ms/step\n"
     ]
    },
    {
     "name": "stdout",
     "output_type": "stream",
     "text": [
      "\r",
      "1/1 [==============================] - ETA: 0s"
     ]
    },
    {
     "name": "stdout",
     "output_type": "stream",
     "text": [
      "\b\b\b\b\b\b\b\b\b\b\b\b\b\b\b\b\b\b\b\b\b\b\b\b\b\b\b\b\b\b\b\b\b\b\b\b\b\b\b\b\b\b\b\b\b\b\r",
      "1/1 [==============================] - 0s 462ms/step\n"
     ]
    },
    {
     "name": "stdout",
     "output_type": "stream",
     "text": [
      "\r",
      "1/1 [==============================] - ETA: 0s"
     ]
    },
    {
     "name": "stdout",
     "output_type": "stream",
     "text": [
      "\b\b\b\b\b\b\b\b\b\b\b\b\b\b\b\b\b\b\b\b\b\b\b\b\b\b\b\b\b\b\b\b\b\b\b\b\b\b\b\b\b\b\b\b\b\b\r",
      "1/1 [==============================] - 0s 442ms/step\n"
     ]
    },
    {
     "name": "stdout",
     "output_type": "stream",
     "text": [
      "\r",
      "1/1 [==============================] - ETA: 0s"
     ]
    },
    {
     "name": "stdout",
     "output_type": "stream",
     "text": [
      "\b\b\b\b\b\b\b\b\b\b\b\b\b\b\b\b\b\b\b\b\b\b\b\b\b\b\b\b\b\b\b\b\b\b\b\b\b\b\b\b\b\b\b\b\b\b\r",
      "1/1 [==============================] - 1s 552ms/step\n"
     ]
    },
    {
     "name": "stdout",
     "output_type": "stream",
     "text": [
      "\r",
      "1/1 [==============================] - ETA: 0s"
     ]
    },
    {
     "name": "stdout",
     "output_type": "stream",
     "text": [
      "\b\b\b\b\b\b\b\b\b\b\b\b\b\b\b\b\b\b\b\b\b\b\b\b\b\b\b\b\b\b\b\b\b\b\b\b\b\b\b\b\b\b\b\b\b\b\r",
      "1/1 [==============================] - 0s 447ms/step\n"
     ]
    },
    {
     "name": "stdout",
     "output_type": "stream",
     "text": [
      "\r",
      "1/1 [==============================] - ETA: 0s"
     ]
    },
    {
     "name": "stdout",
     "output_type": "stream",
     "text": [
      "\b\b\b\b\b\b\b\b\b\b\b\b\b\b\b\b\b\b\b\b\b\b\b\b\b\b\b\b\b\b\b\b\b\b\b\b\b\b\b\b\b\b\b\b\b\b\r",
      "1/1 [==============================] - 0s 458ms/step\n"
     ]
    },
    {
     "name": "stdout",
     "output_type": "stream",
     "text": [
      "\r",
      "1/1 [==============================] - ETA: 0s"
     ]
    },
    {
     "name": "stdout",
     "output_type": "stream",
     "text": [
      "\b\b\b\b\b\b\b\b\b\b\b\b\b\b\b\b\b\b\b\b\b\b\b\b\b\b\b\b\b\b\b\b\b\b\b\b\b\b\b\b\b\b\b\b\b\b\r",
      "1/1 [==============================] - 1s 512ms/step\n"
     ]
    },
    {
     "name": "stdout",
     "output_type": "stream",
     "text": [
      "\r",
      "1/1 [==============================] - ETA: 0s"
     ]
    },
    {
     "name": "stdout",
     "output_type": "stream",
     "text": [
      "\b\b\b\b\b\b\b\b\b\b\b\b\b\b\b\b\b\b\b\b\b\b\b\b\b\b\b\b\b\b\b\b\b\b\b\b\b\b\b\b\b\b\b\b\b\b\r",
      "1/1 [==============================] - 0s 468ms/step\n"
     ]
    },
    {
     "name": "stdout",
     "output_type": "stream",
     "text": [
      "\r",
      "1/1 [==============================] - ETA: 0s"
     ]
    },
    {
     "name": "stdout",
     "output_type": "stream",
     "text": [
      "\b\b\b\b\b\b\b\b\b\b\b\b\b\b\b\b\b\b\b\b\b\b\b\b\b\b\b\b\b\b\b\b\b\b\b\b\b\b\b\b\b\b\b\b\b\b\r",
      "1/1 [==============================] - 0s 465ms/step\n"
     ]
    },
    {
     "name": "stdout",
     "output_type": "stream",
     "text": [
      "\r",
      "1/1 [==============================] - ETA: 0s"
     ]
    },
    {
     "name": "stdout",
     "output_type": "stream",
     "text": [
      "\b\b\b\b\b\b\b\b\b\b\b\b\b\b\b\b\b\b\b\b\b\b\b\b\b\b\b\b\b\b\b\b\b\b\b\b\b\b\b\b\b\b\b\b\b\b\r",
      "1/1 [==============================] - 1s 508ms/step\n"
     ]
    },
    {
     "name": "stdout",
     "output_type": "stream",
     "text": [
      "\r",
      "1/1 [==============================] - ETA: 0s"
     ]
    },
    {
     "name": "stdout",
     "output_type": "stream",
     "text": [
      "\b\b\b\b\b\b\b\b\b\b\b\b\b\b\b\b\b\b\b\b\b\b\b\b\b\b\b\b\b\b\b\b\b\b\b\b\b\b\b\b\b\b\b\b\b\b\r",
      "1/1 [==============================] - 1s 540ms/step\n"
     ]
    },
    {
     "name": "stdout",
     "output_type": "stream",
     "text": [
      "\r",
      "1/1 [==============================] - ETA: 0s"
     ]
    },
    {
     "name": "stdout",
     "output_type": "stream",
     "text": [
      "\b\b\b\b\b\b\b\b\b\b\b\b\b\b\b\b\b\b\b\b\b\b\b\b\b\b\b\b\b\b\b\b\b\b\b\b\b\b\b\b\b\b\b\b\b\b\r",
      "1/1 [==============================] - 0s 497ms/step\n"
     ]
    },
    {
     "name": "stdout",
     "output_type": "stream",
     "text": [
      "\r",
      "1/1 [==============================] - ETA: 0s"
     ]
    },
    {
     "name": "stdout",
     "output_type": "stream",
     "text": [
      "\b\b\b\b\b\b\b\b\b\b\b\b\b\b\b\b\b\b\b\b\b\b\b\b\b\b\b\b\b\b\b\b\b\b\b\b\b\b\b\b\b\b\b\b\b\b\r",
      "1/1 [==============================] - 1s 513ms/step\n"
     ]
    },
    {
     "name": "stdout",
     "output_type": "stream",
     "text": [
      "\r",
      "1/1 [==============================] - ETA: 0s"
     ]
    },
    {
     "name": "stdout",
     "output_type": "stream",
     "text": [
      "\b\b\b\b\b\b\b\b\b\b\b\b\b\b\b\b\b\b\b\b\b\b\b\b\b\b\b\b\b\b\b\b\b\b\b\b\b\b\b\b\b\b\b\b\b\b\r",
      "1/1 [==============================] - 1s 557ms/step\n"
     ]
    },
    {
     "name": "stdout",
     "output_type": "stream",
     "text": [
      "\r",
      "1/1 [==============================] - ETA: 0s"
     ]
    },
    {
     "name": "stdout",
     "output_type": "stream",
     "text": [
      "\b\b\b\b\b\b\b\b\b\b\b\b\b\b\b\b\b\b\b\b\b\b\b\b\b\b\b\b\b\b\b\b\b\b\b\b\b\b\b\b\b\b\b\b\b\b\r",
      "1/1 [==============================] - 0s 492ms/step\n"
     ]
    },
    {
     "name": "stdout",
     "output_type": "stream",
     "text": [
      "\r",
      "1/1 [==============================] - ETA: 0s"
     ]
    },
    {
     "name": "stdout",
     "output_type": "stream",
     "text": [
      "\b\b\b\b\b\b\b\b\b\b\b\b\b\b\b\b\b\b\b\b\b\b\b\b\b\b\b\b\b\b\b\b\b\b\b\b\b\b\b\b\b\b\b\b\b\b\r",
      "1/1 [==============================] - 1s 520ms/step\n"
     ]
    },
    {
     "name": "stdout",
     "output_type": "stream",
     "text": [
      "\r",
      "1/1 [==============================] - ETA: 0s"
     ]
    },
    {
     "name": "stdout",
     "output_type": "stream",
     "text": [
      "\b\b\b\b\b\b\b\b\b\b\b\b\b\b\b\b\b\b\b\b\b\b\b\b\b\b\b\b\b\b\b\b\b\b\b\b\b\b\b\b\b\b\b\b\b\b\r",
      "1/1 [==============================] - 1s 583ms/step\n"
     ]
    },
    {
     "name": "stdout",
     "output_type": "stream",
     "text": [
      "\r",
      "1/1 [==============================] - ETA: 0s"
     ]
    },
    {
     "name": "stdout",
     "output_type": "stream",
     "text": [
      "\b\b\b\b\b\b\b\b\b\b\b\b\b\b\b\b\b\b\b\b\b\b\b\b\b\b\b\b\b\b\b\b\b\b\b\b\b\b\b\b\b\b\b\b\b\b\r",
      "1/1 [==============================] - 1s 544ms/step\n"
     ]
    },
    {
     "name": "stdout",
     "output_type": "stream",
     "text": [
      "\r",
      "1/1 [==============================] - ETA: 0s"
     ]
    },
    {
     "name": "stdout",
     "output_type": "stream",
     "text": [
      "\b\b\b\b\b\b\b\b\b\b\b\b\b\b\b\b\b\b\b\b\b\b\b\b\b\b\b\b\b\b\b\b\b\b\b\b\b\b\b\b\b\b\b\b\b\b\r",
      "1/1 [==============================] - 1s 596ms/step\n"
     ]
    },
    {
     "name": "stdout",
     "output_type": "stream",
     "text": [
      "\r",
      "1/1 [==============================] - ETA: 0s"
     ]
    },
    {
     "name": "stdout",
     "output_type": "stream",
     "text": [
      "\b\b\b\b\b\b\b\b\b\b\b\b\b\b\b\b\b\b\b\b\b\b\b\b\b\b\b\b\b\b\b\b\b\b\b\b\b\b\b\b\b\b\b\b\b\b\r",
      "1/1 [==============================] - 0s 492ms/step\n"
     ]
    },
    {
     "name": "stdout",
     "output_type": "stream",
     "text": [
      "\r",
      "1/1 [==============================] - ETA: 0s"
     ]
    },
    {
     "name": "stdout",
     "output_type": "stream",
     "text": [
      "\b\b\b\b\b\b\b\b\b\b\b\b\b\b\b\b\b\b\b\b\b\b\b\b\b\b\b\b\b\b\b\b\b\b\b\b\b\b\b\b\b\b\b\b\b\b\r",
      "1/1 [==============================] - 0s 427ms/step\n"
     ]
    },
    {
     "name": "stdout",
     "output_type": "stream",
     "text": [
      "\r",
      "1/1 [==============================] - ETA: 0s"
     ]
    },
    {
     "name": "stdout",
     "output_type": "stream",
     "text": [
      "\b\b\b\b\b\b\b\b\b\b\b\b\b\b\b\b\b\b\b\b\b\b\b\b\b\b\b\b\b\b\b\b\b\b\b\b\b\b\b\b\b\b\b\b\b\b\r",
      "1/1 [==============================] - 0s 476ms/step\n"
     ]
    },
    {
     "name": "stdout",
     "output_type": "stream",
     "text": [
      "\r",
      "1/1 [==============================] - ETA: 0s"
     ]
    },
    {
     "name": "stdout",
     "output_type": "stream",
     "text": [
      "\b\b\b\b\b\b\b\b\b\b\b\b\b\b\b\b\b\b\b\b\b\b\b\b\b\b\b\b\b\b\b\b\b\b\b\b\b\b\b\b\b\b\b\b\b\b\r",
      "1/1 [==============================] - 0s 488ms/step\n"
     ]
    },
    {
     "name": "stdout",
     "output_type": "stream",
     "text": [
      "\r",
      "1/1 [==============================] - ETA: 0s"
     ]
    },
    {
     "name": "stdout",
     "output_type": "stream",
     "text": [
      "\b\b\b\b\b\b\b\b\b\b\b\b\b\b\b\b\b\b\b\b\b\b\b\b\b\b\b\b\b\b\b\b\b\b\b\b\b\b\b\b\b\b\b\b\b\b\r",
      "1/1 [==============================] - 1s 552ms/step\n"
     ]
    },
    {
     "name": "stdout",
     "output_type": "stream",
     "text": [
      "\r",
      "1/1 [==============================] - ETA: 0s"
     ]
    },
    {
     "name": "stdout",
     "output_type": "stream",
     "text": [
      "\b\b\b\b\b\b\b\b\b\b\b\b\b\b\b\b\b\b\b\b\b\b\b\b\b\b\b\b\b\b\b\b\b\b\b\b\b\b\b\b\b\b\b\b\b\b\r",
      "1/1 [==============================] - 0s 489ms/step\n"
     ]
    },
    {
     "name": "stdout",
     "output_type": "stream",
     "text": [
      "\r",
      "1/1 [==============================] - ETA: 0s"
     ]
    },
    {
     "name": "stdout",
     "output_type": "stream",
     "text": [
      "\b\b\b\b\b\b\b\b\b\b\b\b\b\b\b\b\b\b\b\b\b\b\b\b\b\b\b\b\b\b\b\b\b\b\b\b\b\b\b\b\b\b\b\b\b\b\r",
      "1/1 [==============================] - 0s 489ms/step\n"
     ]
    },
    {
     "name": "stdout",
     "output_type": "stream",
     "text": [
      "\r",
      "1/1 [==============================] - ETA: 0s"
     ]
    },
    {
     "name": "stdout",
     "output_type": "stream",
     "text": [
      "\b\b\b\b\b\b\b\b\b\b\b\b\b\b\b\b\b\b\b\b\b\b\b\b\b\b\b\b\b\b\b\b\b\b\b\b\b\b\b\b\b\b\b\b\b\b\r",
      "1/1 [==============================] - 1s 607ms/step\n"
     ]
    },
    {
     "name": "stdout",
     "output_type": "stream",
     "text": [
      "\r",
      "1/1 [==============================] - ETA: 0s"
     ]
    },
    {
     "name": "stdout",
     "output_type": "stream",
     "text": [
      "\b\b\b\b\b\b\b\b\b\b\b\b\b\b\b\b\b\b\b\b\b\b\b\b\b\b\b\b\b\b\b\b\b\b\b\b\b\b\b\b\b\b\b\b\b\b\r",
      "1/1 [==============================] - 0s 472ms/step\n"
     ]
    },
    {
     "name": "stdout",
     "output_type": "stream",
     "text": [
      "\r",
      "1/1 [==============================] - ETA: 0s"
     ]
    },
    {
     "name": "stdout",
     "output_type": "stream",
     "text": [
      "\b\b\b\b\b\b\b\b\b\b\b\b\b\b\b\b\b\b\b\b\b\b\b\b\b\b\b\b\b\b\b\b\b\b\b\b\b\b\b\b\b\b\b\b\b\b\r",
      "1/1 [==============================] - 0s 478ms/step\n"
     ]
    },
    {
     "name": "stdout",
     "output_type": "stream",
     "text": [
      "\r",
      "1/1 [==============================] - ETA: 0s"
     ]
    },
    {
     "name": "stdout",
     "output_type": "stream",
     "text": [
      "\b\b\b\b\b\b\b\b\b\b\b\b\b\b\b\b\b\b\b\b\b\b\b\b\b\b\b\b\b\b\b\b\b\b\b\b\b\b\b\b\b\b\b\b\b\b\r",
      "1/1 [==============================] - 1s 523ms/step\n"
     ]
    },
    {
     "name": "stdout",
     "output_type": "stream",
     "text": [
      "\r",
      "1/1 [==============================] - ETA: 0s"
     ]
    },
    {
     "name": "stdout",
     "output_type": "stream",
     "text": [
      "\b\b\b\b\b\b\b\b\b\b\b\b\b\b\b\b\b\b\b\b\b\b\b\b\b\b\b\b\b\b\b\b\b\b\b\b\b\b\b\b\b\b\b\b\b\b\r",
      "1/1 [==============================] - 1s 505ms/step\n"
     ]
    },
    {
     "name": "stdout",
     "output_type": "stream",
     "text": [
      "\r",
      "1/1 [==============================] - ETA: 0s"
     ]
    },
    {
     "name": "stdout",
     "output_type": "stream",
     "text": [
      "\b\b\b\b\b\b\b\b\b\b\b\b\b\b\b\b\b\b\b\b\b\b\b\b\b\b\b\b\b\b\b\b\b\b\b\b\b\b\b\b\b\b\b\b\b\b\r",
      "1/1 [==============================] - 0s 500ms/step\n"
     ]
    },
    {
     "name": "stdout",
     "output_type": "stream",
     "text": [
      "\r",
      "1/1 [==============================] - ETA: 0s"
     ]
    },
    {
     "name": "stdout",
     "output_type": "stream",
     "text": [
      "\b\b\b\b\b\b\b\b\b\b\b\b\b\b\b\b\b\b\b\b\b\b\b\b\b\b\b\b\b\b\b\b\b\b\b\b\b\b\b\b\b\b\b\b\b\b\r",
      "1/1 [==============================] - 0s 497ms/step\n"
     ]
    },
    {
     "name": "stdout",
     "output_type": "stream",
     "text": [
      "\r",
      "1/1 [==============================] - ETA: 0s"
     ]
    },
    {
     "name": "stdout",
     "output_type": "stream",
     "text": [
      "\b\b\b\b\b\b\b\b\b\b\b\b\b\b\b\b\b\b\b\b\b\b\b\b\b\b\b\b\b\b\b\b\b\b\b\b\b\b\b\b\b\b\b\b\b\b\r",
      "1/1 [==============================] - 1s 547ms/step\n"
     ]
    },
    {
     "name": "stdout",
     "output_type": "stream",
     "text": [
      "\r",
      "1/1 [==============================] - ETA: 0s"
     ]
    },
    {
     "name": "stdout",
     "output_type": "stream",
     "text": [
      "\b\b\b\b\b\b\b\b\b\b\b\b\b\b\b\b\b\b\b\b\b\b\b\b\b\b\b\b\b\b\b\b\b\b\b\b\b\b\b\b\b\b\b\b\b\b\r",
      "1/1 [==============================] - 1s 504ms/step\n"
     ]
    },
    {
     "name": "stdout",
     "output_type": "stream",
     "text": [
      "\r",
      "1/1 [==============================] - ETA: 0s"
     ]
    },
    {
     "name": "stdout",
     "output_type": "stream",
     "text": [
      "\b\b\b\b\b\b\b\b\b\b\b\b\b\b\b\b\b\b\b\b\b\b\b\b\b\b\b\b\b\b\b\b\b\b\b\b\b\b\b\b\b\b\b\b\b\b\r",
      "1/1 [==============================] - 1s 520ms/step\n"
     ]
    },
    {
     "name": "stdout",
     "output_type": "stream",
     "text": [
      "\r",
      "1/1 [==============================] - ETA: 0s"
     ]
    },
    {
     "name": "stdout",
     "output_type": "stream",
     "text": [
      "\b\b\b\b\b\b\b\b\b\b\b\b\b\b\b\b\b\b\b\b\b\b\b\b\b\b\b\b\b\b\b\b\b\b\b\b\b\b\b\b\b\b\b\b\b\b\r",
      "1/1 [==============================] - 0s 465ms/step\n"
     ]
    },
    {
     "name": "stdout",
     "output_type": "stream",
     "text": [
      "\r",
      "1/1 [==============================] - ETA: 0s"
     ]
    },
    {
     "name": "stdout",
     "output_type": "stream",
     "text": [
      "\b\b\b\b\b\b\b\b\b\b\b\b\b\b\b\b\b\b\b\b\b\b\b\b\b\b\b\b\b\b\b\b\b\b\b\b\b\b\b\b\b\b\b\b\b\b\r",
      "1/1 [==============================] - 1s 553ms/step\n"
     ]
    },
    {
     "name": "stdout",
     "output_type": "stream",
     "text": [
      "\r",
      "1/1 [==============================] - ETA: 0s"
     ]
    },
    {
     "name": "stdout",
     "output_type": "stream",
     "text": [
      "\b\b\b\b\b\b\b\b\b\b\b\b\b\b\b\b\b\b\b\b\b\b\b\b\b\b\b\b\b\b\b\b\b\b\b\b\b\b\b\b\b\b\b\b\b\b\r",
      "1/1 [==============================] - 1s 553ms/step\n"
     ]
    },
    {
     "name": "stdout",
     "output_type": "stream",
     "text": [
      "\r",
      "1/1 [==============================] - ETA: 0s"
     ]
    },
    {
     "name": "stdout",
     "output_type": "stream",
     "text": [
      "\b\b\b\b\b\b\b\b\b\b\b\b\b\b\b\b\b\b\b\b\b\b\b\b\b\b\b\b\b\b\b\b\b\b\b\b\b\b\b\b\b\b\b\b\b\b\r",
      "1/1 [==============================] - 1s 536ms/step\n"
     ]
    },
    {
     "name": "stdout",
     "output_type": "stream",
     "text": [
      "\r",
      "1/1 [==============================] - ETA: 0s"
     ]
    },
    {
     "name": "stdout",
     "output_type": "stream",
     "text": [
      "\b\b\b\b\b\b\b\b\b\b\b\b\b\b\b\b\b\b\b\b\b\b\b\b\b\b\b\b\b\b\b\b\b\b\b\b\b\b\b\b\b\b\b\b\b\b\r",
      "1/1 [==============================] - 1s 501ms/step\n"
     ]
    },
    {
     "name": "stdout",
     "output_type": "stream",
     "text": [
      "\r",
      "1/1 [==============================] - ETA: 0s"
     ]
    },
    {
     "name": "stdout",
     "output_type": "stream",
     "text": [
      "\b\b\b\b\b\b\b\b\b\b\b\b\b\b\b\b\b\b\b\b\b\b\b\b\b\b\b\b\b\b\b\b\b\b\b\b\b\b\b\b\b\b\b\b\b\b\r",
      "1/1 [==============================] - 1s 601ms/step\n"
     ]
    },
    {
     "name": "stdout",
     "output_type": "stream",
     "text": [
      "\r",
      "1/1 [==============================] - ETA: 0s"
     ]
    },
    {
     "name": "stdout",
     "output_type": "stream",
     "text": [
      "\b\b\b\b\b\b\b\b\b\b\b\b\b\b\b\b\b\b\b\b\b\b\b\b\b\b\b\b\b\b\b\b\b\b\b\b\b\b\b\b\b\b\b\b\b\b\r",
      "1/1 [==============================] - 1s 503ms/step\n"
     ]
    },
    {
     "name": "stdout",
     "output_type": "stream",
     "text": [
      "\r",
      "1/1 [==============================] - ETA: 0s"
     ]
    },
    {
     "name": "stdout",
     "output_type": "stream",
     "text": [
      "\b\b\b\b\b\b\b\b\b\b\b\b\b\b\b\b\b\b\b\b\b\b\b\b\b\b\b\b\b\b\b\b\b\b\b\b\b\b\b\b\b\b\b\b\b\b\r",
      "1/1 [==============================] - 1s 514ms/step\n"
     ]
    },
    {
     "name": "stdout",
     "output_type": "stream",
     "text": [
      "\r",
      "1/1 [==============================] - ETA: 0s"
     ]
    },
    {
     "name": "stdout",
     "output_type": "stream",
     "text": [
      "\b\b\b\b\b\b\b\b\b\b\b\b\b\b\b\b\b\b\b\b\b\b\b\b\b\b\b\b\b\b\b\b\b\b\b\b\b\b\b\b\b\b\b\b\b\b\r",
      "1/1 [==============================] - 0s 457ms/step\n"
     ]
    },
    {
     "name": "stdout",
     "output_type": "stream",
     "text": [
      "\r",
      "1/1 [==============================] - ETA: 0s"
     ]
    },
    {
     "name": "stdout",
     "output_type": "stream",
     "text": [
      "\b\b\b\b\b\b\b\b\b\b\b\b\b\b\b\b\b\b\b\b\b\b\b\b\b\b\b\b\b\b\b\b\b\b\b\b\b\b\b\b\b\b\b\b\b\b\r",
      "1/1 [==============================] - 0s 470ms/step\n"
     ]
    },
    {
     "name": "stdout",
     "output_type": "stream",
     "text": [
      "\r",
      "1/1 [==============================] - ETA: 0s"
     ]
    },
    {
     "name": "stdout",
     "output_type": "stream",
     "text": [
      "\b\b\b\b\b\b\b\b\b\b\b\b\b\b\b\b\b\b\b\b\b\b\b\b\b\b\b\b\b\b\b\b\b\b\b\b\b\b\b\b\b\b\b\b\b\b\r",
      "1/1 [==============================] - 1s 507ms/step\n"
     ]
    },
    {
     "name": "stdout",
     "output_type": "stream",
     "text": [
      "\r",
      "1/1 [==============================] - ETA: 0s"
     ]
    },
    {
     "name": "stdout",
     "output_type": "stream",
     "text": [
      "\b\b\b\b\b\b\b\b\b\b\b\b\b\b\b\b\b\b\b\b\b\b\b\b\b\b\b\b\b\b\b\b\b\b\b\b\b\b\b\b\b\b\b\b\b\b\r",
      "1/1 [==============================] - 1s 646ms/step\n"
     ]
    },
    {
     "name": "stdout",
     "output_type": "stream",
     "text": [
      "\r",
      "1/1 [==============================] - ETA: 0s"
     ]
    },
    {
     "name": "stdout",
     "output_type": "stream",
     "text": [
      "\b\b\b\b\b\b\b\b\b\b\b\b\b\b\b\b\b\b\b\b\b\b\b\b\b\b\b\b\b\b\b\b\b\b\b\b\b\b\b\b\b\b\b\b\b\b\r",
      "1/1 [==============================] - 0s 489ms/step\n"
     ]
    },
    {
     "name": "stdout",
     "output_type": "stream",
     "text": [
      "\r",
      "1/1 [==============================] - ETA: 0s"
     ]
    },
    {
     "name": "stdout",
     "output_type": "stream",
     "text": [
      "\b\b\b\b\b\b\b\b\b\b\b\b\b\b\b\b\b\b\b\b\b\b\b\b\b\b\b\b\b\b\b\b\b\b\b\b\b\b\b\b\b\b\b\b\b\b\r",
      "1/1 [==============================] - 1s 623ms/step\n"
     ]
    },
    {
     "name": "stdout",
     "output_type": "stream",
     "text": [
      "\r",
      "1/1 [==============================] - ETA: 0s"
     ]
    },
    {
     "name": "stdout",
     "output_type": "stream",
     "text": [
      "\b\b\b\b\b\b\b\b\b\b\b\b\b\b\b\b\b\b\b\b\b\b\b\b\b\b\b\b\b\b\b\b\b\b\b\b\b\b\b\b\b\b\b\b\b\b\r",
      "1/1 [==============================] - 1s 518ms/step\n"
     ]
    },
    {
     "name": "stdout",
     "output_type": "stream",
     "text": [
      "\r",
      "1/1 [==============================] - ETA: 0s"
     ]
    },
    {
     "name": "stdout",
     "output_type": "stream",
     "text": [
      "\b\b\b\b\b\b\b\b\b\b\b\b\b\b\b\b\b\b\b\b\b\b\b\b\b\b\b\b\b\b\b\b\b\b\b\b\b\b\b\b\b\b\b\b\b\b\r",
      "1/1 [==============================] - 1s 537ms/step\n"
     ]
    },
    {
     "name": "stdout",
     "output_type": "stream",
     "text": [
      "\r",
      "1/1 [==============================] - ETA: 0s"
     ]
    },
    {
     "name": "stdout",
     "output_type": "stream",
     "text": [
      "\b\b\b\b\b\b\b\b\b\b\b\b\b\b\b\b\b\b\b\b\b\b\b\b\b\b\b\b\b\b\b\b\b\b\b\b\b\b\b\b\b\b\b\b\b\b\r",
      "1/1 [==============================] - 1s 624ms/step\n"
     ]
    },
    {
     "name": "stdout",
     "output_type": "stream",
     "text": [
      "\r",
      "1/1 [==============================] - ETA: 0s"
     ]
    },
    {
     "name": "stdout",
     "output_type": "stream",
     "text": [
      "\b\b\b\b\b\b\b\b\b\b\b\b\b\b\b\b\b\b\b\b\b\b\b\b\b\b\b\b\b\b\b\b\b\b\b\b\b\b\b\b\b\b\b\b\b\b\r",
      "1/1 [==============================] - 1s 527ms/step\n"
     ]
    },
    {
     "name": "stdout",
     "output_type": "stream",
     "text": [
      "\r",
      "1/1 [==============================] - ETA: 0s"
     ]
    },
    {
     "name": "stdout",
     "output_type": "stream",
     "text": [
      "\b\b\b\b\b\b\b\b\b\b\b\b\b\b\b\b\b\b\b\b\b\b\b\b\b\b\b\b\b\b\b\b\b\b\b\b\b\b\b\b\b\b\b\b\b\b\r",
      "1/1 [==============================] - 1s 543ms/step\n"
     ]
    },
    {
     "name": "stdout",
     "output_type": "stream",
     "text": [
      "\r",
      "1/1 [==============================] - ETA: 0s"
     ]
    },
    {
     "name": "stdout",
     "output_type": "stream",
     "text": [
      "\b\b\b\b\b\b\b\b\b\b\b\b\b\b\b\b\b\b\b\b\b\b\b\b\b\b\b\b\b\b\b\b\b\b\b\b\b\b\b\b\b\b\b\b\b\b\r",
      "1/1 [==============================] - 1s 583ms/step\n"
     ]
    },
    {
     "name": "stdout",
     "output_type": "stream",
     "text": [
      "\r",
      "1/1 [==============================] - ETA: 0s"
     ]
    },
    {
     "name": "stdout",
     "output_type": "stream",
     "text": [
      "\b\b\b\b\b\b\b\b\b\b\b\b\b\b\b\b\b\b\b\b\b\b\b\b\b\b\b\b\b\b\b\b\b\b\b\b\b\b\b\b\b\b\b\b\b\b\r",
      "1/1 [==============================] - 1s 695ms/step\n"
     ]
    },
    {
     "name": "stdout",
     "output_type": "stream",
     "text": [
      "\r",
      "1/1 [==============================] - ETA: 0s"
     ]
    },
    {
     "name": "stdout",
     "output_type": "stream",
     "text": [
      "\b\b\b\b\b\b\b\b\b\b\b\b\b\b\b\b\b\b\b\b\b\b\b\b\b\b\b\b\b\b\b\b\b\b\b\b\b\b\b\b\b\b\b\b\b\b\r",
      "1/1 [==============================] - 1s 526ms/step\n"
     ]
    },
    {
     "name": "stdout",
     "output_type": "stream",
     "text": [
      "\r",
      "1/1 [==============================] - ETA: 0s"
     ]
    },
    {
     "name": "stdout",
     "output_type": "stream",
     "text": [
      "\b\b\b\b\b\b\b\b\b\b\b\b\b\b\b\b\b\b\b\b\b\b\b\b\b\b\b\b\b\b\b\b\b\b\b\b\b\b\b\b\b\b\b\b\b\b\r",
      "1/1 [==============================] - 1s 639ms/step\n"
     ]
    },
    {
     "name": "stdout",
     "output_type": "stream",
     "text": [
      "\r",
      "1/1 [==============================] - ETA: 0s"
     ]
    },
    {
     "name": "stdout",
     "output_type": "stream",
     "text": [
      "\b\b\b\b\b\b\b\b\b\b\b\b\b\b\b\b\b\b\b\b\b\b\b\b\b\b\b\b\b\b\b\b\b\b\b\b\b\b\b\b\b\b\b\b\b\b\r",
      "1/1 [==============================] - 1s 735ms/step\n"
     ]
    },
    {
     "name": "stdout",
     "output_type": "stream",
     "text": [
      "\r",
      "1/1 [==============================] - ETA: 0s"
     ]
    },
    {
     "name": "stdout",
     "output_type": "stream",
     "text": [
      "\b\b\b\b\b\b\b\b\b\b\b\b\b\b\b\b\b\b\b\b\b\b\b\b\b\b\b\b\b\b\b\b\b\b\b\b\b\b\b\b\b\b\b\b\b\b\r",
      "1/1 [==============================] - 1s 654ms/step\n"
     ]
    },
    {
     "name": "stdout",
     "output_type": "stream",
     "text": [
      "\r",
      "1/1 [==============================] - ETA: 0s"
     ]
    },
    {
     "name": "stdout",
     "output_type": "stream",
     "text": [
      "\b\b\b\b\b\b\b\b\b\b\b\b\b\b\b\b\b\b\b\b\b\b\b\b\b\b\b\b\b\b\b\b\b\b\b\b\b\b\b\b\b\b\b\b\b\b\r",
      "1/1 [==============================] - 1s 589ms/step\n"
     ]
    },
    {
     "name": "stdout",
     "output_type": "stream",
     "text": [
      "\r",
      "1/1 [==============================] - ETA: 0s"
     ]
    },
    {
     "name": "stdout",
     "output_type": "stream",
     "text": [
      "\b\b\b\b\b\b\b\b\b\b\b\b\b\b\b\b\b\b\b\b\b\b\b\b\b\b\b\b\b\b\b\b\b\b\b\b\b\b\b\b\b\b\b\b\b\b\r",
      "1/1 [==============================] - 1s 550ms/step\n"
     ]
    },
    {
     "name": "stdout",
     "output_type": "stream",
     "text": [
      "\r",
      "1/1 [==============================] - ETA: 0s"
     ]
    },
    {
     "name": "stdout",
     "output_type": "stream",
     "text": [
      "\b\b\b\b\b\b\b\b\b\b\b\b\b\b\b\b\b\b\b\b\b\b\b\b\b\b\b\b\b\b\b\b\b\b\b\b\b\b\b\b\b\b\b\b\b\b\r",
      "1/1 [==============================] - 1s 558ms/step\n"
     ]
    },
    {
     "name": "stdout",
     "output_type": "stream",
     "text": [
      "\r",
      "1/1 [==============================] - ETA: 0s"
     ]
    },
    {
     "name": "stdout",
     "output_type": "stream",
     "text": [
      "\b\b\b\b\b\b\b\b\b\b\b\b\b\b\b\b\b\b\b\b\b\b\b\b\b\b\b\b\b\b\b\b\b\b\b\b\b\b\b\b\b\b\b\b\b\b\r",
      "1/1 [==============================] - 1s 608ms/step\n"
     ]
    },
    {
     "name": "stderr",
     "output_type": "stream",
     "text": [
      "/home/jup_user/mlproject/jup-env/lib/python3.8/site-packages/sklearn/cluster/_kmeans.py:1416: FutureWarning: The default value of `n_init` will change from 10 to 'auto' in 1.4. Set the value of `n_init` explicitly to suppress the warning\n",
      "  super()._check_params_vs_input(X, default_n_init=10)\n"
     ]
    },
    {
     "name": "stderr",
     "output_type": "stream",
     "text": [
      "/home/jup_user/mlproject/jup-env/lib/python3.8/site-packages/sklearn/cluster/_kmeans.py:1416: FutureWarning: The default value of `n_init` will change from 10 to 'auto' in 1.4. Set the value of `n_init` explicitly to suppress the warning\n",
      "  super()._check_params_vs_input(X, default_n_init=10)\n"
     ]
    },
    {
     "name": "stderr",
     "output_type": "stream",
     "text": [
      "/home/jup_user/mlproject/jup-env/lib/python3.8/site-packages/sklearn/cluster/_kmeans.py:1416: FutureWarning: The default value of `n_init` will change from 10 to 'auto' in 1.4. Set the value of `n_init` explicitly to suppress the warning\n",
      "  super()._check_params_vs_input(X, default_n_init=10)\n"
     ]
    },
    {
     "name": "stderr",
     "output_type": "stream",
     "text": [
      "/home/jup_user/mlproject/jup-env/lib/python3.8/site-packages/sklearn/cluster/_kmeans.py:1416: FutureWarning: The default value of `n_init` will change from 10 to 'auto' in 1.4. Set the value of `n_init` explicitly to suppress the warning\n",
      "  super()._check_params_vs_input(X, default_n_init=10)\n"
     ]
    },
    {
     "name": "stderr",
     "output_type": "stream",
     "text": [
      "/home/jup_user/mlproject/jup-env/lib/python3.8/site-packages/sklearn/cluster/_kmeans.py:1416: FutureWarning: The default value of `n_init` will change from 10 to 'auto' in 1.4. Set the value of `n_init` explicitly to suppress the warning\n",
      "  super()._check_params_vs_input(X, default_n_init=10)\n"
     ]
    },
    {
     "name": "stderr",
     "output_type": "stream",
     "text": [
      "/home/jup_user/mlproject/jup-env/lib/python3.8/site-packages/sklearn/cluster/_kmeans.py:1416: FutureWarning: The default value of `n_init` will change from 10 to 'auto' in 1.4. Set the value of `n_init` explicitly to suppress the warning\n",
      "  super()._check_params_vs_input(X, default_n_init=10)\n"
     ]
    },
    {
     "name": "stderr",
     "output_type": "stream",
     "text": [
      "/home/jup_user/mlproject/jup-env/lib/python3.8/site-packages/sklearn/cluster/_kmeans.py:1416: FutureWarning: The default value of `n_init` will change from 10 to 'auto' in 1.4. Set the value of `n_init` explicitly to suppress the warning\n",
      "  super()._check_params_vs_input(X, default_n_init=10)\n"
     ]
    },
    {
     "name": "stderr",
     "output_type": "stream",
     "text": [
      "/home/jup_user/mlproject/jup-env/lib/python3.8/site-packages/sklearn/cluster/_kmeans.py:1416: FutureWarning: The default value of `n_init` will change from 10 to 'auto' in 1.4. Set the value of `n_init` explicitly to suppress the warning\n",
      "  super()._check_params_vs_input(X, default_n_init=10)\n"
     ]
    },
    {
     "name": "stderr",
     "output_type": "stream",
     "text": [
      "/home/jup_user/mlproject/jup-env/lib/python3.8/site-packages/sklearn/cluster/_kmeans.py:1416: FutureWarning: The default value of `n_init` will change from 10 to 'auto' in 1.4. Set the value of `n_init` explicitly to suppress the warning\n",
      "  super()._check_params_vs_input(X, default_n_init=10)\n"
     ]
    },
    {
     "name": "stderr",
     "output_type": "stream",
     "text": [
      "/home/jup_user/mlproject/jup-env/lib/python3.8/site-packages/sklearn/cluster/_kmeans.py:1416: FutureWarning: The default value of `n_init` will change from 10 to 'auto' in 1.4. Set the value of `n_init` explicitly to suppress the warning\n",
      "  super()._check_params_vs_input(X, default_n_init=10)\n"
     ]
    },
    {
     "name": "stderr",
     "output_type": "stream",
     "text": [
      "/home/jup_user/mlproject/jup-env/lib/python3.8/site-packages/sklearn/cluster/_kmeans.py:1416: FutureWarning: The default value of `n_init` will change from 10 to 'auto' in 1.4. Set the value of `n_init` explicitly to suppress the warning\n",
      "  super()._check_params_vs_input(X, default_n_init=10)\n"
     ]
    },
    {
     "name": "stderr",
     "output_type": "stream",
     "text": [
      "/home/jup_user/mlproject/jup-env/lib/python3.8/site-packages/sklearn/cluster/_kmeans.py:1416: FutureWarning: The default value of `n_init` will change from 10 to 'auto' in 1.4. Set the value of `n_init` explicitly to suppress the warning\n",
      "  super()._check_params_vs_input(X, default_n_init=10)\n"
     ]
    },
    {
     "name": "stderr",
     "output_type": "stream",
     "text": [
      "/home/jup_user/mlproject/jup-env/lib/python3.8/site-packages/sklearn/cluster/_kmeans.py:1416: FutureWarning: The default value of `n_init` will change from 10 to 'auto' in 1.4. Set the value of `n_init` explicitly to suppress the warning\n",
      "  super()._check_params_vs_input(X, default_n_init=10)\n"
     ]
    },
    {
     "name": "stderr",
     "output_type": "stream",
     "text": [
      "/home/jup_user/mlproject/jup-env/lib/python3.8/site-packages/sklearn/cluster/_kmeans.py:1416: FutureWarning: The default value of `n_init` will change from 10 to 'auto' in 1.4. Set the value of `n_init` explicitly to suppress the warning\n",
      "  super()._check_params_vs_input(X, default_n_init=10)\n"
     ]
    },
    {
     "name": "stderr",
     "output_type": "stream",
     "text": [
      "/home/jup_user/mlproject/jup-env/lib/python3.8/site-packages/sklearn/cluster/_kmeans.py:1416: FutureWarning: The default value of `n_init` will change from 10 to 'auto' in 1.4. Set the value of `n_init` explicitly to suppress the warning\n",
      "  super()._check_params_vs_input(X, default_n_init=10)\n"
     ]
    },
    {
     "name": "stderr",
     "output_type": "stream",
     "text": [
      "/home/jup_user/mlproject/jup-env/lib/python3.8/site-packages/sklearn/cluster/_kmeans.py:1416: FutureWarning: The default value of `n_init` will change from 10 to 'auto' in 1.4. Set the value of `n_init` explicitly to suppress the warning\n",
      "  super()._check_params_vs_input(X, default_n_init=10)\n"
     ]
    },
    {
     "name": "stderr",
     "output_type": "stream",
     "text": [
      "/home/jup_user/mlproject/jup-env/lib/python3.8/site-packages/sklearn/cluster/_kmeans.py:1416: FutureWarning: The default value of `n_init` will change from 10 to 'auto' in 1.4. Set the value of `n_init` explicitly to suppress the warning\n",
      "  super()._check_params_vs_input(X, default_n_init=10)\n"
     ]
    },
    {
     "name": "stderr",
     "output_type": "stream",
     "text": [
      "/home/jup_user/mlproject/jup-env/lib/python3.8/site-packages/sklearn/cluster/_kmeans.py:1416: FutureWarning: The default value of `n_init` will change from 10 to 'auto' in 1.4. Set the value of `n_init` explicitly to suppress the warning\n",
      "  super()._check_params_vs_input(X, default_n_init=10)\n"
     ]
    },
    {
     "name": "stderr",
     "output_type": "stream",
     "text": [
      "/home/jup_user/mlproject/jup-env/lib/python3.8/site-packages/sklearn/cluster/_kmeans.py:1416: FutureWarning: The default value of `n_init` will change from 10 to 'auto' in 1.4. Set the value of `n_init` explicitly to suppress the warning\n",
      "  super()._check_params_vs_input(X, default_n_init=10)\n"
     ]
    },
    {
     "name": "stderr",
     "output_type": "stream",
     "text": [
      "/home/jup_user/mlproject/jup-env/lib/python3.8/site-packages/sklearn/cluster/_kmeans.py:1416: FutureWarning: The default value of `n_init` will change from 10 to 'auto' in 1.4. Set the value of `n_init` explicitly to suppress the warning\n",
      "  super()._check_params_vs_input(X, default_n_init=10)\n"
     ]
    },
    {
     "name": "stderr",
     "output_type": "stream",
     "text": [
      "/home/jup_user/mlproject/jup-env/lib/python3.8/site-packages/sklearn/cluster/_kmeans.py:1416: FutureWarning: The default value of `n_init` will change from 10 to 'auto' in 1.4. Set the value of `n_init` explicitly to suppress the warning\n",
      "  super()._check_params_vs_input(X, default_n_init=10)\n"
     ]
    },
    {
     "name": "stderr",
     "output_type": "stream",
     "text": [
      "/home/jup_user/mlproject/jup-env/lib/python3.8/site-packages/sklearn/cluster/_kmeans.py:1416: FutureWarning: The default value of `n_init` will change from 10 to 'auto' in 1.4. Set the value of `n_init` explicitly to suppress the warning\n",
      "  super()._check_params_vs_input(X, default_n_init=10)\n"
     ]
    },
    {
     "name": "stderr",
     "output_type": "stream",
     "text": [
      "/home/jup_user/mlproject/jup-env/lib/python3.8/site-packages/sklearn/cluster/_kmeans.py:1416: FutureWarning: The default value of `n_init` will change from 10 to 'auto' in 1.4. Set the value of `n_init` explicitly to suppress the warning\n",
      "  super()._check_params_vs_input(X, default_n_init=10)\n"
     ]
    },
    {
     "name": "stderr",
     "output_type": "stream",
     "text": [
      "/home/jup_user/mlproject/jup-env/lib/python3.8/site-packages/sklearn/cluster/_kmeans.py:1416: FutureWarning: The default value of `n_init` will change from 10 to 'auto' in 1.4. Set the value of `n_init` explicitly to suppress the warning\n",
      "  super()._check_params_vs_input(X, default_n_init=10)\n"
     ]
    },
    {
     "name": "stderr",
     "output_type": "stream",
     "text": [
      "/home/jup_user/mlproject/jup-env/lib/python3.8/site-packages/sklearn/cluster/_kmeans.py:1416: FutureWarning: The default value of `n_init` will change from 10 to 'auto' in 1.4. Set the value of `n_init` explicitly to suppress the warning\n",
      "  super()._check_params_vs_input(X, default_n_init=10)\n"
     ]
    },
    {
     "name": "stderr",
     "output_type": "stream",
     "text": [
      "/home/jup_user/mlproject/jup-env/lib/python3.8/site-packages/sklearn/cluster/_kmeans.py:1416: FutureWarning: The default value of `n_init` will change from 10 to 'auto' in 1.4. Set the value of `n_init` explicitly to suppress the warning\n",
      "  super()._check_params_vs_input(X, default_n_init=10)\n"
     ]
    },
    {
     "name": "stderr",
     "output_type": "stream",
     "text": [
      "/home/jup_user/mlproject/jup-env/lib/python3.8/site-packages/sklearn/cluster/_kmeans.py:1416: FutureWarning: The default value of `n_init` will change from 10 to 'auto' in 1.4. Set the value of `n_init` explicitly to suppress the warning\n",
      "  super()._check_params_vs_input(X, default_n_init=10)\n"
     ]
    },
    {
     "name": "stderr",
     "output_type": "stream",
     "text": [
      "/home/jup_user/mlproject/jup-env/lib/python3.8/site-packages/sklearn/cluster/_kmeans.py:1416: FutureWarning: The default value of `n_init` will change from 10 to 'auto' in 1.4. Set the value of `n_init` explicitly to suppress the warning\n",
      "  super()._check_params_vs_input(X, default_n_init=10)\n"
     ]
    },
    {
     "name": "stderr",
     "output_type": "stream",
     "text": [
      "/home/jup_user/mlproject/jup-env/lib/python3.8/site-packages/sklearn/cluster/_kmeans.py:1416: FutureWarning: The default value of `n_init` will change from 10 to 'auto' in 1.4. Set the value of `n_init` explicitly to suppress the warning\n",
      "  super()._check_params_vs_input(X, default_n_init=10)\n"
     ]
    },
    {
     "name": "stderr",
     "output_type": "stream",
     "text": [
      "/home/jup_user/mlproject/jup-env/lib/python3.8/site-packages/sklearn/cluster/_kmeans.py:1416: FutureWarning: The default value of `n_init` will change from 10 to 'auto' in 1.4. Set the value of `n_init` explicitly to suppress the warning\n",
      "  super()._check_params_vs_input(X, default_n_init=10)\n"
     ]
    },
    {
     "name": "stderr",
     "output_type": "stream",
     "text": [
      "/home/jup_user/mlproject/jup-env/lib/python3.8/site-packages/sklearn/cluster/_kmeans.py:1416: FutureWarning: The default value of `n_init` will change from 10 to 'auto' in 1.4. Set the value of `n_init` explicitly to suppress the warning\n",
      "  super()._check_params_vs_input(X, default_n_init=10)\n"
     ]
    },
    {
     "name": "stderr",
     "output_type": "stream",
     "text": [
      "/home/jup_user/mlproject/jup-env/lib/python3.8/site-packages/sklearn/cluster/_kmeans.py:1416: FutureWarning: The default value of `n_init` will change from 10 to 'auto' in 1.4. Set the value of `n_init` explicitly to suppress the warning\n",
      "  super()._check_params_vs_input(X, default_n_init=10)\n"
     ]
    },
    {
     "name": "stderr",
     "output_type": "stream",
     "text": [
      "/home/jup_user/mlproject/jup-env/lib/python3.8/site-packages/sklearn/cluster/_kmeans.py:1416: FutureWarning: The default value of `n_init` will change from 10 to 'auto' in 1.4. Set the value of `n_init` explicitly to suppress the warning\n",
      "  super()._check_params_vs_input(X, default_n_init=10)\n"
     ]
    },
    {
     "name": "stderr",
     "output_type": "stream",
     "text": [
      "/home/jup_user/mlproject/jup-env/lib/python3.8/site-packages/sklearn/cluster/_kmeans.py:1416: FutureWarning: The default value of `n_init` will change from 10 to 'auto' in 1.4. Set the value of `n_init` explicitly to suppress the warning\n",
      "  super()._check_params_vs_input(X, default_n_init=10)\n"
     ]
    },
    {
     "name": "stderr",
     "output_type": "stream",
     "text": [
      "/home/jup_user/mlproject/jup-env/lib/python3.8/site-packages/sklearn/cluster/_kmeans.py:1416: FutureWarning: The default value of `n_init` will change from 10 to 'auto' in 1.4. Set the value of `n_init` explicitly to suppress the warning\n",
      "  super()._check_params_vs_input(X, default_n_init=10)\n"
     ]
    },
    {
     "name": "stderr",
     "output_type": "stream",
     "text": [
      "/home/jup_user/mlproject/jup-env/lib/python3.8/site-packages/sklearn/cluster/_kmeans.py:1416: FutureWarning: The default value of `n_init` will change from 10 to 'auto' in 1.4. Set the value of `n_init` explicitly to suppress the warning\n",
      "  super()._check_params_vs_input(X, default_n_init=10)\n"
     ]
    },
    {
     "name": "stderr",
     "output_type": "stream",
     "text": [
      "/home/jup_user/mlproject/jup-env/lib/python3.8/site-packages/sklearn/cluster/_kmeans.py:1416: FutureWarning: The default value of `n_init` will change from 10 to 'auto' in 1.4. Set the value of `n_init` explicitly to suppress the warning\n",
      "  super()._check_params_vs_input(X, default_n_init=10)\n"
     ]
    },
    {
     "name": "stderr",
     "output_type": "stream",
     "text": [
      "/home/jup_user/mlproject/jup-env/lib/python3.8/site-packages/sklearn/cluster/_kmeans.py:1416: FutureWarning: The default value of `n_init` will change from 10 to 'auto' in 1.4. Set the value of `n_init` explicitly to suppress the warning\n",
      "  super()._check_params_vs_input(X, default_n_init=10)\n"
     ]
    },
    {
     "name": "stderr",
     "output_type": "stream",
     "text": [
      "/home/jup_user/mlproject/jup-env/lib/python3.8/site-packages/sklearn/cluster/_kmeans.py:1416: FutureWarning: The default value of `n_init` will change from 10 to 'auto' in 1.4. Set the value of `n_init` explicitly to suppress the warning\n",
      "  super()._check_params_vs_input(X, default_n_init=10)\n"
     ]
    },
    {
     "name": "stderr",
     "output_type": "stream",
     "text": [
      "/home/jup_user/mlproject/jup-env/lib/python3.8/site-packages/sklearn/cluster/_kmeans.py:1416: FutureWarning: The default value of `n_init` will change from 10 to 'auto' in 1.4. Set the value of `n_init` explicitly to suppress the warning\n",
      "  super()._check_params_vs_input(X, default_n_init=10)\n"
     ]
    },
    {
     "name": "stderr",
     "output_type": "stream",
     "text": [
      "/home/jup_user/mlproject/jup-env/lib/python3.8/site-packages/sklearn/cluster/_kmeans.py:1416: FutureWarning: The default value of `n_init` will change from 10 to 'auto' in 1.4. Set the value of `n_init` explicitly to suppress the warning\n",
      "  super()._check_params_vs_input(X, default_n_init=10)\n"
     ]
    },
    {
     "name": "stderr",
     "output_type": "stream",
     "text": [
      "/home/jup_user/mlproject/jup-env/lib/python3.8/site-packages/sklearn/cluster/_kmeans.py:1416: FutureWarning: The default value of `n_init` will change from 10 to 'auto' in 1.4. Set the value of `n_init` explicitly to suppress the warning\n",
      "  super()._check_params_vs_input(X, default_n_init=10)\n"
     ]
    },
    {
     "name": "stderr",
     "output_type": "stream",
     "text": [
      "/home/jup_user/mlproject/jup-env/lib/python3.8/site-packages/sklearn/cluster/_kmeans.py:1416: FutureWarning: The default value of `n_init` will change from 10 to 'auto' in 1.4. Set the value of `n_init` explicitly to suppress the warning\n",
      "  super()._check_params_vs_input(X, default_n_init=10)\n"
     ]
    },
    {
     "name": "stderr",
     "output_type": "stream",
     "text": [
      "/home/jup_user/mlproject/jup-env/lib/python3.8/site-packages/sklearn/cluster/_kmeans.py:1416: FutureWarning: The default value of `n_init` will change from 10 to 'auto' in 1.4. Set the value of `n_init` explicitly to suppress the warning\n",
      "  super()._check_params_vs_input(X, default_n_init=10)\n"
     ]
    },
    {
     "name": "stderr",
     "output_type": "stream",
     "text": [
      "/home/jup_user/mlproject/jup-env/lib/python3.8/site-packages/sklearn/cluster/_kmeans.py:1416: FutureWarning: The default value of `n_init` will change from 10 to 'auto' in 1.4. Set the value of `n_init` explicitly to suppress the warning\n",
      "  super()._check_params_vs_input(X, default_n_init=10)\n"
     ]
    },
    {
     "name": "stderr",
     "output_type": "stream",
     "text": [
      "/home/jup_user/mlproject/jup-env/lib/python3.8/site-packages/sklearn/cluster/_kmeans.py:1416: FutureWarning: The default value of `n_init` will change from 10 to 'auto' in 1.4. Set the value of `n_init` explicitly to suppress the warning\n",
      "  super()._check_params_vs_input(X, default_n_init=10)\n"
     ]
    },
    {
     "name": "stderr",
     "output_type": "stream",
     "text": [
      "/home/jup_user/mlproject/jup-env/lib/python3.8/site-packages/sklearn/cluster/_kmeans.py:1416: FutureWarning: The default value of `n_init` will change from 10 to 'auto' in 1.4. Set the value of `n_init` explicitly to suppress the warning\n",
      "  super()._check_params_vs_input(X, default_n_init=10)\n"
     ]
    },
    {
     "name": "stderr",
     "output_type": "stream",
     "text": [
      "/home/jup_user/mlproject/jup-env/lib/python3.8/site-packages/sklearn/cluster/_kmeans.py:1416: FutureWarning: The default value of `n_init` will change from 10 to 'auto' in 1.4. Set the value of `n_init` explicitly to suppress the warning\n",
      "  super()._check_params_vs_input(X, default_n_init=10)\n"
     ]
    }
   ],
   "source": [
    "path = folder_path\n",
    "# change the working directory to the path where the images are located\n",
    "os.chdir(path)\n",
    "\n",
    "# this list holds all the image filename\n",
    "flowers = []\n",
    "\n",
    "# creates a ScandirIterator aliased as files\n",
    "with os.scandir(path) as files:\n",
    "  # loops through each file in the directory\n",
    "    for file in files:\n",
    "        if file.name.endswith('.jpg'):\n",
    "          # adds only the image files to the flowers list\n",
    "            flowers.append(file.name)\n",
    "        if file.name.endswith('.png'):\n",
    "            # adds only the image files to the flowers list\n",
    "            flowers.append(file.name)\n",
    "            \n",
    "model = VGG16()\n",
    "model = Model(inputs = model.inputs, outputs = model.layers[-2].output)\n",
    "   \n",
    "data = {}\n",
    "p = \"/home/jup_user/multipool/ai-case-study/img\"\n",
    "\n",
    "# lop through each image in the dataset\n",
    "for flower in flowers:\n",
    "    # try to extract the features and update the dictionary\n",
    "    try:\n",
    "        feat = extract_features(flower,model)\n",
    "        data[flower] = feat\n",
    "    # if something fails, save the extracted features as a pickle file (optional)\n",
    "    except:\n",
    "        with open(p,'wb') as file:\n",
    "            pickle.dump(data,file)\n",
    "          \n",
    "# get a list of the filenames\n",
    "filenames = np.array(list(data.keys()))\n",
    "\n",
    "# get a list of just the features\n",
    "feat = np.array(list(data.values()))\n",
    "\n",
    "# reshape so that there are 210 samples of 4096 vectors\n",
    "feat = feat.reshape(-1,4096)\n",
    "\n",
    "# get the unique labels (from the flower_labels.csv)\n",
    "df = pd.read_csv('/home/jup_user/multipool/ai-case-study/flower_labels.csv')\n",
    "label = df['label'].tolist()\n",
    "unique_labels = list(set(label))\n",
    "\n",
    "# reduce the amount of dimensions in the feature vector\n",
    "pca = PCA(n_components=100, random_state=22)\n",
    "pca.fit(feat)\n",
    "x = pca.transform(feat)\n",
    "\n",
    "# cluster feature vectors\n",
    "kmeans = KMeans(n_clusters=len(unique_labels), random_state=22)\n",
    "kmeans.fit(x)\n",
    "\n",
    "# holds the cluster id and the images { id: [images] }\n",
    "groups = {}\n",
    "for file, cluster in zip(filenames,kmeans.labels_):\n",
    "    if cluster not in groups.keys():\n",
    "        groups[cluster] = []\n",
    "        groups[cluster].append(file)\n",
    "    else:\n",
    "        groups[cluster].append(file)\n",
    "\n",
    "# this is just incase you want to see which value for k might be the best \n",
    "sse = []\n",
    "list_k = list(range(3, 50))\n",
    "\n",
    "for k in list_k:\n",
    "    km = KMeans(n_clusters=k, random_state=22)\n",
    "    km.fit(x)\n",
    "    \n",
    "    sse.append(km.inertia_)\n",
    "\n",
    "# function to calculate clusters\n",
    "def cluster(filePaths, features, threshold=0.9):\n",
    "    features = features.reshape(-1,4096)\n",
    "    simMatrix = cosine_similarity(features)\n",
    "    clusters = {}\n",
    "    for i in range(len(features)):\n",
    "        dupIdx = list(np.where(simMatrix[i] > threshold)[0])\n",
    "        # The similarity matrix will include comparisons of items with themselves, which will always \n",
    "        # result in a similarity of 1.0 (100%) and is redundant, so we ignore those\n",
    "        if len(dupIdx) > 1:\n",
    "            curCluster, clusterMatch = list(dupIdx), None\n",
    "            # The first time an image is found to be in any given cluster, we log the entire cluster, \n",
    "            # so subsequent checks of other images from the same cluster would result in duplicated clusters.\n",
    "            # Check for that here\n",
    "            for cIdx in clusters:\n",
    "                if curCluster[0] in clusters[cIdx]:\n",
    "                    clusterMatch = cIdx\n",
    "                    break\n",
    "            # If the current cluster didn't match any existing ones, create/log it\n",
    "            if clusterMatch == None: clusters[len(clusters)] = curCluster\n",
    "    # Resolve file indices back to file paths\n",
    "    for cIdx in clusters: clusters[cIdx] = [filePaths[x] for x in clusters[cIdx]]\n",
    "    return clusters\n",
    "\n",
    "# another method of clustering based on CSI\n",
    "clus_new = cluster(filenames, feat, threshold=0.6)"
   ]
  },
  {
   "cell_type": "code",
   "execution_count": 7,
   "id": "d431c067-bb02-4785-9f0a-511ceacbb4cc",
   "metadata": {
    "execution": {
     "iopub.execute_input": "2024-06-06T17:14:16.766095Z",
     "iopub.status.busy": "2024-06-06T17:14:16.765531Z",
     "iopub.status.idle": "2024-06-06T17:14:16.801920Z",
     "shell.execute_reply": "2024-06-06T17:14:16.796353Z"
    }
   },
   "outputs": [],
   "source": [
    "# prepare data for saving to rdbms\n",
    "save_df = result_df"
   ]
  },
  {
   "cell_type": "code",
   "execution_count": 8,
   "id": "19662fd0-5dd8-466f-a505-a81568f2a000",
   "metadata": {
    "execution": {
     "iopub.execute_input": "2024-06-06T17:14:16.820042Z",
     "iopub.status.busy": "2024-06-06T17:14:16.812956Z",
     "iopub.status.idle": "2024-06-06T17:14:16.844738Z",
     "shell.execute_reply": "2024-06-06T17:14:16.832612Z"
    }
   },
   "outputs": [],
   "source": [
    "# save_df[[\"file_folder\",\"filename_actual\"]] = save_df['filename'].str.split('/',n=1, expand=True)\n",
    "save_df['cluster_number'] = 0"
   ]
  },
  {
   "cell_type": "code",
   "execution_count": 9,
   "id": "e81fc242-b9f9-4d7e-a4e2-7e4605826aaf",
   "metadata": {
    "collapsed": true,
    "execution": {
     "iopub.execute_input": "2024-06-06T17:14:16.860834Z",
     "iopub.status.busy": "2024-06-06T17:14:16.860370Z",
     "iopub.status.idle": "2024-06-06T17:14:17.241483Z",
     "shell.execute_reply": "2024-06-06T17:14:17.240131Z"
    },
    "jupyter": {
     "outputs_hidden": true
    }
   },
   "outputs": [
    {
     "name": "stdout",
     "output_type": "stream",
     "text": [
      "GPSp-MmaUAAN71h.jpg\n",
      "GPSP0-AacAAi-NX.jpg\n",
      "GPR6aqUbsAAWMGJ.jpg\n",
      "GPR6d5Tb0AArTt1.jpg\n",
      "GPSQHZGaYAAYpvA.png\n",
      "GPR6zcNaUAAQGSL.jpg\n",
      "GPSBXj2bMAAc30A.jpg\n",
      "GPSBcJWasAA6KjX.jpg\n",
      "GPSfYwKacAAsHl8.jpg\n",
      "GPR6WCua4AAKtHW.jpg\n",
      "GPR6OAvboAI9eP6.jpg\n",
      "GPR6TziagAAmvPn.jpg\n",
      "GPR6MWLasAAR4SR.jpg\n",
      "GPQmi2YacAA6TNL.jpg\n",
      "GPS-ILEbMAARLcP.jpg\n",
      "GPR6x4TbwAArxej.jpg\n",
      "GPRc_oEboAADDiY.jpg\n",
      "GPSBsLUbcAAXd9x.jpg\n",
      "GPSBoONawAAp6jq.jpg\n",
      "GPRTradboAANnZR.jpg\n",
      "GPR1Jpaa4AEC5Yg.jpg\n",
      "GPSeVYtaAAA2QQj.jpg\n",
      "GPTDniPacAAIHYv.jpg\n",
      "GPReOoKagAAukSL.jpg\n",
      "GPS_1B_akAAOY4t.jpg\n",
      "GPSOYkCboAA-Euy.jpg\n",
      "GPSBrZUawAAS2fX.jpg\n",
      "GPSZYXgaEAAr-jx.jpg\n",
      "GPSBnpfaMAA2qmZ.jpg\n",
      "GPSBbZTboAAJXQ0.jpg\n",
      "GPSZZ6ub0AADxwL.jpg\n",
      "GPSZWmnbQAAx2TD.jpg\n",
      "GPRCcGUaoAAg0CJ.jpg\n",
      "GPQcKt9a0AAXCH5.jpg\n",
      "GPSZXUYbEAAG3Pr.jpg\n",
      "GPR_SQTa8AAS-Pv.jpg\n",
      "GPSZapyaUAAZ4FF.jpg\n",
      "GPR-_LfbMAIpVZo.jpg\n",
      "GPSZZDHbsAAw98g.jpg\n",
      "GPR_XwpbsAA79Y7.jpg\n",
      "GPStFfvaAAARiLc.jpg\n",
      "GPSQfuBbAAAL1TO.jpg\n",
      "GPRCLa1aoAAv7Kt.jpg\n",
      "GPR_SQTa8AAS-Pv.jpg\n",
      "GPRBwJGawAASjeb.jpg\n",
      "GPRCY5kakAAPADs.jpg\n",
      "GPSfYwKacAAsHl8.jpg\n",
      "GPR-_LfbMAIpVZo.jpg\n",
      "GPR_XwpbsAA79Y7.jpg\n",
      "GPRCATJbAAA-wAN.jpg\n",
      "GPRCP8iaYAA09fE.jpg\n",
      "GPSrnClaMAAxXWu.jpg\n",
      "GPR1Jpaa4AEC5Yg.jpg\n",
      "GPR_SQTa8AAS-Pv.jpg\n",
      "GPSeVYtaAAA2QQj.jpg\n",
      "GPTDniPacAAIHYv.jpg\n",
      "GPSBXj2bMAAc30A.jpg\n",
      "GPRW340bQAAJ0yr.jpg\n",
      "GPSyJH7W0AA4w7_.jpg\n",
      "GPR-_LfbMAIpVZo.jpg\n",
      "GPR5UEzbEAA4Rej.png\n",
      "GPRBbz3bIAA8Wh_.jpg\n",
      "GPReOoKagAAukSL.jpg\n",
      "GPRCepvbYAAjwrL.jpg\n",
      "GPSQRiiaEAAr7BJ.jpg\n",
      "GPS-ILEbMAARLcP.jpg\n",
      "GPRd7axbkAA_jsF.jpg\n",
      "GPSy4OWbYAAdUdt.jpg\n",
      "GPR_XwpbsAA79Y7.jpg\n",
      "GPRCFUbbkAANa2E.jpg\n",
      "GPSW8aJaMAALNgn.jpg\n"
     ]
    },
    {
     "name": "stdout",
     "output_type": "stream",
     "text": [
      "GPSXEAJaYAA_PIu.jpg\n",
      "GPR_SQTa8AAS-Pv.jpg\n",
      "GPSW-5lbQAAOS5D.jpg\n",
      "GPR-_LfbMAIpVZo.jpg\n",
      "GPSW9MFb0AA5_0B.jpg\n",
      "GPSXBN4bUAEcIBy.jpg\n",
      "GPSXMDAbEAApNFg.jpg\n",
      "GPRnY1KbAAANWxb.jpg\n",
      "GPSW-EpbEAAMpP9.jpg\n",
      "GPR_XwpbsAA79Y7.jpg\n",
      "GPSW_9iaUAAufoo.jpg\n",
      "GPR_FWVasAAL6vn.jpg\n",
      "GPR_SQTa8AAS-Pv.jpg\n",
      "GPR--T7aIAAQTWa.jpg\n",
      "GPR-_LfbMAIpVZo.jpg\n",
      "GPR_XwpbsAA79Y7.jpg\n",
      "GPR_Wvxa0AAMMa5.jpg\n",
      "GPR-9bHacAAl5sU.jpg\n",
      "GPR_VXOaYAAqMq8.jpg\n",
      "GPR_EV4aEAEVFk4.jpg\n",
      "GPR3bOXaMAA2Hfl.jpg\n",
      "GPR9xWHaIAAoyAf.jpg\n",
      "EUgqAZxUYAA9Yg0.jpg\n",
      "GPSRMSbaMAAs4UN.jpg\n",
      "GPSwZRpa0AAbohU.jpg\n",
      "GPR_bVtakAAX50X.jpg\n",
      "GPS3ELIagAAD2a8.jpg\n",
      "GPSrgwnakAAb7Jo.jpg\n",
      "GPSQNGPaIAAS--S.png\n",
      "GPSuxSTbkAAgkKs.jpg\n",
      "GPSQqNcaEAArQD1.jpg\n",
      "GPSurRwaUAAlIp0.jpg\n",
      "GPSQxpAaIAA_hSg.jpg\n",
      "GPSwMdMbgAAcAhy.jpg\n",
      "GPSQ_xDacAAlzFO.jpg\n",
      "GPSwTH7aMAAH6qo.jpg\n",
      "GPSGah9aAAAD8Ip.jpg\n",
      "GPRc_oEboAADDiY.jpg\n",
      "GPSQZ2EasAAl9ik.jpg\n",
      "GPSs-G5agAAS-tX.jpg\n",
      "GPRCW26aYAAXzHz.jpg\n",
      "GPRB2TlbIAAcGEg.jpg\n",
      "GPRCJOMbUAAtQj_.jpg\n",
      "GPR9KIHaUAA6LuO.jpg\n",
      "GPRB8-jbcAAv2-p.jpg\n",
      "GPSNCaUbwAA1GOO.jpg\n",
      "GPR6ysXbEAAebvC.jpg\n",
      "GPR6cjKa8AAg1sP.jpg\n",
      "GPSBm3Xa4AAp1Se.jpg\n",
      "GPR6NV2akAA4zAT.jpg\n",
      "GPSBareaAAAvkN9.jpg\n",
      "GPSBqjoacAA39LH.jpg\n",
      "GPR6VAwboAAS9A1.jpg\n",
      "GPSQkUuaoAA27gy.jpg\n",
      "GPStOM_bMAAcKzf.jpg\n",
      "GPSmQjxakAA7jvQ.jpg\n",
      "GPSPpfebEAAxnXF.jpg\n",
      "GPSxp2AbkAA2isD.jpg\n",
      "GPSxp0Da4AArnqN.jpg\n",
      "GPQb9z6bUAAU12q.jpg\n",
      "GPTEyEUa8AAxVgV.jpg\n",
      "GPSPLAwawAAEO9t.jpg\n",
      "GPR9xWHaIAAoyAf.jpg\n",
      "GPST1OxbAAAsP_M.jpg\n",
      "GPSRUs_bQAEf3Rr.jpg\n",
      "GPSP8fibQAA0D0S.png\n",
      "GPSqD9VbgAAcjbT.jpg\n"
     ]
    }
   ],
   "source": [
    "for item in clus_new:\n",
    "    # print(clus_new[item])\n",
    "    # print(len(clus_new[item]))\n",
    "    for file in clus_new[item]:\n",
    "        # print(item)\n",
    "        print(file)\n",
    "        filter_condition = save_df['filename'] == file\n",
    "        save_df.loc[filter_condition,'cluster_number'] = item\n",
    "        result = save_df[filter_condition]\n",
    "        # result['cluster_number'] = item\n",
    "        # print(save_df.loc[filter_condition,'cluster_number'])"
   ]
  },
  {
   "cell_type": "code",
   "execution_count": 10,
   "id": "75d585c9-ce51-461d-86c7-c9bc2c45fb79",
   "metadata": {
    "collapsed": true,
    "execution": {
     "iopub.execute_input": "2024-06-06T17:14:17.265487Z",
     "iopub.status.busy": "2024-06-06T17:14:17.264534Z",
     "iopub.status.idle": "2024-06-06T17:14:33.210449Z",
     "shell.execute_reply": "2024-06-06T17:14:33.203315Z"
    },
    "jupyter": {
     "outputs_hidden": true
    }
   },
   "outputs": [
    {
     "name": "stdout",
     "output_type": "stream",
     "text": [
      "INSERT into ret_cluster_result (job_id, tweet_id, cluster_no) values (3915, 1798279202242019758, 0)\n"
     ]
    },
    {
     "name": "stdout",
     "output_type": "stream",
     "text": [
      "Query executed successfully. 1 rows affected.\n",
      "INSERT into ret_cluster_result (job_id, tweet_id, cluster_no) values (3915, 1798279010356707329, 7)\n"
     ]
    },
    {
     "name": "stdout",
     "output_type": "stream",
     "text": [
      "Query executed successfully. 1 rows affected.\n",
      "INSERT into ret_cluster_result (job_id, tweet_id, cluster_no) values (3915, 1798278582487351708, 25)\n",
      "Query executed successfully. 1 rows affected.\n",
      "INSERT into ret_cluster_result (job_id, tweet_id, cluster_no) values (3915, 1798278226978263097, 0)\n"
     ]
    },
    {
     "name": "stdout",
     "output_type": "stream",
     "text": [
      "Query executed successfully. 1 rows affected.\n",
      "INSERT into ret_cluster_result (job_id, tweet_id, cluster_no) values (3915, 1798203201298309573, 10)\n"
     ]
    },
    {
     "name": "stdout",
     "output_type": "stream",
     "text": [
      "Query executed successfully. 1 rows affected.\n",
      "INSERT into ret_cluster_result (job_id, tweet_id, cluster_no) values (3915, 1798207718479761420, 8)\n",
      "Query executed successfully. 1 rows affected.\n",
      "INSERT into ret_cluster_result (job_id, tweet_id, cluster_no) values (3915, 1798203201298309573, 10)\n"
     ]
    },
    {
     "name": "stdout",
     "output_type": "stream",
     "text": [
      "Query executed successfully. 1 rows affected.\n",
      "INSERT into ret_cluster_result (job_id, tweet_id, cluster_no) values (3915, 1798203201298309573, 11)\n"
     ]
    },
    {
     "name": "stdout",
     "output_type": "stream",
     "text": [
      "Query executed successfully. 1 rows affected.\n",
      "INSERT into ret_cluster_result (job_id, tweet_id, cluster_no) values (3915, 1798202926554636348, 10)\n",
      "Query executed successfully. 1 rows affected.\n",
      "INSERT into ret_cluster_result (job_id, tweet_id, cluster_no) values (3915, 1798202926554636348, 10)\n"
     ]
    },
    {
     "name": "stdout",
     "output_type": "stream",
     "text": [
      "Query executed successfully. 1 rows affected.\n",
      "INSERT into ret_cluster_result (job_id, tweet_id, cluster_no) values (3915, 1798202926554636348, 11)\n"
     ]
    },
    {
     "name": "stdout",
     "output_type": "stream",
     "text": [
      "Query executed successfully. 1 rows affected.\n",
      "INSERT into ret_cluster_result (job_id, tweet_id, cluster_no) values (3915, 1798202717313323154, 10)\n",
      "Query executed successfully. 1 rows affected.\n",
      "INSERT into ret_cluster_result (job_id, tweet_id, cluster_no) values (3915, 1798202717313323154, 10)\n"
     ]
    },
    {
     "name": "stdout",
     "output_type": "stream",
     "text": [
      "Query executed successfully. 1 rows affected.\n",
      "INSERT into ret_cluster_result (job_id, tweet_id, cluster_no) values (3915, 1798202717313323154, 11)\n"
     ]
    },
    {
     "name": "stdout",
     "output_type": "stream",
     "text": [
      "Query executed successfully. 1 rows affected.\n",
      "INSERT into ret_cluster_result (job_id, tweet_id, cluster_no) values (3915, 1798273618587390208, 2)\n",
      "Query executed successfully. 1 rows affected.\n",
      "INSERT into ret_cluster_result (job_id, tweet_id, cluster_no) values (3915, 1798273463628726730, 0)\n"
     ]
    },
    {
     "name": "stdout",
     "output_type": "stream",
     "text": [
      "Query executed successfully. 1 rows affected.\n",
      "INSERT into ret_cluster_result (job_id, tweet_id, cluster_no) values (3915, 1798273355935846626, 9)\n"
     ]
    },
    {
     "name": "stdout",
     "output_type": "stream",
     "text": [
      "Query executed successfully. 1 rows affected.\n",
      "INSERT into ret_cluster_result (job_id, tweet_id, cluster_no) values (3915, 1798179004903719300, 0)\n",
      "Query executed successfully. 1 rows affected.\n",
      "INSERT into ret_cluster_result (job_id, tweet_id, cluster_no) values (3915, 1798196576122527937, 8)\n"
     ]
    },
    {
     "name": "stdout",
     "output_type": "stream",
     "text": [
      "Query executed successfully. 1 rows affected.\n",
      "INSERT into ret_cluster_result (job_id, tweet_id, cluster_no) values (3915, 1798268525783683557, 0)\n"
     ]
    },
    {
     "name": "stdout",
     "output_type": "stream",
     "text": [
      "Query executed successfully. 1 rows affected.\n",
      "INSERT into ret_cluster_result (job_id, tweet_id, cluster_no) values (3915, 1798266173420913089, 0)\n",
      "Query executed successfully. 1 rows affected.\n",
      "INSERT into ret_cluster_result (job_id, tweet_id, cluster_no) values (3915, 1798264019985555536, 0)\n"
     ]
    },
    {
     "name": "stdout",
     "output_type": "stream",
     "text": [
      "Query executed successfully. 1 rows affected.\n",
      "INSERT into ret_cluster_result (job_id, tweet_id, cluster_no) values (3915, 1798263442987721200, 14)\n"
     ]
    },
    {
     "name": "stdout",
     "output_type": "stream",
     "text": [
      "Query executed successfully. 1 rows affected.\n",
      "INSERT into ret_cluster_result (job_id, tweet_id, cluster_no) values (3915, 1798259947257610521, 0)\n",
      "Query executed successfully. 1 rows affected.\n",
      "INSERT into ret_cluster_result (job_id, tweet_id, cluster_no) values (3915, 1798054352013365490, 0)\n",
      "Query executed successfully. 1 rows affected.\n",
      "INSERT into ret_cluster_result (job_id, tweet_id, cluster_no) values (3915, 1798259407446552932, 0)\n"
     ]
    },
    {
     "name": "stdout",
     "output_type": "stream",
     "text": [
      "Query executed successfully. 1 rows affected.\n",
      "INSERT into ret_cluster_result (job_id, tweet_id, cluster_no) values (3915, 1798259074947252636, 8)\n",
      "Query executed successfully. 1 rows affected.\n",
      "INSERT into ret_cluster_result (job_id, tweet_id, cluster_no) values (3915, 1798258166888534369, 8)\n",
      "Query executed successfully. 1 rows affected.\n",
      "INSERT into ret_cluster_result (job_id, tweet_id, cluster_no) values (3915, 1798257904379933066, 0)\n",
      "Query executed successfully. 1 rows affected.\n",
      "INSERT into ret_cluster_result (job_id, tweet_id, cluster_no) values (3915, 1798257493904408700, 24)\n",
      "Query executed successfully. 1 rows affected.\n",
      "INSERT into ret_cluster_result (job_id, tweet_id, cluster_no) values (3915, 1798257493124297191, 24)\n"
     ]
    },
    {
     "name": "stdout",
     "output_type": "stream",
     "text": [
      "Query executed successfully. 1 rows affected.\n",
      "INSERT into ret_cluster_result (job_id, tweet_id, cluster_no) values (3915, 1798201027268886939, 0)\n",
      "Query executed successfully. 1 rows affected.\n",
      "INSERT into ret_cluster_result (job_id, tweet_id, cluster_no) values (3915, 1798256639482696185, 0)\n",
      "Query executed successfully. 1 rows affected.\n",
      "INSERT into ret_cluster_result (job_id, tweet_id, cluster_no) values (3915, 1798256105916940745, 13)\n"
     ]
    },
    {
     "name": "stdout",
     "output_type": "stream",
     "text": [
      "Query executed successfully. 1 rows affected.\n",
      "INSERT into ret_cluster_result (job_id, tweet_id, cluster_no) values (3915, 1798256000556027924, 17)\n",
      "Query executed successfully. 1 rows affected.\n",
      "INSERT into ret_cluster_result (job_id, tweet_id, cluster_no) values (3915, 1798255886974226487, 17)\n",
      "Query executed successfully. 1 rows affected.\n",
      "INSERT into ret_cluster_result (job_id, tweet_id, cluster_no) values (3915, 1798254791619146142, 13)\n"
     ]
    },
    {
     "name": "stdout",
     "output_type": "stream",
     "text": [
      "Query executed successfully. 1 rows affected.\n",
      "INSERT into ret_cluster_result (job_id, tweet_id, cluster_no) values (3915, 1798254403532792112, 0)\n",
      "Query executed successfully. 1 rows affected.\n",
      "INSERT into ret_cluster_result (job_id, tweet_id, cluster_no) values (3915, 1798254321089609872, 16)\n",
      "Query executed successfully. 1 rows affected.\n",
      "INSERT into ret_cluster_result (job_id, tweet_id, cluster_no) values (3915, 1798254217830019281, 16)\n"
     ]
    },
    {
     "name": "stdout",
     "output_type": "stream",
     "text": [
      "Query executed successfully. 1 rows affected.\n",
      "INSERT into ret_cluster_result (job_id, tweet_id, cluster_no) values (3915, 1798252618441261323, 22)\n",
      "Query executed successfully. 1 rows affected.\n",
      "INSERT into ret_cluster_result (job_id, tweet_id, cluster_no) values (3915, 1798252467031056555, 6)\n",
      "Query executed successfully. 1 rows affected.\n",
      "INSERT into ret_cluster_result (job_id, tweet_id, cluster_no) values (3915, 1798252342422421675, 19)\n"
     ]
    },
    {
     "name": "stdout",
     "output_type": "stream",
     "text": [
      "Query executed successfully. 1 rows affected.\n",
      "INSERT into ret_cluster_result (job_id, tweet_id, cluster_no) values (3915, 1798250845756338365, 8)\n",
      "Query executed successfully. 1 rows affected.\n",
      "INSERT into ret_cluster_result (job_id, tweet_id, cluster_no) values (3915, 1798250733009314250, 15)\n",
      "Query executed successfully. 1 rows affected.\n",
      "INSERT into ret_cluster_result (job_id, tweet_id, cluster_no) values (3915, 1798250626994020499, 0)\n"
     ]
    },
    {
     "name": "stdout",
     "output_type": "stream",
     "text": [
      "Query executed successfully. 1 rows affected.\n",
      "INSERT into ret_cluster_result (job_id, tweet_id, cluster_no) values (3915, 1798249238155133326, 0)\n",
      "Query executed successfully. 1 rows affected.\n",
      "INSERT into ret_cluster_result (job_id, tweet_id, cluster_no) values (3915, 1798249142814421457, 28)\n",
      "Query executed successfully. 1 rows affected.\n",
      "INSERT into ret_cluster_result (job_id, tweet_id, cluster_no) values (3915, 1798249047989571699, 0)\n"
     ]
    },
    {
     "name": "stdout",
     "output_type": "stream",
     "text": [
      "Query executed successfully. 1 rows affected.\n",
      "INSERT into ret_cluster_result (job_id, tweet_id, cluster_no) values (3915, 1798245902630744136, 0)\n",
      "Query executed successfully. 1 rows affected.\n",
      "INSERT into ret_cluster_result (job_id, tweet_id, cluster_no) values (3915, 1798245363893313614, 0)\n",
      "Query executed successfully. 1 rows affected.\n",
      "INSERT into ret_cluster_result (job_id, tweet_id, cluster_no) values (3915, 1798244961323995406, 23)\n"
     ]
    },
    {
     "name": "stdout",
     "output_type": "stream",
     "text": [
      "Query executed successfully. 1 rows affected.\n",
      "INSERT into ret_cluster_result (job_id, tweet_id, cluster_no) values (3915, 1798244679890436224, 0)\n",
      "Query executed successfully. 1 rows affected.\n",
      "INSERT into ret_cluster_result (job_id, tweet_id, cluster_no) values (3915, 1798240476853948744, 0)\n",
      "Query executed successfully. 1 rows affected.\n",
      "INSERT into ret_cluster_result (job_id, tweet_id, cluster_no) values (3915, 1798239827420467381, 0)\n"
     ]
    },
    {
     "name": "stdout",
     "output_type": "stream",
     "text": [
      "Query executed successfully. 1 rows affected.\n",
      "INSERT into ret_cluster_result (job_id, tweet_id, cluster_no) values (3915, 1798225767677178202, 8)\n",
      "Query executed successfully. 1 rows affected.\n",
      "INSERT into ret_cluster_result (job_id, tweet_id, cluster_no) values (3915, 1798235205335122375, 0)\n",
      "Query executed successfully. 1 rows affected.\n",
      "INSERT into ret_cluster_result (job_id, tweet_id, cluster_no) values (3915, 1798231293857353954, 5)\n",
      "Query executed successfully. 1 rows affected.\n",
      "INSERT into ret_cluster_result (job_id, tweet_id, cluster_no) values (3915, 1798231293857353954, 3)\n"
     ]
    },
    {
     "name": "stdout",
     "output_type": "stream",
     "text": [
      "Query executed successfully. 1 rows affected.\n",
      "INSERT into ret_cluster_result (job_id, tweet_id, cluster_no) values (3915, 1798231166157492354, 5)\n",
      "Query executed successfully. 1 rows affected.\n",
      "INSERT into ret_cluster_result (job_id, tweet_id, cluster_no) values (3915, 1798231166157492354, 3)\n",
      "Query executed successfully. 1 rows affected.\n",
      "INSERT into ret_cluster_result (job_id, tweet_id, cluster_no) values (3915, 1798231051132981425, 5)\n"
     ]
    },
    {
     "name": "stdout",
     "output_type": "stream",
     "text": [
      "Query executed successfully. 1 rows affected.\n",
      "INSERT into ret_cluster_result (job_id, tweet_id, cluster_no) values (3915, 1798231051132981425, 3)\n",
      "Query executed successfully. 1 rows affected.\n",
      "INSERT into ret_cluster_result (job_id, tweet_id, cluster_no) values (3915, 1798229265898750374, 9)\n",
      "Query executed successfully. 1 rows affected.\n",
      "INSERT into ret_cluster_result (job_id, tweet_id, cluster_no) values (3915, 1798229265898750374, 9)\n"
     ]
    },
    {
     "name": "stdout",
     "output_type": "stream",
     "text": [
      "Query executed successfully. 1 rows affected.\n",
      "INSERT into ret_cluster_result (job_id, tweet_id, cluster_no) values (3915, 1798229120587055177, 0)\n",
      "Query executed successfully. 1 rows affected.\n",
      "INSERT into ret_cluster_result (job_id, tweet_id, cluster_no) values (3915, 1798228836146135170, 9)\n",
      "Query executed successfully. 1 rows affected.\n",
      "INSERT into ret_cluster_result (job_id, tweet_id, cluster_no) values (3915, 1798228836146135170, 9)\n"
     ]
    },
    {
     "name": "stdout",
     "output_type": "stream",
     "text": [
      "Query executed successfully. 1 rows affected.\n",
      "INSERT into ret_cluster_result (job_id, tweet_id, cluster_no) values (3915, 1798228744903201060, 9)\n",
      "Query executed successfully. 1 rows affected.\n",
      "INSERT into ret_cluster_result (job_id, tweet_id, cluster_no) values (3915, 1798228744903201060, 9)\n",
      "Query executed successfully. 1 rows affected.\n",
      "INSERT into ret_cluster_result (job_id, tweet_id, cluster_no) values (3915, 1798228633129210303, 9)\n"
     ]
    },
    {
     "name": "stdout",
     "output_type": "stream",
     "text": [
      "Query executed successfully. 1 rows affected.\n",
      "INSERT into ret_cluster_result (job_id, tweet_id, cluster_no) values (3915, 1798228633129210303, 9)\n",
      "Query executed successfully. 1 rows affected.\n",
      "INSERT into ret_cluster_result (job_id, tweet_id, cluster_no) values (3915, 1798228538480570854, 0)\n",
      "Query executed successfully. 1 rows affected.\n",
      "INSERT into ret_cluster_result (job_id, tweet_id, cluster_no) values (3915, 1798226468193071334, 0)\n"
     ]
    },
    {
     "name": "stdout",
     "output_type": "stream",
     "text": [
      "Query executed successfully. 1 rows affected.\n",
      "INSERT into ret_cluster_result (job_id, tweet_id, cluster_no) values (3915, 1798225767677178202, 27)\n",
      "Query executed successfully. 1 rows affected.\n",
      "INSERT into ret_cluster_result (job_id, tweet_id, cluster_no) values (3915, 1798225676929319266, 0)\n",
      "Query executed successfully. 1 rows affected.\n",
      "INSERT into ret_cluster_result (job_id, tweet_id, cluster_no) values (3915, 1798224505787257110, 0)\n"
     ]
    },
    {
     "name": "stdout",
     "output_type": "stream",
     "text": [
      "Query executed successfully. 1 rows affected.\n",
      "INSERT into ret_cluster_result (job_id, tweet_id, cluster_no) values (3915, 1798224203226980533, 0)\n",
      "Query executed successfully. 1 rows affected.\n",
      "INSERT into ret_cluster_result (job_id, tweet_id, cluster_no) values (3915, 1798224050143252706, 0)\n",
      "Query executed successfully. 1 rows affected.\n",
      "INSERT into ret_cluster_result (job_id, tweet_id, cluster_no) values (3915, 1798223812385013981, 27)\n"
     ]
    },
    {
     "name": "stdout",
     "output_type": "stream",
     "text": [
      "Query executed successfully. 1 rows affected.\n",
      "INSERT into ret_cluster_result (job_id, tweet_id, cluster_no) values (3915, 1798221851724018143, 13)\n",
      "Query executed successfully. 1 rows affected.\n",
      "INSERT into ret_cluster_result (job_id, tweet_id, cluster_no) values (3915, 1798221765413687393, 0)\n",
      "Query executed successfully. 1 rows affected.\n",
      "INSERT into ret_cluster_result (job_id, tweet_id, cluster_no) values (3915, 1798221667535368703, 17)\n",
      "Query executed successfully. 1 rows affected.\n",
      "INSERT into ret_cluster_result (job_id, tweet_id, cluster_no) values (3915, 1798221540385009697, 0)\n"
     ]
    },
    {
     "name": "stdout",
     "output_type": "stream",
     "text": [
      "Query executed successfully. 1 rows affected.\n",
      "INSERT into ret_cluster_result (job_id, tweet_id, cluster_no) values (3915, 1798221420436259172, 16)\n",
      "Query executed successfully. 1 rows affected.\n",
      "INSERT into ret_cluster_result (job_id, tweet_id, cluster_no) values (3915, 1798221316103045244, 16)\n",
      "Query executed successfully. 1 rows affected.\n",
      "INSERT into ret_cluster_result (job_id, tweet_id, cluster_no) values (3915, 1798221164676104456, 22)\n"
     ]
    },
    {
     "name": "stdout",
     "output_type": "stream",
     "text": [
      "Query executed successfully. 1 rows affected.\n",
      "INSERT into ret_cluster_result (job_id, tweet_id, cluster_no) values (3915, 1798221085026164767, 6)\n",
      "Query executed successfully. 1 rows affected.\n",
      "INSERT into ret_cluster_result (job_id, tweet_id, cluster_no) values (3915, 1798221006735368518, 19)\n",
      "Query executed successfully. 1 rows affected.\n",
      "INSERT into ret_cluster_result (job_id, tweet_id, cluster_no) values (3915, 1798220876636381304, 8)\n"
     ]
    },
    {
     "name": "stdout",
     "output_type": "stream",
     "text": [
      "Query executed successfully. 1 rows affected.\n",
      "INSERT into ret_cluster_result (job_id, tweet_id, cluster_no) values (3915, 1798220760089297221, 15)\n",
      "Query executed successfully. 1 rows affected.\n",
      "INSERT into ret_cluster_result (job_id, tweet_id, cluster_no) values (3915, 1798220686684741698, 1)\n",
      "Query executed successfully. 1 rows affected.\n",
      "INSERT into ret_cluster_result (job_id, tweet_id, cluster_no) values (3915, 1798220558863388985, 0)\n",
      "Query executed successfully. 1 rows affected.\n",
      "INSERT into ret_cluster_result (job_id, tweet_id, cluster_no) values (3915, 1798220480362775030, 28)\n"
     ]
    },
    {
     "name": "stdout",
     "output_type": "stream",
     "text": [
      "Query executed successfully. 1 rows affected.\n",
      "INSERT into ret_cluster_result (job_id, tweet_id, cluster_no) values (3915, 1798220398779306433, 0)\n",
      "Query executed successfully. 1 rows affected.\n",
      "INSERT into ret_cluster_result (job_id, tweet_id, cluster_no) values (3915, 1798220252268163362, 0)\n",
      "Query executed successfully. 1 rows affected.\n",
      "INSERT into ret_cluster_result (job_id, tweet_id, cluster_no) values (3915, 1798220177009779105, 23)\n"
     ]
    },
    {
     "name": "stdout",
     "output_type": "stream",
     "text": [
      "Query executed successfully. 1 rows affected.\n",
      "INSERT into ret_cluster_result (job_id, tweet_id, cluster_no) values (3915, 1798220074786132378, 0)\n",
      "Query executed successfully. 1 rows affected.\n",
      "INSERT into ret_cluster_result (job_id, tweet_id, cluster_no) values (3915, 1798219577387802689, 26)\n",
      "Query executed successfully. 1 rows affected.\n",
      "INSERT into ret_cluster_result (job_id, tweet_id, cluster_no) values (3915, 1798219347716186276, 0)\n"
     ]
    },
    {
     "name": "stdout",
     "output_type": "stream",
     "text": [
      "Query executed successfully. 1 rows affected.\n",
      "INSERT into ret_cluster_result (job_id, tweet_id, cluster_no) values (3915, 1797828157036507549, 2)\n",
      "Query executed successfully. 1 rows affected.\n",
      "INSERT into ret_cluster_result (job_id, tweet_id, cluster_no) values (3915, 1798217402209243171, 0)\n",
      "Query executed successfully. 1 rows affected.\n",
      "INSERT into ret_cluster_result (job_id, tweet_id, cluster_no) values (3915, 1798217234713870588, 21)\n"
     ]
    },
    {
     "name": "stdout",
     "output_type": "stream",
     "text": [
      "Query executed successfully. 1 rows affected.\n",
      "INSERT into ret_cluster_result (job_id, tweet_id, cluster_no) values (3915, 1798216887765192938, 0)\n",
      "Query executed successfully. 1 rows affected.\n",
      "INSERT into ret_cluster_result (job_id, tweet_id, cluster_no) values (3915, 1798216569920848234, 0)\n",
      "Query executed successfully. 1 rows affected.\n",
      "INSERT into ret_cluster_result (job_id, tweet_id, cluster_no) values (3915, 1798214960545452530, 0)\n",
      "Query executed successfully. 1 rows affected.\n",
      "INSERT into ret_cluster_result (job_id, tweet_id, cluster_no) values (3915, 1798214370289385912, 0)\n"
     ]
    },
    {
     "name": "stdout",
     "output_type": "stream",
     "text": [
      "Query executed successfully. 1 rows affected.\n",
      "INSERT into ret_cluster_result (job_id, tweet_id, cluster_no) values (3915, 1798212249880089072, 0)\n",
      "Query executed successfully. 1 rows affected.\n",
      "INSERT into ret_cluster_result (job_id, tweet_id, cluster_no) values (3915, 1798212191054950593, 0)\n",
      "Query executed successfully. 1 rows affected.\n",
      "INSERT into ret_cluster_result (job_id, tweet_id, cluster_no) values (3915, 1798210713347063923, 18)\n"
     ]
    },
    {
     "name": "stdout",
     "output_type": "stream",
     "text": [
      "Query executed successfully. 1 rows affected.\n",
      "INSERT into ret_cluster_result (job_id, tweet_id, cluster_no) values (3915, 1795623830893076747, 0)\n",
      "Query executed successfully. 1 rows affected.\n",
      "INSERT into ret_cluster_result (job_id, tweet_id, cluster_no) values (3915, 1798208333717078050, 0)\n",
      "Query executed successfully. 1 rows affected.\n",
      "INSERT into ret_cluster_result (job_id, tweet_id, cluster_no) values (3915, 1798208020729733557, 0)\n",
      "Query executed successfully. 1 rows affected.\n",
      "INSERT into ret_cluster_result (job_id, tweet_id, cluster_no) values (3915, 1798206189312086352, 0)\n"
     ]
    },
    {
     "name": "stdout",
     "output_type": "stream",
     "text": [
      "Query executed successfully. 1 rows affected.\n",
      "INSERT into ret_cluster_result (job_id, tweet_id, cluster_no) values (3915, 1798205822511743368, 1)\n",
      "Query executed successfully. 1 rows affected.\n",
      "INSERT into ret_cluster_result (job_id, tweet_id, cluster_no) values (3915, 1798205822511743368, 3)\n",
      "Query executed successfully. 1 rows affected.\n",
      "INSERT into ret_cluster_result (job_id, tweet_id, cluster_no) values (3915, 1798205822511743368, 21)\n"
     ]
    },
    {
     "name": "stdout",
     "output_type": "stream",
     "text": [
      "Query executed successfully. 1 rows affected.\n",
      "INSERT into ret_cluster_result (job_id, tweet_id, cluster_no) values (3915, 1798205366779719720, 1)\n",
      "Query executed successfully. 1 rows affected.\n",
      "INSERT into ret_cluster_result (job_id, tweet_id, cluster_no) values (3915, 1798205366779719720, 3)\n",
      "Query executed successfully. 1 rows affected.\n",
      "INSERT into ret_cluster_result (job_id, tweet_id, cluster_no) values (3915, 1798205366779719720, 21)\n"
     ]
    },
    {
     "name": "stdout",
     "output_type": "stream",
     "text": [
      "Query executed successfully. 1 rows affected.\n",
      "INSERT into ret_cluster_result (job_id, tweet_id, cluster_no) values (3915, 1798205163116904589, 1)\n",
      "Query executed successfully. 1 rows affected.\n",
      "INSERT into ret_cluster_result (job_id, tweet_id, cluster_no) values (3915, 1798205163116904589, 3)\n",
      "Query executed successfully. 1 rows affected.\n",
      "INSERT into ret_cluster_result (job_id, tweet_id, cluster_no) values (3915, 1798205163116904589, 21)\n",
      "Query executed successfully. 1 rows affected.\n",
      "INSERT into ret_cluster_result (job_id, tweet_id, cluster_no) values (3915, 1797850493898854593, 8)\n"
     ]
    },
    {
     "name": "stdout",
     "output_type": "stream",
     "text": [
      "Query executed successfully. 1 rows affected.\n",
      "INSERT into ret_cluster_result (job_id, tweet_id, cluster_no) values (3915, 1798203802535031003, 0)\n",
      "Query executed successfully. 1 rows affected.\n",
      "INSERT into ret_cluster_result (job_id, tweet_id, cluster_no) values (3915, 1797898930732306459, 0)\n",
      "Query executed successfully. 1 rows affected.\n",
      "INSERT into ret_cluster_result (job_id, tweet_id, cluster_no) values (3915, 1798202269462380715, 14)\n"
     ]
    },
    {
     "name": "stdout",
     "output_type": "stream",
     "text": [
      "Query executed successfully. 1 rows affected.\n",
      "INSERT into ret_cluster_result (job_id, tweet_id, cluster_no) values (3915, 1798201808256667945, 0)\n",
      "Query executed successfully. 1 rows affected.\n",
      "INSERT into ret_cluster_result (job_id, tweet_id, cluster_no) values (3915, 1798201639247253973, 20)\n",
      "Query executed successfully. 1 rows affected.\n",
      "INSERT into ret_cluster_result (job_id, tweet_id, cluster_no) values (3915, 1798200446252953913, 26)\n"
     ]
    },
    {
     "name": "stdout",
     "output_type": "stream",
     "text": [
      "Query executed successfully. 1 rows affected.\n",
      "INSERT into ret_cluster_result (job_id, tweet_id, cluster_no) values (3915, 1798199312209563903, 1)\n",
      "Query executed successfully. 1 rows affected.\n",
      "INSERT into ret_cluster_result (job_id, tweet_id, cluster_no) values (3915, 1798199312209563903, 21)\n",
      "Query executed successfully. 1 rows affected.\n",
      "INSERT into ret_cluster_result (job_id, tweet_id, cluster_no) values (3915, 1798199312209563903, 1)\n"
     ]
    },
    {
     "name": "stdout",
     "output_type": "stream",
     "text": [
      "Query executed successfully. 1 rows affected.\n",
      "INSERT into ret_cluster_result (job_id, tweet_id, cluster_no) values (3915, 1798199108186116243, 1)\n",
      "Query executed successfully. 1 rows affected.\n",
      "INSERT into ret_cluster_result (job_id, tweet_id, cluster_no) values (3915, 1798199108186116243, 21)\n",
      "Query executed successfully. 1 rows affected.\n",
      "INSERT into ret_cluster_result (job_id, tweet_id, cluster_no) values (3915, 1798199108186116243, 1)\n"
     ]
    },
    {
     "name": "stdout",
     "output_type": "stream",
     "text": [
      "Query executed successfully. 1 rows affected.\n",
      "INSERT into ret_cluster_result (job_id, tweet_id, cluster_no) values (3915, 1798198435360981317, 1)\n",
      "Query executed successfully. 1 rows affected.\n",
      "INSERT into ret_cluster_result (job_id, tweet_id, cluster_no) values (3915, 1798198435360981317, 21)\n",
      "Query executed successfully. 1 rows affected.\n",
      "INSERT into ret_cluster_result (job_id, tweet_id, cluster_no) values (3915, 1798198435360981317, 1)\n"
     ]
    },
    {
     "name": "stdout",
     "output_type": "stream",
     "text": [
      "Query executed successfully. 1 rows affected.\n",
      "INSERT into ret_cluster_result (job_id, tweet_id, cluster_no) values (3915, 1798197941968204146, 1)\n",
      "Query executed successfully. 1 rows affected.\n",
      "INSERT into ret_cluster_result (job_id, tweet_id, cluster_no) values (3915, 1798197941968204146, 21)\n",
      "Query executed successfully. 1 rows affected.\n",
      "INSERT into ret_cluster_result (job_id, tweet_id, cluster_no) values (3915, 1798197941968204146, 1)\n"
     ]
    },
    {
     "name": "stdout",
     "output_type": "stream",
     "text": [
      "Query executed successfully. 1 rows affected.\n",
      "INSERT into ret_cluster_result (job_id, tweet_id, cluster_no) values (3915, 1798196060147617794, 0)\n",
      "Query executed successfully. 1 rows affected.\n",
      "INSERT into ret_cluster_result (job_id, tweet_id, cluster_no) values (3915, 1798195689744470423, 0)\n",
      "Query executed successfully. 1 rows affected.\n",
      "INSERT into ret_cluster_result (job_id, tweet_id, cluster_no) values (3915, 1798195603098435775, 8)\n",
      "Query executed successfully. 1 rows affected.\n",
      "INSERT into ret_cluster_result (job_id, tweet_id, cluster_no) values (3915, 1798195248499392746, 0)\n"
     ]
    },
    {
     "name": "stdout",
     "output_type": "stream",
     "text": [
      "Query executed successfully. 1 rows affected.\n",
      "INSERT into ret_cluster_result (job_id, tweet_id, cluster_no) values (3915, 1798194744612552824, 0)\n",
      "Query executed successfully. 1 rows affected.\n",
      "INSERT into ret_cluster_result (job_id, tweet_id, cluster_no) values (3915, 1798193470626255298, 12)\n",
      "Query executed successfully. 1 rows affected.\n",
      "INSERT into ret_cluster_result (job_id, tweet_id, cluster_no) values (3915, 1798192053148684531, 0)\n"
     ]
    },
    {
     "name": "stdout",
     "output_type": "stream",
     "text": [
      "Query executed successfully. 1 rows affected.\n",
      "INSERT into ret_cluster_result (job_id, tweet_id, cluster_no) values (3915, 1798191470773756047, 0)\n",
      "Query executed successfully. 1 rows affected.\n",
      "INSERT into ret_cluster_result (job_id, tweet_id, cluster_no) values (3915, 1798191047027437991, 0)\n",
      "Query executed successfully. 1 rows affected.\n",
      "INSERT into ret_cluster_result (job_id, tweet_id, cluster_no) values (3915, 1798190962990260331, 8)\n"
     ]
    },
    {
     "name": "stdout",
     "output_type": "stream",
     "text": [
      "Query executed successfully. 1 rows affected.\n",
      "INSERT into ret_cluster_result (job_id, tweet_id, cluster_no) values (3915, 1798184676714283297, 0)\n",
      "Query executed successfully. 1 rows affected.\n",
      "INSERT into ret_cluster_result (job_id, tweet_id, cluster_no) values (3915, 1798184584405975469, 0)\n",
      "Query executed successfully. 1 rows affected.\n",
      "INSERT into ret_cluster_result (job_id, tweet_id, cluster_no) values (3915, 1798183750574256433, 0)\n"
     ]
    },
    {
     "name": "stdout",
     "output_type": "stream",
     "text": [
      "Query executed successfully. 1 rows affected.\n",
      "INSERT into ret_cluster_result (job_id, tweet_id, cluster_no) values (3915, 1798179343338029058, 0)\n",
      "Query executed successfully. 1 rows affected.\n",
      "INSERT into ret_cluster_result (job_id, tweet_id, cluster_no) values (3915, 1798174527538737493, 0)\n"
     ]
    },
    {
     "name": "stdout",
     "output_type": "stream",
     "text": [
      "Query executed successfully. 1 rows affected.\n",
      "INSERT into ret_cluster_result (job_id, tweet_id, cluster_no) values (3915, 1798172280868205019, 0)\n",
      "Query executed successfully. 1 rows affected.\n",
      "INSERT into ret_cluster_result (job_id, tweet_id, cluster_no) values (3915, 1798172095849107868, 0)\n",
      "Query executed successfully. 1 rows affected.\n",
      "INSERT into ret_cluster_result (job_id, tweet_id, cluster_no) values (3915, 1798172006569136187, 8)\n"
     ]
    },
    {
     "name": "stdout",
     "output_type": "stream",
     "text": [
      "Query executed successfully. 1 rows affected.\n",
      "INSERT into ret_cluster_result (job_id, tweet_id, cluster_no) values (3915, 1798171735281598682, 0)\n",
      "Query executed successfully. 1 rows affected.\n",
      "INSERT into ret_cluster_result (job_id, tweet_id, cluster_no) values (3915, 1798167652881649994, 0)\n",
      "Query executed successfully. 1 rows affected.\n",
      "INSERT into ret_cluster_result (job_id, tweet_id, cluster_no) values (3915, 1798166120429765011, 0)\n"
     ]
    },
    {
     "name": "stdout",
     "output_type": "stream",
     "text": [
      "Query executed successfully. 1 rows affected.\n",
      "INSERT into ret_cluster_result (job_id, tweet_id, cluster_no) values (3915, 1798054352013365490, 8)\n",
      "Query executed successfully. 1 rows affected.\n",
      "INSERT into ret_cluster_result (job_id, tweet_id, cluster_no) values (3915, 1798164626703847786, 0)\n",
      "Query executed successfully. 1 rows affected.\n",
      "INSERT into ret_cluster_result (job_id, tweet_id, cluster_no) values (3915, 1798054352013365490, 18)\n"
     ]
    },
    {
     "name": "stdout",
     "output_type": "stream",
     "text": [
      "Query executed successfully. 1 rows affected.\n",
      "INSERT into ret_cluster_result (job_id, tweet_id, cluster_no) values (3915, 1798161049885278243, 0)\n",
      "Query executed successfully. 1 rows affected.\n",
      "INSERT into ret_cluster_result (job_id, tweet_id, cluster_no) values (3915, 1798160862332784657, 1)\n",
      "Query executed successfully. 1 rows affected.\n",
      "INSERT into ret_cluster_result (job_id, tweet_id, cluster_no) values (3915, 1798160372299612661, 0)\n"
     ]
    },
    {
     "name": "stdout",
     "output_type": "stream",
     "text": [
      "Query executed successfully. 1 rows affected.\n",
      "INSERT into ret_cluster_result (job_id, tweet_id, cluster_no) values (3915, 1798157694471418234, 8)\n",
      "Query executed successfully. 1 rows affected.\n",
      "INSERT into ret_cluster_result (job_id, tweet_id, cluster_no) values (3915, 1797841731343552837, 0)\n"
     ]
    },
    {
     "name": "stdout",
     "output_type": "stream",
     "text": [
      "Query executed successfully. 1 rows affected.\n",
      "INSERT into ret_cluster_result (job_id, tweet_id, cluster_no) values (3915, 1798154158673142009, 2)\n",
      "Query executed successfully. 1 rows affected.\n",
      "INSERT into ret_cluster_result (job_id, tweet_id, cluster_no) values (3915, 1798149089101774849, 0)\n",
      "Query executed successfully. 1 rows affected.\n",
      "INSERT into ret_cluster_result (job_id, tweet_id, cluster_no) values (3915, 1798148917491794268, 0)\n"
     ]
    },
    {
     "name": "stdout",
     "output_type": "stream",
     "text": [
      "Query executed successfully. 1 rows affected.\n",
      "INSERT into ret_cluster_result (job_id, tweet_id, cluster_no) values (3915, 1798145744358318196, 0)\n",
      "Query executed successfully. 1 rows affected.\n",
      "INSERT into ret_cluster_result (job_id, tweet_id, cluster_no) values (3915, 1798135248456392920, 8)\n",
      "Query executed successfully. 1 rows affected.\n",
      "INSERT into ret_cluster_result (job_id, tweet_id, cluster_no) values (3915, 1798135205536145769, 0)\n",
      "Query executed successfully. 1 rows affected.\n",
      "INSERT into ret_cluster_result (job_id, tweet_id, cluster_no) values (3915, 1798135203795501137, 4)\n"
     ]
    },
    {
     "name": "stdout",
     "output_type": "stream",
     "text": [
      "Query executed successfully. 1 rows affected.\n",
      "INSERT into ret_cluster_result (job_id, tweet_id, cluster_no) values (3915, 1798135150225887609, 7)\n",
      "Query executed successfully. 1 rows affected.\n",
      "INSERT into ret_cluster_result (job_id, tweet_id, cluster_no) values (3915, 1798135114054132013, 20)\n",
      "Query executed successfully. 1 rows affected.\n",
      "INSERT into ret_cluster_result (job_id, tweet_id, cluster_no) values (3915, 1798134995372167333, 8)\n"
     ]
    },
    {
     "name": "stdout",
     "output_type": "stream",
     "text": [
      "Query executed successfully. 1 rows affected.\n",
      "INSERT into ret_cluster_result (job_id, tweet_id, cluster_no) values (3915, 1798134955081605271, 0)\n",
      "Query executed successfully. 1 rows affected.\n",
      "INSERT into ret_cluster_result (job_id, tweet_id, cluster_no) values (3915, 1798134917236400206, 7)\n",
      "Query executed successfully. 1 rows affected.\n",
      "INSERT into ret_cluster_result (job_id, tweet_id, cluster_no) values (3915, 1798134879756128649, 20)\n"
     ]
    },
    {
     "name": "stdout",
     "output_type": "stream",
     "text": [
      "Query executed successfully. 1 rows affected.\n",
      "INSERT into ret_cluster_result (job_id, tweet_id, cluster_no) values (3915, 1798134813406490988, 8)\n",
      "Query executed successfully. 1 rows affected.\n",
      "INSERT into ret_cluster_result (job_id, tweet_id, cluster_no) values (3915, 1798134771270435134, 0)\n",
      "Query executed successfully. 1 rows affected.\n",
      "INSERT into ret_cluster_result (job_id, tweet_id, cluster_no) values (3915, 1798134726995382316, 7)\n"
     ]
    },
    {
     "name": "stdout",
     "output_type": "stream",
     "text": [
      "Query executed successfully. 1 rows affected.\n",
      "INSERT into ret_cluster_result (job_id, tweet_id, cluster_no) values (3915, 1798134669835395397, 20)\n",
      "Query executed successfully. 1 rows affected.\n",
      "INSERT into ret_cluster_result (job_id, tweet_id, cluster_no) values (3915, 1798134554986950656, 20)\n"
     ]
    },
    {
     "name": "stdout",
     "output_type": "stream",
     "text": [
      "Query executed successfully. 1 rows affected.\n",
      "INSERT into ret_cluster_result (job_id, tweet_id, cluster_no) values (3915, 1798134449424703661, 7)\n",
      "Query executed successfully. 1 rows affected.\n",
      "INSERT into ret_cluster_result (job_id, tweet_id, cluster_no) values (3915, 1798134205593141745, 0)\n",
      "Query executed successfully. 1 rows affected.\n",
      "INSERT into ret_cluster_result (job_id, tweet_id, cluster_no) values (3915, 1798134100358001073, 8)\n"
     ]
    },
    {
     "name": "stdout",
     "output_type": "stream",
     "text": [
      "Query executed successfully. 1 rows affected.\n",
      "INSERT into ret_cluster_result (job_id, tweet_id, cluster_no) values (3915, 1797606661248655869, 0)\n",
      "Query executed successfully. 1 rows affected.\n",
      "INSERT into ret_cluster_result (job_id, tweet_id, cluster_no) values (3915, 1798113410921734314, 0)\n",
      "Query executed successfully. 1 rows affected.\n",
      "INSERT into ret_cluster_result (job_id, tweet_id, cluster_no) values (3915, 1798112419769970729, 0)\n"
     ]
    },
    {
     "name": "stdout",
     "output_type": "stream",
     "text": [
      "Query executed successfully. 1 rows affected.\n",
      "INSERT into ret_cluster_result (job_id, tweet_id, cluster_no) values (3915, 1797806139176050968, 0)\n",
      "Query executed successfully. 1 rows affected.\n",
      "INSERT into ret_cluster_result (job_id, tweet_id, cluster_no) values (3915, 1798099899231387994, 0)\n",
      "Query executed successfully. 1 rows affected.\n",
      "INSERT into ret_cluster_result (job_id, tweet_id, cluster_no) values (3915, 1798093136692187584, 4)\n"
     ]
    },
    {
     "name": "stdout",
     "output_type": "stream",
     "text": [
      "Query executed successfully. 1 rows affected.\n",
      "INSERT into ret_cluster_result (job_id, tweet_id, cluster_no) values (3915, 1798092926209392901, 25)\n",
      "Query executed successfully. 1 rows affected.\n"
     ]
    }
   ],
   "source": [
    "## saving result to table\n",
    "# jobid, tweet_id, cluster_no\n",
    "\n",
    "s_cluster_number = \"\"\n",
    "\n",
    "for index, row in save_df.iterrows():\n",
    "    if row['cluster_number'] == '':\n",
    "        s_cluster_number = \"NULL\"\n",
    "    else:\n",
    "        s_cluster_number = row['cluster_number']\n",
    "        \n",
    "    sql = \"INSERT into ret_cluster_result (job_id, tweet_id, cluster_no) values (%s, %s, %s)\" % (str(const_job_id), row['tweet_id'], s_cluster_number)\n",
    "    print(sql)\n",
    "    execute_query_psql(sql)\n",
    "    \n",
    "    "
   ]
  },
  {
   "cell_type": "code",
   "execution_count": 11,
   "id": "81f02c84-7b1a-44c5-9b1f-40a952c24729",
   "metadata": {
    "execution": {
     "iopub.execute_input": "2024-06-06T17:14:33.220007Z",
     "iopub.status.busy": "2024-06-06T17:14:33.219539Z",
     "iopub.status.idle": "2024-06-06T17:14:33.395546Z",
     "shell.execute_reply": "2024-06-06T17:14:33.391286Z"
    }
   },
   "outputs": [
    {
     "name": "stdout",
     "output_type": "stream",
     "text": [
      "Query executed successfully. 1 rows affected.\n"
     ]
    },
    {
     "name": "stdout",
     "output_type": "stream",
     "text": [
      "Query executed successfully. 1 rows affected.\n"
     ]
    },
    {
     "data": {
      "text/plain": [
       "1"
      ]
     },
     "execution_count": 11,
     "metadata": {},
     "output_type": "execute_result"
    }
   ],
   "source": [
    "# closing .... report back job status into rdbms\n",
    "sql = \"update screen_analisis_ai set end_process = now(), status = 3, processby_id = 1 where id = %s\" % (str(const_job_id))\n",
    "execute_query_psql(sql)\n",
    "\n",
    "sql = \"update screen_analisis_ai set duration = EXTRACT(EPOCH FROM (end_process - start_process)) where id = \" + str(const_job_id)\n",
    "execute_query_psql(sql)"
   ]
  },
  {
   "cell_type": "code",
   "execution_count": 12,
   "id": "b46e4f75-0cb1-403d-bce5-355edb5f9879",
   "metadata": {
    "execution": {
     "iopub.execute_input": "2024-06-06T17:14:33.421307Z",
     "iopub.status.busy": "2024-06-06T17:14:33.411904Z",
     "iopub.status.idle": "2024-06-06T17:14:43.439318Z",
     "shell.execute_reply": "2024-06-06T17:14:43.436255Z"
    }
   },
   "outputs": [],
   "source": [
    "# wait 10 seconds before finished\n",
    "import time\n",
    "time.sleep(10)"
   ]
  }
 ],
 "metadata": {
  "kernelspec": {
   "display_name": "Python 3 (ipykernel)",
   "language": "python",
   "name": "python3"
  },
  "language_info": {
   "codemirror_mode": {
    "name": "ipython",
    "version": 3
   },
   "file_extension": ".py",
   "mimetype": "text/x-python",
   "name": "python",
   "nbconvert_exporter": "python",
   "pygments_lexer": "ipython3",
   "version": "3.8.10"
  }
 },
 "nbformat": 4,
 "nbformat_minor": 5
}
