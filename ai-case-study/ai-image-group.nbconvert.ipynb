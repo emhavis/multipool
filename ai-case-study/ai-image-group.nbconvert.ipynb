{
 "cells": [
  {
   "cell_type": "markdown",
   "id": "77be3745-de0f-4f27-a7ce-f0b3839d647f",
   "metadata": {
    "editable": true,
    "slideshow": {
     "slide_type": ""
    },
    "tags": []
   },
   "source": [
    "1. get sample image\n",
    "2. download image\n",
    "3. perform imnage grouping\n",
    "4. inspect result\n",
    "\n",
    "Next items to do, prepare and package as jobs\n",
    "1. create auto-query\n",
    "2. create sql to store result\n",
    "3. export to executable py\n",
    "\n",
    "\n",
    "# Plot sse against k\n",
    "plt.figure(figsize=(6, 6))\n",
    "plt.plot(list_k, sse)\n",
    "plt.xlabel(r'Number of clusters *k*')\n",
    "plt.ylabel('Sum of squared distance');\n",
    "\n",
    "# prepare data for saving to rdbms\n",
    "# print(clus_new)\n",
    "# i = 0 \n",
    "result_cluster = []\n",
    "\n",
    "for item in clus_new:\n",
    "    # print(clus_new[item])\n",
    "    print(len(clus_new[item]))\n",
    "    for file in clus_new[item]:\n",
    "        # print(file, item)\n",
    "        result_cluster.append(file)\n",
    "    # i = i + 1\n",
    "\n",
    "# view_cluster_2(0)\n",
    "len(clus_new)\n",
    "len(result_cluster)\n",
    "\n",
    "\n",
    " * Kesepakatan status di kolom screen_analisis_ai.status\n",
    " * 1 --> baru diinput\n",
    " * 2 --> lagi dikerjakan\n",
    " * 3 --> proses berhasil\n",
    " * 4 --> proses gagal\n",
    " *\n",
    " \n",
    " * Kesepakatan jenis analisa AI\n",
    " * 1 --> Analisa Cluster\n",
    " * 2 --> Analisa image clustering\n",
    " * 3 --> Analisa sentiment\n"
   ]
  },
  {
   "cell_type": "code",
   "execution_count": 1,
   "id": "ff0951b4-bdc4-4c7a-9846-016d02539805",
   "metadata": {
    "execution": {
     "iopub.execute_input": "2024-04-09T17:08:04.158325Z",
     "iopub.status.busy": "2024-04-09T17:08:04.158034Z",
     "iopub.status.idle": "2024-04-09T17:08:07.128874Z",
     "shell.execute_reply": "2024-04-09T17:08:07.128205Z"
    }
   },
   "outputs": [
    {
     "name": "stderr",
     "output_type": "stream",
     "text": [
      "2024-04-09 17:08:04.412839: I tensorflow/core/util/port.cc:110] oneDNN custom operations are on. You may see slightly different numerical results due to floating-point round-off errors from different computation orders. To turn them off, set the environment variable `TF_ENABLE_ONEDNN_OPTS=0`.\n",
      "2024-04-09 17:08:04.415323: I tensorflow/tsl/cuda/cudart_stub.cc:28] Could not find cuda drivers on your machine, GPU will not be used.\n",
      "2024-04-09 17:08:04.464179: I tensorflow/tsl/cuda/cudart_stub.cc:28] Could not find cuda drivers on your machine, GPU will not be used.\n",
      "2024-04-09 17:08:04.465080: I tensorflow/core/platform/cpu_feature_guard.cc:182] This TensorFlow binary is optimized to use available CPU instructions in performance-critical operations.\n",
      "To enable the following instructions: AVX2 AVX512F AVX512_VNNI FMA, in other operations, rebuild TensorFlow with the appropriate compiler flags.\n"
     ]
    },
    {
     "name": "stderr",
     "output_type": "stream",
     "text": [
      "2024-04-09 17:08:05.354376: W tensorflow/compiler/tf2tensorrt/utils/py_utils.cc:38] TF-TRT Warning: Could not find TensorRT\n"
     ]
    }
   ],
   "source": [
    "# for loading/processing the images  \n",
    "from keras.preprocessing.image import load_img \n",
    "from keras.preprocessing.image import img_to_array \n",
    "from keras.applications.vgg16 import preprocess_input \n",
    "from sklearn.metrics.pairwise import cosine_similarity\n",
    "\n",
    "# models \n",
    "from keras.applications.vgg16 import VGG16 \n",
    "from keras.models import Model\n",
    "\n",
    "# clustering and dimension reduction\n",
    "from sklearn.cluster import KMeans\n",
    "from sklearn.decomposition import PCA\n",
    "\n",
    "# for everything else\n",
    "import os\n",
    "import numpy as np\n",
    "import matplotlib.pyplot as plt\n",
    "from random import randint\n",
    "import pandas as pd\n",
    "import pickle\n",
    "import requests\n",
    "from pathlib import Path\n",
    "from sqlalchemy import create_engine\n",
    "from sqlalchemy.exc import SQLAlchemyError\n",
    "from PIL import Image\n",
    "from io import BytesIO\n",
    "from urllib.parse import urlparse"
   ]
  },
  {
   "cell_type": "code",
   "execution_count": 2,
   "id": "51bdb754-c427-4732-8940-d82b64678866",
   "metadata": {
    "editable": true,
    "execution": {
     "iopub.execute_input": "2024-04-09T17:08:07.133192Z",
     "iopub.status.busy": "2024-04-09T17:08:07.132759Z",
     "iopub.status.idle": "2024-04-09T17:08:07.362117Z",
     "shell.execute_reply": "2024-04-09T17:08:07.361477Z"
    },
    "slideshow": {
     "slide_type": ""
    },
    "tags": []
   },
   "outputs": [],
   "source": [
    "def resize_and_upload_image(url, save_folder):\n",
    "    try:\n",
    "        # Fetch the image from the URL\n",
    "        response = requests.get(url)\n",
    "        response.raise_for_status()\n",
    "\n",
    "        # Open the image from the response content\n",
    "        image = Image.open(BytesIO(response.content))\n",
    "\n",
    "        # Check the image size in bytes\n",
    "        image_size = len(response.content)\n",
    "\n",
    "        # Set the maximum allowed size in bytes (200KB)\n",
    "        max_size = 200 * 1024\n",
    "\n",
    "        # Extract the base path from the URL for saving the images\n",
    "        parsed_url = urlparse(url)\n",
    "        base_path = os.path.basename(parsed_url.path)\n",
    "\n",
    "        # Determine the paths for saving the images\n",
    "        original_image_path = os.path.join(save_folder, 'original_' + base_path)\n",
    "        resized_image_path = os.path.join(save_folder, 'resized_' + base_path)\n",
    "\n",
    "        # If the image size exceeds the maximum allowed size, resize it\n",
    "        if image_size > max_size:\n",
    "            print('more than 200kb')\n",
    "            print(original_image_path)\n",
    "            print(resized_image_path)\n",
    "            \n",
    "            # Calculate the scaling factor to reduce the image size\n",
    "            scale_factor = (max_size / image_size) ** 0.5\n",
    "            new_width = int(image.width * scale_factor)\n",
    "            new_height = int(image.height * scale_factor)\n",
    "\n",
    "            # Resize the image\n",
    "            resized_image = image.resize((new_width, new_height), Image.ANTIALIAS)\n",
    "\n",
    "            # Save the resized image to the local folder\n",
    "            resized_image.save(resized_image_path, format=\"JPEG\")\n",
    "\n",
    "            # Reupload the resized image to the original location\n",
    "            with open(resized_image_path, 'rb') as resized_file:\n",
    "                reupload_url = url  # Use the original URL for reupload\n",
    "                print(url)\n",
    "                files = {'file': ('resized_' + base_path, resized_file)}\n",
    "                reupload_response = requests.post(reupload_url, files=files)\n",
    "                print(reupload_response)\n",
    "\n",
    "            # Delete the original image in the local folder\n",
    "            os.remove(original_image_path)\n",
    "\n",
    "        else:\n",
    "            # Image is smaller than 200KB, no need to resize or reupload\n",
    "            resized_image_path = original_image_path\n",
    "\n",
    "        return original_image_path, resized_image_path\n",
    "\n",
    "    except Exception as e:\n",
    "        # Handle errors such as invalid URLs or image processing issues\n",
    "        return str(e)\n",
    "\n",
    "# Example usage:\n",
    "# imageURL = \"https://example.com/path/to/your/image.jpg\"\n",
    "# save_folder = \"path/to/your/local/folder\"\n",
    "# original_image_path, resized_image_path = resize_and_upload_image(imageURL, save_folder)\n",
    "# Both original_image_path and resized_image_path will contain the file paths in the local folder.\n",
    "\n",
    "def download_image(url, folder_path):\n",
    "    try:\n",
    "        # Send an HTTP GET request to the URL\n",
    "        response = requests.get(url)\n",
    "\n",
    "        # Check if the request was successful (status code 200)\n",
    "        if response.status_code == 200:\n",
    "            # Extract the filename from the URL\n",
    "            filename = os.path.join(folder_path, os.path.basename(url))\n",
    "\n",
    "            # Save the image to the specified folder location\n",
    "            with open(filename, 'wb') as file:\n",
    "                file.write(response.content)\n",
    "            file_size_bytes = os.path.getsize(filename)\n",
    "            file_size_kb = file_size_bytes / 1024\n",
    "\n",
    "            if file_size_kb >= 200:\n",
    "                print(\"Resizing...\")\n",
    "                resize_and_upload_image(filename,url)\n",
    "            # print(f\"Image downloaded and saved as {filename}\")\n",
    "        else:\n",
    "            print(f\"Failed to download image. Status code: {response.status_code}\")\n",
    "\n",
    "    except Exception as e:\n",
    "        print(f\"Error: {str(e)}\")\n",
    "\n",
    "def resize_and_upload_image(file_path, upload_url, target_size_kb=200):\n",
    "    try:\n",
    "        # Open the image from the file\n",
    "        with Image.open(file_path) as image:\n",
    "            # Calculate the target size in bytes\n",
    "            target_size_bytes = target_size_kb * 1024\n",
    "\n",
    "            # Initialize the quality variable\n",
    "            quality = 95\n",
    "\n",
    "            while os.path.getsize(file_path) > target_size_bytes:\n",
    "                # Resize the image while keeping the quality constant\n",
    "                width, height = image.size\n",
    "                new_width = int(width * 0.9)\n",
    "                new_height = int(height * 0.9)\n",
    "\n",
    "                # Ensure the dimensions are at least 1\n",
    "                new_width = max(1, new_width)\n",
    "                new_height = max(1, new_height)\n",
    "\n",
    "                image = image.resize((new_width, new_height), Image.LANCZOS)\n",
    "\n",
    "                # Save the resized image to the same file\n",
    "                image.save(file_path, \"JPEG\", quality=quality)\n",
    "\n",
    "            if os.path.getsize(file_path) <= target_size_bytes:\n",
    "                print(f\"Image resized and overwritten at: {file_path}\")\n",
    "\n",
    "                # Upload the resized image to the given URL\n",
    "                with open(file_path, 'rb') as file:\n",
    "                    response = requests.post(upload_url, files={'file': (os.path.basename(file_path), file)})\n",
    "\n",
    "                if response.status_code == 200:\n",
    "                    print(f\"Image uploaded to {upload_url}\")\n",
    "                else:\n",
    "                    print(f\"Upload failed with status code {response.status_code}\")\n",
    "            else:\n",
    "                print(f\"Image not resized, not uploaded.\")\n",
    "                \n",
    "    except Exception as e:\n",
    "        print(f\"Error: {e}\")\n",
    "\n",
    "## query functions\n",
    "\n",
    "\n",
    "import pandas as pd\n",
    "from sqlalchemy import create_engine, Column, Integer, String, MetaData, Table\n",
    "from sqlalchemy.orm import sessionmaker\n",
    "from sqlalchemy.exc import SQLAlchemyError\n",
    "from sqlalchemy.util import deprecations\n",
    "from sqlalchemy.sql import text\n",
    "deprecations.SILENCE_UBER_WARNING = True\n",
    "\n",
    "def execute_query_psql(query, params=None):\n",
    "    # Set your PostgreSQL connection parameters\n",
    "    db_params = {\n",
    "        'host': '98.98.117.105',\n",
    "        'port': '5432',\n",
    "        'database': 'medols',\n",
    "        'user': 'postgres',\n",
    "        'password': 'FEWcTB3JIX5gK4T06c1MdkM9N2S8w9pb',\n",
    "    }\n",
    "\n",
    "    # Create a SQLAlchemy engine\n",
    "    engine = create_engine(f\"postgresql+psycopg2://{db_params['user']}:{db_params['password']}@{db_params['host']}:{db_params['port']}/{db_params['database']}\")\n",
    "\n",
    "    # Create a metadata object\n",
    "    metadata = MetaData()\n",
    "\n",
    "    # Create a session\n",
    "    Session = sessionmaker(bind=engine)\n",
    "    session = Session()\n",
    "\n",
    "    try:\n",
    "        # Execute the query with optional parameters\n",
    "        result = session.execute(text(query), params)\n",
    "\n",
    "        # Check if the query is a SELECT query\n",
    "        is_select_query = result.returns_rows\n",
    "\n",
    "        if is_select_query:\n",
    "            # Fetch the data and return as a Pandas DataFrame\n",
    "            columns = result.keys()\n",
    "            fetched_data = result.fetchall()\n",
    "            df = pd.DataFrame(fetched_data, columns=columns)\n",
    "            # print(\"Fetched Data as DataFrame:\")\n",
    "            # print(df)\n",
    "            return df\n",
    "        else:\n",
    "            # Get the number of rows affected for non-SELECT queries\n",
    "            rows_affected = result.rowcount\n",
    "\n",
    "            # Commit the changes to the database for non-SELECT queries\n",
    "            session.commit()\n",
    "\n",
    "            print(f\"Query executed successfully. {rows_affected} rows affected.\")\n",
    "            return rows_affected\n",
    "    except Exception as e:\n",
    "        # Rollback changes if there's an error\n",
    "        session.rollback()\n",
    "        print(f\"Error executing query: {e}\")\n",
    "    finally:\n",
    "        # Close the session\n",
    "        session.close()\n",
    "\n",
    "def clear_image():\n",
    "    folder_path = '/home/jup_user/multipool/ai-case-study/img'\n",
    "    # Create a Path object for the folder\n",
    "    folder = Path(folder_path)\n",
    "    \n",
    "    # Iterate through the files in the folder and delete them\n",
    "    for file in folder.iterdir():\n",
    "        try:\n",
    "            if file.is_file():\n",
    "                file.unlink()\n",
    "                # print(f\"Deleted {file}\")\n",
    "            else:\n",
    "                print(f\"{file} is not a file.\")\n",
    "        except Exception as e:\n",
    "            print(f\"Error deleting {file}: {str(e)}\")\n",
    "\n",
    "# extracting feature from image files\n",
    "def extract_features(file, model):\n",
    "    # load the image as a 224x224 array\n",
    "    img = load_img(file, target_size=(224,224))\n",
    "    # convert from 'PIL.Image.Image' to numpy array\n",
    "    img = np.array(img) \n",
    "    # reshape the data for the model reshape(num_of_samples, dim 1, dim 2, channels)\n",
    "    reshaped_img = img.reshape(1,224,224,3) \n",
    "    # prepare image for model\n",
    "    imgx = preprocess_input(reshaped_img)\n",
    "    # get the feature vector\n",
    "    features = model.predict(imgx, use_multiprocessing=True)\n",
    "    return features\n",
    "\n",
    "# function that lets you view a cluster (based on identifier)        \n",
    "def view_cluster(cluster):\n",
    "    plt.figure(figsize = (25,25));\n",
    "    # gets the list of filenames for a cluster\n",
    "    files = groups[cluster]\n",
    "    # only allow up to 30 images to be shown at a time\n",
    "    if len(files) > 30:\n",
    "        print(f\"Clipping cluster size from {len(files)} to 30\")\n",
    "        files = files[:29]\n",
    "    # plot each image in the cluster\n",
    "    for index, file in enumerate(files):\n",
    "        plt.subplot(10,10,index+1);\n",
    "        img = load_img(file)\n",
    "        img = np.array(img)\n",
    "        plt.imshow(img)\n",
    "        plt.axis('off')"
   ]
  },
  {
   "cell_type": "code",
   "execution_count": 3,
   "id": "06e7431f-bef6-42e7-a49e-27ebcf66c2cd",
   "metadata": {
    "execution": {
     "iopub.execute_input": "2024-04-09T17:08:07.365618Z",
     "iopub.status.busy": "2024-04-09T17:08:07.365378Z",
     "iopub.status.idle": "2024-04-09T17:08:07.431718Z",
     "shell.execute_reply": "2024-04-09T17:08:07.431114Z"
    }
   },
   "outputs": [
    {
     "name": "stdout",
     "output_type": "stream",
     "text": [
      "iJobID: 87596\n",
      "const_job_id: 3846\n",
      "const_parameter: None\n"
     ]
    }
   ],
   "source": [
    "#\n",
    "# Get jobsid from queue table\n",
    "# \n",
    "iJobID = 0\n",
    "sql = \"\"\"\n",
    "select \ta.id, a.hastag, a.parameter\n",
    "from \tscreen_analisis_ai a inner join ret_available_db b \n",
    "\t\ton a.hastag = b.db_id \n",
    "where \ta.active = 1\n",
    "\t\tand a.status = 1\n",
    "\t\tand a.jenis_analisa = '2'\n",
    "order by b.since desc limit 1\n",
    "\"\"\"\n",
    "\n",
    "df_res = execute_query_psql(sql)\n",
    "\n",
    "# check job availability\n",
    "if(len(df_res)) == 0:\n",
    "    # get out, nothing to do\n",
    "    print('Zero jobs, quitting now')\n",
    "    quit()\n",
    "\n",
    "df_res.head()\n",
    "iJobID = df_res['hastag'][0]\n",
    "const_job_id = df_res['id'][0]\n",
    "const_parameter = df_res['parameter'][0]\n",
    "\n",
    "print('iJobID: ' + str(iJobID))\n",
    "print('const_job_id: ' + str(const_job_id))\n",
    "print('const_parameter: ' + str(const_parameter))\n"
   ]
  },
  {
   "cell_type": "code",
   "execution_count": 4,
   "id": "4f216f10-c9cf-45c4-8a41-3ab3245d8c5a",
   "metadata": {
    "execution": {
     "iopub.execute_input": "2024-04-09T17:08:07.434750Z",
     "iopub.status.busy": "2024-04-09T17:08:07.434503Z",
     "iopub.status.idle": "2024-04-09T17:08:07.474931Z",
     "shell.execute_reply": "2024-04-09T17:08:07.474392Z"
    }
   },
   "outputs": [
    {
     "name": "stdout",
     "output_type": "stream",
     "text": [
      "update screen_analisis_ai set status = 2, last_status_update = now(), start_process = now() where id = '3846';\n",
      "Query executed successfully. 1 rows affected.\n",
      "Query executed successfully. 1 rows affected.\n"
     ]
    },
    {
     "data": {
      "text/plain": [
       "1"
      ]
     },
     "execution_count": 4,
     "metadata": {},
     "output_type": "execute_result"
    }
   ],
   "source": [
    "## report to dbms that we are working on this row\n",
    "sql = \"\"\n",
    "sql = \"update screen_analisis_ai set status = 2, last_status_update = now(), start_process = now() where id = '\" + str(const_job_id) + \"';\"\n",
    "print(sql)\n",
    "# execute\n",
    "# execute_sqlalchemy_transaction(sql)\n",
    "execute_query_psql(sql)\n",
    "#\n",
    "# Create Header Record\n",
    "sql = \"insert into ret_analysis_header (job_id, datetime_start, user_id) values (%s, now(), %s)\" % (const_job_id,\"1\")\n",
    "# Execute the query\n",
    "execute_query_psql(sql)\n"
   ]
  },
  {
   "cell_type": "code",
   "execution_count": 5,
   "id": "b14cc5e6-bd16-4a40-b585-478eeea0e8c9",
   "metadata": {
    "collapsed": true,
    "execution": {
     "iopub.execute_input": "2024-04-09T17:08:07.477774Z",
     "iopub.status.busy": "2024-04-09T17:08:07.477551Z",
     "iopub.status.idle": "2024-04-09T17:08:09.899024Z",
     "shell.execute_reply": "2024-04-09T17:08:09.898400Z"
    },
    "jupyter": {
     "outputs_hidden": true
    },
    "scrolled": true
   },
   "outputs": [
    {
     "name": "stdout",
     "output_type": "stream",
     "text": [
      "\n",
      "select a.id, a.db_id, c.tweet_id, c.filename\n",
      "from ret_available_db a inner join ret_tweet b on a.db_id = b.db_id\n",
      "inner join media_files c on b.id = c.tweet_id\n",
      "where \ta.db_id = 87596\n",
      "\n"
     ]
    },
    {
     "name": "stdout",
     "output_type": "stream",
     "text": [
      "http://98.98.117.121:8082/api/media/photo/download/twitter/GKoOcKmacAAMEkX.jpg\n",
      "http://98.98.117.121:8082/api/media/photo/download/twitter/GKoOO52bAAA0yQc.jpg\n",
      "http://98.98.117.121:8082/api/media/photo/download/twitter/GKoNqWgacAAgobq.jpg\n",
      "http://98.98.117.121:8082/api/media/photo/download/twitter/GKoNoNDasAAQgiw.jpg\n",
      "http://98.98.117.121:8082/api/media/photo/download/twitter/GKoM1z0bsAEEd-e.jpg\n",
      "http://98.98.117.121:8082/api/media/photo/download/twitter/GKoNRdLbUAEy1Wr.jpg\n",
      "http://98.98.117.121:8082/api/media/photo/download/twitter/GKoM6kvbcAEUCSd.jpg\n",
      "http://98.98.117.121:8082/api/media/photo/download/twitter/GKoMmkZbEAA3e8N.jpg\n",
      "http://98.98.117.121:8082/api/media/photo/download/twitter/GKoLVBPakAA2Def.jpg\n",
      "http://98.98.117.121:8082/api/media/photo/download/twitter/GKiDzdibcAAvD6e.jpg\n",
      "http://98.98.117.121:8082/api/media/photo/download/twitter/GKoKenZbQAAoxRQ.jpg\n",
      "http://98.98.117.121:8082/api/media/photo/download/twitter/GKoKNtNbkAAdTYa.jpg\n",
      "http://98.98.117.121:8082/api/media/photo/download/twitter/GKoJ4V7agAA5s54.jpg\n",
      "http://98.98.117.121:8082/api/media/photo/download/twitter/GKoJ11gbYAApg-A.jpg\n",
      "http://98.98.117.121:8082/api/media/photo/download/twitter/GKoIAOsbUAA-JA1.jpg\n",
      "http://98.98.117.121:8082/api/media/photo/download/twitter/GKoJPlIawAEYaUE.jpg\n",
      "http://98.98.117.121:8082/api/media/photo/download/twitter/GKoJJJnacAAccH6.jpg\n",
      "http://98.98.117.121:8082/api/media/photo/download/twitter/GKoIBaub0AAFZUl.jpg\n",
      "http://98.98.117.121:8082/api/media/photo/download/twitter/GKoHsEfbAAArRds.jpg\n",
      "http://98.98.117.121:8082/api/media/photo/download/twitter/GKoHY5qaUAA8r8y.jpg\n",
      "http://98.98.117.121:8082/api/media/photo/download/twitter/GKoHVU7agAA5_Yx.jpg\n",
      "http://98.98.117.121:8082/api/media/photo/download/twitter/GKoHU3pbsAAVqjm.jpg\n",
      "http://98.98.117.121:8082/api/media/photo/download/twitter/GKoGkUAbwAA13Af.jpg\n",
      "http://98.98.117.121:8082/api/media/photo/download/twitter/GKoGOmibEAABpsA.jpg\n",
      "http://98.98.117.121:8082/api/media/photo/download/twitter/GKoEqjcaIAERi4V.jpg\n",
      "http://98.98.117.121:8082/api/media/photo/download/twitter/GKoDeasbsAEMvFP.jpg\n",
      "http://98.98.117.121:8082/api/media/photo/download/twitter/GKoDaQCbEAABXg0.jpg\n",
      "http://98.98.117.121:8082/api/media/photo/download/twitter/GKkXKqnbEAAXzzL.jpg\n",
      "http://98.98.117.121:8082/api/media/photo/download/twitter/GKnz_XRbUAAJMLD.jpg\n",
      "http://98.98.117.121:8082/api/media/photo/download/twitter/GKkzse0b0AAmtIU.jpg\n",
      "http://98.98.117.121:8082/api/media/photo/download/twitter/GKoBajNa0AAX6zz.jpg\n",
      "http://98.98.117.121:8082/api/media/photo/download/twitter/GKoAuvpbcAAqX8D.jpg\n",
      "http://98.98.117.121:8082/api/media/photo/download/twitter/GKn_5m4aYAAmj7I.png\n",
      "http://98.98.117.121:8082/api/media/photo/download/twitter/GKlQMsSbIAAzhg3.jpg\n",
      "http://98.98.117.121:8082/api/media/photo/download/twitter/GKn-HgMbwAAeGpZ.png\n",
      "http://98.98.117.121:8082/api/media/photo/download/twitter/GKn9-8XaMAALtf2.png\n",
      "http://98.98.117.121:8082/api/media/photo/download/twitter/GKljT9MbsAA6lHc.jpg\n",
      "http://98.98.117.121:8082/api/media/photo/download/twitter/GKjhrXHaQAA6m_H.jpg\n",
      "http://98.98.117.121:8082/api/media/photo/download/twitter/GKn7iDMbUAAg64t.jpg\n",
      "http://98.98.117.121:8082/api/media/photo/download/twitter/GKn7GzbbEAEw1Xp.jpg\n",
      "http://98.98.117.121:8082/api/media/photo/download/twitter/GKjXa0QagAAc9kb.jpg\n",
      "http://98.98.117.121:8082/api/media/photo/download/twitter/GKfgVlda0AAvSTD.jpg\n"
     ]
    },
    {
     "name": "stdout",
     "output_type": "stream",
     "text": [
      "http://98.98.117.121:8082/api/media/photo/download/twitter/GKn6VMSawAAG8kV.jpg\n",
      "http://98.98.117.121:8082/api/media/photo/download/twitter/E8WUcgXVoAQosQN.jpg\n",
      "http://98.98.117.121:8082/api/media/photo/download/twitter/GKm59u4awAAFu_Y.jpg\n",
      "http://98.98.117.121:8082/api/media/photo/download/twitter/GKgSMXiaIAAInbe.jpg\n",
      "http://98.98.117.121:8082/api/media/photo/download/twitter/GKn3DTMbAAAb6ns.jpg\n",
      "http://98.98.117.121:8082/api/media/photo/download/twitter/GKkrJnJaMAA-FP9.jpg\n",
      "http://98.98.117.121:8082/api/media/photo/download/twitter/GKn24GdacAAfzli.jpg\n",
      "http://98.98.117.121:8082/api/media/photo/download/twitter/GKnzOYHbUAAb9I4.jpg\n",
      "http://98.98.117.121:8082/api/media/photo/download/twitter/GKnzSpAbYAAMqFJ.jpg\n",
      "http://98.98.117.121:8082/api/media/photo/download/twitter/GKny0yuaMAAi98w.jpg\n",
      "http://98.98.117.121:8082/api/media/photo/download/twitter/GKny7J6agAAtDdi.jpg\n",
      "http://98.98.117.121:8082/api/media/photo/download/twitter/GKjEHbJbgAANLjg.jpg\n",
      "http://98.98.117.121:8082/api/media/photo/download/twitter/GKnxLSXbgAAY5ig.jpg\n",
      "http://98.98.117.121:8082/api/media/photo/download/twitter/GKnrfk_bQAAOJmf.jpg\n",
      "http://98.98.117.121:8082/api/media/photo/download/twitter/GKnpngBawAAsCv_.png\n",
      "http://98.98.117.121:8082/api/media/photo/download/twitter/GKnq_Ima0AAk0va.jpg\n",
      "http://98.98.117.121:8082/api/media/photo/download/twitter/GKjYhDIaQAA4lwI.jpg\n",
      "http://98.98.117.121:8082/api/media/photo/download/twitter/GKnpIz-bQAEDtpu.jpg\n",
      "http://98.98.117.121:8082/api/media/photo/download/twitter/GKk-XdsaIAACA1L.jpg\n",
      "http://98.98.117.121:8082/api/media/photo/download/twitter/GKnlYYKacAAcc13.jpg\n",
      "http://98.98.117.121:8082/api/media/photo/download/twitter/GKjvpkla0AArN7Q.jpg\n",
      "http://98.98.117.121:8082/api/media/photo/download/twitter/GKnlAfFa8AA4e7p.jpg\n",
      "http://98.98.117.121:8082/api/media/photo/download/twitter/GKnkxlvaUAANDht.jpg\n",
      "http://98.98.117.121:8082/api/media/photo/download/twitter/GKnkJmmbAAATDJ1.jpg\n",
      "http://98.98.117.121:8082/api/media/photo/download/twitter/GKnisJ8a8AAQL3I.jpg\n",
      "http://98.98.117.121:8082/api/media/photo/download/twitter/GKnhtIhXAAAmO48.jpg\n",
      "http://98.98.117.121:8082/api/media/photo/download/twitter/GKneTFUawAAx-_6.jpg\n",
      "http://98.98.117.121:8082/api/media/photo/download/twitter/GKnbDTyagAARFf0.jpg\n",
      "http://98.98.117.121:8082/api/media/photo/download/twitter/GKnajq9bIAA_6pJ.jpg\n",
      "http://98.98.117.121:8082/api/media/photo/download/twitter/GKnWnjoaAAAaBXj.jpg\n",
      "http://98.98.117.121:8082/api/media/photo/download/twitter/GKnWQfka4AARE0O.jpg\n",
      "http://98.98.117.121:8082/api/media/photo/download/twitter/GKjdyiZacAAwK8z.jpg\n",
      "http://98.98.117.121:8082/api/media/photo/download/twitter/GKnVFlcbIAAYh_h.jpg\n",
      "http://98.98.117.121:8082/api/media/photo/download/twitter/GKnVD5aaMAAeMK2.jpg\n",
      "http://98.98.117.121:8082/api/media/photo/download/twitter/GKnT_wqXAAAaJBa.jpg\n",
      "http://98.98.117.121:8082/api/media/photo/download/twitter/GKnT-TAW8AAlNgt.jpg\n",
      "http://98.98.117.121:8082/api/media/photo/download/twitter/GKm1sr3asAEdfLx.jpg\n",
      "http://98.98.117.121:8082/api/media/photo/download/twitter/GKnS96paQAA8wMe.jpg\n",
      "http://98.98.117.121:8082/api/media/photo/download/twitter/GKm1gKObAAEkzko.jpg\n",
      "http://98.98.117.121:8082/api/media/photo/download/twitter/GKnLT_EacAEFtAm.jpg\n",
      "http://98.98.117.121:8082/api/media/photo/download/twitter/GKnLAdzaEAAz8nN.jpg\n",
      "http://98.98.117.121:8082/api/media/photo/download/twitter/GKnKBOgboAAZD_B.jpg\n",
      "http://98.98.117.121:8082/api/media/photo/download/twitter/GKnJ0fOaQAEv8Ts.jpg\n",
      "http://98.98.117.121:8082/api/media/photo/download/twitter/GKkGCrpaIAAruv0.jpg\n",
      "http://98.98.117.121:8082/api/media/photo/download/twitter/GKnI55oboAAnhCp.jpg\n",
      "http://98.98.117.121:8082/api/media/photo/download/twitter/GKnILyda0AAIv7B.jpg\n",
      "http://98.98.117.121:8082/api/media/photo/download/twitter/GKnIHbFaUAA2nn8.jpg\n",
      "http://98.98.117.121:8082/api/media/photo/download/twitter/GKnH_aYaEAA3Bvb.jpg\n",
      "http://98.98.117.121:8082/api/media/photo/download/twitter/GKnHsVsbEAAEJLM.jpg\n",
      "http://98.98.117.121:8082/api/media/photo/download/twitter/GKnHdJVa0AAwIsB.jpg\n",
      "http://98.98.117.121:8082/api/media/photo/download/twitter/GKnGMtpaAAAejL3.jpg\n",
      "http://98.98.117.121:8082/api/media/photo/download/twitter/GKkfX3IakAAIbqF.jpg\n",
      "http://98.98.117.121:8082/api/media/photo/download/twitter/GKf3c5mbYAAyVIS.jpg\n",
      "http://98.98.117.121:8082/api/media/photo/download/twitter/GKnDrnsbQAAyB9j.jpg\n",
      "http://98.98.117.121:8082/api/media/photo/download/twitter/GKnCJ0ybQAAnsYm.jpg\n",
      "http://98.98.117.121:8082/api/media/photo/download/twitter/GKnBy2-a0AAa870.jpg\n",
      "http://98.98.117.121:8082/api/media/photo/download/twitter/GKnBruxaIAAYaBl.jpg\n"
     ]
    },
    {
     "name": "stdout",
     "output_type": "stream",
     "text": [
      "http://98.98.117.121:8082/api/media/photo/download/twitter/GKnBntUbwAAI9oV.jpg\n",
      "http://98.98.117.121:8082/api/media/photo/download/twitter/GKnA6EQaEAAbxzU.jpg\n",
      "http://98.98.117.121:8082/api/media/photo/download/twitter/GKnAMP5bgAAO-D3.jpg\n",
      "http://98.98.117.121:8082/api/media/photo/download/twitter/GKk1hzlbIAATYhY.jpg\n",
      "http://98.98.117.121:8082/api/media/photo/download/twitter/GKm-hmXaAAAOM-F.jpg\n",
      "http://98.98.117.121:8082/api/media/photo/download/twitter/GKm8yNCaUAArETs.jpg\n",
      "http://98.98.117.121:8082/api/media/photo/download/twitter/GKm8Xi7bQAAM3Zo.jpg\n",
      "http://98.98.117.121:8082/api/media/photo/download/twitter/GKm7m4xbgAAzTFR.jpg\n",
      "http://98.98.117.121:8082/api/media/photo/download/twitter/GKm7awtbIAAL49O.jpg\n",
      "http://98.98.117.121:8082/api/media/photo/download/twitter/GKiJuFIa4AIppc-.jpg\n",
      "http://98.98.117.121:8082/api/media/photo/download/twitter/GKkEElGbIAAvVhc.jpg\n",
      "http://98.98.117.121:8082/api/media/photo/download/twitter/GKm2VqgaoAAQSmx.jpg\n",
      "http://98.98.117.121:8082/api/media/photo/download/twitter/GKirWTkaEAADaap.jpg\n",
      "http://98.98.117.121:8082/api/media/photo/download/twitter/GKm1kPIawAA-5gS.jpg\n",
      "http://98.98.117.121:8082/api/media/photo/download/twitter/GKm0XopaoAAA2el.jpg\n",
      "http://98.98.117.121:8082/api/media/photo/download/twitter/GKmuhM1aUAAlIRb.jpg\n",
      "http://98.98.117.121:8082/api/media/photo/download/twitter/GKmuHpJbMAAupwi.jpg\n",
      "http://98.98.117.121:8082/api/media/photo/download/twitter/GKmtAXBbkAAi2CM.jpg\n",
      "http://98.98.117.121:8082/api/media/photo/download/twitter/GKlKskFaQAApWvs.jpg\n",
      "http://98.98.117.121:8082/api/media/photo/download/twitter/GKmrSSga4AACihu.jpg\n",
      "http://98.98.117.121:8082/api/media/photo/download/twitter/GKmqgOfbUAAH9Sq.jpg\n",
      "http://98.98.117.121:8082/api/media/photo/download/twitter/GKmoRqzaEAE6Wkc.jpg\n",
      "http://98.98.117.121:8082/api/media/photo/download/twitter/GKmloa1aQAAJPGS.jpg\n",
      "http://98.98.117.121:8082/api/media/photo/download/twitter/GKmlKLWbMAAp5wp.jpg\n",
      "http://98.98.117.121:8082/api/media/photo/download/twitter/GKmlC_zbgAAWSBw.jpg\n",
      "http://98.98.117.121:8082/api/media/photo/download/twitter/GKmkwhhbEAA6RQk.jpg\n",
      "http://98.98.117.121:8082/api/media/photo/download/twitter/E6jpNBuVUAQTwI-.jpg\n",
      "http://98.98.117.121:8082/api/media/photo/download/twitter/GKmhzXNacAAH2Fx.png\n",
      "http://98.98.117.121:8082/api/media/photo/download/twitter/GKmhxvTbEAI1N3l.jpg\n",
      "http://98.98.117.121:8082/api/media/photo/download/twitter/GKkEzubasAAKqLA.jpg\n",
      "http://98.98.117.121:8082/api/media/photo/download/twitter/GKmemYja4AA-iS9.jpg\n",
      "http://98.98.117.121:8082/api/media/photo/download/twitter/GKmX5IxbAAAQ4SO.jpg\n",
      "http://98.98.117.121:8082/api/media/photo/download/twitter/GKmXUgzaIAAM14L.jpg\n",
      "http://98.98.117.121:8082/api/media/photo/download/twitter/GKmXQR-aoAAaCzp.jpg\n",
      "http://98.98.117.121:8082/api/media/photo/download/twitter/GKmWvkTbIAAqCCS.jpg\n",
      "http://98.98.117.121:8082/api/media/photo/download/twitter/GKmUZvNawAA6y-Y.jpg\n",
      "http://98.98.117.121:8082/api/media/photo/download/twitter/GKmR-5XacAAUmBW.jpg\n",
      "http://98.98.117.121:8082/api/media/photo/download/twitter/GKmNojrbAAAl4Zh.jpg\n",
      "http://98.98.117.121:8082/api/media/photo/download/twitter/GKmI_bDaAAAjk9y.jpg\n",
      "http://98.98.117.121:8082/api/media/photo/download/twitter/GKmIznIaUAAA23d.jpg\n",
      "http://98.98.117.121:8082/api/media/photo/download/twitter/GKkmrd0asAAtOU7.jpg\n",
      "http://98.98.117.121:8082/api/media/photo/download/twitter/GKjbem5aQAA_JBb.jpg\n",
      "http://98.98.117.121:8082/api/media/photo/download/twitter/GKmG0j5bUAAu6Jl.jpg\n",
      "http://98.98.117.121:8082/api/media/photo/download/twitter/GKmF868aEAAUx5j.jpg\n",
      "http://98.98.117.121:8082/api/media/photo/download/twitter/GKmFtuKagAAlXAN.jpg\n",
      "http://98.98.117.121:8082/api/media/photo/download/twitter/GKjUuOEbwAAa037.jpg\n",
      "http://98.98.117.121:8082/api/media/photo/download/twitter/GKmCKlKbIAAEcOC.jpg\n",
      "http://98.98.117.121:8082/api/media/photo/download/twitter/GKmB_jMaUAALkHu.jpg\n",
      "http://98.98.117.121:8082/api/media/photo/download/twitter/GKmB8OOaoAAu-9r.jpg\n",
      "http://98.98.117.121:8082/api/media/photo/download/twitter/GKmBQtVaAAAqBn4.jpg\n",
      "http://98.98.117.121:8082/api/media/photo/download/twitter/GKl-9JsbAAA4vwP.jpg\n",
      "http://98.98.117.121:8082/api/media/photo/download/twitter/GKl4T_rboAAwhIu.jpg\n",
      "http://98.98.117.121:8082/api/media/photo/download/twitter/GKl8DxtbMAAzZ79.jpg\n",
      "http://98.98.117.121:8082/api/media/photo/download/twitter/GKl71K0boAAoTT0.jpg\n",
      "http://98.98.117.121:8082/api/media/photo/download/twitter/GKl70XIbgAAMSoW.jpg\n",
      "http://98.98.117.121:8082/api/media/photo/download/twitter/GKl3-BfbMAAcije.jpg\n",
      "http://98.98.117.121:8082/api/media/photo/download/twitter/GKkNwLbaUAAS1mE.jpg\n",
      "http://98.98.117.121:8082/api/media/photo/download/twitter/GKlzG3jawAAYXrT.jpg\n",
      "http://98.98.117.121:8082/api/media/photo/download/twitter/GKlzDxZaIAAuDMR.jpg\n"
     ]
    },
    {
     "name": "stdout",
     "output_type": "stream",
     "text": [
      "http://98.98.117.121:8082/api/media/photo/download/twitter/GKlwhH8bAAAf9z4.jpg\n",
      "http://98.98.117.121:8082/api/media/photo/download/twitter/GKlv4ZVbIAAl_i9.jpg\n",
      "http://98.98.117.121:8082/api/media/photo/download/twitter/GKlvhnkaoAArVQk.jpg\n",
      "http://98.98.117.121:8082/api/media/photo/download/twitter/GKlvFqObsAAz2oX.jpg\n",
      "http://98.98.117.121:8082/api/media/photo/download/twitter/GKj2K1-aoAA8vBX.jpg\n",
      "http://98.98.117.121:8082/api/media/photo/download/twitter/GKj1yCCaEAMmE7X.jpg\n",
      "http://98.98.117.121:8082/api/media/photo/download/twitter/GKkbOgUbAAAR-1a.jpg\n",
      "http://98.98.117.121:8082/api/media/photo/download/twitter/GKkaZz-aQAAtzxP.jpg\n",
      "http://98.98.117.121:8082/api/media/photo/download/twitter/GKlm5Sma0AA1QI1.jpg\n",
      "http://98.98.117.121:8082/api/media/photo/download/twitter/GKlmkc7bgAA3j-j.jpg\n",
      "http://98.98.117.121:8082/api/media/photo/download/twitter/GKiGlpJbAAAiGfX.jpg\n",
      "http://98.98.117.121:8082/api/media/photo/download/twitter/GKljO9uaUAAoWpU.jpg\n",
      "http://98.98.117.121:8082/api/media/photo/download/twitter/GKlh0EzbEAA7crZ.jpg\n",
      "http://98.98.117.121:8082/api/media/photo/download/twitter/GKjyVf4a8AEnwFH.jpg\n",
      "http://98.98.117.121:8082/api/media/photo/download/twitter/GKlbfgobcAAPPnm.jpg\n",
      "http://98.98.117.121:8082/api/media/photo/download/twitter/GKlZEW-bEAADPDh.jpg\n",
      "http://98.98.117.121:8082/api/media/photo/download/twitter/GKlYkvhaIAEmDnK.jpg\n",
      "http://98.98.117.121:8082/api/media/photo/download/twitter/GKlWEb2b0AAffoq.jpg\n",
      "http://98.98.117.121:8082/api/media/photo/download/twitter/GKlVEDwawAAjcOM.jpg\n",
      "http://98.98.117.121:8082/api/media/photo/download/twitter/GKlUiWaboAAJlEW.jpg\n",
      "http://98.98.117.121:8082/api/media/photo/download/twitter/GKlUbvDakAAXutq.jpg\n",
      "http://98.98.117.121:8082/api/media/photo/download/twitter/GKlTdqnbwAAFmsS.jpg\n",
      "http://98.98.117.121:8082/api/media/photo/download/twitter/GKjHD2obQAAssGf.jpg\n",
      "http://98.98.117.121:8082/api/media/photo/download/twitter/GKlTEe2agAAEJJD.png\n",
      "http://98.98.117.121:8082/api/media/photo/download/twitter/GKlSemhbYAE3Lkc.jpg\n",
      "http://98.98.117.121:8082/api/media/photo/download/twitter/GKlRf7_aoAAjYlE.jpg\n",
      "http://98.98.117.121:8082/api/media/photo/download/twitter/GKlRGd3bsAABbPJ.jpg\n",
      "http://98.98.117.121:8082/api/media/photo/download/twitter/GKlQqX1bAAALh-5.jpg\n",
      "http://98.98.117.121:8082/api/media/photo/download/twitter/GKlQNyMboAAJVm2.jpg\n",
      "http://98.98.117.121:8082/api/media/photo/download/twitter/GKlLt4Wb0AAgc7c.jpg\n",
      "http://98.98.117.121:8082/api/media/photo/download/twitter/GKk0acSbYAAo_y7.jpg\n",
      "http://98.98.117.121:8082/api/media/photo/download/twitter/GKk6bfraMAA-nUi.jpg\n",
      "http://98.98.117.121:8082/api/media/photo/download/twitter/GKkit2abEAADFF8.png\n",
      "http://98.98.117.121:8082/api/media/photo/download/twitter/GKlL9pabUAAPtSF.jpg\n",
      "http://98.98.117.121:8082/api/media/photo/download/twitter/GKlLpGxbIAAwagV.jpg\n",
      "http://98.98.117.121:8082/api/media/photo/download/twitter/GKlK-r4b0AAmF_Q.jpg\n",
      "http://98.98.117.121:8082/api/media/photo/download/twitter/GKlK6KSbgAAepOW.jpg\n",
      "http://98.98.117.121:8082/api/media/photo/download/twitter/GKlKunQbwAAs0gd.jpg\n",
      "http://98.98.117.121:8082/api/media/photo/download/twitter/GKlKgORaoAA81AP.jpg\n",
      "http://98.98.117.121:8082/api/media/photo/download/twitter/GKlKDyAawAAbRvs.jpg\n",
      "http://98.98.117.121:8082/api/media/photo/download/twitter/GKlKB1ya0AA9iUh.jpg\n",
      "http://98.98.117.121:8082/api/media/photo/download/twitter/GKlJ847awAE3-9G.jpg\n",
      "http://98.98.117.121:8082/api/media/photo/download/twitter/GKlAfWWbwAAmbIK.jpg\n",
      "http://98.98.117.121:8082/api/media/photo/download/twitter/GKlEiNRaQAE9ZLT.jpg\n",
      "http://98.98.117.121:8082/api/media/photo/download/twitter/GKlI3VmbkAAzd3J.jpg\n",
      "http://98.98.117.121:8082/api/media/photo/download/twitter/GKlH0RwbIAAQcSR.jpg\n",
      "http://98.98.117.121:8082/api/media/photo/download/twitter/GKlGY23aoAEV0Us.jpg\n",
      "http://98.98.117.121:8082/api/media/photo/download/twitter/GKlGcUIa4AAYn7Z.jpg\n",
      "http://98.98.117.121:8082/api/media/photo/download/twitter/GKlGoTYbkAAUt-Z.jpg\n",
      "http://98.98.117.121:8082/api/media/photo/download/twitter/GKlGrU9awAAYWT8.jpg\n",
      "http://98.98.117.121:8082/api/media/photo/download/twitter/GKianwFbcAAIeib.jpg\n",
      "http://98.98.117.121:8082/api/media/photo/download/twitter/GKlF0qxbsAAgNoe.jpg\n",
      "http://98.98.117.121:8082/api/media/photo/download/twitter/GKlFNkbaMAADWCz.jpg\n",
      "http://98.98.117.121:8082/api/media/photo/download/twitter/GKlEJF2bIAAoFXy.jpg\n",
      "http://98.98.117.121:8082/api/media/photo/download/twitter/GKlEEsUb0AEhkfr.jpg\n",
      "http://98.98.117.121:8082/api/media/photo/download/twitter/GKlD_UjaAAA2F2x.jpg\n",
      "http://98.98.117.121:8082/api/media/photo/download/twitter/GKlDhzlbkAEce_M.jpg\n",
      "http://98.98.117.121:8082/api/media/photo/download/twitter/GKlDfiPbUAAak8a.jpg\n",
      "http://98.98.117.121:8082/api/media/photo/download/twitter/GKlDLL3asAAajQ5.jpg\n"
     ]
    },
    {
     "name": "stdout",
     "output_type": "stream",
     "text": [
      "http://98.98.117.121:8082/api/media/photo/download/twitter/GKlBI87aUAA9uKj.jpg\n",
      "http://98.98.117.121:8082/api/media/photo/download/twitter/GKlAqwaagAIPLFH.jpg\n",
      "http://98.98.117.121:8082/api/media/photo/download/twitter/GKk_0JGboAAgrzT.jpg\n",
      "http://98.98.117.121:8082/api/media/photo/download/twitter/GKk_yzrbwAAhh1o.jpg\n",
      "http://98.98.117.121:8082/api/media/photo/download/twitter/GKk_oELbYAADV_c.jpg\n",
      "http://98.98.117.121:8082/api/media/photo/download/twitter/GKk_vb5bUAAuIAW.jpg\n",
      "http://98.98.117.121:8082/api/media/photo/download/twitter/GKk9173asAIz6qB.jpg\n",
      "http://98.98.117.121:8082/api/media/photo/download/twitter/GKk9o44b0AAc86G.jpg\n",
      "http://98.98.117.121:8082/api/media/photo/download/twitter/GKk8KsvbsAAztMa.jpg\n",
      "http://98.98.117.121:8082/api/media/photo/download/twitter/GKk8uuYaIAAkAWG.jpg\n",
      "http://98.98.117.121:8082/api/media/photo/download/twitter/GKk8onzbkAEWmqG.jpg\n",
      "http://98.98.117.121:8082/api/media/photo/download/twitter/GKk7NMSakAA1nZL.jpg\n",
      "http://98.98.117.121:8082/api/media/photo/download/twitter/GKk7N8sa8AEN0zq.jpg\n",
      "http://98.98.117.121:8082/api/media/photo/download/twitter/GKk7LLYacAA_uUV.jpg\n",
      "http://98.98.117.121:8082/api/media/photo/download/twitter/GKk7CMJbUAAEzFY.jpg\n",
      "http://98.98.117.121:8082/api/media/photo/download/twitter/GKk7AeAagAAb8vI.jpg\n",
      "http://98.98.117.121:8082/api/media/photo/download/twitter/GKj4CnWbAAEZxTy.jpg\n",
      "http://98.98.117.121:8082/api/media/photo/download/twitter/GKk5XSVaEAAoZkb.jpg\n",
      "http://98.98.117.121:8082/api/media/photo/download/twitter/GKk5AaSb0AA7Rx4.jpg\n",
      "http://98.98.117.121:8082/api/media/photo/download/twitter/GKk4dv6aYAAsI1z.png\n",
      "http://98.98.117.121:8082/api/media/photo/download/twitter/GKk4nKMb0AAqVt9.jpg\n",
      "http://98.98.117.121:8082/api/media/photo/download/twitter/GKk4F88aMAAXs39.jpg\n",
      "http://98.98.117.121:8082/api/media/photo/download/twitter/GKk3PJMawAA0wh3.jpg\n",
      "http://98.98.117.121:8082/api/media/photo/download/twitter/GKk2XpybUAA6_A2.jpg\n",
      "http://98.98.117.121:8082/api/media/photo/download/twitter/GKk16IEa0AAVaIA.jpg\n",
      "http://98.98.117.121:8082/api/media/photo/download/twitter/GKk1YsUa4AAgtEI.jpg\n",
      "http://98.98.117.121:8082/api/media/photo/download/twitter/GKk1MGkaUAA-Yv5.jpg\n",
      "http://98.98.117.121:8082/api/media/photo/download/twitter/GKk0zZqaEAAwAVe.jpg\n",
      "http://98.98.117.121:8082/api/media/photo/download/twitter/GKk0tbJbkAAdFDW.jpg\n",
      "http://98.98.117.121:8082/api/media/photo/download/twitter/GKk0NbvbMAADfqR.jpg\n",
      "http://98.98.117.121:8082/api/media/photo/download/twitter/GKk0NIJakAAuv1D.jpg\n",
      "http://98.98.117.121:8082/api/media/photo/download/twitter/GKk0A_naEAEyxc1.jpg\n",
      "http://98.98.117.121:8082/api/media/photo/download/twitter/GKkz7y-bEAA6CvE.jpg\n",
      "http://98.98.117.121:8082/api/media/photo/download/twitter/GKkz23QaAAAjHgi.jpg\n",
      "http://98.98.117.121:8082/api/media/photo/download/twitter/GKkzRp-aUAAk930.jpg\n",
      "http://98.98.117.121:8082/api/media/photo/download/twitter/GKky9ZdaoAALBDb.jpg\n",
      "http://98.98.117.121:8082/api/media/photo/download/twitter/GKky7vxbYAABHab.jpg\n",
      "http://98.98.117.121:8082/api/media/photo/download/twitter/GKkyLMzbIAADJKv.jpg\n",
      "http://98.98.117.121:8082/api/media/photo/download/twitter/GKkxYWPaIAAOY1X.jpg\n",
      "http://98.98.117.121:8082/api/media/photo/download/twitter/GKkwoAObUAACurv.jpg\n",
      "http://98.98.117.121:8082/api/media/photo/download/twitter/GKkvukxaQAAYEv_.jpg\n",
      "http://98.98.117.121:8082/api/media/photo/download/twitter/GKku3hEaoAI1YzX.jpg\n",
      "http://98.98.117.121:8082/api/media/photo/download/twitter/GKktScDagAAfqeN.png\n",
      "http://98.98.117.121:8082/api/media/photo/download/twitter/GKktXN-boAAUYai.jpg\n",
      "http://98.98.117.121:8082/api/media/photo/download/twitter/GKkrJWVbsAAXSDY.jpg\n",
      "http://98.98.117.121:8082/api/media/photo/download/twitter/GKjwG6hbQAA5RSC.jpg\n",
      "http://98.98.117.121:8082/api/media/photo/download/twitter/GKklohAbQAA21ba.jpg\n",
      "http://98.98.117.121:8082/api/media/photo/download/twitter/GKkqoNHbAAEDjPA.jpg\n",
      "http://98.98.117.121:8082/api/media/photo/download/twitter/GKkqYVNbsAAA7ea.jpg\n",
      "http://98.98.117.121:8082/api/media/photo/download/twitter/GKkqYRkaYAASO3D.jpg\n",
      "http://98.98.117.121:8082/api/media/photo/download/twitter/GKkqVE4aAAAyqJh.jpg\n",
      "http://98.98.117.121:8082/api/media/photo/download/twitter/GKkp7WhbYAAUGNv.jpg\n",
      "http://98.98.117.121:8082/api/media/photo/download/twitter/GKkpWNbaUAAIeHZ.jpg\n",
      "http://98.98.117.121:8082/api/media/photo/download/twitter/GKkpebCaAAAbBFs.jpg\n",
      "http://98.98.117.121:8082/api/media/photo/download/twitter/GKkpiAdbgAA5KG_.jpg\n",
      "http://98.98.117.121:8082/api/media/photo/download/twitter/GKkpfPnasAASpBt.jpg\n",
      "http://98.98.117.121:8082/api/media/photo/download/twitter/GKkpUAEbUAAzxRh.jpg\n",
      "http://98.98.117.121:8082/api/media/photo/download/twitter/GKkpSb1agAAQymU.jpg\n",
      "http://98.98.117.121:8082/api/media/photo/download/twitter/GKkovpFaAAAgZe3.jpg\n"
     ]
    },
    {
     "name": "stdout",
     "output_type": "stream",
     "text": [
      "http://98.98.117.121:8082/api/media/photo/download/twitter/GKkoqWzbEAAbzOC.jpg\n",
      "http://98.98.117.121:8082/api/media/photo/download/twitter/GKkokcDaQAAxmr0.jpg\n",
      "http://98.98.117.121:8082/api/media/photo/download/twitter/GKkokXZawAAVYNx.jpg\n",
      "http://98.98.117.121:8082/api/media/photo/download/twitter/GKkoaXXaoAASR9Y.jpg\n",
      "http://98.98.117.121:8082/api/media/photo/download/twitter/GKkoRDfaMAANEBZ.jpg\n",
      "finished downloading 281 image set\n"
     ]
    }
   ],
   "source": [
    "## get images from server\n",
    "# Example usage:\n",
    "query = \"\"\"\n",
    "select a.id, a.db_id, c.tweet_id, c.filename\n",
    "from ret_available_db a inner join ret_tweet b on a.db_id = b.db_id\n",
    "inner join media_files c on b.id = c.tweet_id\n",
    "where \ta.db_id = %s\n",
    "\"\"\"\n",
    "query = query % str(iJobID)\n",
    "print(query)\n",
    "\n",
    "result_df = execute_query_psql(query)\n",
    "\n",
    "## downloading image set\n",
    "img_prefix_http = \"http://98.98.117.121:8082/api/media/photo/download/twitter/\"\n",
    "folder_path = \"/home/jup_user/multipool/ai-case-study/img\"    # Replace with the desired folder path\n",
    "\n",
    "# download_image(url, folder_path)\n",
    "# clear up folder first\n",
    "clear_image()\n",
    "\n",
    "i = 0\n",
    "for index, row in result_df.iterrows():\n",
    "    # print(result_df.at[index,'filename'])\n",
    "    url = img_prefix_http + result_df.at[index,'filename']\n",
    "    print(url)\n",
    "    download_image(url, folder_path)\n",
    "    i = i +1\n",
    "\n",
    "print(\"finished downloading \" + str(i) + \" image set\" )"
   ]
  },
  {
   "cell_type": "code",
   "execution_count": 6,
   "id": "406c4e8c-9403-4fc5-b1c1-562e1f0cf97a",
   "metadata": {
    "collapsed": true,
    "editable": true,
    "execution": {
     "iopub.execute_input": "2024-04-09T17:08:09.902164Z",
     "iopub.status.busy": "2024-04-09T17:08:09.901903Z",
     "iopub.status.idle": "2024-04-09T17:08:59.971990Z",
     "shell.execute_reply": "2024-04-09T17:08:59.971063Z"
    },
    "jupyter": {
     "outputs_hidden": true
    },
    "slideshow": {
     "slide_type": ""
    },
    "tags": []
   },
   "outputs": [
    {
     "name": "stdout",
     "output_type": "stream",
     "text": [
      "\r",
      "1/1 [==============================] - ETA: 0s"
     ]
    },
    {
     "name": "stdout",
     "output_type": "stream",
     "text": [
      "\b\b\b\b\b\b\b\b\b\b\b\b\b\b\b\b\b\b\b\b\b\b\b\b\b\b\b\b\b\b\b\b\b\b\b\b\b\b\b\b\b\b\b\b\b\b\r",
      "1/1 [==============================] - 0s 248ms/step\n"
     ]
    },
    {
     "name": "stdout",
     "output_type": "stream",
     "text": [
      "\r",
      "1/1 [==============================] - ETA: 0s"
     ]
    },
    {
     "name": "stdout",
     "output_type": "stream",
     "text": [
      "\b\b\b\b\b\b\b\b\b\b\b\b\b\b\b\b\b\b\b\b\b\b\b\b\b\b\b\b\b\b\b\b\b\b\b\b\b\b\b\b\b\b\b\b\b\b\r",
      "1/1 [==============================] - 0s 74ms/step\n"
     ]
    },
    {
     "name": "stdout",
     "output_type": "stream",
     "text": [
      "\r",
      "1/1 [==============================] - ETA: 0s"
     ]
    },
    {
     "name": "stdout",
     "output_type": "stream",
     "text": [
      "\b\b\b\b\b\b\b\b\b\b\b\b\b\b\b\b\b\b\b\b\b\b\b\b\b\b\b\b\b\b\b\b\b\b\b\b\b\b\b\b\b\b\b\b\b\b\r",
      "1/1 [==============================] - 0s 74ms/step\n"
     ]
    },
    {
     "name": "stdout",
     "output_type": "stream",
     "text": [
      "\r",
      "1/1 [==============================] - ETA: 0s"
     ]
    },
    {
     "name": "stdout",
     "output_type": "stream",
     "text": [
      "\b\b\b\b\b\b\b\b\b\b\b\b\b\b\b\b\b\b\b\b\b\b\b\b\b\b\b\b\b\b\b\b\b\b\b\b\b\b\b\b\b\b\b\b\b\b\r",
      "1/1 [==============================] - 0s 72ms/step\n"
     ]
    },
    {
     "name": "stdout",
     "output_type": "stream",
     "text": [
      "\r",
      "1/1 [==============================] - ETA: 0s"
     ]
    },
    {
     "name": "stdout",
     "output_type": "stream",
     "text": [
      "\b\b\b\b\b\b\b\b\b\b\b\b\b\b\b\b\b\b\b\b\b\b\b\b\b\b\b\b\b\b\b\b\b\b\b\b\b\b\b\b\b\b\b\b\b\b\r",
      "1/1 [==============================] - 0s 89ms/step\n"
     ]
    },
    {
     "name": "stdout",
     "output_type": "stream",
     "text": [
      "\r",
      "1/1 [==============================] - ETA: 0s"
     ]
    },
    {
     "name": "stdout",
     "output_type": "stream",
     "text": [
      "\b\b\b\b\b\b\b\b\b\b\b\b\b\b\b\b\b\b\b\b\b\b\b\b\b\b\b\b\b\b\b\b\b\b\b\b\b\b\b\b\b\b\b\b\b\b\r",
      "1/1 [==============================] - 0s 72ms/step\n"
     ]
    },
    {
     "name": "stdout",
     "output_type": "stream",
     "text": [
      "\r",
      "1/1 [==============================] - ETA: 0s"
     ]
    },
    {
     "name": "stdout",
     "output_type": "stream",
     "text": [
      "\b\b\b\b\b\b\b\b\b\b\b\b\b\b\b\b\b\b\b\b\b\b\b\b\b\b\b\b\b\b\b\b\b\b\b\b\b\b\b\b\b\b\b\b\b\b\r",
      "1/1 [==============================] - 0s 72ms/step\n"
     ]
    },
    {
     "name": "stdout",
     "output_type": "stream",
     "text": [
      "\r",
      "1/1 [==============================] - ETA: 0s"
     ]
    },
    {
     "name": "stdout",
     "output_type": "stream",
     "text": [
      "\b\b\b\b\b\b\b\b\b\b\b\b\b\b\b\b\b\b\b\b\b\b\b\b\b\b\b\b\b\b\b\b\b\b\b\b\b\b\b\b\b\b\b\b\b\b\r",
      "1/1 [==============================] - 0s 70ms/step\n"
     ]
    },
    {
     "name": "stdout",
     "output_type": "stream",
     "text": [
      "\r",
      "1/1 [==============================] - ETA: 0s"
     ]
    },
    {
     "name": "stdout",
     "output_type": "stream",
     "text": [
      "\b\b\b\b\b\b\b\b\b\b\b\b\b\b\b\b\b\b\b\b\b\b\b\b\b\b\b\b\b\b\b\b\b\b\b\b\b\b\b\b\b\b\b\b\b\b\r",
      "1/1 [==============================] - 0s 71ms/step\n"
     ]
    },
    {
     "name": "stdout",
     "output_type": "stream",
     "text": [
      "\r",
      "1/1 [==============================] - ETA: 0s"
     ]
    },
    {
     "name": "stdout",
     "output_type": "stream",
     "text": [
      "\b\b\b\b\b\b\b\b\b\b\b\b\b\b\b\b\b\b\b\b\b\b\b\b\b\b\b\b\b\b\b\b\b\b\b\b\b\b\b\b\b\b\b\b\b\b\r",
      "1/1 [==============================] - 0s 70ms/step\n"
     ]
    },
    {
     "name": "stdout",
     "output_type": "stream",
     "text": [
      "\r",
      "1/1 [==============================] - ETA: 0s"
     ]
    },
    {
     "name": "stdout",
     "output_type": "stream",
     "text": [
      "\b\b\b\b\b\b\b\b\b\b\b\b\b\b\b\b\b\b\b\b\b\b\b\b\b\b\b\b\b\b\b\b\b\b\b\b\b\b\b\b\b\b\b\b\b\b\r",
      "1/1 [==============================] - 0s 73ms/step\n"
     ]
    },
    {
     "name": "stdout",
     "output_type": "stream",
     "text": [
      "\r",
      "1/1 [==============================] - ETA: 0s"
     ]
    },
    {
     "name": "stdout",
     "output_type": "stream",
     "text": [
      "\b\b\b\b\b\b\b\b\b\b\b\b\b\b\b\b\b\b\b\b\b\b\b\b\b\b\b\b\b\b\b\b\b\b\b\b\b\b\b\b\b\b\b\b\b\b\r",
      "1/1 [==============================] - 0s 76ms/step\n"
     ]
    },
    {
     "name": "stdout",
     "output_type": "stream",
     "text": [
      "\r",
      "1/1 [==============================] - ETA: 0s"
     ]
    },
    {
     "name": "stdout",
     "output_type": "stream",
     "text": [
      "\b\b\b\b\b\b\b\b\b\b\b\b\b\b\b\b\b\b\b\b\b\b\b\b\b\b\b\b\b\b\b\b\b\b\b\b\b\b\b\b\b\b\b\b\b\b\r",
      "1/1 [==============================] - 0s 70ms/step\n"
     ]
    },
    {
     "name": "stdout",
     "output_type": "stream",
     "text": [
      "\r",
      "1/1 [==============================] - ETA: 0s"
     ]
    },
    {
     "name": "stdout",
     "output_type": "stream",
     "text": [
      "\b\b\b\b\b\b\b\b\b\b\b\b\b\b\b\b\b\b\b\b\b\b\b\b\b\b\b\b\b\b\b\b\b\b\b\b\b\b\b\b\b\b\b\b\b\b\r",
      "1/1 [==============================] - 0s 68ms/step\n"
     ]
    },
    {
     "name": "stdout",
     "output_type": "stream",
     "text": [
      "\r",
      "1/1 [==============================] - ETA: 0s"
     ]
    },
    {
     "name": "stdout",
     "output_type": "stream",
     "text": [
      "\b\b\b\b\b\b\b\b\b\b\b\b\b\b\b\b\b\b\b\b\b\b\b\b\b\b\b\b\b\b\b\b\b\b\b\b\b\b\b\b\b\b\b\b\b\b\r",
      "1/1 [==============================] - 0s 93ms/step\n"
     ]
    },
    {
     "name": "stdout",
     "output_type": "stream",
     "text": [
      "\r",
      "1/1 [==============================] - ETA: 0s"
     ]
    },
    {
     "name": "stdout",
     "output_type": "stream",
     "text": [
      "\b\b\b\b\b\b\b\b\b\b\b\b\b\b\b\b\b\b\b\b\b\b\b\b\b\b\b\b\b\b\b\b\b\b\b\b\b\b\b\b\b\b\b\b\b\b\r",
      "1/1 [==============================] - 0s 90ms/step\n"
     ]
    },
    {
     "name": "stdout",
     "output_type": "stream",
     "text": [
      "\r",
      "1/1 [==============================] - ETA: 0s"
     ]
    },
    {
     "name": "stdout",
     "output_type": "stream",
     "text": [
      "\b\b\b\b\b\b\b\b\b\b\b\b\b\b\b\b\b\b\b\b\b\b\b\b\b\b\b\b\b\b\b\b\b\b\b\b\b\b\b\b\b\b\b\b\b\b\r",
      "1/1 [==============================] - 0s 71ms/step\n"
     ]
    },
    {
     "name": "stdout",
     "output_type": "stream",
     "text": [
      "\r",
      "1/1 [==============================] - ETA: 0s"
     ]
    },
    {
     "name": "stdout",
     "output_type": "stream",
     "text": [
      "\b\b\b\b\b\b\b\b\b\b\b\b\b\b\b\b\b\b\b\b\b\b\b\b\b\b\b\b\b\b\b\b\b\b\b\b\b\b\b\b\b\b\b\b\b\b\r",
      "1/1 [==============================] - 0s 69ms/step\n"
     ]
    },
    {
     "name": "stdout",
     "output_type": "stream",
     "text": [
      "\r",
      "1/1 [==============================] - ETA: 0s"
     ]
    },
    {
     "name": "stdout",
     "output_type": "stream",
     "text": [
      "\b\b\b\b\b\b\b\b\b\b\b\b\b\b\b\b\b\b\b\b\b\b\b\b\b\b\b\b\b\b\b\b\b\b\b\b\b\b\b\b\b\b\b\b\b\b\r",
      "1/1 [==============================] - 0s 74ms/step\n"
     ]
    },
    {
     "name": "stdout",
     "output_type": "stream",
     "text": [
      "\r",
      "1/1 [==============================] - ETA: 0s"
     ]
    },
    {
     "name": "stdout",
     "output_type": "stream",
     "text": [
      "\b\b\b\b\b\b\b\b\b\b\b\b\b\b\b\b\b\b\b\b\b\b\b\b\b\b\b\b\b\b\b\b\b\b\b\b\b\b\b\b\b\b\b\b\b\b\r",
      "1/1 [==============================] - 0s 77ms/step\n"
     ]
    },
    {
     "name": "stdout",
     "output_type": "stream",
     "text": [
      "\r",
      "1/1 [==============================] - ETA: 0s"
     ]
    },
    {
     "name": "stdout",
     "output_type": "stream",
     "text": [
      "\b\b\b\b\b\b\b\b\b\b\b\b\b\b\b\b\b\b\b\b\b\b\b\b\b\b\b\b\b\b\b\b\b\b\b\b\b\b\b\b\b\b\b\b\b\b\r",
      "1/1 [==============================] - 0s 68ms/step\n"
     ]
    },
    {
     "name": "stdout",
     "output_type": "stream",
     "text": [
      "\r",
      "1/1 [==============================] - ETA: 0s"
     ]
    },
    {
     "name": "stdout",
     "output_type": "stream",
     "text": [
      "\b\b\b\b\b\b\b\b\b\b\b\b\b\b\b\b\b\b\b\b\b\b\b\b\b\b\b\b\b\b\b\b\b\b\b\b\b\b\b\b\b\b\b\b\b\b\r",
      "1/1 [==============================] - 0s 66ms/step\n"
     ]
    },
    {
     "name": "stdout",
     "output_type": "stream",
     "text": [
      "\r",
      "1/1 [==============================] - ETA: 0s"
     ]
    },
    {
     "name": "stdout",
     "output_type": "stream",
     "text": [
      "\b\b\b\b\b\b\b\b\b\b\b\b\b\b\b\b\b\b\b\b\b\b\b\b\b\b\b\b\b\b\b\b\b\b\b\b\b\b\b\b\b\b\b\b\b\b\r",
      "1/1 [==============================] - 0s 78ms/step\n"
     ]
    },
    {
     "name": "stdout",
     "output_type": "stream",
     "text": [
      "\r",
      "1/1 [==============================] - ETA: 0s"
     ]
    },
    {
     "name": "stdout",
     "output_type": "stream",
     "text": [
      "\b\b\b\b\b\b\b\b\b\b\b\b\b\b\b\b\b\b\b\b\b\b\b\b\b\b\b\b\b\b\b\b\b\b\b\b\b\b\b\b\b\b\b\b\b\b\r",
      "1/1 [==============================] - 0s 72ms/step\n"
     ]
    },
    {
     "name": "stdout",
     "output_type": "stream",
     "text": [
      "\r",
      "1/1 [==============================] - ETA: 0s"
     ]
    },
    {
     "name": "stdout",
     "output_type": "stream",
     "text": [
      "\b\b\b\b\b\b\b\b\b\b\b\b\b\b\b\b\b\b\b\b\b\b\b\b\b\b\b\b\b\b\b\b\b\b\b\b\b\b\b\b\b\b\b\b\b\b\r",
      "1/1 [==============================] - 0s 70ms/step\n"
     ]
    },
    {
     "name": "stdout",
     "output_type": "stream",
     "text": [
      "\r",
      "1/1 [==============================] - ETA: 0s"
     ]
    },
    {
     "name": "stdout",
     "output_type": "stream",
     "text": [
      "\b\b\b\b\b\b\b\b\b\b\b\b\b\b\b\b\b\b\b\b\b\b\b\b\b\b\b\b\b\b\b\b\b\b\b\b\b\b\b\b\b\b\b\b\b\b\r",
      "1/1 [==============================] - 0s 66ms/step\n"
     ]
    },
    {
     "name": "stdout",
     "output_type": "stream",
     "text": [
      "\r",
      "1/1 [==============================] - ETA: 0s"
     ]
    },
    {
     "name": "stdout",
     "output_type": "stream",
     "text": [
      "\b\b\b\b\b\b\b\b\b\b\b\b\b\b\b\b\b\b\b\b\b\b\b\b\b\b\b\b\b\b\b\b\b\b\b\b\b\b\b\b\b\b\b\b\b\b\r",
      "1/1 [==============================] - 0s 67ms/step\n"
     ]
    },
    {
     "name": "stdout",
     "output_type": "stream",
     "text": [
      "\r",
      "1/1 [==============================] - ETA: 0s"
     ]
    },
    {
     "name": "stdout",
     "output_type": "stream",
     "text": [
      "\b\b\b\b\b\b\b\b\b\b\b\b\b\b\b\b\b\b\b\b\b\b\b\b\b\b\b\b\b\b\b\b\b\b\b\b\b\b\b\b\b\b\b\b\b\b\r",
      "1/1 [==============================] - 0s 74ms/step\n"
     ]
    },
    {
     "name": "stdout",
     "output_type": "stream",
     "text": [
      "\r",
      "1/1 [==============================] - ETA: 0s"
     ]
    },
    {
     "name": "stdout",
     "output_type": "stream",
     "text": [
      "\b\b\b\b\b\b\b\b\b\b\b\b\b\b\b\b\b\b\b\b\b\b\b\b\b\b\b\b\b\b\b\b\b\b\b\b\b\b\b\b\b\b\b\b\b\b\r",
      "1/1 [==============================] - 0s 68ms/step\n"
     ]
    },
    {
     "name": "stdout",
     "output_type": "stream",
     "text": [
      "\r",
      "1/1 [==============================] - ETA: 0s"
     ]
    },
    {
     "name": "stdout",
     "output_type": "stream",
     "text": [
      "\b\b\b\b\b\b\b\b\b\b\b\b\b\b\b\b\b\b\b\b\b\b\b\b\b\b\b\b\b\b\b\b\b\b\b\b\b\b\b\b\b\b\b\b\b\b\r",
      "1/1 [==============================] - 0s 78ms/step\n"
     ]
    },
    {
     "name": "stdout",
     "output_type": "stream",
     "text": [
      "\r",
      "1/1 [==============================] - ETA: 0s"
     ]
    },
    {
     "name": "stdout",
     "output_type": "stream",
     "text": [
      "\b\b\b\b\b\b\b\b\b\b\b\b\b\b\b\b\b\b\b\b\b\b\b\b\b\b\b\b\b\b\b\b\b\b\b\b\b\b\b\b\b\b\b\b\b\b\r",
      "1/1 [==============================] - 0s 94ms/step\n"
     ]
    },
    {
     "name": "stdout",
     "output_type": "stream",
     "text": [
      "\r",
      "1/1 [==============================] - ETA: 0s"
     ]
    },
    {
     "name": "stdout",
     "output_type": "stream",
     "text": [
      "\b\b\b\b\b\b\b\b\b\b\b\b\b\b\b\b\b\b\b\b\b\b\b\b\b\b\b\b\b\b\b\b\b\b\b\b\b\b\b\b\b\b\b\b\b\b\r",
      "1/1 [==============================] - 0s 95ms/step\n"
     ]
    },
    {
     "name": "stdout",
     "output_type": "stream",
     "text": [
      "\r",
      "1/1 [==============================] - ETA: 0s"
     ]
    },
    {
     "name": "stdout",
     "output_type": "stream",
     "text": [
      "\b\b\b\b\b\b\b\b\b\b\b\b\b\b\b\b\b\b\b\b\b\b\b\b\b\b\b\b\b\b\b\b\b\b\b\b\b\b\b\b\b\b\b\b\b\b\r",
      "1/1 [==============================] - 0s 98ms/step\n"
     ]
    },
    {
     "name": "stdout",
     "output_type": "stream",
     "text": [
      "\r",
      "1/1 [==============================] - ETA: 0s"
     ]
    },
    {
     "name": "stdout",
     "output_type": "stream",
     "text": [
      "\b\b\b\b\b\b\b\b\b\b\b\b\b\b\b\b\b\b\b\b\b\b\b\b\b\b\b\b\b\b\b\b\b\b\b\b\b\b\b\b\b\b\b\b\b\b\r",
      "1/1 [==============================] - 0s 94ms/step\n"
     ]
    },
    {
     "name": "stdout",
     "output_type": "stream",
     "text": [
      "\r",
      "1/1 [==============================] - ETA: 0s"
     ]
    },
    {
     "name": "stdout",
     "output_type": "stream",
     "text": [
      "\b\b\b\b\b\b\b\b\b\b\b\b\b\b\b\b\b\b\b\b\b\b\b\b\b\b\b\b\b\b\b\b\b\b\b\b\b\b\b\b\b\b\b\b\b\b\r",
      "1/1 [==============================] - 0s 88ms/step\n"
     ]
    },
    {
     "name": "stdout",
     "output_type": "stream",
     "text": [
      "\r",
      "1/1 [==============================] - ETA: 0s"
     ]
    },
    {
     "name": "stdout",
     "output_type": "stream",
     "text": [
      "\b\b\b\b\b\b\b\b\b\b\b\b\b\b\b\b\b\b\b\b\b\b\b\b\b\b\b\b\b\b\b\b\b\b\b\b\b\b\b\b\b\b\b\b\b\b\r",
      "1/1 [==============================] - 0s 73ms/step\n"
     ]
    },
    {
     "name": "stdout",
     "output_type": "stream",
     "text": [
      "\r",
      "1/1 [==============================] - ETA: 0s"
     ]
    },
    {
     "name": "stdout",
     "output_type": "stream",
     "text": [
      "\b\b\b\b\b\b\b\b\b\b\b\b\b\b\b\b\b\b\b\b\b\b\b\b\b\b\b\b\b\b\b\b\b\b\b\b\b\b\b\b\b\b\b\b\b\b\r",
      "1/1 [==============================] - 0s 73ms/step\n"
     ]
    },
    {
     "name": "stdout",
     "output_type": "stream",
     "text": [
      "\r",
      "1/1 [==============================] - ETA: 0s"
     ]
    },
    {
     "name": "stdout",
     "output_type": "stream",
     "text": [
      "\b\b\b\b\b\b\b\b\b\b\b\b\b\b\b\b\b\b\b\b\b\b\b\b\b\b\b\b\b\b\b\b\b\b\b\b\b\b\b\b\b\b\b\b\b\b\r",
      "1/1 [==============================] - 0s 80ms/step\n"
     ]
    },
    {
     "name": "stdout",
     "output_type": "stream",
     "text": [
      "\r",
      "1/1 [==============================] - ETA: 0s"
     ]
    },
    {
     "name": "stdout",
     "output_type": "stream",
     "text": [
      "\b\b\b\b\b\b\b\b\b\b\b\b\b\b\b\b\b\b\b\b\b\b\b\b\b\b\b\b\b\b\b\b\b\b\b\b\b\b\b\b\b\b\b\b\b\b\r",
      "1/1 [==============================] - 0s 77ms/step\n"
     ]
    },
    {
     "name": "stdout",
     "output_type": "stream",
     "text": [
      "\r",
      "1/1 [==============================] - ETA: 0s"
     ]
    },
    {
     "name": "stdout",
     "output_type": "stream",
     "text": [
      "\b\b\b\b\b\b\b\b\b\b\b\b\b\b\b\b\b\b\b\b\b\b\b\b\b\b\b\b\b\b\b\b\b\b\b\b\b\b\b\b\b\b\b\b\b\b\r",
      "1/1 [==============================] - 0s 69ms/step\n"
     ]
    },
    {
     "name": "stdout",
     "output_type": "stream",
     "text": [
      "\r",
      "1/1 [==============================] - ETA: 0s"
     ]
    },
    {
     "name": "stdout",
     "output_type": "stream",
     "text": [
      "\b\b\b\b\b\b\b\b\b\b\b\b\b\b\b\b\b\b\b\b\b\b\b\b\b\b\b\b\b\b\b\b\b\b\b\b\b\b\b\b\b\b\b\b\b\b\r",
      "1/1 [==============================] - 0s 73ms/step\n"
     ]
    },
    {
     "name": "stdout",
     "output_type": "stream",
     "text": [
      "\r",
      "1/1 [==============================] - ETA: 0s"
     ]
    },
    {
     "name": "stdout",
     "output_type": "stream",
     "text": [
      "\b\b\b\b\b\b\b\b\b\b\b\b\b\b\b\b\b\b\b\b\b\b\b\b\b\b\b\b\b\b\b\b\b\b\b\b\b\b\b\b\b\b\b\b\b\b\r",
      "1/1 [==============================] - 0s 68ms/step\n"
     ]
    },
    {
     "name": "stdout",
     "output_type": "stream",
     "text": [
      "\r",
      "1/1 [==============================] - ETA: 0s"
     ]
    },
    {
     "name": "stdout",
     "output_type": "stream",
     "text": [
      "\b\b\b\b\b\b\b\b\b\b\b\b\b\b\b\b\b\b\b\b\b\b\b\b\b\b\b\b\b\b\b\b\b\b\b\b\b\b\b\b\b\b\b\b\b\b\r",
      "1/1 [==============================] - 0s 71ms/step\n"
     ]
    },
    {
     "name": "stdout",
     "output_type": "stream",
     "text": [
      "\r",
      "1/1 [==============================] - ETA: 0s"
     ]
    },
    {
     "name": "stdout",
     "output_type": "stream",
     "text": [
      "\b\b\b\b\b\b\b\b\b\b\b\b\b\b\b\b\b\b\b\b\b\b\b\b\b\b\b\b\b\b\b\b\b\b\b\b\b\b\b\b\b\b\b\b\b\b\r",
      "1/1 [==============================] - 0s 67ms/step\n"
     ]
    },
    {
     "name": "stdout",
     "output_type": "stream",
     "text": [
      "\r",
      "1/1 [==============================] - ETA: 0s"
     ]
    },
    {
     "name": "stdout",
     "output_type": "stream",
     "text": [
      "\b\b\b\b\b\b\b\b\b\b\b\b\b\b\b\b\b\b\b\b\b\b\b\b\b\b\b\b\b\b\b\b\b\b\b\b\b\b\b\b\b\b\b\b\b\b\r",
      "1/1 [==============================] - 0s 71ms/step\n"
     ]
    },
    {
     "name": "stdout",
     "output_type": "stream",
     "text": [
      "\r",
      "1/1 [==============================] - ETA: 0s"
     ]
    },
    {
     "name": "stdout",
     "output_type": "stream",
     "text": [
      "\b\b\b\b\b\b\b\b\b\b\b\b\b\b\b\b\b\b\b\b\b\b\b\b\b\b\b\b\b\b\b\b\b\b\b\b\b\b\b\b\b\b\b\b\b\b\r",
      "1/1 [==============================] - 0s 97ms/step\n"
     ]
    },
    {
     "name": "stdout",
     "output_type": "stream",
     "text": [
      "\r",
      "1/1 [==============================] - ETA: 0s"
     ]
    },
    {
     "name": "stdout",
     "output_type": "stream",
     "text": [
      "\b\b\b\b\b\b\b\b\b\b\b\b\b\b\b\b\b\b\b\b\b\b\b\b\b\b\b\b\b\b\b\b\b\b\b\b\b\b\b\b\b\b\b\b\b\b\r",
      "1/1 [==============================] - 0s 91ms/step\n"
     ]
    },
    {
     "name": "stdout",
     "output_type": "stream",
     "text": [
      "\r",
      "1/1 [==============================] - ETA: 0s"
     ]
    },
    {
     "name": "stdout",
     "output_type": "stream",
     "text": [
      "\b\b\b\b\b\b\b\b\b\b\b\b\b\b\b\b\b\b\b\b\b\b\b\b\b\b\b\b\b\b\b\b\b\b\b\b\b\b\b\b\b\b\b\b\b\b\r",
      "1/1 [==============================] - 0s 87ms/step\n"
     ]
    },
    {
     "name": "stdout",
     "output_type": "stream",
     "text": [
      "\r",
      "1/1 [==============================] - ETA: 0s"
     ]
    },
    {
     "name": "stdout",
     "output_type": "stream",
     "text": [
      "\b\b\b\b\b\b\b\b\b\b\b\b\b\b\b\b\b\b\b\b\b\b\b\b\b\b\b\b\b\b\b\b\b\b\b\b\b\b\b\b\b\b\b\b\b\b\r",
      "1/1 [==============================] - 0s 70ms/step\n"
     ]
    },
    {
     "name": "stdout",
     "output_type": "stream",
     "text": [
      "\r",
      "1/1 [==============================] - ETA: 0s"
     ]
    },
    {
     "name": "stdout",
     "output_type": "stream",
     "text": [
      "\b\b\b\b\b\b\b\b\b\b\b\b\b\b\b\b\b\b\b\b\b\b\b\b\b\b\b\b\b\b\b\b\b\b\b\b\b\b\b\b\b\b\b\b\b\b\r",
      "1/1 [==============================] - 0s 93ms/step\n"
     ]
    },
    {
     "name": "stdout",
     "output_type": "stream",
     "text": [
      "\r",
      "1/1 [==============================] - ETA: 0s"
     ]
    },
    {
     "name": "stdout",
     "output_type": "stream",
     "text": [
      "\b\b\b\b\b\b\b\b\b\b\b\b\b\b\b\b\b\b\b\b\b\b\b\b\b\b\b\b\b\b\b\b\b\b\b\b\b\b\b\b\b\b\b\b\b\b\r",
      "1/1 [==============================] - 0s 93ms/step\n"
     ]
    },
    {
     "name": "stdout",
     "output_type": "stream",
     "text": [
      "\r",
      "1/1 [==============================] - ETA: 0s"
     ]
    },
    {
     "name": "stdout",
     "output_type": "stream",
     "text": [
      "\b\b\b\b\b\b\b\b\b\b\b\b\b\b\b\b\b\b\b\b\b\b\b\b\b\b\b\b\b\b\b\b\b\b\b\b\b\b\b\b\b\b\b\b\b\b\r",
      "1/1 [==============================] - 0s 91ms/step\n"
     ]
    },
    {
     "name": "stdout",
     "output_type": "stream",
     "text": [
      "\r",
      "1/1 [==============================] - ETA: 0s"
     ]
    },
    {
     "name": "stdout",
     "output_type": "stream",
     "text": [
      "\b\b\b\b\b\b\b\b\b\b\b\b\b\b\b\b\b\b\b\b\b\b\b\b\b\b\b\b\b\b\b\b\b\b\b\b\b\b\b\b\b\b\b\b\b\b\r",
      "1/1 [==============================] - 0s 90ms/step\n"
     ]
    },
    {
     "name": "stdout",
     "output_type": "stream",
     "text": [
      "\r",
      "1/1 [==============================] - ETA: 0s"
     ]
    },
    {
     "name": "stdout",
     "output_type": "stream",
     "text": [
      "\b\b\b\b\b\b\b\b\b\b\b\b\b\b\b\b\b\b\b\b\b\b\b\b\b\b\b\b\b\b\b\b\b\b\b\b\b\b\b\b\b\b\b\b\b\b\r",
      "1/1 [==============================] - 0s 60ms/step\n"
     ]
    },
    {
     "name": "stdout",
     "output_type": "stream",
     "text": [
      "\r",
      "1/1 [==============================] - ETA: 0s"
     ]
    },
    {
     "name": "stdout",
     "output_type": "stream",
     "text": [
      "\b\b\b\b\b\b\b\b\b\b\b\b\b\b\b\b\b\b\b\b\b\b\b\b\b\b\b\b\b\b\b\b\b\b\b\b\b\b\b\b\b\b\b\b\b\b\r",
      "1/1 [==============================] - 0s 64ms/step\n"
     ]
    },
    {
     "name": "stdout",
     "output_type": "stream",
     "text": [
      "\r",
      "1/1 [==============================] - ETA: 0s"
     ]
    },
    {
     "name": "stdout",
     "output_type": "stream",
     "text": [
      "\b\b\b\b\b\b\b\b\b\b\b\b\b\b\b\b\b\b\b\b\b\b\b\b\b\b\b\b\b\b\b\b\b\b\b\b\b\b\b\b\b\b\b\b\b\b\r",
      "1/1 [==============================] - 0s 63ms/step\n"
     ]
    },
    {
     "name": "stdout",
     "output_type": "stream",
     "text": [
      "\r",
      "1/1 [==============================] - ETA: 0s"
     ]
    },
    {
     "name": "stdout",
     "output_type": "stream",
     "text": [
      "\b\b\b\b\b\b\b\b\b\b\b\b\b\b\b\b\b\b\b\b\b\b\b\b\b\b\b\b\b\b\b\b\b\b\b\b\b\b\b\b\b\b\b\b\b\b\r",
      "1/1 [==============================] - 0s 91ms/step\n"
     ]
    },
    {
     "name": "stdout",
     "output_type": "stream",
     "text": [
      "\r",
      "1/1 [==============================] - ETA: 0s"
     ]
    },
    {
     "name": "stdout",
     "output_type": "stream",
     "text": [
      "\b\b\b\b\b\b\b\b\b\b\b\b\b\b\b\b\b\b\b\b\b\b\b\b\b\b\b\b\b\b\b\b\b\b\b\b\b\b\b\b\b\b\b\b\b\b\r",
      "1/1 [==============================] - 0s 90ms/step\n"
     ]
    },
    {
     "name": "stdout",
     "output_type": "stream",
     "text": [
      "\r",
      "1/1 [==============================] - ETA: 0s"
     ]
    },
    {
     "name": "stdout",
     "output_type": "stream",
     "text": [
      "\b\b\b\b\b\b\b\b\b\b\b\b\b\b\b\b\b\b\b\b\b\b\b\b\b\b\b\b\b\b\b\b\b\b\b\b\b\b\b\b\b\b\b\b\b\b\r",
      "1/1 [==============================] - 0s 78ms/step\n"
     ]
    },
    {
     "name": "stdout",
     "output_type": "stream",
     "text": [
      "\r",
      "1/1 [==============================] - ETA: 0s"
     ]
    },
    {
     "name": "stdout",
     "output_type": "stream",
     "text": [
      "\b\b\b\b\b\b\b\b\b\b\b\b\b\b\b\b\b\b\b\b\b\b\b\b\b\b\b\b\b\b\b\b\b\b\b\b\b\b\b\b\b\b\b\b\b\b\r",
      "1/1 [==============================] - 0s 90ms/step\n"
     ]
    },
    {
     "name": "stdout",
     "output_type": "stream",
     "text": [
      "\r",
      "1/1 [==============================] - ETA: 0s"
     ]
    },
    {
     "name": "stdout",
     "output_type": "stream",
     "text": [
      "\b\b\b\b\b\b\b\b\b\b\b\b\b\b\b\b\b\b\b\b\b\b\b\b\b\b\b\b\b\b\b\b\b\b\b\b\b\b\b\b\b\b\b\b\b\b\r",
      "1/1 [==============================] - 0s 68ms/step\n"
     ]
    },
    {
     "name": "stdout",
     "output_type": "stream",
     "text": [
      "\r",
      "1/1 [==============================] - ETA: 0s"
     ]
    },
    {
     "name": "stdout",
     "output_type": "stream",
     "text": [
      "\b\b\b\b\b\b\b\b\b\b\b\b\b\b\b\b\b\b\b\b\b\b\b\b\b\b\b\b\b\b\b\b\b\b\b\b\b\b\b\b\b\b\b\b\b\b\r",
      "1/1 [==============================] - 0s 65ms/step\n"
     ]
    },
    {
     "name": "stdout",
     "output_type": "stream",
     "text": [
      "\r",
      "1/1 [==============================] - ETA: 0s"
     ]
    },
    {
     "name": "stdout",
     "output_type": "stream",
     "text": [
      "\b\b\b\b\b\b\b\b\b\b\b\b\b\b\b\b\b\b\b\b\b\b\b\b\b\b\b\b\b\b\b\b\b\b\b\b\b\b\b\b\b\b\b\b\b\b\r",
      "1/1 [==============================] - 0s 62ms/step\n"
     ]
    },
    {
     "name": "stdout",
     "output_type": "stream",
     "text": [
      "\r",
      "1/1 [==============================] - ETA: 0s"
     ]
    },
    {
     "name": "stdout",
     "output_type": "stream",
     "text": [
      "\b\b\b\b\b\b\b\b\b\b\b\b\b\b\b\b\b\b\b\b\b\b\b\b\b\b\b\b\b\b\b\b\b\b\b\b\b\b\b\b\b\b\b\b\b\b\r",
      "1/1 [==============================] - 0s 66ms/step\n"
     ]
    },
    {
     "name": "stdout",
     "output_type": "stream",
     "text": [
      "\r",
      "1/1 [==============================] - ETA: 0s"
     ]
    },
    {
     "name": "stdout",
     "output_type": "stream",
     "text": [
      "\b\b\b\b\b\b\b\b\b\b\b\b\b\b\b\b\b\b\b\b\b\b\b\b\b\b\b\b\b\b\b\b\b\b\b\b\b\b\b\b\b\b\b\b\b\b\r",
      "1/1 [==============================] - 0s 65ms/step\n"
     ]
    },
    {
     "name": "stdout",
     "output_type": "stream",
     "text": [
      "\r",
      "1/1 [==============================] - ETA: 0s"
     ]
    },
    {
     "name": "stdout",
     "output_type": "stream",
     "text": [
      "\b\b\b\b\b\b\b\b\b\b\b\b\b\b\b\b\b\b\b\b\b\b\b\b\b\b\b\b\b\b\b\b\b\b\b\b\b\b\b\b\b\b\b\b\b\b\r",
      "1/1 [==============================] - 0s 64ms/step\n"
     ]
    },
    {
     "name": "stdout",
     "output_type": "stream",
     "text": [
      "\r",
      "1/1 [==============================] - ETA: 0s"
     ]
    },
    {
     "name": "stdout",
     "output_type": "stream",
     "text": [
      "\b\b\b\b\b\b\b\b\b\b\b\b\b\b\b\b\b\b\b\b\b\b\b\b\b\b\b\b\b\b\b\b\b\b\b\b\b\b\b\b\b\b\b\b\b\b\r",
      "1/1 [==============================] - 0s 64ms/step\n"
     ]
    },
    {
     "name": "stdout",
     "output_type": "stream",
     "text": [
      "\r",
      "1/1 [==============================] - ETA: 0s"
     ]
    },
    {
     "name": "stdout",
     "output_type": "stream",
     "text": [
      "\b\b\b\b\b\b\b\b\b\b\b\b\b\b\b\b\b\b\b\b\b\b\b\b\b\b\b\b\b\b\b\b\b\b\b\b\b\b\b\b\b\b\b\b\b\b\r",
      "1/1 [==============================] - 0s 62ms/step\n"
     ]
    },
    {
     "name": "stdout",
     "output_type": "stream",
     "text": [
      "\r",
      "1/1 [==============================] - ETA: 0s"
     ]
    },
    {
     "name": "stdout",
     "output_type": "stream",
     "text": [
      "\b\b\b\b\b\b\b\b\b\b\b\b\b\b\b\b\b\b\b\b\b\b\b\b\b\b\b\b\b\b\b\b\b\b\b\b\b\b\b\b\b\b\b\b\b\b\r",
      "1/1 [==============================] - 0s 66ms/step\n"
     ]
    },
    {
     "name": "stdout",
     "output_type": "stream",
     "text": [
      "\r",
      "1/1 [==============================] - ETA: 0s"
     ]
    },
    {
     "name": "stdout",
     "output_type": "stream",
     "text": [
      "\b\b\b\b\b\b\b\b\b\b\b\b\b\b\b\b\b\b\b\b\b\b\b\b\b\b\b\b\b\b\b\b\b\b\b\b\b\b\b\b\b\b\b\b\b\b\r",
      "1/1 [==============================] - 0s 63ms/step\n"
     ]
    },
    {
     "name": "stdout",
     "output_type": "stream",
     "text": [
      "\r",
      "1/1 [==============================] - ETA: 0s"
     ]
    },
    {
     "name": "stdout",
     "output_type": "stream",
     "text": [
      "\b\b\b\b\b\b\b\b\b\b\b\b\b\b\b\b\b\b\b\b\b\b\b\b\b\b\b\b\b\b\b\b\b\b\b\b\b\b\b\b\b\b\b\b\b\b\r",
      "1/1 [==============================] - 0s 64ms/step\n"
     ]
    },
    {
     "name": "stdout",
     "output_type": "stream",
     "text": [
      "\r",
      "1/1 [==============================] - ETA: 0s"
     ]
    },
    {
     "name": "stdout",
     "output_type": "stream",
     "text": [
      "\b\b\b\b\b\b\b\b\b\b\b\b\b\b\b\b\b\b\b\b\b\b\b\b\b\b\b\b\b\b\b\b\b\b\b\b\b\b\b\b\b\b\b\b\b\b\r",
      "1/1 [==============================] - 0s 63ms/step\n"
     ]
    },
    {
     "name": "stdout",
     "output_type": "stream",
     "text": [
      "\r",
      "1/1 [==============================] - ETA: 0s"
     ]
    },
    {
     "name": "stdout",
     "output_type": "stream",
     "text": [
      "\b\b\b\b\b\b\b\b\b\b\b\b\b\b\b\b\b\b\b\b\b\b\b\b\b\b\b\b\b\b\b\b\b\b\b\b\b\b\b\b\b\b\b\b\b\b\r",
      "1/1 [==============================] - 0s 65ms/step\n"
     ]
    },
    {
     "name": "stdout",
     "output_type": "stream",
     "text": [
      "\r",
      "1/1 [==============================] - ETA: 0s"
     ]
    },
    {
     "name": "stdout",
     "output_type": "stream",
     "text": [
      "\b\b\b\b\b\b\b\b\b\b\b\b\b\b\b\b\b\b\b\b\b\b\b\b\b\b\b\b\b\b\b\b\b\b\b\b\b\b\b\b\b\b\b\b\b\b\r",
      "1/1 [==============================] - 0s 64ms/step\n"
     ]
    },
    {
     "name": "stdout",
     "output_type": "stream",
     "text": [
      "\r",
      "1/1 [==============================] - ETA: 0s"
     ]
    },
    {
     "name": "stdout",
     "output_type": "stream",
     "text": [
      "\b\b\b\b\b\b\b\b\b\b\b\b\b\b\b\b\b\b\b\b\b\b\b\b\b\b\b\b\b\b\b\b\b\b\b\b\b\b\b\b\b\b\b\b\b\b\r",
      "1/1 [==============================] - 0s 62ms/step\n"
     ]
    },
    {
     "name": "stdout",
     "output_type": "stream",
     "text": [
      "\r",
      "1/1 [==============================] - ETA: 0s"
     ]
    },
    {
     "name": "stdout",
     "output_type": "stream",
     "text": [
      "\b\b\b\b\b\b\b\b\b\b\b\b\b\b\b\b\b\b\b\b\b\b\b\b\b\b\b\b\b\b\b\b\b\b\b\b\b\b\b\b\b\b\b\b\b\b\r",
      "1/1 [==============================] - 0s 63ms/step\n"
     ]
    },
    {
     "name": "stdout",
     "output_type": "stream",
     "text": [
      "\r",
      "1/1 [==============================] - ETA: 0s"
     ]
    },
    {
     "name": "stdout",
     "output_type": "stream",
     "text": [
      "\b\b\b\b\b\b\b\b\b\b\b\b\b\b\b\b\b\b\b\b\b\b\b\b\b\b\b\b\b\b\b\b\b\b\b\b\b\b\b\b\b\b\b\b\b\b\r",
      "1/1 [==============================] - 0s 65ms/step\n"
     ]
    },
    {
     "name": "stdout",
     "output_type": "stream",
     "text": [
      "\r",
      "1/1 [==============================] - ETA: 0s"
     ]
    },
    {
     "name": "stdout",
     "output_type": "stream",
     "text": [
      "\b\b\b\b\b\b\b\b\b\b\b\b\b\b\b\b\b\b\b\b\b\b\b\b\b\b\b\b\b\b\b\b\b\b\b\b\b\b\b\b\b\b\b\b\b\b\r",
      "1/1 [==============================] - 0s 62ms/step\n"
     ]
    },
    {
     "name": "stdout",
     "output_type": "stream",
     "text": [
      "\r",
      "1/1 [==============================] - ETA: 0s"
     ]
    },
    {
     "name": "stdout",
     "output_type": "stream",
     "text": [
      "\b\b\b\b\b\b\b\b\b\b\b\b\b\b\b\b\b\b\b\b\b\b\b\b\b\b\b\b\b\b\b\b\b\b\b\b\b\b\b\b\b\b\b\b\b\b\r",
      "1/1 [==============================] - 0s 59ms/step\n"
     ]
    },
    {
     "name": "stdout",
     "output_type": "stream",
     "text": [
      "\r",
      "1/1 [==============================] - ETA: 0s"
     ]
    },
    {
     "name": "stdout",
     "output_type": "stream",
     "text": [
      "\b\b\b\b\b\b\b\b\b\b\b\b\b\b\b\b\b\b\b\b\b\b\b\b\b\b\b\b\b\b\b\b\b\b\b\b\b\b\b\b\b\b\b\b\b\b\r",
      "1/1 [==============================] - 0s 65ms/step\n"
     ]
    },
    {
     "name": "stdout",
     "output_type": "stream",
     "text": [
      "\r",
      "1/1 [==============================] - ETA: 0s"
     ]
    },
    {
     "name": "stdout",
     "output_type": "stream",
     "text": [
      "\b\b\b\b\b\b\b\b\b\b\b\b\b\b\b\b\b\b\b\b\b\b\b\b\b\b\b\b\b\b\b\b\b\b\b\b\b\b\b\b\b\b\b\b\b\b\r",
      "1/1 [==============================] - 0s 63ms/step\n"
     ]
    },
    {
     "name": "stdout",
     "output_type": "stream",
     "text": [
      "\r",
      "1/1 [==============================] - ETA: 0s"
     ]
    },
    {
     "name": "stdout",
     "output_type": "stream",
     "text": [
      "\b\b\b\b\b\b\b\b\b\b\b\b\b\b\b\b\b\b\b\b\b\b\b\b\b\b\b\b\b\b\b\b\b\b\b\b\b\b\b\b\b\b\b\b\b\b\r",
      "1/1 [==============================] - 0s 61ms/step\n"
     ]
    },
    {
     "name": "stdout",
     "output_type": "stream",
     "text": [
      "\r",
      "1/1 [==============================] - ETA: 0s"
     ]
    },
    {
     "name": "stdout",
     "output_type": "stream",
     "text": [
      "\b\b\b\b\b\b\b\b\b\b\b\b\b\b\b\b\b\b\b\b\b\b\b\b\b\b\b\b\b\b\b\b\b\b\b\b\b\b\b\b\b\b\b\b\b\b\r",
      "1/1 [==============================] - 0s 61ms/step\n"
     ]
    },
    {
     "name": "stdout",
     "output_type": "stream",
     "text": [
      "\r",
      "1/1 [==============================] - ETA: 0s"
     ]
    },
    {
     "name": "stdout",
     "output_type": "stream",
     "text": [
      "\b\b\b\b\b\b\b\b\b\b\b\b\b\b\b\b\b\b\b\b\b\b\b\b\b\b\b\b\b\b\b\b\b\b\b\b\b\b\b\b\b\b\b\b\b\b\r",
      "1/1 [==============================] - 0s 59ms/step\n"
     ]
    },
    {
     "name": "stdout",
     "output_type": "stream",
     "text": [
      "\r",
      "1/1 [==============================] - ETA: 0s"
     ]
    },
    {
     "name": "stdout",
     "output_type": "stream",
     "text": [
      "\b\b\b\b\b\b\b\b\b\b\b\b\b\b\b\b\b\b\b\b\b\b\b\b\b\b\b\b\b\b\b\b\b\b\b\b\b\b\b\b\b\b\b\b\b\b\r",
      "1/1 [==============================] - 0s 60ms/step\n"
     ]
    },
    {
     "name": "stdout",
     "output_type": "stream",
     "text": [
      "\r",
      "1/1 [==============================] - ETA: 0s"
     ]
    },
    {
     "name": "stdout",
     "output_type": "stream",
     "text": [
      "\b\b\b\b\b\b\b\b\b\b\b\b\b\b\b\b\b\b\b\b\b\b\b\b\b\b\b\b\b\b\b\b\b\b\b\b\b\b\b\b\b\b\b\b\b\b\r",
      "1/1 [==============================] - 0s 61ms/step\n"
     ]
    },
    {
     "name": "stdout",
     "output_type": "stream",
     "text": [
      "\r",
      "1/1 [==============================] - ETA: 0s"
     ]
    },
    {
     "name": "stdout",
     "output_type": "stream",
     "text": [
      "\b\b\b\b\b\b\b\b\b\b\b\b\b\b\b\b\b\b\b\b\b\b\b\b\b\b\b\b\b\b\b\b\b\b\b\b\b\b\b\b\b\b\b\b\b\b\r",
      "1/1 [==============================] - 0s 66ms/step\n"
     ]
    },
    {
     "name": "stdout",
     "output_type": "stream",
     "text": [
      "\r",
      "1/1 [==============================] - ETA: 0s"
     ]
    },
    {
     "name": "stdout",
     "output_type": "stream",
     "text": [
      "\b\b\b\b\b\b\b\b\b\b\b\b\b\b\b\b\b\b\b\b\b\b\b\b\b\b\b\b\b\b\b\b\b\b\b\b\b\b\b\b\b\b\b\b\b\b\r",
      "1/1 [==============================] - 0s 66ms/step\n"
     ]
    },
    {
     "name": "stdout",
     "output_type": "stream",
     "text": [
      "\r",
      "1/1 [==============================] - ETA: 0s"
     ]
    },
    {
     "name": "stdout",
     "output_type": "stream",
     "text": [
      "\b\b\b\b\b\b\b\b\b\b\b\b\b\b\b\b\b\b\b\b\b\b\b\b\b\b\b\b\b\b\b\b\b\b\b\b\b\b\b\b\b\b\b\b\b\b\r",
      "1/1 [==============================] - 0s 62ms/step\n"
     ]
    },
    {
     "name": "stdout",
     "output_type": "stream",
     "text": [
      "\r",
      "1/1 [==============================] - ETA: 0s"
     ]
    },
    {
     "name": "stdout",
     "output_type": "stream",
     "text": [
      "\b\b\b\b\b\b\b\b\b\b\b\b\b\b\b\b\b\b\b\b\b\b\b\b\b\b\b\b\b\b\b\b\b\b\b\b\b\b\b\b\b\b\b\b\b\b\r",
      "1/1 [==============================] - 0s 63ms/step\n"
     ]
    },
    {
     "name": "stdout",
     "output_type": "stream",
     "text": [
      "\r",
      "1/1 [==============================] - ETA: 0s"
     ]
    },
    {
     "name": "stdout",
     "output_type": "stream",
     "text": [
      "\b\b\b\b\b\b\b\b\b\b\b\b\b\b\b\b\b\b\b\b\b\b\b\b\b\b\b\b\b\b\b\b\b\b\b\b\b\b\b\b\b\b\b\b\b\b\r",
      "1/1 [==============================] - 0s 64ms/step\n"
     ]
    },
    {
     "name": "stdout",
     "output_type": "stream",
     "text": [
      "\r",
      "1/1 [==============================] - ETA: 0s"
     ]
    },
    {
     "name": "stdout",
     "output_type": "stream",
     "text": [
      "\b\b\b\b\b\b\b\b\b\b\b\b\b\b\b\b\b\b\b\b\b\b\b\b\b\b\b\b\b\b\b\b\b\b\b\b\b\b\b\b\b\b\b\b\b\b\r",
      "1/1 [==============================] - 0s 72ms/step\n"
     ]
    },
    {
     "name": "stdout",
     "output_type": "stream",
     "text": [
      "\r",
      "1/1 [==============================] - ETA: 0s"
     ]
    },
    {
     "name": "stdout",
     "output_type": "stream",
     "text": [
      "\b\b\b\b\b\b\b\b\b\b\b\b\b\b\b\b\b\b\b\b\b\b\b\b\b\b\b\b\b\b\b\b\b\b\b\b\b\b\b\b\b\b\b\b\b\b\r",
      "1/1 [==============================] - 0s 62ms/step\n"
     ]
    },
    {
     "name": "stdout",
     "output_type": "stream",
     "text": [
      "\r",
      "1/1 [==============================] - ETA: 0s"
     ]
    },
    {
     "name": "stdout",
     "output_type": "stream",
     "text": [
      "\b\b\b\b\b\b\b\b\b\b\b\b\b\b\b\b\b\b\b\b\b\b\b\b\b\b\b\b\b\b\b\b\b\b\b\b\b\b\b\b\b\b\b\b\b\b\r",
      "1/1 [==============================] - 0s 93ms/step\n"
     ]
    },
    {
     "name": "stdout",
     "output_type": "stream",
     "text": [
      "\r",
      "1/1 [==============================] - ETA: 0s"
     ]
    },
    {
     "name": "stdout",
     "output_type": "stream",
     "text": [
      "\b\b\b\b\b\b\b\b\b\b\b\b\b\b\b\b\b\b\b\b\b\b\b\b\b\b\b\b\b\b\b\b\b\b\b\b\b\b\b\b\b\b\b\b\b\b\r",
      "1/1 [==============================] - 0s 95ms/step\n"
     ]
    },
    {
     "name": "stdout",
     "output_type": "stream",
     "text": [
      "\r",
      "1/1 [==============================] - ETA: 0s"
     ]
    },
    {
     "name": "stdout",
     "output_type": "stream",
     "text": [
      "\b\b\b\b\b\b\b\b\b\b\b\b\b\b\b\b\b\b\b\b\b\b\b\b\b\b\b\b\b\b\b\b\b\b\b\b\b\b\b\b\b\b\b\b\b\b\r",
      "1/1 [==============================] - 0s 93ms/step\n"
     ]
    },
    {
     "name": "stdout",
     "output_type": "stream",
     "text": [
      "\r",
      "1/1 [==============================] - ETA: 0s"
     ]
    },
    {
     "name": "stdout",
     "output_type": "stream",
     "text": [
      "\b\b\b\b\b\b\b\b\b\b\b\b\b\b\b\b\b\b\b\b\b\b\b\b\b\b\b\b\b\b\b\b\b\b\b\b\b\b\b\b\b\b\b\b\b\b\r",
      "1/1 [==============================] - 0s 93ms/step\n"
     ]
    },
    {
     "name": "stdout",
     "output_type": "stream",
     "text": [
      "\r",
      "1/1 [==============================] - ETA: 0s"
     ]
    },
    {
     "name": "stdout",
     "output_type": "stream",
     "text": [
      "\b\b\b\b\b\b\b\b\b\b\b\b\b\b\b\b\b\b\b\b\b\b\b\b\b\b\b\b\b\b\b\b\b\b\b\b\b\b\b\b\b\b\b\b\b\b\r",
      "1/1 [==============================] - 0s 93ms/step\n"
     ]
    },
    {
     "name": "stdout",
     "output_type": "stream",
     "text": [
      "\r",
      "1/1 [==============================] - ETA: 0s"
     ]
    },
    {
     "name": "stdout",
     "output_type": "stream",
     "text": [
      "\b\b\b\b\b\b\b\b\b\b\b\b\b\b\b\b\b\b\b\b\b\b\b\b\b\b\b\b\b\b\b\b\b\b\b\b\b\b\b\b\b\b\b\b\b\b\r",
      "1/1 [==============================] - 0s 72ms/step\n"
     ]
    },
    {
     "name": "stdout",
     "output_type": "stream",
     "text": [
      "\r",
      "1/1 [==============================] - ETA: 0s"
     ]
    },
    {
     "name": "stdout",
     "output_type": "stream",
     "text": [
      "\b\b\b\b\b\b\b\b\b\b\b\b\b\b\b\b\b\b\b\b\b\b\b\b\b\b\b\b\b\b\b\b\b\b\b\b\b\b\b\b\b\b\b\b\b\b\r",
      "1/1 [==============================] - 0s 90ms/step\n"
     ]
    },
    {
     "name": "stdout",
     "output_type": "stream",
     "text": [
      "\r",
      "1/1 [==============================] - ETA: 0s"
     ]
    },
    {
     "name": "stdout",
     "output_type": "stream",
     "text": [
      "\b\b\b\b\b\b\b\b\b\b\b\b\b\b\b\b\b\b\b\b\b\b\b\b\b\b\b\b\b\b\b\b\b\b\b\b\b\b\b\b\b\b\b\b\b\b\r",
      "1/1 [==============================] - 0s 91ms/step\n"
     ]
    },
    {
     "name": "stdout",
     "output_type": "stream",
     "text": [
      "\r",
      "1/1 [==============================] - ETA: 0s"
     ]
    },
    {
     "name": "stdout",
     "output_type": "stream",
     "text": [
      "\b\b\b\b\b\b\b\b\b\b\b\b\b\b\b\b\b\b\b\b\b\b\b\b\b\b\b\b\b\b\b\b\b\b\b\b\b\b\b\b\b\b\b\b\b\b\r",
      "1/1 [==============================] - 0s 94ms/step\n"
     ]
    },
    {
     "name": "stdout",
     "output_type": "stream",
     "text": [
      "\r",
      "1/1 [==============================] - ETA: 0s"
     ]
    },
    {
     "name": "stdout",
     "output_type": "stream",
     "text": [
      "\b\b\b\b\b\b\b\b\b\b\b\b\b\b\b\b\b\b\b\b\b\b\b\b\b\b\b\b\b\b\b\b\b\b\b\b\b\b\b\b\b\b\b\b\b\b\r",
      "1/1 [==============================] - 0s 93ms/step\n"
     ]
    },
    {
     "name": "stdout",
     "output_type": "stream",
     "text": [
      "\r",
      "1/1 [==============================] - ETA: 0s"
     ]
    },
    {
     "name": "stdout",
     "output_type": "stream",
     "text": [
      "\b\b\b\b\b\b\b\b\b\b\b\b\b\b\b\b\b\b\b\b\b\b\b\b\b\b\b\b\b\b\b\b\b\b\b\b\b\b\b\b\b\b\b\b\b\b\r",
      "1/1 [==============================] - 0s 99ms/step\n"
     ]
    },
    {
     "name": "stdout",
     "output_type": "stream",
     "text": [
      "\r",
      "1/1 [==============================] - ETA: 0s"
     ]
    },
    {
     "name": "stdout",
     "output_type": "stream",
     "text": [
      "\b\b\b\b\b\b\b\b\b\b\b\b\b\b\b\b\b\b\b\b\b\b\b\b\b\b\b\b\b\b\b\b\b\b\b\b\b\b\b\b\b\b\b\b\b\b\r",
      "1/1 [==============================] - 0s 97ms/step\n"
     ]
    },
    {
     "name": "stdout",
     "output_type": "stream",
     "text": [
      "\r",
      "1/1 [==============================] - ETA: 0s"
     ]
    },
    {
     "name": "stdout",
     "output_type": "stream",
     "text": [
      "\b\b\b\b\b\b\b\b\b\b\b\b\b\b\b\b\b\b\b\b\b\b\b\b\b\b\b\b\b\b\b\b\b\b\b\b\b\b\b\b\b\b\b\b\b\b\r",
      "1/1 [==============================] - 0s 98ms/step\n"
     ]
    },
    {
     "name": "stdout",
     "output_type": "stream",
     "text": [
      "\r",
      "1/1 [==============================] - ETA: 0s"
     ]
    },
    {
     "name": "stdout",
     "output_type": "stream",
     "text": [
      "\b\b\b\b\b\b\b\b\b\b\b\b\b\b\b\b\b\b\b\b\b\b\b\b\b\b\b\b\b\b\b\b\b\b\b\b\b\b\b\b\b\b\b\b\b\b\r",
      "1/1 [==============================] - 0s 96ms/step\n"
     ]
    },
    {
     "name": "stdout",
     "output_type": "stream",
     "text": [
      "\r",
      "1/1 [==============================] - ETA: 0s"
     ]
    },
    {
     "name": "stdout",
     "output_type": "stream",
     "text": [
      "\b\b\b\b\b\b\b\b\b\b\b\b\b\b\b\b\b\b\b\b\b\b\b\b\b\b\b\b\b\b\b\b\b\b\b\b\b\b\b\b\b\b\b\b\b\b\r",
      "1/1 [==============================] - 0s 97ms/step\n"
     ]
    },
    {
     "name": "stdout",
     "output_type": "stream",
     "text": [
      "\r",
      "1/1 [==============================] - ETA: 0s"
     ]
    },
    {
     "name": "stdout",
     "output_type": "stream",
     "text": [
      "\b\b\b\b\b\b\b\b\b\b\b\b\b\b\b\b\b\b\b\b\b\b\b\b\b\b\b\b\b\b\b\b\b\b\b\b\b\b\b\b\b\b\b\b\b\b\r",
      "1/1 [==============================] - 0s 97ms/step\n"
     ]
    },
    {
     "name": "stdout",
     "output_type": "stream",
     "text": [
      "\r",
      "1/1 [==============================] - ETA: 0s"
     ]
    },
    {
     "name": "stdout",
     "output_type": "stream",
     "text": [
      "\b\b\b\b\b\b\b\b\b\b\b\b\b\b\b\b\b\b\b\b\b\b\b\b\b\b\b\b\b\b\b\b\b\b\b\b\b\b\b\b\b\b\b\b\b\b\r",
      "1/1 [==============================] - 0s 96ms/step\n"
     ]
    },
    {
     "name": "stdout",
     "output_type": "stream",
     "text": [
      "\r",
      "1/1 [==============================] - ETA: 0s"
     ]
    },
    {
     "name": "stdout",
     "output_type": "stream",
     "text": [
      "\b\b\b\b\b\b\b\b\b\b\b\b\b\b\b\b\b\b\b\b\b\b\b\b\b\b\b\b\b\b\b\b\b\b\b\b\b\b\b\b\b\b\b\b\b\b\r",
      "1/1 [==============================] - 0s 99ms/step\n"
     ]
    },
    {
     "name": "stdout",
     "output_type": "stream",
     "text": [
      "\r",
      "1/1 [==============================] - ETA: 0s"
     ]
    },
    {
     "name": "stdout",
     "output_type": "stream",
     "text": [
      "\b\b\b\b\b\b\b\b\b\b\b\b\b\b\b\b\b\b\b\b\b\b\b\b\b\b\b\b\b\b\b\b\b\b\b\b\b\b\b\b\b\b\b\b\b\b\r",
      "1/1 [==============================] - 0s 100ms/step\n"
     ]
    },
    {
     "name": "stdout",
     "output_type": "stream",
     "text": [
      "\r",
      "1/1 [==============================] - ETA: 0s"
     ]
    },
    {
     "name": "stdout",
     "output_type": "stream",
     "text": [
      "\b\b\b\b\b\b\b\b\b\b\b\b\b\b\b\b\b\b\b\b\b\b\b\b\b\b\b\b\b\b\b\b\b\b\b\b\b\b\b\b\b\b\b\b\b\b\r",
      "1/1 [==============================] - 0s 97ms/step\n"
     ]
    },
    {
     "name": "stdout",
     "output_type": "stream",
     "text": [
      "\r",
      "1/1 [==============================] - ETA: 0s"
     ]
    },
    {
     "name": "stdout",
     "output_type": "stream",
     "text": [
      "\b\b\b\b\b\b\b\b\b\b\b\b\b\b\b\b\b\b\b\b\b\b\b\b\b\b\b\b\b\b\b\b\b\b\b\b\b\b\b\b\b\b\b\b\b\b\r",
      "1/1 [==============================] - 0s 96ms/step\n"
     ]
    },
    {
     "name": "stdout",
     "output_type": "stream",
     "text": [
      "\r",
      "1/1 [==============================] - ETA: 0s"
     ]
    },
    {
     "name": "stdout",
     "output_type": "stream",
     "text": [
      "\b\b\b\b\b\b\b\b\b\b\b\b\b\b\b\b\b\b\b\b\b\b\b\b\b\b\b\b\b\b\b\b\b\b\b\b\b\b\b\b\b\b\b\b\b\b\r",
      "1/1 [==============================] - 0s 97ms/step\n"
     ]
    },
    {
     "name": "stdout",
     "output_type": "stream",
     "text": [
      "\r",
      "1/1 [==============================] - ETA: 0s"
     ]
    },
    {
     "name": "stdout",
     "output_type": "stream",
     "text": [
      "\b\b\b\b\b\b\b\b\b\b\b\b\b\b\b\b\b\b\b\b\b\b\b\b\b\b\b\b\b\b\b\b\b\b\b\b\b\b\b\b\b\b\b\b\b\b\r",
      "1/1 [==============================] - 0s 97ms/step\n"
     ]
    },
    {
     "name": "stdout",
     "output_type": "stream",
     "text": [
      "\r",
      "1/1 [==============================] - ETA: 0s"
     ]
    },
    {
     "name": "stdout",
     "output_type": "stream",
     "text": [
      "\b\b\b\b\b\b\b\b\b\b\b\b\b\b\b\b\b\b\b\b\b\b\b\b\b\b\b\b\b\b\b\b\b\b\b\b\b\b\b\b\b\b\b\b\b\b\r",
      "1/1 [==============================] - 0s 96ms/step\n"
     ]
    },
    {
     "name": "stdout",
     "output_type": "stream",
     "text": [
      "\r",
      "1/1 [==============================] - ETA: 0s"
     ]
    },
    {
     "name": "stdout",
     "output_type": "stream",
     "text": [
      "\b\b\b\b\b\b\b\b\b\b\b\b\b\b\b\b\b\b\b\b\b\b\b\b\b\b\b\b\b\b\b\b\b\b\b\b\b\b\b\b\b\b\b\b\b\b\r",
      "1/1 [==============================] - 0s 97ms/step\n"
     ]
    },
    {
     "name": "stdout",
     "output_type": "stream",
     "text": [
      "\r",
      "1/1 [==============================] - ETA: 0s"
     ]
    },
    {
     "name": "stdout",
     "output_type": "stream",
     "text": [
      "\b\b\b\b\b\b\b\b\b\b\b\b\b\b\b\b\b\b\b\b\b\b\b\b\b\b\b\b\b\b\b\b\b\b\b\b\b\b\b\b\b\b\b\b\b\b\r",
      "1/1 [==============================] - 0s 89ms/step\n"
     ]
    },
    {
     "name": "stdout",
     "output_type": "stream",
     "text": [
      "\r",
      "1/1 [==============================] - ETA: 0s"
     ]
    },
    {
     "name": "stdout",
     "output_type": "stream",
     "text": [
      "\b\b\b\b\b\b\b\b\b\b\b\b\b\b\b\b\b\b\b\b\b\b\b\b\b\b\b\b\b\b\b\b\b\b\b\b\b\b\b\b\b\b\b\b\b\b\r",
      "1/1 [==============================] - 0s 82ms/step\n"
     ]
    },
    {
     "name": "stdout",
     "output_type": "stream",
     "text": [
      "\r",
      "1/1 [==============================] - ETA: 0s"
     ]
    },
    {
     "name": "stdout",
     "output_type": "stream",
     "text": [
      "\b\b\b\b\b\b\b\b\b\b\b\b\b\b\b\b\b\b\b\b\b\b\b\b\b\b\b\b\b\b\b\b\b\b\b\b\b\b\b\b\b\b\b\b\b\b\r",
      "1/1 [==============================] - 0s 95ms/step\n"
     ]
    },
    {
     "name": "stdout",
     "output_type": "stream",
     "text": [
      "\r",
      "1/1 [==============================] - ETA: 0s"
     ]
    },
    {
     "name": "stdout",
     "output_type": "stream",
     "text": [
      "\b\b\b\b\b\b\b\b\b\b\b\b\b\b\b\b\b\b\b\b\b\b\b\b\b\b\b\b\b\b\b\b\b\b\b\b\b\b\b\b\b\b\b\b\b\b\r",
      "1/1 [==============================] - 0s 95ms/step\n"
     ]
    },
    {
     "name": "stdout",
     "output_type": "stream",
     "text": [
      "\r",
      "1/1 [==============================] - ETA: 0s"
     ]
    },
    {
     "name": "stdout",
     "output_type": "stream",
     "text": [
      "\b\b\b\b\b\b\b\b\b\b\b\b\b\b\b\b\b\b\b\b\b\b\b\b\b\b\b\b\b\b\b\b\b\b\b\b\b\b\b\b\b\b\b\b\b\b\r",
      "1/1 [==============================] - 0s 93ms/step\n"
     ]
    },
    {
     "name": "stdout",
     "output_type": "stream",
     "text": [
      "\r",
      "1/1 [==============================] - ETA: 0s"
     ]
    },
    {
     "name": "stdout",
     "output_type": "stream",
     "text": [
      "\b\b\b\b\b\b\b\b\b\b\b\b\b\b\b\b\b\b\b\b\b\b\b\b\b\b\b\b\b\b\b\b\b\b\b\b\b\b\b\b\b\b\b\b\b\b\r",
      "1/1 [==============================] - 0s 92ms/step\n"
     ]
    },
    {
     "name": "stdout",
     "output_type": "stream",
     "text": [
      "\r",
      "1/1 [==============================] - ETA: 0s"
     ]
    },
    {
     "name": "stdout",
     "output_type": "stream",
     "text": [
      "\b\b\b\b\b\b\b\b\b\b\b\b\b\b\b\b\b\b\b\b\b\b\b\b\b\b\b\b\b\b\b\b\b\b\b\b\b\b\b\b\b\b\b\b\b\b\r",
      "1/1 [==============================] - 0s 93ms/step\n"
     ]
    },
    {
     "name": "stdout",
     "output_type": "stream",
     "text": [
      "\r",
      "1/1 [==============================] - ETA: 0s"
     ]
    },
    {
     "name": "stdout",
     "output_type": "stream",
     "text": [
      "\b\b\b\b\b\b\b\b\b\b\b\b\b\b\b\b\b\b\b\b\b\b\b\b\b\b\b\b\b\b\b\b\b\b\b\b\b\b\b\b\b\b\b\b\b\b\r",
      "1/1 [==============================] - 0s 94ms/step\n"
     ]
    },
    {
     "name": "stdout",
     "output_type": "stream",
     "text": [
      "\r",
      "1/1 [==============================] - ETA: 0s"
     ]
    },
    {
     "name": "stdout",
     "output_type": "stream",
     "text": [
      "\b\b\b\b\b\b\b\b\b\b\b\b\b\b\b\b\b\b\b\b\b\b\b\b\b\b\b\b\b\b\b\b\b\b\b\b\b\b\b\b\b\b\b\b\b\b\r",
      "1/1 [==============================] - 0s 95ms/step\n"
     ]
    },
    {
     "name": "stdout",
     "output_type": "stream",
     "text": [
      "\r",
      "1/1 [==============================] - ETA: 0s"
     ]
    },
    {
     "name": "stdout",
     "output_type": "stream",
     "text": [
      "\b\b\b\b\b\b\b\b\b\b\b\b\b\b\b\b\b\b\b\b\b\b\b\b\b\b\b\b\b\b\b\b\b\b\b\b\b\b\b\b\b\b\b\b\b\b\r",
      "1/1 [==============================] - 0s 96ms/step\n"
     ]
    },
    {
     "name": "stdout",
     "output_type": "stream",
     "text": [
      "\r",
      "1/1 [==============================] - ETA: 0s"
     ]
    },
    {
     "name": "stdout",
     "output_type": "stream",
     "text": [
      "\b\b\b\b\b\b\b\b\b\b\b\b\b\b\b\b\b\b\b\b\b\b\b\b\b\b\b\b\b\b\b\b\b\b\b\b\b\b\b\b\b\b\b\b\b\b\r",
      "1/1 [==============================] - 0s 88ms/step\n"
     ]
    },
    {
     "name": "stdout",
     "output_type": "stream",
     "text": [
      "\r",
      "1/1 [==============================] - ETA: 0s"
     ]
    },
    {
     "name": "stdout",
     "output_type": "stream",
     "text": [
      "\b\b\b\b\b\b\b\b\b\b\b\b\b\b\b\b\b\b\b\b\b\b\b\b\b\b\b\b\b\b\b\b\b\b\b\b\b\b\b\b\b\b\b\b\b\b\r",
      "1/1 [==============================] - 0s 88ms/step\n"
     ]
    },
    {
     "name": "stdout",
     "output_type": "stream",
     "text": [
      "\r",
      "1/1 [==============================] - ETA: 0s"
     ]
    },
    {
     "name": "stdout",
     "output_type": "stream",
     "text": [
      "\b\b\b\b\b\b\b\b\b\b\b\b\b\b\b\b\b\b\b\b\b\b\b\b\b\b\b\b\b\b\b\b\b\b\b\b\b\b\b\b\b\b\b\b\b\b\r",
      "1/1 [==============================] - 0s 78ms/step\n"
     ]
    },
    {
     "name": "stdout",
     "output_type": "stream",
     "text": [
      "\r",
      "1/1 [==============================] - ETA: 0s"
     ]
    },
    {
     "name": "stdout",
     "output_type": "stream",
     "text": [
      "\b\b\b\b\b\b\b\b\b\b\b\b\b\b\b\b\b\b\b\b\b\b\b\b\b\b\b\b\b\b\b\b\b\b\b\b\b\b\b\b\b\b\b\b\b\b\r",
      "1/1 [==============================] - 0s 83ms/step\n"
     ]
    },
    {
     "name": "stdout",
     "output_type": "stream",
     "text": [
      "\r",
      "1/1 [==============================] - ETA: 0s"
     ]
    },
    {
     "name": "stdout",
     "output_type": "stream",
     "text": [
      "\b\b\b\b\b\b\b\b\b\b\b\b\b\b\b\b\b\b\b\b\b\b\b\b\b\b\b\b\b\b\b\b\b\b\b\b\b\b\b\b\b\b\b\b\b\b\r",
      "1/1 [==============================] - 0s 94ms/step\n"
     ]
    },
    {
     "name": "stdout",
     "output_type": "stream",
     "text": [
      "\r",
      "1/1 [==============================] - ETA: 0s"
     ]
    },
    {
     "name": "stdout",
     "output_type": "stream",
     "text": [
      "\b\b\b\b\b\b\b\b\b\b\b\b\b\b\b\b\b\b\b\b\b\b\b\b\b\b\b\b\b\b\b\b\b\b\b\b\b\b\b\b\b\b\b\b\b\b\r",
      "1/1 [==============================] - 0s 92ms/step\n"
     ]
    },
    {
     "name": "stdout",
     "output_type": "stream",
     "text": [
      "\r",
      "1/1 [==============================] - ETA: 0s"
     ]
    },
    {
     "name": "stdout",
     "output_type": "stream",
     "text": [
      "\b\b\b\b\b\b\b\b\b\b\b\b\b\b\b\b\b\b\b\b\b\b\b\b\b\b\b\b\b\b\b\b\b\b\b\b\b\b\b\b\b\b\b\b\b\b\r",
      "1/1 [==============================] - 0s 93ms/step\n"
     ]
    },
    {
     "name": "stderr",
     "output_type": "stream",
     "text": [
      "/home/jup_user/mlproject/jup-env/lib/python3.8/site-packages/PIL/Image.py:981: UserWarning: Palette images with Transparency expressed in bytes should be converted to RGBA images\n",
      "  warnings.warn(\n"
     ]
    },
    {
     "name": "stdout",
     "output_type": "stream",
     "text": [
      "\r",
      "1/1 [==============================] - ETA: 0s"
     ]
    },
    {
     "name": "stdout",
     "output_type": "stream",
     "text": [
      "\b\b\b\b\b\b\b\b\b\b\b\b\b\b\b\b\b\b\b\b\b\b\b\b\b\b\b\b\b\b\b\b\b\b\b\b\b\b\b\b\b\b\b\b\b\b\r",
      "1/1 [==============================] - 0s 99ms/step\n"
     ]
    },
    {
     "name": "stdout",
     "output_type": "stream",
     "text": [
      "\r",
      "1/1 [==============================] - ETA: 0s"
     ]
    },
    {
     "name": "stdout",
     "output_type": "stream",
     "text": [
      "\b\b\b\b\b\b\b\b\b\b\b\b\b\b\b\b\b\b\b\b\b\b\b\b\b\b\b\b\b\b\b\b\b\b\b\b\b\b\b\b\b\b\b\b\b\b\r",
      "1/1 [==============================] - 0s 98ms/step\n"
     ]
    },
    {
     "name": "stdout",
     "output_type": "stream",
     "text": [
      "\r",
      "1/1 [==============================] - ETA: 0s"
     ]
    },
    {
     "name": "stdout",
     "output_type": "stream",
     "text": [
      "\b\b\b\b\b\b\b\b\b\b\b\b\b\b\b\b\b\b\b\b\b\b\b\b\b\b\b\b\b\b\b\b\b\b\b\b\b\b\b\b\b\b\b\b\b\b\r",
      "1/1 [==============================] - 0s 99ms/step\n"
     ]
    },
    {
     "name": "stdout",
     "output_type": "stream",
     "text": [
      "\r",
      "1/1 [==============================] - ETA: 0s"
     ]
    },
    {
     "name": "stdout",
     "output_type": "stream",
     "text": [
      "\b\b\b\b\b\b\b\b\b\b\b\b\b\b\b\b\b\b\b\b\b\b\b\b\b\b\b\b\b\b\b\b\b\b\b\b\b\b\b\b\b\b\b\b\b\b\r",
      "1/1 [==============================] - 0s 101ms/step\n"
     ]
    },
    {
     "name": "stdout",
     "output_type": "stream",
     "text": [
      "\r",
      "1/1 [==============================] - ETA: 0s"
     ]
    },
    {
     "name": "stdout",
     "output_type": "stream",
     "text": [
      "\b\b\b\b\b\b\b\b\b\b\b\b\b\b\b\b\b\b\b\b\b\b\b\b\b\b\b\b\b\b\b\b\b\b\b\b\b\b\b\b\b\b\b\b\b\b\r",
      "1/1 [==============================] - 0s 95ms/step\n"
     ]
    },
    {
     "name": "stdout",
     "output_type": "stream",
     "text": [
      "\r",
      "1/1 [==============================] - ETA: 0s"
     ]
    },
    {
     "name": "stdout",
     "output_type": "stream",
     "text": [
      "\b\b\b\b\b\b\b\b\b\b\b\b\b\b\b\b\b\b\b\b\b\b\b\b\b\b\b\b\b\b\b\b\b\b\b\b\b\b\b\b\b\b\b\b\b\b\r",
      "1/1 [==============================] - 0s 96ms/step\n"
     ]
    },
    {
     "name": "stdout",
     "output_type": "stream",
     "text": [
      "\r",
      "1/1 [==============================] - ETA: 0s"
     ]
    },
    {
     "name": "stdout",
     "output_type": "stream",
     "text": [
      "\b\b\b\b\b\b\b\b\b\b\b\b\b\b\b\b\b\b\b\b\b\b\b\b\b\b\b\b\b\b\b\b\b\b\b\b\b\b\b\b\b\b\b\b\b\b\r",
      "1/1 [==============================] - 0s 84ms/step\n"
     ]
    },
    {
     "name": "stdout",
     "output_type": "stream",
     "text": [
      "\r",
      "1/1 [==============================] - ETA: 0s"
     ]
    },
    {
     "name": "stdout",
     "output_type": "stream",
     "text": [
      "\b\b\b\b\b\b\b\b\b\b\b\b\b\b\b\b\b\b\b\b\b\b\b\b\b\b\b\b\b\b\b\b\b\b\b\b\b\b\b\b\b\b\b\b\b\b\r",
      "1/1 [==============================] - 0s 86ms/step\n"
     ]
    },
    {
     "name": "stdout",
     "output_type": "stream",
     "text": [
      "\r",
      "1/1 [==============================] - ETA: 0s"
     ]
    },
    {
     "name": "stdout",
     "output_type": "stream",
     "text": [
      "\b\b\b\b\b\b\b\b\b\b\b\b\b\b\b\b\b\b\b\b\b\b\b\b\b\b\b\b\b\b\b\b\b\b\b\b\b\b\b\b\b\b\b\b\b\b\r",
      "1/1 [==============================] - 0s 95ms/step\n"
     ]
    },
    {
     "name": "stdout",
     "output_type": "stream",
     "text": [
      "\r",
      "1/1 [==============================] - ETA: 0s"
     ]
    },
    {
     "name": "stdout",
     "output_type": "stream",
     "text": [
      "\b\b\b\b\b\b\b\b\b\b\b\b\b\b\b\b\b\b\b\b\b\b\b\b\b\b\b\b\b\b\b\b\b\b\b\b\b\b\b\b\b\b\b\b\b\b\r",
      "1/1 [==============================] - 0s 79ms/step\n"
     ]
    },
    {
     "name": "stdout",
     "output_type": "stream",
     "text": [
      "\r",
      "1/1 [==============================] - ETA: 0s"
     ]
    },
    {
     "name": "stdout",
     "output_type": "stream",
     "text": [
      "\b\b\b\b\b\b\b\b\b\b\b\b\b\b\b\b\b\b\b\b\b\b\b\b\b\b\b\b\b\b\b\b\b\b\b\b\b\b\b\b\b\b\b\b\b\b\r",
      "1/1 [==============================] - 0s 80ms/step\n"
     ]
    },
    {
     "name": "stdout",
     "output_type": "stream",
     "text": [
      "\r",
      "1/1 [==============================] - ETA: 0s"
     ]
    },
    {
     "name": "stdout",
     "output_type": "stream",
     "text": [
      "\b\b\b\b\b\b\b\b\b\b\b\b\b\b\b\b\b\b\b\b\b\b\b\b\b\b\b\b\b\b\b\b\b\b\b\b\b\b\b\b\b\b\b\b\b\b\r",
      "1/1 [==============================] - 0s 80ms/step\n"
     ]
    },
    {
     "name": "stdout",
     "output_type": "stream",
     "text": [
      "\r",
      "1/1 [==============================] - ETA: 0s"
     ]
    },
    {
     "name": "stdout",
     "output_type": "stream",
     "text": [
      "\b\b\b\b\b\b\b\b\b\b\b\b\b\b\b\b\b\b\b\b\b\b\b\b\b\b\b\b\b\b\b\b\b\b\b\b\b\b\b\b\b\b\b\b\b\b\r",
      "1/1 [==============================] - 0s 76ms/step\n"
     ]
    },
    {
     "name": "stdout",
     "output_type": "stream",
     "text": [
      "\r",
      "1/1 [==============================] - ETA: 0s"
     ]
    },
    {
     "name": "stdout",
     "output_type": "stream",
     "text": [
      "\b\b\b\b\b\b\b\b\b\b\b\b\b\b\b\b\b\b\b\b\b\b\b\b\b\b\b\b\b\b\b\b\b\b\b\b\b\b\b\b\b\b\b\b\b\b\r",
      "1/1 [==============================] - 0s 72ms/step\n"
     ]
    },
    {
     "name": "stdout",
     "output_type": "stream",
     "text": [
      "\r",
      "1/1 [==============================] - ETA: 0s"
     ]
    },
    {
     "name": "stdout",
     "output_type": "stream",
     "text": [
      "\b\b\b\b\b\b\b\b\b\b\b\b\b\b\b\b\b\b\b\b\b\b\b\b\b\b\b\b\b\b\b\b\b\b\b\b\b\b\b\b\b\b\b\b\b\b\r",
      "1/1 [==============================] - 0s 80ms/step\n"
     ]
    },
    {
     "name": "stdout",
     "output_type": "stream",
     "text": [
      "\r",
      "1/1 [==============================] - ETA: 0s"
     ]
    },
    {
     "name": "stdout",
     "output_type": "stream",
     "text": [
      "\b\b\b\b\b\b\b\b\b\b\b\b\b\b\b\b\b\b\b\b\b\b\b\b\b\b\b\b\b\b\b\b\b\b\b\b\b\b\b\b\b\b\b\b\b\b\r",
      "1/1 [==============================] - 0s 82ms/step\n"
     ]
    },
    {
     "name": "stdout",
     "output_type": "stream",
     "text": [
      "\r",
      "1/1 [==============================] - ETA: 0s"
     ]
    },
    {
     "name": "stdout",
     "output_type": "stream",
     "text": [
      "\b\b\b\b\b\b\b\b\b\b\b\b\b\b\b\b\b\b\b\b\b\b\b\b\b\b\b\b\b\b\b\b\b\b\b\b\b\b\b\b\b\b\b\b\b\b\r",
      "1/1 [==============================] - 0s 80ms/step\n"
     ]
    },
    {
     "name": "stdout",
     "output_type": "stream",
     "text": [
      "\r",
      "1/1 [==============================] - ETA: 0s"
     ]
    },
    {
     "name": "stdout",
     "output_type": "stream",
     "text": [
      "\b\b\b\b\b\b\b\b\b\b\b\b\b\b\b\b\b\b\b\b\b\b\b\b\b\b\b\b\b\b\b\b\b\b\b\b\b\b\b\b\b\b\b\b\b\b\r",
      "1/1 [==============================] - 0s 86ms/step\n"
     ]
    },
    {
     "name": "stdout",
     "output_type": "stream",
     "text": [
      "\r",
      "1/1 [==============================] - ETA: 0s"
     ]
    },
    {
     "name": "stdout",
     "output_type": "stream",
     "text": [
      "\b\b\b\b\b\b\b\b\b\b\b\b\b\b\b\b\b\b\b\b\b\b\b\b\b\b\b\b\b\b\b\b\b\b\b\b\b\b\b\b\b\b\b\b\b\b\r",
      "1/1 [==============================] - 0s 88ms/step\n"
     ]
    },
    {
     "name": "stdout",
     "output_type": "stream",
     "text": [
      "\r",
      "1/1 [==============================] - ETA: 0s"
     ]
    },
    {
     "name": "stdout",
     "output_type": "stream",
     "text": [
      "\b\b\b\b\b\b\b\b\b\b\b\b\b\b\b\b\b\b\b\b\b\b\b\b\b\b\b\b\b\b\b\b\b\b\b\b\b\b\b\b\b\b\b\b\b\b\r",
      "1/1 [==============================] - 0s 84ms/step\n"
     ]
    },
    {
     "name": "stdout",
     "output_type": "stream",
     "text": [
      "\r",
      "1/1 [==============================] - ETA: 0s"
     ]
    },
    {
     "name": "stdout",
     "output_type": "stream",
     "text": [
      "\b\b\b\b\b\b\b\b\b\b\b\b\b\b\b\b\b\b\b\b\b\b\b\b\b\b\b\b\b\b\b\b\b\b\b\b\b\b\b\b\b\b\b\b\b\b\r",
      "1/1 [==============================] - 0s 88ms/step\n"
     ]
    },
    {
     "name": "stdout",
     "output_type": "stream",
     "text": [
      "\r",
      "1/1 [==============================] - ETA: 0s"
     ]
    },
    {
     "name": "stdout",
     "output_type": "stream",
     "text": [
      "\b\b\b\b\b\b\b\b\b\b\b\b\b\b\b\b\b\b\b\b\b\b\b\b\b\b\b\b\b\b\b\b\b\b\b\b\b\b\b\b\b\b\b\b\b\b\r",
      "1/1 [==============================] - 0s 84ms/step\n"
     ]
    },
    {
     "name": "stdout",
     "output_type": "stream",
     "text": [
      "\r",
      "1/1 [==============================] - ETA: 0s"
     ]
    },
    {
     "name": "stdout",
     "output_type": "stream",
     "text": [
      "\b\b\b\b\b\b\b\b\b\b\b\b\b\b\b\b\b\b\b\b\b\b\b\b\b\b\b\b\b\b\b\b\b\b\b\b\b\b\b\b\b\b\b\b\b\b\r",
      "1/1 [==============================] - 0s 79ms/step\n"
     ]
    },
    {
     "name": "stdout",
     "output_type": "stream",
     "text": [
      "\r",
      "1/1 [==============================] - ETA: 0s"
     ]
    },
    {
     "name": "stdout",
     "output_type": "stream",
     "text": [
      "\b\b\b\b\b\b\b\b\b\b\b\b\b\b\b\b\b\b\b\b\b\b\b\b\b\b\b\b\b\b\b\b\b\b\b\b\b\b\b\b\b\b\b\b\b\b\r",
      "1/1 [==============================] - 0s 83ms/step\n"
     ]
    },
    {
     "name": "stdout",
     "output_type": "stream",
     "text": [
      "\r",
      "1/1 [==============================] - ETA: 0s"
     ]
    },
    {
     "name": "stdout",
     "output_type": "stream",
     "text": [
      "\b\b\b\b\b\b\b\b\b\b\b\b\b\b\b\b\b\b\b\b\b\b\b\b\b\b\b\b\b\b\b\b\b\b\b\b\b\b\b\b\b\b\b\b\b\b\r",
      "1/1 [==============================] - 0s 90ms/step\n"
     ]
    },
    {
     "name": "stdout",
     "output_type": "stream",
     "text": [
      "\r",
      "1/1 [==============================] - ETA: 0s"
     ]
    },
    {
     "name": "stdout",
     "output_type": "stream",
     "text": [
      "\b\b\b\b\b\b\b\b\b\b\b\b\b\b\b\b\b\b\b\b\b\b\b\b\b\b\b\b\b\b\b\b\b\b\b\b\b\b\b\b\b\b\b\b\b\b\r",
      "1/1 [==============================] - 0s 85ms/step\n"
     ]
    },
    {
     "name": "stdout",
     "output_type": "stream",
     "text": [
      "\r",
      "1/1 [==============================] - ETA: 0s"
     ]
    },
    {
     "name": "stdout",
     "output_type": "stream",
     "text": [
      "\b\b\b\b\b\b\b\b\b\b\b\b\b\b\b\b\b\b\b\b\b\b\b\b\b\b\b\b\b\b\b\b\b\b\b\b\b\b\b\b\b\b\b\b\b\b\r",
      "1/1 [==============================] - 0s 87ms/step\n"
     ]
    },
    {
     "name": "stdout",
     "output_type": "stream",
     "text": [
      "\r",
      "1/1 [==============================] - ETA: 0s"
     ]
    },
    {
     "name": "stdout",
     "output_type": "stream",
     "text": [
      "\b\b\b\b\b\b\b\b\b\b\b\b\b\b\b\b\b\b\b\b\b\b\b\b\b\b\b\b\b\b\b\b\b\b\b\b\b\b\b\b\b\b\b\b\b\b\r",
      "1/1 [==============================] - 0s 92ms/step\n"
     ]
    },
    {
     "name": "stdout",
     "output_type": "stream",
     "text": [
      "\r",
      "1/1 [==============================] - ETA: 0s"
     ]
    },
    {
     "name": "stdout",
     "output_type": "stream",
     "text": [
      "\b\b\b\b\b\b\b\b\b\b\b\b\b\b\b\b\b\b\b\b\b\b\b\b\b\b\b\b\b\b\b\b\b\b\b\b\b\b\b\b\b\b\b\b\b\b\r",
      "1/1 [==============================] - 0s 84ms/step\n"
     ]
    },
    {
     "name": "stdout",
     "output_type": "stream",
     "text": [
      "\r",
      "1/1 [==============================] - ETA: 0s"
     ]
    },
    {
     "name": "stdout",
     "output_type": "stream",
     "text": [
      "\b\b\b\b\b\b\b\b\b\b\b\b\b\b\b\b\b\b\b\b\b\b\b\b\b\b\b\b\b\b\b\b\b\b\b\b\b\b\b\b\b\b\b\b\b\b\r",
      "1/1 [==============================] - 0s 94ms/step\n"
     ]
    },
    {
     "name": "stdout",
     "output_type": "stream",
     "text": [
      "\r",
      "1/1 [==============================] - ETA: 0s"
     ]
    },
    {
     "name": "stdout",
     "output_type": "stream",
     "text": [
      "\b\b\b\b\b\b\b\b\b\b\b\b\b\b\b\b\b\b\b\b\b\b\b\b\b\b\b\b\b\b\b\b\b\b\b\b\b\b\b\b\b\b\b\b\b\b\r",
      "1/1 [==============================] - 0s 84ms/step\n"
     ]
    },
    {
     "name": "stdout",
     "output_type": "stream",
     "text": [
      "\r",
      "1/1 [==============================] - ETA: 0s"
     ]
    },
    {
     "name": "stdout",
     "output_type": "stream",
     "text": [
      "\b\b\b\b\b\b\b\b\b\b\b\b\b\b\b\b\b\b\b\b\b\b\b\b\b\b\b\b\b\b\b\b\b\b\b\b\b\b\b\b\b\b\b\b\b\b\r",
      "1/1 [==============================] - 0s 96ms/step\n"
     ]
    },
    {
     "name": "stdout",
     "output_type": "stream",
     "text": [
      "\r",
      "1/1 [==============================] - ETA: 0s"
     ]
    },
    {
     "name": "stdout",
     "output_type": "stream",
     "text": [
      "\b\b\b\b\b\b\b\b\b\b\b\b\b\b\b\b\b\b\b\b\b\b\b\b\b\b\b\b\b\b\b\b\b\b\b\b\b\b\b\b\b\b\b\b\b\b\r",
      "1/1 [==============================] - 0s 91ms/step\n"
     ]
    },
    {
     "name": "stdout",
     "output_type": "stream",
     "text": [
      "\r",
      "1/1 [==============================] - ETA: 0s"
     ]
    },
    {
     "name": "stdout",
     "output_type": "stream",
     "text": [
      "\b\b\b\b\b\b\b\b\b\b\b\b\b\b\b\b\b\b\b\b\b\b\b\b\b\b\b\b\b\b\b\b\b\b\b\b\b\b\b\b\b\b\b\b\b\b\r",
      "1/1 [==============================] - 0s 86ms/step\n"
     ]
    },
    {
     "name": "stdout",
     "output_type": "stream",
     "text": [
      "\r",
      "1/1 [==============================] - ETA: 0s"
     ]
    },
    {
     "name": "stdout",
     "output_type": "stream",
     "text": [
      "\b\b\b\b\b\b\b\b\b\b\b\b\b\b\b\b\b\b\b\b\b\b\b\b\b\b\b\b\b\b\b\b\b\b\b\b\b\b\b\b\b\b\b\b\b\b\r",
      "1/1 [==============================] - 0s 90ms/step\n"
     ]
    },
    {
     "name": "stdout",
     "output_type": "stream",
     "text": [
      "\r",
      "1/1 [==============================] - ETA: 0s"
     ]
    },
    {
     "name": "stdout",
     "output_type": "stream",
     "text": [
      "\b\b\b\b\b\b\b\b\b\b\b\b\b\b\b\b\b\b\b\b\b\b\b\b\b\b\b\b\b\b\b\b\b\b\b\b\b\b\b\b\b\b\b\b\b\b\r",
      "1/1 [==============================] - 0s 88ms/step\n"
     ]
    },
    {
     "name": "stdout",
     "output_type": "stream",
     "text": [
      "\r",
      "1/1 [==============================] - ETA: 0s"
     ]
    },
    {
     "name": "stdout",
     "output_type": "stream",
     "text": [
      "\b\b\b\b\b\b\b\b\b\b\b\b\b\b\b\b\b\b\b\b\b\b\b\b\b\b\b\b\b\b\b\b\b\b\b\b\b\b\b\b\b\b\b\b\b\b\r",
      "1/1 [==============================] - 0s 85ms/step\n"
     ]
    },
    {
     "name": "stdout",
     "output_type": "stream",
     "text": [
      "\r",
      "1/1 [==============================] - ETA: 0s"
     ]
    },
    {
     "name": "stdout",
     "output_type": "stream",
     "text": [
      "\b\b\b\b\b\b\b\b\b\b\b\b\b\b\b\b\b\b\b\b\b\b\b\b\b\b\b\b\b\b\b\b\b\b\b\b\b\b\b\b\b\b\b\b\b\b\r",
      "1/1 [==============================] - 0s 83ms/step\n"
     ]
    },
    {
     "name": "stdout",
     "output_type": "stream",
     "text": [
      "\r",
      "1/1 [==============================] - ETA: 0s"
     ]
    },
    {
     "name": "stdout",
     "output_type": "stream",
     "text": [
      "\b\b\b\b\b\b\b\b\b\b\b\b\b\b\b\b\b\b\b\b\b\b\b\b\b\b\b\b\b\b\b\b\b\b\b\b\b\b\b\b\b\b\b\b\b\b\r",
      "1/1 [==============================] - 0s 84ms/step\n"
     ]
    },
    {
     "name": "stdout",
     "output_type": "stream",
     "text": [
      "\r",
      "1/1 [==============================] - ETA: 0s"
     ]
    },
    {
     "name": "stdout",
     "output_type": "stream",
     "text": [
      "\b\b\b\b\b\b\b\b\b\b\b\b\b\b\b\b\b\b\b\b\b\b\b\b\b\b\b\b\b\b\b\b\b\b\b\b\b\b\b\b\b\b\b\b\b\b\r",
      "1/1 [==============================] - 0s 88ms/step\n"
     ]
    },
    {
     "name": "stdout",
     "output_type": "stream",
     "text": [
      "\r",
      "1/1 [==============================] - ETA: 0s"
     ]
    },
    {
     "name": "stdout",
     "output_type": "stream",
     "text": [
      "\b\b\b\b\b\b\b\b\b\b\b\b\b\b\b\b\b\b\b\b\b\b\b\b\b\b\b\b\b\b\b\b\b\b\b\b\b\b\b\b\b\b\b\b\b\b\r",
      "1/1 [==============================] - 0s 82ms/step\n"
     ]
    },
    {
     "name": "stdout",
     "output_type": "stream",
     "text": [
      "\r",
      "1/1 [==============================] - ETA: 0s"
     ]
    },
    {
     "name": "stdout",
     "output_type": "stream",
     "text": [
      "\b\b\b\b\b\b\b\b\b\b\b\b\b\b\b\b\b\b\b\b\b\b\b\b\b\b\b\b\b\b\b\b\b\b\b\b\b\b\b\b\b\b\b\b\b\b\r",
      "1/1 [==============================] - 0s 96ms/step\n"
     ]
    },
    {
     "name": "stdout",
     "output_type": "stream",
     "text": [
      "\r",
      "1/1 [==============================] - ETA: 0s"
     ]
    },
    {
     "name": "stdout",
     "output_type": "stream",
     "text": [
      "\b\b\b\b\b\b\b\b\b\b\b\b\b\b\b\b\b\b\b\b\b\b\b\b\b\b\b\b\b\b\b\b\b\b\b\b\b\b\b\b\b\b\b\b\b\b\r",
      "1/1 [==============================] - 0s 85ms/step\n"
     ]
    },
    {
     "name": "stdout",
     "output_type": "stream",
     "text": [
      "\r",
      "1/1 [==============================] - ETA: 0s"
     ]
    },
    {
     "name": "stdout",
     "output_type": "stream",
     "text": [
      "\b\b\b\b\b\b\b\b\b\b\b\b\b\b\b\b\b\b\b\b\b\b\b\b\b\b\b\b\b\b\b\b\b\b\b\b\b\b\b\b\b\b\b\b\b\b\r",
      "1/1 [==============================] - 0s 86ms/step\n"
     ]
    },
    {
     "name": "stdout",
     "output_type": "stream",
     "text": [
      "\r",
      "1/1 [==============================] - ETA: 0s"
     ]
    },
    {
     "name": "stdout",
     "output_type": "stream",
     "text": [
      "\b\b\b\b\b\b\b\b\b\b\b\b\b\b\b\b\b\b\b\b\b\b\b\b\b\b\b\b\b\b\b\b\b\b\b\b\b\b\b\b\b\b\b\b\b\b\r",
      "1/1 [==============================] - 0s 91ms/step\n"
     ]
    },
    {
     "name": "stdout",
     "output_type": "stream",
     "text": [
      "\r",
      "1/1 [==============================] - ETA: 0s"
     ]
    },
    {
     "name": "stdout",
     "output_type": "stream",
     "text": [
      "\b\b\b\b\b\b\b\b\b\b\b\b\b\b\b\b\b\b\b\b\b\b\b\b\b\b\b\b\b\b\b\b\b\b\b\b\b\b\b\b\b\b\b\b\b\b\r",
      "1/1 [==============================] - 0s 88ms/step\n"
     ]
    },
    {
     "name": "stdout",
     "output_type": "stream",
     "text": [
      "\r",
      "1/1 [==============================] - ETA: 0s"
     ]
    },
    {
     "name": "stdout",
     "output_type": "stream",
     "text": [
      "\b\b\b\b\b\b\b\b\b\b\b\b\b\b\b\b\b\b\b\b\b\b\b\b\b\b\b\b\b\b\b\b\b\b\b\b\b\b\b\b\b\b\b\b\b\b\r",
      "1/1 [==============================] - 0s 94ms/step\n"
     ]
    },
    {
     "name": "stdout",
     "output_type": "stream",
     "text": [
      "\r",
      "1/1 [==============================] - ETA: 0s"
     ]
    },
    {
     "name": "stdout",
     "output_type": "stream",
     "text": [
      "\b\b\b\b\b\b\b\b\b\b\b\b\b\b\b\b\b\b\b\b\b\b\b\b\b\b\b\b\b\b\b\b\b\b\b\b\b\b\b\b\b\b\b\b\b\b\r",
      "1/1 [==============================] - 0s 93ms/step\n"
     ]
    },
    {
     "name": "stdout",
     "output_type": "stream",
     "text": [
      "\r",
      "1/1 [==============================] - ETA: 0s"
     ]
    },
    {
     "name": "stdout",
     "output_type": "stream",
     "text": [
      "\b\b\b\b\b\b\b\b\b\b\b\b\b\b\b\b\b\b\b\b\b\b\b\b\b\b\b\b\b\b\b\b\b\b\b\b\b\b\b\b\b\b\b\b\b\b\r",
      "1/1 [==============================] - 0s 86ms/step\n"
     ]
    },
    {
     "name": "stdout",
     "output_type": "stream",
     "text": [
      "\r",
      "1/1 [==============================] - ETA: 0s"
     ]
    },
    {
     "name": "stdout",
     "output_type": "stream",
     "text": [
      "\b\b\b\b\b\b\b\b\b\b\b\b\b\b\b\b\b\b\b\b\b\b\b\b\b\b\b\b\b\b\b\b\b\b\b\b\b\b\b\b\b\b\b\b\b\b\r",
      "1/1 [==============================] - 0s 94ms/step\n"
     ]
    },
    {
     "name": "stdout",
     "output_type": "stream",
     "text": [
      "\r",
      "1/1 [==============================] - ETA: 0s"
     ]
    },
    {
     "name": "stdout",
     "output_type": "stream",
     "text": [
      "\b\b\b\b\b\b\b\b\b\b\b\b\b\b\b\b\b\b\b\b\b\b\b\b\b\b\b\b\b\b\b\b\b\b\b\b\b\b\b\b\b\b\b\b\b\b\r",
      "1/1 [==============================] - 0s 88ms/step\n"
     ]
    },
    {
     "name": "stdout",
     "output_type": "stream",
     "text": [
      "\r",
      "1/1 [==============================] - ETA: 0s"
     ]
    },
    {
     "name": "stdout",
     "output_type": "stream",
     "text": [
      "\b\b\b\b\b\b\b\b\b\b\b\b\b\b\b\b\b\b\b\b\b\b\b\b\b\b\b\b\b\b\b\b\b\b\b\b\b\b\b\b\b\b\b\b\b\b\r",
      "1/1 [==============================] - 0s 86ms/step\n"
     ]
    },
    {
     "name": "stdout",
     "output_type": "stream",
     "text": [
      "\r",
      "1/1 [==============================] - ETA: 0s"
     ]
    },
    {
     "name": "stdout",
     "output_type": "stream",
     "text": [
      "\b\b\b\b\b\b\b\b\b\b\b\b\b\b\b\b\b\b\b\b\b\b\b\b\b\b\b\b\b\b\b\b\b\b\b\b\b\b\b\b\b\b\b\b\b\b\r",
      "1/1 [==============================] - 0s 88ms/step\n"
     ]
    },
    {
     "name": "stdout",
     "output_type": "stream",
     "text": [
      "\r",
      "1/1 [==============================] - ETA: 0s"
     ]
    },
    {
     "name": "stdout",
     "output_type": "stream",
     "text": [
      "\b\b\b\b\b\b\b\b\b\b\b\b\b\b\b\b\b\b\b\b\b\b\b\b\b\b\b\b\b\b\b\b\b\b\b\b\b\b\b\b\b\b\b\b\b\b\r",
      "1/1 [==============================] - 0s 79ms/step\n"
     ]
    },
    {
     "name": "stdout",
     "output_type": "stream",
     "text": [
      "\r",
      "1/1 [==============================] - ETA: 0s"
     ]
    },
    {
     "name": "stdout",
     "output_type": "stream",
     "text": [
      "\b\b\b\b\b\b\b\b\b\b\b\b\b\b\b\b\b\b\b\b\b\b\b\b\b\b\b\b\b\b\b\b\b\b\b\b\b\b\b\b\b\b\b\b\b\b\r",
      "1/1 [==============================] - 0s 85ms/step\n"
     ]
    },
    {
     "name": "stdout",
     "output_type": "stream",
     "text": [
      "\r",
      "1/1 [==============================] - ETA: 0s"
     ]
    },
    {
     "name": "stdout",
     "output_type": "stream",
     "text": [
      "\b\b\b\b\b\b\b\b\b\b\b\b\b\b\b\b\b\b\b\b\b\b\b\b\b\b\b\b\b\b\b\b\b\b\b\b\b\b\b\b\b\b\b\b\b\b\r",
      "1/1 [==============================] - 0s 88ms/step\n"
     ]
    },
    {
     "name": "stdout",
     "output_type": "stream",
     "text": [
      "\r",
      "1/1 [==============================] - ETA: 0s"
     ]
    },
    {
     "name": "stdout",
     "output_type": "stream",
     "text": [
      "\b\b\b\b\b\b\b\b\b\b\b\b\b\b\b\b\b\b\b\b\b\b\b\b\b\b\b\b\b\b\b\b\b\b\b\b\b\b\b\b\b\b\b\b\b\b\r",
      "1/1 [==============================] - 0s 89ms/step\n"
     ]
    },
    {
     "name": "stdout",
     "output_type": "stream",
     "text": [
      "\r",
      "1/1 [==============================] - ETA: 0s"
     ]
    },
    {
     "name": "stdout",
     "output_type": "stream",
     "text": [
      "\b\b\b\b\b\b\b\b\b\b\b\b\b\b\b\b\b\b\b\b\b\b\b\b\b\b\b\b\b\b\b\b\b\b\b\b\b\b\b\b\b\b\b\b\b\b\r",
      "1/1 [==============================] - 0s 87ms/step\n"
     ]
    },
    {
     "name": "stdout",
     "output_type": "stream",
     "text": [
      "\r",
      "1/1 [==============================] - ETA: 0s"
     ]
    },
    {
     "name": "stdout",
     "output_type": "stream",
     "text": [
      "\b\b\b\b\b\b\b\b\b\b\b\b\b\b\b\b\b\b\b\b\b\b\b\b\b\b\b\b\b\b\b\b\b\b\b\b\b\b\b\b\b\b\b\b\b\b\r",
      "1/1 [==============================] - 0s 89ms/step\n"
     ]
    },
    {
     "name": "stdout",
     "output_type": "stream",
     "text": [
      "\r",
      "1/1 [==============================] - ETA: 0s"
     ]
    },
    {
     "name": "stdout",
     "output_type": "stream",
     "text": [
      "\b\b\b\b\b\b\b\b\b\b\b\b\b\b\b\b\b\b\b\b\b\b\b\b\b\b\b\b\b\b\b\b\b\b\b\b\b\b\b\b\b\b\b\b\b\b\r",
      "1/1 [==============================] - 0s 84ms/step\n"
     ]
    },
    {
     "name": "stdout",
     "output_type": "stream",
     "text": [
      "\r",
      "1/1 [==============================] - ETA: 0s"
     ]
    },
    {
     "name": "stdout",
     "output_type": "stream",
     "text": [
      "\b\b\b\b\b\b\b\b\b\b\b\b\b\b\b\b\b\b\b\b\b\b\b\b\b\b\b\b\b\b\b\b\b\b\b\b\b\b\b\b\b\b\b\b\b\b\r",
      "1/1 [==============================] - 0s 82ms/step\n"
     ]
    },
    {
     "name": "stdout",
     "output_type": "stream",
     "text": [
      "\r",
      "1/1 [==============================] - ETA: 0s"
     ]
    },
    {
     "name": "stdout",
     "output_type": "stream",
     "text": [
      "\b\b\b\b\b\b\b\b\b\b\b\b\b\b\b\b\b\b\b\b\b\b\b\b\b\b\b\b\b\b\b\b\b\b\b\b\b\b\b\b\b\b\b\b\b\b\r",
      "1/1 [==============================] - 0s 94ms/step\n"
     ]
    },
    {
     "name": "stdout",
     "output_type": "stream",
     "text": [
      "\r",
      "1/1 [==============================] - ETA: 0s"
     ]
    },
    {
     "name": "stdout",
     "output_type": "stream",
     "text": [
      "\b\b\b\b\b\b\b\b\b\b\b\b\b\b\b\b\b\b\b\b\b\b\b\b\b\b\b\b\b\b\b\b\b\b\b\b\b\b\b\b\b\b\b\b\b\b\r",
      "1/1 [==============================] - 0s 80ms/step\n"
     ]
    },
    {
     "name": "stdout",
     "output_type": "stream",
     "text": [
      "\r",
      "1/1 [==============================] - ETA: 0s"
     ]
    },
    {
     "name": "stdout",
     "output_type": "stream",
     "text": [
      "\b\b\b\b\b\b\b\b\b\b\b\b\b\b\b\b\b\b\b\b\b\b\b\b\b\b\b\b\b\b\b\b\b\b\b\b\b\b\b\b\b\b\b\b\b\b\r",
      "1/1 [==============================] - 0s 90ms/step\n"
     ]
    },
    {
     "name": "stdout",
     "output_type": "stream",
     "text": [
      "\r",
      "1/1 [==============================] - ETA: 0s"
     ]
    },
    {
     "name": "stdout",
     "output_type": "stream",
     "text": [
      "\b\b\b\b\b\b\b\b\b\b\b\b\b\b\b\b\b\b\b\b\b\b\b\b\b\b\b\b\b\b\b\b\b\b\b\b\b\b\b\b\b\b\b\b\b\b\r",
      "1/1 [==============================] - 0s 85ms/step\n"
     ]
    },
    {
     "name": "stdout",
     "output_type": "stream",
     "text": [
      "\r",
      "1/1 [==============================] - ETA: 0s"
     ]
    },
    {
     "name": "stdout",
     "output_type": "stream",
     "text": [
      "\b\b\b\b\b\b\b\b\b\b\b\b\b\b\b\b\b\b\b\b\b\b\b\b\b\b\b\b\b\b\b\b\b\b\b\b\b\b\b\b\b\b\b\b\b\b\r",
      "1/1 [==============================] - 0s 87ms/step\n"
     ]
    },
    {
     "name": "stdout",
     "output_type": "stream",
     "text": [
      "\r",
      "1/1 [==============================] - ETA: 0s"
     ]
    },
    {
     "name": "stdout",
     "output_type": "stream",
     "text": [
      "\b\b\b\b\b\b\b\b\b\b\b\b\b\b\b\b\b\b\b\b\b\b\b\b\b\b\b\b\b\b\b\b\b\b\b\b\b\b\b\b\b\b\b\b\b\b\r",
      "1/1 [==============================] - 0s 86ms/step\n"
     ]
    },
    {
     "name": "stdout",
     "output_type": "stream",
     "text": [
      "\r",
      "1/1 [==============================] - ETA: 0s"
     ]
    },
    {
     "name": "stdout",
     "output_type": "stream",
     "text": [
      "\b\b\b\b\b\b\b\b\b\b\b\b\b\b\b\b\b\b\b\b\b\b\b\b\b\b\b\b\b\b\b\b\b\b\b\b\b\b\b\b\b\b\b\b\b\b\r",
      "1/1 [==============================] - 0s 82ms/step\n"
     ]
    },
    {
     "name": "stdout",
     "output_type": "stream",
     "text": [
      "\r",
      "1/1 [==============================] - ETA: 0s"
     ]
    },
    {
     "name": "stdout",
     "output_type": "stream",
     "text": [
      "\b\b\b\b\b\b\b\b\b\b\b\b\b\b\b\b\b\b\b\b\b\b\b\b\b\b\b\b\b\b\b\b\b\b\b\b\b\b\b\b\b\b\b\b\b\b\r",
      "1/1 [==============================] - 0s 85ms/step\n"
     ]
    },
    {
     "name": "stdout",
     "output_type": "stream",
     "text": [
      "\r",
      "1/1 [==============================] - ETA: 0s"
     ]
    },
    {
     "name": "stdout",
     "output_type": "stream",
     "text": [
      "\b\b\b\b\b\b\b\b\b\b\b\b\b\b\b\b\b\b\b\b\b\b\b\b\b\b\b\b\b\b\b\b\b\b\b\b\b\b\b\b\b\b\b\b\b\b\r",
      "1/1 [==============================] - 0s 87ms/step\n"
     ]
    },
    {
     "name": "stdout",
     "output_type": "stream",
     "text": [
      "\r",
      "1/1 [==============================] - ETA: 0s"
     ]
    },
    {
     "name": "stdout",
     "output_type": "stream",
     "text": [
      "\b\b\b\b\b\b\b\b\b\b\b\b\b\b\b\b\b\b\b\b\b\b\b\b\b\b\b\b\b\b\b\b\b\b\b\b\b\b\b\b\b\b\b\b\b\b\r",
      "1/1 [==============================] - 0s 92ms/step\n"
     ]
    },
    {
     "name": "stdout",
     "output_type": "stream",
     "text": [
      "\r",
      "1/1 [==============================] - ETA: 0s"
     ]
    },
    {
     "name": "stdout",
     "output_type": "stream",
     "text": [
      "\b\b\b\b\b\b\b\b\b\b\b\b\b\b\b\b\b\b\b\b\b\b\b\b\b\b\b\b\b\b\b\b\b\b\b\b\b\b\b\b\b\b\b\b\b\b\r",
      "1/1 [==============================] - 0s 83ms/step\n"
     ]
    },
    {
     "name": "stdout",
     "output_type": "stream",
     "text": [
      "\r",
      "1/1 [==============================] - ETA: 0s"
     ]
    },
    {
     "name": "stdout",
     "output_type": "stream",
     "text": [
      "\b\b\b\b\b\b\b\b\b\b\b\b\b\b\b\b\b\b\b\b\b\b\b\b\b\b\b\b\b\b\b\b\b\b\b\b\b\b\b\b\b\b\b\b\b\b\r",
      "1/1 [==============================] - 0s 87ms/step\n"
     ]
    },
    {
     "name": "stdout",
     "output_type": "stream",
     "text": [
      "\r",
      "1/1 [==============================] - ETA: 0s"
     ]
    },
    {
     "name": "stdout",
     "output_type": "stream",
     "text": [
      "\b\b\b\b\b\b\b\b\b\b\b\b\b\b\b\b\b\b\b\b\b\b\b\b\b\b\b\b\b\b\b\b\b\b\b\b\b\b\b\b\b\b\b\b\b\b\r",
      "1/1 [==============================] - 0s 90ms/step\n"
     ]
    },
    {
     "name": "stdout",
     "output_type": "stream",
     "text": [
      "\r",
      "1/1 [==============================] - ETA: 0s"
     ]
    },
    {
     "name": "stdout",
     "output_type": "stream",
     "text": [
      "\b\b\b\b\b\b\b\b\b\b\b\b\b\b\b\b\b\b\b\b\b\b\b\b\b\b\b\b\b\b\b\b\b\b\b\b\b\b\b\b\b\b\b\b\b\b\r",
      "1/1 [==============================] - 0s 81ms/step\n"
     ]
    },
    {
     "name": "stdout",
     "output_type": "stream",
     "text": [
      "\r",
      "1/1 [==============================] - ETA: 0s"
     ]
    },
    {
     "name": "stdout",
     "output_type": "stream",
     "text": [
      "\b\b\b\b\b\b\b\b\b\b\b\b\b\b\b\b\b\b\b\b\b\b\b\b\b\b\b\b\b\b\b\b\b\b\b\b\b\b\b\b\b\b\b\b\b\b\r",
      "1/1 [==============================] - 0s 83ms/step\n"
     ]
    },
    {
     "name": "stdout",
     "output_type": "stream",
     "text": [
      "\r",
      "1/1 [==============================] - ETA: 0s"
     ]
    },
    {
     "name": "stdout",
     "output_type": "stream",
     "text": [
      "\b\b\b\b\b\b\b\b\b\b\b\b\b\b\b\b\b\b\b\b\b\b\b\b\b\b\b\b\b\b\b\b\b\b\b\b\b\b\b\b\b\b\b\b\b\b\r",
      "1/1 [==============================] - 0s 92ms/step\n"
     ]
    },
    {
     "name": "stdout",
     "output_type": "stream",
     "text": [
      "\r",
      "1/1 [==============================] - ETA: 0s"
     ]
    },
    {
     "name": "stdout",
     "output_type": "stream",
     "text": [
      "\b\b\b\b\b\b\b\b\b\b\b\b\b\b\b\b\b\b\b\b\b\b\b\b\b\b\b\b\b\b\b\b\b\b\b\b\b\b\b\b\b\b\b\b\b\b\r",
      "1/1 [==============================] - 0s 82ms/step\n"
     ]
    },
    {
     "name": "stdout",
     "output_type": "stream",
     "text": [
      "\r",
      "1/1 [==============================] - ETA: 0s"
     ]
    },
    {
     "name": "stdout",
     "output_type": "stream",
     "text": [
      "\b\b\b\b\b\b\b\b\b\b\b\b\b\b\b\b\b\b\b\b\b\b\b\b\b\b\b\b\b\b\b\b\b\b\b\b\b\b\b\b\b\b\b\b\b\b\r",
      "1/1 [==============================] - 0s 79ms/step\n"
     ]
    },
    {
     "name": "stdout",
     "output_type": "stream",
     "text": [
      "\r",
      "1/1 [==============================] - ETA: 0s"
     ]
    },
    {
     "name": "stdout",
     "output_type": "stream",
     "text": [
      "\b\b\b\b\b\b\b\b\b\b\b\b\b\b\b\b\b\b\b\b\b\b\b\b\b\b\b\b\b\b\b\b\b\b\b\b\b\b\b\b\b\b\b\b\b\b\r",
      "1/1 [==============================] - 0s 95ms/step\n"
     ]
    },
    {
     "name": "stdout",
     "output_type": "stream",
     "text": [
      "\r",
      "1/1 [==============================] - ETA: 0s"
     ]
    },
    {
     "name": "stdout",
     "output_type": "stream",
     "text": [
      "\b\b\b\b\b\b\b\b\b\b\b\b\b\b\b\b\b\b\b\b\b\b\b\b\b\b\b\b\b\b\b\b\b\b\b\b\b\b\b\b\b\b\b\b\b\b\r",
      "1/1 [==============================] - 0s 87ms/step\n"
     ]
    },
    {
     "name": "stdout",
     "output_type": "stream",
     "text": [
      "\r",
      "1/1 [==============================] - ETA: 0s"
     ]
    },
    {
     "name": "stdout",
     "output_type": "stream",
     "text": [
      "\b\b\b\b\b\b\b\b\b\b\b\b\b\b\b\b\b\b\b\b\b\b\b\b\b\b\b\b\b\b\b\b\b\b\b\b\b\b\b\b\b\b\b\b\b\b\r",
      "1/1 [==============================] - 0s 82ms/step\n"
     ]
    },
    {
     "name": "stdout",
     "output_type": "stream",
     "text": [
      "\r",
      "1/1 [==============================] - ETA: 0s"
     ]
    },
    {
     "name": "stdout",
     "output_type": "stream",
     "text": [
      "\b\b\b\b\b\b\b\b\b\b\b\b\b\b\b\b\b\b\b\b\b\b\b\b\b\b\b\b\b\b\b\b\b\b\b\b\b\b\b\b\b\b\b\b\b\b\r",
      "1/1 [==============================] - 0s 81ms/step\n"
     ]
    },
    {
     "name": "stdout",
     "output_type": "stream",
     "text": [
      "\r",
      "1/1 [==============================] - ETA: 0s"
     ]
    },
    {
     "name": "stdout",
     "output_type": "stream",
     "text": [
      "\b\b\b\b\b\b\b\b\b\b\b\b\b\b\b\b\b\b\b\b\b\b\b\b\b\b\b\b\b\b\b\b\b\b\b\b\b\b\b\b\b\b\b\b\b\b\r",
      "1/1 [==============================] - 0s 80ms/step\n"
     ]
    },
    {
     "name": "stdout",
     "output_type": "stream",
     "text": [
      "\r",
      "1/1 [==============================] - ETA: 0s"
     ]
    },
    {
     "name": "stdout",
     "output_type": "stream",
     "text": [
      "\b\b\b\b\b\b\b\b\b\b\b\b\b\b\b\b\b\b\b\b\b\b\b\b\b\b\b\b\b\b\b\b\b\b\b\b\b\b\b\b\b\b\b\b\b\b\r",
      "1/1 [==============================] - 0s 86ms/step\n"
     ]
    },
    {
     "name": "stdout",
     "output_type": "stream",
     "text": [
      "\r",
      "1/1 [==============================] - ETA: 0s"
     ]
    },
    {
     "name": "stdout",
     "output_type": "stream",
     "text": [
      "\b\b\b\b\b\b\b\b\b\b\b\b\b\b\b\b\b\b\b\b\b\b\b\b\b\b\b\b\b\b\b\b\b\b\b\b\b\b\b\b\b\b\b\b\b\b\r",
      "1/1 [==============================] - 0s 91ms/step\n"
     ]
    },
    {
     "name": "stdout",
     "output_type": "stream",
     "text": [
      "\r",
      "1/1 [==============================] - ETA: 0s"
     ]
    },
    {
     "name": "stdout",
     "output_type": "stream",
     "text": [
      "\b\b\b\b\b\b\b\b\b\b\b\b\b\b\b\b\b\b\b\b\b\b\b\b\b\b\b\b\b\b\b\b\b\b\b\b\b\b\b\b\b\b\b\b\b\b\r",
      "1/1 [==============================] - 0s 84ms/step\n"
     ]
    },
    {
     "name": "stdout",
     "output_type": "stream",
     "text": [
      "\r",
      "1/1 [==============================] - ETA: 0s"
     ]
    },
    {
     "name": "stdout",
     "output_type": "stream",
     "text": [
      "\b\b\b\b\b\b\b\b\b\b\b\b\b\b\b\b\b\b\b\b\b\b\b\b\b\b\b\b\b\b\b\b\b\b\b\b\b\b\b\b\b\b\b\b\b\b\r",
      "1/1 [==============================] - 0s 100ms/step\n"
     ]
    },
    {
     "name": "stdout",
     "output_type": "stream",
     "text": [
      "\r",
      "1/1 [==============================] - ETA: 0s"
     ]
    },
    {
     "name": "stdout",
     "output_type": "stream",
     "text": [
      "\b\b\b\b\b\b\b\b\b\b\b\b\b\b\b\b\b\b\b\b\b\b\b\b\b\b\b\b\b\b\b\b\b\b\b\b\b\b\b\b\b\b\b\b\b\b\r",
      "1/1 [==============================] - 0s 85ms/step\n"
     ]
    },
    {
     "name": "stdout",
     "output_type": "stream",
     "text": [
      "\r",
      "1/1 [==============================] - ETA: 0s"
     ]
    },
    {
     "name": "stdout",
     "output_type": "stream",
     "text": [
      "\b\b\b\b\b\b\b\b\b\b\b\b\b\b\b\b\b\b\b\b\b\b\b\b\b\b\b\b\b\b\b\b\b\b\b\b\b\b\b\b\b\b\b\b\b\b\r",
      "1/1 [==============================] - 0s 86ms/step\n"
     ]
    },
    {
     "name": "stdout",
     "output_type": "stream",
     "text": [
      "\r",
      "1/1 [==============================] - ETA: 0s"
     ]
    },
    {
     "name": "stdout",
     "output_type": "stream",
     "text": [
      "\b\b\b\b\b\b\b\b\b\b\b\b\b\b\b\b\b\b\b\b\b\b\b\b\b\b\b\b\b\b\b\b\b\b\b\b\b\b\b\b\b\b\b\b\b\b\r",
      "1/1 [==============================] - 0s 85ms/step\n"
     ]
    },
    {
     "name": "stdout",
     "output_type": "stream",
     "text": [
      "\r",
      "1/1 [==============================] - ETA: 0s"
     ]
    },
    {
     "name": "stdout",
     "output_type": "stream",
     "text": [
      "\b\b\b\b\b\b\b\b\b\b\b\b\b\b\b\b\b\b\b\b\b\b\b\b\b\b\b\b\b\b\b\b\b\b\b\b\b\b\b\b\b\b\b\b\b\b\r",
      "1/1 [==============================] - 0s 81ms/step\n"
     ]
    },
    {
     "name": "stdout",
     "output_type": "stream",
     "text": [
      "\r",
      "1/1 [==============================] - ETA: 0s"
     ]
    },
    {
     "name": "stdout",
     "output_type": "stream",
     "text": [
      "\b\b\b\b\b\b\b\b\b\b\b\b\b\b\b\b\b\b\b\b\b\b\b\b\b\b\b\b\b\b\b\b\b\b\b\b\b\b\b\b\b\b\b\b\b\b\r",
      "1/1 [==============================] - 0s 96ms/step\n"
     ]
    },
    {
     "name": "stdout",
     "output_type": "stream",
     "text": [
      "\r",
      "1/1 [==============================] - ETA: 0s"
     ]
    },
    {
     "name": "stdout",
     "output_type": "stream",
     "text": [
      "\b\b\b\b\b\b\b\b\b\b\b\b\b\b\b\b\b\b\b\b\b\b\b\b\b\b\b\b\b\b\b\b\b\b\b\b\b\b\b\b\b\b\b\b\b\b\r",
      "1/1 [==============================] - 0s 93ms/step\n"
     ]
    },
    {
     "name": "stdout",
     "output_type": "stream",
     "text": [
      "\r",
      "1/1 [==============================] - ETA: 0s"
     ]
    },
    {
     "name": "stdout",
     "output_type": "stream",
     "text": [
      "\b\b\b\b\b\b\b\b\b\b\b\b\b\b\b\b\b\b\b\b\b\b\b\b\b\b\b\b\b\b\b\b\b\b\b\b\b\b\b\b\b\b\b\b\b\b\r",
      "1/1 [==============================] - 0s 95ms/step\n"
     ]
    },
    {
     "name": "stdout",
     "output_type": "stream",
     "text": [
      "\r",
      "1/1 [==============================] - ETA: 0s"
     ]
    },
    {
     "name": "stdout",
     "output_type": "stream",
     "text": [
      "\b\b\b\b\b\b\b\b\b\b\b\b\b\b\b\b\b\b\b\b\b\b\b\b\b\b\b\b\b\b\b\b\b\b\b\b\b\b\b\b\b\b\b\b\b\b\r",
      "1/1 [==============================] - 0s 95ms/step\n"
     ]
    },
    {
     "name": "stdout",
     "output_type": "stream",
     "text": [
      "\r",
      "1/1 [==============================] - ETA: 0s"
     ]
    },
    {
     "name": "stdout",
     "output_type": "stream",
     "text": [
      "\b\b\b\b\b\b\b\b\b\b\b\b\b\b\b\b\b\b\b\b\b\b\b\b\b\b\b\b\b\b\b\b\b\b\b\b\b\b\b\b\b\b\b\b\b\b\r",
      "1/1 [==============================] - 0s 95ms/step\n"
     ]
    },
    {
     "name": "stdout",
     "output_type": "stream",
     "text": [
      "\r",
      "1/1 [==============================] - ETA: 0s"
     ]
    },
    {
     "name": "stdout",
     "output_type": "stream",
     "text": [
      "\b\b\b\b\b\b\b\b\b\b\b\b\b\b\b\b\b\b\b\b\b\b\b\b\b\b\b\b\b\b\b\b\b\b\b\b\b\b\b\b\b\b\b\b\b\b\r",
      "1/1 [==============================] - 0s 94ms/step\n"
     ]
    },
    {
     "name": "stdout",
     "output_type": "stream",
     "text": [
      "\r",
      "1/1 [==============================] - ETA: 0s"
     ]
    },
    {
     "name": "stdout",
     "output_type": "stream",
     "text": [
      "\b\b\b\b\b\b\b\b\b\b\b\b\b\b\b\b\b\b\b\b\b\b\b\b\b\b\b\b\b\b\b\b\b\b\b\b\b\b\b\b\b\b\b\b\b\b\r",
      "1/1 [==============================] - 0s 95ms/step\n"
     ]
    },
    {
     "name": "stdout",
     "output_type": "stream",
     "text": [
      "\r",
      "1/1 [==============================] - ETA: 0s"
     ]
    },
    {
     "name": "stdout",
     "output_type": "stream",
     "text": [
      "\b\b\b\b\b\b\b\b\b\b\b\b\b\b\b\b\b\b\b\b\b\b\b\b\b\b\b\b\b\b\b\b\b\b\b\b\b\b\b\b\b\b\b\b\b\b\r",
      "1/1 [==============================] - 0s 97ms/step\n"
     ]
    },
    {
     "name": "stdout",
     "output_type": "stream",
     "text": [
      "\r",
      "1/1 [==============================] - ETA: 0s"
     ]
    },
    {
     "name": "stdout",
     "output_type": "stream",
     "text": [
      "\b\b\b\b\b\b\b\b\b\b\b\b\b\b\b\b\b\b\b\b\b\b\b\b\b\b\b\b\b\b\b\b\b\b\b\b\b\b\b\b\b\b\b\b\b\b\r",
      "1/1 [==============================] - 0s 96ms/step\n"
     ]
    },
    {
     "name": "stdout",
     "output_type": "stream",
     "text": [
      "\r",
      "1/1 [==============================] - ETA: 0s"
     ]
    },
    {
     "name": "stdout",
     "output_type": "stream",
     "text": [
      "\b\b\b\b\b\b\b\b\b\b\b\b\b\b\b\b\b\b\b\b\b\b\b\b\b\b\b\b\b\b\b\b\b\b\b\b\b\b\b\b\b\b\b\b\b\b\r",
      "1/1 [==============================] - 0s 85ms/step\n"
     ]
    },
    {
     "name": "stdout",
     "output_type": "stream",
     "text": [
      "\r",
      "1/1 [==============================] - ETA: 0s"
     ]
    },
    {
     "name": "stdout",
     "output_type": "stream",
     "text": [
      "\b\b\b\b\b\b\b\b\b\b\b\b\b\b\b\b\b\b\b\b\b\b\b\b\b\b\b\b\b\b\b\b\b\b\b\b\b\b\b\b\b\b\b\b\b\b\r",
      "1/1 [==============================] - 0s 90ms/step\n"
     ]
    },
    {
     "name": "stdout",
     "output_type": "stream",
     "text": [
      "\r",
      "1/1 [==============================] - ETA: 0s"
     ]
    },
    {
     "name": "stdout",
     "output_type": "stream",
     "text": [
      "\b\b\b\b\b\b\b\b\b\b\b\b\b\b\b\b\b\b\b\b\b\b\b\b\b\b\b\b\b\b\b\b\b\b\b\b\b\b\b\b\b\b\b\b\b\b\r",
      "1/1 [==============================] - 0s 84ms/step\n"
     ]
    },
    {
     "name": "stdout",
     "output_type": "stream",
     "text": [
      "\r",
      "1/1 [==============================] - ETA: 0s"
     ]
    },
    {
     "name": "stdout",
     "output_type": "stream",
     "text": [
      "\b\b\b\b\b\b\b\b\b\b\b\b\b\b\b\b\b\b\b\b\b\b\b\b\b\b\b\b\b\b\b\b\b\b\b\b\b\b\b\b\b\b\b\b\b\b\r",
      "1/1 [==============================] - 0s 79ms/step\n"
     ]
    },
    {
     "name": "stdout",
     "output_type": "stream",
     "text": [
      "\r",
      "1/1 [==============================] - ETA: 0s"
     ]
    },
    {
     "name": "stdout",
     "output_type": "stream",
     "text": [
      "\b\b\b\b\b\b\b\b\b\b\b\b\b\b\b\b\b\b\b\b\b\b\b\b\b\b\b\b\b\b\b\b\b\b\b\b\b\b\b\b\b\b\b\b\b\b\r",
      "1/1 [==============================] - 0s 87ms/step\n"
     ]
    },
    {
     "name": "stdout",
     "output_type": "stream",
     "text": [
      "\r",
      "1/1 [==============================] - ETA: 0s"
     ]
    },
    {
     "name": "stdout",
     "output_type": "stream",
     "text": [
      "\b\b\b\b\b\b\b\b\b\b\b\b\b\b\b\b\b\b\b\b\b\b\b\b\b\b\b\b\b\b\b\b\b\b\b\b\b\b\b\b\b\b\b\b\b\b\r",
      "1/1 [==============================] - 0s 96ms/step\n"
     ]
    },
    {
     "name": "stdout",
     "output_type": "stream",
     "text": [
      "\r",
      "1/1 [==============================] - ETA: 0s"
     ]
    },
    {
     "name": "stdout",
     "output_type": "stream",
     "text": [
      "\b\b\b\b\b\b\b\b\b\b\b\b\b\b\b\b\b\b\b\b\b\b\b\b\b\b\b\b\b\b\b\b\b\b\b\b\b\b\b\b\b\b\b\b\b\b\r",
      "1/1 [==============================] - 0s 92ms/step\n"
     ]
    },
    {
     "name": "stdout",
     "output_type": "stream",
     "text": [
      "\r",
      "1/1 [==============================] - ETA: 0s"
     ]
    },
    {
     "name": "stdout",
     "output_type": "stream",
     "text": [
      "\b\b\b\b\b\b\b\b\b\b\b\b\b\b\b\b\b\b\b\b\b\b\b\b\b\b\b\b\b\b\b\b\b\b\b\b\b\b\b\b\b\b\b\b\b\b\r",
      "1/1 [==============================] - 0s 90ms/step\n"
     ]
    },
    {
     "name": "stdout",
     "output_type": "stream",
     "text": [
      "\r",
      "1/1 [==============================] - ETA: 0s"
     ]
    },
    {
     "name": "stdout",
     "output_type": "stream",
     "text": [
      "\b\b\b\b\b\b\b\b\b\b\b\b\b\b\b\b\b\b\b\b\b\b\b\b\b\b\b\b\b\b\b\b\b\b\b\b\b\b\b\b\b\b\b\b\b\b\r",
      "1/1 [==============================] - 0s 91ms/step\n"
     ]
    },
    {
     "name": "stdout",
     "output_type": "stream",
     "text": [
      "\r",
      "1/1 [==============================] - ETA: 0s"
     ]
    },
    {
     "name": "stdout",
     "output_type": "stream",
     "text": [
      "\b\b\b\b\b\b\b\b\b\b\b\b\b\b\b\b\b\b\b\b\b\b\b\b\b\b\b\b\b\b\b\b\b\b\b\b\b\b\b\b\b\b\b\b\b\b\r",
      "1/1 [==============================] - 0s 76ms/step\n"
     ]
    },
    {
     "name": "stdout",
     "output_type": "stream",
     "text": [
      "\r",
      "1/1 [==============================] - ETA: 0s"
     ]
    },
    {
     "name": "stdout",
     "output_type": "stream",
     "text": [
      "\b\b\b\b\b\b\b\b\b\b\b\b\b\b\b\b\b\b\b\b\b\b\b\b\b\b\b\b\b\b\b\b\b\b\b\b\b\b\b\b\b\b\b\b\b\b\r",
      "1/1 [==============================] - 0s 95ms/step\n"
     ]
    },
    {
     "name": "stdout",
     "output_type": "stream",
     "text": [
      "\r",
      "1/1 [==============================] - ETA: 0s"
     ]
    },
    {
     "name": "stdout",
     "output_type": "stream",
     "text": [
      "\b\b\b\b\b\b\b\b\b\b\b\b\b\b\b\b\b\b\b\b\b\b\b\b\b\b\b\b\b\b\b\b\b\b\b\b\b\b\b\b\b\b\b\b\b\b\r",
      "1/1 [==============================] - 0s 95ms/step\n"
     ]
    },
    {
     "name": "stdout",
     "output_type": "stream",
     "text": [
      "\r",
      "1/1 [==============================] - ETA: 0s"
     ]
    },
    {
     "name": "stdout",
     "output_type": "stream",
     "text": [
      "\b\b\b\b\b\b\b\b\b\b\b\b\b\b\b\b\b\b\b\b\b\b\b\b\b\b\b\b\b\b\b\b\b\b\b\b\b\b\b\b\b\b\b\b\b\b\r",
      "1/1 [==============================] - 0s 77ms/step\n"
     ]
    },
    {
     "name": "stdout",
     "output_type": "stream",
     "text": [
      "\r",
      "1/1 [==============================] - ETA: 0s"
     ]
    },
    {
     "name": "stdout",
     "output_type": "stream",
     "text": [
      "\b\b\b\b\b\b\b\b\b\b\b\b\b\b\b\b\b\b\b\b\b\b\b\b\b\b\b\b\b\b\b\b\b\b\b\b\b\b\b\b\b\b\b\b\b\b\r",
      "1/1 [==============================] - 0s 89ms/step\n"
     ]
    },
    {
     "name": "stdout",
     "output_type": "stream",
     "text": [
      "\r",
      "1/1 [==============================] - ETA: 0s"
     ]
    },
    {
     "name": "stdout",
     "output_type": "stream",
     "text": [
      "\b\b\b\b\b\b\b\b\b\b\b\b\b\b\b\b\b\b\b\b\b\b\b\b\b\b\b\b\b\b\b\b\b\b\b\b\b\b\b\b\b\b\b\b\b\b\r",
      "1/1 [==============================] - 0s 97ms/step\n"
     ]
    },
    {
     "name": "stdout",
     "output_type": "stream",
     "text": [
      "\r",
      "1/1 [==============================] - ETA: 0s"
     ]
    },
    {
     "name": "stdout",
     "output_type": "stream",
     "text": [
      "\b\b\b\b\b\b\b\b\b\b\b\b\b\b\b\b\b\b\b\b\b\b\b\b\b\b\b\b\b\b\b\b\b\b\b\b\b\b\b\b\b\b\b\b\b\b\r",
      "1/1 [==============================] - 0s 83ms/step\n"
     ]
    },
    {
     "name": "stdout",
     "output_type": "stream",
     "text": [
      "\r",
      "1/1 [==============================] - ETA: 0s"
     ]
    },
    {
     "name": "stdout",
     "output_type": "stream",
     "text": [
      "\b\b\b\b\b\b\b\b\b\b\b\b\b\b\b\b\b\b\b\b\b\b\b\b\b\b\b\b\b\b\b\b\b\b\b\b\b\b\b\b\b\b\b\b\b\b\r",
      "1/1 [==============================] - 0s 87ms/step\n"
     ]
    },
    {
     "name": "stdout",
     "output_type": "stream",
     "text": [
      "\r",
      "1/1 [==============================] - ETA: 0s"
     ]
    },
    {
     "name": "stdout",
     "output_type": "stream",
     "text": [
      "\b\b\b\b\b\b\b\b\b\b\b\b\b\b\b\b\b\b\b\b\b\b\b\b\b\b\b\b\b\b\b\b\b\b\b\b\b\b\b\b\b\b\b\b\b\b\r",
      "1/1 [==============================] - 0s 93ms/step\n"
     ]
    },
    {
     "name": "stdout",
     "output_type": "stream",
     "text": [
      "\r",
      "1/1 [==============================] - ETA: 0s"
     ]
    },
    {
     "name": "stdout",
     "output_type": "stream",
     "text": [
      "\b\b\b\b\b\b\b\b\b\b\b\b\b\b\b\b\b\b\b\b\b\b\b\b\b\b\b\b\b\b\b\b\b\b\b\b\b\b\b\b\b\b\b\b\b\b\r",
      "1/1 [==============================] - 0s 95ms/step\n"
     ]
    },
    {
     "name": "stdout",
     "output_type": "stream",
     "text": [
      "\r",
      "1/1 [==============================] - ETA: 0s"
     ]
    },
    {
     "name": "stdout",
     "output_type": "stream",
     "text": [
      "\b\b\b\b\b\b\b\b\b\b\b\b\b\b\b\b\b\b\b\b\b\b\b\b\b\b\b\b\b\b\b\b\b\b\b\b\b\b\b\b\b\b\b\b\b\b\r",
      "1/1 [==============================] - 0s 98ms/step\n"
     ]
    },
    {
     "name": "stdout",
     "output_type": "stream",
     "text": [
      "\r",
      "1/1 [==============================] - ETA: 0s"
     ]
    },
    {
     "name": "stdout",
     "output_type": "stream",
     "text": [
      "\b\b\b\b\b\b\b\b\b\b\b\b\b\b\b\b\b\b\b\b\b\b\b\b\b\b\b\b\b\b\b\b\b\b\b\b\b\b\b\b\b\b\b\b\b\b\r",
      "1/1 [==============================] - 0s 78ms/step\n"
     ]
    },
    {
     "name": "stdout",
     "output_type": "stream",
     "text": [
      "\r",
      "1/1 [==============================] - ETA: 0s"
     ]
    },
    {
     "name": "stdout",
     "output_type": "stream",
     "text": [
      "\b\b\b\b\b\b\b\b\b\b\b\b\b\b\b\b\b\b\b\b\b\b\b\b\b\b\b\b\b\b\b\b\b\b\b\b\b\b\b\b\b\b\b\b\b\b\r",
      "1/1 [==============================] - 0s 90ms/step\n"
     ]
    },
    {
     "name": "stdout",
     "output_type": "stream",
     "text": [
      "\r",
      "1/1 [==============================] - ETA: 0s"
     ]
    },
    {
     "name": "stdout",
     "output_type": "stream",
     "text": [
      "\b\b\b\b\b\b\b\b\b\b\b\b\b\b\b\b\b\b\b\b\b\b\b\b\b\b\b\b\b\b\b\b\b\b\b\b\b\b\b\b\b\b\b\b\b\b\r",
      "1/1 [==============================] - 0s 88ms/step\n"
     ]
    },
    {
     "name": "stdout",
     "output_type": "stream",
     "text": [
      "\r",
      "1/1 [==============================] - ETA: 0s"
     ]
    },
    {
     "name": "stdout",
     "output_type": "stream",
     "text": [
      "\b\b\b\b\b\b\b\b\b\b\b\b\b\b\b\b\b\b\b\b\b\b\b\b\b\b\b\b\b\b\b\b\b\b\b\b\b\b\b\b\b\b\b\b\b\b\r",
      "1/1 [==============================] - 0s 88ms/step\n"
     ]
    },
    {
     "name": "stdout",
     "output_type": "stream",
     "text": [
      "\r",
      "1/1 [==============================] - ETA: 0s"
     ]
    },
    {
     "name": "stdout",
     "output_type": "stream",
     "text": [
      "\b\b\b\b\b\b\b\b\b\b\b\b\b\b\b\b\b\b\b\b\b\b\b\b\b\b\b\b\b\b\b\b\b\b\b\b\b\b\b\b\b\b\b\b\b\b\r",
      "1/1 [==============================] - 0s 80ms/step\n"
     ]
    },
    {
     "name": "stdout",
     "output_type": "stream",
     "text": [
      "\r",
      "1/1 [==============================] - ETA: 0s"
     ]
    },
    {
     "name": "stdout",
     "output_type": "stream",
     "text": [
      "\b\b\b\b\b\b\b\b\b\b\b\b\b\b\b\b\b\b\b\b\b\b\b\b\b\b\b\b\b\b\b\b\b\b\b\b\b\b\b\b\b\b\b\b\b\b\r",
      "1/1 [==============================] - 0s 82ms/step\n"
     ]
    },
    {
     "name": "stdout",
     "output_type": "stream",
     "text": [
      "\r",
      "1/1 [==============================] - ETA: 0s"
     ]
    },
    {
     "name": "stdout",
     "output_type": "stream",
     "text": [
      "\b\b\b\b\b\b\b\b\b\b\b\b\b\b\b\b\b\b\b\b\b\b\b\b\b\b\b\b\b\b\b\b\b\b\b\b\b\b\b\b\b\b\b\b\b\b\r",
      "1/1 [==============================] - 0s 81ms/step\n"
     ]
    },
    {
     "name": "stdout",
     "output_type": "stream",
     "text": [
      "\r",
      "1/1 [==============================] - ETA: 0s"
     ]
    },
    {
     "name": "stdout",
     "output_type": "stream",
     "text": [
      "\b\b\b\b\b\b\b\b\b\b\b\b\b\b\b\b\b\b\b\b\b\b\b\b\b\b\b\b\b\b\b\b\b\b\b\b\b\b\b\b\b\b\b\b\b\b\r",
      "1/1 [==============================] - 0s 96ms/step\n"
     ]
    },
    {
     "name": "stdout",
     "output_type": "stream",
     "text": [
      "\r",
      "1/1 [==============================] - ETA: 0s"
     ]
    },
    {
     "name": "stdout",
     "output_type": "stream",
     "text": [
      "\b\b\b\b\b\b\b\b\b\b\b\b\b\b\b\b\b\b\b\b\b\b\b\b\b\b\b\b\b\b\b\b\b\b\b\b\b\b\b\b\b\b\b\b\b\b\r",
      "1/1 [==============================] - 0s 84ms/step\n"
     ]
    },
    {
     "name": "stdout",
     "output_type": "stream",
     "text": [
      "\r",
      "1/1 [==============================] - ETA: 0s"
     ]
    },
    {
     "name": "stdout",
     "output_type": "stream",
     "text": [
      "\b\b\b\b\b\b\b\b\b\b\b\b\b\b\b\b\b\b\b\b\b\b\b\b\b\b\b\b\b\b\b\b\b\b\b\b\b\b\b\b\b\b\b\b\b\b\r",
      "1/1 [==============================] - 0s 86ms/step\n"
     ]
    },
    {
     "name": "stdout",
     "output_type": "stream",
     "text": [
      "\r",
      "1/1 [==============================] - ETA: 0s"
     ]
    },
    {
     "name": "stdout",
     "output_type": "stream",
     "text": [
      "\b\b\b\b\b\b\b\b\b\b\b\b\b\b\b\b\b\b\b\b\b\b\b\b\b\b\b\b\b\b\b\b\b\b\b\b\b\b\b\b\b\b\b\b\b\b\r",
      "1/1 [==============================] - 0s 81ms/step\n"
     ]
    },
    {
     "name": "stdout",
     "output_type": "stream",
     "text": [
      "\r",
      "1/1 [==============================] - ETA: 0s"
     ]
    },
    {
     "name": "stdout",
     "output_type": "stream",
     "text": [
      "\b\b\b\b\b\b\b\b\b\b\b\b\b\b\b\b\b\b\b\b\b\b\b\b\b\b\b\b\b\b\b\b\b\b\b\b\b\b\b\b\b\b\b\b\b\b\r",
      "1/1 [==============================] - 0s 91ms/step\n"
     ]
    },
    {
     "name": "stdout",
     "output_type": "stream",
     "text": [
      "\r",
      "1/1 [==============================] - ETA: 0s"
     ]
    },
    {
     "name": "stdout",
     "output_type": "stream",
     "text": [
      "\b\b\b\b\b\b\b\b\b\b\b\b\b\b\b\b\b\b\b\b\b\b\b\b\b\b\b\b\b\b\b\b\b\b\b\b\b\b\b\b\b\b\b\b\b\b\r",
      "1/1 [==============================] - 0s 82ms/step\n"
     ]
    },
    {
     "name": "stdout",
     "output_type": "stream",
     "text": [
      "\r",
      "1/1 [==============================] - ETA: 0s"
     ]
    },
    {
     "name": "stdout",
     "output_type": "stream",
     "text": [
      "\b\b\b\b\b\b\b\b\b\b\b\b\b\b\b\b\b\b\b\b\b\b\b\b\b\b\b\b\b\b\b\b\b\b\b\b\b\b\b\b\b\b\b\b\b\b\r",
      "1/1 [==============================] - 0s 81ms/step\n"
     ]
    },
    {
     "name": "stdout",
     "output_type": "stream",
     "text": [
      "\r",
      "1/1 [==============================] - ETA: 0s"
     ]
    },
    {
     "name": "stdout",
     "output_type": "stream",
     "text": [
      "\b\b\b\b\b\b\b\b\b\b\b\b\b\b\b\b\b\b\b\b\b\b\b\b\b\b\b\b\b\b\b\b\b\b\b\b\b\b\b\b\b\b\b\b\b\b\r",
      "1/1 [==============================] - 0s 78ms/step\n"
     ]
    },
    {
     "name": "stdout",
     "output_type": "stream",
     "text": [
      "\r",
      "1/1 [==============================] - ETA: 0s"
     ]
    },
    {
     "name": "stdout",
     "output_type": "stream",
     "text": [
      "\b\b\b\b\b\b\b\b\b\b\b\b\b\b\b\b\b\b\b\b\b\b\b\b\b\b\b\b\b\b\b\b\b\b\b\b\b\b\b\b\b\b\b\b\b\b\r",
      "1/1 [==============================] - 0s 89ms/step\n"
     ]
    },
    {
     "name": "stdout",
     "output_type": "stream",
     "text": [
      "\r",
      "1/1 [==============================] - ETA: 0s"
     ]
    },
    {
     "name": "stdout",
     "output_type": "stream",
     "text": [
      "\b\b\b\b\b\b\b\b\b\b\b\b\b\b\b\b\b\b\b\b\b\b\b\b\b\b\b\b\b\b\b\b\b\b\b\b\b\b\b\b\b\b\b\b\b\b\r",
      "1/1 [==============================] - 0s 85ms/step\n"
     ]
    },
    {
     "name": "stdout",
     "output_type": "stream",
     "text": [
      "\r",
      "1/1 [==============================] - ETA: 0s"
     ]
    },
    {
     "name": "stdout",
     "output_type": "stream",
     "text": [
      "\b\b\b\b\b\b\b\b\b\b\b\b\b\b\b\b\b\b\b\b\b\b\b\b\b\b\b\b\b\b\b\b\b\b\b\b\b\b\b\b\b\b\b\b\b\b\r",
      "1/1 [==============================] - 0s 82ms/step\n"
     ]
    },
    {
     "name": "stdout",
     "output_type": "stream",
     "text": [
      "\r",
      "1/1 [==============================] - ETA: 0s"
     ]
    },
    {
     "name": "stdout",
     "output_type": "stream",
     "text": [
      "\b\b\b\b\b\b\b\b\b\b\b\b\b\b\b\b\b\b\b\b\b\b\b\b\b\b\b\b\b\b\b\b\b\b\b\b\b\b\b\b\b\b\b\b\b\b\r",
      "1/1 [==============================] - 0s 86ms/step\n"
     ]
    },
    {
     "name": "stdout",
     "output_type": "stream",
     "text": [
      "\r",
      "1/1 [==============================] - ETA: 0s"
     ]
    },
    {
     "name": "stdout",
     "output_type": "stream",
     "text": [
      "\b\b\b\b\b\b\b\b\b\b\b\b\b\b\b\b\b\b\b\b\b\b\b\b\b\b\b\b\b\b\b\b\b\b\b\b\b\b\b\b\b\b\b\b\b\b\r",
      "1/1 [==============================] - 0s 80ms/step\n"
     ]
    },
    {
     "name": "stdout",
     "output_type": "stream",
     "text": [
      "\r",
      "1/1 [==============================] - ETA: 0s"
     ]
    },
    {
     "name": "stdout",
     "output_type": "stream",
     "text": [
      "\b\b\b\b\b\b\b\b\b\b\b\b\b\b\b\b\b\b\b\b\b\b\b\b\b\b\b\b\b\b\b\b\b\b\b\b\b\b\b\b\b\b\b\b\b\b\r",
      "1/1 [==============================] - 0s 93ms/step\n"
     ]
    },
    {
     "name": "stdout",
     "output_type": "stream",
     "text": [
      "\r",
      "1/1 [==============================] - ETA: 0s"
     ]
    },
    {
     "name": "stdout",
     "output_type": "stream",
     "text": [
      "\b\b\b\b\b\b\b\b\b\b\b\b\b\b\b\b\b\b\b\b\b\b\b\b\b\b\b\b\b\b\b\b\b\b\b\b\b\b\b\b\b\b\b\b\b\b\r",
      "1/1 [==============================] - 0s 94ms/step\n"
     ]
    },
    {
     "name": "stdout",
     "output_type": "stream",
     "text": [
      "\r",
      "1/1 [==============================] - ETA: 0s"
     ]
    },
    {
     "name": "stdout",
     "output_type": "stream",
     "text": [
      "\b\b\b\b\b\b\b\b\b\b\b\b\b\b\b\b\b\b\b\b\b\b\b\b\b\b\b\b\b\b\b\b\b\b\b\b\b\b\b\b\b\b\b\b\b\b\r",
      "1/1 [==============================] - 0s 83ms/step\n"
     ]
    },
    {
     "name": "stdout",
     "output_type": "stream",
     "text": [
      "\r",
      "1/1 [==============================] - ETA: 0s"
     ]
    },
    {
     "name": "stdout",
     "output_type": "stream",
     "text": [
      "\b\b\b\b\b\b\b\b\b\b\b\b\b\b\b\b\b\b\b\b\b\b\b\b\b\b\b\b\b\b\b\b\b\b\b\b\b\b\b\b\b\b\b\b\b\b\r",
      "1/1 [==============================] - 0s 90ms/step\n"
     ]
    },
    {
     "name": "stdout",
     "output_type": "stream",
     "text": [
      "\r",
      "1/1 [==============================] - ETA: 0s"
     ]
    },
    {
     "name": "stdout",
     "output_type": "stream",
     "text": [
      "\b\b\b\b\b\b\b\b\b\b\b\b\b\b\b\b\b\b\b\b\b\b\b\b\b\b\b\b\b\b\b\b\b\b\b\b\b\b\b\b\b\b\b\b\b\b\r",
      "1/1 [==============================] - 0s 93ms/step\n"
     ]
    },
    {
     "name": "stderr",
     "output_type": "stream",
     "text": [
      "/home/jup_user/mlproject/jup-env/lib/python3.8/site-packages/sklearn/cluster/_kmeans.py:1416: FutureWarning: The default value of `n_init` will change from 10 to 'auto' in 1.4. Set the value of `n_init` explicitly to suppress the warning\n",
      "  super()._check_params_vs_input(X, default_n_init=10)\n"
     ]
    },
    {
     "name": "stderr",
     "output_type": "stream",
     "text": [
      "/home/jup_user/mlproject/jup-env/lib/python3.8/site-packages/sklearn/cluster/_kmeans.py:1416: FutureWarning: The default value of `n_init` will change from 10 to 'auto' in 1.4. Set the value of `n_init` explicitly to suppress the warning\n",
      "  super()._check_params_vs_input(X, default_n_init=10)\n",
      "/home/jup_user/mlproject/jup-env/lib/python3.8/site-packages/sklearn/cluster/_kmeans.py:1416: FutureWarning: The default value of `n_init` will change from 10 to 'auto' in 1.4. Set the value of `n_init` explicitly to suppress the warning\n",
      "  super()._check_params_vs_input(X, default_n_init=10)\n"
     ]
    },
    {
     "name": "stderr",
     "output_type": "stream",
     "text": [
      "/home/jup_user/mlproject/jup-env/lib/python3.8/site-packages/sklearn/cluster/_kmeans.py:1416: FutureWarning: The default value of `n_init` will change from 10 to 'auto' in 1.4. Set the value of `n_init` explicitly to suppress the warning\n",
      "  super()._check_params_vs_input(X, default_n_init=10)\n",
      "/home/jup_user/mlproject/jup-env/lib/python3.8/site-packages/sklearn/cluster/_kmeans.py:1416: FutureWarning: The default value of `n_init` will change from 10 to 'auto' in 1.4. Set the value of `n_init` explicitly to suppress the warning\n",
      "  super()._check_params_vs_input(X, default_n_init=10)\n"
     ]
    },
    {
     "name": "stderr",
     "output_type": "stream",
     "text": [
      "/home/jup_user/mlproject/jup-env/lib/python3.8/site-packages/sklearn/cluster/_kmeans.py:1416: FutureWarning: The default value of `n_init` will change from 10 to 'auto' in 1.4. Set the value of `n_init` explicitly to suppress the warning\n",
      "  super()._check_params_vs_input(X, default_n_init=10)\n"
     ]
    },
    {
     "name": "stderr",
     "output_type": "stream",
     "text": [
      "/home/jup_user/mlproject/jup-env/lib/python3.8/site-packages/sklearn/cluster/_kmeans.py:1416: FutureWarning: The default value of `n_init` will change from 10 to 'auto' in 1.4. Set the value of `n_init` explicitly to suppress the warning\n",
      "  super()._check_params_vs_input(X, default_n_init=10)\n",
      "/home/jup_user/mlproject/jup-env/lib/python3.8/site-packages/sklearn/cluster/_kmeans.py:1416: FutureWarning: The default value of `n_init` will change from 10 to 'auto' in 1.4. Set the value of `n_init` explicitly to suppress the warning\n",
      "  super()._check_params_vs_input(X, default_n_init=10)\n"
     ]
    },
    {
     "name": "stderr",
     "output_type": "stream",
     "text": [
      "/home/jup_user/mlproject/jup-env/lib/python3.8/site-packages/sklearn/cluster/_kmeans.py:1416: FutureWarning: The default value of `n_init` will change from 10 to 'auto' in 1.4. Set the value of `n_init` explicitly to suppress the warning\n",
      "  super()._check_params_vs_input(X, default_n_init=10)\n",
      "/home/jup_user/mlproject/jup-env/lib/python3.8/site-packages/sklearn/cluster/_kmeans.py:1416: FutureWarning: The default value of `n_init` will change from 10 to 'auto' in 1.4. Set the value of `n_init` explicitly to suppress the warning\n",
      "  super()._check_params_vs_input(X, default_n_init=10)\n"
     ]
    },
    {
     "name": "stderr",
     "output_type": "stream",
     "text": [
      "/home/jup_user/mlproject/jup-env/lib/python3.8/site-packages/sklearn/cluster/_kmeans.py:1416: FutureWarning: The default value of `n_init` will change from 10 to 'auto' in 1.4. Set the value of `n_init` explicitly to suppress the warning\n",
      "  super()._check_params_vs_input(X, default_n_init=10)\n"
     ]
    },
    {
     "name": "stderr",
     "output_type": "stream",
     "text": [
      "/home/jup_user/mlproject/jup-env/lib/python3.8/site-packages/sklearn/cluster/_kmeans.py:1416: FutureWarning: The default value of `n_init` will change from 10 to 'auto' in 1.4. Set the value of `n_init` explicitly to suppress the warning\n",
      "  super()._check_params_vs_input(X, default_n_init=10)\n"
     ]
    },
    {
     "name": "stderr",
     "output_type": "stream",
     "text": [
      "/home/jup_user/mlproject/jup-env/lib/python3.8/site-packages/sklearn/cluster/_kmeans.py:1416: FutureWarning: The default value of `n_init` will change from 10 to 'auto' in 1.4. Set the value of `n_init` explicitly to suppress the warning\n",
      "  super()._check_params_vs_input(X, default_n_init=10)\n"
     ]
    },
    {
     "name": "stderr",
     "output_type": "stream",
     "text": [
      "/home/jup_user/mlproject/jup-env/lib/python3.8/site-packages/sklearn/cluster/_kmeans.py:1416: FutureWarning: The default value of `n_init` will change from 10 to 'auto' in 1.4. Set the value of `n_init` explicitly to suppress the warning\n",
      "  super()._check_params_vs_input(X, default_n_init=10)\n"
     ]
    },
    {
     "name": "stderr",
     "output_type": "stream",
     "text": [
      "/home/jup_user/mlproject/jup-env/lib/python3.8/site-packages/sklearn/cluster/_kmeans.py:1416: FutureWarning: The default value of `n_init` will change from 10 to 'auto' in 1.4. Set the value of `n_init` explicitly to suppress the warning\n",
      "  super()._check_params_vs_input(X, default_n_init=10)\n"
     ]
    },
    {
     "name": "stderr",
     "output_type": "stream",
     "text": [
      "/home/jup_user/mlproject/jup-env/lib/python3.8/site-packages/sklearn/cluster/_kmeans.py:1416: FutureWarning: The default value of `n_init` will change from 10 to 'auto' in 1.4. Set the value of `n_init` explicitly to suppress the warning\n",
      "  super()._check_params_vs_input(X, default_n_init=10)\n"
     ]
    },
    {
     "name": "stderr",
     "output_type": "stream",
     "text": [
      "/home/jup_user/mlproject/jup-env/lib/python3.8/site-packages/sklearn/cluster/_kmeans.py:1416: FutureWarning: The default value of `n_init` will change from 10 to 'auto' in 1.4. Set the value of `n_init` explicitly to suppress the warning\n",
      "  super()._check_params_vs_input(X, default_n_init=10)\n"
     ]
    },
    {
     "name": "stderr",
     "output_type": "stream",
     "text": [
      "/home/jup_user/mlproject/jup-env/lib/python3.8/site-packages/sklearn/cluster/_kmeans.py:1416: FutureWarning: The default value of `n_init` will change from 10 to 'auto' in 1.4. Set the value of `n_init` explicitly to suppress the warning\n",
      "  super()._check_params_vs_input(X, default_n_init=10)\n"
     ]
    },
    {
     "name": "stderr",
     "output_type": "stream",
     "text": [
      "/home/jup_user/mlproject/jup-env/lib/python3.8/site-packages/sklearn/cluster/_kmeans.py:1416: FutureWarning: The default value of `n_init` will change from 10 to 'auto' in 1.4. Set the value of `n_init` explicitly to suppress the warning\n",
      "  super()._check_params_vs_input(X, default_n_init=10)\n"
     ]
    },
    {
     "name": "stderr",
     "output_type": "stream",
     "text": [
      "/home/jup_user/mlproject/jup-env/lib/python3.8/site-packages/sklearn/cluster/_kmeans.py:1416: FutureWarning: The default value of `n_init` will change from 10 to 'auto' in 1.4. Set the value of `n_init` explicitly to suppress the warning\n",
      "  super()._check_params_vs_input(X, default_n_init=10)\n"
     ]
    },
    {
     "name": "stderr",
     "output_type": "stream",
     "text": [
      "/home/jup_user/mlproject/jup-env/lib/python3.8/site-packages/sklearn/cluster/_kmeans.py:1416: FutureWarning: The default value of `n_init` will change from 10 to 'auto' in 1.4. Set the value of `n_init` explicitly to suppress the warning\n",
      "  super()._check_params_vs_input(X, default_n_init=10)\n"
     ]
    },
    {
     "name": "stderr",
     "output_type": "stream",
     "text": [
      "/home/jup_user/mlproject/jup-env/lib/python3.8/site-packages/sklearn/cluster/_kmeans.py:1416: FutureWarning: The default value of `n_init` will change from 10 to 'auto' in 1.4. Set the value of `n_init` explicitly to suppress the warning\n",
      "  super()._check_params_vs_input(X, default_n_init=10)\n"
     ]
    },
    {
     "name": "stderr",
     "output_type": "stream",
     "text": [
      "/home/jup_user/mlproject/jup-env/lib/python3.8/site-packages/sklearn/cluster/_kmeans.py:1416: FutureWarning: The default value of `n_init` will change from 10 to 'auto' in 1.4. Set the value of `n_init` explicitly to suppress the warning\n",
      "  super()._check_params_vs_input(X, default_n_init=10)\n"
     ]
    },
    {
     "name": "stderr",
     "output_type": "stream",
     "text": [
      "/home/jup_user/mlproject/jup-env/lib/python3.8/site-packages/sklearn/cluster/_kmeans.py:1416: FutureWarning: The default value of `n_init` will change from 10 to 'auto' in 1.4. Set the value of `n_init` explicitly to suppress the warning\n",
      "  super()._check_params_vs_input(X, default_n_init=10)\n"
     ]
    },
    {
     "name": "stderr",
     "output_type": "stream",
     "text": [
      "/home/jup_user/mlproject/jup-env/lib/python3.8/site-packages/sklearn/cluster/_kmeans.py:1416: FutureWarning: The default value of `n_init` will change from 10 to 'auto' in 1.4. Set the value of `n_init` explicitly to suppress the warning\n",
      "  super()._check_params_vs_input(X, default_n_init=10)\n"
     ]
    },
    {
     "name": "stderr",
     "output_type": "stream",
     "text": [
      "/home/jup_user/mlproject/jup-env/lib/python3.8/site-packages/sklearn/cluster/_kmeans.py:1416: FutureWarning: The default value of `n_init` will change from 10 to 'auto' in 1.4. Set the value of `n_init` explicitly to suppress the warning\n",
      "  super()._check_params_vs_input(X, default_n_init=10)\n"
     ]
    },
    {
     "name": "stderr",
     "output_type": "stream",
     "text": [
      "/home/jup_user/mlproject/jup-env/lib/python3.8/site-packages/sklearn/cluster/_kmeans.py:1416: FutureWarning: The default value of `n_init` will change from 10 to 'auto' in 1.4. Set the value of `n_init` explicitly to suppress the warning\n",
      "  super()._check_params_vs_input(X, default_n_init=10)\n"
     ]
    },
    {
     "name": "stderr",
     "output_type": "stream",
     "text": [
      "/home/jup_user/mlproject/jup-env/lib/python3.8/site-packages/sklearn/cluster/_kmeans.py:1416: FutureWarning: The default value of `n_init` will change from 10 to 'auto' in 1.4. Set the value of `n_init` explicitly to suppress the warning\n",
      "  super()._check_params_vs_input(X, default_n_init=10)\n"
     ]
    },
    {
     "name": "stderr",
     "output_type": "stream",
     "text": [
      "/home/jup_user/mlproject/jup-env/lib/python3.8/site-packages/sklearn/cluster/_kmeans.py:1416: FutureWarning: The default value of `n_init` will change from 10 to 'auto' in 1.4. Set the value of `n_init` explicitly to suppress the warning\n",
      "  super()._check_params_vs_input(X, default_n_init=10)\n"
     ]
    },
    {
     "name": "stderr",
     "output_type": "stream",
     "text": [
      "/home/jup_user/mlproject/jup-env/lib/python3.8/site-packages/sklearn/cluster/_kmeans.py:1416: FutureWarning: The default value of `n_init` will change from 10 to 'auto' in 1.4. Set the value of `n_init` explicitly to suppress the warning\n",
      "  super()._check_params_vs_input(X, default_n_init=10)\n"
     ]
    },
    {
     "name": "stderr",
     "output_type": "stream",
     "text": [
      "/home/jup_user/mlproject/jup-env/lib/python3.8/site-packages/sklearn/cluster/_kmeans.py:1416: FutureWarning: The default value of `n_init` will change from 10 to 'auto' in 1.4. Set the value of `n_init` explicitly to suppress the warning\n",
      "  super()._check_params_vs_input(X, default_n_init=10)\n"
     ]
    },
    {
     "name": "stderr",
     "output_type": "stream",
     "text": [
      "/home/jup_user/mlproject/jup-env/lib/python3.8/site-packages/sklearn/cluster/_kmeans.py:1416: FutureWarning: The default value of `n_init` will change from 10 to 'auto' in 1.4. Set the value of `n_init` explicitly to suppress the warning\n",
      "  super()._check_params_vs_input(X, default_n_init=10)\n"
     ]
    },
    {
     "name": "stderr",
     "output_type": "stream",
     "text": [
      "/home/jup_user/mlproject/jup-env/lib/python3.8/site-packages/sklearn/cluster/_kmeans.py:1416: FutureWarning: The default value of `n_init` will change from 10 to 'auto' in 1.4. Set the value of `n_init` explicitly to suppress the warning\n",
      "  super()._check_params_vs_input(X, default_n_init=10)\n"
     ]
    },
    {
     "name": "stderr",
     "output_type": "stream",
     "text": [
      "/home/jup_user/mlproject/jup-env/lib/python3.8/site-packages/sklearn/cluster/_kmeans.py:1416: FutureWarning: The default value of `n_init` will change from 10 to 'auto' in 1.4. Set the value of `n_init` explicitly to suppress the warning\n",
      "  super()._check_params_vs_input(X, default_n_init=10)\n"
     ]
    },
    {
     "name": "stderr",
     "output_type": "stream",
     "text": [
      "/home/jup_user/mlproject/jup-env/lib/python3.8/site-packages/sklearn/cluster/_kmeans.py:1416: FutureWarning: The default value of `n_init` will change from 10 to 'auto' in 1.4. Set the value of `n_init` explicitly to suppress the warning\n",
      "  super()._check_params_vs_input(X, default_n_init=10)\n"
     ]
    },
    {
     "name": "stderr",
     "output_type": "stream",
     "text": [
      "/home/jup_user/mlproject/jup-env/lib/python3.8/site-packages/sklearn/cluster/_kmeans.py:1416: FutureWarning: The default value of `n_init` will change from 10 to 'auto' in 1.4. Set the value of `n_init` explicitly to suppress the warning\n",
      "  super()._check_params_vs_input(X, default_n_init=10)\n"
     ]
    },
    {
     "name": "stderr",
     "output_type": "stream",
     "text": [
      "/home/jup_user/mlproject/jup-env/lib/python3.8/site-packages/sklearn/cluster/_kmeans.py:1416: FutureWarning: The default value of `n_init` will change from 10 to 'auto' in 1.4. Set the value of `n_init` explicitly to suppress the warning\n",
      "  super()._check_params_vs_input(X, default_n_init=10)\n"
     ]
    },
    {
     "name": "stderr",
     "output_type": "stream",
     "text": [
      "/home/jup_user/mlproject/jup-env/lib/python3.8/site-packages/sklearn/cluster/_kmeans.py:1416: FutureWarning: The default value of `n_init` will change from 10 to 'auto' in 1.4. Set the value of `n_init` explicitly to suppress the warning\n",
      "  super()._check_params_vs_input(X, default_n_init=10)\n"
     ]
    },
    {
     "name": "stderr",
     "output_type": "stream",
     "text": [
      "/home/jup_user/mlproject/jup-env/lib/python3.8/site-packages/sklearn/cluster/_kmeans.py:1416: FutureWarning: The default value of `n_init` will change from 10 to 'auto' in 1.4. Set the value of `n_init` explicitly to suppress the warning\n",
      "  super()._check_params_vs_input(X, default_n_init=10)\n"
     ]
    },
    {
     "name": "stderr",
     "output_type": "stream",
     "text": [
      "/home/jup_user/mlproject/jup-env/lib/python3.8/site-packages/sklearn/cluster/_kmeans.py:1416: FutureWarning: The default value of `n_init` will change from 10 to 'auto' in 1.4. Set the value of `n_init` explicitly to suppress the warning\n",
      "  super()._check_params_vs_input(X, default_n_init=10)\n"
     ]
    },
    {
     "name": "stderr",
     "output_type": "stream",
     "text": [
      "/home/jup_user/mlproject/jup-env/lib/python3.8/site-packages/sklearn/cluster/_kmeans.py:1416: FutureWarning: The default value of `n_init` will change from 10 to 'auto' in 1.4. Set the value of `n_init` explicitly to suppress the warning\n",
      "  super()._check_params_vs_input(X, default_n_init=10)\n"
     ]
    },
    {
     "name": "stderr",
     "output_type": "stream",
     "text": [
      "/home/jup_user/mlproject/jup-env/lib/python3.8/site-packages/sklearn/cluster/_kmeans.py:1416: FutureWarning: The default value of `n_init` will change from 10 to 'auto' in 1.4. Set the value of `n_init` explicitly to suppress the warning\n",
      "  super()._check_params_vs_input(X, default_n_init=10)\n"
     ]
    },
    {
     "name": "stderr",
     "output_type": "stream",
     "text": [
      "/home/jup_user/mlproject/jup-env/lib/python3.8/site-packages/sklearn/cluster/_kmeans.py:1416: FutureWarning: The default value of `n_init` will change from 10 to 'auto' in 1.4. Set the value of `n_init` explicitly to suppress the warning\n",
      "  super()._check_params_vs_input(X, default_n_init=10)\n"
     ]
    },
    {
     "name": "stderr",
     "output_type": "stream",
     "text": [
      "/home/jup_user/mlproject/jup-env/lib/python3.8/site-packages/sklearn/cluster/_kmeans.py:1416: FutureWarning: The default value of `n_init` will change from 10 to 'auto' in 1.4. Set the value of `n_init` explicitly to suppress the warning\n",
      "  super()._check_params_vs_input(X, default_n_init=10)\n"
     ]
    },
    {
     "name": "stderr",
     "output_type": "stream",
     "text": [
      "/home/jup_user/mlproject/jup-env/lib/python3.8/site-packages/sklearn/cluster/_kmeans.py:1416: FutureWarning: The default value of `n_init` will change from 10 to 'auto' in 1.4. Set the value of `n_init` explicitly to suppress the warning\n",
      "  super()._check_params_vs_input(X, default_n_init=10)\n"
     ]
    },
    {
     "name": "stderr",
     "output_type": "stream",
     "text": [
      "/home/jup_user/mlproject/jup-env/lib/python3.8/site-packages/sklearn/cluster/_kmeans.py:1416: FutureWarning: The default value of `n_init` will change from 10 to 'auto' in 1.4. Set the value of `n_init` explicitly to suppress the warning\n",
      "  super()._check_params_vs_input(X, default_n_init=10)\n"
     ]
    },
    {
     "name": "stderr",
     "output_type": "stream",
     "text": [
      "/home/jup_user/mlproject/jup-env/lib/python3.8/site-packages/sklearn/cluster/_kmeans.py:1416: FutureWarning: The default value of `n_init` will change from 10 to 'auto' in 1.4. Set the value of `n_init` explicitly to suppress the warning\n",
      "  super()._check_params_vs_input(X, default_n_init=10)\n"
     ]
    },
    {
     "name": "stderr",
     "output_type": "stream",
     "text": [
      "/home/jup_user/mlproject/jup-env/lib/python3.8/site-packages/sklearn/cluster/_kmeans.py:1416: FutureWarning: The default value of `n_init` will change from 10 to 'auto' in 1.4. Set the value of `n_init` explicitly to suppress the warning\n",
      "  super()._check_params_vs_input(X, default_n_init=10)\n"
     ]
    }
   ],
   "source": [
    "path = folder_path\n",
    "# change the working directory to the path where the images are located\n",
    "os.chdir(path)\n",
    "\n",
    "# this list holds all the image filename\n",
    "flowers = []\n",
    "\n",
    "# creates a ScandirIterator aliased as files\n",
    "with os.scandir(path) as files:\n",
    "  # loops through each file in the directory\n",
    "    for file in files:\n",
    "        if file.name.endswith('.jpg'):\n",
    "          # adds only the image files to the flowers list\n",
    "            flowers.append(file.name)\n",
    "        if file.name.endswith('.png'):\n",
    "            # adds only the image files to the flowers list\n",
    "            flowers.append(file.name)\n",
    "            \n",
    "model = VGG16()\n",
    "model = Model(inputs = model.inputs, outputs = model.layers[-2].output)\n",
    "   \n",
    "data = {}\n",
    "p = \"/home/jup_user/multipool/ai-case-study/img\"\n",
    "\n",
    "# lop through each image in the dataset\n",
    "for flower in flowers:\n",
    "    # try to extract the features and update the dictionary\n",
    "    try:\n",
    "        feat = extract_features(flower,model)\n",
    "        data[flower] = feat\n",
    "    # if something fails, save the extracted features as a pickle file (optional)\n",
    "    except:\n",
    "        with open(p,'wb') as file:\n",
    "            pickle.dump(data,file)\n",
    "          \n",
    "# get a list of the filenames\n",
    "filenames = np.array(list(data.keys()))\n",
    "\n",
    "# get a list of just the features\n",
    "feat = np.array(list(data.values()))\n",
    "\n",
    "# reshape so that there are 210 samples of 4096 vectors\n",
    "feat = feat.reshape(-1,4096)\n",
    "\n",
    "# get the unique labels (from the flower_labels.csv)\n",
    "df = pd.read_csv('/home/jup_user/multipool/ai-case-study/flower_labels.csv')\n",
    "label = df['label'].tolist()\n",
    "unique_labels = list(set(label))\n",
    "\n",
    "# reduce the amount of dimensions in the feature vector\n",
    "pca = PCA(n_components=100, random_state=22)\n",
    "pca.fit(feat)\n",
    "x = pca.transform(feat)\n",
    "\n",
    "# cluster feature vectors\n",
    "kmeans = KMeans(n_clusters=len(unique_labels), random_state=22)\n",
    "kmeans.fit(x)\n",
    "\n",
    "# holds the cluster id and the images { id: [images] }\n",
    "groups = {}\n",
    "for file, cluster in zip(filenames,kmeans.labels_):\n",
    "    if cluster not in groups.keys():\n",
    "        groups[cluster] = []\n",
    "        groups[cluster].append(file)\n",
    "    else:\n",
    "        groups[cluster].append(file)\n",
    "\n",
    "# this is just incase you want to see which value for k might be the best \n",
    "sse = []\n",
    "list_k = list(range(3, 50))\n",
    "\n",
    "for k in list_k:\n",
    "    km = KMeans(n_clusters=k, random_state=22)\n",
    "    km.fit(x)\n",
    "    \n",
    "    sse.append(km.inertia_)\n",
    "\n",
    "# function to calculate clusters\n",
    "def cluster(filePaths, features, threshold=0.9):\n",
    "    features = features.reshape(-1,4096)\n",
    "    simMatrix = cosine_similarity(features)\n",
    "    clusters = {}\n",
    "    for i in range(len(features)):\n",
    "        dupIdx = list(np.where(simMatrix[i] > threshold)[0])\n",
    "        # The similarity matrix will include comparisons of items with themselves, which will always \n",
    "        # result in a similarity of 1.0 (100%) and is redundant, so we ignore those\n",
    "        if len(dupIdx) > 1:\n",
    "            curCluster, clusterMatch = list(dupIdx), None\n",
    "            # The first time an image is found to be in any given cluster, we log the entire cluster, \n",
    "            # so subsequent checks of other images from the same cluster would result in duplicated clusters.\n",
    "            # Check for that here\n",
    "            for cIdx in clusters:\n",
    "                if curCluster[0] in clusters[cIdx]:\n",
    "                    clusterMatch = cIdx\n",
    "                    break\n",
    "            # If the current cluster didn't match any existing ones, create/log it\n",
    "            if clusterMatch == None: clusters[len(clusters)] = curCluster\n",
    "    # Resolve file indices back to file paths\n",
    "    for cIdx in clusters: clusters[cIdx] = [filePaths[x] for x in clusters[cIdx]]\n",
    "    return clusters\n",
    "\n",
    "# another method of clustering based on CSI\n",
    "clus_new = cluster(filenames, feat, threshold=0.6)"
   ]
  },
  {
   "cell_type": "code",
   "execution_count": 7,
   "id": "d431c067-bb02-4785-9f0a-511ceacbb4cc",
   "metadata": {
    "execution": {
     "iopub.execute_input": "2024-04-09T17:08:59.977081Z",
     "iopub.status.busy": "2024-04-09T17:08:59.976384Z",
     "iopub.status.idle": "2024-04-09T17:08:59.980042Z",
     "shell.execute_reply": "2024-04-09T17:08:59.979467Z"
    }
   },
   "outputs": [],
   "source": [
    "# prepare data for saving to rdbms\n",
    "save_df = result_df"
   ]
  },
  {
   "cell_type": "code",
   "execution_count": 8,
   "id": "19662fd0-5dd8-466f-a505-a81568f2a000",
   "metadata": {
    "execution": {
     "iopub.execute_input": "2024-04-09T17:08:59.982935Z",
     "iopub.status.busy": "2024-04-09T17:08:59.982499Z",
     "iopub.status.idle": "2024-04-09T17:08:59.986548Z",
     "shell.execute_reply": "2024-04-09T17:08:59.985927Z"
    }
   },
   "outputs": [],
   "source": [
    "# save_df[[\"file_folder\",\"filename_actual\"]] = save_df['filename'].str.split('/',n=1, expand=True)\n",
    "save_df['cluster_number'] = 0"
   ]
  },
  {
   "cell_type": "code",
   "execution_count": 9,
   "id": "e81fc242-b9f9-4d7e-a4e2-7e4605826aaf",
   "metadata": {
    "collapsed": true,
    "execution": {
     "iopub.execute_input": "2024-04-09T17:08:59.989487Z",
     "iopub.status.busy": "2024-04-09T17:08:59.988971Z",
     "iopub.status.idle": "2024-04-09T17:09:00.143095Z",
     "shell.execute_reply": "2024-04-09T17:09:00.142382Z"
    },
    "jupyter": {
     "outputs_hidden": true
    }
   },
   "outputs": [
    {
     "name": "stdout",
     "output_type": "stream",
     "text": [
      "GKlH0RwbIAAQcSR.jpg\n",
      "GKlF0qxbsAAgNoe.jpg\n",
      "GKkoRDfaMAANEBZ.jpg\n",
      "GKl8DxtbMAAzZ79.jpg\n",
      "GKkrJnJaMAA-FP9.jpg\n",
      "GKl4T_rboAAwhIu.jpg\n",
      "GKiDzdibcAAvD6e.jpg\n",
      "GKmemYja4AA-iS9.jpg\n",
      "GKk_oELbYAADV_c.jpg\n",
      "GKktScDagAAfqeN.png\n",
      "GKjUuOEbwAAa037.jpg\n",
      "GKmhzXNacAAH2Fx.png\n",
      "GKkmrd0asAAtOU7.jpg\n",
      "GKmXQR-aoAAaCzp.jpg\n",
      "GKlRf7_aoAAjYlE.jpg\n",
      "GKnILyda0AAIv7B.jpg\n",
      "GKmXUgzaIAAM14L.jpg\n",
      "GKkNwLbaUAAS1mE.jpg\n",
      "GKmX5IxbAAAQ4SO.jpg\n",
      "GKk3PJMawAA0wh3.jpg\n",
      "GKk9o44b0AAc86G.jpg\n",
      "GKmloa1aQAAJPGS.jpg\n",
      "GKlh0EzbEAA7crZ.jpg\n",
      "GKlKunQbwAAs0gd.jpg\n",
      "GKoJPlIawAEYaUE.jpg\n",
      "GKl70XIbgAAMSoW.jpg\n",
      "GKnI55oboAAnhCp.jpg\n",
      "GKlKskFaQAApWvs.jpg\n",
      "GKnAMP5bgAAO-D3.jpg\n",
      "GKk1hzlbIAATYhY.jpg\n",
      "GKk9173asAIz6qB.jpg\n",
      "GKm59u4awAAFu_Y.jpg\n",
      "GKkxYWPaIAAOY1X.jpg\n",
      "GKmhxvTbEAI1N3l.jpg\n",
      "GKnlYYKacAAcc13.jpg\n",
      "GKmNojrbAAAl4Zh.jpg\n",
      "GKkqoNHbAAEDjPA.jpg\n",
      "GKoHU3pbsAAVqjm.jpg\n",
      "GKjbem5aQAA_JBb.jpg\n",
      "GKnJ0fOaQAEv8Ts.jpg\n",
      "GKlQMsSbIAAzhg3.jpg\n",
      "GKk0acSbYAAo_y7.jpg\n",
      "GKk7CMJbUAAEzFY.jpg\n",
      "GKl71K0boAAoTT0.jpg\n",
      "GKn24GdacAAfzli.jpg\n",
      "GKkEzubasAAKqLA.jpg\n",
      "GKlUiWaboAAJlEW.jpg\n",
      "GKkoqWzbEAAbzOC.jpg\n",
      "GKnGMtpaAAAejL3.jpg\n",
      "GKlmkc7bgAA3j-j.jpg\n",
      "GKiJuFIa4AIppc-.jpg\n",
      "GKku3hEaoAI1YzX.jpg\n",
      "GKnpIz-bQAEDtpu.jpg\n",
      "E8WUcgXVoAQosQN.jpg\n",
      "GKmFtuKagAAlXAN.jpg\n",
      "GKk1MGkaUAA-Yv5.jpg\n",
      "GKkpUAEbUAAzxRh.jpg\n",
      "GKkwoAObUAACurv.jpg\n",
      "GKlYkvhaIAEmDnK.jpg\n",
      "GKl3-BfbMAAcije.jpg\n",
      "GKjXa0QagAAc9kb.jpg\n",
      "GKmIznIaUAAA23d.jpg\n",
      "GKnz_XRbUAAJMLD.jpg\n",
      "GKoLVBPakAA2Def.jpg\n",
      "GKnCJ0ybQAAnsYm.jpg\n",
      "GKnH_aYaEAA3Bvb.jpg\n",
      "GKnzOYHbUAAb9I4.jpg\n",
      "GKn7iDMbUAAg64t.jpg\n",
      "GKlv4ZVbIAAl_i9.jpg\n",
      "GKlwhH8bAAAf9z4.jpg\n",
      "GKk_0JGboAAgrzT.jpg\n",
      "GKlVEDwawAAjcOM.jpg\n",
      "GKmWvkTbIAAqCCS.jpg\n",
      "GKmemYja4AA-iS9.jpg\n",
      "GKjUuOEbwAAa037.jpg\n",
      "GKmloa1aQAAJPGS.jpg\n",
      "GKnAMP5bgAAO-D3.jpg\n",
      "GKk5AaSb0AA7Rx4.jpg\n",
      "GKk8KsvbsAAztMa.jpg\n",
      "GKnWQfka4AARE0O.jpg\n",
      "GKk9173asAIz6qB.jpg\n",
      "GKmhxvTbEAI1N3l.jpg\n",
      "GKk0acSbYAAo_y7.jpg\n",
      "GKiJuFIa4AIppc-.jpg\n",
      "GKnzOYHbUAAb9I4.jpg\n",
      "GKjHD2obQAAssGf.jpg\n",
      "GKnbDTyagAARFf0.jpg\n",
      "GKmB_jMaUAALkHu.jpg\n",
      "GKm0XopaoAAA2el.jpg\n",
      "GKm2VqgaoAAQSmx.jpg\n",
      "GKmUZvNawAA6y-Y.jpg\n",
      "GKoJPlIawAEYaUE.jpg\n",
      "GKmR-5XacAAUmBW.jpg\n",
      "GKm1gKObAAEkzko.jpg\n",
      "GKoJ11gbYAApg-A.jpg\n",
      "GKlUbvDakAAXutq.jpg\n",
      "GKkmrd0asAAtOU7.jpg\n",
      "GKmXQR-aoAAaCzp.jpg\n",
      "GKnILyda0AAIv7B.jpg\n",
      "GKk9o44b0AAc86G.jpg\n",
      "GKnI55oboAAnhCp.jpg\n",
      "GKlWEb2b0AAffoq.jpg\n",
      "GKkqoNHbAAEDjPA.jpg\n",
      "GKnJ0fOaQAEv8Ts.jpg\n",
      "GKlQMsSbIAAzhg3.jpg\n",
      "GKn24GdacAAfzli.jpg\n",
      "GKk8onzbkAEWmqG.jpg\n",
      "GKkoqWzbEAAbzOC.jpg\n",
      "GKlYkvhaIAEmDnK.jpg\n",
      "GKnz_XRbUAAJMLD.jpg\n",
      "GKnCJ0ybQAAnsYm.jpg\n",
      "GKnH_aYaEAA3Bvb.jpg\n",
      "GKlQNyMboAAJVm2.jpg\n",
      "GKk16IEa0AAVaIA.jpg\n",
      "GKk4dv6aYAAsI1z.png\n",
      "GKk0NbvbMAADfqR.jpg\n",
      "GKk0tbJbkAAdFDW.jpg\n",
      "GKkz7y-bEAA6CvE.jpg\n",
      "GKkGCrpaIAAruv0.jpg\n",
      "GKlLpGxbIAAwagV.jpg\n",
      "GKk1YsUa4AAgtEI.jpg\n",
      "GKk7N8sa8AEN0zq.jpg\n",
      "GKoEqjcaIAERi4V.jpg\n",
      "GKnkxlvaUAANDht.jpg\n",
      "GKnHdJVa0AAwIsB.jpg\n",
      "GKnHsVsbEAAEJLM.jpg\n",
      "GKkpiAdbgAA5KG_.jpg\n",
      "GKnrfk_bQAAOJmf.jpg\n",
      "GKk0A_naEAEyxc1.jpg\n",
      "GKk0NIJakAAuv1D.jpg\n",
      "GKlRf7_aoAAjYlE.jpg\n",
      "GKlKB1ya0AA9iUh.jpg\n",
      "GKmtAXBbkAAi2CM.jpg\n",
      "GKnAMP5bgAAO-D3.jpg\n",
      "GKm1kPIawAA-5gS.jpg\n",
      "GKlLt4Wb0AAgc7c.jpg\n",
      "GKk5XSVaEAAoZkb.jpg\n",
      "GKm-hmXaAAAOM-F.jpg\n",
      "GKmlKLWbMAAp5wp.jpg\n",
      "GKlSemhbYAE3Lkc.jpg\n",
      "GKky7vxbYAABHab.jpg\n",
      "GKmlC_zbgAAWSBw.jpg\n",
      "GKn6VMSawAAG8kV.jpg\n",
      "GKnlAfFa8AA4e7p.jpg\n",
      "GKm7m4xbgAAzTFR.jpg\n",
      "GKnVD5aaMAAeMK2.jpg\n",
      "GKnrfk_bQAAOJmf.jpg\n",
      "GKkaZz-aQAAtzxP.jpg\n",
      "GKnDrnsbQAAyB9j.jpg\n",
      "GKlm5Sma0AA1QI1.jpg\n",
      "GKmF868aEAAUx5j.jpg\n",
      "GKmemYja4AA-iS9.jpg\n",
      "GKnWQfka4AARE0O.jpg\n",
      "GKnzSpAbYAAMqFJ.jpg\n",
      "GKktScDagAAfqeN.png\n",
      "GKmXUgzaIAAM14L.jpg\n",
      "GKkNwLbaUAAS1mE.jpg\n",
      "GKlh0EzbEAA7crZ.jpg\n",
      "GKlKunQbwAAs0gd.jpg\n",
      "GKnI55oboAAnhCp.jpg\n",
      "GKlKskFaQAApWvs.jpg\n",
      "GKk1hzlbIAATYhY.jpg\n",
      "GKnlYYKacAAcc13.jpg\n",
      "GKmNojrbAAAl4Zh.jpg\n",
      "GKjbem5aQAA_JBb.jpg\n",
      "GKnJ0fOaQAEv8Ts.jpg\n",
      "GKlQMsSbIAAzhg3.jpg\n",
      "GKk7CMJbUAAEzFY.jpg\n",
      "GKn24GdacAAfzli.jpg\n",
      "GKkEzubasAAKqLA.jpg\n",
      "GKmFtuKagAAlXAN.jpg\n",
      "GKk1MGkaUAA-Yv5.jpg\n",
      "GKkpUAEbUAAzxRh.jpg\n",
      "GKkwoAObUAACurv.jpg\n",
      "GKlYkvhaIAEmDnK.jpg\n",
      "GKnCJ0ybQAAnsYm.jpg\n",
      "GKoAuvpbcAAqX8D.jpg\n",
      "GKoM1z0bsAEEd-e.jpg\n",
      "GKfgVlda0AAvSTD.jpg\n",
      "GKkfX3IakAAIbqF.jpg\n",
      "GKm7awtbIAAL49O.jpg\n",
      "GKk-XdsaIAACA1L.jpg\n",
      "GKiGlpJbAAAiGfX.jpg\n",
      "GKlvhnkaoAArVQk.jpg\n",
      "GKlvFqObsAAz2oX.jpg\n",
      "GKn_5m4aYAAmj7I.png\n",
      "GKoIAOsbUAA-JA1.jpg\n",
      "GKoNqWgacAAgobq.jpg\n",
      "GKlAqwaagAIPLFH.jpg\n",
      "GKk_yzrbwAAhh1o.jpg\n",
      "GKny0yuaMAAi98w.jpg\n",
      "GKnzOYHbUAAb9I4.jpg\n",
      "GKkEElGbIAAvVhc.jpg\n",
      "GKm-hmXaAAAOM-F.jpg\n",
      "GKmB_jMaUAALkHu.jpg\n",
      "GKlSemhbYAE3Lkc.jpg\n",
      "GKn3DTMbAAAb6ns.jpg\n",
      "GKn-HgMbwAAeGpZ.png\n",
      "GKn9-8XaMAALtf2.png\n",
      "GKnLAdzaEAAz8nN.jpg\n",
      "GKlK6KSbgAAepOW.jpg\n",
      "GKljO9uaUAAoWpU.jpg\n",
      "GKnBntUbwAAI9oV.jpg\n",
      "GKkXKqnbEAAXzzL.jpg\n",
      "GKoJJJnacAAccH6.jpg\n",
      "GKnBntUbwAAI9oV.jpg\n",
      "GKoHsEfbAAArRds.jpg\n",
      "GKoKenZbQAAoxRQ.jpg\n",
      "GKkXKqnbEAAXzzL.jpg\n",
      "GKjYhDIaQAA4lwI.jpg\n",
      "GKoOO52bAAA0yQc.jpg\n",
      "GKkqVE4aAAAyqJh.jpg\n",
      "GKlDLL3asAAajQ5.jpg\n",
      "GKlGcUIa4AAYn7Z.jpg\n",
      "GKlGY23aoAEV0Us.jpg\n",
      "GKlDhzlbkAEce_M.jpg\n",
      "GKlL9pabUAAPtSF.jpg\n",
      "GKlZEW-bEAADPDh.jpg\n",
      "GKkpebCaAAAbBFs.jpg\n",
      "GKoJ4V7agAA5s54.jpg\n",
      "GKoNRdLbUAEy1Wr.jpg\n",
      "GKmkwhhbEAA6RQk.jpg\n",
      "GKoKenZbQAAoxRQ.jpg\n",
      "GKlzDxZaIAAuDMR.jpg\n",
      "GKlzG3jawAAYXrT.jpg\n",
      "GKkpWNbaUAAIeHZ.jpg\n",
      "GKkpebCaAAAbBFs.jpg\n",
      "GKlRGd3bsAABbPJ.jpg\n",
      "GKnT_wqXAAAaJBa.jpg\n",
      "GKmBQtVaAAAqBn4.jpg\n",
      "GKkovpFaAAAgZe3.jpg\n",
      "GKkoRDfaMAANEBZ.jpg\n",
      "GKj1yCCaEAMmE7X.jpg\n",
      "GKkbOgUbAAAR-1a.jpg\n"
     ]
    }
   ],
   "source": [
    "for item in clus_new:\n",
    "    # print(clus_new[item])\n",
    "    # print(len(clus_new[item]))\n",
    "    for file in clus_new[item]:\n",
    "        # print(item)\n",
    "        print(file)\n",
    "        filter_condition = save_df['filename'] == file\n",
    "        save_df.loc[filter_condition,'cluster_number'] = item\n",
    "        result = save_df[filter_condition]\n",
    "        # result['cluster_number'] = item\n",
    "        # print(save_df.loc[filter_condition,'cluster_number'])"
   ]
  },
  {
   "cell_type": "code",
   "execution_count": 10,
   "id": "75d585c9-ce51-461d-86c7-c9bc2c45fb79",
   "metadata": {
    "collapsed": true,
    "execution": {
     "iopub.execute_input": "2024-04-09T17:09:00.147240Z",
     "iopub.status.busy": "2024-04-09T17:09:00.146671Z",
     "iopub.status.idle": "2024-04-09T17:09:04.894025Z",
     "shell.execute_reply": "2024-04-09T17:09:04.893298Z"
    },
    "jupyter": {
     "outputs_hidden": true
    }
   },
   "outputs": [
    {
     "name": "stdout",
     "output_type": "stream",
     "text": [
      "INSERT into ret_cluster_result (job_id, tweet_id, cluster_no) values (3846, 1777248887318991223, 0)\n",
      "Query executed successfully. 1 rows affected.\n",
      "INSERT into ret_cluster_result (job_id, tweet_id, cluster_no) values (3846, 1776897068943962120, 27)\n",
      "Query executed successfully. 1 rows affected.\n",
      "INSERT into ret_cluster_result (job_id, tweet_id, cluster_no) values (3846, 1777248018942869673, 19)\n",
      "Query executed successfully. 1 rows affected.\n",
      "INSERT into ret_cluster_result (job_id, tweet_id, cluster_no) values (3846, 1777248018942869673, 0)\n"
     ]
    },
    {
     "name": "stdout",
     "output_type": "stream",
     "text": [
      "Query executed successfully. 1 rows affected.\n",
      "INSERT into ret_cluster_result (job_id, tweet_id, cluster_no) values (3846, 1777247726398517733, 16)\n",
      "Query executed successfully. 1 rows affected.\n",
      "INSERT into ret_cluster_result (job_id, tweet_id, cluster_no) values (3846, 1777247599910912040, 31)\n",
      "Query executed successfully. 1 rows affected.\n",
      "INSERT into ret_cluster_result (job_id, tweet_id, cluster_no) values (3846, 1777247205642174661, 0)\n",
      "Query executed successfully. 1 rows affected.\n",
      "INSERT into ret_cluster_result (job_id, tweet_id, cluster_no) values (3846, 1777246862346784889, 0)\n",
      "Query executed successfully. 1 rows affected.\n",
      "INSERT into ret_cluster_result (job_id, tweet_id, cluster_no) values (3846, 1777245461587644919, 1)\n",
      "Query executed successfully. 1 rows affected.\n",
      "INSERT into ret_cluster_result (job_id, tweet_id, cluster_no) values (3846, 1777245120741740966, 1)\n",
      "Query executed successfully. 1 rows affected.\n",
      "INSERT into ret_cluster_result (job_id, tweet_id, cluster_no) values (3846, 1777244525867712601, 32)\n",
      "Query executed successfully. 1 rows affected.\n",
      "INSERT into ret_cluster_result (job_id, tweet_id, cluster_no) values (3846, 1777244235642868141, 0)\n"
     ]
    },
    {
     "name": "stdout",
     "output_type": "stream",
     "text": [
      "Query executed successfully. 1 rows affected.\n",
      "INSERT into ret_cluster_result (job_id, tweet_id, cluster_no) values (3846, 1777243868557386049, 31)\n",
      "Query executed successfully. 1 rows affected.\n",
      "INSERT into ret_cluster_result (job_id, tweet_id, cluster_no) values (3846, 1777243826547261910, 6)\n",
      "Query executed successfully. 1 rows affected.\n",
      "INSERT into ret_cluster_result (job_id, tweet_id, cluster_no) values (3846, 1777243599333400818, 19)\n",
      "Query executed successfully. 1 rows affected.\n",
      "INSERT into ret_cluster_result (job_id, tweet_id, cluster_no) values (3846, 1777243172105842899, 6)\n"
     ]
    },
    {
     "name": "stdout",
     "output_type": "stream",
     "text": [
      "Query executed successfully. 1 rows affected.\n",
      "INSERT into ret_cluster_result (job_id, tweet_id, cluster_no) values (3846, 1777243058683400464, 26)\n",
      "Query executed successfully. 1 rows affected.\n",
      "INSERT into ret_cluster_result (job_id, tweet_id, cluster_no) values (3846, 1777241825604166039, 0)\n",
      "Query executed successfully. 1 rows affected.\n",
      "INSERT into ret_cluster_result (job_id, tweet_id, cluster_no) values (3846, 1777241458820694437, 26)\n",
      "Query executed successfully. 1 rows affected.\n",
      "INSERT into ret_cluster_result (job_id, tweet_id, cluster_no) values (3846, 1777241129404321980, 0)\n",
      "Query executed successfully. 1 rows affected.\n",
      "INSERT into ret_cluster_result (job_id, tweet_id, cluster_no) values (3846, 1777241071946170444, 0)\n",
      "Query executed successfully. 1 rows affected.\n",
      "INSERT into ret_cluster_result (job_id, tweet_id, cluster_no) values (3846, 1777241061158535575, 1)\n",
      "Query executed successfully. 1 rows affected.\n",
      "INSERT into ret_cluster_result (job_id, tweet_id, cluster_no) values (3846, 1777240226098012341, 0)\n"
     ]
    },
    {
     "name": "stdout",
     "output_type": "stream",
     "text": [
      "Query executed successfully. 1 rows affected.\n",
      "INSERT into ret_cluster_result (job_id, tweet_id, cluster_no) values (3846, 1777239853098504510, 0)\n",
      "Query executed successfully. 1 rows affected.\n",
      "INSERT into ret_cluster_result (job_id, tweet_id, cluster_no) values (3846, 1777238135455584628, 9)\n",
      "Query executed successfully. 1 rows affected.\n",
      "INSERT into ret_cluster_result (job_id, tweet_id, cluster_no) values (3846, 1777236840325828906, 0)\n",
      "Query executed successfully. 1 rows affected.\n",
      "INSERT into ret_cluster_result (job_id, tweet_id, cluster_no) values (3846, 1777236966536318996, 0)\n",
      "Query executed successfully. 1 rows affected.\n",
      "INSERT into ret_cluster_result (job_id, tweet_id, cluster_no) values (3846, 1777235989770977687, 26)\n"
     ]
    },
    {
     "name": "stdout",
     "output_type": "stream",
     "text": [
      "Query executed successfully. 1 rows affected.\n",
      "INSERT into ret_cluster_result (job_id, tweet_id, cluster_no) values (3846, 1777235206665310229, 7)\n",
      "Query executed successfully. 1 rows affected.\n",
      "INSERT into ret_cluster_result (job_id, tweet_id, cluster_no) values (3846, 1777235125211672858, 0)\n",
      "Query executed successfully. 1 rows affected.\n",
      "INSERT into ret_cluster_result (job_id, tweet_id, cluster_no) values (3846, 1777234563204530233, 0)\n",
      "Query executed successfully. 1 rows affected.\n",
      "INSERT into ret_cluster_result (job_id, tweet_id, cluster_no) values (3846, 1777233825728463330, 16)\n",
      "Query executed successfully. 1 rows affected.\n",
      "INSERT into ret_cluster_result (job_id, tweet_id, cluster_no) values (3846, 1777232930399719762, 18)\n",
      "Query executed successfully. 1 rows affected.\n",
      "INSERT into ret_cluster_result (job_id, tweet_id, cluster_no) values (3846, 1777232690246472036, 15)\n",
      "Query executed successfully. 1 rows affected.\n",
      "INSERT into ret_cluster_result (job_id, tweet_id, cluster_no) values (3846, 1777230939963453742, 23)\n",
      "Query executed successfully. 1 rows affected.\n",
      "INSERT into ret_cluster_result (job_id, tweet_id, cluster_no) values (3846, 1777230857520189650, 23)\n"
     ]
    },
    {
     "name": "stdout",
     "output_type": "stream",
     "text": [
      "Query executed successfully. 1 rows affected.\n",
      "INSERT into ret_cluster_result (job_id, tweet_id, cluster_no) values (3846, 1777230219923030376, 0)\n",
      "Query executed successfully. 1 rows affected.\n",
      "INSERT into ret_cluster_result (job_id, tweet_id, cluster_no) values (3846, 1777229564122685773, 0)\n",
      "Query executed successfully. 1 rows affected.\n",
      "INSERT into ret_cluster_result (job_id, tweet_id, cluster_no) values (3846, 1777175047163265129, 1)\n",
      "Query executed successfully. 1 rows affected.\n",
      "INSERT into ret_cluster_result (job_id, tweet_id, cluster_no) values (3846, 1777227630603075855, 0)\n"
     ]
    },
    {
     "name": "stdout",
     "output_type": "stream",
     "text": [
      "Query executed successfully. 1 rows affected.\n",
      "INSERT into ret_cluster_result (job_id, tweet_id, cluster_no) values (3846, 1777227174686392817, 1)\n",
      "Query executed successfully. 1 rows affected.\n",
      "INSERT into ret_cluster_result (job_id, tweet_id, cluster_no) values (3846, 1777226824973746309, 16)\n",
      "Query executed successfully. 1 rows affected.\n",
      "INSERT into ret_cluster_result (job_id, tweet_id, cluster_no) values (3846, 1776813549920362899, 11)\n",
      "Query executed successfully. 1 rows affected.\n",
      "INSERT into ret_cluster_result (job_id, tweet_id, cluster_no) values (3846, 1777225392660926841, 1)\n",
      "Query executed successfully. 1 rows affected.\n",
      "INSERT into ret_cluster_result (job_id, tweet_id, cluster_no) values (3846, 1777224168834203812, 1)\n",
      "Query executed successfully. 1 rows affected.\n",
      "INSERT into ret_cluster_result (job_id, tweet_id, cluster_no) values (3846, 1777224095677227422, 0)\n",
      "Query executed successfully. 1 rows affected.\n",
      "INSERT into ret_cluster_result (job_id, tweet_id, cluster_no) values (3846, 1777223165581926852, 22)\n",
      "Query executed successfully. 1 rows affected.\n",
      "INSERT into ret_cluster_result (job_id, tweet_id, cluster_no) values (3846, 1777223049043218893, 1)\n"
     ]
    },
    {
     "name": "stdout",
     "output_type": "stream",
     "text": [
      "Query executed successfully. 1 rows affected.\n",
      "INSERT into ret_cluster_result (job_id, tweet_id, cluster_no) values (3846, 1777154147827208593, 15)\n",
      "Query executed successfully. 1 rows affected.\n",
      "INSERT into ret_cluster_result (job_id, tweet_id, cluster_no) values (3846, 1777218849810894951, 21)\n",
      "Query executed successfully. 1 rows affected.\n",
      "INSERT into ret_cluster_result (job_id, tweet_id, cluster_no) values (3846, 1777218221663469956, 15)\n",
      "Query executed successfully. 1 rows affected.\n",
      "INSERT into ret_cluster_result (job_id, tweet_id, cluster_no) values (3846, 1777218849810894951, 21)\n"
     ]
    },
    {
     "name": "stdout",
     "output_type": "stream",
     "text": [
      "Query executed successfully. 1 rows affected.\n",
      "INSERT into ret_cluster_result (job_id, tweet_id, cluster_no) values (3846, 1777218629551173782, 0)\n",
      "Query executed successfully. 1 rows affected.\n",
      "INSERT into ret_cluster_result (job_id, tweet_id, cluster_no) values (3846, 1777217182352671137, 0)\n",
      "Query executed successfully. 1 rows affected.\n",
      "INSERT into ret_cluster_result (job_id, tweet_id, cluster_no) values (3846, 1776825484854362180, 0)\n",
      "Query executed successfully. 1 rows affected.\n",
      "INSERT into ret_cluster_result (job_id, tweet_id, cluster_no) values (3846, 1777141164761629045, 12)\n",
      "Query executed successfully. 1 rows affected.\n",
      "INSERT into ret_cluster_result (job_id, tweet_id, cluster_no) values (3846, 1777210377702642075, 0)\n",
      "Query executed successfully. 1 rows affected.\n",
      "INSERT into ret_cluster_result (job_id, tweet_id, cluster_no) values (3846, 1777209900478972119, 0)\n",
      "Query executed successfully. 1 rows affected.\n",
      "INSERT into ret_cluster_result (job_id, tweet_id, cluster_no) values (3846, 1777209631359762539, 27)\n",
      "Query executed successfully. 1 rows affected.\n",
      "INSERT into ret_cluster_result (job_id, tweet_id, cluster_no) values (3846, 1777207874340655454, 1)\n"
     ]
    },
    {
     "name": "stdout",
     "output_type": "stream",
     "text": [
      "Query executed successfully. 1 rows affected.\n",
      "INSERT into ret_cluster_result (job_id, tweet_id, cluster_no) values (3846, 1777206634152169633, 17)\n",
      "Query executed successfully. 1 rows affected.\n",
      "INSERT into ret_cluster_result (job_id, tweet_id, cluster_no) values (3846, 1777203741613248816, 15)\n",
      "Query executed successfully. 1 rows affected.\n",
      "INSERT into ret_cluster_result (job_id, tweet_id, cluster_no) values (3846, 1777203516848910615, 0)\n",
      "Query executed successfully. 1 rows affected.\n",
      "INSERT into ret_cluster_result (job_id, tweet_id, cluster_no) values (3846, 1777203332765172155, 11)\n"
     ]
    },
    {
     "name": "stdout",
     "output_type": "stream",
     "text": [
      "Query executed successfully. 1 rows affected.\n",
      "INSERT into ret_cluster_result (job_id, tweet_id, cluster_no) values (3846, 1777203072005189776, 9)\n",
      "Query executed successfully. 1 rows affected.\n",
      "INSERT into ret_cluster_result (job_id, tweet_id, cluster_no) values (3846, 1777202385225671061, 0)\n",
      "Query executed successfully. 1 rows affected.\n",
      "INSERT into ret_cluster_result (job_id, tweet_id, cluster_no) values (3846, 1777200799686557828, 0)\n",
      "Query executed successfully. 1 rows affected.\n",
      "INSERT into ret_cluster_result (job_id, tweet_id, cluster_no) values (3846, 1777199695913160834, 0)\n",
      "Query executed successfully. 1 rows affected.\n",
      "INSERT into ret_cluster_result (job_id, tweet_id, cluster_no) values (3846, 1777196124560064971, 0)\n",
      "Query executed successfully. 1 rows affected.\n",
      "INSERT into ret_cluster_result (job_id, tweet_id, cluster_no) values (3846, 1777192385996591525, 5)\n",
      "Query executed successfully. 1 rows affected.\n",
      "INSERT into ret_cluster_result (job_id, tweet_id, cluster_no) values (3846, 1777191860672602429, 0)\n",
      "Query executed successfully. 1 rows affected.\n",
      "INSERT into ret_cluster_result (job_id, tweet_id, cluster_no) values (3846, 1777187505860985104, 0)\n"
     ]
    },
    {
     "name": "stdout",
     "output_type": "stream",
     "text": [
      "Query executed successfully. 1 rows affected.\n",
      "INSERT into ret_cluster_result (job_id, tweet_id, cluster_no) values (3846, 1777187109356638314, 14)\n",
      "Query executed successfully. 1 rows affected.\n",
      "INSERT into ret_cluster_result (job_id, tweet_id, cluster_no) values (3846, 1777186639736873448, 0)\n",
      "Query executed successfully. 1 rows affected.\n",
      "INSERT into ret_cluster_result (job_id, tweet_id, cluster_no) values (3846, 1777185829141774584, 0)\n"
     ]
    },
    {
     "name": "stdout",
     "output_type": "stream",
     "text": [
      "Query executed successfully. 1 rows affected.\n",
      "INSERT into ret_cluster_result (job_id, tweet_id, cluster_no) values (3846, 1777185810569449855, 12)\n",
      "Query executed successfully. 1 rows affected.\n",
      "INSERT into ret_cluster_result (job_id, tweet_id, cluster_no) values (3846, 1777184597400277181, 35)\n",
      "Query executed successfully. 1 rows affected.\n",
      "INSERT into ret_cluster_result (job_id, tweet_id, cluster_no) values (3846, 1777184597400277181, 0)\n",
      "Query executed successfully. 1 rows affected.\n",
      "INSERT into ret_cluster_result (job_id, tweet_id, cluster_no) values (3846, 1777184597325005303, 0)\n",
      "Query executed successfully. 1 rows affected.\n",
      "INSERT into ret_cluster_result (job_id, tweet_id, cluster_no) values (3846, 1777183496001486865, 0)\n",
      "Query executed successfully. 1 rows affected.\n",
      "INSERT into ret_cluster_result (job_id, tweet_id, cluster_no) values (3846, 1777177045501694030, 6)\n",
      "Query executed successfully. 1 rows affected.\n",
      "INSERT into ret_cluster_result (job_id, tweet_id, cluster_no) values (3846, 1777175102951747594, 0)\n",
      "Query executed successfully. 1 rows affected.\n",
      "INSERT into ret_cluster_result (job_id, tweet_id, cluster_no) values (3846, 1777174742472258043, 24)\n",
      "Query executed successfully. 1 rows affected.\n",
      "INSERT into ret_cluster_result (job_id, tweet_id, cluster_no) values (3846, 1777173783637639607, 0)\n"
     ]
    },
    {
     "name": "stdout",
     "output_type": "stream",
     "text": [
      "Query executed successfully. 1 rows affected.\n",
      "INSERT into ret_cluster_result (job_id, tweet_id, cluster_no) values (3846, 1777013212942368894, 15)\n",
      "Query executed successfully. 1 rows affected.\n",
      "INSERT into ret_cluster_result (job_id, tweet_id, cluster_no) values (3846, 1777173280925126958, 8)\n",
      "Query executed successfully. 1 rows affected.\n",
      "INSERT into ret_cluster_result (job_id, tweet_id, cluster_no) values (3846, 1777172475685822698, 15)\n"
     ]
    },
    {
     "name": "stdout",
     "output_type": "stream",
     "text": [
      "Query executed successfully. 1 rows affected.\n",
      "INSERT into ret_cluster_result (job_id, tweet_id, cluster_no) values (3846, 1777171638267847139, 7)\n",
      "Query executed successfully. 1 rows affected.\n",
      "INSERT into ret_cluster_result (job_id, tweet_id, cluster_no) values (3846, 1777171560748704184, 0)\n",
      "Query executed successfully. 1 rows affected.\n",
      "INSERT into ret_cluster_result (job_id, tweet_id, cluster_no) values (3846, 1777171426774229423, 7)\n",
      "Query executed successfully. 1 rows affected.\n",
      "INSERT into ret_cluster_result (job_id, tweet_id, cluster_no) values (3846, 1777171098184143274, 10)\n",
      "Query executed successfully. 1 rows affected.\n",
      "INSERT into ret_cluster_result (job_id, tweet_id, cluster_no) values (3846, 1777170838036549796, 10)\n",
      "Query executed successfully. 1 rows affected.\n",
      "INSERT into ret_cluster_result (job_id, tweet_id, cluster_no) values (3846, 1777169455698895148, 1)\n",
      "Query executed successfully. 1 rows affected.\n",
      "INSERT into ret_cluster_result (job_id, tweet_id, cluster_no) values (3846, 1777167934114480607, 17)\n",
      "Query executed successfully. 1 rows affected.\n",
      "INSERT into ret_cluster_result (job_id, tweet_id, cluster_no) values (3846, 1777167325701218619, 0)\n",
      "Query executed successfully. 1 rows affected.\n",
      "INSERT into ret_cluster_result (job_id, tweet_id, cluster_no) values (3846, 1776842294907515345, 13)\n"
     ]
    },
    {
     "name": "stdout",
     "output_type": "stream",
     "text": [
      "Query executed successfully. 1 rows affected.\n",
      "INSERT into ret_cluster_result (job_id, tweet_id, cluster_no) values (3846, 1776813549920362899, 15)\n",
      "Query executed successfully. 1 rows affected.\n",
      "INSERT into ret_cluster_result (job_id, tweet_id, cluster_no) values (3846, 1777164654839795784, 0)\n",
      "Query executed successfully. 1 rows affected.\n",
      "INSERT into ret_cluster_result (job_id, tweet_id, cluster_no) values (3846, 1777164486685995417, 0)\n"
     ]
    },
    {
     "name": "stdout",
     "output_type": "stream",
     "text": [
      "Query executed successfully. 1 rows affected.\n",
      "INSERT into ret_cluster_result (job_id, tweet_id, cluster_no) values (3846, 1777164425151336866, 26)\n",
      "Query executed successfully. 1 rows affected.\n",
      "INSERT into ret_cluster_result (job_id, tweet_id, cluster_no) values (3846, 1777163641386840190, 0)\n",
      "Query executed successfully. 1 rows affected.\n",
      "INSERT into ret_cluster_result (job_id, tweet_id, cluster_no) values (3846, 1776893124763402397, 11)\n",
      "Query executed successfully. 1 rows affected.\n",
      "INSERT into ret_cluster_result (job_id, tweet_id, cluster_no) values (3846, 1777161058513457300, 15)\n",
      "Query executed successfully. 1 rows affected.\n",
      "INSERT into ret_cluster_result (job_id, tweet_id, cluster_no) values (3846, 1776903303454138705, 22)\n",
      "Query executed successfully. 1 rows affected.\n",
      "INSERT into ret_cluster_result (job_id, tweet_id, cluster_no) values (3846, 1777159101862367730, 0)\n",
      "Query executed successfully. 1 rows affected.\n",
      "INSERT into ret_cluster_result (job_id, tweet_id, cluster_no) values (3846, 1777158643198439721, 0)\n",
      "Query executed successfully. 1 rows affected.\n",
      "INSERT into ret_cluster_result (job_id, tweet_id, cluster_no) values (3846, 1776813549920362899, 11)\n",
      "Query executed successfully. 1 rows affected.\n",
      "INSERT into ret_cluster_result (job_id, tweet_id, cluster_no) values (3846, 1776813549920362899, 17)\n"
     ]
    },
    {
     "name": "stdout",
     "output_type": "stream",
     "text": [
      "Query executed successfully. 1 rows affected.\n",
      "INSERT into ret_cluster_result (job_id, tweet_id, cluster_no) values (3846, 1777152361557115152, 4)\n",
      "Query executed successfully. 1 rows affected.\n",
      "INSERT into ret_cluster_result (job_id, tweet_id, cluster_no) values (3846, 1777152275447996552, 22)\n",
      "Query executed successfully. 1 rows affected.\n",
      "INSERT into ret_cluster_result (job_id, tweet_id, cluster_no) values (3846, 1777152020396564845, 5)\n"
     ]
    },
    {
     "name": "stdout",
     "output_type": "stream",
     "text": [
      "Query executed successfully. 1 rows affected.\n",
      "INSERT into ret_cluster_result (job_id, tweet_id, cluster_no) values (3846, 1777151804469592273, 0)\n",
      "Query executed successfully. 1 rows affected.\n",
      "INSERT into ret_cluster_result (job_id, tweet_id, cluster_no) values (3846, 1776813549920362899, 11)\n",
      "Query executed successfully. 1 rows affected.\n",
      "INSERT into ret_cluster_result (job_id, tweet_id, cluster_no) values (3846, 1776813549920362899, 5)\n",
      "Query executed successfully. 1 rows affected.\n",
      "INSERT into ret_cluster_result (job_id, tweet_id, cluster_no) values (3846, 1777143419837776291, 0)\n",
      "Query executed successfully. 1 rows affected.\n",
      "INSERT into ret_cluster_result (job_id, tweet_id, cluster_no) values (3846, 1777142978022396079, 0)\n",
      "Query executed successfully. 1 rows affected.\n",
      "INSERT into ret_cluster_result (job_id, tweet_id, cluster_no) values (3846, 1776813549920362899, 11)\n",
      "Query executed successfully. 1 rows affected.\n",
      "INSERT into ret_cluster_result (job_id, tweet_id, cluster_no) values (3846, 1777140967415714059, 15)\n",
      "Query executed successfully. 1 rows affected.\n",
      "INSERT into ret_cluster_result (job_id, tweet_id, cluster_no) values (3846, 1777139872576479617, 0)\n",
      "Query executed successfully. 1 rows affected.\n",
      "INSERT into ret_cluster_result (job_id, tweet_id, cluster_no) values (3846, 1777139042561511859, 0)\n"
     ]
    },
    {
     "name": "stdout",
     "output_type": "stream",
     "text": [
      "Query executed successfully. 1 rows affected.\n",
      "INSERT into ret_cluster_result (job_id, tweet_id, cluster_no) values (3846, 1777136552713568601, 0)\n",
      "Query executed successfully. 1 rows affected.\n",
      "INSERT into ret_cluster_result (job_id, tweet_id, cluster_no) values (3846, 1777133648929862124, 4)\n",
      "Query executed successfully. 1 rows affected.\n",
      "INSERT into ret_cluster_result (job_id, tweet_id, cluster_no) values (3846, 1776813549920362899, 11)\n"
     ]
    },
    {
     "name": "stdout",
     "output_type": "stream",
     "text": [
      "Query executed successfully. 1 rows affected.\n",
      "INSERT into ret_cluster_result (job_id, tweet_id, cluster_no) values (3846, 1776813549920362899, 11)\n",
      "Query executed successfully. 1 rows affected.\n",
      "INSERT into ret_cluster_result (job_id, tweet_id, cluster_no) values (3846, 1776813549920362899, 32)\n",
      "Query executed successfully. 1 rows affected.\n",
      "INSERT into ret_cluster_result (job_id, tweet_id, cluster_no) values (3846, 1777132524801769780, 0)\n",
      "Query executed successfully. 1 rows affected.\n",
      "INSERT into ret_cluster_result (job_id, tweet_id, cluster_no) values (3846, 1776863357204582628, 1)\n",
      "Query executed successfully. 1 rows affected.\n",
      "INSERT into ret_cluster_result (job_id, tweet_id, cluster_no) values (3846, 1777129410451345513, 4)\n",
      "Query executed successfully. 1 rows affected.\n",
      "INSERT into ret_cluster_result (job_id, tweet_id, cluster_no) values (3846, 1777126815418720463, 15)\n",
      "Query executed successfully. 1 rows affected.\n",
      "INSERT into ret_cluster_result (job_id, tweet_id, cluster_no) values (3846, 1777125915593687488, 14)\n",
      "Query executed successfully. 1 rows affected.\n",
      "INSERT into ret_cluster_result (job_id, tweet_id, cluster_no) values (3846, 1776990914936033366, 1)\n",
      "Query executed successfully. 1 rows affected.\n",
      "INSERT into ret_cluster_result (job_id, tweet_id, cluster_no) values (3846, 1776978343176622364, 15)\n"
     ]
    },
    {
     "name": "stdout",
     "output_type": "stream",
     "text": [
      "Query executed successfully. 1 rows affected.\n",
      "INSERT into ret_cluster_result (job_id, tweet_id, cluster_no) values (3846, 1776813549920362899, 7)\n",
      "Query executed successfully. 1 rows affected.\n",
      "INSERT into ret_cluster_result (job_id, tweet_id, cluster_no) values (3846, 1777117279781831094, 4)\n",
      "Query executed successfully. 1 rows affected.\n",
      "INSERT into ret_cluster_result (job_id, tweet_id, cluster_no) values (3846, 1777114700947579064, 6)\n"
     ]
    },
    {
     "name": "stdout",
     "output_type": "stream",
     "text": [
      "Query executed successfully. 1 rows affected.\n",
      "INSERT into ret_cluster_result (job_id, tweet_id, cluster_no) values (3846, 1777112045621854673, 6)\n",
      "Query executed successfully. 1 rows affected.\n",
      "INSERT into ret_cluster_result (job_id, tweet_id, cluster_no) values (3846, 1777079056582013381, 15)\n",
      "Query executed successfully. 1 rows affected.\n",
      "INSERT into ret_cluster_result (job_id, tweet_id, cluster_no) values (3846, 1776813549920362899, 0)\n",
      "Query executed successfully. 1 rows affected.\n",
      "INSERT into ret_cluster_result (job_id, tweet_id, cluster_no) values (3846, 1777079056582013381, 1)\n",
      "Query executed successfully. 1 rows affected.\n",
      "INSERT into ret_cluster_result (job_id, tweet_id, cluster_no) values (3846, 1777101916797100179, 7)\n",
      "Query executed successfully. 1 rows affected.\n",
      "INSERT into ret_cluster_result (job_id, tweet_id, cluster_no) values (3846, 1777099939551817758, 15)\n",
      "Query executed successfully. 1 rows affected.\n",
      "INSERT into ret_cluster_result (job_id, tweet_id, cluster_no) values (3846, 1777099768575226115, 0)\n",
      "Query executed successfully. 1 rows affected.\n",
      "INSERT into ret_cluster_result (job_id, tweet_id, cluster_no) values (3846, 1777098851259924966, 14)\n",
      "Query executed successfully. 1 rows affected.\n",
      "INSERT into ret_cluster_result (job_id, tweet_id, cluster_no) values (3846, 1776813549920362899, 15)\n"
     ]
    },
    {
     "name": "stdout",
     "output_type": "stream",
     "text": [
      "Query executed successfully. 1 rows affected.\n",
      "INSERT into ret_cluster_result (job_id, tweet_id, cluster_no) values (3846, 1777096496103711176, 4)\n",
      "Query executed successfully. 1 rows affected.\n",
      "INSERT into ret_cluster_result (job_id, tweet_id, cluster_no) values (3846, 1776813549920362899, 0)\n",
      "Query executed successfully. 1 rows affected.\n",
      "INSERT into ret_cluster_result (job_id, tweet_id, cluster_no) values (3846, 1777079056582013381, 22)\n"
     ]
    },
    {
     "name": "stdout",
     "output_type": "stream",
     "text": [
      "Query executed successfully. 1 rows affected.\n",
      "INSERT into ret_cluster_result (job_id, tweet_id, cluster_no) values (3846, 1777094402252657013, 0)\n",
      "Query executed successfully. 1 rows affected.\n",
      "INSERT into ret_cluster_result (job_id, tweet_id, cluster_no) values (3846, 1777093659852493289, 35)\n",
      "Query executed successfully. 1 rows affected.\n",
      "INSERT into ret_cluster_result (job_id, tweet_id, cluster_no) values (3846, 1777091120432046517, 0)\n",
      "Query executed successfully. 1 rows affected.\n",
      "INSERT into ret_cluster_result (job_id, tweet_id, cluster_no) values (3846, 1777089324825403650, 1)\n",
      "Query executed successfully. 1 rows affected.\n",
      "INSERT into ret_cluster_result (job_id, tweet_id, cluster_no) values (3846, 1776825484854362180, 1)\n",
      "Query executed successfully. 1 rows affected.\n",
      "INSERT into ret_cluster_result (job_id, tweet_id, cluster_no) values (3846, 1776893124763402397, 1)\n",
      "Query executed successfully. 1 rows affected.\n",
      "INSERT into ret_cluster_result (job_id, tweet_id, cluster_no) values (3846, 1776900780798398971, 1)\n",
      "Query executed successfully. 1 rows affected.\n",
      "INSERT into ret_cluster_result (job_id, tweet_id, cluster_no) values (3846, 1777083441651294238, 1)\n",
      "Query executed successfully. 1 rows affected.\n",
      "INSERT into ret_cluster_result (job_id, tweet_id, cluster_no) values (3846, 1777078497510555963, 15)\n",
      "Query executed successfully. 1 rows affected.\n",
      "INSERT into ret_cluster_result (job_id, tweet_id, cluster_no) values (3846, 1776842294907515345, 33)\n"
     ]
    },
    {
     "name": "stdout",
     "output_type": "stream",
     "text": [
      "Query executed successfully. 1 rows affected.\n",
      "INSERT into ret_cluster_result (job_id, tweet_id, cluster_no) values (3846, 1776842294907515345, 33)\n",
      "Query executed successfully. 1 rows affected.\n",
      "INSERT into ret_cluster_result (job_id, tweet_id, cluster_no) values (3846, 1776813549920362899, 2)\n",
      "Query executed successfully. 1 rows affected.\n",
      "INSERT into ret_cluster_result (job_id, tweet_id, cluster_no) values (3846, 1776963505364844680, 2)\n"
     ]
    },
    {
     "name": "stdout",
     "output_type": "stream",
     "text": [
      "Query executed successfully. 1 rows affected.\n",
      "INSERT into ret_cluster_result (job_id, tweet_id, cluster_no) values (3846, 1777074154237501455, 18)\n",
      "Query executed successfully. 1 rows affected.\n",
      "INSERT into ret_cluster_result (job_id, tweet_id, cluster_no) values (3846, 1777073673436123506, 18)\n",
      "Query executed successfully. 1 rows affected.\n",
      "INSERT into ret_cluster_result (job_id, tweet_id, cluster_no) values (3846, 1777067558849716447, 0)\n",
      "Query executed successfully. 1 rows affected.\n",
      "INSERT into ret_cluster_result (job_id, tweet_id, cluster_no) values (3846, 1777066976655073756, 36)\n",
      "Query executed successfully. 1 rows affected.\n",
      "INSERT into ret_cluster_result (job_id, tweet_id, cluster_no) values (3846, 1777066741027549614, 36)\n",
      "Query executed successfully. 1 rows affected.\n",
      "INSERT into ret_cluster_result (job_id, tweet_id, cluster_no) values (3846, 1777065668158034105, 12)\n",
      "Query executed successfully. 1 rows affected.\n",
      "INSERT into ret_cluster_result (job_id, tweet_id, cluster_no) values (3846, 1776848436807225785, 13)\n",
      "Query executed successfully. 1 rows affected.\n",
      "INSERT into ret_cluster_result (job_id, tweet_id, cluster_no) values (3846, 1777064313267839475, 1)\n",
      "Query executed successfully. 1 rows affected.\n",
      "INSERT into ret_cluster_result (job_id, tweet_id, cluster_no) values (3846, 1777061939832816031, 17)\n",
      "Query executed successfully. 1 rows affected.\n",
      "INSERT into ret_cluster_result (job_id, tweet_id, cluster_no) values (3846, 1777060643138613734, 25)\n"
     ]
    },
    {
     "name": "stdout",
     "output_type": "stream",
     "text": [
      "Query executed successfully. 1 rows affected.\n",
      "INSERT into ret_cluster_result (job_id, tweet_id, cluster_no) values (3846, 1776814984074522648, 15)\n",
      "Query executed successfully. 1 rows affected.\n",
      "INSERT into ret_cluster_result (job_id, tweet_id, cluster_no) values (3846, 1777055084347858994, 0)\n",
      "Query executed successfully. 1 rows affected.\n",
      "INSERT into ret_cluster_result (job_id, tweet_id, cluster_no) values (3846, 1776978343176622364, 0)\n"
     ]
    },
    {
     "name": "stdout",
     "output_type": "stream",
     "text": [
      "Query executed successfully. 1 rows affected.\n",
      "INSERT into ret_cluster_result (job_id, tweet_id, cluster_no) values (3846, 1777049464764780838, 30)\n",
      "Query executed successfully. 1 rows affected.\n",
      "INSERT into ret_cluster_result (job_id, tweet_id, cluster_no) values (3846, 1777049210992685253, 15)\n",
      "Query executed successfully. 1 rows affected.\n",
      "INSERT into ret_cluster_result (job_id, tweet_id, cluster_no) values (3846, 1776813549920362899, 7)\n",
      "Query executed successfully. 1 rows affected.\n",
      "INSERT into ret_cluster_result (job_id, tweet_id, cluster_no) values (3846, 1777045064738586964, 3)\n",
      "Query executed successfully. 1 rows affected.\n",
      "INSERT into ret_cluster_result (job_id, tweet_id, cluster_no) values (3846, 1777044489066152062, 1)\n",
      "Query executed successfully. 1 rows affected.\n",
      "INSERT into ret_cluster_result (job_id, tweet_id, cluster_no) values (3846, 1776858004266090546, 7)\n",
      "Query executed successfully. 1 rows affected.\n",
      "INSERT into ret_cluster_result (job_id, tweet_id, cluster_no) values (3846, 1777043556710170633, 0)\n",
      "Query executed successfully. 1 rows affected.\n",
      "INSERT into ret_cluster_result (job_id, tweet_id, cluster_no) values (3846, 1777043506193981620, 5)\n",
      "Query executed successfully. 1 rows affected.\n",
      "INSERT into ret_cluster_result (job_id, tweet_id, cluster_no) values (3846, 1777021310906032314, 0)\n",
      "Query executed successfully. 1 rows affected.\n",
      "INSERT into ret_cluster_result (job_id, tweet_id, cluster_no) values (3846, 1777042222317551955, 22)\n"
     ]
    },
    {
     "name": "stdout",
     "output_type": "stream",
     "text": [
      "Query executed successfully. 1 rows affected.\n",
      "INSERT into ret_cluster_result (job_id, tweet_id, cluster_no) values (3846, 1776981794736517549, 11)\n",
      "Query executed successfully. 1 rows affected.\n",
      "INSERT into ret_cluster_result (job_id, tweet_id, cluster_no) values (3846, 1777040970363871619, 34)\n",
      "Query executed successfully. 1 rows affected.\n",
      "INSERT into ret_cluster_result (job_id, tweet_id, cluster_no) values (3846, 1777040222372687950, 0)\n"
     ]
    },
    {
     "name": "stdout",
     "output_type": "stream",
     "text": [
      "Query executed successfully. 1 rows affected.\n",
      "INSERT into ret_cluster_result (job_id, tweet_id, cluster_no) values (3846, 1776835755245207919, 8)\n",
      "Query executed successfully. 1 rows affected.\n",
      "INSERT into ret_cluster_result (job_id, tweet_id, cluster_no) values (3846, 1777037259428262218, 11)\n",
      "Query executed successfully. 1 rows affected.\n",
      "INSERT into ret_cluster_result (job_id, tweet_id, cluster_no) values (3846, 1776813549920362899, 4)\n",
      "Query executed successfully. 1 rows affected.\n",
      "INSERT into ret_cluster_result (job_id, tweet_id, cluster_no) values (3846, 1777035491340374323, 0)\n",
      "Query executed successfully. 1 rows affected.\n",
      "INSERT into ret_cluster_result (job_id, tweet_id, cluster_no) values (3846, 1777035082727092615, 0)\n",
      "Query executed successfully. 1 rows affected.\n",
      "INSERT into ret_cluster_result (job_id, tweet_id, cluster_no) values (3846, 1777035056047120685, 30)\n",
      "Query executed successfully. 1 rows affected.\n",
      "INSERT into ret_cluster_result (job_id, tweet_id, cluster_no) values (3846, 1776891857022353654, 8)\n",
      "Query executed successfully. 1 rows affected.\n",
      "INSERT into ret_cluster_result (job_id, tweet_id, cluster_no) values (3846, 1777033971039371592, 0)\n",
      "Query executed successfully. 1 rows affected.\n",
      "INSERT into ret_cluster_result (job_id, tweet_id, cluster_no) values (3846, 1777033892912136635, 24)\n",
      "Query executed successfully. 1 rows affected.\n",
      "INSERT into ret_cluster_result (job_id, tweet_id, cluster_no) values (3846, 1776998526108778672, 15)\n"
     ]
    },
    {
     "name": "stdout",
     "output_type": "stream",
     "text": [
      "Query executed successfully. 1 rows affected.\n",
      "INSERT into ret_cluster_result (job_id, tweet_id, cluster_no) values (3846, 1777033448332636597, 0)\n",
      "Query executed successfully. 1 rows affected.\n",
      "INSERT into ret_cluster_result (job_id, tweet_id, cluster_no) values (3846, 1777033351742059005, 0)\n",
      "Query executed successfully. 1 rows affected.\n",
      "INSERT into ret_cluster_result (job_id, tweet_id, cluster_no) values (3846, 1776893124763402397, 11)\n"
     ]
    },
    {
     "name": "stdout",
     "output_type": "stream",
     "text": [
      "Query executed successfully. 1 rows affected.\n",
      "INSERT into ret_cluster_result (job_id, tweet_id, cluster_no) values (3846, 1777032842100482353, 0)\n",
      "Query executed successfully. 1 rows affected.\n",
      "INSERT into ret_cluster_result (job_id, tweet_id, cluster_no) values (3846, 1777032459374469290, 0)\n",
      "Query executed successfully. 1 rows affected.\n",
      "INSERT into ret_cluster_result (job_id, tweet_id, cluster_no) values (3846, 1777032408933744947, 0)\n",
      "Query executed successfully. 1 rows affected.\n",
      "INSERT into ret_cluster_result (job_id, tweet_id, cluster_no) values (3846, 1777031645713031571, 0)\n",
      "Query executed successfully. 1 rows affected.\n",
      "INSERT into ret_cluster_result (job_id, tweet_id, cluster_no) values (3846, 1777030494213005689, 0)\n",
      "Query executed successfully. 1 rows affected.\n",
      "INSERT into ret_cluster_result (job_id, tweet_id, cluster_no) values (3846, 1777029713200095726, 29)\n",
      "Query executed successfully. 1 rows affected.\n",
      "INSERT into ret_cluster_result (job_id, tweet_id, cluster_no) values (3846, 1777029700927525148, 29)\n",
      "Query executed successfully. 1 rows affected.\n",
      "INSERT into ret_cluster_result (job_id, tweet_id, cluster_no) values (3846, 1777029676973932710, 0)\n",
      "Query executed successfully. 1 rows affected.\n",
      "INSERT into ret_cluster_result (job_id, tweet_id, cluster_no) values (3846, 1777029240241975786, 0)\n",
      "Query executed successfully. 1 rows affected.\n",
      "INSERT into ret_cluster_result (job_id, tweet_id, cluster_no) values (3846, 1777028881264038053, 0)\n"
     ]
    },
    {
     "name": "stdout",
     "output_type": "stream",
     "text": [
      "Query executed successfully. 1 rows affected.\n",
      "INSERT into ret_cluster_result (job_id, tweet_id, cluster_no) values (3846, 1777028301711909096, 0)\n",
      "Query executed successfully. 1 rows affected.\n",
      "INSERT into ret_cluster_result (job_id, tweet_id, cluster_no) values (3846, 1777027630329725388, 0)\n",
      "Query executed successfully. 1 rows affected.\n",
      "INSERT into ret_cluster_result (job_id, tweet_id, cluster_no) values (3846, 1777026457535148277, 0)\n"
     ]
    },
    {
     "name": "stdout",
     "output_type": "stream",
     "text": [
      "Query executed successfully. 1 rows affected.\n",
      "INSERT into ret_cluster_result (job_id, tweet_id, cluster_no) values (3846, 1777026382775939163, 0)\n",
      "Query executed successfully. 1 rows affected.\n",
      "INSERT into ret_cluster_result (job_id, tweet_id, cluster_no) values (3846, 1776891857022353654, 0)\n",
      "Query executed successfully. 1 rows affected.\n",
      "INSERT into ret_cluster_result (job_id, tweet_id, cluster_no) values (3846, 1777025782449377539, 29)\n",
      "Query executed successfully. 1 rows affected.\n",
      "INSERT into ret_cluster_result (job_id, tweet_id, cluster_no) values (3846, 1776842294907515345, 0)\n",
      "Query executed successfully. 1 rows affected.\n",
      "INSERT into ret_cluster_result (job_id, tweet_id, cluster_no) values (3846, 1777025396325953604, 28)\n",
      "Query executed successfully. 1 rows affected.\n",
      "INSERT into ret_cluster_result (job_id, tweet_id, cluster_no) values (3846, 1777023857024725271, 0)\n",
      "Query executed successfully. 1 rows affected.\n",
      "INSERT into ret_cluster_result (job_id, tweet_id, cluster_no) values (3846, 1777022639950995602, 20)\n",
      "Query executed successfully. 1 rows affected.\n",
      "INSERT into ret_cluster_result (job_id, tweet_id, cluster_no) values (3846, 1777021712363925951, 3)\n",
      "Query executed successfully. 1 rows affected.\n",
      "INSERT into ret_cluster_result (job_id, tweet_id, cluster_no) values (3846, 1777021678201266592, 20)\n",
      "Query executed successfully. 1 rows affected.\n",
      "INSERT into ret_cluster_result (job_id, tweet_id, cluster_no) values (3846, 1777018683959005475, 1)\n"
     ]
    },
    {
     "name": "stdout",
     "output_type": "stream",
     "text": [
      "Query executed successfully. 1 rows affected.\n",
      "INSERT into ret_cluster_result (job_id, tweet_id, cluster_no) values (3846, 1776963505364844680, 0)\n",
      "Query executed successfully. 1 rows affected.\n",
      "INSERT into ret_cluster_result (job_id, tweet_id, cluster_no) values (3846, 1777019527722873021, 4)\n",
      "Query executed successfully. 1 rows affected.\n",
      "INSERT into ret_cluster_result (job_id, tweet_id, cluster_no) values (3846, 1776820784075542640, 7)\n"
     ]
    },
    {
     "name": "stdout",
     "output_type": "stream",
     "text": [
      "Query executed successfully. 1 rows affected.\n",
      "INSERT into ret_cluster_result (job_id, tweet_id, cluster_no) values (3846, 1777018683959005475, 4)\n",
      "Query executed successfully. 1 rows affected.\n",
      "INSERT into ret_cluster_result (job_id, tweet_id, cluster_no) values (3846, 1777018416853078374, 0)\n",
      "Query executed successfully. 1 rows affected.\n",
      "INSERT into ret_cluster_result (job_id, tweet_id, cluster_no) values (3846, 1776631373497073808, 7)\n",
      "Query executed successfully. 1 rows affected.\n",
      "INSERT into ret_cluster_result (job_id, tweet_id, cluster_no) values (3846, 1777016735545360461, 0)\n",
      "Query executed successfully. 1 rows affected.\n",
      "INSERT into ret_cluster_result (job_id, tweet_id, cluster_no) values (3846, 1776860264010318268, 8)\n",
      "Query executed successfully. 1 rows affected.\n",
      "INSERT into ret_cluster_result (job_id, tweet_id, cluster_no) values (3846, 1776813549920362899, 0)\n",
      "Query executed successfully. 1 rows affected.\n",
      "INSERT into ret_cluster_result (job_id, tweet_id, cluster_no) values (3846, 1776990914936033366, 15)\n",
      "Query executed successfully. 1 rows affected.\n",
      "INSERT into ret_cluster_result (job_id, tweet_id, cluster_no) values (3846, 1777016414395875535, 0)\n",
      "Query executed successfully. 1 rows affected.\n",
      "INSERT into ret_cluster_result (job_id, tweet_id, cluster_no) values (3846, 1777015942855438437, 0)\n",
      "Query executed successfully. 1 rows affected.\n",
      "INSERT into ret_cluster_result (job_id, tweet_id, cluster_no) values (3846, 1776891857022353654, 11)\n"
     ]
    },
    {
     "name": "stdout",
     "output_type": "stream",
     "text": [
      "Query executed successfully. 1 rows affected.\n",
      "INSERT into ret_cluster_result (job_id, tweet_id, cluster_no) values (3846, 1776893124763402397, 4)\n",
      "Query executed successfully. 1 rows affected.\n",
      "INSERT into ret_cluster_result (job_id, tweet_id, cluster_no) values (3846, 1776990050020131187, 8)\n",
      "Query executed successfully. 1 rows affected.\n",
      "INSERT into ret_cluster_result (job_id, tweet_id, cluster_no) values (3846, 1776813549920362899, 0)\n"
     ]
    },
    {
     "name": "stdout",
     "output_type": "stream",
     "text": [
      "Query executed successfully. 1 rows affected.\n",
      "INSERT into ret_cluster_result (job_id, tweet_id, cluster_no) values (3846, 1777013552467058879, 0)\n",
      "Query executed successfully. 1 rows affected.\n",
      "INSERT into ret_cluster_result (job_id, tweet_id, cluster_no) values (3846, 1777013094663041101, 1)\n",
      "Query executed successfully. 1 rows affected.\n",
      "INSERT into ret_cluster_result (job_id, tweet_id, cluster_no) values (3846, 1776963505364844680, 0)\n",
      "Query executed successfully. 1 rows affected.\n",
      "INSERT into ret_cluster_result (job_id, tweet_id, cluster_no) values (3846, 1776994994664149431, 8)\n",
      "Query executed successfully. 1 rows affected.\n",
      "INSERT into ret_cluster_result (job_id, tweet_id, cluster_no) values (3846, 1776080276801905068, 8)\n",
      "Query executed successfully. 1 rows affected.\n",
      "INSERT into ret_cluster_result (job_id, tweet_id, cluster_no) values (3846, 1777010019638333720, 15)\n",
      "Query executed successfully. 1 rows affected.\n",
      "INSERT into ret_cluster_result (job_id, tweet_id, cluster_no) values (3846, 1776813549920362899, 0)\n",
      "Query executed successfully. 1 rows affected.\n",
      "INSERT into ret_cluster_result (job_id, tweet_id, cluster_no) values (3846, 1776989577305297391, 8)\n",
      "Query executed successfully. 1 rows affected.\n",
      "INSERT into ret_cluster_result (job_id, tweet_id, cluster_no) values (3846, 1776842294907515345, 8)\n",
      "Query executed successfully. 1 rows affected.\n",
      "INSERT into ret_cluster_result (job_id, tweet_id, cluster_no) values (3846, 1776813549920362899, 11)\n"
     ]
    },
    {
     "name": "stdout",
     "output_type": "stream",
     "text": [
      "Query executed successfully. 1 rows affected.\n",
      "INSERT into ret_cluster_result (job_id, tweet_id, cluster_no) values (3846, 1776813549920362899, 11)\n",
      "Query executed successfully. 1 rows affected.\n",
      "INSERT into ret_cluster_result (job_id, tweet_id, cluster_no) values (3846, 1776848436807225785, 8)\n",
      "Query executed successfully. 1 rows affected.\n",
      "INSERT into ret_cluster_result (job_id, tweet_id, cluster_no) values (3846, 1777008553074872667, 0)\n"
     ]
    },
    {
     "name": "stdout",
     "output_type": "stream",
     "text": [
      "Query executed successfully. 1 rows affected.\n",
      "INSERT into ret_cluster_result (job_id, tweet_id, cluster_no) values (3846, 1776984380357128674, 0)\n",
      "Query executed successfully. 1 rows affected.\n",
      "INSERT into ret_cluster_result (job_id, tweet_id, cluster_no) values (3846, 1777007565060395309, 0)\n",
      "Query executed successfully. 1 rows affected.\n",
      "INSERT into ret_cluster_result (job_id, tweet_id, cluster_no) values (3846, 1776813549920362899, 11)\n",
      "Query executed successfully. 1 rows affected.\n",
      "INSERT into ret_cluster_result (job_id, tweet_id, cluster_no) values (3846, 1777006707513933983, 0)\n",
      "Query executed successfully. 1 rows affected.\n",
      "INSERT into ret_cluster_result (job_id, tweet_id, cluster_no) values (3846, 1776813549920362899, 1)\n",
      "Query executed successfully. 1 rows affected.\n",
      "INSERT into ret_cluster_result (job_id, tweet_id, cluster_no) values (3846, 1777004995726184785, 15)\n",
      "Query executed successfully. 1 rows affected.\n",
      "INSERT into ret_cluster_result (job_id, tweet_id, cluster_no) values (3846, 1777004013042676061, 0)\n",
      "Query executed successfully. 1 rows affected.\n",
      "INSERT into ret_cluster_result (job_id, tweet_id, cluster_no) values (3846, 1776849177588510986, 1)\n",
      "Query executed successfully. 1 rows affected.\n",
      "INSERT into ret_cluster_result (job_id, tweet_id, cluster_no) values (3846, 1777001809716072925, 15)\n",
      "Query executed successfully. 1 rows affected.\n",
      "INSERT into ret_cluster_result (job_id, tweet_id, cluster_no) values (3846, 1777001411387269173, 0)\n"
     ]
    },
    {
     "name": "stdout",
     "output_type": "stream",
     "text": [
      "Query executed successfully. 1 rows affected.\n",
      "INSERT into ret_cluster_result (job_id, tweet_id, cluster_no) values (3846, 1776983048002973836, 0)\n",
      "Query executed successfully. 1 rows affected.\n",
      "INSERT into ret_cluster_result (job_id, tweet_id, cluster_no) values (3846, 1776998739753959791, 0)\n",
      "Query executed successfully. 1 rows affected.\n",
      "INSERT into ret_cluster_result (job_id, tweet_id, cluster_no) values (3846, 1776998699622858965, 0)\n",
      "Query executed successfully. 1 rows affected.\n",
      "INSERT into ret_cluster_result (job_id, tweet_id, cluster_no) values (3846, 1776813549920362899, 7)\n"
     ]
    },
    {
     "name": "stdout",
     "output_type": "stream",
     "text": [
      "Query executed successfully. 1 rows affected.\n",
      "INSERT into ret_cluster_result (job_id, tweet_id, cluster_no) values (3846, 1776998200190353869, 0)\n",
      "Query executed successfully. 1 rows affected.\n",
      "INSERT into ret_cluster_result (job_id, tweet_id, cluster_no) values (3846, 1776998127188554105, 0)\n",
      "Query executed successfully. 1 rows affected.\n",
      "INSERT into ret_cluster_result (job_id, tweet_id, cluster_no) values (3846, 1776998071718859087, 28)\n",
      "Query executed successfully. 1 rows affected.\n",
      "INSERT into ret_cluster_result (job_id, tweet_id, cluster_no) values (3846, 1776997632147431882, 0)\n",
      "Query executed successfully. 1 rows affected.\n",
      "INSERT into ret_cluster_result (job_id, tweet_id, cluster_no) values (3846, 1776997567731290145, 34)\n",
      "Query executed successfully. 1 rows affected.\n",
      "INSERT into ret_cluster_result (job_id, tweet_id, cluster_no) values (3846, 1776997550085885986, 34)\n",
      "Query executed successfully. 1 rows affected.\n",
      "INSERT into ret_cluster_result (job_id, tweet_id, cluster_no) values (3846, 1776997199211331815, 11)\n",
      "Query executed successfully. 1 rows affected.\n",
      "INSERT into ret_cluster_result (job_id, tweet_id, cluster_no) values (3846, 1776813549920362899, 0)\n",
      "Query executed successfully. 1 rows affected.\n",
      "INSERT into ret_cluster_result (job_id, tweet_id, cluster_no) values (3846, 1776814984074522648, 15)\n",
      "Query executed successfully. 1 rows affected.\n",
      "INSERT into ret_cluster_result (job_id, tweet_id, cluster_no) values (3846, 1776996928183787639, 0)\n"
     ]
    },
    {
     "name": "stdout",
     "output_type": "stream",
     "text": [
      "Query executed successfully. 1 rows affected.\n",
      "INSERT into ret_cluster_result (job_id, tweet_id, cluster_no) values (3846, 1776996329887289847, 35)\n",
      "Query executed successfully. 1 rows affected.\n",
      "INSERT into ret_cluster_result (job_id, tweet_id, cluster_no) values (3846, 1776531563460891098, 7)\n",
      "Query executed successfully. 1 rows affected.\n",
      "INSERT into ret_cluster_result (job_id, tweet_id, cluster_no) values (3846, 1776996174865879302, 0)\n"
     ]
    },
    {
     "name": "stdout",
     "output_type": "stream",
     "text": [
      "Query executed successfully. 1 rows affected.\n",
      "INSERT into ret_cluster_result (job_id, tweet_id, cluster_no) values (3846, 1776996139495256318, 0)\n",
      "Query executed successfully. 1 rows affected.\n",
      "INSERT into ret_cluster_result (job_id, tweet_id, cluster_no) values (3846, 1776995967876894852, 0)\n",
      "Query executed successfully. 1 rows affected.\n",
      "INSERT into ret_cluster_result (job_id, tweet_id, cluster_no) values (3846, 1776995806979244509, 35)\n",
      "Query executed successfully. 1 rows affected.\n"
     ]
    }
   ],
   "source": [
    "## saving result to table\n",
    "# jobid, tweet_id, cluster_no\n",
    "\n",
    "s_cluster_number = \"\"\n",
    "\n",
    "for index, row in save_df.iterrows():\n",
    "    if row['cluster_number'] == '':\n",
    "        s_cluster_number = \"NULL\"\n",
    "    else:\n",
    "        s_cluster_number = row['cluster_number']\n",
    "        \n",
    "    sql = \"INSERT into ret_cluster_result (job_id, tweet_id, cluster_no) values (%s, %s, %s)\" % (str(const_job_id), row['tweet_id'], s_cluster_number)\n",
    "    print(sql)\n",
    "    execute_query_psql(sql)\n",
    "    \n",
    "    "
   ]
  },
  {
   "cell_type": "code",
   "execution_count": 11,
   "id": "81f02c84-7b1a-44c5-9b1f-40a952c24729",
   "metadata": {
    "execution": {
     "iopub.execute_input": "2024-04-09T17:09:04.897406Z",
     "iopub.status.busy": "2024-04-09T17:09:04.896778Z",
     "iopub.status.idle": "2024-04-09T17:09:04.933136Z",
     "shell.execute_reply": "2024-04-09T17:09:04.932588Z"
    }
   },
   "outputs": [
    {
     "name": "stdout",
     "output_type": "stream",
     "text": [
      "Query executed successfully. 1 rows affected.\n",
      "Query executed successfully. 1 rows affected.\n"
     ]
    },
    {
     "data": {
      "text/plain": [
       "1"
      ]
     },
     "execution_count": 11,
     "metadata": {},
     "output_type": "execute_result"
    }
   ],
   "source": [
    "# closing .... report back job status into rdbms\n",
    "sql = \"update screen_analisis_ai set end_process = now(), status = 3, processby_id = 1 where id = %s\" % (str(const_job_id))\n",
    "execute_query_psql(sql)\n",
    "\n",
    "sql = \"update screen_analisis_ai set duration = EXTRACT(EPOCH FROM (end_process - start_process)) where id = \" + str(const_job_id)\n",
    "execute_query_psql(sql)"
   ]
  },
  {
   "cell_type": "code",
   "execution_count": 12,
   "id": "b46e4f75-0cb1-403d-bce5-355edb5f9879",
   "metadata": {
    "execution": {
     "iopub.execute_input": "2024-04-09T17:09:04.935933Z",
     "iopub.status.busy": "2024-04-09T17:09:04.935520Z",
     "iopub.status.idle": "2024-04-09T17:09:14.949091Z",
     "shell.execute_reply": "2024-04-09T17:09:14.948348Z"
    }
   },
   "outputs": [],
   "source": [
    "# wait 10 seconds before finished\n",
    "import time\n",
    "time.sleep(10)"
   ]
  }
 ],
 "metadata": {
  "kernelspec": {
   "display_name": "Python 3 (ipykernel)",
   "language": "python",
   "name": "python3"
  },
  "language_info": {
   "codemirror_mode": {
    "name": "ipython",
    "version": 3
   },
   "file_extension": ".py",
   "mimetype": "text/x-python",
   "name": "python",
   "nbconvert_exporter": "python",
   "pygments_lexer": "ipython3",
   "version": "3.8.10"
  }
 },
 "nbformat": 4,
 "nbformat_minor": 5
}
