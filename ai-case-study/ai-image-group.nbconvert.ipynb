{
 "cells": [
  {
   "cell_type": "markdown",
   "id": "77be3745-de0f-4f27-a7ce-f0b3839d647f",
   "metadata": {
    "editable": true,
    "slideshow": {
     "slide_type": ""
    },
    "tags": []
   },
   "source": [
    "1. get sample image\n",
    "2. download image\n",
    "3. perform imnage grouping\n",
    "4. inspect result\n",
    "\n",
    "Next items to do, prepare and package as jobs\n",
    "1. create auto-query\n",
    "2. create sql to store result\n",
    "3. export to executable py\n",
    "\n",
    "\n",
    "# Plot sse against k\n",
    "plt.figure(figsize=(6, 6))\n",
    "plt.plot(list_k, sse)\n",
    "plt.xlabel(r'Number of clusters *k*')\n",
    "plt.ylabel('Sum of squared distance');\n",
    "\n",
    "# prepare data for saving to rdbms\n",
    "# print(clus_new)\n",
    "# i = 0 \n",
    "result_cluster = []\n",
    "\n",
    "for item in clus_new:\n",
    "    # print(clus_new[item])\n",
    "    print(len(clus_new[item]))\n",
    "    for file in clus_new[item]:\n",
    "        # print(file, item)\n",
    "        result_cluster.append(file)\n",
    "    # i = i + 1\n",
    "\n",
    "# view_cluster_2(0)\n",
    "len(clus_new)\n",
    "len(result_cluster)\n",
    "\n",
    "\n",
    " * Kesepakatan status di kolom screen_analisis_ai.status\n",
    " * 1 --> baru diinput\n",
    " * 2 --> lagi dikerjakan\n",
    " * 3 --> proses berhasil\n",
    " * 4 --> proses gagal\n",
    " *\n",
    " \n",
    " * Kesepakatan jenis analisa AI\n",
    " * 1 --> Analisa Cluster\n",
    " * 2 --> Analisa image clustering\n",
    " * 3 --> Analisa sentiment\n"
   ]
  },
  {
   "cell_type": "code",
   "execution_count": 1,
   "id": "ff0951b4-bdc4-4c7a-9846-016d02539805",
   "metadata": {
    "execution": {
<<<<<<< HEAD
     "iopub.execute_input": "2024-05-23T17:16:05.971452Z",
     "iopub.status.busy": "2024-05-23T17:16:05.970907Z",
     "iopub.status.idle": "2024-05-23T17:16:11.244761Z",
     "shell.execute_reply": "2024-05-23T17:16:11.243374Z"
=======
     "iopub.execute_input": "2024-04-13T17:45:03.945144Z",
     "iopub.status.busy": "2024-04-13T17:45:03.944834Z",
     "iopub.status.idle": "2024-04-13T17:45:07.250347Z",
     "shell.execute_reply": "2024-04-13T17:45:07.249316Z"
>>>>>>> ce1d860e8f986e5a64cc79d9c113b22d7c00ddef
    }
   },
   "outputs": [
    {
     "name": "stderr",
     "output_type": "stream",
     "text": [
<<<<<<< HEAD
      "2024-05-23 17:16:06.453645: I tensorflow/core/util/port.cc:110] oneDNN custom operations are on. You may see slightly different numerical results due to floating-point round-off errors from different computation orders. To turn them off, set the environment variable `TF_ENABLE_ONEDNN_OPTS=0`.\n",
      "2024-05-23 17:16:06.457599: I tensorflow/tsl/cuda/cudart_stub.cc:28] Could not find cuda drivers on your machine, GPU will not be used.\n",
      "2024-05-23 17:16:06.545970: I tensorflow/tsl/cuda/cudart_stub.cc:28] Could not find cuda drivers on your machine, GPU will not be used.\n",
      "2024-05-23 17:16:06.546908: I tensorflow/core/platform/cpu_feature_guard.cc:182] This TensorFlow binary is optimized to use available CPU instructions in performance-critical operations.\n",
=======
      "2024-04-13 17:45:04.210882: I tensorflow/core/util/port.cc:110] oneDNN custom operations are on. You may see slightly different numerical results due to floating-point round-off errors from different computation orders. To turn them off, set the environment variable `TF_ENABLE_ONEDNN_OPTS=0`.\n",
      "2024-04-13 17:45:04.214212: I tensorflow/tsl/cuda/cudart_stub.cc:28] Could not find cuda drivers on your machine, GPU will not be used.\n",
      "2024-04-13 17:45:04.276607: I tensorflow/tsl/cuda/cudart_stub.cc:28] Could not find cuda drivers on your machine, GPU will not be used.\n",
      "2024-04-13 17:45:04.277975: I tensorflow/core/platform/cpu_feature_guard.cc:182] This TensorFlow binary is optimized to use available CPU instructions in performance-critical operations.\n",
>>>>>>> ce1d860e8f986e5a64cc79d9c113b22d7c00ddef
      "To enable the following instructions: AVX2 AVX512F AVX512_VNNI FMA, in other operations, rebuild TensorFlow with the appropriate compiler flags.\n"
     ]
    },
    {
     "name": "stderr",
     "output_type": "stream",
     "text": [
<<<<<<< HEAD
      "2024-05-23 17:16:08.128109: W tensorflow/compiler/tf2tensorrt/utils/py_utils.cc:38] TF-TRT Warning: Could not find TensorRT\n"
=======
      "2024-04-13 17:45:05.267297: W tensorflow/compiler/tf2tensorrt/utils/py_utils.cc:38] TF-TRT Warning: Could not find TensorRT\n"
>>>>>>> ce1d860e8f986e5a64cc79d9c113b22d7c00ddef
     ]
    }
   ],
   "source": [
    "# for loading/processing the images  \n",
    "from keras.preprocessing.image import load_img \n",
    "from keras.preprocessing.image import img_to_array \n",
    "from keras.applications.vgg16 import preprocess_input \n",
    "from sklearn.metrics.pairwise import cosine_similarity\n",
    "\n",
    "# models \n",
    "from keras.applications.vgg16 import VGG16 \n",
    "from keras.models import Model\n",
    "\n",
    "# clustering and dimension reduction\n",
    "from sklearn.cluster import KMeans\n",
    "from sklearn.decomposition import PCA\n",
    "\n",
    "# for everything else\n",
    "import os\n",
    "import numpy as np\n",
    "import matplotlib.pyplot as plt\n",
    "from random import randint\n",
    "import pandas as pd\n",
    "import pickle\n",
    "import requests\n",
    "from pathlib import Path\n",
    "from sqlalchemy import create_engine\n",
    "from sqlalchemy.exc import SQLAlchemyError\n",
    "from PIL import Image\n",
    "from io import BytesIO\n",
    "from urllib.parse import urlparse"
   ]
  },
  {
   "cell_type": "code",
   "execution_count": 2,
   "id": "51bdb754-c427-4732-8940-d82b64678866",
   "metadata": {
    "editable": true,
    "execution": {
<<<<<<< HEAD
     "iopub.execute_input": "2024-05-23T17:16:11.252897Z",
     "iopub.status.busy": "2024-05-23T17:16:11.252192Z",
     "iopub.status.idle": "2024-05-23T17:16:11.611371Z",
     "shell.execute_reply": "2024-05-23T17:16:11.609693Z"
=======
     "iopub.execute_input": "2024-04-13T17:45:07.255079Z",
     "iopub.status.busy": "2024-04-13T17:45:07.254439Z",
     "iopub.status.idle": "2024-04-13T17:45:07.525918Z",
     "shell.execute_reply": "2024-04-13T17:45:07.525055Z"
>>>>>>> ce1d860e8f986e5a64cc79d9c113b22d7c00ddef
    },
    "slideshow": {
     "slide_type": ""
    },
    "tags": []
   },
   "outputs": [],
   "source": [
    "def resize_and_upload_image(url, save_folder):\n",
    "    try:\n",
    "        # Fetch the image from the URL\n",
    "        response = requests.get(url)\n",
    "        response.raise_for_status()\n",
    "\n",
    "        # Open the image from the response content\n",
    "        image = Image.open(BytesIO(response.content))\n",
    "\n",
    "        # Check the image size in bytes\n",
    "        image_size = len(response.content)\n",
    "\n",
    "        # Set the maximum allowed size in bytes (200KB)\n",
    "        max_size = 200 * 1024\n",
    "\n",
    "        # Extract the base path from the URL for saving the images\n",
    "        parsed_url = urlparse(url)\n",
    "        base_path = os.path.basename(parsed_url.path)\n",
    "\n",
    "        # Determine the paths for saving the images\n",
    "        original_image_path = os.path.join(save_folder, 'original_' + base_path)\n",
    "        resized_image_path = os.path.join(save_folder, 'resized_' + base_path)\n",
    "\n",
    "        # If the image size exceeds the maximum allowed size, resize it\n",
    "        if image_size > max_size:\n",
    "            print('more than 200kb')\n",
    "            print(original_image_path)\n",
    "            print(resized_image_path)\n",
    "            \n",
    "            # Calculate the scaling factor to reduce the image size\n",
    "            scale_factor = (max_size / image_size) ** 0.5\n",
    "            new_width = int(image.width * scale_factor)\n",
    "            new_height = int(image.height * scale_factor)\n",
    "\n",
    "            # Resize the image\n",
    "            resized_image = image.resize((new_width, new_height), Image.ANTIALIAS)\n",
    "\n",
    "            # Save the resized image to the local folder\n",
    "            resized_image.save(resized_image_path, format=\"JPEG\")\n",
    "\n",
    "            # Reupload the resized image to the original location\n",
    "            with open(resized_image_path, 'rb') as resized_file:\n",
    "                reupload_url = url  # Use the original URL for reupload\n",
    "                print(url)\n",
    "                files = {'file': ('resized_' + base_path, resized_file)}\n",
    "                reupload_response = requests.post(reupload_url, files=files)\n",
    "                print(reupload_response)\n",
    "\n",
    "            # Delete the original image in the local folder\n",
    "            os.remove(original_image_path)\n",
    "\n",
    "        else:\n",
    "            # Image is smaller than 200KB, no need to resize or reupload\n",
    "            resized_image_path = original_image_path\n",
    "\n",
    "        return original_image_path, resized_image_path\n",
    "\n",
    "    except Exception as e:\n",
    "        # Handle errors such as invalid URLs or image processing issues\n",
    "        return str(e)\n",
    "\n",
    "# Example usage:\n",
    "# imageURL = \"https://example.com/path/to/your/image.jpg\"\n",
    "# save_folder = \"path/to/your/local/folder\"\n",
    "# original_image_path, resized_image_path = resize_and_upload_image(imageURL, save_folder)\n",
    "# Both original_image_path and resized_image_path will contain the file paths in the local folder.\n",
    "\n",
    "def download_image(url, folder_path):\n",
    "    try:\n",
    "        # Send an HTTP GET request to the URL\n",
    "        response = requests.get(url)\n",
    "\n",
    "        # Check if the request was successful (status code 200)\n",
    "        if response.status_code == 200:\n",
    "            # Extract the filename from the URL\n",
    "            filename = os.path.join(folder_path, os.path.basename(url))\n",
    "\n",
    "            # Save the image to the specified folder location\n",
    "            with open(filename, 'wb') as file:\n",
    "                file.write(response.content)\n",
    "            file_size_bytes = os.path.getsize(filename)\n",
    "            file_size_kb = file_size_bytes / 1024\n",
    "\n",
    "            if file_size_kb >= 200:\n",
    "                print(\"Resizing...\")\n",
    "                resize_and_upload_image(filename,url)\n",
    "            # print(f\"Image downloaded and saved as {filename}\")\n",
    "        else:\n",
    "            print(f\"Failed to download image. Status code: {response.status_code}\")\n",
    "\n",
    "    except Exception as e:\n",
    "        print(f\"Error: {str(e)}\")\n",
    "\n",
    "def resize_and_upload_image(file_path, upload_url, target_size_kb=200):\n",
    "    try:\n",
    "        # Open the image from the file\n",
    "        with Image.open(file_path) as image:\n",
    "            # Calculate the target size in bytes\n",
    "            target_size_bytes = target_size_kb * 1024\n",
    "\n",
    "            # Initialize the quality variable\n",
    "            quality = 95\n",
    "\n",
    "            while os.path.getsize(file_path) > target_size_bytes:\n",
    "                # Resize the image while keeping the quality constant\n",
    "                width, height = image.size\n",
    "                new_width = int(width * 0.9)\n",
    "                new_height = int(height * 0.9)\n",
    "\n",
    "                # Ensure the dimensions are at least 1\n",
    "                new_width = max(1, new_width)\n",
    "                new_height = max(1, new_height)\n",
    "\n",
    "                image = image.resize((new_width, new_height), Image.LANCZOS)\n",
    "\n",
    "                # Save the resized image to the same file\n",
    "                image.save(file_path, \"JPEG\", quality=quality)\n",
    "\n",
    "            if os.path.getsize(file_path) <= target_size_bytes:\n",
    "                print(f\"Image resized and overwritten at: {file_path}\")\n",
    "\n",
    "                # Upload the resized image to the given URL\n",
    "                with open(file_path, 'rb') as file:\n",
    "                    response = requests.post(upload_url, files={'file': (os.path.basename(file_path), file)})\n",
    "\n",
    "                if response.status_code == 200:\n",
    "                    print(f\"Image uploaded to {upload_url}\")\n",
    "                else:\n",
    "                    print(f\"Upload failed with status code {response.status_code}\")\n",
    "            else:\n",
    "                print(f\"Image not resized, not uploaded.\")\n",
    "                \n",
    "    except Exception as e:\n",
    "        print(f\"Error: {e}\")\n",
    "\n",
    "## query functions\n",
    "\n",
    "\n",
    "import pandas as pd\n",
    "from sqlalchemy import create_engine, Column, Integer, String, MetaData, Table\n",
    "from sqlalchemy.orm import sessionmaker\n",
    "from sqlalchemy.exc import SQLAlchemyError\n",
    "from sqlalchemy.util import deprecations\n",
    "from sqlalchemy.sql import text\n",
    "deprecations.SILENCE_UBER_WARNING = True\n",
    "\n",
    "def execute_query_psql(query, params=None):\n",
    "    # Set your PostgreSQL connection parameters\n",
    "    db_params = {\n",
    "        'host': '98.98.117.105',\n",
    "        'port': '5432',\n",
    "        'database': 'medols',\n",
    "        'user': 'postgres',\n",
    "        'password': 'FEWcTB3JIX5gK4T06c1MdkM9N2S8w9pb',\n",
    "    }\n",
    "\n",
    "    # Create a SQLAlchemy engine\n",
    "    engine = create_engine(f\"postgresql+psycopg2://{db_params['user']}:{db_params['password']}@{db_params['host']}:{db_params['port']}/{db_params['database']}\")\n",
    "\n",
    "    # Create a metadata object\n",
    "    metadata = MetaData()\n",
<<<<<<< HEAD
    "\n",
    "    # Create a session\n",
    "    Session = sessionmaker(bind=engine)\n",
    "    session = Session()\n",
    "\n",
    "    try:\n",
    "        # Execute the query with optional parameters\n",
    "        result = session.execute(text(query), params)\n",
    "\n",
    "        # Check if the query is a SELECT query\n",
    "        is_select_query = result.returns_rows\n",
    "\n",
=======
    "\n",
    "    # Create a session\n",
    "    Session = sessionmaker(bind=engine)\n",
    "    session = Session()\n",
    "\n",
    "    try:\n",
    "        # Execute the query with optional parameters\n",
    "        result = session.execute(text(query), params)\n",
    "\n",
    "        # Check if the query is a SELECT query\n",
    "        is_select_query = result.returns_rows\n",
    "\n",
>>>>>>> ce1d860e8f986e5a64cc79d9c113b22d7c00ddef
    "        if is_select_query:\n",
    "            # Fetch the data and return as a Pandas DataFrame\n",
    "            columns = result.keys()\n",
    "            fetched_data = result.fetchall()\n",
    "            df = pd.DataFrame(fetched_data, columns=columns)\n",
    "            # print(\"Fetched Data as DataFrame:\")\n",
    "            # print(df)\n",
    "            return df\n",
    "        else:\n",
    "            # Get the number of rows affected for non-SELECT queries\n",
    "            rows_affected = result.rowcount\n",
    "\n",
    "            # Commit the changes to the database for non-SELECT queries\n",
    "            session.commit()\n",
    "\n",
    "            print(f\"Query executed successfully. {rows_affected} rows affected.\")\n",
    "            return rows_affected\n",
    "    except Exception as e:\n",
    "        # Rollback changes if there's an error\n",
    "        session.rollback()\n",
    "        print(f\"Error executing query: {e}\")\n",
    "    finally:\n",
    "        # Close the session\n",
    "        session.close()\n",
    "\n",
    "def clear_image():\n",
    "    folder_path = '/home/jup_user/multipool/ai-case-study/img'\n",
    "    # Create a Path object for the folder\n",
    "    folder = Path(folder_path)\n",
    "    \n",
    "    # Iterate through the files in the folder and delete them\n",
    "    for file in folder.iterdir():\n",
    "        try:\n",
    "            if file.is_file():\n",
    "                file.unlink()\n",
    "                # print(f\"Deleted {file}\")\n",
    "            else:\n",
    "                print(f\"{file} is not a file.\")\n",
    "        except Exception as e:\n",
    "            print(f\"Error deleting {file}: {str(e)}\")\n",
    "\n",
    "# extracting feature from image files\n",
    "def extract_features(file, model):\n",
    "    # load the image as a 224x224 array\n",
    "    img = load_img(file, target_size=(224,224))\n",
    "    # convert from 'PIL.Image.Image' to numpy array\n",
    "    img = np.array(img) \n",
    "    # reshape the data for the model reshape(num_of_samples, dim 1, dim 2, channels)\n",
    "    reshaped_img = img.reshape(1,224,224,3) \n",
    "    # prepare image for model\n",
    "    imgx = preprocess_input(reshaped_img)\n",
    "    # get the feature vector\n",
    "    features = model.predict(imgx, use_multiprocessing=True)\n",
    "    return features\n",
    "\n",
    "# function that lets you view a cluster (based on identifier)        \n",
    "def view_cluster(cluster):\n",
    "    plt.figure(figsize = (25,25));\n",
    "    # gets the list of filenames for a cluster\n",
    "    files = groups[cluster]\n",
    "    # only allow up to 30 images to be shown at a time\n",
    "    if len(files) > 30:\n",
    "        print(f\"Clipping cluster size from {len(files)} to 30\")\n",
    "        files = files[:29]\n",
    "    # plot each image in the cluster\n",
    "    for index, file in enumerate(files):\n",
    "        plt.subplot(10,10,index+1);\n",
    "        img = load_img(file)\n",
    "        img = np.array(img)\n",
    "        plt.imshow(img)\n",
    "        plt.axis('off')"
   ]
  },
  {
   "cell_type": "code",
   "execution_count": 3,
   "id": "06e7431f-bef6-42e7-a49e-27ebcf66c2cd",
   "metadata": {
    "execution": {
<<<<<<< HEAD
     "iopub.execute_input": "2024-05-23T17:16:11.618520Z",
     "iopub.status.busy": "2024-05-23T17:16:11.618025Z",
     "iopub.status.idle": "2024-05-23T17:16:11.726620Z",
     "shell.execute_reply": "2024-05-23T17:16:11.723570Z"
=======
     "iopub.execute_input": "2024-04-13T17:45:07.529552Z",
     "iopub.status.busy": "2024-04-13T17:45:07.529029Z",
     "iopub.status.idle": "2024-04-13T17:45:07.609744Z",
     "shell.execute_reply": "2024-04-13T17:45:07.609079Z"
>>>>>>> ce1d860e8f986e5a64cc79d9c113b22d7c00ddef
    }
   },
   "outputs": [
    {
     "name": "stdout",
     "output_type": "stream",
     "text": [
<<<<<<< HEAD
      "iJobID: 87619\n",
      "const_job_id: 3891\n",
=======
      "iJobID: 87600\n",
      "const_job_id: 3855\n",
>>>>>>> ce1d860e8f986e5a64cc79d9c113b22d7c00ddef
      "const_parameter: None\n"
     ]
    }
   ],
   "source": [
    "#\n",
    "# Get jobsid from queue table\n",
    "# \n",
    "iJobID = 0\n",
    "sql = \"\"\"\n",
    "select \ta.id, a.hastag, a.parameter\n",
    "from \tscreen_analisis_ai a inner join ret_available_db b \n",
    "\t\ton a.hastag = b.db_id \n",
    "where \ta.active = 1\n",
    "\t\tand a.status = 1\n",
    "\t\tand a.jenis_analisa = '2'\n",
    "order by b.since desc limit 1\n",
    "\"\"\"\n",
    "\n",
    "df_res = execute_query_psql(sql)\n",
    "\n",
    "# check job availability\n",
    "if(len(df_res)) == 0:\n",
    "    # get out, nothing to do\n",
    "    print('Zero jobs, quitting now')\n",
    "    quit()\n",
    "\n",
    "df_res.head()\n",
    "iJobID = df_res['hastag'][0]\n",
    "const_job_id = df_res['id'][0]\n",
    "const_parameter = df_res['parameter'][0]\n",
    "\n",
    "print('iJobID: ' + str(iJobID))\n",
    "print('const_job_id: ' + str(const_job_id))\n",
    "print('const_parameter: ' + str(const_parameter))\n"
   ]
  },
  {
   "cell_type": "code",
   "execution_count": 4,
   "id": "4f216f10-c9cf-45c4-8a41-3ab3245d8c5a",
   "metadata": {
    "execution": {
<<<<<<< HEAD
     "iopub.execute_input": "2024-05-23T17:16:11.738222Z",
     "iopub.status.busy": "2024-05-23T17:16:11.737824Z",
     "iopub.status.idle": "2024-05-23T17:16:11.842703Z",
     "shell.execute_reply": "2024-05-23T17:16:11.841617Z"
=======
     "iopub.execute_input": "2024-04-13T17:45:07.613034Z",
     "iopub.status.busy": "2024-04-13T17:45:07.612622Z",
     "iopub.status.idle": "2024-04-13T17:45:07.658336Z",
     "shell.execute_reply": "2024-04-13T17:45:07.657429Z"
>>>>>>> ce1d860e8f986e5a64cc79d9c113b22d7c00ddef
    }
   },
   "outputs": [
    {
     "name": "stdout",
     "output_type": "stream",
     "text": [
<<<<<<< HEAD
      "update screen_analisis_ai set status = 2, last_status_update = now(), start_process = now() where id = '3891';\n",
=======
      "update screen_analisis_ai set status = 2, last_status_update = now(), start_process = now() where id = '3855';\n",
>>>>>>> ce1d860e8f986e5a64cc79d9c113b22d7c00ddef
      "Query executed successfully. 1 rows affected.\n",
      "Query executed successfully. 1 rows affected.\n"
     ]
    },
    {
     "data": {
      "text/plain": [
       "1"
      ]
     },
     "execution_count": 4,
     "metadata": {},
     "output_type": "execute_result"
    }
   ],
   "source": [
    "## report to dbms that we are working on this row\n",
    "sql = \"\"\n",
    "sql = \"update screen_analisis_ai set status = 2, last_status_update = now(), start_process = now() where id = '\" + str(const_job_id) + \"';\"\n",
    "print(sql)\n",
    "# execute\n",
    "# execute_sqlalchemy_transaction(sql)\n",
    "execute_query_psql(sql)\n",
    "#\n",
    "# Create Header Record\n",
    "sql = \"insert into ret_analysis_header (job_id, datetime_start, user_id) values (%s, now(), %s)\" % (const_job_id,\"1\")\n",
    "# Execute the query\n",
    "execute_query_psql(sql)\n"
   ]
  },
  {
   "cell_type": "code",
   "execution_count": 5,
   "id": "b14cc5e6-bd16-4a40-b585-478eeea0e8c9",
   "metadata": {
    "collapsed": true,
    "execution": {
<<<<<<< HEAD
     "iopub.execute_input": "2024-05-23T17:16:11.849689Z",
     "iopub.status.busy": "2024-05-23T17:16:11.848547Z",
     "iopub.status.idle": "2024-05-23T17:16:14.248078Z",
     "shell.execute_reply": "2024-05-23T17:16:14.245217Z"
=======
     "iopub.execute_input": "2024-04-13T17:45:07.661531Z",
     "iopub.status.busy": "2024-04-13T17:45:07.661095Z",
     "iopub.status.idle": "2024-04-13T17:45:11.584844Z",
     "shell.execute_reply": "2024-04-13T17:45:11.583916Z"
>>>>>>> ce1d860e8f986e5a64cc79d9c113b22d7c00ddef
    },
    "jupyter": {
     "outputs_hidden": true
    },
    "scrolled": true
   },
   "outputs": [
    {
     "name": "stdout",
     "output_type": "stream",
     "text": [
      "\n",
      "select a.id, a.db_id, c.tweet_id, c.filename\n",
      "from ret_available_db a inner join ret_tweet b on a.db_id = b.db_id\n",
      "inner join media_files c on b.id = c.tweet_id\n",
<<<<<<< HEAD
      "where \ta.db_id = 87619\n",
=======
      "where \ta.db_id = 87600\n",
>>>>>>> ce1d860e8f986e5a64cc79d9c113b22d7c00ddef
      "\n"
     ]
    },
    {
     "name": "stdout",
     "output_type": "stream",
     "text": [
<<<<<<< HEAD
      "http://98.98.117.121:8082/api/media/photo/download/twitter/GOPxOKGWMAAC5CY.jpg\n",
      "http://98.98.117.121:8082/api/media/photo/download/twitter/GOPxNVsXsAA3xhU.jpg\n",
      "http://98.98.117.121:8082/api/media/photo/download/twitter/GOPxJxVXEAABHsV.jpg\n",
      "http://98.98.117.121:8082/api/media/photo/download/twitter/GOPw-b6WEAAQrux.jpg\n",
      "http://98.98.117.121:8082/api/media/photo/download/twitter/GOPuthHWkAAKQab.jpg\n",
      "http://98.98.117.121:8082/api/media/photo/download/twitter/GNpHlriW0AAkqvo.jpg\n",
      "http://98.98.117.121:8082/api/media/photo/download/twitter/GOKoqOUXwAAzGk2.jpg\n",
      "http://98.98.117.121:8082/api/media/photo/download/twitter/GONCc-8b0AAAk7v.jpg\n",
      "http://98.98.117.121:8082/api/media/photo/download/twitter/GOPw62sWEAAFs3g.jpg\n",
      "http://98.98.117.121:8082/api/media/photo/download/twitter/GOPwuNbXMAEewfe.jpg\n",
      "http://98.98.117.121:8082/api/media/photo/download/twitter/GOGTt9abEAE8cHI.jpg\n",
      "http://98.98.117.121:8082/api/media/photo/download/twitter/GOPwoDzacAEo2xS.jpg\n",
      "http://98.98.117.121:8082/api/media/photo/download/twitter/GOPweXpXMAEdXBb.png\n",
      "http://98.98.117.121:8082/api/media/photo/download/twitter/GOL7mifW0AAKNW5.jpg\n",
      "http://98.98.117.121:8082/api/media/photo/download/twitter/GOPwhKXWcAAmSk-.jpg\n",
      "http://98.98.117.121:8082/api/media/photo/download/twitter/GOPwejWXcAAFCBH.jpg\n",
      "http://98.98.117.121:8082/api/media/photo/download/twitter/GOPwKVqXIAALj-x.png\n",
      "http://98.98.117.121:8082/api/media/photo/download/twitter/GONsjPSbQAA8Tg2.jpg\n"
     ]
    },
    {
     "name": "stdout",
     "output_type": "stream",
     "text": [
      "http://98.98.117.121:8082/api/media/photo/download/twitter/GOPwP-ZWYAA2v21.jpg\n",
      "http://98.98.117.121:8082/api/media/photo/download/twitter/GOPwM6na4AEAiap.jpg\n",
      "http://98.98.117.121:8082/api/media/photo/download/twitter/GOPuQguWoAAzwYo.jpg\n",
      "http://98.98.117.121:8082/api/media/photo/download/twitter/GOPwLw7XIAAQGVO.jpg\n",
      "http://98.98.117.121:8082/api/media/photo/download/twitter/GOPwLYxWUAArWjH.jpg\n",
      "http://98.98.117.121:8082/api/media/photo/download/twitter/GOPwKAnbUAAyutr.jpg\n",
      "http://98.98.117.121:8082/api/media/photo/download/twitter/GOMXl2tWUAAZc8i.jpg\n",
      "http://98.98.117.121:8082/api/media/photo/download/twitter/GOPu21vbwAEyzBW.jpg\n",
      "http://98.98.117.121:8082/api/media/photo/download/twitter/GOK4iBMXoAAYEEo.jpg\n",
      "http://98.98.117.121:8082/api/media/photo/download/twitter/GOM198-b0AEwwQb.jpg\n",
      "http://98.98.117.121:8082/api/media/photo/download/twitter/GOPvjrmXEAATr1P.jpg\n",
      "http://98.98.117.121:8082/api/media/photo/download/twitter/GOPvTQ8W4AAvkZ5.png\n",
      "http://98.98.117.121:8082/api/media/photo/download/twitter/GOHjrRMWMAAU4Hm.jpg\n",
      "http://98.98.117.121:8082/api/media/photo/download/twitter/GOPvfkPXgAA4mgY.jpg\n",
      "http://98.98.117.121:8082/api/media/photo/download/twitter/GOPvbdLawAA6Xll.jpg\n",
      "http://98.98.117.121:8082/api/media/photo/download/twitter/GONYVK0aYAA_bp4.jpg\n",
      "http://98.98.117.121:8082/api/media/photo/download/twitter/GOPvPYpa8AEvW75.jpg\n",
      "http://98.98.117.121:8082/api/media/photo/download/twitter/GOPvDKKbAAAknLc.jpg\n",
      "http://98.98.117.121:8082/api/media/photo/download/twitter/GOPvApybMAAZBOh.jpg\n"
     ]
    },
    {
     "name": "stdout",
     "output_type": "stream",
     "text": [
      "http://98.98.117.121:8082/api/media/photo/download/twitter/GOPu-dIWEAAGaRT.jpg\n",
      "http://98.98.117.121:8082/api/media/photo/download/twitter/GOPu6u9WwAAU9y_.jpg\n",
      "http://98.98.117.121:8082/api/media/photo/download/twitter/GOL9ctBWUAAx9xs.jpg\n",
      "http://98.98.117.121:8082/api/media/photo/download/twitter/GOPt5oQXcAAnN1e.jpg\n",
      "http://98.98.117.121:8082/api/media/photo/download/twitter/GOOMsYgbUAAGuHC.jpg\n",
      "http://98.98.117.121:8082/api/media/photo/download/twitter/GOPupDSacAABWWz.jpg\n",
      "http://98.98.117.121:8082/api/media/photo/download/twitter/GOPunHGXsAE4iAw.jpg\n",
      "http://98.98.117.121:8082/api/media/photo/download/twitter/GOPum-5aAAAznFH.jpg\n",
      "http://98.98.117.121:8082/api/media/photo/download/twitter/GOMTgJNXQAE_f8o.jpg\n",
      "http://98.98.117.121:8082/api/media/photo/download/twitter/GONHrgIa0AAOvbt.jpg\n",
      "http://98.98.117.121:8082/api/media/photo/download/twitter/GOPtoEiWUAEbYCY.png\n",
      "http://98.98.117.121:8082/api/media/photo/download/twitter/GOPs64iXEAA5bHY.png\n",
      "http://98.98.117.121:8082/api/media/photo/download/twitter/GOPuO1RWsAAF-w2.jpg\n",
      "http://98.98.117.121:8082/api/media/photo/download/twitter/GOPuE9bXgAAntoz.jpg\n",
      "http://98.98.117.121:8082/api/media/photo/download/twitter/GOPuEjOXEAAW_zx.jpg\n",
      "http://98.98.117.121:8082/api/media/photo/download/twitter/GOPscuRawAAy8z3.jpg\n",
      "http://98.98.117.121:8082/api/media/photo/download/twitter/GOPcdQEbcAEHptU.jpg\n",
      "http://98.98.117.121:8082/api/media/photo/download/twitter/GOIFC3BW0AE-hHx.jpg\n",
      "http://98.98.117.121:8082/api/media/photo/download/twitter/GONAvJfb0AMPIBf.jpg\n"
     ]
    },
    {
     "name": "stdout",
     "output_type": "stream",
     "text": [
      "http://98.98.117.121:8082/api/media/photo/download/twitter/GOPtta1bYAAX4p6.jpg\n",
      "http://98.98.117.121:8082/api/media/photo/download/twitter/GOPA8E_WIAA31A5.jpg\n",
      "http://98.98.117.121:8082/api/media/photo/download/twitter/GOPtB8NWAAEWm9E.jpg\n",
      "http://98.98.117.121:8082/api/media/photo/download/twitter/GOPtIgTXMAAr3cB.jpg\n",
      "http://98.98.117.121:8082/api/media/photo/download/twitter/GONCRqlaUAEN2IH.jpg\n",
      "http://98.98.117.121:8082/api/media/photo/download/twitter/GOPtP_CWIAAOkOA.jpg\n",
      "http://98.98.117.121:8082/api/media/photo/download/twitter/GOPtIQ0XYAAPWGm.jpg\n",
      "http://98.98.117.121:8082/api/media/photo/download/twitter/GOPtJPSWoAAoU6a.jpg\n",
      "http://98.98.117.121:8082/api/media/photo/download/twitter/GOPsyYVaEAAA1Tx.jpg\n",
      "http://98.98.117.121:8082/api/media/photo/download/twitter/GOMtEL5XkAA5w_d.jpg\n",
      "http://98.98.117.121:8082/api/media/photo/download/twitter/GOPs-RXW0AAu5L7.jpg\n",
      "http://98.98.117.121:8082/api/media/photo/download/twitter/GOPsy7LXwAAjOAh.jpg\n",
      "http://98.98.117.121:8082/api/media/photo/download/twitter/GOPswL6WAAAwRIF.jpg\n",
      "http://98.98.117.121:8082/api/media/photo/download/twitter/GOPsvF1XIAAJoQi.jpg\n",
      "http://98.98.117.121:8082/api/media/photo/download/twitter/GOPsrOzbEAA1nbj.jpg\n",
      "http://98.98.117.121:8082/api/media/photo/download/twitter/GOPp4hXaAAAxyvl.jpg\n",
      "http://98.98.117.121:8082/api/media/photo/download/twitter/GOPsjPvXcAAkMYM.jpg\n",
      "http://98.98.117.121:8082/api/media/photo/download/twitter/GOPpRDOWQAAzt2u.jpg\n",
      "http://98.98.117.121:8082/api/media/photo/download/twitter/GOPsdejWMAAu7Dt.jpg\n",
      "http://98.98.117.121:8082/api/media/photo/download/twitter/GOPsYS3bEAEObOM.png\n",
      "http://98.98.117.121:8082/api/media/photo/download/twitter/GODq6JPbUAAZ5hQ.jpg\n"
     ]
    },
    {
     "name": "stdout",
     "output_type": "stream",
     "text": [
      "http://98.98.117.121:8082/api/media/photo/download/twitter/GOPr9gcWYAAHhmi.jpg\n",
      "http://98.98.117.121:8082/api/media/photo/download/twitter/GOPsIDfbgAAzOEQ.jpg\n",
      "http://98.98.117.121:8082/api/media/photo/download/twitter/GOPqqCxXQAEsTsV.jpg\n",
      "http://98.98.117.121:8082/api/media/photo/download/twitter/GOPsGd8WgAEgb5g.jpg\n",
      "http://98.98.117.121:8082/api/media/photo/download/twitter/GOPsAlsXcAA8Sd-.jpg\n",
      "http://98.98.117.121:8082/api/media/photo/download/twitter/GOPqAOfWMAA2YLp.jpg\n",
      "http://98.98.117.121:8082/api/media/photo/download/twitter/GOPrzQbXUAA2HKN.jpg\n",
      "http://98.98.117.121:8082/api/media/photo/download/twitter/GOPrkBZbIAEAsuR.png\n",
      "http://98.98.117.121:8082/api/media/photo/download/twitter/GOPriDlW0AAdvhJ.jpg\n",
      "http://98.98.117.121:8082/api/media/photo/download/twitter/GOMNrhIWEAAHUez.jpg\n",
      "http://98.98.117.121:8082/api/media/photo/download/twitter/GOPrXlsa8AAVLxV.png\n",
      "http://98.98.117.121:8082/api/media/photo/download/twitter/GOMgDw6WAAEf8fz.jpg\n",
      "http://98.98.117.121:8082/api/media/photo/download/twitter/GOPrMHpaMAE3e5y.jpg\n",
      "http://98.98.117.121:8082/api/media/photo/download/twitter/GOPrKQ7XYAAxlJd.jpg\n",
      "http://98.98.117.121:8082/api/media/photo/download/twitter/GOPrInQbcAECUmj.jpg\n",
      "http://98.98.117.121:8082/api/media/photo/download/twitter/GOPrEG5XIAAzw8H.jpg\n",
      "http://98.98.117.121:8082/api/media/photo/download/twitter/GOPrDk4WEAAexGB.jpg\n",
      "http://98.98.117.121:8082/api/media/photo/download/twitter/GOPrBN4WEAAo11b.jpg\n",
      "http://98.98.117.121:8082/api/media/photo/download/twitter/GOM_nhsWAAASp11.png\n",
      "http://98.98.117.121:8082/api/media/photo/download/twitter/GOPq4pPboAEjvHj.jpg\n"
     ]
    },
    {
     "name": "stdout",
     "output_type": "stream",
     "text": [
      "http://98.98.117.121:8082/api/media/photo/download/twitter/GOPqyPmXkAAUESt.jpg\n",
      "http://98.98.117.121:8082/api/media/photo/download/twitter/GOFvJY8XsAAquSh.jpg\n",
      "http://98.98.117.121:8082/api/media/photo/download/twitter/GOPqlr4XUAAHSRO.jpg\n",
      "http://98.98.117.121:8082/api/media/photo/download/twitter/GOPqGrzakAALRoR.png\n",
      "http://98.98.117.121:8082/api/media/photo/download/twitter/GOPqFbwWYAAi2Mb.png\n",
      "http://98.98.117.121:8082/api/media/photo/download/twitter/GOPqLnLXYAAfSwg.jpg\n",
      "http://98.98.117.121:8082/api/media/photo/download/twitter/GOO7TMRWUAAf-AZ.jpg\n",
      "http://98.98.117.121:8082/api/media/photo/download/twitter/GOMDWEoXMAAOwhj.png\n",
      "http://98.98.117.121:8082/api/media/photo/download/twitter/GONVmz9aMAAisrF.jpg\n",
      "http://98.98.117.121:8082/api/media/photo/download/twitter/GOPpkmoacAAH0X-.jpg\n",
      "http://98.98.117.121:8082/api/media/photo/download/twitter/GOPpxWUWUAA0Uj6.jpg\n",
      "http://98.98.117.121:8082/api/media/photo/download/twitter/GOPS4q1XoAApwmi.jpg\n",
      "http://98.98.117.121:8082/api/media/photo/download/twitter/GOPpkaoWEAA4XBe.jpg\n",
      "http://98.98.117.121:8082/api/media/photo/download/twitter/GOPpY_qXsAAzlo2.jpg\n",
      "http://98.98.117.121:8082/api/media/photo/download/twitter/GOPpak4WAAAEkZ1.jpg\n",
      "http://98.98.117.121:8082/api/media/photo/download/twitter/GOPpZXFW4AAKP7l.jpg\n",
      "http://98.98.117.121:8082/api/media/photo/download/twitter/GOPpVdabgAIwTJT.jpg\n",
      "http://98.98.117.121:8082/api/media/photo/download/twitter/GOPpTzbXIAA96hl.jpg\n",
      "http://98.98.117.121:8082/api/media/photo/download/twitter/GOPpM_ZXwAAhJQ7.jpg\n"
     ]
    },
    {
     "name": "stdout",
     "output_type": "stream",
     "text": [
      "http://98.98.117.121:8082/api/media/photo/download/twitter/GOPpLwOaAAAGkix.jpg\n",
      "http://98.98.117.121:8082/api/media/photo/download/twitter/GOPo7hwaoAArtPx.jpg\n",
      "http://98.98.117.121:8082/api/media/photo/download/twitter/GOPo6_wW4AAn5ap.jpg\n",
      "http://98.98.117.121:8082/api/media/photo/download/twitter/GOPo1ZgWYAAP0m5.jpg\n",
      "http://98.98.117.121:8082/api/media/photo/download/twitter/GOL3aoPWUAAxJD2.jpg\n",
      "http://98.98.117.121:8082/api/media/photo/download/twitter/GOPnoXrXAAAkpHL.jpg\n",
      "http://98.98.117.121:8082/api/media/photo/download/twitter/GOMnNUQWYAAWIXh.jpg\n",
      "http://98.98.117.121:8082/api/media/photo/download/twitter/GOPm_M9W4AEJtsl.png\n",
      "http://98.98.117.121:8082/api/media/photo/download/twitter/GOPoPb9bwAA8uo6.jpg\n",
      "http://98.98.117.121:8082/api/media/photo/download/twitter/GOPoJi9XwAA13q2.jpg\n",
      "http://98.98.117.121:8082/api/media/photo/download/twitter/GOPoG_AakAAIbLc.jpg\n",
      "http://98.98.117.121:8082/api/media/photo/download/twitter/GOPoGfVXQAAlzNp.png\n",
      "http://98.98.117.121:8082/api/media/photo/download/twitter/GOPoFXjWcAAvenv.jpg\n",
      "http://98.98.117.121:8082/api/media/photo/download/twitter/GOPnuixXkAATkIK.png\n",
      "http://98.98.117.121:8082/api/media/photo/download/twitter/GOPnozGaIAA3QBw.jpg\n",
      "http://98.98.117.121:8082/api/media/photo/download/twitter/GOPnhYoasAAbXsc.jpg\n",
      "finished downloading 132 image set\n"
=======
      "http://98.98.117.121:8082/api/media/photo/download/twitter/GK4oIiyXQAAPUoY.jpg\n",
      "http://98.98.117.121:8082/api/media/photo/download/twitter/GK4n0F9XsAAwN1g.png\n",
      "http://98.98.117.121:8082/api/media/photo/download/twitter/GK4nTmXbEAARm4c.jpg\n",
      "http://98.98.117.121:8082/api/media/photo/download/twitter/GK4nHiBacAAUnH7.jpg\n",
      "http://98.98.117.121:8082/api/media/photo/download/twitter/GK4iu80W4AAI7vx.jpg\n",
      "http://98.98.117.121:8082/api/media/photo/download/twitter/GK4iSHbWsAAFs4v.jpg\n",
      "http://98.98.117.121:8082/api/media/photo/download/twitter/GK4h1HIXgAAF7kr.jpg\n",
      "http://98.98.117.121:8082/api/media/photo/download/twitter/GK4f2bRbcAAatgs.jpg\n",
      "http://98.98.117.121:8082/api/media/photo/download/twitter/GK4crSfbEAA3qY7.jpg\n",
      "http://98.98.117.121:8082/api/media/photo/download/twitter/GK4b_RiXIAA17mZ.jpg\n",
      "http://98.98.117.121:8082/api/media/photo/download/twitter/GK4Z5M6WkAA7VR-.jpg\n",
      "http://98.98.117.121:8082/api/media/photo/download/twitter/GK4Y6gvbEAEmfNc.jpg\n",
      "http://98.98.117.121:8082/api/media/photo/download/twitter/GK4XbcrWcAAmVk4.jpg\n",
      "http://98.98.117.121:8082/api/media/photo/download/twitter/GK4Wn3OboAAwkJ4.jpg\n",
      "http://98.98.117.121:8082/api/media/photo/download/twitter/GK4VRTcW4AA_iLk.jpg\n",
      "http://98.98.117.121:8082/api/media/photo/download/twitter/GK4Qbr8XgAAtxbC.jpg\n",
      "http://98.98.117.121:8082/api/media/photo/download/twitter/GK4QS28WIAA_7-v.jpg\n",
      "http://98.98.117.121:8082/api/media/photo/download/twitter/GK4OanqWcAA11sK.jpg\n",
      "http://98.98.117.121:8082/api/media/photo/download/twitter/GK4OhNRWUAAj-1X.jpg\n",
      "http://98.98.117.121:8082/api/media/photo/download/twitter/GK4NtkJWsAAY6AB.png\n",
      "http://98.98.117.121:8082/api/media/photo/download/twitter/GK4NNm-XkAAeUY4.jpg\n",
      "http://98.98.117.121:8082/api/media/photo/download/twitter/GK4Ko6sacAA8suA.jpg\n",
      "http://98.98.117.121:8082/api/media/photo/download/twitter/GK4IqCwWsAAmHRO.jpg\n",
      "http://98.98.117.121:8082/api/media/photo/download/twitter/GK4ISXrWwAEEKeo.jpg\n",
      "http://98.98.117.121:8082/api/media/photo/download/twitter/GK4ILTCXMAAIQqN.jpg\n",
      "http://98.98.117.121:8082/api/media/photo/download/twitter/GK4CIMnbQAAdrBz.jpg\n",
      "http://98.98.117.121:8082/api/media/photo/download/twitter/GK4Gp9yXMAAUevX.jpg\n",
      "http://98.98.117.121:8082/api/media/photo/download/twitter/GK4GPwiW0AABvQG.jpg\n",
      "http://98.98.117.121:8082/api/media/photo/download/twitter/GK4GbKDbkAATw90.jpg\n",
      "http://98.98.117.121:8082/api/media/photo/download/twitter/GK4FJvWasAAiYjE.jpg\n",
      "http://98.98.117.121:8082/api/media/photo/download/twitter/GK4ESZXWsAA6mx0.jpg\n",
      "http://98.98.117.121:8082/api/media/photo/download/twitter/GK4DHvrW0AA9rhB.jpg\n",
      "http://98.98.117.121:8082/api/media/photo/download/twitter/GK4CFvqWEAAvKvy.jpg\n",
      "http://98.98.117.121:8082/api/media/photo/download/twitter/GK4Bpv_WcAAwJ41.jpg\n",
      "http://98.98.117.121:8082/api/media/photo/download/twitter/GK4BkqiW4AAFDAT.jpg\n",
      "http://98.98.117.121:8082/api/media/photo/download/twitter/GK4BTC1b0AAtilW.jpg\n",
      "http://98.98.117.121:8082/api/media/photo/download/twitter/GK4A0yBXsAAYgzr.jpg\n",
      "http://98.98.117.121:8082/api/media/photo/download/twitter/GK4AOSQWoAA7aBd.jpg\n",
      "http://98.98.117.121:8082/api/media/photo/download/twitter/GK3_4nbbgAA9W4V.jpg\n",
      "http://98.98.117.121:8082/api/media/photo/download/twitter/GK3-00abQAAHKof.jpg\n",
      "http://98.98.117.121:8082/api/media/photo/download/twitter/GKzN1YUakAEAmfV.jpg\n",
      "http://98.98.117.121:8082/api/media/photo/download/twitter/GKz-3PMasAAQtdP.jpg\n",
      "http://98.98.117.121:8082/api/media/photo/download/twitter/GK332YdbgAAQOP6.jpg\n",
      "http://98.98.117.121:8082/api/media/photo/download/twitter/GK0Cax-aAAA7ZKM.jpg\n",
      "http://98.98.117.121:8082/api/media/photo/download/twitter/GK3W08NaYAAE6MM.jpg\n",
      "http://98.98.117.121:8082/api/media/photo/download/twitter/GK36siSbEAAcl7i.jpg\n",
      "http://98.98.117.121:8082/api/media/photo/download/twitter/GK36WXkWMAAWKMg.jpg\n",
      "http://98.98.117.121:8082/api/media/photo/download/twitter/GK35_TmWEAAftb_.jpg\n",
      "http://98.98.117.121:8082/api/media/photo/download/twitter/GK351xlbcAAuztS.jpg\n",
      "http://98.98.117.121:8082/api/media/photo/download/twitter/GK35WYcWsAA_4dE.jpg\n",
      "http://98.98.117.121:8082/api/media/photo/download/twitter/GK31WgVWwAAdiFe.jpg\n",
      "http://98.98.117.121:8082/api/media/photo/download/twitter/GK33copWMAALSeI.jpg\n"
     ]
    },
    {
     "name": "stdout",
     "output_type": "stream",
     "text": [
      "http://98.98.117.121:8082/api/media/photo/download/twitter/GK31cd_WAAAikEh.png\n",
      "http://98.98.117.121:8082/api/media/photo/download/twitter/GK3zmHSXkAEtOWT.png\n",
      "http://98.98.117.121:8082/api/media/photo/download/twitter/GK31JuBWcAAZpGU.png\n",
      "http://98.98.117.121:8082/api/media/photo/download/twitter/GK30f55WYAA5X3x.png\n",
      "http://98.98.117.121:8082/api/media/photo/download/twitter/GK30bnjakAA8KMr.jpg\n",
      "http://98.98.117.121:8082/api/media/photo/download/twitter/GK3wTcuXEAAg5Yg.jpg\n",
      "http://98.98.117.121:8082/api/media/photo/download/twitter/GK3u9knWoAEDYMP.jpg\n",
      "http://98.98.117.121:8082/api/media/photo/download/twitter/GK3ul60WYAAKIID.jpg\n",
      "http://98.98.117.121:8082/api/media/photo/download/twitter/GK3uV-5WsAEWMH-.jpg\n",
      "http://98.98.117.121:8082/api/media/photo/download/twitter/GK28ngBaoAA1xYF.jpg\n",
      "http://98.98.117.121:8082/api/media/photo/download/twitter/GK3HsA8agAAERoe.jpg\n",
      "http://98.98.117.121:8082/api/media/photo/download/twitter/GK3e6taaQAA4fXf.jpg\n",
      "http://98.98.117.121:8082/api/media/photo/download/twitter/GK3royFaIAATpd_.jpg\n",
      "http://98.98.117.121:8082/api/media/photo/download/twitter/GK3qjFrXUAARpTH.jpg\n",
      "http://98.98.117.121:8082/api/media/photo/download/twitter/GK3pttVWQAALElz.png\n",
      "http://98.98.117.121:8082/api/media/photo/download/twitter/GK3ncj3X0AAXdwR.jpg\n",
      "http://98.98.117.121:8082/api/media/photo/download/twitter/GKz-hJzaQAAmsIT.jpg\n",
      "http://98.98.117.121:8082/api/media/photo/download/twitter/GK3laOJbUAAwyq2.jpg\n",
      "http://98.98.117.121:8082/api/media/photo/download/twitter/GK3k3dRW0AAZMwb.jpg\n",
      "http://98.98.117.121:8082/api/media/photo/download/twitter/GK3h8IcbQAAx8il.jpg\n",
      "http://98.98.117.121:8082/api/media/photo/download/twitter/GK3b4I6bQAA1wyU.jpg\n",
      "http://98.98.117.121:8082/api/media/photo/download/twitter/GK3efXPXAAAqRDd.jpg\n",
      "http://98.98.117.121:8082/api/media/photo/download/twitter/GK3fq7IbMAAYtdI.jpg\n",
      "http://98.98.117.121:8082/api/media/photo/download/twitter/GK3bo_Aa0AE4PCV.jpg\n",
      "http://98.98.117.121:8082/api/media/photo/download/twitter/GK3c-etW8AAFKVP.jpg\n",
      "http://98.98.117.121:8082/api/media/photo/download/twitter/GKzqRxHWsAA-esk.png\n",
      "http://98.98.117.121:8082/api/media/photo/download/twitter/GK3aBmsXoAA2TRT.jpg\n",
      "http://98.98.117.121:8082/api/media/photo/download/twitter/GK3U3mxW0AATqwE.jpg\n",
      "http://98.98.117.121:8082/api/media/photo/download/twitter/GK3UKuyWIAAXxG6.jpg\n",
      "http://98.98.117.121:8082/api/media/photo/download/twitter/GK3TntWXEAAprOL.jpg\n",
      "http://98.98.117.121:8082/api/media/photo/download/twitter/GKvZ559XEAAi_j6.png\n",
      "http://98.98.117.121:8082/api/media/photo/download/twitter/FnCgZDzacAADyRN.jpg\n",
      "http://98.98.117.121:8082/api/media/photo/download/twitter/GK3NgfiacAACDuG.jpg\n",
      "http://98.98.117.121:8082/api/media/photo/download/twitter/GK3F7ZgXMAAmVQq.jpg\n",
      "http://98.98.117.121:8082/api/media/photo/download/twitter/GK3L4n6XQAIwpIM.jpg\n",
      "http://98.98.117.121:8082/api/media/photo/download/twitter/GK3K_MRWgAEdekZ.jpg\n",
      "http://98.98.117.121:8082/api/media/photo/download/twitter/GK3BZiqW0AA4dky.jpg\n",
      "http://98.98.117.121:8082/api/media/photo/download/twitter/GK2-e8sWsAA3xRR.jpg\n",
      "http://98.98.117.121:8082/api/media/photo/download/twitter/GK2xlOzX0AA3QUZ.jpg\n",
      "http://98.98.117.121:8082/api/media/photo/download/twitter/GK2wGeBXwAAZsWD.jpg\n",
      "http://98.98.117.121:8082/api/media/photo/download/twitter/GK2sO8ra0AEUv3p.jpg\n",
      "http://98.98.117.121:8082/api/media/photo/download/twitter/GK2lhRZXMAAn4A4.jpg\n",
      "http://98.98.117.121:8082/api/media/photo/download/twitter/GK2gbIvaMAAVe_8.jpg\n",
      "http://98.98.117.121:8082/api/media/photo/download/twitter/GK2UwU0aAAE9sRt.jpg\n",
      "http://98.98.117.121:8082/api/media/photo/download/twitter/GK2TgtWbEAA4Tbr.jpg\n",
      "http://98.98.117.121:8082/api/media/photo/download/twitter/GK1RzEKbIAMofrv.jpg\n",
      "http://98.98.117.121:8082/api/media/photo/download/twitter/GK2NSm2asAAXasw.jpg\n",
      "http://98.98.117.121:8082/api/media/photo/download/twitter/GK2E-b4b0AAJCTF.jpg\n",
      "http://98.98.117.121:8082/api/media/photo/download/twitter/GK2AI3maIAAjEwy.jpg\n",
      "http://98.98.117.121:8082/api/media/photo/download/twitter/GK1_Q_tbwAAIZP_.jpg\n",
      "http://98.98.117.121:8082/api/media/photo/download/twitter/GK18AWAXgAADZ_2.jpg\n",
      "http://98.98.117.121:8082/api/media/photo/download/twitter/GK165KyaIAE48BP.jpg\n",
      "http://98.98.117.121:8082/api/media/photo/download/twitter/GK10G8DXAAA36hR.jpg\n",
      "http://98.98.117.121:8082/api/media/photo/download/twitter/GK1q-zLXgAAr20p.jpg\n",
      "http://98.98.117.121:8082/api/media/photo/download/twitter/GK1m6aIbIAQ_ghN.jpg\n",
      "http://98.98.117.121:8082/api/media/photo/download/twitter/GK1lc7xWYAAF358.jpg\n",
      "http://98.98.117.121:8082/api/media/photo/download/twitter/GK1lqNZbIAAkG_H.jpg\n"
     ]
    },
    {
     "name": "stdout",
     "output_type": "stream",
     "text": [
      "http://98.98.117.121:8082/api/media/photo/download/twitter/GK1kT_WWUAACssZ.jpg\n",
      "http://98.98.117.121:8082/api/media/photo/download/twitter/GK1dEWIbIAMelwV.png\n",
      "http://98.98.117.121:8082/api/media/photo/download/twitter/GK1X8J6WIAAYOcN.jpg\n",
      "http://98.98.117.121:8082/api/media/photo/download/twitter/GK1XzaNWUAA2eM8.jpg\n",
      "http://98.98.117.121:8082/api/media/photo/download/twitter/GK1V5goW0AEZ9Yz.jpg\n",
      "http://98.98.117.121:8082/api/media/photo/download/twitter/GK709CEaEAA6iS-.jpg\n",
      "http://98.98.117.121:8082/api/media/photo/download/twitter/GK8I_dJawAAJQR1.jpg\n",
      "http://98.98.117.121:8082/api/media/photo/download/twitter/GK8HbmcboAA7Mwn.jpg\n",
      "http://98.98.117.121:8082/api/media/photo/download/twitter/GK8FkolXIAAnlJ7.png\n",
      "http://98.98.117.121:8082/api/media/photo/download/twitter/GK8DOqFaMAAqf-l.jpg\n",
      "http://98.98.117.121:8082/api/media/photo/download/twitter/GK7_-vTakAAfP5W.jpg\n",
      "http://98.98.117.121:8082/api/media/photo/download/twitter/GK64VL4aEAAeNNt.jpg\n",
      "http://98.98.117.121:8082/api/media/photo/download/twitter/GK79AEua4AAkmJZ.jpg\n",
      "http://98.98.117.121:8082/api/media/photo/download/twitter/GK78MffbgAAZq_5.jpg\n",
      "http://98.98.117.121:8082/api/media/photo/download/twitter/GK74pEPb0AAyNxH.jpg\n",
      "http://98.98.117.121:8082/api/media/photo/download/twitter/GK7upn-a0AA58Cx.jpg\n",
      "http://98.98.117.121:8082/api/media/photo/download/twitter/GK76QrbWAAAskcn.jpg\n",
      "http://98.98.117.121:8082/api/media/photo/download/twitter/GK76I4xa0AEtnjX.jpg\n",
      "http://98.98.117.121:8082/api/media/photo/download/twitter/GK76CCnbAAA4ZxL.jpg\n",
      "http://98.98.117.121:8082/api/media/photo/download/twitter/GK75QS6bkAAsiDP.jpg\n",
      "http://98.98.117.121:8082/api/media/photo/download/twitter/GK72O4NbsAAedNm.jpg\n",
      "http://98.98.117.121:8082/api/media/photo/download/twitter/GK7zw_lbMAAXhrF.jpg\n",
      "http://98.98.117.121:8082/api/media/photo/download/twitter/GK7xj4ebUAADkGk.jpg\n",
      "http://98.98.117.121:8082/api/media/photo/download/twitter/GK7ssWyakAEY_ZD.jpg\n",
      "http://98.98.117.121:8082/api/media/photo/download/twitter/GK7pRz8bUAE6oAk.jpg\n",
      "http://98.98.117.121:8082/api/media/photo/download/twitter/GK7oVfdXcAA4I28.png\n",
      "http://98.98.117.121:8082/api/media/photo/download/twitter/GK7ni-2aIAAohpY.jpg\n",
      "http://98.98.117.121:8082/api/media/photo/download/twitter/GK7hYnrWkAAVAn8.jpg\n",
      "http://98.98.117.121:8082/api/media/photo/download/twitter/GK7CHs0boAAwhjM.jpg\n",
      "http://98.98.117.121:8082/api/media/photo/download/twitter/GK7cDPObYAAV2VO.jpg\n",
      "http://98.98.117.121:8082/api/media/photo/download/twitter/GK7YsiebwAA7hfE.jpg\n",
      "http://98.98.117.121:8082/api/media/photo/download/twitter/GK7YCpSbcAA4Tv9.jpg\n",
      "http://98.98.117.121:8082/api/media/photo/download/twitter/GK7Vq2paUAAxAhM.jpg\n",
      "http://98.98.117.121:8082/api/media/photo/download/twitter/GK7VVlxWQAAmSsN.png\n",
      "http://98.98.117.121:8082/api/media/photo/download/twitter/GK7RRPNaAAAAovL.jpg\n",
      "http://98.98.117.121:8082/api/media/photo/download/twitter/GK7RLRqbIAAIn8r.jpg\n",
      "http://98.98.117.121:8082/api/media/photo/download/twitter/GK7MdDFXQAAp292.jpg\n",
      "http://98.98.117.121:8082/api/media/photo/download/twitter/GK7B_GmXUAAXFej.jpg\n",
      "http://98.98.117.121:8082/api/media/photo/download/twitter/GK6-t5JbUAAHH1-.jpg\n",
      "http://98.98.117.121:8082/api/media/photo/download/twitter/GK68h3WbQAAbRNv.jpg\n",
      "http://98.98.117.121:8082/api/media/photo/download/twitter/GK68LBpXUAAlbir.jpg\n",
      "http://98.98.117.121:8082/api/media/photo/download/twitter/GK67ODeXUAAlopW.jpg\n",
      "http://98.98.117.121:8082/api/media/photo/download/twitter/GK65x3EW4AAC3WP.jpg\n",
      "http://98.98.117.121:8082/api/media/photo/download/twitter/GK65oEKXwAEHHSg.jpg\n",
      "http://98.98.117.121:8082/api/media/photo/download/twitter/GK65IVKa0AAGM5Q.jpg\n"
     ]
    },
    {
     "name": "stdout",
     "output_type": "stream",
     "text": [
      "http://98.98.117.121:8082/api/media/photo/download/twitter/GK610OXWsAEDL4-.jpg\n",
      "http://98.98.117.121:8082/api/media/photo/download/twitter/GK6xPi4bgAACahv.jpg\n",
      "http://98.98.117.121:8082/api/media/photo/download/twitter/GK6wjpoXkAABdw8.jpg\n",
      "http://98.98.117.121:8082/api/media/photo/download/twitter/GK6eGPzb0AAaAz0.jpg\n",
      "http://98.98.117.121:8082/api/media/photo/download/twitter/GK6mLBMb0AAgS0z.jpg\n",
      "http://98.98.117.121:8082/api/media/photo/download/twitter/GK6fKRAa8AEIk2m.jpg\n",
      "http://98.98.117.121:8082/api/media/photo/download/twitter/GK6euNRbMAA40yA.jpg\n",
      "http://98.98.117.121:8082/api/media/photo/download/twitter/GK6d-LdaAAAq8xa.jpg\n",
      "http://98.98.117.121:8082/api/media/photo/download/twitter/GK6eZVfaMAArIwg.jpg\n",
      "http://98.98.117.121:8082/api/media/photo/download/twitter/GK6XWejbUAAz1SL.jpg\n",
      "http://98.98.117.121:8082/api/media/photo/download/twitter/GK0-uZoX0AAM0ZP.jpg\n",
      "http://98.98.117.121:8082/api/media/photo/download/twitter/GK0wAvIXIAAexFV.jpg\n",
      "http://98.98.117.121:8082/api/media/photo/download/twitter/GK0v9eWXsAAE12c.jpg\n",
      "http://98.98.117.121:8082/api/media/photo/download/twitter/GK0t0NKaIAEgrfT.png\n",
      "http://98.98.117.121:8082/api/media/photo/download/twitter/GK0qwBsW8AEXz_l.jpg\n",
      "http://98.98.117.121:8082/api/media/photo/download/twitter/GK0nh9DWYAEFcOk.png\n",
      "http://98.98.117.121:8082/api/media/photo/download/twitter/GK0nfb2XMAAzrwg.png\n",
      "http://98.98.117.121:8082/api/media/photo/download/twitter/GK0hxeHXsAMdeY4.jpg\n",
      "http://98.98.117.121:8082/api/media/photo/download/twitter/GK0a3z1aIAAPY6w.jpg\n",
      "http://98.98.117.121:8082/api/media/photo/download/twitter/GK0aIQRXsAAqIzF.jpg\n",
      "http://98.98.117.121:8082/api/media/photo/download/twitter/GK0W7H1XAAA0eTf.png\n",
      "http://98.98.117.121:8082/api/media/photo/download/twitter/GK0Q1lPWkAADKpB.jpg\n",
      "http://98.98.117.121:8082/api/media/photo/download/twitter/GK0MVyvXgAAjIvH.png\n",
      "http://98.98.117.121:8082/api/media/photo/download/twitter/GK0MBwZWEAAzNuB.png\n",
      "http://98.98.117.121:8082/api/media/photo/download/twitter/GK0MAwYXsAEKlbQ.png\n",
      "http://98.98.117.121:8082/api/media/photo/download/twitter/GK0JpnqbwAAQMlN.png\n",
      "http://98.98.117.121:8082/api/media/photo/download/twitter/GKzSjdBWQAIRLn8.jpg\n",
      "http://98.98.117.121:8082/api/media/photo/download/twitter/GK0CIZuXoAAa-iH.jpg\n",
      "http://98.98.117.121:8082/api/media/photo/download/twitter/GK0A0URWIAAtXvF.jpg\n",
      "http://98.98.117.121:8082/api/media/photo/download/twitter/GKz9M1mXIAA7nsy.jpg\n",
      "http://98.98.117.121:8082/api/media/photo/download/twitter/GKz-9khX0AIBVfr.jpg\n",
      "http://98.98.117.121:8082/api/media/photo/download/twitter/GKz9tH1XAAAhgcY.jpg\n",
      "http://98.98.117.121:8082/api/media/photo/download/twitter/GKz8ZlgXcAAZa-Z.png\n",
      "http://98.98.117.121:8082/api/media/photo/download/twitter/GKz5TshbsAA1Na0.png\n",
      "http://98.98.117.121:8082/api/media/photo/download/twitter/GKz4SXSWkAAc18o.jpg\n",
      "http://98.98.117.121:8082/api/media/photo/download/twitter/GKzzXxFWoAAabTP.jpg\n",
      "http://98.98.117.121:8082/api/media/photo/download/twitter/GKz3KadWwAAsUL9.jpg\n",
      "http://98.98.117.121:8082/api/media/photo/download/twitter/GKz2XTJWEAAhgvD.jpg\n",
      "http://98.98.117.121:8082/api/media/photo/download/twitter/GKz1J-CWAAAGy31.jpg\n",
      "http://98.98.117.121:8082/api/media/photo/download/twitter/GKz1IfxXEAAphqv.jpg\n",
      "http://98.98.117.121:8082/api/media/photo/download/twitter/GKzzUqWWoAAyfMc.png\n",
      "http://98.98.117.121:8082/api/media/photo/download/twitter/GKzz9WIXUAAXTq-.jpg\n",
      "http://98.98.117.121:8082/api/media/photo/download/twitter/GKznhdYXAAAXNwT.jpg\n",
      "http://98.98.117.121:8082/api/media/photo/download/twitter/GKzxNsYbUAAelgl.jpg\n",
      "http://98.98.117.121:8082/api/media/photo/download/twitter/GKzx37zXcAIF0zM.png\n",
      "http://98.98.117.121:8082/api/media/photo/download/twitter/GKztcxtXsAAx3Zz.jpg\n",
      "http://98.98.117.121:8082/api/media/photo/download/twitter/GKzs8lDXEAAv8y6.jpg\n",
      "http://98.98.117.121:8082/api/media/photo/download/twitter/GKPpuypXsAAjKmv.jpg\n",
      "http://98.98.117.121:8082/api/media/photo/download/twitter/GKzr6PAXcAENKDN.jpg\n",
      "http://98.98.117.121:8082/api/media/photo/download/twitter/GKzqLH0WAAADUp_.jpg\n",
      "http://98.98.117.121:8082/api/media/photo/download/twitter/GKzpoyAX0AE96S4.jpg\n",
      "http://98.98.117.121:8082/api/media/photo/download/twitter/GKzZ5zZbAAA6rTT.png\n",
      "http://98.98.117.121:8082/api/media/photo/download/twitter/GKzmTifWMAAobBn.jpg\n",
      "http://98.98.117.121:8082/api/media/photo/download/twitter/GKzm7qmXwAMJOuN.jpg\n",
      "http://98.98.117.121:8082/api/media/photo/download/twitter/GKzmeE0akAAD0zS.jpg\n"
     ]
    },
    {
     "name": "stdout",
     "output_type": "stream",
     "text": [
      "http://98.98.117.121:8082/api/media/photo/download/twitter/GKzi5edWUAAuDV1.jpg\n",
      "http://98.98.117.121:8082/api/media/photo/download/twitter/GKzY7eUasAA7E6f.jpg\n",
      "http://98.98.117.121:8082/api/media/photo/download/twitter/GKzIkd-XcAALULF.jpg\n",
      "http://98.98.117.121:8082/api/media/photo/download/twitter/GKzOXnkWUAAtSgA.jpg\n",
      "http://98.98.117.121:8082/api/media/photo/download/twitter/GKygprBXsAEn2jL.jpg\n",
      "http://98.98.117.121:8082/api/media/photo/download/twitter/GKzYKijWgAAm0U1.jpg\n",
      "http://98.98.117.121:8082/api/media/photo/download/twitter/GKy8APlakAApPr8.jpg\n",
      "http://98.98.117.121:8082/api/media/photo/download/twitter/GKy490jakAER_JH.jpg\n",
      "http://98.98.117.121:8082/api/media/photo/download/twitter/GKzRNUYXYAMFXsg.jpg\n",
      "http://98.98.117.121:8082/api/media/photo/download/twitter/GKzQammaIAA_J09.jpg\n",
      "http://98.98.117.121:8082/api/media/photo/download/twitter/GKzPdZAXsAAty3z.jpg\n",
      "http://98.98.117.121:8082/api/media/photo/download/twitter/GKtoIseWUAAglxb.jpg\n",
      "http://98.98.117.121:8082/api/media/photo/download/twitter/GKzJYNlXgAAIY31.jpg\n",
      "http://98.98.117.121:8082/api/media/photo/download/twitter/GKzHVy3XAAEc5Pj.jpg\n",
      "http://98.98.117.121:8082/api/media/photo/download/twitter/GKzGiKQWkAAmb_c.jpg\n",
      "http://98.98.117.121:8082/api/media/photo/download/twitter/GKzGWUBWwAAEv6u.jpg\n",
      "http://98.98.117.121:8082/api/media/photo/download/twitter/GKzGTJlXkAAztY7.jpg\n",
      "http://98.98.117.121:8082/api/media/photo/download/twitter/GKzGOD4XoAA9zyL.jpg\n",
      "http://98.98.117.121:8082/api/media/photo/download/twitter/GKzFj8pXYAASVty.jpg\n",
      "http://98.98.117.121:8082/api/media/photo/download/twitter/GKzDIWRWQAAnHhc.jpg\n",
      "http://98.98.117.121:8082/api/media/photo/download/twitter/GKzC_0GbwAAxDDj.jpg\n",
      "http://98.98.117.121:8082/api/media/photo/download/twitter/GKzCHATWQAAWeio.jpg\n",
      "http://98.98.117.121:8082/api/media/photo/download/twitter/GKzAe9AaMAANRrD.jpg\n",
      "http://98.98.117.121:8082/api/media/photo/download/twitter/GKy_p1kWcAA4shD.jpg\n",
      "http://98.98.117.121:8082/api/media/photo/download/twitter/GKy_TQzWwAIqX8j.jpg\n",
      "http://98.98.117.121:8082/api/media/photo/download/twitter/GKy-KEaWsAA4nVz.jpg\n",
      "http://98.98.117.121:8082/api/media/photo/download/twitter/GKy8k2HWEAAS0h9.jpg\n",
      "http://98.98.117.121:8082/api/media/photo/download/twitter/GKy7eQUXkAAyl24.jpg\n",
      "http://98.98.117.121:8082/api/media/photo/download/twitter/GKy691UWcAAjZ_d.jpg\n",
      "http://98.98.117.121:8082/api/media/photo/download/twitter/GKy6vlaXwAAgO44.jpg\n",
      "http://98.98.117.121:8082/api/media/photo/download/twitter/GKy5eoHWcAAYy_q.jpg\n",
      "http://98.98.117.121:8082/api/media/photo/download/twitter/GKy4ywFa8AA6ChJ.jpg\n",
      "http://98.98.117.121:8082/api/media/photo/download/twitter/GKy2I_1aAAAJcih.jpg\n",
      "http://98.98.117.121:8082/api/media/photo/download/twitter/GKy1vwDXAAAkkkQ.jpg\n",
      "http://98.98.117.121:8082/api/media/photo/download/twitter/GKyxlDZbQAAmF1N.jpg\n",
      "http://98.98.117.121:8082/api/media/photo/download/twitter/GKywA5iWYAAyRjT.jpg\n",
      "http://98.98.117.121:8082/api/media/photo/download/twitter/GKydEH_XgAAyTs5.jpg\n",
      "http://98.98.117.121:8082/api/media/photo/download/twitter/GKyq72hWsAAwASI.jpg\n",
      "http://98.98.117.121:8082/api/media/photo/download/twitter/GKyqbsbWcAESPHm.jpg\n",
      "http://98.98.117.121:8082/api/media/photo/download/twitter/GKyp6P2akAAMiqW.jpg\n",
      "http://98.98.117.121:8082/api/media/photo/download/twitter/GKypP08X0AAfDEv.jpg\n",
      "http://98.98.117.121:8082/api/media/photo/download/twitter/GKyoKQRbwAAfoJo.jpg\n",
      "http://98.98.117.121:8082/api/media/photo/download/twitter/GKynKRsbcAACre2.jpg\n",
      "http://98.98.117.121:8082/api/media/photo/download/twitter/GKyj2wmXsAQ8RCx.jpg\n",
      "http://98.98.117.121:8082/api/media/photo/download/twitter/GKtvyzwXkAAtPbu.jpg\n",
      "http://98.98.117.121:8082/api/media/photo/download/twitter/GKyhYu2bUAAmcwP.jpg\n",
      "http://98.98.117.121:8082/api/media/photo/download/twitter/GKyemigWEAEMinW.jpg\n",
      "http://98.98.117.121:8082/api/media/photo/download/twitter/GKyeVw0WEAALKRt.jpg\n",
      "http://98.98.117.121:8082/api/media/photo/download/twitter/GKyeIXpXAAEAbT0.jpg\n",
      "http://98.98.117.121:8082/api/media/photo/download/twitter/GKyeHfwXYAA7K6R.jpg\n",
      "http://98.98.117.121:8082/api/media/photo/download/twitter/GKtgKIFWAAA909t.jpg\n",
      "http://98.98.117.121:8082/api/media/photo/download/twitter/GKyVqDJX0AA75KX.jpg\n",
      "http://98.98.117.121:8082/api/media/photo/download/twitter/GKyU4p6WYAA5qSp.jpg\n"
     ]
    },
    {
     "name": "stdout",
     "output_type": "stream",
     "text": [
      "http://98.98.117.121:8082/api/media/photo/download/twitter/GKx4IgmbMAAUq81.png\n",
      "http://98.98.117.121:8082/api/media/photo/download/twitter/GKyLJkiWAAE1SPE.jpg\n",
      "http://98.98.117.121:8082/api/media/photo/download/twitter/GKyKyILbgAAbtKk.jpg\n",
      "http://98.98.117.121:8082/api/media/photo/download/twitter/GKyGiVFasAEi03E.jpg\n",
      "http://98.98.117.121:8082/api/media/photo/download/twitter/GKyEiFeWsAAJNli.jpg\n",
      "http://98.98.117.121:8082/api/media/photo/download/twitter/Fl6Z6ZIagAEaA4q.jpg\n",
      "http://98.98.117.121:8082/api/media/photo/download/twitter/GKx8BA0acAEV-EK.jpg\n",
      "http://98.98.117.121:8082/api/media/photo/download/twitter/GKxnT04bYAALX8k.jpg\n",
      "http://98.98.117.121:8082/api/media/photo/download/twitter/GKxlMyub0AAw3hC.jpg\n",
      "http://98.98.117.121:8082/api/media/photo/download/twitter/GKxhiO5bIAAKAAE.jpg\n",
      "http://98.98.117.121:8082/api/media/photo/download/twitter/GKxfVinWAAAfJnZ.jpg\n",
      "http://98.98.117.121:8082/api/media/photo/download/twitter/GKxdMINWoAAx20n.jpg\n",
      "http://98.98.117.121:8082/api/media/photo/download/twitter/GKxONGOW4AAiery.jpg\n",
      "http://98.98.117.121:8082/api/media/photo/download/twitter/GKw4pRqbYAA_k7a.jpg\n",
      "http://98.98.117.121:8082/api/media/photo/download/twitter/GKxEiEQaAAAF7O0.jpg\n",
      "http://98.98.117.121:8082/api/media/photo/download/twitter/GKw-Lr2WkAADTne.jpg\n",
      "http://98.98.117.121:8082/api/media/photo/download/twitter/GKw9-EYXYAEAxG2.jpg\n",
      "http://98.98.117.121:8082/api/media/photo/download/twitter/GKw7qb4awAAMa1u.jpg\n",
      "http://98.98.117.121:8082/api/media/photo/download/twitter/GKwwRT8WcAAyDku.png\n",
      "http://98.98.117.121:8082/api/media/photo/download/twitter/GKv4e2kbEAAwFtu.jpg\n",
      "http://98.98.117.121:8082/api/media/photo/download/twitter/GKv8fwOakAAsFwz.jpg\n",
      "http://98.98.117.121:8082/api/media/photo/download/twitter/GKwg1GybgAAVr-n.jpg\n",
      "http://98.98.117.121:8082/api/media/photo/download/twitter/GKtSAKlWoAEDp9h.jpg\n",
      "http://98.98.117.121:8082/api/media/photo/download/twitter/GKtRxXWWgAA2G3M.jpg\n",
      "http://98.98.117.121:8082/api/media/photo/download/twitter/GKtQjbxW4AAawEe.jpg\n",
      "http://98.98.117.121:8082/api/media/photo/download/twitter/GKtJM11WYAE7sAf.jpg\n",
      "http://98.98.117.121:8082/api/media/photo/download/twitter/GKtNql7XcAASKKu.jpg\n",
      "http://98.98.117.121:8082/api/media/photo/download/twitter/GKtNpbnWwAAKD9u.jpg\n",
      "http://98.98.117.121:8082/api/media/photo/download/twitter/GKpzIsSX0AATE_f.jpg\n",
      "http://98.98.117.121:8082/api/media/photo/download/twitter/GKtLfXnXwAAwhHP.jpg\n",
      "http://98.98.117.121:8082/api/media/photo/download/twitter/GKtLWSYWEAA9cd9.png\n",
      "http://98.98.117.121:8082/api/media/photo/download/twitter/GKtJDAvX0AAQP_y.png\n",
      "http://98.98.117.121:8082/api/media/photo/download/twitter/GKtExRRaIAA2o7B.jpg\n",
      "http://98.98.117.121:8082/api/media/photo/download/twitter/GKtDPAoWsAAF17E.jpg\n",
      "http://98.98.117.121:8082/api/media/photo/download/twitter/GKtB6eqboAAF3lv.jpg\n",
      "http://98.98.117.121:8082/api/media/photo/download/twitter/GKtBVb6WoAAImSA.png\n",
      "http://98.98.117.121:8082/api/media/photo/download/twitter/GKs_v8jbEAA5RUS.jpg\n",
      "http://98.98.117.121:8082/api/media/photo/download/twitter/GKs7LNZWUAAFmXb.png\n",
      "http://98.98.117.121:8082/api/media/photo/download/twitter/GKs7ObsbgAAYn4o.png\n",
      "http://98.98.117.121:8082/api/media/photo/download/twitter/GKs567nW8AAa8xK.jpg\n",
      "http://98.98.117.121:8082/api/media/photo/download/twitter/F-40-MdaQAARnSs.png\n",
      "http://98.98.117.121:8082/api/media/photo/download/twitter/GKs4g55XcAAKQKa.jpg\n",
      "http://98.98.117.121:8082/api/media/photo/download/twitter/GKs0yTZa0AAxjuA.jpg\n",
      "http://98.98.117.121:8082/api/media/photo/download/twitter/GKst33lbcAAjFal.jpg\n",
      "http://98.98.117.121:8082/api/media/photo/download/twitter/GKsrVoYXwAAtJ0A.jpg\n",
      "http://98.98.117.121:8082/api/media/photo/download/twitter/GKsjJBYWUAAVawe.jpg\n",
      "http://98.98.117.121:8082/api/media/photo/download/twitter/GKsT5twXgAA2CM-.png\n",
      "http://98.98.117.121:8082/api/media/photo/download/twitter/GKsUYRqagAAeloM.jpg\n",
      "http://98.98.117.121:8082/api/media/photo/download/twitter/GKsS9g1XkAAxuab.jpg\n",
      "http://98.98.117.121:8082/api/media/photo/download/twitter/GKsSlLRaAAAK7KL.jpg\n",
      "http://98.98.117.121:8082/api/media/photo/download/twitter/GKsMTmYWAAAoOqN.jpg\n",
      "http://98.98.117.121:8082/api/media/photo/download/twitter/GKsHD33WUAAR2S_.jpg\n",
      "http://98.98.117.121:8082/api/media/photo/download/twitter/GKsEDkdXUAEaAgr.jpg\n",
      "http://98.98.117.121:8082/api/media/photo/download/twitter/GKsDR6TWAAAcJhX.jpg\n",
      "http://98.98.117.121:8082/api/media/photo/download/twitter/GKr0ZEbXUAALX-M.jpg\n"
     ]
    },
    {
     "name": "stdout",
     "output_type": "stream",
     "text": [
      "http://98.98.117.121:8082/api/media/photo/download/twitter/GKruhirakAAw5BL.jpg\n",
      "http://98.98.117.121:8082/api/media/photo/download/twitter/GKrtzyJaQAA5dA0.png\n",
      "http://98.98.117.121:8082/api/media/photo/download/twitter/GKrj5xMX0AA8Lmr.jpg\n",
      "http://98.98.117.121:8082/api/media/photo/download/twitter/GKrgk5MbgAARMIL.png\n",
      "http://98.98.117.121:8082/api/media/photo/download/twitter/GKrfAjdXgAAz_nu.jpg\n",
      "http://98.98.117.121:8082/api/media/photo/download/twitter/GKrW5KjbsAAIorJ.png\n",
      "http://98.98.117.121:8082/api/media/photo/download/twitter/GKrW1nvWwAA7nc7.jpg\n",
      "http://98.98.117.121:8082/api/media/photo/download/twitter/GKrWWO-XkAAlzP4.jpg\n",
      "http://98.98.117.121:8082/api/media/photo/download/twitter/GKrKN7QW0AAqzVv.png\n",
      "http://98.98.117.121:8082/api/media/photo/download/twitter/GKrJU2dXcAAAhU-.jpg\n",
      "http://98.98.117.121:8082/api/media/photo/download/twitter/GKrHq0yXQAAgs0K.jpg\n",
      "http://98.98.117.121:8082/api/media/photo/download/twitter/GKrDGWEaoAArINg.jpg\n",
      "http://98.98.117.121:8082/api/media/photo/download/twitter/GKrCXhWXUAAj7RO.jpg\n",
      "http://98.98.117.121:8082/api/media/photo/download/twitter/GKq4kVEaUAEU1pn.jpg\n",
      "http://98.98.117.121:8082/api/media/photo/download/twitter/GKq15q9WIAA054Y.png\n",
      "http://98.98.117.121:8082/api/media/photo/download/twitter/GKq2OOFaoAICw4z.jpg\n",
      "http://98.98.117.121:8082/api/media/photo/download/twitter/GKq12MuXYAASgtQ.jpg\n",
      "http://98.98.117.121:8082/api/media/photo/download/twitter/GKq0O9VXoAAUKOl.png\n",
      "http://98.98.117.121:8082/api/media/photo/download/twitter/GKqwiwxXEAA5MBM.png\n",
      "http://98.98.117.121:8082/api/media/photo/download/twitter/GKquabOXIAAQYfd.png\n",
      "http://98.98.117.121:8082/api/media/photo/download/twitter/GKqvvwEWUAAd4kS.jpg\n",
      "http://98.98.117.121:8082/api/media/photo/download/twitter/GKqrLppaoAcS_m_.jpg\n",
      "http://98.98.117.121:8082/api/media/photo/download/twitter/GKqert-WEAAuPPs.jpg\n",
      "http://98.98.117.121:8082/api/media/photo/download/twitter/GKqZcZgWAAAk4KT.jpg\n",
      "http://98.98.117.121:8082/api/media/photo/download/twitter/GKqY0DJWwAApiUC.png\n",
      "http://98.98.117.121:8082/api/media/photo/download/twitter/GKqXI4rXgAAVr3G.png\n",
      "http://98.98.117.121:8082/api/media/photo/download/twitter/GKqWoMDWYAAoJT3.jpg\n",
      "http://98.98.117.121:8082/api/media/photo/download/twitter/GKqPkg3WMAEY4zO.jpg\n",
      "http://98.98.117.121:8082/api/media/photo/download/twitter/GKqPioSW4AAZ541.jpg\n",
      "http://98.98.117.121:8082/api/media/photo/download/twitter/GKqPhDKWgAAGf0V.jpg\n",
      "http://98.98.117.121:8082/api/media/photo/download/twitter/GKqOFs5XoAAAEEp.jpg\n",
      "http://98.98.117.121:8082/api/media/photo/download/twitter/GKp_Em2WsAA6ZuX.png\n",
      "http://98.98.117.121:8082/api/media/photo/download/twitter/GKp-6QVWsAAslmW.png\n",
      "http://98.98.117.121:8082/api/media/photo/download/twitter/GKp-1LJXsAAXIT9.jpg\n",
      "http://98.98.117.121:8082/api/media/photo/download/twitter/GKp-hIHWkAQ4Mti.png\n",
      "http://98.98.117.121:8082/api/media/photo/download/twitter/GKp8kq2WYAAXSor.jpg\n",
      "http://98.98.117.121:8082/api/media/photo/download/twitter/GKp8JlYXkAAvfpR.jpg\n",
      "http://98.98.117.121:8082/api/media/photo/download/twitter/GKpTPdzXkAAYVQa.png\n",
      "http://98.98.117.121:8082/api/media/photo/download/twitter/GKp6kNcWsAAkSxM.jpg\n",
      "http://98.98.117.121:8082/api/media/photo/download/twitter/GKp57pUXgAEccOn.jpg\n",
      "http://98.98.117.121:8082/api/media/photo/download/twitter/GKp52ORXMAAMZN5.jpg\n",
      "http://98.98.117.121:8082/api/media/photo/download/twitter/GKp4zZzXsAAqvPP.jpg\n",
      "http://98.98.117.121:8082/api/media/photo/download/twitter/GKp3oP_XIAAalt7.jpg\n",
      "http://98.98.117.121:8082/api/media/photo/download/twitter/GKp3eqsWMAAEO9D.jpg\n",
      "http://98.98.117.121:8082/api/media/photo/download/twitter/GKp2KOGXYAAvsgI.jpg\n",
      "http://98.98.117.121:8082/api/media/photo/download/twitter/GKpmcPpXMAAAy08.jpg\n",
      "http://98.98.117.121:8082/api/media/photo/download/twitter/GKp2qHuW8AA2H0w.jpg\n",
      "http://98.98.117.121:8082/api/media/photo/download/twitter/GKp2vO2XMAAEdh0.jpg\n",
      "http://98.98.117.121:8082/api/media/photo/download/twitter/GKp1s_bbQAAx6Ri.png\n",
      "http://98.98.117.121:8082/api/media/photo/download/twitter/GKpy7daW0AI847h.jpg\n",
      "http://98.98.117.121:8082/api/media/photo/download/twitter/GKpvhpLWYAEXu5M.jpg\n",
      "http://98.98.117.121:8082/api/media/photo/download/twitter/GKpt3S1WQAAxubQ.png\n",
      "http://98.98.117.121:8082/api/media/photo/download/twitter/GKptTAQWQAA5n-8.png\n",
      "http://98.98.117.121:8082/api/media/photo/download/twitter/GKppYEYa4AATqOv.png\n",
      "http://98.98.117.121:8082/api/media/photo/download/twitter/GKprR1GaIAA0sop.jpg\n",
      "http://98.98.117.121:8082/api/media/photo/download/twitter/GKppx0gXoAA2kuA.jpg\n"
     ]
    },
    {
     "name": "stdout",
     "output_type": "stream",
     "text": [
      "http://98.98.117.121:8082/api/media/photo/download/twitter/GKpnFibWEAANVer.jpg\n",
      "http://98.98.117.121:8082/api/media/photo/download/twitter/GKpmg-AWwAAifjX.jpg\n",
      "http://98.98.117.121:8082/api/media/photo/download/twitter/GKpmBtXW8AARbrM.png\n",
      "http://98.98.117.121:8082/api/media/photo/download/twitter/GKplkwiXsAAeUAh.jpg\n",
      "http://98.98.117.121:8082/api/media/photo/download/twitter/GKpmKRoXcAA3npS.jpg\n",
      "http://98.98.117.121:8082/api/media/photo/download/twitter/GKplMyyXkAAlg7Q.jpg\n",
      "http://98.98.117.121:8082/api/media/photo/download/twitter/GKpfznhXkAAaZXL.jpg\n",
      "http://98.98.117.121:8082/api/media/photo/download/twitter/GKpdvu8WcAEyPSx.jpg\n",
      "http://98.98.117.121:8082/api/media/photo/download/twitter/GKpbwCjWgAElmD0.jpg\n",
      "http://98.98.117.121:8082/api/media/photo/download/twitter/GKpaQDPXYAABJQX.jpg\n",
      "http://98.98.117.121:8082/api/media/photo/download/twitter/GKpVe1XX0AA1Iwq.jpg\n",
      "http://98.98.117.121:8082/api/media/photo/download/twitter/GKpRN4QXUAAHudg.jpg\n",
      "http://98.98.117.121:8082/api/media/photo/download/twitter/GKpQUiWXkAAfbnJ.jpg\n",
      "http://98.98.117.121:8082/api/media/photo/download/twitter/GKpQMlIW8AAeibu.jpg\n",
      "http://98.98.117.121:8082/api/media/photo/download/twitter/GKpPx77XgAA7e6M.jpg\n",
      "http://98.98.117.121:8082/api/media/photo/download/twitter/GKFkYWQXsAAb2K7.jpg\n",
      "http://98.98.117.121:8082/api/media/photo/download/twitter/GKpNhKVXMAABtBL.jpg\n",
      "http://98.98.117.121:8082/api/media/photo/download/twitter/GKpKnfWWMAA2gfL.jpg\n",
      "http://98.98.117.121:8082/api/media/photo/download/twitter/GKpFLA_WwAAoUAf.jpg\n",
      "http://98.98.117.121:8082/api/media/photo/download/twitter/GKpEFd2WkAExT1q.jpg\n",
      "http://98.98.117.121:8082/api/media/photo/download/twitter/GKpBjbIW0AE9Fi3.png\n",
      "http://98.98.117.121:8082/api/media/photo/download/twitter/GKo2otjbkAAi5pm.jpg\n",
      "http://98.98.117.121:8082/api/media/photo/download/twitter/GKo7qeQXoAAcBMO.jpg\n",
      "http://98.98.117.121:8082/api/media/photo/download/twitter/GKo9D_fWAAAVBn5.jpg\n",
      "http://98.98.117.121:8082/api/media/photo/download/twitter/GKo7oUlW4AAM6vE.jpg\n",
      "http://98.98.117.121:8082/api/media/photo/download/twitter/GKo32XnXcAEKhjR.png\n",
      "http://98.98.117.121:8082/api/media/photo/download/twitter/GKo2sWzXMAA5Zoi.jpg\n",
      "http://98.98.117.121:8082/api/media/photo/download/twitter/GKo0Ah6a0AA0XV7.png\n",
      "http://98.98.117.121:8082/api/media/photo/download/twitter/GKovNH2XAAEA3ob.jpg\n",
      "http://98.98.117.121:8082/api/media/photo/download/twitter/GKotOfgWgAAnrR8.jpg\n",
      "http://98.98.117.121:8082/api/media/photo/download/twitter/GKopZfjW0AAB8Li.jpg\n",
      "http://98.98.117.121:8082/api/media/photo/download/twitter/GKiLXQ1WYAAqvqh.jpg\n",
      "http://98.98.117.121:8082/api/media/photo/download/twitter/GKiIzfrbUAAQebZ.jpg\n",
      "http://98.98.117.121:8082/api/media/photo/download/twitter/GKiGAN_XMAAjV8G.jpg\n",
      "http://98.98.117.121:8082/api/media/photo/download/twitter/GKiFCLuXIAAMZGr.png\n",
      "http://98.98.117.121:8082/api/media/photo/download/twitter/GKhiU9qbAAACb1N.jpg\n",
      "http://98.98.117.121:8082/api/media/photo/download/twitter/GKhiQCGbEAAn0sg.jpg\n",
      "http://98.98.117.121:8082/api/media/photo/download/twitter/GKhhNGcXYAAeIp9.jpg\n",
      "http://98.98.117.121:8082/api/media/photo/download/twitter/GKhf7dbaAAALy-2.jpg\n",
      "http://98.98.117.121:8082/api/media/photo/download/twitter/GKdEavhWYAA4Tld.jpg\n",
      "http://98.98.117.121:8082/api/media/photo/download/twitter/GKfgW30WAAAY_ac.jpg\n",
      "http://98.98.117.121:8082/api/media/photo/download/twitter/GKhSNPOWUAAQW8g.jpg\n",
      "http://98.98.117.121:8082/api/media/photo/download/twitter/GKhKeo_bcAAlsIZ.jpg\n",
      "http://98.98.117.121:8082/api/media/photo/download/twitter/GKhF8xbXIAA89xq.jpg\n",
      "http://98.98.117.121:8082/api/media/photo/download/twitter/GKg7x6TWoAAcrWG.jpg\n",
      "http://98.98.117.121:8082/api/media/photo/download/twitter/EPuKDT_VUAAk3D4.jpg\n",
      "http://98.98.117.121:8082/api/media/photo/download/twitter/GKgwAFnbEAAEY5r.jpg\n",
      "http://98.98.117.121:8082/api/media/photo/download/twitter/GKgqATDXUAEyk-M.jpg\n",
      "http://98.98.117.121:8082/api/media/photo/download/twitter/GKgha0jXgAI_3-h.jpg\n",
      "http://98.98.117.121:8082/api/media/photo/download/twitter/GKgeM0iXYAAYbJT.jpg\n",
      "http://98.98.117.121:8082/api/media/photo/download/twitter/GKgSRNqW0AAPxdL.png\n",
      "http://98.98.117.121:8082/api/media/photo/download/twitter/GKgTBIVW0AAtkiL.png\n",
      "http://98.98.117.121:8082/api/media/photo/download/twitter/GKgRMf-W0AESr7k.jpg\n",
      "http://98.98.117.121:8082/api/media/photo/download/twitter/GKgPPR1WcAAYuyq.png\n"
     ]
    },
    {
     "name": "stdout",
     "output_type": "stream",
     "text": [
      "http://98.98.117.121:8082/api/media/photo/download/twitter/GKgPmU8XIAA8EFN.jpg\n",
      "http://98.98.117.121:8082/api/media/photo/download/twitter/GKgNr7gXYAArHNF.jpg\n",
      "http://98.98.117.121:8082/api/media/photo/download/twitter/GKgMioLXwAA4Mxb.jpg\n",
      "http://98.98.117.121:8082/api/media/photo/download/twitter/GKgKBCKbcAAJRT5.jpg\n",
      "http://98.98.117.121:8082/api/media/photo/download/twitter/GKgIA_kXEAArGiM.jpg\n",
      "http://98.98.117.121:8082/api/media/photo/download/twitter/GKgHOv8bAAAztHG.jpg\n",
      "http://98.98.117.121:8082/api/media/photo/download/twitter/GKgF8_DbYAAbAbt.jpg\n",
      "http://98.98.117.121:8082/api/media/photo/download/twitter/GKgFpxHWcAA-7pe.jpg\n",
      "http://98.98.117.121:8082/api/media/photo/download/twitter/GKgBvI4WcAA3gxl.png\n",
      "http://98.98.117.121:8082/api/media/photo/download/twitter/GKf_5wFXEAA-5_P.jpg\n",
      "http://98.98.117.121:8082/api/media/photo/download/twitter/GKf9KK2WAAA98mN.jpg\n",
      "http://98.98.117.121:8082/api/media/photo/download/twitter/GKfz4BVX0AA0aIW.jpg\n",
      "http://98.98.117.121:8082/api/media/photo/download/twitter/GKfyObUXoAABWAP.jpg\n",
      "http://98.98.117.121:8082/api/media/photo/download/twitter/GKfkfjbbsAAjYNI.png\n",
      "http://98.98.117.121:8082/api/media/photo/download/twitter/GKfwwbLXUAAOz79.jpg\n",
      "http://98.98.117.121:8082/api/media/photo/download/twitter/GKfsk7OXEAAi7Sh.jpg\n",
      "http://98.98.117.121:8082/api/media/photo/download/twitter/GKfmnvbWEAATdlj.jpg\n",
      "http://98.98.117.121:8082/api/media/photo/download/twitter/GKfoH-rbsAAdfJD.png\n",
      "http://98.98.117.121:8082/api/media/photo/download/twitter/GKfl7UGagAAYMUC.jpg\n",
      "http://98.98.117.121:8082/api/media/photo/download/twitter/GKfla7qXoAA_iTH.jpg\n",
      "http://98.98.117.121:8082/api/media/photo/download/twitter/GKflruRXIAA7wyx.jpg\n",
      "http://98.98.117.121:8082/api/media/photo/download/twitter/GKfg0yMXcAAPRj_.png\n",
      "http://98.98.117.121:8082/api/media/photo/download/twitter/GKfhM_BXoAEHnO-.jpg\n",
      "http://98.98.117.121:8082/api/media/photo/download/twitter/GKfbvnIbMAA8Mdq.jpg\n",
      "http://98.98.117.121:8082/api/media/photo/download/twitter/GKfaJUCWcAA9bAl.jpg\n",
      "http://98.98.117.121:8082/api/media/photo/download/twitter/GKfWY3bW4AAjsjA.png\n",
      "http://98.98.117.121:8082/api/media/photo/download/twitter/GKfWBhfXgAE5Epl.png\n",
      "http://98.98.117.121:8082/api/media/photo/download/twitter/GKfVpPcXkAAdo8G.png\n",
      "http://98.98.117.121:8082/api/media/photo/download/twitter/GKfVKRnWQAAAcyj.png\n",
      "http://98.98.117.121:8082/api/media/photo/download/twitter/GKfUj_8X0AA_lov.png\n",
      "http://98.98.117.121:8082/api/media/photo/download/twitter/GKfSrwxWUAAE3Qc.jpg\n",
      "http://98.98.117.121:8082/api/media/photo/download/twitter/GKfOMJLWsAA0Yfh.jpg\n",
      "http://98.98.117.121:8082/api/media/photo/download/twitter/GKfN5L_XUAAuJQS.jpg\n",
      "http://98.98.117.121:8082/api/media/photo/download/twitter/GKfLi7IW0AAKBqf.jpg\n",
      "http://98.98.117.121:8082/api/media/photo/download/twitter/GKfKN8BXsAEPm6W.jpg\n",
      "http://98.98.117.121:8082/api/media/photo/download/twitter/GKPpqpUXsAAfsL-.jpg\n",
      "http://98.98.117.121:8082/api/media/photo/download/twitter/GKfEVAHXkAEVxc7.jpg\n",
      "http://98.98.117.121:8082/api/media/photo/download/twitter/GKfD80BW4AAGWyc.jpg\n",
      "http://98.98.117.121:8082/api/media/photo/download/twitter/GKfAU8JWYAAa1n-.jpg\n",
      "http://98.98.117.121:8082/api/media/photo/download/twitter/GKe-mxOWcAABkXs.jpg\n",
      "http://98.98.117.121:8082/api/media/photo/download/twitter/GKe9-l7WoAAYyRN.png\n",
      "http://98.98.117.121:8082/api/media/photo/download/twitter/GKe5PksXoAA31Wg.jpg\n",
      "http://98.98.117.121:8082/api/media/photo/download/twitter/GKe4JCvXUAA1-ZY.jpg\n",
      "http://98.98.117.121:8082/api/media/photo/download/twitter/GKe4FedawAA4myP.jpg\n",
      "http://98.98.117.121:8082/api/media/photo/download/twitter/GKe3Wu7XwAAS3GW.jpg\n",
      "http://98.98.117.121:8082/api/media/photo/download/twitter/GKe0bYNXgAAVeV0.jpg\n",
      "http://98.98.117.121:8082/api/media/photo/download/twitter/GKewDJMX0AEuXyG.jpg\n",
      "http://98.98.117.121:8082/api/media/photo/download/twitter/GKet5gWXgAAJ4je.jpg\n",
      "http://98.98.117.121:8082/api/media/photo/download/twitter/GKeT2ZsacAAK7Ek.jpg\n",
      "http://98.98.117.121:8082/api/media/photo/download/twitter/GKeopalWUAIRzVt.jpg\n",
      "http://98.98.117.121:8082/api/media/photo/download/twitter/GKL-xfIaYAAcM1o.png\n",
      "http://98.98.117.121:8082/api/media/photo/download/twitter/GKePhikXMAAGgZ9.jpg\n",
      "http://98.98.117.121:8082/api/media/photo/download/twitter/GKeI380XsAA2DEa.jpg\n"
     ]
    },
    {
     "name": "stdout",
     "output_type": "stream",
     "text": [
      "http://98.98.117.121:8082/api/media/photo/download/twitter/GKeKPhiXIAAfu97.png\n",
      "http://98.98.117.121:8082/api/media/photo/download/twitter/GKdqjF2bgAArqr7.jpg\n",
      "http://98.98.117.121:8082/api/media/photo/download/twitter/GKeJnOCWsAESLev.jpg\n",
      "http://98.98.117.121:8082/api/media/photo/download/twitter/GKeJRXCWgAASQTx.png\n",
      "http://98.98.117.121:8082/api/media/photo/download/twitter/GKZqp1oW0AATHFV.jpg\n",
      "http://98.98.117.121:8082/api/media/photo/download/twitter/GKeE5zWWsAAnXE4.png\n",
      "http://98.98.117.121:8082/api/media/photo/download/twitter/GKeEJSOXUAEC-Tg.jpg\n",
      "http://98.98.117.121:8082/api/media/photo/download/twitter/GKd7wP-XAAAaUJS.png\n",
      "http://98.98.117.121:8082/api/media/photo/download/twitter/GKdxlwGaYAAE6Mr.jpg\n",
      "http://98.98.117.121:8082/api/media/photo/download/twitter/GKd5nCQXIAALMM5.png\n",
      "http://98.98.117.121:8082/api/media/photo/download/twitter/GKd5G71W8AE1iY7.jpg\n",
      "http://98.98.117.121:8082/api/media/photo/download/twitter/GKd3QisXMAAQGFb.jpg\n",
      "http://98.98.117.121:8082/api/media/photo/download/twitter/GKd3PPDWYAA-_LK.jpg\n",
      "http://98.98.117.121:8082/api/media/photo/download/twitter/GKd1ADEXcAAz8ef.jpg\n",
      "http://98.98.117.121:8082/api/media/photo/download/twitter/GKdnEOOaoAAjndq.jpg\n",
      "http://98.98.117.121:8082/api/media/photo/download/twitter/GKdd0bzWEAACaJR.png\n",
      "http://98.98.117.121:8082/api/media/photo/download/twitter/GKdKla9bUAAHixw.png\n",
      "http://98.98.117.121:8082/api/media/photo/download/twitter/GKXulcJbcAAUfpD.jpg\n",
      "http://98.98.117.121:8082/api/media/photo/download/twitter/GKcgkwZW4AA2-87.jpg\n",
      "http://98.98.117.121:8082/api/media/photo/download/twitter/GKcPwmtbQAA0mJ0.jpg\n",
      "http://98.98.117.121:8082/api/media/photo/download/twitter/GKcPlYFa4AA8YYh.jpg\n",
      "http://98.98.117.121:8082/api/media/photo/download/twitter/GKcPhpsaIAECKH3.jpg\n",
      "http://98.98.117.121:8082/api/media/photo/download/twitter/GK6TQ3XboAAkogw.jpg\n",
      "http://98.98.117.121:8082/api/media/photo/download/twitter/GK6MFu-XMAA2KSV.jpg\n",
      "http://98.98.117.121:8082/api/media/photo/download/twitter/GK6MFeIacAAECCi.jpg\n",
      "http://98.98.117.121:8082/api/media/photo/download/twitter/GDl61IAacAAPWgL.jpg\n",
      "http://98.98.117.121:8082/api/media/photo/download/twitter/GK6EUssWIAAA_BV.jpg\n",
      "http://98.98.117.121:8082/api/media/photo/download/twitter/GK6CtL5X0AABsVb.jpg\n",
      "http://98.98.117.121:8082/api/media/photo/download/twitter/GK6AV2IaQAEk5Cc.png\n",
      "http://98.98.117.121:8082/api/media/photo/download/twitter/GK5_QttaQAEf5vU.jpg\n",
      "http://98.98.117.121:8082/api/media/photo/download/twitter/GK5_BQVbMAMhyuS.jpg\n",
      "http://98.98.117.121:8082/api/media/photo/download/twitter/GK58MhjWoAA6bPr.png\n",
      "http://98.98.117.121:8082/api/media/photo/download/twitter/GK59fb0X0AA5x7V.jpg\n",
      "http://98.98.117.121:8082/api/media/photo/download/twitter/GK58lyebMAEBO_e.jpg\n",
      "http://98.98.117.121:8082/api/media/photo/download/twitter/GK54Q2RXAAAp2Jg.jpg\n",
      "http://98.98.117.121:8082/api/media/photo/download/twitter/GK57qs3WYAE3bf1.jpg\n",
      "http://98.98.117.121:8082/api/media/photo/download/twitter/GK57Ju7XwAAlRpE.jpg\n",
      "http://98.98.117.121:8082/api/media/photo/download/twitter/GK56QX-bMAEfaTD.jpg\n",
      "http://98.98.117.121:8082/api/media/photo/download/twitter/GK54XwxXsAESnuy.jpg\n",
      "http://98.98.117.121:8082/api/media/photo/download/twitter/GK53I34bMAIvZ7A.jpg\n",
      "http://98.98.117.121:8082/api/media/photo/download/twitter/GK5znYWXkAAV6Ad.jpg\n",
      "http://98.98.117.121:8082/api/media/photo/download/twitter/GK5yNK_WgAE6Ij_.jpg\n",
      "http://98.98.117.121:8082/api/media/photo/download/twitter/GK5x6G3X0AAtQk4.jpg\n",
      "http://98.98.117.121:8082/api/media/photo/download/twitter/GK5s9OabUAAT8vt.png\n",
      "http://98.98.117.121:8082/api/media/photo/download/twitter/GK5tLbyXgAAYV6-.jpg\n",
      "http://98.98.117.121:8082/api/media/photo/download/twitter/GK5svZ-bMAASO7K.jpg\n",
      "http://98.98.117.121:8082/api/media/photo/download/twitter/GK5rJQTXEAAaJdK.png\n",
      "http://98.98.117.121:8082/api/media/photo/download/twitter/GK5ps5LbMAI-iTa.jpg\n",
      "http://98.98.117.121:8082/api/media/photo/download/twitter/GK5pB_tW0AEIWqE.jpg\n",
      "http://98.98.117.121:8082/api/media/photo/download/twitter/GK5narabMAIoDpK.jpg\n",
      "http://98.98.117.121:8082/api/media/photo/download/twitter/GK5m73vbMAEuqLv.jpg\n",
      "http://98.98.117.121:8082/api/media/photo/download/twitter/GK5kffXaQAAjiiI.jpg\n",
      "http://98.98.117.121:8082/api/media/photo/download/twitter/GK5g-9BWoAACKtX.jpg\n",
      "http://98.98.117.121:8082/api/media/photo/download/twitter/GK5haozbMAEQkFM.png\n"
     ]
    },
    {
     "name": "stdout",
     "output_type": "stream",
     "text": [
      "http://98.98.117.121:8082/api/media/photo/download/twitter/GK5gHkLXoAAZuWN.png\n",
      "http://98.98.117.121:8082/api/media/photo/download/twitter/GK5f2YaWwAAjLQH.jpg\n",
      "http://98.98.117.121:8082/api/media/photo/download/twitter/GK5fjSVXEAADz3k.jpg\n",
      "http://98.98.117.121:8082/api/media/photo/download/twitter/GK5fryPWUAAy4ga.jpg\n",
      "http://98.98.117.121:8082/api/media/photo/download/twitter/GK5XAwHaoAAlUYN.jpg\n",
      "http://98.98.117.121:8082/api/media/photo/download/twitter/GK5ZOahacAAG_b_.jpg\n",
      "http://98.98.117.121:8082/api/media/photo/download/twitter/GK5YvQBXwAc0C5W.jpg\n",
      "http://98.98.117.121:8082/api/media/photo/download/twitter/GK5YGNXXwAMn3Jt.png\n",
      "http://98.98.117.121:8082/api/media/photo/download/twitter/GK5WLiuWsAEgdUR.jpg\n",
      "http://98.98.117.121:8082/api/media/photo/download/twitter/GK5W37nbMAAAiXc.jpg\n",
      "http://98.98.117.121:8082/api/media/photo/download/twitter/GK5Wh2EXoAAtmon.png\n",
      "http://98.98.117.121:8082/api/media/photo/download/twitter/GK5VteAXcAEQGCr.png\n",
      "http://98.98.117.121:8082/api/media/photo/download/twitter/GK42IQHW8AAe10p.jpg\n",
      "http://98.98.117.121:8082/api/media/photo/download/twitter/GK5U4niakAE10Vt.jpg\n",
      "http://98.98.117.121:8082/api/media/photo/download/twitter/GK5TYCMa4AA10Io.jpg\n",
      "http://98.98.117.121:8082/api/media/photo/download/twitter/GK5TVmIbIAACDY4.jpg\n",
      "http://98.98.117.121:8082/api/media/photo/download/twitter/GK5TTU4bcAAMc_H.jpg\n",
      "http://98.98.117.121:8082/api/media/photo/download/twitter/GK4_u0VW4AE4XmH.png\n",
      "http://98.98.117.121:8082/api/media/photo/download/twitter/GK4PDbqXMAAuaLO.jpg\n",
      "http://98.98.117.121:8082/api/media/photo/download/twitter/GK5Qe6IWwAArjpO.jpg\n",
      "http://98.98.117.121:8082/api/media/photo/download/twitter/GK5P_WWbYAEpshP.jpg\n",
      "http://98.98.117.121:8082/api/media/photo/download/twitter/GK5PNmdWQAAG1I6.jpg\n",
      "http://98.98.117.121:8082/api/media/photo/download/twitter/GK5PQQLXoAAVY78.jpg\n",
      "http://98.98.117.121:8082/api/media/photo/download/twitter/GK5PS1FbMAEv_VD.jpg\n",
      "http://98.98.117.121:8082/api/media/photo/download/twitter/GK5O2_IXkAAJZVg.jpg\n",
      "http://98.98.117.121:8082/api/media/photo/download/twitter/GK5OwojXgAASqfR.jpg\n",
      "http://98.98.117.121:8082/api/media/photo/download/twitter/GK5OldiWIAIl4Y7.jpg\n",
      "http://98.98.117.121:8082/api/media/photo/download/twitter/GK5ONcla0AAmfSB.jpg\n",
      "http://98.98.117.121:8082/api/media/photo/download/twitter/GK5N77aXMAAb3Ya.jpg\n",
      "http://98.98.117.121:8082/api/media/photo/download/twitter/GK5Nk-jb0AAVZEJ.jpg\n",
      "http://98.98.117.121:8082/api/media/photo/download/twitter/GK5MxUFXsAAC-Jk.jpg\n",
      "http://98.98.117.121:8082/api/media/photo/download/twitter/GK5MFSfXsAAaCVT.png\n",
      "http://98.98.117.121:8082/api/media/photo/download/twitter/GK5LQdwXcAA-b08.png\n",
      "http://98.98.117.121:8082/api/media/photo/download/twitter/GK5KmYFaoAA3mlj.jpg\n",
      "http://98.98.117.121:8082/api/media/photo/download/twitter/GK5Ji1iWQAAi3WS.jpg\n",
      "http://98.98.117.121:8082/api/media/photo/download/twitter/GK5ILYrbkAAlVR4.png\n",
      "http://98.98.117.121:8082/api/media/photo/download/twitter/GK5Fg16XUAEsz1-.jpg\n",
      "http://98.98.117.121:8082/api/media/photo/download/twitter/GK5IFBQb0AABEGh.jpg\n",
      "http://98.98.117.121:8082/api/media/photo/download/twitter/GK5Gl94W4AEWqs4.jpg\n",
      "http://98.98.117.121:8082/api/media/photo/download/twitter/GK5FERFWMAAZs55.png\n",
      "http://98.98.117.121:8082/api/media/photo/download/twitter/GK5CyFJbkAA35XM.jpg\n",
      "http://98.98.117.121:8082/api/media/photo/download/twitter/GK5A_1vWYAApEZc.jpg\n",
      "http://98.98.117.121:8082/api/media/photo/download/twitter/GK5A8J_WMAA3oHS.jpg\n",
      "http://98.98.117.121:8082/api/media/photo/download/twitter/GK5A1n8aMAAFr4L.jpg\n",
      "http://98.98.117.121:8082/api/media/photo/download/twitter/GK5ApbHaUAAo1RE.jpg\n",
      "http://98.98.117.121:8082/api/media/photo/download/twitter/GK4_tvTW0AAVq8v.jpg\n",
      "http://98.98.117.121:8082/api/media/photo/download/twitter/GK4--mMW4AAPqcI.jpg\n",
      "http://98.98.117.121:8082/api/media/photo/download/twitter/GK4_Bd6XAAAdOfE.png\n",
      "http://98.98.117.121:8082/api/media/photo/download/twitter/GK42PFWXcAAxBCX.jpg\n",
      "http://98.98.117.121:8082/api/media/photo/download/twitter/GK4-YzXWAAAwS12.jpg\n",
      "http://98.98.117.121:8082/api/media/photo/download/twitter/GK49iSBa8AAjcRX.jpg\n"
     ]
    },
    {
     "name": "stdout",
     "output_type": "stream",
     "text": [
      "http://98.98.117.121:8082/api/media/photo/download/twitter/GK49AyGWkAAOu9u.jpg\n",
      "http://98.98.117.121:8082/api/media/photo/download/twitter/GK47VSmWgAAdjb7.jpg\n",
      "http://98.98.117.121:8082/api/media/photo/download/twitter/GK473inWkAAeyF8.jpg\n",
      "http://98.98.117.121:8082/api/media/photo/download/twitter/GK417jTaMAAYYgF.jpg\n",
      "http://98.98.117.121:8082/api/media/photo/download/twitter/GK462fXWAAAqkiX.jpg\n",
      "http://98.98.117.121:8082/api/media/photo/download/twitter/GK45DWNboAEpdID.jpg\n",
      "http://98.98.117.121:8082/api/media/photo/download/twitter/GK44mDAbEAE13qY.jpg\n",
      "http://98.98.117.121:8082/api/media/photo/download/twitter/GK4nEGAbUAAbyAJ.jpg\n",
      "http://98.98.117.121:8082/api/media/photo/download/twitter/GK44NEsXMAASLZn.jpg\n",
      "http://98.98.117.121:8082/api/media/photo/download/twitter/GK43WvQaIAATNct.jpg\n",
      "http://98.98.117.121:8082/api/media/photo/download/twitter/GK43U_nXwAAyro4.jpg\n",
      "http://98.98.117.121:8082/api/media/photo/download/twitter/GK410QLW8AAdYO9.jpg\n",
      "http://98.98.117.121:8082/api/media/photo/download/twitter/GK41zRuW4AA4Y40.jpg\n",
      "http://98.98.117.121:8082/api/media/photo/download/twitter/GK41v56aoAAU2Rt.jpg\n",
      "http://98.98.117.121:8082/api/media/photo/download/twitter/GK41u2iasAAbl2J.jpg\n",
      "http://98.98.117.121:8082/api/media/photo/download/twitter/GK40VRCWUAENKdT.jpg\n",
      "http://98.98.117.121:8082/api/media/photo/download/twitter/GK4zG0vXAAA9END.jpg\n",
      "http://98.98.117.121:8082/api/media/photo/download/twitter/GK4xgYKbkAAmyeG.jpg\n",
      "http://98.98.117.121:8082/api/media/photo/download/twitter/GK4xZQ4XIAAwR-l.jpg\n",
      "http://98.98.117.121:8082/api/media/photo/download/twitter/GK4xLzqbIAAXOvM.jpg\n",
      "http://98.98.117.121:8082/api/media/photo/download/twitter/GK4wWxiW8AEqHBa.jpg\n",
      "http://98.98.117.121:8082/api/media/photo/download/twitter/GK4wILtW4AAC8bK.jpg\n",
      "http://98.98.117.121:8082/api/media/photo/download/twitter/GK4tmjMXsAE6brR.jpg\n",
      "http://98.98.117.121:8082/api/media/photo/download/twitter/GK4tYN1X0AAZaJD.jpg\n",
      "http://98.98.117.121:8082/api/media/photo/download/twitter/GK4tC_6W4AAKjo_.jpg\n",
      "http://98.98.117.121:8082/api/media/photo/download/twitter/GK4srh9X0AE4Z7D.jpg\n",
      "http://98.98.117.121:8082/api/media/photo/download/twitter/GK4srxyakAABECe.jpg\n",
      "http://98.98.117.121:8082/api/media/photo/download/twitter/GK4sTyyXYAEC6qw.jpg\n",
      "http://98.98.117.121:8082/api/media/photo/download/twitter/GK4kqdAX0AAil5q.jpg\n",
      "http://98.98.117.121:8082/api/media/photo/download/twitter/GK4sACGa8AAnR19.jpg\n",
      "http://98.98.117.121:8082/api/media/photo/download/twitter/GK4qzXIWwAA0RyA.jpg\n",
      "http://98.98.117.121:8082/api/media/photo/download/twitter/GK4pItIX0AECG66.jpg\n",
      "http://98.98.117.121:8082/api/media/photo/download/twitter/GK4pxwfagAAfwJR.jpg\n",
      "http://98.98.117.121:8082/api/media/photo/download/twitter/GK4o_mbXYAEzS8_.jpg\n",
      "http://98.98.117.121:8082/api/media/photo/download/twitter/GK4WzsEasAAHusq.jpg\n",
      "http://98.98.117.121:8082/api/media/photo/download/twitter/GJq4oC1WsAAeqES.jpg\n",
      "http://98.98.117.121:8082/api/media/photo/download/twitter/GK4ekaKa8AAiRb8.jpg\n",
      "http://98.98.117.121:8082/api/media/photo/download/twitter/GKwQOjmWcAAWgaB.jpg\n",
      "http://98.98.117.121:8082/api/media/photo/download/twitter/GKwNuyhbIAAQuTs.jpg\n",
      "http://98.98.117.121:8082/api/media/photo/download/twitter/GKwLMoNbgAEqsXD.jpg\n",
      "http://98.98.117.121:8082/api/media/photo/download/twitter/GKwFiKOWsAAikPb.jpg\n",
      "http://98.98.117.121:8082/api/media/photo/download/twitter/GKv61UcWsAEbt1i.jpg\n",
      "http://98.98.117.121:8082/api/media/photo/download/twitter/GKv5Vn3XcAAJ4gi.jpg\n",
      "http://98.98.117.121:8082/api/media/photo/download/twitter/GKv4JXCXYAEOQdA.jpg\n",
      "http://98.98.117.121:8082/api/media/photo/download/twitter/GKv21E0WMAAfxlS.png\n",
      "http://98.98.117.121:8082/api/media/photo/download/twitter/GKv2IETaAAAhl9t.jpg\n",
      "http://98.98.117.121:8082/api/media/photo/download/twitter/GKvoCKIWcAAmwbV.jpg\n",
      "http://98.98.117.121:8082/api/media/photo/download/twitter/GKvfZIuWAAAKvcu.jpg\n",
      "http://98.98.117.121:8082/api/media/photo/download/twitter/GKvfFcHWsAA9CBr.jpg\n",
      "http://98.98.117.121:8082/api/media/photo/download/twitter/GKvfJ14XEAAOfxW.jpg\n",
      "http://98.98.117.121:8082/api/media/photo/download/twitter/GKveyGlWkAAEnbP.jpg\n",
      "http://98.98.117.121:8082/api/media/photo/download/twitter/GKtwE8GboAAvqi4.jpg\n",
      "http://98.98.117.121:8082/api/media/photo/download/twitter/GKvPvL0bYAYRtlI.jpg\n",
      "http://98.98.117.121:8082/api/media/photo/download/twitter/GKvOGYiWsAACgqy.jpg\n"
     ]
    },
    {
     "name": "stdout",
     "output_type": "stream",
     "text": [
      "http://98.98.117.121:8082/api/media/photo/download/twitter/GKvOrQEWcAAXjWQ.jpg\n",
      "http://98.98.117.121:8082/api/media/photo/download/twitter/GKvI9NDXYAQ0Gfo.jpg\n",
      "http://98.98.117.121:8082/api/media/photo/download/twitter/GKvF-1xWsAAm2N3.jpg\n",
      "http://98.98.117.121:8082/api/media/photo/download/twitter/GKvCD9EXMAAw0SX.jpg\n",
      "http://98.98.117.121:8082/api/media/photo/download/twitter/GKu7qF6W8AACa1q.jpg\n",
      "http://98.98.117.121:8082/api/media/photo/download/twitter/GKu9jznXMAARrKa.jpg\n",
      "http://98.98.117.121:8082/api/media/photo/download/twitter/GKu7mR3WkAAr0Cl.jpg\n",
      "http://98.98.117.121:8082/api/media/photo/download/twitter/GKu2NErWgAEyTed.jpg\n",
      "http://98.98.117.121:8082/api/media/photo/download/twitter/GKu2O2fWYAArM0O.jpg\n",
      "http://98.98.117.121:8082/api/media/photo/download/twitter/GKu2CIKWYAAdiDe.jpg\n",
      "http://98.98.117.121:8082/api/media/photo/download/twitter/GKuzrqKXkAAHKVi.png\n",
      "http://98.98.117.121:8082/api/media/photo/download/twitter/GKuzwidWkAAP8Ik.jpg\n",
      "http://98.98.117.121:8082/api/media/photo/download/twitter/GKuwU4dWkAEZd2h.jpg\n",
      "http://98.98.117.121:8082/api/media/photo/download/twitter/GKuueVbXkAAPf-G.jpg\n",
      "http://98.98.117.121:8082/api/media/photo/download/twitter/GKut1NsXwAApWPd.jpg\n",
      "http://98.98.117.121:8082/api/media/photo/download/twitter/GKutx5qXEAA0mhZ.jpg\n",
      "http://98.98.117.121:8082/api/media/photo/download/twitter/GKur153WsAAJj5S.jpg\n",
      "http://98.98.117.121:8082/api/media/photo/download/twitter/GKuqLnkWcAAH3LR.jpg\n",
      "http://98.98.117.121:8082/api/media/photo/download/twitter/GKuqV2aWkAAp88w.jpg\n",
      "http://98.98.117.121:8082/api/media/photo/download/twitter/GKun0eLWsAA5Bxu.jpg\n",
      "http://98.98.117.121:8082/api/media/photo/download/twitter/GKPt8TnWsAARX6J.jpg\n",
      "http://98.98.117.121:8082/api/media/photo/download/twitter/GKum5DfXgAAaiwT.jpg\n",
      "http://98.98.117.121:8082/api/media/photo/download/twitter/GKukNnvWQAABWux.jpg\n",
      "http://98.98.117.121:8082/api/media/photo/download/twitter/GKukMNLaMAASv8y.jpg\n",
      "http://98.98.117.121:8082/api/media/photo/download/twitter/GKo359MW0AAF4uT.jpg\n",
      "http://98.98.117.121:8082/api/media/photo/download/twitter/GKuhLl_bUAIKJlM.jpg\n",
      "http://98.98.117.121:8082/api/media/photo/download/twitter/GKugv6WXsAAOhpK.png\n",
      "http://98.98.117.121:8082/api/media/photo/download/twitter/GKuegx6XwAA_yao.jpg\n",
      "http://98.98.117.121:8082/api/media/photo/download/twitter/GKufWzrXoAAK_bP.jpg\n",
      "http://98.98.117.121:8082/api/media/photo/download/twitter/GKuLZ72a4AAzAx5.jpg\n",
      "http://98.98.117.121:8082/api/media/photo/download/twitter/GKud5nFa8AAnsSq.jpg\n",
      "http://98.98.117.121:8082/api/media/photo/download/twitter/GKuZfKnbYAAa8Ku.jpg\n",
      "http://98.98.117.121:8082/api/media/photo/download/twitter/GKtk5W6XsAAx8Pc.jpg\n",
      "http://98.98.117.121:8082/api/media/photo/download/twitter/GKubD0VXEAAvOU_.png\n",
      "http://98.98.117.121:8082/api/media/photo/download/twitter/GKZY_PHWYAARP_8.jpg\n",
      "http://98.98.117.121:8082/api/media/photo/download/twitter/GKuZGhQawAA0IQM.jpg\n",
      "http://98.98.117.121:8082/api/media/photo/download/twitter/GKuYtEBXsAAp1dq.jpg\n",
      "http://98.98.117.121:8082/api/media/photo/download/twitter/GKuVSMmWQAArbtr.jpg\n",
      "http://98.98.117.121:8082/api/media/photo/download/twitter/GKuWn1bWQAEtS34.jpg\n",
      "http://98.98.117.121:8082/api/media/photo/download/twitter/GKuWXbSWkAAGopN.jpg\n",
      "http://98.98.117.121:8082/api/media/photo/download/twitter/GKuPcsqbcAAf0sU.jpg\n",
      "http://98.98.117.121:8082/api/media/photo/download/twitter/GKtxQ4vaMAAmM9c.jpg\n",
      "http://98.98.117.121:8082/api/media/photo/download/twitter/GKt5MRub0AAqYb2.jpg\n",
      "http://98.98.117.121:8082/api/media/photo/download/twitter/GKuLcoWXoAA3hJQ.jpg\n",
      "http://98.98.117.121:8082/api/media/photo/download/twitter/GKuLbShbEAACkcT.jpg\n",
      "http://98.98.117.121:8082/api/media/photo/download/twitter/GKuJdnraIAE9fM8.jpg\n",
      "http://98.98.117.121:8082/api/media/photo/download/twitter/GKuHhw4WUAAUs2u.png\n",
      "http://98.98.117.121:8082/api/media/photo/download/twitter/GKuIgCsXcAAxNVQ.jpg\n",
      "http://98.98.117.121:8082/api/media/photo/download/twitter/GKuG2VoXEAAk5MP.jpg\n",
      "http://98.98.117.121:8082/api/media/photo/download/twitter/GKuGqBfXMAAtJiE.jpg\n",
      "http://98.98.117.121:8082/api/media/photo/download/twitter/GKuFdLeWQAATds0.jpg\n",
      "http://98.98.117.121:8082/api/media/photo/download/twitter/GKuFDM2XwAAFse8.png\n",
      "http://98.98.117.121:8082/api/media/photo/download/twitter/GKt8k7cWAAEq_ca.jpg\n",
      "http://98.98.117.121:8082/api/media/photo/download/twitter/GKphewiW0AAUGQz.jpg\n",
      "http://98.98.117.121:8082/api/media/photo/download/twitter/GKt6e6nXUAEvGRC.jpg\n",
      "http://98.98.117.121:8082/api/media/photo/download/twitter/GKt6JFvbYAAoK-z.jpg\n"
     ]
    },
    {
     "name": "stdout",
     "output_type": "stream",
     "text": [
      "http://98.98.117.121:8082/api/media/photo/download/twitter/GKt5QpkWAAArTuo.jpg\n",
      "http://98.98.117.121:8082/api/media/photo/download/twitter/GKt0hlSb0AAqqFJ.jpg\n",
      "http://98.98.117.121:8082/api/media/photo/download/twitter/GKtzF1EWgAAWGxD.jpg\n",
      "http://98.98.117.121:8082/api/media/photo/download/twitter/GKtslbhXMAAlrpt.jpg\n",
      "http://98.98.117.121:8082/api/media/photo/download/twitter/GKtv0kXWUAEehID.jpg\n",
      "http://98.98.117.121:8082/api/media/photo/download/twitter/GKttsRcWwAE7xMd.jpg\n",
      "http://98.98.117.121:8082/api/media/photo/download/twitter/GKttoqvXIAAI_4e.png\n",
      "http://98.98.117.121:8082/api/media/photo/download/twitter/GKtr7hfWQAAJ_tz.jpg\n",
      "http://98.98.117.121:8082/api/media/photo/download/twitter/GKttXSmXMAEtoL_.jpg\n",
      "http://98.98.117.121:8082/api/media/photo/download/twitter/GKttGYxWUAAx4i2.jpg\n",
      "http://98.98.117.121:8082/api/media/photo/download/twitter/GKtsvu3XYAAulxg.jpg\n",
      "http://98.98.117.121:8082/api/media/photo/download/twitter/GKtszlFXwAAuI0L.png\n",
      "http://98.98.117.121:8082/api/media/photo/download/twitter/GKtqwgLbwAAoxK9.png\n",
      "http://98.98.117.121:8082/api/media/photo/download/twitter/GKto-D2WMAANLN0.jpg\n",
      "http://98.98.117.121:8082/api/media/photo/download/twitter/GKtqQjYW4AEszaY.png\n",
      "http://98.98.117.121:8082/api/media/photo/download/twitter/GKtpW2DWMAA8Y4X.jpg\n",
      "http://98.98.117.121:8082/api/media/photo/download/twitter/GKtngsrWAAALyC-.jpg\n",
      "http://98.98.117.121:8082/api/media/photo/download/twitter/GKtoLoaWkAApgvQ.png\n",
      "http://98.98.117.121:8082/api/media/photo/download/twitter/GKtk7JLWEAAFDO2.jpg\n",
      "http://98.98.117.121:8082/api/media/photo/download/twitter/GKtjbF3XgAAA_gH.jpg\n",
      "http://98.98.117.121:8082/api/media/photo/download/twitter/GKtjUnqbYAAMoz2.jpg\n",
      "http://98.98.117.121:8082/api/media/photo/download/twitter/GKtbCEPXsAAqJSt.jpg\n",
      "http://98.98.117.121:8082/api/media/photo/download/twitter/GKtiTWoWcAAfJ2t.jpg\n",
      "http://98.98.117.121:8082/api/media/photo/download/twitter/GKtiTA8XsAAPNx-.jpg\n",
      "http://98.98.117.121:8082/api/media/photo/download/twitter/GKtiQxPWYAEa7Fl.jpg\n",
      "http://98.98.117.121:8082/api/media/photo/download/twitter/GKny59FWoAADcxB.jpg\n",
      "http://98.98.117.121:8082/api/media/photo/download/twitter/GKtgQMbXwAAH-yy.png\n",
      "http://98.98.117.121:8082/api/media/photo/download/twitter/GKtgOdnXgAAbnjJ.jpg\n",
      "http://98.98.117.121:8082/api/media/photo/download/twitter/GKtengeXAAAeA1J.jpg\n",
      "http://98.98.117.121:8082/api/media/photo/download/twitter/GKtd-XIXwAAq94L.jpg\n",
      "http://98.98.117.121:8082/api/media/photo/download/twitter/GKtdNI3XcAA-exn.jpg\n",
      "http://98.98.117.121:8082/api/media/photo/download/twitter/GKtcy7jWgAAvkG7.jpg\n",
      "http://98.98.117.121:8082/api/media/photo/download/twitter/GKtcLZwWIAAhQb4.jpg\n",
      "http://98.98.117.121:8082/api/media/photo/download/twitter/GKtbzHYWYAAxtRk.jpg\n",
      "http://98.98.117.121:8082/api/media/photo/download/twitter/GKtbhYlXoAA78MG.jpg\n",
      "http://98.98.117.121:8082/api/media/photo/download/twitter/GKtanrBWQAA7UOw.jpg\n",
      "http://98.98.117.121:8082/api/media/photo/download/twitter/GKtaQysWsAARiGV.jpg\n",
      "http://98.98.117.121:8082/api/media/photo/download/twitter/GKtZoTwXUAAOUzx.png\n",
      "http://98.98.117.121:8082/api/media/photo/download/twitter/GKtZc89bgAA2upe.jpg\n",
      "http://98.98.117.121:8082/api/media/photo/download/twitter/GKtZM6JaYAAD5aI.jpg\n",
      "http://98.98.117.121:8082/api/media/photo/download/twitter/GKtZKnBWoAEqUN7.jpg\n",
      "http://98.98.117.121:8082/api/media/photo/download/twitter/GKtVzuwXkAA8jmI.jpg\n",
      "http://98.98.117.121:8082/api/media/photo/download/twitter/GKtWHuYXEAEa60y.jpg\n",
      "http://98.98.117.121:8082/api/media/photo/download/twitter/GKtVvGfW0AASXKI.jpg\n",
      "http://98.98.117.121:8082/api/media/photo/download/twitter/GKtVkGWXkAAF5wj.png\n",
      "http://98.98.117.121:8082/api/media/photo/download/twitter/GKtTf8pWEAAxZLD.jpg\n",
      "http://98.98.117.121:8082/api/media/photo/download/twitter/GKtSYJWXgAAUKJA.jpg\n",
      "http://98.98.117.121:8082/api/media/photo/download/twitter/GKoq1fFXoAE0JHP.jpg\n",
      "http://98.98.117.121:8082/api/media/photo/download/twitter/GKoomnSXwAAPbn2.jpg\n",
      "http://98.98.117.121:8082/api/media/photo/download/twitter/GKofG8dXEAAwWiD.png\n",
      "http://98.98.117.121:8082/api/media/photo/download/twitter/GKomaCXXwAAm4Dm.png\n",
      "http://98.98.117.121:8082/api/media/photo/download/twitter/GKolr1YWsAAV_0R.jpg\n",
      "http://98.98.117.121:8082/api/media/photo/download/twitter/GKoly02X0AIwJhx.jpg\n"
     ]
    },
    {
     "name": "stdout",
     "output_type": "stream",
     "text": [
      "http://98.98.117.121:8082/api/media/photo/download/twitter/GKobZv8WAAE0hU-.png\n",
      "http://98.98.117.121:8082/api/media/photo/download/twitter/GKoheX8X0AIZh4d.jpg\n",
      "http://98.98.117.121:8082/api/media/photo/download/twitter/GKoc5XbXoAEcrm8.jpg\n",
      "http://98.98.117.121:8082/api/media/photo/download/twitter/GKocW1YXAAAOHjM.jpg\n",
      "http://98.98.117.121:8082/api/media/photo/download/twitter/GKobBKGWAAABY-T.png\n",
      "http://98.98.117.121:8082/api/media/photo/download/twitter/GKl1kNoXEAAJIXr.png\n",
      "http://98.98.117.121:8082/api/media/photo/download/twitter/GKoY01_XEAAu-Q-.jpg\n",
      "http://98.98.117.121:8082/api/media/photo/download/twitter/GKZyStmW4AAXU_S.jpg\n",
      "http://98.98.117.121:8082/api/media/photo/download/twitter/GKoX36NWEAAsycx.png\n",
      "http://98.98.117.121:8082/api/media/photo/download/twitter/GKmm6iia8AArrXm.jpg\n",
      "http://98.98.117.121:8082/api/media/photo/download/twitter/GKoSAb-WQAADRVS.jpg\n",
      "http://98.98.117.121:8082/api/media/photo/download/twitter/GKoSiVkWEAAoQ1A.jpg\n",
      "http://98.98.117.121:8082/api/media/photo/download/twitter/GKoKkRWWkAAbSev.png\n",
      "http://98.98.117.121:8082/api/media/photo/download/twitter/GKoHdgfXEAANdaI.jpg\n",
      "http://98.98.117.121:8082/api/media/photo/download/twitter/GKoEDlEW0AAwRVZ.jpg\n",
      "http://98.98.117.121:8082/api/media/photo/download/twitter/GKoDN7tWQAAUWzJ.jpg\n",
      "http://98.98.117.121:8082/api/media/photo/download/twitter/GKn9QgJWIAAwRaX.jpg\n",
      "http://98.98.117.121:8082/api/media/photo/download/twitter/GKn9NrqXIAANH4x.jpg\n",
      "http://98.98.117.121:8082/api/media/photo/download/twitter/GKn3_qlW0AA0kIU.jpg\n",
      "http://98.98.117.121:8082/api/media/photo/download/twitter/GKn26JLbEAABLrq.jpg\n",
      "http://98.98.117.121:8082/api/media/photo/download/twitter/GKn0ef3WUAAYO3V.jpg\n",
      "http://98.98.117.121:8082/api/media/photo/download/twitter/GKnzJIWaQAATGIN.jpg\n",
      "http://98.98.117.121:8082/api/media/photo/download/twitter/GKnxodeWUAEqdBW.jpg\n",
      "http://98.98.117.121:8082/api/media/photo/download/twitter/GKnv0aeXcAABjmY.jpg\n",
      "http://98.98.117.121:8082/api/media/photo/download/twitter/GKnu8WTa4AEKEjG.png\n",
      "http://98.98.117.121:8082/api/media/photo/download/twitter/GKnuHpYXYAAWVJ8.jpg\n",
      "http://98.98.117.121:8082/api/media/photo/download/twitter/GKnffWnXEAAmJdU.png\n",
      "http://98.98.117.121:8082/api/media/photo/download/twitter/GKnfPkZXsAA7c38.jpg\n",
      "http://98.98.117.121:8082/api/media/photo/download/twitter/GKnZeF7WAAECYBY.jpg\n",
      "http://98.98.117.121:8082/api/media/photo/download/twitter/GKnT54NaYAA2BA_.jpg\n",
      "http://98.98.117.121:8082/api/media/photo/download/twitter/GKnWZPvacAAUchL.jpg\n",
      "http://98.98.117.121:8082/api/media/photo/download/twitter/GKnR8tobAAAm2S1.jpg\n",
      "http://98.98.117.121:8082/api/media/photo/download/twitter/GKnR3C8WMAA6oey.jpg\n",
      "http://98.98.117.121:8082/api/media/photo/download/twitter/GKnLE8BWIAAw9RO.jpg\n",
      "http://98.98.117.121:8082/api/media/photo/download/twitter/GKnK1enXEAAuY1R.jpg\n",
      "http://98.98.117.121:8082/api/media/photo/download/twitter/GKnHqeHXwAA77G5.jpg\n",
      "http://98.98.117.121:8082/api/media/photo/download/twitter/GKnFP8iX0AALzr9.jpg\n",
      "http://98.98.117.121:8082/api/media/photo/download/twitter/GKnBQkOakAAmFvO.jpg\n",
      "http://98.98.117.121:8082/api/media/photo/download/twitter/GKm8MhfWoAAtx9V.jpg\n",
      "http://98.98.117.121:8082/api/media/photo/download/twitter/GKm7Kw8WAAEpUrH.jpg\n",
      "http://98.98.117.121:8082/api/media/photo/download/twitter/GKm4rAqWQAAkuiz.jpg\n",
      "http://98.98.117.121:8082/api/media/photo/download/twitter/GKitkwyawAAU3SQ.jpg\n",
      "http://98.98.117.121:8082/api/media/photo/download/twitter/GKmxggqbEAAU5Rc.png\n",
      "http://98.98.117.121:8082/api/media/photo/download/twitter/GKkqp6oa4AAyxF3.jpg\n",
      "http://98.98.117.121:8082/api/media/photo/download/twitter/GKmwVr3XMAExj1h.jpg\n",
      "http://98.98.117.121:8082/api/media/photo/download/twitter/GKmwR4ZboAAo5wj.png\n",
      "http://98.98.117.121:8082/api/media/photo/download/twitter/GKmwO1QbYAAwEPt.jpg\n",
      "http://98.98.117.121:8082/api/media/photo/download/twitter/GKmjXvgWMAA58nF.jpg\n",
      "http://98.98.117.121:8082/api/media/photo/download/twitter/GKmPQV1W0AADYvB.jpg\n",
      "http://98.98.117.121:8082/api/media/photo/download/twitter/GKmIuyYakAAxJ34.jpg\n",
      "http://98.98.117.121:8082/api/media/photo/download/twitter/GKmEPcoaYAAFkvE.jpg\n",
      "http://98.98.117.121:8082/api/media/photo/download/twitter/GKl9vEqbkAA_aRn.jpg\n",
      "http://98.98.117.121:8082/api/media/photo/download/twitter/GKl9e2PagAAlIeD.jpg\n",
      "http://98.98.117.121:8082/api/media/photo/download/twitter/GKl9GQvbYAAT46b.jpg\n"
     ]
    },
    {
     "name": "stdout",
     "output_type": "stream",
     "text": [
      "http://98.98.117.121:8082/api/media/photo/download/twitter/GKl82f0aoAAdo9z.jpg\n",
      "http://98.98.117.121:8082/api/media/photo/download/twitter/GKl2a9aW4AA6oJV.jpg\n",
      "http://98.98.117.121:8082/api/media/photo/download/twitter/GKl11A7aEAAJ0hz.png\n",
      "http://98.98.117.121:8082/api/media/photo/download/twitter/GKlyOO7XUAA27rU.jpg\n",
      "http://98.98.117.121:8082/api/media/photo/download/twitter/GKlr1oiWIAAvNK2.png\n",
      "http://98.98.117.121:8082/api/media/photo/download/twitter/GKlrH-HXsAAFUM8.png\n",
      "http://98.98.117.121:8082/api/media/photo/download/twitter/GKlljUwXUAA3ikR.jpg\n",
      "http://98.98.117.121:8082/api/media/photo/download/twitter/GKlgS9nXkAErTCA.jpg\n",
      "http://98.98.117.121:8082/api/media/photo/download/twitter/GKliBklXEAAAYbN.jpg\n",
      "http://98.98.117.121:8082/api/media/photo/download/twitter/GKlaCgpbkAA2AqQ.jpg\n",
      "http://98.98.117.121:8082/api/media/photo/download/twitter/GKlTx-aXUAAo01T.jpg\n",
      "http://98.98.117.121:8082/api/media/photo/download/twitter/GKlSBsvXkAAK_Um.jpg\n",
      "http://98.98.117.121:8082/api/media/photo/download/twitter/GKlPixdaEAA6PZy.png\n",
      "http://98.98.117.121:8082/api/media/photo/download/twitter/GKlHqCSWQAANVS1.png\n",
      "http://98.98.117.121:8082/api/media/photo/download/twitter/GKlKutMXIAALT_c.png\n",
      "http://98.98.117.121:8082/api/media/photo/download/twitter/GKlIW36WMAA0abd.png\n",
      "http://98.98.117.121:8082/api/media/photo/download/twitter/GKlGQDQWcAE4FNm.jpg\n",
      "http://98.98.117.121:8082/api/media/photo/download/twitter/GKk821qW8AAcoIn.png\n",
      "http://98.98.117.121:8082/api/media/photo/download/twitter/GKlApaXXEAAYyu1.jpg\n",
      "http://98.98.117.121:8082/api/media/photo/download/twitter/GKkzxfEWoAAwlrs.jpg\n",
      "http://98.98.117.121:8082/api/media/photo/download/twitter/GKkwEZEWsAABkn1.png\n",
      "http://98.98.117.121:8082/api/media/photo/download/twitter/GKkhgJLW8AEwW1c.jpg\n",
      "http://98.98.117.121:8082/api/media/photo/download/twitter/GKkWM6qXYAA5rAc.png\n",
      "http://98.98.117.121:8082/api/media/photo/download/twitter/GKkfDMOW8AAv1nK.jpg\n",
      "http://98.98.117.121:8082/api/media/photo/download/twitter/GKkdY8rbYAA2bO6.jpg\n",
      "http://98.98.117.121:8082/api/media/photo/download/twitter/GKkTvbEX0AAOB6f.jpg\n",
      "http://98.98.117.121:8082/api/media/photo/download/twitter/GKj31suXQAA6job.jpg\n",
      "http://98.98.117.121:8082/api/media/photo/download/twitter/GKkFG2ubQAAbIXq.jpg\n",
      "http://98.98.117.121:8082/api/media/photo/download/twitter/GKb8p8lWUAAzS2Y.png\n",
      "http://98.98.117.121:8082/api/media/photo/download/twitter/GKj6PwKa4AA4C2a.png\n",
      "http://98.98.117.121:8082/api/media/photo/download/twitter/GKj6JZ2aMAAeRKV.png\n",
      "http://98.98.117.121:8082/api/media/photo/download/twitter/GKj6AhHasAEDQlR.png\n",
      "http://98.98.117.121:8082/api/media/photo/download/twitter/GKj5v72WMAAd-oc.jpg\n",
      "http://98.98.117.121:8082/api/media/photo/download/twitter/GKj2mLkWwAMiquN.jpg\n",
      "http://98.98.117.121:8082/api/media/photo/download/twitter/GKj2Oi_WAAAkdHe.jpg\n",
      "http://98.98.117.121:8082/api/media/photo/download/twitter/GKj14MfWAAAlj6x.jpg\n",
      "http://98.98.117.121:8082/api/media/photo/download/twitter/GKj0ihnXIAAp9Wb.jpg\n",
      "http://98.98.117.121:8082/api/media/photo/download/twitter/GKjz0IiXkAASxs7.jpg\n",
      "http://98.98.117.121:8082/api/media/photo/download/twitter/GKjzhoaWAAAGfCg.jpg\n",
      "http://98.98.117.121:8082/api/media/photo/download/twitter/GKjq3kJWwAAXLSm.jpg\n",
      "http://98.98.117.121:8082/api/media/photo/download/twitter/GKjrzsSaEAEsTKv.jpg\n",
      "http://98.98.117.121:8082/api/media/photo/download/twitter/GKjqmvGWUAENff_.jpg\n",
      "http://98.98.117.121:8082/api/media/photo/download/twitter/GKazuY3W4AEQGb9.png\n",
      "http://98.98.117.121:8082/api/media/photo/download/twitter/GKjpJr8bEAEGkjV.jpg\n",
      "http://98.98.117.121:8082/api/media/photo/download/twitter/GKjmQFQWUAA1NvW.jpg\n",
      "http://98.98.117.121:8082/api/media/photo/download/twitter/GKjksjWbMAAnAkq.png\n",
      "http://98.98.117.121:8082/api/media/photo/download/twitter/GKjjqtmWwAAua5S.jpg\n",
      "http://98.98.117.121:8082/api/media/photo/download/twitter/GKji8B5WcAA6SdN.jpg\n",
      "http://98.98.117.121:8082/api/media/photo/download/twitter/GKjO6asXgAAAJjW.jpg\n",
      "http://98.98.117.121:8082/api/media/photo/download/twitter/GKjSs2rbEAAyGiN.png\n",
      "http://98.98.117.121:8082/api/media/photo/download/twitter/GKjSQZtbQAAR7k5.png\n",
      "http://98.98.117.121:8082/api/media/photo/download/twitter/GKjR707asAAz9mv.png\n",
      "http://98.98.117.121:8082/api/media/photo/download/twitter/GKjP4zIW4AAMUZ1.jpg\n"
     ]
    },
    {
     "name": "stdout",
     "output_type": "stream",
     "text": [
      "http://98.98.117.121:8082/api/media/photo/download/twitter/GKjPQ0DXoAA71uA.jpg\n",
      "http://98.98.117.121:8082/api/media/photo/download/twitter/GKjPEXSW0AEjSaN.jpg\n",
      "http://98.98.117.121:8082/api/media/photo/download/twitter/GKaxYWxXAAArE0E.jpg\n",
      "http://98.98.117.121:8082/api/media/photo/download/twitter/GKjOlZQbMAAMg8P.jpg\n",
      "http://98.98.117.121:8082/api/media/photo/download/twitter/GKjNPMBXIAAOH8x.jpg\n",
      "http://98.98.117.121:8082/api/media/photo/download/twitter/GKjBWEOWQAATymk.jpg\n",
      "http://98.98.117.121:8082/api/media/photo/download/twitter/GKh8HNdacAAgkXU.jpg\n",
      "http://98.98.117.121:8082/api/media/photo/download/twitter/GKz2d15aYAAspw3.jpg\n",
      "http://98.98.117.121:8082/api/media/photo/download/twitter/GK1SBvYbIAI-hNy.jpg\n",
      "http://98.98.117.121:8082/api/media/photo/download/twitter/GK1Sff-bIAEcKFo.jpg\n",
      "http://98.98.117.121:8082/api/media/photo/download/twitter/CJqNOyIWUAUUe0C.jpg\n",
      "http://98.98.117.121:8082/api/media/photo/download/twitter/GK0-XhNWUAAuoS6.jpg\n",
      "http://98.98.117.121:8082/api/media/photo/download/twitter/GK1BLTsWQAAvk5Y.jpg\n",
      "finished downloading 868 image set\n"
>>>>>>> ce1d860e8f986e5a64cc79d9c113b22d7c00ddef
     ]
    }
   ],
   "source": [
    "## get images from server\n",
    "# Example usage:\n",
    "query = \"\"\"\n",
    "select a.id, a.db_id, c.tweet_id, c.filename\n",
    "from ret_available_db a inner join ret_tweet b on a.db_id = b.db_id\n",
    "inner join media_files c on b.id = c.tweet_id\n",
    "where \ta.db_id = %s\n",
    "\"\"\"\n",
    "query = query % str(iJobID)\n",
    "print(query)\n",
    "\n",
    "result_df = execute_query_psql(query)\n",
    "\n",
    "## downloading image set\n",
    "img_prefix_http = \"http://98.98.117.121:8082/api/media/photo/download/twitter/\"\n",
    "folder_path = \"/home/jup_user/multipool/ai-case-study/img\"    # Replace with the desired folder path\n",
    "\n",
    "# download_image(url, folder_path)\n",
    "# clear up folder first\n",
    "clear_image()\n",
    "\n",
    "i = 0\n",
    "for index, row in result_df.iterrows():\n",
    "    # print(result_df.at[index,'filename'])\n",
    "    url = img_prefix_http + result_df.at[index,'filename']\n",
    "    print(url)\n",
    "    download_image(url, folder_path)\n",
    "    i = i +1\n",
    "\n",
    "print(\"finished downloading \" + str(i) + \" image set\" )"
   ]
  },
  {
   "cell_type": "code",
   "execution_count": 6,
   "id": "406c4e8c-9403-4fc5-b1c1-562e1f0cf97a",
   "metadata": {
    "collapsed": true,
    "editable": true,
    "execution": {
<<<<<<< HEAD
     "iopub.execute_input": "2024-05-23T17:16:14.254694Z",
     "iopub.status.busy": "2024-05-23T17:16:14.254290Z",
     "iopub.status.idle": "2024-05-23T17:17:20.696957Z",
     "shell.execute_reply": "2024-05-23T17:17:20.695448Z"
=======
     "iopub.execute_input": "2024-04-13T17:45:11.588656Z",
     "iopub.status.busy": "2024-04-13T17:45:11.588324Z",
     "iopub.status.idle": "2024-04-13T17:48:30.796835Z",
     "shell.execute_reply": "2024-04-13T17:48:30.794068Z"
>>>>>>> ce1d860e8f986e5a64cc79d9c113b22d7c00ddef
    },
    "jupyter": {
     "outputs_hidden": true
    },
    "slideshow": {
     "slide_type": ""
    },
    "tags": []
   },
<<<<<<< HEAD
   "outputs": [
    {
     "name": "stdout",
     "output_type": "stream",
     "text": [
      "\r",
      "1/1 [==============================] - ETA: 0s"
     ]
    },
    {
     "name": "stdout",
     "output_type": "stream",
     "text": [
      "\b\b\b\b\b\b\b\b\b\b\b\b\b\b\b\b\b\b\b\b\b\b\b\b\b\b\b\b\b\b\b\b\b\b\b\b\b\b\b\b\b\b\b\b\b\b\r",
      "1/1 [==============================] - 1s 654ms/step\n"
     ]
    },
    {
     "name": "stdout",
     "output_type": "stream",
     "text": [
      "\r",
      "1/1 [==============================] - ETA: 0s"
     ]
    },
    {
     "name": "stdout",
     "output_type": "stream",
     "text": [
      "\b\b\b\b\b\b\b\b\b\b\b\b\b\b\b\b\b\b\b\b\b\b\b\b\b\b\b\b\b\b\b\b\b\b\b\b\b\b\b\b\b\b\b\b\b\b\r",
      "1/1 [==============================] - 0s 138ms/step\n"
     ]
    },
    {
     "name": "stdout",
     "output_type": "stream",
     "text": [
      "\r",
      "1/1 [==============================] - ETA: 0s"
     ]
    },
    {
     "name": "stdout",
     "output_type": "stream",
     "text": [
      "\b\b\b\b\b\b\b\b\b\b\b\b\b\b\b\b\b\b\b\b\b\b\b\b\b\b\b\b\b\b\b\b\b\b\b\b\b\b\b\b\b\b\b\b\b\b\r",
      "1/1 [==============================] - 0s 147ms/step\n"
     ]
    },
    {
     "name": "stdout",
     "output_type": "stream",
     "text": [
      "\r",
      "1/1 [==============================] - ETA: 0s"
     ]
    },
    {
     "name": "stdout",
     "output_type": "stream",
     "text": [
      "\b\b\b\b\b\b\b\b\b\b\b\b\b\b\b\b\b\b\b\b\b\b\b\b\b\b\b\b\b\b\b\b\b\b\b\b\b\b\b\b\b\b\b\b\b\b\r",
      "1/1 [==============================] - 0s 128ms/step\n"
     ]
    },
    {
     "name": "stdout",
     "output_type": "stream",
     "text": [
      "\r",
      "1/1 [==============================] - ETA: 0s"
     ]
    },
    {
     "name": "stdout",
     "output_type": "stream",
     "text": [
      "\b\b\b\b\b\b\b\b\b\b\b\b\b\b\b\b\b\b\b\b\b\b\b\b\b\b\b\b\b\b\b\b\b\b\b\b\b\b\b\b\b\b\b\b\b\b\r",
      "1/1 [==============================] - 0s 155ms/step\n"
     ]
    },
    {
     "name": "stdout",
     "output_type": "stream",
     "text": [
      "\r",
      "1/1 [==============================] - ETA: 0s"
     ]
    },
    {
     "name": "stdout",
     "output_type": "stream",
     "text": [
      "\b\b\b\b\b\b\b\b\b\b\b\b\b\b\b\b\b\b\b\b\b\b\b\b\b\b\b\b\b\b\b\b\b\b\b\b\b\b\b\b\b\b\b\b\b\b\r",
      "1/1 [==============================] - 0s 118ms/step\n"
     ]
    },
    {
     "name": "stdout",
     "output_type": "stream",
     "text": [
      "\r",
      "1/1 [==============================] - ETA: 0s"
     ]
    },
    {
     "name": "stdout",
     "output_type": "stream",
     "text": [
      "\b\b\b\b\b\b\b\b\b\b\b\b\b\b\b\b\b\b\b\b\b\b\b\b\b\b\b\b\b\b\b\b\b\b\b\b\b\b\b\b\b\b\b\b\b\b\r",
      "1/1 [==============================] - 0s 134ms/step\n"
     ]
    },
    {
     "name": "stdout",
     "output_type": "stream",
     "text": [
      "\r",
      "1/1 [==============================] - ETA: 0s"
     ]
    },
    {
     "name": "stdout",
     "output_type": "stream",
     "text": [
      "\b\b\b\b\b\b\b\b\b\b\b\b\b\b\b\b\b\b\b\b\b\b\b\b\b\b\b\b\b\b\b\b\b\b\b\b\b\b\b\b\b\b\b\b\b\b\r",
      "1/1 [==============================] - 0s 122ms/step\n"
     ]
    },
    {
     "name": "stdout",
     "output_type": "stream",
     "text": [
      "\r",
      "1/1 [==============================] - ETA: 0s"
     ]
    },
    {
     "name": "stdout",
     "output_type": "stream",
     "text": [
      "\b\b\b\b\b\b\b\b\b\b\b\b\b\b\b\b\b\b\b\b\b\b\b\b\b\b\b\b\b\b\b\b\b\b\b\b\b\b\b\b\b\b\b\b\b\b\r",
      "1/1 [==============================] - 0s 167ms/step\n"
     ]
    },
    {
     "name": "stderr",
     "output_type": "stream",
     "text": [
      "/home/jup_user/mlproject/jup-env/lib/python3.8/site-packages/PIL/Image.py:981: UserWarning: Palette images with Transparency expressed in bytes should be converted to RGBA images\n",
      "  warnings.warn(\n"
     ]
    },
    {
     "name": "stdout",
     "output_type": "stream",
     "text": [
      "\r",
      "1/1 [==============================] - ETA: 0s"
     ]
    },
    {
     "name": "stdout",
     "output_type": "stream",
     "text": [
      "\b\b\b\b\b\b\b\b\b\b\b\b\b\b\b\b\b\b\b\b\b\b\b\b\b\b\b\b\b\b\b\b\b\b\b\b\b\b\b\b\b\b\b\b\b\b\r",
      "1/1 [==============================] - 0s 207ms/step\n"
     ]
    },
    {
     "name": "stdout",
     "output_type": "stream",
     "text": [
      "\r",
      "1/1 [==============================] - ETA: 0s"
     ]
    },
    {
     "name": "stdout",
     "output_type": "stream",
     "text": [
      "\b\b\b\b\b\b\b\b\b\b\b\b\b\b\b\b\b\b\b\b\b\b\b\b\b\b\b\b\b\b\b\b\b\b\b\b\b\b\b\b\b\b\b\b\b\b\r",
      "1/1 [==============================] - 0s 172ms/step\n"
     ]
    },
    {
     "name": "stdout",
     "output_type": "stream",
     "text": [
      "\r",
      "1/1 [==============================] - ETA: 0s"
     ]
    },
    {
     "name": "stdout",
     "output_type": "stream",
     "text": [
      "\b\b\b\b\b\b\b\b\b\b\b\b\b\b\b\b\b\b\b\b\b\b\b\b\b\b\b\b\b\b\b\b\b\b\b\b\b\b\b\b\b\b\b\b\b\b\r",
      "1/1 [==============================] - 0s 186ms/step\n"
     ]
    },
    {
     "name": "stdout",
     "output_type": "stream",
     "text": [
      "\r",
      "1/1 [==============================] - ETA: 0s"
     ]
    },
    {
     "name": "stdout",
     "output_type": "stream",
     "text": [
      "\b\b\b\b\b\b\b\b\b\b\b\b\b\b\b\b\b\b\b\b\b\b\b\b\b\b\b\b\b\b\b\b\b\b\b\b\b\b\b\b\b\b\b\b\b\b\r",
      "1/1 [==============================] - 0s 205ms/step\n"
     ]
    },
    {
     "name": "stdout",
     "output_type": "stream",
     "text": [
      "\r",
      "1/1 [==============================] - ETA: 0s"
     ]
    },
    {
     "name": "stdout",
     "output_type": "stream",
     "text": [
      "\b\b\b\b\b\b\b\b\b\b\b\b\b\b\b\b\b\b\b\b\b\b\b\b\b\b\b\b\b\b\b\b\b\b\b\b\b\b\b\b\b\b\b\b\b\b\r",
      "1/1 [==============================] - 0s 217ms/step\n"
     ]
    },
    {
     "name": "stdout",
     "output_type": "stream",
     "text": [
      "\r",
      "1/1 [==============================] - ETA: 0s"
     ]
    },
    {
     "name": "stdout",
     "output_type": "stream",
     "text": [
      "\b\b\b\b\b\b\b\b\b\b\b\b\b\b\b\b\b\b\b\b\b\b\b\b\b\b\b\b\b\b\b\b\b\b\b\b\b\b\b\b\b\b\b\b\b\b\r",
      "1/1 [==============================] - 0s 176ms/step\n"
     ]
    },
    {
     "name": "stdout",
     "output_type": "stream",
     "text": [
      "\r",
      "1/1 [==============================] - ETA: 0s"
     ]
    },
    {
     "name": "stdout",
     "output_type": "stream",
     "text": [
      "\b\b\b\b\b\b\b\b\b\b\b\b\b\b\b\b\b\b\b\b\b\b\b\b\b\b\b\b\b\b\b\b\b\b\b\b\b\b\b\b\b\b\b\b\b\b\r",
      "1/1 [==============================] - 0s 223ms/step\n"
     ]
    },
    {
     "name": "stdout",
     "output_type": "stream",
     "text": [
      "\r",
      "1/1 [==============================] - ETA: 0s"
     ]
    },
    {
     "name": "stdout",
     "output_type": "stream",
     "text": [
      "\b\b\b\b\b\b\b\b\b\b\b\b\b\b\b\b\b\b\b\b\b\b\b\b\b\b\b\b\b\b\b\b\b\b\b\b\b\b\b\b\b\b\b\b\b\b\r",
      "1/1 [==============================] - 0s 205ms/step\n"
     ]
    },
    {
     "name": "stdout",
     "output_type": "stream",
     "text": [
      "\r",
      "1/1 [==============================] - ETA: 0s"
     ]
    },
    {
     "name": "stdout",
     "output_type": "stream",
     "text": [
      "\b\b\b\b\b\b\b\b\b\b\b\b\b\b\b\b\b\b\b\b\b\b\b\b\b\b\b\b\b\b\b\b\b\b\b\b\b\b\b\b\b\b\b\b\b\b\r",
      "1/1 [==============================] - 0s 188ms/step\n"
     ]
    },
    {
     "name": "stdout",
     "output_type": "stream",
     "text": [
      "\r",
      "1/1 [==============================] - ETA: 0s"
     ]
    },
    {
     "name": "stdout",
     "output_type": "stream",
     "text": [
      "\b\b\b\b\b\b\b\b\b\b\b\b\b\b\b\b\b\b\b\b\b\b\b\b\b\b\b\b\b\b\b\b\b\b\b\b\b\b\b\b\b\b\b\b\b\b\r",
      "1/1 [==============================] - 0s 194ms/step\n"
     ]
    },
    {
     "name": "stdout",
     "output_type": "stream",
     "text": [
      "\r",
      "1/1 [==============================] - ETA: 0s"
     ]
    },
    {
     "name": "stdout",
     "output_type": "stream",
     "text": [
      "\b\b\b\b\b\b\b\b\b\b\b\b\b\b\b\b\b\b\b\b\b\b\b\b\b\b\b\b\b\b\b\b\b\b\b\b\b\b\b\b\b\b\b\b\b\b\r",
      "1/1 [==============================] - 0s 177ms/step\n"
     ]
    },
    {
     "name": "stdout",
     "output_type": "stream",
     "text": [
      "\r",
      "1/1 [==============================] - ETA: 0s"
     ]
    },
    {
     "name": "stdout",
     "output_type": "stream",
     "text": [
      "\b\b\b\b\b\b\b\b\b\b\b\b\b\b\b\b\b\b\b\b\b\b\b\b\b\b\b\b\b\b\b\b\b\b\b\b\b\b\b\b\b\b\b\b\b\b\r",
      "1/1 [==============================] - 0s 197ms/step\n"
     ]
    },
    {
     "name": "stdout",
     "output_type": "stream",
     "text": [
      "\r",
      "1/1 [==============================] - ETA: 0s"
     ]
    },
    {
     "name": "stdout",
     "output_type": "stream",
     "text": [
      "\b\b\b\b\b\b\b\b\b\b\b\b\b\b\b\b\b\b\b\b\b\b\b\b\b\b\b\b\b\b\b\b\b\b\b\b\b\b\b\b\b\b\b\b\b\b\r",
      "1/1 [==============================] - 0s 212ms/step\n"
     ]
    },
    {
     "name": "stdout",
     "output_type": "stream",
     "text": [
      "\r",
      "1/1 [==============================] - ETA: 0s"
     ]
    },
    {
     "name": "stdout",
     "output_type": "stream",
     "text": [
      "\b\b\b\b\b\b\b\b\b\b\b\b\b\b\b\b\b\b\b\b\b\b\b\b\b\b\b\b\b\b\b\b\b\b\b\b\b\b\b\b\b\b\b\b\b\b\r",
      "1/1 [==============================] - 0s 215ms/step\n"
     ]
    },
    {
     "name": "stdout",
     "output_type": "stream",
     "text": [
      "\r",
      "1/1 [==============================] - ETA: 0s"
     ]
    },
    {
     "name": "stdout",
     "output_type": "stream",
     "text": [
      "\b\b\b\b\b\b\b\b\b\b\b\b\b\b\b\b\b\b\b\b\b\b\b\b\b\b\b\b\b\b\b\b\b\b\b\b\b\b\b\b\b\b\b\b\b\b\r",
      "1/1 [==============================] - 0s 213ms/step\n"
     ]
    },
    {
     "name": "stdout",
     "output_type": "stream",
     "text": [
      "\r",
      "1/1 [==============================] - ETA: 0s"
     ]
    },
    {
     "name": "stdout",
     "output_type": "stream",
     "text": [
      "\b\b\b\b\b\b\b\b\b\b\b\b\b\b\b\b\b\b\b\b\b\b\b\b\b\b\b\b\b\b\b\b\b\b\b\b\b\b\b\b\b\b\b\b\b\b\r",
      "1/1 [==============================] - 0s 191ms/step\n"
     ]
    },
    {
     "name": "stdout",
     "output_type": "stream",
     "text": [
      "\r",
      "1/1 [==============================] - ETA: 0s"
     ]
    },
    {
     "name": "stdout",
     "output_type": "stream",
     "text": [
      "\b\b\b\b\b\b\b\b\b\b\b\b\b\b\b\b\b\b\b\b\b\b\b\b\b\b\b\b\b\b\b\b\b\b\b\b\b\b\b\b\b\b\b\b\b\b\r",
      "1/1 [==============================] - 0s 180ms/step\n"
     ]
    },
    {
     "name": "stdout",
     "output_type": "stream",
     "text": [
      "\r",
      "1/1 [==============================] - ETA: 0s"
     ]
    },
    {
     "name": "stdout",
     "output_type": "stream",
     "text": [
      "\b\b\b\b\b\b\b\b\b\b\b\b\b\b\b\b\b\b\b\b\b\b\b\b\b\b\b\b\b\b\b\b\b\b\b\b\b\b\b\b\b\b\b\b\b\b\r",
      "1/1 [==============================] - 0s 219ms/step\n"
     ]
    },
    {
     "name": "stdout",
     "output_type": "stream",
     "text": [
      "\r",
      "1/1 [==============================] - ETA: 0s"
     ]
    },
    {
     "name": "stdout",
     "output_type": "stream",
     "text": [
      "\b\b\b\b\b\b\b\b\b\b\b\b\b\b\b\b\b\b\b\b\b\b\b\b\b\b\b\b\b\b\b\b\b\b\b\b\b\b\b\b\b\b\b\b\b\b\r",
      "1/1 [==============================] - 0s 226ms/step\n"
     ]
    },
    {
     "name": "stdout",
     "output_type": "stream",
     "text": [
      "\r",
      "1/1 [==============================] - ETA: 0s"
     ]
    },
    {
     "name": "stdout",
     "output_type": "stream",
     "text": [
      "\b\b\b\b\b\b\b\b\b\b\b\b\b\b\b\b\b\b\b\b\b\b\b\b\b\b\b\b\b\b\b\b\b\b\b\b\b\b\b\b\b\b\b\b\b\b\r",
      "1/1 [==============================] - 0s 172ms/step\n"
     ]
    },
    {
     "name": "stdout",
     "output_type": "stream",
     "text": [
      "\r",
      "1/1 [==============================] - ETA: 0s"
     ]
    },
    {
     "name": "stdout",
     "output_type": "stream",
     "text": [
      "\b\b\b\b\b\b\b\b\b\b\b\b\b\b\b\b\b\b\b\b\b\b\b\b\b\b\b\b\b\b\b\b\b\b\b\b\b\b\b\b\b\b\b\b\b\b\r",
      "1/1 [==============================] - 0s 218ms/step\n"
     ]
    },
    {
     "name": "stdout",
     "output_type": "stream",
     "text": [
      "\r",
      "1/1 [==============================] - ETA: 0s"
     ]
    },
    {
     "name": "stdout",
     "output_type": "stream",
     "text": [
      "\b\b\b\b\b\b\b\b\b\b\b\b\b\b\b\b\b\b\b\b\b\b\b\b\b\b\b\b\b\b\b\b\b\b\b\b\b\b\b\b\b\b\b\b\b\b\r",
      "1/1 [==============================] - 0s 209ms/step\n"
     ]
    },
    {
     "name": "stdout",
     "output_type": "stream",
     "text": [
      "\r",
      "1/1 [==============================] - ETA: 0s"
     ]
    },
    {
     "name": "stdout",
     "output_type": "stream",
     "text": [
      "\b\b\b\b\b\b\b\b\b\b\b\b\b\b\b\b\b\b\b\b\b\b\b\b\b\b\b\b\b\b\b\b\b\b\b\b\b\b\b\b\b\b\b\b\b\b\r",
      "1/1 [==============================] - 0s 225ms/step\n"
     ]
    },
    {
     "name": "stdout",
     "output_type": "stream",
     "text": [
      "\r",
      "1/1 [==============================] - ETA: 0s"
     ]
    },
    {
     "name": "stdout",
     "output_type": "stream",
     "text": [
      "\b\b\b\b\b\b\b\b\b\b\b\b\b\b\b\b\b\b\b\b\b\b\b\b\b\b\b\b\b\b\b\b\b\b\b\b\b\b\b\b\b\b\b\b\b\b\r",
      "1/1 [==============================] - 0s 219ms/step\n"
     ]
    },
    {
     "name": "stdout",
     "output_type": "stream",
     "text": [
      "\r",
      "1/1 [==============================] - ETA: 0s"
     ]
    },
    {
     "name": "stdout",
     "output_type": "stream",
     "text": [
      "\b\b\b\b\b\b\b\b\b\b\b\b\b\b\b\b\b\b\b\b\b\b\b\b\b\b\b\b\b\b\b\b\b\b\b\b\b\b\b\b\b\b\b\b\b\b\r",
      "1/1 [==============================] - 0s 162ms/step\n"
     ]
    },
    {
     "name": "stdout",
     "output_type": "stream",
     "text": [
      "\r",
      "1/1 [==============================] - ETA: 0s"
     ]
    },
    {
     "name": "stdout",
     "output_type": "stream",
     "text": [
      "\b\b\b\b\b\b\b\b\b\b\b\b\b\b\b\b\b\b\b\b\b\b\b\b\b\b\b\b\b\b\b\b\b\b\b\b\b\b\b\b\b\b\b\b\b\b\r",
      "1/1 [==============================] - 0s 228ms/step\n"
     ]
    },
    {
     "name": "stdout",
     "output_type": "stream",
     "text": [
      "\r",
      "1/1 [==============================] - ETA: 0s"
     ]
    },
    {
     "name": "stdout",
     "output_type": "stream",
     "text": [
      "\b\b\b\b\b\b\b\b\b\b\b\b\b\b\b\b\b\b\b\b\b\b\b\b\b\b\b\b\b\b\b\b\b\b\b\b\b\b\b\b\b\b\b\b\b\b\r",
      "1/1 [==============================] - 0s 199ms/step\n"
     ]
    },
    {
     "name": "stdout",
     "output_type": "stream",
     "text": [
      "\r",
      "1/1 [==============================] - ETA: 0s"
     ]
    },
    {
     "name": "stdout",
     "output_type": "stream",
     "text": [
      "\b\b\b\b\b\b\b\b\b\b\b\b\b\b\b\b\b\b\b\b\b\b\b\b\b\b\b\b\b\b\b\b\b\b\b\b\b\b\b\b\b\b\b\b\b\b\r",
      "1/1 [==============================] - 0s 167ms/step\n"
     ]
    },
    {
     "name": "stdout",
     "output_type": "stream",
     "text": [
      "\r",
      "1/1 [==============================] - ETA: 0s"
     ]
    },
    {
     "name": "stdout",
     "output_type": "stream",
     "text": [
      "\b\b\b\b\b\b\b\b\b\b\b\b\b\b\b\b\b\b\b\b\b\b\b\b\b\b\b\b\b\b\b\b\b\b\b\b\b\b\b\b\b\b\b\b\b\b\r",
      "1/1 [==============================] - 0s 227ms/step\n"
     ]
    },
    {
     "name": "stdout",
     "output_type": "stream",
     "text": [
      "\r",
      "1/1 [==============================] - ETA: 0s"
     ]
    },
    {
     "name": "stdout",
     "output_type": "stream",
     "text": [
      "\b\b\b\b\b\b\b\b\b\b\b\b\b\b\b\b\b\b\b\b\b\b\b\b\b\b\b\b\b\b\b\b\b\b\b\b\b\b\b\b\b\b\b\b\b\b\r",
      "1/1 [==============================] - 0s 184ms/step\n"
     ]
    },
    {
     "name": "stdout",
     "output_type": "stream",
     "text": [
      "\r",
      "1/1 [==============================] - ETA: 0s"
     ]
    },
    {
     "name": "stdout",
     "output_type": "stream",
     "text": [
      "\b\b\b\b\b\b\b\b\b\b\b\b\b\b\b\b\b\b\b\b\b\b\b\b\b\b\b\b\b\b\b\b\b\b\b\b\b\b\b\b\b\b\b\b\b\b\r",
      "1/1 [==============================] - 0s 181ms/step\n"
     ]
    },
    {
     "name": "stdout",
     "output_type": "stream",
     "text": [
      "\r",
      "1/1 [==============================] - ETA: 0s"
     ]
    },
    {
     "name": "stdout",
     "output_type": "stream",
     "text": [
      "\b\b\b\b\b\b\b\b\b\b\b\b\b\b\b\b\b\b\b\b\b\b\b\b\b\b\b\b\b\b\b\b\b\b\b\b\b\b\b\b\b\b\b\b\b\b\r",
      "1/1 [==============================] - 0s 211ms/step\n"
     ]
    },
    {
     "name": "stdout",
     "output_type": "stream",
     "text": [
      "\r",
      "1/1 [==============================] - ETA: 0s"
     ]
    },
    {
     "name": "stdout",
     "output_type": "stream",
     "text": [
      "\b\b\b\b\b\b\b\b\b\b\b\b\b\b\b\b\b\b\b\b\b\b\b\b\b\b\b\b\b\b\b\b\b\b\b\b\b\b\b\b\b\b\b\b\b\b\r",
      "1/1 [==============================] - 0s 187ms/step\n"
     ]
    },
    {
     "name": "stdout",
     "output_type": "stream",
     "text": [
      "\r",
      "1/1 [==============================] - ETA: 0s"
     ]
    },
    {
     "name": "stdout",
     "output_type": "stream",
     "text": [
      "\b\b\b\b\b\b\b\b\b\b\b\b\b\b\b\b\b\b\b\b\b\b\b\b\b\b\b\b\b\b\b\b\b\b\b\b\b\b\b\b\b\b\b\b\b\b\r",
      "1/1 [==============================] - 0s 178ms/step\n"
     ]
    },
    {
     "name": "stdout",
     "output_type": "stream",
     "text": [
      "\r",
      "1/1 [==============================] - ETA: 0s"
     ]
    },
    {
     "name": "stdout",
     "output_type": "stream",
     "text": [
      "\b\b\b\b\b\b\b\b\b\b\b\b\b\b\b\b\b\b\b\b\b\b\b\b\b\b\b\b\b\b\b\b\b\b\b\b\b\b\b\b\b\b\b\b\b\b\r",
      "1/1 [==============================] - 0s 207ms/step\n"
     ]
    },
    {
     "name": "stdout",
     "output_type": "stream",
     "text": [
      "\r",
      "1/1 [==============================] - ETA: 0s"
     ]
    },
    {
     "name": "stdout",
     "output_type": "stream",
     "text": [
      "\b\b\b\b\b\b\b\b\b\b\b\b\b\b\b\b\b\b\b\b\b\b\b\b\b\b\b\b\b\b\b\b\b\b\b\b\b\b\b\b\b\b\b\b\b\b\r",
      "1/1 [==============================] - 0s 182ms/step\n"
     ]
    },
    {
     "name": "stdout",
     "output_type": "stream",
     "text": [
      "\r",
      "1/1 [==============================] - ETA: 0s"
     ]
    },
    {
     "name": "stdout",
     "output_type": "stream",
     "text": [
      "\b\b\b\b\b\b\b\b\b\b\b\b\b\b\b\b\b\b\b\b\b\b\b\b\b\b\b\b\b\b\b\b\b\b\b\b\b\b\b\b\b\b\b\b\b\b\r",
      "1/1 [==============================] - 0s 166ms/step\n"
     ]
    },
    {
     "name": "stdout",
     "output_type": "stream",
     "text": [
      "\r",
      "1/1 [==============================] - ETA: 0s"
     ]
    },
    {
     "name": "stdout",
     "output_type": "stream",
     "text": [
      "\b\b\b\b\b\b\b\b\b\b\b\b\b\b\b\b\b\b\b\b\b\b\b\b\b\b\b\b\b\b\b\b\b\b\b\b\b\b\b\b\b\b\b\b\b\b\r",
      "1/1 [==============================] - 0s 203ms/step\n"
     ]
    },
    {
     "name": "stdout",
     "output_type": "stream",
     "text": [
      "\r",
      "1/1 [==============================] - ETA: 0s"
     ]
    },
    {
     "name": "stdout",
     "output_type": "stream",
     "text": [
      "\b\b\b\b\b\b\b\b\b\b\b\b\b\b\b\b\b\b\b\b\b\b\b\b\b\b\b\b\b\b\b\b\b\b\b\b\b\b\b\b\b\b\b\b\b\b\r",
      "1/1 [==============================] - 0s 186ms/step\n"
     ]
    },
    {
     "name": "stdout",
     "output_type": "stream",
     "text": [
      "\r",
      "1/1 [==============================] - ETA: 0s"
     ]
    },
    {
     "name": "stdout",
     "output_type": "stream",
     "text": [
      "\b\b\b\b\b\b\b\b\b\b\b\b\b\b\b\b\b\b\b\b\b\b\b\b\b\b\b\b\b\b\b\b\b\b\b\b\b\b\b\b\b\b\b\b\b\b\r",
      "1/1 [==============================] - 0s 176ms/step\n"
     ]
    },
    {
     "name": "stdout",
     "output_type": "stream",
     "text": [
      "\r",
      "1/1 [==============================] - ETA: 0s"
     ]
    },
    {
     "name": "stdout",
     "output_type": "stream",
     "text": [
      "\b\b\b\b\b\b\b\b\b\b\b\b\b\b\b\b\b\b\b\b\b\b\b\b\b\b\b\b\b\b\b\b\b\b\b\b\b\b\b\b\b\b\b\b\b\b\r",
      "1/1 [==============================] - 0s 201ms/step\n"
     ]
    },
    {
     "name": "stdout",
     "output_type": "stream",
     "text": [
      "\r",
      "1/1 [==============================] - ETA: 0s"
     ]
    },
    {
     "name": "stdout",
     "output_type": "stream",
     "text": [
      "\b\b\b\b\b\b\b\b\b\b\b\b\b\b\b\b\b\b\b\b\b\b\b\b\b\b\b\b\b\b\b\b\b\b\b\b\b\b\b\b\b\b\b\b\b\b\r",
      "1/1 [==============================] - 0s 194ms/step\n"
     ]
    },
    {
     "name": "stdout",
     "output_type": "stream",
     "text": [
      "\r",
      "1/1 [==============================] - ETA: 0s"
     ]
    },
    {
     "name": "stdout",
     "output_type": "stream",
     "text": [
      "\b\b\b\b\b\b\b\b\b\b\b\b\b\b\b\b\b\b\b\b\b\b\b\b\b\b\b\b\b\b\b\b\b\b\b\b\b\b\b\b\b\b\b\b\b\b\r",
      "1/1 [==============================] - 0s 231ms/step\n"
     ]
    },
    {
     "name": "stdout",
     "output_type": "stream",
     "text": [
      "\r",
      "1/1 [==============================] - ETA: 0s"
     ]
    },
    {
     "name": "stdout",
     "output_type": "stream",
     "text": [
      "\b\b\b\b\b\b\b\b\b\b\b\b\b\b\b\b\b\b\b\b\b\b\b\b\b\b\b\b\b\b\b\b\b\b\b\b\b\b\b\b\b\b\b\b\b\b\r",
      "1/1 [==============================] - 0s 219ms/step\n"
     ]
    },
    {
     "name": "stdout",
     "output_type": "stream",
     "text": [
      "\r",
      "1/1 [==============================] - ETA: 0s"
     ]
    },
    {
     "name": "stdout",
     "output_type": "stream",
     "text": [
      "\b\b\b\b\b\b\b\b\b\b\b\b\b\b\b\b\b\b\b\b\b\b\b\b\b\b\b\b\b\b\b\b\b\b\b\b\b\b\b\b\b\b\b\b\b\b\r",
      "1/1 [==============================] - 0s 190ms/step\n"
     ]
    },
    {
     "name": "stdout",
     "output_type": "stream",
     "text": [
      "\r",
      "1/1 [==============================] - ETA: 0s"
     ]
    },
    {
     "name": "stdout",
     "output_type": "stream",
     "text": [
      "\b\b\b\b\b\b\b\b\b\b\b\b\b\b\b\b\b\b\b\b\b\b\b\b\b\b\b\b\b\b\b\b\b\b\b\b\b\b\b\b\b\b\b\b\b\b\r",
      "1/1 [==============================] - 0s 185ms/step\n"
     ]
    },
    {
     "name": "stdout",
     "output_type": "stream",
     "text": [
      "\r",
      "1/1 [==============================] - ETA: 0s"
     ]
    },
    {
     "name": "stdout",
     "output_type": "stream",
     "text": [
      "\b\b\b\b\b\b\b\b\b\b\b\b\b\b\b\b\b\b\b\b\b\b\b\b\b\b\b\b\b\b\b\b\b\b\b\b\b\b\b\b\b\b\b\b\b\b\r",
      "1/1 [==============================] - 0s 193ms/step\n"
     ]
    },
    {
     "name": "stdout",
     "output_type": "stream",
     "text": [
      "\r",
      "1/1 [==============================] - ETA: 0s"
     ]
    },
    {
     "name": "stdout",
     "output_type": "stream",
     "text": [
      "\b\b\b\b\b\b\b\b\b\b\b\b\b\b\b\b\b\b\b\b\b\b\b\b\b\b\b\b\b\b\b\b\b\b\b\b\b\b\b\b\b\b\b\b\b\b\r",
      "1/1 [==============================] - 0s 223ms/step\n"
     ]
    },
    {
     "name": "stdout",
     "output_type": "stream",
     "text": [
      "\r",
      "1/1 [==============================] - ETA: 0s"
     ]
    },
    {
     "name": "stdout",
     "output_type": "stream",
     "text": [
      "\b\b\b\b\b\b\b\b\b\b\b\b\b\b\b\b\b\b\b\b\b\b\b\b\b\b\b\b\b\b\b\b\b\b\b\b\b\b\b\b\b\b\b\b\b\b\r",
      "1/1 [==============================] - 0s 218ms/step\n"
     ]
    },
    {
     "name": "stdout",
     "output_type": "stream",
     "text": [
      "\r",
      "1/1 [==============================] - ETA: 0s"
     ]
    },
    {
     "name": "stdout",
     "output_type": "stream",
     "text": [
      "\b\b\b\b\b\b\b\b\b\b\b\b\b\b\b\b\b\b\b\b\b\b\b\b\b\b\b\b\b\b\b\b\b\b\b\b\b\b\b\b\b\b\b\b\b\b\r",
      "1/1 [==============================] - 0s 209ms/step\n"
     ]
    },
    {
     "name": "stdout",
     "output_type": "stream",
     "text": [
      "\r",
      "1/1 [==============================] - ETA: 0s"
     ]
    },
    {
     "name": "stdout",
     "output_type": "stream",
     "text": [
      "\b\b\b\b\b\b\b\b\b\b\b\b\b\b\b\b\b\b\b\b\b\b\b\b\b\b\b\b\b\b\b\b\b\b\b\b\b\b\b\b\b\b\b\b\b\b\r",
      "1/1 [==============================] - 0s 193ms/step\n"
     ]
    },
    {
     "name": "stdout",
     "output_type": "stream",
     "text": [
      "\r",
      "1/1 [==============================] - ETA: 0s"
     ]
    },
    {
     "name": "stdout",
     "output_type": "stream",
     "text": [
      "\b\b\b\b\b\b\b\b\b\b\b\b\b\b\b\b\b\b\b\b\b\b\b\b\b\b\b\b\b\b\b\b\b\b\b\b\b\b\b\b\b\b\b\b\b\b\r",
      "1/1 [==============================] - 0s 220ms/step\n"
     ]
    },
    {
     "name": "stdout",
     "output_type": "stream",
     "text": [
      "\r",
      "1/1 [==============================] - ETA: 0s"
     ]
    },
    {
     "name": "stdout",
     "output_type": "stream",
     "text": [
      "\b\b\b\b\b\b\b\b\b\b\b\b\b\b\b\b\b\b\b\b\b\b\b\b\b\b\b\b\b\b\b\b\b\b\b\b\b\b\b\b\b\b\b\b\b\b\r",
      "1/1 [==============================] - 0s 222ms/step\n"
     ]
    },
    {
     "name": "stdout",
     "output_type": "stream",
     "text": [
      "\r",
      "1/1 [==============================] - ETA: 0s"
     ]
    },
    {
     "name": "stdout",
     "output_type": "stream",
     "text": [
      "\b\b\b\b\b\b\b\b\b\b\b\b\b\b\b\b\b\b\b\b\b\b\b\b\b\b\b\b\b\b\b\b\b\b\b\b\b\b\b\b\b\b\b\b\b\b\r",
      "1/1 [==============================] - 0s 180ms/step\n"
     ]
    },
    {
     "name": "stdout",
     "output_type": "stream",
     "text": [
      "\r",
      "1/1 [==============================] - ETA: 0s"
     ]
    },
    {
     "name": "stdout",
     "output_type": "stream",
     "text": [
      "\b\b\b\b\b\b\b\b\b\b\b\b\b\b\b\b\b\b\b\b\b\b\b\b\b\b\b\b\b\b\b\b\b\b\b\b\b\b\b\b\b\b\b\b\b\b\r",
      "1/1 [==============================] - 0s 186ms/step\n"
     ]
    },
    {
     "name": "stdout",
     "output_type": "stream",
     "text": [
      "\r",
      "1/1 [==============================] - ETA: 0s"
     ]
    },
    {
     "name": "stdout",
     "output_type": "stream",
     "text": [
      "\b\b\b\b\b\b\b\b\b\b\b\b\b\b\b\b\b\b\b\b\b\b\b\b\b\b\b\b\b\b\b\b\b\b\b\b\b\b\b\b\b\b\b\b\b\b\r",
      "1/1 [==============================] - 0s 208ms/step\n"
     ]
    },
    {
     "name": "stdout",
     "output_type": "stream",
     "text": [
      "\r",
      "1/1 [==============================] - ETA: 0s"
     ]
    },
    {
     "name": "stdout",
     "output_type": "stream",
     "text": [
      "\b\b\b\b\b\b\b\b\b\b\b\b\b\b\b\b\b\b\b\b\b\b\b\b\b\b\b\b\b\b\b\b\b\b\b\b\b\b\b\b\b\b\b\b\b\b\r",
      "1/1 [==============================] - 0s 215ms/step\n"
     ]
    },
    {
     "name": "stdout",
     "output_type": "stream",
     "text": [
      "\r",
      "1/1 [==============================] - ETA: 0s"
     ]
    },
    {
     "name": "stdout",
     "output_type": "stream",
     "text": [
      "\b\b\b\b\b\b\b\b\b\b\b\b\b\b\b\b\b\b\b\b\b\b\b\b\b\b\b\b\b\b\b\b\b\b\b\b\b\b\b\b\b\b\b\b\b\b\r",
      "1/1 [==============================] - 0s 198ms/step\n"
     ]
    },
    {
     "name": "stdout",
     "output_type": "stream",
     "text": [
      "\r",
      "1/1 [==============================] - ETA: 0s"
     ]
    },
    {
     "name": "stdout",
     "output_type": "stream",
     "text": [
      "\b\b\b\b\b\b\b\b\b\b\b\b\b\b\b\b\b\b\b\b\b\b\b\b\b\b\b\b\b\b\b\b\b\b\b\b\b\b\b\b\b\b\b\b\b\b\r",
      "1/1 [==============================] - 0s 192ms/step\n"
     ]
    },
    {
     "name": "stdout",
     "output_type": "stream",
     "text": [
      "\r",
      "1/1 [==============================] - ETA: 0s"
     ]
    },
    {
     "name": "stdout",
     "output_type": "stream",
     "text": [
      "\b\b\b\b\b\b\b\b\b\b\b\b\b\b\b\b\b\b\b\b\b\b\b\b\b\b\b\b\b\b\b\b\b\b\b\b\b\b\b\b\b\b\b\b\b\b\r",
      "1/1 [==============================] - 0s 162ms/step\n"
     ]
    },
    {
     "name": "stdout",
     "output_type": "stream",
     "text": [
      "\r",
      "1/1 [==============================] - ETA: 0s"
     ]
    },
    {
     "name": "stdout",
     "output_type": "stream",
     "text": [
      "\b\b\b\b\b\b\b\b\b\b\b\b\b\b\b\b\b\b\b\b\b\b\b\b\b\b\b\b\b\b\b\b\b\b\b\b\b\b\b\b\b\b\b\b\b\b\r",
      "1/1 [==============================] - 0s 219ms/step\n"
     ]
    },
    {
     "name": "stdout",
     "output_type": "stream",
     "text": [
      "\r",
      "1/1 [==============================] - ETA: 0s"
     ]
    },
    {
     "name": "stdout",
     "output_type": "stream",
     "text": [
      "\b\b\b\b\b\b\b\b\b\b\b\b\b\b\b\b\b\b\b\b\b\b\b\b\b\b\b\b\b\b\b\b\b\b\b\b\b\b\b\b\b\b\b\b\b\b\r",
      "1/1 [==============================] - 0s 184ms/step\n"
     ]
    },
    {
     "name": "stdout",
     "output_type": "stream",
     "text": [
      "\r",
      "1/1 [==============================] - ETA: 0s"
     ]
    },
    {
     "name": "stdout",
     "output_type": "stream",
     "text": [
      "\b\b\b\b\b\b\b\b\b\b\b\b\b\b\b\b\b\b\b\b\b\b\b\b\b\b\b\b\b\b\b\b\b\b\b\b\b\b\b\b\b\b\b\b\b\b\r",
      "1/1 [==============================] - 0s 189ms/step\n"
     ]
    },
    {
     "name": "stdout",
     "output_type": "stream",
     "text": [
      "\r",
      "1/1 [==============================] - ETA: 0s"
     ]
    },
    {
     "name": "stdout",
     "output_type": "stream",
     "text": [
      "\b\b\b\b\b\b\b\b\b\b\b\b\b\b\b\b\b\b\b\b\b\b\b\b\b\b\b\b\b\b\b\b\b\b\b\b\b\b\b\b\b\b\b\b\b\b\r",
      "1/1 [==============================] - 0s 188ms/step\n"
     ]
    },
    {
     "name": "stdout",
     "output_type": "stream",
     "text": [
      "\r",
      "1/1 [==============================] - ETA: 0s"
     ]
    },
    {
     "name": "stdout",
     "output_type": "stream",
     "text": [
      "\b\b\b\b\b\b\b\b\b\b\b\b\b\b\b\b\b\b\b\b\b\b\b\b\b\b\b\b\b\b\b\b\b\b\b\b\b\b\b\b\b\b\b\b\b\b\r",
      "1/1 [==============================] - 0s 224ms/step\n"
     ]
    },
    {
     "name": "stdout",
     "output_type": "stream",
     "text": [
      "\r",
      "1/1 [==============================] - ETA: 0s"
     ]
    },
    {
     "name": "stdout",
     "output_type": "stream",
     "text": [
      "\b\b\b\b\b\b\b\b\b\b\b\b\b\b\b\b\b\b\b\b\b\b\b\b\b\b\b\b\b\b\b\b\b\b\b\b\b\b\b\b\b\b\b\b\b\b\r",
      "1/1 [==============================] - 0s 210ms/step\n"
     ]
    },
    {
     "name": "stdout",
     "output_type": "stream",
     "text": [
      "\r",
      "1/1 [==============================] - ETA: 0s"
     ]
    },
    {
     "name": "stdout",
     "output_type": "stream",
     "text": [
      "\b\b\b\b\b\b\b\b\b\b\b\b\b\b\b\b\b\b\b\b\b\b\b\b\b\b\b\b\b\b\b\b\b\b\b\b\b\b\b\b\b\b\b\b\b\b\r",
      "1/1 [==============================] - 0s 195ms/step\n"
     ]
    },
    {
     "name": "stdout",
     "output_type": "stream",
     "text": [
      "\r",
      "1/1 [==============================] - ETA: 0s"
     ]
    },
    {
     "name": "stdout",
     "output_type": "stream",
     "text": [
      "\b\b\b\b\b\b\b\b\b\b\b\b\b\b\b\b\b\b\b\b\b\b\b\b\b\b\b\b\b\b\b\b\b\b\b\b\b\b\b\b\b\b\b\b\b\b\r",
      "1/1 [==============================] - 0s 206ms/step\n"
     ]
    },
    {
     "name": "stdout",
     "output_type": "stream",
     "text": [
      "\r",
      "1/1 [==============================] - ETA: 0s"
     ]
    },
    {
     "name": "stdout",
     "output_type": "stream",
     "text": [
      "\b\b\b\b\b\b\b\b\b\b\b\b\b\b\b\b\b\b\b\b\b\b\b\b\b\b\b\b\b\b\b\b\b\b\b\b\b\b\b\b\b\b\b\b\b\b\r",
      "1/1 [==============================] - 0s 211ms/step\n"
     ]
    },
    {
     "name": "stdout",
     "output_type": "stream",
     "text": [
      "\r",
      "1/1 [==============================] - ETA: 0s"
     ]
    },
    {
     "name": "stdout",
     "output_type": "stream",
     "text": [
      "\b\b\b\b\b\b\b\b\b\b\b\b\b\b\b\b\b\b\b\b\b\b\b\b\b\b\b\b\b\b\b\b\b\b\b\b\b\b\b\b\b\b\b\b\b\b\r",
      "1/1 [==============================] - 0s 220ms/step\n"
     ]
    },
    {
     "name": "stdout",
     "output_type": "stream",
     "text": [
      "\r",
      "1/1 [==============================] - ETA: 0s"
     ]
    },
    {
     "name": "stdout",
     "output_type": "stream",
     "text": [
      "\b\b\b\b\b\b\b\b\b\b\b\b\b\b\b\b\b\b\b\b\b\b\b\b\b\b\b\b\b\b\b\b\b\b\b\b\b\b\b\b\b\b\b\b\b\b\r",
      "1/1 [==============================] - 0s 160ms/step\n"
     ]
    },
    {
     "name": "stdout",
     "output_type": "stream",
     "text": [
      "\r",
      "1/1 [==============================] - ETA: 0s"
     ]
    },
    {
     "name": "stdout",
     "output_type": "stream",
     "text": [
      "\b\b\b\b\b\b\b\b\b\b\b\b\b\b\b\b\b\b\b\b\b\b\b\b\b\b\b\b\b\b\b\b\b\b\b\b\b\b\b\b\b\b\b\b\b\b\r",
      "1/1 [==============================] - 0s 187ms/step\n"
     ]
    },
    {
     "name": "stdout",
     "output_type": "stream",
     "text": [
      "\r",
      "1/1 [==============================] - ETA: 0s"
     ]
    },
    {
     "name": "stdout",
     "output_type": "stream",
     "text": [
      "\b\b\b\b\b\b\b\b\b\b\b\b\b\b\b\b\b\b\b\b\b\b\b\b\b\b\b\b\b\b\b\b\b\b\b\b\b\b\b\b\b\b\b\b\b\b\r",
      "1/1 [==============================] - 0s 187ms/step\n"
     ]
    },
    {
     "name": "stdout",
     "output_type": "stream",
     "text": [
      "\r",
      "1/1 [==============================] - ETA: 0s"
     ]
    },
    {
     "name": "stdout",
     "output_type": "stream",
     "text": [
      "\b\b\b\b\b\b\b\b\b\b\b\b\b\b\b\b\b\b\b\b\b\b\b\b\b\b\b\b\b\b\b\b\b\b\b\b\b\b\b\b\b\b\b\b\b\b\r",
      "1/1 [==============================] - 0s 223ms/step\n"
     ]
    },
    {
     "name": "stdout",
     "output_type": "stream",
     "text": [
      "\r",
      "1/1 [==============================] - ETA: 0s"
     ]
    },
    {
     "name": "stdout",
     "output_type": "stream",
     "text": [
      "\b\b\b\b\b\b\b\b\b\b\b\b\b\b\b\b\b\b\b\b\b\b\b\b\b\b\b\b\b\b\b\b\b\b\b\b\b\b\b\b\b\b\b\b\b\b\r",
      "1/1 [==============================] - 0s 209ms/step\n"
     ]
    },
    {
     "name": "stdout",
     "output_type": "stream",
     "text": [
      "\r",
      "1/1 [==============================] - ETA: 0s"
     ]
    },
    {
     "name": "stdout",
     "output_type": "stream",
     "text": [
      "\b\b\b\b\b\b\b\b\b\b\b\b\b\b\b\b\b\b\b\b\b\b\b\b\b\b\b\b\b\b\b\b\b\b\b\b\b\b\b\b\b\b\b\b\b\b\r",
      "1/1 [==============================] - 0s 196ms/step\n"
     ]
    },
    {
     "name": "stdout",
     "output_type": "stream",
     "text": [
      "\r",
      "1/1 [==============================] - ETA: 0s"
     ]
    },
    {
     "name": "stdout",
     "output_type": "stream",
     "text": [
      "\b\b\b\b\b\b\b\b\b\b\b\b\b\b\b\b\b\b\b\b\b\b\b\b\b\b\b\b\b\b\b\b\b\b\b\b\b\b\b\b\b\b\b\b\b\b\r",
      "1/1 [==============================] - 0s 180ms/step\n"
     ]
    },
    {
     "name": "stdout",
     "output_type": "stream",
     "text": [
      "\r",
      "1/1 [==============================] - ETA: 0s"
     ]
    },
    {
     "name": "stdout",
     "output_type": "stream",
     "text": [
      "\b\b\b\b\b\b\b\b\b\b\b\b\b\b\b\b\b\b\b\b\b\b\b\b\b\b\b\b\b\b\b\b\b\b\b\b\b\b\b\b\b\b\b\b\b\b\r",
      "1/1 [==============================] - 0s 193ms/step\n"
     ]
    },
    {
     "name": "stdout",
     "output_type": "stream",
     "text": [
      "\r",
      "1/1 [==============================] - ETA: 0s"
     ]
    },
    {
     "name": "stdout",
     "output_type": "stream",
     "text": [
      "\b\b\b\b\b\b\b\b\b\b\b\b\b\b\b\b\b\b\b\b\b\b\b\b\b\b\b\b\b\b\b\b\b\b\b\b\b\b\b\b\b\b\b\b\b\b\r",
      "1/1 [==============================] - 0s 157ms/step\n"
     ]
    },
    {
     "name": "stdout",
     "output_type": "stream",
     "text": [
      "\r",
      "1/1 [==============================] - ETA: 0s"
     ]
    },
    {
     "name": "stdout",
     "output_type": "stream",
     "text": [
      "\b\b\b\b\b\b\b\b\b\b\b\b\b\b\b\b\b\b\b\b\b\b\b\b\b\b\b\b\b\b\b\b\b\b\b\b\b\b\b\b\b\b\b\b\b\b\r",
      "1/1 [==============================] - 0s 220ms/step\n"
     ]
    },
    {
     "name": "stdout",
     "output_type": "stream",
     "text": [
      "\r",
      "1/1 [==============================] - ETA: 0s"
     ]
    },
    {
     "name": "stdout",
     "output_type": "stream",
     "text": [
      "\b\b\b\b\b\b\b\b\b\b\b\b\b\b\b\b\b\b\b\b\b\b\b\b\b\b\b\b\b\b\b\b\b\b\b\b\b\b\b\b\b\b\b\b\b\b\r",
      "1/1 [==============================] - 0s 186ms/step\n"
     ]
    },
    {
     "name": "stdout",
     "output_type": "stream",
     "text": [
      "\r",
      "1/1 [==============================] - ETA: 0s"
     ]
    },
    {
     "name": "stdout",
     "output_type": "stream",
     "text": [
      "\b\b\b\b\b\b\b\b\b\b\b\b\b\b\b\b\b\b\b\b\b\b\b\b\b\b\b\b\b\b\b\b\b\b\b\b\b\b\b\b\b\b\b\b\b\b\r",
      "1/1 [==============================] - 0s 180ms/step\n"
     ]
    },
    {
     "name": "stdout",
     "output_type": "stream",
     "text": [
      "\r",
      "1/1 [==============================] - ETA: 0s"
     ]
    },
    {
     "name": "stdout",
     "output_type": "stream",
     "text": [
      "\b\b\b\b\b\b\b\b\b\b\b\b\b\b\b\b\b\b\b\b\b\b\b\b\b\b\b\b\b\b\b\b\b\b\b\b\b\b\b\b\b\b\b\b\b\b\r",
      "1/1 [==============================] - 0s 181ms/step\n"
     ]
    },
    {
     "name": "stdout",
     "output_type": "stream",
     "text": [
      "\r",
      "1/1 [==============================] - ETA: 0s"
     ]
    },
    {
     "name": "stdout",
     "output_type": "stream",
     "text": [
      "\b\b\b\b\b\b\b\b\b\b\b\b\b\b\b\b\b\b\b\b\b\b\b\b\b\b\b\b\b\b\b\b\b\b\b\b\b\b\b\b\b\b\b\b\b\b\r",
      "1/1 [==============================] - 0s 188ms/step\n"
     ]
    },
    {
     "name": "stdout",
     "output_type": "stream",
     "text": [
      "\r",
      "1/1 [==============================] - ETA: 0s"
     ]
    },
    {
     "name": "stdout",
     "output_type": "stream",
     "text": [
      "\b\b\b\b\b\b\b\b\b\b\b\b\b\b\b\b\b\b\b\b\b\b\b\b\b\b\b\b\b\b\b\b\b\b\b\b\b\b\b\b\b\b\b\b\b\b\r",
      "1/1 [==============================] - 0s 215ms/step\n"
     ]
    },
    {
     "name": "stdout",
     "output_type": "stream",
     "text": [
      "\r",
      "1/1 [==============================] - ETA: 0s"
     ]
    },
    {
     "name": "stdout",
     "output_type": "stream",
     "text": [
      "\b\b\b\b\b\b\b\b\b\b\b\b\b\b\b\b\b\b\b\b\b\b\b\b\b\b\b\b\b\b\b\b\b\b\b\b\b\b\b\b\b\b\b\b\b\b\r",
      "1/1 [==============================] - 0s 197ms/step\n"
     ]
    },
    {
     "name": "stdout",
     "output_type": "stream",
     "text": [
      "\r",
      "1/1 [==============================] - ETA: 0s"
     ]
    },
    {
     "name": "stdout",
     "output_type": "stream",
     "text": [
      "\b\b\b\b\b\b\b\b\b\b\b\b\b\b\b\b\b\b\b\b\b\b\b\b\b\b\b\b\b\b\b\b\b\b\b\b\b\b\b\b\b\b\b\b\b\b\r",
      "1/1 [==============================] - 0s 249ms/step\n"
     ]
    },
    {
     "name": "stdout",
     "output_type": "stream",
     "text": [
      "\r",
      "1/1 [==============================] - ETA: 0s"
     ]
    },
    {
     "name": "stdout",
     "output_type": "stream",
     "text": [
      "\b\b\b\b\b\b\b\b\b\b\b\b\b\b\b\b\b\b\b\b\b\b\b\b\b\b\b\b\b\b\b\b\b\b\b\b\b\b\b\b\b\b\b\b\b\b\r",
      "1/1 [==============================] - 0s 224ms/step\n"
     ]
    },
    {
     "name": "stdout",
     "output_type": "stream",
     "text": [
      "\r",
      "1/1 [==============================] - ETA: 0s"
     ]
    },
    {
     "name": "stdout",
     "output_type": "stream",
     "text": [
      "\b\b\b\b\b\b\b\b\b\b\b\b\b\b\b\b\b\b\b\b\b\b\b\b\b\b\b\b\b\b\b\b\b\b\b\b\b\b\b\b\b\b\b\b\b\b\r",
      "1/1 [==============================] - 0s 189ms/step\n"
     ]
    },
    {
     "name": "stdout",
     "output_type": "stream",
     "text": [
      "\r",
      "1/1 [==============================] - ETA: 0s"
     ]
    },
    {
     "name": "stdout",
     "output_type": "stream",
     "text": [
      "\b\b\b\b\b\b\b\b\b\b\b\b\b\b\b\b\b\b\b\b\b\b\b\b\b\b\b\b\b\b\b\b\b\b\b\b\b\b\b\b\b\b\b\b\b\b\r",
      "1/1 [==============================] - 0s 217ms/step\n"
     ]
    },
    {
     "name": "stdout",
     "output_type": "stream",
     "text": [
      "\r",
      "1/1 [==============================] - ETA: 0s"
     ]
    },
    {
     "name": "stdout",
     "output_type": "stream",
     "text": [
      "\b\b\b\b\b\b\b\b\b\b\b\b\b\b\b\b\b\b\b\b\b\b\b\b\b\b\b\b\b\b\b\b\b\b\b\b\b\b\b\b\b\b\b\b\b\b\r",
      "1/1 [==============================] - 0s 208ms/step\n"
     ]
    },
    {
     "name": "stdout",
     "output_type": "stream",
     "text": [
      "\r",
      "1/1 [==============================] - ETA: 0s"
     ]
    },
    {
     "name": "stdout",
     "output_type": "stream",
     "text": [
      "\b\b\b\b\b\b\b\b\b\b\b\b\b\b\b\b\b\b\b\b\b\b\b\b\b\b\b\b\b\b\b\b\b\b\b\b\b\b\b\b\b\b\b\b\b\b\r",
      "1/1 [==============================] - 0s 207ms/step\n"
     ]
    },
    {
     "name": "stdout",
     "output_type": "stream",
     "text": [
      "\r",
      "1/1 [==============================] - ETA: 0s"
     ]
    },
    {
     "name": "stdout",
     "output_type": "stream",
     "text": [
      "\b\b\b\b\b\b\b\b\b\b\b\b\b\b\b\b\b\b\b\b\b\b\b\b\b\b\b\b\b\b\b\b\b\b\b\b\b\b\b\b\b\b\b\b\b\b\r",
      "1/1 [==============================] - 0s 193ms/step\n"
     ]
    },
    {
     "name": "stdout",
     "output_type": "stream",
     "text": [
      "\r",
      "1/1 [==============================] - ETA: 0s"
     ]
    },
    {
     "name": "stdout",
     "output_type": "stream",
     "text": [
      "\b\b\b\b\b\b\b\b\b\b\b\b\b\b\b\b\b\b\b\b\b\b\b\b\b\b\b\b\b\b\b\b\b\b\b\b\b\b\b\b\b\b\b\b\b\b\r",
      "1/1 [==============================] - 0s 187ms/step\n"
     ]
    },
    {
     "name": "stdout",
     "output_type": "stream",
     "text": [
      "\r",
      "1/1 [==============================] - ETA: 0s"
     ]
    },
    {
     "name": "stdout",
     "output_type": "stream",
     "text": [
      "\b\b\b\b\b\b\b\b\b\b\b\b\b\b\b\b\b\b\b\b\b\b\b\b\b\b\b\b\b\b\b\b\b\b\b\b\b\b\b\b\b\b\b\b\b\b\r",
      "1/1 [==============================] - 0s 182ms/step\n"
     ]
    },
    {
     "name": "stdout",
     "output_type": "stream",
     "text": [
      "\r",
      "1/1 [==============================] - ETA: 0s"
     ]
    },
    {
     "name": "stdout",
     "output_type": "stream",
     "text": [
      "\b\b\b\b\b\b\b\b\b\b\b\b\b\b\b\b\b\b\b\b\b\b\b\b\b\b\b\b\b\b\b\b\b\b\b\b\b\b\b\b\b\b\b\b\b\b\r",
      "1/1 [==============================] - 0s 169ms/step\n"
     ]
    },
    {
     "name": "stdout",
     "output_type": "stream",
     "text": [
      "\r",
      "1/1 [==============================] - ETA: 0s"
     ]
    },
    {
     "name": "stdout",
     "output_type": "stream",
     "text": [
      "\b\b\b\b\b\b\b\b\b\b\b\b\b\b\b\b\b\b\b\b\b\b\b\b\b\b\b\b\b\b\b\b\b\b\b\b\b\b\b\b\b\b\b\b\b\b\r",
      "1/1 [==============================] - 0s 199ms/step\n"
     ]
    },
    {
     "name": "stdout",
     "output_type": "stream",
     "text": [
      "\r",
      "1/1 [==============================] - ETA: 0s"
     ]
    },
    {
     "name": "stdout",
     "output_type": "stream",
     "text": [
      "\b\b\b\b\b\b\b\b\b\b\b\b\b\b\b\b\b\b\b\b\b\b\b\b\b\b\b\b\b\b\b\b\b\b\b\b\b\b\b\b\b\b\b\b\b\b\r",
      "1/1 [==============================] - 0s 204ms/step\n"
     ]
    },
    {
     "name": "stdout",
     "output_type": "stream",
     "text": [
      "\r",
      "1/1 [==============================] - ETA: 0s"
     ]
    },
    {
     "name": "stdout",
     "output_type": "stream",
     "text": [
      "\b\b\b\b\b\b\b\b\b\b\b\b\b\b\b\b\b\b\b\b\b\b\b\b\b\b\b\b\b\b\b\b\b\b\b\b\b\b\b\b\b\b\b\b\b\b\r",
      "1/1 [==============================] - 0s 209ms/step\n"
     ]
    },
    {
     "name": "stdout",
     "output_type": "stream",
     "text": [
      "\r",
      "1/1 [==============================] - ETA: 0s"
     ]
    },
    {
     "name": "stdout",
     "output_type": "stream",
     "text": [
      "\b\b\b\b\b\b\b\b\b\b\b\b\b\b\b\b\b\b\b\b\b\b\b\b\b\b\b\b\b\b\b\b\b\b\b\b\b\b\b\b\b\b\b\b\b\b\r",
      "1/1 [==============================] - 0s 230ms/step\n"
     ]
    },
    {
     "name": "stdout",
     "output_type": "stream",
     "text": [
      "\r",
      "1/1 [==============================] - ETA: 0s"
     ]
    },
    {
     "name": "stdout",
     "output_type": "stream",
     "text": [
      "\b\b\b\b\b\b\b\b\b\b\b\b\b\b\b\b\b\b\b\b\b\b\b\b\b\b\b\b\b\b\b\b\b\b\b\b\b\b\b\b\b\b\b\b\b\b\r",
      "1/1 [==============================] - 0s 207ms/step\n"
     ]
    },
    {
     "name": "stdout",
     "output_type": "stream",
     "text": [
      "\r",
      "1/1 [==============================] - ETA: 0s"
     ]
    },
    {
     "name": "stdout",
     "output_type": "stream",
     "text": [
      "\b\b\b\b\b\b\b\b\b\b\b\b\b\b\b\b\b\b\b\b\b\b\b\b\b\b\b\b\b\b\b\b\b\b\b\b\b\b\b\b\b\b\b\b\b\b\r",
      "1/1 [==============================] - 0s 180ms/step\n"
     ]
    },
    {
     "name": "stdout",
     "output_type": "stream",
     "text": [
      "\r",
      "1/1 [==============================] - ETA: 0s"
     ]
    },
    {
     "name": "stdout",
     "output_type": "stream",
     "text": [
      "\b\b\b\b\b\b\b\b\b\b\b\b\b\b\b\b\b\b\b\b\b\b\b\b\b\b\b\b\b\b\b\b\b\b\b\b\b\b\b\b\b\b\b\b\b\b\r",
      "1/1 [==============================] - 0s 214ms/step\n"
     ]
    },
    {
     "name": "stdout",
     "output_type": "stream",
     "text": [
      "\r",
      "1/1 [==============================] - ETA: 0s"
     ]
    },
    {
     "name": "stdout",
     "output_type": "stream",
     "text": [
      "\b\b\b\b\b\b\b\b\b\b\b\b\b\b\b\b\b\b\b\b\b\b\b\b\b\b\b\b\b\b\b\b\b\b\b\b\b\b\b\b\b\b\b\b\b\b\r",
      "1/1 [==============================] - 0s 168ms/step\n"
     ]
    },
    {
     "name": "stdout",
     "output_type": "stream",
     "text": [
      "\r",
      "1/1 [==============================] - ETA: 0s"
     ]
    },
    {
     "name": "stdout",
     "output_type": "stream",
     "text": [
      "\b\b\b\b\b\b\b\b\b\b\b\b\b\b\b\b\b\b\b\b\b\b\b\b\b\b\b\b\b\b\b\b\b\b\b\b\b\b\b\b\b\b\b\b\b\b\r",
      "1/1 [==============================] - 0s 204ms/step\n"
     ]
    },
    {
     "name": "stdout",
     "output_type": "stream",
     "text": [
      "\r",
      "1/1 [==============================] - ETA: 0s"
     ]
    },
    {
     "name": "stdout",
     "output_type": "stream",
     "text": [
      "\b\b\b\b\b\b\b\b\b\b\b\b\b\b\b\b\b\b\b\b\b\b\b\b\b\b\b\b\b\b\b\b\b\b\b\b\b\b\b\b\b\b\b\b\b\b\r",
      "1/1 [==============================] - 0s 203ms/step\n"
     ]
    },
    {
     "name": "stdout",
     "output_type": "stream",
     "text": [
      "\r",
      "1/1 [==============================] - ETA: 0s"
     ]
    },
    {
     "name": "stdout",
     "output_type": "stream",
     "text": [
      "\b\b\b\b\b\b\b\b\b\b\b\b\b\b\b\b\b\b\b\b\b\b\b\b\b\b\b\b\b\b\b\b\b\b\b\b\b\b\b\b\b\b\b\b\b\b\r",
      "1/1 [==============================] - 0s 200ms/step\n"
     ]
    },
    {
     "name": "stdout",
     "output_type": "stream",
     "text": [
      "\r",
      "1/1 [==============================] - ETA: 0s"
     ]
    },
    {
     "name": "stdout",
     "output_type": "stream",
     "text": [
      "\b\b\b\b\b\b\b\b\b\b\b\b\b\b\b\b\b\b\b\b\b\b\b\b\b\b\b\b\b\b\b\b\b\b\b\b\b\b\b\b\b\b\b\b\b\b\r",
      "1/1 [==============================] - 0s 239ms/step\n"
     ]
    },
    {
     "name": "stdout",
     "output_type": "stream",
     "text": [
      "\r",
      "1/1 [==============================] - ETA: 0s"
     ]
    },
    {
     "name": "stdout",
     "output_type": "stream",
     "text": [
      "\b\b\b\b\b\b\b\b\b\b\b\b\b\b\b\b\b\b\b\b\b\b\b\b\b\b\b\b\b\b\b\b\b\b\b\b\b\b\b\b\b\b\b\b\b\b\r",
      "1/1 [==============================] - 0s 191ms/step\n"
     ]
    },
    {
     "name": "stdout",
     "output_type": "stream",
     "text": [
      "\r",
      "1/1 [==============================] - ETA: 0s"
     ]
    },
    {
     "name": "stdout",
     "output_type": "stream",
     "text": [
      "\b\b\b\b\b\b\b\b\b\b\b\b\b\b\b\b\b\b\b\b\b\b\b\b\b\b\b\b\b\b\b\b\b\b\b\b\b\b\b\b\b\b\b\b\b\b\r",
      "1/1 [==============================] - 0s 194ms/step\n"
     ]
    },
    {
     "name": "stdout",
     "output_type": "stream",
     "text": [
      "\r",
      "1/1 [==============================] - ETA: 0s"
     ]
    },
    {
     "name": "stdout",
     "output_type": "stream",
     "text": [
      "\b\b\b\b\b\b\b\b\b\b\b\b\b\b\b\b\b\b\b\b\b\b\b\b\b\b\b\b\b\b\b\b\b\b\b\b\b\b\b\b\b\b\b\b\b\b\r",
      "1/1 [==============================] - 0s 211ms/step\n"
     ]
    },
    {
     "name": "stdout",
     "output_type": "stream",
     "text": [
      "\r",
      "1/1 [==============================] - ETA: 0s"
     ]
    },
    {
     "name": "stdout",
     "output_type": "stream",
     "text": [
      "\b\b\b\b\b\b\b\b\b\b\b\b\b\b\b\b\b\b\b\b\b\b\b\b\b\b\b\b\b\b\b\b\b\b\b\b\b\b\b\b\b\b\b\b\b\b\r",
      "1/1 [==============================] - 0s 236ms/step\n"
     ]
    },
    {
     "name": "stdout",
     "output_type": "stream",
     "text": [
      "\r",
      "1/1 [==============================] - ETA: 0s"
     ]
    },
    {
     "name": "stdout",
     "output_type": "stream",
     "text": [
      "\b\b\b\b\b\b\b\b\b\b\b\b\b\b\b\b\b\b\b\b\b\b\b\b\b\b\b\b\b\b\b\b\b\b\b\b\b\b\b\b\b\b\b\b\b\b\r",
      "1/1 [==============================] - 0s 202ms/step\n"
     ]
    },
    {
     "name": "stdout",
     "output_type": "stream",
     "text": [
      "\r",
      "1/1 [==============================] - ETA: 0s"
     ]
    },
    {
     "name": "stdout",
     "output_type": "stream",
     "text": [
      "\b\b\b\b\b\b\b\b\b\b\b\b\b\b\b\b\b\b\b\b\b\b\b\b\b\b\b\b\b\b\b\b\b\b\b\b\b\b\b\b\b\b\b\b\b\b\r",
      "1/1 [==============================] - 0s 189ms/step\n"
     ]
    },
    {
     "name": "stdout",
     "output_type": "stream",
     "text": [
      "\r",
      "1/1 [==============================] - ETA: 0s"
     ]
    },
    {
     "name": "stdout",
     "output_type": "stream",
     "text": [
      "\b\b\b\b\b\b\b\b\b\b\b\b\b\b\b\b\b\b\b\b\b\b\b\b\b\b\b\b\b\b\b\b\b\b\b\b\b\b\b\b\b\b\b\b\b\b\r",
      "1/1 [==============================] - 0s 200ms/step\n"
     ]
    },
    {
     "name": "stdout",
     "output_type": "stream",
     "text": [
      "\r",
      "1/1 [==============================] - ETA: 0s"
     ]
    },
    {
     "name": "stdout",
     "output_type": "stream",
     "text": [
      "\b\b\b\b\b\b\b\b\b\b\b\b\b\b\b\b\b\b\b\b\b\b\b\b\b\b\b\b\b\b\b\b\b\b\b\b\b\b\b\b\b\b\b\b\b\b\r",
      "1/1 [==============================] - 0s 199ms/step\n"
     ]
    },
    {
     "name": "stdout",
     "output_type": "stream",
     "text": [
      "\r",
      "1/1 [==============================] - ETA: 0s"
     ]
    },
    {
     "name": "stdout",
     "output_type": "stream",
     "text": [
      "\b\b\b\b\b\b\b\b\b\b\b\b\b\b\b\b\b\b\b\b\b\b\b\b\b\b\b\b\b\b\b\b\b\b\b\b\b\b\b\b\b\b\b\b\b\b\r",
      "1/1 [==============================] - 0s 206ms/step\n"
     ]
    },
    {
     "name": "stdout",
     "output_type": "stream",
     "text": [
      "\r",
      "1/1 [==============================] - ETA: 0s"
     ]
    },
    {
     "name": "stdout",
     "output_type": "stream",
     "text": [
      "\b\b\b\b\b\b\b\b\b\b\b\b\b\b\b\b\b\b\b\b\b\b\b\b\b\b\b\b\b\b\b\b\b\b\b\b\b\b\b\b\b\b\b\b\b\b\r",
      "1/1 [==============================] - 0s 189ms/step\n"
     ]
    },
    {
     "name": "stdout",
     "output_type": "stream",
     "text": [
      "\r",
      "1/1 [==============================] - ETA: 0s"
     ]
    },
    {
     "name": "stdout",
     "output_type": "stream",
     "text": [
      "\b\b\b\b\b\b\b\b\b\b\b\b\b\b\b\b\b\b\b\b\b\b\b\b\b\b\b\b\b\b\b\b\b\b\b\b\b\b\b\b\b\b\b\b\b\b\r",
      "1/1 [==============================] - 0s 203ms/step\n"
     ]
    },
    {
     "name": "stdout",
     "output_type": "stream",
     "text": [
      "\r",
      "1/1 [==============================] - ETA: 0s"
     ]
    },
    {
     "name": "stdout",
     "output_type": "stream",
     "text": [
      "\b\b\b\b\b\b\b\b\b\b\b\b\b\b\b\b\b\b\b\b\b\b\b\b\b\b\b\b\b\b\b\b\b\b\b\b\b\b\b\b\b\b\b\b\b\b\r",
      "1/1 [==============================] - 0s 182ms/step\n"
     ]
    },
    {
     "name": "stdout",
     "output_type": "stream",
     "text": [
      "\r",
      "1/1 [==============================] - ETA: 0s"
     ]
    },
    {
     "name": "stdout",
     "output_type": "stream",
     "text": [
      "\b\b\b\b\b\b\b\b\b\b\b\b\b\b\b\b\b\b\b\b\b\b\b\b\b\b\b\b\b\b\b\b\b\b\b\b\b\b\b\b\b\b\b\b\b\b\r",
      "1/1 [==============================] - 0s 230ms/step\n"
     ]
    },
    {
     "name": "stdout",
     "output_type": "stream",
     "text": [
      "\r",
      "1/1 [==============================] - ETA: 0s"
     ]
    },
    {
     "name": "stdout",
     "output_type": "stream",
     "text": [
      "\b\b\b\b\b\b\b\b\b\b\b\b\b\b\b\b\b\b\b\b\b\b\b\b\b\b\b\b\b\b\b\b\b\b\b\b\b\b\b\b\b\b\b\b\b\b\r",
      "1/1 [==============================] - 0s 171ms/step\n"
     ]
    },
    {
     "name": "stdout",
     "output_type": "stream",
     "text": [
      "\r",
      "1/1 [==============================] - ETA: 0s"
     ]
    },
    {
     "name": "stdout",
     "output_type": "stream",
     "text": [
      "\b\b\b\b\b\b\b\b\b\b\b\b\b\b\b\b\b\b\b\b\b\b\b\b\b\b\b\b\b\b\b\b\b\b\b\b\b\b\b\b\b\b\b\b\b\b\r",
      "1/1 [==============================] - 0s 189ms/step\n"
     ]
    },
    {
     "name": "stderr",
     "output_type": "stream",
     "text": [
      "/home/jup_user/mlproject/jup-env/lib/python3.8/site-packages/sklearn/cluster/_kmeans.py:1416: FutureWarning: The default value of `n_init` will change from 10 to 'auto' in 1.4. Set the value of `n_init` explicitly to suppress the warning\n",
      "  super()._check_params_vs_input(X, default_n_init=10)\n"
     ]
    },
    {
     "name": "stderr",
     "output_type": "stream",
     "text": [
      "/home/jup_user/mlproject/jup-env/lib/python3.8/site-packages/sklearn/cluster/_kmeans.py:1416: FutureWarning: The default value of `n_init` will change from 10 to 'auto' in 1.4. Set the value of `n_init` explicitly to suppress the warning\n",
      "  super()._check_params_vs_input(X, default_n_init=10)\n"
     ]
    },
    {
     "name": "stderr",
     "output_type": "stream",
     "text": [
      "/home/jup_user/mlproject/jup-env/lib/python3.8/site-packages/sklearn/cluster/_kmeans.py:1416: FutureWarning: The default value of `n_init` will change from 10 to 'auto' in 1.4. Set the value of `n_init` explicitly to suppress the warning\n",
      "  super()._check_params_vs_input(X, default_n_init=10)\n"
     ]
    },
    {
     "name": "stderr",
     "output_type": "stream",
     "text": [
      "/home/jup_user/mlproject/jup-env/lib/python3.8/site-packages/sklearn/cluster/_kmeans.py:1416: FutureWarning: The default value of `n_init` will change from 10 to 'auto' in 1.4. Set the value of `n_init` explicitly to suppress the warning\n",
      "  super()._check_params_vs_input(X, default_n_init=10)\n"
     ]
    },
    {
     "name": "stderr",
     "output_type": "stream",
     "text": [
      "/home/jup_user/mlproject/jup-env/lib/python3.8/site-packages/sklearn/cluster/_kmeans.py:1416: FutureWarning: The default value of `n_init` will change from 10 to 'auto' in 1.4. Set the value of `n_init` explicitly to suppress the warning\n",
      "  super()._check_params_vs_input(X, default_n_init=10)\n"
     ]
    },
    {
     "name": "stderr",
     "output_type": "stream",
     "text": [
      "/home/jup_user/mlproject/jup-env/lib/python3.8/site-packages/sklearn/cluster/_kmeans.py:1416: FutureWarning: The default value of `n_init` will change from 10 to 'auto' in 1.4. Set the value of `n_init` explicitly to suppress the warning\n",
      "  super()._check_params_vs_input(X, default_n_init=10)\n",
      "/home/jup_user/mlproject/jup-env/lib/python3.8/site-packages/sklearn/cluster/_kmeans.py:1416: FutureWarning: The default value of `n_init` will change from 10 to 'auto' in 1.4. Set the value of `n_init` explicitly to suppress the warning\n",
      "  super()._check_params_vs_input(X, default_n_init=10)\n"
     ]
    },
    {
     "name": "stderr",
     "output_type": "stream",
     "text": [
      "/home/jup_user/mlproject/jup-env/lib/python3.8/site-packages/sklearn/cluster/_kmeans.py:1416: FutureWarning: The default value of `n_init` will change from 10 to 'auto' in 1.4. Set the value of `n_init` explicitly to suppress the warning\n",
      "  super()._check_params_vs_input(X, default_n_init=10)\n"
     ]
    },
    {
     "name": "stderr",
     "output_type": "stream",
     "text": [
      "/home/jup_user/mlproject/jup-env/lib/python3.8/site-packages/sklearn/cluster/_kmeans.py:1416: FutureWarning: The default value of `n_init` will change from 10 to 'auto' in 1.4. Set the value of `n_init` explicitly to suppress the warning\n",
      "  super()._check_params_vs_input(X, default_n_init=10)\n"
     ]
    },
    {
     "name": "stderr",
     "output_type": "stream",
     "text": [
      "/home/jup_user/mlproject/jup-env/lib/python3.8/site-packages/sklearn/cluster/_kmeans.py:1416: FutureWarning: The default value of `n_init` will change from 10 to 'auto' in 1.4. Set the value of `n_init` explicitly to suppress the warning\n",
      "  super()._check_params_vs_input(X, default_n_init=10)\n"
     ]
    },
    {
     "name": "stderr",
     "output_type": "stream",
     "text": [
      "/home/jup_user/mlproject/jup-env/lib/python3.8/site-packages/sklearn/cluster/_kmeans.py:1416: FutureWarning: The default value of `n_init` will change from 10 to 'auto' in 1.4. Set the value of `n_init` explicitly to suppress the warning\n",
      "  super()._check_params_vs_input(X, default_n_init=10)\n"
     ]
    },
    {
     "name": "stderr",
     "output_type": "stream",
     "text": [
      "/home/jup_user/mlproject/jup-env/lib/python3.8/site-packages/sklearn/cluster/_kmeans.py:1416: FutureWarning: The default value of `n_init` will change from 10 to 'auto' in 1.4. Set the value of `n_init` explicitly to suppress the warning\n",
      "  super()._check_params_vs_input(X, default_n_init=10)\n"
     ]
    },
    {
     "name": "stderr",
     "output_type": "stream",
     "text": [
      "/home/jup_user/mlproject/jup-env/lib/python3.8/site-packages/sklearn/cluster/_kmeans.py:1416: FutureWarning: The default value of `n_init` will change from 10 to 'auto' in 1.4. Set the value of `n_init` explicitly to suppress the warning\n",
      "  super()._check_params_vs_input(X, default_n_init=10)\n"
     ]
    },
    {
     "name": "stderr",
     "output_type": "stream",
     "text": [
      "/home/jup_user/mlproject/jup-env/lib/python3.8/site-packages/sklearn/cluster/_kmeans.py:1416: FutureWarning: The default value of `n_init` will change from 10 to 'auto' in 1.4. Set the value of `n_init` explicitly to suppress the warning\n",
      "  super()._check_params_vs_input(X, default_n_init=10)\n"
     ]
    },
    {
     "name": "stderr",
     "output_type": "stream",
     "text": [
      "/home/jup_user/mlproject/jup-env/lib/python3.8/site-packages/sklearn/cluster/_kmeans.py:1416: FutureWarning: The default value of `n_init` will change from 10 to 'auto' in 1.4. Set the value of `n_init` explicitly to suppress the warning\n",
      "  super()._check_params_vs_input(X, default_n_init=10)\n"
     ]
    },
    {
     "name": "stderr",
     "output_type": "stream",
     "text": [
      "/home/jup_user/mlproject/jup-env/lib/python3.8/site-packages/sklearn/cluster/_kmeans.py:1416: FutureWarning: The default value of `n_init` will change from 10 to 'auto' in 1.4. Set the value of `n_init` explicitly to suppress the warning\n",
      "  super()._check_params_vs_input(X, default_n_init=10)\n"
     ]
    },
    {
     "name": "stderr",
     "output_type": "stream",
     "text": [
      "/home/jup_user/mlproject/jup-env/lib/python3.8/site-packages/sklearn/cluster/_kmeans.py:1416: FutureWarning: The default value of `n_init` will change from 10 to 'auto' in 1.4. Set the value of `n_init` explicitly to suppress the warning\n",
      "  super()._check_params_vs_input(X, default_n_init=10)\n"
     ]
    },
    {
     "name": "stderr",
     "output_type": "stream",
     "text": [
      "/home/jup_user/mlproject/jup-env/lib/python3.8/site-packages/sklearn/cluster/_kmeans.py:1416: FutureWarning: The default value of `n_init` will change from 10 to 'auto' in 1.4. Set the value of `n_init` explicitly to suppress the warning\n",
      "  super()._check_params_vs_input(X, default_n_init=10)\n"
     ]
    },
    {
     "name": "stderr",
     "output_type": "stream",
     "text": [
      "/home/jup_user/mlproject/jup-env/lib/python3.8/site-packages/sklearn/cluster/_kmeans.py:1416: FutureWarning: The default value of `n_init` will change from 10 to 'auto' in 1.4. Set the value of `n_init` explicitly to suppress the warning\n",
      "  super()._check_params_vs_input(X, default_n_init=10)\n"
     ]
    },
    {
     "name": "stderr",
     "output_type": "stream",
     "text": [
      "/home/jup_user/mlproject/jup-env/lib/python3.8/site-packages/sklearn/cluster/_kmeans.py:1416: FutureWarning: The default value of `n_init` will change from 10 to 'auto' in 1.4. Set the value of `n_init` explicitly to suppress the warning\n",
      "  super()._check_params_vs_input(X, default_n_init=10)\n"
     ]
    },
    {
     "name": "stderr",
     "output_type": "stream",
     "text": [
      "/home/jup_user/mlproject/jup-env/lib/python3.8/site-packages/sklearn/cluster/_kmeans.py:1416: FutureWarning: The default value of `n_init` will change from 10 to 'auto' in 1.4. Set the value of `n_init` explicitly to suppress the warning\n",
      "  super()._check_params_vs_input(X, default_n_init=10)\n"
     ]
    },
    {
     "name": "stderr",
     "output_type": "stream",
     "text": [
      "/home/jup_user/mlproject/jup-env/lib/python3.8/site-packages/sklearn/cluster/_kmeans.py:1416: FutureWarning: The default value of `n_init` will change from 10 to 'auto' in 1.4. Set the value of `n_init` explicitly to suppress the warning\n",
      "  super()._check_params_vs_input(X, default_n_init=10)\n"
     ]
    },
    {
     "name": "stderr",
     "output_type": "stream",
     "text": [
      "/home/jup_user/mlproject/jup-env/lib/python3.8/site-packages/sklearn/cluster/_kmeans.py:1416: FutureWarning: The default value of `n_init` will change from 10 to 'auto' in 1.4. Set the value of `n_init` explicitly to suppress the warning\n",
      "  super()._check_params_vs_input(X, default_n_init=10)\n"
     ]
    },
    {
     "name": "stderr",
     "output_type": "stream",
     "text": [
      "/home/jup_user/mlproject/jup-env/lib/python3.8/site-packages/sklearn/cluster/_kmeans.py:1416: FutureWarning: The default value of `n_init` will change from 10 to 'auto' in 1.4. Set the value of `n_init` explicitly to suppress the warning\n",
      "  super()._check_params_vs_input(X, default_n_init=10)\n"
     ]
    },
    {
     "name": "stderr",
     "output_type": "stream",
     "text": [
      "/home/jup_user/mlproject/jup-env/lib/python3.8/site-packages/sklearn/cluster/_kmeans.py:1416: FutureWarning: The default value of `n_init` will change from 10 to 'auto' in 1.4. Set the value of `n_init` explicitly to suppress the warning\n",
      "  super()._check_params_vs_input(X, default_n_init=10)\n"
     ]
    },
    {
     "name": "stderr",
     "output_type": "stream",
     "text": [
      "/home/jup_user/mlproject/jup-env/lib/python3.8/site-packages/sklearn/cluster/_kmeans.py:1416: FutureWarning: The default value of `n_init` will change from 10 to 'auto' in 1.4. Set the value of `n_init` explicitly to suppress the warning\n",
      "  super()._check_params_vs_input(X, default_n_init=10)\n"
     ]
    },
    {
     "name": "stderr",
     "output_type": "stream",
     "text": [
      "/home/jup_user/mlproject/jup-env/lib/python3.8/site-packages/sklearn/cluster/_kmeans.py:1416: FutureWarning: The default value of `n_init` will change from 10 to 'auto' in 1.4. Set the value of `n_init` explicitly to suppress the warning\n",
      "  super()._check_params_vs_input(X, default_n_init=10)\n"
     ]
    },
    {
     "name": "stderr",
     "output_type": "stream",
     "text": [
      "/home/jup_user/mlproject/jup-env/lib/python3.8/site-packages/sklearn/cluster/_kmeans.py:1416: FutureWarning: The default value of `n_init` will change from 10 to 'auto' in 1.4. Set the value of `n_init` explicitly to suppress the warning\n",
      "  super()._check_params_vs_input(X, default_n_init=10)\n"
     ]
    },
    {
     "name": "stderr",
     "output_type": "stream",
     "text": [
      "/home/jup_user/mlproject/jup-env/lib/python3.8/site-packages/sklearn/cluster/_kmeans.py:1416: FutureWarning: The default value of `n_init` will change from 10 to 'auto' in 1.4. Set the value of `n_init` explicitly to suppress the warning\n",
      "  super()._check_params_vs_input(X, default_n_init=10)\n"
     ]
    },
    {
     "name": "stderr",
     "output_type": "stream",
     "text": [
      "/home/jup_user/mlproject/jup-env/lib/python3.8/site-packages/sklearn/cluster/_kmeans.py:1416: FutureWarning: The default value of `n_init` will change from 10 to 'auto' in 1.4. Set the value of `n_init` explicitly to suppress the warning\n",
      "  super()._check_params_vs_input(X, default_n_init=10)\n"
     ]
    },
    {
     "name": "stderr",
     "output_type": "stream",
     "text": [
      "/home/jup_user/mlproject/jup-env/lib/python3.8/site-packages/sklearn/cluster/_kmeans.py:1416: FutureWarning: The default value of `n_init` will change from 10 to 'auto' in 1.4. Set the value of `n_init` explicitly to suppress the warning\n",
      "  super()._check_params_vs_input(X, default_n_init=10)\n"
     ]
    },
    {
     "name": "stderr",
     "output_type": "stream",
     "text": [
      "/home/jup_user/mlproject/jup-env/lib/python3.8/site-packages/sklearn/cluster/_kmeans.py:1416: FutureWarning: The default value of `n_init` will change from 10 to 'auto' in 1.4. Set the value of `n_init` explicitly to suppress the warning\n",
      "  super()._check_params_vs_input(X, default_n_init=10)\n"
     ]
    },
    {
     "name": "stderr",
     "output_type": "stream",
     "text": [
      "/home/jup_user/mlproject/jup-env/lib/python3.8/site-packages/sklearn/cluster/_kmeans.py:1416: FutureWarning: The default value of `n_init` will change from 10 to 'auto' in 1.4. Set the value of `n_init` explicitly to suppress the warning\n",
      "  super()._check_params_vs_input(X, default_n_init=10)\n"
     ]
    },
    {
     "name": "stderr",
     "output_type": "stream",
     "text": [
      "/home/jup_user/mlproject/jup-env/lib/python3.8/site-packages/sklearn/cluster/_kmeans.py:1416: FutureWarning: The default value of `n_init` will change from 10 to 'auto' in 1.4. Set the value of `n_init` explicitly to suppress the warning\n",
      "  super()._check_params_vs_input(X, default_n_init=10)\n"
     ]
    },
    {
     "name": "stderr",
     "output_type": "stream",
     "text": [
      "/home/jup_user/mlproject/jup-env/lib/python3.8/site-packages/sklearn/cluster/_kmeans.py:1416: FutureWarning: The default value of `n_init` will change from 10 to 'auto' in 1.4. Set the value of `n_init` explicitly to suppress the warning\n",
      "  super()._check_params_vs_input(X, default_n_init=10)\n"
     ]
    },
    {
     "name": "stderr",
     "output_type": "stream",
     "text": [
      "/home/jup_user/mlproject/jup-env/lib/python3.8/site-packages/sklearn/cluster/_kmeans.py:1416: FutureWarning: The default value of `n_init` will change from 10 to 'auto' in 1.4. Set the value of `n_init` explicitly to suppress the warning\n",
      "  super()._check_params_vs_input(X, default_n_init=10)\n"
     ]
    },
    {
     "name": "stderr",
     "output_type": "stream",
     "text": [
      "/home/jup_user/mlproject/jup-env/lib/python3.8/site-packages/sklearn/cluster/_kmeans.py:1416: FutureWarning: The default value of `n_init` will change from 10 to 'auto' in 1.4. Set the value of `n_init` explicitly to suppress the warning\n",
      "  super()._check_params_vs_input(X, default_n_init=10)\n"
     ]
    },
    {
     "name": "stderr",
     "output_type": "stream",
     "text": [
      "/home/jup_user/mlproject/jup-env/lib/python3.8/site-packages/sklearn/cluster/_kmeans.py:1416: FutureWarning: The default value of `n_init` will change from 10 to 'auto' in 1.4. Set the value of `n_init` explicitly to suppress the warning\n",
      "  super()._check_params_vs_input(X, default_n_init=10)\n"
     ]
    },
    {
     "name": "stderr",
     "output_type": "stream",
     "text": [
      "/home/jup_user/mlproject/jup-env/lib/python3.8/site-packages/sklearn/cluster/_kmeans.py:1416: FutureWarning: The default value of `n_init` will change from 10 to 'auto' in 1.4. Set the value of `n_init` explicitly to suppress the warning\n",
      "  super()._check_params_vs_input(X, default_n_init=10)\n"
     ]
    },
    {
     "name": "stderr",
     "output_type": "stream",
     "text": [
      "/home/jup_user/mlproject/jup-env/lib/python3.8/site-packages/sklearn/cluster/_kmeans.py:1416: FutureWarning: The default value of `n_init` will change from 10 to 'auto' in 1.4. Set the value of `n_init` explicitly to suppress the warning\n",
      "  super()._check_params_vs_input(X, default_n_init=10)\n"
     ]
    },
    {
     "name": "stderr",
     "output_type": "stream",
     "text": [
      "/home/jup_user/mlproject/jup-env/lib/python3.8/site-packages/sklearn/cluster/_kmeans.py:1416: FutureWarning: The default value of `n_init` will change from 10 to 'auto' in 1.4. Set the value of `n_init` explicitly to suppress the warning\n",
      "  super()._check_params_vs_input(X, default_n_init=10)\n"
     ]
    },
    {
     "name": "stderr",
     "output_type": "stream",
     "text": [
      "/home/jup_user/mlproject/jup-env/lib/python3.8/site-packages/sklearn/cluster/_kmeans.py:1416: FutureWarning: The default value of `n_init` will change from 10 to 'auto' in 1.4. Set the value of `n_init` explicitly to suppress the warning\n",
      "  super()._check_params_vs_input(X, default_n_init=10)\n"
     ]
    },
    {
     "name": "stderr",
     "output_type": "stream",
     "text": [
      "/home/jup_user/mlproject/jup-env/lib/python3.8/site-packages/sklearn/cluster/_kmeans.py:1416: FutureWarning: The default value of `n_init` will change from 10 to 'auto' in 1.4. Set the value of `n_init` explicitly to suppress the warning\n",
      "  super()._check_params_vs_input(X, default_n_init=10)\n"
     ]
    },
    {
     "name": "stderr",
     "output_type": "stream",
     "text": [
      "/home/jup_user/mlproject/jup-env/lib/python3.8/site-packages/sklearn/cluster/_kmeans.py:1416: FutureWarning: The default value of `n_init` will change from 10 to 'auto' in 1.4. Set the value of `n_init` explicitly to suppress the warning\n",
      "  super()._check_params_vs_input(X, default_n_init=10)\n"
     ]
    },
    {
     "name": "stderr",
     "output_type": "stream",
     "text": [
      "/home/jup_user/mlproject/jup-env/lib/python3.8/site-packages/sklearn/cluster/_kmeans.py:1416: FutureWarning: The default value of `n_init` will change from 10 to 'auto' in 1.4. Set the value of `n_init` explicitly to suppress the warning\n",
      "  super()._check_params_vs_input(X, default_n_init=10)\n"
     ]
    },
    {
     "name": "stderr",
     "output_type": "stream",
     "text": [
      "/home/jup_user/mlproject/jup-env/lib/python3.8/site-packages/sklearn/cluster/_kmeans.py:1416: FutureWarning: The default value of `n_init` will change from 10 to 'auto' in 1.4. Set the value of `n_init` explicitly to suppress the warning\n",
      "  super()._check_params_vs_input(X, default_n_init=10)\n"
     ]
    },
    {
     "name": "stderr",
     "output_type": "stream",
     "text": [
      "/home/jup_user/mlproject/jup-env/lib/python3.8/site-packages/sklearn/cluster/_kmeans.py:1416: FutureWarning: The default value of `n_init` will change from 10 to 'auto' in 1.4. Set the value of `n_init` explicitly to suppress the warning\n",
      "  super()._check_params_vs_input(X, default_n_init=10)\n"
     ]
    },
    {
     "name": "stderr",
     "output_type": "stream",
     "text": [
      "/home/jup_user/mlproject/jup-env/lib/python3.8/site-packages/sklearn/cluster/_kmeans.py:1416: FutureWarning: The default value of `n_init` will change from 10 to 'auto' in 1.4. Set the value of `n_init` explicitly to suppress the warning\n",
      "  super()._check_params_vs_input(X, default_n_init=10)\n"
     ]
    }
   ],
   "source": [
    "path = folder_path\n",
    "# change the working directory to the path where the images are located\n",
    "os.chdir(path)\n",
    "\n",
    "# this list holds all the image filename\n",
    "flowers = []\n",
    "\n",
    "# creates a ScandirIterator aliased as files\n",
    "with os.scandir(path) as files:\n",
    "  # loops through each file in the directory\n",
    "    for file in files:\n",
    "        if file.name.endswith('.jpg'):\n",
    "          # adds only the image files to the flowers list\n",
    "            flowers.append(file.name)\n",
    "        if file.name.endswith('.png'):\n",
    "            # adds only the image files to the flowers list\n",
    "            flowers.append(file.name)\n",
    "            \n",
    "model = VGG16()\n",
    "model = Model(inputs = model.inputs, outputs = model.layers[-2].output)\n",
    "   \n",
    "data = {}\n",
    "p = \"/home/jup_user/multipool/ai-case-study/img\"\n",
    "\n",
    "# lop through each image in the dataset\n",
    "for flower in flowers:\n",
    "    # try to extract the features and update the dictionary\n",
    "    try:\n",
    "        feat = extract_features(flower,model)\n",
    "        data[flower] = feat\n",
    "    # if something fails, save the extracted features as a pickle file (optional)\n",
    "    except:\n",
    "        with open(p,'wb') as file:\n",
    "            pickle.dump(data,file)\n",
    "          \n",
    "# get a list of the filenames\n",
    "filenames = np.array(list(data.keys()))\n",
    "\n",
    "# get a list of just the features\n",
    "feat = np.array(list(data.values()))\n",
    "\n",
    "# reshape so that there are 210 samples of 4096 vectors\n",
    "feat = feat.reshape(-1,4096)\n",
    "\n",
    "# get the unique labels (from the flower_labels.csv)\n",
    "df = pd.read_csv('/home/jup_user/multipool/ai-case-study/flower_labels.csv')\n",
    "label = df['label'].tolist()\n",
    "unique_labels = list(set(label))\n",
    "\n",
    "# reduce the amount of dimensions in the feature vector\n",
    "pca = PCA(n_components=100, random_state=22)\n",
    "pca.fit(feat)\n",
    "x = pca.transform(feat)\n",
    "\n",
    "# cluster feature vectors\n",
    "kmeans = KMeans(n_clusters=len(unique_labels), random_state=22)\n",
    "kmeans.fit(x)\n",
    "\n",
    "# holds the cluster id and the images { id: [images] }\n",
    "groups = {}\n",
    "for file, cluster in zip(filenames,kmeans.labels_):\n",
    "    if cluster not in groups.keys():\n",
    "        groups[cluster] = []\n",
    "        groups[cluster].append(file)\n",
    "    else:\n",
    "        groups[cluster].append(file)\n",
    "\n",
    "# this is just incase you want to see which value for k might be the best \n",
    "sse = []\n",
    "list_k = list(range(3, 50))\n",
    "\n",
    "for k in list_k:\n",
    "    km = KMeans(n_clusters=k, random_state=22)\n",
    "    km.fit(x)\n",
    "    \n",
    "    sse.append(km.inertia_)\n",
    "\n",
    "# function to calculate clusters\n",
    "def cluster(filePaths, features, threshold=0.9):\n",
    "    features = features.reshape(-1,4096)\n",
    "    simMatrix = cosine_similarity(features)\n",
    "    clusters = {}\n",
    "    for i in range(len(features)):\n",
    "        dupIdx = list(np.where(simMatrix[i] > threshold)[0])\n",
    "        # The similarity matrix will include comparisons of items with themselves, which will always \n",
    "        # result in a similarity of 1.0 (100%) and is redundant, so we ignore those\n",
    "        if len(dupIdx) > 1:\n",
    "            curCluster, clusterMatch = list(dupIdx), None\n",
    "            # The first time an image is found to be in any given cluster, we log the entire cluster, \n",
    "            # so subsequent checks of other images from the same cluster would result in duplicated clusters.\n",
    "            # Check for that here\n",
    "            for cIdx in clusters:\n",
    "                if curCluster[0] in clusters[cIdx]:\n",
    "                    clusterMatch = cIdx\n",
    "                    break\n",
    "            # If the current cluster didn't match any existing ones, create/log it\n",
    "            if clusterMatch == None: clusters[len(clusters)] = curCluster\n",
    "    # Resolve file indices back to file paths\n",
    "    for cIdx in clusters: clusters[cIdx] = [filePaths[x] for x in clusters[cIdx]]\n",
    "    return clusters\n",
    "\n",
    "# another method of clustering based on CSI\n",
    "clus_new = cluster(filenames, feat, threshold=0.6)"
   ]
  },
  {
   "cell_type": "code",
   "execution_count": 7,
   "id": "d431c067-bb02-4785-9f0a-511ceacbb4cc",
   "metadata": {
    "execution": {
     "iopub.execute_input": "2024-05-23T17:17:20.704784Z",
     "iopub.status.busy": "2024-05-23T17:17:20.702571Z",
     "iopub.status.idle": "2024-05-23T17:17:20.712845Z",
     "shell.execute_reply": "2024-05-23T17:17:20.711531Z"
    }
   },
   "outputs": [],
   "source": [
    "# prepare data for saving to rdbms\n",
    "save_df = result_df"
   ]
  },
  {
   "cell_type": "code",
   "execution_count": 8,
   "id": "19662fd0-5dd8-466f-a505-a81568f2a000",
   "metadata": {
    "execution": {
     "iopub.execute_input": "2024-05-23T17:17:20.717864Z",
     "iopub.status.busy": "2024-05-23T17:17:20.717238Z",
     "iopub.status.idle": "2024-05-23T17:17:20.725685Z",
     "shell.execute_reply": "2024-05-23T17:17:20.724723Z"
    }
   },
   "outputs": [],
   "source": [
    "# save_df[[\"file_folder\",\"filename_actual\"]] = save_df['filename'].str.split('/',n=1, expand=True)\n",
    "save_df['cluster_number'] = 0"
   ]
  },
  {
   "cell_type": "code",
   "execution_count": 9,
   "id": "e81fc242-b9f9-4d7e-a4e2-7e4605826aaf",
   "metadata": {
    "collapsed": true,
    "execution": {
     "iopub.execute_input": "2024-05-23T17:17:20.731537Z",
     "iopub.status.busy": "2024-05-23T17:17:20.730366Z",
     "iopub.status.idle": "2024-05-23T17:17:20.815879Z",
     "shell.execute_reply": "2024-05-23T17:17:20.811243Z"
    },
    "jupyter": {
     "outputs_hidden": true
    }
   },
=======
>>>>>>> ce1d860e8f986e5a64cc79d9c113b22d7c00ddef
   "outputs": [
    {
     "name": "stdout",
     "output_type": "stream",
     "text": [
<<<<<<< HEAD
      "GODq6JPbUAAZ5hQ.jpg\n",
      "GONVmz9aMAAisrF.jpg\n",
      "GOPuthHWkAAKQab.jpg\n",
      "GOPr9gcWYAAHhmi.jpg\n",
      "GOPum-5aAAAznFH.jpg\n",
      "GOHjrRMWMAAU4Hm.jpg\n",
      "GOPrXlsa8AAVLxV.png\n",
      "GOPpkaoWEAA4XBe.jpg\n",
      "GOPwLw7XIAAQGVO.jpg\n",
      "GONHrgIa0AAOvbt.jpg\n",
      "GOPuE9bXgAAntoz.jpg\n",
      "GOPrBN4WEAAo11b.jpg\n",
      "GOPuQguWoAAzwYo.jpg\n",
      "GOPqAOfWMAA2YLp.jpg\n",
      "GOPvfkPXgAA4mgY.jpg\n",
      "GOPnuixXkAATkIK.png\n",
      "GOL7mifW0AAKNW5.jpg\n",
      "GOPqGrzakAALRoR.png\n",
      "GOPsIDfbgAAzOEQ.jpg\n",
      "GOPrzQbXUAA2HKN.jpg\n",
      "GOPpVdabgAIwTJT.jpg\n",
      "GOM_nhsWAAASp11.png\n",
      "GOPpak4WAAAEkZ1.jpg\n",
      "GOPw62sWEAAFs3g.jpg\n",
      "GOPoPb9bwAA8uo6.jpg\n",
      "GOPq4pPboAEjvHj.jpg\n",
      "GOPpZXFW4AAKP7l.jpg\n",
      "GONVmz9aMAAisrF.jpg\n",
      "GOL9ctBWUAAx9xs.jpg\n",
      "GOPwejWXcAAFCBH.jpg\n",
      "GOPS4q1XoAApwmi.jpg\n",
      "GOPoFXjWcAAvenv.jpg\n",
      "GOPwP-ZWYAA2v21.jpg\n",
      "GOPo1ZgWYAAP0m5.jpg\n",
      "GOPoG_AakAAIbLc.jpg\n",
      "GOPqqCxXQAEsTsV.jpg\n",
      "GOPwuNbXMAEewfe.jpg\n",
      "GOPu21vbwAEyzBW.jpg\n",
      "GOPpTzbXIAA96hl.jpg\n",
      "GOPsrOzbEAA1nbj.jpg\n",
      "GOM_nhsWAAASp11.png\n",
      "GOPw62sWEAAFs3g.jpg\n",
      "GOPswL6WAAAwRIF.jpg\n",
      "GOMnNUQWYAAWIXh.jpg\n",
      "GOPwejWXcAAFCBH.jpg\n",
      "GOPoFXjWcAAvenv.jpg\n",
      "GOPs-RXW0AAu5L7.jpg\n",
      "GOPpkmoacAAH0X-.jpg\n",
      "GOPw62sWEAAFs3g.jpg\n",
      "GOPnozGaIAA3QBw.jpg\n",
      "GOPxOKGWMAAC5CY.jpg\n",
      "GOPqFbwWYAAi2Mb.png\n",
      "GOPqlr4XUAAHSRO.jpg\n",
      "GONAvJfb0AMPIBf.jpg\n",
      "GOL7mifW0AAKNW5.jpg\n",
      "GOPm_M9W4AEJtsl.png\n",
      "GOPwKAnbUAAyutr.jpg\n",
      "GOPwM6na4AEAiap.jpg\n",
      "GOPtoEiWUAEbYCY.png\n",
      "GOPoPb9bwAA8uo6.jpg\n",
      "GOPu-dIWEAAGaRT.jpg\n"
     ]
    }
   ],
   "source": [
    "for item in clus_new:\n",
    "    # print(clus_new[item])\n",
    "    # print(len(clus_new[item]))\n",
    "    for file in clus_new[item]:\n",
    "        # print(item)\n",
    "        print(file)\n",
    "        filter_condition = save_df['filename'] == file\n",
    "        save_df.loc[filter_condition,'cluster_number'] = item\n",
    "        result = save_df[filter_condition]\n",
    "        # result['cluster_number'] = item\n",
    "        # print(save_df.loc[filter_condition,'cluster_number'])"
   ]
  },
  {
   "cell_type": "code",
   "execution_count": 10,
   "id": "75d585c9-ce51-461d-86c7-c9bc2c45fb79",
   "metadata": {
    "collapsed": true,
    "execution": {
     "iopub.execute_input": "2024-05-23T17:17:20.822719Z",
     "iopub.status.busy": "2024-05-23T17:17:20.822207Z",
     "iopub.status.idle": "2024-05-23T17:17:25.552348Z",
     "shell.execute_reply": "2024-05-23T17:17:25.549854Z"
    },
    "jupyter": {
     "outputs_hidden": true
    }
   },
   "outputs": [
=======
      "\r",
      "1/1 [==============================] - ETA: 0s"
     ]
    },
    {
     "name": "stdout",
     "output_type": "stream",
     "text": [
      "\b\b\b\b\b\b\b\b\b\b\b\b\b\b\b\b\b\b\b\b\b\b\b\b\b\b\b\b\b\b\b\b\b\b\b\b\b\b\b\b\b\b\b\b\b\b\r",
      "1/1 [==============================] - 0s 291ms/step\n"
     ]
    },
    {
     "name": "stdout",
     "output_type": "stream",
     "text": [
      "\r",
      "1/1 [==============================] - ETA: 0s"
     ]
    },
    {
     "name": "stdout",
     "output_type": "stream",
     "text": [
      "\b\b\b\b\b\b\b\b\b\b\b\b\b\b\b\b\b\b\b\b\b\b\b\b\b\b\b\b\b\b\b\b\b\b\b\b\b\b\b\b\b\b\b\b\b\b\r",
      "1/1 [==============================] - 0s 140ms/step\n"
     ]
    },
    {
     "name": "stdout",
     "output_type": "stream",
     "text": [
      "\r",
      "1/1 [==============================] - ETA: 0s"
     ]
    },
    {
     "name": "stdout",
     "output_type": "stream",
     "text": [
      "\b\b\b\b\b\b\b\b\b\b\b\b\b\b\b\b\b\b\b\b\b\b\b\b\b\b\b\b\b\b\b\b\b\b\b\b\b\b\b\b\b\b\b\b\b\b\r",
      "1/1 [==============================] - 0s 132ms/step\n"
     ]
    },
    {
     "name": "stdout",
     "output_type": "stream",
     "text": [
      "\r",
      "1/1 [==============================] - ETA: 0s"
     ]
    },
    {
     "name": "stdout",
     "output_type": "stream",
     "text": [
      "\b\b\b\b\b\b\b\b\b\b\b\b\b\b\b\b\b\b\b\b\b\b\b\b\b\b\b\b\b\b\b\b\b\b\b\b\b\b\b\b\b\b\b\b\b\b\r",
      "1/1 [==============================] - 0s 134ms/step\n"
     ]
    },
    {
     "name": "stdout",
     "output_type": "stream",
     "text": [
      "\r",
      "1/1 [==============================] - ETA: 0s"
     ]
    },
    {
     "name": "stdout",
     "output_type": "stream",
     "text": [
      "\b\b\b\b\b\b\b\b\b\b\b\b\b\b\b\b\b\b\b\b\b\b\b\b\b\b\b\b\b\b\b\b\b\b\b\b\b\b\b\b\b\b\b\b\b\b\r",
      "1/1 [==============================] - 0s 133ms/step\n"
     ]
    },
    {
     "name": "stdout",
     "output_type": "stream",
     "text": [
      "\r",
      "1/1 [==============================] - ETA: 0s"
     ]
    },
    {
     "name": "stdout",
     "output_type": "stream",
     "text": [
      "\b\b\b\b\b\b\b\b\b\b\b\b\b\b\b\b\b\b\b\b\b\b\b\b\b\b\b\b\b\b\b\b\b\b\b\b\b\b\b\b\b\b\b\b\b\b\r",
      "1/1 [==============================] - 0s 140ms/step\n"
     ]
    },
    {
     "name": "stdout",
     "output_type": "stream",
     "text": [
      "\r",
      "1/1 [==============================] - ETA: 0s"
     ]
    },
    {
     "name": "stdout",
     "output_type": "stream",
     "text": [
      "\b\b\b\b\b\b\b\b\b\b\b\b\b\b\b\b\b\b\b\b\b\b\b\b\b\b\b\b\b\b\b\b\b\b\b\b\b\b\b\b\b\b\b\b\b\b\r",
      "1/1 [==============================] - 0s 128ms/step\n"
     ]
    },
    {
     "name": "stdout",
     "output_type": "stream",
     "text": [
      "\r",
      "1/1 [==============================] - ETA: 0s"
     ]
    },
    {
     "name": "stdout",
     "output_type": "stream",
     "text": [
      "\b\b\b\b\b\b\b\b\b\b\b\b\b\b\b\b\b\b\b\b\b\b\b\b\b\b\b\b\b\b\b\b\b\b\b\b\b\b\b\b\b\b\b\b\b\b\r",
      "1/1 [==============================] - 0s 128ms/step\n"
     ]
    },
    {
     "name": "stdout",
     "output_type": "stream",
     "text": [
      "\r",
      "1/1 [==============================] - ETA: 0s"
     ]
    },
    {
     "name": "stdout",
     "output_type": "stream",
     "text": [
      "\b\b\b\b\b\b\b\b\b\b\b\b\b\b\b\b\b\b\b\b\b\b\b\b\b\b\b\b\b\b\b\b\b\b\b\b\b\b\b\b\b\b\b\b\b\b\r",
      "1/1 [==============================] - 0s 126ms/step\n"
     ]
    },
    {
     "name": "stdout",
     "output_type": "stream",
     "text": [
      "\r",
      "1/1 [==============================] - ETA: 0s"
     ]
    },
    {
     "name": "stdout",
     "output_type": "stream",
     "text": [
      "\b\b\b\b\b\b\b\b\b\b\b\b\b\b\b\b\b\b\b\b\b\b\b\b\b\b\b\b\b\b\b\b\b\b\b\b\b\b\b\b\b\b\b\b\b\b\r",
      "1/1 [==============================] - 0s 121ms/step\n"
     ]
    },
    {
     "name": "stdout",
     "output_type": "stream",
     "text": [
      "\r",
      "1/1 [==============================] - ETA: 0s"
     ]
    },
    {
     "name": "stdout",
     "output_type": "stream",
     "text": [
      "\b\b\b\b\b\b\b\b\b\b\b\b\b\b\b\b\b\b\b\b\b\b\b\b\b\b\b\b\b\b\b\b\b\b\b\b\b\b\b\b\b\b\b\b\b\b\r",
      "1/1 [==============================] - 0s 125ms/step\n"
     ]
    },
    {
     "name": "stdout",
     "output_type": "stream",
     "text": [
      "\r",
      "1/1 [==============================] - ETA: 0s"
     ]
    },
    {
     "name": "stdout",
     "output_type": "stream",
     "text": [
      "\b\b\b\b\b\b\b\b\b\b\b\b\b\b\b\b\b\b\b\b\b\b\b\b\b\b\b\b\b\b\b\b\b\b\b\b\b\b\b\b\b\b\b\b\b\b\r",
      "1/1 [==============================] - 0s 121ms/step\n"
     ]
    },
    {
     "name": "stdout",
     "output_type": "stream",
     "text": [
      "\r",
      "1/1 [==============================] - ETA: 0s"
     ]
    },
    {
     "name": "stdout",
     "output_type": "stream",
     "text": [
      "\b\b\b\b\b\b\b\b\b\b\b\b\b\b\b\b\b\b\b\b\b\b\b\b\b\b\b\b\b\b\b\b\b\b\b\b\b\b\b\b\b\b\b\b\b\b\r",
      "1/1 [==============================] - 0s 121ms/step\n"
     ]
    },
    {
     "name": "stdout",
     "output_type": "stream",
     "text": [
      "\r",
      "1/1 [==============================] - ETA: 0s"
     ]
    },
    {
     "name": "stdout",
     "output_type": "stream",
     "text": [
      "\b\b\b\b\b\b\b\b\b\b\b\b\b\b\b\b\b\b\b\b\b\b\b\b\b\b\b\b\b\b\b\b\b\b\b\b\b\b\b\b\b\b\b\b\b\b\r",
      "1/1 [==============================] - 0s 123ms/step\n"
     ]
    },
    {
     "name": "stdout",
     "output_type": "stream",
     "text": [
      "\r",
      "1/1 [==============================] - ETA: 0s"
     ]
    },
    {
     "name": "stdout",
     "output_type": "stream",
     "text": [
      "\b\b\b\b\b\b\b\b\b\b\b\b\b\b\b\b\b\b\b\b\b\b\b\b\b\b\b\b\b\b\b\b\b\b\b\b\b\b\b\b\b\b\b\b\b\b\r",
      "1/1 [==============================] - 0s 127ms/step\n"
     ]
    },
    {
     "name": "stdout",
     "output_type": "stream",
     "text": [
      "\r",
      "1/1 [==============================] - ETA: 0s"
     ]
    },
    {
     "name": "stdout",
     "output_type": "stream",
     "text": [
      "\b\b\b\b\b\b\b\b\b\b\b\b\b\b\b\b\b\b\b\b\b\b\b\b\b\b\b\b\b\b\b\b\b\b\b\b\b\b\b\b\b\b\b\b\b\b\r",
      "1/1 [==============================] - 0s 137ms/step\n"
     ]
    },
    {
     "name": "stdout",
     "output_type": "stream",
     "text": [
      "\r",
      "1/1 [==============================] - ETA: 0s"
     ]
    },
    {
     "name": "stdout",
     "output_type": "stream",
     "text": [
      "\b\b\b\b\b\b\b\b\b\b\b\b\b\b\b\b\b\b\b\b\b\b\b\b\b\b\b\b\b\b\b\b\b\b\b\b\b\b\b\b\b\b\b\b\b\b\r",
      "1/1 [==============================] - 0s 154ms/step\n"
     ]
    },
    {
     "name": "stdout",
     "output_type": "stream",
     "text": [
      "\r",
      "1/1 [==============================] - ETA: 0s"
     ]
    },
    {
     "name": "stdout",
     "output_type": "stream",
     "text": [
      "\b\b\b\b\b\b\b\b\b\b\b\b\b\b\b\b\b\b\b\b\b\b\b\b\b\b\b\b\b\b\b\b\b\b\b\b\b\b\b\b\b\b\b\b\b\b\r",
      "1/1 [==============================] - 0s 134ms/step\n"
     ]
    },
    {
     "name": "stdout",
     "output_type": "stream",
     "text": [
      "\r",
      "1/1 [==============================] - ETA: 0s"
     ]
    },
    {
     "name": "stdout",
     "output_type": "stream",
     "text": [
      "\b\b\b\b\b\b\b\b\b\b\b\b\b\b\b\b\b\b\b\b\b\b\b\b\b\b\b\b\b\b\b\b\b\b\b\b\b\b\b\b\b\b\b\b\b\b\r",
      "1/1 [==============================] - 0s 131ms/step\n"
     ]
    },
    {
     "name": "stdout",
     "output_type": "stream",
     "text": [
      "\r",
      "1/1 [==============================] - ETA: 0s"
     ]
    },
    {
     "name": "stdout",
     "output_type": "stream",
     "text": [
      "\b\b\b\b\b\b\b\b\b\b\b\b\b\b\b\b\b\b\b\b\b\b\b\b\b\b\b\b\b\b\b\b\b\b\b\b\b\b\b\b\b\b\b\b\b\b\r",
      "1/1 [==============================] - 0s 127ms/step\n"
     ]
    },
    {
     "name": "stdout",
     "output_type": "stream",
     "text": [
      "\r",
      "1/1 [==============================] - ETA: 0s"
     ]
    },
    {
     "name": "stdout",
     "output_type": "stream",
     "text": [
      "\b\b\b\b\b\b\b\b\b\b\b\b\b\b\b\b\b\b\b\b\b\b\b\b\b\b\b\b\b\b\b\b\b\b\b\b\b\b\b\b\b\b\b\b\b\b\r",
      "1/1 [==============================] - 0s 123ms/step\n"
     ]
    },
    {
     "name": "stdout",
     "output_type": "stream",
     "text": [
      "\r",
      "1/1 [==============================] - ETA: 0s"
     ]
    },
    {
     "name": "stdout",
     "output_type": "stream",
     "text": [
      "\b\b\b\b\b\b\b\b\b\b\b\b\b\b\b\b\b\b\b\b\b\b\b\b\b\b\b\b\b\b\b\b\b\b\b\b\b\b\b\b\b\b\b\b\b\b\r",
      "1/1 [==============================] - 0s 134ms/step\n"
     ]
    },
    {
     "name": "stdout",
     "output_type": "stream",
     "text": [
      "\r",
      "1/1 [==============================] - ETA: 0s"
     ]
    },
    {
     "name": "stdout",
     "output_type": "stream",
     "text": [
      "\b\b\b\b\b\b\b\b\b\b\b\b\b\b\b\b\b\b\b\b\b\b\b\b\b\b\b\b\b\b\b\b\b\b\b\b\b\b\b\b\b\b\b\b\b\b\r",
      "1/1 [==============================] - 0s 118ms/step\n"
     ]
    },
    {
     "name": "stdout",
     "output_type": "stream",
     "text": [
      "\r",
      "1/1 [==============================] - ETA: 0s"
     ]
    },
    {
     "name": "stdout",
     "output_type": "stream",
     "text": [
      "\b\b\b\b\b\b\b\b\b\b\b\b\b\b\b\b\b\b\b\b\b\b\b\b\b\b\b\b\b\b\b\b\b\b\b\b\b\b\b\b\b\b\b\b\b\b\r",
      "1/1 [==============================] - 0s 136ms/step\n"
     ]
    },
    {
     "name": "stdout",
     "output_type": "stream",
     "text": [
      "\r",
      "1/1 [==============================] - ETA: 0s"
     ]
    },
    {
     "name": "stdout",
     "output_type": "stream",
     "text": [
      "\b\b\b\b\b\b\b\b\b\b\b\b\b\b\b\b\b\b\b\b\b\b\b\b\b\b\b\b\b\b\b\b\b\b\b\b\b\b\b\b\b\b\b\b\b\b\r",
      "1/1 [==============================] - 0s 129ms/step\n"
     ]
    },
    {
     "name": "stdout",
     "output_type": "stream",
     "text": [
      "\r",
      "1/1 [==============================] - ETA: 0s"
     ]
    },
    {
     "name": "stdout",
     "output_type": "stream",
     "text": [
      "\b\b\b\b\b\b\b\b\b\b\b\b\b\b\b\b\b\b\b\b\b\b\b\b\b\b\b\b\b\b\b\b\b\b\b\b\b\b\b\b\b\b\b\b\b\b\r",
      "1/1 [==============================] - 0s 132ms/step\n"
     ]
    },
    {
     "name": "stdout",
     "output_type": "stream",
     "text": [
      "\r",
      "1/1 [==============================] - ETA: 0s"
     ]
    },
    {
     "name": "stdout",
     "output_type": "stream",
     "text": [
      "\b\b\b\b\b\b\b\b\b\b\b\b\b\b\b\b\b\b\b\b\b\b\b\b\b\b\b\b\b\b\b\b\b\b\b\b\b\b\b\b\b\b\b\b\b\b\r",
      "1/1 [==============================] - 0s 126ms/step\n"
     ]
    },
    {
     "name": "stdout",
     "output_type": "stream",
     "text": [
      "\r",
      "1/1 [==============================] - ETA: 0s"
     ]
    },
    {
     "name": "stdout",
     "output_type": "stream",
     "text": [
      "\b\b\b\b\b\b\b\b\b\b\b\b\b\b\b\b\b\b\b\b\b\b\b\b\b\b\b\b\b\b\b\b\b\b\b\b\b\b\b\b\b\b\b\b\b\b\r",
      "1/1 [==============================] - 0s 146ms/step\n"
     ]
    },
    {
     "name": "stdout",
     "output_type": "stream",
     "text": [
      "\r",
      "1/1 [==============================] - ETA: 0s"
     ]
    },
    {
     "name": "stdout",
     "output_type": "stream",
     "text": [
      "\b\b\b\b\b\b\b\b\b\b\b\b\b\b\b\b\b\b\b\b\b\b\b\b\b\b\b\b\b\b\b\b\b\b\b\b\b\b\b\b\b\b\b\b\b\b\r",
      "1/1 [==============================] - 0s 118ms/step\n"
     ]
    },
    {
     "name": "stdout",
     "output_type": "stream",
     "text": [
      "\r",
      "1/1 [==============================] - ETA: 0s"
     ]
    },
    {
     "name": "stdout",
     "output_type": "stream",
     "text": [
      "\b\b\b\b\b\b\b\b\b\b\b\b\b\b\b\b\b\b\b\b\b\b\b\b\b\b\b\b\b\b\b\b\b\b\b\b\b\b\b\b\b\b\b\b\b\b\r",
      "1/1 [==============================] - 0s 126ms/step\n"
     ]
    },
    {
     "name": "stdout",
     "output_type": "stream",
     "text": [
      "\r",
      "1/1 [==============================] - ETA: 0s"
     ]
    },
    {
     "name": "stdout",
     "output_type": "stream",
     "text": [
      "\b\b\b\b\b\b\b\b\b\b\b\b\b\b\b\b\b\b\b\b\b\b\b\b\b\b\b\b\b\b\b\b\b\b\b\b\b\b\b\b\b\b\b\b\b\b\r",
      "1/1 [==============================] - 0s 135ms/step\n"
     ]
    },
    {
     "name": "stdout",
     "output_type": "stream",
     "text": [
      "\r",
      "1/1 [==============================] - ETA: 0s"
     ]
    },
    {
     "name": "stdout",
     "output_type": "stream",
     "text": [
      "\b\b\b\b\b\b\b\b\b\b\b\b\b\b\b\b\b\b\b\b\b\b\b\b\b\b\b\b\b\b\b\b\b\b\b\b\b\b\b\b\b\b\b\b\b\b\r",
      "1/1 [==============================] - 0s 122ms/step\n"
     ]
    },
    {
     "name": "stdout",
     "output_type": "stream",
     "text": [
      "\r",
      "1/1 [==============================] - ETA: 0s"
     ]
    },
    {
     "name": "stdout",
     "output_type": "stream",
     "text": [
      "\b\b\b\b\b\b\b\b\b\b\b\b\b\b\b\b\b\b\b\b\b\b\b\b\b\b\b\b\b\b\b\b\b\b\b\b\b\b\b\b\b\b\b\b\b\b\r",
      "1/1 [==============================] - 0s 120ms/step\n"
     ]
    },
    {
     "name": "stdout",
     "output_type": "stream",
     "text": [
      "\r",
      "1/1 [==============================] - ETA: 0s"
     ]
    },
    {
     "name": "stdout",
     "output_type": "stream",
     "text": [
      "\b\b\b\b\b\b\b\b\b\b\b\b\b\b\b\b\b\b\b\b\b\b\b\b\b\b\b\b\b\b\b\b\b\b\b\b\b\b\b\b\b\b\b\b\b\b\r",
      "1/1 [==============================] - 0s 130ms/step\n"
     ]
    },
    {
     "name": "stdout",
     "output_type": "stream",
     "text": [
      "\r",
      "1/1 [==============================] - ETA: 0s"
     ]
    },
    {
     "name": "stdout",
     "output_type": "stream",
     "text": [
      "\b\b\b\b\b\b\b\b\b\b\b\b\b\b\b\b\b\b\b\b\b\b\b\b\b\b\b\b\b\b\b\b\b\b\b\b\b\b\b\b\b\b\b\b\b\b\r",
      "1/1 [==============================] - 0s 118ms/step\n"
     ]
    },
    {
     "name": "stdout",
     "output_type": "stream",
     "text": [
      "\r",
      "1/1 [==============================] - ETA: 0s"
     ]
    },
    {
     "name": "stdout",
     "output_type": "stream",
     "text": [
      "\b\b\b\b\b\b\b\b\b\b\b\b\b\b\b\b\b\b\b\b\b\b\b\b\b\b\b\b\b\b\b\b\b\b\b\b\b\b\b\b\b\b\b\b\b\b\r",
      "1/1 [==============================] - 0s 123ms/step\n"
     ]
    },
    {
     "name": "stdout",
     "output_type": "stream",
     "text": [
      "\r",
      "1/1 [==============================] - ETA: 0s"
     ]
    },
    {
     "name": "stdout",
     "output_type": "stream",
     "text": [
      "\b\b\b\b\b\b\b\b\b\b\b\b\b\b\b\b\b\b\b\b\b\b\b\b\b\b\b\b\b\b\b\b\b\b\b\b\b\b\b\b\b\b\b\b\b\b\r",
      "1/1 [==============================] - 0s 122ms/step\n"
     ]
    },
    {
     "name": "stdout",
     "output_type": "stream",
     "text": [
      "\r",
      "1/1 [==============================] - ETA: 0s"
     ]
    },
    {
     "name": "stdout",
     "output_type": "stream",
     "text": [
      "\b\b\b\b\b\b\b\b\b\b\b\b\b\b\b\b\b\b\b\b\b\b\b\b\b\b\b\b\b\b\b\b\b\b\b\b\b\b\b\b\b\b\b\b\b\b\r",
      "1/1 [==============================] - 0s 125ms/step\n"
     ]
    },
    {
     "name": "stdout",
     "output_type": "stream",
     "text": [
      "\r",
      "1/1 [==============================] - ETA: 0s"
     ]
    },
    {
     "name": "stdout",
     "output_type": "stream",
     "text": [
      "\b\b\b\b\b\b\b\b\b\b\b\b\b\b\b\b\b\b\b\b\b\b\b\b\b\b\b\b\b\b\b\b\b\b\b\b\b\b\b\b\b\b\b\b\b\b\r",
      "1/1 [==============================] - 0s 117ms/step\n"
     ]
    },
    {
     "name": "stdout",
     "output_type": "stream",
     "text": [
      "\r",
      "1/1 [==============================] - ETA: 0s"
     ]
    },
    {
     "name": "stdout",
     "output_type": "stream",
     "text": [
      "\b\b\b\b\b\b\b\b\b\b\b\b\b\b\b\b\b\b\b\b\b\b\b\b\b\b\b\b\b\b\b\b\b\b\b\b\b\b\b\b\b\b\b\b\b\b\r",
      "1/1 [==============================] - 0s 132ms/step\n"
     ]
    },
    {
     "name": "stdout",
     "output_type": "stream",
     "text": [
      "\r",
      "1/1 [==============================] - ETA: 0s"
     ]
    },
    {
     "name": "stdout",
     "output_type": "stream",
     "text": [
      "\b\b\b\b\b\b\b\b\b\b\b\b\b\b\b\b\b\b\b\b\b\b\b\b\b\b\b\b\b\b\b\b\b\b\b\b\b\b\b\b\b\b\b\b\b\b\r",
      "1/1 [==============================] - 0s 120ms/step\n"
     ]
    },
    {
     "name": "stdout",
     "output_type": "stream",
     "text": [
      "\r",
      "1/1 [==============================] - ETA: 0s"
     ]
    },
    {
     "name": "stdout",
     "output_type": "stream",
     "text": [
      "\b\b\b\b\b\b\b\b\b\b\b\b\b\b\b\b\b\b\b\b\b\b\b\b\b\b\b\b\b\b\b\b\b\b\b\b\b\b\b\b\b\b\b\b\b\b\r",
      "1/1 [==============================] - 0s 136ms/step\n"
     ]
    },
    {
     "name": "stdout",
     "output_type": "stream",
     "text": [
      "\r",
      "1/1 [==============================] - ETA: 0s"
     ]
    },
    {
     "name": "stdout",
     "output_type": "stream",
     "text": [
      "\b\b\b\b\b\b\b\b\b\b\b\b\b\b\b\b\b\b\b\b\b\b\b\b\b\b\b\b\b\b\b\b\b\b\b\b\b\b\b\b\b\b\b\b\b\b\r",
      "1/1 [==============================] - 0s 121ms/step\n"
     ]
    },
    {
     "name": "stdout",
     "output_type": "stream",
     "text": [
      "\r",
      "1/1 [==============================] - ETA: 0s"
     ]
    },
    {
     "name": "stdout",
     "output_type": "stream",
     "text": [
      "\b\b\b\b\b\b\b\b\b\b\b\b\b\b\b\b\b\b\b\b\b\b\b\b\b\b\b\b\b\b\b\b\b\b\b\b\b\b\b\b\b\b\b\b\b\b\r",
      "1/1 [==============================] - 0s 134ms/step\n"
     ]
    },
    {
     "name": "stdout",
     "output_type": "stream",
     "text": [
      "\r",
      "1/1 [==============================] - ETA: 0s"
     ]
    },
    {
     "name": "stdout",
     "output_type": "stream",
     "text": [
      "\b\b\b\b\b\b\b\b\b\b\b\b\b\b\b\b\b\b\b\b\b\b\b\b\b\b\b\b\b\b\b\b\b\b\b\b\b\b\b\b\b\b\b\b\b\b\r",
      "1/1 [==============================] - 0s 120ms/step\n"
     ]
    },
    {
     "name": "stdout",
     "output_type": "stream",
     "text": [
      "\r",
      "1/1 [==============================] - ETA: 0s"
     ]
    },
    {
     "name": "stdout",
     "output_type": "stream",
     "text": [
      "\b\b\b\b\b\b\b\b\b\b\b\b\b\b\b\b\b\b\b\b\b\b\b\b\b\b\b\b\b\b\b\b\b\b\b\b\b\b\b\b\b\b\b\b\b\b\r",
      "1/1 [==============================] - 0s 117ms/step\n"
     ]
    },
    {
     "name": "stdout",
     "output_type": "stream",
     "text": [
      "\r",
      "1/1 [==============================] - ETA: 0s"
     ]
    },
    {
     "name": "stdout",
     "output_type": "stream",
     "text": [
      "\b\b\b\b\b\b\b\b\b\b\b\b\b\b\b\b\b\b\b\b\b\b\b\b\b\b\b\b\b\b\b\b\b\b\b\b\b\b\b\b\b\b\b\b\b\b\r",
      "1/1 [==============================] - 0s 128ms/step\n"
     ]
    },
    {
     "name": "stdout",
     "output_type": "stream",
     "text": [
      "\r",
      "1/1 [==============================] - ETA: 0s"
     ]
    },
    {
     "name": "stdout",
     "output_type": "stream",
     "text": [
      "\b\b\b\b\b\b\b\b\b\b\b\b\b\b\b\b\b\b\b\b\b\b\b\b\b\b\b\b\b\b\b\b\b\b\b\b\b\b\b\b\b\b\b\b\b\b\r",
      "1/1 [==============================] - 0s 139ms/step\n"
     ]
    },
    {
     "name": "stdout",
     "output_type": "stream",
     "text": [
      "\r",
      "1/1 [==============================] - ETA: 0s"
     ]
    },
    {
     "name": "stdout",
     "output_type": "stream",
     "text": [
      "\b\b\b\b\b\b\b\b\b\b\b\b\b\b\b\b\b\b\b\b\b\b\b\b\b\b\b\b\b\b\b\b\b\b\b\b\b\b\b\b\b\b\b\b\b\b\r",
      "1/1 [==============================] - 0s 130ms/step\n"
     ]
    },
    {
     "name": "stdout",
     "output_type": "stream",
     "text": [
      "\r",
      "1/1 [==============================] - ETA: 0s"
     ]
    },
    {
     "name": "stdout",
     "output_type": "stream",
     "text": [
      "\b\b\b\b\b\b\b\b\b\b\b\b\b\b\b\b\b\b\b\b\b\b\b\b\b\b\b\b\b\b\b\b\b\b\b\b\b\b\b\b\b\b\b\b\b\b\r",
      "1/1 [==============================] - 0s 134ms/step\n"
     ]
    },
    {
     "name": "stdout",
     "output_type": "stream",
     "text": [
      "\r",
      "1/1 [==============================] - ETA: 0s"
     ]
    },
    {
     "name": "stdout",
     "output_type": "stream",
     "text": [
      "\b\b\b\b\b\b\b\b\b\b\b\b\b\b\b\b\b\b\b\b\b\b\b\b\b\b\b\b\b\b\b\b\b\b\b\b\b\b\b\b\b\b\b\b\b\b\r",
      "1/1 [==============================] - 0s 142ms/step\n"
     ]
    },
    {
     "name": "stdout",
     "output_type": "stream",
     "text": [
      "\r",
      "1/1 [==============================] - ETA: 0s"
     ]
    },
    {
     "name": "stdout",
     "output_type": "stream",
     "text": [
      "\b\b\b\b\b\b\b\b\b\b\b\b\b\b\b\b\b\b\b\b\b\b\b\b\b\b\b\b\b\b\b\b\b\b\b\b\b\b\b\b\b\b\b\b\b\b\r",
      "1/1 [==============================] - 0s 142ms/step\n"
     ]
    },
    {
     "name": "stdout",
     "output_type": "stream",
     "text": [
      "\r",
      "1/1 [==============================] - ETA: 0s"
     ]
    },
    {
     "name": "stdout",
     "output_type": "stream",
     "text": [
      "\b\b\b\b\b\b\b\b\b\b\b\b\b\b\b\b\b\b\b\b\b\b\b\b\b\b\b\b\b\b\b\b\b\b\b\b\b\b\b\b\b\b\b\b\b\b\r",
      "1/1 [==============================] - 0s 118ms/step\n"
     ]
    },
    {
     "name": "stdout",
     "output_type": "stream",
     "text": [
      "\r",
      "1/1 [==============================] - ETA: 0s"
     ]
    },
    {
     "name": "stdout",
     "output_type": "stream",
     "text": [
      "\b\b\b\b\b\b\b\b\b\b\b\b\b\b\b\b\b\b\b\b\b\b\b\b\b\b\b\b\b\b\b\b\b\b\b\b\b\b\b\b\b\b\b\b\b\b\r",
      "1/1 [==============================] - 0s 131ms/step\n"
     ]
    },
    {
     "name": "stdout",
     "output_type": "stream",
     "text": [
      "\r",
      "1/1 [==============================] - ETA: 0s"
     ]
    },
    {
     "name": "stdout",
     "output_type": "stream",
     "text": [
      "\b\b\b\b\b\b\b\b\b\b\b\b\b\b\b\b\b\b\b\b\b\b\b\b\b\b\b\b\b\b\b\b\b\b\b\b\b\b\b\b\b\b\b\b\b\b\r",
      "1/1 [==============================] - 0s 115ms/step\n"
     ]
    },
    {
     "name": "stdout",
     "output_type": "stream",
     "text": [
      "\r",
      "1/1 [==============================] - ETA: 0s"
     ]
    },
    {
     "name": "stdout",
     "output_type": "stream",
     "text": [
      "\b\b\b\b\b\b\b\b\b\b\b\b\b\b\b\b\b\b\b\b\b\b\b\b\b\b\b\b\b\b\b\b\b\b\b\b\b\b\b\b\b\b\b\b\b\b\r",
      "1/1 [==============================] - 0s 125ms/step\n"
     ]
    },
    {
     "name": "stdout",
     "output_type": "stream",
     "text": [
      "\r",
      "1/1 [==============================] - ETA: 0s"
     ]
    },
    {
     "name": "stdout",
     "output_type": "stream",
     "text": [
      "\b\b\b\b\b\b\b\b\b\b\b\b\b\b\b\b\b\b\b\b\b\b\b\b\b\b\b\b\b\b\b\b\b\b\b\b\b\b\b\b\b\b\b\b\b\b\r",
      "1/1 [==============================] - 0s 128ms/step\n"
     ]
    },
    {
     "name": "stdout",
     "output_type": "stream",
     "text": [
      "\r",
      "1/1 [==============================] - ETA: 0s"
     ]
    },
    {
     "name": "stdout",
     "output_type": "stream",
     "text": [
      "\b\b\b\b\b\b\b\b\b\b\b\b\b\b\b\b\b\b\b\b\b\b\b\b\b\b\b\b\b\b\b\b\b\b\b\b\b\b\b\b\b\b\b\b\b\b\r",
      "1/1 [==============================] - 0s 127ms/step\n"
     ]
    },
    {
     "name": "stdout",
     "output_type": "stream",
     "text": [
      "\r",
      "1/1 [==============================] - ETA: 0s"
     ]
    },
    {
     "name": "stdout",
     "output_type": "stream",
     "text": [
      "\b\b\b\b\b\b\b\b\b\b\b\b\b\b\b\b\b\b\b\b\b\b\b\b\b\b\b\b\b\b\b\b\b\b\b\b\b\b\b\b\b\b\b\b\b\b\r",
      "1/1 [==============================] - 0s 119ms/step\n"
     ]
    },
    {
     "name": "stdout",
     "output_type": "stream",
     "text": [
      "\r",
      "1/1 [==============================] - ETA: 0s"
     ]
    },
    {
     "name": "stdout",
     "output_type": "stream",
     "text": [
      "\b\b\b\b\b\b\b\b\b\b\b\b\b\b\b\b\b\b\b\b\b\b\b\b\b\b\b\b\b\b\b\b\b\b\b\b\b\b\b\b\b\b\b\b\b\b\r",
      "1/1 [==============================] - 0s 128ms/step\n"
     ]
    },
    {
     "name": "stdout",
     "output_type": "stream",
     "text": [
      "\r",
      "1/1 [==============================] - ETA: 0s"
     ]
    },
    {
     "name": "stdout",
     "output_type": "stream",
     "text": [
      "\b\b\b\b\b\b\b\b\b\b\b\b\b\b\b\b\b\b\b\b\b\b\b\b\b\b\b\b\b\b\b\b\b\b\b\b\b\b\b\b\b\b\b\b\b\b\r",
      "1/1 [==============================] - 0s 134ms/step\n"
     ]
    },
    {
     "name": "stdout",
     "output_type": "stream",
     "text": [
      "\r",
      "1/1 [==============================] - ETA: 0s"
     ]
    },
    {
     "name": "stdout",
     "output_type": "stream",
     "text": [
      "\b\b\b\b\b\b\b\b\b\b\b\b\b\b\b\b\b\b\b\b\b\b\b\b\b\b\b\b\b\b\b\b\b\b\b\b\b\b\b\b\b\b\b\b\b\b\r",
      "1/1 [==============================] - 0s 116ms/step\n"
     ]
    },
    {
     "name": "stdout",
     "output_type": "stream",
     "text": [
      "\r",
      "1/1 [==============================] - ETA: 0s"
     ]
    },
    {
     "name": "stdout",
     "output_type": "stream",
     "text": [
      "\b\b\b\b\b\b\b\b\b\b\b\b\b\b\b\b\b\b\b\b\b\b\b\b\b\b\b\b\b\b\b\b\b\b\b\b\b\b\b\b\b\b\b\b\b\b\r",
      "1/1 [==============================] - 0s 135ms/step\n"
     ]
    },
    {
     "name": "stdout",
     "output_type": "stream",
     "text": [
      "\r",
      "1/1 [==============================] - ETA: 0s"
     ]
    },
    {
     "name": "stdout",
     "output_type": "stream",
     "text": [
      "\b\b\b\b\b\b\b\b\b\b\b\b\b\b\b\b\b\b\b\b\b\b\b\b\b\b\b\b\b\b\b\b\b\b\b\b\b\b\b\b\b\b\b\b\b\b\r",
      "1/1 [==============================] - 0s 115ms/step\n"
     ]
    },
    {
     "name": "stdout",
     "output_type": "stream",
     "text": [
      "\r",
      "1/1 [==============================] - ETA: 0s"
     ]
    },
    {
     "name": "stdout",
     "output_type": "stream",
     "text": [
      "\b\b\b\b\b\b\b\b\b\b\b\b\b\b\b\b\b\b\b\b\b\b\b\b\b\b\b\b\b\b\b\b\b\b\b\b\b\b\b\b\b\b\b\b\b\b\r",
      "1/1 [==============================] - 0s 131ms/step\n"
     ]
    },
    {
     "name": "stdout",
     "output_type": "stream",
     "text": [
      "\r",
      "1/1 [==============================] - ETA: 0s"
     ]
    },
    {
     "name": "stdout",
     "output_type": "stream",
     "text": [
      "\b\b\b\b\b\b\b\b\b\b\b\b\b\b\b\b\b\b\b\b\b\b\b\b\b\b\b\b\b\b\b\b\b\b\b\b\b\b\b\b\b\b\b\b\b\b\r",
      "1/1 [==============================] - 0s 123ms/step\n"
     ]
    },
    {
     "name": "stdout",
     "output_type": "stream",
     "text": [
      "\r",
      "1/1 [==============================] - ETA: 0s"
     ]
    },
    {
     "name": "stdout",
     "output_type": "stream",
     "text": [
      "\b\b\b\b\b\b\b\b\b\b\b\b\b\b\b\b\b\b\b\b\b\b\b\b\b\b\b\b\b\b\b\b\b\b\b\b\b\b\b\b\b\b\b\b\b\b\r",
      "1/1 [==============================] - 0s 131ms/step\n"
     ]
    },
    {
     "name": "stderr",
     "output_type": "stream",
     "text": [
      "/home/jup_user/mlproject/jup-env/lib/python3.8/site-packages/PIL/Image.py:981: UserWarning: Palette images with Transparency expressed in bytes should be converted to RGBA images\n",
      "  warnings.warn(\n"
     ]
    },
    {
     "name": "stdout",
     "output_type": "stream",
     "text": [
      "\r",
      "1/1 [==============================] - ETA: 0s"
     ]
    },
    {
     "name": "stdout",
     "output_type": "stream",
     "text": [
      "\b\b\b\b\b\b\b\b\b\b\b\b\b\b\b\b\b\b\b\b\b\b\b\b\b\b\b\b\b\b\b\b\b\b\b\b\b\b\b\b\b\b\b\b\b\b\r",
      "1/1 [==============================] - 0s 122ms/step\n"
     ]
    },
    {
     "name": "stdout",
     "output_type": "stream",
     "text": [
      "\r",
      "1/1 [==============================] - ETA: 0s"
     ]
    },
    {
     "name": "stdout",
     "output_type": "stream",
     "text": [
      "\b\b\b\b\b\b\b\b\b\b\b\b\b\b\b\b\b\b\b\b\b\b\b\b\b\b\b\b\b\b\b\b\b\b\b\b\b\b\b\b\b\b\b\b\b\b\r",
      "1/1 [==============================] - 0s 123ms/step\n"
     ]
    },
    {
     "name": "stdout",
     "output_type": "stream",
     "text": [
      "\r",
      "1/1 [==============================] - ETA: 0s"
     ]
    },
    {
     "name": "stdout",
     "output_type": "stream",
     "text": [
      "\b\b\b\b\b\b\b\b\b\b\b\b\b\b\b\b\b\b\b\b\b\b\b\b\b\b\b\b\b\b\b\b\b\b\b\b\b\b\b\b\b\b\b\b\b\b\r",
      "1/1 [==============================] - 0s 135ms/step\n"
     ]
    },
    {
     "name": "stdout",
     "output_type": "stream",
     "text": [
      "\r",
      "1/1 [==============================] - ETA: 0s"
     ]
    },
    {
     "name": "stdout",
     "output_type": "stream",
     "text": [
      "\b\b\b\b\b\b\b\b\b\b\b\b\b\b\b\b\b\b\b\b\b\b\b\b\b\b\b\b\b\b\b\b\b\b\b\b\b\b\b\b\b\b\b\b\b\b\r",
      "1/1 [==============================] - 0s 122ms/step\n"
     ]
    },
    {
     "name": "stdout",
     "output_type": "stream",
     "text": [
      "\r",
      "1/1 [==============================] - ETA: 0s"
     ]
    },
    {
     "name": "stdout",
     "output_type": "stream",
     "text": [
      "\b\b\b\b\b\b\b\b\b\b\b\b\b\b\b\b\b\b\b\b\b\b\b\b\b\b\b\b\b\b\b\b\b\b\b\b\b\b\b\b\b\b\b\b\b\b\r",
      "1/1 [==============================] - 0s 119ms/step\n"
     ]
    },
    {
     "name": "stdout",
     "output_type": "stream",
     "text": [
      "\r",
      "1/1 [==============================] - ETA: 0s"
     ]
    },
    {
     "name": "stdout",
     "output_type": "stream",
     "text": [
      "\b\b\b\b\b\b\b\b\b\b\b\b\b\b\b\b\b\b\b\b\b\b\b\b\b\b\b\b\b\b\b\b\b\b\b\b\b\b\b\b\b\b\b\b\b\b\r",
      "1/1 [==============================] - 0s 140ms/step\n"
     ]
    },
    {
     "name": "stdout",
     "output_type": "stream",
     "text": [
      "\r",
      "1/1 [==============================] - ETA: 0s"
     ]
    },
    {
     "name": "stdout",
     "output_type": "stream",
     "text": [
      "\b\b\b\b\b\b\b\b\b\b\b\b\b\b\b\b\b\b\b\b\b\b\b\b\b\b\b\b\b\b\b\b\b\b\b\b\b\b\b\b\b\b\b\b\b\b\r",
      "1/1 [==============================] - 0s 119ms/step\n"
     ]
    },
    {
     "name": "stdout",
     "output_type": "stream",
     "text": [
      "\r",
      "1/1 [==============================] - ETA: 0s"
     ]
    },
    {
     "name": "stdout",
     "output_type": "stream",
     "text": [
      "\b\b\b\b\b\b\b\b\b\b\b\b\b\b\b\b\b\b\b\b\b\b\b\b\b\b\b\b\b\b\b\b\b\b\b\b\b\b\b\b\b\b\b\b\b\b\r",
      "1/1 [==============================] - 0s 120ms/step\n"
     ]
    },
    {
     "name": "stdout",
     "output_type": "stream",
     "text": [
      "\r",
      "1/1 [==============================] - ETA: 0s"
     ]
    },
    {
     "name": "stdout",
     "output_type": "stream",
     "text": [
      "\b\b\b\b\b\b\b\b\b\b\b\b\b\b\b\b\b\b\b\b\b\b\b\b\b\b\b\b\b\b\b\b\b\b\b\b\b\b\b\b\b\b\b\b\b\b\r",
      "1/1 [==============================] - 0s 112ms/step\n"
     ]
    },
    {
     "name": "stdout",
     "output_type": "stream",
     "text": [
      "\r",
      "1/1 [==============================] - ETA: 0s"
     ]
    },
    {
     "name": "stdout",
     "output_type": "stream",
     "text": [
      "\b\b\b\b\b\b\b\b\b\b\b\b\b\b\b\b\b\b\b\b\b\b\b\b\b\b\b\b\b\b\b\b\b\b\b\b\b\b\b\b\b\b\b\b\b\b\r",
      "1/1 [==============================] - 0s 115ms/step\n"
     ]
    },
    {
     "name": "stdout",
     "output_type": "stream",
     "text": [
      "\r",
      "1/1 [==============================] - ETA: 0s"
     ]
    },
    {
     "name": "stdout",
     "output_type": "stream",
     "text": [
      "\b\b\b\b\b\b\b\b\b\b\b\b\b\b\b\b\b\b\b\b\b\b\b\b\b\b\b\b\b\b\b\b\b\b\b\b\b\b\b\b\b\b\b\b\b\b\r",
      "1/1 [==============================] - 0s 111ms/step\n"
     ]
    },
    {
     "name": "stdout",
     "output_type": "stream",
     "text": [
      "\r",
      "1/1 [==============================] - ETA: 0s"
     ]
    },
    {
     "name": "stdout",
     "output_type": "stream",
     "text": [
      "\b\b\b\b\b\b\b\b\b\b\b\b\b\b\b\b\b\b\b\b\b\b\b\b\b\b\b\b\b\b\b\b\b\b\b\b\b\b\b\b\b\b\b\b\b\b\r",
      "1/1 [==============================] - 0s 118ms/step\n"
     ]
    },
    {
     "name": "stdout",
     "output_type": "stream",
     "text": [
      "\r",
      "1/1 [==============================] - ETA: 0s"
     ]
    },
    {
     "name": "stdout",
     "output_type": "stream",
     "text": [
      "\b\b\b\b\b\b\b\b\b\b\b\b\b\b\b\b\b\b\b\b\b\b\b\b\b\b\b\b\b\b\b\b\b\b\b\b\b\b\b\b\b\b\b\b\b\b\r",
      "1/1 [==============================] - 0s 122ms/step\n"
     ]
    },
    {
     "name": "stdout",
     "output_type": "stream",
     "text": [
      "\r",
      "1/1 [==============================] - ETA: 0s"
     ]
    },
    {
     "name": "stdout",
     "output_type": "stream",
     "text": [
      "\b\b\b\b\b\b\b\b\b\b\b\b\b\b\b\b\b\b\b\b\b\b\b\b\b\b\b\b\b\b\b\b\b\b\b\b\b\b\b\b\b\b\b\b\b\b\r",
      "1/1 [==============================] - 0s 134ms/step\n"
     ]
    },
    {
     "name": "stdout",
     "output_type": "stream",
     "text": [
      "\r",
      "1/1 [==============================] - ETA: 0s"
     ]
    },
    {
     "name": "stdout",
     "output_type": "stream",
     "text": [
      "\b\b\b\b\b\b\b\b\b\b\b\b\b\b\b\b\b\b\b\b\b\b\b\b\b\b\b\b\b\b\b\b\b\b\b\b\b\b\b\b\b\b\b\b\b\b\r",
      "1/1 [==============================] - 0s 113ms/step\n"
     ]
    },
    {
     "name": "stdout",
     "output_type": "stream",
     "text": [
      "\r",
      "1/1 [==============================] - ETA: 0s"
     ]
    },
    {
     "name": "stdout",
     "output_type": "stream",
     "text": [
      "\b\b\b\b\b\b\b\b\b\b\b\b\b\b\b\b\b\b\b\b\b\b\b\b\b\b\b\b\b\b\b\b\b\b\b\b\b\b\b\b\b\b\b\b\b\b\r",
      "1/1 [==============================] - 0s 120ms/step\n"
     ]
    },
    {
     "name": "stdout",
     "output_type": "stream",
     "text": [
      "\r",
      "1/1 [==============================] - ETA: 0s"
     ]
    },
    {
     "name": "stdout",
     "output_type": "stream",
     "text": [
      "\b\b\b\b\b\b\b\b\b\b\b\b\b\b\b\b\b\b\b\b\b\b\b\b\b\b\b\b\b\b\b\b\b\b\b\b\b\b\b\b\b\b\b\b\b\b\r",
      "1/1 [==============================] - 0s 127ms/step\n"
     ]
    },
    {
     "name": "stdout",
     "output_type": "stream",
     "text": [
      "\r",
      "1/1 [==============================] - ETA: 0s"
     ]
    },
    {
     "name": "stdout",
     "output_type": "stream",
     "text": [
      "\b\b\b\b\b\b\b\b\b\b\b\b\b\b\b\b\b\b\b\b\b\b\b\b\b\b\b\b\b\b\b\b\b\b\b\b\b\b\b\b\b\b\b\b\b\b\r",
      "1/1 [==============================] - 0s 117ms/step\n"
     ]
    },
    {
     "name": "stdout",
     "output_type": "stream",
     "text": [
      "\r",
      "1/1 [==============================] - ETA: 0s"
     ]
    },
    {
     "name": "stdout",
     "output_type": "stream",
     "text": [
      "\b\b\b\b\b\b\b\b\b\b\b\b\b\b\b\b\b\b\b\b\b\b\b\b\b\b\b\b\b\b\b\b\b\b\b\b\b\b\b\b\b\b\b\b\b\b\r",
      "1/1 [==============================] - 0s 120ms/step\n"
     ]
    },
    {
     "name": "stdout",
     "output_type": "stream",
     "text": [
      "\r",
      "1/1 [==============================] - ETA: 0s"
     ]
    },
    {
     "name": "stdout",
     "output_type": "stream",
     "text": [
      "\b\b\b\b\b\b\b\b\b\b\b\b\b\b\b\b\b\b\b\b\b\b\b\b\b\b\b\b\b\b\b\b\b\b\b\b\b\b\b\b\b\b\b\b\b\b\r",
      "1/1 [==============================] - 0s 130ms/step\n"
     ]
    },
    {
     "name": "stdout",
     "output_type": "stream",
     "text": [
      "\r",
      "1/1 [==============================] - ETA: 0s"
     ]
    },
    {
     "name": "stdout",
     "output_type": "stream",
     "text": [
      "\b\b\b\b\b\b\b\b\b\b\b\b\b\b\b\b\b\b\b\b\b\b\b\b\b\b\b\b\b\b\b\b\b\b\b\b\b\b\b\b\b\b\b\b\b\b\r",
      "1/1 [==============================] - 0s 119ms/step\n"
     ]
    },
    {
     "name": "stdout",
     "output_type": "stream",
     "text": [
      "\r",
      "1/1 [==============================] - ETA: 0s"
     ]
    },
    {
     "name": "stdout",
     "output_type": "stream",
     "text": [
      "\b\b\b\b\b\b\b\b\b\b\b\b\b\b\b\b\b\b\b\b\b\b\b\b\b\b\b\b\b\b\b\b\b\b\b\b\b\b\b\b\b\b\b\b\b\b\r",
      "1/1 [==============================] - 0s 123ms/step\n"
     ]
    },
    {
     "name": "stdout",
     "output_type": "stream",
     "text": [
      "\r",
      "1/1 [==============================] - ETA: 0s"
     ]
    },
    {
     "name": "stdout",
     "output_type": "stream",
     "text": [
      "\b\b\b\b\b\b\b\b\b\b\b\b\b\b\b\b\b\b\b\b\b\b\b\b\b\b\b\b\b\b\b\b\b\b\b\b\b\b\b\b\b\b\b\b\b\b\r",
      "1/1 [==============================] - 0s 127ms/step\n"
     ]
    },
    {
     "name": "stdout",
     "output_type": "stream",
     "text": [
      "\r",
      "1/1 [==============================] - ETA: 0s"
     ]
    },
    {
     "name": "stdout",
     "output_type": "stream",
     "text": [
      "\b\b\b\b\b\b\b\b\b\b\b\b\b\b\b\b\b\b\b\b\b\b\b\b\b\b\b\b\b\b\b\b\b\b\b\b\b\b\b\b\b\b\b\b\b\b\r",
      "1/1 [==============================] - 0s 127ms/step\n"
     ]
    },
    {
     "name": "stdout",
     "output_type": "stream",
     "text": [
      "\r",
      "1/1 [==============================] - ETA: 0s"
     ]
    },
    {
     "name": "stdout",
     "output_type": "stream",
     "text": [
      "\b\b\b\b\b\b\b\b\b\b\b\b\b\b\b\b\b\b\b\b\b\b\b\b\b\b\b\b\b\b\b\b\b\b\b\b\b\b\b\b\b\b\b\b\b\b\r",
      "1/1 [==============================] - 0s 118ms/step\n"
     ]
    },
    {
     "name": "stdout",
     "output_type": "stream",
     "text": [
      "\r",
      "1/1 [==============================] - ETA: 0s"
     ]
    },
    {
     "name": "stdout",
     "output_type": "stream",
     "text": [
      "\b\b\b\b\b\b\b\b\b\b\b\b\b\b\b\b\b\b\b\b\b\b\b\b\b\b\b\b\b\b\b\b\b\b\b\b\b\b\b\b\b\b\b\b\b\b\r",
      "1/1 [==============================] - 0s 133ms/step\n"
     ]
    },
    {
     "name": "stdout",
     "output_type": "stream",
     "text": [
      "\r",
      "1/1 [==============================] - ETA: 0s"
     ]
    },
    {
     "name": "stdout",
     "output_type": "stream",
     "text": [
      "\b\b\b\b\b\b\b\b\b\b\b\b\b\b\b\b\b\b\b\b\b\b\b\b\b\b\b\b\b\b\b\b\b\b\b\b\b\b\b\b\b\b\b\b\b\b\r",
      "1/1 [==============================] - 0s 115ms/step\n"
     ]
    },
    {
     "name": "stdout",
     "output_type": "stream",
     "text": [
      "\r",
      "1/1 [==============================] - ETA: 0s"
     ]
    },
    {
     "name": "stdout",
     "output_type": "stream",
     "text": [
      "\b\b\b\b\b\b\b\b\b\b\b\b\b\b\b\b\b\b\b\b\b\b\b\b\b\b\b\b\b\b\b\b\b\b\b\b\b\b\b\b\b\b\b\b\b\b\r",
      "1/1 [==============================] - 0s 136ms/step\n"
     ]
    },
    {
     "name": "stdout",
     "output_type": "stream",
     "text": [
      "\r",
      "1/1 [==============================] - ETA: 0s"
     ]
    },
    {
     "name": "stdout",
     "output_type": "stream",
     "text": [
      "\b\b\b\b\b\b\b\b\b\b\b\b\b\b\b\b\b\b\b\b\b\b\b\b\b\b\b\b\b\b\b\b\b\b\b\b\b\b\b\b\b\b\b\b\b\b\r",
      "1/1 [==============================] - 0s 119ms/step\n"
     ]
    },
    {
     "name": "stdout",
     "output_type": "stream",
     "text": [
      "\r",
      "1/1 [==============================] - ETA: 0s"
     ]
    },
    {
     "name": "stdout",
     "output_type": "stream",
     "text": [
      "\b\b\b\b\b\b\b\b\b\b\b\b\b\b\b\b\b\b\b\b\b\b\b\b\b\b\b\b\b\b\b\b\b\b\b\b\b\b\b\b\b\b\b\b\b\b\r",
      "1/1 [==============================] - 0s 122ms/step\n"
     ]
    },
    {
     "name": "stdout",
     "output_type": "stream",
     "text": [
      "\r",
      "1/1 [==============================] - ETA: 0s"
     ]
    },
    {
     "name": "stdout",
     "output_type": "stream",
     "text": [
      "\b\b\b\b\b\b\b\b\b\b\b\b\b\b\b\b\b\b\b\b\b\b\b\b\b\b\b\b\b\b\b\b\b\b\b\b\b\b\b\b\b\b\b\b\b\b\r",
      "1/1 [==============================] - 0s 124ms/step\n"
     ]
    },
    {
     "name": "stdout",
     "output_type": "stream",
     "text": [
      "\r",
      "1/1 [==============================] - ETA: 0s"
     ]
    },
    {
     "name": "stdout",
     "output_type": "stream",
     "text": [
      "\b\b\b\b\b\b\b\b\b\b\b\b\b\b\b\b\b\b\b\b\b\b\b\b\b\b\b\b\b\b\b\b\b\b\b\b\b\b\b\b\b\b\b\b\b\b\r",
      "1/1 [==============================] - 0s 121ms/step\n"
     ]
    },
    {
     "name": "stdout",
     "output_type": "stream",
     "text": [
      "\r",
      "1/1 [==============================] - ETA: 0s"
     ]
    },
    {
     "name": "stdout",
     "output_type": "stream",
     "text": [
      "\b\b\b\b\b\b\b\b\b\b\b\b\b\b\b\b\b\b\b\b\b\b\b\b\b\b\b\b\b\b\b\b\b\b\b\b\b\b\b\b\b\b\b\b\b\b\r",
      "1/1 [==============================] - 0s 146ms/step\n"
     ]
    },
    {
     "name": "stdout",
     "output_type": "stream",
     "text": [
      "\r",
      "1/1 [==============================] - ETA: 0s"
     ]
    },
    {
     "name": "stdout",
     "output_type": "stream",
     "text": [
      "\b\b\b\b\b\b\b\b\b\b\b\b\b\b\b\b\b\b\b\b\b\b\b\b\b\b\b\b\b\b\b\b\b\b\b\b\b\b\b\b\b\b\b\b\b\b\r",
      "1/1 [==============================] - 0s 133ms/step\n"
     ]
    },
    {
     "name": "stdout",
     "output_type": "stream",
     "text": [
      "\r",
      "1/1 [==============================] - ETA: 0s"
     ]
    },
    {
     "name": "stdout",
     "output_type": "stream",
     "text": [
      "\b\b\b\b\b\b\b\b\b\b\b\b\b\b\b\b\b\b\b\b\b\b\b\b\b\b\b\b\b\b\b\b\b\b\b\b\b\b\b\b\b\b\b\b\b\b\r",
      "1/1 [==============================] - 0s 121ms/step\n"
     ]
    },
    {
     "name": "stdout",
     "output_type": "stream",
     "text": [
      "\r",
      "1/1 [==============================] - ETA: 0s"
     ]
    },
    {
     "name": "stdout",
     "output_type": "stream",
     "text": [
      "\b\b\b\b\b\b\b\b\b\b\b\b\b\b\b\b\b\b\b\b\b\b\b\b\b\b\b\b\b\b\b\b\b\b\b\b\b\b\b\b\b\b\b\b\b\b\r",
      "1/1 [==============================] - 0s 129ms/step\n"
     ]
    },
    {
     "name": "stdout",
     "output_type": "stream",
     "text": [
      "\r",
      "1/1 [==============================] - ETA: 0s"
     ]
    },
    {
     "name": "stdout",
     "output_type": "stream",
     "text": [
      "\b\b\b\b\b\b\b\b\b\b\b\b\b\b\b\b\b\b\b\b\b\b\b\b\b\b\b\b\b\b\b\b\b\b\b\b\b\b\b\b\b\b\b\b\b\b\r",
      "1/1 [==============================] - 0s 150ms/step\n"
     ]
    },
    {
     "name": "stdout",
     "output_type": "stream",
     "text": [
      "\r",
      "1/1 [==============================] - ETA: 0s"
     ]
    },
    {
     "name": "stdout",
     "output_type": "stream",
     "text": [
      "\b\b\b\b\b\b\b\b\b\b\b\b\b\b\b\b\b\b\b\b\b\b\b\b\b\b\b\b\b\b\b\b\b\b\b\b\b\b\b\b\b\b\b\b\b\b\r",
      "1/1 [==============================] - 0s 121ms/step\n"
     ]
    },
    {
     "name": "stdout",
     "output_type": "stream",
     "text": [
      "\r",
      "1/1 [==============================] - ETA: 0s"
     ]
    },
    {
     "name": "stdout",
     "output_type": "stream",
     "text": [
      "\b\b\b\b\b\b\b\b\b\b\b\b\b\b\b\b\b\b\b\b\b\b\b\b\b\b\b\b\b\b\b\b\b\b\b\b\b\b\b\b\b\b\b\b\b\b\r",
      "1/1 [==============================] - 0s 116ms/step\n"
     ]
    },
    {
     "name": "stdout",
     "output_type": "stream",
     "text": [
      "\r",
      "1/1 [==============================] - ETA: 0s"
     ]
    },
    {
     "name": "stdout",
     "output_type": "stream",
     "text": [
      "\b\b\b\b\b\b\b\b\b\b\b\b\b\b\b\b\b\b\b\b\b\b\b\b\b\b\b\b\b\b\b\b\b\b\b\b\b\b\b\b\b\b\b\b\b\b\r",
      "1/1 [==============================] - 0s 113ms/step\n"
     ]
    },
    {
     "name": "stdout",
     "output_type": "stream",
     "text": [
      "\r",
      "1/1 [==============================] - ETA: 0s"
     ]
    },
    {
     "name": "stdout",
     "output_type": "stream",
     "text": [
      "\b\b\b\b\b\b\b\b\b\b\b\b\b\b\b\b\b\b\b\b\b\b\b\b\b\b\b\b\b\b\b\b\b\b\b\b\b\b\b\b\b\b\b\b\b\b\r",
      "1/1 [==============================] - 0s 121ms/step\n"
     ]
    },
    {
     "name": "stdout",
     "output_type": "stream",
     "text": [
      "\r",
      "1/1 [==============================] - ETA: 0s"
     ]
    },
    {
     "name": "stdout",
     "output_type": "stream",
     "text": [
      "\b\b\b\b\b\b\b\b\b\b\b\b\b\b\b\b\b\b\b\b\b\b\b\b\b\b\b\b\b\b\b\b\b\b\b\b\b\b\b\b\b\b\b\b\b\b\r",
      "1/1 [==============================] - 0s 121ms/step\n"
     ]
    },
    {
     "name": "stdout",
     "output_type": "stream",
     "text": [
      "\r",
      "1/1 [==============================] - ETA: 0s"
     ]
    },
    {
     "name": "stdout",
     "output_type": "stream",
     "text": [
      "\b\b\b\b\b\b\b\b\b\b\b\b\b\b\b\b\b\b\b\b\b\b\b\b\b\b\b\b\b\b\b\b\b\b\b\b\b\b\b\b\b\b\b\b\b\b\r",
      "1/1 [==============================] - 0s 140ms/step\n"
     ]
    },
    {
     "name": "stdout",
     "output_type": "stream",
     "text": [
      "\r",
      "1/1 [==============================] - ETA: 0s"
     ]
    },
    {
     "name": "stdout",
     "output_type": "stream",
     "text": [
      "\b\b\b\b\b\b\b\b\b\b\b\b\b\b\b\b\b\b\b\b\b\b\b\b\b\b\b\b\b\b\b\b\b\b\b\b\b\b\b\b\b\b\b\b\b\b\r",
      "1/1 [==============================] - 0s 124ms/step\n"
     ]
    },
    {
     "name": "stdout",
     "output_type": "stream",
     "text": [
      "\r",
      "1/1 [==============================] - ETA: 0s"
     ]
    },
    {
     "name": "stdout",
     "output_type": "stream",
     "text": [
      "\b\b\b\b\b\b\b\b\b\b\b\b\b\b\b\b\b\b\b\b\b\b\b\b\b\b\b\b\b\b\b\b\b\b\b\b\b\b\b\b\b\b\b\b\b\b\r",
      "1/1 [==============================] - 0s 113ms/step\n"
     ]
    },
    {
     "name": "stdout",
     "output_type": "stream",
     "text": [
      "\r",
      "1/1 [==============================] - ETA: 0s"
     ]
    },
    {
     "name": "stdout",
     "output_type": "stream",
     "text": [
      "\b\b\b\b\b\b\b\b\b\b\b\b\b\b\b\b\b\b\b\b\b\b\b\b\b\b\b\b\b\b\b\b\b\b\b\b\b\b\b\b\b\b\b\b\b\b\r",
      "1/1 [==============================] - 0s 114ms/step\n"
     ]
    },
    {
     "name": "stdout",
     "output_type": "stream",
     "text": [
      "\r",
      "1/1 [==============================] - ETA: 0s"
     ]
    },
    {
     "name": "stdout",
     "output_type": "stream",
     "text": [
      "\b\b\b\b\b\b\b\b\b\b\b\b\b\b\b\b\b\b\b\b\b\b\b\b\b\b\b\b\b\b\b\b\b\b\b\b\b\b\b\b\b\b\b\b\b\b\r",
      "1/1 [==============================] - 0s 118ms/step\n"
     ]
    },
    {
     "name": "stdout",
     "output_type": "stream",
     "text": [
      "\r",
      "1/1 [==============================] - ETA: 0s"
     ]
    },
    {
     "name": "stdout",
     "output_type": "stream",
     "text": [
      "\b\b\b\b\b\b\b\b\b\b\b\b\b\b\b\b\b\b\b\b\b\b\b\b\b\b\b\b\b\b\b\b\b\b\b\b\b\b\b\b\b\b\b\b\b\b\r",
      "1/1 [==============================] - 0s 139ms/step\n"
     ]
    },
    {
     "name": "stdout",
     "output_type": "stream",
     "text": [
      "\r",
      "1/1 [==============================] - ETA: 0s"
     ]
    },
    {
     "name": "stdout",
     "output_type": "stream",
     "text": [
      "\b\b\b\b\b\b\b\b\b\b\b\b\b\b\b\b\b\b\b\b\b\b\b\b\b\b\b\b\b\b\b\b\b\b\b\b\b\b\b\b\b\b\b\b\b\b\r",
      "1/1 [==============================] - 0s 118ms/step\n"
     ]
    },
    {
     "name": "stdout",
     "output_type": "stream",
     "text": [
      "\r",
      "1/1 [==============================] - ETA: 0s"
     ]
    },
    {
     "name": "stdout",
     "output_type": "stream",
     "text": [
      "\b\b\b\b\b\b\b\b\b\b\b\b\b\b\b\b\b\b\b\b\b\b\b\b\b\b\b\b\b\b\b\b\b\b\b\b\b\b\b\b\b\b\b\b\b\b\r",
      "1/1 [==============================] - 0s 125ms/step\n"
     ]
    },
    {
     "name": "stdout",
     "output_type": "stream",
     "text": [
      "\r",
      "1/1 [==============================] - ETA: 0s"
     ]
    },
    {
     "name": "stdout",
     "output_type": "stream",
     "text": [
      "\b\b\b\b\b\b\b\b\b\b\b\b\b\b\b\b\b\b\b\b\b\b\b\b\b\b\b\b\b\b\b\b\b\b\b\b\b\b\b\b\b\b\b\b\b\b\r",
      "1/1 [==============================] - 0s 128ms/step\n"
     ]
    },
    {
     "name": "stdout",
     "output_type": "stream",
     "text": [
      "\r",
      "1/1 [==============================] - ETA: 0s"
     ]
    },
    {
     "name": "stdout",
     "output_type": "stream",
     "text": [
      "\b\b\b\b\b\b\b\b\b\b\b\b\b\b\b\b\b\b\b\b\b\b\b\b\b\b\b\b\b\b\b\b\b\b\b\b\b\b\b\b\b\b\b\b\b\b\r",
      "1/1 [==============================] - 0s 125ms/step\n"
     ]
    },
    {
     "name": "stdout",
     "output_type": "stream",
     "text": [
      "\r",
      "1/1 [==============================] - ETA: 0s"
     ]
    },
    {
     "name": "stdout",
     "output_type": "stream",
     "text": [
      "\b\b\b\b\b\b\b\b\b\b\b\b\b\b\b\b\b\b\b\b\b\b\b\b\b\b\b\b\b\b\b\b\b\b\b\b\b\b\b\b\b\b\b\b\b\b\r",
      "1/1 [==============================] - 0s 119ms/step\n"
     ]
    },
    {
     "name": "stdout",
     "output_type": "stream",
     "text": [
      "\r",
      "1/1 [==============================] - ETA: 0s"
     ]
    },
    {
     "name": "stdout",
     "output_type": "stream",
     "text": [
      "\b\b\b\b\b\b\b\b\b\b\b\b\b\b\b\b\b\b\b\b\b\b\b\b\b\b\b\b\b\b\b\b\b\b\b\b\b\b\b\b\b\b\b\b\b\b\r",
      "1/1 [==============================] - 0s 118ms/step\n"
     ]
    },
    {
     "name": "stdout",
     "output_type": "stream",
     "text": [
      "\r",
      "1/1 [==============================] - ETA: 0s"
     ]
    },
    {
     "name": "stdout",
     "output_type": "stream",
     "text": [
      "\b\b\b\b\b\b\b\b\b\b\b\b\b\b\b\b\b\b\b\b\b\b\b\b\b\b\b\b\b\b\b\b\b\b\b\b\b\b\b\b\b\b\b\b\b\b\r",
      "1/1 [==============================] - 0s 129ms/step\n"
     ]
    },
    {
     "name": "stdout",
     "output_type": "stream",
     "text": [
      "\r",
      "1/1 [==============================] - ETA: 0s"
     ]
    },
    {
     "name": "stdout",
     "output_type": "stream",
     "text": [
      "\b\b\b\b\b\b\b\b\b\b\b\b\b\b\b\b\b\b\b\b\b\b\b\b\b\b\b\b\b\b\b\b\b\b\b\b\b\b\b\b\b\b\b\b\b\b\r",
      "1/1 [==============================] - 0s 132ms/step\n"
     ]
    },
    {
     "name": "stdout",
     "output_type": "stream",
     "text": [
      "\r",
      "1/1 [==============================] - ETA: 0s"
     ]
    },
    {
     "name": "stdout",
     "output_type": "stream",
     "text": [
      "\b\b\b\b\b\b\b\b\b\b\b\b\b\b\b\b\b\b\b\b\b\b\b\b\b\b\b\b\b\b\b\b\b\b\b\b\b\b\b\b\b\b\b\b\b\b\r",
      "1/1 [==============================] - 0s 131ms/step\n"
     ]
    },
    {
     "name": "stdout",
     "output_type": "stream",
     "text": [
      "\r",
      "1/1 [==============================] - ETA: 0s"
     ]
    },
    {
     "name": "stdout",
     "output_type": "stream",
     "text": [
      "\b\b\b\b\b\b\b\b\b\b\b\b\b\b\b\b\b\b\b\b\b\b\b\b\b\b\b\b\b\b\b\b\b\b\b\b\b\b\b\b\b\b\b\b\b\b\r",
      "1/1 [==============================] - 0s 129ms/step\n"
     ]
    },
    {
     "name": "stdout",
     "output_type": "stream",
     "text": [
      "\r",
      "1/1 [==============================] - ETA: 0s"
     ]
    },
    {
     "name": "stdout",
     "output_type": "stream",
     "text": [
      "\b\b\b\b\b\b\b\b\b\b\b\b\b\b\b\b\b\b\b\b\b\b\b\b\b\b\b\b\b\b\b\b\b\b\b\b\b\b\b\b\b\b\b\b\b\b\r",
      "1/1 [==============================] - 0s 121ms/step\n"
     ]
    },
    {
     "name": "stdout",
     "output_type": "stream",
     "text": [
      "\r",
      "1/1 [==============================] - ETA: 0s"
     ]
    },
    {
     "name": "stdout",
     "output_type": "stream",
     "text": [
      "\b\b\b\b\b\b\b\b\b\b\b\b\b\b\b\b\b\b\b\b\b\b\b\b\b\b\b\b\b\b\b\b\b\b\b\b\b\b\b\b\b\b\b\b\b\b\r",
      "1/1 [==============================] - 0s 122ms/step\n"
     ]
    },
    {
     "name": "stdout",
     "output_type": "stream",
     "text": [
      "\r",
      "1/1 [==============================] - ETA: 0s"
     ]
    },
    {
     "name": "stdout",
     "output_type": "stream",
     "text": [
      "\b\b\b\b\b\b\b\b\b\b\b\b\b\b\b\b\b\b\b\b\b\b\b\b\b\b\b\b\b\b\b\b\b\b\b\b\b\b\b\b\b\b\b\b\b\b\r",
      "1/1 [==============================] - 0s 147ms/step\n"
     ]
    },
    {
     "name": "stdout",
     "output_type": "stream",
     "text": [
      "\r",
      "1/1 [==============================] - ETA: 0s"
     ]
    },
    {
     "name": "stdout",
     "output_type": "stream",
     "text": [
      "\b\b\b\b\b\b\b\b\b\b\b\b\b\b\b\b\b\b\b\b\b\b\b\b\b\b\b\b\b\b\b\b\b\b\b\b\b\b\b\b\b\b\b\b\b\b\r",
      "1/1 [==============================] - 0s 133ms/step\n"
     ]
    },
    {
     "name": "stdout",
     "output_type": "stream",
     "text": [
      "\r",
      "1/1 [==============================] - ETA: 0s"
     ]
    },
    {
     "name": "stdout",
     "output_type": "stream",
     "text": [
      "\b\b\b\b\b\b\b\b\b\b\b\b\b\b\b\b\b\b\b\b\b\b\b\b\b\b\b\b\b\b\b\b\b\b\b\b\b\b\b\b\b\b\b\b\b\b\r",
      "1/1 [==============================] - 0s 121ms/step\n"
     ]
    },
    {
     "name": "stdout",
     "output_type": "stream",
     "text": [
      "\r",
      "1/1 [==============================] - ETA: 0s"
     ]
    },
    {
     "name": "stdout",
     "output_type": "stream",
     "text": [
      "\b\b\b\b\b\b\b\b\b\b\b\b\b\b\b\b\b\b\b\b\b\b\b\b\b\b\b\b\b\b\b\b\b\b\b\b\b\b\b\b\b\b\b\b\b\b\r",
      "1/1 [==============================] - 0s 120ms/step\n"
     ]
    },
    {
     "name": "stdout",
     "output_type": "stream",
     "text": [
      "\r",
      "1/1 [==============================] - ETA: 0s"
     ]
    },
    {
     "name": "stdout",
     "output_type": "stream",
     "text": [
      "\b\b\b\b\b\b\b\b\b\b\b\b\b\b\b\b\b\b\b\b\b\b\b\b\b\b\b\b\b\b\b\b\b\b\b\b\b\b\b\b\b\b\b\b\b\b\r",
      "1/1 [==============================] - 0s 115ms/step\n"
     ]
    },
    {
     "name": "stdout",
     "output_type": "stream",
     "text": [
      "\r",
      "1/1 [==============================] - ETA: 0s"
     ]
    },
    {
     "name": "stdout",
     "output_type": "stream",
     "text": [
      "\b\b\b\b\b\b\b\b\b\b\b\b\b\b\b\b\b\b\b\b\b\b\b\b\b\b\b\b\b\b\b\b\b\b\b\b\b\b\b\b\b\b\b\b\b\b\r",
      "1/1 [==============================] - 0s 133ms/step\n"
     ]
    },
    {
     "name": "stdout",
     "output_type": "stream",
     "text": [
      "\r",
      "1/1 [==============================] - ETA: 0s"
     ]
    },
    {
     "name": "stdout",
     "output_type": "stream",
     "text": [
      "\b\b\b\b\b\b\b\b\b\b\b\b\b\b\b\b\b\b\b\b\b\b\b\b\b\b\b\b\b\b\b\b\b\b\b\b\b\b\b\b\b\b\b\b\b\b\r",
      "1/1 [==============================] - 0s 124ms/step\n"
     ]
    },
    {
     "name": "stdout",
     "output_type": "stream",
     "text": [
      "\r",
      "1/1 [==============================] - ETA: 0s"
     ]
    },
    {
     "name": "stdout",
     "output_type": "stream",
     "text": [
      "\b\b\b\b\b\b\b\b\b\b\b\b\b\b\b\b\b\b\b\b\b\b\b\b\b\b\b\b\b\b\b\b\b\b\b\b\b\b\b\b\b\b\b\b\b\b\r",
      "1/1 [==============================] - 0s 131ms/step\n"
     ]
    },
    {
     "name": "stdout",
     "output_type": "stream",
     "text": [
      "\r",
      "1/1 [==============================] - ETA: 0s"
     ]
    },
    {
     "name": "stdout",
     "output_type": "stream",
     "text": [
      "\b\b\b\b\b\b\b\b\b\b\b\b\b\b\b\b\b\b\b\b\b\b\b\b\b\b\b\b\b\b\b\b\b\b\b\b\b\b\b\b\b\b\b\b\b\b\r",
      "1/1 [==============================] - 0s 127ms/step\n"
     ]
    },
    {
     "name": "stdout",
     "output_type": "stream",
     "text": [
      "\r",
      "1/1 [==============================] - ETA: 0s"
     ]
    },
    {
     "name": "stdout",
     "output_type": "stream",
     "text": [
      "\b\b\b\b\b\b\b\b\b\b\b\b\b\b\b\b\b\b\b\b\b\b\b\b\b\b\b\b\b\b\b\b\b\b\b\b\b\b\b\b\b\b\b\b\b\b\r",
      "1/1 [==============================] - 0s 123ms/step\n"
     ]
    },
    {
     "name": "stdout",
     "output_type": "stream",
     "text": [
      "\r",
      "1/1 [==============================] - ETA: 0s"
     ]
    },
    {
     "name": "stdout",
     "output_type": "stream",
     "text": [
      "\b\b\b\b\b\b\b\b\b\b\b\b\b\b\b\b\b\b\b\b\b\b\b\b\b\b\b\b\b\b\b\b\b\b\b\b\b\b\b\b\b\b\b\b\b\b\r",
      "1/1 [==============================] - 0s 115ms/step\n"
     ]
    },
    {
     "name": "stdout",
     "output_type": "stream",
     "text": [
      "\r",
      "1/1 [==============================] - ETA: 0s"
     ]
    },
    {
     "name": "stdout",
     "output_type": "stream",
     "text": [
      "\b\b\b\b\b\b\b\b\b\b\b\b\b\b\b\b\b\b\b\b\b\b\b\b\b\b\b\b\b\b\b\b\b\b\b\b\b\b\b\b\b\b\b\b\b\b\r",
      "1/1 [==============================] - 0s 127ms/step\n"
     ]
    },
    {
     "name": "stdout",
     "output_type": "stream",
     "text": [
      "\r",
      "1/1 [==============================] - ETA: 0s"
     ]
    },
    {
     "name": "stdout",
     "output_type": "stream",
     "text": [
      "\b\b\b\b\b\b\b\b\b\b\b\b\b\b\b\b\b\b\b\b\b\b\b\b\b\b\b\b\b\b\b\b\b\b\b\b\b\b\b\b\b\b\b\b\b\b\r",
      "1/1 [==============================] - 0s 123ms/step\n"
     ]
    },
    {
     "name": "stdout",
     "output_type": "stream",
     "text": [
      "\r",
      "1/1 [==============================] - ETA: 0s"
     ]
    },
    {
     "name": "stdout",
     "output_type": "stream",
     "text": [
      "\b\b\b\b\b\b\b\b\b\b\b\b\b\b\b\b\b\b\b\b\b\b\b\b\b\b\b\b\b\b\b\b\b\b\b\b\b\b\b\b\b\b\b\b\b\b\r",
      "1/1 [==============================] - 0s 116ms/step\n"
     ]
    },
    {
     "name": "stdout",
     "output_type": "stream",
     "text": [
      "\r",
      "1/1 [==============================] - ETA: 0s"
     ]
    },
    {
     "name": "stdout",
     "output_type": "stream",
     "text": [
      "\b\b\b\b\b\b\b\b\b\b\b\b\b\b\b\b\b\b\b\b\b\b\b\b\b\b\b\b\b\b\b\b\b\b\b\b\b\b\b\b\b\b\b\b\b\b\r",
      "1/1 [==============================] - 0s 129ms/step\n"
     ]
    },
    {
     "name": "stdout",
     "output_type": "stream",
     "text": [
      "\r",
      "1/1 [==============================] - ETA: 0s"
     ]
    },
    {
     "name": "stdout",
     "output_type": "stream",
     "text": [
      "\b\b\b\b\b\b\b\b\b\b\b\b\b\b\b\b\b\b\b\b\b\b\b\b\b\b\b\b\b\b\b\b\b\b\b\b\b\b\b\b\b\b\b\b\b\b\r",
      "1/1 [==============================] - 0s 132ms/step\n"
     ]
    },
    {
     "name": "stdout",
     "output_type": "stream",
     "text": [
      "\r",
      "1/1 [==============================] - ETA: 0s"
     ]
    },
    {
     "name": "stdout",
     "output_type": "stream",
     "text": [
      "\b\b\b\b\b\b\b\b\b\b\b\b\b\b\b\b\b\b\b\b\b\b\b\b\b\b\b\b\b\b\b\b\b\b\b\b\b\b\b\b\b\b\b\b\b\b\r",
      "1/1 [==============================] - 0s 129ms/step\n"
     ]
    },
    {
     "name": "stdout",
     "output_type": "stream",
     "text": [
      "\r",
      "1/1 [==============================] - ETA: 0s"
     ]
    },
    {
     "name": "stdout",
     "output_type": "stream",
     "text": [
      "\b\b\b\b\b\b\b\b\b\b\b\b\b\b\b\b\b\b\b\b\b\b\b\b\b\b\b\b\b\b\b\b\b\b\b\b\b\b\b\b\b\b\b\b\b\b\r",
      "1/1 [==============================] - 0s 142ms/step\n"
     ]
    },
    {
     "name": "stdout",
     "output_type": "stream",
     "text": [
      "\r",
      "1/1 [==============================] - ETA: 0s"
     ]
    },
    {
     "name": "stdout",
     "output_type": "stream",
     "text": [
      "\b\b\b\b\b\b\b\b\b\b\b\b\b\b\b\b\b\b\b\b\b\b\b\b\b\b\b\b\b\b\b\b\b\b\b\b\b\b\b\b\b\b\b\b\b\b\r",
      "1/1 [==============================] - 0s 132ms/step\n"
     ]
    },
    {
     "name": "stdout",
     "output_type": "stream",
     "text": [
      "\r",
      "1/1 [==============================] - ETA: 0s"
     ]
    },
    {
     "name": "stdout",
     "output_type": "stream",
     "text": [
      "\b\b\b\b\b\b\b\b\b\b\b\b\b\b\b\b\b\b\b\b\b\b\b\b\b\b\b\b\b\b\b\b\b\b\b\b\b\b\b\b\b\b\b\b\b\b\r",
      "1/1 [==============================] - 0s 142ms/step\n"
     ]
    },
    {
     "name": "stdout",
     "output_type": "stream",
     "text": [
      "\r",
      "1/1 [==============================] - ETA: 0s"
     ]
    },
    {
     "name": "stdout",
     "output_type": "stream",
     "text": [
      "\b\b\b\b\b\b\b\b\b\b\b\b\b\b\b\b\b\b\b\b\b\b\b\b\b\b\b\b\b\b\b\b\b\b\b\b\b\b\b\b\b\b\b\b\b\b\r",
      "1/1 [==============================] - 0s 109ms/step\n"
     ]
    },
    {
     "name": "stdout",
     "output_type": "stream",
     "text": [
      "\r",
      "1/1 [==============================] - ETA: 0s"
     ]
    },
    {
     "name": "stdout",
     "output_type": "stream",
     "text": [
      "\b\b\b\b\b\b\b\b\b\b\b\b\b\b\b\b\b\b\b\b\b\b\b\b\b\b\b\b\b\b\b\b\b\b\b\b\b\b\b\b\b\b\b\b\b\b\r",
      "1/1 [==============================] - 0s 119ms/step\n"
     ]
    },
    {
     "name": "stdout",
     "output_type": "stream",
     "text": [
      "\r",
      "1/1 [==============================] - ETA: 0s"
     ]
    },
    {
     "name": "stdout",
     "output_type": "stream",
     "text": [
      "\b\b\b\b\b\b\b\b\b\b\b\b\b\b\b\b\b\b\b\b\b\b\b\b\b\b\b\b\b\b\b\b\b\b\b\b\b\b\b\b\b\b\b\b\b\b\r",
      "1/1 [==============================] - 0s 143ms/step\n"
     ]
    },
    {
     "name": "stdout",
     "output_type": "stream",
     "text": [
      "\r",
      "1/1 [==============================] - ETA: 0s"
     ]
    },
    {
     "name": "stdout",
     "output_type": "stream",
     "text": [
      "\b\b\b\b\b\b\b\b\b\b\b\b\b\b\b\b\b\b\b\b\b\b\b\b\b\b\b\b\b\b\b\b\b\b\b\b\b\b\b\b\b\b\b\b\b\b\r",
      "1/1 [==============================] - 0s 118ms/step\n"
     ]
    },
    {
     "name": "stdout",
     "output_type": "stream",
     "text": [
      "\r",
      "1/1 [==============================] - ETA: 0s"
     ]
    },
    {
     "name": "stdout",
     "output_type": "stream",
     "text": [
      "\b\b\b\b\b\b\b\b\b\b\b\b\b\b\b\b\b\b\b\b\b\b\b\b\b\b\b\b\b\b\b\b\b\b\b\b\b\b\b\b\b\b\b\b\b\b\r",
      "1/1 [==============================] - 0s 132ms/step\n"
     ]
    },
    {
     "name": "stdout",
     "output_type": "stream",
     "text": [
      "\r",
      "1/1 [==============================] - ETA: 0s"
     ]
    },
    {
     "name": "stdout",
     "output_type": "stream",
     "text": [
      "\b\b\b\b\b\b\b\b\b\b\b\b\b\b\b\b\b\b\b\b\b\b\b\b\b\b\b\b\b\b\b\b\b\b\b\b\b\b\b\b\b\b\b\b\b\b\r",
      "1/1 [==============================] - 0s 127ms/step\n"
     ]
    },
    {
     "name": "stdout",
     "output_type": "stream",
     "text": [
      "\r",
      "1/1 [==============================] - ETA: 0s"
     ]
    },
    {
     "name": "stdout",
     "output_type": "stream",
     "text": [
      "\b\b\b\b\b\b\b\b\b\b\b\b\b\b\b\b\b\b\b\b\b\b\b\b\b\b\b\b\b\b\b\b\b\b\b\b\b\b\b\b\b\b\b\b\b\b\r",
      "1/1 [==============================] - 0s 121ms/step\n"
     ]
    },
    {
     "name": "stdout",
     "output_type": "stream",
     "text": [
      "\r",
      "1/1 [==============================] - ETA: 0s"
     ]
    },
    {
     "name": "stdout",
     "output_type": "stream",
     "text": [
      "\b\b\b\b\b\b\b\b\b\b\b\b\b\b\b\b\b\b\b\b\b\b\b\b\b\b\b\b\b\b\b\b\b\b\b\b\b\b\b\b\b\b\b\b\b\b\r",
      "1/1 [==============================] - 0s 117ms/step\n"
     ]
    },
    {
     "name": "stdout",
     "output_type": "stream",
     "text": [
      "\r",
      "1/1 [==============================] - ETA: 0s"
     ]
    },
    {
     "name": "stdout",
     "output_type": "stream",
     "text": [
      "\b\b\b\b\b\b\b\b\b\b\b\b\b\b\b\b\b\b\b\b\b\b\b\b\b\b\b\b\b\b\b\b\b\b\b\b\b\b\b\b\b\b\b\b\b\b\r",
      "1/1 [==============================] - 0s 125ms/step\n"
     ]
    },
    {
     "name": "stdout",
     "output_type": "stream",
     "text": [
      "\r",
      "1/1 [==============================] - ETA: 0s"
     ]
    },
    {
     "name": "stdout",
     "output_type": "stream",
     "text": [
      "\b\b\b\b\b\b\b\b\b\b\b\b\b\b\b\b\b\b\b\b\b\b\b\b\b\b\b\b\b\b\b\b\b\b\b\b\b\b\b\b\b\b\b\b\b\b\r",
      "1/1 [==============================] - 0s 117ms/step\n"
     ]
    },
    {
     "name": "stdout",
     "output_type": "stream",
     "text": [
      "\r",
      "1/1 [==============================] - ETA: 0s"
     ]
    },
    {
     "name": "stdout",
     "output_type": "stream",
     "text": [
      "\b\b\b\b\b\b\b\b\b\b\b\b\b\b\b\b\b\b\b\b\b\b\b\b\b\b\b\b\b\b\b\b\b\b\b\b\b\b\b\b\b\b\b\b\b\b\r",
      "1/1 [==============================] - 0s 126ms/step\n"
     ]
    },
    {
     "name": "stdout",
     "output_type": "stream",
     "text": [
      "\r",
      "1/1 [==============================] - ETA: 0s"
     ]
    },
    {
     "name": "stdout",
     "output_type": "stream",
     "text": [
      "\b\b\b\b\b\b\b\b\b\b\b\b\b\b\b\b\b\b\b\b\b\b\b\b\b\b\b\b\b\b\b\b\b\b\b\b\b\b\b\b\b\b\b\b\b\b\r",
      "1/1 [==============================] - 0s 139ms/step\n"
     ]
    },
    {
     "name": "stdout",
     "output_type": "stream",
     "text": [
      "\r",
      "1/1 [==============================] - ETA: 0s"
     ]
    },
    {
     "name": "stdout",
     "output_type": "stream",
     "text": [
      "\b\b\b\b\b\b\b\b\b\b\b\b\b\b\b\b\b\b\b\b\b\b\b\b\b\b\b\b\b\b\b\b\b\b\b\b\b\b\b\b\b\b\b\b\b\b\r",
      "1/1 [==============================] - 0s 131ms/step\n"
     ]
    },
    {
     "name": "stdout",
     "output_type": "stream",
     "text": [
      "\r",
      "1/1 [==============================] - ETA: 0s"
     ]
    },
    {
     "name": "stdout",
     "output_type": "stream",
     "text": [
      "\b\b\b\b\b\b\b\b\b\b\b\b\b\b\b\b\b\b\b\b\b\b\b\b\b\b\b\b\b\b\b\b\b\b\b\b\b\b\b\b\b\b\b\b\b\b\r",
      "1/1 [==============================] - 0s 111ms/step\n"
     ]
    },
    {
     "name": "stdout",
     "output_type": "stream",
     "text": [
      "\r",
      "1/1 [==============================] - ETA: 0s"
     ]
    },
    {
     "name": "stdout",
     "output_type": "stream",
     "text": [
      "\b\b\b\b\b\b\b\b\b\b\b\b\b\b\b\b\b\b\b\b\b\b\b\b\b\b\b\b\b\b\b\b\b\b\b\b\b\b\b\b\b\b\b\b\b\b\r",
      "1/1 [==============================] - 0s 113ms/step\n"
     ]
    },
    {
     "name": "stdout",
     "output_type": "stream",
     "text": [
      "\r",
      "1/1 [==============================] - ETA: 0s"
     ]
    },
    {
     "name": "stdout",
     "output_type": "stream",
     "text": [
      "\b\b\b\b\b\b\b\b\b\b\b\b\b\b\b\b\b\b\b\b\b\b\b\b\b\b\b\b\b\b\b\b\b\b\b\b\b\b\b\b\b\b\b\b\b\b\r",
      "1/1 [==============================] - 0s 117ms/step\n"
     ]
    },
    {
     "name": "stdout",
     "output_type": "stream",
     "text": [
      "\r",
      "1/1 [==============================] - ETA: 0s"
     ]
    },
    {
     "name": "stdout",
     "output_type": "stream",
     "text": [
      "\b\b\b\b\b\b\b\b\b\b\b\b\b\b\b\b\b\b\b\b\b\b\b\b\b\b\b\b\b\b\b\b\b\b\b\b\b\b\b\b\b\b\b\b\b\b\r",
      "1/1 [==============================] - 0s 124ms/step\n"
     ]
    },
    {
     "name": "stdout",
     "output_type": "stream",
     "text": [
      "\r",
      "1/1 [==============================] - ETA: 0s"
     ]
    },
    {
     "name": "stdout",
     "output_type": "stream",
     "text": [
      "\b\b\b\b\b\b\b\b\b\b\b\b\b\b\b\b\b\b\b\b\b\b\b\b\b\b\b\b\b\b\b\b\b\b\b\b\b\b\b\b\b\b\b\b\b\b\r",
      "1/1 [==============================] - 0s 116ms/step\n"
     ]
    },
    {
     "name": "stdout",
     "output_type": "stream",
     "text": [
      "\r",
      "1/1 [==============================] - ETA: 0s"
     ]
    },
    {
     "name": "stdout",
     "output_type": "stream",
     "text": [
      "\b\b\b\b\b\b\b\b\b\b\b\b\b\b\b\b\b\b\b\b\b\b\b\b\b\b\b\b\b\b\b\b\b\b\b\b\b\b\b\b\b\b\b\b\b\b\r",
      "1/1 [==============================] - 0s 118ms/step\n"
     ]
    },
    {
     "name": "stdout",
     "output_type": "stream",
     "text": [
      "\r",
      "1/1 [==============================] - ETA: 0s"
     ]
    },
    {
     "name": "stdout",
     "output_type": "stream",
     "text": [
      "\b\b\b\b\b\b\b\b\b\b\b\b\b\b\b\b\b\b\b\b\b\b\b\b\b\b\b\b\b\b\b\b\b\b\b\b\b\b\b\b\b\b\b\b\b\b\r",
      "1/1 [==============================] - 0s 129ms/step\n"
     ]
    },
    {
     "name": "stdout",
     "output_type": "stream",
     "text": [
      "\r",
      "1/1 [==============================] - ETA: 0s"
     ]
    },
    {
     "name": "stdout",
     "output_type": "stream",
     "text": [
      "\b\b\b\b\b\b\b\b\b\b\b\b\b\b\b\b\b\b\b\b\b\b\b\b\b\b\b\b\b\b\b\b\b\b\b\b\b\b\b\b\b\b\b\b\b\b\r",
      "1/1 [==============================] - 0s 138ms/step\n"
     ]
    },
    {
     "name": "stdout",
     "output_type": "stream",
     "text": [
      "\r",
      "1/1 [==============================] - ETA: 0s"
     ]
    },
    {
     "name": "stdout",
     "output_type": "stream",
     "text": [
      "\b\b\b\b\b\b\b\b\b\b\b\b\b\b\b\b\b\b\b\b\b\b\b\b\b\b\b\b\b\b\b\b\b\b\b\b\b\b\b\b\b\b\b\b\b\b\r",
      "1/1 [==============================] - 0s 118ms/step\n"
     ]
    },
    {
     "name": "stdout",
     "output_type": "stream",
     "text": [
      "\r",
      "1/1 [==============================] - ETA: 0s"
     ]
    },
    {
     "name": "stdout",
     "output_type": "stream",
     "text": [
      "\b\b\b\b\b\b\b\b\b\b\b\b\b\b\b\b\b\b\b\b\b\b\b\b\b\b\b\b\b\b\b\b\b\b\b\b\b\b\b\b\b\b\b\b\b\b\r",
      "1/1 [==============================] - 0s 116ms/step\n"
     ]
    },
    {
     "name": "stdout",
     "output_type": "stream",
     "text": [
      "\r",
      "1/1 [==============================] - ETA: 0s"
     ]
    },
    {
     "name": "stdout",
     "output_type": "stream",
     "text": [
      "\b\b\b\b\b\b\b\b\b\b\b\b\b\b\b\b\b\b\b\b\b\b\b\b\b\b\b\b\b\b\b\b\b\b\b\b\b\b\b\b\b\b\b\b\b\b\r",
      "1/1 [==============================] - 0s 136ms/step\n"
     ]
    },
    {
     "name": "stdout",
     "output_type": "stream",
     "text": [
      "\r",
      "1/1 [==============================] - ETA: 0s"
     ]
    },
    {
     "name": "stdout",
     "output_type": "stream",
     "text": [
      "\b\b\b\b\b\b\b\b\b\b\b\b\b\b\b\b\b\b\b\b\b\b\b\b\b\b\b\b\b\b\b\b\b\b\b\b\b\b\b\b\b\b\b\b\b\b\r",
      "1/1 [==============================] - 0s 131ms/step\n"
     ]
    },
    {
     "name": "stdout",
     "output_type": "stream",
     "text": [
      "\r",
      "1/1 [==============================] - ETA: 0s"
     ]
    },
    {
     "name": "stdout",
     "output_type": "stream",
     "text": [
      "\b\b\b\b\b\b\b\b\b\b\b\b\b\b\b\b\b\b\b\b\b\b\b\b\b\b\b\b\b\b\b\b\b\b\b\b\b\b\b\b\b\b\b\b\b\b\r",
      "1/1 [==============================] - 0s 132ms/step\n"
     ]
    },
    {
     "name": "stdout",
     "output_type": "stream",
     "text": [
      "\r",
      "1/1 [==============================] - ETA: 0s"
     ]
    },
    {
     "name": "stdout",
     "output_type": "stream",
     "text": [
      "\b\b\b\b\b\b\b\b\b\b\b\b\b\b\b\b\b\b\b\b\b\b\b\b\b\b\b\b\b\b\b\b\b\b\b\b\b\b\b\b\b\b\b\b\b\b\r",
      "1/1 [==============================] - 0s 129ms/step\n"
     ]
    },
    {
     "name": "stdout",
     "output_type": "stream",
     "text": [
      "\r",
      "1/1 [==============================] - ETA: 0s"
     ]
    },
    {
     "name": "stdout",
     "output_type": "stream",
     "text": [
      "\b\b\b\b\b\b\b\b\b\b\b\b\b\b\b\b\b\b\b\b\b\b\b\b\b\b\b\b\b\b\b\b\b\b\b\b\b\b\b\b\b\b\b\b\b\b\r",
      "1/1 [==============================] - 0s 133ms/step\n"
     ]
    },
    {
     "name": "stdout",
     "output_type": "stream",
     "text": [
      "\r",
      "1/1 [==============================] - ETA: 0s"
     ]
    },
    {
     "name": "stdout",
     "output_type": "stream",
     "text": [
      "\b\b\b\b\b\b\b\b\b\b\b\b\b\b\b\b\b\b\b\b\b\b\b\b\b\b\b\b\b\b\b\b\b\b\b\b\b\b\b\b\b\b\b\b\b\b\r",
      "1/1 [==============================] - 0s 122ms/step\n"
     ]
    },
    {
     "name": "stdout",
     "output_type": "stream",
     "text": [
      "\r",
      "1/1 [==============================] - ETA: 0s"
     ]
    },
    {
     "name": "stdout",
     "output_type": "stream",
     "text": [
      "\b\b\b\b\b\b\b\b\b\b\b\b\b\b\b\b\b\b\b\b\b\b\b\b\b\b\b\b\b\b\b\b\b\b\b\b\b\b\b\b\b\b\b\b\b\b\r",
      "1/1 [==============================] - 0s 114ms/step\n"
     ]
    },
    {
     "name": "stdout",
     "output_type": "stream",
     "text": [
      "\r",
      "1/1 [==============================] - ETA: 0s"
     ]
    },
    {
     "name": "stdout",
     "output_type": "stream",
     "text": [
      "\b\b\b\b\b\b\b\b\b\b\b\b\b\b\b\b\b\b\b\b\b\b\b\b\b\b\b\b\b\b\b\b\b\b\b\b\b\b\b\b\b\b\b\b\b\b\r",
      "1/1 [==============================] - 0s 122ms/step\n"
     ]
    },
    {
     "name": "stdout",
     "output_type": "stream",
     "text": [
      "\r",
      "1/1 [==============================] - ETA: 0s"
     ]
    },
    {
     "name": "stdout",
     "output_type": "stream",
     "text": [
      "\b\b\b\b\b\b\b\b\b\b\b\b\b\b\b\b\b\b\b\b\b\b\b\b\b\b\b\b\b\b\b\b\b\b\b\b\b\b\b\b\b\b\b\b\b\b\r",
      "1/1 [==============================] - 0s 138ms/step\n"
     ]
    },
    {
     "name": "stdout",
     "output_type": "stream",
     "text": [
      "\r",
      "1/1 [==============================] - ETA: 0s"
     ]
    },
    {
     "name": "stdout",
     "output_type": "stream",
     "text": [
      "\b\b\b\b\b\b\b\b\b\b\b\b\b\b\b\b\b\b\b\b\b\b\b\b\b\b\b\b\b\b\b\b\b\b\b\b\b\b\b\b\b\b\b\b\b\b\r",
      "1/1 [==============================] - 0s 123ms/step\n"
     ]
    },
    {
     "name": "stdout",
     "output_type": "stream",
     "text": [
      "\r",
      "1/1 [==============================] - ETA: 0s"
     ]
    },
    {
     "name": "stdout",
     "output_type": "stream",
     "text": [
      "\b\b\b\b\b\b\b\b\b\b\b\b\b\b\b\b\b\b\b\b\b\b\b\b\b\b\b\b\b\b\b\b\b\b\b\b\b\b\b\b\b\b\b\b\b\b\r",
      "1/1 [==============================] - 0s 126ms/step\n"
     ]
    },
    {
     "name": "stdout",
     "output_type": "stream",
     "text": [
      "\r",
      "1/1 [==============================] - ETA: 0s"
     ]
    },
    {
     "name": "stdout",
     "output_type": "stream",
     "text": [
      "\b\b\b\b\b\b\b\b\b\b\b\b\b\b\b\b\b\b\b\b\b\b\b\b\b\b\b\b\b\b\b\b\b\b\b\b\b\b\b\b\b\b\b\b\b\b\r",
      "1/1 [==============================] - 0s 126ms/step\n"
     ]
    },
    {
     "name": "stdout",
     "output_type": "stream",
     "text": [
      "\r",
      "1/1 [==============================] - ETA: 0s"
     ]
    },
    {
     "name": "stdout",
     "output_type": "stream",
     "text": [
      "\b\b\b\b\b\b\b\b\b\b\b\b\b\b\b\b\b\b\b\b\b\b\b\b\b\b\b\b\b\b\b\b\b\b\b\b\b\b\b\b\b\b\b\b\b\b\r",
      "1/1 [==============================] - 0s 115ms/step\n"
     ]
    },
    {
     "name": "stdout",
     "output_type": "stream",
     "text": [
      "\r",
      "1/1 [==============================] - ETA: 0s"
     ]
    },
    {
     "name": "stdout",
     "output_type": "stream",
     "text": [
      "\b\b\b\b\b\b\b\b\b\b\b\b\b\b\b\b\b\b\b\b\b\b\b\b\b\b\b\b\b\b\b\b\b\b\b\b\b\b\b\b\b\b\b\b\b\b\r",
      "1/1 [==============================] - 0s 128ms/step\n"
     ]
    },
    {
     "name": "stdout",
     "output_type": "stream",
     "text": [
      "\r",
      "1/1 [==============================] - ETA: 0s"
     ]
    },
    {
     "name": "stdout",
     "output_type": "stream",
     "text": [
      "\b\b\b\b\b\b\b\b\b\b\b\b\b\b\b\b\b\b\b\b\b\b\b\b\b\b\b\b\b\b\b\b\b\b\b\b\b\b\b\b\b\b\b\b\b\b\r",
      "1/1 [==============================] - 0s 144ms/step\n"
     ]
    },
    {
     "name": "stdout",
     "output_type": "stream",
     "text": [
      "\r",
      "1/1 [==============================] - ETA: 0s"
     ]
    },
    {
     "name": "stdout",
     "output_type": "stream",
     "text": [
      "\b\b\b\b\b\b\b\b\b\b\b\b\b\b\b\b\b\b\b\b\b\b\b\b\b\b\b\b\b\b\b\b\b\b\b\b\b\b\b\b\b\b\b\b\b\b\r",
      "1/1 [==============================] - 0s 125ms/step\n"
     ]
    },
    {
     "name": "stdout",
     "output_type": "stream",
     "text": [
      "\r",
      "1/1 [==============================] - ETA: 0s"
     ]
    },
    {
     "name": "stdout",
     "output_type": "stream",
     "text": [
      "\b\b\b\b\b\b\b\b\b\b\b\b\b\b\b\b\b\b\b\b\b\b\b\b\b\b\b\b\b\b\b\b\b\b\b\b\b\b\b\b\b\b\b\b\b\b\r",
      "1/1 [==============================] - 0s 132ms/step\n"
     ]
    },
    {
     "name": "stdout",
     "output_type": "stream",
     "text": [
      "\r",
      "1/1 [==============================] - ETA: 0s"
     ]
    },
    {
     "name": "stdout",
     "output_type": "stream",
     "text": [
      "\b\b\b\b\b\b\b\b\b\b\b\b\b\b\b\b\b\b\b\b\b\b\b\b\b\b\b\b\b\b\b\b\b\b\b\b\b\b\b\b\b\b\b\b\b\b\r",
      "1/1 [==============================] - 0s 128ms/step\n"
     ]
    },
    {
     "name": "stdout",
     "output_type": "stream",
     "text": [
      "\r",
      "1/1 [==============================] - ETA: 0s"
     ]
    },
    {
     "name": "stdout",
     "output_type": "stream",
     "text": [
      "\b\b\b\b\b\b\b\b\b\b\b\b\b\b\b\b\b\b\b\b\b\b\b\b\b\b\b\b\b\b\b\b\b\b\b\b\b\b\b\b\b\b\b\b\b\b\r",
      "1/1 [==============================] - 0s 126ms/step\n"
     ]
    },
    {
     "name": "stdout",
     "output_type": "stream",
     "text": [
      "\r",
      "1/1 [==============================] - ETA: 0s"
     ]
    },
    {
     "name": "stdout",
     "output_type": "stream",
     "text": [
      "\b\b\b\b\b\b\b\b\b\b\b\b\b\b\b\b\b\b\b\b\b\b\b\b\b\b\b\b\b\b\b\b\b\b\b\b\b\b\b\b\b\b\b\b\b\b\r",
      "1/1 [==============================] - 0s 122ms/step\n"
     ]
    },
    {
     "name": "stdout",
     "output_type": "stream",
     "text": [
      "\r",
      "1/1 [==============================] - ETA: 0s"
     ]
    },
    {
     "name": "stdout",
     "output_type": "stream",
     "text": [
      "\b\b\b\b\b\b\b\b\b\b\b\b\b\b\b\b\b\b\b\b\b\b\b\b\b\b\b\b\b\b\b\b\b\b\b\b\b\b\b\b\b\b\b\b\b\b\r",
      "1/1 [==============================] - 0s 124ms/step\n"
     ]
    },
    {
     "name": "stdout",
     "output_type": "stream",
     "text": [
      "\r",
      "1/1 [==============================] - ETA: 0s"
     ]
    },
    {
     "name": "stdout",
     "output_type": "stream",
     "text": [
      "\b\b\b\b\b\b\b\b\b\b\b\b\b\b\b\b\b\b\b\b\b\b\b\b\b\b\b\b\b\b\b\b\b\b\b\b\b\b\b\b\b\b\b\b\b\b\r",
      "1/1 [==============================] - 0s 115ms/step\n"
     ]
    },
    {
     "name": "stdout",
     "output_type": "stream",
     "text": [
      "\r",
      "1/1 [==============================] - ETA: 0s"
     ]
    },
    {
     "name": "stdout",
     "output_type": "stream",
     "text": [
      "\b\b\b\b\b\b\b\b\b\b\b\b\b\b\b\b\b\b\b\b\b\b\b\b\b\b\b\b\b\b\b\b\b\b\b\b\b\b\b\b\b\b\b\b\b\b\r",
      "1/1 [==============================] - 0s 127ms/step\n"
     ]
    },
    {
     "name": "stdout",
     "output_type": "stream",
     "text": [
      "\r",
      "1/1 [==============================] - ETA: 0s"
     ]
    },
    {
     "name": "stdout",
     "output_type": "stream",
     "text": [
      "\b\b\b\b\b\b\b\b\b\b\b\b\b\b\b\b\b\b\b\b\b\b\b\b\b\b\b\b\b\b\b\b\b\b\b\b\b\b\b\b\b\b\b\b\b\b\r",
      "1/1 [==============================] - 0s 116ms/step\n"
     ]
    },
    {
     "name": "stdout",
     "output_type": "stream",
     "text": [
      "\r",
      "1/1 [==============================] - ETA: 0s"
     ]
    },
    {
     "name": "stdout",
     "output_type": "stream",
     "text": [
      "\b\b\b\b\b\b\b\b\b\b\b\b\b\b\b\b\b\b\b\b\b\b\b\b\b\b\b\b\b\b\b\b\b\b\b\b\b\b\b\b\b\b\b\b\b\b\r",
      "1/1 [==============================] - 0s 127ms/step\n"
     ]
    },
    {
     "name": "stdout",
     "output_type": "stream",
     "text": [
      "\r",
      "1/1 [==============================] - ETA: 0s"
     ]
    },
    {
     "name": "stdout",
     "output_type": "stream",
     "text": [
      "\b\b\b\b\b\b\b\b\b\b\b\b\b\b\b\b\b\b\b\b\b\b\b\b\b\b\b\b\b\b\b\b\b\b\b\b\b\b\b\b\b\b\b\b\b\b\r",
      "1/1 [==============================] - 0s 130ms/step\n"
     ]
    },
    {
     "name": "stdout",
     "output_type": "stream",
     "text": [
      "\r",
      "1/1 [==============================] - ETA: 0s"
     ]
    },
    {
     "name": "stdout",
     "output_type": "stream",
     "text": [
      "\b\b\b\b\b\b\b\b\b\b\b\b\b\b\b\b\b\b\b\b\b\b\b\b\b\b\b\b\b\b\b\b\b\b\b\b\b\b\b\b\b\b\b\b\b\b\r",
      "1/1 [==============================] - 0s 129ms/step\n"
     ]
    },
    {
     "name": "stdout",
     "output_type": "stream",
     "text": [
      "\r",
      "1/1 [==============================] - ETA: 0s"
     ]
    },
    {
     "name": "stdout",
     "output_type": "stream",
     "text": [
      "\b\b\b\b\b\b\b\b\b\b\b\b\b\b\b\b\b\b\b\b\b\b\b\b\b\b\b\b\b\b\b\b\b\b\b\b\b\b\b\b\b\b\b\b\b\b\r",
      "1/1 [==============================] - 0s 139ms/step\n"
     ]
    },
    {
     "name": "stdout",
     "output_type": "stream",
     "text": [
      "\r",
      "1/1 [==============================] - ETA: 0s"
     ]
    },
    {
     "name": "stdout",
     "output_type": "stream",
     "text": [
      "\b\b\b\b\b\b\b\b\b\b\b\b\b\b\b\b\b\b\b\b\b\b\b\b\b\b\b\b\b\b\b\b\b\b\b\b\b\b\b\b\b\b\b\b\b\b\r",
      "1/1 [==============================] - 0s 139ms/step\n"
     ]
    },
    {
     "name": "stdout",
     "output_type": "stream",
     "text": [
      "\r",
      "1/1 [==============================] - ETA: 0s"
     ]
    },
    {
     "name": "stdout",
     "output_type": "stream",
     "text": [
      "\b\b\b\b\b\b\b\b\b\b\b\b\b\b\b\b\b\b\b\b\b\b\b\b\b\b\b\b\b\b\b\b\b\b\b\b\b\b\b\b\b\b\b\b\b\b\r",
      "1/1 [==============================] - 0s 118ms/step\n"
     ]
    },
    {
     "name": "stdout",
     "output_type": "stream",
     "text": [
      "\r",
      "1/1 [==============================] - ETA: 0s"
     ]
    },
    {
     "name": "stdout",
     "output_type": "stream",
     "text": [
      "\b\b\b\b\b\b\b\b\b\b\b\b\b\b\b\b\b\b\b\b\b\b\b\b\b\b\b\b\b\b\b\b\b\b\b\b\b\b\b\b\b\b\b\b\b\b\r",
      "1/1 [==============================] - 0s 130ms/step\n"
     ]
    },
    {
     "name": "stdout",
     "output_type": "stream",
     "text": [
      "\r",
      "1/1 [==============================] - ETA: 0s"
     ]
    },
    {
     "name": "stdout",
     "output_type": "stream",
     "text": [
      "\b\b\b\b\b\b\b\b\b\b\b\b\b\b\b\b\b\b\b\b\b\b\b\b\b\b\b\b\b\b\b\b\b\b\b\b\b\b\b\b\b\b\b\b\b\b\r",
      "1/1 [==============================] - 0s 128ms/step\n"
     ]
    },
    {
     "name": "stdout",
     "output_type": "stream",
     "text": [
      "\r",
      "1/1 [==============================] - ETA: 0s"
     ]
    },
    {
     "name": "stdout",
     "output_type": "stream",
     "text": [
      "\b\b\b\b\b\b\b\b\b\b\b\b\b\b\b\b\b\b\b\b\b\b\b\b\b\b\b\b\b\b\b\b\b\b\b\b\b\b\b\b\b\b\b\b\b\b\r",
      "1/1 [==============================] - 0s 135ms/step\n"
     ]
    },
    {
     "name": "stdout",
     "output_type": "stream",
     "text": [
      "\r",
      "1/1 [==============================] - ETA: 0s"
     ]
    },
    {
     "name": "stdout",
     "output_type": "stream",
     "text": [
      "\b\b\b\b\b\b\b\b\b\b\b\b\b\b\b\b\b\b\b\b\b\b\b\b\b\b\b\b\b\b\b\b\b\b\b\b\b\b\b\b\b\b\b\b\b\b\r",
      "1/1 [==============================] - 0s 123ms/step\n"
     ]
    },
    {
     "name": "stdout",
     "output_type": "stream",
     "text": [
      "\r",
      "1/1 [==============================] - ETA: 0s"
     ]
    },
    {
     "name": "stdout",
     "output_type": "stream",
     "text": [
      "\b\b\b\b\b\b\b\b\b\b\b\b\b\b\b\b\b\b\b\b\b\b\b\b\b\b\b\b\b\b\b\b\b\b\b\b\b\b\b\b\b\b\b\b\b\b\r",
      "1/1 [==============================] - 0s 141ms/step\n"
     ]
    },
    {
     "name": "stdout",
     "output_type": "stream",
     "text": [
      "\r",
      "1/1 [==============================] - ETA: 0s"
     ]
    },
    {
     "name": "stdout",
     "output_type": "stream",
     "text": [
      "\b\b\b\b\b\b\b\b\b\b\b\b\b\b\b\b\b\b\b\b\b\b\b\b\b\b\b\b\b\b\b\b\b\b\b\b\b\b\b\b\b\b\b\b\b\b\r",
      "1/1 [==============================] - 0s 132ms/step\n"
     ]
    },
    {
     "name": "stdout",
     "output_type": "stream",
     "text": [
      "\r",
      "1/1 [==============================] - ETA: 0s"
     ]
    },
    {
     "name": "stdout",
     "output_type": "stream",
     "text": [
      "\b\b\b\b\b\b\b\b\b\b\b\b\b\b\b\b\b\b\b\b\b\b\b\b\b\b\b\b\b\b\b\b\b\b\b\b\b\b\b\b\b\b\b\b\b\b\r",
      "1/1 [==============================] - 0s 119ms/step\n"
     ]
    },
    {
     "name": "stdout",
     "output_type": "stream",
     "text": [
      "\r",
      "1/1 [==============================] - ETA: 0s"
     ]
    },
    {
     "name": "stdout",
     "output_type": "stream",
     "text": [
      "\b\b\b\b\b\b\b\b\b\b\b\b\b\b\b\b\b\b\b\b\b\b\b\b\b\b\b\b\b\b\b\b\b\b\b\b\b\b\b\b\b\b\b\b\b\b\r",
      "1/1 [==============================] - 0s 123ms/step\n"
     ]
    },
    {
     "name": "stdout",
     "output_type": "stream",
     "text": [
      "\r",
      "1/1 [==============================] - ETA: 0s"
     ]
    },
    {
     "name": "stdout",
     "output_type": "stream",
     "text": [
      "\b\b\b\b\b\b\b\b\b\b\b\b\b\b\b\b\b\b\b\b\b\b\b\b\b\b\b\b\b\b\b\b\b\b\b\b\b\b\b\b\b\b\b\b\b\b\r",
      "1/1 [==============================] - 0s 118ms/step\n"
     ]
    },
    {
     "name": "stdout",
     "output_type": "stream",
     "text": [
      "\r",
      "1/1 [==============================] - ETA: 0s"
     ]
    },
    {
     "name": "stdout",
     "output_type": "stream",
     "text": [
      "\b\b\b\b\b\b\b\b\b\b\b\b\b\b\b\b\b\b\b\b\b\b\b\b\b\b\b\b\b\b\b\b\b\b\b\b\b\b\b\b\b\b\b\b\b\b\r",
      "1/1 [==============================] - 0s 126ms/step\n"
     ]
    },
    {
     "name": "stdout",
     "output_type": "stream",
     "text": [
      "\r",
      "1/1 [==============================] - ETA: 0s"
     ]
    },
    {
     "name": "stdout",
     "output_type": "stream",
     "text": [
      "\b\b\b\b\b\b\b\b\b\b\b\b\b\b\b\b\b\b\b\b\b\b\b\b\b\b\b\b\b\b\b\b\b\b\b\b\b\b\b\b\b\b\b\b\b\b\r",
      "1/1 [==============================] - 0s 118ms/step\n"
     ]
    },
    {
     "name": "stdout",
     "output_type": "stream",
     "text": [
      "\r",
      "1/1 [==============================] - ETA: 0s"
     ]
    },
    {
     "name": "stdout",
     "output_type": "stream",
     "text": [
      "\b\b\b\b\b\b\b\b\b\b\b\b\b\b\b\b\b\b\b\b\b\b\b\b\b\b\b\b\b\b\b\b\b\b\b\b\b\b\b\b\b\b\b\b\b\b\r",
      "1/1 [==============================] - 0s 114ms/step\n"
     ]
    },
    {
     "name": "stdout",
     "output_type": "stream",
     "text": [
      "\r",
      "1/1 [==============================] - ETA: 0s"
     ]
    },
    {
     "name": "stdout",
     "output_type": "stream",
     "text": [
      "\b\b\b\b\b\b\b\b\b\b\b\b\b\b\b\b\b\b\b\b\b\b\b\b\b\b\b\b\b\b\b\b\b\b\b\b\b\b\b\b\b\b\b\b\b\b\r",
      "1/1 [==============================] - 0s 130ms/step\n"
     ]
    },
    {
     "name": "stdout",
     "output_type": "stream",
     "text": [
      "\r",
      "1/1 [==============================] - ETA: 0s"
     ]
    },
    {
     "name": "stdout",
     "output_type": "stream",
     "text": [
      "\b\b\b\b\b\b\b\b\b\b\b\b\b\b\b\b\b\b\b\b\b\b\b\b\b\b\b\b\b\b\b\b\b\b\b\b\b\b\b\b\b\b\b\b\b\b\r",
      "1/1 [==============================] - 0s 130ms/step\n"
     ]
    },
    {
     "name": "stdout",
     "output_type": "stream",
     "text": [
      "\r",
      "1/1 [==============================] - ETA: 0s"
     ]
    },
    {
     "name": "stdout",
     "output_type": "stream",
     "text": [
      "\b\b\b\b\b\b\b\b\b\b\b\b\b\b\b\b\b\b\b\b\b\b\b\b\b\b\b\b\b\b\b\b\b\b\b\b\b\b\b\b\b\b\b\b\b\b\r",
      "1/1 [==============================] - 0s 129ms/step\n"
     ]
    },
    {
     "name": "stdout",
     "output_type": "stream",
     "text": [
      "\r",
      "1/1 [==============================] - ETA: 0s"
     ]
    },
    {
     "name": "stdout",
     "output_type": "stream",
     "text": [
      "\b\b\b\b\b\b\b\b\b\b\b\b\b\b\b\b\b\b\b\b\b\b\b\b\b\b\b\b\b\b\b\b\b\b\b\b\b\b\b\b\b\b\b\b\b\b\r",
      "1/1 [==============================] - 0s 112ms/step\n"
     ]
    },
    {
     "name": "stdout",
     "output_type": "stream",
     "text": [
      "\r",
      "1/1 [==============================] - ETA: 0s"
     ]
    },
    {
     "name": "stdout",
     "output_type": "stream",
     "text": [
      "\b\b\b\b\b\b\b\b\b\b\b\b\b\b\b\b\b\b\b\b\b\b\b\b\b\b\b\b\b\b\b\b\b\b\b\b\b\b\b\b\b\b\b\b\b\b\r",
      "1/1 [==============================] - 0s 122ms/step\n"
     ]
    },
    {
     "name": "stdout",
     "output_type": "stream",
     "text": [
      "\r",
      "1/1 [==============================] - ETA: 0s"
     ]
    },
    {
     "name": "stdout",
     "output_type": "stream",
     "text": [
      "\b\b\b\b\b\b\b\b\b\b\b\b\b\b\b\b\b\b\b\b\b\b\b\b\b\b\b\b\b\b\b\b\b\b\b\b\b\b\b\b\b\b\b\b\b\b\r",
      "1/1 [==============================] - 0s 143ms/step\n"
     ]
    },
    {
     "name": "stdout",
     "output_type": "stream",
     "text": [
      "\r",
      "1/1 [==============================] - ETA: 0s"
     ]
    },
    {
     "name": "stdout",
     "output_type": "stream",
     "text": [
      "\b\b\b\b\b\b\b\b\b\b\b\b\b\b\b\b\b\b\b\b\b\b\b\b\b\b\b\b\b\b\b\b\b\b\b\b\b\b\b\b\b\b\b\b\b\b\r",
      "1/1 [==============================] - 0s 123ms/step\n"
     ]
    },
    {
     "name": "stdout",
     "output_type": "stream",
     "text": [
      "\r",
      "1/1 [==============================] - ETA: 0s"
     ]
    },
    {
     "name": "stdout",
     "output_type": "stream",
     "text": [
      "\b\b\b\b\b\b\b\b\b\b\b\b\b\b\b\b\b\b\b\b\b\b\b\b\b\b\b\b\b\b\b\b\b\b\b\b\b\b\b\b\b\b\b\b\b\b\r",
      "1/1 [==============================] - 0s 119ms/step\n"
     ]
    },
    {
     "name": "stdout",
     "output_type": "stream",
     "text": [
      "\r",
      "1/1 [==============================] - ETA: 0s"
     ]
    },
    {
     "name": "stdout",
     "output_type": "stream",
     "text": [
      "\b\b\b\b\b\b\b\b\b\b\b\b\b\b\b\b\b\b\b\b\b\b\b\b\b\b\b\b\b\b\b\b\b\b\b\b\b\b\b\b\b\b\b\b\b\b\r",
      "1/1 [==============================] - 0s 113ms/step\n"
     ]
    },
    {
     "name": "stdout",
     "output_type": "stream",
     "text": [
      "\r",
      "1/1 [==============================] - ETA: 0s"
     ]
    },
    {
     "name": "stdout",
     "output_type": "stream",
     "text": [
      "\b\b\b\b\b\b\b\b\b\b\b\b\b\b\b\b\b\b\b\b\b\b\b\b\b\b\b\b\b\b\b\b\b\b\b\b\b\b\b\b\b\b\b\b\b\b\r",
      "1/1 [==============================] - 0s 124ms/step\n"
     ]
    },
    {
     "name": "stdout",
     "output_type": "stream",
     "text": [
      "\r",
      "1/1 [==============================] - ETA: 0s"
     ]
    },
    {
     "name": "stdout",
     "output_type": "stream",
     "text": [
      "\b\b\b\b\b\b\b\b\b\b\b\b\b\b\b\b\b\b\b\b\b\b\b\b\b\b\b\b\b\b\b\b\b\b\b\b\b\b\b\b\b\b\b\b\b\b\r",
      "1/1 [==============================] - 0s 132ms/step\n"
     ]
    },
    {
     "name": "stdout",
     "output_type": "stream",
     "text": [
      "\r",
      "1/1 [==============================] - ETA: 0s"
     ]
    },
    {
     "name": "stdout",
     "output_type": "stream",
     "text": [
      "\b\b\b\b\b\b\b\b\b\b\b\b\b\b\b\b\b\b\b\b\b\b\b\b\b\b\b\b\b\b\b\b\b\b\b\b\b\b\b\b\b\b\b\b\b\b\r",
      "1/1 [==============================] - 0s 140ms/step\n"
     ]
    },
    {
     "name": "stdout",
     "output_type": "stream",
     "text": [
      "\r",
      "1/1 [==============================] - ETA: 0s"
     ]
    },
    {
     "name": "stdout",
     "output_type": "stream",
     "text": [
      "\b\b\b\b\b\b\b\b\b\b\b\b\b\b\b\b\b\b\b\b\b\b\b\b\b\b\b\b\b\b\b\b\b\b\b\b\b\b\b\b\b\b\b\b\b\b\r",
      "1/1 [==============================] - 0s 128ms/step\n"
     ]
    },
    {
     "name": "stdout",
     "output_type": "stream",
     "text": [
      "\r",
      "1/1 [==============================] - ETA: 0s"
     ]
    },
    {
     "name": "stdout",
     "output_type": "stream",
     "text": [
      "\b\b\b\b\b\b\b\b\b\b\b\b\b\b\b\b\b\b\b\b\b\b\b\b\b\b\b\b\b\b\b\b\b\b\b\b\b\b\b\b\b\b\b\b\b\b\r",
      "1/1 [==============================] - 0s 124ms/step\n"
     ]
    },
    {
     "name": "stdout",
     "output_type": "stream",
     "text": [
      "\r",
      "1/1 [==============================] - ETA: 0s"
     ]
    },
    {
     "name": "stdout",
     "output_type": "stream",
     "text": [
      "\b\b\b\b\b\b\b\b\b\b\b\b\b\b\b\b\b\b\b\b\b\b\b\b\b\b\b\b\b\b\b\b\b\b\b\b\b\b\b\b\b\b\b\b\b\b\r",
      "1/1 [==============================] - 0s 120ms/step\n"
     ]
    },
    {
     "name": "stdout",
     "output_type": "stream",
     "text": [
      "\r",
      "1/1 [==============================] - ETA: 0s"
     ]
    },
    {
     "name": "stdout",
     "output_type": "stream",
     "text": [
      "\b\b\b\b\b\b\b\b\b\b\b\b\b\b\b\b\b\b\b\b\b\b\b\b\b\b\b\b\b\b\b\b\b\b\b\b\b\b\b\b\b\b\b\b\b\b\r",
      "1/1 [==============================] - 0s 127ms/step\n"
     ]
    },
    {
     "name": "stdout",
     "output_type": "stream",
     "text": [
      "\r",
      "1/1 [==============================] - ETA: 0s"
     ]
    },
    {
     "name": "stdout",
     "output_type": "stream",
     "text": [
      "\b\b\b\b\b\b\b\b\b\b\b\b\b\b\b\b\b\b\b\b\b\b\b\b\b\b\b\b\b\b\b\b\b\b\b\b\b\b\b\b\b\b\b\b\b\b\r",
      "1/1 [==============================] - 0s 117ms/step\n"
     ]
    },
    {
     "name": "stdout",
     "output_type": "stream",
     "text": [
      "\r",
      "1/1 [==============================] - ETA: 0s"
     ]
    },
    {
     "name": "stdout",
     "output_type": "stream",
     "text": [
      "\b\b\b\b\b\b\b\b\b\b\b\b\b\b\b\b\b\b\b\b\b\b\b\b\b\b\b\b\b\b\b\b\b\b\b\b\b\b\b\b\b\b\b\b\b\b\r",
      "1/1 [==============================] - 0s 117ms/step\n"
     ]
    },
    {
     "name": "stdout",
     "output_type": "stream",
     "text": [
      "\r",
      "1/1 [==============================] - ETA: 0s"
     ]
    },
    {
     "name": "stdout",
     "output_type": "stream",
     "text": [
      "\b\b\b\b\b\b\b\b\b\b\b\b\b\b\b\b\b\b\b\b\b\b\b\b\b\b\b\b\b\b\b\b\b\b\b\b\b\b\b\b\b\b\b\b\b\b\r",
      "1/1 [==============================] - 0s 121ms/step\n"
     ]
    },
    {
     "name": "stdout",
     "output_type": "stream",
     "text": [
      "\r",
      "1/1 [==============================] - ETA: 0s"
     ]
    },
    {
     "name": "stdout",
     "output_type": "stream",
     "text": [
      "\b\b\b\b\b\b\b\b\b\b\b\b\b\b\b\b\b\b\b\b\b\b\b\b\b\b\b\b\b\b\b\b\b\b\b\b\b\b\b\b\b\b\b\b\b\b\r",
      "1/1 [==============================] - 0s 116ms/step\n"
     ]
    },
    {
     "name": "stdout",
     "output_type": "stream",
     "text": [
      "\r",
      "1/1 [==============================] - ETA: 0s"
     ]
    },
    {
     "name": "stdout",
     "output_type": "stream",
     "text": [
      "\b\b\b\b\b\b\b\b\b\b\b\b\b\b\b\b\b\b\b\b\b\b\b\b\b\b\b\b\b\b\b\b\b\b\b\b\b\b\b\b\b\b\b\b\b\b\r",
      "1/1 [==============================] - 0s 115ms/step\n"
     ]
    },
    {
     "name": "stdout",
     "output_type": "stream",
     "text": [
      "\r",
      "1/1 [==============================] - ETA: 0s"
     ]
    },
    {
     "name": "stdout",
     "output_type": "stream",
     "text": [
      "\b\b\b\b\b\b\b\b\b\b\b\b\b\b\b\b\b\b\b\b\b\b\b\b\b\b\b\b\b\b\b\b\b\b\b\b\b\b\b\b\b\b\b\b\b\b\r",
      "1/1 [==============================] - 0s 135ms/step\n"
     ]
    },
    {
     "name": "stdout",
     "output_type": "stream",
     "text": [
      "\r",
      "1/1 [==============================] - ETA: 0s"
     ]
    },
    {
     "name": "stdout",
     "output_type": "stream",
     "text": [
      "\b\b\b\b\b\b\b\b\b\b\b\b\b\b\b\b\b\b\b\b\b\b\b\b\b\b\b\b\b\b\b\b\b\b\b\b\b\b\b\b\b\b\b\b\b\b\r",
      "1/1 [==============================] - 0s 132ms/step\n"
     ]
    },
    {
     "name": "stdout",
     "output_type": "stream",
     "text": [
      "\r",
      "1/1 [==============================] - ETA: 0s"
     ]
    },
    {
     "name": "stdout",
     "output_type": "stream",
     "text": [
      "\b\b\b\b\b\b\b\b\b\b\b\b\b\b\b\b\b\b\b\b\b\b\b\b\b\b\b\b\b\b\b\b\b\b\b\b\b\b\b\b\b\b\b\b\b\b\r",
      "1/1 [==============================] - 0s 120ms/step\n"
     ]
    },
    {
     "name": "stdout",
     "output_type": "stream",
     "text": [
      "\r",
      "1/1 [==============================] - ETA: 0s"
     ]
    },
    {
     "name": "stdout",
     "output_type": "stream",
     "text": [
      "\b\b\b\b\b\b\b\b\b\b\b\b\b\b\b\b\b\b\b\b\b\b\b\b\b\b\b\b\b\b\b\b\b\b\b\b\b\b\b\b\b\b\b\b\b\b\r",
      "1/1 [==============================] - 0s 118ms/step\n"
     ]
    },
    {
     "name": "stdout",
     "output_type": "stream",
     "text": [
      "\r",
      "1/1 [==============================] - ETA: 0s"
     ]
    },
    {
     "name": "stdout",
     "output_type": "stream",
     "text": [
      "\b\b\b\b\b\b\b\b\b\b\b\b\b\b\b\b\b\b\b\b\b\b\b\b\b\b\b\b\b\b\b\b\b\b\b\b\b\b\b\b\b\b\b\b\b\b\r",
      "1/1 [==============================] - 0s 119ms/step\n"
     ]
    },
    {
     "name": "stdout",
     "output_type": "stream",
     "text": [
      "\r",
      "1/1 [==============================] - ETA: 0s"
     ]
    },
    {
     "name": "stdout",
     "output_type": "stream",
     "text": [
      "\b\b\b\b\b\b\b\b\b\b\b\b\b\b\b\b\b\b\b\b\b\b\b\b\b\b\b\b\b\b\b\b\b\b\b\b\b\b\b\b\b\b\b\b\b\b\r",
      "1/1 [==============================] - 0s 159ms/step\n"
     ]
    },
    {
     "name": "stdout",
     "output_type": "stream",
     "text": [
      "\r",
      "1/1 [==============================] - ETA: 0s"
     ]
    },
    {
     "name": "stdout",
     "output_type": "stream",
     "text": [
      "\b\b\b\b\b\b\b\b\b\b\b\b\b\b\b\b\b\b\b\b\b\b\b\b\b\b\b\b\b\b\b\b\b\b\b\b\b\b\b\b\b\b\b\b\b\b\r",
      "1/1 [==============================] - 0s 137ms/step\n"
     ]
    },
    {
     "name": "stdout",
     "output_type": "stream",
     "text": [
      "\r",
      "1/1 [==============================] - ETA: 0s"
     ]
    },
    {
     "name": "stdout",
     "output_type": "stream",
     "text": [
      "\b\b\b\b\b\b\b\b\b\b\b\b\b\b\b\b\b\b\b\b\b\b\b\b\b\b\b\b\b\b\b\b\b\b\b\b\b\b\b\b\b\b\b\b\b\b\r",
      "1/1 [==============================] - 0s 116ms/step\n"
     ]
    },
    {
     "name": "stdout",
     "output_type": "stream",
     "text": [
      "\r",
      "1/1 [==============================] - ETA: 0s"
     ]
    },
    {
     "name": "stdout",
     "output_type": "stream",
     "text": [
      "\b\b\b\b\b\b\b\b\b\b\b\b\b\b\b\b\b\b\b\b\b\b\b\b\b\b\b\b\b\b\b\b\b\b\b\b\b\b\b\b\b\b\b\b\b\b\r",
      "1/1 [==============================] - 0s 127ms/step\n"
     ]
    },
    {
     "name": "stdout",
     "output_type": "stream",
     "text": [
      "\r",
      "1/1 [==============================] - ETA: 0s"
     ]
    },
    {
     "name": "stdout",
     "output_type": "stream",
     "text": [
      "\b\b\b\b\b\b\b\b\b\b\b\b\b\b\b\b\b\b\b\b\b\b\b\b\b\b\b\b\b\b\b\b\b\b\b\b\b\b\b\b\b\b\b\b\b\b\r",
      "1/1 [==============================] - 0s 123ms/step\n"
     ]
    },
    {
     "name": "stdout",
     "output_type": "stream",
     "text": [
      "\r",
      "1/1 [==============================] - ETA: 0s"
     ]
    },
    {
     "name": "stdout",
     "output_type": "stream",
     "text": [
      "\b\b\b\b\b\b\b\b\b\b\b\b\b\b\b\b\b\b\b\b\b\b\b\b\b\b\b\b\b\b\b\b\b\b\b\b\b\b\b\b\b\b\b\b\b\b\r",
      "1/1 [==============================] - 0s 122ms/step\n"
     ]
    },
    {
     "name": "stdout",
     "output_type": "stream",
     "text": [
      "\r",
      "1/1 [==============================] - ETA: 0s"
     ]
    },
    {
     "name": "stdout",
     "output_type": "stream",
     "text": [
      "\b\b\b\b\b\b\b\b\b\b\b\b\b\b\b\b\b\b\b\b\b\b\b\b\b\b\b\b\b\b\b\b\b\b\b\b\b\b\b\b\b\b\b\b\b\b\r",
      "1/1 [==============================] - 0s 130ms/step\n"
     ]
    },
    {
     "name": "stdout",
     "output_type": "stream",
     "text": [
      "\r",
      "1/1 [==============================] - ETA: 0s"
     ]
    },
    {
     "name": "stdout",
     "output_type": "stream",
     "text": [
      "\b\b\b\b\b\b\b\b\b\b\b\b\b\b\b\b\b\b\b\b\b\b\b\b\b\b\b\b\b\b\b\b\b\b\b\b\b\b\b\b\b\b\b\b\b\b\r",
      "1/1 [==============================] - 0s 117ms/step\n"
     ]
    },
    {
     "name": "stdout",
     "output_type": "stream",
     "text": [
      "\r",
      "1/1 [==============================] - ETA: 0s"
     ]
    },
    {
     "name": "stdout",
     "output_type": "stream",
     "text": [
      "\b\b\b\b\b\b\b\b\b\b\b\b\b\b\b\b\b\b\b\b\b\b\b\b\b\b\b\b\b\b\b\b\b\b\b\b\b\b\b\b\b\b\b\b\b\b\r",
      "1/1 [==============================] - 0s 124ms/step\n"
     ]
    },
    {
     "name": "stdout",
     "output_type": "stream",
     "text": [
      "\r",
      "1/1 [==============================] - ETA: 0s"
     ]
    },
    {
     "name": "stdout",
     "output_type": "stream",
     "text": [
      "\b\b\b\b\b\b\b\b\b\b\b\b\b\b\b\b\b\b\b\b\b\b\b\b\b\b\b\b\b\b\b\b\b\b\b\b\b\b\b\b\b\b\b\b\b\b\r",
      "1/1 [==============================] - 0s 135ms/step\n"
     ]
    },
    {
     "name": "stdout",
     "output_type": "stream",
     "text": [
      "\r",
      "1/1 [==============================] - ETA: 0s"
     ]
    },
    {
     "name": "stdout",
     "output_type": "stream",
     "text": [
      "\b\b\b\b\b\b\b\b\b\b\b\b\b\b\b\b\b\b\b\b\b\b\b\b\b\b\b\b\b\b\b\b\b\b\b\b\b\b\b\b\b\b\b\b\b\b\r",
      "1/1 [==============================] - 0s 139ms/step\n"
     ]
    },
    {
     "name": "stdout",
     "output_type": "stream",
     "text": [
      "\r",
      "1/1 [==============================] - ETA: 0s"
     ]
    },
    {
     "name": "stdout",
     "output_type": "stream",
     "text": [
      "\b\b\b\b\b\b\b\b\b\b\b\b\b\b\b\b\b\b\b\b\b\b\b\b\b\b\b\b\b\b\b\b\b\b\b\b\b\b\b\b\b\b\b\b\b\b\r",
      "1/1 [==============================] - 0s 124ms/step\n"
     ]
    },
    {
     "name": "stdout",
     "output_type": "stream",
     "text": [
      "\r",
      "1/1 [==============================] - ETA: 0s"
     ]
    },
    {
     "name": "stdout",
     "output_type": "stream",
     "text": [
      "\b\b\b\b\b\b\b\b\b\b\b\b\b\b\b\b\b\b\b\b\b\b\b\b\b\b\b\b\b\b\b\b\b\b\b\b\b\b\b\b\b\b\b\b\b\b\r",
      "1/1 [==============================] - 0s 112ms/step\n"
     ]
    },
    {
     "name": "stdout",
     "output_type": "stream",
     "text": [
      "\r",
      "1/1 [==============================] - ETA: 0s"
     ]
    },
    {
     "name": "stdout",
     "output_type": "stream",
     "text": [
      "\b\b\b\b\b\b\b\b\b\b\b\b\b\b\b\b\b\b\b\b\b\b\b\b\b\b\b\b\b\b\b\b\b\b\b\b\b\b\b\b\b\b\b\b\b\b\r",
      "1/1 [==============================] - 0s 127ms/step\n"
     ]
    },
    {
     "name": "stdout",
     "output_type": "stream",
     "text": [
      "\r",
      "1/1 [==============================] - ETA: 0s"
     ]
    },
    {
     "name": "stdout",
     "output_type": "stream",
     "text": [
      "\b\b\b\b\b\b\b\b\b\b\b\b\b\b\b\b\b\b\b\b\b\b\b\b\b\b\b\b\b\b\b\b\b\b\b\b\b\b\b\b\b\b\b\b\b\b\r",
      "1/1 [==============================] - 0s 119ms/step\n"
     ]
    },
    {
     "name": "stdout",
     "output_type": "stream",
     "text": [
      "\r",
      "1/1 [==============================] - ETA: 0s"
     ]
    },
    {
     "name": "stdout",
     "output_type": "stream",
     "text": [
      "\b\b\b\b\b\b\b\b\b\b\b\b\b\b\b\b\b\b\b\b\b\b\b\b\b\b\b\b\b\b\b\b\b\b\b\b\b\b\b\b\b\b\b\b\b\b\r",
      "1/1 [==============================] - 0s 133ms/step\n"
     ]
    },
    {
     "name": "stdout",
     "output_type": "stream",
     "text": [
      "\r",
      "1/1 [==============================] - ETA: 0s"
     ]
    },
    {
     "name": "stdout",
     "output_type": "stream",
     "text": [
      "\b\b\b\b\b\b\b\b\b\b\b\b\b\b\b\b\b\b\b\b\b\b\b\b\b\b\b\b\b\b\b\b\b\b\b\b\b\b\b\b\b\b\b\b\b\b\r",
      "1/1 [==============================] - 0s 117ms/step\n"
     ]
    },
    {
     "name": "stdout",
     "output_type": "stream",
     "text": [
      "\r",
      "1/1 [==============================] - ETA: 0s"
     ]
    },
    {
     "name": "stdout",
     "output_type": "stream",
     "text": [
      "\b\b\b\b\b\b\b\b\b\b\b\b\b\b\b\b\b\b\b\b\b\b\b\b\b\b\b\b\b\b\b\b\b\b\b\b\b\b\b\b\b\b\b\b\b\b\r",
      "1/1 [==============================] - 0s 117ms/step\n"
     ]
    },
    {
     "name": "stdout",
     "output_type": "stream",
     "text": [
      "\r",
      "1/1 [==============================] - ETA: 0s"
     ]
    },
    {
     "name": "stdout",
     "output_type": "stream",
     "text": [
      "\b\b\b\b\b\b\b\b\b\b\b\b\b\b\b\b\b\b\b\b\b\b\b\b\b\b\b\b\b\b\b\b\b\b\b\b\b\b\b\b\b\b\b\b\b\b\r",
      "1/1 [==============================] - 0s 128ms/step\n"
     ]
    },
    {
     "name": "stdout",
     "output_type": "stream",
     "text": [
      "\r",
      "1/1 [==============================] - ETA: 0s"
     ]
    },
    {
     "name": "stdout",
     "output_type": "stream",
     "text": [
      "\b\b\b\b\b\b\b\b\b\b\b\b\b\b\b\b\b\b\b\b\b\b\b\b\b\b\b\b\b\b\b\b\b\b\b\b\b\b\b\b\b\b\b\b\b\b\r",
      "1/1 [==============================] - 0s 120ms/step\n"
     ]
    },
    {
     "name": "stdout",
     "output_type": "stream",
     "text": [
      "\r",
      "1/1 [==============================] - ETA: 0s"
     ]
    },
    {
     "name": "stdout",
     "output_type": "stream",
     "text": [
      "\b\b\b\b\b\b\b\b\b\b\b\b\b\b\b\b\b\b\b\b\b\b\b\b\b\b\b\b\b\b\b\b\b\b\b\b\b\b\b\b\b\b\b\b\b\b\r",
      "1/1 [==============================] - 0s 120ms/step\n"
     ]
    },
    {
     "name": "stdout",
     "output_type": "stream",
     "text": [
      "\r",
      "1/1 [==============================] - ETA: 0s"
     ]
    },
    {
     "name": "stdout",
     "output_type": "stream",
     "text": [
      "\b\b\b\b\b\b\b\b\b\b\b\b\b\b\b\b\b\b\b\b\b\b\b\b\b\b\b\b\b\b\b\b\b\b\b\b\b\b\b\b\b\b\b\b\b\b\r",
      "1/1 [==============================] - 0s 150ms/step\n"
     ]
    },
    {
     "name": "stdout",
     "output_type": "stream",
     "text": [
      "\r",
      "1/1 [==============================] - ETA: 0s"
     ]
    },
    {
     "name": "stdout",
     "output_type": "stream",
     "text": [
      "\b\b\b\b\b\b\b\b\b\b\b\b\b\b\b\b\b\b\b\b\b\b\b\b\b\b\b\b\b\b\b\b\b\b\b\b\b\b\b\b\b\b\b\b\b\b\r",
      "1/1 [==============================] - 0s 119ms/step\n"
     ]
    },
    {
     "name": "stdout",
     "output_type": "stream",
     "text": [
      "\r",
      "1/1 [==============================] - ETA: 0s"
     ]
    },
    {
     "name": "stdout",
     "output_type": "stream",
     "text": [
      "\b\b\b\b\b\b\b\b\b\b\b\b\b\b\b\b\b\b\b\b\b\b\b\b\b\b\b\b\b\b\b\b\b\b\b\b\b\b\b\b\b\b\b\b\b\b\r",
      "1/1 [==============================] - 0s 125ms/step\n"
     ]
    },
    {
     "name": "stdout",
     "output_type": "stream",
     "text": [
      "\r",
      "1/1 [==============================] - ETA: 0s"
     ]
    },
    {
     "name": "stdout",
     "output_type": "stream",
     "text": [
      "\b\b\b\b\b\b\b\b\b\b\b\b\b\b\b\b\b\b\b\b\b\b\b\b\b\b\b\b\b\b\b\b\b\b\b\b\b\b\b\b\b\b\b\b\b\b\r",
      "1/1 [==============================] - 0s 129ms/step\n"
     ]
    },
    {
     "name": "stdout",
     "output_type": "stream",
     "text": [
      "\r",
      "1/1 [==============================] - ETA: 0s"
     ]
    },
    {
     "name": "stdout",
     "output_type": "stream",
     "text": [
      "\b\b\b\b\b\b\b\b\b\b\b\b\b\b\b\b\b\b\b\b\b\b\b\b\b\b\b\b\b\b\b\b\b\b\b\b\b\b\b\b\b\b\b\b\b\b\r",
      "1/1 [==============================] - 0s 138ms/step\n"
     ]
    },
    {
     "name": "stdout",
     "output_type": "stream",
     "text": [
      "\r",
      "1/1 [==============================] - ETA: 0s"
     ]
    },
    {
     "name": "stdout",
     "output_type": "stream",
     "text": [
      "\b\b\b\b\b\b\b\b\b\b\b\b\b\b\b\b\b\b\b\b\b\b\b\b\b\b\b\b\b\b\b\b\b\b\b\b\b\b\b\b\b\b\b\b\b\b\r",
      "1/1 [==============================] - 0s 138ms/step\n"
     ]
    },
    {
     "name": "stdout",
     "output_type": "stream",
     "text": [
      "\r",
      "1/1 [==============================] - ETA: 0s"
     ]
    },
    {
     "name": "stdout",
     "output_type": "stream",
     "text": [
      "\b\b\b\b\b\b\b\b\b\b\b\b\b\b\b\b\b\b\b\b\b\b\b\b\b\b\b\b\b\b\b\b\b\b\b\b\b\b\b\b\b\b\b\b\b\b\r",
      "1/1 [==============================] - 0s 125ms/step\n"
     ]
    },
    {
     "name": "stdout",
     "output_type": "stream",
     "text": [
      "\r",
      "1/1 [==============================] - ETA: 0s"
     ]
    },
    {
     "name": "stdout",
     "output_type": "stream",
     "text": [
      "\b\b\b\b\b\b\b\b\b\b\b\b\b\b\b\b\b\b\b\b\b\b\b\b\b\b\b\b\b\b\b\b\b\b\b\b\b\b\b\b\b\b\b\b\b\b\r",
      "1/1 [==============================] - 0s 126ms/step\n"
     ]
    },
    {
     "name": "stdout",
     "output_type": "stream",
     "text": [
      "\r",
      "1/1 [==============================] - ETA: 0s"
     ]
    },
    {
     "name": "stdout",
     "output_type": "stream",
     "text": [
      "\b\b\b\b\b\b\b\b\b\b\b\b\b\b\b\b\b\b\b\b\b\b\b\b\b\b\b\b\b\b\b\b\b\b\b\b\b\b\b\b\b\b\b\b\b\b\r",
      "1/1 [==============================] - 0s 134ms/step\n"
     ]
    },
    {
     "name": "stdout",
     "output_type": "stream",
     "text": [
      "\r",
      "1/1 [==============================] - ETA: 0s"
     ]
    },
    {
     "name": "stdout",
     "output_type": "stream",
     "text": [
      "\b\b\b\b\b\b\b\b\b\b\b\b\b\b\b\b\b\b\b\b\b\b\b\b\b\b\b\b\b\b\b\b\b\b\b\b\b\b\b\b\b\b\b\b\b\b\r",
      "1/1 [==============================] - 0s 134ms/step\n"
     ]
    },
    {
     "name": "stdout",
     "output_type": "stream",
     "text": [
      "\r",
      "1/1 [==============================] - ETA: 0s"
     ]
    },
    {
     "name": "stdout",
     "output_type": "stream",
     "text": [
      "\b\b\b\b\b\b\b\b\b\b\b\b\b\b\b\b\b\b\b\b\b\b\b\b\b\b\b\b\b\b\b\b\b\b\b\b\b\b\b\b\b\b\b\b\b\b\r",
      "1/1 [==============================] - 0s 119ms/step\n"
     ]
    },
    {
     "name": "stdout",
     "output_type": "stream",
     "text": [
      "\r",
      "1/1 [==============================] - ETA: 0s"
     ]
    },
    {
     "name": "stdout",
     "output_type": "stream",
     "text": [
      "\b\b\b\b\b\b\b\b\b\b\b\b\b\b\b\b\b\b\b\b\b\b\b\b\b\b\b\b\b\b\b\b\b\b\b\b\b\b\b\b\b\b\b\b\b\b\r",
      "1/1 [==============================] - 0s 125ms/step\n"
     ]
    },
    {
     "name": "stdout",
     "output_type": "stream",
     "text": [
      "\r",
      "1/1 [==============================] - ETA: 0s"
     ]
    },
    {
     "name": "stdout",
     "output_type": "stream",
     "text": [
      "\b\b\b\b\b\b\b\b\b\b\b\b\b\b\b\b\b\b\b\b\b\b\b\b\b\b\b\b\b\b\b\b\b\b\b\b\b\b\b\b\b\b\b\b\b\b\r",
      "1/1 [==============================] - 0s 125ms/step\n"
     ]
    },
    {
     "name": "stdout",
     "output_type": "stream",
     "text": [
      "\r",
      "1/1 [==============================] - ETA: 0s"
     ]
    },
    {
     "name": "stdout",
     "output_type": "stream",
     "text": [
      "\b\b\b\b\b\b\b\b\b\b\b\b\b\b\b\b\b\b\b\b\b\b\b\b\b\b\b\b\b\b\b\b\b\b\b\b\b\b\b\b\b\b\b\b\b\b\r",
      "1/1 [==============================] - 0s 114ms/step\n"
     ]
    },
    {
     "name": "stdout",
     "output_type": "stream",
     "text": [
      "\r",
      "1/1 [==============================] - ETA: 0s"
     ]
    },
    {
     "name": "stdout",
     "output_type": "stream",
     "text": [
      "\b\b\b\b\b\b\b\b\b\b\b\b\b\b\b\b\b\b\b\b\b\b\b\b\b\b\b\b\b\b\b\b\b\b\b\b\b\b\b\b\b\b\b\b\b\b\r",
      "1/1 [==============================] - 0s 127ms/step\n"
     ]
    },
    {
     "name": "stdout",
     "output_type": "stream",
     "text": [
      "\r",
      "1/1 [==============================] - ETA: 0s"
     ]
    },
    {
     "name": "stdout",
     "output_type": "stream",
     "text": [
      "\b\b\b\b\b\b\b\b\b\b\b\b\b\b\b\b\b\b\b\b\b\b\b\b\b\b\b\b\b\b\b\b\b\b\b\b\b\b\b\b\b\b\b\b\b\b\r",
      "1/1 [==============================] - 0s 129ms/step\n"
     ]
    },
    {
     "name": "stdout",
     "output_type": "stream",
     "text": [
      "\r",
      "1/1 [==============================] - ETA: 0s"
     ]
    },
    {
     "name": "stdout",
     "output_type": "stream",
     "text": [
      "\b\b\b\b\b\b\b\b\b\b\b\b\b\b\b\b\b\b\b\b\b\b\b\b\b\b\b\b\b\b\b\b\b\b\b\b\b\b\b\b\b\b\b\b\b\b\r",
      "1/1 [==============================] - 0s 132ms/step\n"
     ]
    },
    {
     "name": "stdout",
     "output_type": "stream",
     "text": [
      "\r",
      "1/1 [==============================] - ETA: 0s"
     ]
    },
    {
     "name": "stdout",
     "output_type": "stream",
     "text": [
      "\b\b\b\b\b\b\b\b\b\b\b\b\b\b\b\b\b\b\b\b\b\b\b\b\b\b\b\b\b\b\b\b\b\b\b\b\b\b\b\b\b\b\b\b\b\b\r",
      "1/1 [==============================] - 0s 120ms/step\n"
     ]
    },
    {
     "name": "stdout",
     "output_type": "stream",
     "text": [
      "\r",
      "1/1 [==============================] - ETA: 0s"
     ]
    },
    {
     "name": "stdout",
     "output_type": "stream",
     "text": [
      "\b\b\b\b\b\b\b\b\b\b\b\b\b\b\b\b\b\b\b\b\b\b\b\b\b\b\b\b\b\b\b\b\b\b\b\b\b\b\b\b\b\b\b\b\b\b\r",
      "1/1 [==============================] - 0s 134ms/step\n"
     ]
    },
    {
     "name": "stdout",
     "output_type": "stream",
     "text": [
      "\r",
      "1/1 [==============================] - ETA: 0s"
     ]
    },
    {
     "name": "stdout",
     "output_type": "stream",
     "text": [
      "\b\b\b\b\b\b\b\b\b\b\b\b\b\b\b\b\b\b\b\b\b\b\b\b\b\b\b\b\b\b\b\b\b\b\b\b\b\b\b\b\b\b\b\b\b\b\r",
      "1/1 [==============================] - 0s 130ms/step\n"
     ]
    },
    {
     "name": "stdout",
     "output_type": "stream",
     "text": [
      "\r",
      "1/1 [==============================] - ETA: 0s"
     ]
    },
    {
     "name": "stdout",
     "output_type": "stream",
     "text": [
      "\b\b\b\b\b\b\b\b\b\b\b\b\b\b\b\b\b\b\b\b\b\b\b\b\b\b\b\b\b\b\b\b\b\b\b\b\b\b\b\b\b\b\b\b\b\b\r",
      "1/1 [==============================] - 0s 117ms/step\n"
     ]
    },
    {
     "name": "stdout",
     "output_type": "stream",
     "text": [
      "\r",
      "1/1 [==============================] - ETA: 0s"
     ]
    },
    {
     "name": "stdout",
     "output_type": "stream",
     "text": [
      "\b\b\b\b\b\b\b\b\b\b\b\b\b\b\b\b\b\b\b\b\b\b\b\b\b\b\b\b\b\b\b\b\b\b\b\b\b\b\b\b\b\b\b\b\b\b\r",
      "1/1 [==============================] - 0s 122ms/step\n"
     ]
    },
    {
     "name": "stdout",
     "output_type": "stream",
     "text": [
      "\r",
      "1/1 [==============================] - ETA: 0s"
     ]
    },
    {
     "name": "stdout",
     "output_type": "stream",
     "text": [
      "\b\b\b\b\b\b\b\b\b\b\b\b\b\b\b\b\b\b\b\b\b\b\b\b\b\b\b\b\b\b\b\b\b\b\b\b\b\b\b\b\b\b\b\b\b\b\r",
      "1/1 [==============================] - 0s 119ms/step\n"
     ]
    },
    {
     "name": "stdout",
     "output_type": "stream",
     "text": [
      "\r",
      "1/1 [==============================] - ETA: 0s"
     ]
    },
    {
     "name": "stdout",
     "output_type": "stream",
     "text": [
      "\b\b\b\b\b\b\b\b\b\b\b\b\b\b\b\b\b\b\b\b\b\b\b\b\b\b\b\b\b\b\b\b\b\b\b\b\b\b\b\b\b\b\b\b\b\b\r",
      "1/1 [==============================] - 0s 136ms/step\n"
     ]
    },
    {
     "name": "stdout",
     "output_type": "stream",
     "text": [
      "\r",
      "1/1 [==============================] - ETA: 0s"
     ]
    },
    {
     "name": "stdout",
     "output_type": "stream",
     "text": [
      "\b\b\b\b\b\b\b\b\b\b\b\b\b\b\b\b\b\b\b\b\b\b\b\b\b\b\b\b\b\b\b\b\b\b\b\b\b\b\b\b\b\b\b\b\b\b\r",
      "1/1 [==============================] - 0s 142ms/step\n"
     ]
    },
    {
     "name": "stdout",
     "output_type": "stream",
     "text": [
      "\r",
      "1/1 [==============================] - ETA: 0s"
     ]
    },
    {
     "name": "stdout",
     "output_type": "stream",
     "text": [
      "\b\b\b\b\b\b\b\b\b\b\b\b\b\b\b\b\b\b\b\b\b\b\b\b\b\b\b\b\b\b\b\b\b\b\b\b\b\b\b\b\b\b\b\b\b\b\r",
      "1/1 [==============================] - 0s 115ms/step\n"
     ]
    },
    {
     "name": "stdout",
     "output_type": "stream",
     "text": [
      "\r",
      "1/1 [==============================] - ETA: 0s"
     ]
    },
    {
     "name": "stdout",
     "output_type": "stream",
     "text": [
      "\b\b\b\b\b\b\b\b\b\b\b\b\b\b\b\b\b\b\b\b\b\b\b\b\b\b\b\b\b\b\b\b\b\b\b\b\b\b\b\b\b\b\b\b\b\b\r",
      "1/1 [==============================] - 0s 114ms/step\n"
     ]
    },
    {
     "name": "stdout",
     "output_type": "stream",
     "text": [
      "\r",
      "1/1 [==============================] - ETA: 0s"
     ]
    },
    {
     "name": "stdout",
     "output_type": "stream",
     "text": [
      "\b\b\b\b\b\b\b\b\b\b\b\b\b\b\b\b\b\b\b\b\b\b\b\b\b\b\b\b\b\b\b\b\b\b\b\b\b\b\b\b\b\b\b\b\b\b\r",
      "1/1 [==============================] - 0s 127ms/step\n"
     ]
    },
    {
     "name": "stdout",
     "output_type": "stream",
     "text": [
      "\r",
      "1/1 [==============================] - ETA: 0s"
     ]
    },
    {
     "name": "stdout",
     "output_type": "stream",
     "text": [
      "\b\b\b\b\b\b\b\b\b\b\b\b\b\b\b\b\b\b\b\b\b\b\b\b\b\b\b\b\b\b\b\b\b\b\b\b\b\b\b\b\b\b\b\b\b\b\r",
      "1/1 [==============================] - 0s 128ms/step\n"
     ]
    },
    {
     "name": "stdout",
     "output_type": "stream",
     "text": [
      "\r",
      "1/1 [==============================] - ETA: 0s"
     ]
    },
    {
     "name": "stdout",
     "output_type": "stream",
     "text": [
      "\b\b\b\b\b\b\b\b\b\b\b\b\b\b\b\b\b\b\b\b\b\b\b\b\b\b\b\b\b\b\b\b\b\b\b\b\b\b\b\b\b\b\b\b\b\b\r",
      "1/1 [==============================] - 0s 124ms/step\n"
     ]
    },
    {
     "name": "stdout",
     "output_type": "stream",
     "text": [
      "\r",
      "1/1 [==============================] - ETA: 0s"
     ]
    },
    {
     "name": "stdout",
     "output_type": "stream",
     "text": [
      "\b\b\b\b\b\b\b\b\b\b\b\b\b\b\b\b\b\b\b\b\b\b\b\b\b\b\b\b\b\b\b\b\b\b\b\b\b\b\b\b\b\b\b\b\b\b\r",
      "1/1 [==============================] - 0s 138ms/step\n"
     ]
    },
    {
     "name": "stdout",
     "output_type": "stream",
     "text": [
      "\r",
      "1/1 [==============================] - ETA: 0s"
     ]
    },
    {
     "name": "stdout",
     "output_type": "stream",
     "text": [
      "\b\b\b\b\b\b\b\b\b\b\b\b\b\b\b\b\b\b\b\b\b\b\b\b\b\b\b\b\b\b\b\b\b\b\b\b\b\b\b\b\b\b\b\b\b\b\r",
      "1/1 [==============================] - 0s 125ms/step\n"
     ]
    },
    {
     "name": "stdout",
     "output_type": "stream",
     "text": [
      "\r",
      "1/1 [==============================] - ETA: 0s"
     ]
    },
    {
     "name": "stdout",
     "output_type": "stream",
     "text": [
      "\b\b\b\b\b\b\b\b\b\b\b\b\b\b\b\b\b\b\b\b\b\b\b\b\b\b\b\b\b\b\b\b\b\b\b\b\b\b\b\b\b\b\b\b\b\b\r",
      "1/1 [==============================] - 0s 126ms/step\n"
     ]
    },
    {
     "name": "stdout",
     "output_type": "stream",
     "text": [
      "\r",
      "1/1 [==============================] - ETA: 0s"
     ]
    },
    {
     "name": "stdout",
     "output_type": "stream",
     "text": [
      "\b\b\b\b\b\b\b\b\b\b\b\b\b\b\b\b\b\b\b\b\b\b\b\b\b\b\b\b\b\b\b\b\b\b\b\b\b\b\b\b\b\b\b\b\b\b\r",
      "1/1 [==============================] - 0s 121ms/step\n"
     ]
    },
    {
     "name": "stdout",
     "output_type": "stream",
     "text": [
      "\r",
      "1/1 [==============================] - ETA: 0s"
     ]
    },
    {
     "name": "stdout",
     "output_type": "stream",
     "text": [
      "\b\b\b\b\b\b\b\b\b\b\b\b\b\b\b\b\b\b\b\b\b\b\b\b\b\b\b\b\b\b\b\b\b\b\b\b\b\b\b\b\b\b\b\b\b\b\r",
      "1/1 [==============================] - 0s 122ms/step\n"
     ]
    },
    {
     "name": "stdout",
     "output_type": "stream",
     "text": [
      "\r",
      "1/1 [==============================] - ETA: 0s"
     ]
    },
    {
     "name": "stdout",
     "output_type": "stream",
     "text": [
      "\b\b\b\b\b\b\b\b\b\b\b\b\b\b\b\b\b\b\b\b\b\b\b\b\b\b\b\b\b\b\b\b\b\b\b\b\b\b\b\b\b\b\b\b\b\b\r",
      "1/1 [==============================] - 0s 125ms/step\n"
     ]
    },
    {
     "name": "stdout",
     "output_type": "stream",
     "text": [
      "\r",
      "1/1 [==============================] - ETA: 0s"
     ]
    },
    {
     "name": "stdout",
     "output_type": "stream",
     "text": [
      "\b\b\b\b\b\b\b\b\b\b\b\b\b\b\b\b\b\b\b\b\b\b\b\b\b\b\b\b\b\b\b\b\b\b\b\b\b\b\b\b\b\b\b\b\b\b\r",
      "1/1 [==============================] - 0s 112ms/step\n"
     ]
    },
    {
     "name": "stdout",
     "output_type": "stream",
     "text": [
      "\r",
      "1/1 [==============================] - ETA: 0s"
     ]
    },
    {
     "name": "stdout",
     "output_type": "stream",
     "text": [
      "\b\b\b\b\b\b\b\b\b\b\b\b\b\b\b\b\b\b\b\b\b\b\b\b\b\b\b\b\b\b\b\b\b\b\b\b\b\b\b\b\b\b\b\b\b\b\r",
      "1/1 [==============================] - 0s 124ms/step\n"
     ]
    },
    {
     "name": "stdout",
     "output_type": "stream",
     "text": [
      "\r",
      "1/1 [==============================] - ETA: 0s"
     ]
    },
    {
     "name": "stdout",
     "output_type": "stream",
     "text": [
      "\b\b\b\b\b\b\b\b\b\b\b\b\b\b\b\b\b\b\b\b\b\b\b\b\b\b\b\b\b\b\b\b\b\b\b\b\b\b\b\b\b\b\b\b\b\b\r",
      "1/1 [==============================] - 0s 139ms/step\n"
     ]
    },
    {
     "name": "stdout",
     "output_type": "stream",
     "text": [
      "\r",
      "1/1 [==============================] - ETA: 0s"
     ]
    },
    {
     "name": "stdout",
     "output_type": "stream",
     "text": [
      "\b\b\b\b\b\b\b\b\b\b\b\b\b\b\b\b\b\b\b\b\b\b\b\b\b\b\b\b\b\b\b\b\b\b\b\b\b\b\b\b\b\b\b\b\b\b\r",
      "1/1 [==============================] - 0s 129ms/step\n"
     ]
    },
    {
     "name": "stdout",
     "output_type": "stream",
     "text": [
      "\r",
      "1/1 [==============================] - ETA: 0s"
     ]
    },
    {
     "name": "stdout",
     "output_type": "stream",
     "text": [
      "\b\b\b\b\b\b\b\b\b\b\b\b\b\b\b\b\b\b\b\b\b\b\b\b\b\b\b\b\b\b\b\b\b\b\b\b\b\b\b\b\b\b\b\b\b\b\r",
      "1/1 [==============================] - 0s 126ms/step\n"
     ]
    },
    {
     "name": "stdout",
     "output_type": "stream",
     "text": [
      "\r",
      "1/1 [==============================] - ETA: 0s"
     ]
    },
    {
     "name": "stdout",
     "output_type": "stream",
     "text": [
      "\b\b\b\b\b\b\b\b\b\b\b\b\b\b\b\b\b\b\b\b\b\b\b\b\b\b\b\b\b\b\b\b\b\b\b\b\b\b\b\b\b\b\b\b\b\b\r",
      "1/1 [==============================] - 0s 129ms/step\n"
     ]
    },
    {
     "name": "stdout",
     "output_type": "stream",
     "text": [
      "\r",
      "1/1 [==============================] - ETA: 0s"
     ]
    },
    {
     "name": "stdout",
     "output_type": "stream",
     "text": [
      "\b\b\b\b\b\b\b\b\b\b\b\b\b\b\b\b\b\b\b\b\b\b\b\b\b\b\b\b\b\b\b\b\b\b\b\b\b\b\b\b\b\b\b\b\b\b\r",
      "1/1 [==============================] - 0s 147ms/step\n"
     ]
    },
    {
     "name": "stdout",
     "output_type": "stream",
     "text": [
      "\r",
      "1/1 [==============================] - ETA: 0s"
     ]
    },
    {
     "name": "stdout",
     "output_type": "stream",
     "text": [
      "\b\b\b\b\b\b\b\b\b\b\b\b\b\b\b\b\b\b\b\b\b\b\b\b\b\b\b\b\b\b\b\b\b\b\b\b\b\b\b\b\b\b\b\b\b\b\r",
      "1/1 [==============================] - 0s 131ms/step\n"
     ]
    },
    {
     "name": "stdout",
     "output_type": "stream",
     "text": [
      "\r",
      "1/1 [==============================] - ETA: 0s"
     ]
    },
    {
     "name": "stdout",
     "output_type": "stream",
     "text": [
      "\b\b\b\b\b\b\b\b\b\b\b\b\b\b\b\b\b\b\b\b\b\b\b\b\b\b\b\b\b\b\b\b\b\b\b\b\b\b\b\b\b\b\b\b\b\b\r",
      "1/1 [==============================] - 0s 133ms/step\n"
     ]
    },
    {
     "name": "stdout",
     "output_type": "stream",
     "text": [
      "\r",
      "1/1 [==============================] - ETA: 0s"
     ]
    },
    {
     "name": "stdout",
     "output_type": "stream",
     "text": [
      "\b\b\b\b\b\b\b\b\b\b\b\b\b\b\b\b\b\b\b\b\b\b\b\b\b\b\b\b\b\b\b\b\b\b\b\b\b\b\b\b\b\b\b\b\b\b\r",
      "1/1 [==============================] - 0s 121ms/step\n"
     ]
    },
    {
     "name": "stdout",
     "output_type": "stream",
     "text": [
      "\r",
      "1/1 [==============================] - ETA: 0s"
     ]
    },
    {
     "name": "stdout",
     "output_type": "stream",
     "text": [
      "\b\b\b\b\b\b\b\b\b\b\b\b\b\b\b\b\b\b\b\b\b\b\b\b\b\b\b\b\b\b\b\b\b\b\b\b\b\b\b\b\b\b\b\b\b\b\r",
      "1/1 [==============================] - 0s 118ms/step\n"
     ]
    },
    {
     "name": "stdout",
     "output_type": "stream",
     "text": [
      "\r",
      "1/1 [==============================] - ETA: 0s"
     ]
    },
    {
     "name": "stdout",
     "output_type": "stream",
     "text": [
      "\b\b\b\b\b\b\b\b\b\b\b\b\b\b\b\b\b\b\b\b\b\b\b\b\b\b\b\b\b\b\b\b\b\b\b\b\b\b\b\b\b\b\b\b\b\b\r",
      "1/1 [==============================] - 0s 128ms/step\n"
     ]
    },
    {
     "name": "stdout",
     "output_type": "stream",
     "text": [
      "\r",
      "1/1 [==============================] - ETA: 0s"
     ]
    },
    {
     "name": "stdout",
     "output_type": "stream",
     "text": [
      "\b\b\b\b\b\b\b\b\b\b\b\b\b\b\b\b\b\b\b\b\b\b\b\b\b\b\b\b\b\b\b\b\b\b\b\b\b\b\b\b\b\b\b\b\b\b\r",
      "1/1 [==============================] - 0s 120ms/step\n"
     ]
    },
    {
     "name": "stdout",
     "output_type": "stream",
     "text": [
      "\r",
      "1/1 [==============================] - ETA: 0s"
     ]
    },
    {
     "name": "stdout",
     "output_type": "stream",
     "text": [
      "\b\b\b\b\b\b\b\b\b\b\b\b\b\b\b\b\b\b\b\b\b\b\b\b\b\b\b\b\b\b\b\b\b\b\b\b\b\b\b\b\b\b\b\b\b\b\r",
      "1/1 [==============================] - 0s 121ms/step\n"
     ]
    },
    {
     "name": "stdout",
     "output_type": "stream",
     "text": [
      "\r",
      "1/1 [==============================] - ETA: 0s"
     ]
    },
    {
     "name": "stdout",
     "output_type": "stream",
     "text": [
      "\b\b\b\b\b\b\b\b\b\b\b\b\b\b\b\b\b\b\b\b\b\b\b\b\b\b\b\b\b\b\b\b\b\b\b\b\b\b\b\b\b\b\b\b\b\b\r",
      "1/1 [==============================] - 0s 118ms/step\n"
     ]
    },
    {
     "name": "stdout",
     "output_type": "stream",
     "text": [
      "\r",
      "1/1 [==============================] - ETA: 0s"
     ]
    },
    {
     "name": "stdout",
     "output_type": "stream",
     "text": [
      "\b\b\b\b\b\b\b\b\b\b\b\b\b\b\b\b\b\b\b\b\b\b\b\b\b\b\b\b\b\b\b\b\b\b\b\b\b\b\b\b\b\b\b\b\b\b\r",
      "1/1 [==============================] - 0s 121ms/step\n"
     ]
    },
    {
     "name": "stdout",
     "output_type": "stream",
     "text": [
      "\r",
      "1/1 [==============================] - ETA: 0s"
     ]
    },
    {
     "name": "stdout",
     "output_type": "stream",
     "text": [
      "\b\b\b\b\b\b\b\b\b\b\b\b\b\b\b\b\b\b\b\b\b\b\b\b\b\b\b\b\b\b\b\b\b\b\b\b\b\b\b\b\b\b\b\b\b\b\r",
      "1/1 [==============================] - 0s 132ms/step\n"
     ]
    },
    {
     "name": "stdout",
     "output_type": "stream",
     "text": [
      "\r",
      "1/1 [==============================] - ETA: 0s"
     ]
    },
    {
     "name": "stdout",
     "output_type": "stream",
     "text": [
      "\b\b\b\b\b\b\b\b\b\b\b\b\b\b\b\b\b\b\b\b\b\b\b\b\b\b\b\b\b\b\b\b\b\b\b\b\b\b\b\b\b\b\b\b\b\b\r",
      "1/1 [==============================] - 0s 123ms/step\n"
     ]
    },
    {
     "name": "stdout",
     "output_type": "stream",
     "text": [
      "\r",
      "1/1 [==============================] - ETA: 0s"
     ]
    },
    {
     "name": "stdout",
     "output_type": "stream",
     "text": [
      "\b\b\b\b\b\b\b\b\b\b\b\b\b\b\b\b\b\b\b\b\b\b\b\b\b\b\b\b\b\b\b\b\b\b\b\b\b\b\b\b\b\b\b\b\b\b\r",
      "1/1 [==============================] - 0s 142ms/step\n"
     ]
    },
    {
     "name": "stdout",
     "output_type": "stream",
     "text": [
      "\r",
      "1/1 [==============================] - ETA: 0s"
     ]
    },
    {
     "name": "stdout",
     "output_type": "stream",
     "text": [
      "\b\b\b\b\b\b\b\b\b\b\b\b\b\b\b\b\b\b\b\b\b\b\b\b\b\b\b\b\b\b\b\b\b\b\b\b\b\b\b\b\b\b\b\b\b\b\r",
      "1/1 [==============================] - 0s 122ms/step\n"
     ]
    },
    {
     "name": "stdout",
     "output_type": "stream",
     "text": [
      "\r",
      "1/1 [==============================] - ETA: 0s"
     ]
    },
    {
     "name": "stdout",
     "output_type": "stream",
     "text": [
      "\b\b\b\b\b\b\b\b\b\b\b\b\b\b\b\b\b\b\b\b\b\b\b\b\b\b\b\b\b\b\b\b\b\b\b\b\b\b\b\b\b\b\b\b\b\b\r",
      "1/1 [==============================] - 0s 117ms/step\n"
     ]
    },
    {
     "name": "stdout",
     "output_type": "stream",
     "text": [
      "\r",
      "1/1 [==============================] - ETA: 0s"
     ]
    },
    {
     "name": "stdout",
     "output_type": "stream",
     "text": [
      "\b\b\b\b\b\b\b\b\b\b\b\b\b\b\b\b\b\b\b\b\b\b\b\b\b\b\b\b\b\b\b\b\b\b\b\b\b\b\b\b\b\b\b\b\b\b\r",
      "1/1 [==============================] - 0s 122ms/step\n"
     ]
    },
    {
     "name": "stdout",
     "output_type": "stream",
     "text": [
      "\r",
      "1/1 [==============================] - ETA: 0s"
     ]
    },
    {
     "name": "stdout",
     "output_type": "stream",
     "text": [
      "\b\b\b\b\b\b\b\b\b\b\b\b\b\b\b\b\b\b\b\b\b\b\b\b\b\b\b\b\b\b\b\b\b\b\b\b\b\b\b\b\b\b\b\b\b\b\r",
      "1/1 [==============================] - 0s 120ms/step\n"
     ]
    },
    {
     "name": "stdout",
     "output_type": "stream",
     "text": [
      "\r",
      "1/1 [==============================] - ETA: 0s"
     ]
    },
    {
     "name": "stdout",
     "output_type": "stream",
     "text": [
      "\b\b\b\b\b\b\b\b\b\b\b\b\b\b\b\b\b\b\b\b\b\b\b\b\b\b\b\b\b\b\b\b\b\b\b\b\b\b\b\b\b\b\b\b\b\b\r",
      "1/1 [==============================] - 0s 123ms/step\n"
     ]
    },
    {
     "name": "stdout",
     "output_type": "stream",
     "text": [
      "\r",
      "1/1 [==============================] - ETA: 0s"
     ]
    },
    {
     "name": "stdout",
     "output_type": "stream",
     "text": [
      "\b\b\b\b\b\b\b\b\b\b\b\b\b\b\b\b\b\b\b\b\b\b\b\b\b\b\b\b\b\b\b\b\b\b\b\b\b\b\b\b\b\b\b\b\b\b\r",
      "1/1 [==============================] - 0s 127ms/step\n"
     ]
    },
    {
     "name": "stdout",
     "output_type": "stream",
     "text": [
      "\r",
      "1/1 [==============================] - ETA: 0s"
     ]
    },
    {
     "name": "stdout",
     "output_type": "stream",
     "text": [
      "\b\b\b\b\b\b\b\b\b\b\b\b\b\b\b\b\b\b\b\b\b\b\b\b\b\b\b\b\b\b\b\b\b\b\b\b\b\b\b\b\b\b\b\b\b\b\r",
      "1/1 [==============================] - 0s 117ms/step\n"
     ]
    },
    {
     "name": "stdout",
     "output_type": "stream",
     "text": [
      "\r",
      "1/1 [==============================] - ETA: 0s"
     ]
    },
    {
     "name": "stdout",
     "output_type": "stream",
     "text": [
      "\b\b\b\b\b\b\b\b\b\b\b\b\b\b\b\b\b\b\b\b\b\b\b\b\b\b\b\b\b\b\b\b\b\b\b\b\b\b\b\b\b\b\b\b\b\b\r",
      "1/1 [==============================] - 0s 117ms/step\n"
     ]
    },
    {
     "name": "stdout",
     "output_type": "stream",
     "text": [
      "\r",
      "1/1 [==============================] - ETA: 0s"
     ]
    },
    {
     "name": "stdout",
     "output_type": "stream",
     "text": [
      "\b\b\b\b\b\b\b\b\b\b\b\b\b\b\b\b\b\b\b\b\b\b\b\b\b\b\b\b\b\b\b\b\b\b\b\b\b\b\b\b\b\b\b\b\b\b\r",
      "1/1 [==============================] - 0s 133ms/step\n"
     ]
    },
    {
     "name": "stdout",
     "output_type": "stream",
     "text": [
      "\r",
      "1/1 [==============================] - ETA: 0s"
     ]
    },
    {
     "name": "stdout",
     "output_type": "stream",
     "text": [
      "\b\b\b\b\b\b\b\b\b\b\b\b\b\b\b\b\b\b\b\b\b\b\b\b\b\b\b\b\b\b\b\b\b\b\b\b\b\b\b\b\b\b\b\b\b\b\r",
      "1/1 [==============================] - 0s 144ms/step\n"
     ]
    },
    {
     "name": "stdout",
     "output_type": "stream",
     "text": [
      "\r",
      "1/1 [==============================] - ETA: 0s"
     ]
    },
    {
     "name": "stdout",
     "output_type": "stream",
     "text": [
      "\b\b\b\b\b\b\b\b\b\b\b\b\b\b\b\b\b\b\b\b\b\b\b\b\b\b\b\b\b\b\b\b\b\b\b\b\b\b\b\b\b\b\b\b\b\b\r",
      "1/1 [==============================] - 0s 123ms/step\n"
     ]
    },
    {
     "name": "stdout",
     "output_type": "stream",
     "text": [
      "\r",
      "1/1 [==============================] - ETA: 0s"
     ]
    },
    {
     "name": "stdout",
     "output_type": "stream",
     "text": [
      "\b\b\b\b\b\b\b\b\b\b\b\b\b\b\b\b\b\b\b\b\b\b\b\b\b\b\b\b\b\b\b\b\b\b\b\b\b\b\b\b\b\b\b\b\b\b\r",
      "1/1 [==============================] - 0s 119ms/step\n"
     ]
    },
    {
     "name": "stdout",
     "output_type": "stream",
     "text": [
      "\r",
      "1/1 [==============================] - ETA: 0s"
     ]
    },
    {
     "name": "stdout",
     "output_type": "stream",
     "text": [
      "\b\b\b\b\b\b\b\b\b\b\b\b\b\b\b\b\b\b\b\b\b\b\b\b\b\b\b\b\b\b\b\b\b\b\b\b\b\b\b\b\b\b\b\b\b\b\r",
      "1/1 [==============================] - 0s 137ms/step\n"
     ]
    },
    {
     "name": "stdout",
     "output_type": "stream",
     "text": [
      "\r",
      "1/1 [==============================] - ETA: 0s"
     ]
    },
    {
     "name": "stdout",
     "output_type": "stream",
     "text": [
      "\b\b\b\b\b\b\b\b\b\b\b\b\b\b\b\b\b\b\b\b\b\b\b\b\b\b\b\b\b\b\b\b\b\b\b\b\b\b\b\b\b\b\b\b\b\b\r",
      "1/1 [==============================] - 0s 121ms/step\n"
     ]
    },
    {
     "name": "stdout",
     "output_type": "stream",
     "text": [
      "\r",
      "1/1 [==============================] - ETA: 0s"
     ]
    },
    {
     "name": "stdout",
     "output_type": "stream",
     "text": [
      "\b\b\b\b\b\b\b\b\b\b\b\b\b\b\b\b\b\b\b\b\b\b\b\b\b\b\b\b\b\b\b\b\b\b\b\b\b\b\b\b\b\b\b\b\b\b\r",
      "1/1 [==============================] - 0s 129ms/step\n"
     ]
    },
    {
     "name": "stdout",
     "output_type": "stream",
     "text": [
      "\r",
      "1/1 [==============================] - ETA: 0s"
     ]
    },
    {
     "name": "stdout",
     "output_type": "stream",
     "text": [
      "\b\b\b\b\b\b\b\b\b\b\b\b\b\b\b\b\b\b\b\b\b\b\b\b\b\b\b\b\b\b\b\b\b\b\b\b\b\b\b\b\b\b\b\b\b\b\r",
      "1/1 [==============================] - 0s 129ms/step\n"
     ]
    },
    {
     "name": "stdout",
     "output_type": "stream",
     "text": [
      "\r",
      "1/1 [==============================] - ETA: 0s"
     ]
    },
    {
     "name": "stdout",
     "output_type": "stream",
     "text": [
      "\b\b\b\b\b\b\b\b\b\b\b\b\b\b\b\b\b\b\b\b\b\b\b\b\b\b\b\b\b\b\b\b\b\b\b\b\b\b\b\b\b\b\b\b\b\b\r",
      "1/1 [==============================] - 0s 143ms/step\n"
     ]
    },
    {
     "name": "stdout",
     "output_type": "stream",
     "text": [
      "\r",
      "1/1 [==============================] - ETA: 0s"
     ]
    },
    {
     "name": "stdout",
     "output_type": "stream",
     "text": [
      "\b\b\b\b\b\b\b\b\b\b\b\b\b\b\b\b\b\b\b\b\b\b\b\b\b\b\b\b\b\b\b\b\b\b\b\b\b\b\b\b\b\b\b\b\b\b\r",
      "1/1 [==============================] - 0s 126ms/step\n"
     ]
    },
    {
     "name": "stdout",
     "output_type": "stream",
     "text": [
      "\r",
      "1/1 [==============================] - ETA: 0s"
     ]
    },
    {
     "name": "stdout",
     "output_type": "stream",
     "text": [
      "\b\b\b\b\b\b\b\b\b\b\b\b\b\b\b\b\b\b\b\b\b\b\b\b\b\b\b\b\b\b\b\b\b\b\b\b\b\b\b\b\b\b\b\b\b\b\r",
      "1/1 [==============================] - 0s 125ms/step\n"
     ]
    },
    {
     "name": "stdout",
     "output_type": "stream",
     "text": [
      "\r",
      "1/1 [==============================] - ETA: 0s"
     ]
    },
    {
     "name": "stdout",
     "output_type": "stream",
     "text": [
      "\b\b\b\b\b\b\b\b\b\b\b\b\b\b\b\b\b\b\b\b\b\b\b\b\b\b\b\b\b\b\b\b\b\b\b\b\b\b\b\b\b\b\b\b\b\b\r",
      "1/1 [==============================] - 0s 127ms/step\n"
     ]
    },
    {
     "name": "stdout",
     "output_type": "stream",
     "text": [
      "\r",
      "1/1 [==============================] - ETA: 0s"
     ]
    },
    {
     "name": "stdout",
     "output_type": "stream",
     "text": [
      "\b\b\b\b\b\b\b\b\b\b\b\b\b\b\b\b\b\b\b\b\b\b\b\b\b\b\b\b\b\b\b\b\b\b\b\b\b\b\b\b\b\b\b\b\b\b\r",
      "1/1 [==============================] - 0s 115ms/step\n"
     ]
    },
    {
     "name": "stdout",
     "output_type": "stream",
     "text": [
      "\r",
      "1/1 [==============================] - ETA: 0s"
     ]
    },
    {
     "name": "stdout",
     "output_type": "stream",
     "text": [
      "\b\b\b\b\b\b\b\b\b\b\b\b\b\b\b\b\b\b\b\b\b\b\b\b\b\b\b\b\b\b\b\b\b\b\b\b\b\b\b\b\b\b\b\b\b\b\r",
      "1/1 [==============================] - 0s 133ms/step\n"
     ]
    },
    {
     "name": "stdout",
     "output_type": "stream",
     "text": [
      "\r",
      "1/1 [==============================] - ETA: 0s"
     ]
    },
    {
     "name": "stdout",
     "output_type": "stream",
     "text": [
      "\b\b\b\b\b\b\b\b\b\b\b\b\b\b\b\b\b\b\b\b\b\b\b\b\b\b\b\b\b\b\b\b\b\b\b\b\b\b\b\b\b\b\b\b\b\b\r",
      "1/1 [==============================] - 0s 121ms/step\n"
     ]
    },
    {
     "name": "stdout",
     "output_type": "stream",
     "text": [
      "\r",
      "1/1 [==============================] - ETA: 0s"
     ]
    },
    {
     "name": "stdout",
     "output_type": "stream",
     "text": [
      "\b\b\b\b\b\b\b\b\b\b\b\b\b\b\b\b\b\b\b\b\b\b\b\b\b\b\b\b\b\b\b\b\b\b\b\b\b\b\b\b\b\b\b\b\b\b\r",
      "1/1 [==============================] - 0s 116ms/step\n"
     ]
    },
    {
     "name": "stdout",
     "output_type": "stream",
     "text": [
      "\r",
      "1/1 [==============================] - ETA: 0s"
     ]
    },
    {
     "name": "stdout",
     "output_type": "stream",
     "text": [
      "\b\b\b\b\b\b\b\b\b\b\b\b\b\b\b\b\b\b\b\b\b\b\b\b\b\b\b\b\b\b\b\b\b\b\b\b\b\b\b\b\b\b\b\b\b\b\r",
      "1/1 [==============================] - 0s 125ms/step\n"
     ]
    },
    {
     "name": "stdout",
     "output_type": "stream",
     "text": [
      "\r",
      "1/1 [==============================] - ETA: 0s"
     ]
    },
    {
     "name": "stdout",
     "output_type": "stream",
     "text": [
      "\b\b\b\b\b\b\b\b\b\b\b\b\b\b\b\b\b\b\b\b\b\b\b\b\b\b\b\b\b\b\b\b\b\b\b\b\b\b\b\b\b\b\b\b\b\b\r",
      "1/1 [==============================] - 0s 136ms/step\n"
     ]
    },
    {
     "name": "stdout",
     "output_type": "stream",
     "text": [
      "\r",
      "1/1 [==============================] - ETA: 0s"
     ]
    },
    {
     "name": "stdout",
     "output_type": "stream",
     "text": [
      "\b\b\b\b\b\b\b\b\b\b\b\b\b\b\b\b\b\b\b\b\b\b\b\b\b\b\b\b\b\b\b\b\b\b\b\b\b\b\b\b\b\b\b\b\b\b\r",
      "1/1 [==============================] - 0s 130ms/step\n"
     ]
    },
    {
     "name": "stdout",
     "output_type": "stream",
     "text": [
      "\r",
      "1/1 [==============================] - ETA: 0s"
     ]
    },
    {
     "name": "stdout",
     "output_type": "stream",
     "text": [
      "\b\b\b\b\b\b\b\b\b\b\b\b\b\b\b\b\b\b\b\b\b\b\b\b\b\b\b\b\b\b\b\b\b\b\b\b\b\b\b\b\b\b\b\b\b\b\r",
      "1/1 [==============================] - 0s 126ms/step\n"
     ]
    },
    {
     "name": "stdout",
     "output_type": "stream",
     "text": [
      "\r",
      "1/1 [==============================] - ETA: 0s"
     ]
    },
    {
     "name": "stdout",
     "output_type": "stream",
     "text": [
      "\b\b\b\b\b\b\b\b\b\b\b\b\b\b\b\b\b\b\b\b\b\b\b\b\b\b\b\b\b\b\b\b\b\b\b\b\b\b\b\b\b\b\b\b\b\b\r",
      "1/1 [==============================] - 0s 120ms/step\n"
     ]
    },
    {
     "name": "stdout",
     "output_type": "stream",
     "text": [
      "\r",
      "1/1 [==============================] - ETA: 0s"
     ]
    },
    {
     "name": "stdout",
     "output_type": "stream",
     "text": [
      "\b\b\b\b\b\b\b\b\b\b\b\b\b\b\b\b\b\b\b\b\b\b\b\b\b\b\b\b\b\b\b\b\b\b\b\b\b\b\b\b\b\b\b\b\b\b\r",
      "1/1 [==============================] - 0s 120ms/step\n"
     ]
    },
    {
     "name": "stdout",
     "output_type": "stream",
     "text": [
      "\r",
      "1/1 [==============================] - ETA: 0s"
     ]
    },
    {
     "name": "stdout",
     "output_type": "stream",
     "text": [
      "\b\b\b\b\b\b\b\b\b\b\b\b\b\b\b\b\b\b\b\b\b\b\b\b\b\b\b\b\b\b\b\b\b\b\b\b\b\b\b\b\b\b\b\b\b\b\r",
      "1/1 [==============================] - 0s 120ms/step\n"
     ]
    },
    {
     "name": "stdout",
     "output_type": "stream",
     "text": [
      "\r",
      "1/1 [==============================] - ETA: 0s"
     ]
    },
    {
     "name": "stdout",
     "output_type": "stream",
     "text": [
      "\b\b\b\b\b\b\b\b\b\b\b\b\b\b\b\b\b\b\b\b\b\b\b\b\b\b\b\b\b\b\b\b\b\b\b\b\b\b\b\b\b\b\b\b\b\b\r",
      "1/1 [==============================] - 0s 124ms/step\n"
     ]
    },
    {
     "name": "stdout",
     "output_type": "stream",
     "text": [
      "\r",
      "1/1 [==============================] - ETA: 0s"
     ]
    },
    {
     "name": "stdout",
     "output_type": "stream",
     "text": [
      "\b\b\b\b\b\b\b\b\b\b\b\b\b\b\b\b\b\b\b\b\b\b\b\b\b\b\b\b\b\b\b\b\b\b\b\b\b\b\b\b\b\b\b\b\b\b\r",
      "1/1 [==============================] - 0s 123ms/step\n"
     ]
    },
    {
     "name": "stdout",
     "output_type": "stream",
     "text": [
      "\r",
      "1/1 [==============================] - ETA: 0s"
     ]
    },
    {
     "name": "stdout",
     "output_type": "stream",
     "text": [
      "\b\b\b\b\b\b\b\b\b\b\b\b\b\b\b\b\b\b\b\b\b\b\b\b\b\b\b\b\b\b\b\b\b\b\b\b\b\b\b\b\b\b\b\b\b\b\r",
      "1/1 [==============================] - 0s 123ms/step\n"
     ]
    },
    {
     "name": "stdout",
     "output_type": "stream",
     "text": [
      "\r",
      "1/1 [==============================] - ETA: 0s"
     ]
    },
    {
     "name": "stdout",
     "output_type": "stream",
     "text": [
      "\b\b\b\b\b\b\b\b\b\b\b\b\b\b\b\b\b\b\b\b\b\b\b\b\b\b\b\b\b\b\b\b\b\b\b\b\b\b\b\b\b\b\b\b\b\b\r",
      "1/1 [==============================] - 0s 133ms/step\n"
     ]
    },
    {
     "name": "stdout",
     "output_type": "stream",
     "text": [
      "\r",
      "1/1 [==============================] - ETA: 0s"
     ]
    },
    {
     "name": "stdout",
     "output_type": "stream",
     "text": [
      "\b\b\b\b\b\b\b\b\b\b\b\b\b\b\b\b\b\b\b\b\b\b\b\b\b\b\b\b\b\b\b\b\b\b\b\b\b\b\b\b\b\b\b\b\b\b\r",
      "1/1 [==============================] - 0s 129ms/step\n"
     ]
    },
    {
     "name": "stdout",
     "output_type": "stream",
     "text": [
      "\r",
      "1/1 [==============================] - ETA: 0s"
     ]
    },
    {
     "name": "stdout",
     "output_type": "stream",
     "text": [
      "\b\b\b\b\b\b\b\b\b\b\b\b\b\b\b\b\b\b\b\b\b\b\b\b\b\b\b\b\b\b\b\b\b\b\b\b\b\b\b\b\b\b\b\b\b\b\r",
      "1/1 [==============================] - 0s 128ms/step\n"
     ]
    },
    {
     "name": "stdout",
     "output_type": "stream",
     "text": [
      "\r",
      "1/1 [==============================] - ETA: 0s"
     ]
    },
    {
     "name": "stdout",
     "output_type": "stream",
     "text": [
      "\b\b\b\b\b\b\b\b\b\b\b\b\b\b\b\b\b\b\b\b\b\b\b\b\b\b\b\b\b\b\b\b\b\b\b\b\b\b\b\b\b\b\b\b\b\b\r",
      "1/1 [==============================] - 0s 127ms/step\n"
     ]
    },
    {
     "name": "stdout",
     "output_type": "stream",
     "text": [
      "\r",
      "1/1 [==============================] - ETA: 0s"
     ]
    },
    {
     "name": "stdout",
     "output_type": "stream",
     "text": [
      "\b\b\b\b\b\b\b\b\b\b\b\b\b\b\b\b\b\b\b\b\b\b\b\b\b\b\b\b\b\b\b\b\b\b\b\b\b\b\b\b\b\b\b\b\b\b\r",
      "1/1 [==============================] - 0s 132ms/step\n"
     ]
    },
    {
     "name": "stdout",
     "output_type": "stream",
     "text": [
      "\r",
      "1/1 [==============================] - ETA: 0s"
     ]
    },
    {
     "name": "stdout",
     "output_type": "stream",
     "text": [
      "\b\b\b\b\b\b\b\b\b\b\b\b\b\b\b\b\b\b\b\b\b\b\b\b\b\b\b\b\b\b\b\b\b\b\b\b\b\b\b\b\b\b\b\b\b\b\r",
      "1/1 [==============================] - 0s 132ms/step\n"
     ]
    },
    {
     "name": "stdout",
     "output_type": "stream",
     "text": [
      "\r",
      "1/1 [==============================] - ETA: 0s"
     ]
    },
    {
     "name": "stdout",
     "output_type": "stream",
     "text": [
      "\b\b\b\b\b\b\b\b\b\b\b\b\b\b\b\b\b\b\b\b\b\b\b\b\b\b\b\b\b\b\b\b\b\b\b\b\b\b\b\b\b\b\b\b\b\b\r",
      "1/1 [==============================] - 0s 132ms/step\n"
     ]
    },
    {
     "name": "stdout",
     "output_type": "stream",
     "text": [
      "\r",
      "1/1 [==============================] - ETA: 0s"
     ]
    },
    {
     "name": "stdout",
     "output_type": "stream",
     "text": [
      "\b\b\b\b\b\b\b\b\b\b\b\b\b\b\b\b\b\b\b\b\b\b\b\b\b\b\b\b\b\b\b\b\b\b\b\b\b\b\b\b\b\b\b\b\b\b\r",
      "1/1 [==============================] - 0s 128ms/step\n"
     ]
    },
    {
     "name": "stdout",
     "output_type": "stream",
     "text": [
      "\r",
      "1/1 [==============================] - ETA: 0s"
     ]
    },
    {
     "name": "stdout",
     "output_type": "stream",
     "text": [
      "\b\b\b\b\b\b\b\b\b\b\b\b\b\b\b\b\b\b\b\b\b\b\b\b\b\b\b\b\b\b\b\b\b\b\b\b\b\b\b\b\b\b\b\b\b\b\r",
      "1/1 [==============================] - 0s 122ms/step\n"
     ]
    },
    {
     "name": "stdout",
     "output_type": "stream",
     "text": [
      "\r",
      "1/1 [==============================] - ETA: 0s"
     ]
    },
    {
     "name": "stdout",
     "output_type": "stream",
     "text": [
      "\b\b\b\b\b\b\b\b\b\b\b\b\b\b\b\b\b\b\b\b\b\b\b\b\b\b\b\b\b\b\b\b\b\b\b\b\b\b\b\b\b\b\b\b\b\b\r",
      "1/1 [==============================] - 0s 127ms/step\n"
     ]
    },
    {
     "name": "stdout",
     "output_type": "stream",
     "text": [
      "\r",
      "1/1 [==============================] - ETA: 0s"
     ]
    },
    {
     "name": "stdout",
     "output_type": "stream",
     "text": [
      "\b\b\b\b\b\b\b\b\b\b\b\b\b\b\b\b\b\b\b\b\b\b\b\b\b\b\b\b\b\b\b\b\b\b\b\b\b\b\b\b\b\b\b\b\b\b\r",
      "1/1 [==============================] - 0s 121ms/step\n"
     ]
    },
    {
     "name": "stdout",
     "output_type": "stream",
     "text": [
      "\r",
      "1/1 [==============================] - ETA: 0s"
     ]
    },
    {
     "name": "stdout",
     "output_type": "stream",
     "text": [
      "\b\b\b\b\b\b\b\b\b\b\b\b\b\b\b\b\b\b\b\b\b\b\b\b\b\b\b\b\b\b\b\b\b\b\b\b\b\b\b\b\b\b\b\b\b\b\r",
      "1/1 [==============================] - 0s 154ms/step\n"
     ]
    },
    {
     "name": "stdout",
     "output_type": "stream",
     "text": [
      "\r",
      "1/1 [==============================] - ETA: 0s"
     ]
    },
    {
     "name": "stdout",
     "output_type": "stream",
     "text": [
      "\b\b\b\b\b\b\b\b\b\b\b\b\b\b\b\b\b\b\b\b\b\b\b\b\b\b\b\b\b\b\b\b\b\b\b\b\b\b\b\b\b\b\b\b\b\b\r",
      "1/1 [==============================] - 0s 143ms/step\n"
     ]
    },
    {
     "name": "stdout",
     "output_type": "stream",
     "text": [
      "\r",
      "1/1 [==============================] - ETA: 0s"
     ]
    },
    {
     "name": "stdout",
     "output_type": "stream",
     "text": [
      "\b\b\b\b\b\b\b\b\b\b\b\b\b\b\b\b\b\b\b\b\b\b\b\b\b\b\b\b\b\b\b\b\b\b\b\b\b\b\b\b\b\b\b\b\b\b\r",
      "1/1 [==============================] - 0s 132ms/step\n"
     ]
    },
    {
     "name": "stdout",
     "output_type": "stream",
     "text": [
      "\r",
      "1/1 [==============================] - ETA: 0s"
     ]
    },
    {
     "name": "stdout",
     "output_type": "stream",
     "text": [
      "\b\b\b\b\b\b\b\b\b\b\b\b\b\b\b\b\b\b\b\b\b\b\b\b\b\b\b\b\b\b\b\b\b\b\b\b\b\b\b\b\b\b\b\b\b\b\r",
      "1/1 [==============================] - 0s 122ms/step\n"
     ]
    },
    {
     "name": "stdout",
     "output_type": "stream",
     "text": [
      "\r",
      "1/1 [==============================] - ETA: 0s"
     ]
    },
    {
     "name": "stdout",
     "output_type": "stream",
     "text": [
      "\b\b\b\b\b\b\b\b\b\b\b\b\b\b\b\b\b\b\b\b\b\b\b\b\b\b\b\b\b\b\b\b\b\b\b\b\b\b\b\b\b\b\b\b\b\b\r",
      "1/1 [==============================] - 0s 122ms/step\n"
     ]
    },
    {
     "name": "stdout",
     "output_type": "stream",
     "text": [
      "\r",
      "1/1 [==============================] - ETA: 0s"
     ]
    },
    {
     "name": "stdout",
     "output_type": "stream",
     "text": [
      "\b\b\b\b\b\b\b\b\b\b\b\b\b\b\b\b\b\b\b\b\b\b\b\b\b\b\b\b\b\b\b\b\b\b\b\b\b\b\b\b\b\b\b\b\b\b\r",
      "1/1 [==============================] - 0s 120ms/step\n"
     ]
    },
    {
     "name": "stdout",
     "output_type": "stream",
     "text": [
      "\r",
      "1/1 [==============================] - ETA: 0s"
     ]
    },
    {
     "name": "stdout",
     "output_type": "stream",
     "text": [
      "\b\b\b\b\b\b\b\b\b\b\b\b\b\b\b\b\b\b\b\b\b\b\b\b\b\b\b\b\b\b\b\b\b\b\b\b\b\b\b\b\b\b\b\b\b\b\r",
      "1/1 [==============================] - 0s 128ms/step\n"
     ]
    },
    {
     "name": "stdout",
     "output_type": "stream",
     "text": [
      "\r",
      "1/1 [==============================] - ETA: 0s"
     ]
    },
    {
     "name": "stdout",
     "output_type": "stream",
     "text": [
      "\b\b\b\b\b\b\b\b\b\b\b\b\b\b\b\b\b\b\b\b\b\b\b\b\b\b\b\b\b\b\b\b\b\b\b\b\b\b\b\b\b\b\b\b\b\b\r",
      "1/1 [==============================] - 0s 138ms/step\n"
     ]
    },
    {
     "name": "stdout",
     "output_type": "stream",
     "text": [
      "\r",
      "1/1 [==============================] - ETA: 0s"
     ]
    },
    {
     "name": "stdout",
     "output_type": "stream",
     "text": [
      "\b\b\b\b\b\b\b\b\b\b\b\b\b\b\b\b\b\b\b\b\b\b\b\b\b\b\b\b\b\b\b\b\b\b\b\b\b\b\b\b\b\b\b\b\b\b\r",
      "1/1 [==============================] - 0s 123ms/step\n"
     ]
    },
    {
     "name": "stdout",
     "output_type": "stream",
     "text": [
      "\r",
      "1/1 [==============================] - ETA: 0s"
     ]
    },
    {
     "name": "stdout",
     "output_type": "stream",
     "text": [
      "\b\b\b\b\b\b\b\b\b\b\b\b\b\b\b\b\b\b\b\b\b\b\b\b\b\b\b\b\b\b\b\b\b\b\b\b\b\b\b\b\b\b\b\b\b\b\r",
      "1/1 [==============================] - 0s 119ms/step\n"
     ]
    },
    {
     "name": "stdout",
     "output_type": "stream",
     "text": [
      "\r",
      "1/1 [==============================] - ETA: 0s"
     ]
    },
    {
     "name": "stdout",
     "output_type": "stream",
     "text": [
      "\b\b\b\b\b\b\b\b\b\b\b\b\b\b\b\b\b\b\b\b\b\b\b\b\b\b\b\b\b\b\b\b\b\b\b\b\b\b\b\b\b\b\b\b\b\b\r",
      "1/1 [==============================] - 0s 142ms/step\n"
     ]
    },
    {
     "name": "stdout",
     "output_type": "stream",
     "text": [
      "\r",
      "1/1 [==============================] - ETA: 0s"
     ]
    },
    {
     "name": "stdout",
     "output_type": "stream",
     "text": [
      "\b\b\b\b\b\b\b\b\b\b\b\b\b\b\b\b\b\b\b\b\b\b\b\b\b\b\b\b\b\b\b\b\b\b\b\b\b\b\b\b\b\b\b\b\b\b\r",
      "1/1 [==============================] - 0s 119ms/step\n"
     ]
    },
    {
     "name": "stdout",
     "output_type": "stream",
     "text": [
      "\r",
      "1/1 [==============================] - ETA: 0s"
     ]
    },
    {
     "name": "stdout",
     "output_type": "stream",
     "text": [
      "\b\b\b\b\b\b\b\b\b\b\b\b\b\b\b\b\b\b\b\b\b\b\b\b\b\b\b\b\b\b\b\b\b\b\b\b\b\b\b\b\b\b\b\b\b\b\r",
      "1/1 [==============================] - 0s 116ms/step\n"
     ]
    },
    {
     "name": "stdout",
     "output_type": "stream",
     "text": [
      "\r",
      "1/1 [==============================] - ETA: 0s"
     ]
    },
    {
     "name": "stdout",
     "output_type": "stream",
     "text": [
      "\b\b\b\b\b\b\b\b\b\b\b\b\b\b\b\b\b\b\b\b\b\b\b\b\b\b\b\b\b\b\b\b\b\b\b\b\b\b\b\b\b\b\b\b\b\b\r",
      "1/1 [==============================] - 0s 122ms/step\n"
     ]
    },
    {
     "name": "stdout",
     "output_type": "stream",
     "text": [
      "\r",
      "1/1 [==============================] - ETA: 0s"
     ]
    },
    {
     "name": "stdout",
     "output_type": "stream",
     "text": [
      "\b\b\b\b\b\b\b\b\b\b\b\b\b\b\b\b\b\b\b\b\b\b\b\b\b\b\b\b\b\b\b\b\b\b\b\b\b\b\b\b\b\b\b\b\b\b\r",
      "1/1 [==============================] - 0s 120ms/step\n"
     ]
    },
    {
     "name": "stdout",
     "output_type": "stream",
     "text": [
      "\r",
      "1/1 [==============================] - ETA: 0s"
     ]
    },
    {
     "name": "stdout",
     "output_type": "stream",
     "text": [
      "\b\b\b\b\b\b\b\b\b\b\b\b\b\b\b\b\b\b\b\b\b\b\b\b\b\b\b\b\b\b\b\b\b\b\b\b\b\b\b\b\b\b\b\b\b\b\r",
      "1/1 [==============================] - 0s 129ms/step\n"
     ]
    },
    {
     "name": "stdout",
     "output_type": "stream",
     "text": [
      "\r",
      "1/1 [==============================] - ETA: 0s"
     ]
    },
    {
     "name": "stdout",
     "output_type": "stream",
     "text": [
      "\b\b\b\b\b\b\b\b\b\b\b\b\b\b\b\b\b\b\b\b\b\b\b\b\b\b\b\b\b\b\b\b\b\b\b\b\b\b\b\b\b\b\b\b\b\b\r",
      "1/1 [==============================] - 0s 132ms/step\n"
     ]
    },
    {
     "name": "stdout",
     "output_type": "stream",
     "text": [
      "\r",
      "1/1 [==============================] - ETA: 0s"
     ]
    },
    {
     "name": "stdout",
     "output_type": "stream",
     "text": [
      "\b\b\b\b\b\b\b\b\b\b\b\b\b\b\b\b\b\b\b\b\b\b\b\b\b\b\b\b\b\b\b\b\b\b\b\b\b\b\b\b\b\b\b\b\b\b\r",
      "1/1 [==============================] - 0s 128ms/step\n"
     ]
    },
    {
     "name": "stdout",
     "output_type": "stream",
     "text": [
      "\r",
      "1/1 [==============================] - ETA: 0s"
     ]
    },
    {
     "name": "stdout",
     "output_type": "stream",
     "text": [
      "\b\b\b\b\b\b\b\b\b\b\b\b\b\b\b\b\b\b\b\b\b\b\b\b\b\b\b\b\b\b\b\b\b\b\b\b\b\b\b\b\b\b\b\b\b\b\r",
      "1/1 [==============================] - 0s 128ms/step\n"
     ]
    },
    {
     "name": "stdout",
     "output_type": "stream",
     "text": [
      "\r",
      "1/1 [==============================] - ETA: 0s"
     ]
    },
    {
     "name": "stdout",
     "output_type": "stream",
     "text": [
      "\b\b\b\b\b\b\b\b\b\b\b\b\b\b\b\b\b\b\b\b\b\b\b\b\b\b\b\b\b\b\b\b\b\b\b\b\b\b\b\b\b\b\b\b\b\b\r",
      "1/1 [==============================] - 0s 124ms/step\n"
     ]
    },
    {
     "name": "stdout",
     "output_type": "stream",
     "text": [
      "\r",
      "1/1 [==============================] - ETA: 0s"
     ]
    },
    {
     "name": "stdout",
     "output_type": "stream",
     "text": [
      "\b\b\b\b\b\b\b\b\b\b\b\b\b\b\b\b\b\b\b\b\b\b\b\b\b\b\b\b\b\b\b\b\b\b\b\b\b\b\b\b\b\b\b\b\b\b\r",
      "1/1 [==============================] - 0s 118ms/step\n"
     ]
    },
    {
     "name": "stdout",
     "output_type": "stream",
     "text": [
      "\r",
      "1/1 [==============================] - ETA: 0s"
     ]
    },
    {
     "name": "stdout",
     "output_type": "stream",
     "text": [
      "\b\b\b\b\b\b\b\b\b\b\b\b\b\b\b\b\b\b\b\b\b\b\b\b\b\b\b\b\b\b\b\b\b\b\b\b\b\b\b\b\b\b\b\b\b\b\r",
      "1/1 [==============================] - 0s 125ms/step\n"
     ]
    },
    {
     "name": "stdout",
     "output_type": "stream",
     "text": [
      "\r",
      "1/1 [==============================] - ETA: 0s"
     ]
    },
    {
     "name": "stdout",
     "output_type": "stream",
     "text": [
      "\b\b\b\b\b\b\b\b\b\b\b\b\b\b\b\b\b\b\b\b\b\b\b\b\b\b\b\b\b\b\b\b\b\b\b\b\b\b\b\b\b\b\b\b\b\b\r",
      "1/1 [==============================] - 0s 124ms/step\n"
     ]
    },
    {
     "name": "stdout",
     "output_type": "stream",
     "text": [
      "\r",
      "1/1 [==============================] - ETA: 0s"
     ]
    },
    {
     "name": "stdout",
     "output_type": "stream",
     "text": [
      "\b\b\b\b\b\b\b\b\b\b\b\b\b\b\b\b\b\b\b\b\b\b\b\b\b\b\b\b\b\b\b\b\b\b\b\b\b\b\b\b\b\b\b\b\b\b\r",
      "1/1 [==============================] - 0s 124ms/step\n"
     ]
    },
    {
     "name": "stdout",
     "output_type": "stream",
     "text": [
      "\r",
      "1/1 [==============================] - ETA: 0s"
     ]
    },
    {
     "name": "stdout",
     "output_type": "stream",
     "text": [
      "\b\b\b\b\b\b\b\b\b\b\b\b\b\b\b\b\b\b\b\b\b\b\b\b\b\b\b\b\b\b\b\b\b\b\b\b\b\b\b\b\b\b\b\b\b\b\r",
      "1/1 [==============================] - 0s 121ms/step\n"
     ]
    },
    {
     "name": "stdout",
     "output_type": "stream",
     "text": [
      "\r",
      "1/1 [==============================] - ETA: 0s"
     ]
    },
    {
     "name": "stdout",
     "output_type": "stream",
     "text": [
      "\b\b\b\b\b\b\b\b\b\b\b\b\b\b\b\b\b\b\b\b\b\b\b\b\b\b\b\b\b\b\b\b\b\b\b\b\b\b\b\b\b\b\b\b\b\b\r",
      "1/1 [==============================] - 0s 132ms/step\n"
     ]
    },
    {
     "name": "stdout",
     "output_type": "stream",
     "text": [
      "\r",
      "1/1 [==============================] - ETA: 0s"
     ]
    },
    {
     "name": "stdout",
     "output_type": "stream",
     "text": [
      "\b\b\b\b\b\b\b\b\b\b\b\b\b\b\b\b\b\b\b\b\b\b\b\b\b\b\b\b\b\b\b\b\b\b\b\b\b\b\b\b\b\b\b\b\b\b\r",
      "1/1 [==============================] - 0s 130ms/step\n"
     ]
    },
    {
     "name": "stdout",
     "output_type": "stream",
     "text": [
      "\r",
      "1/1 [==============================] - ETA: 0s"
     ]
    },
    {
     "name": "stdout",
     "output_type": "stream",
     "text": [
      "\b\b\b\b\b\b\b\b\b\b\b\b\b\b\b\b\b\b\b\b\b\b\b\b\b\b\b\b\b\b\b\b\b\b\b\b\b\b\b\b\b\b\b\b\b\b\r",
      "1/1 [==============================] - 0s 121ms/step\n"
     ]
    },
    {
     "name": "stdout",
     "output_type": "stream",
     "text": [
      "\r",
      "1/1 [==============================] - ETA: 0s"
     ]
    },
    {
     "name": "stdout",
     "output_type": "stream",
     "text": [
      "\b\b\b\b\b\b\b\b\b\b\b\b\b\b\b\b\b\b\b\b\b\b\b\b\b\b\b\b\b\b\b\b\b\b\b\b\b\b\b\b\b\b\b\b\b\b\r",
      "1/1 [==============================] - 0s 123ms/step\n"
     ]
    },
    {
     "name": "stdout",
     "output_type": "stream",
     "text": [
      "\r",
      "1/1 [==============================] - ETA: 0s"
     ]
    },
    {
     "name": "stdout",
     "output_type": "stream",
     "text": [
      "\b\b\b\b\b\b\b\b\b\b\b\b\b\b\b\b\b\b\b\b\b\b\b\b\b\b\b\b\b\b\b\b\b\b\b\b\b\b\b\b\b\b\b\b\b\b\r",
      "1/1 [==============================] - 0s 121ms/step\n"
     ]
    },
    {
     "name": "stdout",
     "output_type": "stream",
     "text": [
      "\r",
      "1/1 [==============================] - ETA: 0s"
     ]
    },
    {
     "name": "stdout",
     "output_type": "stream",
     "text": [
      "\b\b\b\b\b\b\b\b\b\b\b\b\b\b\b\b\b\b\b\b\b\b\b\b\b\b\b\b\b\b\b\b\b\b\b\b\b\b\b\b\b\b\b\b\b\b\r",
      "1/1 [==============================] - 0s 123ms/step\n"
     ]
    },
    {
     "name": "stdout",
     "output_type": "stream",
     "text": [
      "\r",
      "1/1 [==============================] - ETA: 0s"
     ]
    },
    {
     "name": "stdout",
     "output_type": "stream",
     "text": [
      "\b\b\b\b\b\b\b\b\b\b\b\b\b\b\b\b\b\b\b\b\b\b\b\b\b\b\b\b\b\b\b\b\b\b\b\b\b\b\b\b\b\b\b\b\b\b\r",
      "1/1 [==============================] - 0s 151ms/step\n"
     ]
    },
    {
     "name": "stdout",
     "output_type": "stream",
     "text": [
      "\r",
      "1/1 [==============================] - ETA: 0s"
     ]
    },
    {
     "name": "stdout",
     "output_type": "stream",
     "text": [
      "\b\b\b\b\b\b\b\b\b\b\b\b\b\b\b\b\b\b\b\b\b\b\b\b\b\b\b\b\b\b\b\b\b\b\b\b\b\b\b\b\b\b\b\b\b\b\r",
      "1/1 [==============================] - 0s 131ms/step\n"
     ]
    },
    {
     "name": "stdout",
     "output_type": "stream",
     "text": [
      "\r",
      "1/1 [==============================] - ETA: 0s"
     ]
    },
    {
     "name": "stdout",
     "output_type": "stream",
     "text": [
      "\b\b\b\b\b\b\b\b\b\b\b\b\b\b\b\b\b\b\b\b\b\b\b\b\b\b\b\b\b\b\b\b\b\b\b\b\b\b\b\b\b\b\b\b\b\b\r",
      "1/1 [==============================] - 0s 144ms/step\n"
     ]
    },
    {
     "name": "stdout",
     "output_type": "stream",
     "text": [
      "\r",
      "1/1 [==============================] - ETA: 0s"
     ]
    },
    {
     "name": "stdout",
     "output_type": "stream",
     "text": [
      "\b\b\b\b\b\b\b\b\b\b\b\b\b\b\b\b\b\b\b\b\b\b\b\b\b\b\b\b\b\b\b\b\b\b\b\b\b\b\b\b\b\b\b\b\b\b\r",
      "1/1 [==============================] - 0s 124ms/step\n"
     ]
    },
    {
     "name": "stdout",
     "output_type": "stream",
     "text": [
      "\r",
      "1/1 [==============================] - ETA: 0s"
     ]
    },
    {
     "name": "stdout",
     "output_type": "stream",
     "text": [
      "\b\b\b\b\b\b\b\b\b\b\b\b\b\b\b\b\b\b\b\b\b\b\b\b\b\b\b\b\b\b\b\b\b\b\b\b\b\b\b\b\b\b\b\b\b\b\r",
      "1/1 [==============================] - 0s 132ms/step\n"
     ]
    },
    {
     "name": "stdout",
     "output_type": "stream",
     "text": [
      "\r",
      "1/1 [==============================] - ETA: 0s"
     ]
    },
    {
     "name": "stdout",
     "output_type": "stream",
     "text": [
      "\b\b\b\b\b\b\b\b\b\b\b\b\b\b\b\b\b\b\b\b\b\b\b\b\b\b\b\b\b\b\b\b\b\b\b\b\b\b\b\b\b\b\b\b\b\b\r",
      "1/1 [==============================] - 0s 137ms/step\n"
     ]
    },
    {
     "name": "stdout",
     "output_type": "stream",
     "text": [
      "\r",
      "1/1 [==============================] - ETA: 0s"
     ]
    },
    {
     "name": "stdout",
     "output_type": "stream",
     "text": [
      "\b\b\b\b\b\b\b\b\b\b\b\b\b\b\b\b\b\b\b\b\b\b\b\b\b\b\b\b\b\b\b\b\b\b\b\b\b\b\b\b\b\b\b\b\b\b\r",
      "1/1 [==============================] - 0s 130ms/step\n"
     ]
    },
    {
     "name": "stdout",
     "output_type": "stream",
     "text": [
      "\r",
      "1/1 [==============================] - ETA: 0s"
     ]
    },
    {
     "name": "stdout",
     "output_type": "stream",
     "text": [
      "\b\b\b\b\b\b\b\b\b\b\b\b\b\b\b\b\b\b\b\b\b\b\b\b\b\b\b\b\b\b\b\b\b\b\b\b\b\b\b\b\b\b\b\b\b\b\r",
      "1/1 [==============================] - 0s 116ms/step\n"
     ]
    },
    {
     "name": "stdout",
     "output_type": "stream",
     "text": [
      "\r",
      "1/1 [==============================] - ETA: 0s"
     ]
    },
    {
     "name": "stdout",
     "output_type": "stream",
     "text": [
      "\b\b\b\b\b\b\b\b\b\b\b\b\b\b\b\b\b\b\b\b\b\b\b\b\b\b\b\b\b\b\b\b\b\b\b\b\b\b\b\b\b\b\b\b\b\b\r",
      "1/1 [==============================] - 0s 126ms/step\n"
     ]
    },
    {
     "name": "stdout",
     "output_type": "stream",
     "text": [
      "\r",
      "1/1 [==============================] - ETA: 0s"
     ]
    },
    {
     "name": "stdout",
     "output_type": "stream",
     "text": [
      "\b\b\b\b\b\b\b\b\b\b\b\b\b\b\b\b\b\b\b\b\b\b\b\b\b\b\b\b\b\b\b\b\b\b\b\b\b\b\b\b\b\b\b\b\b\b\r",
      "1/1 [==============================] - 0s 141ms/step\n"
     ]
    },
    {
     "name": "stdout",
     "output_type": "stream",
     "text": [
      "\r",
      "1/1 [==============================] - ETA: 0s"
     ]
    },
    {
     "name": "stdout",
     "output_type": "stream",
     "text": [
      "\b\b\b\b\b\b\b\b\b\b\b\b\b\b\b\b\b\b\b\b\b\b\b\b\b\b\b\b\b\b\b\b\b\b\b\b\b\b\b\b\b\b\b\b\b\b\r",
      "1/1 [==============================] - 0s 147ms/step\n"
     ]
    },
    {
     "name": "stdout",
     "output_type": "stream",
     "text": [
      "\r",
      "1/1 [==============================] - ETA: 0s"
     ]
    },
    {
     "name": "stdout",
     "output_type": "stream",
     "text": [
      "\b\b\b\b\b\b\b\b\b\b\b\b\b\b\b\b\b\b\b\b\b\b\b\b\b\b\b\b\b\b\b\b\b\b\b\b\b\b\b\b\b\b\b\b\b\b\r",
      "1/1 [==============================] - 0s 151ms/step\n"
     ]
    },
    {
     "name": "stdout",
     "output_type": "stream",
     "text": [
      "\r",
      "1/1 [==============================] - ETA: 0s"
     ]
    },
    {
     "name": "stdout",
     "output_type": "stream",
     "text": [
      "\b\b\b\b\b\b\b\b\b\b\b\b\b\b\b\b\b\b\b\b\b\b\b\b\b\b\b\b\b\b\b\b\b\b\b\b\b\b\b\b\b\b\b\b\b\b\r",
      "1/1 [==============================] - 0s 131ms/step\n"
     ]
    },
    {
     "name": "stdout",
     "output_type": "stream",
     "text": [
      "\r",
      "1/1 [==============================] - ETA: 0s"
     ]
    },
    {
     "name": "stdout",
     "output_type": "stream",
     "text": [
      "\b\b\b\b\b\b\b\b\b\b\b\b\b\b\b\b\b\b\b\b\b\b\b\b\b\b\b\b\b\b\b\b\b\b\b\b\b\b\b\b\b\b\b\b\b\b\r",
      "1/1 [==============================] - 0s 122ms/step\n"
     ]
    },
    {
     "name": "stdout",
     "output_type": "stream",
     "text": [
      "\r",
      "1/1 [==============================] - ETA: 0s"
     ]
    },
    {
     "name": "stdout",
     "output_type": "stream",
     "text": [
      "\b\b\b\b\b\b\b\b\b\b\b\b\b\b\b\b\b\b\b\b\b\b\b\b\b\b\b\b\b\b\b\b\b\b\b\b\b\b\b\b\b\b\b\b\b\b\r",
      "1/1 [==============================] - 0s 118ms/step\n"
     ]
    },
    {
     "name": "stdout",
     "output_type": "stream",
     "text": [
      "\r",
      "1/1 [==============================] - ETA: 0s"
     ]
    },
    {
     "name": "stdout",
     "output_type": "stream",
     "text": [
      "\b\b\b\b\b\b\b\b\b\b\b\b\b\b\b\b\b\b\b\b\b\b\b\b\b\b\b\b\b\b\b\b\b\b\b\b\b\b\b\b\b\b\b\b\b\b\r",
      "1/1 [==============================] - 0s 140ms/step\n"
     ]
    },
    {
     "name": "stdout",
     "output_type": "stream",
     "text": [
      "\r",
      "1/1 [==============================] - ETA: 0s"
     ]
    },
    {
     "name": "stdout",
     "output_type": "stream",
     "text": [
      "\b\b\b\b\b\b\b\b\b\b\b\b\b\b\b\b\b\b\b\b\b\b\b\b\b\b\b\b\b\b\b\b\b\b\b\b\b\b\b\b\b\b\b\b\b\b\r",
      "1/1 [==============================] - 0s 114ms/step\n"
     ]
    },
    {
     "name": "stdout",
     "output_type": "stream",
     "text": [
      "\r",
      "1/1 [==============================] - ETA: 0s"
     ]
    },
    {
     "name": "stdout",
     "output_type": "stream",
     "text": [
      "\b\b\b\b\b\b\b\b\b\b\b\b\b\b\b\b\b\b\b\b\b\b\b\b\b\b\b\b\b\b\b\b\b\b\b\b\b\b\b\b\b\b\b\b\b\b\r",
      "1/1 [==============================] - 0s 128ms/step\n"
     ]
    },
    {
     "name": "stdout",
     "output_type": "stream",
     "text": [
      "\r",
      "1/1 [==============================] - ETA: 0s"
     ]
    },
    {
     "name": "stdout",
     "output_type": "stream",
     "text": [
      "\b\b\b\b\b\b\b\b\b\b\b\b\b\b\b\b\b\b\b\b\b\b\b\b\b\b\b\b\b\b\b\b\b\b\b\b\b\b\b\b\b\b\b\b\b\b\r",
      "1/1 [==============================] - 0s 137ms/step\n"
     ]
    },
    {
     "name": "stdout",
     "output_type": "stream",
     "text": [
      "\r",
      "1/1 [==============================] - ETA: 0s"
     ]
    },
    {
     "name": "stdout",
     "output_type": "stream",
     "text": [
      "\b\b\b\b\b\b\b\b\b\b\b\b\b\b\b\b\b\b\b\b\b\b\b\b\b\b\b\b\b\b\b\b\b\b\b\b\b\b\b\b\b\b\b\b\b\b\r",
      "1/1 [==============================] - 0s 128ms/step\n"
     ]
    },
    {
     "name": "stdout",
     "output_type": "stream",
     "text": [
      "\r",
      "1/1 [==============================] - ETA: 0s"
     ]
    },
    {
     "name": "stdout",
     "output_type": "stream",
     "text": [
      "\b\b\b\b\b\b\b\b\b\b\b\b\b\b\b\b\b\b\b\b\b\b\b\b\b\b\b\b\b\b\b\b\b\b\b\b\b\b\b\b\b\b\b\b\b\b\r",
      "1/1 [==============================] - 0s 125ms/step\n"
     ]
    },
    {
     "name": "stdout",
     "output_type": "stream",
     "text": [
      "\r",
      "1/1 [==============================] - ETA: 0s"
     ]
    },
    {
     "name": "stdout",
     "output_type": "stream",
     "text": [
      "\b\b\b\b\b\b\b\b\b\b\b\b\b\b\b\b\b\b\b\b\b\b\b\b\b\b\b\b\b\b\b\b\b\b\b\b\b\b\b\b\b\b\b\b\b\b\r",
      "1/1 [==============================] - 0s 128ms/step\n"
     ]
    },
    {
     "name": "stdout",
     "output_type": "stream",
     "text": [
      "\r",
      "1/1 [==============================] - ETA: 0s"
     ]
    },
    {
     "name": "stdout",
     "output_type": "stream",
     "text": [
      "\b\b\b\b\b\b\b\b\b\b\b\b\b\b\b\b\b\b\b\b\b\b\b\b\b\b\b\b\b\b\b\b\b\b\b\b\b\b\b\b\b\b\b\b\b\b\r",
      "1/1 [==============================] - 0s 130ms/step\n"
     ]
    },
    {
     "name": "stdout",
     "output_type": "stream",
     "text": [
      "\r",
      "1/1 [==============================] - ETA: 0s"
     ]
    },
    {
     "name": "stdout",
     "output_type": "stream",
     "text": [
      "\b\b\b\b\b\b\b\b\b\b\b\b\b\b\b\b\b\b\b\b\b\b\b\b\b\b\b\b\b\b\b\b\b\b\b\b\b\b\b\b\b\b\b\b\b\b\r",
      "1/1 [==============================] - 0s 130ms/step\n"
     ]
    },
    {
     "name": "stdout",
     "output_type": "stream",
     "text": [
      "\r",
      "1/1 [==============================] - ETA: 0s"
     ]
    },
    {
     "name": "stdout",
     "output_type": "stream",
     "text": [
      "\b\b\b\b\b\b\b\b\b\b\b\b\b\b\b\b\b\b\b\b\b\b\b\b\b\b\b\b\b\b\b\b\b\b\b\b\b\b\b\b\b\b\b\b\b\b\r",
      "1/1 [==============================] - 0s 144ms/step\n"
     ]
    },
    {
     "name": "stdout",
     "output_type": "stream",
     "text": [
      "\r",
      "1/1 [==============================] - ETA: 0s"
     ]
    },
    {
     "name": "stdout",
     "output_type": "stream",
     "text": [
      "\b\b\b\b\b\b\b\b\b\b\b\b\b\b\b\b\b\b\b\b\b\b\b\b\b\b\b\b\b\b\b\b\b\b\b\b\b\b\b\b\b\b\b\b\b\b\r",
      "1/1 [==============================] - 0s 137ms/step\n"
     ]
    },
    {
     "name": "stdout",
     "output_type": "stream",
     "text": [
      "\r",
      "1/1 [==============================] - ETA: 0s"
     ]
    },
    {
     "name": "stdout",
     "output_type": "stream",
     "text": [
      "\b\b\b\b\b\b\b\b\b\b\b\b\b\b\b\b\b\b\b\b\b\b\b\b\b\b\b\b\b\b\b\b\b\b\b\b\b\b\b\b\b\b\b\b\b\b\r",
      "1/1 [==============================] - 0s 120ms/step\n"
     ]
    },
    {
     "name": "stdout",
     "output_type": "stream",
     "text": [
      "\r",
      "1/1 [==============================] - ETA: 0s"
     ]
    },
    {
     "name": "stdout",
     "output_type": "stream",
     "text": [
      "\b\b\b\b\b\b\b\b\b\b\b\b\b\b\b\b\b\b\b\b\b\b\b\b\b\b\b\b\b\b\b\b\b\b\b\b\b\b\b\b\b\b\b\b\b\b\r",
      "1/1 [==============================] - 0s 127ms/step\n"
     ]
    },
    {
     "name": "stdout",
     "output_type": "stream",
     "text": [
      "\r",
      "1/1 [==============================] - ETA: 0s"
     ]
    },
    {
     "name": "stdout",
     "output_type": "stream",
     "text": [
      "\b\b\b\b\b\b\b\b\b\b\b\b\b\b\b\b\b\b\b\b\b\b\b\b\b\b\b\b\b\b\b\b\b\b\b\b\b\b\b\b\b\b\b\b\b\b\r",
      "1/1 [==============================] - 0s 129ms/step\n"
     ]
    },
    {
     "name": "stdout",
     "output_type": "stream",
     "text": [
      "\r",
      "1/1 [==============================] - ETA: 0s"
     ]
    },
    {
     "name": "stdout",
     "output_type": "stream",
     "text": [
      "\b\b\b\b\b\b\b\b\b\b\b\b\b\b\b\b\b\b\b\b\b\b\b\b\b\b\b\b\b\b\b\b\b\b\b\b\b\b\b\b\b\b\b\b\b\b\r",
      "1/1 [==============================] - 0s 133ms/step\n"
     ]
    },
    {
     "name": "stdout",
     "output_type": "stream",
     "text": [
      "\r",
      "1/1 [==============================] - ETA: 0s"
     ]
    },
    {
     "name": "stdout",
     "output_type": "stream",
     "text": [
      "\b\b\b\b\b\b\b\b\b\b\b\b\b\b\b\b\b\b\b\b\b\b\b\b\b\b\b\b\b\b\b\b\b\b\b\b\b\b\b\b\b\b\b\b\b\b\r",
      "1/1 [==============================] - 0s 133ms/step\n"
     ]
    },
    {
     "name": "stdout",
     "output_type": "stream",
     "text": [
      "\r",
      "1/1 [==============================] - ETA: 0s"
     ]
    },
    {
     "name": "stdout",
     "output_type": "stream",
     "text": [
      "\b\b\b\b\b\b\b\b\b\b\b\b\b\b\b\b\b\b\b\b\b\b\b\b\b\b\b\b\b\b\b\b\b\b\b\b\b\b\b\b\b\b\b\b\b\b\r",
      "1/1 [==============================] - 0s 124ms/step\n"
     ]
    },
    {
     "name": "stdout",
     "output_type": "stream",
     "text": [
      "\r",
      "1/1 [==============================] - ETA: 0s"
     ]
    },
    {
     "name": "stdout",
     "output_type": "stream",
     "text": [
      "\b\b\b\b\b\b\b\b\b\b\b\b\b\b\b\b\b\b\b\b\b\b\b\b\b\b\b\b\b\b\b\b\b\b\b\b\b\b\b\b\b\b\b\b\b\b\r",
      "1/1 [==============================] - 0s 120ms/step\n"
     ]
    },
    {
     "name": "stdout",
     "output_type": "stream",
     "text": [
      "\r",
      "1/1 [==============================] - ETA: 0s"
     ]
    },
    {
     "name": "stdout",
     "output_type": "stream",
     "text": [
      "\b\b\b\b\b\b\b\b\b\b\b\b\b\b\b\b\b\b\b\b\b\b\b\b\b\b\b\b\b\b\b\b\b\b\b\b\b\b\b\b\b\b\b\b\b\b\r",
      "1/1 [==============================] - 0s 121ms/step\n"
     ]
    },
    {
     "name": "stdout",
     "output_type": "stream",
     "text": [
      "\r",
      "1/1 [==============================] - ETA: 0s"
     ]
    },
    {
     "name": "stdout",
     "output_type": "stream",
     "text": [
      "\b\b\b\b\b\b\b\b\b\b\b\b\b\b\b\b\b\b\b\b\b\b\b\b\b\b\b\b\b\b\b\b\b\b\b\b\b\b\b\b\b\b\b\b\b\b\r",
      "1/1 [==============================] - 0s 137ms/step\n"
     ]
    },
    {
     "name": "stdout",
     "output_type": "stream",
     "text": [
      "\r",
      "1/1 [==============================] - ETA: 0s"
     ]
    },
    {
     "name": "stdout",
     "output_type": "stream",
     "text": [
      "\b\b\b\b\b\b\b\b\b\b\b\b\b\b\b\b\b\b\b\b\b\b\b\b\b\b\b\b\b\b\b\b\b\b\b\b\b\b\b\b\b\b\b\b\b\b\r",
      "1/1 [==============================] - 0s 119ms/step\n"
     ]
    },
    {
     "name": "stdout",
     "output_type": "stream",
     "text": [
      "\r",
      "1/1 [==============================] - ETA: 0s"
     ]
    },
    {
     "name": "stdout",
     "output_type": "stream",
     "text": [
      "\b\b\b\b\b\b\b\b\b\b\b\b\b\b\b\b\b\b\b\b\b\b\b\b\b\b\b\b\b\b\b\b\b\b\b\b\b\b\b\b\b\b\b\b\b\b\r",
      "1/1 [==============================] - 0s 166ms/step\n"
     ]
    },
    {
     "name": "stdout",
     "output_type": "stream",
     "text": [
      "\r",
      "1/1 [==============================] - ETA: 0s"
     ]
    },
    {
     "name": "stdout",
     "output_type": "stream",
     "text": [
      "\b\b\b\b\b\b\b\b\b\b\b\b\b\b\b\b\b\b\b\b\b\b\b\b\b\b\b\b\b\b\b\b\b\b\b\b\b\b\b\b\b\b\b\b\b\b\r",
      "1/1 [==============================] - 0s 130ms/step\n"
     ]
    },
    {
     "name": "stdout",
     "output_type": "stream",
     "text": [
      "\r",
      "1/1 [==============================] - ETA: 0s"
     ]
    },
    {
     "name": "stdout",
     "output_type": "stream",
     "text": [
      "\b\b\b\b\b\b\b\b\b\b\b\b\b\b\b\b\b\b\b\b\b\b\b\b\b\b\b\b\b\b\b\b\b\b\b\b\b\b\b\b\b\b\b\b\b\b\r",
      "1/1 [==============================] - 0s 134ms/step\n"
     ]
    },
    {
     "name": "stdout",
     "output_type": "stream",
     "text": [
      "\r",
      "1/1 [==============================] - ETA: 0s"
     ]
    },
    {
     "name": "stdout",
     "output_type": "stream",
     "text": [
      "\b\b\b\b\b\b\b\b\b\b\b\b\b\b\b\b\b\b\b\b\b\b\b\b\b\b\b\b\b\b\b\b\b\b\b\b\b\b\b\b\b\b\b\b\b\b\r",
      "1/1 [==============================] - 0s 137ms/step\n"
     ]
    },
    {
     "name": "stdout",
     "output_type": "stream",
     "text": [
      "\r",
      "1/1 [==============================] - ETA: 0s"
     ]
    },
    {
     "name": "stdout",
     "output_type": "stream",
     "text": [
      "\b\b\b\b\b\b\b\b\b\b\b\b\b\b\b\b\b\b\b\b\b\b\b\b\b\b\b\b\b\b\b\b\b\b\b\b\b\b\b\b\b\b\b\b\b\b\r",
      "1/1 [==============================] - 0s 148ms/step\n"
     ]
    },
    {
     "name": "stdout",
     "output_type": "stream",
     "text": [
      "\r",
      "1/1 [==============================] - ETA: 0s"
     ]
    },
    {
     "name": "stdout",
     "output_type": "stream",
     "text": [
      "\b\b\b\b\b\b\b\b\b\b\b\b\b\b\b\b\b\b\b\b\b\b\b\b\b\b\b\b\b\b\b\b\b\b\b\b\b\b\b\b\b\b\b\b\b\b\r",
      "1/1 [==============================] - 0s 143ms/step\n"
     ]
    },
    {
     "name": "stdout",
     "output_type": "stream",
     "text": [
      "\r",
      "1/1 [==============================] - ETA: 0s"
     ]
    },
    {
     "name": "stdout",
     "output_type": "stream",
     "text": [
      "\b\b\b\b\b\b\b\b\b\b\b\b\b\b\b\b\b\b\b\b\b\b\b\b\b\b\b\b\b\b\b\b\b\b\b\b\b\b\b\b\b\b\b\b\b\b\r",
      "1/1 [==============================] - 0s 132ms/step\n"
     ]
    },
    {
     "name": "stdout",
     "output_type": "stream",
     "text": [
      "\r",
      "1/1 [==============================] - ETA: 0s"
     ]
    },
    {
     "name": "stdout",
     "output_type": "stream",
     "text": [
      "\b\b\b\b\b\b\b\b\b\b\b\b\b\b\b\b\b\b\b\b\b\b\b\b\b\b\b\b\b\b\b\b\b\b\b\b\b\b\b\b\b\b\b\b\b\b\r",
      "1/1 [==============================] - 0s 127ms/step\n"
     ]
    },
    {
     "name": "stdout",
     "output_type": "stream",
     "text": [
      "\r",
      "1/1 [==============================] - ETA: 0s"
     ]
    },
    {
     "name": "stdout",
     "output_type": "stream",
     "text": [
      "\b\b\b\b\b\b\b\b\b\b\b\b\b\b\b\b\b\b\b\b\b\b\b\b\b\b\b\b\b\b\b\b\b\b\b\b\b\b\b\b\b\b\b\b\b\b\r",
      "1/1 [==============================] - 0s 129ms/step\n"
     ]
    },
    {
     "name": "stdout",
     "output_type": "stream",
     "text": [
      "\r",
      "1/1 [==============================] - ETA: 0s"
     ]
    },
    {
     "name": "stdout",
     "output_type": "stream",
     "text": [
      "\b\b\b\b\b\b\b\b\b\b\b\b\b\b\b\b\b\b\b\b\b\b\b\b\b\b\b\b\b\b\b\b\b\b\b\b\b\b\b\b\b\b\b\b\b\b\r",
      "1/1 [==============================] - 0s 130ms/step\n"
     ]
    },
    {
     "name": "stdout",
     "output_type": "stream",
     "text": [
      "\r",
      "1/1 [==============================] - ETA: 0s"
     ]
    },
    {
     "name": "stdout",
     "output_type": "stream",
     "text": [
      "\b\b\b\b\b\b\b\b\b\b\b\b\b\b\b\b\b\b\b\b\b\b\b\b\b\b\b\b\b\b\b\b\b\b\b\b\b\b\b\b\b\b\b\b\b\b\r",
      "1/1 [==============================] - 0s 135ms/step\n"
     ]
    },
    {
     "name": "stdout",
     "output_type": "stream",
     "text": [
      "\r",
      "1/1 [==============================] - ETA: 0s"
     ]
    },
    {
     "name": "stdout",
     "output_type": "stream",
     "text": [
      "\b\b\b\b\b\b\b\b\b\b\b\b\b\b\b\b\b\b\b\b\b\b\b\b\b\b\b\b\b\b\b\b\b\b\b\b\b\b\b\b\b\b\b\b\b\b\r",
      "1/1 [==============================] - 0s 124ms/step\n"
     ]
    },
    {
     "name": "stdout",
     "output_type": "stream",
     "text": [
      "\r",
      "1/1 [==============================] - ETA: 0s"
     ]
    },
    {
     "name": "stdout",
     "output_type": "stream",
     "text": [
      "\b\b\b\b\b\b\b\b\b\b\b\b\b\b\b\b\b\b\b\b\b\b\b\b\b\b\b\b\b\b\b\b\b\b\b\b\b\b\b\b\b\b\b\b\b\b\r",
      "1/1 [==============================] - 0s 140ms/step\n"
     ]
    },
    {
     "name": "stdout",
     "output_type": "stream",
     "text": [
      "\r",
      "1/1 [==============================] - ETA: 0s"
     ]
    },
    {
     "name": "stdout",
     "output_type": "stream",
     "text": [
      "\b\b\b\b\b\b\b\b\b\b\b\b\b\b\b\b\b\b\b\b\b\b\b\b\b\b\b\b\b\b\b\b\b\b\b\b\b\b\b\b\b\b\b\b\b\b\r",
      "1/1 [==============================] - 0s 149ms/step\n"
     ]
    },
    {
     "name": "stdout",
     "output_type": "stream",
     "text": [
      "\r",
      "1/1 [==============================] - ETA: 0s"
     ]
    },
    {
     "name": "stdout",
     "output_type": "stream",
     "text": [
      "\b\b\b\b\b\b\b\b\b\b\b\b\b\b\b\b\b\b\b\b\b\b\b\b\b\b\b\b\b\b\b\b\b\b\b\b\b\b\b\b\b\b\b\b\b\b\r",
      "1/1 [==============================] - 0s 134ms/step\n"
     ]
    },
    {
     "name": "stdout",
     "output_type": "stream",
     "text": [
      "\r",
      "1/1 [==============================] - ETA: 0s"
     ]
    },
    {
     "name": "stdout",
     "output_type": "stream",
     "text": [
      "\b\b\b\b\b\b\b\b\b\b\b\b\b\b\b\b\b\b\b\b\b\b\b\b\b\b\b\b\b\b\b\b\b\b\b\b\b\b\b\b\b\b\b\b\b\b\r",
      "1/1 [==============================] - 0s 129ms/step\n"
     ]
    },
    {
     "name": "stdout",
     "output_type": "stream",
     "text": [
      "\r",
      "1/1 [==============================] - ETA: 0s"
     ]
    },
    {
     "name": "stdout",
     "output_type": "stream",
     "text": [
      "\b\b\b\b\b\b\b\b\b\b\b\b\b\b\b\b\b\b\b\b\b\b\b\b\b\b\b\b\b\b\b\b\b\b\b\b\b\b\b\b\b\b\b\b\b\b\r",
      "1/1 [==============================] - 0s 149ms/step\n"
     ]
    },
    {
     "name": "stdout",
     "output_type": "stream",
     "text": [
      "\r",
      "1/1 [==============================] - ETA: 0s"
     ]
    },
    {
     "name": "stdout",
     "output_type": "stream",
     "text": [
      "\b\b\b\b\b\b\b\b\b\b\b\b\b\b\b\b\b\b\b\b\b\b\b\b\b\b\b\b\b\b\b\b\b\b\b\b\b\b\b\b\b\b\b\b\b\b\r",
      "1/1 [==============================] - 0s 141ms/step\n"
     ]
    },
    {
     "name": "stdout",
     "output_type": "stream",
     "text": [
      "\r",
      "1/1 [==============================] - ETA: 0s"
     ]
    },
    {
     "name": "stdout",
     "output_type": "stream",
     "text": [
      "\b\b\b\b\b\b\b\b\b\b\b\b\b\b\b\b\b\b\b\b\b\b\b\b\b\b\b\b\b\b\b\b\b\b\b\b\b\b\b\b\b\b\b\b\b\b\r",
      "1/1 [==============================] - 0s 134ms/step\n"
     ]
    },
    {
     "name": "stdout",
     "output_type": "stream",
     "text": [
      "\r",
      "1/1 [==============================] - ETA: 0s"
     ]
    },
    {
     "name": "stdout",
     "output_type": "stream",
     "text": [
      "\b\b\b\b\b\b\b\b\b\b\b\b\b\b\b\b\b\b\b\b\b\b\b\b\b\b\b\b\b\b\b\b\b\b\b\b\b\b\b\b\b\b\b\b\b\b\r",
      "1/1 [==============================] - 0s 134ms/step\n"
     ]
    },
    {
     "name": "stdout",
     "output_type": "stream",
     "text": [
      "\r",
      "1/1 [==============================] - ETA: 0s"
     ]
    },
    {
     "name": "stdout",
     "output_type": "stream",
     "text": [
      "\b\b\b\b\b\b\b\b\b\b\b\b\b\b\b\b\b\b\b\b\b\b\b\b\b\b\b\b\b\b\b\b\b\b\b\b\b\b\b\b\b\b\b\b\b\b\r",
      "1/1 [==============================] - 0s 130ms/step\n"
     ]
    },
    {
     "name": "stdout",
     "output_type": "stream",
     "text": [
      "\r",
      "1/1 [==============================] - ETA: 0s"
     ]
    },
    {
     "name": "stdout",
     "output_type": "stream",
     "text": [
      "\b\b\b\b\b\b\b\b\b\b\b\b\b\b\b\b\b\b\b\b\b\b\b\b\b\b\b\b\b\b\b\b\b\b\b\b\b\b\b\b\b\b\b\b\b\b\r",
      "1/1 [==============================] - 0s 117ms/step\n"
     ]
    },
    {
     "name": "stdout",
     "output_type": "stream",
     "text": [
      "\r",
      "1/1 [==============================] - ETA: 0s"
     ]
    },
    {
     "name": "stdout",
     "output_type": "stream",
     "text": [
      "\b\b\b\b\b\b\b\b\b\b\b\b\b\b\b\b\b\b\b\b\b\b\b\b\b\b\b\b\b\b\b\b\b\b\b\b\b\b\b\b\b\b\b\b\b\b\r",
      "1/1 [==============================] - 0s 127ms/step\n"
     ]
    },
    {
     "name": "stdout",
     "output_type": "stream",
     "text": [
      "\r",
      "1/1 [==============================] - ETA: 0s"
     ]
    },
    {
     "name": "stdout",
     "output_type": "stream",
     "text": [
      "\b\b\b\b\b\b\b\b\b\b\b\b\b\b\b\b\b\b\b\b\b\b\b\b\b\b\b\b\b\b\b\b\b\b\b\b\b\b\b\b\b\b\b\b\b\b\r",
      "1/1 [==============================] - 0s 129ms/step\n"
     ]
    },
    {
     "name": "stdout",
     "output_type": "stream",
     "text": [
      "\r",
      "1/1 [==============================] - ETA: 0s"
     ]
    },
    {
     "name": "stdout",
     "output_type": "stream",
     "text": [
      "\b\b\b\b\b\b\b\b\b\b\b\b\b\b\b\b\b\b\b\b\b\b\b\b\b\b\b\b\b\b\b\b\b\b\b\b\b\b\b\b\b\b\b\b\b\b\r",
      "1/1 [==============================] - 0s 134ms/step\n"
     ]
    },
    {
     "name": "stdout",
     "output_type": "stream",
     "text": [
      "\r",
      "1/1 [==============================] - ETA: 0s"
     ]
    },
    {
     "name": "stdout",
     "output_type": "stream",
     "text": [
      "\b\b\b\b\b\b\b\b\b\b\b\b\b\b\b\b\b\b\b\b\b\b\b\b\b\b\b\b\b\b\b\b\b\b\b\b\b\b\b\b\b\b\b\b\b\b\r",
      "1/1 [==============================] - 0s 142ms/step\n"
     ]
    },
    {
     "name": "stdout",
     "output_type": "stream",
     "text": [
      "\r",
      "1/1 [==============================] - ETA: 0s"
     ]
    },
    {
     "name": "stdout",
     "output_type": "stream",
     "text": [
      "\b\b\b\b\b\b\b\b\b\b\b\b\b\b\b\b\b\b\b\b\b\b\b\b\b\b\b\b\b\b\b\b\b\b\b\b\b\b\b\b\b\b\b\b\b\b\r",
      "1/1 [==============================] - 0s 137ms/step\n"
     ]
    },
    {
     "name": "stdout",
     "output_type": "stream",
     "text": [
      "\r",
      "1/1 [==============================] - ETA: 0s"
     ]
    },
    {
     "name": "stdout",
     "output_type": "stream",
     "text": [
      "\b\b\b\b\b\b\b\b\b\b\b\b\b\b\b\b\b\b\b\b\b\b\b\b\b\b\b\b\b\b\b\b\b\b\b\b\b\b\b\b\b\b\b\b\b\b\r",
      "1/1 [==============================] - 0s 118ms/step\n"
     ]
    },
    {
     "name": "stdout",
     "output_type": "stream",
     "text": [
      "\r",
      "1/1 [==============================] - ETA: 0s"
     ]
    },
    {
     "name": "stdout",
     "output_type": "stream",
     "text": [
      "\b\b\b\b\b\b\b\b\b\b\b\b\b\b\b\b\b\b\b\b\b\b\b\b\b\b\b\b\b\b\b\b\b\b\b\b\b\b\b\b\b\b\b\b\b\b\r",
      "1/1 [==============================] - 0s 131ms/step\n"
     ]
    },
    {
     "name": "stdout",
     "output_type": "stream",
     "text": [
      "\r",
      "1/1 [==============================] - ETA: 0s"
     ]
    },
    {
     "name": "stdout",
     "output_type": "stream",
     "text": [
      "\b\b\b\b\b\b\b\b\b\b\b\b\b\b\b\b\b\b\b\b\b\b\b\b\b\b\b\b\b\b\b\b\b\b\b\b\b\b\b\b\b\b\b\b\b\b\r",
      "1/1 [==============================] - 0s 133ms/step\n"
     ]
    },
    {
     "name": "stdout",
     "output_type": "stream",
     "text": [
      "\r",
      "1/1 [==============================] - ETA: 0s"
     ]
    },
    {
     "name": "stdout",
     "output_type": "stream",
     "text": [
      "\b\b\b\b\b\b\b\b\b\b\b\b\b\b\b\b\b\b\b\b\b\b\b\b\b\b\b\b\b\b\b\b\b\b\b\b\b\b\b\b\b\b\b\b\b\b\r",
      "1/1 [==============================] - 0s 129ms/step\n"
     ]
    },
    {
     "name": "stdout",
     "output_type": "stream",
     "text": [
      "\r",
      "1/1 [==============================] - ETA: 0s"
     ]
    },
    {
     "name": "stdout",
     "output_type": "stream",
     "text": [
      "\b\b\b\b\b\b\b\b\b\b\b\b\b\b\b\b\b\b\b\b\b\b\b\b\b\b\b\b\b\b\b\b\b\b\b\b\b\b\b\b\b\b\b\b\b\b\r",
      "1/1 [==============================] - 0s 129ms/step\n"
     ]
    },
    {
     "name": "stdout",
     "output_type": "stream",
     "text": [
      "\r",
      "1/1 [==============================] - ETA: 0s"
     ]
    },
    {
     "name": "stdout",
     "output_type": "stream",
     "text": [
      "\b\b\b\b\b\b\b\b\b\b\b\b\b\b\b\b\b\b\b\b\b\b\b\b\b\b\b\b\b\b\b\b\b\b\b\b\b\b\b\b\b\b\b\b\b\b\r",
      "1/1 [==============================] - 0s 137ms/step\n"
     ]
    },
    {
     "name": "stdout",
     "output_type": "stream",
     "text": [
      "\r",
      "1/1 [==============================] - ETA: 0s"
     ]
    },
    {
     "name": "stdout",
     "output_type": "stream",
     "text": [
      "\b\b\b\b\b\b\b\b\b\b\b\b\b\b\b\b\b\b\b\b\b\b\b\b\b\b\b\b\b\b\b\b\b\b\b\b\b\b\b\b\b\b\b\b\b\b\r",
      "1/1 [==============================] - 0s 132ms/step\n"
     ]
    },
    {
     "name": "stdout",
     "output_type": "stream",
     "text": [
      "\r",
      "1/1 [==============================] - ETA: 0s"
     ]
    },
    {
     "name": "stdout",
     "output_type": "stream",
     "text": [
      "\b\b\b\b\b\b\b\b\b\b\b\b\b\b\b\b\b\b\b\b\b\b\b\b\b\b\b\b\b\b\b\b\b\b\b\b\b\b\b\b\b\b\b\b\b\b\r",
      "1/1 [==============================] - 0s 158ms/step\n"
     ]
    },
    {
     "name": "stdout",
     "output_type": "stream",
     "text": [
      "\r",
      "1/1 [==============================] - ETA: 0s"
     ]
    },
    {
     "name": "stdout",
     "output_type": "stream",
     "text": [
      "\b\b\b\b\b\b\b\b\b\b\b\b\b\b\b\b\b\b\b\b\b\b\b\b\b\b\b\b\b\b\b\b\b\b\b\b\b\b\b\b\b\b\b\b\b\b\r",
      "1/1 [==============================] - 0s 124ms/step\n"
     ]
    },
    {
     "name": "stdout",
     "output_type": "stream",
     "text": [
      "\r",
      "1/1 [==============================] - ETA: 0s"
     ]
    },
    {
     "name": "stdout",
     "output_type": "stream",
     "text": [
      "\b\b\b\b\b\b\b\b\b\b\b\b\b\b\b\b\b\b\b\b\b\b\b\b\b\b\b\b\b\b\b\b\b\b\b\b\b\b\b\b\b\b\b\b\b\b\r",
      "1/1 [==============================] - 0s 142ms/step\n"
     ]
    },
    {
     "name": "stdout",
     "output_type": "stream",
     "text": [
      "\r",
      "1/1 [==============================] - ETA: 0s"
     ]
    },
    {
     "name": "stdout",
     "output_type": "stream",
     "text": [
      "\b\b\b\b\b\b\b\b\b\b\b\b\b\b\b\b\b\b\b\b\b\b\b\b\b\b\b\b\b\b\b\b\b\b\b\b\b\b\b\b\b\b\b\b\b\b\r",
      "1/1 [==============================] - 0s 135ms/step\n"
     ]
    },
    {
     "name": "stdout",
     "output_type": "stream",
     "text": [
      "\r",
      "1/1 [==============================] - ETA: 0s"
     ]
    },
    {
     "name": "stdout",
     "output_type": "stream",
     "text": [
      "\b\b\b\b\b\b\b\b\b\b\b\b\b\b\b\b\b\b\b\b\b\b\b\b\b\b\b\b\b\b\b\b\b\b\b\b\b\b\b\b\b\b\b\b\b\b\r",
      "1/1 [==============================] - 0s 133ms/step\n"
     ]
    },
    {
     "name": "stdout",
     "output_type": "stream",
     "text": [
      "\r",
      "1/1 [==============================] - ETA: 0s"
     ]
    },
    {
     "name": "stdout",
     "output_type": "stream",
     "text": [
      "\b\b\b\b\b\b\b\b\b\b\b\b\b\b\b\b\b\b\b\b\b\b\b\b\b\b\b\b\b\b\b\b\b\b\b\b\b\b\b\b\b\b\b\b\b\b\r",
      "1/1 [==============================] - 0s 124ms/step\n"
     ]
    },
    {
     "name": "stdout",
     "output_type": "stream",
     "text": [
      "\r",
      "1/1 [==============================] - ETA: 0s"
     ]
    },
    {
     "name": "stdout",
     "output_type": "stream",
     "text": [
      "\b\b\b\b\b\b\b\b\b\b\b\b\b\b\b\b\b\b\b\b\b\b\b\b\b\b\b\b\b\b\b\b\b\b\b\b\b\b\b\b\b\b\b\b\b\b\r",
      "1/1 [==============================] - 0s 125ms/step\n"
     ]
    },
    {
     "name": "stdout",
     "output_type": "stream",
     "text": [
      "\r",
      "1/1 [==============================] - ETA: 0s"
     ]
    },
    {
     "name": "stdout",
     "output_type": "stream",
     "text": [
      "\b\b\b\b\b\b\b\b\b\b\b\b\b\b\b\b\b\b\b\b\b\b\b\b\b\b\b\b\b\b\b\b\b\b\b\b\b\b\b\b\b\b\b\b\b\b\r",
      "1/1 [==============================] - 0s 117ms/step\n"
     ]
    },
    {
     "name": "stdout",
     "output_type": "stream",
     "text": [
      "\r",
      "1/1 [==============================] - ETA: 0s"
     ]
    },
    {
     "name": "stdout",
     "output_type": "stream",
     "text": [
      "\b\b\b\b\b\b\b\b\b\b\b\b\b\b\b\b\b\b\b\b\b\b\b\b\b\b\b\b\b\b\b\b\b\b\b\b\b\b\b\b\b\b\b\b\b\b\r",
      "1/1 [==============================] - 0s 144ms/step\n"
     ]
    },
    {
     "name": "stdout",
     "output_type": "stream",
     "text": [
      "\r",
      "1/1 [==============================] - ETA: 0s"
     ]
    },
    {
     "name": "stdout",
     "output_type": "stream",
     "text": [
      "\b\b\b\b\b\b\b\b\b\b\b\b\b\b\b\b\b\b\b\b\b\b\b\b\b\b\b\b\b\b\b\b\b\b\b\b\b\b\b\b\b\b\b\b\b\b\r",
      "1/1 [==============================] - 0s 123ms/step\n"
     ]
    },
    {
     "name": "stdout",
     "output_type": "stream",
     "text": [
      "\r",
      "1/1 [==============================] - ETA: 0s"
     ]
    },
    {
     "name": "stdout",
     "output_type": "stream",
     "text": [
      "\b\b\b\b\b\b\b\b\b\b\b\b\b\b\b\b\b\b\b\b\b\b\b\b\b\b\b\b\b\b\b\b\b\b\b\b\b\b\b\b\b\b\b\b\b\b\r",
      "1/1 [==============================] - 0s 118ms/step\n"
     ]
    },
    {
     "name": "stdout",
     "output_type": "stream",
     "text": [
      "\r",
      "1/1 [==============================] - ETA: 0s"
     ]
    },
    {
     "name": "stdout",
     "output_type": "stream",
     "text": [
      "\b\b\b\b\b\b\b\b\b\b\b\b\b\b\b\b\b\b\b\b\b\b\b\b\b\b\b\b\b\b\b\b\b\b\b\b\b\b\b\b\b\b\b\b\b\b\r",
      "1/1 [==============================] - 0s 126ms/step\n"
     ]
    },
    {
     "name": "stdout",
     "output_type": "stream",
     "text": [
      "\r",
      "1/1 [==============================] - ETA: 0s"
     ]
    },
    {
     "name": "stdout",
     "output_type": "stream",
     "text": [
      "\b\b\b\b\b\b\b\b\b\b\b\b\b\b\b\b\b\b\b\b\b\b\b\b\b\b\b\b\b\b\b\b\b\b\b\b\b\b\b\b\b\b\b\b\b\b\r",
      "1/1 [==============================] - 0s 130ms/step\n"
     ]
    },
    {
     "name": "stdout",
     "output_type": "stream",
     "text": [
      "\r",
      "1/1 [==============================] - ETA: 0s"
     ]
    },
    {
     "name": "stdout",
     "output_type": "stream",
     "text": [
      "\b\b\b\b\b\b\b\b\b\b\b\b\b\b\b\b\b\b\b\b\b\b\b\b\b\b\b\b\b\b\b\b\b\b\b\b\b\b\b\b\b\b\b\b\b\b\r",
      "1/1 [==============================] - 0s 127ms/step\n"
     ]
    },
    {
     "name": "stdout",
     "output_type": "stream",
     "text": [
      "\r",
      "1/1 [==============================] - ETA: 0s"
     ]
    },
    {
     "name": "stdout",
     "output_type": "stream",
     "text": [
      "\b\b\b\b\b\b\b\b\b\b\b\b\b\b\b\b\b\b\b\b\b\b\b\b\b\b\b\b\b\b\b\b\b\b\b\b\b\b\b\b\b\b\b\b\b\b\r",
      "1/1 [==============================] - 0s 133ms/step\n"
     ]
    },
    {
     "name": "stdout",
     "output_type": "stream",
     "text": [
      "\r",
      "1/1 [==============================] - ETA: 0s"
     ]
    },
    {
     "name": "stdout",
     "output_type": "stream",
     "text": [
      "\b\b\b\b\b\b\b\b\b\b\b\b\b\b\b\b\b\b\b\b\b\b\b\b\b\b\b\b\b\b\b\b\b\b\b\b\b\b\b\b\b\b\b\b\b\b\r",
      "1/1 [==============================] - 0s 133ms/step\n"
     ]
    },
    {
     "name": "stdout",
     "output_type": "stream",
     "text": [
      "\r",
      "1/1 [==============================] - ETA: 0s"
     ]
    },
    {
     "name": "stdout",
     "output_type": "stream",
     "text": [
      "\b\b\b\b\b\b\b\b\b\b\b\b\b\b\b\b\b\b\b\b\b\b\b\b\b\b\b\b\b\b\b\b\b\b\b\b\b\b\b\b\b\b\b\b\b\b\r",
      "1/1 [==============================] - 0s 126ms/step\n"
     ]
    },
    {
     "name": "stdout",
     "output_type": "stream",
     "text": [
      "\r",
      "1/1 [==============================] - ETA: 0s"
     ]
    },
    {
     "name": "stdout",
     "output_type": "stream",
     "text": [
      "\b\b\b\b\b\b\b\b\b\b\b\b\b\b\b\b\b\b\b\b\b\b\b\b\b\b\b\b\b\b\b\b\b\b\b\b\b\b\b\b\b\b\b\b\b\b\r",
      "1/1 [==============================] - 0s 131ms/step\n"
     ]
    },
    {
     "name": "stdout",
     "output_type": "stream",
     "text": [
      "\r",
      "1/1 [==============================] - ETA: 0s"
     ]
    },
    {
     "name": "stdout",
     "output_type": "stream",
     "text": [
      "\b\b\b\b\b\b\b\b\b\b\b\b\b\b\b\b\b\b\b\b\b\b\b\b\b\b\b\b\b\b\b\b\b\b\b\b\b\b\b\b\b\b\b\b\b\b\r",
      "1/1 [==============================] - 0s 129ms/step\n"
     ]
    },
    {
     "name": "stdout",
     "output_type": "stream",
     "text": [
      "\r",
      "1/1 [==============================] - ETA: 0s"
     ]
    },
    {
     "name": "stdout",
     "output_type": "stream",
     "text": [
      "\b\b\b\b\b\b\b\b\b\b\b\b\b\b\b\b\b\b\b\b\b\b\b\b\b\b\b\b\b\b\b\b\b\b\b\b\b\b\b\b\b\b\b\b\b\b\r",
      "1/1 [==============================] - 0s 132ms/step\n"
     ]
    },
    {
     "name": "stdout",
     "output_type": "stream",
     "text": [
      "\r",
      "1/1 [==============================] - ETA: 0s"
     ]
    },
    {
     "name": "stdout",
     "output_type": "stream",
     "text": [
      "\b\b\b\b\b\b\b\b\b\b\b\b\b\b\b\b\b\b\b\b\b\b\b\b\b\b\b\b\b\b\b\b\b\b\b\b\b\b\b\b\b\b\b\b\b\b\r",
      "1/1 [==============================] - 0s 139ms/step\n"
     ]
    },
    {
     "name": "stdout",
     "output_type": "stream",
     "text": [
      "\r",
      "1/1 [==============================] - ETA: 0s"
     ]
    },
    {
     "name": "stdout",
     "output_type": "stream",
     "text": [
      "\b\b\b\b\b\b\b\b\b\b\b\b\b\b\b\b\b\b\b\b\b\b\b\b\b\b\b\b\b\b\b\b\b\b\b\b\b\b\b\b\b\b\b\b\b\b\r",
      "1/1 [==============================] - 0s 131ms/step\n"
     ]
    },
    {
     "name": "stdout",
     "output_type": "stream",
     "text": [
      "\r",
      "1/1 [==============================] - ETA: 0s"
     ]
    },
    {
     "name": "stdout",
     "output_type": "stream",
     "text": [
      "\b\b\b\b\b\b\b\b\b\b\b\b\b\b\b\b\b\b\b\b\b\b\b\b\b\b\b\b\b\b\b\b\b\b\b\b\b\b\b\b\b\b\b\b\b\b\r",
      "1/1 [==============================] - 0s 125ms/step\n"
     ]
    },
    {
     "name": "stdout",
     "output_type": "stream",
     "text": [
      "\r",
      "1/1 [==============================] - ETA: 0s"
     ]
    },
    {
     "name": "stdout",
     "output_type": "stream",
     "text": [
      "\b\b\b\b\b\b\b\b\b\b\b\b\b\b\b\b\b\b\b\b\b\b\b\b\b\b\b\b\b\b\b\b\b\b\b\b\b\b\b\b\b\b\b\b\b\b\r",
      "1/1 [==============================] - 0s 129ms/step\n"
     ]
    },
    {
     "name": "stdout",
     "output_type": "stream",
     "text": [
      "\r",
      "1/1 [==============================] - ETA: 0s"
     ]
    },
    {
     "name": "stdout",
     "output_type": "stream",
     "text": [
      "\b\b\b\b\b\b\b\b\b\b\b\b\b\b\b\b\b\b\b\b\b\b\b\b\b\b\b\b\b\b\b\b\b\b\b\b\b\b\b\b\b\b\b\b\b\b\r",
      "1/1 [==============================] - 0s 116ms/step\n"
     ]
    },
    {
     "name": "stdout",
     "output_type": "stream",
     "text": [
      "\r",
      "1/1 [==============================] - ETA: 0s"
     ]
    },
    {
     "name": "stdout",
     "output_type": "stream",
     "text": [
      "\b\b\b\b\b\b\b\b\b\b\b\b\b\b\b\b\b\b\b\b\b\b\b\b\b\b\b\b\b\b\b\b\b\b\b\b\b\b\b\b\b\b\b\b\b\b\r",
      "1/1 [==============================] - 0s 132ms/step\n"
     ]
    },
    {
     "name": "stdout",
     "output_type": "stream",
     "text": [
      "\r",
      "1/1 [==============================] - ETA: 0s"
     ]
    },
    {
     "name": "stdout",
     "output_type": "stream",
     "text": [
      "\b\b\b\b\b\b\b\b\b\b\b\b\b\b\b\b\b\b\b\b\b\b\b\b\b\b\b\b\b\b\b\b\b\b\b\b\b\b\b\b\b\b\b\b\b\b\r",
      "1/1 [==============================] - 0s 132ms/step\n"
     ]
    },
    {
     "name": "stdout",
     "output_type": "stream",
     "text": [
      "\r",
      "1/1 [==============================] - ETA: 0s"
     ]
    },
    {
     "name": "stdout",
     "output_type": "stream",
     "text": [
      "\b\b\b\b\b\b\b\b\b\b\b\b\b\b\b\b\b\b\b\b\b\b\b\b\b\b\b\b\b\b\b\b\b\b\b\b\b\b\b\b\b\b\b\b\b\b\r",
      "1/1 [==============================] - 0s 121ms/step\n"
     ]
    },
    {
     "name": "stdout",
     "output_type": "stream",
     "text": [
      "\r",
      "1/1 [==============================] - ETA: 0s"
     ]
    },
    {
     "name": "stdout",
     "output_type": "stream",
     "text": [
      "\b\b\b\b\b\b\b\b\b\b\b\b\b\b\b\b\b\b\b\b\b\b\b\b\b\b\b\b\b\b\b\b\b\b\b\b\b\b\b\b\b\b\b\b\b\b\r",
      "1/1 [==============================] - 0s 131ms/step\n"
     ]
    },
    {
     "name": "stdout",
     "output_type": "stream",
     "text": [
      "\r",
      "1/1 [==============================] - ETA: 0s"
     ]
    },
    {
     "name": "stdout",
     "output_type": "stream",
     "text": [
      "\b\b\b\b\b\b\b\b\b\b\b\b\b\b\b\b\b\b\b\b\b\b\b\b\b\b\b\b\b\b\b\b\b\b\b\b\b\b\b\b\b\b\b\b\b\b\r",
      "1/1 [==============================] - 0s 116ms/step\n"
     ]
    },
    {
     "name": "stdout",
     "output_type": "stream",
     "text": [
      "\r",
      "1/1 [==============================] - ETA: 0s"
     ]
    },
    {
     "name": "stdout",
     "output_type": "stream",
     "text": [
      "\b\b\b\b\b\b\b\b\b\b\b\b\b\b\b\b\b\b\b\b\b\b\b\b\b\b\b\b\b\b\b\b\b\b\b\b\b\b\b\b\b\b\b\b\b\b\r",
      "1/1 [==============================] - 0s 128ms/step\n"
     ]
    },
    {
     "name": "stdout",
     "output_type": "stream",
     "text": [
      "\r",
      "1/1 [==============================] - ETA: 0s"
     ]
    },
    {
     "name": "stdout",
     "output_type": "stream",
     "text": [
      "\b\b\b\b\b\b\b\b\b\b\b\b\b\b\b\b\b\b\b\b\b\b\b\b\b\b\b\b\b\b\b\b\b\b\b\b\b\b\b\b\b\b\b\b\b\b\r",
      "1/1 [==============================] - 0s 124ms/step\n"
     ]
    },
    {
     "name": "stdout",
     "output_type": "stream",
     "text": [
      "\r",
      "1/1 [==============================] - ETA: 0s"
     ]
    },
    {
     "name": "stdout",
     "output_type": "stream",
     "text": [
      "\b\b\b\b\b\b\b\b\b\b\b\b\b\b\b\b\b\b\b\b\b\b\b\b\b\b\b\b\b\b\b\b\b\b\b\b\b\b\b\b\b\b\b\b\b\b\r",
      "1/1 [==============================] - 0s 117ms/step\n"
     ]
    },
    {
     "name": "stdout",
     "output_type": "stream",
     "text": [
      "\r",
      "1/1 [==============================] - ETA: 0s"
     ]
    },
    {
     "name": "stdout",
     "output_type": "stream",
     "text": [
      "\b\b\b\b\b\b\b\b\b\b\b\b\b\b\b\b\b\b\b\b\b\b\b\b\b\b\b\b\b\b\b\b\b\b\b\b\b\b\b\b\b\b\b\b\b\b\r",
      "1/1 [==============================] - 0s 143ms/step\n"
     ]
    },
    {
     "name": "stdout",
     "output_type": "stream",
     "text": [
      "\r",
      "1/1 [==============================] - ETA: 0s"
     ]
    },
    {
     "name": "stdout",
     "output_type": "stream",
     "text": [
      "\b\b\b\b\b\b\b\b\b\b\b\b\b\b\b\b\b\b\b\b\b\b\b\b\b\b\b\b\b\b\b\b\b\b\b\b\b\b\b\b\b\b\b\b\b\b\r",
      "1/1 [==============================] - 0s 112ms/step\n"
     ]
    },
    {
     "name": "stdout",
     "output_type": "stream",
     "text": [
      "\r",
      "1/1 [==============================] - ETA: 0s"
     ]
    },
    {
     "name": "stdout",
     "output_type": "stream",
     "text": [
      "\b\b\b\b\b\b\b\b\b\b\b\b\b\b\b\b\b\b\b\b\b\b\b\b\b\b\b\b\b\b\b\b\b\b\b\b\b\b\b\b\b\b\b\b\b\b\r",
      "1/1 [==============================] - 0s 129ms/step\n"
     ]
    },
    {
     "name": "stdout",
     "output_type": "stream",
     "text": [
      "\r",
      "1/1 [==============================] - ETA: 0s"
     ]
    },
    {
     "name": "stdout",
     "output_type": "stream",
     "text": [
      "\b\b\b\b\b\b\b\b\b\b\b\b\b\b\b\b\b\b\b\b\b\b\b\b\b\b\b\b\b\b\b\b\b\b\b\b\b\b\b\b\b\b\b\b\b\b\r",
      "1/1 [==============================] - 0s 123ms/step\n"
     ]
    },
    {
     "name": "stdout",
     "output_type": "stream",
     "text": [
      "\r",
      "1/1 [==============================] - ETA: 0s"
     ]
    },
    {
     "name": "stdout",
     "output_type": "stream",
     "text": [
      "\b\b\b\b\b\b\b\b\b\b\b\b\b\b\b\b\b\b\b\b\b\b\b\b\b\b\b\b\b\b\b\b\b\b\b\b\b\b\b\b\b\b\b\b\b\b\r",
      "1/1 [==============================] - 0s 138ms/step\n"
     ]
    },
    {
     "name": "stdout",
     "output_type": "stream",
     "text": [
      "\r",
      "1/1 [==============================] - ETA: 0s"
     ]
    },
    {
     "name": "stdout",
     "output_type": "stream",
     "text": [
      "\b\b\b\b\b\b\b\b\b\b\b\b\b\b\b\b\b\b\b\b\b\b\b\b\b\b\b\b\b\b\b\b\b\b\b\b\b\b\b\b\b\b\b\b\b\b\r",
      "1/1 [==============================] - 0s 114ms/step\n"
     ]
    },
    {
     "name": "stdout",
     "output_type": "stream",
     "text": [
      "\r",
      "1/1 [==============================] - ETA: 0s"
     ]
    },
    {
     "name": "stdout",
     "output_type": "stream",
     "text": [
      "\b\b\b\b\b\b\b\b\b\b\b\b\b\b\b\b\b\b\b\b\b\b\b\b\b\b\b\b\b\b\b\b\b\b\b\b\b\b\b\b\b\b\b\b\b\b\r",
      "1/1 [==============================] - 0s 112ms/step\n"
     ]
    },
    {
     "name": "stdout",
     "output_type": "stream",
     "text": [
      "\r",
      "1/1 [==============================] - ETA: 0s"
     ]
    },
    {
     "name": "stdout",
     "output_type": "stream",
     "text": [
      "\b\b\b\b\b\b\b\b\b\b\b\b\b\b\b\b\b\b\b\b\b\b\b\b\b\b\b\b\b\b\b\b\b\b\b\b\b\b\b\b\b\b\b\b\b\b\r",
      "1/1 [==============================] - 0s 118ms/step\n"
     ]
    },
    {
     "name": "stdout",
     "output_type": "stream",
     "text": [
      "\r",
      "1/1 [==============================] - ETA: 0s"
     ]
    },
    {
     "name": "stdout",
     "output_type": "stream",
     "text": [
      "\b\b\b\b\b\b\b\b\b\b\b\b\b\b\b\b\b\b\b\b\b\b\b\b\b\b\b\b\b\b\b\b\b\b\b\b\b\b\b\b\b\b\b\b\b\b\r",
      "1/1 [==============================] - 0s 115ms/step\n"
     ]
    },
    {
     "name": "stdout",
     "output_type": "stream",
     "text": [
      "\r",
      "1/1 [==============================] - ETA: 0s"
     ]
    },
    {
     "name": "stdout",
     "output_type": "stream",
     "text": [
      "\b\b\b\b\b\b\b\b\b\b\b\b\b\b\b\b\b\b\b\b\b\b\b\b\b\b\b\b\b\b\b\b\b\b\b\b\b\b\b\b\b\b\b\b\b\b\r",
      "1/1 [==============================] - 0s 140ms/step\n"
     ]
    },
    {
     "name": "stdout",
     "output_type": "stream",
     "text": [
      "\r",
      "1/1 [==============================] - ETA: 0s"
     ]
    },
    {
     "name": "stdout",
     "output_type": "stream",
     "text": [
      "\b\b\b\b\b\b\b\b\b\b\b\b\b\b\b\b\b\b\b\b\b\b\b\b\b\b\b\b\b\b\b\b\b\b\b\b\b\b\b\b\b\b\b\b\b\b\r",
      "1/1 [==============================] - 0s 129ms/step\n"
     ]
    },
    {
     "name": "stdout",
     "output_type": "stream",
     "text": [
      "\r",
      "1/1 [==============================] - ETA: 0s"
     ]
    },
    {
     "name": "stdout",
     "output_type": "stream",
     "text": [
      "\b\b\b\b\b\b\b\b\b\b\b\b\b\b\b\b\b\b\b\b\b\b\b\b\b\b\b\b\b\b\b\b\b\b\b\b\b\b\b\b\b\b\b\b\b\b\r",
      "1/1 [==============================] - 0s 129ms/step\n"
     ]
    },
    {
     "name": "stdout",
     "output_type": "stream",
     "text": [
      "\r",
      "1/1 [==============================] - ETA: 0s"
     ]
    },
    {
     "name": "stdout",
     "output_type": "stream",
     "text": [
      "\b\b\b\b\b\b\b\b\b\b\b\b\b\b\b\b\b\b\b\b\b\b\b\b\b\b\b\b\b\b\b\b\b\b\b\b\b\b\b\b\b\b\b\b\b\b\r",
      "1/1 [==============================] - 0s 117ms/step\n"
     ]
    },
    {
     "name": "stdout",
     "output_type": "stream",
     "text": [
      "\r",
      "1/1 [==============================] - ETA: 0s"
     ]
    },
    {
     "name": "stdout",
     "output_type": "stream",
     "text": [
      "\b\b\b\b\b\b\b\b\b\b\b\b\b\b\b\b\b\b\b\b\b\b\b\b\b\b\b\b\b\b\b\b\b\b\b\b\b\b\b\b\b\b\b\b\b\b\r",
      "1/1 [==============================] - 0s 139ms/step\n"
     ]
    },
    {
     "name": "stdout",
     "output_type": "stream",
     "text": [
      "\r",
      "1/1 [==============================] - ETA: 0s"
     ]
    },
    {
     "name": "stdout",
     "output_type": "stream",
     "text": [
      "\b\b\b\b\b\b\b\b\b\b\b\b\b\b\b\b\b\b\b\b\b\b\b\b\b\b\b\b\b\b\b\b\b\b\b\b\b\b\b\b\b\b\b\b\b\b\r",
      "1/1 [==============================] - 0s 126ms/step\n"
     ]
    },
    {
     "name": "stdout",
     "output_type": "stream",
     "text": [
      "\r",
      "1/1 [==============================] - ETA: 0s"
     ]
    },
    {
     "name": "stdout",
     "output_type": "stream",
     "text": [
      "\b\b\b\b\b\b\b\b\b\b\b\b\b\b\b\b\b\b\b\b\b\b\b\b\b\b\b\b\b\b\b\b\b\b\b\b\b\b\b\b\b\b\b\b\b\b\r",
      "1/1 [==============================] - 0s 120ms/step\n"
     ]
    },
    {
     "name": "stdout",
     "output_type": "stream",
     "text": [
      "\r",
      "1/1 [==============================] - ETA: 0s"
     ]
    },
    {
     "name": "stdout",
     "output_type": "stream",
     "text": [
      "\b\b\b\b\b\b\b\b\b\b\b\b\b\b\b\b\b\b\b\b\b\b\b\b\b\b\b\b\b\b\b\b\b\b\b\b\b\b\b\b\b\b\b\b\b\b\r",
      "1/1 [==============================] - 0s 122ms/step\n"
     ]
    },
    {
     "name": "stdout",
     "output_type": "stream",
     "text": [
      "\r",
      "1/1 [==============================] - ETA: 0s"
     ]
    },
    {
     "name": "stdout",
     "output_type": "stream",
     "text": [
      "\b\b\b\b\b\b\b\b\b\b\b\b\b\b\b\b\b\b\b\b\b\b\b\b\b\b\b\b\b\b\b\b\b\b\b\b\b\b\b\b\b\b\b\b\b\b\r",
      "1/1 [==============================] - 0s 119ms/step\n"
     ]
    },
    {
     "name": "stdout",
     "output_type": "stream",
     "text": [
      "\r",
      "1/1 [==============================] - ETA: 0s"
     ]
    },
    {
     "name": "stdout",
     "output_type": "stream",
     "text": [
      "\b\b\b\b\b\b\b\b\b\b\b\b\b\b\b\b\b\b\b\b\b\b\b\b\b\b\b\b\b\b\b\b\b\b\b\b\b\b\b\b\b\b\b\b\b\b\r",
      "1/1 [==============================] - 0s 119ms/step\n"
     ]
    },
    {
     "name": "stdout",
     "output_type": "stream",
     "text": [
      "\r",
      "1/1 [==============================] - ETA: 0s"
     ]
    },
    {
     "name": "stdout",
     "output_type": "stream",
     "text": [
      "\b\b\b\b\b\b\b\b\b\b\b\b\b\b\b\b\b\b\b\b\b\b\b\b\b\b\b\b\b\b\b\b\b\b\b\b\b\b\b\b\b\b\b\b\b\b\r",
      "1/1 [==============================] - 0s 117ms/step\n"
     ]
    },
    {
     "name": "stdout",
     "output_type": "stream",
     "text": [
      "\r",
      "1/1 [==============================] - ETA: 0s"
     ]
    },
    {
     "name": "stdout",
     "output_type": "stream",
     "text": [
      "\b\b\b\b\b\b\b\b\b\b\b\b\b\b\b\b\b\b\b\b\b\b\b\b\b\b\b\b\b\b\b\b\b\b\b\b\b\b\b\b\b\b\b\b\b\b\r",
      "1/1 [==============================] - 0s 124ms/step\n"
     ]
    },
    {
     "name": "stdout",
     "output_type": "stream",
     "text": [
      "\r",
      "1/1 [==============================] - ETA: 0s"
     ]
    },
    {
     "name": "stdout",
     "output_type": "stream",
     "text": [
      "\b\b\b\b\b\b\b\b\b\b\b\b\b\b\b\b\b\b\b\b\b\b\b\b\b\b\b\b\b\b\b\b\b\b\b\b\b\b\b\b\b\b\b\b\b\b\r",
      "1/1 [==============================] - 0s 127ms/step\n"
     ]
    },
    {
     "name": "stdout",
     "output_type": "stream",
     "text": [
      "\r",
      "1/1 [==============================] - ETA: 0s"
     ]
    },
    {
     "name": "stdout",
     "output_type": "stream",
     "text": [
      "\b\b\b\b\b\b\b\b\b\b\b\b\b\b\b\b\b\b\b\b\b\b\b\b\b\b\b\b\b\b\b\b\b\b\b\b\b\b\b\b\b\b\b\b\b\b\r",
      "1/1 [==============================] - 0s 136ms/step\n"
     ]
    },
    {
     "name": "stdout",
     "output_type": "stream",
     "text": [
      "\r",
      "1/1 [==============================] - ETA: 0s"
     ]
    },
    {
     "name": "stdout",
     "output_type": "stream",
     "text": [
      "\b\b\b\b\b\b\b\b\b\b\b\b\b\b\b\b\b\b\b\b\b\b\b\b\b\b\b\b\b\b\b\b\b\b\b\b\b\b\b\b\b\b\b\b\b\b\r",
      "1/1 [==============================] - 0s 129ms/step\n"
     ]
    },
    {
     "name": "stdout",
     "output_type": "stream",
     "text": [
      "\r",
      "1/1 [==============================] - ETA: 0s"
     ]
    },
    {
     "name": "stdout",
     "output_type": "stream",
     "text": [
      "\b\b\b\b\b\b\b\b\b\b\b\b\b\b\b\b\b\b\b\b\b\b\b\b\b\b\b\b\b\b\b\b\b\b\b\b\b\b\b\b\b\b\b\b\b\b\r",
      "1/1 [==============================] - 0s 135ms/step\n"
     ]
    },
    {
     "name": "stdout",
     "output_type": "stream",
     "text": [
      "\r",
      "1/1 [==============================] - ETA: 0s"
     ]
    },
    {
     "name": "stdout",
     "output_type": "stream",
     "text": [
      "\b\b\b\b\b\b\b\b\b\b\b\b\b\b\b\b\b\b\b\b\b\b\b\b\b\b\b\b\b\b\b\b\b\b\b\b\b\b\b\b\b\b\b\b\b\b\r",
      "1/1 [==============================] - 0s 123ms/step\n"
     ]
    },
    {
     "name": "stdout",
     "output_type": "stream",
     "text": [
      "\r",
      "1/1 [==============================] - ETA: 0s"
     ]
    },
    {
     "name": "stdout",
     "output_type": "stream",
     "text": [
      "\b\b\b\b\b\b\b\b\b\b\b\b\b\b\b\b\b\b\b\b\b\b\b\b\b\b\b\b\b\b\b\b\b\b\b\b\b\b\b\b\b\b\b\b\b\b\r",
      "1/1 [==============================] - 0s 126ms/step\n"
     ]
    },
    {
     "name": "stdout",
     "output_type": "stream",
     "text": [
      "\r",
      "1/1 [==============================] - ETA: 0s"
     ]
    },
    {
     "name": "stdout",
     "output_type": "stream",
     "text": [
      "\b\b\b\b\b\b\b\b\b\b\b\b\b\b\b\b\b\b\b\b\b\b\b\b\b\b\b\b\b\b\b\b\b\b\b\b\b\b\b\b\b\b\b\b\b\b\r",
      "1/1 [==============================] - 0s 119ms/step\n"
     ]
    },
    {
     "name": "stdout",
     "output_type": "stream",
     "text": [
      "\r",
      "1/1 [==============================] - ETA: 0s"
     ]
    },
    {
     "name": "stdout",
     "output_type": "stream",
     "text": [
      "\b\b\b\b\b\b\b\b\b\b\b\b\b\b\b\b\b\b\b\b\b\b\b\b\b\b\b\b\b\b\b\b\b\b\b\b\b\b\b\b\b\b\b\b\b\b\r",
      "1/1 [==============================] - 0s 135ms/step\n"
     ]
    },
    {
     "name": "stdout",
     "output_type": "stream",
     "text": [
      "\r",
      "1/1 [==============================] - ETA: 0s"
     ]
    },
    {
     "name": "stdout",
     "output_type": "stream",
     "text": [
      "\b\b\b\b\b\b\b\b\b\b\b\b\b\b\b\b\b\b\b\b\b\b\b\b\b\b\b\b\b\b\b\b\b\b\b\b\b\b\b\b\b\b\b\b\b\b\r",
      "1/1 [==============================] - 0s 132ms/step\n"
     ]
    },
    {
     "name": "stdout",
     "output_type": "stream",
     "text": [
      "\r",
      "1/1 [==============================] - ETA: 0s"
     ]
    },
    {
     "name": "stdout",
     "output_type": "stream",
     "text": [
      "\b\b\b\b\b\b\b\b\b\b\b\b\b\b\b\b\b\b\b\b\b\b\b\b\b\b\b\b\b\b\b\b\b\b\b\b\b\b\b\b\b\b\b\b\b\b\r",
      "1/1 [==============================] - 0s 136ms/step\n"
     ]
    },
    {
     "name": "stdout",
     "output_type": "stream",
     "text": [
      "\r",
      "1/1 [==============================] - ETA: 0s"
     ]
    },
    {
     "name": "stdout",
     "output_type": "stream",
     "text": [
      "\b\b\b\b\b\b\b\b\b\b\b\b\b\b\b\b\b\b\b\b\b\b\b\b\b\b\b\b\b\b\b\b\b\b\b\b\b\b\b\b\b\b\b\b\b\b\r",
      "1/1 [==============================] - 0s 131ms/step\n"
     ]
    },
    {
     "name": "stdout",
     "output_type": "stream",
     "text": [
      "\r",
      "1/1 [==============================] - ETA: 0s"
     ]
    },
    {
     "name": "stdout",
     "output_type": "stream",
     "text": [
      "\b\b\b\b\b\b\b\b\b\b\b\b\b\b\b\b\b\b\b\b\b\b\b\b\b\b\b\b\b\b\b\b\b\b\b\b\b\b\b\b\b\b\b\b\b\b\r",
      "1/1 [==============================] - 0s 123ms/step\n"
     ]
    },
    {
     "name": "stdout",
     "output_type": "stream",
     "text": [
      "\r",
      "1/1 [==============================] - ETA: 0s"
     ]
    },
    {
     "name": "stdout",
     "output_type": "stream",
     "text": [
      "\b\b\b\b\b\b\b\b\b\b\b\b\b\b\b\b\b\b\b\b\b\b\b\b\b\b\b\b\b\b\b\b\b\b\b\b\b\b\b\b\b\b\b\b\b\b\r",
      "1/1 [==============================] - 0s 136ms/step\n"
     ]
    },
    {
     "name": "stdout",
     "output_type": "stream",
     "text": [
      "\r",
      "1/1 [==============================] - ETA: 0s"
     ]
    },
    {
     "name": "stdout",
     "output_type": "stream",
     "text": [
      "\b\b\b\b\b\b\b\b\b\b\b\b\b\b\b\b\b\b\b\b\b\b\b\b\b\b\b\b\b\b\b\b\b\b\b\b\b\b\b\b\b\b\b\b\b\b\r",
      "1/1 [==============================] - 0s 126ms/step\n"
     ]
    },
    {
     "name": "stdout",
     "output_type": "stream",
     "text": [
      "\r",
      "1/1 [==============================] - ETA: 0s"
     ]
    },
    {
     "name": "stdout",
     "output_type": "stream",
     "text": [
      "\b\b\b\b\b\b\b\b\b\b\b\b\b\b\b\b\b\b\b\b\b\b\b\b\b\b\b\b\b\b\b\b\b\b\b\b\b\b\b\b\b\b\b\b\b\b\r",
      "1/1 [==============================] - 0s 128ms/step\n"
     ]
    },
    {
     "name": "stdout",
     "output_type": "stream",
     "text": [
      "\r",
      "1/1 [==============================] - ETA: 0s"
     ]
    },
    {
     "name": "stdout",
     "output_type": "stream",
     "text": [
      "\b\b\b\b\b\b\b\b\b\b\b\b\b\b\b\b\b\b\b\b\b\b\b\b\b\b\b\b\b\b\b\b\b\b\b\b\b\b\b\b\b\b\b\b\b\b\r",
      "1/1 [==============================] - 0s 123ms/step\n"
     ]
    },
    {
     "name": "stdout",
     "output_type": "stream",
     "text": [
      "\r",
      "1/1 [==============================] - ETA: 0s"
     ]
    },
    {
     "name": "stdout",
     "output_type": "stream",
     "text": [
      "\b\b\b\b\b\b\b\b\b\b\b\b\b\b\b\b\b\b\b\b\b\b\b\b\b\b\b\b\b\b\b\b\b\b\b\b\b\b\b\b\b\b\b\b\b\b\r",
      "1/1 [==============================] - 0s 127ms/step\n"
     ]
    },
    {
     "name": "stdout",
     "output_type": "stream",
     "text": [
      "\r",
      "1/1 [==============================] - ETA: 0s"
     ]
    },
    {
     "name": "stdout",
     "output_type": "stream",
     "text": [
      "\b\b\b\b\b\b\b\b\b\b\b\b\b\b\b\b\b\b\b\b\b\b\b\b\b\b\b\b\b\b\b\b\b\b\b\b\b\b\b\b\b\b\b\b\b\b\r",
      "1/1 [==============================] - 0s 121ms/step\n"
     ]
    },
    {
     "name": "stdout",
     "output_type": "stream",
     "text": [
      "\r",
      "1/1 [==============================] - ETA: 0s"
     ]
    },
    {
     "name": "stdout",
     "output_type": "stream",
     "text": [
      "\b\b\b\b\b\b\b\b\b\b\b\b\b\b\b\b\b\b\b\b\b\b\b\b\b\b\b\b\b\b\b\b\b\b\b\b\b\b\b\b\b\b\b\b\b\b\r",
      "1/1 [==============================] - 0s 133ms/step\n"
     ]
    },
    {
     "name": "stdout",
     "output_type": "stream",
     "text": [
      "\r",
      "1/1 [==============================] - ETA: 0s"
     ]
    },
    {
     "name": "stdout",
     "output_type": "stream",
     "text": [
      "\b\b\b\b\b\b\b\b\b\b\b\b\b\b\b\b\b\b\b\b\b\b\b\b\b\b\b\b\b\b\b\b\b\b\b\b\b\b\b\b\b\b\b\b\b\b\r",
      "1/1 [==============================] - 0s 129ms/step\n"
     ]
    },
    {
     "name": "stdout",
     "output_type": "stream",
     "text": [
      "\r",
      "1/1 [==============================] - ETA: 0s"
     ]
    },
    {
     "name": "stdout",
     "output_type": "stream",
     "text": [
      "\b\b\b\b\b\b\b\b\b\b\b\b\b\b\b\b\b\b\b\b\b\b\b\b\b\b\b\b\b\b\b\b\b\b\b\b\b\b\b\b\b\b\b\b\b\b\r",
      "1/1 [==============================] - 0s 121ms/step\n"
     ]
    },
    {
     "name": "stdout",
     "output_type": "stream",
     "text": [
      "\r",
      "1/1 [==============================] - ETA: 0s"
     ]
    },
    {
     "name": "stdout",
     "output_type": "stream",
     "text": [
      "\b\b\b\b\b\b\b\b\b\b\b\b\b\b\b\b\b\b\b\b\b\b\b\b\b\b\b\b\b\b\b\b\b\b\b\b\b\b\b\b\b\b\b\b\b\b\r",
      "1/1 [==============================] - 0s 137ms/step\n"
     ]
    },
    {
     "name": "stdout",
     "output_type": "stream",
     "text": [
      "\r",
      "1/1 [==============================] - ETA: 0s"
     ]
    },
    {
     "name": "stdout",
     "output_type": "stream",
     "text": [
      "\b\b\b\b\b\b\b\b\b\b\b\b\b\b\b\b\b\b\b\b\b\b\b\b\b\b\b\b\b\b\b\b\b\b\b\b\b\b\b\b\b\b\b\b\b\b\r",
      "1/1 [==============================] - 0s 121ms/step\n"
     ]
    },
    {
     "name": "stdout",
     "output_type": "stream",
     "text": [
      "\r",
      "1/1 [==============================] - ETA: 0s"
     ]
    },
    {
     "name": "stdout",
     "output_type": "stream",
     "text": [
      "\b\b\b\b\b\b\b\b\b\b\b\b\b\b\b\b\b\b\b\b\b\b\b\b\b\b\b\b\b\b\b\b\b\b\b\b\b\b\b\b\b\b\b\b\b\b\r",
      "1/1 [==============================] - 0s 123ms/step\n"
     ]
    },
    {
     "name": "stdout",
     "output_type": "stream",
     "text": [
      "\r",
      "1/1 [==============================] - ETA: 0s"
     ]
    },
    {
     "name": "stdout",
     "output_type": "stream",
     "text": [
      "\b\b\b\b\b\b\b\b\b\b\b\b\b\b\b\b\b\b\b\b\b\b\b\b\b\b\b\b\b\b\b\b\b\b\b\b\b\b\b\b\b\b\b\b\b\b\r",
      "1/1 [==============================] - 0s 126ms/step\n"
     ]
    },
    {
     "name": "stdout",
     "output_type": "stream",
     "text": [
      "\r",
      "1/1 [==============================] - ETA: 0s"
     ]
    },
    {
     "name": "stdout",
     "output_type": "stream",
     "text": [
      "\b\b\b\b\b\b\b\b\b\b\b\b\b\b\b\b\b\b\b\b\b\b\b\b\b\b\b\b\b\b\b\b\b\b\b\b\b\b\b\b\b\b\b\b\b\b\r",
      "1/1 [==============================] - 0s 121ms/step\n"
     ]
    },
    {
     "name": "stdout",
     "output_type": "stream",
     "text": [
      "\r",
      "1/1 [==============================] - ETA: 0s"
     ]
    },
    {
     "name": "stdout",
     "output_type": "stream",
     "text": [
      "\b\b\b\b\b\b\b\b\b\b\b\b\b\b\b\b\b\b\b\b\b\b\b\b\b\b\b\b\b\b\b\b\b\b\b\b\b\b\b\b\b\b\b\b\b\b\r",
      "1/1 [==============================] - 0s 132ms/step\n"
     ]
    },
    {
     "name": "stdout",
     "output_type": "stream",
     "text": [
      "\r",
      "1/1 [==============================] - ETA: 0s"
     ]
    },
    {
     "name": "stdout",
     "output_type": "stream",
     "text": [
      "\b\b\b\b\b\b\b\b\b\b\b\b\b\b\b\b\b\b\b\b\b\b\b\b\b\b\b\b\b\b\b\b\b\b\b\b\b\b\b\b\b\b\b\b\b\b\r",
      "1/1 [==============================] - 0s 115ms/step\n"
     ]
    },
    {
     "name": "stdout",
     "output_type": "stream",
     "text": [
      "\r",
      "1/1 [==============================] - ETA: 0s"
     ]
    },
    {
     "name": "stdout",
     "output_type": "stream",
     "text": [
      "\b\b\b\b\b\b\b\b\b\b\b\b\b\b\b\b\b\b\b\b\b\b\b\b\b\b\b\b\b\b\b\b\b\b\b\b\b\b\b\b\b\b\b\b\b\b\r",
      "1/1 [==============================] - 0s 127ms/step\n"
     ]
    },
    {
     "name": "stdout",
     "output_type": "stream",
     "text": [
      "\r",
      "1/1 [==============================] - ETA: 0s"
     ]
    },
    {
     "name": "stdout",
     "output_type": "stream",
     "text": [
      "\b\b\b\b\b\b\b\b\b\b\b\b\b\b\b\b\b\b\b\b\b\b\b\b\b\b\b\b\b\b\b\b\b\b\b\b\b\b\b\b\b\b\b\b\b\b\r",
      "1/1 [==============================] - 0s 128ms/step\n"
     ]
    },
    {
     "name": "stdout",
     "output_type": "stream",
     "text": [
      "\r",
      "1/1 [==============================] - ETA: 0s"
     ]
    },
    {
     "name": "stdout",
     "output_type": "stream",
     "text": [
      "\b\b\b\b\b\b\b\b\b\b\b\b\b\b\b\b\b\b\b\b\b\b\b\b\b\b\b\b\b\b\b\b\b\b\b\b\b\b\b\b\b\b\b\b\b\b\r",
      "1/1 [==============================] - 0s 118ms/step\n"
     ]
    },
    {
     "name": "stdout",
     "output_type": "stream",
     "text": [
      "\r",
      "1/1 [==============================] - ETA: 0s"
     ]
    },
    {
     "name": "stdout",
     "output_type": "stream",
     "text": [
      "\b\b\b\b\b\b\b\b\b\b\b\b\b\b\b\b\b\b\b\b\b\b\b\b\b\b\b\b\b\b\b\b\b\b\b\b\b\b\b\b\b\b\b\b\b\b\r",
      "1/1 [==============================] - 0s 119ms/step\n"
     ]
    },
    {
     "name": "stdout",
     "output_type": "stream",
     "text": [
      "\r",
      "1/1 [==============================] - ETA: 0s"
     ]
    },
    {
     "name": "stdout",
     "output_type": "stream",
     "text": [
      "\b\b\b\b\b\b\b\b\b\b\b\b\b\b\b\b\b\b\b\b\b\b\b\b\b\b\b\b\b\b\b\b\b\b\b\b\b\b\b\b\b\b\b\b\b\b\r",
      "1/1 [==============================] - 0s 123ms/step\n"
     ]
    },
    {
     "name": "stdout",
     "output_type": "stream",
     "text": [
      "\r",
      "1/1 [==============================] - ETA: 0s"
     ]
    },
    {
     "name": "stdout",
     "output_type": "stream",
     "text": [
      "\b\b\b\b\b\b\b\b\b\b\b\b\b\b\b\b\b\b\b\b\b\b\b\b\b\b\b\b\b\b\b\b\b\b\b\b\b\b\b\b\b\b\b\b\b\b\r",
      "1/1 [==============================] - 0s 117ms/step\n"
     ]
    },
    {
     "name": "stdout",
     "output_type": "stream",
     "text": [
      "\r",
      "1/1 [==============================] - ETA: 0s"
     ]
    },
    {
     "name": "stdout",
     "output_type": "stream",
     "text": [
      "\b\b\b\b\b\b\b\b\b\b\b\b\b\b\b\b\b\b\b\b\b\b\b\b\b\b\b\b\b\b\b\b\b\b\b\b\b\b\b\b\b\b\b\b\b\b\r",
      "1/1 [==============================] - 0s 104ms/step\n"
     ]
    },
    {
     "name": "stdout",
     "output_type": "stream",
     "text": [
      "\r",
      "1/1 [==============================] - ETA: 0s"
     ]
    },
    {
     "name": "stdout",
     "output_type": "stream",
     "text": [
      "\b\b\b\b\b\b\b\b\b\b\b\b\b\b\b\b\b\b\b\b\b\b\b\b\b\b\b\b\b\b\b\b\b\b\b\b\b\b\b\b\b\b\b\b\b\b\r",
      "1/1 [==============================] - 0s 126ms/step\n"
     ]
    },
    {
     "name": "stdout",
     "output_type": "stream",
     "text": [
      "\r",
      "1/1 [==============================] - ETA: 0s"
     ]
    },
    {
     "name": "stdout",
     "output_type": "stream",
     "text": [
      "\b\b\b\b\b\b\b\b\b\b\b\b\b\b\b\b\b\b\b\b\b\b\b\b\b\b\b\b\b\b\b\b\b\b\b\b\b\b\b\b\b\b\b\b\b\b\r",
      "1/1 [==============================] - 0s 117ms/step\n"
     ]
    },
    {
     "name": "stdout",
     "output_type": "stream",
     "text": [
      "\r",
      "1/1 [==============================] - ETA: 0s"
     ]
    },
    {
     "name": "stdout",
     "output_type": "stream",
     "text": [
      "\b\b\b\b\b\b\b\b\b\b\b\b\b\b\b\b\b\b\b\b\b\b\b\b\b\b\b\b\b\b\b\b\b\b\b\b\b\b\b\b\b\b\b\b\b\b\r",
      "1/1 [==============================] - 0s 112ms/step\n"
     ]
    },
    {
     "name": "stdout",
     "output_type": "stream",
     "text": [
      "\r",
      "1/1 [==============================] - ETA: 0s"
     ]
    },
    {
     "name": "stdout",
     "output_type": "stream",
     "text": [
      "\b\b\b\b\b\b\b\b\b\b\b\b\b\b\b\b\b\b\b\b\b\b\b\b\b\b\b\b\b\b\b\b\b\b\b\b\b\b\b\b\b\b\b\b\b\b\r",
      "1/1 [==============================] - 0s 119ms/step\n"
     ]
    },
    {
     "name": "stdout",
     "output_type": "stream",
     "text": [
      "\r",
      "1/1 [==============================] - ETA: 0s"
     ]
    },
    {
     "name": "stdout",
     "output_type": "stream",
     "text": [
      "\b\b\b\b\b\b\b\b\b\b\b\b\b\b\b\b\b\b\b\b\b\b\b\b\b\b\b\b\b\b\b\b\b\b\b\b\b\b\b\b\b\b\b\b\b\b\r",
      "1/1 [==============================] - 0s 116ms/step\n"
     ]
    },
    {
     "name": "stdout",
     "output_type": "stream",
     "text": [
      "\r",
      "1/1 [==============================] - ETA: 0s"
     ]
    },
    {
     "name": "stdout",
     "output_type": "stream",
     "text": [
      "\b\b\b\b\b\b\b\b\b\b\b\b\b\b\b\b\b\b\b\b\b\b\b\b\b\b\b\b\b\b\b\b\b\b\b\b\b\b\b\b\b\b\b\b\b\b\r",
      "1/1 [==============================] - 0s 133ms/step\n"
     ]
    },
    {
     "name": "stdout",
     "output_type": "stream",
     "text": [
      "\r",
      "1/1 [==============================] - ETA: 0s"
     ]
    },
    {
     "name": "stdout",
     "output_type": "stream",
     "text": [
      "\b\b\b\b\b\b\b\b\b\b\b\b\b\b\b\b\b\b\b\b\b\b\b\b\b\b\b\b\b\b\b\b\b\b\b\b\b\b\b\b\b\b\b\b\b\b\r",
      "1/1 [==============================] - 0s 124ms/step\n"
     ]
    },
    {
     "name": "stdout",
     "output_type": "stream",
     "text": [
      "\r",
      "1/1 [==============================] - ETA: 0s"
     ]
    },
    {
     "name": "stdout",
     "output_type": "stream",
     "text": [
      "\b\b\b\b\b\b\b\b\b\b\b\b\b\b\b\b\b\b\b\b\b\b\b\b\b\b\b\b\b\b\b\b\b\b\b\b\b\b\b\b\b\b\b\b\b\b\r",
      "1/1 [==============================] - 0s 118ms/step\n"
     ]
    },
    {
     "name": "stdout",
     "output_type": "stream",
     "text": [
      "\r",
      "1/1 [==============================] - ETA: 0s"
     ]
    },
    {
     "name": "stdout",
     "output_type": "stream",
     "text": [
      "\b\b\b\b\b\b\b\b\b\b\b\b\b\b\b\b\b\b\b\b\b\b\b\b\b\b\b\b\b\b\b\b\b\b\b\b\b\b\b\b\b\b\b\b\b\b\r",
      "1/1 [==============================] - 0s 118ms/step\n"
     ]
    },
    {
     "name": "stdout",
     "output_type": "stream",
     "text": [
      "\r",
      "1/1 [==============================] - ETA: 0s"
     ]
    },
    {
     "name": "stdout",
     "output_type": "stream",
     "text": [
      "\b\b\b\b\b\b\b\b\b\b\b\b\b\b\b\b\b\b\b\b\b\b\b\b\b\b\b\b\b\b\b\b\b\b\b\b\b\b\b\b\b\b\b\b\b\b\r",
      "1/1 [==============================] - 0s 124ms/step\n"
     ]
    },
    {
     "name": "stdout",
     "output_type": "stream",
     "text": [
      "\r",
      "1/1 [==============================] - ETA: 0s"
     ]
    },
    {
     "name": "stdout",
     "output_type": "stream",
     "text": [
      "\b\b\b\b\b\b\b\b\b\b\b\b\b\b\b\b\b\b\b\b\b\b\b\b\b\b\b\b\b\b\b\b\b\b\b\b\b\b\b\b\b\b\b\b\b\b\r",
      "1/1 [==============================] - 0s 120ms/step\n"
     ]
    },
    {
     "name": "stdout",
     "output_type": "stream",
     "text": [
      "\r",
      "1/1 [==============================] - ETA: 0s"
     ]
    },
    {
     "name": "stdout",
     "output_type": "stream",
     "text": [
      "\b\b\b\b\b\b\b\b\b\b\b\b\b\b\b\b\b\b\b\b\b\b\b\b\b\b\b\b\b\b\b\b\b\b\b\b\b\b\b\b\b\b\b\b\b\b\r",
      "1/1 [==============================] - 0s 134ms/step\n"
     ]
    },
    {
     "name": "stdout",
     "output_type": "stream",
     "text": [
      "\r",
      "1/1 [==============================] - ETA: 0s"
     ]
    },
    {
     "name": "stdout",
     "output_type": "stream",
     "text": [
      "\b\b\b\b\b\b\b\b\b\b\b\b\b\b\b\b\b\b\b\b\b\b\b\b\b\b\b\b\b\b\b\b\b\b\b\b\b\b\b\b\b\b\b\b\b\b\r",
      "1/1 [==============================] - 0s 123ms/step\n"
     ]
    },
    {
     "name": "stdout",
     "output_type": "stream",
     "text": [
      "\r",
      "1/1 [==============================] - ETA: 0s"
     ]
    },
    {
     "name": "stdout",
     "output_type": "stream",
     "text": [
      "\b\b\b\b\b\b\b\b\b\b\b\b\b\b\b\b\b\b\b\b\b\b\b\b\b\b\b\b\b\b\b\b\b\b\b\b\b\b\b\b\b\b\b\b\b\b\r",
      "1/1 [==============================] - 0s 135ms/step\n"
     ]
    },
    {
     "name": "stdout",
     "output_type": "stream",
     "text": [
      "\r",
      "1/1 [==============================] - ETA: 0s"
     ]
    },
    {
     "name": "stdout",
     "output_type": "stream",
     "text": [
      "\b\b\b\b\b\b\b\b\b\b\b\b\b\b\b\b\b\b\b\b\b\b\b\b\b\b\b\b\b\b\b\b\b\b\b\b\b\b\b\b\b\b\b\b\b\b\r",
      "1/1 [==============================] - 0s 123ms/step\n"
     ]
    },
    {
     "name": "stdout",
     "output_type": "stream",
     "text": [
      "\r",
      "1/1 [==============================] - ETA: 0s"
     ]
    },
    {
     "name": "stdout",
     "output_type": "stream",
     "text": [
      "\b\b\b\b\b\b\b\b\b\b\b\b\b\b\b\b\b\b\b\b\b\b\b\b\b\b\b\b\b\b\b\b\b\b\b\b\b\b\b\b\b\b\b\b\b\b\r",
      "1/1 [==============================] - 0s 139ms/step\n"
     ]
    },
    {
     "name": "stdout",
     "output_type": "stream",
     "text": [
      "\r",
      "1/1 [==============================] - ETA: 0s"
     ]
    },
    {
     "name": "stdout",
     "output_type": "stream",
     "text": [
      "\b\b\b\b\b\b\b\b\b\b\b\b\b\b\b\b\b\b\b\b\b\b\b\b\b\b\b\b\b\b\b\b\b\b\b\b\b\b\b\b\b\b\b\b\b\b\r",
      "1/1 [==============================] - 0s 115ms/step\n"
     ]
    },
    {
     "name": "stdout",
     "output_type": "stream",
     "text": [
      "\r",
      "1/1 [==============================] - ETA: 0s"
     ]
    },
    {
     "name": "stdout",
     "output_type": "stream",
     "text": [
      "\b\b\b\b\b\b\b\b\b\b\b\b\b\b\b\b\b\b\b\b\b\b\b\b\b\b\b\b\b\b\b\b\b\b\b\b\b\b\b\b\b\b\b\b\b\b\r",
      "1/1 [==============================] - 0s 123ms/step\n"
     ]
    },
    {
     "name": "stdout",
     "output_type": "stream",
     "text": [
      "\r",
      "1/1 [==============================] - ETA: 0s"
     ]
    },
    {
     "name": "stdout",
     "output_type": "stream",
     "text": [
      "\b\b\b\b\b\b\b\b\b\b\b\b\b\b\b\b\b\b\b\b\b\b\b\b\b\b\b\b\b\b\b\b\b\b\b\b\b\b\b\b\b\b\b\b\b\b\r",
      "1/1 [==============================] - 0s 122ms/step\n"
     ]
    },
    {
     "name": "stdout",
     "output_type": "stream",
     "text": [
      "\r",
      "1/1 [==============================] - ETA: 0s"
     ]
    },
    {
     "name": "stdout",
     "output_type": "stream",
     "text": [
      "\b\b\b\b\b\b\b\b\b\b\b\b\b\b\b\b\b\b\b\b\b\b\b\b\b\b\b\b\b\b\b\b\b\b\b\b\b\b\b\b\b\b\b\b\b\b\r",
      "1/1 [==============================] - 0s 123ms/step\n"
     ]
    },
    {
     "name": "stdout",
     "output_type": "stream",
     "text": [
      "\r",
      "1/1 [==============================] - ETA: 0s"
     ]
    },
    {
     "name": "stdout",
     "output_type": "stream",
     "text": [
      "\b\b\b\b\b\b\b\b\b\b\b\b\b\b\b\b\b\b\b\b\b\b\b\b\b\b\b\b\b\b\b\b\b\b\b\b\b\b\b\b\b\b\b\b\b\b\r",
      "1/1 [==============================] - 0s 132ms/step\n"
     ]
    },
    {
     "name": "stdout",
     "output_type": "stream",
     "text": [
      "\r",
      "1/1 [==============================] - ETA: 0s"
     ]
    },
    {
     "name": "stdout",
     "output_type": "stream",
     "text": [
      "\b\b\b\b\b\b\b\b\b\b\b\b\b\b\b\b\b\b\b\b\b\b\b\b\b\b\b\b\b\b\b\b\b\b\b\b\b\b\b\b\b\b\b\b\b\b\r",
      "1/1 [==============================] - 0s 118ms/step\n"
     ]
    },
    {
     "name": "stdout",
     "output_type": "stream",
     "text": [
      "\r",
      "1/1 [==============================] - ETA: 0s"
     ]
    },
    {
     "name": "stdout",
     "output_type": "stream",
     "text": [
      "\b\b\b\b\b\b\b\b\b\b\b\b\b\b\b\b\b\b\b\b\b\b\b\b\b\b\b\b\b\b\b\b\b\b\b\b\b\b\b\b\b\b\b\b\b\b\r",
      "1/1 [==============================] - 0s 133ms/step\n"
     ]
    },
    {
     "name": "stdout",
     "output_type": "stream",
     "text": [
      "\r",
      "1/1 [==============================] - ETA: 0s"
     ]
    },
    {
     "name": "stdout",
     "output_type": "stream",
     "text": [
      "\b\b\b\b\b\b\b\b\b\b\b\b\b\b\b\b\b\b\b\b\b\b\b\b\b\b\b\b\b\b\b\b\b\b\b\b\b\b\b\b\b\b\b\b\b\b\r",
      "1/1 [==============================] - 0s 131ms/step\n"
     ]
    },
    {
     "name": "stdout",
     "output_type": "stream",
     "text": [
      "\r",
      "1/1 [==============================] - ETA: 0s"
     ]
    },
    {
     "name": "stdout",
     "output_type": "stream",
     "text": [
      "\b\b\b\b\b\b\b\b\b\b\b\b\b\b\b\b\b\b\b\b\b\b\b\b\b\b\b\b\b\b\b\b\b\b\b\b\b\b\b\b\b\b\b\b\b\b\r",
      "1/1 [==============================] - 0s 127ms/step\n"
     ]
    },
    {
     "name": "stdout",
     "output_type": "stream",
     "text": [
      "\r",
      "1/1 [==============================] - ETA: 0s"
     ]
    },
    {
     "name": "stdout",
     "output_type": "stream",
     "text": [
      "\b\b\b\b\b\b\b\b\b\b\b\b\b\b\b\b\b\b\b\b\b\b\b\b\b\b\b\b\b\b\b\b\b\b\b\b\b\b\b\b\b\b\b\b\b\b\r",
      "1/1 [==============================] - 0s 126ms/step\n"
     ]
    },
    {
     "name": "stdout",
     "output_type": "stream",
     "text": [
      "\r",
      "1/1 [==============================] - ETA: 0s"
     ]
    },
    {
     "name": "stdout",
     "output_type": "stream",
     "text": [
      "\b\b\b\b\b\b\b\b\b\b\b\b\b\b\b\b\b\b\b\b\b\b\b\b\b\b\b\b\b\b\b\b\b\b\b\b\b\b\b\b\b\b\b\b\b\b\r",
      "1/1 [==============================] - 0s 142ms/step\n"
     ]
    },
    {
     "name": "stdout",
     "output_type": "stream",
     "text": [
      "\r",
      "1/1 [==============================] - ETA: 0s"
     ]
    },
    {
     "name": "stdout",
     "output_type": "stream",
     "text": [
      "\b\b\b\b\b\b\b\b\b\b\b\b\b\b\b\b\b\b\b\b\b\b\b\b\b\b\b\b\b\b\b\b\b\b\b\b\b\b\b\b\b\b\b\b\b\b\r",
      "1/1 [==============================] - 0s 117ms/step\n"
     ]
    },
    {
     "name": "stdout",
     "output_type": "stream",
     "text": [
      "\r",
      "1/1 [==============================] - ETA: 0s"
     ]
    },
    {
     "name": "stdout",
     "output_type": "stream",
     "text": [
      "\b\b\b\b\b\b\b\b\b\b\b\b\b\b\b\b\b\b\b\b\b\b\b\b\b\b\b\b\b\b\b\b\b\b\b\b\b\b\b\b\b\b\b\b\b\b\r",
      "1/1 [==============================] - 0s 128ms/step\n"
     ]
    },
    {
     "name": "stdout",
     "output_type": "stream",
     "text": [
      "\r",
      "1/1 [==============================] - ETA: 0s"
     ]
    },
    {
     "name": "stdout",
     "output_type": "stream",
     "text": [
      "\b\b\b\b\b\b\b\b\b\b\b\b\b\b\b\b\b\b\b\b\b\b\b\b\b\b\b\b\b\b\b\b\b\b\b\b\b\b\b\b\b\b\b\b\b\b\r",
      "1/1 [==============================] - 0s 123ms/step\n"
     ]
    },
    {
     "name": "stdout",
     "output_type": "stream",
     "text": [
      "\r",
      "1/1 [==============================] - ETA: 0s"
     ]
    },
    {
     "name": "stdout",
     "output_type": "stream",
     "text": [
      "\b\b\b\b\b\b\b\b\b\b\b\b\b\b\b\b\b\b\b\b\b\b\b\b\b\b\b\b\b\b\b\b\b\b\b\b\b\b\b\b\b\b\b\b\b\b\r",
      "1/1 [==============================] - 0s 130ms/step\n"
     ]
    },
    {
     "name": "stdout",
     "output_type": "stream",
     "text": [
      "\r",
      "1/1 [==============================] - ETA: 0s"
     ]
    },
    {
     "name": "stdout",
     "output_type": "stream",
     "text": [
      "\b\b\b\b\b\b\b\b\b\b\b\b\b\b\b\b\b\b\b\b\b\b\b\b\b\b\b\b\b\b\b\b\b\b\b\b\b\b\b\b\b\b\b\b\b\b\r",
      "1/1 [==============================] - 0s 123ms/step\n"
     ]
    },
    {
     "name": "stdout",
     "output_type": "stream",
     "text": [
      "\r",
      "1/1 [==============================] - ETA: 0s"
     ]
    },
    {
     "name": "stdout",
     "output_type": "stream",
     "text": [
      "\b\b\b\b\b\b\b\b\b\b\b\b\b\b\b\b\b\b\b\b\b\b\b\b\b\b\b\b\b\b\b\b\b\b\b\b\b\b\b\b\b\b\b\b\b\b\r",
      "1/1 [==============================] - 0s 120ms/step\n"
     ]
    },
    {
     "name": "stdout",
     "output_type": "stream",
     "text": [
      "\r",
      "1/1 [==============================] - ETA: 0s"
     ]
    },
    {
     "name": "stdout",
     "output_type": "stream",
     "text": [
      "\b\b\b\b\b\b\b\b\b\b\b\b\b\b\b\b\b\b\b\b\b\b\b\b\b\b\b\b\b\b\b\b\b\b\b\b\b\b\b\b\b\b\b\b\b\b\r",
      "1/1 [==============================] - 0s 134ms/step\n"
     ]
    },
    {
     "name": "stdout",
     "output_type": "stream",
     "text": [
      "\r",
      "1/1 [==============================] - ETA: 0s"
     ]
    },
    {
     "name": "stdout",
     "output_type": "stream",
     "text": [
      "\b\b\b\b\b\b\b\b\b\b\b\b\b\b\b\b\b\b\b\b\b\b\b\b\b\b\b\b\b\b\b\b\b\b\b\b\b\b\b\b\b\b\b\b\b\b\r",
      "1/1 [==============================] - 0s 123ms/step\n"
     ]
    },
    {
     "name": "stdout",
     "output_type": "stream",
     "text": [
      "\r",
      "1/1 [==============================] - ETA: 0s"
     ]
    },
    {
     "name": "stdout",
     "output_type": "stream",
     "text": [
      "\b\b\b\b\b\b\b\b\b\b\b\b\b\b\b\b\b\b\b\b\b\b\b\b\b\b\b\b\b\b\b\b\b\b\b\b\b\b\b\b\b\b\b\b\b\b\r",
      "1/1 [==============================] - 0s 138ms/step\n"
     ]
    },
    {
     "name": "stdout",
     "output_type": "stream",
     "text": [
      "\r",
      "1/1 [==============================] - ETA: 0s"
     ]
    },
    {
     "name": "stdout",
     "output_type": "stream",
     "text": [
      "\b\b\b\b\b\b\b\b\b\b\b\b\b\b\b\b\b\b\b\b\b\b\b\b\b\b\b\b\b\b\b\b\b\b\b\b\b\b\b\b\b\b\b\b\b\b\r",
      "1/1 [==============================] - 0s 119ms/step\n"
     ]
    },
    {
     "name": "stdout",
     "output_type": "stream",
     "text": [
      "\r",
      "1/1 [==============================] - ETA: 0s"
     ]
    },
    {
     "name": "stdout",
     "output_type": "stream",
     "text": [
      "\b\b\b\b\b\b\b\b\b\b\b\b\b\b\b\b\b\b\b\b\b\b\b\b\b\b\b\b\b\b\b\b\b\b\b\b\b\b\b\b\b\b\b\b\b\b\r",
      "1/1 [==============================] - 0s 139ms/step\n"
     ]
    },
    {
     "name": "stdout",
     "output_type": "stream",
     "text": [
      "\r",
      "1/1 [==============================] - ETA: 0s"
     ]
    },
    {
     "name": "stdout",
     "output_type": "stream",
     "text": [
      "\b\b\b\b\b\b\b\b\b\b\b\b\b\b\b\b\b\b\b\b\b\b\b\b\b\b\b\b\b\b\b\b\b\b\b\b\b\b\b\b\b\b\b\b\b\b\r",
      "1/1 [==============================] - 0s 120ms/step\n"
     ]
    },
    {
     "name": "stdout",
     "output_type": "stream",
     "text": [
      "\r",
      "1/1 [==============================] - ETA: 0s"
     ]
    },
    {
     "name": "stdout",
     "output_type": "stream",
     "text": [
      "\b\b\b\b\b\b\b\b\b\b\b\b\b\b\b\b\b\b\b\b\b\b\b\b\b\b\b\b\b\b\b\b\b\b\b\b\b\b\b\b\b\b\b\b\b\b\r",
      "1/1 [==============================] - 0s 125ms/step\n"
     ]
    },
    {
     "name": "stdout",
     "output_type": "stream",
     "text": [
      "\r",
      "1/1 [==============================] - ETA: 0s"
     ]
    },
    {
     "name": "stdout",
     "output_type": "stream",
     "text": [
      "\b\b\b\b\b\b\b\b\b\b\b\b\b\b\b\b\b\b\b\b\b\b\b\b\b\b\b\b\b\b\b\b\b\b\b\b\b\b\b\b\b\b\b\b\b\b\r",
      "1/1 [==============================] - 0s 157ms/step\n"
     ]
    },
    {
     "name": "stdout",
     "output_type": "stream",
     "text": [
      "\r",
      "1/1 [==============================] - ETA: 0s"
     ]
    },
    {
     "name": "stdout",
     "output_type": "stream",
     "text": [
      "\b\b\b\b\b\b\b\b\b\b\b\b\b\b\b\b\b\b\b\b\b\b\b\b\b\b\b\b\b\b\b\b\b\b\b\b\b\b\b\b\b\b\b\b\b\b\r",
      "1/1 [==============================] - 0s 135ms/step\n"
     ]
    },
    {
     "name": "stdout",
     "output_type": "stream",
     "text": [
      "\r",
      "1/1 [==============================] - ETA: 0s"
     ]
    },
    {
     "name": "stdout",
     "output_type": "stream",
     "text": [
      "\b\b\b\b\b\b\b\b\b\b\b\b\b\b\b\b\b\b\b\b\b\b\b\b\b\b\b\b\b\b\b\b\b\b\b\b\b\b\b\b\b\b\b\b\b\b\r",
      "1/1 [==============================] - 0s 142ms/step\n"
     ]
    },
    {
     "name": "stdout",
     "output_type": "stream",
     "text": [
      "\r",
      "1/1 [==============================] - ETA: 0s"
     ]
    },
    {
     "name": "stdout",
     "output_type": "stream",
     "text": [
      "\b\b\b\b\b\b\b\b\b\b\b\b\b\b\b\b\b\b\b\b\b\b\b\b\b\b\b\b\b\b\b\b\b\b\b\b\b\b\b\b\b\b\b\b\b\b\r",
      "1/1 [==============================] - 0s 133ms/step\n"
     ]
    },
    {
     "name": "stdout",
     "output_type": "stream",
     "text": [
      "\r",
      "1/1 [==============================] - ETA: 0s"
     ]
    },
    {
     "name": "stdout",
     "output_type": "stream",
     "text": [
      "\b\b\b\b\b\b\b\b\b\b\b\b\b\b\b\b\b\b\b\b\b\b\b\b\b\b\b\b\b\b\b\b\b\b\b\b\b\b\b\b\b\b\b\b\b\b\r",
      "1/1 [==============================] - 0s 131ms/step\n"
     ]
    },
    {
     "name": "stdout",
     "output_type": "stream",
     "text": [
      "\r",
      "1/1 [==============================] - ETA: 0s"
     ]
    },
    {
     "name": "stdout",
     "output_type": "stream",
     "text": [
      "\b\b\b\b\b\b\b\b\b\b\b\b\b\b\b\b\b\b\b\b\b\b\b\b\b\b\b\b\b\b\b\b\b\b\b\b\b\b\b\b\b\b\b\b\b\b\r",
      "1/1 [==============================] - 0s 114ms/step\n"
     ]
    },
    {
     "name": "stdout",
     "output_type": "stream",
     "text": [
      "\r",
      "1/1 [==============================] - ETA: 0s"
     ]
    },
    {
     "name": "stdout",
     "output_type": "stream",
     "text": [
      "\b\b\b\b\b\b\b\b\b\b\b\b\b\b\b\b\b\b\b\b\b\b\b\b\b\b\b\b\b\b\b\b\b\b\b\b\b\b\b\b\b\b\b\b\b\b\r",
      "1/1 [==============================] - 0s 127ms/step\n"
     ]
    },
    {
     "name": "stdout",
     "output_type": "stream",
     "text": [
      "\r",
      "1/1 [==============================] - ETA: 0s"
     ]
    },
    {
     "name": "stdout",
     "output_type": "stream",
     "text": [
      "\b\b\b\b\b\b\b\b\b\b\b\b\b\b\b\b\b\b\b\b\b\b\b\b\b\b\b\b\b\b\b\b\b\b\b\b\b\b\b\b\b\b\b\b\b\b\r",
      "1/1 [==============================] - 0s 142ms/step\n"
     ]
    },
    {
     "name": "stdout",
     "output_type": "stream",
     "text": [
      "\r",
      "1/1 [==============================] - ETA: 0s"
     ]
    },
    {
     "name": "stdout",
     "output_type": "stream",
     "text": [
      "\b\b\b\b\b\b\b\b\b\b\b\b\b\b\b\b\b\b\b\b\b\b\b\b\b\b\b\b\b\b\b\b\b\b\b\b\b\b\b\b\b\b\b\b\b\b\r",
      "1/1 [==============================] - 0s 123ms/step\n"
     ]
    },
    {
     "name": "stdout",
     "output_type": "stream",
     "text": [
      "\r",
      "1/1 [==============================] - ETA: 0s"
     ]
    },
    {
     "name": "stdout",
     "output_type": "stream",
     "text": [
      "\b\b\b\b\b\b\b\b\b\b\b\b\b\b\b\b\b\b\b\b\b\b\b\b\b\b\b\b\b\b\b\b\b\b\b\b\b\b\b\b\b\b\b\b\b\b\r",
      "1/1 [==============================] - 0s 116ms/step\n"
     ]
    },
    {
     "name": "stdout",
     "output_type": "stream",
     "text": [
      "\r",
      "1/1 [==============================] - ETA: 0s"
     ]
    },
    {
     "name": "stdout",
     "output_type": "stream",
     "text": [
      "\b\b\b\b\b\b\b\b\b\b\b\b\b\b\b\b\b\b\b\b\b\b\b\b\b\b\b\b\b\b\b\b\b\b\b\b\b\b\b\b\b\b\b\b\b\b\r",
      "1/1 [==============================] - 0s 121ms/step\n"
     ]
    },
    {
     "name": "stdout",
     "output_type": "stream",
     "text": [
      "\r",
      "1/1 [==============================] - ETA: 0s"
     ]
    },
    {
     "name": "stdout",
     "output_type": "stream",
     "text": [
      "\b\b\b\b\b\b\b\b\b\b\b\b\b\b\b\b\b\b\b\b\b\b\b\b\b\b\b\b\b\b\b\b\b\b\b\b\b\b\b\b\b\b\b\b\b\b\r",
      "1/1 [==============================] - 0s 115ms/step\n"
     ]
    },
    {
     "name": "stdout",
     "output_type": "stream",
     "text": [
      "\r",
      "1/1 [==============================] - ETA: 0s"
     ]
    },
    {
     "name": "stdout",
     "output_type": "stream",
     "text": [
      "\b\b\b\b\b\b\b\b\b\b\b\b\b\b\b\b\b\b\b\b\b\b\b\b\b\b\b\b\b\b\b\b\b\b\b\b\b\b\b\b\b\b\b\b\b\b\r",
      "1/1 [==============================] - 0s 130ms/step\n"
     ]
    },
    {
     "name": "stdout",
     "output_type": "stream",
     "text": [
      "\r",
      "1/1 [==============================] - ETA: 0s"
     ]
    },
    {
     "name": "stdout",
     "output_type": "stream",
     "text": [
      "\b\b\b\b\b\b\b\b\b\b\b\b\b\b\b\b\b\b\b\b\b\b\b\b\b\b\b\b\b\b\b\b\b\b\b\b\b\b\b\b\b\b\b\b\b\b\r",
      "1/1 [==============================] - 0s 130ms/step\n"
     ]
    },
    {
     "name": "stdout",
     "output_type": "stream",
     "text": [
      "\r",
      "1/1 [==============================] - ETA: 0s"
     ]
    },
    {
     "name": "stdout",
     "output_type": "stream",
     "text": [
      "\b\b\b\b\b\b\b\b\b\b\b\b\b\b\b\b\b\b\b\b\b\b\b\b\b\b\b\b\b\b\b\b\b\b\b\b\b\b\b\b\b\b\b\b\b\b\r",
      "1/1 [==============================] - 0s 125ms/step\n"
     ]
    },
    {
     "name": "stdout",
     "output_type": "stream",
     "text": [
      "\r",
      "1/1 [==============================] - ETA: 0s"
     ]
    },
    {
     "name": "stdout",
     "output_type": "stream",
     "text": [
      "\b\b\b\b\b\b\b\b\b\b\b\b\b\b\b\b\b\b\b\b\b\b\b\b\b\b\b\b\b\b\b\b\b\b\b\b\b\b\b\b\b\b\b\b\b\b\r",
      "1/1 [==============================] - 0s 133ms/step\n"
     ]
    },
    {
     "name": "stdout",
     "output_type": "stream",
     "text": [
      "\r",
      "1/1 [==============================] - ETA: 0s"
     ]
    },
    {
     "name": "stdout",
     "output_type": "stream",
     "text": [
      "\b\b\b\b\b\b\b\b\b\b\b\b\b\b\b\b\b\b\b\b\b\b\b\b\b\b\b\b\b\b\b\b\b\b\b\b\b\b\b\b\b\b\b\b\b\b\r",
      "1/1 [==============================] - 0s 127ms/step\n"
     ]
    },
    {
     "name": "stdout",
     "output_type": "stream",
     "text": [
      "\r",
      "1/1 [==============================] - ETA: 0s"
     ]
    },
    {
     "name": "stdout",
     "output_type": "stream",
     "text": [
      "\b\b\b\b\b\b\b\b\b\b\b\b\b\b\b\b\b\b\b\b\b\b\b\b\b\b\b\b\b\b\b\b\b\b\b\b\b\b\b\b\b\b\b\b\b\b\r",
      "1/1 [==============================] - 0s 112ms/step\n"
     ]
    },
    {
     "name": "stdout",
     "output_type": "stream",
     "text": [
      "\r",
      "1/1 [==============================] - ETA: 0s"
     ]
    },
    {
     "name": "stdout",
     "output_type": "stream",
     "text": [
      "\b\b\b\b\b\b\b\b\b\b\b\b\b\b\b\b\b\b\b\b\b\b\b\b\b\b\b\b\b\b\b\b\b\b\b\b\b\b\b\b\b\b\b\b\b\b\r",
      "1/1 [==============================] - 0s 127ms/step\n"
     ]
    },
    {
     "name": "stdout",
     "output_type": "stream",
     "text": [
      "\r",
      "1/1 [==============================] - ETA: 0s"
     ]
    },
    {
     "name": "stdout",
     "output_type": "stream",
     "text": [
      "\b\b\b\b\b\b\b\b\b\b\b\b\b\b\b\b\b\b\b\b\b\b\b\b\b\b\b\b\b\b\b\b\b\b\b\b\b\b\b\b\b\b\b\b\b\b\r",
      "1/1 [==============================] - 0s 137ms/step\n"
     ]
    },
    {
     "name": "stdout",
     "output_type": "stream",
     "text": [
      "\r",
      "1/1 [==============================] - ETA: 0s"
     ]
    },
    {
     "name": "stdout",
     "output_type": "stream",
     "text": [
      "\b\b\b\b\b\b\b\b\b\b\b\b\b\b\b\b\b\b\b\b\b\b\b\b\b\b\b\b\b\b\b\b\b\b\b\b\b\b\b\b\b\b\b\b\b\b\r",
      "1/1 [==============================] - 0s 114ms/step\n"
     ]
    },
    {
     "name": "stdout",
     "output_type": "stream",
     "text": [
      "\r",
      "1/1 [==============================] - ETA: 0s"
     ]
    },
    {
     "name": "stdout",
     "output_type": "stream",
     "text": [
      "\b\b\b\b\b\b\b\b\b\b\b\b\b\b\b\b\b\b\b\b\b\b\b\b\b\b\b\b\b\b\b\b\b\b\b\b\b\b\b\b\b\b\b\b\b\b\r",
      "1/1 [==============================] - 0s 120ms/step\n"
     ]
    },
    {
     "name": "stdout",
     "output_type": "stream",
     "text": [
      "\r",
      "1/1 [==============================] - ETA: 0s"
     ]
    },
    {
     "name": "stdout",
     "output_type": "stream",
     "text": [
      "\b\b\b\b\b\b\b\b\b\b\b\b\b\b\b\b\b\b\b\b\b\b\b\b\b\b\b\b\b\b\b\b\b\b\b\b\b\b\b\b\b\b\b\b\b\b\r",
      "1/1 [==============================] - 0s 118ms/step\n"
     ]
    },
    {
     "name": "stdout",
     "output_type": "stream",
     "text": [
      "\r",
      "1/1 [==============================] - ETA: 0s"
     ]
    },
    {
     "name": "stdout",
     "output_type": "stream",
     "text": [
      "\b\b\b\b\b\b\b\b\b\b\b\b\b\b\b\b\b\b\b\b\b\b\b\b\b\b\b\b\b\b\b\b\b\b\b\b\b\b\b\b\b\b\b\b\b\b\r",
      "1/1 [==============================] - 0s 149ms/step\n"
     ]
    },
    {
     "name": "stdout",
     "output_type": "stream",
     "text": [
      "\r",
      "1/1 [==============================] - ETA: 0s"
     ]
    },
    {
     "name": "stdout",
     "output_type": "stream",
     "text": [
      "\b\b\b\b\b\b\b\b\b\b\b\b\b\b\b\b\b\b\b\b\b\b\b\b\b\b\b\b\b\b\b\b\b\b\b\b\b\b\b\b\b\b\b\b\b\b\r",
      "1/1 [==============================] - 0s 120ms/step\n"
     ]
    },
    {
     "name": "stdout",
     "output_type": "stream",
     "text": [
      "\r",
      "1/1 [==============================] - ETA: 0s"
     ]
    },
    {
     "name": "stdout",
     "output_type": "stream",
     "text": [
      "\b\b\b\b\b\b\b\b\b\b\b\b\b\b\b\b\b\b\b\b\b\b\b\b\b\b\b\b\b\b\b\b\b\b\b\b\b\b\b\b\b\b\b\b\b\b\r",
      "1/1 [==============================] - 0s 139ms/step\n"
     ]
    },
    {
     "name": "stdout",
     "output_type": "stream",
     "text": [
      "\r",
      "1/1 [==============================] - ETA: 0s"
     ]
    },
    {
     "name": "stdout",
     "output_type": "stream",
     "text": [
      "\b\b\b\b\b\b\b\b\b\b\b\b\b\b\b\b\b\b\b\b\b\b\b\b\b\b\b\b\b\b\b\b\b\b\b\b\b\b\b\b\b\b\b\b\b\b\r",
      "1/1 [==============================] - 0s 152ms/step\n"
     ]
    },
    {
     "name": "stdout",
     "output_type": "stream",
     "text": [
      "\r",
      "1/1 [==============================] - ETA: 0s"
     ]
    },
    {
     "name": "stdout",
     "output_type": "stream",
     "text": [
      "\b\b\b\b\b\b\b\b\b\b\b\b\b\b\b\b\b\b\b\b\b\b\b\b\b\b\b\b\b\b\b\b\b\b\b\b\b\b\b\b\b\b\b\b\b\b\r",
      "1/1 [==============================] - 0s 125ms/step\n"
     ]
    },
    {
     "name": "stdout",
     "output_type": "stream",
     "text": [
      "\r",
      "1/1 [==============================] - ETA: 0s"
     ]
    },
    {
     "name": "stdout",
     "output_type": "stream",
     "text": [
      "\b\b\b\b\b\b\b\b\b\b\b\b\b\b\b\b\b\b\b\b\b\b\b\b\b\b\b\b\b\b\b\b\b\b\b\b\b\b\b\b\b\b\b\b\b\b\r",
      "1/1 [==============================] - 0s 136ms/step\n"
     ]
    },
    {
     "name": "stdout",
     "output_type": "stream",
     "text": [
      "\r",
      "1/1 [==============================] - ETA: 0s"
     ]
    },
    {
     "name": "stdout",
     "output_type": "stream",
     "text": [
      "\b\b\b\b\b\b\b\b\b\b\b\b\b\b\b\b\b\b\b\b\b\b\b\b\b\b\b\b\b\b\b\b\b\b\b\b\b\b\b\b\b\b\b\b\b\b\r",
      "1/1 [==============================] - 0s 130ms/step\n"
     ]
    },
    {
     "name": "stdout",
     "output_type": "stream",
     "text": [
      "\r",
      "1/1 [==============================] - ETA: 0s"
     ]
    },
    {
     "name": "stdout",
     "output_type": "stream",
     "text": [
      "\b\b\b\b\b\b\b\b\b\b\b\b\b\b\b\b\b\b\b\b\b\b\b\b\b\b\b\b\b\b\b\b\b\b\b\b\b\b\b\b\b\b\b\b\b\b\r",
      "1/1 [==============================] - 0s 128ms/step\n"
     ]
    },
    {
     "name": "stdout",
     "output_type": "stream",
     "text": [
      "\r",
      "1/1 [==============================] - ETA: 0s"
     ]
    },
    {
     "name": "stdout",
     "output_type": "stream",
     "text": [
      "\b\b\b\b\b\b\b\b\b\b\b\b\b\b\b\b\b\b\b\b\b\b\b\b\b\b\b\b\b\b\b\b\b\b\b\b\b\b\b\b\b\b\b\b\b\b\r",
      "1/1 [==============================] - 0s 132ms/step\n"
     ]
    },
    {
     "name": "stdout",
     "output_type": "stream",
     "text": [
      "\r",
      "1/1 [==============================] - ETA: 0s"
     ]
    },
    {
     "name": "stdout",
     "output_type": "stream",
     "text": [
      "\b\b\b\b\b\b\b\b\b\b\b\b\b\b\b\b\b\b\b\b\b\b\b\b\b\b\b\b\b\b\b\b\b\b\b\b\b\b\b\b\b\b\b\b\b\b\r",
      "1/1 [==============================] - 0s 124ms/step\n"
     ]
    },
    {
     "name": "stdout",
     "output_type": "stream",
     "text": [
      "\r",
      "1/1 [==============================] - ETA: 0s"
     ]
    },
    {
     "name": "stdout",
     "output_type": "stream",
     "text": [
      "\b\b\b\b\b\b\b\b\b\b\b\b\b\b\b\b\b\b\b\b\b\b\b\b\b\b\b\b\b\b\b\b\b\b\b\b\b\b\b\b\b\b\b\b\b\b\r",
      "1/1 [==============================] - 0s 122ms/step\n"
     ]
    },
    {
     "name": "stdout",
     "output_type": "stream",
     "text": [
      "\r",
      "1/1 [==============================] - ETA: 0s"
     ]
    },
    {
     "name": "stdout",
     "output_type": "stream",
     "text": [
      "\b\b\b\b\b\b\b\b\b\b\b\b\b\b\b\b\b\b\b\b\b\b\b\b\b\b\b\b\b\b\b\b\b\b\b\b\b\b\b\b\b\b\b\b\b\b\r",
      "1/1 [==============================] - 0s 132ms/step\n"
     ]
    },
    {
     "name": "stdout",
     "output_type": "stream",
     "text": [
      "\r",
      "1/1 [==============================] - ETA: 0s"
     ]
    },
    {
     "name": "stdout",
     "output_type": "stream",
     "text": [
      "\b\b\b\b\b\b\b\b\b\b\b\b\b\b\b\b\b\b\b\b\b\b\b\b\b\b\b\b\b\b\b\b\b\b\b\b\b\b\b\b\b\b\b\b\b\b\r",
      "1/1 [==============================] - 0s 123ms/step\n"
     ]
    },
    {
     "name": "stdout",
     "output_type": "stream",
     "text": [
      "\r",
      "1/1 [==============================] - ETA: 0s"
     ]
    },
    {
     "name": "stdout",
     "output_type": "stream",
     "text": [
      "\b\b\b\b\b\b\b\b\b\b\b\b\b\b\b\b\b\b\b\b\b\b\b\b\b\b\b\b\b\b\b\b\b\b\b\b\b\b\b\b\b\b\b\b\b\b\r",
      "1/1 [==============================] - 0s 122ms/step\n"
     ]
    },
    {
     "name": "stdout",
     "output_type": "stream",
     "text": [
      "\r",
      "1/1 [==============================] - ETA: 0s"
     ]
    },
    {
     "name": "stdout",
     "output_type": "stream",
     "text": [
      "\b\b\b\b\b\b\b\b\b\b\b\b\b\b\b\b\b\b\b\b\b\b\b\b\b\b\b\b\b\b\b\b\b\b\b\b\b\b\b\b\b\b\b\b\b\b\r",
      "1/1 [==============================] - 0s 124ms/step\n"
     ]
    },
    {
     "name": "stdout",
     "output_type": "stream",
     "text": [
      "\r",
      "1/1 [==============================] - ETA: 0s"
     ]
    },
    {
     "name": "stdout",
     "output_type": "stream",
     "text": [
      "\b\b\b\b\b\b\b\b\b\b\b\b\b\b\b\b\b\b\b\b\b\b\b\b\b\b\b\b\b\b\b\b\b\b\b\b\b\b\b\b\b\b\b\b\b\b\r",
      "1/1 [==============================] - 0s 125ms/step\n"
     ]
    },
    {
     "name": "stdout",
     "output_type": "stream",
     "text": [
      "\r",
      "1/1 [==============================] - ETA: 0s"
     ]
    },
    {
     "name": "stdout",
     "output_type": "stream",
     "text": [
      "\b\b\b\b\b\b\b\b\b\b\b\b\b\b\b\b\b\b\b\b\b\b\b\b\b\b\b\b\b\b\b\b\b\b\b\b\b\b\b\b\b\b\b\b\b\b\r",
      "1/1 [==============================] - 0s 123ms/step\n"
     ]
    },
    {
     "name": "stdout",
     "output_type": "stream",
     "text": [
      "\r",
      "1/1 [==============================] - ETA: 0s"
     ]
    },
    {
     "name": "stdout",
     "output_type": "stream",
     "text": [
      "\b\b\b\b\b\b\b\b\b\b\b\b\b\b\b\b\b\b\b\b\b\b\b\b\b\b\b\b\b\b\b\b\b\b\b\b\b\b\b\b\b\b\b\b\b\b\r",
      "1/1 [==============================] - 0s 138ms/step\n"
     ]
    },
    {
     "name": "stdout",
     "output_type": "stream",
     "text": [
      "\r",
      "1/1 [==============================] - ETA: 0s"
     ]
    },
    {
     "name": "stdout",
     "output_type": "stream",
     "text": [
      "\b\b\b\b\b\b\b\b\b\b\b\b\b\b\b\b\b\b\b\b\b\b\b\b\b\b\b\b\b\b\b\b\b\b\b\b\b\b\b\b\b\b\b\b\b\b\r",
      "1/1 [==============================] - 0s 128ms/step\n"
     ]
    },
    {
     "name": "stdout",
     "output_type": "stream",
     "text": [
      "\r",
      "1/1 [==============================] - ETA: 0s"
     ]
    },
    {
     "name": "stdout",
     "output_type": "stream",
     "text": [
      "\b\b\b\b\b\b\b\b\b\b\b\b\b\b\b\b\b\b\b\b\b\b\b\b\b\b\b\b\b\b\b\b\b\b\b\b\b\b\b\b\b\b\b\b\b\b\r",
      "1/1 [==============================] - 0s 117ms/step\n"
     ]
    },
    {
     "name": "stdout",
     "output_type": "stream",
     "text": [
      "\r",
      "1/1 [==============================] - ETA: 0s"
     ]
    },
    {
     "name": "stdout",
     "output_type": "stream",
     "text": [
      "\b\b\b\b\b\b\b\b\b\b\b\b\b\b\b\b\b\b\b\b\b\b\b\b\b\b\b\b\b\b\b\b\b\b\b\b\b\b\b\b\b\b\b\b\b\b\r",
      "1/1 [==============================] - 0s 159ms/step\n"
     ]
    },
    {
     "name": "stdout",
     "output_type": "stream",
     "text": [
      "\r",
      "1/1 [==============================] - ETA: 0s"
     ]
    },
    {
     "name": "stdout",
     "output_type": "stream",
     "text": [
      "\b\b\b\b\b\b\b\b\b\b\b\b\b\b\b\b\b\b\b\b\b\b\b\b\b\b\b\b\b\b\b\b\b\b\b\b\b\b\b\b\b\b\b\b\b\b\r",
      "1/1 [==============================] - 0s 137ms/step\n"
     ]
    },
    {
     "name": "stdout",
     "output_type": "stream",
     "text": [
      "\r",
      "1/1 [==============================] - ETA: 0s"
     ]
    },
    {
     "name": "stdout",
     "output_type": "stream",
     "text": [
      "\b\b\b\b\b\b\b\b\b\b\b\b\b\b\b\b\b\b\b\b\b\b\b\b\b\b\b\b\b\b\b\b\b\b\b\b\b\b\b\b\b\b\b\b\b\b\r",
      "1/1 [==============================] - 0s 121ms/step\n"
     ]
    },
    {
     "name": "stdout",
     "output_type": "stream",
     "text": [
      "\r",
      "1/1 [==============================] - ETA: 0s"
     ]
    },
    {
     "name": "stdout",
     "output_type": "stream",
     "text": [
      "\b\b\b\b\b\b\b\b\b\b\b\b\b\b\b\b\b\b\b\b\b\b\b\b\b\b\b\b\b\b\b\b\b\b\b\b\b\b\b\b\b\b\b\b\b\b\r",
      "1/1 [==============================] - 0s 129ms/step\n"
     ]
    },
    {
     "name": "stdout",
     "output_type": "stream",
     "text": [
      "\r",
      "1/1 [==============================] - ETA: 0s"
     ]
    },
    {
     "name": "stdout",
     "output_type": "stream",
     "text": [
      "\b\b\b\b\b\b\b\b\b\b\b\b\b\b\b\b\b\b\b\b\b\b\b\b\b\b\b\b\b\b\b\b\b\b\b\b\b\b\b\b\b\b\b\b\b\b\r",
      "1/1 [==============================] - 0s 131ms/step\n"
     ]
    },
    {
     "name": "stdout",
     "output_type": "stream",
     "text": [
      "\r",
      "1/1 [==============================] - ETA: 0s"
     ]
    },
    {
     "name": "stdout",
     "output_type": "stream",
     "text": [
      "\b\b\b\b\b\b\b\b\b\b\b\b\b\b\b\b\b\b\b\b\b\b\b\b\b\b\b\b\b\b\b\b\b\b\b\b\b\b\b\b\b\b\b\b\b\b\r",
      "1/1 [==============================] - 0s 128ms/step\n"
     ]
    },
    {
     "name": "stdout",
     "output_type": "stream",
     "text": [
      "\r",
      "1/1 [==============================] - ETA: 0s"
     ]
    },
    {
     "name": "stdout",
     "output_type": "stream",
     "text": [
      "\b\b\b\b\b\b\b\b\b\b\b\b\b\b\b\b\b\b\b\b\b\b\b\b\b\b\b\b\b\b\b\b\b\b\b\b\b\b\b\b\b\b\b\b\b\b\r",
      "1/1 [==============================] - 0s 142ms/step\n"
     ]
    },
    {
     "name": "stdout",
     "output_type": "stream",
     "text": [
      "\r",
      "1/1 [==============================] - ETA: 0s"
     ]
    },
    {
     "name": "stdout",
     "output_type": "stream",
     "text": [
      "\b\b\b\b\b\b\b\b\b\b\b\b\b\b\b\b\b\b\b\b\b\b\b\b\b\b\b\b\b\b\b\b\b\b\b\b\b\b\b\b\b\b\b\b\b\b\r",
      "1/1 [==============================] - 0s 127ms/step\n"
     ]
    },
    {
     "name": "stdout",
     "output_type": "stream",
     "text": [
      "\r",
      "1/1 [==============================] - ETA: 0s"
     ]
    },
    {
     "name": "stdout",
     "output_type": "stream",
     "text": [
      "\b\b\b\b\b\b\b\b\b\b\b\b\b\b\b\b\b\b\b\b\b\b\b\b\b\b\b\b\b\b\b\b\b\b\b\b\b\b\b\b\b\b\b\b\b\b\r",
      "1/1 [==============================] - 0s 139ms/step\n"
     ]
    },
    {
     "name": "stdout",
     "output_type": "stream",
     "text": [
      "\r",
      "1/1 [==============================] - ETA: 0s"
     ]
    },
    {
     "name": "stdout",
     "output_type": "stream",
     "text": [
      "\b\b\b\b\b\b\b\b\b\b\b\b\b\b\b\b\b\b\b\b\b\b\b\b\b\b\b\b\b\b\b\b\b\b\b\b\b\b\b\b\b\b\b\b\b\b\r",
      "1/1 [==============================] - 0s 120ms/step\n"
     ]
    },
    {
     "name": "stdout",
     "output_type": "stream",
     "text": [
      "\r",
      "1/1 [==============================] - ETA: 0s"
     ]
    },
    {
     "name": "stdout",
     "output_type": "stream",
     "text": [
      "\b\b\b\b\b\b\b\b\b\b\b\b\b\b\b\b\b\b\b\b\b\b\b\b\b\b\b\b\b\b\b\b\b\b\b\b\b\b\b\b\b\b\b\b\b\b\r",
      "1/1 [==============================] - 0s 124ms/step\n"
     ]
    },
    {
     "name": "stdout",
     "output_type": "stream",
     "text": [
      "\r",
      "1/1 [==============================] - ETA: 0s"
     ]
    },
    {
     "name": "stdout",
     "output_type": "stream",
     "text": [
      "\b\b\b\b\b\b\b\b\b\b\b\b\b\b\b\b\b\b\b\b\b\b\b\b\b\b\b\b\b\b\b\b\b\b\b\b\b\b\b\b\b\b\b\b\b\b\r",
      "1/1 [==============================] - 0s 110ms/step\n"
     ]
    },
    {
     "name": "stdout",
     "output_type": "stream",
     "text": [
      "\r",
      "1/1 [==============================] - ETA: 0s"
     ]
    },
    {
     "name": "stdout",
     "output_type": "stream",
     "text": [
      "\b\b\b\b\b\b\b\b\b\b\b\b\b\b\b\b\b\b\b\b\b\b\b\b\b\b\b\b\b\b\b\b\b\b\b\b\b\b\b\b\b\b\b\b\b\b\r",
      "1/1 [==============================] - 0s 132ms/step\n"
     ]
    },
    {
     "name": "stdout",
     "output_type": "stream",
     "text": [
      "\r",
      "1/1 [==============================] - ETA: 0s"
     ]
    },
    {
     "name": "stdout",
     "output_type": "stream",
     "text": [
      "\b\b\b\b\b\b\b\b\b\b\b\b\b\b\b\b\b\b\b\b\b\b\b\b\b\b\b\b\b\b\b\b\b\b\b\b\b\b\b\b\b\b\b\b\b\b\r",
      "1/1 [==============================] - 0s 118ms/step\n"
     ]
    },
    {
     "name": "stdout",
     "output_type": "stream",
     "text": [
      "\r",
      "1/1 [==============================] - ETA: 0s"
     ]
    },
    {
     "name": "stdout",
     "output_type": "stream",
     "text": [
      "\b\b\b\b\b\b\b\b\b\b\b\b\b\b\b\b\b\b\b\b\b\b\b\b\b\b\b\b\b\b\b\b\b\b\b\b\b\b\b\b\b\b\b\b\b\b\r",
      "1/1 [==============================] - 0s 129ms/step\n"
     ]
    },
    {
     "name": "stdout",
     "output_type": "stream",
     "text": [
      "\r",
      "1/1 [==============================] - ETA: 0s"
     ]
    },
    {
     "name": "stdout",
     "output_type": "stream",
     "text": [
      "\b\b\b\b\b\b\b\b\b\b\b\b\b\b\b\b\b\b\b\b\b\b\b\b\b\b\b\b\b\b\b\b\b\b\b\b\b\b\b\b\b\b\b\b\b\b\r",
      "1/1 [==============================] - 0s 116ms/step\n"
     ]
    },
    {
     "name": "stdout",
     "output_type": "stream",
     "text": [
      "\r",
      "1/1 [==============================] - ETA: 0s"
     ]
    },
    {
     "name": "stdout",
     "output_type": "stream",
     "text": [
      "\b\b\b\b\b\b\b\b\b\b\b\b\b\b\b\b\b\b\b\b\b\b\b\b\b\b\b\b\b\b\b\b\b\b\b\b\b\b\b\b\b\b\b\b\b\b\r",
      "1/1 [==============================] - 0s 112ms/step\n"
     ]
    },
    {
     "name": "stdout",
     "output_type": "stream",
     "text": [
      "\r",
      "1/1 [==============================] - ETA: 0s"
     ]
    },
    {
     "name": "stdout",
     "output_type": "stream",
     "text": [
      "\b\b\b\b\b\b\b\b\b\b\b\b\b\b\b\b\b\b\b\b\b\b\b\b\b\b\b\b\b\b\b\b\b\b\b\b\b\b\b\b\b\b\b\b\b\b\r",
      "1/1 [==============================] - 0s 135ms/step\n"
     ]
    },
    {
     "name": "stdout",
     "output_type": "stream",
     "text": [
      "\r",
      "1/1 [==============================] - ETA: 0s"
     ]
    },
    {
     "name": "stdout",
     "output_type": "stream",
     "text": [
      "\b\b\b\b\b\b\b\b\b\b\b\b\b\b\b\b\b\b\b\b\b\b\b\b\b\b\b\b\b\b\b\b\b\b\b\b\b\b\b\b\b\b\b\b\b\b\r",
      "1/1 [==============================] - 0s 117ms/step\n"
     ]
    },
    {
     "name": "stdout",
     "output_type": "stream",
     "text": [
      "\r",
      "1/1 [==============================] - ETA: 0s"
     ]
    },
    {
     "name": "stdout",
     "output_type": "stream",
     "text": [
      "\b\b\b\b\b\b\b\b\b\b\b\b\b\b\b\b\b\b\b\b\b\b\b\b\b\b\b\b\b\b\b\b\b\b\b\b\b\b\b\b\b\b\b\b\b\b\r",
      "1/1 [==============================] - 0s 122ms/step\n"
     ]
    },
    {
     "name": "stdout",
     "output_type": "stream",
     "text": [
      "\r",
      "1/1 [==============================] - ETA: 0s"
     ]
    },
    {
     "name": "stdout",
     "output_type": "stream",
     "text": [
      "\b\b\b\b\b\b\b\b\b\b\b\b\b\b\b\b\b\b\b\b\b\b\b\b\b\b\b\b\b\b\b\b\b\b\b\b\b\b\b\b\b\b\b\b\b\b\r",
      "1/1 [==============================] - 0s 124ms/step\n"
     ]
    },
    {
     "name": "stdout",
     "output_type": "stream",
     "text": [
      "\r",
      "1/1 [==============================] - ETA: 0s"
     ]
    },
    {
     "name": "stdout",
     "output_type": "stream",
     "text": [
      "\b\b\b\b\b\b\b\b\b\b\b\b\b\b\b\b\b\b\b\b\b\b\b\b\b\b\b\b\b\b\b\b\b\b\b\b\b\b\b\b\b\b\b\b\b\b\r",
      "1/1 [==============================] - 0s 144ms/step\n"
     ]
    },
    {
     "name": "stdout",
     "output_type": "stream",
     "text": [
      "\r",
      "1/1 [==============================] - ETA: 0s"
     ]
    },
    {
     "name": "stdout",
     "output_type": "stream",
     "text": [
      "\b\b\b\b\b\b\b\b\b\b\b\b\b\b\b\b\b\b\b\b\b\b\b\b\b\b\b\b\b\b\b\b\b\b\b\b\b\b\b\b\b\b\b\b\b\b\r",
      "1/1 [==============================] - 0s 137ms/step\n"
     ]
    },
    {
     "name": "stdout",
     "output_type": "stream",
     "text": [
      "\r",
      "1/1 [==============================] - ETA: 0s"
     ]
    },
    {
     "name": "stdout",
     "output_type": "stream",
     "text": [
      "\b\b\b\b\b\b\b\b\b\b\b\b\b\b\b\b\b\b\b\b\b\b\b\b\b\b\b\b\b\b\b\b\b\b\b\b\b\b\b\b\b\b\b\b\b\b\r",
      "1/1 [==============================] - 0s 117ms/step\n"
     ]
    },
    {
     "name": "stdout",
     "output_type": "stream",
     "text": [
      "\r",
      "1/1 [==============================] - ETA: 0s"
     ]
    },
    {
     "name": "stdout",
     "output_type": "stream",
     "text": [
      "\b\b\b\b\b\b\b\b\b\b\b\b\b\b\b\b\b\b\b\b\b\b\b\b\b\b\b\b\b\b\b\b\b\b\b\b\b\b\b\b\b\b\b\b\b\b\r",
      "1/1 [==============================] - 0s 120ms/step\n"
     ]
    },
    {
     "name": "stdout",
     "output_type": "stream",
     "text": [
      "\r",
      "1/1 [==============================] - ETA: 0s"
     ]
    },
    {
     "name": "stdout",
     "output_type": "stream",
     "text": [
      "\b\b\b\b\b\b\b\b\b\b\b\b\b\b\b\b\b\b\b\b\b\b\b\b\b\b\b\b\b\b\b\b\b\b\b\b\b\b\b\b\b\b\b\b\b\b\r",
      "1/1 [==============================] - 0s 138ms/step\n"
     ]
    },
    {
     "name": "stdout",
     "output_type": "stream",
     "text": [
      "\r",
      "1/1 [==============================] - ETA: 0s"
     ]
    },
    {
     "name": "stdout",
     "output_type": "stream",
     "text": [
      "\b\b\b\b\b\b\b\b\b\b\b\b\b\b\b\b\b\b\b\b\b\b\b\b\b\b\b\b\b\b\b\b\b\b\b\b\b\b\b\b\b\b\b\b\b\b\r",
      "1/1 [==============================] - 0s 126ms/step\n"
     ]
    },
    {
     "name": "stdout",
     "output_type": "stream",
     "text": [
      "\r",
      "1/1 [==============================] - ETA: 0s"
     ]
    },
    {
     "name": "stdout",
     "output_type": "stream",
     "text": [
      "\b\b\b\b\b\b\b\b\b\b\b\b\b\b\b\b\b\b\b\b\b\b\b\b\b\b\b\b\b\b\b\b\b\b\b\b\b\b\b\b\b\b\b\b\b\b\r",
      "1/1 [==============================] - 0s 133ms/step\n"
     ]
    },
    {
     "name": "stdout",
     "output_type": "stream",
     "text": [
      "\r",
      "1/1 [==============================] - ETA: 0s"
     ]
    },
    {
     "name": "stdout",
     "output_type": "stream",
     "text": [
      "\b\b\b\b\b\b\b\b\b\b\b\b\b\b\b\b\b\b\b\b\b\b\b\b\b\b\b\b\b\b\b\b\b\b\b\b\b\b\b\b\b\b\b\b\b\b\r",
      "1/1 [==============================] - 0s 120ms/step\n"
     ]
    },
    {
     "name": "stdout",
     "output_type": "stream",
     "text": [
      "\r",
      "1/1 [==============================] - ETA: 0s"
     ]
    },
    {
     "name": "stdout",
     "output_type": "stream",
     "text": [
      "\b\b\b\b\b\b\b\b\b\b\b\b\b\b\b\b\b\b\b\b\b\b\b\b\b\b\b\b\b\b\b\b\b\b\b\b\b\b\b\b\b\b\b\b\b\b\r",
      "1/1 [==============================] - 0s 119ms/step\n"
     ]
    },
    {
     "name": "stdout",
     "output_type": "stream",
     "text": [
      "\r",
      "1/1 [==============================] - ETA: 0s"
     ]
    },
    {
     "name": "stdout",
     "output_type": "stream",
     "text": [
      "\b\b\b\b\b\b\b\b\b\b\b\b\b\b\b\b\b\b\b\b\b\b\b\b\b\b\b\b\b\b\b\b\b\b\b\b\b\b\b\b\b\b\b\b\b\b\r",
      "1/1 [==============================] - 0s 128ms/step\n"
     ]
    },
    {
     "name": "stdout",
     "output_type": "stream",
     "text": [
      "\r",
      "1/1 [==============================] - ETA: 0s"
     ]
    },
    {
     "name": "stdout",
     "output_type": "stream",
     "text": [
      "\b\b\b\b\b\b\b\b\b\b\b\b\b\b\b\b\b\b\b\b\b\b\b\b\b\b\b\b\b\b\b\b\b\b\b\b\b\b\b\b\b\b\b\b\b\b\r",
      "1/1 [==============================] - 0s 131ms/step\n"
     ]
    },
    {
     "name": "stdout",
     "output_type": "stream",
     "text": [
      "\r",
      "1/1 [==============================] - ETA: 0s"
     ]
    },
    {
     "name": "stdout",
     "output_type": "stream",
     "text": [
      "\b\b\b\b\b\b\b\b\b\b\b\b\b\b\b\b\b\b\b\b\b\b\b\b\b\b\b\b\b\b\b\b\b\b\b\b\b\b\b\b\b\b\b\b\b\b\r",
      "1/1 [==============================] - 0s 124ms/step\n"
     ]
    },
    {
     "name": "stdout",
     "output_type": "stream",
     "text": [
      "\r",
      "1/1 [==============================] - ETA: 0s"
     ]
    },
    {
     "name": "stdout",
     "output_type": "stream",
     "text": [
      "\b\b\b\b\b\b\b\b\b\b\b\b\b\b\b\b\b\b\b\b\b\b\b\b\b\b\b\b\b\b\b\b\b\b\b\b\b\b\b\b\b\b\b\b\b\b\r",
      "1/1 [==============================] - 0s 130ms/step\n"
     ]
    },
    {
     "name": "stdout",
     "output_type": "stream",
     "text": [
      "\r",
      "1/1 [==============================] - ETA: 0s"
     ]
    },
    {
     "name": "stdout",
     "output_type": "stream",
     "text": [
      "\b\b\b\b\b\b\b\b\b\b\b\b\b\b\b\b\b\b\b\b\b\b\b\b\b\b\b\b\b\b\b\b\b\b\b\b\b\b\b\b\b\b\b\b\b\b\r",
      "1/1 [==============================] - 0s 126ms/step\n"
     ]
    },
    {
     "name": "stdout",
     "output_type": "stream",
     "text": [
      "\r",
      "1/1 [==============================] - ETA: 0s"
     ]
    },
    {
     "name": "stdout",
     "output_type": "stream",
     "text": [
      "\b\b\b\b\b\b\b\b\b\b\b\b\b\b\b\b\b\b\b\b\b\b\b\b\b\b\b\b\b\b\b\b\b\b\b\b\b\b\b\b\b\b\b\b\b\b\r",
      "1/1 [==============================] - 0s 121ms/step\n"
     ]
    },
    {
     "name": "stdout",
     "output_type": "stream",
     "text": [
      "\r",
      "1/1 [==============================] - ETA: 0s"
     ]
    },
    {
     "name": "stdout",
     "output_type": "stream",
     "text": [
      "\b\b\b\b\b\b\b\b\b\b\b\b\b\b\b\b\b\b\b\b\b\b\b\b\b\b\b\b\b\b\b\b\b\b\b\b\b\b\b\b\b\b\b\b\b\b\r",
      "1/1 [==============================] - 0s 121ms/step\n"
     ]
    },
    {
     "name": "stdout",
     "output_type": "stream",
     "text": [
      "\r",
      "1/1 [==============================] - ETA: 0s"
     ]
    },
    {
     "name": "stdout",
     "output_type": "stream",
     "text": [
      "\b\b\b\b\b\b\b\b\b\b\b\b\b\b\b\b\b\b\b\b\b\b\b\b\b\b\b\b\b\b\b\b\b\b\b\b\b\b\b\b\b\b\b\b\b\b\r",
      "1/1 [==============================] - 0s 118ms/step\n"
     ]
    },
    {
     "name": "stdout",
     "output_type": "stream",
     "text": [
      "\r",
      "1/1 [==============================] - ETA: 0s"
     ]
    },
    {
     "name": "stdout",
     "output_type": "stream",
     "text": [
      "\b\b\b\b\b\b\b\b\b\b\b\b\b\b\b\b\b\b\b\b\b\b\b\b\b\b\b\b\b\b\b\b\b\b\b\b\b\b\b\b\b\b\b\b\b\b\r",
      "1/1 [==============================] - 0s 124ms/step\n"
     ]
    },
    {
     "name": "stdout",
     "output_type": "stream",
     "text": [
      "\r",
      "1/1 [==============================] - ETA: 0s"
     ]
    },
    {
     "name": "stdout",
     "output_type": "stream",
     "text": [
      "\b\b\b\b\b\b\b\b\b\b\b\b\b\b\b\b\b\b\b\b\b\b\b\b\b\b\b\b\b\b\b\b\b\b\b\b\b\b\b\b\b\b\b\b\b\b\r",
      "1/1 [==============================] - 0s 135ms/step\n"
     ]
    },
    {
     "name": "stdout",
     "output_type": "stream",
     "text": [
      "\r",
      "1/1 [==============================] - ETA: 0s"
     ]
    },
    {
     "name": "stdout",
     "output_type": "stream",
     "text": [
      "\b\b\b\b\b\b\b\b\b\b\b\b\b\b\b\b\b\b\b\b\b\b\b\b\b\b\b\b\b\b\b\b\b\b\b\b\b\b\b\b\b\b\b\b\b\b\r",
      "1/1 [==============================] - 0s 123ms/step\n"
     ]
    },
    {
     "name": "stdout",
     "output_type": "stream",
     "text": [
      "\r",
      "1/1 [==============================] - ETA: 0s"
     ]
    },
    {
     "name": "stdout",
     "output_type": "stream",
     "text": [
      "\b\b\b\b\b\b\b\b\b\b\b\b\b\b\b\b\b\b\b\b\b\b\b\b\b\b\b\b\b\b\b\b\b\b\b\b\b\b\b\b\b\b\b\b\b\b\r",
      "1/1 [==============================] - 0s 120ms/step\n"
     ]
    },
    {
     "name": "stdout",
     "output_type": "stream",
     "text": [
      "\r",
      "1/1 [==============================] - ETA: 0s"
     ]
    },
    {
     "name": "stdout",
     "output_type": "stream",
     "text": [
      "\b\b\b\b\b\b\b\b\b\b\b\b\b\b\b\b\b\b\b\b\b\b\b\b\b\b\b\b\b\b\b\b\b\b\b\b\b\b\b\b\b\b\b\b\b\b\r",
      "1/1 [==============================] - 0s 123ms/step\n"
     ]
    },
    {
     "name": "stdout",
     "output_type": "stream",
     "text": [
      "\r",
      "1/1 [==============================] - ETA: 0s"
     ]
    },
    {
     "name": "stdout",
     "output_type": "stream",
     "text": [
      "\b\b\b\b\b\b\b\b\b\b\b\b\b\b\b\b\b\b\b\b\b\b\b\b\b\b\b\b\b\b\b\b\b\b\b\b\b\b\b\b\b\b\b\b\b\b\r",
      "1/1 [==============================] - 0s 125ms/step\n"
     ]
    },
    {
     "name": "stdout",
     "output_type": "stream",
     "text": [
      "\r",
      "1/1 [==============================] - ETA: 0s"
     ]
    },
    {
     "name": "stdout",
     "output_type": "stream",
     "text": [
      "\b\b\b\b\b\b\b\b\b\b\b\b\b\b\b\b\b\b\b\b\b\b\b\b\b\b\b\b\b\b\b\b\b\b\b\b\b\b\b\b\b\b\b\b\b\b\r",
      "1/1 [==============================] - 0s 133ms/step\n"
     ]
    },
    {
     "name": "stdout",
     "output_type": "stream",
     "text": [
      "\r",
      "1/1 [==============================] - ETA: 0s"
     ]
    },
    {
     "name": "stdout",
     "output_type": "stream",
     "text": [
      "\b\b\b\b\b\b\b\b\b\b\b\b\b\b\b\b\b\b\b\b\b\b\b\b\b\b\b\b\b\b\b\b\b\b\b\b\b\b\b\b\b\b\b\b\b\b\r",
      "1/1 [==============================] - 0s 124ms/step\n"
     ]
    },
    {
     "name": "stdout",
     "output_type": "stream",
     "text": [
      "\r",
      "1/1 [==============================] - ETA: 0s"
     ]
    },
    {
     "name": "stdout",
     "output_type": "stream",
     "text": [
      "\b\b\b\b\b\b\b\b\b\b\b\b\b\b\b\b\b\b\b\b\b\b\b\b\b\b\b\b\b\b\b\b\b\b\b\b\b\b\b\b\b\b\b\b\b\b\r",
      "1/1 [==============================] - 0s 127ms/step\n"
     ]
    },
    {
     "name": "stdout",
     "output_type": "stream",
     "text": [
      "\r",
      "1/1 [==============================] - ETA: 0s"
     ]
    },
    {
     "name": "stdout",
     "output_type": "stream",
     "text": [
      "\b\b\b\b\b\b\b\b\b\b\b\b\b\b\b\b\b\b\b\b\b\b\b\b\b\b\b\b\b\b\b\b\b\b\b\b\b\b\b\b\b\b\b\b\b\b\r",
      "1/1 [==============================] - 0s 144ms/step\n"
     ]
    },
    {
     "name": "stdout",
     "output_type": "stream",
     "text": [
      "\r",
      "1/1 [==============================] - ETA: 0s"
     ]
    },
    {
     "name": "stdout",
     "output_type": "stream",
     "text": [
      "\b\b\b\b\b\b\b\b\b\b\b\b\b\b\b\b\b\b\b\b\b\b\b\b\b\b\b\b\b\b\b\b\b\b\b\b\b\b\b\b\b\b\b\b\b\b\r",
      "1/1 [==============================] - 0s 124ms/step\n"
     ]
    },
    {
     "name": "stdout",
     "output_type": "stream",
     "text": [
      "\r",
      "1/1 [==============================] - ETA: 0s"
     ]
    },
    {
     "name": "stdout",
     "output_type": "stream",
     "text": [
      "\b\b\b\b\b\b\b\b\b\b\b\b\b\b\b\b\b\b\b\b\b\b\b\b\b\b\b\b\b\b\b\b\b\b\b\b\b\b\b\b\b\b\b\b\b\b\r",
      "1/1 [==============================] - 0s 117ms/step\n"
     ]
    },
    {
     "name": "stdout",
     "output_type": "stream",
     "text": [
      "\r",
      "1/1 [==============================] - ETA: 0s"
     ]
    },
    {
     "name": "stdout",
     "output_type": "stream",
     "text": [
      "\b\b\b\b\b\b\b\b\b\b\b\b\b\b\b\b\b\b\b\b\b\b\b\b\b\b\b\b\b\b\b\b\b\b\b\b\b\b\b\b\b\b\b\b\b\b\r",
      "1/1 [==============================] - 0s 126ms/step\n"
     ]
    },
    {
     "name": "stdout",
     "output_type": "stream",
     "text": [
      "\r",
      "1/1 [==============================] - ETA: 0s"
     ]
    },
    {
     "name": "stdout",
     "output_type": "stream",
     "text": [
      "\b\b\b\b\b\b\b\b\b\b\b\b\b\b\b\b\b\b\b\b\b\b\b\b\b\b\b\b\b\b\b\b\b\b\b\b\b\b\b\b\b\b\b\b\b\b\r",
      "1/1 [==============================] - 0s 126ms/step\n"
     ]
    },
    {
     "name": "stdout",
     "output_type": "stream",
     "text": [
      "\r",
      "1/1 [==============================] - ETA: 0s"
     ]
    },
    {
     "name": "stdout",
     "output_type": "stream",
     "text": [
      "\b\b\b\b\b\b\b\b\b\b\b\b\b\b\b\b\b\b\b\b\b\b\b\b\b\b\b\b\b\b\b\b\b\b\b\b\b\b\b\b\b\b\b\b\b\b\r",
      "1/1 [==============================] - 0s 117ms/step\n"
     ]
    },
    {
     "name": "stdout",
     "output_type": "stream",
     "text": [
      "\r",
      "1/1 [==============================] - ETA: 0s"
     ]
    },
    {
     "name": "stdout",
     "output_type": "stream",
     "text": [
      "\b\b\b\b\b\b\b\b\b\b\b\b\b\b\b\b\b\b\b\b\b\b\b\b\b\b\b\b\b\b\b\b\b\b\b\b\b\b\b\b\b\b\b\b\b\b\r",
      "1/1 [==============================] - 0s 119ms/step\n"
     ]
    },
    {
     "name": "stdout",
     "output_type": "stream",
     "text": [
      "\r",
      "1/1 [==============================] - ETA: 0s"
     ]
    },
    {
     "name": "stdout",
     "output_type": "stream",
     "text": [
      "\b\b\b\b\b\b\b\b\b\b\b\b\b\b\b\b\b\b\b\b\b\b\b\b\b\b\b\b\b\b\b\b\b\b\b\b\b\b\b\b\b\b\b\b\b\b\r",
      "1/1 [==============================] - 0s 130ms/step\n"
     ]
    },
    {
     "name": "stdout",
     "output_type": "stream",
     "text": [
      "\r",
      "1/1 [==============================] - ETA: 0s"
     ]
    },
    {
     "name": "stdout",
     "output_type": "stream",
     "text": [
      "\b\b\b\b\b\b\b\b\b\b\b\b\b\b\b\b\b\b\b\b\b\b\b\b\b\b\b\b\b\b\b\b\b\b\b\b\b\b\b\b\b\b\b\b\b\b\r",
      "1/1 [==============================] - 0s 148ms/step\n"
     ]
    },
    {
     "name": "stdout",
     "output_type": "stream",
     "text": [
      "\r",
      "1/1 [==============================] - ETA: 0s"
     ]
    },
    {
     "name": "stdout",
     "output_type": "stream",
     "text": [
      "\b\b\b\b\b\b\b\b\b\b\b\b\b\b\b\b\b\b\b\b\b\b\b\b\b\b\b\b\b\b\b\b\b\b\b\b\b\b\b\b\b\b\b\b\b\b\r",
      "1/1 [==============================] - 0s 123ms/step\n"
     ]
    },
    {
     "name": "stdout",
     "output_type": "stream",
     "text": [
      "\r",
      "1/1 [==============================] - ETA: 0s"
     ]
    },
    {
     "name": "stdout",
     "output_type": "stream",
     "text": [
      "\b\b\b\b\b\b\b\b\b\b\b\b\b\b\b\b\b\b\b\b\b\b\b\b\b\b\b\b\b\b\b\b\b\b\b\b\b\b\b\b\b\b\b\b\b\b\r",
      "1/1 [==============================] - 0s 125ms/step\n"
     ]
    },
    {
     "name": "stdout",
     "output_type": "stream",
     "text": [
      "\r",
      "1/1 [==============================] - ETA: 0s"
     ]
    },
    {
     "name": "stdout",
     "output_type": "stream",
     "text": [
      "\b\b\b\b\b\b\b\b\b\b\b\b\b\b\b\b\b\b\b\b\b\b\b\b\b\b\b\b\b\b\b\b\b\b\b\b\b\b\b\b\b\b\b\b\b\b\r",
      "1/1 [==============================] - 0s 125ms/step\n"
     ]
    },
    {
     "name": "stdout",
     "output_type": "stream",
     "text": [
      "\r",
      "1/1 [==============================] - ETA: 0s"
     ]
    },
    {
     "name": "stdout",
     "output_type": "stream",
     "text": [
      "\b\b\b\b\b\b\b\b\b\b\b\b\b\b\b\b\b\b\b\b\b\b\b\b\b\b\b\b\b\b\b\b\b\b\b\b\b\b\b\b\b\b\b\b\b\b\r",
      "1/1 [==============================] - 0s 131ms/step\n"
     ]
    },
    {
     "name": "stdout",
     "output_type": "stream",
     "text": [
      "\r",
      "1/1 [==============================] - ETA: 0s"
     ]
    },
    {
     "name": "stdout",
     "output_type": "stream",
     "text": [
      "\b\b\b\b\b\b\b\b\b\b\b\b\b\b\b\b\b\b\b\b\b\b\b\b\b\b\b\b\b\b\b\b\b\b\b\b\b\b\b\b\b\b\b\b\b\b\r",
      "1/1 [==============================] - 0s 121ms/step\n"
     ]
    },
    {
     "name": "stdout",
     "output_type": "stream",
     "text": [
      "\r",
      "1/1 [==============================] - ETA: 0s"
     ]
    },
    {
     "name": "stdout",
     "output_type": "stream",
     "text": [
      "\b\b\b\b\b\b\b\b\b\b\b\b\b\b\b\b\b\b\b\b\b\b\b\b\b\b\b\b\b\b\b\b\b\b\b\b\b\b\b\b\b\b\b\b\b\b\r",
      "1/1 [==============================] - 0s 142ms/step\n"
     ]
    },
    {
     "name": "stdout",
     "output_type": "stream",
     "text": [
      "\r",
      "1/1 [==============================] - ETA: 0s"
     ]
    },
    {
     "name": "stdout",
     "output_type": "stream",
     "text": [
      "\b\b\b\b\b\b\b\b\b\b\b\b\b\b\b\b\b\b\b\b\b\b\b\b\b\b\b\b\b\b\b\b\b\b\b\b\b\b\b\b\b\b\b\b\b\b\r",
      "1/1 [==============================] - 0s 127ms/step\n"
     ]
    },
    {
     "name": "stdout",
     "output_type": "stream",
     "text": [
      "\r",
      "1/1 [==============================] - ETA: 0s"
     ]
    },
    {
     "name": "stdout",
     "output_type": "stream",
     "text": [
      "\b\b\b\b\b\b\b\b\b\b\b\b\b\b\b\b\b\b\b\b\b\b\b\b\b\b\b\b\b\b\b\b\b\b\b\b\b\b\b\b\b\b\b\b\b\b\r",
      "1/1 [==============================] - 0s 124ms/step\n"
     ]
    },
    {
     "name": "stdout",
     "output_type": "stream",
     "text": [
      "\r",
      "1/1 [==============================] - ETA: 0s"
     ]
    },
    {
     "name": "stdout",
     "output_type": "stream",
     "text": [
      "\b\b\b\b\b\b\b\b\b\b\b\b\b\b\b\b\b\b\b\b\b\b\b\b\b\b\b\b\b\b\b\b\b\b\b\b\b\b\b\b\b\b\b\b\b\b\r",
      "1/1 [==============================] - 0s 130ms/step\n"
     ]
    },
    {
     "name": "stdout",
     "output_type": "stream",
     "text": [
      "\r",
      "1/1 [==============================] - ETA: 0s"
     ]
    },
    {
     "name": "stdout",
     "output_type": "stream",
     "text": [
      "\b\b\b\b\b\b\b\b\b\b\b\b\b\b\b\b\b\b\b\b\b\b\b\b\b\b\b\b\b\b\b\b\b\b\b\b\b\b\b\b\b\b\b\b\b\b\r",
      "1/1 [==============================] - 0s 123ms/step\n"
     ]
    },
    {
     "name": "stdout",
     "output_type": "stream",
     "text": [
      "\r",
      "1/1 [==============================] - ETA: 0s"
     ]
    },
    {
     "name": "stdout",
     "output_type": "stream",
     "text": [
      "\b\b\b\b\b\b\b\b\b\b\b\b\b\b\b\b\b\b\b\b\b\b\b\b\b\b\b\b\b\b\b\b\b\b\b\b\b\b\b\b\b\b\b\b\b\b\r",
      "1/1 [==============================] - 0s 110ms/step\n"
     ]
    },
    {
     "name": "stdout",
     "output_type": "stream",
     "text": [
      "\r",
      "1/1 [==============================] - ETA: 0s"
     ]
    },
    {
     "name": "stdout",
     "output_type": "stream",
     "text": [
      "\b\b\b\b\b\b\b\b\b\b\b\b\b\b\b\b\b\b\b\b\b\b\b\b\b\b\b\b\b\b\b\b\b\b\b\b\b\b\b\b\b\b\b\b\b\b\r",
      "1/1 [==============================] - 0s 120ms/step\n"
     ]
    },
    {
     "name": "stdout",
     "output_type": "stream",
     "text": [
      "\r",
      "1/1 [==============================] - ETA: 0s"
     ]
    },
    {
     "name": "stdout",
     "output_type": "stream",
     "text": [
      "\b\b\b\b\b\b\b\b\b\b\b\b\b\b\b\b\b\b\b\b\b\b\b\b\b\b\b\b\b\b\b\b\b\b\b\b\b\b\b\b\b\b\b\b\b\b\r",
      "1/1 [==============================] - 0s 123ms/step\n"
     ]
    },
    {
     "name": "stdout",
     "output_type": "stream",
     "text": [
      "\r",
      "1/1 [==============================] - ETA: 0s"
     ]
    },
    {
     "name": "stdout",
     "output_type": "stream",
     "text": [
      "\b\b\b\b\b\b\b\b\b\b\b\b\b\b\b\b\b\b\b\b\b\b\b\b\b\b\b\b\b\b\b\b\b\b\b\b\b\b\b\b\b\b\b\b\b\b\r",
      "1/1 [==============================] - 0s 133ms/step\n"
     ]
    },
    {
     "name": "stdout",
     "output_type": "stream",
     "text": [
      "\r",
      "1/1 [==============================] - ETA: 0s"
     ]
    },
    {
     "name": "stdout",
     "output_type": "stream",
     "text": [
      "\b\b\b\b\b\b\b\b\b\b\b\b\b\b\b\b\b\b\b\b\b\b\b\b\b\b\b\b\b\b\b\b\b\b\b\b\b\b\b\b\b\b\b\b\b\b\r",
      "1/1 [==============================] - 0s 117ms/step\n"
     ]
    },
    {
     "name": "stdout",
     "output_type": "stream",
     "text": [
      "\r",
      "1/1 [==============================] - ETA: 0s"
     ]
    },
    {
     "name": "stdout",
     "output_type": "stream",
     "text": [
      "\b\b\b\b\b\b\b\b\b\b\b\b\b\b\b\b\b\b\b\b\b\b\b\b\b\b\b\b\b\b\b\b\b\b\b\b\b\b\b\b\b\b\b\b\b\b\r",
      "1/1 [==============================] - 0s 120ms/step\n"
     ]
    },
    {
     "name": "stdout",
     "output_type": "stream",
     "text": [
      "\r",
      "1/1 [==============================] - ETA: 0s"
     ]
    },
    {
     "name": "stdout",
     "output_type": "stream",
     "text": [
      "\b\b\b\b\b\b\b\b\b\b\b\b\b\b\b\b\b\b\b\b\b\b\b\b\b\b\b\b\b\b\b\b\b\b\b\b\b\b\b\b\b\b\b\b\b\b\r",
      "1/1 [==============================] - 0s 130ms/step\n"
     ]
    },
    {
     "name": "stdout",
     "output_type": "stream",
     "text": [
      "\r",
      "1/1 [==============================] - ETA: 0s"
     ]
    },
    {
     "name": "stdout",
     "output_type": "stream",
     "text": [
      "\b\b\b\b\b\b\b\b\b\b\b\b\b\b\b\b\b\b\b\b\b\b\b\b\b\b\b\b\b\b\b\b\b\b\b\b\b\b\b\b\b\b\b\b\b\b\r",
      "1/1 [==============================] - 0s 114ms/step\n"
     ]
    },
    {
     "name": "stdout",
     "output_type": "stream",
     "text": [
      "\r",
      "1/1 [==============================] - ETA: 0s"
     ]
    },
    {
     "name": "stdout",
     "output_type": "stream",
     "text": [
      "\b\b\b\b\b\b\b\b\b\b\b\b\b\b\b\b\b\b\b\b\b\b\b\b\b\b\b\b\b\b\b\b\b\b\b\b\b\b\b\b\b\b\b\b\b\b\r",
      "1/1 [==============================] - 0s 117ms/step\n"
     ]
    },
    {
     "name": "stdout",
     "output_type": "stream",
     "text": [
      "\r",
      "1/1 [==============================] - ETA: 0s"
     ]
    },
    {
     "name": "stdout",
     "output_type": "stream",
     "text": [
      "\b\b\b\b\b\b\b\b\b\b\b\b\b\b\b\b\b\b\b\b\b\b\b\b\b\b\b\b\b\b\b\b\b\b\b\b\b\b\b\b\b\b\b\b\b\b\r",
      "1/1 [==============================] - 0s 119ms/step\n"
     ]
    },
    {
     "name": "stdout",
     "output_type": "stream",
     "text": [
      "\r",
      "1/1 [==============================] - ETA: 0s"
     ]
    },
    {
     "name": "stdout",
     "output_type": "stream",
     "text": [
      "\b\b\b\b\b\b\b\b\b\b\b\b\b\b\b\b\b\b\b\b\b\b\b\b\b\b\b\b\b\b\b\b\b\b\b\b\b\b\b\b\b\b\b\b\b\b\r",
      "1/1 [==============================] - 0s 115ms/step\n"
     ]
    },
    {
     "name": "stdout",
     "output_type": "stream",
     "text": [
      "\r",
      "1/1 [==============================] - ETA: 0s"
     ]
    },
    {
     "name": "stdout",
     "output_type": "stream",
     "text": [
      "\b\b\b\b\b\b\b\b\b\b\b\b\b\b\b\b\b\b\b\b\b\b\b\b\b\b\b\b\b\b\b\b\b\b\b\b\b\b\b\b\b\b\b\b\b\b\r",
      "1/1 [==============================] - 0s 118ms/step\n"
     ]
    },
    {
     "name": "stdout",
     "output_type": "stream",
     "text": [
      "\r",
      "1/1 [==============================] - ETA: 0s"
     ]
    },
    {
     "name": "stdout",
     "output_type": "stream",
     "text": [
      "\b\b\b\b\b\b\b\b\b\b\b\b\b\b\b\b\b\b\b\b\b\b\b\b\b\b\b\b\b\b\b\b\b\b\b\b\b\b\b\b\b\b\b\b\b\b\r",
      "1/1 [==============================] - 0s 126ms/step\n"
     ]
    },
    {
     "name": "stdout",
     "output_type": "stream",
     "text": [
      "\r",
      "1/1 [==============================] - ETA: 0s"
     ]
    },
    {
     "name": "stdout",
     "output_type": "stream",
     "text": [
      "\b\b\b\b\b\b\b\b\b\b\b\b\b\b\b\b\b\b\b\b\b\b\b\b\b\b\b\b\b\b\b\b\b\b\b\b\b\b\b\b\b\b\b\b\b\b\r",
      "1/1 [==============================] - 0s 130ms/step\n"
     ]
    },
    {
     "name": "stdout",
     "output_type": "stream",
     "text": [
      "\r",
      "1/1 [==============================] - ETA: 0s"
     ]
    },
    {
     "name": "stdout",
     "output_type": "stream",
     "text": [
      "\b\b\b\b\b\b\b\b\b\b\b\b\b\b\b\b\b\b\b\b\b\b\b\b\b\b\b\b\b\b\b\b\b\b\b\b\b\b\b\b\b\b\b\b\b\b\r",
      "1/1 [==============================] - 0s 142ms/step\n"
     ]
    },
    {
     "name": "stdout",
     "output_type": "stream",
     "text": [
      "\r",
      "1/1 [==============================] - ETA: 0s"
     ]
    },
    {
     "name": "stdout",
     "output_type": "stream",
     "text": [
      "\b\b\b\b\b\b\b\b\b\b\b\b\b\b\b\b\b\b\b\b\b\b\b\b\b\b\b\b\b\b\b\b\b\b\b\b\b\b\b\b\b\b\b\b\b\b\r",
      "1/1 [==============================] - 0s 125ms/step\n"
     ]
    },
    {
     "name": "stdout",
     "output_type": "stream",
     "text": [
      "\r",
      "1/1 [==============================] - ETA: 0s"
     ]
    },
    {
     "name": "stdout",
     "output_type": "stream",
     "text": [
      "\b\b\b\b\b\b\b\b\b\b\b\b\b\b\b\b\b\b\b\b\b\b\b\b\b\b\b\b\b\b\b\b\b\b\b\b\b\b\b\b\b\b\b\b\b\b\r",
      "1/1 [==============================] - 0s 123ms/step\n"
     ]
    },
    {
     "name": "stdout",
     "output_type": "stream",
     "text": [
      "\r",
      "1/1 [==============================] - ETA: 0s"
     ]
    },
    {
     "name": "stdout",
     "output_type": "stream",
     "text": [
      "\b\b\b\b\b\b\b\b\b\b\b\b\b\b\b\b\b\b\b\b\b\b\b\b\b\b\b\b\b\b\b\b\b\b\b\b\b\b\b\b\b\b\b\b\b\b\r",
      "1/1 [==============================] - 0s 129ms/step\n"
     ]
    },
    {
     "name": "stdout",
     "output_type": "stream",
     "text": [
      "\r",
      "1/1 [==============================] - ETA: 0s"
     ]
    },
    {
     "name": "stdout",
     "output_type": "stream",
     "text": [
      "\b\b\b\b\b\b\b\b\b\b\b\b\b\b\b\b\b\b\b\b\b\b\b\b\b\b\b\b\b\b\b\b\b\b\b\b\b\b\b\b\b\b\b\b\b\b\r",
      "1/1 [==============================] - 0s 121ms/step\n"
     ]
    },
    {
     "name": "stdout",
     "output_type": "stream",
     "text": [
      "\r",
      "1/1 [==============================] - ETA: 0s"
     ]
    },
    {
     "name": "stdout",
     "output_type": "stream",
     "text": [
      "\b\b\b\b\b\b\b\b\b\b\b\b\b\b\b\b\b\b\b\b\b\b\b\b\b\b\b\b\b\b\b\b\b\b\b\b\b\b\b\b\b\b\b\b\b\b\r",
      "1/1 [==============================] - 0s 155ms/step\n"
     ]
    },
    {
     "name": "stdout",
     "output_type": "stream",
     "text": [
      "\r",
      "1/1 [==============================] - ETA: 0s"
     ]
    },
    {
     "name": "stdout",
     "output_type": "stream",
     "text": [
      "\b\b\b\b\b\b\b\b\b\b\b\b\b\b\b\b\b\b\b\b\b\b\b\b\b\b\b\b\b\b\b\b\b\b\b\b\b\b\b\b\b\b\b\b\b\b\r",
      "1/1 [==============================] - 0s 125ms/step\n"
     ]
    },
    {
     "name": "stdout",
     "output_type": "stream",
     "text": [
      "\r",
      "1/1 [==============================] - ETA: 0s"
     ]
    },
    {
     "name": "stdout",
     "output_type": "stream",
     "text": [
      "\b\b\b\b\b\b\b\b\b\b\b\b\b\b\b\b\b\b\b\b\b\b\b\b\b\b\b\b\b\b\b\b\b\b\b\b\b\b\b\b\b\b\b\b\b\b\r",
      "1/1 [==============================] - 0s 120ms/step\n"
     ]
    },
    {
     "name": "stdout",
     "output_type": "stream",
     "text": [
      "\r",
      "1/1 [==============================] - ETA: 0s"
     ]
    },
    {
     "name": "stdout",
     "output_type": "stream",
     "text": [
      "\b\b\b\b\b\b\b\b\b\b\b\b\b\b\b\b\b\b\b\b\b\b\b\b\b\b\b\b\b\b\b\b\b\b\b\b\b\b\b\b\b\b\b\b\b\b\r",
      "1/1 [==============================] - 0s 131ms/step\n"
     ]
    },
    {
     "name": "stdout",
     "output_type": "stream",
     "text": [
      "\r",
      "1/1 [==============================] - ETA: 0s"
     ]
    },
    {
     "name": "stdout",
     "output_type": "stream",
     "text": [
      "\b\b\b\b\b\b\b\b\b\b\b\b\b\b\b\b\b\b\b\b\b\b\b\b\b\b\b\b\b\b\b\b\b\b\b\b\b\b\b\b\b\b\b\b\b\b\r",
      "1/1 [==============================] - 0s 119ms/step\n"
     ]
    },
    {
     "name": "stdout",
     "output_type": "stream",
     "text": [
      "\r",
      "1/1 [==============================] - ETA: 0s"
     ]
    },
    {
     "name": "stdout",
     "output_type": "stream",
     "text": [
      "\b\b\b\b\b\b\b\b\b\b\b\b\b\b\b\b\b\b\b\b\b\b\b\b\b\b\b\b\b\b\b\b\b\b\b\b\b\b\b\b\b\b\b\b\b\b\r",
      "1/1 [==============================] - 0s 133ms/step\n"
     ]
    },
    {
     "name": "stdout",
     "output_type": "stream",
     "text": [
      "\r",
      "1/1 [==============================] - ETA: 0s"
     ]
    },
    {
     "name": "stdout",
     "output_type": "stream",
     "text": [
      "\b\b\b\b\b\b\b\b\b\b\b\b\b\b\b\b\b\b\b\b\b\b\b\b\b\b\b\b\b\b\b\b\b\b\b\b\b\b\b\b\b\b\b\b\b\b\r",
      "1/1 [==============================] - 0s 137ms/step\n"
     ]
    },
    {
     "name": "stdout",
     "output_type": "stream",
     "text": [
      "\r",
      "1/1 [==============================] - ETA: 0s"
     ]
    },
    {
     "name": "stdout",
     "output_type": "stream",
     "text": [
      "\b\b\b\b\b\b\b\b\b\b\b\b\b\b\b\b\b\b\b\b\b\b\b\b\b\b\b\b\b\b\b\b\b\b\b\b\b\b\b\b\b\b\b\b\b\b\r",
      "1/1 [==============================] - 0s 130ms/step\n"
     ]
    },
    {
     "name": "stdout",
     "output_type": "stream",
     "text": [
      "\r",
      "1/1 [==============================] - ETA: 0s"
     ]
    },
    {
     "name": "stdout",
     "output_type": "stream",
     "text": [
      "\b\b\b\b\b\b\b\b\b\b\b\b\b\b\b\b\b\b\b\b\b\b\b\b\b\b\b\b\b\b\b\b\b\b\b\b\b\b\b\b\b\b\b\b\b\b\r",
      "1/1 [==============================] - 0s 126ms/step\n"
     ]
    },
    {
     "name": "stdout",
     "output_type": "stream",
     "text": [
      "\r",
      "1/1 [==============================] - ETA: 0s"
     ]
    },
    {
     "name": "stdout",
     "output_type": "stream",
     "text": [
      "\b\b\b\b\b\b\b\b\b\b\b\b\b\b\b\b\b\b\b\b\b\b\b\b\b\b\b\b\b\b\b\b\b\b\b\b\b\b\b\b\b\b\b\b\b\b\r",
      "1/1 [==============================] - 0s 130ms/step\n"
     ]
    },
    {
     "name": "stdout",
     "output_type": "stream",
     "text": [
      "\r",
      "1/1 [==============================] - ETA: 0s"
     ]
    },
    {
     "name": "stdout",
     "output_type": "stream",
     "text": [
      "\b\b\b\b\b\b\b\b\b\b\b\b\b\b\b\b\b\b\b\b\b\b\b\b\b\b\b\b\b\b\b\b\b\b\b\b\b\b\b\b\b\b\b\b\b\b\r",
      "1/1 [==============================] - 0s 115ms/step\n"
     ]
    },
    {
     "name": "stdout",
     "output_type": "stream",
     "text": [
      "\r",
      "1/1 [==============================] - ETA: 0s"
     ]
    },
    {
     "name": "stdout",
     "output_type": "stream",
     "text": [
      "\b\b\b\b\b\b\b\b\b\b\b\b\b\b\b\b\b\b\b\b\b\b\b\b\b\b\b\b\b\b\b\b\b\b\b\b\b\b\b\b\b\b\b\b\b\b\r",
      "1/1 [==============================] - 0s 111ms/step\n"
     ]
    },
    {
     "name": "stdout",
     "output_type": "stream",
     "text": [
      "\r",
      "1/1 [==============================] - ETA: 0s"
     ]
    },
    {
     "name": "stdout",
     "output_type": "stream",
     "text": [
      "\b\b\b\b\b\b\b\b\b\b\b\b\b\b\b\b\b\b\b\b\b\b\b\b\b\b\b\b\b\b\b\b\b\b\b\b\b\b\b\b\b\b\b\b\b\b\r",
      "1/1 [==============================] - 0s 113ms/step\n"
     ]
    },
    {
     "name": "stdout",
     "output_type": "stream",
     "text": [
      "\r",
      "1/1 [==============================] - ETA: 0s"
     ]
    },
    {
     "name": "stdout",
     "output_type": "stream",
     "text": [
      "\b\b\b\b\b\b\b\b\b\b\b\b\b\b\b\b\b\b\b\b\b\b\b\b\b\b\b\b\b\b\b\b\b\b\b\b\b\b\b\b\b\b\b\b\b\b\r",
      "1/1 [==============================] - 0s 147ms/step\n"
     ]
    },
    {
     "name": "stdout",
     "output_type": "stream",
     "text": [
      "\r",
      "1/1 [==============================] - ETA: 0s"
     ]
    },
    {
     "name": "stdout",
     "output_type": "stream",
     "text": [
      "\b\b\b\b\b\b\b\b\b\b\b\b\b\b\b\b\b\b\b\b\b\b\b\b\b\b\b\b\b\b\b\b\b\b\b\b\b\b\b\b\b\b\b\b\b\b\r",
      "1/1 [==============================] - 0s 120ms/step\n"
     ]
    },
    {
     "name": "stdout",
     "output_type": "stream",
     "text": [
      "\r",
      "1/1 [==============================] - ETA: 0s"
     ]
    },
    {
     "name": "stdout",
     "output_type": "stream",
     "text": [
      "\b\b\b\b\b\b\b\b\b\b\b\b\b\b\b\b\b\b\b\b\b\b\b\b\b\b\b\b\b\b\b\b\b\b\b\b\b\b\b\b\b\b\b\b\b\b\r",
      "1/1 [==============================] - 0s 130ms/step\n"
     ]
    },
    {
     "name": "stdout",
     "output_type": "stream",
     "text": [
      "\r",
      "1/1 [==============================] - ETA: 0s"
     ]
    },
    {
     "name": "stdout",
     "output_type": "stream",
     "text": [
      "\b\b\b\b\b\b\b\b\b\b\b\b\b\b\b\b\b\b\b\b\b\b\b\b\b\b\b\b\b\b\b\b\b\b\b\b\b\b\b\b\b\b\b\b\b\b\r",
      "1/1 [==============================] - 0s 129ms/step\n"
     ]
    },
    {
     "name": "stdout",
     "output_type": "stream",
     "text": [
      "\r",
      "1/1 [==============================] - ETA: 0s"
     ]
    },
    {
     "name": "stdout",
     "output_type": "stream",
     "text": [
      "\b\b\b\b\b\b\b\b\b\b\b\b\b\b\b\b\b\b\b\b\b\b\b\b\b\b\b\b\b\b\b\b\b\b\b\b\b\b\b\b\b\b\b\b\b\b\r",
      "1/1 [==============================] - 0s 124ms/step\n"
     ]
    },
    {
     "name": "stdout",
     "output_type": "stream",
     "text": [
      "\r",
      "1/1 [==============================] - ETA: 0s"
     ]
    },
    {
     "name": "stdout",
     "output_type": "stream",
     "text": [
      "\b\b\b\b\b\b\b\b\b\b\b\b\b\b\b\b\b\b\b\b\b\b\b\b\b\b\b\b\b\b\b\b\b\b\b\b\b\b\b\b\b\b\b\b\b\b\r",
      "1/1 [==============================] - 0s 130ms/step\n"
     ]
    },
    {
     "name": "stdout",
     "output_type": "stream",
     "text": [
      "\r",
      "1/1 [==============================] - ETA: 0s"
     ]
    },
    {
     "name": "stdout",
     "output_type": "stream",
     "text": [
      "\b\b\b\b\b\b\b\b\b\b\b\b\b\b\b\b\b\b\b\b\b\b\b\b\b\b\b\b\b\b\b\b\b\b\b\b\b\b\b\b\b\b\b\b\b\b\r",
      "1/1 [==============================] - 0s 133ms/step\n"
     ]
    },
    {
     "name": "stdout",
     "output_type": "stream",
     "text": [
      "\r",
      "1/1 [==============================] - ETA: 0s"
     ]
    },
    {
     "name": "stdout",
     "output_type": "stream",
     "text": [
      "\b\b\b\b\b\b\b\b\b\b\b\b\b\b\b\b\b\b\b\b\b\b\b\b\b\b\b\b\b\b\b\b\b\b\b\b\b\b\b\b\b\b\b\b\b\b\r",
      "1/1 [==============================] - 0s 135ms/step\n"
     ]
    },
    {
     "name": "stdout",
     "output_type": "stream",
     "text": [
      "\r",
      "1/1 [==============================] - ETA: 0s"
     ]
    },
    {
     "name": "stdout",
     "output_type": "stream",
     "text": [
      "\b\b\b\b\b\b\b\b\b\b\b\b\b\b\b\b\b\b\b\b\b\b\b\b\b\b\b\b\b\b\b\b\b\b\b\b\b\b\b\b\b\b\b\b\b\b\r",
      "1/1 [==============================] - 0s 137ms/step\n"
     ]
    },
    {
     "name": "stdout",
     "output_type": "stream",
     "text": [
      "\r",
      "1/1 [==============================] - ETA: 0s"
     ]
    },
    {
     "name": "stdout",
     "output_type": "stream",
     "text": [
      "\b\b\b\b\b\b\b\b\b\b\b\b\b\b\b\b\b\b\b\b\b\b\b\b\b\b\b\b\b\b\b\b\b\b\b\b\b\b\b\b\b\b\b\b\b\b\r",
      "1/1 [==============================] - 0s 120ms/step\n"
     ]
    },
    {
     "name": "stdout",
     "output_type": "stream",
     "text": [
      "\r",
      "1/1 [==============================] - ETA: 0s"
     ]
    },
    {
     "name": "stdout",
     "output_type": "stream",
     "text": [
      "\b\b\b\b\b\b\b\b\b\b\b\b\b\b\b\b\b\b\b\b\b\b\b\b\b\b\b\b\b\b\b\b\b\b\b\b\b\b\b\b\b\b\b\b\b\b\r",
      "1/1 [==============================] - 0s 127ms/step\n"
     ]
    },
    {
     "name": "stdout",
     "output_type": "stream",
     "text": [
      "\r",
      "1/1 [==============================] - ETA: 0s"
     ]
    },
    {
     "name": "stdout",
     "output_type": "stream",
     "text": [
      "\b\b\b\b\b\b\b\b\b\b\b\b\b\b\b\b\b\b\b\b\b\b\b\b\b\b\b\b\b\b\b\b\b\b\b\b\b\b\b\b\b\b\b\b\b\b\r",
      "1/1 [==============================] - 0s 127ms/step\n"
     ]
    },
    {
     "name": "stdout",
     "output_type": "stream",
     "text": [
      "\r",
      "1/1 [==============================] - ETA: 0s"
     ]
    },
    {
     "name": "stdout",
     "output_type": "stream",
     "text": [
      "\b\b\b\b\b\b\b\b\b\b\b\b\b\b\b\b\b\b\b\b\b\b\b\b\b\b\b\b\b\b\b\b\b\b\b\b\b\b\b\b\b\b\b\b\b\b\r",
      "1/1 [==============================] - 0s 130ms/step\n"
     ]
    },
    {
     "name": "stdout",
     "output_type": "stream",
     "text": [
      "\r",
      "1/1 [==============================] - ETA: 0s"
     ]
    },
    {
     "name": "stdout",
     "output_type": "stream",
     "text": [
      "\b\b\b\b\b\b\b\b\b\b\b\b\b\b\b\b\b\b\b\b\b\b\b\b\b\b\b\b\b\b\b\b\b\b\b\b\b\b\b\b\b\b\b\b\b\b\r",
      "1/1 [==============================] - 0s 127ms/step\n"
     ]
    },
    {
     "name": "stdout",
     "output_type": "stream",
     "text": [
      "\r",
      "1/1 [==============================] - ETA: 0s"
     ]
    },
    {
     "name": "stdout",
     "output_type": "stream",
     "text": [
      "\b\b\b\b\b\b\b\b\b\b\b\b\b\b\b\b\b\b\b\b\b\b\b\b\b\b\b\b\b\b\b\b\b\b\b\b\b\b\b\b\b\b\b\b\b\b\r",
      "1/1 [==============================] - 0s 122ms/step\n"
     ]
    },
    {
     "name": "stdout",
     "output_type": "stream",
     "text": [
      "\r",
      "1/1 [==============================] - ETA: 0s"
     ]
    },
    {
     "name": "stdout",
     "output_type": "stream",
     "text": [
      "\b\b\b\b\b\b\b\b\b\b\b\b\b\b\b\b\b\b\b\b\b\b\b\b\b\b\b\b\b\b\b\b\b\b\b\b\b\b\b\b\b\b\b\b\b\b\r",
      "1/1 [==============================] - 0s 119ms/step\n"
     ]
    },
    {
     "name": "stdout",
     "output_type": "stream",
     "text": [
      "\r",
      "1/1 [==============================] - ETA: 0s"
     ]
    },
    {
     "name": "stdout",
     "output_type": "stream",
     "text": [
      "\b\b\b\b\b\b\b\b\b\b\b\b\b\b\b\b\b\b\b\b\b\b\b\b\b\b\b\b\b\b\b\b\b\b\b\b\b\b\b\b\b\b\b\b\b\b\r",
      "1/1 [==============================] - 0s 121ms/step\n"
     ]
    },
    {
     "name": "stdout",
     "output_type": "stream",
     "text": [
      "\r",
      "1/1 [==============================] - ETA: 0s"
     ]
    },
    {
     "name": "stdout",
     "output_type": "stream",
     "text": [
      "\b\b\b\b\b\b\b\b\b\b\b\b\b\b\b\b\b\b\b\b\b\b\b\b\b\b\b\b\b\b\b\b\b\b\b\b\b\b\b\b\b\b\b\b\b\b\r",
      "1/1 [==============================] - 0s 114ms/step\n"
     ]
    },
    {
     "name": "stdout",
     "output_type": "stream",
     "text": [
      "\r",
      "1/1 [==============================] - ETA: 0s"
     ]
    },
    {
     "name": "stdout",
     "output_type": "stream",
     "text": [
      "\b\b\b\b\b\b\b\b\b\b\b\b\b\b\b\b\b\b\b\b\b\b\b\b\b\b\b\b\b\b\b\b\b\b\b\b\b\b\b\b\b\b\b\b\b\b\r",
      "1/1 [==============================] - 0s 124ms/step\n"
     ]
    },
    {
     "name": "stdout",
     "output_type": "stream",
     "text": [
      "\r",
      "1/1 [==============================] - ETA: 0s"
     ]
    },
    {
     "name": "stdout",
     "output_type": "stream",
     "text": [
      "\b\b\b\b\b\b\b\b\b\b\b\b\b\b\b\b\b\b\b\b\b\b\b\b\b\b\b\b\b\b\b\b\b\b\b\b\b\b\b\b\b\b\b\b\b\b\r",
      "1/1 [==============================] - 0s 116ms/step\n"
     ]
    },
    {
     "name": "stdout",
     "output_type": "stream",
     "text": [
      "\r",
      "1/1 [==============================] - ETA: 0s"
     ]
    },
    {
     "name": "stdout",
     "output_type": "stream",
     "text": [
      "\b\b\b\b\b\b\b\b\b\b\b\b\b\b\b\b\b\b\b\b\b\b\b\b\b\b\b\b\b\b\b\b\b\b\b\b\b\b\b\b\b\b\b\b\b\b\r",
      "1/1 [==============================] - 0s 139ms/step\n"
     ]
    },
    {
     "name": "stdout",
     "output_type": "stream",
     "text": [
      "\r",
      "1/1 [==============================] - ETA: 0s"
     ]
    },
    {
     "name": "stdout",
     "output_type": "stream",
     "text": [
      "\b\b\b\b\b\b\b\b\b\b\b\b\b\b\b\b\b\b\b\b\b\b\b\b\b\b\b\b\b\b\b\b\b\b\b\b\b\b\b\b\b\b\b\b\b\b\r",
      "1/1 [==============================] - 0s 150ms/step\n"
     ]
    },
    {
     "name": "stdout",
     "output_type": "stream",
     "text": [
      "\r",
      "1/1 [==============================] - ETA: 0s"
     ]
    },
    {
     "name": "stdout",
     "output_type": "stream",
     "text": [
      "\b\b\b\b\b\b\b\b\b\b\b\b\b\b\b\b\b\b\b\b\b\b\b\b\b\b\b\b\b\b\b\b\b\b\b\b\b\b\b\b\b\b\b\b\b\b\r",
      "1/1 [==============================] - 0s 127ms/step\n"
     ]
    },
    {
     "name": "stdout",
     "output_type": "stream",
     "text": [
      "\r",
      "1/1 [==============================] - ETA: 0s"
     ]
    },
    {
     "name": "stdout",
     "output_type": "stream",
     "text": [
      "\b\b\b\b\b\b\b\b\b\b\b\b\b\b\b\b\b\b\b\b\b\b\b\b\b\b\b\b\b\b\b\b\b\b\b\b\b\b\b\b\b\b\b\b\b\b\r",
      "1/1 [==============================] - 0s 140ms/step\n"
     ]
    },
    {
     "name": "stdout",
     "output_type": "stream",
     "text": [
      "\r",
      "1/1 [==============================] - ETA: 0s"
     ]
    },
    {
     "name": "stdout",
     "output_type": "stream",
     "text": [
      "\b\b\b\b\b\b\b\b\b\b\b\b\b\b\b\b\b\b\b\b\b\b\b\b\b\b\b\b\b\b\b\b\b\b\b\b\b\b\b\b\b\b\b\b\b\b\r",
      "1/1 [==============================] - 0s 114ms/step\n"
     ]
    },
    {
     "name": "stdout",
     "output_type": "stream",
     "text": [
      "\r",
      "1/1 [==============================] - ETA: 0s"
     ]
    },
    {
     "name": "stdout",
     "output_type": "stream",
     "text": [
      "\b\b\b\b\b\b\b\b\b\b\b\b\b\b\b\b\b\b\b\b\b\b\b\b\b\b\b\b\b\b\b\b\b\b\b\b\b\b\b\b\b\b\b\b\b\b\r",
      "1/1 [==============================] - 0s 118ms/step\n"
     ]
    },
    {
     "name": "stdout",
     "output_type": "stream",
     "text": [
      "\r",
      "1/1 [==============================] - ETA: 0s"
     ]
    },
    {
     "name": "stdout",
     "output_type": "stream",
     "text": [
      "\b\b\b\b\b\b\b\b\b\b\b\b\b\b\b\b\b\b\b\b\b\b\b\b\b\b\b\b\b\b\b\b\b\b\b\b\b\b\b\b\b\b\b\b\b\b\r",
      "1/1 [==============================] - 0s 120ms/step\n"
     ]
    },
    {
     "name": "stdout",
     "output_type": "stream",
     "text": [
      "\r",
      "1/1 [==============================] - ETA: 0s"
     ]
    },
    {
     "name": "stdout",
     "output_type": "stream",
     "text": [
      "\b\b\b\b\b\b\b\b\b\b\b\b\b\b\b\b\b\b\b\b\b\b\b\b\b\b\b\b\b\b\b\b\b\b\b\b\b\b\b\b\b\b\b\b\b\b\r",
      "1/1 [==============================] - 0s 119ms/step\n"
     ]
    },
    {
     "name": "stdout",
     "output_type": "stream",
     "text": [
      "\r",
      "1/1 [==============================] - ETA: 0s"
     ]
    },
    {
     "name": "stdout",
     "output_type": "stream",
     "text": [
      "\b\b\b\b\b\b\b\b\b\b\b\b\b\b\b\b\b\b\b\b\b\b\b\b\b\b\b\b\b\b\b\b\b\b\b\b\b\b\b\b\b\b\b\b\b\b\r",
      "1/1 [==============================] - 0s 122ms/step\n"
     ]
    },
    {
     "name": "stdout",
     "output_type": "stream",
     "text": [
      "\r",
      "1/1 [==============================] - ETA: 0s"
     ]
    },
    {
     "name": "stdout",
     "output_type": "stream",
     "text": [
      "\b\b\b\b\b\b\b\b\b\b\b\b\b\b\b\b\b\b\b\b\b\b\b\b\b\b\b\b\b\b\b\b\b\b\b\b\b\b\b\b\b\b\b\b\b\b\r",
      "1/1 [==============================] - 0s 120ms/step\n"
     ]
    },
    {
     "name": "stdout",
     "output_type": "stream",
     "text": [
      "\r",
      "1/1 [==============================] - ETA: 0s"
     ]
    },
    {
     "name": "stdout",
     "output_type": "stream",
     "text": [
      "\b\b\b\b\b\b\b\b\b\b\b\b\b\b\b\b\b\b\b\b\b\b\b\b\b\b\b\b\b\b\b\b\b\b\b\b\b\b\b\b\b\b\b\b\b\b\r",
      "1/1 [==============================] - 0s 124ms/step\n"
     ]
    },
    {
     "name": "stdout",
     "output_type": "stream",
     "text": [
      "\r",
      "1/1 [==============================] - ETA: 0s"
     ]
    },
    {
     "name": "stdout",
     "output_type": "stream",
     "text": [
      "\b\b\b\b\b\b\b\b\b\b\b\b\b\b\b\b\b\b\b\b\b\b\b\b\b\b\b\b\b\b\b\b\b\b\b\b\b\b\b\b\b\b\b\b\b\b\r",
      "1/1 [==============================] - 0s 129ms/step\n"
     ]
    },
    {
     "name": "stdout",
     "output_type": "stream",
     "text": [
      "\r",
      "1/1 [==============================] - ETA: 0s"
     ]
    },
    {
     "name": "stdout",
     "output_type": "stream",
     "text": [
      "\b\b\b\b\b\b\b\b\b\b\b\b\b\b\b\b\b\b\b\b\b\b\b\b\b\b\b\b\b\b\b\b\b\b\b\b\b\b\b\b\b\b\b\b\b\b\r",
      "1/1 [==============================] - 0s 123ms/step\n"
     ]
    },
    {
     "name": "stdout",
     "output_type": "stream",
     "text": [
      "\r",
      "1/1 [==============================] - ETA: 0s"
     ]
    },
    {
     "name": "stdout",
     "output_type": "stream",
     "text": [
      "\b\b\b\b\b\b\b\b\b\b\b\b\b\b\b\b\b\b\b\b\b\b\b\b\b\b\b\b\b\b\b\b\b\b\b\b\b\b\b\b\b\b\b\b\b\b\r",
      "1/1 [==============================] - 0s 127ms/step\n"
     ]
    },
    {
     "name": "stdout",
     "output_type": "stream",
     "text": [
      "\r",
      "1/1 [==============================] - ETA: 0s"
     ]
    },
    {
     "name": "stdout",
     "output_type": "stream",
     "text": [
      "\b\b\b\b\b\b\b\b\b\b\b\b\b\b\b\b\b\b\b\b\b\b\b\b\b\b\b\b\b\b\b\b\b\b\b\b\b\b\b\b\b\b\b\b\b\b\r",
      "1/1 [==============================] - 0s 117ms/step\n"
     ]
    },
    {
     "name": "stdout",
     "output_type": "stream",
     "text": [
      "\r",
      "1/1 [==============================] - ETA: 0s"
     ]
    },
    {
     "name": "stdout",
     "output_type": "stream",
     "text": [
      "\b\b\b\b\b\b\b\b\b\b\b\b\b\b\b\b\b\b\b\b\b\b\b\b\b\b\b\b\b\b\b\b\b\b\b\b\b\b\b\b\b\b\b\b\b\b\r",
      "1/1 [==============================] - 0s 142ms/step\n"
     ]
    },
    {
     "name": "stdout",
     "output_type": "stream",
     "text": [
      "\r",
      "1/1 [==============================] - ETA: 0s"
     ]
    },
    {
     "name": "stdout",
     "output_type": "stream",
     "text": [
      "\b\b\b\b\b\b\b\b\b\b\b\b\b\b\b\b\b\b\b\b\b\b\b\b\b\b\b\b\b\b\b\b\b\b\b\b\b\b\b\b\b\b\b\b\b\b\r",
      "1/1 [==============================] - 0s 124ms/step\n"
     ]
    },
    {
     "name": "stdout",
     "output_type": "stream",
     "text": [
      "\r",
      "1/1 [==============================] - ETA: 0s"
     ]
    },
    {
     "name": "stdout",
     "output_type": "stream",
     "text": [
      "\b\b\b\b\b\b\b\b\b\b\b\b\b\b\b\b\b\b\b\b\b\b\b\b\b\b\b\b\b\b\b\b\b\b\b\b\b\b\b\b\b\b\b\b\b\b\r",
      "1/1 [==============================] - 0s 113ms/step\n"
     ]
    },
    {
     "name": "stdout",
     "output_type": "stream",
     "text": [
      "\r",
      "1/1 [==============================] - ETA: 0s"
     ]
    },
    {
     "name": "stdout",
     "output_type": "stream",
     "text": [
      "\b\b\b\b\b\b\b\b\b\b\b\b\b\b\b\b\b\b\b\b\b\b\b\b\b\b\b\b\b\b\b\b\b\b\b\b\b\b\b\b\b\b\b\b\b\b\r",
      "1/1 [==============================] - 0s 139ms/step\n"
     ]
    },
    {
     "name": "stdout",
     "output_type": "stream",
     "text": [
      "\r",
      "1/1 [==============================] - ETA: 0s"
     ]
    },
    {
     "name": "stdout",
     "output_type": "stream",
     "text": [
      "\b\b\b\b\b\b\b\b\b\b\b\b\b\b\b\b\b\b\b\b\b\b\b\b\b\b\b\b\b\b\b\b\b\b\b\b\b\b\b\b\b\b\b\b\b\b\r",
      "1/1 [==============================] - 0s 121ms/step\n"
     ]
    },
    {
     "name": "stdout",
     "output_type": "stream",
     "text": [
      "\r",
      "1/1 [==============================] - ETA: 0s"
     ]
    },
    {
     "name": "stdout",
     "output_type": "stream",
     "text": [
      "\b\b\b\b\b\b\b\b\b\b\b\b\b\b\b\b\b\b\b\b\b\b\b\b\b\b\b\b\b\b\b\b\b\b\b\b\b\b\b\b\b\b\b\b\b\b\r",
      "1/1 [==============================] - 0s 118ms/step\n"
     ]
    },
    {
     "name": "stdout",
     "output_type": "stream",
     "text": [
      "\r",
      "1/1 [==============================] - ETA: 0s"
     ]
    },
    {
     "name": "stdout",
     "output_type": "stream",
     "text": [
      "\b\b\b\b\b\b\b\b\b\b\b\b\b\b\b\b\b\b\b\b\b\b\b\b\b\b\b\b\b\b\b\b\b\b\b\b\b\b\b\b\b\b\b\b\b\b\r",
      "1/1 [==============================] - 0s 116ms/step\n"
     ]
    },
    {
     "name": "stdout",
     "output_type": "stream",
     "text": [
      "\r",
      "1/1 [==============================] - ETA: 0s"
     ]
    },
    {
     "name": "stdout",
     "output_type": "stream",
     "text": [
      "\b\b\b\b\b\b\b\b\b\b\b\b\b\b\b\b\b\b\b\b\b\b\b\b\b\b\b\b\b\b\b\b\b\b\b\b\b\b\b\b\b\b\b\b\b\b\r",
      "1/1 [==============================] - 0s 116ms/step\n"
     ]
    },
    {
     "name": "stdout",
     "output_type": "stream",
     "text": [
      "\r",
      "1/1 [==============================] - ETA: 0s"
     ]
    },
    {
     "name": "stdout",
     "output_type": "stream",
     "text": [
      "\b\b\b\b\b\b\b\b\b\b\b\b\b\b\b\b\b\b\b\b\b\b\b\b\b\b\b\b\b\b\b\b\b\b\b\b\b\b\b\b\b\b\b\b\b\b\r",
      "1/1 [==============================] - 0s 126ms/step\n"
     ]
    },
    {
     "name": "stdout",
     "output_type": "stream",
     "text": [
      "\r",
      "1/1 [==============================] - ETA: 0s"
     ]
    },
    {
     "name": "stdout",
     "output_type": "stream",
     "text": [
      "\b\b\b\b\b\b\b\b\b\b\b\b\b\b\b\b\b\b\b\b\b\b\b\b\b\b\b\b\b\b\b\b\b\b\b\b\b\b\b\b\b\b\b\b\b\b\r",
      "1/1 [==============================] - 0s 166ms/step\n"
     ]
    },
    {
     "name": "stdout",
     "output_type": "stream",
     "text": [
      "\r",
      "1/1 [==============================] - ETA: 0s"
     ]
    },
    {
     "name": "stdout",
     "output_type": "stream",
     "text": [
      "\b\b\b\b\b\b\b\b\b\b\b\b\b\b\b\b\b\b\b\b\b\b\b\b\b\b\b\b\b\b\b\b\b\b\b\b\b\b\b\b\b\b\b\b\b\b\r",
      "1/1 [==============================] - 0s 133ms/step\n"
     ]
    },
    {
     "name": "stdout",
     "output_type": "stream",
     "text": [
      "\r",
      "1/1 [==============================] - ETA: 0s"
     ]
    },
    {
     "name": "stdout",
     "output_type": "stream",
     "text": [
      "\b\b\b\b\b\b\b\b\b\b\b\b\b\b\b\b\b\b\b\b\b\b\b\b\b\b\b\b\b\b\b\b\b\b\b\b\b\b\b\b\b\b\b\b\b\b\r",
      "1/1 [==============================] - 0s 124ms/step\n"
     ]
    },
    {
     "name": "stdout",
     "output_type": "stream",
     "text": [
      "\r",
      "1/1 [==============================] - ETA: 0s"
     ]
    },
    {
     "name": "stdout",
     "output_type": "stream",
     "text": [
      "\b\b\b\b\b\b\b\b\b\b\b\b\b\b\b\b\b\b\b\b\b\b\b\b\b\b\b\b\b\b\b\b\b\b\b\b\b\b\b\b\b\b\b\b\b\b\r",
      "1/1 [==============================] - 0s 125ms/step\n"
     ]
    },
    {
     "name": "stdout",
     "output_type": "stream",
     "text": [
      "\r",
      "1/1 [==============================] - ETA: 0s"
     ]
    },
    {
     "name": "stdout",
     "output_type": "stream",
     "text": [
      "\b\b\b\b\b\b\b\b\b\b\b\b\b\b\b\b\b\b\b\b\b\b\b\b\b\b\b\b\b\b\b\b\b\b\b\b\b\b\b\b\b\b\b\b\b\b\r",
      "1/1 [==============================] - 0s 127ms/step\n"
     ]
    },
    {
     "name": "stdout",
     "output_type": "stream",
     "text": [
      "\r",
      "1/1 [==============================] - ETA: 0s"
     ]
    },
    {
     "name": "stdout",
     "output_type": "stream",
     "text": [
      "\b\b\b\b\b\b\b\b\b\b\b\b\b\b\b\b\b\b\b\b\b\b\b\b\b\b\b\b\b\b\b\b\b\b\b\b\b\b\b\b\b\b\b\b\b\b\r",
      "1/1 [==============================] - 0s 114ms/step\n"
     ]
    },
    {
     "name": "stdout",
     "output_type": "stream",
     "text": [
      "\r",
      "1/1 [==============================] - ETA: 0s"
     ]
    },
    {
     "name": "stdout",
     "output_type": "stream",
     "text": [
      "\b\b\b\b\b\b\b\b\b\b\b\b\b\b\b\b\b\b\b\b\b\b\b\b\b\b\b\b\b\b\b\b\b\b\b\b\b\b\b\b\b\b\b\b\b\b\r",
      "1/1 [==============================] - 0s 132ms/step\n"
     ]
    },
    {
     "name": "stdout",
     "output_type": "stream",
     "text": [
      "\r",
      "1/1 [==============================] - ETA: 0s"
     ]
    },
    {
     "name": "stdout",
     "output_type": "stream",
     "text": [
      "\b\b\b\b\b\b\b\b\b\b\b\b\b\b\b\b\b\b\b\b\b\b\b\b\b\b\b\b\b\b\b\b\b\b\b\b\b\b\b\b\b\b\b\b\b\b\r",
      "1/1 [==============================] - 0s 119ms/step\n"
     ]
    },
    {
     "name": "stdout",
     "output_type": "stream",
     "text": [
      "\r",
      "1/1 [==============================] - ETA: 0s"
     ]
    },
    {
     "name": "stdout",
     "output_type": "stream",
     "text": [
      "\b\b\b\b\b\b\b\b\b\b\b\b\b\b\b\b\b\b\b\b\b\b\b\b\b\b\b\b\b\b\b\b\b\b\b\b\b\b\b\b\b\b\b\b\b\b\r",
      "1/1 [==============================] - 0s 133ms/step\n"
     ]
    },
    {
     "name": "stdout",
     "output_type": "stream",
     "text": [
      "\r",
      "1/1 [==============================] - ETA: 0s"
     ]
    },
    {
     "name": "stdout",
     "output_type": "stream",
     "text": [
      "\b\b\b\b\b\b\b\b\b\b\b\b\b\b\b\b\b\b\b\b\b\b\b\b\b\b\b\b\b\b\b\b\b\b\b\b\b\b\b\b\b\b\b\b\b\b\r",
      "1/1 [==============================] - 0s 123ms/step\n"
     ]
    },
    {
     "name": "stdout",
     "output_type": "stream",
     "text": [
      "\r",
      "1/1 [==============================] - ETA: 0s"
     ]
    },
    {
     "name": "stdout",
     "output_type": "stream",
     "text": [
      "\b\b\b\b\b\b\b\b\b\b\b\b\b\b\b\b\b\b\b\b\b\b\b\b\b\b\b\b\b\b\b\b\b\b\b\b\b\b\b\b\b\b\b\b\b\b\r",
      "1/1 [==============================] - 0s 119ms/step\n"
     ]
    },
    {
     "name": "stdout",
     "output_type": "stream",
     "text": [
      "\r",
      "1/1 [==============================] - ETA: 0s"
     ]
    },
    {
     "name": "stdout",
     "output_type": "stream",
     "text": [
      "\b\b\b\b\b\b\b\b\b\b\b\b\b\b\b\b\b\b\b\b\b\b\b\b\b\b\b\b\b\b\b\b\b\b\b\b\b\b\b\b\b\b\b\b\b\b\r",
      "1/1 [==============================] - 0s 117ms/step\n"
     ]
    },
    {
     "name": "stdout",
     "output_type": "stream",
     "text": [
      "\r",
      "1/1 [==============================] - ETA: 0s"
     ]
    },
    {
     "name": "stdout",
     "output_type": "stream",
     "text": [
      "\b\b\b\b\b\b\b\b\b\b\b\b\b\b\b\b\b\b\b\b\b\b\b\b\b\b\b\b\b\b\b\b\b\b\b\b\b\b\b\b\b\b\b\b\b\b\r",
      "1/1 [==============================] - 0s 114ms/step\n"
     ]
    },
    {
     "name": "stdout",
     "output_type": "stream",
     "text": [
      "\r",
      "1/1 [==============================] - ETA: 0s"
     ]
    },
    {
     "name": "stdout",
     "output_type": "stream",
     "text": [
      "\b\b\b\b\b\b\b\b\b\b\b\b\b\b\b\b\b\b\b\b\b\b\b\b\b\b\b\b\b\b\b\b\b\b\b\b\b\b\b\b\b\b\b\b\b\b\r",
      "1/1 [==============================] - 0s 119ms/step\n"
     ]
    },
    {
     "name": "stdout",
     "output_type": "stream",
     "text": [
      "\r",
      "1/1 [==============================] - ETA: 0s"
     ]
    },
    {
     "name": "stdout",
     "output_type": "stream",
     "text": [
      "\b\b\b\b\b\b\b\b\b\b\b\b\b\b\b\b\b\b\b\b\b\b\b\b\b\b\b\b\b\b\b\b\b\b\b\b\b\b\b\b\b\b\b\b\b\b\r",
      "1/1 [==============================] - 0s 112ms/step\n"
     ]
    },
    {
     "name": "stdout",
     "output_type": "stream",
     "text": [
      "\r",
      "1/1 [==============================] - ETA: 0s"
     ]
    },
    {
     "name": "stdout",
     "output_type": "stream",
     "text": [
      "\b\b\b\b\b\b\b\b\b\b\b\b\b\b\b\b\b\b\b\b\b\b\b\b\b\b\b\b\b\b\b\b\b\b\b\b\b\b\b\b\b\b\b\b\b\b\r",
      "1/1 [==============================] - 0s 117ms/step\n"
     ]
    },
    {
     "name": "stdout",
     "output_type": "stream",
     "text": [
      "\r",
      "1/1 [==============================] - ETA: 0s"
     ]
    },
    {
     "name": "stdout",
     "output_type": "stream",
     "text": [
      "\b\b\b\b\b\b\b\b\b\b\b\b\b\b\b\b\b\b\b\b\b\b\b\b\b\b\b\b\b\b\b\b\b\b\b\b\b\b\b\b\b\b\b\b\b\b\r",
      "1/1 [==============================] - 0s 117ms/step\n"
     ]
    },
    {
     "name": "stdout",
     "output_type": "stream",
     "text": [
      "\r",
      "1/1 [==============================] - ETA: 0s"
     ]
    },
    {
     "name": "stdout",
     "output_type": "stream",
     "text": [
      "\b\b\b\b\b\b\b\b\b\b\b\b\b\b\b\b\b\b\b\b\b\b\b\b\b\b\b\b\b\b\b\b\b\b\b\b\b\b\b\b\b\b\b\b\b\b\r",
      "1/1 [==============================] - 0s 121ms/step\n"
     ]
    },
    {
     "name": "stdout",
     "output_type": "stream",
     "text": [
      "\r",
      "1/1 [==============================] - ETA: 0s"
     ]
    },
    {
     "name": "stdout",
     "output_type": "stream",
     "text": [
      "\b\b\b\b\b\b\b\b\b\b\b\b\b\b\b\b\b\b\b\b\b\b\b\b\b\b\b\b\b\b\b\b\b\b\b\b\b\b\b\b\b\b\b\b\b\b\r",
      "1/1 [==============================] - 0s 108ms/step\n"
     ]
    },
    {
     "name": "stdout",
     "output_type": "stream",
     "text": [
      "\r",
      "1/1 [==============================] - ETA: 0s"
     ]
    },
    {
     "name": "stdout",
     "output_type": "stream",
     "text": [
      "\b\b\b\b\b\b\b\b\b\b\b\b\b\b\b\b\b\b\b\b\b\b\b\b\b\b\b\b\b\b\b\b\b\b\b\b\b\b\b\b\b\b\b\b\b\b\r",
      "1/1 [==============================] - 0s 118ms/step\n"
     ]
    },
    {
     "name": "stdout",
     "output_type": "stream",
     "text": [
      "\r",
      "1/1 [==============================] - ETA: 0s"
     ]
    },
    {
     "name": "stdout",
     "output_type": "stream",
     "text": [
      "\b\b\b\b\b\b\b\b\b\b\b\b\b\b\b\b\b\b\b\b\b\b\b\b\b\b\b\b\b\b\b\b\b\b\b\b\b\b\b\b\b\b\b\b\b\b\r",
      "1/1 [==============================] - 0s 123ms/step\n"
     ]
    },
    {
     "name": "stdout",
     "output_type": "stream",
     "text": [
      "\r",
      "1/1 [==============================] - ETA: 0s"
     ]
    },
    {
     "name": "stdout",
     "output_type": "stream",
     "text": [
      "\b\b\b\b\b\b\b\b\b\b\b\b\b\b\b\b\b\b\b\b\b\b\b\b\b\b\b\b\b\b\b\b\b\b\b\b\b\b\b\b\b\b\b\b\b\b\r",
      "1/1 [==============================] - 0s 116ms/step\n"
     ]
    },
    {
     "name": "stdout",
     "output_type": "stream",
     "text": [
      "\r",
      "1/1 [==============================] - ETA: 0s"
     ]
    },
    {
     "name": "stdout",
     "output_type": "stream",
     "text": [
      "\b\b\b\b\b\b\b\b\b\b\b\b\b\b\b\b\b\b\b\b\b\b\b\b\b\b\b\b\b\b\b\b\b\b\b\b\b\b\b\b\b\b\b\b\b\b\r",
      "1/1 [==============================] - 0s 145ms/step\n"
     ]
    },
    {
     "name": "stdout",
     "output_type": "stream",
     "text": [
      "\r",
      "1/1 [==============================] - ETA: 0s"
     ]
    },
    {
     "name": "stdout",
     "output_type": "stream",
     "text": [
      "\b\b\b\b\b\b\b\b\b\b\b\b\b\b\b\b\b\b\b\b\b\b\b\b\b\b\b\b\b\b\b\b\b\b\b\b\b\b\b\b\b\b\b\b\b\b\r",
      "1/1 [==============================] - 0s 125ms/step\n"
     ]
    },
    {
     "name": "stdout",
     "output_type": "stream",
     "text": [
      "\r",
      "1/1 [==============================] - ETA: 0s"
     ]
    },
    {
     "name": "stdout",
     "output_type": "stream",
     "text": [
      "\b\b\b\b\b\b\b\b\b\b\b\b\b\b\b\b\b\b\b\b\b\b\b\b\b\b\b\b\b\b\b\b\b\b\b\b\b\b\b\b\b\b\b\b\b\b\r",
      "1/1 [==============================] - 0s 132ms/step\n"
     ]
    },
    {
     "name": "stdout",
     "output_type": "stream",
     "text": [
      "\r",
      "1/1 [==============================] - ETA: 0s"
     ]
    },
    {
     "name": "stdout",
     "output_type": "stream",
     "text": [
      "\b\b\b\b\b\b\b\b\b\b\b\b\b\b\b\b\b\b\b\b\b\b\b\b\b\b\b\b\b\b\b\b\b\b\b\b\b\b\b\b\b\b\b\b\b\b\r",
      "1/1 [==============================] - 0s 109ms/step\n"
     ]
    },
    {
     "name": "stdout",
     "output_type": "stream",
     "text": [
      "\r",
      "1/1 [==============================] - ETA: 0s"
     ]
    },
    {
     "name": "stdout",
     "output_type": "stream",
     "text": [
      "\b\b\b\b\b\b\b\b\b\b\b\b\b\b\b\b\b\b\b\b\b\b\b\b\b\b\b\b\b\b\b\b\b\b\b\b\b\b\b\b\b\b\b\b\b\b\r",
      "1/1 [==============================] - 0s 105ms/step\n"
     ]
    },
    {
     "name": "stdout",
     "output_type": "stream",
     "text": [
      "\r",
      "1/1 [==============================] - ETA: 0s"
     ]
    },
    {
     "name": "stdout",
     "output_type": "stream",
     "text": [
      "\b\b\b\b\b\b\b\b\b\b\b\b\b\b\b\b\b\b\b\b\b\b\b\b\b\b\b\b\b\b\b\b\b\b\b\b\b\b\b\b\b\b\b\b\b\b\r",
      "1/1 [==============================] - 0s 122ms/step\n"
     ]
    },
    {
     "name": "stdout",
     "output_type": "stream",
     "text": [
      "\r",
      "1/1 [==============================] - ETA: 0s"
     ]
    },
    {
     "name": "stdout",
     "output_type": "stream",
     "text": [
      "\b\b\b\b\b\b\b\b\b\b\b\b\b\b\b\b\b\b\b\b\b\b\b\b\b\b\b\b\b\b\b\b\b\b\b\b\b\b\b\b\b\b\b\b\b\b\r",
      "1/1 [==============================] - 0s 122ms/step\n"
     ]
    },
    {
     "name": "stdout",
     "output_type": "stream",
     "text": [
      "\r",
      "1/1 [==============================] - ETA: 0s"
     ]
    },
    {
     "name": "stdout",
     "output_type": "stream",
     "text": [
      "\b\b\b\b\b\b\b\b\b\b\b\b\b\b\b\b\b\b\b\b\b\b\b\b\b\b\b\b\b\b\b\b\b\b\b\b\b\b\b\b\b\b\b\b\b\b\r",
      "1/1 [==============================] - 0s 112ms/step\n"
     ]
    },
    {
     "name": "stdout",
     "output_type": "stream",
     "text": [
      "\r",
      "1/1 [==============================] - ETA: 0s"
     ]
    },
    {
     "name": "stdout",
     "output_type": "stream",
     "text": [
      "\b\b\b\b\b\b\b\b\b\b\b\b\b\b\b\b\b\b\b\b\b\b\b\b\b\b\b\b\b\b\b\b\b\b\b\b\b\b\b\b\b\b\b\b\b\b\r",
      "1/1 [==============================] - 0s 112ms/step\n"
     ]
    },
    {
     "name": "stdout",
     "output_type": "stream",
     "text": [
      "\r",
      "1/1 [==============================] - ETA: 0s"
     ]
    },
    {
     "name": "stdout",
     "output_type": "stream",
     "text": [
      "\b\b\b\b\b\b\b\b\b\b\b\b\b\b\b\b\b\b\b\b\b\b\b\b\b\b\b\b\b\b\b\b\b\b\b\b\b\b\b\b\b\b\b\b\b\b\r",
      "1/1 [==============================] - 0s 119ms/step\n"
     ]
    },
    {
     "name": "stdout",
     "output_type": "stream",
     "text": [
      "\r",
      "1/1 [==============================] - ETA: 0s"
     ]
    },
    {
     "name": "stdout",
     "output_type": "stream",
     "text": [
      "\b\b\b\b\b\b\b\b\b\b\b\b\b\b\b\b\b\b\b\b\b\b\b\b\b\b\b\b\b\b\b\b\b\b\b\b\b\b\b\b\b\b\b\b\b\b\r",
      "1/1 [==============================] - 0s 133ms/step\n"
     ]
    },
    {
     "name": "stdout",
     "output_type": "stream",
     "text": [
      "\r",
      "1/1 [==============================] - ETA: 0s"
     ]
    },
    {
     "name": "stdout",
     "output_type": "stream",
     "text": [
      "\b\b\b\b\b\b\b\b\b\b\b\b\b\b\b\b\b\b\b\b\b\b\b\b\b\b\b\b\b\b\b\b\b\b\b\b\b\b\b\b\b\b\b\b\b\b\r",
      "1/1 [==============================] - 0s 113ms/step\n"
     ]
    },
    {
     "name": "stdout",
     "output_type": "stream",
     "text": [
      "\r",
      "1/1 [==============================] - ETA: 0s"
     ]
    },
    {
     "name": "stdout",
     "output_type": "stream",
     "text": [
      "\b\b\b\b\b\b\b\b\b\b\b\b\b\b\b\b\b\b\b\b\b\b\b\b\b\b\b\b\b\b\b\b\b\b\b\b\b\b\b\b\b\b\b\b\b\b\r",
      "1/1 [==============================] - 0s 122ms/step\n"
     ]
    },
    {
     "name": "stdout",
     "output_type": "stream",
     "text": [
      "\r",
      "1/1 [==============================] - ETA: 0s"
     ]
    },
    {
     "name": "stdout",
     "output_type": "stream",
     "text": [
      "\b\b\b\b\b\b\b\b\b\b\b\b\b\b\b\b\b\b\b\b\b\b\b\b\b\b\b\b\b\b\b\b\b\b\b\b\b\b\b\b\b\b\b\b\b\b\r",
      "1/1 [==============================] - 0s 123ms/step\n"
     ]
    },
    {
     "name": "stdout",
     "output_type": "stream",
     "text": [
      "\r",
      "1/1 [==============================] - ETA: 0s"
     ]
    },
    {
     "name": "stdout",
     "output_type": "stream",
     "text": [
      "\b\b\b\b\b\b\b\b\b\b\b\b\b\b\b\b\b\b\b\b\b\b\b\b\b\b\b\b\b\b\b\b\b\b\b\b\b\b\b\b\b\b\b\b\b\b\r",
      "1/1 [==============================] - 0s 124ms/step\n"
     ]
    },
    {
     "name": "stdout",
     "output_type": "stream",
     "text": [
      "\r",
      "1/1 [==============================] - ETA: 0s"
     ]
    },
    {
     "name": "stdout",
     "output_type": "stream",
     "text": [
      "\b\b\b\b\b\b\b\b\b\b\b\b\b\b\b\b\b\b\b\b\b\b\b\b\b\b\b\b\b\b\b\b\b\b\b\b\b\b\b\b\b\b\b\b\b\b\r",
      "1/1 [==============================] - 0s 127ms/step\n"
     ]
    },
    {
     "name": "stdout",
     "output_type": "stream",
     "text": [
      "\r",
      "1/1 [==============================] - ETA: 0s"
     ]
    },
    {
     "name": "stdout",
     "output_type": "stream",
     "text": [
      "\b\b\b\b\b\b\b\b\b\b\b\b\b\b\b\b\b\b\b\b\b\b\b\b\b\b\b\b\b\b\b\b\b\b\b\b\b\b\b\b\b\b\b\b\b\b\r",
      "1/1 [==============================] - 0s 135ms/step\n"
     ]
    },
    {
     "name": "stdout",
     "output_type": "stream",
     "text": [
      "\r",
      "1/1 [==============================] - ETA: 0s"
     ]
    },
    {
     "name": "stdout",
     "output_type": "stream",
     "text": [
      "\b\b\b\b\b\b\b\b\b\b\b\b\b\b\b\b\b\b\b\b\b\b\b\b\b\b\b\b\b\b\b\b\b\b\b\b\b\b\b\b\b\b\b\b\b\b\r",
      "1/1 [==============================] - 0s 115ms/step\n"
     ]
    },
    {
     "name": "stdout",
     "output_type": "stream",
     "text": [
      "\r",
      "1/1 [==============================] - ETA: 0s"
     ]
    },
    {
     "name": "stdout",
     "output_type": "stream",
     "text": [
      "\b\b\b\b\b\b\b\b\b\b\b\b\b\b\b\b\b\b\b\b\b\b\b\b\b\b\b\b\b\b\b\b\b\b\b\b\b\b\b\b\b\b\b\b\b\b\r",
      "1/1 [==============================] - 0s 123ms/step\n"
     ]
    },
    {
     "name": "stdout",
     "output_type": "stream",
     "text": [
      "\r",
      "1/1 [==============================] - ETA: 0s"
     ]
    },
    {
     "name": "stdout",
     "output_type": "stream",
     "text": [
      "\b\b\b\b\b\b\b\b\b\b\b\b\b\b\b\b\b\b\b\b\b\b\b\b\b\b\b\b\b\b\b\b\b\b\b\b\b\b\b\b\b\b\b\b\b\b\r",
      "1/1 [==============================] - 0s 131ms/step\n"
     ]
    },
    {
     "name": "stdout",
     "output_type": "stream",
     "text": [
      "\r",
      "1/1 [==============================] - ETA: 0s"
     ]
    },
    {
     "name": "stdout",
     "output_type": "stream",
     "text": [
      "\b\b\b\b\b\b\b\b\b\b\b\b\b\b\b\b\b\b\b\b\b\b\b\b\b\b\b\b\b\b\b\b\b\b\b\b\b\b\b\b\b\b\b\b\b\b\r",
      "1/1 [==============================] - 0s 119ms/step\n"
     ]
    },
    {
     "name": "stdout",
     "output_type": "stream",
     "text": [
      "\r",
      "1/1 [==============================] - ETA: 0s"
     ]
    },
    {
     "name": "stdout",
     "output_type": "stream",
     "text": [
      "\b\b\b\b\b\b\b\b\b\b\b\b\b\b\b\b\b\b\b\b\b\b\b\b\b\b\b\b\b\b\b\b\b\b\b\b\b\b\b\b\b\b\b\b\b\b\r",
      "1/1 [==============================] - 0s 131ms/step\n"
     ]
    },
    {
     "name": "stdout",
     "output_type": "stream",
     "text": [
      "\r",
      "1/1 [==============================] - ETA: 0s"
     ]
    },
    {
     "name": "stdout",
     "output_type": "stream",
     "text": [
      "\b\b\b\b\b\b\b\b\b\b\b\b\b\b\b\b\b\b\b\b\b\b\b\b\b\b\b\b\b\b\b\b\b\b\b\b\b\b\b\b\b\b\b\b\b\b\r",
      "1/1 [==============================] - 0s 121ms/step\n"
     ]
    },
    {
     "name": "stdout",
     "output_type": "stream",
     "text": [
      "\r",
      "1/1 [==============================] - ETA: 0s"
     ]
    },
    {
     "name": "stdout",
     "output_type": "stream",
     "text": [
      "\b\b\b\b\b\b\b\b\b\b\b\b\b\b\b\b\b\b\b\b\b\b\b\b\b\b\b\b\b\b\b\b\b\b\b\b\b\b\b\b\b\b\b\b\b\b\r",
      "1/1 [==============================] - 0s 123ms/step\n"
     ]
    },
    {
     "name": "stdout",
     "output_type": "stream",
     "text": [
      "\r",
      "1/1 [==============================] - ETA: 0s"
     ]
    },
    {
     "name": "stdout",
     "output_type": "stream",
     "text": [
      "\b\b\b\b\b\b\b\b\b\b\b\b\b\b\b\b\b\b\b\b\b\b\b\b\b\b\b\b\b\b\b\b\b\b\b\b\b\b\b\b\b\b\b\b\b\b\r",
      "1/1 [==============================] - 0s 119ms/step\n"
     ]
    },
    {
     "name": "stdout",
     "output_type": "stream",
     "text": [
      "\r",
      "1/1 [==============================] - ETA: 0s"
     ]
    },
    {
     "name": "stdout",
     "output_type": "stream",
     "text": [
      "\b\b\b\b\b\b\b\b\b\b\b\b\b\b\b\b\b\b\b\b\b\b\b\b\b\b\b\b\b\b\b\b\b\b\b\b\b\b\b\b\b\b\b\b\b\b\r",
      "1/1 [==============================] - 0s 123ms/step\n"
     ]
    },
    {
     "name": "stdout",
     "output_type": "stream",
     "text": [
      "\r",
      "1/1 [==============================] - ETA: 0s"
     ]
    },
    {
     "name": "stdout",
     "output_type": "stream",
     "text": [
      "\b\b\b\b\b\b\b\b\b\b\b\b\b\b\b\b\b\b\b\b\b\b\b\b\b\b\b\b\b\b\b\b\b\b\b\b\b\b\b\b\b\b\b\b\b\b\r",
      "1/1 [==============================] - 0s 113ms/step\n"
     ]
    },
    {
     "name": "stdout",
     "output_type": "stream",
     "text": [
      "\r",
      "1/1 [==============================] - ETA: 0s"
     ]
    },
    {
     "name": "stdout",
     "output_type": "stream",
     "text": [
      "\b\b\b\b\b\b\b\b\b\b\b\b\b\b\b\b\b\b\b\b\b\b\b\b\b\b\b\b\b\b\b\b\b\b\b\b\b\b\b\b\b\b\b\b\b\b\r",
      "1/1 [==============================] - 0s 115ms/step\n"
     ]
    },
    {
     "name": "stdout",
     "output_type": "stream",
     "text": [
      "\r",
      "1/1 [==============================] - ETA: 0s"
     ]
    },
    {
     "name": "stdout",
     "output_type": "stream",
     "text": [
      "\b\b\b\b\b\b\b\b\b\b\b\b\b\b\b\b\b\b\b\b\b\b\b\b\b\b\b\b\b\b\b\b\b\b\b\b\b\b\b\b\b\b\b\b\b\b\r",
      "1/1 [==============================] - 0s 132ms/step\n"
     ]
    },
    {
     "name": "stdout",
     "output_type": "stream",
     "text": [
      "\r",
      "1/1 [==============================] - ETA: 0s"
     ]
    },
    {
     "name": "stdout",
     "output_type": "stream",
     "text": [
      "\b\b\b\b\b\b\b\b\b\b\b\b\b\b\b\b\b\b\b\b\b\b\b\b\b\b\b\b\b\b\b\b\b\b\b\b\b\b\b\b\b\b\b\b\b\b\r",
      "1/1 [==============================] - 0s 133ms/step\n"
     ]
    },
    {
     "name": "stdout",
     "output_type": "stream",
     "text": [
      "\r",
      "1/1 [==============================] - ETA: 0s"
     ]
    },
    {
     "name": "stdout",
     "output_type": "stream",
     "text": [
      "\b\b\b\b\b\b\b\b\b\b\b\b\b\b\b\b\b\b\b\b\b\b\b\b\b\b\b\b\b\b\b\b\b\b\b\b\b\b\b\b\b\b\b\b\b\b\r",
      "1/1 [==============================] - 0s 122ms/step\n"
     ]
    },
    {
     "name": "stdout",
     "output_type": "stream",
     "text": [
      "\r",
      "1/1 [==============================] - ETA: 0s"
     ]
    },
    {
     "name": "stdout",
     "output_type": "stream",
     "text": [
      "\b\b\b\b\b\b\b\b\b\b\b\b\b\b\b\b\b\b\b\b\b\b\b\b\b\b\b\b\b\b\b\b\b\b\b\b\b\b\b\b\b\b\b\b\b\b\r",
      "1/1 [==============================] - 0s 127ms/step\n"
     ]
    },
    {
     "name": "stdout",
     "output_type": "stream",
     "text": [
      "\r",
      "1/1 [==============================] - ETA: 0s"
     ]
    },
    {
     "name": "stdout",
     "output_type": "stream",
     "text": [
      "\b\b\b\b\b\b\b\b\b\b\b\b\b\b\b\b\b\b\b\b\b\b\b\b\b\b\b\b\b\b\b\b\b\b\b\b\b\b\b\b\b\b\b\b\b\b\r",
      "1/1 [==============================] - 0s 119ms/step\n"
     ]
    },
    {
     "name": "stdout",
     "output_type": "stream",
     "text": [
      "\r",
      "1/1 [==============================] - ETA: 0s"
     ]
    },
    {
     "name": "stdout",
     "output_type": "stream",
     "text": [
      "\b\b\b\b\b\b\b\b\b\b\b\b\b\b\b\b\b\b\b\b\b\b\b\b\b\b\b\b\b\b\b\b\b\b\b\b\b\b\b\b\b\b\b\b\b\b\r",
      "1/1 [==============================] - 0s 124ms/step\n"
     ]
    },
    {
     "name": "stdout",
     "output_type": "stream",
     "text": [
      "\r",
      "1/1 [==============================] - ETA: 0s"
     ]
    },
    {
     "name": "stdout",
     "output_type": "stream",
     "text": [
      "\b\b\b\b\b\b\b\b\b\b\b\b\b\b\b\b\b\b\b\b\b\b\b\b\b\b\b\b\b\b\b\b\b\b\b\b\b\b\b\b\b\b\b\b\b\b\r",
      "1/1 [==============================] - 0s 131ms/step\n"
     ]
    },
    {
     "name": "stdout",
     "output_type": "stream",
     "text": [
      "\r",
      "1/1 [==============================] - ETA: 0s"
     ]
    },
    {
     "name": "stdout",
     "output_type": "stream",
     "text": [
      "\b\b\b\b\b\b\b\b\b\b\b\b\b\b\b\b\b\b\b\b\b\b\b\b\b\b\b\b\b\b\b\b\b\b\b\b\b\b\b\b\b\b\b\b\b\b\r",
      "1/1 [==============================] - 0s 115ms/step\n"
     ]
    },
    {
     "name": "stdout",
     "output_type": "stream",
     "text": [
      "\r",
      "1/1 [==============================] - ETA: 0s"
     ]
    },
    {
     "name": "stdout",
     "output_type": "stream",
     "text": [
      "\b\b\b\b\b\b\b\b\b\b\b\b\b\b\b\b\b\b\b\b\b\b\b\b\b\b\b\b\b\b\b\b\b\b\b\b\b\b\b\b\b\b\b\b\b\b\r",
      "1/1 [==============================] - 0s 119ms/step\n"
     ]
    },
    {
     "name": "stdout",
     "output_type": "stream",
     "text": [
      "\r",
      "1/1 [==============================] - ETA: 0s"
     ]
    },
    {
     "name": "stdout",
     "output_type": "stream",
     "text": [
      "\b\b\b\b\b\b\b\b\b\b\b\b\b\b\b\b\b\b\b\b\b\b\b\b\b\b\b\b\b\b\b\b\b\b\b\b\b\b\b\b\b\b\b\b\b\b\r",
      "1/1 [==============================] - 0s 122ms/step\n"
     ]
    },
    {
     "name": "stdout",
     "output_type": "stream",
     "text": [
      "\r",
      "1/1 [==============================] - ETA: 0s"
     ]
    },
    {
     "name": "stdout",
     "output_type": "stream",
     "text": [
      "\b\b\b\b\b\b\b\b\b\b\b\b\b\b\b\b\b\b\b\b\b\b\b\b\b\b\b\b\b\b\b\b\b\b\b\b\b\b\b\b\b\b\b\b\b\b\r",
      "1/1 [==============================] - 0s 132ms/step\n"
     ]
    },
    {
     "name": "stdout",
     "output_type": "stream",
     "text": [
      "\r",
      "1/1 [==============================] - ETA: 0s"
     ]
    },
    {
     "name": "stdout",
     "output_type": "stream",
     "text": [
      "\b\b\b\b\b\b\b\b\b\b\b\b\b\b\b\b\b\b\b\b\b\b\b\b\b\b\b\b\b\b\b\b\b\b\b\b\b\b\b\b\b\b\b\b\b\b\r",
      "1/1 [==============================] - 0s 116ms/step\n"
     ]
    },
    {
     "name": "stdout",
     "output_type": "stream",
     "text": [
      "\r",
      "1/1 [==============================] - ETA: 0s"
     ]
    },
    {
     "name": "stdout",
     "output_type": "stream",
     "text": [
      "\b\b\b\b\b\b\b\b\b\b\b\b\b\b\b\b\b\b\b\b\b\b\b\b\b\b\b\b\b\b\b\b\b\b\b\b\b\b\b\b\b\b\b\b\b\b\r",
      "1/1 [==============================] - 0s 124ms/step\n"
     ]
    },
    {
     "name": "stdout",
     "output_type": "stream",
     "text": [
      "\r",
      "1/1 [==============================] - ETA: 0s"
     ]
    },
    {
     "name": "stdout",
     "output_type": "stream",
     "text": [
      "\b\b\b\b\b\b\b\b\b\b\b\b\b\b\b\b\b\b\b\b\b\b\b\b\b\b\b\b\b\b\b\b\b\b\b\b\b\b\b\b\b\b\b\b\b\b\r",
      "1/1 [==============================] - 0s 147ms/step\n"
     ]
    },
    {
     "name": "stdout",
     "output_type": "stream",
     "text": [
      "\r",
      "1/1 [==============================] - ETA: 0s"
     ]
    },
    {
     "name": "stdout",
     "output_type": "stream",
     "text": [
      "\b\b\b\b\b\b\b\b\b\b\b\b\b\b\b\b\b\b\b\b\b\b\b\b\b\b\b\b\b\b\b\b\b\b\b\b\b\b\b\b\b\b\b\b\b\b\r",
      "1/1 [==============================] - 0s 125ms/step\n"
     ]
    },
    {
     "name": "stdout",
     "output_type": "stream",
     "text": [
      "\r",
      "1/1 [==============================] - ETA: 0s"
     ]
    },
    {
     "name": "stdout",
     "output_type": "stream",
     "text": [
      "\b\b\b\b\b\b\b\b\b\b\b\b\b\b\b\b\b\b\b\b\b\b\b\b\b\b\b\b\b\b\b\b\b\b\b\b\b\b\b\b\b\b\b\b\b\b\r",
      "1/1 [==============================] - 0s 121ms/step\n"
     ]
    },
    {
     "name": "stdout",
     "output_type": "stream",
     "text": [
      "\r",
      "1/1 [==============================] - ETA: 0s"
     ]
    },
    {
     "name": "stdout",
     "output_type": "stream",
     "text": [
      "\b\b\b\b\b\b\b\b\b\b\b\b\b\b\b\b\b\b\b\b\b\b\b\b\b\b\b\b\b\b\b\b\b\b\b\b\b\b\b\b\b\b\b\b\b\b\r",
      "1/1 [==============================] - 0s 127ms/step\n"
     ]
    },
    {
     "name": "stdout",
     "output_type": "stream",
     "text": [
      "\r",
      "1/1 [==============================] - ETA: 0s"
     ]
    },
    {
     "name": "stdout",
     "output_type": "stream",
     "text": [
      "\b\b\b\b\b\b\b\b\b\b\b\b\b\b\b\b\b\b\b\b\b\b\b\b\b\b\b\b\b\b\b\b\b\b\b\b\b\b\b\b\b\b\b\b\b\b\r",
      "1/1 [==============================] - 0s 128ms/step\n"
     ]
    },
    {
     "name": "stdout",
     "output_type": "stream",
     "text": [
      "\r",
      "1/1 [==============================] - ETA: 0s"
     ]
    },
    {
     "name": "stdout",
     "output_type": "stream",
     "text": [
      "\b\b\b\b\b\b\b\b\b\b\b\b\b\b\b\b\b\b\b\b\b\b\b\b\b\b\b\b\b\b\b\b\b\b\b\b\b\b\b\b\b\b\b\b\b\b\r",
      "1/1 [==============================] - 0s 133ms/step\n"
     ]
    },
    {
     "name": "stdout",
     "output_type": "stream",
     "text": [
      "\r",
      "1/1 [==============================] - ETA: 0s"
     ]
    },
    {
     "name": "stdout",
     "output_type": "stream",
     "text": [
      "\b\b\b\b\b\b\b\b\b\b\b\b\b\b\b\b\b\b\b\b\b\b\b\b\b\b\b\b\b\b\b\b\b\b\b\b\b\b\b\b\b\b\b\b\b\b\r",
      "1/1 [==============================] - 0s 119ms/step\n"
     ]
    },
    {
     "name": "stdout",
     "output_type": "stream",
     "text": [
      "\r",
      "1/1 [==============================] - ETA: 0s"
     ]
    },
    {
     "name": "stdout",
     "output_type": "stream",
     "text": [
      "\b\b\b\b\b\b\b\b\b\b\b\b\b\b\b\b\b\b\b\b\b\b\b\b\b\b\b\b\b\b\b\b\b\b\b\b\b\b\b\b\b\b\b\b\b\b\r",
      "1/1 [==============================] - 0s 127ms/step\n"
     ]
    },
    {
     "name": "stdout",
     "output_type": "stream",
     "text": [
      "\r",
      "1/1 [==============================] - ETA: 0s"
     ]
    },
    {
     "name": "stdout",
     "output_type": "stream",
     "text": [
      "\b\b\b\b\b\b\b\b\b\b\b\b\b\b\b\b\b\b\b\b\b\b\b\b\b\b\b\b\b\b\b\b\b\b\b\b\b\b\b\b\b\b\b\b\b\b\r",
      "1/1 [==============================] - 0s 117ms/step\n"
     ]
    },
    {
     "name": "stdout",
     "output_type": "stream",
     "text": [
      "\r",
      "1/1 [==============================] - ETA: 0s"
     ]
    },
    {
     "name": "stdout",
     "output_type": "stream",
     "text": [
      "\b\b\b\b\b\b\b\b\b\b\b\b\b\b\b\b\b\b\b\b\b\b\b\b\b\b\b\b\b\b\b\b\b\b\b\b\b\b\b\b\b\b\b\b\b\b\r",
      "1/1 [==============================] - 0s 118ms/step\n"
     ]
    },
    {
     "name": "stdout",
     "output_type": "stream",
     "text": [
      "\r",
      "1/1 [==============================] - ETA: 0s"
     ]
    },
    {
     "name": "stdout",
     "output_type": "stream",
     "text": [
      "\b\b\b\b\b\b\b\b\b\b\b\b\b\b\b\b\b\b\b\b\b\b\b\b\b\b\b\b\b\b\b\b\b\b\b\b\b\b\b\b\b\b\b\b\b\b\r",
      "1/1 [==============================] - 0s 116ms/step\n"
     ]
    },
    {
     "name": "stdout",
     "output_type": "stream",
     "text": [
      "\r",
      "1/1 [==============================] - ETA: 0s"
     ]
    },
    {
     "name": "stdout",
     "output_type": "stream",
     "text": [
      "\b\b\b\b\b\b\b\b\b\b\b\b\b\b\b\b\b\b\b\b\b\b\b\b\b\b\b\b\b\b\b\b\b\b\b\b\b\b\b\b\b\b\b\b\b\b\r",
      "1/1 [==============================] - 0s 117ms/step\n"
     ]
    },
    {
     "name": "stdout",
     "output_type": "stream",
     "text": [
      "\r",
      "1/1 [==============================] - ETA: 0s"
     ]
    },
    {
     "name": "stdout",
     "output_type": "stream",
     "text": [
      "\b\b\b\b\b\b\b\b\b\b\b\b\b\b\b\b\b\b\b\b\b\b\b\b\b\b\b\b\b\b\b\b\b\b\b\b\b\b\b\b\b\b\b\b\b\b\r",
      "1/1 [==============================] - 0s 128ms/step\n"
     ]
    },
    {
     "name": "stdout",
     "output_type": "stream",
     "text": [
      "\r",
      "1/1 [==============================] - ETA: 0s"
     ]
    },
    {
     "name": "stdout",
     "output_type": "stream",
     "text": [
      "\b\b\b\b\b\b\b\b\b\b\b\b\b\b\b\b\b\b\b\b\b\b\b\b\b\b\b\b\b\b\b\b\b\b\b\b\b\b\b\b\b\b\b\b\b\b\r",
      "1/1 [==============================] - 0s 123ms/step\n"
     ]
    },
    {
     "name": "stdout",
     "output_type": "stream",
     "text": [
      "\r",
      "1/1 [==============================] - ETA: 0s"
     ]
    },
    {
     "name": "stdout",
     "output_type": "stream",
     "text": [
      "\b\b\b\b\b\b\b\b\b\b\b\b\b\b\b\b\b\b\b\b\b\b\b\b\b\b\b\b\b\b\b\b\b\b\b\b\b\b\b\b\b\b\b\b\b\b\r",
      "1/1 [==============================] - 0s 116ms/step\n"
     ]
    },
    {
     "name": "stdout",
     "output_type": "stream",
     "text": [
      "\r",
      "1/1 [==============================] - ETA: 0s"
     ]
    },
    {
     "name": "stdout",
     "output_type": "stream",
     "text": [
      "\b\b\b\b\b\b\b\b\b\b\b\b\b\b\b\b\b\b\b\b\b\b\b\b\b\b\b\b\b\b\b\b\b\b\b\b\b\b\b\b\b\b\b\b\b\b\r",
      "1/1 [==============================] - 0s 129ms/step\n"
     ]
    },
    {
     "name": "stdout",
     "output_type": "stream",
     "text": [
      "\r",
      "1/1 [==============================] - ETA: 0s"
     ]
    },
    {
     "name": "stdout",
     "output_type": "stream",
     "text": [
      "\b\b\b\b\b\b\b\b\b\b\b\b\b\b\b\b\b\b\b\b\b\b\b\b\b\b\b\b\b\b\b\b\b\b\b\b\b\b\b\b\b\b\b\b\b\b\r",
      "1/1 [==============================] - 0s 113ms/step\n"
     ]
    },
    {
     "name": "stdout",
     "output_type": "stream",
     "text": [
      "\r",
      "1/1 [==============================] - ETA: 0s"
     ]
    },
    {
     "name": "stdout",
     "output_type": "stream",
     "text": [
      "\b\b\b\b\b\b\b\b\b\b\b\b\b\b\b\b\b\b\b\b\b\b\b\b\b\b\b\b\b\b\b\b\b\b\b\b\b\b\b\b\b\b\b\b\b\b\r",
      "1/1 [==============================] - 0s 120ms/step\n"
     ]
    },
    {
     "name": "stdout",
     "output_type": "stream",
     "text": [
      "\r",
      "1/1 [==============================] - ETA: 0s"
     ]
    },
    {
     "name": "stdout",
     "output_type": "stream",
     "text": [
      "\b\b\b\b\b\b\b\b\b\b\b\b\b\b\b\b\b\b\b\b\b\b\b\b\b\b\b\b\b\b\b\b\b\b\b\b\b\b\b\b\b\b\b\b\b\b\r",
      "1/1 [==============================] - 0s 133ms/step\n"
     ]
    },
    {
     "name": "stdout",
     "output_type": "stream",
     "text": [
      "\r",
      "1/1 [==============================] - ETA: 0s"
     ]
    },
    {
     "name": "stdout",
     "output_type": "stream",
     "text": [
      "\b\b\b\b\b\b\b\b\b\b\b\b\b\b\b\b\b\b\b\b\b\b\b\b\b\b\b\b\b\b\b\b\b\b\b\b\b\b\b\b\b\b\b\b\b\b\r",
      "1/1 [==============================] - 0s 108ms/step\n"
     ]
    },
    {
     "name": "stdout",
     "output_type": "stream",
     "text": [
      "\r",
      "1/1 [==============================] - ETA: 0s"
     ]
    },
    {
     "name": "stdout",
     "output_type": "stream",
     "text": [
      "\b\b\b\b\b\b\b\b\b\b\b\b\b\b\b\b\b\b\b\b\b\b\b\b\b\b\b\b\b\b\b\b\b\b\b\b\b\b\b\b\b\b\b\b\b\b\r",
      "1/1 [==============================] - 0s 118ms/step\n"
     ]
    },
    {
     "name": "stdout",
     "output_type": "stream",
     "text": [
      "\r",
      "1/1 [==============================] - ETA: 0s"
     ]
    },
    {
     "name": "stdout",
     "output_type": "stream",
     "text": [
      "\b\b\b\b\b\b\b\b\b\b\b\b\b\b\b\b\b\b\b\b\b\b\b\b\b\b\b\b\b\b\b\b\b\b\b\b\b\b\b\b\b\b\b\b\b\b\r",
      "1/1 [==============================] - 0s 131ms/step\n"
     ]
    },
    {
     "name": "stdout",
     "output_type": "stream",
     "text": [
      "\r",
      "1/1 [==============================] - ETA: 0s"
     ]
    },
    {
     "name": "stdout",
     "output_type": "stream",
     "text": [
      "\b\b\b\b\b\b\b\b\b\b\b\b\b\b\b\b\b\b\b\b\b\b\b\b\b\b\b\b\b\b\b\b\b\b\b\b\b\b\b\b\b\b\b\b\b\b\r",
      "1/1 [==============================] - 0s 149ms/step\n"
     ]
    },
    {
     "name": "stdout",
     "output_type": "stream",
     "text": [
      "\r",
      "1/1 [==============================] - ETA: 0s"
     ]
    },
    {
     "name": "stdout",
     "output_type": "stream",
     "text": [
      "\b\b\b\b\b\b\b\b\b\b\b\b\b\b\b\b\b\b\b\b\b\b\b\b\b\b\b\b\b\b\b\b\b\b\b\b\b\b\b\b\b\b\b\b\b\b\r",
      "1/1 [==============================] - 0s 124ms/step\n"
     ]
    },
    {
     "name": "stdout",
     "output_type": "stream",
     "text": [
      "\r",
      "1/1 [==============================] - ETA: 0s"
     ]
    },
    {
     "name": "stdout",
     "output_type": "stream",
     "text": [
      "\b\b\b\b\b\b\b\b\b\b\b\b\b\b\b\b\b\b\b\b\b\b\b\b\b\b\b\b\b\b\b\b\b\b\b\b\b\b\b\b\b\b\b\b\b\b\r",
      "1/1 [==============================] - 0s 116ms/step\n"
     ]
    },
    {
     "name": "stdout",
     "output_type": "stream",
     "text": [
      "\r",
      "1/1 [==============================] - ETA: 0s"
     ]
    },
    {
     "name": "stdout",
     "output_type": "stream",
     "text": [
      "\b\b\b\b\b\b\b\b\b\b\b\b\b\b\b\b\b\b\b\b\b\b\b\b\b\b\b\b\b\b\b\b\b\b\b\b\b\b\b\b\b\b\b\b\b\b\r",
      "1/1 [==============================] - 0s 131ms/step\n"
     ]
    },
    {
     "name": "stdout",
     "output_type": "stream",
     "text": [
      "\r",
      "1/1 [==============================] - ETA: 0s"
     ]
    },
    {
     "name": "stdout",
     "output_type": "stream",
     "text": [
      "\b\b\b\b\b\b\b\b\b\b\b\b\b\b\b\b\b\b\b\b\b\b\b\b\b\b\b\b\b\b\b\b\b\b\b\b\b\b\b\b\b\b\b\b\b\b\r",
      "1/1 [==============================] - 0s 118ms/step\n"
     ]
    },
    {
     "name": "stdout",
     "output_type": "stream",
     "text": [
      "\r",
      "1/1 [==============================] - ETA: 0s"
     ]
    },
    {
     "name": "stdout",
     "output_type": "stream",
     "text": [
      "\b\b\b\b\b\b\b\b\b\b\b\b\b\b\b\b\b\b\b\b\b\b\b\b\b\b\b\b\b\b\b\b\b\b\b\b\b\b\b\b\b\b\b\b\b\b\r",
      "1/1 [==============================] - 0s 131ms/step\n"
     ]
    },
    {
     "name": "stdout",
     "output_type": "stream",
     "text": [
      "\r",
      "1/1 [==============================] - ETA: 0s"
     ]
    },
    {
     "name": "stdout",
     "output_type": "stream",
     "text": [
      "\b\b\b\b\b\b\b\b\b\b\b\b\b\b\b\b\b\b\b\b\b\b\b\b\b\b\b\b\b\b\b\b\b\b\b\b\b\b\b\b\b\b\b\b\b\b\r",
      "1/1 [==============================] - 0s 138ms/step\n"
     ]
    },
    {
     "name": "stdout",
     "output_type": "stream",
     "text": [
      "\r",
      "1/1 [==============================] - ETA: 0s"
     ]
    },
    {
     "name": "stdout",
     "output_type": "stream",
     "text": [
      "\b\b\b\b\b\b\b\b\b\b\b\b\b\b\b\b\b\b\b\b\b\b\b\b\b\b\b\b\b\b\b\b\b\b\b\b\b\b\b\b\b\b\b\b\b\b\r",
      "1/1 [==============================] - 0s 127ms/step\n"
     ]
    },
    {
     "name": "stdout",
     "output_type": "stream",
     "text": [
      "\r",
      "1/1 [==============================] - ETA: 0s"
     ]
    },
    {
     "name": "stdout",
     "output_type": "stream",
     "text": [
      "\b\b\b\b\b\b\b\b\b\b\b\b\b\b\b\b\b\b\b\b\b\b\b\b\b\b\b\b\b\b\b\b\b\b\b\b\b\b\b\b\b\b\b\b\b\b\r",
      "1/1 [==============================] - 0s 130ms/step\n"
     ]
    },
    {
     "name": "stderr",
     "output_type": "stream",
     "text": [
      "/home/jup_user/mlproject/jup-env/lib/python3.8/site-packages/sklearn/cluster/_kmeans.py:1416: FutureWarning: The default value of `n_init` will change from 10 to 'auto' in 1.4. Set the value of `n_init` explicitly to suppress the warning\n",
      "  super()._check_params_vs_input(X, default_n_init=10)\n"
     ]
    },
    {
     "name": "stderr",
     "output_type": "stream",
     "text": [
      "/home/jup_user/mlproject/jup-env/lib/python3.8/site-packages/sklearn/cluster/_kmeans.py:1416: FutureWarning: The default value of `n_init` will change from 10 to 'auto' in 1.4. Set the value of `n_init` explicitly to suppress the warning\n",
      "  super()._check_params_vs_input(X, default_n_init=10)\n"
     ]
    },
    {
     "name": "stderr",
     "output_type": "stream",
     "text": [
      "/home/jup_user/mlproject/jup-env/lib/python3.8/site-packages/sklearn/cluster/_kmeans.py:1416: FutureWarning: The default value of `n_init` will change from 10 to 'auto' in 1.4. Set the value of `n_init` explicitly to suppress the warning\n",
      "  super()._check_params_vs_input(X, default_n_init=10)\n"
     ]
    },
    {
     "name": "stderr",
     "output_type": "stream",
     "text": [
      "/home/jup_user/mlproject/jup-env/lib/python3.8/site-packages/sklearn/cluster/_kmeans.py:1416: FutureWarning: The default value of `n_init` will change from 10 to 'auto' in 1.4. Set the value of `n_init` explicitly to suppress the warning\n",
      "  super()._check_params_vs_input(X, default_n_init=10)\n"
     ]
    },
    {
     "name": "stderr",
     "output_type": "stream",
     "text": [
      "/home/jup_user/mlproject/jup-env/lib/python3.8/site-packages/sklearn/cluster/_kmeans.py:1416: FutureWarning: The default value of `n_init` will change from 10 to 'auto' in 1.4. Set the value of `n_init` explicitly to suppress the warning\n",
      "  super()._check_params_vs_input(X, default_n_init=10)\n"
     ]
    },
    {
     "name": "stderr",
     "output_type": "stream",
     "text": [
      "/home/jup_user/mlproject/jup-env/lib/python3.8/site-packages/sklearn/cluster/_kmeans.py:1416: FutureWarning: The default value of `n_init` will change from 10 to 'auto' in 1.4. Set the value of `n_init` explicitly to suppress the warning\n",
      "  super()._check_params_vs_input(X, default_n_init=10)\n"
     ]
    },
    {
     "name": "stderr",
     "output_type": "stream",
     "text": [
      "/home/jup_user/mlproject/jup-env/lib/python3.8/site-packages/sklearn/cluster/_kmeans.py:1416: FutureWarning: The default value of `n_init` will change from 10 to 'auto' in 1.4. Set the value of `n_init` explicitly to suppress the warning\n",
      "  super()._check_params_vs_input(X, default_n_init=10)\n"
     ]
    },
    {
     "name": "stderr",
     "output_type": "stream",
     "text": [
      "/home/jup_user/mlproject/jup-env/lib/python3.8/site-packages/sklearn/cluster/_kmeans.py:1416: FutureWarning: The default value of `n_init` will change from 10 to 'auto' in 1.4. Set the value of `n_init` explicitly to suppress the warning\n",
      "  super()._check_params_vs_input(X, default_n_init=10)\n"
     ]
    },
    {
     "name": "stderr",
     "output_type": "stream",
     "text": [
      "/home/jup_user/mlproject/jup-env/lib/python3.8/site-packages/sklearn/cluster/_kmeans.py:1416: FutureWarning: The default value of `n_init` will change from 10 to 'auto' in 1.4. Set the value of `n_init` explicitly to suppress the warning\n",
      "  super()._check_params_vs_input(X, default_n_init=10)\n"
     ]
    },
    {
     "name": "stderr",
     "output_type": "stream",
     "text": [
      "/home/jup_user/mlproject/jup-env/lib/python3.8/site-packages/sklearn/cluster/_kmeans.py:1416: FutureWarning: The default value of `n_init` will change from 10 to 'auto' in 1.4. Set the value of `n_init` explicitly to suppress the warning\n",
      "  super()._check_params_vs_input(X, default_n_init=10)\n"
     ]
    },
    {
     "name": "stderr",
     "output_type": "stream",
     "text": [
      "/home/jup_user/mlproject/jup-env/lib/python3.8/site-packages/sklearn/cluster/_kmeans.py:1416: FutureWarning: The default value of `n_init` will change from 10 to 'auto' in 1.4. Set the value of `n_init` explicitly to suppress the warning\n",
      "  super()._check_params_vs_input(X, default_n_init=10)\n"
     ]
    },
    {
     "name": "stderr",
     "output_type": "stream",
     "text": [
      "/home/jup_user/mlproject/jup-env/lib/python3.8/site-packages/sklearn/cluster/_kmeans.py:1416: FutureWarning: The default value of `n_init` will change from 10 to 'auto' in 1.4. Set the value of `n_init` explicitly to suppress the warning\n",
      "  super()._check_params_vs_input(X, default_n_init=10)\n"
     ]
    },
    {
     "name": "stderr",
     "output_type": "stream",
     "text": [
      "/home/jup_user/mlproject/jup-env/lib/python3.8/site-packages/sklearn/cluster/_kmeans.py:1416: FutureWarning: The default value of `n_init` will change from 10 to 'auto' in 1.4. Set the value of `n_init` explicitly to suppress the warning\n",
      "  super()._check_params_vs_input(X, default_n_init=10)\n"
     ]
    },
    {
     "name": "stderr",
     "output_type": "stream",
     "text": [
      "/home/jup_user/mlproject/jup-env/lib/python3.8/site-packages/sklearn/cluster/_kmeans.py:1416: FutureWarning: The default value of `n_init` will change from 10 to 'auto' in 1.4. Set the value of `n_init` explicitly to suppress the warning\n",
      "  super()._check_params_vs_input(X, default_n_init=10)\n"
     ]
    },
    {
     "name": "stderr",
     "output_type": "stream",
     "text": [
      "/home/jup_user/mlproject/jup-env/lib/python3.8/site-packages/sklearn/cluster/_kmeans.py:1416: FutureWarning: The default value of `n_init` will change from 10 to 'auto' in 1.4. Set the value of `n_init` explicitly to suppress the warning\n",
      "  super()._check_params_vs_input(X, default_n_init=10)\n"
     ]
    },
    {
     "name": "stderr",
     "output_type": "stream",
     "text": [
      "/home/jup_user/mlproject/jup-env/lib/python3.8/site-packages/sklearn/cluster/_kmeans.py:1416: FutureWarning: The default value of `n_init` will change from 10 to 'auto' in 1.4. Set the value of `n_init` explicitly to suppress the warning\n",
      "  super()._check_params_vs_input(X, default_n_init=10)\n"
     ]
    },
    {
     "name": "stderr",
     "output_type": "stream",
     "text": [
      "/home/jup_user/mlproject/jup-env/lib/python3.8/site-packages/sklearn/cluster/_kmeans.py:1416: FutureWarning: The default value of `n_init` will change from 10 to 'auto' in 1.4. Set the value of `n_init` explicitly to suppress the warning\n",
      "  super()._check_params_vs_input(X, default_n_init=10)\n"
     ]
    },
    {
     "name": "stderr",
     "output_type": "stream",
     "text": [
      "/home/jup_user/mlproject/jup-env/lib/python3.8/site-packages/sklearn/cluster/_kmeans.py:1416: FutureWarning: The default value of `n_init` will change from 10 to 'auto' in 1.4. Set the value of `n_init` explicitly to suppress the warning\n",
      "  super()._check_params_vs_input(X, default_n_init=10)\n"
     ]
    },
    {
     "name": "stderr",
     "output_type": "stream",
     "text": [
      "/home/jup_user/mlproject/jup-env/lib/python3.8/site-packages/sklearn/cluster/_kmeans.py:1416: FutureWarning: The default value of `n_init` will change from 10 to 'auto' in 1.4. Set the value of `n_init` explicitly to suppress the warning\n",
      "  super()._check_params_vs_input(X, default_n_init=10)\n"
     ]
    },
    {
     "name": "stderr",
     "output_type": "stream",
     "text": [
      "/home/jup_user/mlproject/jup-env/lib/python3.8/site-packages/sklearn/cluster/_kmeans.py:1416: FutureWarning: The default value of `n_init` will change from 10 to 'auto' in 1.4. Set the value of `n_init` explicitly to suppress the warning\n",
      "  super()._check_params_vs_input(X, default_n_init=10)\n"
     ]
    },
    {
     "name": "stderr",
     "output_type": "stream",
     "text": [
      "/home/jup_user/mlproject/jup-env/lib/python3.8/site-packages/sklearn/cluster/_kmeans.py:1416: FutureWarning: The default value of `n_init` will change from 10 to 'auto' in 1.4. Set the value of `n_init` explicitly to suppress the warning\n",
      "  super()._check_params_vs_input(X, default_n_init=10)\n"
     ]
    },
    {
     "name": "stderr",
     "output_type": "stream",
     "text": [
      "/home/jup_user/mlproject/jup-env/lib/python3.8/site-packages/sklearn/cluster/_kmeans.py:1416: FutureWarning: The default value of `n_init` will change from 10 to 'auto' in 1.4. Set the value of `n_init` explicitly to suppress the warning\n",
      "  super()._check_params_vs_input(X, default_n_init=10)\n"
     ]
    },
    {
     "name": "stderr",
     "output_type": "stream",
     "text": [
      "/home/jup_user/mlproject/jup-env/lib/python3.8/site-packages/sklearn/cluster/_kmeans.py:1416: FutureWarning: The default value of `n_init` will change from 10 to 'auto' in 1.4. Set the value of `n_init` explicitly to suppress the warning\n",
      "  super()._check_params_vs_input(X, default_n_init=10)\n"
     ]
    },
    {
     "name": "stderr",
     "output_type": "stream",
     "text": [
      "/home/jup_user/mlproject/jup-env/lib/python3.8/site-packages/sklearn/cluster/_kmeans.py:1416: FutureWarning: The default value of `n_init` will change from 10 to 'auto' in 1.4. Set the value of `n_init` explicitly to suppress the warning\n",
      "  super()._check_params_vs_input(X, default_n_init=10)\n"
     ]
    },
    {
     "name": "stderr",
     "output_type": "stream",
     "text": [
      "/home/jup_user/mlproject/jup-env/lib/python3.8/site-packages/sklearn/cluster/_kmeans.py:1416: FutureWarning: The default value of `n_init` will change from 10 to 'auto' in 1.4. Set the value of `n_init` explicitly to suppress the warning\n",
      "  super()._check_params_vs_input(X, default_n_init=10)\n"
     ]
    },
    {
     "name": "stderr",
     "output_type": "stream",
     "text": [
      "/home/jup_user/mlproject/jup-env/lib/python3.8/site-packages/sklearn/cluster/_kmeans.py:1416: FutureWarning: The default value of `n_init` will change from 10 to 'auto' in 1.4. Set the value of `n_init` explicitly to suppress the warning\n",
      "  super()._check_params_vs_input(X, default_n_init=10)\n"
     ]
    },
    {
     "name": "stderr",
     "output_type": "stream",
     "text": [
      "/home/jup_user/mlproject/jup-env/lib/python3.8/site-packages/sklearn/cluster/_kmeans.py:1416: FutureWarning: The default value of `n_init` will change from 10 to 'auto' in 1.4. Set the value of `n_init` explicitly to suppress the warning\n",
      "  super()._check_params_vs_input(X, default_n_init=10)\n"
     ]
    },
    {
     "name": "stderr",
     "output_type": "stream",
     "text": [
      "/home/jup_user/mlproject/jup-env/lib/python3.8/site-packages/sklearn/cluster/_kmeans.py:1416: FutureWarning: The default value of `n_init` will change from 10 to 'auto' in 1.4. Set the value of `n_init` explicitly to suppress the warning\n",
      "  super()._check_params_vs_input(X, default_n_init=10)\n"
     ]
    },
    {
     "name": "stderr",
     "output_type": "stream",
     "text": [
      "/home/jup_user/mlproject/jup-env/lib/python3.8/site-packages/sklearn/cluster/_kmeans.py:1416: FutureWarning: The default value of `n_init` will change from 10 to 'auto' in 1.4. Set the value of `n_init` explicitly to suppress the warning\n",
      "  super()._check_params_vs_input(X, default_n_init=10)\n"
     ]
    },
    {
     "name": "stderr",
     "output_type": "stream",
     "text": [
      "/home/jup_user/mlproject/jup-env/lib/python3.8/site-packages/sklearn/cluster/_kmeans.py:1416: FutureWarning: The default value of `n_init` will change from 10 to 'auto' in 1.4. Set the value of `n_init` explicitly to suppress the warning\n",
      "  super()._check_params_vs_input(X, default_n_init=10)\n"
     ]
    },
    {
     "name": "stderr",
     "output_type": "stream",
     "text": [
      "/home/jup_user/mlproject/jup-env/lib/python3.8/site-packages/sklearn/cluster/_kmeans.py:1416: FutureWarning: The default value of `n_init` will change from 10 to 'auto' in 1.4. Set the value of `n_init` explicitly to suppress the warning\n",
      "  super()._check_params_vs_input(X, default_n_init=10)\n"
     ]
    },
    {
     "name": "stderr",
     "output_type": "stream",
     "text": [
      "/home/jup_user/mlproject/jup-env/lib/python3.8/site-packages/sklearn/cluster/_kmeans.py:1416: FutureWarning: The default value of `n_init` will change from 10 to 'auto' in 1.4. Set the value of `n_init` explicitly to suppress the warning\n",
      "  super()._check_params_vs_input(X, default_n_init=10)\n"
     ]
    },
    {
     "name": "stderr",
     "output_type": "stream",
     "text": [
      "/home/jup_user/mlproject/jup-env/lib/python3.8/site-packages/sklearn/cluster/_kmeans.py:1416: FutureWarning: The default value of `n_init` will change from 10 to 'auto' in 1.4. Set the value of `n_init` explicitly to suppress the warning\n",
      "  super()._check_params_vs_input(X, default_n_init=10)\n"
     ]
    },
    {
     "name": "stderr",
     "output_type": "stream",
     "text": [
      "/home/jup_user/mlproject/jup-env/lib/python3.8/site-packages/sklearn/cluster/_kmeans.py:1416: FutureWarning: The default value of `n_init` will change from 10 to 'auto' in 1.4. Set the value of `n_init` explicitly to suppress the warning\n",
      "  super()._check_params_vs_input(X, default_n_init=10)\n"
     ]
    },
    {
     "name": "stderr",
     "output_type": "stream",
     "text": [
      "/home/jup_user/mlproject/jup-env/lib/python3.8/site-packages/sklearn/cluster/_kmeans.py:1416: FutureWarning: The default value of `n_init` will change from 10 to 'auto' in 1.4. Set the value of `n_init` explicitly to suppress the warning\n",
      "  super()._check_params_vs_input(X, default_n_init=10)\n"
     ]
    },
    {
     "name": "stderr",
     "output_type": "stream",
     "text": [
      "/home/jup_user/mlproject/jup-env/lib/python3.8/site-packages/sklearn/cluster/_kmeans.py:1416: FutureWarning: The default value of `n_init` will change from 10 to 'auto' in 1.4. Set the value of `n_init` explicitly to suppress the warning\n",
      "  super()._check_params_vs_input(X, default_n_init=10)\n"
     ]
    },
    {
     "name": "stderr",
     "output_type": "stream",
     "text": [
      "/home/jup_user/mlproject/jup-env/lib/python3.8/site-packages/sklearn/cluster/_kmeans.py:1416: FutureWarning: The default value of `n_init` will change from 10 to 'auto' in 1.4. Set the value of `n_init` explicitly to suppress the warning\n",
      "  super()._check_params_vs_input(X, default_n_init=10)\n"
     ]
    },
    {
     "name": "stderr",
     "output_type": "stream",
     "text": [
      "/home/jup_user/mlproject/jup-env/lib/python3.8/site-packages/sklearn/cluster/_kmeans.py:1416: FutureWarning: The default value of `n_init` will change from 10 to 'auto' in 1.4. Set the value of `n_init` explicitly to suppress the warning\n",
      "  super()._check_params_vs_input(X, default_n_init=10)\n"
     ]
    },
    {
     "name": "stderr",
     "output_type": "stream",
     "text": [
      "/home/jup_user/mlproject/jup-env/lib/python3.8/site-packages/sklearn/cluster/_kmeans.py:1416: FutureWarning: The default value of `n_init` will change from 10 to 'auto' in 1.4. Set the value of `n_init` explicitly to suppress the warning\n",
      "  super()._check_params_vs_input(X, default_n_init=10)\n"
     ]
    },
    {
     "name": "stderr",
     "output_type": "stream",
     "text": [
      "/home/jup_user/mlproject/jup-env/lib/python3.8/site-packages/sklearn/cluster/_kmeans.py:1416: FutureWarning: The default value of `n_init` will change from 10 to 'auto' in 1.4. Set the value of `n_init` explicitly to suppress the warning\n",
      "  super()._check_params_vs_input(X, default_n_init=10)\n"
     ]
    },
    {
     "name": "stderr",
     "output_type": "stream",
     "text": [
      "/home/jup_user/mlproject/jup-env/lib/python3.8/site-packages/sklearn/cluster/_kmeans.py:1416: FutureWarning: The default value of `n_init` will change from 10 to 'auto' in 1.4. Set the value of `n_init` explicitly to suppress the warning\n",
      "  super()._check_params_vs_input(X, default_n_init=10)\n"
     ]
    },
    {
     "name": "stderr",
     "output_type": "stream",
     "text": [
      "/home/jup_user/mlproject/jup-env/lib/python3.8/site-packages/sklearn/cluster/_kmeans.py:1416: FutureWarning: The default value of `n_init` will change from 10 to 'auto' in 1.4. Set the value of `n_init` explicitly to suppress the warning\n",
      "  super()._check_params_vs_input(X, default_n_init=10)\n"
     ]
    },
    {
     "name": "stderr",
     "output_type": "stream",
     "text": [
      "/home/jup_user/mlproject/jup-env/lib/python3.8/site-packages/sklearn/cluster/_kmeans.py:1416: FutureWarning: The default value of `n_init` will change from 10 to 'auto' in 1.4. Set the value of `n_init` explicitly to suppress the warning\n",
      "  super()._check_params_vs_input(X, default_n_init=10)\n"
     ]
    },
    {
     "name": "stderr",
     "output_type": "stream",
     "text": [
      "/home/jup_user/mlproject/jup-env/lib/python3.8/site-packages/sklearn/cluster/_kmeans.py:1416: FutureWarning: The default value of `n_init` will change from 10 to 'auto' in 1.4. Set the value of `n_init` explicitly to suppress the warning\n",
      "  super()._check_params_vs_input(X, default_n_init=10)\n"
     ]
    },
    {
     "name": "stderr",
     "output_type": "stream",
     "text": [
      "/home/jup_user/mlproject/jup-env/lib/python3.8/site-packages/sklearn/cluster/_kmeans.py:1416: FutureWarning: The default value of `n_init` will change from 10 to 'auto' in 1.4. Set the value of `n_init` explicitly to suppress the warning\n",
      "  super()._check_params_vs_input(X, default_n_init=10)\n"
     ]
    },
    {
     "name": "stderr",
     "output_type": "stream",
     "text": [
      "/home/jup_user/mlproject/jup-env/lib/python3.8/site-packages/sklearn/cluster/_kmeans.py:1416: FutureWarning: The default value of `n_init` will change from 10 to 'auto' in 1.4. Set the value of `n_init` explicitly to suppress the warning\n",
      "  super()._check_params_vs_input(X, default_n_init=10)\n"
     ]
    },
    {
     "name": "stderr",
     "output_type": "stream",
     "text": [
      "/home/jup_user/mlproject/jup-env/lib/python3.8/site-packages/sklearn/cluster/_kmeans.py:1416: FutureWarning: The default value of `n_init` will change from 10 to 'auto' in 1.4. Set the value of `n_init` explicitly to suppress the warning\n",
      "  super()._check_params_vs_input(X, default_n_init=10)\n"
     ]
    },
    {
     "name": "stderr",
     "output_type": "stream",
     "text": [
      "/home/jup_user/mlproject/jup-env/lib/python3.8/site-packages/sklearn/cluster/_kmeans.py:1416: FutureWarning: The default value of `n_init` will change from 10 to 'auto' in 1.4. Set the value of `n_init` explicitly to suppress the warning\n",
      "  super()._check_params_vs_input(X, default_n_init=10)\n"
     ]
    }
   ],
   "source": [
    "path = folder_path\n",
    "# change the working directory to the path where the images are located\n",
    "os.chdir(path)\n",
    "\n",
    "# this list holds all the image filename\n",
    "flowers = []\n",
    "\n",
    "# creates a ScandirIterator aliased as files\n",
    "with os.scandir(path) as files:\n",
    "  # loops through each file in the directory\n",
    "    for file in files:\n",
    "        if file.name.endswith('.jpg'):\n",
    "          # adds only the image files to the flowers list\n",
    "            flowers.append(file.name)\n",
    "        if file.name.endswith('.png'):\n",
    "            # adds only the image files to the flowers list\n",
    "            flowers.append(file.name)\n",
    "            \n",
    "model = VGG16()\n",
    "model = Model(inputs = model.inputs, outputs = model.layers[-2].output)\n",
    "   \n",
    "data = {}\n",
    "p = \"/home/jup_user/multipool/ai-case-study/img\"\n",
    "\n",
    "# lop through each image in the dataset\n",
    "for flower in flowers:\n",
    "    # try to extract the features and update the dictionary\n",
    "    try:\n",
    "        feat = extract_features(flower,model)\n",
    "        data[flower] = feat\n",
    "    # if something fails, save the extracted features as a pickle file (optional)\n",
    "    except:\n",
    "        with open(p,'wb') as file:\n",
    "            pickle.dump(data,file)\n",
    "          \n",
    "# get a list of the filenames\n",
    "filenames = np.array(list(data.keys()))\n",
    "\n",
    "# get a list of just the features\n",
    "feat = np.array(list(data.values()))\n",
    "\n",
    "# reshape so that there are 210 samples of 4096 vectors\n",
    "feat = feat.reshape(-1,4096)\n",
    "\n",
    "# get the unique labels (from the flower_labels.csv)\n",
    "df = pd.read_csv('/home/jup_user/multipool/ai-case-study/flower_labels.csv')\n",
    "label = df['label'].tolist()\n",
    "unique_labels = list(set(label))\n",
    "\n",
    "# reduce the amount of dimensions in the feature vector\n",
    "pca = PCA(n_components=100, random_state=22)\n",
    "pca.fit(feat)\n",
    "x = pca.transform(feat)\n",
    "\n",
    "# cluster feature vectors\n",
    "kmeans = KMeans(n_clusters=len(unique_labels), random_state=22)\n",
    "kmeans.fit(x)\n",
    "\n",
    "# holds the cluster id and the images { id: [images] }\n",
    "groups = {}\n",
    "for file, cluster in zip(filenames,kmeans.labels_):\n",
    "    if cluster not in groups.keys():\n",
    "        groups[cluster] = []\n",
    "        groups[cluster].append(file)\n",
    "    else:\n",
    "        groups[cluster].append(file)\n",
    "\n",
    "# this is just incase you want to see which value for k might be the best \n",
    "sse = []\n",
    "list_k = list(range(3, 50))\n",
    "\n",
    "for k in list_k:\n",
    "    km = KMeans(n_clusters=k, random_state=22)\n",
    "    km.fit(x)\n",
    "    \n",
    "    sse.append(km.inertia_)\n",
    "\n",
    "# function to calculate clusters\n",
    "def cluster(filePaths, features, threshold=0.9):\n",
    "    features = features.reshape(-1,4096)\n",
    "    simMatrix = cosine_similarity(features)\n",
    "    clusters = {}\n",
    "    for i in range(len(features)):\n",
    "        dupIdx = list(np.where(simMatrix[i] > threshold)[0])\n",
    "        # The similarity matrix will include comparisons of items with themselves, which will always \n",
    "        # result in a similarity of 1.0 (100%) and is redundant, so we ignore those\n",
    "        if len(dupIdx) > 1:\n",
    "            curCluster, clusterMatch = list(dupIdx), None\n",
    "            # The first time an image is found to be in any given cluster, we log the entire cluster, \n",
    "            # so subsequent checks of other images from the same cluster would result in duplicated clusters.\n",
    "            # Check for that here\n",
    "            for cIdx in clusters:\n",
    "                if curCluster[0] in clusters[cIdx]:\n",
    "                    clusterMatch = cIdx\n",
    "                    break\n",
    "            # If the current cluster didn't match any existing ones, create/log it\n",
    "            if clusterMatch == None: clusters[len(clusters)] = curCluster\n",
    "    # Resolve file indices back to file paths\n",
    "    for cIdx in clusters: clusters[cIdx] = [filePaths[x] for x in clusters[cIdx]]\n",
    "    return clusters\n",
    "\n",
    "# another method of clustering based on CSI\n",
    "clus_new = cluster(filenames, feat, threshold=0.6)"
   ]
  },
  {
   "cell_type": "code",
   "execution_count": 7,
   "id": "d431c067-bb02-4785-9f0a-511ceacbb4cc",
   "metadata": {
    "execution": {
     "iopub.execute_input": "2024-04-13T17:48:30.804245Z",
     "iopub.status.busy": "2024-04-13T17:48:30.803482Z",
     "iopub.status.idle": "2024-04-13T17:48:30.810090Z",
     "shell.execute_reply": "2024-04-13T17:48:30.809533Z"
    }
   },
   "outputs": [],
   "source": [
    "# prepare data for saving to rdbms\n",
    "save_df = result_df"
   ]
  },
  {
   "cell_type": "code",
   "execution_count": 8,
   "id": "19662fd0-5dd8-466f-a505-a81568f2a000",
   "metadata": {
    "execution": {
     "iopub.execute_input": "2024-04-13T17:48:30.817014Z",
     "iopub.status.busy": "2024-04-13T17:48:30.813729Z",
     "iopub.status.idle": "2024-04-13T17:48:30.822037Z",
     "shell.execute_reply": "2024-04-13T17:48:30.821497Z"
    }
   },
   "outputs": [],
   "source": [
    "# save_df[[\"file_folder\",\"filename_actual\"]] = save_df['filename'].str.split('/',n=1, expand=True)\n",
    "save_df['cluster_number'] = 0"
   ]
  },
  {
   "cell_type": "code",
   "execution_count": 9,
   "id": "e81fc242-b9f9-4d7e-a4e2-7e4605826aaf",
   "metadata": {
    "collapsed": true,
    "execution": {
     "iopub.execute_input": "2024-04-13T17:48:30.830606Z",
     "iopub.status.busy": "2024-04-13T17:48:30.825628Z",
     "iopub.status.idle": "2024-04-13T17:48:31.513367Z",
     "shell.execute_reply": "2024-04-13T17:48:31.512731Z"
    },
    "jupyter": {
     "outputs_hidden": true
    }
   },
   "outputs": [
    {
     "name": "stdout",
     "output_type": "stream",
     "text": [
      "GKs0yTZa0AAxjuA.jpg\n",
      "GKlHqCSWQAANVS1.png\n",
      "GKoX36NWEAAsycx.png\n",
      "GKpKnfWWMAA2gfL.jpg\n",
      "GK4FJvWasAAiYjE.jpg\n",
      "GK5PS1FbMAEv_VD.jpg\n",
      "GKdnEOOaoAAjndq.jpg\n",
      "GKzSjdBWQAIRLn8.jpg\n",
      "GK5Qe6IWwAArjpO.jpg\n",
      "GKq12MuXYAASgtQ.jpg\n",
      "GKobBKGWAAABY-T.png\n",
      "GK4DHvrW0AA9rhB.jpg\n",
      "GK54Q2RXAAAp2Jg.jpg\n",
      "GKvOGYiWsAACgqy.jpg\n",
      "GKrgk5MbgAARMIL.png\n",
      "GK6-t5JbUAAHH1-.jpg\n",
      "GKzx37zXcAIF0zM.png\n",
      "GK4crSfbEAA3qY7.jpg\n",
      "GKobZv8WAAE0hU-.png\n",
      "GKdKla9bUAAHixw.png\n",
      "GKp1s_bbQAAx6Ri.png\n",
      "GKw9-EYXYAEAxG2.jpg\n",
      "GK4ESZXWsAA6mx0.jpg\n",
      "GKfmnvbWEAATdlj.jpg\n",
      "GKL-xfIaYAAcM1o.png\n",
      "GK6AV2IaQAEk5Cc.png\n",
      "GKo7oUlW4AAM6vE.jpg\n",
      "GKfhM_BXoAEHnO-.jpg\n",
      "GKpfznhXkAAaZXL.jpg\n",
      "GKy2I_1aAAAJcih.jpg\n",
      "GKpt3S1WQAAxubQ.png\n",
      "GKjksjWbMAAnAkq.png\n",
      "GK5ILYrbkAAlVR4.png\n",
      "GK43WvQaIAATNct.jpg\n",
      "GKqWoMDWYAAoJT3.jpg\n",
      "GKtbCEPXsAAqJSt.jpg\n",
      "GKplMyyXkAAlg7Q.jpg\n",
      "GK7hYnrWkAAVAn8.jpg\n",
      "GKzmeE0akAAD0zS.jpg\n",
      "GKuJdnraIAE9fM8.jpg\n",
      "GK6TQ3XboAAkogw.jpg\n",
      "GK76CCnbAAA4ZxL.jpg\n",
      "GK8I_dJawAAJQR1.jpg\n",
      "GKmPQV1W0AADYvB.jpg\n",
      "GKuFDM2XwAAFse8.png\n",
      "GKyemigWEAEMinW.jpg\n",
      "GKeJnOCWsAESLev.jpg\n",
      "GKgha0jXgAI_3-h.jpg\n",
      "GK7xj4ebUAADkGk.jpg\n",
      "GK3BZiqW0AA4dky.jpg\n",
      "GKfUj_8X0AA_lov.png\n",
      "GKqrLppaoAcS_m_.jpg\n",
      "GKd1ADEXcAAz8ef.jpg\n",
      "GKzOXnkWUAAtSgA.jpg\n",
      "GKubD0VXEAAvOU_.png\n",
      "GKovNH2XAAEA3ob.jpg\n",
      "GKny59FWoAADcxB.jpg\n",
      "GK3K_MRWgAEdekZ.jpg\n",
      "GK4CFvqWEAAvKvy.jpg\n",
      "GK5svZ-bMAASO7K.jpg\n",
      "GKfEVAHXkAEVxc7.jpg\n",
      "GKo9D_fWAAAVBn5.jpg\n",
      "GKxONGOW4AAiery.jpg\n",
      "GK58lyebMAEBO_e.jpg\n",
      "GK59fb0X0AA5x7V.jpg\n",
      "GKfD80BW4AAGWyc.jpg\n",
      "GK2NSm2asAAXasw.jpg\n",
      "GKfl7UGagAAYMUC.jpg\n",
      "GK5MxUFXsAAC-Jk.jpg\n",
      "GKqOFs5XoAAAEEp.jpg\n",
      "GK5TTU4bcAAMc_H.jpg\n",
      "GK4sACGa8AAnR19.jpg\n",
      "GK4xLzqbIAAXOvM.jpg\n",
      "GKd3PPDWYAA-_LK.jpg\n",
      "GKoSAb-WQAADRVS.jpg\n",
      "GKplkwiXsAAeUAh.jpg\n",
      "GKoX36NWEAAsycx.png\n",
      "GKy8k2HWEAAS0h9.jpg\n",
      "GKpKnfWWMAA2gfL.jpg\n",
      "GK5MFSfXsAAaCVT.png\n",
      "GKtqQjYW4AEszaY.png\n",
      "GKb8p8lWUAAzS2Y.png\n",
      "GK5PS1FbMAEv_VD.jpg\n",
      "GKzGTJlXkAAztY7.jpg\n",
      "GK6eGPzb0AAaAz0.jpg\n",
      "GKgRMf-W0AESr7k.jpg\n",
      "GK74pEPb0AAyNxH.jpg\n",
      "GKdnEOOaoAAjndq.jpg\n",
      "GKsMTmYWAAAoOqN.jpg\n",
      "GK4iu80W4AAI7vx.jpg\n",
      "GKynKRsbcAACre2.jpg\n",
      "GKgSRNqW0AAPxdL.png\n",
      "GKzSjdBWQAIRLn8.jpg\n",
      "GK5Qe6IWwAArjpO.jpg\n",
      "GKl11A7aEAAJ0hz.png\n",
      "GK3L4n6XQAIwpIM.jpg\n",
      "GKrCXhWXUAAj7RO.jpg\n",
      "GK1dEWIbIAMelwV.png\n",
      "GKp-6QVWsAAslmW.png\n",
      "GKiLXQ1WYAAqvqh.jpg\n",
      "GKkTvbEX0AAOB6f.jpg\n",
      "GKobBKGWAAABY-T.png\n",
      "GKy4ywFa8AA6ChJ.jpg\n",
      "GK0nh9DWYAEFcOk.png\n",
      "GKyEiFeWsAAJNli.jpg\n",
      "GKo2sWzXMAA5Zoi.jpg\n",
      "GK4DHvrW0AA9rhB.jpg\n",
      "GK49AyGWkAAOu9u.jpg\n",
      "GKvOGYiWsAACgqy.jpg\n",
      "GKzzUqWWoAAyfMc.png\n",
      "GKrgk5MbgAARMIL.png\n",
      "GKFkYWQXsAAb2K7.jpg\n",
      "GK6-t5JbUAAHH1-.jpg\n",
      "GKtvyzwXkAAtPbu.jpg\n",
      "GKzx37zXcAIF0zM.png\n",
      "GK4crSfbEAA3qY7.jpg\n",
      "GKeJRXCWgAASQTx.png\n",
      "GKobZv8WAAE0hU-.png\n",
      "GKvZ559XEAAi_j6.png\n",
      "GKopZfjW0AAB8Li.jpg\n",
      "GKoq1fFXoAE0JHP.jpg\n",
      "GKnBQkOakAAmFvO.jpg\n",
      "GKdKla9bUAAHixw.png\n",
      "GKuLcoWXoAA3hJQ.jpg\n",
      "GKeE5zWWsAAnXE4.png\n",
      "GK4Bpv_WcAAwJ41.jpg\n",
      "GKpPx77XgAA7e6M.jpg\n",
      "GKun0eLWsAA5Bxu.jpg\n",
      "GKukNnvWQAABWux.jpg\n",
      "GKq4kVEaUAEU1pn.jpg\n",
      "GKwLMoNbgAEqsXD.jpg\n",
      "GKr0ZEbXUAALX-M.jpg\n",
      "GKgMioLXwAA4Mxb.jpg\n",
      "GK4ESZXWsAA6mx0.jpg\n",
      "GK4NtkJWsAAY6AB.png\n",
      "GKyp6P2akAAMiqW.jpg\n",
      "Fl6Z6ZIagAEaA4q.jpg\n",
      "GKfmnvbWEAATdlj.jpg\n",
      "GKjqmvGWUAENff_.jpg\n",
      "GK0aIQRXsAAqIzF.jpg\n",
      "GK1V5goW0AEZ9Yz.jpg\n",
      "GKfwwbLXUAAOz79.jpg\n",
      "GKgTBIVW0AAtkiL.png\n",
      "GKx4IgmbMAAUq81.png\n",
      "GKotOfgWgAAnrR8.jpg\n",
      "GKL-xfIaYAAcM1o.png\n",
      "GKlr1oiWIAAvNK2.png\n",
      "GKo7oUlW4AAM6vE.jpg\n",
      "GK410QLW8AAdYO9.jpg\n",
      "GKnzJIWaQAATGIN.jpg\n",
      "GKugv6WXsAAOhpK.png\n",
      "GKuLbShbEAACkcT.jpg\n",
      "GKyGiVFasAEi03E.jpg\n",
      "GK6CtL5X0AABsVb.jpg\n",
      "GKzAe9AaMAANRrD.jpg\n",
      "GK7oVfdXcAA4I28.png\n",
      "GKpfznhXkAAaZXL.jpg\n",
      "GKy2I_1aAAAJcih.jpg\n",
      "GKpt3S1WQAAxubQ.png\n",
      "GKrKN7QW0AAqzVv.png\n",
      "GK6eZVfaMAArIwg.jpg\n",
      "GKomaCXXwAAm4Dm.png\n",
      "GKtJDAvX0AAQP_y.png\n",
      "GKnffWnXEAAmJdU.png\n",
      "GKjPEXSW0AEjSaN.jpg\n",
      "GKzGWUBWwAAEv6u.jpg\n",
      "GK43WvQaIAATNct.jpg\n",
      "GKqWoMDWYAAoJT3.jpg\n",
      "GK7RRPNaAAAAovL.jpg\n",
      "GK1q-zLXgAAr20p.jpg\n",
      "GKmjXvgWMAA58nF.jpg\n",
      "GKtLWSYWEAA9cd9.png\n",
      "GKe5PksXoAA31Wg.jpg\n",
      "GK65x3EW4AAC3WP.jpg\n",
      "GKplMyyXkAAlg7Q.jpg\n",
      "GK6fKRAa8AEIk2m.jpg\n",
      "GKvI9NDXYAQ0Gfo.jpg\n",
      "GKcgkwZW4AA2-87.jpg\n",
      "GK7hYnrWkAAVAn8.jpg\n",
      "GKzmeE0akAAD0zS.jpg\n",
      "GK0nfb2XMAAzrwg.png\n",
      "GKttoqvXIAAI_4e.png\n",
      "GKrDGWEaoAArINg.jpg\n",
      "GKu2O2fWYAArM0O.jpg\n",
      "GKp-hIHWkAQ4Mti.png\n",
      "GKlPixdaEAA6PZy.png\n",
      "GKo359MW0AAF4uT.jpg\n",
      "GK6TQ3XboAAkogw.jpg\n",
      "GKgeM0iXYAAYbJT.jpg\n",
      "GKzxNsYbUAAelgl.jpg\n",
      "GKwwRT8WcAAyDku.png\n",
      "GKtqwgLbwAAoxK9.png\n",
      "GKyhYu2bUAAmcwP.jpg\n",
      "GK76CCnbAAA4ZxL.jpg\n",
      "GK3zmHSXkAEtOWT.png\n",
      "GKuZGhQawAA0IQM.jpg\n",
      "GKtZM6JaYAAD5aI.jpg\n",
      "GKnWZPvacAAUchL.jpg\n",
      "GK8I_dJawAAJQR1.jpg\n",
      "GKgwAFnbEAAEY5r.jpg\n",
      "GK8FkolXIAAnlJ7.png\n",
      "GKo0Ah6a0AA0XV7.png\n",
      "GK0MAwYXsAEKlbQ.png\n",
      "GKuqV2aWkAAp88w.jpg\n",
      "GKg7x6TWoAAcrWG.jpg\n",
      "GKl82f0aoAAdo9z.jpg\n",
      "GKyq72hWsAAwASI.jpg\n",
      "GKufWzrXoAAK_bP.jpg\n",
      "GKuFDM2XwAAFse8.png\n",
      "GKiGAN_XMAAjV8G.jpg\n",
      "GKd3QisXMAAQGFb.jpg\n",
      "GKs4g55XcAAKQKa.jpg\n",
      "GKe9-l7WoAAYyRN.png\n",
      "GKeJnOCWsAESLev.jpg\n",
      "GKj31suXQAA6job.jpg\n",
      "GKoSiVkWEAAoQ1A.jpg\n",
      "GK3BZiqW0AA4dky.jpg\n",
      "GK6euNRbMAA40yA.jpg\n",
      "GKhiU9qbAAACb1N.jpg\n",
      "GK0qwBsW8AEXz_l.jpg\n",
      "GKmEPcoaYAAFkvE.jpg\n",
      "GKd1ADEXcAAz8ef.jpg\n",
      "GKjrzsSaEAEsTKv.jpg\n",
      "GKmIuyYakAAxJ34.jpg\n",
      "GKzOXnkWUAAtSgA.jpg\n",
      "GKubD0VXEAAvOU_.png\n",
      "GKovNH2XAAEA3ob.jpg\n",
      "GKz4SXSWkAAc18o.jpg\n",
      "GKxdMINWoAAx20n.jpg\n",
      "GKuHhw4WUAAUs2u.png\n",
      "GK5FERFWMAAZs55.png\n",
      "GK3K_MRWgAEdekZ.jpg\n",
      "GKlrH-HXsAAFUM8.png\n",
      "GK4CFvqWEAAvKvy.jpg\n",
      "GKuGqBfXMAAtJiE.jpg\n",
      "GKpdvu8WcAEyPSx.jpg\n",
      "GKiIzfrbUAAQebZ.jpg\n",
      "GKzFj8pXYAASVty.jpg\n",
      "GKl9vEqbkAA_aRn.jpg\n",
      "GKp4zZzXsAAqvPP.jpg\n",
      "GK1_Q_tbwAAIZP_.jpg\n",
      "GK5PNmdWQAAG1I6.jpg\n",
      "GKuPcsqbcAAf0sU.jpg\n",
      "GKfEVAHXkAEVxc7.jpg\n",
      "GKo9D_fWAAAVBn5.jpg\n",
      "GKxONGOW4AAiery.jpg\n",
      "GKtv0kXWUAEehID.jpg\n",
      "GKoKkRWWkAAbSev.png\n",
      "GK58lyebMAEBO_e.jpg\n",
      "GKuzwidWkAAP8Ik.jpg\n",
      "GK59fb0X0AA5x7V.jpg\n",
      "GKfD80BW4AAGWyc.jpg\n",
      "GK2NSm2asAAXasw.jpg\n",
      "GKqwiwxXEAA5MBM.png\n",
      "GKl9GQvbYAAT46b.jpg\n",
      "GK6xPi4bgAACahv.jpg\n",
      "GKxlMyub0AAw3hC.jpg\n",
      "GKhSNPOWUAAQW8g.jpg\n",
      "GKlIW36WMAA0abd.png\n",
      "GKf_5wFXEAA-5_P.jpg\n",
      "GK10G8DXAAA36hR.jpg\n",
      "GKiFCLuXIAAMZGr.png\n",
      "GKrJU2dXcAAAhU-.jpg\n",
      "GK0MBwZWEAAzNuB.png\n",
      "GKdEavhWYAA4Tld.jpg\n",
      "GKhf7dbaAAALy-2.jpg\n",
      "GKuzrqKXkAAHKVi.png\n",
      "GK5LQdwXcAA-b08.png\n",
      "GK31JuBWcAAZpGU.png\n",
      "GKp_Em2WsAA6ZuX.png\n",
      "GKcPhpsaIAECKH3.jpg\n",
      "GKewDJMX0AEuXyG.jpg\n",
      "GKqvvwEWUAAd4kS.jpg\n",
      "GKfoH-rbsAAdfJD.png\n",
      "GK1XzaNWUAA2eM8.jpg\n",
      "GKz2XTJWEAAhgvD.jpg\n",
      "GKzRNUYXYAMFXsg.jpg\n",
      "GK43U_nXwAAyro4.jpg\n",
      "GKlaCgpbkAA2AqQ.jpg\n",
      "GKzGOD4XoAA9zyL.jpg\n",
      "GKfl7UGagAAYMUC.jpg\n",
      "GK35WYcWsAA_4dE.jpg\n",
      "GKutx5qXEAA0mhZ.jpg\n",
      "GKxnT04bYAALX8k.jpg\n",
      "GK0-uZoX0AAM0ZP.jpg\n",
      "GKd5G71W8AE1iY7.jpg\n",
      "GKoomnSXwAAPbn2.jpg\n",
      "GKhiQCGbEAAn0sg.jpg\n",
      "GKruhirakAAw5BL.jpg\n",
      "GK4b_RiXIAA17mZ.jpg\n",
      "GKgF8_DbYAAbAbt.jpg\n",
      "GKt6JFvbYAAoK-z.jpg\n",
      "GKrHq0yXQAAgs0K.jpg\n",
      "GKqOFs5XoAAAEEp.jpg\n",
      "GK4sACGa8AAnR19.jpg\n",
      "GK3-00abQAAHKof.jpg\n",
      "GKtszlFXwAAuI0L.png\n",
      "GKp57pUXgAEccOn.jpg\n",
      "GKsjJBYWUAAVawe.jpg\n",
      "GK4xLzqbIAAXOvM.jpg\n",
      "GKwg1GybgAAVr-n.jpg\n",
      "GKsUYRqagAAeloM.jpg\n",
      "GK6mLBMb0AAgS0z.jpg\n",
      "GK31cd_WAAAikEh.png\n",
      "GKgIA_kXEAArGiM.jpg\n",
      "GKl9e2PagAAlIeD.jpg\n"
     ]
    },
    {
     "name": "stdout",
     "output_type": "stream",
     "text": [
      "GKtaQysWsAARiGV.jpg\n",
      "GKs567nW8AAa8xK.jpg\n",
      "GKm7Kw8WAAEpUrH.jpg\n",
      "GKoq1fFXoAE0JHP.jpg\n",
      "GKuLcoWXoAA3hJQ.jpg\n",
      "GKwLMoNbgAEqsXD.jpg\n",
      "GKnR8tobAAAm2S1.jpg\n",
      "GK6eZVfaMAArIwg.jpg\n",
      "GKnffWnXEAAmJdU.png\n",
      "GK7RRPNaAAAAovL.jpg\n",
      "GK6fKRAa8AEIk2m.jpg\n",
      "GK4tYN1X0AAZaJD.jpg\n",
      "GKo0Ah6a0AA0XV7.png\n",
      "GKeJnOCWsAESLev.jpg\n",
      "GKcPlYFa4AA8YYh.jpg\n",
      "GKhiU9qbAAACb1N.jpg\n",
      "GK0t0NKaIAEgrfT.png\n",
      "GKf_5wFXEAA-5_P.jpg\n",
      "GKrJU2dXcAAAhU-.jpg\n",
      "GKuzrqKXkAAHKVi.png\n",
      "GKlaCgpbkAA2AqQ.jpg\n",
      "GKutx5qXEAA0mhZ.jpg\n",
      "GKuWXbSWkAAGopN.jpg\n",
      "GKzZ5zZbAAA6rTT.png\n",
      "GKqY0DJWwAApiUC.png\n",
      "GKpvhpLWYAEXu5M.jpg\n",
      "GKquabOXIAAQYfd.png\n",
      "GK2sO8ra0AEUv3p.jpg\n",
      "GKw7qb4awAAMa1u.jpg\n",
      "GK5ONcla0AAmfSB.jpg\n",
      "GK5gHkLXoAAZuWN.png\n",
      "GK1Sff-bIAEcKFo.jpg\n",
      "GKp-1LJXsAAXIT9.jpg\n",
      "GKlHqCSWQAANVS1.png\n",
      "GKy8k2HWEAAS0h9.jpg\n",
      "GKtqQjYW4AEszaY.png\n",
      "GK5PS1FbMAEv_VD.jpg\n",
      "GK74pEPb0AAyNxH.jpg\n",
      "GKdnEOOaoAAjndq.jpg\n",
      "GKfWY3bW4AAjsjA.png\n",
      "GKsMTmYWAAAoOqN.jpg\n",
      "GK30bnjakAA8KMr.jpg\n",
      "GKtr7hfWQAAJ_tz.jpg\n",
      "GKynKRsbcAACre2.jpg\n",
      "GKfVpPcXkAAdo8G.png\n",
      "GKhKeo_bcAAlsIZ.jpg\n",
      "GK68LBpXUAAlbir.jpg\n",
      "GKzSjdBWQAIRLn8.jpg\n",
      "GKs_v8jbEAA5RUS.jpg\n",
      "GKj2Oi_WAAAkdHe.jpg\n",
      "GK5Qe6IWwAArjpO.jpg\n",
      "GKe4FedawAA4myP.jpg\n",
      "GKrCXhWXUAAj7RO.jpg\n",
      "GK1dEWIbIAMelwV.png\n",
      "GKtpW2DWMAA8Y4X.jpg\n",
      "GKfz4BVX0AA0aIW.jpg\n",
      "GKiLXQ1WYAAqvqh.jpg\n",
      "GKq12MuXYAASgtQ.jpg\n",
      "GKp8JlYXkAAvfpR.jpg\n",
      "GKy4ywFa8AA6ChJ.jpg\n",
      "GK0nh9DWYAEFcOk.png\n",
      "GKj14MfWAAAlj6x.jpg\n",
      "GKyEiFeWsAAJNli.jpg\n",
      "GKo2sWzXMAA5Zoi.jpg\n",
      "GK5N77aXMAAb3Ya.jpg\n",
      "GKtoLoaWkAApgvQ.png\n",
      "GK4DHvrW0AA9rhB.jpg\n",
      "GK0wAvIXIAAexFV.jpg\n",
      "GKfWBhfXgAE5Epl.png\n",
      "GKj2mLkWwAMiquN.jpg\n",
      "GK4XbcrWcAAmVk4.jpg\n",
      "GK57Ju7XwAAlRpE.jpg\n",
      "GKrgk5MbgAARMIL.png\n",
      "GKFkYWQXsAAb2K7.jpg\n",
      "GK6-t5JbUAAHH1-.jpg\n",
      "GKmwVr3XMAExj1h.jpg\n",
      "GK5m73vbMAEuqLv.jpg\n",
      "GKtvyzwXkAAtPbu.jpg\n",
      "GK351xlbcAAuztS.jpg\n",
      "GKzx37zXcAIF0zM.png\n",
      "GKnxodeWUAEqdBW.jpg\n",
      "GK4crSfbEAA3qY7.jpg\n",
      "GKvZ559XEAAi_j6.png\n",
      "GKopZfjW0AAB8Li.jpg\n",
      "GKnBQkOakAAmFvO.jpg\n",
      "GKdKla9bUAAHixw.png\n",
      "GKeE5zWWsAAnXE4.png\n",
      "GK2AI3maIAAjEwy.jpg\n",
      "GK4Wn3OboAAwkJ4.jpg\n",
      "GKp1s_bbQAAx6Ri.png\n",
      "GK4Bpv_WcAAwJ41.jpg\n",
      "GKpPx77XgAA7e6M.jpg\n",
      "GKXulcJbcAAUfpD.jpg\n",
      "GK4ISXrWwAEEKeo.jpg\n",
      "GK42IQHW8AAe10p.jpg\n",
      "GKukNnvWQAABWux.jpg\n",
      "GKl2a9aW4AA6oJV.jpg\n",
      "GKpBjbIW0AE9Fi3.png\n",
      "GKr0ZEbXUAALX-M.jpg\n",
      "GK45DWNboAEpdID.jpg\n",
      "GKqPkg3WMAEY4zO.jpg\n",
      "GK4ESZXWsAA6mx0.jpg\n",
      "FnCgZDzacAADyRN.jpg\n",
      "GKrfAjdXgAAz_nu.jpg\n",
      "GK4NtkJWsAAY6AB.png\n",
      "GKyp6P2akAAMiqW.jpg\n",
      "Fl6Z6ZIagAEaA4q.jpg\n",
      "GKrj5xMX0AA8Lmr.jpg\n",
      "GKjqmvGWUAENff_.jpg\n",
      "GK44mDAbEAE13qY.jpg\n",
      "GKfwwbLXUAAOz79.jpg\n",
      "GKgTBIVW0AAtkiL.png\n",
      "GK4CIMnbQAAdrBz.jpg\n",
      "GKd7wP-XAAAaUJS.png\n",
      "GKotOfgWgAAnrR8.jpg\n",
      "GK58MhjWoAA6bPr.png\n",
      "GK5TVmIbIAACDY4.jpg\n",
      "GKlr1oiWIAAvNK2.png\n",
      "GK7B_GmXUAAXFej.jpg\n",
      "GKnzJIWaQAATGIN.jpg\n",
      "GKugv6WXsAAOhpK.png\n",
      "GK4qzXIWwAA0RyA.jpg\n",
      "GKprR1GaIAA0sop.jpg\n",
      "GKuhLl_bUAIKJlM.jpg\n",
      "GK6CtL5X0AABsVb.jpg\n",
      "GKzs8lDXEAAv8y6.jpg\n",
      "GK6wjpoXkAABdw8.jpg\n",
      "GK7oVfdXcAA4I28.png\n",
      "GK65IVKa0AAGM5Q.jpg\n",
      "GKpfznhXkAAaZXL.jpg\n",
      "GK72O4NbsAAedNm.jpg\n",
      "GKy2I_1aAAAJcih.jpg\n",
      "GKpt3S1WQAAxubQ.png\n",
      "GK0W7H1XAAA0eTf.png\n",
      "GKrKN7QW0AAqzVv.png\n",
      "GKtVzuwXkAA8jmI.jpg\n",
      "GKjksjWbMAAnAkq.png\n",
      "GK5ILYrbkAAlVR4.png\n",
      "GKomaCXXwAAm4Dm.png\n",
      "GK56QX-bMAEfaTD.jpg\n",
      "GK2TgtWbEAA4Tbr.jpg\n",
      "GK5O2_IXkAAJZVg.jpg\n",
      "GK4f2bRbcAAatgs.jpg\n",
      "GKtTf8pWEAAxZLD.jpg\n",
      "GKjPEXSW0AEjSaN.jpg\n",
      "GK43WvQaIAATNct.jpg\n",
      "GKqWoMDWYAAoJT3.jpg\n",
      "GK7RRPNaAAAAovL.jpg\n",
      "GK1q-zLXgAAr20p.jpg\n",
      "GKmjXvgWMAA58nF.jpg\n",
      "GK65x3EW4AAC3WP.jpg\n",
      "GKplMyyXkAAlg7Q.jpg\n",
      "GKvI9NDXYAQ0Gfo.jpg\n",
      "GK5PQQLXoAAVY78.jpg\n",
      "EPuKDT_VUAAk3D4.jpg\n",
      "GK7hYnrWkAAVAn8.jpg\n",
      "GK3ul60WYAAKIID.jpg\n",
      "GKz5TshbsAA1Na0.png\n",
      "GK4srxyakAABECe.jpg\n",
      "GKv21E0WMAAfxlS.png\n",
      "GKeEJSOXUAEC-Tg.jpg\n",
      "GK5haozbMAEQkFM.png\n",
      "GK0nfb2XMAAzrwg.png\n",
      "GKttoqvXIAAI_4e.png\n",
      "GK5Fg16XUAEsz1-.jpg\n",
      "GKu2O2fWYAArM0O.jpg\n",
      "GK5WLiuWsAEgdUR.jpg\n",
      "GKuJdnraIAE9fM8.jpg\n",
      "GKs7LNZWUAAFmXb.png\n",
      "GK18AWAXgAADZ_2.jpg\n",
      "GKo359MW0AAF4uT.jpg\n",
      "GK6TQ3XboAAkogw.jpg\n",
      "GKzxNsYbUAAelgl.jpg\n",
      "GK610OXWsAEDL4-.jpg\n",
      "GK1BLTsWQAAvk5Y.jpg\n",
      "GKwwRT8WcAAyDku.png\n",
      "GKtqwgLbwAAoxK9.png\n",
      "GKvoCKIWcAAmwbV.jpg\n",
      "GK5f2YaWwAAjLQH.jpg\n",
      "GKyhYu2bUAAmcwP.jpg\n",
      "GK76CCnbAAA4ZxL.jpg\n",
      "GKto-D2WMAANLN0.jpg\n",
      "GKuZGhQawAA0IQM.jpg\n",
      "GKtZM6JaYAAD5aI.jpg\n",
      "GKnWZPvacAAUchL.jpg\n",
      "GKpmg-AWwAAifjX.jpg\n",
      "GK462fXWAAAqkiX.jpg\n",
      "GK8I_dJawAAJQR1.jpg\n",
      "GKydEH_XgAAyTs5.jpg\n",
      "GK8FkolXIAAnlJ7.png\n",
      "GKnuHpYXYAAWVJ8.jpg\n",
      "GK0MAwYXsAEKlbQ.png\n",
      "GKuqV2aWkAAp88w.jpg\n",
      "GKg7x6TWoAAcrWG.jpg\n",
      "GKum5DfXgAAaiwT.jpg\n",
      "GKjNPMBXIAAOH8x.jpg\n",
      "GDl61IAacAAPWgL.jpg\n",
      "GKz1J-CWAAAGy31.jpg\n",
      "GKyq72hWsAAwASI.jpg\n",
      "GKuFDM2XwAAFse8.png\n",
      "GK5narabMAIoDpK.jpg\n",
      "GK7YsiebwAA7hfE.jpg\n",
      "GKpy7daW0AI847h.jpg\n",
      "GK5_QttaQAEf5vU.jpg\n",
      "GKiGAN_XMAAjV8G.jpg\n",
      "GKd3QisXMAAQGFb.jpg\n",
      "GKs4g55XcAAKQKa.jpg\n",
      "GKe9-l7WoAAYyRN.png\n",
      "GK47VSmWgAAdjb7.jpg\n",
      "GKj31suXQAA6job.jpg\n",
      "GK7xj4ebUAADkGk.jpg\n",
      "GK3BZiqW0AA4dky.jpg\n",
      "GKxfVinWAAAfJnZ.jpg\n",
      "GK5ps5LbMAI-iTa.jpg\n",
      "GKk821qW8AAcoIn.png\n",
      "GKyj2wmXsAQ8RCx.jpg\n",
      "GKhF8xbXIAA89xq.jpg\n",
      "GK0qwBsW8AEXz_l.jpg\n",
      "GKmEPcoaYAAFkvE.jpg\n",
      "GK7upn-a0AA58Cx.jpg\n",
      "GKqrLppaoAcS_m_.jpg\n",
      "GKd1ADEXcAAz8ef.jpg\n",
      "GKjrzsSaEAEsTKv.jpg\n",
      "GKzOXnkWUAAtSgA.jpg\n",
      "GK75QS6bkAAsiDP.jpg\n",
      "GKj0ihnXIAAp9Wb.jpg\n",
      "GKrW5KjbsAAIorJ.png\n",
      "GKo7qeQXoAAcBMO.jpg\n",
      "GK3fq7IbMAAYtdI.jpg\n",
      "GKoY01_XEAAu-Q-.jpg\n",
      "GKt5QpkWAAArTuo.jpg\n",
      "GKxdMINWoAAx20n.jpg\n",
      "GKt0hlSb0AAqqFJ.jpg\n",
      "GK5FERFWMAAZs55.png\n",
      "GK3K_MRWgAEdekZ.jpg\n",
      "GKlrH-HXsAAFUM8.png\n",
      "GK4CFvqWEAAvKvy.jpg\n",
      "GK5Nk-jb0AAVZEJ.jpg\n",
      "GK53I34bMAIvZ7A.jpg\n",
      "GKuGqBfXMAAtJiE.jpg\n",
      "GKpdvu8WcAEyPSx.jpg\n",
      "GKp4zZzXsAAqvPP.jpg\n",
      "GK1_Q_tbwAAIZP_.jpg\n",
      "GK7ni-2aIAAohpY.jpg\n",
      "GK5PNmdWQAAG1I6.jpg\n",
      "GK3bo_Aa0AE4PCV.jpg\n",
      "GK5fjSVXEAADz3k.jpg\n",
      "GKjzhoaWAAAGfCg.jpg\n",
      "GKuPcsqbcAAf0sU.jpg\n",
      "GKfEVAHXkAEVxc7.jpg\n",
      "GKkzxfEWoAAwlrs.jpg\n",
      "GKo9D_fWAAAVBn5.jpg\n",
      "GKxONGOW4AAiery.jpg\n",
      "GKoKkRWWkAAbSev.png\n",
      "GK3h8IcbQAAx8il.jpg\n",
      "GKz1IfxXEAAphqv.jpg\n",
      "GKtBVb6WoAAImSA.png\n",
      "GK58lyebMAEBO_e.jpg\n",
      "GK59fb0X0AA5x7V.jpg\n",
      "GKfD80BW4AAGWyc.jpg\n",
      "GKw4pRqbYAA_k7a.jpg\n",
      "GK41u2iasAAbl2J.jpg\n",
      "GK2NSm2asAAXasw.jpg\n",
      "GKqwiwxXEAA5MBM.png\n",
      "GK4oIiyXQAAPUoY.jpg\n",
      "GKjz0IiXkAASxs7.jpg\n",
      "GK6xPi4bgAACahv.jpg\n",
      "GKe-mxOWcAABkXs.jpg\n",
      "GK7Vq2paUAAxAhM.jpg\n",
      "GKxlMyub0AAw3hC.jpg\n",
      "GKhSNPOWUAAQW8g.jpg\n",
      "GKlIW36WMAA0abd.png\n",
      "GK10G8DXAAA36hR.jpg\n",
      "GKiFCLuXIAAMZGr.png\n",
      "GK0MVyvXgAAjIvH.png\n",
      "GK6MFeIacAAECCi.jpg\n",
      "GK0MBwZWEAAzNuB.png\n",
      "GK7_-vTakAAfP5W.jpg\n",
      "GK28ngBaoAA1xYF.jpg\n",
      "GKkWM6qXYAA5rAc.png\n",
      "GKhf7dbaAAALy-2.jpg\n",
      "GK5LQdwXcAA-b08.png\n",
      "GK5ApbHaUAAo1RE.jpg\n",
      "GK6XWejbUAAz1SL.jpg\n",
      "GKlyOO7XUAA27rU.jpg\n",
      "GK31JuBWcAAZpGU.png\n",
      "GKgHOv8bAAAztHG.jpg\n",
      "GKzi5edWUAAuDV1.jpg\n",
      "GKewDJMX0AEuXyG.jpg\n",
      "GKqvvwEWUAAd4kS.jpg\n",
      "GK473inWkAAeyF8.jpg\n",
      "GKz2XTJWEAAhgvD.jpg\n",
      "GK41zRuW4AA4Y40.jpg\n",
      "GKoDN7tWQAAUWzJ.jpg\n",
      "GKlaCgpbkAA2AqQ.jpg\n",
      "GKv4e2kbEAAwFtu.jpg\n",
      "GKn3_qlW0AA0kIU.jpg\n",
      "GK35WYcWsAA_4dE.jpg\n",
      "GKv8fwOakAAsFwz.jpg\n",
      "GK3pttVWQAALElz.png\n"
     ]
    },
    {
     "name": "stdout",
     "output_type": "stream",
     "text": [
      "GKxnT04bYAALX8k.jpg\n",
      "GK5s9OabUAAT8vt.png\n",
      "GK0-uZoX0AAM0ZP.jpg\n",
      "GKd5G71W8AE1iY7.jpg\n",
      "GKvPvL0bYAYRtlI.jpg\n",
      "GKoomnSXwAAPbn2.jpg\n",
      "GKn0ef3WUAAYO3V.jpg\n",
      "GK4b_RiXIAA17mZ.jpg\n",
      "GKtExRRaIAA2o7B.jpg\n",
      "GK3aBmsXoAA2TRT.jpg\n",
      "GK4sACGa8AAnR19.jpg\n",
      "GK3-00abQAAHKof.jpg\n",
      "GK5P_WWbYAEpshP.jpg\n",
      "GKtszlFXwAAuI0L.png\n",
      "GK7CHs0boAAwhjM.jpg\n",
      "GKp57pUXgAEccOn.jpg\n",
      "GK4xLzqbIAAXOvM.jpg\n",
      "GK49iSBa8AAjcRX.jpg\n",
      "GKp8kq2WYAAXSor.jpg\n",
      "GK6mLBMb0AAgS0z.jpg\n",
      "GKv5Vn3XcAAJ4gi.jpg\n",
      "GK31cd_WAAAikEh.png\n",
      "GKfg0yMXcAAPRj_.png\n",
      "GKgIA_kXEAArGiM.jpg\n",
      "GK5TYCMa4AA10Io.jpg\n",
      "GKp3oP_XIAAalt7.jpg\n",
      "GK0JpnqbwAAQMlN.png\n",
      "GKzC_0GbwAAxDDj.jpg\n",
      "GKgBvI4WcAA3gxl.png\n",
      "GKynKRsbcAACre2.jpg\n",
      "GKs_v8jbEAA5RUS.jpg\n",
      "GKl11A7aEAAJ0hz.png\n",
      "GKkTvbEX0AAOB6f.jpg\n",
      "GKkwEZEWsAABkn1.png\n",
      "GKmwR4ZboAAo5wj.png\n",
      "GKeE5zWWsAAnXE4.png\n",
      "GKgKBCKbcAAJRT5.jpg\n",
      "GK5rJQTXEAAaJdK.png\n",
      "GKfaJUCWcAA9bAl.jpg\n",
      "GKuLbShbEAACkcT.jpg\n",
      "GKq0O9VXoAAUKOl.png\n",
      "GKjSQZtbQAAR7k5.png\n",
      "GKzAe9AaMAANRrD.jpg\n",
      "GKtRxXWWgAA2G3M.jpg\n",
      "GK6d-LdaAAAq8xa.jpg\n",
      "EPuKDT_VUAAk3D4.jpg\n",
      "GKe0bYNXgAAVeV0.jpg\n",
      "GKppYEYa4AATqOv.png\n",
      "GKgeM0iXYAAYbJT.jpg\n",
      "GKj6JZ2aMAAeRKV.png\n",
      "GK3zmHSXkAEtOWT.png\n",
      "GKuZGhQawAA0IQM.jpg\n",
      "GK2lhRZXMAAn4A4.jpg\n",
      "GK42PFWXcAAxBCX.jpg\n",
      "GKu2CIKWYAAdiDe.jpg\n",
      "GKmEPcoaYAAFkvE.jpg\n",
      "GKjrzsSaEAEsTKv.jpg\n",
      "GK5FERFWMAAZs55.png\n",
      "GKiIzfrbUAAQebZ.jpg\n",
      "GKuPcsqbcAAf0sU.jpg\n",
      "GKtB6eqboAAF3lv.jpg\n",
      "GKhSNPOWUAAQW8g.jpg\n",
      "GKiFCLuXIAAMZGr.png\n",
      "GKnZeF7WAAECYBY.jpg\n",
      "GK64VL4aEAAeNNt.jpg\n",
      "GK1XzaNWUAA2eM8.jpg\n",
      "GKj6PwKa4AA4C2a.png\n",
      "GK35WYcWsAA_4dE.jpg\n",
      "GKwNuyhbIAAQuTs.jpg\n",
      "GKjR707asAAz9mv.png\n",
      "GK5Gl94W4AEWqs4.jpg\n",
      "GKz9tH1XAAAhgcY.jpg\n",
      "GK4ILTCXMAAIQqN.jpg\n",
      "GKttXSmXMAEtoL_.jpg\n",
      "GKjPQ0DXoAA71uA.jpg\n",
      "GKeI380XsAA2DEa.jpg\n",
      "GK4A0yBXsAAYgzr.jpg\n",
      "GKuVSMmWQAArbtr.jpg\n",
      "GKuueVbXkAAPf-G.jpg\n",
      "GKzz9WIXUAAXTq-.jpg\n",
      "GKtbzHYWYAAxtRk.jpg\n",
      "GK4o_mbXYAEzS8_.jpg\n",
      "GK4IqCwWsAAmHRO.jpg\n",
      "GKjpJr8bEAEGkjV.jpg\n",
      "GK7cDPObYAAV2VO.jpg\n",
      "GK4BkqiW4AAFDAT.jpg\n",
      "GK4OhNRWUAAj-1X.jpg\n",
      "GKy-KEaWsAA4nVz.jpg\n",
      "GKzIkd-XcAALULF.jpg\n",
      "GKzYKijWgAAm0U1.jpg\n",
      "GKn9QgJWIAAwRaX.jpg\n",
      "GKveyGlWkAAEnbP.jpg\n",
      "GK4ISXrWwAEEKeo.jpg\n",
      "GKw9-EYXYAEAxG2.jpg\n",
      "GKuLZ72a4AAzAx5.jpg\n",
      "GKePhikXMAAGgZ9.jpg\n",
      "GKyGiVFasAEi03E.jpg\n",
      "GKkhgJLW8AEwW1c.jpg\n",
      "GKtbCEPXsAAqJSt.jpg\n",
      "GKn9NrqXIAANH4x.jpg\n",
      "GKydEH_XgAAyTs5.jpg\n",
      "GKoheX8X0AIZh4d.jpg\n",
      "GKyemigWEAEMinW.jpg\n",
      "GK3K_MRWgAEdekZ.jpg\n",
      "GK5OldiWIAIl4Y7.jpg\n",
      "GK4pItIX0AECG66.jpg\n",
      "GK6MFeIacAAECCi.jpg\n",
      "GK473inWkAAeyF8.jpg\n",
      "GKutx5qXEAA0mhZ.jpg\n",
      "GKtExRRaIAA2o7B.jpg\n",
      "GKfkfjbbsAAjYNI.png\n",
      "GKy490jakAER_JH.jpg\n",
      "GKhhNGcXYAAeIp9.jpg\n",
      "GKsMTmYWAAAoOqN.jpg\n",
      "GKygprBXsAEn2jL.jpg\n",
      "GKl11A7aEAAJ0hz.png\n",
      "GKkTvbEX0AAOB6f.jpg\n",
      "GKo2sWzXMAA5Zoi.jpg\n",
      "GKn9QgJWIAAwRaX.jpg\n",
      "GKopZfjW0AAB8Li.jpg\n",
      "GKazuY3W4AEQGb9.png\n",
      "GKl2a9aW4AA6oJV.jpg\n",
      "GKw9-EYXYAEAxG2.jpg\n",
      "GKr0ZEbXUAALX-M.jpg\n",
      "GKj5v72WMAAd-oc.jpg\n",
      "GKlr1oiWIAAvNK2.png\n",
      "GKq0O9VXoAAUKOl.png\n",
      "GKjmQFQWUAA1NvW.jpg\n",
      "GK3UKuyWIAAXxG6.jpg\n",
      "GK2TgtWbEAA4Tbr.jpg\n",
      "GKqWoMDWYAAoJT3.jpg\n",
      "GKtbCEPXsAAqJSt.jpg\n",
      "GKn9NrqXIAANH4x.jpg\n",
      "GKrDGWEaoAArINg.jpg\n",
      "GKoc5XbXoAEcrm8.jpg\n",
      "GKo359MW0AAF4uT.jpg\n",
      "GKtqwgLbwAAoxK9.png\n",
      "GK0MAwYXsAEKlbQ.png\n",
      "GKyemigWEAEMinW.jpg\n",
      "GK42PFWXcAAxBCX.jpg\n",
      "GKhiU9qbAAACb1N.jpg\n",
      "CJqNOyIWUAUUe0C.jpg\n",
      "GKjBWEOWQAATymk.jpg\n",
      "GKny59FWoAADcxB.jpg\n",
      "GKlrH-HXsAAFUM8.png\n",
      "GKpdvu8WcAEyPSx.jpg\n",
      "GKiIzfrbUAAQebZ.jpg\n",
      "GKgPmU8XIAA8EFN.jpg\n",
      "GKp4zZzXsAAqvPP.jpg\n",
      "GKo9D_fWAAAVBn5.jpg\n",
      "GKs7ObsbgAAYn4o.png\n",
      "GKoKkRWWkAAbSev.png\n",
      "GKqwiwxXEAA5MBM.png\n",
      "GK4_tvTW0AAVq8v.jpg\n",
      "GK1XzaNWUAA2eM8.jpg\n",
      "GKlSBsvXkAAK_Um.jpg\n",
      "GK5MxUFXsAAC-Jk.jpg\n",
      "GKoomnSXwAAPbn2.jpg\n",
      "GKruhirakAAw5BL.jpg\n",
      "GKp57pUXgAEccOn.jpg\n",
      "GKsUYRqagAAeloM.jpg\n",
      "GKtLfXnXwAAwhHP.jpg\n",
      "GK3laOJbUAAwyq2.jpg\n",
      "GKoEDlEW0AAwRVZ.jpg\n",
      "GKtNql7XcAASKKu.jpg\n",
      "GKtNpbnWwAAKD9u.jpg\n",
      "GK5XAwHaoAAlUYN.jpg\n",
      "GK3wTcuXEAAg5Yg.jpg\n",
      "GK5tLbyXgAAYV6-.jpg\n",
      "GK5ZOahacAAG_b_.jpg\n",
      "GK3ncj3X0AAXdwR.jpg\n",
      "GK4Ko6sacAA8suA.jpg\n",
      "GKhKeo_bcAAlsIZ.jpg\n",
      "GKe4FedawAA4myP.jpg\n",
      "GKfz4BVX0AA0aIW.jpg\n",
      "GK5N77aXMAAb3Ya.jpg\n",
      "GKnxodeWUAEqdBW.jpg\n",
      "GK5VteAXcAEQGCr.png\n",
      "GK2AI3maIAAjEwy.jpg\n",
      "GKXulcJbcAAUfpD.jpg\n",
      "GK42IQHW8AAe10p.jpg\n",
      "GKqPkg3WMAEY4zO.jpg\n",
      "GK4NtkJWsAAY6AB.png\n",
      "GKy_TQzWwAIqX8j.jpg\n",
      "GKjSs2rbEAAyGiN.png\n",
      "GKlr1oiWIAAvNK2.png\n",
      "GKuhLl_bUAIKJlM.jpg\n",
      "GK5Wh2EXoAAtmon.png\n",
      "GK5YGNXXwAMn3Jt.png\n",
      "GK5O2_IXkAAJZVg.jpg\n",
      "GKydEH_XgAAyTs5.jpg\n",
      "GKz1J-CWAAAGy31.jpg\n",
      "GKu2NErWgAEyTed.jpg\n",
      "GKpy7daW0AI847h.jpg\n",
      "GK7upn-a0AA58Cx.jpg\n",
      "GKt5QpkWAAArTuo.jpg\n",
      "GKmxggqbEAAU5Rc.png\n",
      "GK3bo_Aa0AE4PCV.jpg\n",
      "GK5fjSVXEAADz3k.jpg\n",
      "GKw4pRqbYAA_k7a.jpg\n",
      "GKj6AhHasAEDQlR.png\n",
      "GKxlMyub0AAw3hC.jpg\n",
      "GK6MFeIacAAECCi.jpg\n",
      "GK6XWejbUAAz1SL.jpg\n",
      "GKgHOv8bAAAztHG.jpg\n",
      "GKj6PwKa4AA4C2a.png\n",
      "GKn3_qlW0AA0kIU.jpg\n",
      "GKv8fwOakAAsFwz.jpg\n",
      "GKjR707asAAz9mv.png\n",
      "GKxnT04bYAALX8k.jpg\n",
      "GKd5G71W8AE1iY7.jpg\n",
      "GK49iSBa8AAjcRX.jpg\n",
      "GK7YCpSbcAA4Tv9.jpg\n",
      "GK4n0F9XsAAwN1g.png\n",
      "GKolr1YWsAAV_0R.jpg\n",
      "GKuWn1bWQAEtS34.jpg\n",
      "GKtZKnBWoAEqUN7.jpg\n",
      "GK4xgYKbkAAmyeG.jpg\n",
      "GKt6e6nXUAEvGRC.jpg\n",
      "GKy1vwDXAAAkkkQ.jpg\n",
      "GK4AOSQWoAA7aBd.jpg\n",
      "GKud5nFa8AAnsSq.jpg\n",
      "GK4tmjMXsAE6brR.jpg\n",
      "GK57qs3WYAE3bf1.jpg\n",
      "GKyeHfwXYAA7K6R.jpg\n",
      "GK3_4nbbgAA9W4V.jpg\n",
      "GKkhgJLW8AEwW1c.jpg\n",
      "GKtiQxPWYAEa7Fl.jpg\n",
      "GKtQjbxW4AAawEe.jpg\n",
      "GKu9jznXMAARrKa.jpg\n",
      "GKtVvGfW0AASXKI.jpg\n",
      "GK4AOSQWoAA7aBd.jpg\n",
      "GK0Q1lPWkAADKpB.jpg\n",
      "GKyVqDJX0AA75KX.jpg\n",
      "GKtSAKlWoAEDp9h.jpg\n",
      "GKzm7qmXwAMJOuN.jpg\n",
      "GK1X8J6WIAAYOcN.jpg\n",
      "GKttsRcWwAE7xMd.jpg\n",
      "GKkhgJLW8AEwW1c.jpg\n",
      "GKtngsrWAAALyC-.jpg\n",
      "GKyeIXpXAAEAbT0.jpg\n",
      "GKtiTWoWcAAfJ2t.jpg\n",
      "GKjjqtmWwAAua5S.jpg\n",
      "GK4ISXrWwAEEKeo.jpg\n",
      "GK41v56aoAAU2Rt.jpg\n",
      "GK4tC_6W4AAKjo_.jpg\n",
      "GK18AWAXgAADZ_2.jpg\n",
      "GKjq3kJWwAAXLSm.jpg\n",
      "GK473inWkAAeyF8.jpg\n",
      "GKzpoyAX0AE96S4.jpg\n",
      "GKvfZIuWAAAKvcu.jpg\n",
      "GK3laOJbUAAwyq2.jpg\n",
      "GKo32XnXcAEKhjR.png\n",
      "F-40-MdaQAARnSs.png\n",
      "GKtd-XIXwAAq94L.jpg\n",
      "GKtgKIFWAAA909t.jpg\n",
      "GKsT5twXgAA2CM-.png\n",
      "GK2sO8ra0AEUv3p.jpg\n",
      "GK0t0NKaIAEgrfT.png\n",
      "GKppx0gXoAA2kuA.jpg\n",
      "GKjPQ0DXoAA71uA.jpg\n",
      "GKpQMlIW8AAeibu.jpg\n",
      "GKpVe1XX0AA1Iwq.jpg\n",
      "GKzzXxFWoAAabTP.jpg\n",
      "GKzCHATWQAAWeio.jpg\n",
      "GKtengeXAAAeA1J.jpg\n",
      "GK165KyaIAE48BP.jpg\n",
      "GKtcy7jWgAAvkG7.jpg\n",
      "GKzDIWRWQAAnHhc.jpg\n",
      "GKzIkd-XcAALULF.jpg\n",
      "GKyVqDJX0AA75KX.jpg\n",
      "GKpQUiWXkAAfbnJ.jpg\n",
      "GK3_4nbbgAA9W4V.jpg\n",
      "GKofG8dXEAAwWiD.png\n",
      "GK59fb0X0AA5x7V.jpg\n",
      "GKpTPdzXkAAYVQa.png\n",
      "GKpaQDPXYAABJQX.jpg\n",
      "GKjPQ0DXoAA71uA.jpg\n",
      "GK5x6G3X0AAtQk4.jpg\n",
      "GKzqLH0WAAADUp_.jpg\n",
      "GKpQMlIW8AAeibu.jpg\n",
      "GKpVe1XX0AA1Iwq.jpg\n",
      "GKfN5L_XUAAuJQS.jpg\n",
      "GKuwU4dWkAEZd2h.jpg\n",
      "GKtbhYlXoAA78MG.jpg\n",
      "GKfOMJLWsAA0Yfh.jpg\n",
      "GK5znYWXkAAV6Ad.jpg\n",
      "GKzqLH0WAAADUp_.jpg\n",
      "GKuueVbXkAAPf-G.jpg\n",
      "GKyLJkiWAAE1SPE.jpg\n",
      "GK5W37nbMAAAiXc.jpg\n",
      "GKnK1enXEAAuY1R.jpg\n"
     ]
    },
    {
     "name": "stdout",
     "output_type": "stream",
     "text": [
      "GKnLE8BWIAAw9RO.jpg\n",
      "GKz3KadWwAAsUL9.jpg\n",
      "GK31WgVWwAAdiFe.jpg\n",
      "GKxhiO5bIAAKAAE.jpg\n",
      "GKtdNI3XcAA-exn.jpg\n",
      "GKzQammaIAA_J09.jpg\n",
      "GK78MffbgAAZq_5.jpg\n",
      "GK8DOqFaMAAqf-l.jpg\n",
      "GKut1NsXwAApWPd.jpg\n",
      "GKnHqeHXwAA77G5.jpg\n",
      "GKhF8xbXIAA89xq.jpg\n",
      "GKzGiKQWkAAmb_c.jpg\n",
      "GKtgQMbXwAAH-yy.png\n",
      "GKoheX8X0AIZh4d.jpg\n",
      "GK332YdbgAAQOP6.jpg\n",
      "GKz-3PMasAAQtdP.jpg\n",
      "GKw-Lr2WkAADTne.jpg\n",
      "GK0hxeHXsAMdeY4.jpg\n",
      "GKt5MRub0AAqYb2.jpg\n",
      "GKuZfKnbYAAa8Ku.jpg\n",
      "GKp2qHuW8AA2H0w.jpg\n",
      "GKsS9g1XkAAxuab.jpg\n",
      "GKm7Kw8WAAEpUrH.jpg\n",
      "GKuLcoWXoAA3hJQ.jpg\n",
      "GKnR8tobAAAm2S1.jpg\n",
      "GKzs8lDXEAAv8y6.jpg\n",
      "GK6eZVfaMAArIwg.jpg\n",
      "GK4tYN1X0AAZaJD.jpg\n",
      "GK4_Bd6XAAAdOfE.png\n",
      "GKpmKRoXcAA3npS.jpg\n",
      "GKeJnOCWsAESLev.jpg\n",
      "GKcPlYFa4AA8YYh.jpg\n",
      "GKp2KOGXYAAvsgI.jpg\n",
      "GKjOlZQbMAAMg8P.jpg\n",
      "GKrJU2dXcAAAhU-.jpg\n",
      "GKutx5qXEAA0mhZ.jpg\n",
      "GKtSYJWXgAAUKJA.jpg\n",
      "GKtZoTwXUAAOUzx.png\n",
      "GKtgOdnXgAAbnjJ.jpg\n",
      "GK5A1n8aMAAFr4L.jpg\n",
      "GK3laOJbUAAwyq2.jpg\n",
      "GK58MhjWoAA6bPr.png\n",
      "GK3ul60WYAAKIID.jpg\n",
      "GKur153WsAAJj5S.jpg\n",
      "GKtZM6JaYAAD5aI.jpg\n",
      "GKkzxfEWoAAwlrs.jpg\n",
      "GK6XWejbUAAz1SL.jpg\n",
      "GKPpuypXsAAjKmv.jpg\n",
      "GKPpqpUXsAAfsL-.jpg\n",
      "GK3u9knWoAEDYMP.jpg\n",
      "GK3F7ZgXMAAmVQq.jpg\n",
      "GK2xlOzX0AA3QUZ.jpg\n",
      "GK3uV-5WsAEWMH-.jpg\n",
      "GKsSlLRaAAAK7KL.jpg\n",
      "GK4nHiBacAAUnH7.jpg\n",
      "GK4BTC1b0AAtilW.jpg\n",
      "GKy8APlakAApPr8.jpg\n",
      "GKypP08X0AAfDEv.jpg\n",
      "GK5A_1vWYAApEZc.jpg\n",
      "GKpmcPpXMAAAy08.jpg\n",
      "GK5KmYFaoAA3mlj.jpg\n",
      "GKsEDkdXUAEaAgr.jpg\n",
      "GKyoKQRbwAAfoJo.jpg\n",
      "GK5OldiWIAIl4Y7.jpg\n",
      "GKsDR6TWAAAcJhX.jpg\n",
      "GK5yNK_WgAE6Ij_.jpg\n",
      "GKy6vlaXwAAgO44.jpg\n",
      "GK4sTyyXYAEC6qw.jpg\n",
      "GK4srh9X0AE4Z7D.jpg\n",
      "GKZY_PHWYAARP_8.jpg\n",
      "GK5ps5LbMAI-iTa.jpg\n",
      "GKoY01_XEAAu-Q-.jpg\n",
      "GKy691UWcAAjZ_d.jpg\n",
      "GK5PNmdWQAAG1I6.jpg\n",
      "GKtjbF3XgAAA_gH.jpg\n",
      "GKz8ZlgXcAAZa-Z.png\n",
      "GKuFdLeWQAATds0.jpg\n",
      "GK4--mMW4AAPqcI.jpg\n",
      "GKvfJ14XEAAOfxW.jpg\n",
      "GKrWWO-XkAAlzP4.jpg\n",
      "GKfgW30WAAAY_ac.jpg\n",
      "GKw9-EYXYAEAxG2.jpg\n",
      "GKL-xfIaYAAcM1o.png\n",
      "GK6AV2IaQAEk5Cc.png\n",
      "GKtbCEPXsAAqJSt.jpg\n",
      "GKyemigWEAEMinW.jpg\n",
      "GKkfDMOW8AAv1nK.jpg\n",
      "GKny59FWoAADcxB.jpg\n",
      "GKgPPR1WcAAYuyq.png\n",
      "GKy7eQUXkAAyl24.jpg\n",
      "GKphewiW0AAUGQz.jpg\n",
      "GKuegx6XwAA_yao.jpg\n",
      "GKywA5iWYAAyRjT.jpg\n",
      "GKmwO1QbYAAwEPt.jpg\n",
      "GK0hxeHXsAMdeY4.jpg\n",
      "GKh8HNdacAAgkXU.jpg\n",
      "GKfN5L_XUAAuJQS.jpg\n",
      "GKpmcPpXMAAAy08.jpg\n",
      "GKuegx6XwAA_yao.jpg\n",
      "GKywA5iWYAAyRjT.jpg\n",
      "GKmwO1QbYAAwEPt.jpg\n",
      "GKuwU4dWkAEZd2h.jpg\n",
      "GKtbhYlXoAA78MG.jpg\n",
      "GKfOMJLWsAA0Yfh.jpg\n",
      "GKtcLZwWIAAhQb4.jpg\n",
      "GKf9KK2WAAA98mN.jpg\n",
      "GK3efXPXAAAqRDd.jpg\n",
      "GKzqRxHWsAA-esk.png\n"
     ]
    }
   ],
   "source": [
    "for item in clus_new:\n",
    "    # print(clus_new[item])\n",
    "    # print(len(clus_new[item]))\n",
    "    for file in clus_new[item]:\n",
    "        # print(item)\n",
    "        print(file)\n",
    "        filter_condition = save_df['filename'] == file\n",
    "        save_df.loc[filter_condition,'cluster_number'] = item\n",
    "        result = save_df[filter_condition]\n",
    "        # result['cluster_number'] = item\n",
    "        # print(save_df.loc[filter_condition,'cluster_number'])"
   ]
  },
  {
   "cell_type": "code",
   "execution_count": 10,
   "id": "75d585c9-ce51-461d-86c7-c9bc2c45fb79",
   "metadata": {
    "collapsed": true,
    "execution": {
     "iopub.execute_input": "2024-04-13T17:48:31.516832Z",
     "iopub.status.busy": "2024-04-13T17:48:31.516110Z",
     "iopub.status.idle": "2024-04-13T17:48:46.080582Z",
     "shell.execute_reply": "2024-04-13T17:48:46.079642Z"
    },
    "jupyter": {
     "outputs_hidden": true
    }
   },
   "outputs": [
    {
     "name": "stdout",
     "output_type": "stream",
     "text": [
      "INSERT into ret_cluster_result (job_id, tweet_id, cluster_no) values (3855, 1778403035422634226, 4)\n",
      "Query executed successfully. 1 rows affected.\n",
      "INSERT into ret_cluster_result (job_id, tweet_id, cluster_no) values (3855, 1778402699421134883, 16)\n",
      "Query executed successfully. 1 rows affected.\n",
      "INSERT into ret_cluster_result (job_id, tweet_id, cluster_no) values (3855, 1778402127490187371, 0)\n",
      "Query executed successfully. 1 rows affected.\n",
      "INSERT into ret_cluster_result (job_id, tweet_id, cluster_no) values (3855, 1778401928688685522, 47)\n",
      "Query executed successfully. 1 rows affected.\n",
      "INSERT into ret_cluster_result (job_id, tweet_id, cluster_no) values (3855, 1778399355701022855, 1)\n"
     ]
    },
    {
     "name": "stdout",
     "output_type": "stream",
     "text": [
      "Query executed successfully. 1 rows affected.\n",
      "INSERT into ret_cluster_result (job_id, tweet_id, cluster_no) values (3855, 1778396903362662407, 0)\n",
      "Query executed successfully. 1 rows affected.\n",
      "INSERT into ret_cluster_result (job_id, tweet_id, cluster_no) values (3855, 1778396109657780322, 0)\n",
      "Query executed successfully. 1 rows affected.\n",
      "INSERT into ret_cluster_result (job_id, tweet_id, cluster_no) values (3855, 1778393925641970094, 4)\n",
      "Query executed successfully. 1 rows affected.\n",
      "INSERT into ret_cluster_result (job_id, tweet_id, cluster_no) values (3855, 1778006296673099993, 4)\n",
      "Query executed successfully. 1 rows affected.\n",
      "INSERT into ret_cluster_result (job_id, tweet_id, cluster_no) values (3855, 1778389703185649817, 4)\n"
     ]
    },
    {
     "name": "stdout",
     "output_type": "stream",
     "text": [
      "Query executed successfully. 1 rows affected.\n",
      "INSERT into ret_cluster_result (job_id, tweet_id, cluster_no) values (3855, 1778387381885841657, 0)\n",
      "Query executed successfully. 1 rows affected.\n",
      "INSERT into ret_cluster_result (job_id, tweet_id, cluster_no) values (3855, 1778386304956293191, 0)\n",
      "Query executed successfully. 1 rows affected.\n",
      "INSERT into ret_cluster_result (job_id, tweet_id, cluster_no) values (3855, 1778384665406996632, 4)\n",
      "Query executed successfully. 1 rows affected.\n",
      "INSERT into ret_cluster_result (job_id, tweet_id, cluster_no) values (3855, 1778383785874354515, 4)\n",
      "Query executed successfully. 1 rows affected.\n",
      "INSERT into ret_cluster_result (job_id, tweet_id, cluster_no) values (3855, 1778382302571053504, 0)\n",
      "Query executed successfully. 1 rows affected.\n",
      "INSERT into ret_cluster_result (job_id, tweet_id, cluster_no) values (3855, 1778378190731218950, 0)\n",
      "Query executed successfully. 1 rows affected.\n",
      "INSERT into ret_cluster_result (job_id, tweet_id, cluster_no) values (3855, 1778376910805880856, 0)\n",
      "Query executed successfully. 1 rows affected.\n",
      "INSERT into ret_cluster_result (job_id, tweet_id, cluster_no) values (3855, 1778375992035131767, 0)\n"
     ]
    },
    {
     "name": "stdout",
     "output_type": "stream",
     "text": [
      "Query executed successfully. 1 rows affected.\n",
      "INSERT into ret_cluster_result (job_id, tweet_id, cluster_no) values (3855, 1778375878923198930, 9)\n",
      "Query executed successfully. 1 rows affected.\n",
      "INSERT into ret_cluster_result (job_id, tweet_id, cluster_no) values (3855, 1778374214287761756, 15)\n",
      "Query executed successfully. 1 rows affected.\n",
      "INSERT into ret_cluster_result (job_id, tweet_id, cluster_no) values (3855, 1778373433102893189, 0)\n"
     ]
    },
    {
     "name": "stdout",
     "output_type": "stream",
     "text": [
      "Query executed successfully. 1 rows affected.\n",
      "INSERT into ret_cluster_result (job_id, tweet_id, cluster_no) values (3855, 1778370603273322834, 15)\n",
      "Query executed successfully. 1 rows affected.\n",
      "INSERT into ret_cluster_result (job_id, tweet_id, cluster_no) values (3855, 1778368424923574371, 8)\n",
      "Query executed successfully. 1 rows affected.\n",
      "INSERT into ret_cluster_result (job_id, tweet_id, cluster_no) values (3855, 1778368160661381382, 24)\n",
      "Query executed successfully. 1 rows affected.\n",
      "INSERT into ret_cluster_result (job_id, tweet_id, cluster_no) values (3855, 1778367945250374052, 7)\n",
      "Query executed successfully. 1 rows affected.\n",
      "INSERT into ret_cluster_result (job_id, tweet_id, cluster_no) values (3855, 1778366675827728811, 4)\n",
      "Query executed successfully. 1 rows affected.\n",
      "INSERT into ret_cluster_result (job_id, tweet_id, cluster_no) values (3855, 1778366229037646221, 0)\n",
      "Query executed successfully. 1 rows affected.\n",
      "INSERT into ret_cluster_result (job_id, tweet_id, cluster_no) values (3855, 1778366156337742301, 0)\n",
      "Query executed successfully. 1 rows affected.\n",
      "INSERT into ret_cluster_result (job_id, tweet_id, cluster_no) values (3855, 1778365973718073850, 0)\n"
     ]
    },
    {
     "name": "stdout",
     "output_type": "stream",
     "text": [
      "Query executed successfully. 1 rows affected.\n",
      "INSERT into ret_cluster_result (job_id, tweet_id, cluster_no) values (3855, 1778364570278793333, 0)\n",
      "Query executed successfully. 1 rows affected.\n",
      "INSERT into ret_cluster_result (job_id, tweet_id, cluster_no) values (3855, 1748810314320109834, 4)\n",
      "Query executed successfully. 1 rows affected.\n",
      "INSERT into ret_cluster_result (job_id, tweet_id, cluster_no) values (3855, 1748810314320109834, 4)\n",
      "Query executed successfully. 1 rows affected.\n",
      "INSERT into ret_cluster_result (job_id, tweet_id, cluster_no) values (3855, 1778065148864803114, 4)\n"
     ]
    },
    {
     "name": "stdout",
     "output_type": "stream",
     "text": [
      "Query executed successfully. 1 rows affected.\n",
      "INSERT into ret_cluster_result (job_id, tweet_id, cluster_no) values (3855, 1778065148864803114, 4)\n",
      "Query executed successfully. 1 rows affected.\n",
      "INSERT into ret_cluster_result (job_id, tweet_id, cluster_no) values (3855, 1778360637724242412, 8)\n",
      "Query executed successfully. 1 rows affected.\n",
      "INSERT into ret_cluster_result (job_id, tweet_id, cluster_no) values (3855, 1778360332131705200, 48)\n",
      "Query executed successfully. 1 rows affected.\n",
      "INSERT into ret_cluster_result (job_id, tweet_id, cluster_no) values (3855, 1778359904828285238, 7)\n",
      "Query executed successfully. 1 rows affected.\n",
      "INSERT into ret_cluster_result (job_id, tweet_id, cluster_no) values (3855, 1778359609222111450, 21)\n",
      "Query executed successfully. 1 rows affected.\n",
      "INSERT into ret_cluster_result (job_id, tweet_id, cluster_no) values (3855, 1777888317264298304, 31)\n",
      "Query executed successfully. 1 rows affected.\n",
      "INSERT into ret_cluster_result (job_id, tweet_id, cluster_no) values (3855, 1778357623324377573, 4)\n",
      "Query executed successfully. 1 rows affected.\n",
      "INSERT into ret_cluster_result (job_id, tweet_id, cluster_no) values (3855, 1778354512413233200, 0)\n"
     ]
    },
    {
     "name": "stdout",
     "output_type": "stream",
     "text": [
      "Query executed successfully. 1 rows affected.\n",
      "INSERT into ret_cluster_result (job_id, tweet_id, cluster_no) values (3855, 1778354156794994783, 40)\n",
      "Query executed successfully. 1 rows affected.\n",
      "INSERT into ret_cluster_result (job_id, tweet_id, cluster_no) values (3855, 1778354144333742249, 40)\n",
      "Query executed successfully. 1 rows affected.\n",
      "INSERT into ret_cluster_result (job_id, tweet_id, cluster_no) values (3855, 1778353781773860953, 0)\n",
      "Query executed successfully. 1 rows affected.\n",
      "INSERT into ret_cluster_result (job_id, tweet_id, cluster_no) values (3855, 1778353525711671799, 0)\n"
     ]
    },
    {
     "name": "stdout",
     "output_type": "stream",
     "text": [
      "Query executed successfully. 1 rows affected.\n",
      "INSERT into ret_cluster_result (job_id, tweet_id, cluster_no) values (3855, 1778353080599482460, 0)\n",
      "Query executed successfully. 1 rows affected.\n",
      "INSERT into ret_cluster_result (job_id, tweet_id, cluster_no) values (3855, 1778352699097891114, 0)\n",
      "Query executed successfully. 1 rows affected.\n",
      "INSERT into ret_cluster_result (job_id, tweet_id, cluster_no) values (3855, 1778352353785073926, 0)\n",
      "Query executed successfully. 1 rows affected.\n",
      "INSERT into ret_cluster_result (job_id, tweet_id, cluster_no) values (3855, 1778352132355449107, 4)\n",
      "Query executed successfully. 1 rows affected.\n",
      "INSERT into ret_cluster_result (job_id, tweet_id, cluster_no) values (3855, 1778351612622156065, 6)\n",
      "Query executed successfully. 1 rows affected.\n",
      "INSERT into ret_cluster_result (job_id, tweet_id, cluster_no) values (3855, 1778351218282070339, 35)\n",
      "Query executed successfully. 1 rows affected.\n",
      "INSERT into ret_cluster_result (job_id, tweet_id, cluster_no) values (3855, 1778350206511128837, 0)\n",
      "Query executed successfully. 1 rows affected.\n",
      "INSERT into ret_cluster_result (job_id, tweet_id, cluster_no) values (3855, 1778347299929813397, 4)\n"
     ]
    },
    {
     "name": "stdout",
     "output_type": "stream",
     "text": [
      "Query executed successfully. 1 rows affected.\n",
      "INSERT into ret_cluster_result (job_id, tweet_id, cluster_no) values (3855, 1778347172678738161, 6)\n",
      "Query executed successfully. 1 rows affected.\n",
      "INSERT into ret_cluster_result (job_id, tweet_id, cluster_no) values (3855, 1778303630136787303, 4)\n",
      "Query executed successfully. 1 rows affected.\n",
      "INSERT into ret_cluster_result (job_id, tweet_id, cluster_no) values (3855, 1778346345109066090, 0)\n",
      "Query executed successfully. 1 rows affected.\n",
      "INSERT into ret_cluster_result (job_id, tweet_id, cluster_no) values (3855, 1778346191799165027, 4)\n"
     ]
    },
    {
     "name": "stdout",
     "output_type": "stream",
     "text": [
      "Query executed successfully. 1 rows affected.\n",
      "INSERT into ret_cluster_result (job_id, tweet_id, cluster_no) values (3855, 1778341648059027778, 14)\n",
      "Query executed successfully. 1 rows affected.\n",
      "INSERT into ret_cluster_result (job_id, tweet_id, cluster_no) values (3855, 1778340174071529514, 46)\n",
      "Query executed successfully. 1 rows affected.\n",
      "INSERT into ret_cluster_result (job_id, tweet_id, cluster_no) values (3855, 1778339764569051299, 45)\n",
      "Query executed successfully. 1 rows affected.\n",
      "INSERT into ret_cluster_result (job_id, tweet_id, cluster_no) values (3855, 1778339495106040253, 46)\n",
      "Query executed successfully. 1 rows affected.\n",
      "INSERT into ret_cluster_result (job_id, tweet_id, cluster_no) values (3855, 1778338659701518587, 4)\n",
      "Query executed successfully. 1 rows affected.\n",
      "INSERT into ret_cluster_result (job_id, tweet_id, cluster_no) values (3855, 1778338156426957103, 0)\n",
      "Query executed successfully. 1 rows affected.\n",
      "INSERT into ret_cluster_result (job_id, tweet_id, cluster_no) values (3855, 1778337188377432310, 0)\n",
      "Query executed successfully. 1 rows affected.\n",
      "INSERT into ret_cluster_result (job_id, tweet_id, cluster_no) values (3855, 1778249446809358456, 0)\n"
     ]
    },
    {
     "name": "stdout",
     "output_type": "stream",
     "text": [
      "Query executed successfully. 1 rows affected.\n",
      "INSERT into ret_cluster_result (job_id, tweet_id, cluster_no) values (3855, 1778335323186995681, 0)\n",
      "Query executed successfully. 1 rows affected.\n",
      "INSERT into ret_cluster_result (job_id, tweet_id, cluster_no) values (3855, 1778334648008863994, 4)\n",
      "Query executed successfully. 1 rows affected.\n",
      "INSERT into ret_cluster_result (job_id, tweet_id, cluster_no) values (3855, 1778331912718688577, 14)\n",
      "Query executed successfully. 1 rows affected.\n",
      "INSERT into ret_cluster_result (job_id, tweet_id, cluster_no) values (3855, 1778331174328549420, 0)\n",
      "Query executed successfully. 1 rows affected.\n",
      "INSERT into ret_cluster_result (job_id, tweet_id, cluster_no) values (3855, 1778329668464320933, 45)\n"
     ]
    },
    {
     "name": "stdout",
     "output_type": "stream",
     "text": [
      "Query executed successfully. 1 rows affected.\n",
      "INSERT into ret_cluster_result (job_id, tweet_id, cluster_no) values (3855, 1778329076412842384, 0)\n",
      "Query executed successfully. 1 rows affected.\n",
      "INSERT into ret_cluster_result (job_id, tweet_id, cluster_no) values (3855, 1778325860225073326, 4)\n",
      "Query executed successfully. 1 rows affected.\n",
      "INSERT into ret_cluster_result (job_id, tweet_id, cluster_no) values (3855, 1778325485598261694, 0)\n",
      "Query executed successfully. 1 rows affected.\n",
      "INSERT into ret_cluster_result (job_id, tweet_id, cluster_no) values (3855, 1778324809392300415, 61)\n",
      "Query executed successfully. 1 rows affected.\n",
      "INSERT into ret_cluster_result (job_id, tweet_id, cluster_no) values (3855, 1778323366681927776, 4)\n",
      "Query executed successfully. 1 rows affected.\n",
      "INSERT into ret_cluster_result (job_id, tweet_id, cluster_no) values (3855, 1778321316816506945, 15)\n",
      "Query executed successfully. 1 rows affected.\n",
      "INSERT into ret_cluster_result (job_id, tweet_id, cluster_no) values (3855, 1778320396556574726, 0)\n",
      "Query executed successfully. 1 rows affected.\n",
      "INSERT into ret_cluster_result (job_id, tweet_id, cluster_no) values (3855, 1778318314013593605, 61)\n"
     ]
    },
    {
     "name": "stdout",
     "output_type": "stream",
     "text": [
      "Query executed successfully. 1 rows affected.\n",
      "INSERT into ret_cluster_result (job_id, tweet_id, cluster_no) values (3855, 1778317156381565035, 4)\n",
      "Query executed successfully. 1 rows affected.\n",
      "INSERT into ret_cluster_result (job_id, tweet_id, cluster_no) values (3855, 1778311482045812753, 0)\n",
      "Query executed successfully. 1 rows affected.\n",
      "INSERT into ret_cluster_result (job_id, tweet_id, cluster_no) values (3855, 1778300445863076216, 12)\n",
      "Query executed successfully. 1 rows affected.\n",
      "INSERT into ret_cluster_result (job_id, tweet_id, cluster_no) values (3855, 1778158211499020489, 0)\n",
      "Query executed successfully. 1 rows affected.\n",
      "INSERT into ret_cluster_result (job_id, tweet_id, cluster_no) values (3855, 1778304636207657328, 4)\n"
     ]
    },
    {
     "name": "stdout",
     "output_type": "stream",
     "text": [
      "Query executed successfully. 1 rows affected.\n",
      "INSERT into ret_cluster_result (job_id, tweet_id, cluster_no) values (3855, 1778303588709916894, 4)\n",
      "Query executed successfully. 1 rows affected.\n",
      "INSERT into ret_cluster_result (job_id, tweet_id, cluster_no) values (3855, 1778303387370684790, 0)\n",
      "Query executed successfully. 1 rows affected.\n",
      "INSERT into ret_cluster_result (job_id, tweet_id, cluster_no) values (3855, 1778301958409039985, 46)\n",
      "Query executed successfully. 1 rows affected.\n",
      "INSERT into ret_cluster_result (job_id, tweet_id, cluster_no) values (3855, 1778301607320432664, 1)\n",
      "Query executed successfully. 1 rows affected.\n",
      "INSERT into ret_cluster_result (job_id, tweet_id, cluster_no) values (3855, 1778300622120296508, 10)\n",
      "Query executed successfully. 1 rows affected.\n",
      "INSERT into ret_cluster_result (job_id, tweet_id, cluster_no) values (3855, 1778278069972722003, 4)\n",
      "Query executed successfully. 1 rows affected.\n",
      "INSERT into ret_cluster_result (job_id, tweet_id, cluster_no) values (3855, 1778286875217690732, 0)\n",
      "Query executed successfully. 1 rows affected.\n",
      "INSERT into ret_cluster_result (job_id, tweet_id, cluster_no) values (3855, 1778272685971165367, 46)\n"
     ]
    },
    {
     "name": "stdout",
     "output_type": "stream",
     "text": [
      "Query executed successfully. 1 rows affected.\n",
      "INSERT into ret_cluster_result (job_id, tweet_id, cluster_no) values (3855, 1778271055867502809, 0)\n",
      "Query executed successfully. 1 rows affected.\n",
      "INSERT into ret_cluster_result (job_id, tweet_id, cluster_no) values (3855, 1778266807574696006, 28)\n",
      "Query executed successfully. 1 rows affected.\n",
      "INSERT into ret_cluster_result (job_id, tweet_id, cluster_no) values (3855, 1777884545326473220, 6)\n",
      "Query executed successfully. 1 rows affected.\n",
      "INSERT into ret_cluster_result (job_id, tweet_id, cluster_no) values (3855, 1778253818603704677, 0)\n",
      "Query executed successfully. 1 rows affected.\n",
      "INSERT into ret_cluster_result (job_id, tweet_id, cluster_no) values (3855, 1778241069530173849, 0)\n"
     ]
    },
    {
     "name": "stdout",
     "output_type": "stream",
     "text": [
      "Query executed successfully. 1 rows affected.\n",
      "INSERT into ret_cluster_result (job_id, tweet_id, cluster_no) values (3855, 1778239684357083158, 12)\n",
      "Query executed successfully. 1 rows affected.\n",
      "INSERT into ret_cluster_result (job_id, tweet_id, cluster_no) values (3855, 1778239067769242111, 0)\n",
      "Query executed successfully. 1 rows affected.\n",
      "INSERT into ret_cluster_result (job_id, tweet_id, cluster_no) values (3855, 1766724641228538188, 4)\n",
      "Query executed successfully. 1 rows affected.\n",
      "INSERT into ret_cluster_result (job_id, tweet_id, cluster_no) values (3855, 1778223646642958794, 0)\n",
      "Query executed successfully. 1 rows affected.\n",
      "INSERT into ret_cluster_result (job_id, tweet_id, cluster_no) values (3855, 1778218718390341635, 15)\n",
      "Query executed successfully. 1 rows affected.\n",
      "INSERT into ret_cluster_result (job_id, tweet_id, cluster_no) values (3855, 1777900491948888255, 4)\n",
      "Query executed successfully. 1 rows affected.\n",
      "INSERT into ret_cluster_result (job_id, tweet_id, cluster_no) values (3855, 1778206260049113538, 24)\n",
      "Query executed successfully. 1 rows affected.\n",
      "INSERT into ret_cluster_result (job_id, tweet_id, cluster_no) values (3855, 1778212557771485610, 30)\n"
     ]
    },
    {
     "name": "stdout",
     "output_type": "stream",
     "text": [
      "Query executed successfully. 1 rows affected.\n",
      "INSERT into ret_cluster_result (job_id, tweet_id, cluster_no) values (3855, 1778205092383965339, 4)\n",
      "Query executed successfully. 1 rows affected.\n",
      "INSERT into ret_cluster_result (job_id, tweet_id, cluster_no) values (3855, 1778195087694180580, 4)\n",
      "Query executed successfully. 1 rows affected.\n",
      "INSERT into ret_cluster_result (job_id, tweet_id, cluster_no) values (3855, 1778161856982753688, 0)\n",
      "Query executed successfully. 1 rows affected.\n",
      "INSERT into ret_cluster_result (job_id, tweet_id, cluster_no) values (3855, 1778189570846367945, 0)\n",
      "Query executed successfully. 1 rows affected.\n",
      "INSERT into ret_cluster_result (job_id, tweet_id, cluster_no) values (3855, 1778189209733570739, 0)\n"
     ]
    },
    {
     "name": "stdout",
     "output_type": "stream",
     "text": [
      "Query executed successfully. 1 rows affected.\n",
      "INSERT into ret_cluster_result (job_id, tweet_id, cluster_no) values (3855, 1778118539070648669, 0)\n",
      "Query executed successfully. 1 rows affected.\n",
      "INSERT into ret_cluster_result (job_id, tweet_id, cluster_no) values (3855, 1778180448021303619, 4)\n",
      "Query executed successfully. 1 rows affected.\n",
      "INSERT into ret_cluster_result (job_id, tweet_id, cluster_no) values (3855, 1778174140182155464, 22)\n",
      "Query executed successfully. 1 rows affected.\n",
      "INSERT into ret_cluster_result (job_id, tweet_id, cluster_no) values (3855, 1778174091498807757, 12)\n",
      "Query executed successfully. 1 rows affected.\n",
      "INSERT into ret_cluster_result (job_id, tweet_id, cluster_no) values (3855, 1777971862615576809, 1)\n",
      "Query executed successfully. 1 rows affected.\n",
      "INSERT into ret_cluster_result (job_id, tweet_id, cluster_no) values (3855, 1778657587480985958, 0)\n",
      "Query executed successfully. 1 rows affected.\n",
      "INSERT into ret_cluster_result (job_id, tweet_id, cluster_no) values (3855, 1778633135154147791, 4)\n",
      "Query executed successfully. 1 rows affected.\n",
      "INSERT into ret_cluster_result (job_id, tweet_id, cluster_no) values (3855, 1778280143347499321, 0)\n",
      "Query executed successfully. 1 rows affected.\n",
      "INSERT into ret_cluster_result (job_id, tweet_id, cluster_no) values (3855, 1778646506813239600, 4)\n"
     ]
    },
    {
     "name": "stdout",
     "output_type": "stream",
     "text": [
      "Query executed successfully. 1 rows affected.\n",
      "INSERT into ret_cluster_result (job_id, tweet_id, cluster_no) values (3855, 1778643975072776470, 37)\n",
      "Query executed successfully. 1 rows affected.\n",
      "INSERT into ret_cluster_result (job_id, tweet_id, cluster_no) values (3855, 1778640358605521401, 4)\n",
      "Query executed successfully. 1 rows affected.\n",
      "INSERT into ret_cluster_result (job_id, tweet_id, cluster_no) values (3855, 1778637984302252228, 6)\n",
      "Query executed successfully. 1 rows affected.\n",
      "INSERT into ret_cluster_result (job_id, tweet_id, cluster_no) values (3855, 1778637087685919137, 0)\n",
      "Query executed successfully. 1 rows affected.\n",
      "INSERT into ret_cluster_result (job_id, tweet_id, cluster_no) values (3855, 1778636204533240043, 37)\n"
     ]
    },
    {
     "name": "stdout",
     "output_type": "stream",
     "text": [
      "Query executed successfully. 1 rows affected.\n",
      "INSERT into ret_cluster_result (job_id, tweet_id, cluster_no) values (3855, 1778319413554602471, 4)\n",
      "Query executed successfully. 1 rows affected.\n",
      "INSERT into ret_cluster_result (job_id, tweet_id, cluster_no) values (3855, 1778634939191472300, 15)\n",
      "Query executed successfully. 1 rows affected.\n",
      "INSERT into ret_cluster_result (job_id, tweet_id, cluster_no) values (3855, 1778634088565366852, 0)\n",
      "Query executed successfully. 1 rows affected.\n",
      "INSERT into ret_cluster_result (job_id, tweet_id, cluster_no) values (3855, 1778633135154147791, 0)\n",
      "Query executed successfully. 1 rows affected.\n",
      "INSERT into ret_cluster_result (job_id, tweet_id, cluster_no) values (3855, 1778633826283196440, 4)\n",
      "Query executed successfully. 1 rows affected.\n",
      "INSERT into ret_cluster_result (job_id, tweet_id, cluster_no) values (3855, 1778633135154147791, 4)\n",
      "Query executed successfully. 1 rows affected.\n",
      "INSERT into ret_cluster_result (job_id, tweet_id, cluster_no) values (3855, 1778629643354173695, 4)\n",
      "Query executed successfully. 1 rows affected.\n",
      "INSERT into ret_cluster_result (job_id, tweet_id, cluster_no) values (3855, 1778626927307481439, 0)\n"
     ]
    },
    {
     "name": "stdout",
     "output_type": "stream",
     "text": [
      "Query executed successfully. 1 rows affected.\n",
      "INSERT into ret_cluster_result (job_id, tweet_id, cluster_no) values (3855, 1778624498503397697, 4)\n",
      "Query executed successfully. 1 rows affected.\n",
      "INSERT into ret_cluster_result (job_id, tweet_id, cluster_no) values (3855, 1778619151978049623, 0)\n",
      "Query executed successfully. 1 rows affected.\n",
      "INSERT into ret_cluster_result (job_id, tweet_id, cluster_no) values (3855, 1778614454013640761, 0)\n"
     ]
    },
    {
     "name": "stdout",
     "output_type": "stream",
     "text": [
      "Query executed successfully. 1 rows affected.\n",
      "INSERT into ret_cluster_result (job_id, tweet_id, cluster_no) values (3855, 1778614361491116092, 4)\n",
      "Query executed successfully. 1 rows affected.\n",
      "INSERT into ret_cluster_result (job_id, tweet_id, cluster_no) values (3855, 1778451767446946103, 4)\n",
      "Query executed successfully. 1 rows affected.\n",
      "INSERT into ret_cluster_result (job_id, tweet_id, cluster_no) values (3855, 1778606736829550885, 4)\n",
      "Query executed successfully. 1 rows affected.\n",
      "INSERT into ret_cluster_result (job_id, tweet_id, cluster_no) values (3855, 1778603951061139504, 4)\n",
      "Query executed successfully. 1 rows affected.\n",
      "INSERT into ret_cluster_result (job_id, tweet_id, cluster_no) values (3855, 1778600856830750994, 8)\n",
      "Query executed successfully. 1 rows affected.\n",
      "INSERT into ret_cluster_result (job_id, tweet_id, cluster_no) values (3855, 1778154932886982702, 4)\n",
      "Query executed successfully. 1 rows affected.\n",
      "INSERT into ret_cluster_result (job_id, tweet_id, cluster_no) values (3855, 1778597011203228097, 16)\n",
      "Query executed successfully. 1 rows affected.\n",
      "INSERT into ret_cluster_result (job_id, tweet_id, cluster_no) values (3855, 1778593837071630586, 4)\n",
      "Query executed successfully. 1 rows affected.\n",
      "INSERT into ret_cluster_result (job_id, tweet_id, cluster_no) values (3855, 1778510055215657227, 0)\n",
      "Query executed successfully. 1 rows affected.\n",
      "INSERT into ret_cluster_result (job_id, tweet_id, cluster_no) values (3855, 1778589121629532266, 4)\n"
     ]
    },
    {
     "name": "stdout",
     "output_type": "stream",
     "text": [
      "Query executed successfully. 1 rows affected.\n",
      "INSERT into ret_cluster_result (job_id, tweet_id, cluster_no) values (3855, 1778588898324877646, 0)\n",
      "Query executed successfully. 1 rows affected.\n",
      "INSERT into ret_cluster_result (job_id, tweet_id, cluster_no) values (3855, 1778583760880967818, 0)\n",
      "Query executed successfully. 1 rows affected.\n",
      "INSERT into ret_cluster_result (job_id, tweet_id, cluster_no) values (3855, 1778572283432280202, 4)\n"
     ]
    },
    {
     "name": "stdout",
     "output_type": "stream",
     "text": [
      "Query executed successfully. 1 rows affected.\n",
      "INSERT into ret_cluster_result (job_id, tweet_id, cluster_no) values (3855, 1778290633485980049, 4)\n",
      "Query executed successfully. 1 rows affected.\n",
      "INSERT into ret_cluster_result (job_id, tweet_id, cluster_no) values (3855, 1778566196788695380, 0)\n",
      "Query executed successfully. 1 rows affected.\n",
      "INSERT into ret_cluster_result (job_id, tweet_id, cluster_no) values (3855, 1778565807070482683, 4)\n",
      "Query executed successfully. 1 rows affected.\n",
      "INSERT into ret_cluster_result (job_id, tweet_id, cluster_no) values (3855, 1778564788362092574, 0)\n",
      "Query executed successfully. 1 rows affected.\n",
      "INSERT into ret_cluster_result (job_id, tweet_id, cluster_no) values (3855, 1778563171671740632, 4)\n",
      "Query executed successfully. 1 rows affected.\n",
      "INSERT into ret_cluster_result (job_id, tweet_id, cluster_no) values (3855, 1778563002968473658, 0)\n",
      "Query executed successfully. 1 rows affected.\n",
      "INSERT into ret_cluster_result (job_id, tweet_id, cluster_no) values (3855, 1778562471353352546, 4)\n",
      "Query executed successfully. 1 rows affected.\n",
      "INSERT into ret_cluster_result (job_id, tweet_id, cluster_no) values (3855, 1778558817589964803, 4)\n",
      "Query executed successfully. 1 rows affected.\n",
      "INSERT into ret_cluster_result (job_id, tweet_id, cluster_no) values (3855, 1778553786019246131, 4)\n",
      "Query executed successfully. 1 rows affected.\n",
      "INSERT into ret_cluster_result (job_id, tweet_id, cluster_no) values (3855, 1778401555936411743, 4)\n"
     ]
    },
    {
     "name": "stdout",
     "output_type": "stream",
     "text": [
      "Query executed successfully. 1 rows affected.\n",
      "INSERT into ret_cluster_result (job_id, tweet_id, cluster_no) values (3855, 1778548413493293557, 1)\n",
      "Query executed successfully. 1 rows affected.\n",
      "INSERT into ret_cluster_result (job_id, tweet_id, cluster_no) values (3855, 1778168804498948241, 4)\n",
      "Query executed successfully. 1 rows affected.\n",
      "INSERT into ret_cluster_result (job_id, tweet_id, cluster_no) values (3855, 1778531774899052715, 2)\n"
     ]
    },
    {
     "name": "stdout",
     "output_type": "stream",
     "text": [
      "Query executed successfully. 1 rows affected.\n",
      "INSERT into ret_cluster_result (job_id, tweet_id, cluster_no) values (3855, 1778531774899052715, 1)\n",
      "Query executed successfully. 1 rows affected.\n",
      "INSERT into ret_cluster_result (job_id, tweet_id, cluster_no) values (3855, 1778403413606240375, 6)\n",
      "Query executed successfully. 1 rows affected.\n",
      "INSERT into ret_cluster_result (job_id, tweet_id, cluster_no) values (3855, 1778531774899052715, 43)\n",
      "Query executed successfully. 1 rows affected.\n",
      "INSERT into ret_cluster_result (job_id, tweet_id, cluster_no) values (3855, 1778525320205029751, 45)\n",
      "Query executed successfully. 1 rows affected.\n",
      "INSERT into ret_cluster_result (job_id, tweet_id, cluster_no) values (3855, 1778147626493362209, 4)\n",
      "Query executed successfully. 1 rows affected.\n",
      "INSERT into ret_cluster_result (job_id, tweet_id, cluster_no) values (3855, 1777406594570957156, 4)\n",
      "Query executed successfully. 1 rows affected.\n",
      "INSERT into ret_cluster_result (job_id, tweet_id, cluster_no) values (3855, 1778130166494986705, 0)\n",
      "Query executed successfully. 1 rows affected.\n",
      "INSERT into ret_cluster_result (job_id, tweet_id, cluster_no) values (3855, 1778128524324557099, 28)\n",
      "Query executed successfully. 1 rows affected.\n",
      "INSERT into ret_cluster_result (job_id, tweet_id, cluster_no) values (3855, 1778124437201514719, 4)\n",
      "Query executed successfully. 1 rows affected.\n",
      "INSERT into ret_cluster_result (job_id, tweet_id, cluster_no) values (3855, 1778120894377807905, 4)\n"
     ]
    },
    {
     "name": "stdout",
     "output_type": "stream",
     "text": [
      "Query executed successfully. 1 rows affected.\n",
      "INSERT into ret_cluster_result (job_id, tweet_id, cluster_no) values (3855, 1778120851813970357, 4)\n",
      "Query executed successfully. 1 rows affected.\n",
      "INSERT into ret_cluster_result (job_id, tweet_id, cluster_no) values (3855, 1778114571305140544, 59)\n",
      "Query executed successfully. 1 rows affected.\n",
      "INSERT into ret_cluster_result (job_id, tweet_id, cluster_no) values (3855, 1778106975546728542, 0)\n"
     ]
    },
    {
     "name": "stdout",
     "output_type": "stream",
     "text": [
      "Query executed successfully. 1 rows affected.\n",
      "INSERT into ret_cluster_result (job_id, tweet_id, cluster_no) values (3855, 1774904589826895910, 1)\n",
      "Query executed successfully. 1 rows affected.\n",
      "INSERT into ret_cluster_result (job_id, tweet_id, cluster_no) values (3855, 1778103986257572236, 4)\n",
      "Query executed successfully. 1 rows affected.\n",
      "INSERT into ret_cluster_result (job_id, tweet_id, cluster_no) values (3855, 1778096282608849063, 21)\n",
      "Query executed successfully. 1 rows affected.\n",
      "INSERT into ret_cluster_result (job_id, tweet_id, cluster_no) values (3855, 1778091328355680685, 4)\n",
      "Query executed successfully. 1 rows affected.\n",
      "INSERT into ret_cluster_result (job_id, tweet_id, cluster_no) values (3855, 1778090654440054964, 4)\n",
      "Query executed successfully. 1 rows affected.\n",
      "INSERT into ret_cluster_result (job_id, tweet_id, cluster_no) values (3855, 1778090637411168535, 12)\n",
      "Query executed successfully. 1 rows affected.\n",
      "INSERT into ret_cluster_result (job_id, tweet_id, cluster_no) values (3855, 1778090144966590965, 5)\n",
      "Query executed successfully. 1 rows affected.\n",
      "INSERT into ret_cluster_result (job_id, tweet_id, cluster_no) values (3855, 1778083013550633106, 4)\n",
      "Query executed successfully. 1 rows affected.\n",
      "INSERT into ret_cluster_result (job_id, tweet_id, cluster_no) values (3855, 1778079776961425792, 0)\n"
     ]
    },
    {
     "name": "stdout",
     "output_type": "stream",
     "text": [
      "Query executed successfully. 1 rows affected.\n",
      "INSERT into ret_cluster_result (job_id, tweet_id, cluster_no) values (3855, 1778078867682439511, 0)\n",
      "Query executed successfully. 1 rows affected.\n",
      "INSERT into ret_cluster_result (job_id, tweet_id, cluster_no) values (3855, 1778078036790853830, 0)\n",
      "Query executed successfully. 1 rows affected.\n",
      "INSERT into ret_cluster_result (job_id, tweet_id, cluster_no) values (3855, 1778077055357276310, 0)\n"
     ]
    },
    {
     "name": "stdout",
     "output_type": "stream",
     "text": [
      "Query executed successfully. 1 rows affected.\n",
      "INSERT into ret_cluster_result (job_id, tweet_id, cluster_no) values (3855, 1778074924613018074, 7)\n",
      "Query executed successfully. 1 rows affected.\n",
      "INSERT into ret_cluster_result (job_id, tweet_id, cluster_no) values (3855, 1778074279445237951, 54)\n",
      "Query executed successfully. 1 rows affected.\n",
      "INSERT into ret_cluster_result (job_id, tweet_id, cluster_no) values (3855, 1776739521184612374, 4)\n",
      "Query executed successfully. 1 rows affected.\n",
      "INSERT into ret_cluster_result (job_id, tweet_id, cluster_no) values (3855, 1778006525644026343, 1)\n",
      "Query executed successfully. 1 rows affected.\n",
      "INSERT into ret_cluster_result (job_id, tweet_id, cluster_no) values (3855, 1778068392500433158, 29)\n",
      "Query executed successfully. 1 rows affected.\n",
      "INSERT into ret_cluster_result (job_id, tweet_id, cluster_no) values (3855, 1778067779402268989, 35)\n",
      "Query executed successfully. 1 rows affected.\n",
      "INSERT into ret_cluster_result (job_id, tweet_id, cluster_no) values (3855, 1777409928530980876, 4)\n",
      "Query executed successfully. 1 rows affected.\n",
      "INSERT into ret_cluster_result (job_id, tweet_id, cluster_no) values (3855, 1775929989185278408, 15)\n",
      "Query executed successfully. 1 rows affected.\n",
      "INSERT into ret_cluster_result (job_id, tweet_id, cluster_no) values (3855, 1778065481825497537, 4)\n"
     ]
    },
    {
     "name": "stdout",
     "output_type": "stream",
     "text": [
      "Query executed successfully. 1 rows affected.\n",
      "INSERT into ret_cluster_result (job_id, tweet_id, cluster_no) values (3855, 1778006525644026343, 1)\n",
      "Query executed successfully. 1 rows affected.\n",
      "INSERT into ret_cluster_result (job_id, tweet_id, cluster_no) values (3855, 1778064295965692282, 7)\n",
      "Query executed successfully. 1 rows affected.\n",
      "INSERT into ret_cluster_result (job_id, tweet_id, cluster_no) values (3855, 1778063615599288441, 0)\n"
     ]
    },
    {
     "name": "stdout",
     "output_type": "stream",
     "text": [
      "Query executed successfully. 1 rows affected.\n",
      "INSERT into ret_cluster_result (job_id, tweet_id, cluster_no) values (3855, 1778062003325788539, 4)\n",
      "Query executed successfully. 1 rows affected.\n",
      "INSERT into ret_cluster_result (job_id, tweet_id, cluster_no) values (3855, 1778061898233118779, 4)\n",
      "Query executed successfully. 1 rows affected.\n",
      "INSERT into ret_cluster_result (job_id, tweet_id, cluster_no) values (3855, 1778057040725696535, 0)\n",
      "Query executed successfully. 1 rows affected.\n",
      "INSERT into ret_cluster_result (job_id, tweet_id, cluster_no) values (3855, 1778056485777404207, 43)\n",
      "Query executed successfully. 1 rows affected.\n",
      "INSERT into ret_cluster_result (job_id, tweet_id, cluster_no) values (3855, 1778056337592881345, 45)\n",
      "Query executed successfully. 1 rows affected.\n",
      "INSERT into ret_cluster_result (job_id, tweet_id, cluster_no) values (3855, 1778055349599158438, 0)\n",
      "Query executed successfully. 1 rows affected.\n",
      "INSERT into ret_cluster_result (job_id, tweet_id, cluster_no) values (3855, 1778053488104046683, 33)\n",
      "Query executed successfully. 1 rows affected.\n",
      "INSERT into ret_cluster_result (job_id, tweet_id, cluster_no) values (3855, 1778052842751758617, 24)\n",
      "Query executed successfully. 1 rows affected.\n",
      "INSERT into ret_cluster_result (job_id, tweet_id, cluster_no) values (3855, 1777550853794378150, 3)\n",
      "Query executed successfully. 1 rows affected.\n",
      "INSERT into ret_cluster_result (job_id, tweet_id, cluster_no) values (3855, 1778050154127335871, 0)\n"
     ]
    },
    {
     "name": "stdout",
     "output_type": "stream",
     "text": [
      "Query executed successfully. 1 rows affected.\n",
      "INSERT into ret_cluster_result (job_id, tweet_id, cluster_no) values (3855, 1778049878456685000, 22)\n",
      "Query executed successfully. 1 rows affected.\n",
      "INSERT into ret_cluster_result (job_id, tweet_id, cluster_no) values (3855, 1778049361773252680, 1)\n",
      "Query executed successfully. 1 rows affected.\n",
      "INSERT into ret_cluster_result (job_id, tweet_id, cluster_no) values (3855, 1778045433337483588, 4)\n"
     ]
    },
    {
     "name": "stdout",
     "output_type": "stream",
     "text": [
      "Query executed successfully. 1 rows affected.\n",
      "INSERT into ret_cluster_result (job_id, tweet_id, cluster_no) values (3855, 1778041953541853188, 0)\n",
      "Query executed successfully. 1 rows affected.\n",
      "INSERT into ret_cluster_result (job_id, tweet_id, cluster_no) values (3855, 1778037777365410290, 30)\n",
      "Query executed successfully. 1 rows affected.\n",
      "INSERT into ret_cluster_result (job_id, tweet_id, cluster_no) values (3855, 1778037716698976655, 4)\n",
      "Query executed successfully. 1 rows affected.\n",
      "INSERT into ret_cluster_result (job_id, tweet_id, cluster_no) values (3855, 1778037529523970246, 12)\n",
      "Query executed successfully. 1 rows affected.\n",
      "INSERT into ret_cluster_result (job_id, tweet_id, cluster_no) values (3855, 1778033934095303131, 10)\n",
      "Query executed successfully. 1 rows affected.\n",
      "INSERT into ret_cluster_result (job_id, tweet_id, cluster_no) values (3855, 1778032916444111007, 48)\n",
      "Query executed successfully. 1 rows affected.\n",
      "INSERT into ret_cluster_result (job_id, tweet_id, cluster_no) values (3855, 1778032443444044162, 11)\n",
      "Query executed successfully. 1 rows affected.\n",
      "INSERT into ret_cluster_result (job_id, tweet_id, cluster_no) values (3855, 1777773957686411564, 1)\n",
      "Query executed successfully. 1 rows affected.\n",
      "INSERT into ret_cluster_result (job_id, tweet_id, cluster_no) values (3855, 1778025166305661331, 37)\n"
     ]
    },
    {
     "name": "stdout",
     "output_type": "stream",
     "text": [
      "Query executed successfully. 1 rows affected.\n",
      "INSERT into ret_cluster_result (job_id, tweet_id, cluster_no) values (3855, 1778024061794140349, 0)\n",
      "Query executed successfully. 1 rows affected.\n",
      "INSERT into ret_cluster_result (job_id, tweet_id, cluster_no) values (3855, 1778021608696774993, 0)\n",
      "Query executed successfully. 1 rows affected.\n",
      "INSERT into ret_cluster_result (job_id, tweet_id, cluster_no) values (3855, 1778018122701615309, 0)\n",
      "Query executed successfully. 1 rows affected.\n",
      "INSERT into ret_cluster_result (job_id, tweet_id, cluster_no) values (3855, 1778015158670942486, 0)\n"
     ]
    },
    {
     "name": "stdout",
     "output_type": "stream",
     "text": [
      "Query executed successfully. 1 rows affected.\n",
      "INSERT into ret_cluster_result (job_id, tweet_id, cluster_no) values (3855, 1778014246497841416, 38)\n",
      "Query executed successfully. 1 rows affected.\n",
      "INSERT into ret_cluster_result (job_id, tweet_id, cluster_no) values (3855, 1777697976171089930, 1)\n",
      "Query executed successfully. 1 rows affected.\n",
      "INSERT into ret_cluster_result (job_id, tweet_id, cluster_no) values (3855, 1777697976171089930, 1)\n",
      "Query executed successfully. 1 rows affected.\n",
      "INSERT into ret_cluster_result (job_id, tweet_id, cluster_no) values (3855, 1777697976171089930, 1)\n",
      "Query executed successfully. 1 rows affected.\n",
      "INSERT into ret_cluster_result (job_id, tweet_id, cluster_no) values (3855, 1777697976171089930, 1)\n",
      "Query executed successfully. 1 rows affected.\n",
      "INSERT into ret_cluster_result (job_id, tweet_id, cluster_no) values (3855, 1778013107874402412, 30)\n",
      "Query executed successfully. 1 rows affected.\n",
      "INSERT into ret_cluster_result (job_id, tweet_id, cluster_no) values (3855, 1778010381652492400, 5)\n",
      "Query executed successfully. 1 rows affected.\n",
      "INSERT into ret_cluster_result (job_id, tweet_id, cluster_no) values (3855, 1778009917388910640, 29)\n"
     ]
    },
    {
     "name": "stdout",
     "output_type": "stream",
     "text": [
      "Query executed successfully. 1 rows affected.\n",
      "INSERT into ret_cluster_result (job_id, tweet_id, cluster_no) values (3855, 1778007596605321379, 6)\n",
      "Query executed successfully. 1 rows affected.\n",
      "INSERT into ret_cluster_result (job_id, tweet_id, cluster_no) values (3855, 1778007320145846505, 0)\n",
      "Query executed successfully. 1 rows affected.\n",
      "INSERT into ret_cluster_result (job_id, tweet_id, cluster_no) values (3855, 1778006293367714244, 15)\n",
      "Query executed successfully. 1 rows affected.\n",
      "INSERT into ret_cluster_result (job_id, tweet_id, cluster_no) values (3855, 1778005053950882120, 9)\n"
     ]
    },
    {
     "name": "stdout",
     "output_type": "stream",
     "text": [
      "Query executed successfully. 1 rows affected.\n",
      "INSERT into ret_cluster_result (job_id, tweet_id, cluster_no) values (3855, 1777920902623068456, 4)\n",
      "Query executed successfully. 1 rows affected.\n",
      "INSERT into ret_cluster_result (job_id, tweet_id, cluster_no) values (3855, 1778002596248035692, 58)\n",
      "Query executed successfully. 1 rows affected.\n",
      "INSERT into ret_cluster_result (job_id, tweet_id, cluster_no) values (3855, 1778001545218400745, 54)\n",
      "Query executed successfully. 1 rows affected.\n",
      "INSERT into ret_cluster_result (job_id, tweet_id, cluster_no) values (3855, 1778001281094676499, 52)\n",
      "Query executed successfully. 1 rows affected.\n",
      "INSERT into ret_cluster_result (job_id, tweet_id, cluster_no) values (3855, 1778000493903512035, 0)\n",
      "Query executed successfully. 1 rows affected.\n",
      "INSERT into ret_cluster_result (job_id, tweet_id, cluster_no) values (3855, 1777900491948888255, 4)\n",
      "Query executed successfully. 1 rows affected.\n",
      "INSERT into ret_cluster_result (job_id, tweet_id, cluster_no) values (3855, 1766724641228538188, 4)\n"
     ]
    },
    {
     "name": "stdout",
     "output_type": "stream",
     "text": [
      "Query executed successfully. 1 rows affected.\n",
      "INSERT into ret_cluster_result (job_id, tweet_id, cluster_no) values (3855, 1777995944451043615, 19)\n",
      "Query executed successfully. 1 rows affected.\n",
      "INSERT into ret_cluster_result (job_id, tweet_id, cluster_no) values (3855, 1777994599619051916, 0)\n",
      "Query executed successfully. 1 rows affected.\n",
      "INSERT into ret_cluster_result (job_id, tweet_id, cluster_no) values (3855, 1777991868137025664, 60)\n",
      "Query executed successfully. 1 rows affected.\n",
      "INSERT into ret_cluster_result (job_id, tweet_id, cluster_no) values (3855, 1777984876081496378, 15)\n",
      "Query executed successfully. 1 rows affected.\n",
      "INSERT into ret_cluster_result (job_id, tweet_id, cluster_no) values (3855, 1777983902381916439, 4)\n"
     ]
    },
    {
     "name": "stdout",
     "output_type": "stream",
     "text": [
      "Query executed successfully. 1 rows affected.\n",
      "INSERT into ret_cluster_result (job_id, tweet_id, cluster_no) values (3855, 1777983396792148161, 0)\n",
      "Query executed successfully. 1 rows affected.\n",
      "INSERT into ret_cluster_result (job_id, tweet_id, cluster_no) values (3855, 1777962294036910554, 4)\n",
      "Query executed successfully. 1 rows affected.\n",
      "INSERT into ret_cluster_result (job_id, tweet_id, cluster_no) values (3855, 1777982324228919786, 49)\n",
      "Query executed successfully. 1 rows affected.\n",
      "INSERT into ret_cluster_result (job_id, tweet_id, cluster_no) values (3855, 1777980871578144857, 51)\n",
      "Query executed successfully. 1 rows affected.\n",
      "INSERT into ret_cluster_result (job_id, tweet_id, cluster_no) values (3855, 1777177506246004741, 6)\n",
      "Query executed successfully. 1 rows affected.\n",
      "INSERT into ret_cluster_result (job_id, tweet_id, cluster_no) values (3855, 1777964452882579616, 4)\n",
      "Query executed successfully. 1 rows affected.\n",
      "INSERT into ret_cluster_result (job_id, tweet_id, cluster_no) values (3855, 1777974705162502365, 4)\n"
     ]
    },
    {
     "name": "stdout",
     "output_type": "stream",
     "text": [
      "Query executed successfully. 1 rows affected.\n",
      "INSERT into ret_cluster_result (job_id, tweet_id, cluster_no) values (3855, 1777900491948888255, 4)\n",
      "Query executed successfully. 1 rows affected.\n",
      "INSERT into ret_cluster_result (job_id, tweet_id, cluster_no) values (3855, 1777970628231942565, 57)\n",
      "Query executed successfully. 1 rows affected.\n",
      "INSERT into ret_cluster_result (job_id, tweet_id, cluster_no) values (3855, 1777970053859704832, 0)\n",
      "Query executed successfully. 1 rows affected.\n",
      "INSERT into ret_cluster_result (job_id, tweet_id, cluster_no) values (3855, 1777969822090834210, 23)\n",
      "Query executed successfully. 1 rows affected.\n",
      "INSERT into ret_cluster_result (job_id, tweet_id, cluster_no) values (3855, 1777969807435977038, 20)\n"
     ]
    },
    {
     "name": "stdout",
     "output_type": "stream",
     "text": [
      "Query executed successfully. 1 rows affected.\n",
      "INSERT into ret_cluster_result (job_id, tweet_id, cluster_no) values (3855, 1777962219042406650, 27)\n",
      "Query executed successfully. 1 rows affected.\n",
      "INSERT into ret_cluster_result (job_id, tweet_id, cluster_no) values (3855, 1777960507103641938, 30)\n",
      "Query executed successfully. 1 rows affected.\n",
      "INSERT into ret_cluster_result (job_id, tweet_id, cluster_no) values (3855, 1777960068761186449, 0)\n",
      "Query executed successfully. 1 rows affected.\n",
      "INSERT into ret_cluster_result (job_id, tweet_id, cluster_no) values (3855, 1777949372489044128, 1)\n",
      "Query executed successfully. 1 rows affected.\n",
      "INSERT into ret_cluster_result (job_id, tweet_id, cluster_no) values (3855, 1777948954014994742, 34)\n",
      "Query executed successfully. 1 rows affected.\n",
      "INSERT into ret_cluster_result (job_id, tweet_id, cluster_no) values (3855, 1777948579824603478, 0)\n",
      "Query executed successfully. 1 rows affected.\n",
      "INSERT into ret_cluster_result (job_id, tweet_id, cluster_no) values (3855, 1777943882103456079, 10)\n",
      "Query executed successfully. 1 rows affected.\n",
      "INSERT into ret_cluster_result (job_id, tweet_id, cluster_no) values (3855, 1777942165374525559, 4)\n"
     ]
    },
    {
     "name": "stdout",
     "output_type": "stream",
     "text": [
      "Query executed successfully. 1 rows affected.\n",
      "INSERT into ret_cluster_result (job_id, tweet_id, cluster_no) values (3855, 1777939009639162126, 4)\n",
      "Query executed successfully. 1 rows affected.\n",
      "INSERT into ret_cluster_result (job_id, tweet_id, cluster_no) values (3855, 1777932730141114842, 0)\n",
      "Query executed successfully. 1 rows affected.\n",
      "INSERT into ret_cluster_result (job_id, tweet_id, cluster_no) values (3855, 1777907249115242791, 15)\n",
      "Query executed successfully. 1 rows affected.\n",
      "INSERT into ret_cluster_result (job_id, tweet_id, cluster_no) values (3855, 1777907249115242791, 15)\n",
      "Query executed successfully. 1 rows affected.\n",
      "INSERT into ret_cluster_result (job_id, tweet_id, cluster_no) values (3855, 1777903244393791776, 36)\n"
     ]
    },
    {
     "name": "stdout",
     "output_type": "stream",
     "text": [
      "Query executed successfully. 1 rows affected.\n",
      "INSERT into ret_cluster_result (job_id, tweet_id, cluster_no) values (3855, 1777901038789341184, 4)\n",
      "Query executed successfully. 1 rows affected.\n",
      "INSERT into ret_cluster_result (job_id, tweet_id, cluster_no) values (3855, 1776626657782014112, 4)\n",
      "Query executed successfully. 1 rows affected.\n",
      "INSERT into ret_cluster_result (job_id, tweet_id, cluster_no) values (3855, 1777881960687325678, 4)\n",
      "Query executed successfully. 1 rows affected.\n",
      "INSERT into ret_cluster_result (job_id, tweet_id, cluster_no) values (3855, 1777873594892398851, 15)\n",
      "Query executed successfully. 1 rows affected.\n",
      "INSERT into ret_cluster_result (job_id, tweet_id, cluster_no) values (3855, 1777871393486737764, 0)\n",
      "Query executed successfully. 1 rows affected.\n",
      "INSERT into ret_cluster_result (job_id, tweet_id, cluster_no) values (3855, 1777864328755970194, 41)\n",
      "Query executed successfully. 1 rows affected.\n",
      "INSERT into ret_cluster_result (job_id, tweet_id, cluster_no) values (3855, 1777864091714924667, 57)\n",
      "Query executed successfully. 1 rows affected.\n",
      "INSERT into ret_cluster_result (job_id, tweet_id, cluster_no) values (3855, 1777861607114387931, 3)\n"
     ]
    },
    {
     "name": "stdout",
     "output_type": "stream",
     "text": [
      "Query executed successfully. 1 rows affected.\n",
      "INSERT into ret_cluster_result (job_id, tweet_id, cluster_no) values (3855, 1777849029067424146, 4)\n",
      "Query executed successfully. 1 rows affected.\n",
      "INSERT into ret_cluster_result (job_id, tweet_id, cluster_no) values (3855, 1777837998199226798, 4)\n",
      "Query executed successfully. 1 rows affected.\n",
      "INSERT into ret_cluster_result (job_id, tweet_id, cluster_no) values (3855, 1777833554166354294, 15)\n",
      "Query executed successfully. 1 rows affected.\n",
      "INSERT into ret_cluster_result (job_id, tweet_id, cluster_no) values (3855, 1777446141162119544, 1)\n",
      "Query executed successfully. 1 rows affected.\n",
      "INSERT into ret_cluster_result (job_id, tweet_id, cluster_no) values (3855, 1777604644631445715, 21)\n"
     ]
    },
    {
     "name": "stdout",
     "output_type": "stream",
     "text": [
      "Query executed successfully. 1 rows affected.\n",
      "INSERT into ret_cluster_result (job_id, tweet_id, cluster_no) values (3855, 1777251102120952045, 6)\n",
      "Query executed successfully. 1 rows affected.\n",
      "INSERT into ret_cluster_result (job_id, tweet_id, cluster_no) values (3855, 1777603050393280929, 21)\n",
      "Query executed successfully. 1 rows affected.\n",
      "INSERT into ret_cluster_result (job_id, tweet_id, cluster_no) values (3855, 1777602553724739605, 0)\n",
      "Query executed successfully. 1 rows affected.\n",
      "INSERT into ret_cluster_result (job_id, tweet_id, cluster_no) values (3855, 1777599874462040266, 13)\n",
      "Query executed successfully. 1 rows affected.\n",
      "INSERT into ret_cluster_result (job_id, tweet_id, cluster_no) values (3855, 1777599854551740434, 13)\n",
      "Query executed successfully. 1 rows affected.\n",
      "INSERT into ret_cluster_result (job_id, tweet_id, cluster_no) values (3855, 1777599580118409450, 0)\n",
      "Query executed successfully. 1 rows affected.\n",
      "INSERT into ret_cluster_result (job_id, tweet_id, cluster_no) values (3855, 1777597482513334622, 13)\n",
      "Query executed successfully. 1 rows affected.\n",
      "INSERT into ret_cluster_result (job_id, tweet_id, cluster_no) values (3855, 1777597327353553271, 1)\n"
     ]
    },
    {
     "name": "stdout",
     "output_type": "stream",
     "text": [
      "Query executed successfully. 1 rows affected.\n",
      "INSERT into ret_cluster_result (job_id, tweet_id, cluster_no) values (3855, 1777595398518976750, 1)\n",
      "Query executed successfully. 1 rows affected.\n",
      "INSERT into ret_cluster_result (job_id, tweet_id, cluster_no) values (3855, 1777589542544912478, 10)\n",
      "Query executed successfully. 1 rows affected.\n",
      "INSERT into ret_cluster_result (job_id, tweet_id, cluster_no) values (3855, 1776241007979303158, 0)\n",
      "Query executed successfully. 1 rows affected.\n",
      "INSERT into ret_cluster_result (job_id, tweet_id, cluster_no) values (3855, 1777586953057112228, 6)\n"
     ]
    },
    {
     "name": "stdout",
     "output_type": "stream",
     "text": [
      "Query executed successfully. 1 rows affected.\n",
      "INSERT into ret_cluster_result (job_id, tweet_id, cluster_no) values (3855, 1777586317762682943, 4)\n",
      "Query executed successfully. 1 rows affected.\n",
      "INSERT into ret_cluster_result (job_id, tweet_id, cluster_no) values (3855, 1493888713507901440, 6)\n",
      "Query executed successfully. 1 rows affected.\n",
      "INSERT into ret_cluster_result (job_id, tweet_id, cluster_no) values (3855, 1777580672078512552, 4)\n",
      "Query executed successfully. 1 rows affected.\n",
      "INSERT into ret_cluster_result (job_id, tweet_id, cluster_no) values (3855, 1777579662627250548, 12)\n",
      "Query executed successfully. 1 rows affected.\n",
      "INSERT into ret_cluster_result (job_id, tweet_id, cluster_no) values (3855, 1777375506683290032, 2)\n",
      "Query executed successfully. 1 rows affected.\n",
      "INSERT into ret_cluster_result (job_id, tweet_id, cluster_no) values (3855, 1777577926097031447, 26)\n",
      "Query executed successfully. 1 rows affected.\n",
      "INSERT into ret_cluster_result (job_id, tweet_id, cluster_no) values (3855, 1777576897204932743, 4)\n",
      "Query executed successfully. 1 rows affected.\n",
      "INSERT into ret_cluster_result (job_id, tweet_id, cluster_no) values (3855, 1777540893509373960, 0)\n",
      "Query executed successfully. 1 rows affected.\n",
      "INSERT into ret_cluster_result (job_id, tweet_id, cluster_no) values (3855, 1777565041472221574, 0)\n"
     ]
    },
    {
     "name": "stdout",
     "output_type": "stream",
     "text": [
      "Query executed successfully. 1 rows affected.\n",
      "INSERT into ret_cluster_result (job_id, tweet_id, cluster_no) values (3855, 1777562142595486080, 0)\n",
      "Query executed successfully. 1 rows affected.\n",
      "INSERT into ret_cluster_result (job_id, tweet_id, cluster_no) values (3855, 1777554760385560796, 1)\n",
      "Query executed successfully. 1 rows affected.\n",
      "INSERT into ret_cluster_result (job_id, tweet_id, cluster_no) values (3855, 1777538126417682813, 28)\n",
      "Query executed successfully. 1 rows affected.\n",
      "INSERT into ret_cluster_result (job_id, tweet_id, cluster_no) values (3855, 1777322283708961055, 12)\n"
     ]
    },
    {
     "name": "stdout",
     "output_type": "stream",
     "text": [
      "Query executed successfully. 1 rows affected.\n",
      "INSERT into ret_cluster_result (job_id, tweet_id, cluster_no) values (3855, 1777455209704255731, 43)\n",
      "Query executed successfully. 1 rows affected.\n",
      "INSERT into ret_cluster_result (job_id, tweet_id, cluster_no) values (3855, 1777534970858447190, 47)\n",
      "Query executed successfully. 1 rows affected.\n",
      "INSERT into ret_cluster_result (job_id, tweet_id, cluster_no) values (3855, 1777528231089914096, 12)\n",
      "Query executed successfully. 1 rows affected.\n",
      "INSERT into ret_cluster_result (job_id, tweet_id, cluster_no) values (3855, 1777083193557995962, 0)\n",
      "Query executed successfully. 1 rows affected.\n",
      "INSERT into ret_cluster_result (job_id, tweet_id, cluster_no) values (3855, 1777332240235598011, 50)\n",
      "Query executed successfully. 1 rows affected.\n",
      "INSERT into ret_cluster_result (job_id, tweet_id, cluster_no) values (3855, 1777518085295018373, 52)\n",
      "Query executed successfully. 1 rows affected.\n",
      "INSERT into ret_cluster_result (job_id, tweet_id, cluster_no) values (3855, 1777501717107446184, 12)\n",
      "Query executed successfully. 1 rows affected.\n",
      "INSERT into ret_cluster_result (job_id, tweet_id, cluster_no) values (3855, 1777100530457645394, 12)\n",
      "Query executed successfully. 1 rows affected.\n",
      "INSERT into ret_cluster_result (job_id, tweet_id, cluster_no) values (3855, 1777490999063020020, 0)\n"
     ]
    },
    {
     "name": "stdout",
     "output_type": "stream",
     "text": [
      "Query executed successfully. 1 rows affected.\n",
      "INSERT into ret_cluster_result (job_id, tweet_id, cluster_no) values (3855, 1777303666539573332, 4)\n",
      "Query executed successfully. 1 rows affected.\n",
      "INSERT into ret_cluster_result (job_id, tweet_id, cluster_no) values (3855, 1777260083166187707, 4)\n",
      "Query executed successfully. 1 rows affected.\n",
      "INSERT into ret_cluster_result (job_id, tweet_id, cluster_no) values (3855, 1777303666539573332, 4)\n",
      "Query executed successfully. 1 rows affected.\n",
      "INSERT into ret_cluster_result (job_id, tweet_id, cluster_no) values (3855, 1777116216563274013, 4)\n"
     ]
    },
    {
     "name": "stdout",
     "output_type": "stream",
     "text": [
      "Query executed successfully. 1 rows affected.\n",
      "INSERT into ret_cluster_result (job_id, tweet_id, cluster_no) values (3855, 1777469222525755805, 0)\n",
      "Query executed successfully. 1 rows affected.\n",
      "INSERT into ret_cluster_result (job_id, tweet_id, cluster_no) values (3855, 1777401722945544542, 56)\n",
      "Query executed successfully. 1 rows affected.\n",
      "INSERT into ret_cluster_result (job_id, tweet_id, cluster_no) values (3855, 1777252796674298123, 4)\n",
      "Query executed successfully. 1 rows affected.\n",
      "INSERT into ret_cluster_result (job_id, tweet_id, cluster_no) values (3855, 1777454730593141235, 43)\n",
      "Query executed successfully. 1 rows affected.\n",
      "INSERT into ret_cluster_result (job_id, tweet_id, cluster_no) values (3855, 1777360140582166537, 1)\n",
      "Query executed successfully. 1 rows affected.\n",
      "INSERT into ret_cluster_result (job_id, tweet_id, cluster_no) values (3855, 1777423749370765597, 12)\n",
      "Query executed successfully. 1 rows affected.\n",
      "INSERT into ret_cluster_result (job_id, tweet_id, cluster_no) values (3855, 1777446781950824828, 4)\n",
      "Query executed successfully. 1 rows affected.\n",
      "INSERT into ret_cluster_result (job_id, tweet_id, cluster_no) values (3855, 1777436002682052711, 1)\n"
     ]
    },
    {
     "name": "stdout",
     "output_type": "stream",
     "text": [
      "Query executed successfully. 1 rows affected.\n",
      "INSERT into ret_cluster_result (job_id, tweet_id, cluster_no) values (3855, 1776583135129387365, 0)\n",
      "Query executed successfully. 1 rows affected.\n",
      "INSERT into ret_cluster_result (job_id, tweet_id, cluster_no) values (3855, 1777433385021120818, 0)\n",
      "Query executed successfully. 1 rows affected.\n",
      "INSERT into ret_cluster_result (job_id, tweet_id, cluster_no) values (3855, 1777365830000373891, 4)\n"
     ]
    },
    {
     "name": "stdout",
     "output_type": "stream",
     "text": [
      "Query executed successfully. 1 rows affected.\n",
      "INSERT into ret_cluster_result (job_id, tweet_id, cluster_no) values (3855, 1776583135129387365, 12)\n",
      "Query executed successfully. 1 rows affected.\n",
      "INSERT into ret_cluster_result (job_id, tweet_id, cluster_no) values (3855, 1777229009446731830, 12)\n",
      "Query executed successfully. 1 rows affected.\n",
      "INSERT into ret_cluster_result (job_id, tweet_id, cluster_no) values (3855, 1776583135129387365, 3)\n",
      "Query executed successfully. 1 rows affected.\n",
      "INSERT into ret_cluster_result (job_id, tweet_id, cluster_no) values (3855, 1777426240174993729, 4)\n",
      "Query executed successfully. 1 rows affected.\n",
      "INSERT into ret_cluster_result (job_id, tweet_id, cluster_no) values (3855, 1777421240904601732, 4)\n",
      "Query executed successfully. 1 rows affected.\n",
      "INSERT into ret_cluster_result (job_id, tweet_id, cluster_no) values (3855, 1777303666539573332, 0)\n",
      "Query executed successfully. 1 rows affected.\n",
      "INSERT into ret_cluster_result (job_id, tweet_id, cluster_no) values (3855, 1777401722945544542, 0)\n",
      "Query executed successfully. 1 rows affected.\n",
      "INSERT into ret_cluster_result (job_id, tweet_id, cluster_no) values (3855, 1776583135129387365, 3)\n",
      "Query executed successfully. 1 rows affected.\n",
      "INSERT into ret_cluster_result (job_id, tweet_id, cluster_no) values (3855, 1777399187279065519, 0)\n"
     ]
    },
    {
     "name": "stdout",
     "output_type": "stream",
     "text": [
      "Query executed successfully. 1 rows affected.\n",
      "INSERT into ret_cluster_result (job_id, tweet_id, cluster_no) values (3855, 1777398628887179598, 12)\n",
      "Query executed successfully. 1 rows affected.\n",
      "INSERT into ret_cluster_result (job_id, tweet_id, cluster_no) values (3855, 1777332240235598011, 15)\n",
      "Query executed successfully. 1 rows affected.\n",
      "INSERT into ret_cluster_result (job_id, tweet_id, cluster_no) values (3855, 1777332240235598011, 0)\n"
     ]
    },
    {
     "name": "stdout",
     "output_type": "stream",
     "text": [
      "Query executed successfully. 1 rows affected.\n",
      "INSERT into ret_cluster_result (job_id, tweet_id, cluster_no) values (3855, 1777332240235598011, 0)\n",
      "Query executed successfully. 1 rows affected.\n",
      "INSERT into ret_cluster_result (job_id, tweet_id, cluster_no) values (3855, 1777021020068589891, 1)\n",
      "Query executed successfully. 1 rows affected.\n",
      "INSERT into ret_cluster_result (job_id, tweet_id, cluster_no) values (3855, 1777303666539573332, 1)\n",
      "Query executed successfully. 1 rows affected.\n",
      "INSERT into ret_cluster_result (job_id, tweet_id, cluster_no) values (3855, 1777340938118918447, 1)\n",
      "Query executed successfully. 1 rows affected.\n",
      "INSERT into ret_cluster_result (job_id, tweet_id, cluster_no) values (3855, 1777303666539573332, 4)\n",
      "Query executed successfully. 1 rows affected.\n",
      "INSERT into ret_cluster_result (job_id, tweet_id, cluster_no) values (3855, 1777340938118918447, 1)\n",
      "Query executed successfully. 1 rows affected.\n",
      "INSERT into ret_cluster_result (job_id, tweet_id, cluster_no) values (3855, 1777359370994503739, 4)\n",
      "Query executed successfully. 1 rows affected.\n",
      "INSERT into ret_cluster_result (job_id, tweet_id, cluster_no) values (3855, 1777359370994503739, 4)\n",
      "Query executed successfully. 1 rows affected.\n",
      "INSERT into ret_cluster_result (job_id, tweet_id, cluster_no) values (3855, 1777369135581737353, 31)\n"
     ]
    },
    {
     "name": "stdout",
     "output_type": "stream",
     "text": [
      "Query executed successfully. 1 rows affected.\n",
      "INSERT into ret_cluster_result (job_id, tweet_id, cluster_no) values (3855, 1777367768171471181, 0)\n",
      "Query executed successfully. 1 rows affected.\n",
      "INSERT into ret_cluster_result (job_id, tweet_id, cluster_no) values (3855, 1777367070918771007, 12)\n",
      "Query executed successfully. 1 rows affected.\n",
      "INSERT into ret_cluster_result (job_id, tweet_id, cluster_no) values (3855, 1777366986390999099, 0)\n"
     ]
    },
    {
     "name": "stdout",
     "output_type": "stream",
     "text": [
      "Query executed successfully. 1 rows affected.\n",
      "INSERT into ret_cluster_result (job_id, tweet_id, cluster_no) values (3855, 1777365830000373891, 12)\n",
      "Query executed successfully. 1 rows affected.\n",
      "INSERT into ret_cluster_result (job_id, tweet_id, cluster_no) values (3855, 1777364563035374036, 4)\n",
      "Query executed successfully. 1 rows affected.\n",
      "INSERT into ret_cluster_result (job_id, tweet_id, cluster_no) values (3855, 1777303666539573332, 0)\n",
      "Query executed successfully. 1 rows affected.\n",
      "INSERT into ret_cluster_result (job_id, tweet_id, cluster_no) values (3855, 1777232744201752795, 43)\n",
      "Query executed successfully. 1 rows affected.\n",
      "INSERT into ret_cluster_result (job_id, tweet_id, cluster_no) values (3855, 1777363617886691708, 60)\n",
      "Query executed successfully. 1 rows affected.\n",
      "INSERT into ret_cluster_result (job_id, tweet_id, cluster_no) values (3855, 1777361625441345676, 43)\n",
      "Query executed successfully. 1 rows affected.\n",
      "INSERT into ret_cluster_result (job_id, tweet_id, cluster_no) values (3855, 1777303666539573332, 0)\n",
      "Query executed successfully. 1 rows affected.\n",
      "INSERT into ret_cluster_result (job_id, tweet_id, cluster_no) values (3855, 1777126259820220777, 4)\n",
      "Query executed successfully. 1 rows affected.\n",
      "INSERT into ret_cluster_result (job_id, tweet_id, cluster_no) values (3855, 1777359370994503739, 15)\n"
     ]
    },
    {
     "name": "stdout",
     "output_type": "stream",
     "text": [
      "Query executed successfully. 1 rows affected.\n",
      "INSERT into ret_cluster_result (job_id, tweet_id, cluster_no) values (3855, 1776620704751841303, 3)\n",
      "Query executed successfully. 1 rows affected.\n",
      "INSERT into ret_cluster_result (job_id, tweet_id, cluster_no) values (3855, 1777353813009039485, 4)\n",
      "Query executed successfully. 1 rows affected.\n",
      "INSERT into ret_cluster_result (job_id, tweet_id, cluster_no) values (3855, 1777353203610165754, 0)\n"
     ]
    },
    {
     "name": "stdout",
     "output_type": "stream",
     "text": [
      "Query executed successfully. 1 rows affected.\n",
      "INSERT into ret_cluster_result (job_id, tweet_id, cluster_no) values (3855, 1777351231398396200, 6)\n",
      "Query executed successfully. 1 rows affected.\n",
      "INSERT into ret_cluster_result (job_id, tweet_id, cluster_no) values (3855, 1777334229011161151, 4)\n",
      "Query executed successfully. 1 rows affected.\n",
      "INSERT into ret_cluster_result (job_id, tweet_id, cluster_no) values (3855, 1777350477962739714, 29)\n",
      "Query executed successfully. 1 rows affected.\n",
      "INSERT into ret_cluster_result (job_id, tweet_id, cluster_no) values (3855, 1777349124993503583, 0)\n",
      "Query executed successfully. 1 rows affected.\n",
      "INSERT into ret_cluster_result (job_id, tweet_id, cluster_no) values (3855, 1777349124993503583, 4)\n",
      "Query executed successfully. 1 rows affected.\n",
      "INSERT into ret_cluster_result (job_id, tweet_id, cluster_no) values (3855, 1777349124993503583, 0)\n",
      "Query executed successfully. 1 rows affected.\n",
      "INSERT into ret_cluster_result (job_id, tweet_id, cluster_no) values (3855, 1777349124993503583, 1)\n",
      "Query executed successfully. 1 rows affected.\n",
      "INSERT into ret_cluster_result (job_id, tweet_id, cluster_no) values (3855, 1777100530457645394, 43)\n",
      "Query executed successfully. 1 rows affected.\n",
      "INSERT into ret_cluster_result (job_id, tweet_id, cluster_no) values (3855, 1777303666539573332, 4)\n"
     ]
    },
    {
     "name": "stdout",
     "output_type": "stream",
     "text": [
      "Query executed successfully. 1 rows affected.\n",
      "INSERT into ret_cluster_result (job_id, tweet_id, cluster_no) values (3855, 1777230545635688780, 4)\n",
      "Query executed successfully. 1 rows affected.\n",
      "INSERT into ret_cluster_result (job_id, tweet_id, cluster_no) values (3855, 1777336081618198540, 12)\n",
      "Query executed successfully. 1 rows affected.\n",
      "INSERT into ret_cluster_result (job_id, tweet_id, cluster_no) values (3855, 1777333888035000709, 0)\n"
     ]
    },
    {
     "name": "stdout",
     "output_type": "stream",
     "text": [
      "Query executed successfully. 1 rows affected.\n",
      "INSERT into ret_cluster_result (job_id, tweet_id, cluster_no) values (3855, 1777332240235598011, 32)\n",
      "Query executed successfully. 1 rows affected.\n",
      "INSERT into ret_cluster_result (job_id, tweet_id, cluster_no) values (3855, 1777326999901495591, 32)\n",
      "Query executed successfully. 1 rows affected.\n",
      "INSERT into ret_cluster_result (job_id, tweet_id, cluster_no) values (3855, 1777324518521946340, 0)\n",
      "Query executed successfully. 1 rows affected.\n",
      "INSERT into ret_cluster_result (job_id, tweet_id, cluster_no) values (3855, 1777321318301524354, 31)\n",
      "Query executed successfully. 1 rows affected.\n",
      "INSERT into ret_cluster_result (job_id, tweet_id, cluster_no) values (3855, 1777321186109554870, 32)\n",
      "Query executed successfully. 1 rows affected.\n",
      "INSERT into ret_cluster_result (job_id, tweet_id, cluster_no) values (3855, 1777314824256462898, 4)\n",
      "Query executed successfully. 1 rows affected.\n",
      "INSERT into ret_cluster_result (job_id, tweet_id, cluster_no) values (3855, 1777320494267502596, 4)\n",
      "Query executed successfully. 1 rows affected.\n",
      "INSERT into ret_cluster_result (job_id, tweet_id, cluster_no) values (3855, 1777303666539573332, 0)\n",
      "Query executed successfully. 1 rows affected.\n",
      "INSERT into ret_cluster_result (job_id, tweet_id, cluster_no) values (3855, 1777290605892161610, 1)\n",
      "Query executed successfully. 1 rows affected.\n",
      "INSERT into ret_cluster_result (job_id, tweet_id, cluster_no) values (3855, 1777310451409240104, 0)\n"
     ]
    },
    {
     "name": "stdout",
     "output_type": "stream",
     "text": [
      "Query executed successfully. 1 rows affected.\n",
      "INSERT into ret_cluster_result (job_id, tweet_id, cluster_no) values (3855, 1777308740154225103, 0)\n",
      "Query executed successfully. 1 rows affected.\n",
      "INSERT into ret_cluster_result (job_id, tweet_id, cluster_no) values (3855, 1777307809563983991, 4)\n",
      "Query executed successfully. 1 rows affected.\n",
      "INSERT into ret_cluster_result (job_id, tweet_id, cluster_no) values (3855, 1777307154309104001, 0)\n"
     ]
    },
    {
     "name": "stdout",
     "output_type": "stream",
     "text": [
      "Query executed successfully. 1 rows affected.\n",
      "INSERT into ret_cluster_result (job_id, tweet_id, cluster_no) values (3855, 1777303666539573332, 4)\n",
      "Query executed successfully. 1 rows affected.\n",
      "INSERT into ret_cluster_result (job_id, tweet_id, cluster_no) values (3855, 1777300148797702426, 12)\n",
      "Query executed successfully. 1 rows affected.\n",
      "INSERT into ret_cluster_result (job_id, tweet_id, cluster_no) values (3855, 1777298642249859339, 1)\n",
      "Query executed successfully. 1 rows affected.\n",
      "INSERT into ret_cluster_result (job_id, tweet_id, cluster_no) values (3855, 1777294412051038417, 26)\n",
      "Query executed successfully. 1 rows affected.\n",
      "INSERT into ret_cluster_result (job_id, tweet_id, cluster_no) values (3855, 1777293141726339382, 12)\n",
      "Query executed successfully. 1 rows affected.\n",
      "INSERT into ret_cluster_result (job_id, tweet_id, cluster_no) values (3855, 1777262137137586298, 2)\n",
      "Query executed successfully. 1 rows affected.\n",
      "INSERT into ret_cluster_result (job_id, tweet_id, cluster_no) values (3855, 1776758238161052143, 1)\n",
      "Query executed successfully. 1 rows affected.\n",
      "INSERT into ret_cluster_result (job_id, tweet_id, cluster_no) values (3855, 1777098595495194849, 4)\n",
      "Query executed successfully. 1 rows affected.\n",
      "INSERT into ret_cluster_result (job_id, tweet_id, cluster_no) values (3855, 1777281496346202617, 12)\n",
      "Query executed successfully. 1 rows affected.\n",
      "INSERT into ret_cluster_result (job_id, tweet_id, cluster_no) values (3855, 1776823810425024841, 4)\n"
     ]
    },
    {
     "name": "stdout",
     "output_type": "stream",
     "text": [
      "Query executed successfully. 1 rows affected.\n",
      "INSERT into ret_cluster_result (job_id, tweet_id, cluster_no) values (3855, 1776820485222985962, 12)\n",
      "Query executed successfully. 1 rows affected.\n",
      "INSERT into ret_cluster_result (job_id, tweet_id, cluster_no) values (3855, 1776817973174370560, 4)\n",
      "Query executed successfully. 1 rows affected.\n",
      "INSERT into ret_cluster_result (job_id, tweet_id, cluster_no) values (3855, 1776816849931403736, 6)\n"
     ]
    },
    {
     "name": "stdout",
     "output_type": "stream",
     "text": [
      "Query executed successfully. 1 rows affected.\n",
      "INSERT into ret_cluster_result (job_id, tweet_id, cluster_no) values (3855, 1776774641974956092, 12)\n",
      "Query executed successfully. 1 rows affected.\n",
      "INSERT into ret_cluster_result (job_id, tweet_id, cluster_no) values (3855, 1776774641974956092, 1)\n",
      "Query executed successfully. 1 rows affected.\n",
      "INSERT into ret_cluster_result (job_id, tweet_id, cluster_no) values (3855, 1776776933289734451, 12)\n",
      "Query executed successfully. 1 rows affected.\n",
      "INSERT into ret_cluster_result (job_id, tweet_id, cluster_no) values (3855, 1776757025617351042, 4)\n",
      "Query executed successfully. 1 rows affected.\n",
      "INSERT into ret_cluster_result (job_id, tweet_id, cluster_no) values (3855, 1776761470019068033, 1)\n",
      "Query executed successfully. 1 rows affected.\n",
      "INSERT into ret_cluster_result (job_id, tweet_id, cluster_no) values (3855, 1776761164216635696, 57)\n",
      "Query executed successfully. 1 rows affected.\n",
      "INSERT into ret_cluster_result (job_id, tweet_id, cluster_no) values (3855, 1776760442406236558, 6)\n",
      "Query executed successfully. 1 rows affected.\n",
      "INSERT into ret_cluster_result (job_id, tweet_id, cluster_no) values (3855, 1776751947934232686, 15)\n",
      "Query executed successfully. 1 rows affected.\n",
      "INSERT into ret_cluster_result (job_id, tweet_id, cluster_no) values (3855, 1776746966346510826, 38)\n",
      "Query executed successfully. 1 rows affected.\n",
      "INSERT into ret_cluster_result (job_id, tweet_id, cluster_no) values (3855, 1776738544150610041, 4)\n"
     ]
    },
    {
     "name": "stdout",
     "output_type": "stream",
     "text": [
      "Query executed successfully. 1 rows affected.\n",
      "INSERT into ret_cluster_result (job_id, tweet_id, cluster_no) values (3855, 1776734808787570771, 6)\n",
      "Query executed successfully. 1 rows affected.\n",
      "INSERT into ret_cluster_result (job_id, tweet_id, cluster_no) values (3855, 1776720283870621910, 1)\n",
      "Query executed successfully. 1 rows affected.\n",
      "INSERT into ret_cluster_result (job_id, tweet_id, cluster_no) values (3855, 1776716239781429419, 0)\n"
     ]
    },
    {
     "name": "stdout",
     "output_type": "stream",
     "text": [
      "Query executed successfully. 1 rows affected.\n",
      "INSERT into ret_cluster_result (job_id, tweet_id, cluster_no) values (3855, 1776214248789578034, 0)\n",
      "Query executed successfully. 1 rows affected.\n",
      "INSERT into ret_cluster_result (job_id, tweet_id, cluster_no) values (3855, 1776703265108873263, 6)\n",
      "Query executed successfully. 1 rows affected.\n",
      "INSERT into ret_cluster_result (job_id, tweet_id, cluster_no) values (3855, 1776692085573210190, 1)\n",
      "Query executed successfully. 1 rows affected.\n",
      "INSERT into ret_cluster_result (job_id, tweet_id, cluster_no) values (3855, 1776691099945279765, 4)\n",
      "Query executed successfully. 1 rows affected.\n",
      "INSERT into ret_cluster_result (job_id, tweet_id, cluster_no) values (3855, 1776688963689808236, 1)\n",
      "Query executed successfully. 1 rows affected.\n",
      "INSERT into ret_cluster_result (job_id, tweet_id, cluster_no) values (3855, 1776687219358547997, 57)\n",
      "Query executed successfully. 1 rows affected.\n",
      "INSERT into ret_cluster_result (job_id, tweet_id, cluster_no) values (3855, 1774899771435631017, 12)\n",
      "Query executed successfully. 1 rows affected.\n",
      "INSERT into ret_cluster_result (job_id, tweet_id, cluster_no) values (3855, 1776685103868956813, 0)\n",
      "Query executed successfully. 1 rows affected.\n",
      "INSERT into ret_cluster_result (job_id, tweet_id, cluster_no) values (3855, 1775818644284428382, 1)\n",
      "Query executed successfully. 1 rows affected.\n",
      "INSERT into ret_cluster_result (job_id, tweet_id, cluster_no) values (3855, 1776681104499749278, 6)\n"
     ]
    },
    {
     "name": "stdout",
     "output_type": "stream",
     "text": [
      "Query executed successfully. 1 rows affected.\n",
      "INSERT into ret_cluster_result (job_id, tweet_id, cluster_no) values (3855, 1776678888560537926, 4)\n",
      "Query executed successfully. 1 rows affected.\n",
      "INSERT into ret_cluster_result (job_id, tweet_id, cluster_no) values (3855, 1776678006255444039, 15)\n",
      "Query executed successfully. 1 rows affected.\n",
      "INSERT into ret_cluster_result (job_id, tweet_id, cluster_no) values (3855, 1776677614993993992, 1)\n"
     ]
    },
    {
     "name": "stdout",
     "output_type": "stream",
     "text": [
      "Query executed successfully. 1 rows affected.\n",
      "INSERT into ret_cluster_result (job_id, tweet_id, cluster_no) values (3855, 1776668507586847039, 0)\n",
      "Query executed successfully. 1 rows affected.\n",
      "INSERT into ret_cluster_result (job_id, tweet_id, cluster_no) values (3855, 1776673027435950545, 6)\n",
      "Query executed successfully. 1 rows affected.\n",
      "INSERT into ret_cluster_result (job_id, tweet_id, cluster_no) values (3855, 1776671375396081701, 2)\n",
      "Query executed successfully. 1 rows affected.\n",
      "INSERT into ret_cluster_result (job_id, tweet_id, cluster_no) values (3855, 1776617211865559357, 61)\n",
      "Query executed successfully. 1 rows affected.\n",
      "INSERT into ret_cluster_result (job_id, tweet_id, cluster_no) values (3855, 1776658552632877385, 15)\n",
      "Query executed successfully. 1 rows affected.\n",
      "INSERT into ret_cluster_result (job_id, tweet_id, cluster_no) values (3855, 1776654915214971395, 0)\n",
      "Query executed successfully. 1 rows affected.\n",
      "INSERT into ret_cluster_result (job_id, tweet_id, cluster_no) values (3855, 1776653820053127320, 11)\n",
      "Query executed successfully. 1 rows affected.\n",
      "INSERT into ret_cluster_result (job_id, tweet_id, cluster_no) values (3855, 1775440603012075990, 4)\n",
      "Query executed successfully. 1 rows affected.\n",
      "INSERT into ret_cluster_result (job_id, tweet_id, cluster_no) values (3855, 1763908836346265936, 0)\n",
      "Query executed successfully. 1 rows affected.\n",
      "INSERT into ret_cluster_result (job_id, tweet_id, cluster_no) values (3855, 1776646358457344145, 1)\n"
     ]
    },
    {
     "name": "stdout",
     "output_type": "stream",
     "text": [
      "Query executed successfully. 1 rows affected.\n",
      "INSERT into ret_cluster_result (job_id, tweet_id, cluster_no) values (3855, 1776644044728541622, 1)\n",
      "Query executed successfully. 1 rows affected.\n",
      "INSERT into ret_cluster_result (job_id, tweet_id, cluster_no) values (3855, 1776604910722637939, 1)\n",
      "Query executed successfully. 1 rows affected.\n",
      "INSERT into ret_cluster_result (job_id, tweet_id, cluster_no) values (3855, 1776641288898515255, 0)\n"
     ]
    },
    {
     "name": "stdout",
     "output_type": "stream",
     "text": [
      "Query executed successfully. 1 rows affected.\n",
      "INSERT into ret_cluster_result (job_id, tweet_id, cluster_no) values (3855, 1776641288546210229, 0)\n",
      "Query executed successfully. 1 rows affected.\n",
      "INSERT into ret_cluster_result (job_id, tweet_id, cluster_no) values (3855, 1776636969457459631, 4)\n",
      "Query executed successfully. 1 rows affected.\n",
      "INSERT into ret_cluster_result (job_id, tweet_id, cluster_no) values (3855, 1776636193829949466, 0)\n",
      "Query executed successfully. 1 rows affected.\n",
      "INSERT into ret_cluster_result (job_id, tweet_id, cluster_no) values (3855, 1776630190921392134, 0)\n",
      "Query executed successfully. 1 rows affected.\n",
      "INSERT into ret_cluster_result (job_id, tweet_id, cluster_no) values (3855, 1776256423166627865, 6)\n",
      "Query executed successfully. 1 rows affected.\n",
      "INSERT into ret_cluster_result (job_id, tweet_id, cluster_no) values (3855, 1776583135129387365, 4)\n",
      "Query executed successfully. 1 rows affected.\n",
      "INSERT into ret_cluster_result (job_id, tweet_id, cluster_no) values (3855, 1776583135129387365, 4)\n",
      "Query executed successfully. 1 rows affected.\n",
      "INSERT into ret_cluster_result (job_id, tweet_id, cluster_no) values (3855, 1776583135129387365, 4)\n",
      "Query executed successfully. 1 rows affected.\n",
      "INSERT into ret_cluster_result (job_id, tweet_id, cluster_no) values (3855, 1776583135129387365, 0)\n",
      "Query executed successfully. 1 rows affected.\n",
      "INSERT into ret_cluster_result (job_id, tweet_id, cluster_no) values (3855, 1776583135129387365, 0)\n"
     ]
    },
    {
     "name": "stdout",
     "output_type": "stream",
     "text": [
      "Query executed successfully. 1 rows affected.\n",
      "INSERT into ret_cluster_result (job_id, tweet_id, cluster_no) values (3855, 1776620387784147304, 0)\n",
      "Query executed successfully. 1 rows affected.\n",
      "INSERT into ret_cluster_result (job_id, tweet_id, cluster_no) values (3855, 1776615341650583841, 60)\n",
      "Query executed successfully. 1 rows affected.\n",
      "INSERT into ret_cluster_result (job_id, tweet_id, cluster_no) values (3855, 1776614983071141927, 60)\n"
     ]
    },
    {
     "name": "stdout",
     "output_type": "stream",
     "text": [
      "Query executed successfully. 1 rows affected.\n",
      "INSERT into ret_cluster_result (job_id, tweet_id, cluster_no) values (3855, 1776584199325057331, 0)\n",
      "Query executed successfully. 1 rows affected.\n",
      "INSERT into ret_cluster_result (job_id, tweet_id, cluster_no) values (3855, 1776610922317893941, 0)\n",
      "Query executed successfully. 1 rows affected.\n",
      "INSERT into ret_cluster_result (job_id, tweet_id, cluster_no) values (3855, 1776606534606225704, 45)\n",
      "Query executed successfully. 1 rows affected.\n",
      "INSERT into ret_cluster_result (job_id, tweet_id, cluster_no) values (3855, 1776604737476927520, 4)\n",
      "Query executed successfully. 1 rows affected.\n",
      "INSERT into ret_cluster_result (job_id, tweet_id, cluster_no) values (3855, 1776604030912889016, 4)\n",
      "Query executed successfully. 1 rows affected.\n",
      "INSERT into ret_cluster_result (job_id, tweet_id, cluster_no) values (3855, 1776600200397701246, 0)\n",
      "Query executed successfully. 1 rows affected.\n",
      "INSERT into ret_cluster_result (job_id, tweet_id, cluster_no) values (3855, 1775763991131808057, 4)\n",
      "Query executed successfully. 1 rows affected.\n",
      "INSERT into ret_cluster_result (job_id, tweet_id, cluster_no) values (3855, 1776323443153129860, 4)\n",
      "Query executed successfully. 1 rows affected.\n",
      "INSERT into ret_cluster_result (job_id, tweet_id, cluster_no) values (3855, 1776593603936043158, 1)\n",
      "Query executed successfully. 1 rows affected.\n",
      "INSERT into ret_cluster_result (job_id, tweet_id, cluster_no) values (3855, 1776591652448067994, 0)\n"
     ]
    },
    {
     "name": "stdout",
     "output_type": "stream",
     "text": [
      "Query executed successfully. 1 rows affected.\n",
      "INSERT into ret_cluster_result (job_id, tweet_id, cluster_no) values (3855, 1775919714570481944, 15)\n",
      "Query executed successfully. 1 rows affected.\n",
      "INSERT into ret_cluster_result (job_id, tweet_id, cluster_no) values (3855, 1776590687355453873, 0)\n",
      "Query executed successfully. 1 rows affected.\n",
      "INSERT into ret_cluster_result (job_id, tweet_id, cluster_no) values (3855, 1776587783320002917, 6)\n"
     ]
    },
    {
     "name": "stdout",
     "output_type": "stream",
     "text": [
      "Query executed successfully. 1 rows affected.\n",
      "INSERT into ret_cluster_result (job_id, tweet_id, cluster_no) values (3855, 1776582253557981186, 4)\n",
      "Query executed successfully. 1 rows affected.\n",
      "INSERT into ret_cluster_result (job_id, tweet_id, cluster_no) values (3855, 1776579788058099938, 0)\n",
      "Query executed successfully. 1 rows affected.\n",
      "INSERT into ret_cluster_result (job_id, tweet_id, cluster_no) values (3855, 1776576565545201863, 0)\n",
      "Query executed successfully. 1 rows affected.\n",
      "INSERT into ret_cluster_result (job_id, tweet_id, cluster_no) values (3855, 1776570753686655028, 0)\n",
      "Query executed successfully. 1 rows affected.\n",
      "INSERT into ret_cluster_result (job_id, tweet_id, cluster_no) values (3855, 1776573066484847074, 57)\n",
      "Query executed successfully. 1 rows affected.\n",
      "INSERT into ret_cluster_result (job_id, tweet_id, cluster_no) values (3855, 1776546433052664068, 10)\n",
      "Query executed successfully. 1 rows affected.\n",
      "INSERT into ret_cluster_result (job_id, tweet_id, cluster_no) values (3855, 1776542498325668013, 7)\n",
      "Query executed successfully. 1 rows affected.\n",
      "INSERT into ret_cluster_result (job_id, tweet_id, cluster_no) values (3855, 1776540594988314785, 0)\n",
      "Query executed successfully. 1 rows affected.\n",
      "INSERT into ret_cluster_result (job_id, tweet_id, cluster_no) values (3855, 1776540415329755454, 0)\n",
      "Query executed successfully. 1 rows affected.\n",
      "INSERT into ret_cluster_result (job_id, tweet_id, cluster_no) values (3855, 1776510367356666109, 43)\n"
     ]
    },
    {
     "name": "stdout",
     "output_type": "stream",
     "text": [
      "Query executed successfully. 1 rows affected.\n",
      "INSERT into ret_cluster_result (job_id, tweet_id, cluster_no) values (3855, 1776539971278581789, 1)\n",
      "Query executed successfully. 1 rows affected.\n",
      "INSERT into ret_cluster_result (job_id, tweet_id, cluster_no) values (3855, 1776535317086196216, 0)\n",
      "Query executed successfully. 1 rows affected.\n",
      "INSERT into ret_cluster_result (job_id, tweet_id, cluster_no) values (3855, 1776535232742621353, 6)\n"
     ]
    },
    {
     "name": "stdout",
     "output_type": "stream",
     "text": [
      "Query executed successfully. 1 rows affected.\n",
      "INSERT into ret_cluster_result (job_id, tweet_id, cluster_no) values (3855, 1776528842791809427, 4)\n",
      "Query executed successfully. 1 rows affected.\n",
      "INSERT into ret_cluster_result (job_id, tweet_id, cluster_no) values (3855, 1776533457335730280, 4)\n",
      "Query executed successfully. 1 rows affected.\n",
      "INSERT into ret_cluster_result (job_id, tweet_id, cluster_no) values (3855, 1776531521710755999, 0)\n",
      "Query executed successfully. 1 rows affected.\n",
      "INSERT into ret_cluster_result (job_id, tweet_id, cluster_no) values (3855, 1776522320867119421, 0)\n",
      "Query executed successfully. 1 rows affected.\n",
      "INSERT into ret_cluster_result (job_id, tweet_id, cluster_no) values (3855, 1776521726643351633, 15)\n",
      "Query executed successfully. 1 rows affected.\n",
      "INSERT into ret_cluster_result (job_id, tweet_id, cluster_no) values (3855, 1776343410254749764, 4)\n",
      "Query executed successfully. 1 rows affected.\n",
      "INSERT into ret_cluster_result (job_id, tweet_id, cluster_no) values (3855, 1776519691248291952, 0)\n",
      "Query executed successfully. 1 rows affected.\n",
      "INSERT into ret_cluster_result (job_id, tweet_id, cluster_no) values (3855, 1776517293779881989, 4)\n",
      "Query executed successfully. 1 rows affected.\n",
      "INSERT into ret_cluster_result (job_id, tweet_id, cluster_no) values (3855, 1776502589506629725, 4)\n",
      "Query executed successfully. 1 rows affected.\n",
      "INSERT into ret_cluster_result (job_id, tweet_id, cluster_no) values (3855, 1776491798266819058, 0)\n"
     ]
    },
    {
     "name": "stdout",
     "output_type": "stream",
     "text": [
      "Query executed successfully. 1 rows affected.\n",
      "INSERT into ret_cluster_result (job_id, tweet_id, cluster_no) values (3855, 1776470666461815222, 4)\n",
      "Query executed successfully. 1 rows affected.\n",
      "INSERT into ret_cluster_result (job_id, tweet_id, cluster_no) values (3855, 1776441858119659896, 15)\n",
      "Query executed successfully. 1 rows affected.\n",
      "INSERT into ret_cluster_result (job_id, tweet_id, cluster_no) values (3855, 1776260505360818612, 1)\n"
     ]
    },
    {
     "name": "stdout",
     "output_type": "stream",
     "text": [
      "Query executed successfully. 1 rows affected.\n",
      "INSERT into ret_cluster_result (job_id, tweet_id, cluster_no) values (3855, 1776405329858965911, 0)\n",
      "Query executed successfully. 1 rows affected.\n",
      "INSERT into ret_cluster_result (job_id, tweet_id, cluster_no) values (3855, 1776405329858965911, 43)\n",
      "Query executed successfully. 1 rows affected.\n",
      "INSERT into ret_cluster_result (job_id, tweet_id, cluster_no) values (3855, 1776405329858965911, 1)\n",
      "Query executed successfully. 1 rows affected.\n",
      "INSERT into ret_cluster_result (job_id, tweet_id, cluster_no) values (3855, 1777948274722255145, 4)\n",
      "Query executed successfully. 1 rows affected.\n",
      "INSERT into ret_cluster_result (job_id, tweet_id, cluster_no) values (3855, 1778513723423940748, 0)\n",
      "Query executed successfully. 1 rows affected.\n",
      "INSERT into ret_cluster_result (job_id, tweet_id, cluster_no) values (3855, 1778368405198004385, 15)\n",
      "Query executed successfully. 1 rows affected.\n",
      "INSERT into ret_cluster_result (job_id, tweet_id, cluster_no) values (3855, 1778506776738214385, 4)\n",
      "Query executed successfully. 1 rows affected.\n",
      "INSERT into ret_cluster_result (job_id, tweet_id, cluster_no) values (3855, 1778504639287091625, 0)\n",
      "Query executed successfully. 1 rows affected.\n",
      "INSERT into ret_cluster_result (job_id, tweet_id, cluster_no) values (3855, 1778502628860690520, 4)\n",
      "Query executed successfully. 1 rows affected.\n",
      "INSERT into ret_cluster_result (job_id, tweet_id, cluster_no) values (3855, 1778500020339421503, 57)\n"
     ]
    },
    {
     "name": "stdout",
     "output_type": "stream",
     "text": [
      "Query executed successfully. 1 rows affected.\n",
      "INSERT into ret_cluster_result (job_id, tweet_id, cluster_no) values (3855, 1778498838535286853, 4)\n",
      "Query executed successfully. 1 rows affected.\n",
      "INSERT into ret_cluster_result (job_id, tweet_id, cluster_no) values (3855, 1778498563884134730, 0)\n",
      "Query executed successfully. 1 rows affected.\n",
      "INSERT into ret_cluster_result (job_id, tweet_id, cluster_no) values (3855, 1777704564650590211, 45)\n"
     ]
    },
    {
     "name": "stdout",
     "output_type": "stream",
     "text": [
      "Query executed successfully. 1 rows affected.\n",
      "INSERT into ret_cluster_result (job_id, tweet_id, cluster_no) values (3855, 1778289625569575398, 31)\n",
      "Query executed successfully. 1 rows affected.\n",
      "INSERT into ret_cluster_result (job_id, tweet_id, cluster_no) values (3855, 1778444679337685083, 4)\n",
      "Query executed successfully. 1 rows affected.\n",
      "INSERT into ret_cluster_result (job_id, tweet_id, cluster_no) values (3855, 1778495140648157439, 0)\n",
      "Query executed successfully. 1 rows affected.\n",
      "INSERT into ret_cluster_result (job_id, tweet_id, cluster_no) values (3855, 1778494881423323289, 19)\n",
      "Query executed successfully. 1 rows affected.\n",
      "INSERT into ret_cluster_result (job_id, tweet_id, cluster_no) values (3855, 1778494319986352354, 4)\n",
      "Query executed successfully. 1 rows affected.\n",
      "INSERT into ret_cluster_result (job_id, tweet_id, cluster_no) values (3855, 1778368405198004385, 4)\n",
      "Query executed successfully. 1 rows affected.\n",
      "INSERT into ret_cluster_result (job_id, tweet_id, cluster_no) values (3855, 1778491257192349942, 0)\n",
      "Query executed successfully. 1 rows affected.\n",
      "INSERT into ret_cluster_result (job_id, tweet_id, cluster_no) values (3855, 1778489900276592695, 4)\n",
      "Query executed successfully. 1 rows affected.\n",
      "INSERT into ret_cluster_result (job_id, tweet_id, cluster_no) values (3855, 1778486037175554324, 33)\n",
      "Query executed successfully. 1 rows affected.\n",
      "INSERT into ret_cluster_result (job_id, tweet_id, cluster_no) values (3855, 1778484474541428874, 52)\n"
     ]
    },
    {
     "name": "stdout",
     "output_type": "stream",
     "text": [
      "Query executed successfully. 1 rows affected.\n",
      "INSERT into ret_cluster_result (job_id, tweet_id, cluster_no) values (3855, 1778484151324139891, 32)\n",
      "Query executed successfully. 1 rows affected.\n",
      "INSERT into ret_cluster_result (job_id, tweet_id, cluster_no) values (3855, 1778479636911173984, 4)\n",
      "Query executed successfully. 1 rows affected.\n",
      "INSERT into ret_cluster_result (job_id, tweet_id, cluster_no) values (3855, 1778478955030331547, 14)\n"
     ]
    },
    {
     "name": "stdout",
     "output_type": "stream",
     "text": [
      "Query executed successfully. 1 rows affected.\n",
      "INSERT into ret_cluster_result (job_id, tweet_id, cluster_no) values (3855, 1778401767413391765, 0)\n",
      "Query executed successfully. 1 rows affected.\n",
      "INSERT into ret_cluster_result (job_id, tweet_id, cluster_no) values (3855, 1778477287823769978, 6)\n",
      "Query executed successfully. 1 rows affected.\n",
      "INSERT into ret_cluster_result (job_id, tweet_id, cluster_no) values (3855, 1778475126511841359, 54)\n",
      "Query executed successfully. 1 rows affected.\n",
      "INSERT into ret_cluster_result (job_id, tweet_id, cluster_no) values (3855, 1778474538843427007, 0)\n",
      "Query executed successfully. 1 rows affected.\n",
      "INSERT into ret_cluster_result (job_id, tweet_id, cluster_no) values (3855, 1778472614316695602, 4)\n",
      "Query executed successfully. 1 rows affected.\n",
      "INSERT into ret_cluster_result (job_id, tweet_id, cluster_no) values (3855, 1778472077059895335, 4)\n",
      "Query executed successfully. 1 rows affected.\n",
      "INSERT into ret_cluster_result (job_id, tweet_id, cluster_no) values (3855, 1778469632162087260, 0)\n",
      "Query executed successfully. 1 rows affected.\n",
      "INSERT into ret_cluster_result (job_id, tweet_id, cluster_no) values (3855, 1778466338589069427, 0)\n",
      "Query executed successfully. 1 rows affected.\n",
      "INSERT into ret_cluster_result (job_id, tweet_id, cluster_no) values (3855, 1778438504374272309, 4)\n",
      "Query executed successfully. 1 rows affected.\n",
      "INSERT into ret_cluster_result (job_id, tweet_id, cluster_no) values (3855, 1778319884642054285, 3)\n"
     ]
    },
    {
     "name": "stdout",
     "output_type": "stream",
     "text": [
      "Query executed successfully. 1 rows affected.\n",
      "INSERT into ret_cluster_result (job_id, tweet_id, cluster_no) values (3855, 1778436397453480280, 4)\n",
      "Query executed successfully. 1 rows affected.\n",
      "INSERT into ret_cluster_result (job_id, tweet_id, cluster_no) values (3855, 1778464302938075548, 15)\n",
      "Query executed successfully. 1 rows affected.\n",
      "INSERT into ret_cluster_result (job_id, tweet_id, cluster_no) values (3855, 1778342492741509559, 0)\n"
     ]
    },
    {
     "name": "stdout",
     "output_type": "stream",
     "text": [
      "Query executed successfully. 1 rows affected.\n",
      "INSERT into ret_cluster_result (job_id, tweet_id, cluster_no) values (3855, 1778457945103299047, 14)\n",
      "Query executed successfully. 1 rows affected.\n",
      "INSERT into ret_cluster_result (job_id, tweet_id, cluster_no) values (3855, 1778457017054908449, 14)\n",
      "Query executed successfully. 1 rows affected.\n",
      "INSERT into ret_cluster_result (job_id, tweet_id, cluster_no) values (3855, 1778456476744401364, 0)\n",
      "Query executed successfully. 1 rows affected.\n",
      "INSERT into ret_cluster_result (job_id, tweet_id, cluster_no) values (3855, 1778331440452620431, 15)\n",
      "Query executed successfully. 1 rows affected.\n",
      "INSERT into ret_cluster_result (job_id, tweet_id, cluster_no) values (3855, 1778454551495917713, 4)\n",
      "Query executed successfully. 1 rows affected.\n",
      "INSERT into ret_cluster_result (job_id, tweet_id, cluster_no) values (3855, 1763908836346265936, 34)\n",
      "Query executed successfully. 1 rows affected.\n",
      "INSERT into ret_cluster_result (job_id, tweet_id, cluster_no) values (3855, 1778354558944591937, 15)\n",
      "Query executed successfully. 1 rows affected.\n",
      "INSERT into ret_cluster_result (job_id, tweet_id, cluster_no) values (3855, 1778453177181852042, 15)\n",
      "Query executed successfully. 1 rows affected.\n",
      "INSERT into ret_cluster_result (job_id, tweet_id, cluster_no) values (3855, 1778452957064728988, 15)\n",
      "Query executed successfully. 1 rows affected.\n",
      "INSERT into ret_cluster_result (job_id, tweet_id, cluster_no) values (3855, 1778364744451362844, 0)\n"
     ]
    },
    {
     "name": "stdout",
     "output_type": "stream",
     "text": [
      "Query executed successfully. 1 rows affected.\n",
      "INSERT into ret_cluster_result (job_id, tweet_id, cluster_no) values (3855, 1778413524286689492, 4)\n",
      "Query executed successfully. 1 rows affected.\n",
      "INSERT into ret_cluster_result (job_id, tweet_id, cluster_no) values (3855, 1778450537945636869, 4)\n",
      "Query executed successfully. 1 rows affected.\n",
      "INSERT into ret_cluster_result (job_id, tweet_id, cluster_no) values (3855, 1778445820209377464, 0)\n"
     ]
    },
    {
     "name": "stdout",
     "output_type": "stream",
     "text": [
      "Query executed successfully. 1 rows affected.\n",
      "INSERT into ret_cluster_result (job_id, tweet_id, cluster_no) values (3855, 1778448871703867890, 0)\n",
      "Query executed successfully. 1 rows affected.\n",
      "INSERT into ret_cluster_result (job_id, tweet_id, cluster_no) values (3855, 1778448169468325917, 0)\n",
      "Query executed successfully. 1 rows affected.\n",
      "INSERT into ret_cluster_result (job_id, tweet_id, cluster_no) values (3855, 1778447719419318294, 4)\n",
      "Query executed successfully. 1 rows affected.\n",
      "INSERT into ret_cluster_result (job_id, tweet_id, cluster_no) values (3855, 1778442654386372945, 4)\n",
      "Query executed successfully. 1 rows affected.\n",
      "INSERT into ret_cluster_result (job_id, tweet_id, cluster_no) values (3855, 1778446594162991424, 54)\n",
      "Query executed successfully. 1 rows affected.\n",
      "INSERT into ret_cluster_result (job_id, tweet_id, cluster_no) values (3855, 1778446337559679340, 4)\n",
      "Query executed successfully. 1 rows affected.\n",
      "INSERT into ret_cluster_result (job_id, tweet_id, cluster_no) values (3855, 1778394271361781915, 4)\n",
      "Query executed successfully. 1 rows affected.\n",
      "INSERT into ret_cluster_result (job_id, tweet_id, cluster_no) values (3855, 1778445930758385989, 15)\n",
      "Query executed successfully. 1 rows affected.\n",
      "INSERT into ret_cluster_result (job_id, tweet_id, cluster_no) values (3855, 1778445717968744612, 0)\n",
      "Query executed successfully. 1 rows affected.\n",
      "INSERT into ret_cluster_result (job_id, tweet_id, cluster_no) values (3855, 1778445475743477781, 51)\n"
     ]
    },
    {
     "name": "stdout",
     "output_type": "stream",
     "text": [
      "Query executed successfully. 1 rows affected.\n",
      "INSERT into ret_cluster_result (job_id, tweet_id, cluster_no) values (3855, 1778394271361781915, 3)\n",
      "Query executed successfully. 1 rows affected.\n",
      "INSERT into ret_cluster_result (job_id, tweet_id, cluster_no) values (3855, 1778444802838642817, 15)\n",
      "Query executed successfully. 1 rows affected.\n",
      "INSERT into ret_cluster_result (job_id, tweet_id, cluster_no) values (3855, 1778394271361781915, 4)\n"
     ]
    },
    {
     "name": "stdout",
     "output_type": "stream",
     "text": [
      "Query executed successfully. 1 rows affected.\n",
      "INSERT into ret_cluster_result (job_id, tweet_id, cluster_no) values (3855, 1778443968293847203, 12)\n",
      "Query executed successfully. 1 rows affected.\n",
      "INSERT into ret_cluster_result (job_id, tweet_id, cluster_no) values (3855, 1778442933663875380, 1)\n",
      "Query executed successfully. 1 rows affected.\n",
      "INSERT into ret_cluster_result (job_id, tweet_id, cluster_no) values (3855, 1778441651972612192, 4)\n",
      "Query executed successfully. 1 rows affected.\n",
      "INSERT into ret_cluster_result (job_id, tweet_id, cluster_no) values (3855, 1778408063709401345, 50)\n",
      "Query executed successfully. 1 rows affected.\n",
      "INSERT into ret_cluster_result (job_id, tweet_id, cluster_no) values (3855, 1778439958669230178, 0)\n",
      "Query executed successfully. 1 rows affected.\n",
      "INSERT into ret_cluster_result (job_id, tweet_id, cluster_no) values (3855, 1778438504374272309, 4)\n",
      "Query executed successfully. 1 rows affected.\n",
      "INSERT into ret_cluster_result (job_id, tweet_id, cluster_no) values (3855, 1778438235535867924, 4)\n",
      "Query executed successfully. 1 rows affected.\n",
      "INSERT into ret_cluster_result (job_id, tweet_id, cluster_no) values (3855, 1778438155508846880, 0)\n",
      "Query executed successfully. 1 rows affected.\n",
      "INSERT into ret_cluster_result (job_id, tweet_id, cluster_no) values (3855, 1778403413606240375, 6)\n",
      "Query executed successfully. 1 rows affected.\n",
      "INSERT into ret_cluster_result (job_id, tweet_id, cluster_no) values (3855, 1778435243394973936, 6)\n"
     ]
    },
    {
     "name": "stdout",
     "output_type": "stream",
     "text": [
      "Query executed successfully. 1 rows affected.\n",
      "INSERT into ret_cluster_result (job_id, tweet_id, cluster_no) values (3855, 1778432334867685773, 0)\n",
      "Query executed successfully. 1 rows affected.\n",
      "INSERT into ret_cluster_result (job_id, tweet_id, cluster_no) values (3855, 1778431689200435509, 49)\n",
      "Query executed successfully. 1 rows affected.\n",
      "INSERT into ret_cluster_result (job_id, tweet_id, cluster_no) values (3855, 1778430325917389295, 0)\n"
     ]
    },
    {
     "name": "stdout",
     "output_type": "stream",
     "text": [
      "Query executed successfully. 1 rows affected.\n",
      "INSERT into ret_cluster_result (job_id, tweet_id, cluster_no) values (3855, 1778430195181166717, 45)\n",
      "Query executed successfully. 1 rows affected.\n",
      "INSERT into ret_cluster_result (job_id, tweet_id, cluster_no) values (3855, 1778429987890344088, 4)\n",
      "Query executed successfully. 1 rows affected.\n",
      "INSERT into ret_cluster_result (job_id, tweet_id, cluster_no) values (3855, 1778428962965721441, 12)\n",
      "Query executed successfully. 1 rows affected.\n",
      "INSERT into ret_cluster_result (job_id, tweet_id, cluster_no) values (3855, 1778428291893923908, 55)\n",
      "Query executed successfully. 1 rows affected.\n",
      "INSERT into ret_cluster_result (job_id, tweet_id, cluster_no) values (3855, 1778428218367729807, 43)\n",
      "Query executed successfully. 1 rows affected.\n",
      "INSERT into ret_cluster_result (job_id, tweet_id, cluster_no) values (3855, 1778427526353715293, 12)\n",
      "Query executed successfully. 1 rows affected.\n",
      "INSERT into ret_cluster_result (job_id, tweet_id, cluster_no) values (3855, 1778427500848136212, 0)\n",
      "Query executed successfully. 1 rows affected.\n",
      "INSERT into ret_cluster_result (job_id, tweet_id, cluster_no) values (3855, 1778426566793715721, 15)\n",
      "Query executed successfully. 1 rows affected.\n",
      "INSERT into ret_cluster_result (job_id, tweet_id, cluster_no) values (3855, 1778274274677231737, 1)\n"
     ]
    },
    {
     "name": "stdout",
     "output_type": "stream",
     "text": [
      "Query executed successfully. 1 rows affected.\n",
      "INSERT into ret_cluster_result (job_id, tweet_id, cluster_no) values (3855, 1778424856553435250, 4)\n",
      "Query executed successfully. 1 rows affected.\n",
      "INSERT into ret_cluster_result (job_id, tweet_id, cluster_no) values (3855, 1778424732154835336, 24)\n",
      "Query executed successfully. 1 rows affected.\n",
      "INSERT into ret_cluster_result (job_id, tweet_id, cluster_no) values (3855, 1778424388788044023, 0)\n"
     ]
    },
    {
     "name": "stdout",
     "output_type": "stream",
     "text": [
      "Query executed successfully. 1 rows affected.\n",
      "INSERT into ret_cluster_result (job_id, tweet_id, cluster_no) values (3855, 1778423612414017684, 4)\n",
      "Query executed successfully. 1 rows affected.\n",
      "INSERT into ret_cluster_result (job_id, tweet_id, cluster_no) values (3855, 1778421635789607340, 4)\n",
      "Query executed successfully. 1 rows affected.\n",
      "INSERT into ret_cluster_result (job_id, tweet_id, cluster_no) values (3855, 1778239457499677040, 4)\n",
      "Query executed successfully. 1 rows affected.\n",
      "INSERT into ret_cluster_result (job_id, tweet_id, cluster_no) values (3855, 1778420963778113726, 0)\n",
      "Query executed successfully. 1 rows affected.\n",
      "INSERT into ret_cluster_result (job_id, tweet_id, cluster_no) values (3855, 1778420714359418937, 0)\n",
      "Query executed successfully. 1 rows affected.\n",
      "INSERT into ret_cluster_result (job_id, tweet_id, cluster_no) values (3855, 1778412845400813744, 4)\n",
      "Query executed successfully. 1 rows affected.\n",
      "INSERT into ret_cluster_result (job_id, tweet_id, cluster_no) values (3855, 1778277636999135664, 1)\n",
      "Query executed successfully. 1 rows affected.\n",
      "INSERT into ret_cluster_result (job_id, tweet_id, cluster_no) values (3855, 1778418077211726111, 1)\n",
      "Query executed successfully. 1 rows affected.\n",
      "INSERT into ret_cluster_result (job_id, tweet_id, cluster_no) values (3855, 1778403035422634226, 4)\n",
      "Query executed successfully. 1 rows affected.\n",
      "INSERT into ret_cluster_result (job_id, tweet_id, cluster_no) values (3855, 1778417994139591020, 24)\n"
     ]
    },
    {
     "name": "stdout",
     "output_type": "stream",
     "text": [
      "Query executed successfully. 1 rows affected.\n",
      "INSERT into ret_cluster_result (job_id, tweet_id, cluster_no) values (3855, 1778417994139591020, 4)\n",
      "Query executed successfully. 1 rows affected.\n",
      "INSERT into ret_cluster_result (job_id, tweet_id, cluster_no) values (3855, 1778409840127221830, 0)\n",
      "Query executed successfully. 1 rows affected.\n",
      "INSERT into ret_cluster_result (job_id, tweet_id, cluster_no) values (3855, 1778415100690415999, 0)\n"
     ]
    },
    {
     "name": "stdout",
     "output_type": "stream",
     "text": [
      "Query executed successfully. 1 rows affected.\n",
      "INSERT into ret_cluster_result (job_id, tweet_id, cluster_no) values (3855, 1778413337912676352, 18)\n",
      "Query executed successfully. 1 rows affected.\n",
      "INSERT into ret_cluster_result (job_id, tweet_id, cluster_no) values (3855, 1778413218118926552, 0)\n",
      "Query executed successfully. 1 rows affected.\n",
      "INSERT into ret_cluster_result (job_id, tweet_id, cluster_no) values (3855, 1778412989110239672, 4)\n",
      "Query executed successfully. 1 rows affected.\n",
      "INSERT into ret_cluster_result (job_id, tweet_id, cluster_no) values (3855, 1778409840127221830, 0)\n",
      "Query executed successfully. 1 rows affected.\n",
      "INSERT into ret_cluster_result (job_id, tweet_id, cluster_no) values (3855, 1778390954136789028, 0)\n",
      "Query executed successfully. 1 rows affected.\n",
      "INSERT into ret_cluster_result (job_id, tweet_id, cluster_no) values (3855, 1778409048754311553, 19)\n",
      "Query executed successfully. 1 rows affected.\n",
      "INSERT into ret_cluster_result (job_id, tweet_id, cluster_no) values (3855, 1778408800854143138, 43)\n",
      "Query executed successfully. 1 rows affected.\n",
      "INSERT into ret_cluster_result (job_id, tweet_id, cluster_no) values (3855, 1778408435576422510, 24)\n",
      "Query executed successfully. 1 rows affected.\n",
      "INSERT into ret_cluster_result (job_id, tweet_id, cluster_no) values (3855, 1778390964211454107, 53)\n"
     ]
    },
    {
     "name": "stdout",
     "output_type": "stream",
     "text": [
      "Query executed successfully. 1 rows affected.\n",
      "INSERT into ret_cluster_result (job_id, tweet_id, cluster_no) values (3855, 1778408040997503297, 4)\n",
      "Query executed successfully. 1 rows affected.\n",
      "INSERT into ret_cluster_result (job_id, tweet_id, cluster_no) values (3855, 1778390964211454107, 53)\n",
      "Query executed successfully. 1 rows affected.\n",
      "INSERT into ret_cluster_result (job_id, tweet_id, cluster_no) values (3855, 1778407771790033227, 0)\n"
     ]
    },
    {
     "name": "stdout",
     "output_type": "stream",
     "text": [
      "Query executed successfully. 1 rows affected.\n",
      "INSERT into ret_cluster_result (job_id, tweet_id, cluster_no) values (3855, 1778277615679443145, 4)\n",
      "Query executed successfully. 1 rows affected.\n",
      "INSERT into ret_cluster_result (job_id, tweet_id, cluster_no) values (3855, 1777711410350379129, 4)\n",
      "Query executed successfully. 1 rows affected.\n",
      "INSERT into ret_cluster_result (job_id, tweet_id, cluster_no) values (3855, 1778405099510866343, 10)\n",
      "Query executed successfully. 1 rows affected.\n",
      "INSERT into ret_cluster_result (job_id, tweet_id, cluster_no) values (3855, 1778404840345129373, 0)\n",
      "Query executed successfully. 1 rows affected.\n",
      "INSERT into ret_cluster_result (job_id, tweet_id, cluster_no) values (3855, 1778404166672515497, 8)\n",
      "Query executed successfully. 1 rows affected.\n",
      "INSERT into ret_cluster_result (job_id, tweet_id, cluster_no) values (3855, 1778404082149188079, 0)\n",
      "Query executed successfully. 1 rows affected.\n",
      "INSERT into ret_cluster_result (job_id, tweet_id, cluster_no) values (3855, 1778403625963794449, 0)\n",
      "Query executed successfully. 1 rows affected.\n",
      "INSERT into ret_cluster_result (job_id, tweet_id, cluster_no) values (3855, 1778403457856417956, 0)\n",
      "Query executed successfully. 1 rows affected.\n",
      "INSERT into ret_cluster_result (job_id, tweet_id, cluster_no) values (3855, 1777813802718736768, 0)\n",
      "Query executed successfully. 1 rows affected.\n",
      "INSERT into ret_cluster_result (job_id, tweet_id, cluster_no) values (3855, 1777811056569864702, 6)\n"
     ]
    },
    {
     "name": "stdout",
     "output_type": "stream",
     "text": [
      "Query executed successfully. 1 rows affected.\n",
      "INSERT into ret_cluster_result (job_id, tweet_id, cluster_no) values (3855, 1777807447576457429, 2)\n",
      "Query executed successfully. 1 rows affected.\n",
      "INSERT into ret_cluster_result (job_id, tweet_id, cluster_no) values (3855, 1777802044146880897, 0)\n"
     ]
    },
    {
     "name": "stdout",
     "output_type": "stream",
     "text": [
      "Query executed successfully. 1 rows affected.\n",
      "INSERT into ret_cluster_result (job_id, tweet_id, cluster_no) values (3855, 1777790440252600668, 0)\n",
      "Query executed successfully. 1 rows affected.\n",
      "INSERT into ret_cluster_result (job_id, tweet_id, cluster_no) values (3855, 1777788636693471566, 4)\n",
      "Query executed successfully. 1 rows affected.\n",
      "INSERT into ret_cluster_result (job_id, tweet_id, cluster_no) values (3855, 1777787320457994278, 0)\n",
      "Query executed successfully. 1 rows affected.\n",
      "INSERT into ret_cluster_result (job_id, tweet_id, cluster_no) values (3855, 1777784115154346116, 4)\n",
      "Query executed successfully. 1 rows affected.\n",
      "INSERT into ret_cluster_result (job_id, tweet_id, cluster_no) values (3855, 1777785100526379102, 0)\n",
      "Query executed successfully. 1 rows affected.\n",
      "INSERT into ret_cluster_result (job_id, tweet_id, cluster_no) values (3855, 1777770525604933962, 4)\n",
      "Query executed successfully. 1 rows affected.\n",
      "INSERT into ret_cluster_result (job_id, tweet_id, cluster_no) values (3855, 1777755535242137794, 25)\n",
      "Query executed successfully. 1 rows affected.\n",
      "INSERT into ret_cluster_result (job_id, tweet_id, cluster_no) values (3855, 1777300830292451573, 0)\n",
      "Query executed successfully. 1 rows affected.\n",
      "INSERT into ret_cluster_result (job_id, tweet_id, cluster_no) values (3855, 1777755535242137794, 56)\n",
      "Query executed successfully. 1 rows affected.\n",
      "INSERT into ret_cluster_result (job_id, tweet_id, cluster_no) values (3855, 1777755535242137794, 10)\n"
     ]
    },
    {
     "name": "stdout",
     "output_type": "stream",
     "text": [
      "Query executed successfully. 1 rows affected.\n",
      "INSERT into ret_cluster_result (job_id, tweet_id, cluster_no) values (3855, 1777743263036039415, 0)\n",
      "Query executed successfully. 1 rows affected.\n",
      "INSERT into ret_cluster_result (job_id, tweet_id, cluster_no) values (3855, 1777633786651394526, 4)\n"
     ]
    },
    {
     "name": "stdout",
     "output_type": "stream",
     "text": [
      "Query executed successfully. 1 rows affected.\n",
      "INSERT into ret_cluster_result (job_id, tweet_id, cluster_no) values (3855, 1777741723831046460, 1)\n",
      "Query executed successfully. 1 rows affected.\n",
      "INSERT into ret_cluster_result (job_id, tweet_id, cluster_no) values (3855, 1777741723495473603, 0)\n",
      "Query executed successfully. 1 rows affected.\n",
      "INSERT into ret_cluster_result (job_id, tweet_id, cluster_no) values (3855, 1777736411288100937, 4)\n",
      "Query executed successfully. 1 rows affected.\n",
      "INSERT into ret_cluster_result (job_id, tweet_id, cluster_no) values (3855, 1777732167688151472, 0)\n",
      "Query executed successfully. 1 rows affected.\n",
      "INSERT into ret_cluster_result (job_id, tweet_id, cluster_no) values (3855, 1777401722945544542, 0)\n",
      "Query executed successfully. 1 rows affected.\n",
      "INSERT into ret_cluster_result (job_id, tweet_id, cluster_no) values (3855, 1777724721510989932, 0)\n",
      "Query executed successfully. 1 rows affected.\n",
      "INSERT into ret_cluster_result (job_id, tweet_id, cluster_no) values (3855, 1777722904114761839, 21)\n",
      "Query executed successfully. 1 rows affected.\n",
      "INSERT into ret_cluster_result (job_id, tweet_id, cluster_no) values (3855, 1777720827372331382, 0)\n",
      "Query executed successfully. 1 rows affected.\n",
      "INSERT into ret_cluster_result (job_id, tweet_id, cluster_no) values (3855, 1777440122335600729, 15)\n",
      "Query executed successfully. 1 rows affected.\n",
      "INSERT into ret_cluster_result (job_id, tweet_id, cluster_no) values (3855, 1777300148797702426, 4)\n",
      "Query executed successfully. 1 rows affected.\n",
      "INSERT into ret_cluster_result (job_id, tweet_id, cluster_no) values (3855, 1777395588536975816, 6)\n"
     ]
    },
    {
     "name": "stdout",
     "output_type": "stream",
     "text": [
      "Query executed successfully. 1 rows affected.\n",
      "INSERT into ret_cluster_result (job_id, tweet_id, cluster_no) values (3855, 1777607355393364435, 2)\n",
      "Query executed successfully. 1 rows affected.\n",
      "INSERT into ret_cluster_result (job_id, tweet_id, cluster_no) values (3855, 1777602735602319566, 1)\n"
     ]
    },
    {
     "name": "stdout",
     "output_type": "stream",
     "text": [
      "Query executed successfully. 1 rows affected.\n",
      "INSERT into ret_cluster_result (job_id, tweet_id, cluster_no) values (3855, 1777708919411864015, 60)\n",
      "Query executed successfully. 1 rows affected.\n",
      "INSERT into ret_cluster_result (job_id, tweet_id, cluster_no) values (3855, 1777706320126202311, 33)\n",
      "Query executed successfully. 1 rows affected.\n",
      "INSERT into ret_cluster_result (job_id, tweet_id, cluster_no) values (3855, 1777705618456920112, 38)\n",
      "Query executed successfully. 1 rows affected.\n",
      "INSERT into ret_cluster_result (job_id, tweet_id, cluster_no) values (3855, 1777705552895721660, 43)\n",
      "Query executed successfully. 1 rows affected.\n",
      "INSERT into ret_cluster_result (job_id, tweet_id, cluster_no) values (3855, 1777703734841114651, 45)\n",
      "Query executed successfully. 1 rows affected.\n",
      "INSERT into ret_cluster_result (job_id, tweet_id, cluster_no) values (3855, 1777701889372537287, 0)\n",
      "Query executed successfully. 1 rows affected.\n",
      "INSERT into ret_cluster_result (job_id, tweet_id, cluster_no) values (3855, 1777409928530980876, 4)\n",
      "Query executed successfully. 1 rows affected.\n",
      "INSERT into ret_cluster_result (job_id, tweet_id, cluster_no) values (3855, 1777697537492721956, 1)\n",
      "Query executed successfully. 1 rows affected.\n",
      "INSERT into ret_cluster_result (job_id, tweet_id, cluster_no) values (3855, 1777698479974027373, 0)\n",
      "Query executed successfully. 1 rows affected.\n",
      "INSERT into ret_cluster_result (job_id, tweet_id, cluster_no) values (3855, 1777697979501019282, 4)\n",
      "Query executed successfully. 1 rows affected.\n",
      "INSERT into ret_cluster_result (job_id, tweet_id, cluster_no) values (3855, 1777695040816484355, 4)\n"
     ]
    },
    {
     "name": "stdout",
     "output_type": "stream",
     "text": [
      "Query executed successfully. 1 rows affected.\n",
      "INSERT into ret_cluster_result (job_id, tweet_id, cluster_no) values (3855, 1777323382842786124, 0)\n",
      "Query executed successfully. 1 rows affected.\n",
      "INSERT into ret_cluster_result (job_id, tweet_id, cluster_no) values (3855, 1777692042077868467, 12)\n"
     ]
    },
    {
     "name": "stdout",
     "output_type": "stream",
     "text": [
      "Query executed successfully. 1 rows affected.\n",
      "INSERT into ret_cluster_result (job_id, tweet_id, cluster_no) values (3855, 1777691692495434047, 15)\n",
      "Query executed successfully. 1 rows affected.\n",
      "INSERT into ret_cluster_result (job_id, tweet_id, cluster_no) values (3855, 1777294473740874017, 4)\n",
      "Query executed successfully. 1 rows affected.\n",
      "INSERT into ret_cluster_result (job_id, tweet_id, cluster_no) values (3855, 1777690997117386973, 60)\n",
      "Query executed successfully. 1 rows affected.\n",
      "INSERT into ret_cluster_result (job_id, tweet_id, cluster_no) values (3855, 1777449552448037077, 1)\n",
      "Query executed successfully. 1 rows affected.\n",
      "INSERT into ret_cluster_result (job_id, tweet_id, cluster_no) values (3855, 1777689894120550895, 10)\n",
      "Query executed successfully. 1 rows affected.\n",
      "INSERT into ret_cluster_result (job_id, tweet_id, cluster_no) values (3855, 1579421038181777408, 19)\n",
      "Query executed successfully. 1 rows affected.\n",
      "INSERT into ret_cluster_result (job_id, tweet_id, cluster_no) values (3855, 1777687810348396966, 42)\n",
      "Query executed successfully. 1 rows affected.\n",
      "INSERT into ret_cluster_result (job_id, tweet_id, cluster_no) values (3855, 1777685896860447112, 0)\n",
      "Query executed successfully. 1 rows affected.\n",
      "INSERT into ret_cluster_result (job_id, tweet_id, cluster_no) values (3855, 1777685776261681179, 1)\n",
      "Query executed successfully. 1 rows affected.\n",
      "INSERT into ret_cluster_result (job_id, tweet_id, cluster_no) values (3855, 1777682877200904526, 54)\n",
      "Query executed successfully. 1 rows affected.\n",
      "INSERT into ret_cluster_result (job_id, tweet_id, cluster_no) values (3855, 1777669791852966008, 6)\n"
     ]
    },
    {
     "name": "stdout",
     "output_type": "stream",
     "text": [
      "Query executed successfully. 1 rows affected.\n",
      "INSERT into ret_cluster_result (job_id, tweet_id, cluster_no) values (3855, 1777682380943233156, 0)\n",
      "Query executed successfully. 1 rows affected.\n",
      "INSERT into ret_cluster_result (job_id, tweet_id, cluster_no) values (3855, 1777681976754835637, 7)\n"
     ]
    },
    {
     "name": "stdout",
     "output_type": "stream",
     "text": [
      "Query executed successfully. 1 rows affected.\n",
      "INSERT into ret_cluster_result (job_id, tweet_id, cluster_no) values (3855, 1777680192703484181, 17)\n",
      "Query executed successfully. 1 rows affected.\n",
      "INSERT into ret_cluster_result (job_id, tweet_id, cluster_no) values (3855, 1777368450102407394, 3)\n",
      "Query executed successfully. 1 rows affected.\n",
      "INSERT into ret_cluster_result (job_id, tweet_id, cluster_no) values (3855, 1777667042780316032, 6)\n",
      "Query executed successfully. 1 rows affected.\n",
      "INSERT into ret_cluster_result (job_id, tweet_id, cluster_no) values (3855, 1777669725775937651, 0)\n",
      "Query executed successfully. 1 rows affected.\n",
      "INSERT into ret_cluster_result (job_id, tweet_id, cluster_no) values (3855, 1777668017742119349, 42)\n",
      "Query executed successfully. 1 rows affected.\n",
      "INSERT into ret_cluster_result (job_id, tweet_id, cluster_no) values (3855, 1777667805120278803, 43)\n",
      "Query executed successfully. 1 rows affected.\n",
      "INSERT into ret_cluster_result (job_id, tweet_id, cluster_no) values (3855, 1777665973115355448, 6)\n",
      "Query executed successfully. 1 rows affected.\n",
      "INSERT into ret_cluster_result (job_id, tweet_id, cluster_no) values (3855, 1777665625025884173, 4)\n",
      "Query executed successfully. 1 rows affected.\n",
      "INSERT into ret_cluster_result (job_id, tweet_id, cluster_no) values (3855, 1676461683533836288, 1)\n",
      "Query executed successfully. 1 rows affected.\n",
      "INSERT into ret_cluster_result (job_id, tweet_id, cluster_no) values (3855, 1777664902171087324, 0)\n",
      "Query executed successfully. 1 rows affected.\n",
      "INSERT into ret_cluster_result (job_id, tweet_id, cluster_no) values (3855, 1777662752883896757, 0)\n"
     ]
    },
    {
     "name": "stdout",
     "output_type": "stream",
     "text": [
      "Query executed successfully. 1 rows affected.\n",
      "INSERT into ret_cluster_result (job_id, tweet_id, cluster_no) values (3855, 1777662688123908327, 4)\n",
      "Query executed successfully. 1 rows affected.\n",
      "INSERT into ret_cluster_result (job_id, tweet_id, cluster_no) values (3855, 1777661221480587432, 55)\n"
     ]
    },
    {
     "name": "stdout",
     "output_type": "stream",
     "text": [
      "Query executed successfully. 1 rows affected.\n",
      "INSERT into ret_cluster_result (job_id, tweet_id, cluster_no) values (3855, 1777660997009813558, 4)\n",
      "Query executed successfully. 1 rows affected.\n",
      "INSERT into ret_cluster_result (job_id, tweet_id, cluster_no) values (3855, 1777651464078274826, 0)\n",
      "Query executed successfully. 1 rows affected.\n",
      "INSERT into ret_cluster_result (job_id, tweet_id, cluster_no) values (3855, 1777649957094244661, 58)\n",
      "Query executed successfully. 1 rows affected.\n",
      "INSERT into ret_cluster_result (job_id, tweet_id, cluster_no) values (3855, 1777649156275818803, 18)\n",
      "Query executed successfully. 1 rows affected.\n",
      "INSERT into ret_cluster_result (job_id, tweet_id, cluster_no) values (3855, 1777524583819563138, 1)\n",
      "Query executed successfully. 1 rows affected.\n",
      "INSERT into ret_cluster_result (job_id, tweet_id, cluster_no) values (3855, 1777225684420624827, 15)\n",
      "Query executed successfully. 1 rows affected.\n",
      "INSERT into ret_cluster_result (job_id, tweet_id, cluster_no) values (3855, 1777537926492258625, 4)\n",
      "Query executed successfully. 1 rows affected.\n",
      "INSERT into ret_cluster_result (job_id, tweet_id, cluster_no) values (3855, 1777641055355039862, 0)\n",
      "Query executed successfully. 1 rows affected.\n",
      "INSERT into ret_cluster_result (job_id, tweet_id, cluster_no) values (3855, 1777637584409141578, 0)\n",
      "Query executed successfully. 1 rows affected.\n",
      "INSERT into ret_cluster_result (job_id, tweet_id, cluster_no) values (3855, 1777637510807449882, 1)\n",
      "Query executed successfully. 1 rows affected.\n",
      "INSERT into ret_cluster_result (job_id, tweet_id, cluster_no) values (3855, 1777635087737143682, 23)\n"
     ]
    },
    {
     "name": "stdout",
     "output_type": "stream",
     "text": [
      "Query executed successfully. 1 rows affected.\n",
      "INSERT into ret_cluster_result (job_id, tweet_id, cluster_no) values (3855, 1777635027343307013, 4)\n",
      "Query executed successfully. 1 rows affected.\n",
      "INSERT into ret_cluster_result (job_id, tweet_id, cluster_no) values (3855, 1777635019927773507, 4)\n"
     ]
    },
    {
     "name": "stdout",
     "output_type": "stream",
     "text": [
      "Query executed successfully. 1 rows affected.\n",
      "INSERT into ret_cluster_result (job_id, tweet_id, cluster_no) values (3855, 1777615417395077361, 7)\n",
      "Query executed successfully. 1 rows affected.\n",
      "INSERT into ret_cluster_result (job_id, tweet_id, cluster_no) values (3855, 1777634440904143180, 0)\n",
      "Query executed successfully. 1 rows affected.\n",
      "INSERT into ret_cluster_result (job_id, tweet_id, cluster_no) values (3855, 1777634423711645928, 0)\n",
      "Query executed successfully. 1 rows affected.\n",
      "INSERT into ret_cluster_result (job_id, tweet_id, cluster_no) values (3855, 1777634114130079803, 4)\n",
      "Query executed successfully. 1 rows affected.\n",
      "INSERT into ret_cluster_result (job_id, tweet_id, cluster_no) values (3855, 1777633845501718917, 12)\n",
      "Query executed successfully. 1 rows affected.\n",
      "INSERT into ret_cluster_result (job_id, tweet_id, cluster_no) values (3855, 1777631322464243854, 4)\n",
      "Query executed successfully. 1 rows affected.\n",
      "INSERT into ret_cluster_result (job_id, tweet_id, cluster_no) values (3855, 1777631313152864519, 4)\n",
      "Query executed successfully. 1 rows affected.\n",
      "INSERT into ret_cluster_result (job_id, tweet_id, cluster_no) values (3855, 1777334256307466575, 4)\n",
      "Query executed successfully. 1 rows affected.\n",
      "INSERT into ret_cluster_result (job_id, tweet_id, cluster_no) values (3855, 1777629161995083878, 23)\n",
      "Query executed successfully. 1 rows affected.\n",
      "INSERT into ret_cluster_result (job_id, tweet_id, cluster_no) values (3855, 1777629054104908207, 4)\n",
      "Query executed successfully. 1 rows affected.\n",
      "INSERT into ret_cluster_result (job_id, tweet_id, cluster_no) values (3855, 1777625454733668496, 0)\n"
     ]
    },
    {
     "name": "stdout",
     "output_type": "stream",
     "text": [
      "Query executed successfully. 1 rows affected.\n",
      "INSERT into ret_cluster_result (job_id, tweet_id, cluster_no) values (3855, 1777624166881010020, 54)\n",
      "Query executed successfully. 1 rows affected.\n",
      "INSERT into ret_cluster_result (job_id, tweet_id, cluster_no) values (3855, 1777623688935825599, 0)\n"
     ]
    },
    {
     "name": "stdout",
     "output_type": "stream",
     "text": [
      "Query executed successfully. 1 rows affected.\n",
      "INSERT into ret_cluster_result (job_id, tweet_id, cluster_no) values (3855, 1777623447364923502, 57)\n",
      "Query executed successfully. 1 rows affected.\n",
      "INSERT into ret_cluster_result (job_id, tweet_id, cluster_no) values (3855, 1777622564598153495, 23)\n",
      "Query executed successfully. 1 rows affected.\n",
      "INSERT into ret_cluster_result (job_id, tweet_id, cluster_no) values (3855, 1777622559200092569, 0)\n",
      "Query executed successfully. 1 rows affected.\n",
      "INSERT into ret_cluster_result (job_id, tweet_id, cluster_no) values (3855, 1777622520901853635, 20)\n",
      "Query executed successfully. 1 rows affected.\n",
      "INSERT into ret_cluster_result (job_id, tweet_id, cluster_no) values (3855, 1777622060941877622, 57)\n",
      "Query executed successfully. 1 rows affected.\n",
      "INSERT into ret_cluster_result (job_id, tweet_id, cluster_no) values (3855, 1777620431249273104, 39)\n",
      "Query executed successfully. 1 rows affected.\n",
      "INSERT into ret_cluster_result (job_id, tweet_id, cluster_no) values (3855, 1777620286168342827, 44)\n",
      "Query executed successfully. 1 rows affected.\n",
      "INSERT into ret_cluster_result (job_id, tweet_id, cluster_no) values (3855, 1777619072642929015, 29)\n",
      "Query executed successfully. 1 rows affected.\n",
      "INSERT into ret_cluster_result (job_id, tweet_id, cluster_no) values (3855, 1777617813546451320, 27)\n",
      "Query executed successfully. 1 rows affected.\n",
      "INSERT into ret_cluster_result (job_id, tweet_id, cluster_no) values (3855, 1777616969371406487, 36)\n"
     ]
    },
    {
     "name": "stdout",
     "output_type": "stream",
     "text": [
      "Query executed successfully. 1 rows affected.\n",
      "INSERT into ret_cluster_result (job_id, tweet_id, cluster_no) values (3855, 1777616517258957158, 30)\n",
      "Query executed successfully. 1 rows affected.\n",
      "INSERT into ret_cluster_result (job_id, tweet_id, cluster_no) values (3855, 1777321857638641734, 61)\n"
     ]
    },
    {
     "name": "stdout",
     "output_type": "stream",
     "text": [
      "Query executed successfully. 1 rows affected.\n",
      "INSERT into ret_cluster_result (job_id, tweet_id, cluster_no) values (3855, 1777615417395077361, 7)\n",
      "Query executed successfully. 1 rows affected.\n",
      "INSERT into ret_cluster_result (job_id, tweet_id, cluster_no) values (3855, 1777615109705158694, 60)\n",
      "Query executed successfully. 1 rows affected.\n",
      "INSERT into ret_cluster_result (job_id, tweet_id, cluster_no) values (3855, 1777614310417604923, 0)\n",
      "Query executed successfully. 1 rows affected.\n",
      "INSERT into ret_cluster_result (job_id, tweet_id, cluster_no) values (3855, 1777607385974255749, 2)\n",
      "Query executed successfully. 1 rows affected.\n",
      "INSERT into ret_cluster_result (job_id, tweet_id, cluster_no) values (3855, 1777613285224861794, 44)\n",
      "Query executed successfully. 1 rows affected.\n",
      "INSERT into ret_cluster_result (job_id, tweet_id, cluster_no) values (3855, 1777612837268992348, 0)\n",
      "Query executed successfully. 1 rows affected.\n",
      "INSERT into ret_cluster_result (job_id, tweet_id, cluster_no) values (3855, 1777612560927211984, 45)\n",
      "Query executed successfully. 1 rows affected.\n",
      "INSERT into ret_cluster_result (job_id, tweet_id, cluster_no) values (3855, 1777612521261682863, 17)\n",
      "Query executed successfully. 1 rows affected.\n",
      "INSERT into ret_cluster_result (job_id, tweet_id, cluster_no) values (3855, 1777611490163319064, 4)\n",
      "Query executed successfully. 1 rows affected.\n",
      "INSERT into ret_cluster_result (job_id, tweet_id, cluster_no) values (3855, 1777609171350745274, 0)\n",
      "Query executed successfully. 1 rows affected.\n",
      "INSERT into ret_cluster_result (job_id, tweet_id, cluster_no) values (3855, 1777608748392996889, 21)\n"
     ]
    },
    {
     "name": "stdout",
     "output_type": "stream",
     "text": [
      "Query executed successfully. 1 rows affected.\n",
      "INSERT into ret_cluster_result (job_id, tweet_id, cluster_no) values (3855, 1777608593631572370, 0)\n",
      "Query executed successfully. 1 rows affected.\n",
      "INSERT into ret_cluster_result (job_id, tweet_id, cluster_no) values (3855, 1777607219682455856, 4)\n"
     ]
    },
    {
     "name": "stdout",
     "output_type": "stream",
     "text": [
      "Query executed successfully. 1 rows affected.\n",
      "INSERT into ret_cluster_result (job_id, tweet_id, cluster_no) values (3855, 1777605164427296954, 44)\n",
      "Query executed successfully. 1 rows affected.\n",
      "INSERT into ret_cluster_result (job_id, tweet_id, cluster_no) values (3855, 1777275742847426811, 2)\n",
      "Query executed successfully. 1 rows affected.\n",
      "INSERT into ret_cluster_result (job_id, tweet_id, cluster_no) values (3855, 1777277649150185732, 12)\n",
      "Query executed successfully. 1 rows affected.\n",
      "INSERT into ret_cluster_result (job_id, tweet_id, cluster_no) values (3855, 1777277155040251967, 31)\n",
      "Query executed successfully. 1 rows affected.\n",
      "INSERT into ret_cluster_result (job_id, tweet_id, cluster_no) values (3855, 1777275236292952255, 4)\n",
      "Query executed successfully. 1 rows affected.\n",
      "INSERT into ret_cluster_result (job_id, tweet_id, cluster_no) values (3855, 1777274913629356432, 17)\n",
      "Query executed successfully. 1 rows affected.\n",
      "INSERT into ret_cluster_result (job_id, tweet_id, cluster_no) values (3855, 1777274568945652096, 0)\n",
      "Query executed successfully. 1 rows affected.\n",
      "INSERT into ret_cluster_result (job_id, tweet_id, cluster_no) values (3855, 1777270639142809947, 1)\n",
      "Query executed successfully. 1 rows affected.\n",
      "INSERT into ret_cluster_result (job_id, tweet_id, cluster_no) values (3855, 1777269918913720349, 39)\n",
      "Query executed successfully. 1 rows affected.\n",
      "INSERT into ret_cluster_result (job_id, tweet_id, cluster_no) values (3855, 1777264780606386417, 12)\n",
      "Query executed successfully. 1 rows affected.\n",
      "INSERT into ret_cluster_result (job_id, tweet_id, cluster_no) values (3855, 1777264600326558085, 0)\n"
     ]
    },
    {
     "name": "stdout",
     "output_type": "stream",
     "text": [
      "Query executed successfully. 1 rows affected.\n",
      "INSERT into ret_cluster_result (job_id, tweet_id, cluster_no) values (3855, 1777263412055052342, 1)\n",
      "Query executed successfully. 1 rows affected.\n",
      "INSERT into ret_cluster_result (job_id, tweet_id, cluster_no) values (3855, 1777261387066024288, 0)\n"
     ]
    },
    {
     "name": "stdout",
     "output_type": "stream",
     "text": [
      "Query executed successfully. 1 rows affected.\n",
      "INSERT into ret_cluster_result (job_id, tweet_id, cluster_no) values (3855, 1777260301567627745, 54)\n",
      "Query executed successfully. 1 rows affected.\n",
      "INSERT into ret_cluster_result (job_id, tweet_id, cluster_no) values (3855, 1777260100216078766, 0)\n",
      "Query executed successfully. 1 rows affected.\n",
      "INSERT into ret_cluster_result (job_id, tweet_id, cluster_no) values (3855, 1777259943390806045, 1)\n",
      "Query executed successfully. 1 rows affected.\n",
      "INSERT into ret_cluster_result (job_id, tweet_id, cluster_no) values (3855, 1777256064431296746, 0)\n",
      "Query executed successfully. 1 rows affected.\n",
      "INSERT into ret_cluster_result (job_id, tweet_id, cluster_no) values (3855, 1777249284334764427, 1)\n",
      "Query executed successfully. 1 rows affected.\n",
      "INSERT into ret_cluster_result (job_id, tweet_id, cluster_no) values (3855, 1777253397881590137, 1)\n",
      "Query executed successfully. 1 rows affected.\n",
      "INSERT into ret_cluster_result (job_id, tweet_id, cluster_no) values (3855, 1777244773083959457, 12)\n",
      "Query executed successfully. 1 rows affected.\n",
      "INSERT into ret_cluster_result (job_id, tweet_id, cluster_no) values (3855, 1777241995666244093, 0)\n",
      "Query executed successfully. 1 rows affected.\n",
      "INSERT into ret_cluster_result (job_id, tweet_id, cluster_no) values (3855, 1777237478967033899, 13)\n",
      "Query executed successfully. 1 rows affected.\n",
      "INSERT into ret_cluster_result (job_id, tweet_id, cluster_no) values (3855, 1776974954124173676, 4)\n",
      "Query executed successfully. 1 rows affected.\n",
      "INSERT into ret_cluster_result (job_id, tweet_id, cluster_no) values (3855, 1777229992432132290, 12)\n"
     ]
    },
    {
     "name": "stdout",
     "output_type": "stream",
     "text": [
      "Query executed successfully. 1 rows affected.\n",
      "INSERT into ret_cluster_result (job_id, tweet_id, cluster_no) values (3855, 1777229944508031449, 12)\n",
      "Query executed successfully. 1 rows affected.\n",
      "INSERT into ret_cluster_result (job_id, tweet_id, cluster_no) values (3855, 1777227882324017228, 15)\n"
     ]
    },
    {
     "name": "stdout",
     "output_type": "stream",
     "text": [
      "Query executed successfully. 1 rows affected.\n",
      "INSERT into ret_cluster_result (job_id, tweet_id, cluster_no) values (3855, 1776538982127640695, 0)\n",
      "Query executed successfully. 1 rows affected.\n",
      "INSERT into ret_cluster_result (job_id, tweet_id, cluster_no) values (3855, 1777220495110185355, 4)\n",
      "Query executed successfully. 1 rows affected.\n",
      "INSERT into ret_cluster_result (job_id, tweet_id, cluster_no) values (3855, 1777127217228849209, 4)\n",
      "Query executed successfully. 1 rows affected.\n",
      "INSERT into ret_cluster_result (job_id, tweet_id, cluster_no) values (3855, 1777217693491323354, 15)\n",
      "Query executed successfully. 1 rows affected.\n",
      "INSERT into ret_cluster_result (job_id, tweet_id, cluster_no) values (3855, 1777215215228030979, 0)\n",
      "Query executed successfully. 1 rows affected.\n",
      "INSERT into ret_cluster_result (job_id, tweet_id, cluster_no) values (3855, 1777214315898212401, 0)\n",
      "Query executed successfully. 1 rows affected.\n",
      "INSERT into ret_cluster_result (job_id, tweet_id, cluster_no) values (3855, 1777213372108275999, 4)\n",
      "Query executed successfully. 1 rows affected.\n",
      "INSERT into ret_cluster_result (job_id, tweet_id, cluster_no) values (3855, 1777197335086354513, 2)\n",
      "Query executed successfully. 1 rows affected.\n",
      "INSERT into ret_cluster_result (job_id, tweet_id, cluster_no) values (3855, 1777196992822690148, 0)\n",
      "Query executed successfully. 1 rows affected.\n",
      "INSERT into ret_cluster_result (job_id, tweet_id, cluster_no) values (3855, 1777190645167243422, 6)\n",
      "Query executed successfully. 1 rows affected.\n",
      "INSERT into ret_cluster_result (job_id, tweet_id, cluster_no) values (3855, 1777190266207895769, 0)\n"
     ]
    },
    {
     "name": "stdout",
     "output_type": "stream",
     "text": [
      "Query executed successfully. 1 rows affected.\n",
      "INSERT into ret_cluster_result (job_id, tweet_id, cluster_no) values (3855, 1777033073722597832, 4)\n"
     ]
    },
    {
     "name": "stdout",
     "output_type": "stream",
     "text": [
      "Query executed successfully. 1 rows affected.\n",
      "INSERT into ret_cluster_result (job_id, tweet_id, cluster_no) values (3855, 1777182373668618299, 43)\n",
      "Query executed successfully. 1 rows affected.\n",
      "INSERT into ret_cluster_result (job_id, tweet_id, cluster_no) values (3855, 1777182296166011143, 0)\n",
      "Query executed successfully. 1 rows affected.\n",
      "INSERT into ret_cluster_result (job_id, tweet_id, cluster_no) values (3855, 1776243623912194393, 34)\n",
      "Query executed successfully. 1 rows affected.\n",
      "INSERT into ret_cluster_result (job_id, tweet_id, cluster_no) values (3855, 1777174552855953413, 34)\n",
      "Query executed successfully. 1 rows affected.\n",
      "INSERT into ret_cluster_result (job_id, tweet_id, cluster_no) values (3855, 1777171681804444070, 38)\n",
      "Query executed successfully. 1 rows affected.\n",
      "INSERT into ret_cluster_result (job_id, tweet_id, cluster_no) values (3855, 1777168399329587672, 0)\n",
      "Query executed successfully. 1 rows affected.\n",
      "INSERT into ret_cluster_result (job_id, tweet_id, cluster_no) values (3855, 1777125978298282389, 4)\n",
      "Query executed successfully. 1 rows affected.\n",
      "INSERT into ret_cluster_result (job_id, tweet_id, cluster_no) values (3855, 1777158456622842212, 0)\n",
      "Query executed successfully. 1 rows affected.\n",
      "INSERT into ret_cluster_result (job_id, tweet_id, cluster_no) values (3855, 1777157325851091312, 43)\n",
      "Query executed successfully. 1 rows affected.\n",
      "INSERT into ret_cluster_result (job_id, tweet_id, cluster_no) values (3855, 1777154585234153745, 0)\n",
      "Query executed successfully. 1 rows affected.\n",
      "INSERT into ret_cluster_result (job_id, tweet_id, cluster_no) values (3855, 1777151204864496068, 0)\n",
      "Query executed successfully. 1 rows affected.\n",
      "INSERT into ret_cluster_result (job_id, tweet_id, cluster_no) values (3855, 1777146709430456518, 15)\n"
     ]
    },
    {
     "name": "stdout",
     "output_type": "stream",
     "text": [
      "Query executed successfully. 1 rows affected.\n",
      "INSERT into ret_cluster_result (job_id, tweet_id, cluster_no) values (3855, 1777145820091166727, 0)\n"
     ]
    },
    {
     "name": "stdout",
     "output_type": "stream",
     "text": [
      "Query executed successfully. 1 rows affected.\n",
      "INSERT into ret_cluster_result (job_id, tweet_id, cluster_no) values (3855, 1777143590847733939, 4)\n",
      "Query executed successfully. 1 rows affected.\n",
      "INSERT into ret_cluster_result (job_id, tweet_id, cluster_no) values (3855, 1777145358583525490, 6)\n",
      "Query executed successfully. 1 rows affected.\n",
      "INSERT into ret_cluster_result (job_id, tweet_id, cluster_no) values (3855, 1777145304661545164, 60)\n",
      "Query executed successfully. 1 rows affected.\n",
      "INSERT into ret_cluster_result (job_id, tweet_id, cluster_no) values (3855, 1777131158448357696, 4)\n",
      "Query executed successfully. 1 rows affected.\n",
      "INSERT into ret_cluster_result (job_id, tweet_id, cluster_no) values (3855, 1776882640068460959, 0)\n",
      "Query executed successfully. 1 rows affected.\n",
      "INSERT into ret_cluster_result (job_id, tweet_id, cluster_no) values (3855, 1777088012507345395, 1)\n",
      "Query executed successfully. 1 rows affected.\n",
      "INSERT into ret_cluster_result (job_id, tweet_id, cluster_no) values (3855, 1776785293804536043, 6)\n",
      "Query executed successfully. 1 rows affected.\n",
      "INSERT into ret_cluster_result (job_id, tweet_id, cluster_no) values (3855, 1777088012507345395, 1)\n",
      "Query executed successfully. 1 rows affected.\n",
      "INSERT into ret_cluster_result (job_id, tweet_id, cluster_no) values (3855, 1777088012507345395, 1)\n",
      "Query executed successfully. 1 rows affected.\n",
      "INSERT into ret_cluster_result (job_id, tweet_id, cluster_no) values (3855, 1777088012507345395, 1)\n",
      "Query executed successfully. 1 rows affected.\n",
      "INSERT into ret_cluster_result (job_id, tweet_id, cluster_no) values (3855, 1777088012507345395, 1)\n",
      "Query executed successfully. 1 rows affected.\n",
      "INSERT into ret_cluster_result (job_id, tweet_id, cluster_no) values (3855, 1776908996894503202, 12)\n"
     ]
    },
    {
     "name": "stdout",
     "output_type": "stream",
     "text": [
      "Query executed successfully. 1 rows affected.\n",
      "INSERT into ret_cluster_result (job_id, tweet_id, cluster_no) values (3855, 1776987096642961689, 12)\n"
     ]
    },
    {
     "name": "stdout",
     "output_type": "stream",
     "text": [
      "Query executed successfully. 1 rows affected.\n",
      "INSERT into ret_cluster_result (job_id, tweet_id, cluster_no) values (3855, 1777035847419797999, 4)\n",
      "Query executed successfully. 1 rows affected.\n",
      "INSERT into ret_cluster_result (job_id, tweet_id, cluster_no) values (3855, 1777066812741501359, 15)\n",
      "Query executed successfully. 1 rows affected.\n",
      "INSERT into ret_cluster_result (job_id, tweet_id, cluster_no) values (3855, 1378697187597635584, 12)\n",
      "Query executed successfully. 1 rows affected.\n",
      "INSERT into ret_cluster_result (job_id, tweet_id, cluster_no) values (3855, 1777063618082644198, 0)\n",
      "Query executed successfully. 1 rows affected.\n",
      "INSERT into ret_cluster_result (job_id, tweet_id, cluster_no) values (3855, 1777060805957095823, 0)\n",
      "Query executed successfully. 1 rows affected.\n",
      "INSERT into ret_cluster_result (job_id, tweet_id, cluster_no) values (3855, 1776342520508588339, 0)\n",
      "Query executed successfully. 1 rows affected.\n",
      "INSERT into ret_cluster_result (job_id, tweet_id, cluster_no) values (3855, 1776938530717172202, 4)\n",
      "Query executed successfully. 1 rows affected.\n",
      "INSERT into ret_cluster_result (job_id, tweet_id, cluster_no) values (3855, 1777043653422133278, 0)\n",
      "Query executed successfully. 1 rows affected.\n",
      "INSERT into ret_cluster_result (job_id, tweet_id, cluster_no) values (3855, 1777041723719360645, 12)\n",
      "Query executed successfully. 1 rows affected.\n",
      "INSERT into ret_cluster_result (job_id, tweet_id, cluster_no) values (3855, 1777039401832550605, 1)\n",
      "Query executed successfully. 1 rows affected.\n",
      "INSERT into ret_cluster_result (job_id, tweet_id, cluster_no) values (3855, 1777021025160442037, 4)\n"
     ]
    },
    {
     "name": "stdout",
     "output_type": "stream",
     "text": [
      "Query executed successfully. 1 rows affected.\n",
      "INSERT into ret_cluster_result (job_id, tweet_id, cluster_no) values (3855, 1776870104552128659, 0)\n"
     ]
    },
    {
     "name": "stdout",
     "output_type": "stream",
     "text": [
      "Query executed successfully. 1 rows affected.\n",
      "INSERT into ret_cluster_result (job_id, tweet_id, cluster_no) values (3855, 1776646313632797183, 4)\n",
      "Query executed successfully. 1 rows affected.\n",
      "INSERT into ret_cluster_result (job_id, tweet_id, cluster_no) values (3855, 1777029874395312403, 0)\n",
      "Query executed successfully. 1 rows affected.\n",
      "INSERT into ret_cluster_result (job_id, tweet_id, cluster_no) values (3855, 1777023893770821673, 4)\n",
      "Query executed successfully. 1 rows affected.\n",
      "INSERT into ret_cluster_result (job_id, tweet_id, cluster_no) values (3855, 1777022615799951833, 0)\n",
      "Query executed successfully. 1 rows affected.\n",
      "INSERT into ret_cluster_result (job_id, tweet_id, cluster_no) values (3855, 1777008373604462936, 45)\n",
      "Query executed successfully. 1 rows affected.\n",
      "INSERT into ret_cluster_result (job_id, tweet_id, cluster_no) values (3855, 1776583135129387365, 6)\n",
      "Query executed successfully. 1 rows affected.\n",
      "INSERT into ret_cluster_result (job_id, tweet_id, cluster_no) values (3855, 1776988366745051584, 23)\n",
      "Query executed successfully. 1 rows affected.\n",
      "INSERT into ret_cluster_result (job_id, tweet_id, cluster_no) values (3855, 1776986139045286017, 4)\n",
      "Query executed successfully. 1 rows affected.\n",
      "INSERT into ret_cluster_result (job_id, tweet_id, cluster_no) values (3855, 1776981949682209125, 57)\n",
      "Query executed successfully. 1 rows affected.\n",
      "INSERT into ret_cluster_result (job_id, tweet_id, cluster_no) values (3855, 1776984608787353842, 0)\n",
      "Query executed successfully. 1 rows affected.\n",
      "INSERT into ret_cluster_result (job_id, tweet_id, cluster_no) values (3855, 1776973235587866814, 12)\n"
     ]
    },
    {
     "name": "stdout",
     "output_type": "stream",
     "text": [
      "Query executed successfully. 1 rows affected.\n",
      "INSERT into ret_cluster_result (job_id, tweet_id, cluster_no) values (3855, 1776972697202831497, 4)\n"
     ]
    },
    {
     "name": "stdout",
     "output_type": "stream",
     "text": [
      "Query executed successfully. 1 rows affected.\n",
      "INSERT into ret_cluster_result (job_id, tweet_id, cluster_no) values (3855, 1776957151677935999, 0)\n",
      "Query executed successfully. 1 rows affected.\n",
      "INSERT into ret_cluster_result (job_id, tweet_id, cluster_no) values (3855, 1776954490471497928, 1)\n",
      "Query executed successfully. 1 rows affected.\n",
      "INSERT into ret_cluster_result (job_id, tweet_id, cluster_no) values (3855, 1776945212646178890, 15)\n",
      "Query executed successfully. 1 rows affected.\n",
      "INSERT into ret_cluster_result (job_id, tweet_id, cluster_no) values (3855, 1776945102558253357, 6)\n",
      "Query executed successfully. 1 rows affected.\n",
      "INSERT into ret_cluster_result (job_id, tweet_id, cluster_no) values (3855, 1776944950556660037, 15)\n",
      "Query executed successfully. 1 rows affected.\n",
      "INSERT into ret_cluster_result (job_id, tweet_id, cluster_no) values (3855, 1776944660679737555, 12)\n",
      "Query executed successfully. 1 rows affected.\n",
      "INSERT into ret_cluster_result (job_id, tweet_id, cluster_no) values (3855, 1776928006226763856, 4)\n",
      "Query executed successfully. 1 rows affected.\n",
      "INSERT into ret_cluster_result (job_id, tweet_id, cluster_no) values (3855, 1776878666703614430, 4)\n",
      "Query executed successfully. 1 rows affected.\n",
      "INSERT into ret_cluster_result (job_id, tweet_id, cluster_no) values (3855, 1776371229278035991, 4)\n",
      "Query executed successfully. 1 rows affected.\n",
      "INSERT into ret_cluster_result (job_id, tweet_id, cluster_no) values (3855, 1776785806822105451, 4)\n",
      "Query executed successfully. 1 rows affected.\n",
      "INSERT into ret_cluster_result (job_id, tweet_id, cluster_no) values (3855, 1776805929490559240, 4)\n"
     ]
    },
    {
     "name": "stdout",
     "output_type": "stream",
     "text": [
      "Query executed successfully. 1 rows affected.\n",
      "INSERT into ret_cluster_result (job_id, tweet_id, cluster_no) values (3855, 1776732561202696575, 4)\n"
     ]
    },
    {
     "name": "stdout",
     "output_type": "stream",
     "text": [
      "Query executed successfully. 1 rows affected.\n",
      "INSERT into ret_cluster_result (job_id, tweet_id, cluster_no) values (3855, 1776929854312620340, 24)\n",
      "Query executed successfully. 1 rows affected.\n",
      "INSERT into ret_cluster_result (job_id, tweet_id, cluster_no) values (3855, 1776929332281454833, 6)\n",
      "Query executed successfully. 1 rows affected.\n",
      "INSERT into ret_cluster_result (job_id, tweet_id, cluster_no) values (3855, 1776928006226763856, 4)\n",
      "Query executed successfully. 1 rows affected.\n",
      "INSERT into ret_cluster_result (job_id, tweet_id, cluster_no) values (3855, 1776927907069194509, 12)\n",
      "Query executed successfully. 1 rows affected.\n",
      "INSERT into ret_cluster_result (job_id, tweet_id, cluster_no) values (3855, 1776926417395359799, 8)\n",
      "Query executed successfully. 1 rows affected.\n",
      "INSERT into ret_cluster_result (job_id, tweet_id, cluster_no) values (3855, 1776923223868805214, 12)\n",
      "Query executed successfully. 1 rows affected.\n",
      "INSERT into ret_cluster_result (job_id, tweet_id, cluster_no) values (3855, 1776784193759961443, 4)\n",
      "Query executed successfully. 1 rows affected.\n",
      "INSERT into ret_cluster_result (job_id, tweet_id, cluster_no) values (3855, 1776920378406850597, 24)\n",
      "Query executed successfully. 1 rows affected.\n",
      "INSERT into ret_cluster_result (job_id, tweet_id, cluster_no) values (3855, 1776710486953787593, 0)\n",
      "Query executed successfully. 1 rows affected.\n",
      "INSERT into ret_cluster_result (job_id, tweet_id, cluster_no) values (3855, 1776909441780035980, 0)\n",
      "Query executed successfully. 1 rows affected.\n",
      "INSERT into ret_cluster_result (job_id, tweet_id, cluster_no) values (3855, 1776901952221397087, 15)\n",
      "Query executed successfully. 1 rows affected.\n",
      "INSERT into ret_cluster_result (job_id, tweet_id, cluster_no) values (3855, 1776901582023705012, 6)\n"
     ]
    },
    {
     "name": "stdout",
     "output_type": "stream",
     "text": [
      "Query executed successfully. 1 rows affected.\n",
      "INSERT into ret_cluster_result (job_id, tweet_id, cluster_no) values (3855, 1776901110978244870, 15)\n"
     ]
    },
    {
     "name": "stdout",
     "output_type": "stream",
     "text": [
      "Query executed successfully. 1 rows affected.\n",
      "INSERT into ret_cluster_result (job_id, tweet_id, cluster_no) values (3855, 1776892685174899197, 0)\n",
      "Query executed successfully. 1 rows affected.\n",
      "INSERT into ret_cluster_result (job_id, tweet_id, cluster_no) values (3855, 1776897944219762806, 32)\n",
      "Query executed successfully. 1 rows affected.\n",
      "INSERT into ret_cluster_result (job_id, tweet_id, cluster_no) values (3855, 1776897728955514885, 4)\n",
      "Query executed successfully. 1 rows affected.\n",
      "INSERT into ret_cluster_result (job_id, tweet_id, cluster_no) values (3855, 1776897708110070207, 0)\n",
      "Query executed successfully. 1 rows affected.\n",
      "INSERT into ret_cluster_result (job_id, tweet_id, cluster_no) values (3855, 1776799907317506141, 43)\n",
      "Query executed successfully. 1 rows affected.\n",
      "INSERT into ret_cluster_result (job_id, tweet_id, cluster_no) values (3855, 1776895716494856579, 4)\n",
      "Query executed successfully. 1 rows affected.\n",
      "INSERT into ret_cluster_result (job_id, tweet_id, cluster_no) values (3855, 1776882640068460959, 12)\n",
      "Query executed successfully. 1 rows affected.\n",
      "INSERT into ret_cluster_result (job_id, tweet_id, cluster_no) values (3855, 1776827766698324017, 60)\n",
      "Query executed successfully. 1 rows affected.\n",
      "INSERT into ret_cluster_result (job_id, tweet_id, cluster_no) values (3855, 1778171362932367395, 0)\n",
      "Query executed successfully. 1 rows affected.\n",
      "INSERT into ret_cluster_result (job_id, tweet_id, cluster_no) values (3855, 1778169865565839843, 0)\n",
      "Query executed successfully. 1 rows affected.\n",
      "INSERT into ret_cluster_result (job_id, tweet_id, cluster_no) values (3855, 1778165043928179137, 3)\n",
      "Query executed successfully. 1 rows affected.\n",
      "INSERT into ret_cluster_result (job_id, tweet_id, cluster_no) values (3855, 1778151322811855311, 12)\n"
     ]
    },
    {
     "name": "stdout",
     "output_type": "stream",
     "text": [
      "Query executed successfully. 1 rows affected.\n",
      "INSERT into ret_cluster_result (job_id, tweet_id, cluster_no) values (3855, 1778150491106562193, 0)\n"
     ]
    },
>>>>>>> ce1d860e8f986e5a64cc79d9c113b22d7c00ddef
    {
     "name": "stdout",
     "output_type": "stream",
     "text": [
<<<<<<< HEAD
      "INSERT into ret_cluster_result (job_id, tweet_id, cluster_no) values (3891, 1793542310393000439, 4)\n",
      "Query executed successfully. 1 rows affected.\n",
      "INSERT into ret_cluster_result (job_id, tweet_id, cluster_no) values (3891, 1793383236279603227, 0)\n"
     ]
    },
    {
     "name": "stdout",
     "output_type": "stream",
     "text": [
      "Query executed successfully. 1 rows affected.\n",
      "INSERT into ret_cluster_result (job_id, tweet_id, cluster_no) values (3891, 1793288021783031909, 0)\n",
      "Query executed successfully. 1 rows affected.\n",
      "INSERT into ret_cluster_result (job_id, tweet_id, cluster_no) values (3891, 1793332982586941903, 0)\n",
      "Query executed successfully. 1 rows affected.\n",
      "INSERT into ret_cluster_result (job_id, tweet_id, cluster_no) values (3891, 1793542157619560700, 1)\n"
     ]
    },
    {
     "name": "stdout",
     "output_type": "stream",
     "text": [
      "Query executed successfully. 1 rows affected.\n",
      "INSERT into ret_cluster_result (job_id, tweet_id, cluster_no) values (3891, 1793542141433823518, 0)\n",
      "Query executed successfully. 1 rows affected.\n",
      "INSERT into ret_cluster_result (job_id, tweet_id, cluster_no) values (3891, 1793542011829833781, 0)\n",
      "Query executed successfully. 1 rows affected.\n",
      "INSERT into ret_cluster_result (job_id, tweet_id, cluster_no) values (3891, 1793542004892434719, 0)\n"
     ]
    },
    {
     "name": "stdout",
     "output_type": "stream",
     "text": [
      "Query executed successfully. 1 rows affected.\n",
      "INSERT into ret_cluster_result (job_id, tweet_id, cluster_no) values (3891, 1793541976052433077, 3)\n",
      "Query executed successfully. 1 rows affected.\n",
      "INSERT into ret_cluster_result (job_id, tweet_id, cluster_no) values (3891, 1790007607928730102, 1)\n",
      "Query executed successfully. 1 rows affected.\n",
      "INSERT into ret_cluster_result (job_id, tweet_id, cluster_no) values (3891, 1793541662901444947, 0)\n"
     ]
    },
    {
     "name": "stdout",
     "output_type": "stream",
     "text": [
      "Query executed successfully. 1 rows affected.\n",
      "INSERT into ret_cluster_result (job_id, tweet_id, cluster_no) values (3891, 1793541651530743842, 0)\n",
      "Query executed successfully. 1 rows affected.\n",
      "INSERT into ret_cluster_result (job_id, tweet_id, cluster_no) values (3891, 1793541588666528034, 0)\n",
      "Query executed successfully. 1 rows affected.\n",
      "INSERT into ret_cluster_result (job_id, tweet_id, cluster_no) values (3891, 1793541551215542667, 5)\n"
     ]
    },
    {
     "name": "stdout",
     "output_type": "stream",
     "text": [
      "Query executed successfully. 1 rows affected.\n",
      "INSERT into ret_cluster_result (job_id, tweet_id, cluster_no) values (3891, 1793239877330329704, 0)\n",
      "Query executed successfully. 1 rows affected.\n",
      "INSERT into ret_cluster_result (job_id, tweet_id, cluster_no) values (3891, 1793541490746274214, 2)\n"
     ]
    },
    {
     "name": "stdout",
     "output_type": "stream",
     "text": [
      "Query executed successfully. 1 rows affected.\n",
      "INSERT into ret_cluster_result (job_id, tweet_id, cluster_no) values (3891, 1793541476858916988, 0)\n",
      "Query executed successfully. 1 rows affected.\n",
      "INSERT into ret_cluster_result (job_id, tweet_id, cluster_no) values (3891, 1793541450552283579, 0)\n",
      "Query executed successfully. 1 rows affected.\n",
      "INSERT into ret_cluster_result (job_id, tweet_id, cluster_no) values (3891, 1793325789829529770, 1)\n",
      "Query executed successfully. 1 rows affected.\n",
      "INSERT into ret_cluster_result (job_id, tweet_id, cluster_no) values (3891, 1793541183224029513, 6)\n"
     ]
    },
    {
     "name": "stdout",
     "output_type": "stream",
     "text": [
      "Query executed successfully. 1 rows affected.\n",
      "INSERT into ret_cluster_result (job_id, tweet_id, cluster_no) values (3891, 1793541173665300685, 1)\n",
      "Query executed successfully. 1 rows affected.\n",
      "INSERT into ret_cluster_result (job_id, tweet_id, cluster_no) values (3891, 1793541164676923503, 1)\n"
     ]
    },
    {
     "name": "stdout",
     "output_type": "stream",
     "text": [
      "Query executed successfully. 1 rows affected.\n",
      "INSERT into ret_cluster_result (job_id, tweet_id, cluster_no) values (3891, 1793541157890249133, 0)\n",
      "Query executed successfully. 1 rows affected.\n",
      "INSERT into ret_cluster_result (job_id, tweet_id, cluster_no) values (3891, 1793377591292051600, 6)\n",
      "Query executed successfully. 1 rows affected.\n",
      "INSERT into ret_cluster_result (job_id, tweet_id, cluster_no) values (3891, 1793540921533108272, 0)\n",
      "Query executed successfully. 1 rows affected.\n",
      "INSERT into ret_cluster_result (job_id, tweet_id, cluster_no) values (3891, 1793540889371148579, 2)\n",
      "Query executed successfully. 1 rows affected.\n",
      "INSERT into ret_cluster_result (job_id, tweet_id, cluster_no) values (3891, 1793540714045014391, 0)\n"
     ]
    },
    {
     "name": "stdout",
     "output_type": "stream",
     "text": [
      "Query executed successfully. 1 rows affected.\n",
      "INSERT into ret_cluster_result (job_id, tweet_id, cluster_no) values (3891, 1793540593660096846, 0)\n"
     ]
    },
    {
     "name": "stdout",
     "output_type": "stream",
     "text": [
      "Query executed successfully. 1 rows affected.\n",
      "INSERT into ret_cluster_result (job_id, tweet_id, cluster_no) values (3891, 1793540476206727248, 0)\n",
      "Query executed successfully. 1 rows affected.\n",
      "INSERT into ret_cluster_result (job_id, tweet_id, cluster_no) values (3891, 1793540460914602479, 0)\n",
      "Query executed successfully. 1 rows affected.\n",
      "INSERT into ret_cluster_result (job_id, tweet_id, cluster_no) values (3891, 1793540437283946932, 1)\n",
      "Query executed successfully. 1 rows affected.\n",
      "INSERT into ret_cluster_result (job_id, tweet_id, cluster_no) values (3891, 1793422119130583130, 1)\n",
      "Query executed successfully. 1 rows affected.\n",
      "INSERT into ret_cluster_result (job_id, tweet_id, cluster_no) values (3891, 1793540343847432473, 0)\n",
      "Query executed successfully. 1 rows affected.\n",
      "INSERT into ret_cluster_result (job_id, tweet_id, cluster_no) values (3891, 1793540329448313078, 0)\n"
     ]
    },
    {
     "name": "stdout",
     "output_type": "stream",
     "text": [
      "Query executed successfully. 1 rows affected.\n",
      "INSERT into ret_cluster_result (job_id, tweet_id, cluster_no) values (3891, 1793540138926227582, 0)\n"
     ]
    },
    {
     "name": "stdout",
     "output_type": "stream",
     "text": [
      "Query executed successfully. 1 rows affected.\n",
      "INSERT into ret_cluster_result (job_id, tweet_id, cluster_no) values (3891, 1793539924165349688, 0)\n",
      "Query executed successfully. 1 rows affected.\n",
      "INSERT into ret_cluster_result (job_id, tweet_id, cluster_no) values (3891, 1793347946542407836, 0)\n",
      "Query executed successfully. 1 rows affected.\n",
      "INSERT into ret_cluster_result (job_id, tweet_id, cluster_no) values (3891, 1793539835866579448, 7)\n",
      "Query executed successfully. 1 rows affected.\n",
      "INSERT into ret_cluster_result (job_id, tweet_id, cluster_no) values (3891, 1793539782108393761, 0)\n",
      "Query executed successfully. 1 rows affected.\n",
      "INSERT into ret_cluster_result (job_id, tweet_id, cluster_no) values (3891, 1793539724822614421, 1)\n",
      "Query executed successfully. 1 rows affected.\n",
      "INSERT into ret_cluster_result (job_id, tweet_id, cluster_no) values (3891, 1793327307030954033, 0)\n"
     ]
    },
    {
     "name": "stdout",
     "output_type": "stream",
     "text": [
      "Query executed successfully. 1 rows affected.\n",
      "INSERT into ret_cluster_result (job_id, tweet_id, cluster_no) values (3891, 1793539545994269131, 0)\n"
     ]
    },
    {
     "name": "stdout",
     "output_type": "stream",
     "text": [
      "Query executed successfully. 1 rows affected.\n",
      "INSERT into ret_cluster_result (job_id, tweet_id, cluster_no) values (3891, 1793539473504170085, 0)\n",
      "Query executed successfully. 1 rows affected.\n",
      "INSERT into ret_cluster_result (job_id, tweet_id, cluster_no) values (3891, 1793539435239457226, 0)\n",
      "Query executed successfully. 1 rows affected.\n",
      "INSERT into ret_cluster_result (job_id, tweet_id, cluster_no) values (3891, 1793539432387346775, 1)\n",
      "Query executed successfully. 1 rows affected.\n",
      "INSERT into ret_cluster_result (job_id, tweet_id, cluster_no) values (3891, 1793539280448754120, 0)\n",
      "Query executed successfully. 1 rows affected.\n",
      "INSERT into ret_cluster_result (job_id, tweet_id, cluster_no) values (3891, 1793539169903595895, 1)\n"
     ]
    },
    {
     "name": "stdout",
     "output_type": "stream",
     "text": [
      "Query executed successfully. 1 rows affected.\n",
      "INSERT into ret_cluster_result (job_id, tweet_id, cluster_no) values (3891, 1544380486654590983, 7)\n"
     ]
    },
    {
     "name": "stdout",
     "output_type": "stream",
     "text": [
      "Query executed successfully. 1 rows affected.\n",
      "INSERT into ret_cluster_result (job_id, tweet_id, cluster_no) values (3891, 1793539027590893910, 0)\n",
      "Query executed successfully. 1 rows affected.\n",
      "INSERT into ret_cluster_result (job_id, tweet_id, cluster_no) values (3891, 1793539020846502303, 0)\n",
      "Query executed successfully. 1 rows affected.\n",
      "INSERT into ret_cluster_result (job_id, tweet_id, cluster_no) values (3891, 1793522120254996623, 1)\n",
      "Query executed successfully. 1 rows affected.\n",
      "INSERT into ret_cluster_result (job_id, tweet_id, cluster_no) values (3891, 1793342094641098756, 0)\n",
      "Query executed successfully. 1 rows affected.\n",
      "INSERT into ret_cluster_result (job_id, tweet_id, cluster_no) values (3891, 1793399469402198224, 0)\n"
     ]
    },
    {
     "name": "stdout",
     "output_type": "stream",
     "text": [
      "Query executed successfully. 1 rows affected.\n",
      "INSERT into ret_cluster_result (job_id, tweet_id, cluster_no) values (3891, 1793538669271499248, 0)\n"
     ]
    },
    {
     "name": "stdout",
     "output_type": "stream",
     "text": [
      "Query executed successfully. 1 rows affected.\n",
      "INSERT into ret_cluster_result (job_id, tweet_id, cluster_no) values (3891, 1793538602254930209, 0)\n",
      "Query executed successfully. 1 rows affected.\n",
      "INSERT into ret_cluster_result (job_id, tweet_id, cluster_no) values (3891, 1793538454552502500, 5)\n",
      "Query executed successfully. 1 rows affected.\n",
      "INSERT into ret_cluster_result (job_id, tweet_id, cluster_no) values (3891, 1793538446029697161, 0)\n",
      "Query executed successfully. 1 rows affected.\n",
      "INSERT into ret_cluster_result (job_id, tweet_id, cluster_no) values (3891, 1793538295219265666, 0)\n",
      "Query executed successfully. 1 rows affected.\n",
      "INSERT into ret_cluster_result (job_id, tweet_id, cluster_no) values (3891, 1793497862946373838, 0)\n",
      "Query executed successfully. 1 rows affected.\n",
      "INSERT into ret_cluster_result (job_id, tweet_id, cluster_no) values (3891, 1793538104936292451, 0)\n"
     ]
    },
    {
     "name": "stdout",
     "output_type": "stream",
     "text": [
      "Query executed successfully. 1 rows affected."
     ]
    },
    {
     "name": "stdout",
     "output_type": "stream",
     "text": [
      "\n",
      "INSERT into ret_cluster_result (job_id, tweet_id, cluster_no) values (3891, 1793538053778395447, 0)\n",
      "Query executed successfully. 1 rows affected.\n",
      "INSERT into ret_cluster_result (job_id, tweet_id, cluster_no) values (3891, 1793512254484410373, 0)\n",
      "Query executed successfully. 1 rows affected.\n",
      "INSERT into ret_cluster_result (job_id, tweet_id, cluster_no) values (3891, 1793537869677539829, 0)\n",
      "Query executed successfully. 1 rows affected.\n",
      "INSERT into ret_cluster_result (job_id, tweet_id, cluster_no) values (3891, 1793076215051637143, 0)\n",
      "Query executed successfully. 1 rows affected.\n",
      "INSERT into ret_cluster_result (job_id, tweet_id, cluster_no) values (3891, 1793537822416306648, 0)\n",
      "Query executed successfully. 1 rows affected.\n",
      "INSERT into ret_cluster_result (job_id, tweet_id, cluster_no) values (3891, 1793537799792279563, 0)\n",
      "Query executed successfully. 1 rows affected.\n",
      "INSERT into ret_cluster_result (job_id, tweet_id, cluster_no) values (3891, 1793537637204287759, 2)\n"
     ]
    },
    {
     "name": "stdout",
     "output_type": "stream",
     "text": [
      "Query executed successfully. 1 rows affected.\n",
      "INSERT into ret_cluster_result (job_id, tweet_id, cluster_no) values (3891, 1792925009528168797, 0)\n",
      "Query executed successfully. 1 rows affected.\n",
      "INSERT into ret_cluster_result (job_id, tweet_id, cluster_no) values (3891, 1793537391472386089, 2)\n",
      "Query executed successfully. 1 rows affected.\n",
      "INSERT into ret_cluster_result (job_id, tweet_id, cluster_no) values (3891, 1793537375018029461, 0)\n",
      "Query executed successfully. 1 rows affected.\n",
      "INSERT into ret_cluster_result (job_id, tweet_id, cluster_no) values (3891, 1793301084716323295, 2)\n",
      "Query executed successfully. 1 rows affected.\n",
      "INSERT into ret_cluster_result (job_id, tweet_id, cluster_no) values (3891, 1793537180272570768, 0)\n",
      "Query executed successfully. 1 rows affected.\n",
      "INSERT into ret_cluster_result (job_id, tweet_id, cluster_no) values (3891, 1793174050337923336, 0)\n"
     ]
    },
    {
     "name": "stdout",
     "output_type": "stream",
     "text": [
      "Query executed successfully. 1 rows affected.\n",
      "INSERT into ret_cluster_result (job_id, tweet_id, cluster_no) values (3891, 1793537128548434131, 0)\n",
      "Query executed successfully. 1 rows affected.\n",
      "INSERT into ret_cluster_result (job_id, tweet_id, cluster_no) values (3891, 1793526065174134971, 0)\n",
      "Query executed successfully. 1 rows affected.\n",
      "INSERT into ret_cluster_result (job_id, tweet_id, cluster_no) values (3891, 1793537005080727748, 0)\n",
      "Query executed successfully. 1 rows affected.\n",
      "INSERT into ret_cluster_result (job_id, tweet_id, cluster_no) values (3891, 1793536964249124976, 0)\n",
      "Query executed successfully. 1 rows affected.\n",
      "INSERT into ret_cluster_result (job_id, tweet_id, cluster_no) values (3891, 1793321526852223420, 1)\n",
      "Query executed successfully. 1 rows affected.\n",
      "INSERT into ret_cluster_result (job_id, tweet_id, cluster_no) values (3891, 1792953116523999295, 1)\n"
     ]
    },
    {
     "name": "stdout",
     "output_type": "stream",
     "text": [
      "Query executed successfully. 1 rows affected.\n",
      "INSERT into ret_cluster_result (job_id, tweet_id, cluster_no) values (3891, 1793525863969165564, 1)\n",
      "Query executed successfully. 1 rows affected.\n",
      "INSERT into ret_cluster_result (job_id, tweet_id, cluster_no) values (3891, 1793364908693930469, 0)\n",
      "Query executed successfully. 1 rows affected.\n",
      "INSERT into ret_cluster_result (job_id, tweet_id, cluster_no) values (3891, 1793249518663671966, 0)\n",
      "Query executed successfully. 1 rows affected.\n",
      "INSERT into ret_cluster_result (job_id, tweet_id, cluster_no) values (3891, 1793534325708952043, 1)\n",
      "Query executed successfully. 1 rows affected.\n",
      "INSERT into ret_cluster_result (job_id, tweet_id, cluster_no) values (3891, 1793536345261969744, 1)\n",
      "Query executed successfully. 1 rows affected.\n",
      "INSERT into ret_cluster_result (job_id, tweet_id, cluster_no) values (3891, 1793202646309913023, 0)\n"
     ]
    },
    {
     "name": "stdout",
     "output_type": "stream",
     "text": [
      "Query executed successfully. 1 rows affected.\n",
      "INSERT into ret_cluster_result (job_id, tweet_id, cluster_no) values (3891, 1793529407040266482, 0)\n",
      "Query executed successfully. 1 rows affected.\n",
      "INSERT into ret_cluster_result (job_id, tweet_id, cluster_no) values (3891, 1793536045256204671, 0)\n",
      "Query executed successfully. 1 rows affected.\n",
      "INSERT into ret_cluster_result (job_id, tweet_id, cluster_no) values (3891, 1793390247201431580, 1)\n",
      "Query executed successfully. 1 rows affected.\n",
      "INSERT into ret_cluster_result (job_id, tweet_id, cluster_no) values (3891, 1793535817669075082, 0)\n",
      "Query executed successfully. 1 rows affected.\n",
      "INSERT into ret_cluster_result (job_id, tweet_id, cluster_no) values (3891, 1793535788627706368, 0)\n",
      "Query executed successfully. 1 rows affected.\n",
      "INSERT into ret_cluster_result (job_id, tweet_id, cluster_no) values (3891, 1793535645761384672, 0)\n"
     ]
    },
    {
     "name": "stdout",
     "output_type": "stream",
     "text": [
      "Query executed successfully. 1 rows affected.\n",
      "INSERT into ret_cluster_result (job_id, tweet_id, cluster_no) values (3891, 1793535632851284417, 0)\n",
      "Query executed successfully. 1 rows affected.\n",
      "INSERT into ret_cluster_result (job_id, tweet_id, cluster_no) values (3891, 1793535535174013322, 0)\n",
      "Query executed successfully. 1 rows affected.\n",
      "INSERT into ret_cluster_result (job_id, tweet_id, cluster_no) values (3891, 1793535525904896269, 0)\n",
      "Query executed successfully. 1 rows affected.\n",
      "INSERT into ret_cluster_result (job_id, tweet_id, cluster_no) values (3891, 1793307044126011804, 1)\n",
      "Query executed successfully. 1 rows affected.\n",
      "INSERT into ret_cluster_result (job_id, tweet_id, cluster_no) values (3891, 1793535361349791794, 2)\n",
      "Query executed successfully. 1 rows affected.\n",
      "INSERT into ret_cluster_result (job_id, tweet_id, cluster_no) values (3891, 1793535339191235010, 1)\n"
     ]
    },
    {
     "name": "stdout",
     "output_type": "stream",
     "text": [
      "Query executed successfully. 1 rows affected.\n",
      "INSERT into ret_cluster_result (job_id, tweet_id, cluster_no) values (3891, 1793512156861985145, 0)\n",
      "Query executed successfully. 1 rows affected.\n",
      "INSERT into ret_cluster_result (job_id, tweet_id, cluster_no) values (3891, 1793535171633012917, 0)\n",
      "Query executed successfully. 1 rows affected.\n",
      "INSERT into ret_cluster_result (job_id, tweet_id, cluster_no) values (3891, 1792864510488785076, 5)\n",
      "Query executed successfully. 1 rows affected.\n",
      "INSERT into ret_cluster_result (job_id, tweet_id, cluster_no) values (3891, 1793534630928490863, 1)\n",
      "Query executed successfully. 1 rows affected.\n",
      "INSERT into ret_cluster_result (job_id, tweet_id, cluster_no) values (3891, 1793365663085699265, 4)\n",
      "Query executed successfully. 1 rows affected.\n",
      "INSERT into ret_cluster_result (job_id, tweet_id, cluster_no) values (3891, 1793534567779029189, 0)\n"
     ]
    },
    {
     "name": "stdout",
     "output_type": "stream",
     "text": [
      "Query executed successfully. 1 rows affected.\n",
      "INSERT into ret_cluster_result (job_id, tweet_id, cluster_no) values (3891, 1793534455707238514, 0)\n",
      "Query executed successfully. 1 rows affected.\n",
      "INSERT into ret_cluster_result (job_id, tweet_id, cluster_no) values (3891, 1793534396718612501, 0)\n",
      "Query executed successfully. 1 rows affected.\n",
      "INSERT into ret_cluster_result (job_id, tweet_id, cluster_no) values (3891, 1793534272617554122, 1)\n",
      "Query executed successfully. 1 rows affected.\n",
      "INSERT into ret_cluster_result (job_id, tweet_id, cluster_no) values (3891, 1793396907080917500, 3)\n",
      "Query executed successfully. 1 rows affected.\n",
      "INSERT into ret_cluster_result (job_id, tweet_id, cluster_no) values (3891, 1793467110943060036, 0)\n",
      "Query executed successfully. 1 rows affected.\n",
      "INSERT into ret_cluster_result (job_id, tweet_id, cluster_no) values (3891, 1793534070951149615, 1)\n"
     ]
    },
    {
     "name": "stdout",
     "output_type": "stream",
     "text": [
      "Query executed successfully. 1 rows affected.\n",
      "INSERT into ret_cluster_result (job_id, tweet_id, cluster_no) values (3891, 1793379382796697607, 1)\n",
      "Query executed successfully. 1 rows affected.\n",
      "INSERT into ret_cluster_result (job_id, tweet_id, cluster_no) values (3891, 1793295903068983457, 0)\n",
      "Query executed successfully. 1 rows affected.\n",
      "INSERT into ret_cluster_result (job_id, tweet_id, cluster_no) values (3891, 1793533722077335577, 1)\n",
      "Query executed successfully. 1 rows affected.\n",
      "INSERT into ret_cluster_result (job_id, tweet_id, cluster_no) values (3891, 1793533700644483363, 1)\n",
      "Query executed successfully. 1 rows affected.\n",
      "INSERT into ret_cluster_result (job_id, tweet_id, cluster_no) values (3891, 1793533639395008825, 1)\n",
      "Query executed successfully. 1 rows affected.\n",
      "INSERT into ret_cluster_result (job_id, tweet_id, cluster_no) values (3891, 1793533607384109526, 2)\n"
     ]
    },
    {
     "name": "stdout",
     "output_type": "stream",
     "text": [
      "Query executed successfully. 1 rows affected.\n",
      "INSERT into ret_cluster_result (job_id, tweet_id, cluster_no) values (3891, 1792834879492890980, 0)\n",
      "Query executed successfully. 1 rows affected.\n",
      "INSERT into ret_cluster_result (job_id, tweet_id, cluster_no) values (3891, 1793254211305804251, 0)\n",
      "Query executed successfully. 1 rows affected.\n",
      "INSERT into ret_cluster_result (job_id, tweet_id, cluster_no) values (3891, 1793533197260923376, 0)\n",
      "Query executed successfully. 1 rows affected.\n",
      "INSERT into ret_cluster_result (job_id, tweet_id, cluster_no) values (3891, 1793425200287199607, 0)\n",
      "Query executed successfully. 1 rows affected.\n",
      "INSERT into ret_cluster_result (job_id, tweet_id, cluster_no) values (3891, 1793484053360079024, 1)\n",
      "Query executed successfully. 1 rows affected.\n",
      "INSERT into ret_cluster_result (job_id, tweet_id, cluster_no) values (3891, 1793533057896779901, 0)\n"
     ]
    },
    {
     "name": "stdout",
     "output_type": "stream",
     "text": [
      "Query executed successfully. 1 rows affected.\n",
      "INSERT into ret_cluster_result (job_id, tweet_id, cluster_no) values (3891, 1793532983091327449, 0)\n",
      "Query executed successfully. 1 rows affected.\n",
      "INSERT into ret_cluster_result (job_id, tweet_id, cluster_no) values (3891, 1793532908206174539, 2)\n",
      "Query executed successfully. 1 rows affected.\n",
      "INSERT into ret_cluster_result (job_id, tweet_id, cluster_no) values (3891, 1792878760959557719, 5)\n",
      "Query executed successfully. 1 rows affected.\n",
      "INSERT into ret_cluster_result (job_id, tweet_id, cluster_no) values (3891, 1793532431187976217, 7)\n",
      "Query executed successfully. 1 rows affected.\n",
      "INSERT into ret_cluster_result (job_id, tweet_id, cluster_no) values (3891, 1793532331778769047, 0)\n",
      "Query executed successfully. 1 rows affected.\n",
      "INSERT into ret_cluster_result (job_id, tweet_id, cluster_no) values (3891, 1793338193544085638, 1)\n"
     ]
    },
    {
     "name": "stdout",
     "output_type": "stream",
     "text": [
      "Query executed successfully. 1 rows affected.\n",
      "INSERT into ret_cluster_result (job_id, tweet_id, cluster_no) values (3891, 1793300201589133693, 0)\n",
      "Query executed successfully. 1 rows affected.\n",
      "INSERT into ret_cluster_result (job_id, tweet_id, cluster_no) values (3891, 1793532258445574358, 2)\n",
      "Query executed successfully. 1 rows affected.\n",
      "INSERT into ret_cluster_result (job_id, tweet_id, cluster_no) values (3891, 1793203196346662975, 1)\n",
      "Query executed successfully. 1 rows affected.\n",
      "INSERT into ret_cluster_result (job_id, tweet_id, cluster_no) values (3891, 1793531770086064558, 3)\n",
      "Query executed successfully. 1 rows affected.\n",
      "INSERT into ret_cluster_result (job_id, tweet_id, cluster_no) values (3891, 1793531055716401222, 0)\n",
=======
      "Query executed successfully. 1 rows affected.\n",
      "INSERT into ret_cluster_result (job_id, tweet_id, cluster_no) values (3855, 1778081156207899003, 4)\n",
>>>>>>> ce1d860e8f986e5a64cc79d9c113b22d7c00ddef
      "Query executed successfully. 1 rows affected.\n"
     ]
    }
   ],
   "source": [
    "## saving result to table\n",
    "# jobid, tweet_id, cluster_no\n",
    "\n",
    "s_cluster_number = \"\"\n",
    "\n",
    "for index, row in save_df.iterrows():\n",
    "    if row['cluster_number'] == '':\n",
    "        s_cluster_number = \"NULL\"\n",
    "    else:\n",
    "        s_cluster_number = row['cluster_number']\n",
    "        \n",
    "    sql = \"INSERT into ret_cluster_result (job_id, tweet_id, cluster_no) values (%s, %s, %s)\" % (str(const_job_id), row['tweet_id'], s_cluster_number)\n",
    "    print(sql)\n",
    "    execute_query_psql(sql)\n",
    "    \n",
    "    "
   ]
  },
  {
   "cell_type": "code",
   "execution_count": 11,
   "id": "81f02c84-7b1a-44c5-9b1f-40a952c24729",
   "metadata": {
    "execution": {
<<<<<<< HEAD
     "iopub.execute_input": "2024-05-23T17:17:25.557853Z",
     "iopub.status.busy": "2024-05-23T17:17:25.557297Z",
     "iopub.status.idle": "2024-05-23T17:17:25.635141Z",
     "shell.execute_reply": "2024-05-23T17:17:25.633827Z"
=======
     "iopub.execute_input": "2024-04-13T17:48:46.084126Z",
     "iopub.status.busy": "2024-04-13T17:48:46.083771Z",
     "iopub.status.idle": "2024-04-13T17:48:46.121510Z",
     "shell.execute_reply": "2024-04-13T17:48:46.120632Z"
>>>>>>> ce1d860e8f986e5a64cc79d9c113b22d7c00ddef
    }
   },
   "outputs": [
    {
     "name": "stdout",
     "output_type": "stream",
     "text": [
      "Query executed successfully. 1 rows affected.\n",
      "Query executed successfully. 1 rows affected.\n"
     ]
    },
    {
     "data": {
      "text/plain": [
       "1"
      ]
     },
     "execution_count": 11,
     "metadata": {},
     "output_type": "execute_result"
    }
   ],
   "source": [
    "# closing .... report back job status into rdbms\n",
    "sql = \"update screen_analisis_ai set end_process = now(), status = 3, processby_id = 1 where id = %s\" % (str(const_job_id))\n",
    "execute_query_psql(sql)\n",
    "\n",
    "sql = \"update screen_analisis_ai set duration = EXTRACT(EPOCH FROM (end_process - start_process)) where id = \" + str(const_job_id)\n",
    "execute_query_psql(sql)"
   ]
  },
  {
   "cell_type": "code",
   "execution_count": 12,
   "id": "b46e4f75-0cb1-403d-bce5-355edb5f9879",
   "metadata": {
    "execution": {
<<<<<<< HEAD
     "iopub.execute_input": "2024-05-23T17:17:25.640272Z",
     "iopub.status.busy": "2024-05-23T17:17:25.639605Z",
     "iopub.status.idle": "2024-05-23T17:17:35.653836Z",
     "shell.execute_reply": "2024-05-23T17:17:35.652425Z"
=======
     "iopub.execute_input": "2024-04-13T17:48:46.124498Z",
     "iopub.status.busy": "2024-04-13T17:48:46.124248Z",
     "iopub.status.idle": "2024-04-13T17:48:56.137402Z",
     "shell.execute_reply": "2024-04-13T17:48:56.136416Z"
>>>>>>> ce1d860e8f986e5a64cc79d9c113b22d7c00ddef
    }
   },
   "outputs": [],
   "source": [
    "# wait 10 seconds before finished\n",
    "import time\n",
    "time.sleep(10)"
   ]
  }
 ],
 "metadata": {
  "kernelspec": {
   "display_name": "Python 3 (ipykernel)",
   "language": "python",
   "name": "python3"
  },
  "language_info": {
   "codemirror_mode": {
    "name": "ipython",
    "version": 3
   },
   "file_extension": ".py",
   "mimetype": "text/x-python",
   "name": "python",
   "nbconvert_exporter": "python",
   "pygments_lexer": "ipython3",
   "version": "3.8.10"
  }
 },
 "nbformat": 4,
 "nbformat_minor": 5
}
