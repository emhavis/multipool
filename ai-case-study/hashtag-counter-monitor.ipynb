{
 "cells": [
  {
   "cell_type": "markdown",
   "id": "370fc93b-6a63-4763-b344-3864c97bfb43",
   "metadata": {},
   "source": [
    "# Hashtag Counter\n",
    "For each dataset, each dataset is stored in db-id, below are the related table\n",
    "\n",
    "ret_available_db\n",
    "ret_tweet\n",
    "\n",
    "result stored in hashtag_counter with table structure of\n",
    "id, int -> primary key\n",
    "db_id, int -> foreign key to ret_available_db.db_id\n",
    "tweet_id, int -> foreign to ret_tweet.id\n",
    "hashtag_content, text -> the hashtag\n",
    "hashtag_counter, int -> how many times hashtag is encountered\n",
    "process_time, timestamp -> when the process is done\n"
   ]
  },
  {
   "cell_type": "markdown",
   "id": "3915e0ef-8d24-4a12-b4ce-57f126374450",
   "metadata": {},
   "source": [
    "## First Step\n",
    "query from database, that is not available in table hashtag_counter, take the last one first"
   ]
  },
  {
   "cell_type": "code",
   "execution_count": 1,
   "id": "7be70d43-47cc-419c-bc80-de24490963c0",
   "metadata": {
    "execution": {
     "iopub.execute_input": "2024-08-13T09:33:04.681943Z",
     "iopub.status.busy": "2024-08-13T09:33:04.681357Z",
     "iopub.status.idle": "2024-08-13T09:33:05.326862Z",
     "shell.execute_reply": "2024-08-13T09:33:05.326218Z"
    }
   },
   "outputs": [
    {
     "name": "stdout",
     "output_type": "stream",
     "text": [
      "20c6b64a-a558-46af-8b8c-8a2c69ef4835\n"
     ]
    }
   ],
   "source": [
    "import data_connector as dconn\n",
    "import re\n",
    "import pandas as pd\n",
    "import string\n",
    "from collections import Counter\n",
    "from tqdm import tqdm\n",
    "import psycopg2\n",
    "from psycopg2 import sql, extras\n",
    "\n",
    "sql = \"\"\"\n",
    "select \t*\n",
    "from \tmonitoring_search a \n",
    "where \ta.id not in (select monitoring_search_id from hashtag_counter_job_rec)\n",
    "order by created_date desc\n",
    "limit 1\n",
    "\"\"\"\n",
    "\n",
    "df_db_id = dconn.execute_query_psql(sql)\n",
    "const_monitoring_search_id = df_db_id.iloc[0]['id']\n",
    "print(const_monitoring_search_id)\n",
    "\n",
    "# query monitoring-media-social\n",
    "sql = \"\"\"\n",
    "select \t*\n",
    "from monitoring_media_social \n",
    "where monitoring_search_id = '%s'\n",
    "\"\"\" % (const_monitoring_search_id)\n",
    "#\n",
    "df_monitoring_media_social = dconn.execute_query_psql(sql)\n",
    "\n",
    "# query monitoring-media-online\n",
    "sql = \"\"\"\n",
    "select \t*\n",
    "from monitoring_media_online\n",
    "where monitoring_search_id = '%s'\n",
    "\"\"\" % (const_monitoring_search_id)\n",
    "#\n",
    "df_monitoring_media_online = dconn.execute_query_psql(sql)"
   ]
  },
  {
   "cell_type": "code",
   "execution_count": 2,
   "id": "7eec5ef5-c5d7-4f87-b910-714e400edae1",
   "metadata": {
    "execution": {
     "iopub.execute_input": "2024-08-13T09:33:05.330435Z",
     "iopub.status.busy": "2024-08-13T09:33:05.329625Z",
     "iopub.status.idle": "2024-08-13T09:33:05.399507Z",
     "shell.execute_reply": "2024-08-13T09:33:05.398788Z"
    }
   },
   "outputs": [],
   "source": [
    "import re\n",
    "\n",
    "def expand_hashtag(text):\n",
    "    hashtags = []\n",
    "    # print(text)\n",
    "    for match in re.findall(r'#(\\w+)', text):\n",
    "        # print(match)\n",
    "        hashtags.append(match)\n",
    "    return hashtags\n",
    "\n",
    "def process_posts(df_source, platform_id):\n",
    "    # List to store the result\n",
    "    result_list = []\n",
    "\n",
    "    for index in tqdm(range(len(df_source)), desc=\"Processing posts\"):\n",
    "        strTweetString = str(df_source['post_content'].iloc[index])\n",
    "        monitoring_id = str(df_source['monitoring_id'].iloc[index])\n",
    "        # check if string is empty\n",
    "        if strTweetString.strip() != \"\":\n",
    "            list_res = expand_hashtag(strTweetString)\n",
    "            # check if no hashtag found\n",
    "            if len(list_res) > 0:\n",
    "                for value in list_res:\n",
    "                    new_row = {\n",
    "                        'monitoring_id': monitoring_id,\n",
    "                        'hashtag_content': value,\n",
    "                        'platform_id': platform_id,\n",
    "                        'post_id': df_source['post_id'].iloc[index]\n",
    "                    }\n",
    "                    result_list.append(new_row)\n",
    "\n",
    "    # Convert the list of dictionaries to a DataFrame if needed\n",
    "    # df_hashtag = pd.DataFrame(result_list)\n",
    "    return result_list\n",
    "\n",
    "class DatabaseConnection:\n",
    "    def __init__(self, dbname, user, password, host, port):\n",
    "        self.dbname = dbname\n",
    "        self.user = user\n",
    "        self.password = password\n",
    "        self.host = host\n",
    "        self.port = port\n",
    "        self.conn = None\n",
    "\n",
    "    def get_connection(self):\n",
    "        if self.conn is None:\n",
    "            self.conn = psycopg2.connect(\n",
    "                dbname=self.dbname,\n",
    "                user=self.user,\n",
    "                password=self.password,\n",
    "                host=self.host,\n",
    "                port=self.port\n",
    "            )\n",
    "        return self.conn\n",
    "\n",
    "    def execute_query_psql(self, query, values=None):\n",
    "        conn = self.get_connection()\n",
    "        cursor = conn.cursor()\n",
    "        try:\n",
    "            if values:\n",
    "                cursor.execute(query, values)\n",
    "            else:\n",
    "                cursor.execute(query)\n",
    "            conn.commit()\n",
    "        except Exception as e:\n",
    "            conn.rollback()\n",
    "            print(f\"Error executing query: {e}\")\n",
    "        finally:\n",
    "            cursor.close()\n",
    "\n",
    "    def close_connection(self):\n",
    "        if self.conn:\n",
    "            self.conn.close()\n",
    "            self.conn = None\n",
    "\n",
    "def insert_data(result_list, dc, batch_size=100):\n",
    "    conn = dc.get_connection()\n",
    "    cursor = conn.cursor()\n",
    "\n",
    "    insert_query = \"\"\"\n",
    "        INSERT INTO public.hashtag_counter_monitor (media_social_monitoring_id, post_id, hashtag_content, platform_id, process_time)\n",
    "        VALUES %s\n",
    "    \"\"\"\n",
    "\n",
    "    values_template = \"(%s, %s, %s, %s, NOW())\"\n",
    "\n",
    "    try:\n",
    "        for i in tqdm(range(0, len(result_list), batch_size), desc=\"Inserting data\"):\n",
    "            batch = result_list[i:i + batch_size]\n",
    "            values = [\n",
    "                (record['monitoring_id'], str(record['post_id']), record['hashtag_content'], record['platform_id'])\n",
    "                for record in batch\n",
    "            ]\n",
    "\n",
    "            extras.execute_values(\n",
    "                cursor, insert_query, values, template=values_template\n",
    "            )\n",
    "\n",
    "            conn.commit()\n",
    "\n",
    "    except Exception as e:\n",
    "        conn.rollback()\n",
    "        print(f\"Error occurred: {e}\")\n",
    "    finally:\n",
    "        cursor.close()\n",
    "        dc.close_connection()\n",
    "    "
   ]
  },
  {
   "cell_type": "code",
   "execution_count": 3,
   "id": "68d98062-f277-4b01-bfd5-fb8034eabc08",
   "metadata": {
    "execution": {
     "iopub.execute_input": "2024-08-13T09:33:05.402951Z",
     "iopub.status.busy": "2024-08-13T09:33:05.402453Z",
     "iopub.status.idle": "2024-08-13T09:33:05.406160Z",
     "shell.execute_reply": "2024-08-13T09:33:05.405554Z"
    }
   },
   "outputs": [],
   "source": [
    "# Example usage\n",
    "dc = DatabaseConnection(\n",
    "    dbname='medols',\n",
    "    user='postgres',\n",
    "    password='FEWcTB3JIX5gK4T06c1MdkM9N2S8w9pb',\n",
    "    host='98.98.117.105',\n",
    "    port='5432'\n",
    ")"
   ]
  },
  {
   "cell_type": "code",
   "execution_count": 4,
   "id": "2803fc68-a611-4eab-ad5b-a73799be4cce",
   "metadata": {
    "execution": {
     "iopub.execute_input": "2024-08-13T09:33:05.409605Z",
     "iopub.status.busy": "2024-08-13T09:33:05.408909Z",
     "iopub.status.idle": "2024-08-13T09:33:05.555020Z",
     "shell.execute_reply": "2024-08-13T09:33:05.554230Z"
    },
    "scrolled": true
   },
   "outputs": [
    {
     "name": "stdout",
     "output_type": "stream",
     "text": [
      "Twitter: True\n",
      "Tiktok: False\n",
      "Facebook: False\n",
      "Instagram: False\n",
      "Youtube: False\n",
      "\n",
      "        select \ta.id as post_id,\n",
      "        \t\ta.tweet as post_content,\n",
      "                a.monitoring_id\n",
      "        from \ttwitter_tweets a\n",
      "        where \tmonitoring_id = '401e8c50-373d-470f-b141-2d98de024a74'\n",
      "        \n"
     ]
    },
    {
     "name": "stderr",
     "output_type": "stream",
     "text": [
      "\r",
      "Processing posts:   0%|          | 0/66 [00:00<?, ?it/s]"
     ]
    },
    {
     "name": "stderr",
     "output_type": "stream",
     "text": [
      "\r",
      "Processing posts: 100%|██████████| 66/66 [00:00<00:00, 8550.55it/s]"
     ]
    },
    {
     "name": "stderr",
     "output_type": "stream",
     "text": [
      "\n"
     ]
    },
    {
     "name": "stderr",
     "output_type": "stream",
     "text": [
      "\r",
      "Inserting data:   0%|          | 0/4 [00:00<?, ?it/s]"
     ]
    },
    {
     "name": "stderr",
     "output_type": "stream",
     "text": [
      "\r",
      "Inserting data: 100%|██████████| 4/4 [00:00<00:00, 97.61it/s]"
     ]
    },
    {
     "name": "stderr",
     "output_type": "stream",
     "text": [
      "\n"
     ]
    }
   ],
   "source": [
    "iCtr = 0\n",
    "\n",
    "if(len(df_monitoring_media_social) > 0):\n",
    "    s_m_id = df_monitoring_media_social.iloc[0]['id']\n",
    "    print(\"Twitter: %s\" % df_db_id.iloc[0]['is_twitter'])\n",
    "    print(\"Tiktok: %s\" % df_db_id.iloc[0]['is_tiktok'])\n",
    "    print(\"Facebook: %s\" % df_db_id.iloc[0]['is_facebook'])\n",
    "    print(\"Instagram: %s\" % df_db_id.iloc[0]['is_instagram'])\n",
    "    print(\"Youtube: %s\" % df_db_id.iloc[0]['is_youtube'])\n",
    "    \n",
    "    # Processing jobs for each platform\n",
    "    # 10 = tiktok\n",
    "    # 20 = youtube\n",
    "    # 30 = instagram_post\n",
    "    # 40 = facebook_post\n",
    "    # 50 = google_result\n",
    "    # 60 = twitter_tweets\n",
    "    \n",
    "    # query the data source\n",
    "    if (df_db_id.iloc[0]['is_twitter']):\n",
    "        # query from twitter\n",
    "        sql = \"\"\"\n",
    "        select \ta.id as post_id,\n",
    "        \t\ta.tweet as post_content,\n",
    "                a.monitoring_id\n",
    "        from \ttwitter_tweets a\n",
    "        where \tmonitoring_id = '%s'\n",
    "        \"\"\" % (s_m_id)\n",
    "        print(sql)\n",
    "        df_source = dconn.execute_query_psql(sql)\n",
    "        if (len(df_source) > 0):\n",
    "            df_result_hashtag = process_posts(df_source,'60')\n",
    "            insert_data(df_result_hashtag, dc)\n",
    "            iCtr = iCtr + len(df_result_hashtag)\n",
    "    \n",
    "    if (df_db_id.iloc[0]['is_tiktok']):\n",
    "        # query from tiktok\n",
    "        sql = '''\n",
    "        select  id as post_id,\n",
    "                tiktok.\"desc\" as post_content, \n",
    "                monitoring_id\n",
    "        from    tiktok\n",
    "        where   monitoring_id = %s\n",
    "        ''' % (\"'\" + str(s_m_id) + \"'\")\n",
    "        print(sql)\n",
    "        df_source = dconn.execute_query_psql(sql)\n",
    "        if (len(df_source) > 0):\n",
    "            df_result_hashtag = process_posts(df_source,'10')\n",
    "            insert_data(df_result_hashtag, dc)\n",
    "            iCtr = iCtr + len(df_result_hashtag) \n",
    "    \n",
    "    if (df_db_id.iloc[0]['is_facebook']):\n",
    "        # query from facebook\n",
    "        sql = \"\"\"\n",
    "        select \tid as post_id,\n",
    "        \t\tdescription as post_content,\n",
    "        \t\tmonitoring_id \n",
    "        from \tfacebook_post \n",
    "        where \tmonitoring_id = '%s'\n",
    "        \"\"\" % (s_m_id)\n",
    "        print(sql)\n",
    "        df_source = dconn.execute_query_psql(sql)\n",
    "        if (len(df_source) > 0):\n",
    "            df_result_hashtag = process_posts(df_source,'40')\n",
    "            insert_data(df_result_hashtag, dc)\n",
    "            iCtr = iCtr + len(df_result_hashtag) \n",
    "    \n",
    "    if (df_db_id.iloc[0]['is_instagram']):\n",
    "        # query from instagram\n",
    "        sql = \"\"\"\n",
    "        select \tid as post_id,\n",
    "        \t\tcontent as post_content,\n",
    "        \t\tmonitoring_id\n",
    "        from \tinstagram_post \n",
    "        where \tmonitoring_id = '%s'\n",
    "        \"\"\" % (s_m_id)\n",
    "        print(sql)\n",
    "        df_source = dconn.execute_query_psql(sql)\n",
    "        if (len(df_source) > 0):\n",
    "            df_result_hashtag = process_posts(df_source,'30')\n",
    "            insert_data(df_result_hashtag, dc)\n",
    "            iCtr = iCtr + len(df_result_hashtag)\n",
    "    \n",
    "    if (df_db_id.iloc[0]['is_youtube']):\n",
    "        # query from youtube\n",
    "        sql = \"\"\"\n",
    "        select  id as post_id,\n",
    "        \t\ttitle as post_content,\n",
    "        \t\tmonitoring_id \n",
    "        from \tyoutube \n",
    "        where \tmonitoring_id = '%s'\n",
    "        \"\"\" % (s_m_id)\n",
    "        print(sql)\n",
    "        df_source = dconn.execute_query_psql(sql)\n",
    "        if (len(df_source) > 0):\n",
    "            df_result_hashtag = process_posts(df_source,'20')\n",
    "            insert_data(df_result_hashtag, dc)\n",
    "            iCtr = iCtr + len(df_result_hashtag)\n",
    "            \n",
    "    # if (len(df_monitoring_media_online) > 0):\n",
    "        # query\n",
    "        \n",
    "\n",
    "    "
   ]
  },
  {
   "cell_type": "markdown",
   "id": "f6ef1467-3814-4b7c-be2d-a8c6f5609162",
   "metadata": {},
   "source": [
    "## Record the result\n",
    "into table hashtags_counter"
   ]
  },
  {
   "cell_type": "code",
   "execution_count": 5,
   "id": "c3f99e5d-5837-43ed-a020-266bd142880d",
   "metadata": {
    "execution": {
     "iopub.execute_input": "2024-08-13T09:33:05.558046Z",
     "iopub.status.busy": "2024-08-13T09:33:05.557712Z",
     "iopub.status.idle": "2024-08-13T09:33:05.617798Z",
     "shell.execute_reply": "2024-08-13T09:33:05.617107Z"
    }
   },
   "outputs": [
    {
     "name": "stdout",
     "output_type": "stream",
     "text": [
      "\n",
      "insert into hashtag_counter_job_rec (monitoring_search_id, process_time, hashtag_count)\n",
      "values ('20c6b64a-a558-46af-8b8c-8a2c69ef4835',now(),'335')\n",
      "\n"
     ]
    },
    {
     "data": {
      "text/plain": [
       "1"
      ]
     },
     "execution_count": 5,
     "metadata": {},
     "output_type": "execute_result"
    }
   ],
   "source": [
    "ssql = \"\"\"\n",
    "insert into hashtag_counter_job_rec (monitoring_search_id, process_time, hashtag_count)\n",
    "values ('%s',now(),'%s')\n",
    "\"\"\"\n",
    "ssql = ssql % (const_monitoring_search_id, iCtr)\n",
    "print(ssql)\n",
    "dconn.execute_query_psql(ssql)"
   ]
  },
  {
   "cell_type": "code",
   "execution_count": 6,
   "id": "c0d092a6-d6e9-4536-a22a-9060c2a8530c",
   "metadata": {
    "execution": {
     "iopub.execute_input": "2024-08-13T09:33:05.620860Z",
     "iopub.status.busy": "2024-08-13T09:33:05.620184Z",
     "iopub.status.idle": "2024-08-13T09:33:06.624771Z",
     "shell.execute_reply": "2024-08-13T09:33:06.624140Z"
    }
   },
   "outputs": [],
   "source": [
    "# wait 10 seconds before finished\n",
    "import time\n",
    "time.sleep(1)"
   ]
  }
 ],
 "metadata": {
  "kernelspec": {
   "display_name": "Python 3 (ipykernel)",
   "language": "python",
   "name": "python3"
  },
  "language_info": {
   "codemirror_mode": {
    "name": "ipython",
    "version": 3
   },
   "file_extension": ".py",
   "mimetype": "text/x-python",
   "name": "python",
   "nbconvert_exporter": "python",
   "pygments_lexer": "ipython3",
   "version": "3.10.9"
  }
 },
 "nbformat": 4,
 "nbformat_minor": 5
}
