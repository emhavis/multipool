{
 "cells": [
  {
   "cell_type": "markdown",
   "id": "6f0ac78d-ee02-481f-acd3-1a069a0b37a5",
   "metadata": {
    "tags": []
   },
   "source": [
    "    db_params = {\n",
    "        'host': '103.82.242.92',\n",
    "        'port': '5710',\n",
    "        'database': 'medols',\n",
    "        'user': 'postgres',\n",
    "        'password': 'FEWcTB3JIX5gK4T06c1MdkM9N2S8w9pb',\n",
    "    }"
   ]
  },
  {
   "cell_type": "code",
   "execution_count": 6,
   "id": "ecd7e636-4d7f-49c7-8aff-29536d94e076",
   "metadata": {},
   "outputs": [],
   "source": [
    "from sqlalchemy import create_engine, Column, Integer, String, MetaData, Table\n",
    "from sqlalchemy.sql import text\n",
    "from sqlalchemy.orm import sessionmaker\n",
    "import pandas as pd\n",
    "\n",
    "def execute_query(query, params=None):\n",
    "    # Set your PostgreSQL connection parameters\n",
    "    db_params = {\n",
    "        'host': '103.82.242.92',\n",
    "        'port': '5710',\n",
    "        'database': 'medols',\n",
    "        'user': 'postgres',\n",
    "        'password': 'FEWcTB3JIX5gK4T06c1MdkM9N2S8w9pb',\n",
    "    }\n",
    "\n",
    "    # Create a SQLAlchemy engine\n",
    "    engine = create_engine(f\"postgresql+psycopg2://{db_params['user']}:{db_params['password']}@{db_params['host']}:{db_params['port']}/{db_params['database']}\")\n",
    "\n",
    "    # Create a metadata object\n",
    "    metadata = MetaData(bind=engine)\n",
    "\n",
    "    # Example: Define your table\n",
    "    your_table = Table('your_table', metadata,\n",
    "                       Column('id', Integer, primary_key=True),\n",
    "                       Column('column1', String),\n",
    "                       Column('column2', String)\n",
    "                       )\n",
    "\n",
    "    # Create a session\n",
    "    Session = sessionmaker(bind=engine)\n",
    "    session = Session()\n",
    "\n",
    "    try:\n",
    "        # Execute the query with optional parameters\n",
    "        result = session.execute(text(query), params)\n",
    "\n",
    "        # Check if the query is a SELECT query\n",
    "        is_select_query = result.returns_rows\n",
    "\n",
    "        if is_select_query:\n",
    "            # Fetch the data and return as a Pandas DataFrame\n",
    "            columns = result.keys()\n",
    "            fetched_data = result.fetchall()\n",
    "            df = pd.DataFrame(fetched_data, columns=columns)\n",
    "            # print(\"Fetched Data as DataFrame:\")\n",
    "            # print(df)\n",
    "            return df\n",
    "        else:\n",
    "            # Get the number of rows affected for non-SELECT queries\n",
    "            rows_affected = result.rowcount\n",
    "\n",
    "            # Commit the changes to the database for non-SELECT queries\n",
    "            session.commit()\n",
    "\n",
    "            print(f\"Query executed successfully. {rows_affected} rows affected.\")\n",
    "            return rows_affected\n",
    "    except Exception as e:\n",
    "        # Rollback changes if there's an error\n",
    "        session.rollback()\n",
    "        print(f\"Error executing query: {e}\")\n",
    "    finally:\n",
    "        # Close the session\n",
    "        session.close()"
   ]
  },
  {
   "cell_type": "code",
   "execution_count": 22,
   "id": "46f9e25a-ddc2-45a9-adb1-b7e353c4a311",
   "metadata": {},
   "outputs": [
    {
     "name": "stdout",
     "output_type": "stream",
     "text": [
      "Query executed successfully. 0 rows affected.\n"
     ]
    },
    {
     "data": {
      "text/plain": [
       "0"
      ]
     },
     "execution_count": 22,
     "metadata": {},
     "output_type": "execute_result"
    }
   ],
   "source": [
    "# Example usage:\n",
    "# SELECT query\n",
    "# select_query = \"SELECT * FROM available_db WHERE id = :value_to_select\"\n",
    "# select_params = {'value_to_select': '1'}\n",
    "# df_ret = execute_query(select_query, select_params)\n",
    "\n",
    "# INSERT query\n",
    "# insert_query = \"INSERT INTO res_available_db (id, res_available_db, keyword, created_at,db_id) VALUES(:value3, :value1, :value2, now(), :value4)\"\n",
    "# insert_params = {'value1': 'xxx-dbname', 'value2': 'xxx', 'value3':'132', 'value4':'136'}\n",
    "# execute_query(insert_query, insert_params)\n",
    "\n",
    "# # UPDATE query\n",
    "# update_query = \"UPDATE res_available_db SET keyword = :new_value WHERE id = :condition_value\"\n",
    "# update_params = {'new_value': 'xxx-2', 'condition_value': '132'}\n",
    "# execute_query(update_query, update_params)\n",
    "\n",
    "# DELETE query\n",
    "# delete_query = \"DELETE FROM res_available_db WHERE id = :value_to_delete\"\n",
    "# delete_params = {'value_to_delete': '132'}\n",
    "# execute_query(delete_query, delete_params)\n"
   ]
  },
  {
   "cell_type": "code",
   "execution_count": 10,
   "id": "959ea761-e86f-463e-a3d7-a9f0db518f2a",
   "metadata": {},
   "outputs": [
    {
     "data": {
      "text/html": [
       "<div>\n",
       "<style scoped>\n",
       "    .dataframe tbody tr th:only-of-type {\n",
       "        vertical-align: middle;\n",
       "    }\n",
       "\n",
       "    .dataframe tbody tr th {\n",
       "        vertical-align: top;\n",
       "    }\n",
       "\n",
       "    .dataframe thead th {\n",
       "        text-align: right;\n",
       "    }\n",
       "</style>\n",
       "<table border=\"1\" class=\"dataframe\">\n",
       "  <thead>\n",
       "    <tr style=\"text-align: right;\">\n",
       "      <th></th>\n",
       "      <th>id</th>\n",
       "      <th>dbname</th>\n",
       "      <th>keyword</th>\n",
       "      <th>since</th>\n",
       "      <th>until</th>\n",
       "      <th>count</th>\n",
       "      <th>scrape_datetime</th>\n",
       "      <th>created_at</th>\n",
       "      <th>status</th>\n",
       "      <th>type</th>\n",
       "      <th>target_date</th>\n",
       "    </tr>\n",
       "  </thead>\n",
       "  <tbody>\n",
       "    <tr>\n",
       "      <th>0</th>\n",
       "      <td>1</td>\n",
       "      <td>20201104-105318-2434</td>\n",
       "      <td>#ObyektifDipercayaPartisipasi</td>\n",
       "      <td>2020-11-02</td>\n",
       "      <td>2020-11-03</td>\n",
       "      <td>11055</td>\n",
       "      <td>2020-11-04 10:53:18</td>\n",
       "      <td>2020-11-24 20:43:03</td>\n",
       "      <td>0</td>\n",
       "      <td>0</td>\n",
       "      <td>None</td>\n",
       "    </tr>\n",
       "  </tbody>\n",
       "</table>\n",
       "</div>"
      ],
      "text/plain": [
       "   id                dbname                        keyword       since  \\\n",
       "0   1  20201104-105318-2434  #ObyektifDipercayaPartisipasi  2020-11-02   \n",
       "\n",
       "        until  count     scrape_datetime          created_at  status  type  \\\n",
       "0  2020-11-03  11055 2020-11-04 10:53:18 2020-11-24 20:43:03       0     0   \n",
       "\n",
       "  target_date  \n",
       "0        None  "
      ]
     },
     "execution_count": 10,
     "metadata": {},
     "output_type": "execute_result"
    }
   ],
   "source": [
    "df_ret.head()"
   ]
  }
 ],
 "metadata": {
  "kernelspec": {
   "display_name": "Python 3",
   "language": "python",
   "name": "python3"
  },
  "language_info": {
   "codemirror_mode": {
    "name": "ipython",
    "version": 3
   },
   "file_extension": ".py",
   "mimetype": "text/x-python",
   "name": "python",
   "nbconvert_exporter": "python",
   "pygments_lexer": "ipython3",
   "version": "3.6.8"
  }
 },
 "nbformat": 4,
 "nbformat_minor": 5
}
