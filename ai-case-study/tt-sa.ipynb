{
 "cells": [
  {
   "cell_type": "markdown",
   "id": "1527ca54-637f-42bd-9f46-b5ff23177b07",
   "metadata": {},
   "source": [
    "## Struktur Data Sentimen Analysis Tiktok\n",
    "\n",
    "1. Job queue; disimpan di screen_analisis_ai\n",
    "dengan relasi screen_analisis_ai\n",
    "\n",
    "2. "
   ]
  }
 ],
 "metadata": {
  "kernelspec": {
   "display_name": "Python 3 (ipykernel)",
   "language": "python",
   "name": "python3"
  },
  "language_info": {
   "codemirror_mode": {
    "name": "ipython",
    "version": 3
   },
   "file_extension": ".py",
   "mimetype": "text/x-python",
   "name": "python",
   "nbconvert_exporter": "python",
   "pygments_lexer": "ipython3",
   "version": "3.8.10"
  }
 },
 "nbformat": 4,
 "nbformat_minor": 5
}
