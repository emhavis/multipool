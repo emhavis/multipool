{
 "cells": [
  {
   "cell_type": "code",
   "execution_count": 2,
   "id": "06ea1631-0855-4f16-a247-740a5b2c26a4",
   "metadata": {},
   "outputs": [
    {
     "name": "stderr",
     "output_type": "stream",
     "text": [
      "Processing duplicates: 100%|█| 1053/1053 [00\n"
     ]
    },
    {
     "name": "stdout",
     "output_type": "stream",
     "text": [
      "Unique constraint added to instagram_post_id\n"
     ]
    }
   ],
   "source": [
    "import psycopg2\n",
    "from tqdm import tqdm\n",
    "\n",
    "# Database connection\n",
    "connection = psycopg2.connect(\n",
    "    host='128.1.227.35',\n",
    "    user='postgres',\n",
    "    password='FEWcTB3JIX5gK4T06c1MdkM9N2S8w9pb',\n",
    "    database='medols'\n",
    ")\n",
    "\n",
    "try:\n",
    "    with connection.cursor() as cursor:\n",
    "        # Find duplicate instagram_post_id\n",
    "        find_duplicates_sql = \"\"\"\n",
    "        SELECT instagram_post_id, COUNT(*)\n",
    "        FROM instagram_post_sentiment\n",
    "        GROUP BY instagram_post_id\n",
    "        HAVING COUNT(*) > 1\n",
    "        \"\"\"\n",
    "        cursor.execute(find_duplicates_sql)\n",
    "        duplicates = cursor.fetchall()\n",
    "\n",
    "        # Handle duplicates with tqdm progress bar\n",
    "        for instagram_post_id, count in tqdm(duplicates, desc=\"Processing duplicates\"):\n",
    "            # print(f\"Found {count} duplicates for instagram_post_id: {instagram_post_id}\")\n",
    "\n",
    "            # Select rows with the duplicate instagram_post_id\n",
    "            select_duplicates_sql = \"\"\"\n",
    "            SELECT id\n",
    "            FROM instagram_post_sentiment\n",
    "            WHERE instagram_post_id = %s\n",
    "            \"\"\"\n",
    "            cursor.execute(select_duplicates_sql, (instagram_post_id,))\n",
    "            duplicate_rows = cursor.fetchall()\n",
    "\n",
    "            # Keep the first occurrence and remove the others\n",
    "            ids_to_delete = [row[0] for row in duplicate_rows[1:]]\n",
    "\n",
    "            if ids_to_delete:\n",
    "                delete_duplicates_sql = \"\"\"\n",
    "                DELETE FROM instagram_post_sentiment\n",
    "                WHERE id IN (%s)\n",
    "                \"\"\" % ', '.join(map(str, ids_to_delete))\n",
    "                cursor.execute(delete_duplicates_sql)\n",
    "                # print(f\"Deleted {len(ids_to_delete)} duplicate rows for instagram_post_id: {instagram_post_id}\")\n",
    "\n",
    "        # Commit the changes\n",
    "        connection.commit()\n",
    "\n",
    "finally:\n",
    "    connection.close()\n",
    "\n",
    "# Now add the unique constraint\n",
    "connection = psycopg2.connect(\n",
    "    host='128.1.227.35',\n",
    "    user='postgres',\n",
    "    password='FEWcTB3JIX5gK4T06c1MdkM9N2S8w9pb',\n",
    "    database='medols'\n",
    ")\n",
    "\n",
    "try:\n",
    "    with connection.cursor() as cursor:\n",
    "        add_constraint_sql = \"\"\"\n",
    "        ALTER TABLE instagram_post_sentiment\n",
    "        ADD CONSTRAINT unique_instagram_post_id UNIQUE (instagram_post_id)\n",
    "        \"\"\"\n",
    "        cursor.execute(add_constraint_sql)\n",
    "        connection.commit()\n",
    "        print(\"Unique constraint added to instagram_post_id\")\n",
    "\n",
    "finally:\n",
    "    connection.close()\n"
   ]
  },
  {
   "cell_type": "code",
   "execution_count": null,
   "id": "91c29a83-27bf-4792-ae13-040cbcaeb9c6",
   "metadata": {},
   "outputs": [],
   "source": []
  }
 ],
 "metadata": {
  "kernelspec": {
   "display_name": "Python 3 (ipykernel)",
   "language": "python",
   "name": "python3"
  },
  "language_info": {
   "codemirror_mode": {
    "name": "ipython",
    "version": 3
   },
   "file_extension": ".py",
   "mimetype": "text/x-python",
   "name": "python",
   "nbconvert_exporter": "python",
   "pygments_lexer": "ipython3",
   "version": "3.10.9"
  }
 },
 "nbformat": 4,
 "nbformat_minor": 5
}
