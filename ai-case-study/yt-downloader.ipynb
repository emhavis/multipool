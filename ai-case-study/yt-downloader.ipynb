{
 "cells": [
  {
   "cell_type": "markdown",
   "id": "01ce0c33-b51d-4c20-b6ec-04d1c2d119ee",
   "metadata": {},
   "source": [
    "# Youtube Downloader\n",
    "Download unique video based on youtube trend table, on daily basis\n"
   ]
  },
  {
   "cell_type": "code",
   "execution_count": 15,
   "id": "5139dc79-a4c3-4e92-8aab-6e7098762dd8",
   "metadata": {},
   "outputs": [],
   "source": [
    "import pytube\n",
    "import data_connector as dc\n",
    "\n",
    "def download_video(youtube_id):\n",
    "    url_prefix = 'https://www.youtube.com/watch?v='\n",
    "    url = url_prefix + 'orAxVGdA06o'\n",
    "    print(url)\n",
    "    video = yt_obj.streams.first()\n",
    "    video.download('video-data')"
   ]
  },
  {
   "cell_type": "code",
   "execution_count": 16,
   "id": "0fb25687-9be4-4e2d-9c17-9b6b064223f3",
   "metadata": {},
   "outputs": [],
   "source": [
    "import os\n",
    "import logging\n",
    "import shutil\n",
    "from pytube import YouTube\n",
    "from moviepy.editor import VideoFileClip\n",
    "\n",
    "# Configure logging\n",
    "logging.basicConfig(filename='error.log', level=logging.ERROR,\n",
    "                    format='%(asctime)s - %(levelname)s - %(message)s')\n",
    "\n",
    "def download_youtube_video(video_id, output_filename=None, target_path='./video-data/'):\n",
    "    try:\n",
    "        # Construct the YouTube video URL using the video ID\n",
    "        video_url = f\"https://www.youtube.com/watch?v={video_id}\"\n",
    "        \n",
    "        # Create a YouTube object\n",
    "        yt = YouTube(video_url)\n",
    "        \n",
    "        # Get the video duration\n",
    "        video_duration = yt.length\n",
    "        \n",
    "        # Check if the video duration is more than 20 minutes\n",
    "        if video_duration > 1200:  # 20 minutes in seconds\n",
    "            # If the duration is more than 20 minutes, download only the first five minutes\n",
    "            # output_filename = \"first_five_minutes_\" + output_filename if output_filename else \"first_five_minutes_\" + yt.title + \".mp4\"\n",
    "            output_filename = output_filename if output_filename else yt.title + \".mp4\"\n",
    "            output_path = os.path.join(target_path, output_filename)\n",
    "            \n",
    "            # Download only the first five minutes of the video\n",
    "            video_clip = VideoFileClip(yt.streams.first().url).subclip(0, 300)  # Subclip from 0 to 300 seconds (5 minutes)\n",
    "            video_clip.write_videofile(output_path)\n",
    "        else:\n",
    "            # If the duration is 20 minutes or less, download the entire video\n",
    "            output_filename = output_filename if output_filename else yt.title + \".mp4\"\n",
    "            output_path = os.path.join(target_path, output_filename)\n",
    "            \n",
    "            # Download the entire video\n",
    "            stream = yt.streams.first()\n",
    "            stream.download(output_path=target_path, filename=output_filename)\n",
    "        \n",
    "        print(f\"Video '{yt.title}' downloaded successfully to '{output_path}'.\")\n",
    "    \n",
    "    except Exception as e:\n",
    "        error_message = f\"Error downloading video '{video_id}': {e}\"\n",
    "        print(error_message)\n",
    "        # Log the error\n",
    "        logging.error(error_message)\n"
   ]
  },
  {
   "cell_type": "code",
   "execution_count": 17,
   "id": "cd5d1877-81e2-48d4-9615-44cc861c0b50",
   "metadata": {},
   "outputs": [
    {
     "name": "stdout",
     "output_type": "stream",
     "text": [
      "\n",
      "select \ta.id \n",
      "from youtube_trend a inner join youtube_time_marker b \n",
      "on a.youtube_time_marker_id = b.id\n",
      "where \tdate(b.begin_datetime) = '2024-03-30'\n",
      "group by a.id \n",
      "\n"
     ]
    },
    {
     "data": {
      "text/html": [
       "<div>\n",
       "<style scoped>\n",
       "    .dataframe tbody tr th:only-of-type {\n",
       "        vertical-align: middle;\n",
       "    }\n",
       "\n",
       "    .dataframe tbody tr th {\n",
       "        vertical-align: top;\n",
       "    }\n",
       "\n",
       "    .dataframe thead th {\n",
       "        text-align: right;\n",
       "    }\n",
       "</style>\n",
       "<table border=\"1\" class=\"dataframe\">\n",
       "  <thead>\n",
       "    <tr style=\"text-align: right;\">\n",
       "      <th></th>\n",
       "      <th>id</th>\n",
       "    </tr>\n",
       "  </thead>\n",
       "  <tbody>\n",
       "    <tr>\n",
       "      <th>0</th>\n",
       "      <td>0mdriG39kc4</td>\n",
       "    </tr>\n",
       "    <tr>\n",
       "      <th>1</th>\n",
       "      <td>0SFtqr8T7Tc</td>\n",
       "    </tr>\n",
       "    <tr>\n",
       "      <th>2</th>\n",
       "      <td>527C74YLV20</td>\n",
       "    </tr>\n",
       "    <tr>\n",
       "      <th>3</th>\n",
       "      <td>6VfxHXc6Scg</td>\n",
       "    </tr>\n",
       "    <tr>\n",
       "      <th>4</th>\n",
       "      <td>86yRCcWqqnE</td>\n",
       "    </tr>\n",
       "  </tbody>\n",
       "</table>\n",
       "</div>"
      ],
      "text/plain": [
       "            id\n",
       "0  0mdriG39kc4\n",
       "1  0SFtqr8T7Tc\n",
       "2  527C74YLV20\n",
       "3  6VfxHXc6Scg\n",
       "4  86yRCcWqqnE"
      ]
     },
     "execution_count": 17,
     "metadata": {},
     "output_type": "execute_result"
    }
   ],
   "source": [
    "sSql = \"\"\"\n",
    "select \ta.id \n",
    "from youtube_trend a inner join youtube_time_marker b \n",
    "on a.youtube_time_marker_id = b.id\n",
    "where \tdate(b.begin_datetime) = '%s'\n",
    "group by a.id \n",
    "\"\"\"\n",
    "\n",
    "sSql = sSql % '2024-03-30'\n",
    "print(sSql)\n",
    "\n",
    "df_video = dc.execute_query_psql(sSql)\n",
    "df_video.head()\n"
   ]
  },
  {
   "cell_type": "code",
   "execution_count": 18,
   "id": "9ada1c8e-103f-4029-bcef-c7d9114fa772",
   "metadata": {},
   "outputs": [
    {
     "name": "stdout",
     "output_type": "stream",
     "text": [
      "0mdriG39kc4\n",
      "Video 'Pemuda Palestina Bunuh 7 IDF' downloaded successfully to './video-data/0mdriG39kc4.mp4'.\n",
      "0SFtqr8T7Tc\n",
      "Video 'HOTMAN PARIS Tanggapi Gugatan untuk Diskualifikasi Gibran: Itu Permohonan Super Cengeng❗' downloaded successfully to './video-data/0SFtqr8T7Tc.mp4'.\n",
      "527C74YLV20\n",
      "Moviepy - Building video ./video-data/527C74YLV20.mp4.\n",
      "MoviePy - Writing audio in 527C74YLV20TEMP_MPY_wvf_snd.mp3\n"
     ]
    },
    {
     "name": "stderr",
     "output_type": "stream",
     "text": [
      "                                                                      \r"
     ]
    },
    {
     "name": "stdout",
     "output_type": "stream",
     "text": [
      "MoviePy - Done.\n",
      "Moviepy - Writing video ./video-data/527C74YLV20.mp4\n",
      "\n"
     ]
    },
    {
     "name": "stderr",
     "output_type": "stream",
     "text": [
      "                                                                 \r"
     ]
    },
    {
     "name": "stdout",
     "output_type": "stream",
     "text": [
      "Moviepy - Done !\n",
      "Moviepy - video ready ./video-data/527C74YLV20.mp4\n",
      "Video 'Sidang Sengketa Pilpres 2024, Tim Hukum Anies Minta Gibran Didiskualifikasi - Breaking News 27/03' downloaded successfully to './video-data/527C74YLV20.mp4'.\n",
      "6VfxHXc6Scg\n",
      "Video 'Ayu Ting - Ting Cemas Foto Lettu Fardhana Saat Dinas Di Papua Tersebar #sensasi' downloaded successfully to './video-data/6VfxHXc6Scg.mp4'.\n",
      "86yRCcWqqnE\n",
      "Moviepy - Building video ./video-data/86yRCcWqqnE.mp4.\n",
      "MoviePy - Writing audio in 86yRCcWqqnETEMP_MPY_wvf_snd.mp3\n"
     ]
    },
    {
     "name": "stderr",
     "output_type": "stream",
     "text": [
      "                                                                      \r"
     ]
    },
    {
     "name": "stdout",
     "output_type": "stream",
     "text": [
      "MoviePy - Done.\n",
      "Moviepy - Writing video ./video-data/86yRCcWqqnE.mp4\n",
      "\n"
     ]
    },
    {
     "name": "stderr",
     "output_type": "stream",
     "text": [
      "                                                                 \r"
     ]
    },
    {
     "name": "stdout",
     "output_type": "stream",
     "text": [
      "Moviepy - Done !\n",
      "Moviepy - video ready ./video-data/86yRCcWqqnE.mp4\n",
      "Video 'BREAKING NEWS - Prabowo-Gibran Jawab Gugatan Anies Ganjar, Sidang Sengketa Pilpres 2024' downloaded successfully to './video-data/86yRCcWqqnE.mp4'.\n",
      "8ffcKEVB3Ko\n",
      "Video 'Prabowo Kaget Gibran Muncul, Sikap Langsung Berubah | Panas Pangkat AHY Disenggol di DPR' downloaded successfully to './video-data/8ffcKEVB3Ko.mp4'.\n",
      "ApFXe8Qw2Os\n",
      "Video 'TETAP SANTAI MESKIPUN SEDANG BAKU HANTAM! RESPON DINGIN KOMANDAN KOPASKA 🥶 #tniindonesia #berita' downloaded successfully to './video-data/ApFXe8Qw2Os.mp4'.\n",
      "b2h3WeGtspg\n",
      "Video 'Jawaban Risma Saat Dicecar DPR Soal Bansos - Part 1' downloaded successfully to './video-data/b2h3WeGtspg.mp4'.\n",
      "CELCWNk_8AI\n",
      "Video 'Hakim MK 'Marah' ke Tim AMIN di Sidang | Massa Pro & Kontra Lempar Batu | Hotman Tertawa Bareng Amin' downloaded successfully to './video-data/CELCWNk_8AI.mp4'.\n",
      "CV2F4ETZldQ\n",
      "Video 'Tim Kuasa Hukum Prabowo-Gibran: Gugatan Anies Merupakan Narasi & Opini' downloaded successfully to './video-data/CV2F4ETZldQ.mp4'.\n",
      "g3-5pJ67edE\n",
      "Moviepy - Building video ./video-data/g3-5pJ67edE.mp4.\n",
      "MoviePy - Writing audio in g3-5pJ67edETEMP_MPY_wvf_snd.mp3\n"
     ]
    },
    {
     "name": "stderr",
     "output_type": "stream",
     "text": [
      "                                                                      \r"
     ]
    },
    {
     "name": "stdout",
     "output_type": "stream",
     "text": [
      "MoviePy - Done.\n",
      "Moviepy - Writing video ./video-data/g3-5pJ67edE.mp4\n",
      "\n"
     ]
    },
    {
     "name": "stderr",
     "output_type": "stream",
     "text": [
      "                                                                 \r"
     ]
    },
    {
     "name": "stdout",
     "output_type": "stream",
     "text": [
      "Moviepy - Done !\n",
      "Moviepy - video ready ./video-data/g3-5pJ67edE.mp4\n",
      "Video 'Tim Pembela Prabowo Jawab Gugatan Sidang Hasil Pilpres: Narasi Lukai Hati Masyarakat' downloaded successfully to './video-data/g3-5pJ67edE.mp4'.\n",
      "g7JTtaw4aeg\n",
      "Video 'Tim AMIN Seret Nama Menteri Jokowi di Sidang MK' downloaded successfully to './video-data/g7JTtaw4aeg.mp4'.\n",
      "kg2zk7uhinU\n",
      "Video 'Rentetan Roket Hamas Serbu Ashdod Israel' downloaded successfully to './video-data/kg2zk7uhinU.mp4'.\n",
      "NI7FqT7hPXI\n",
      "Video 'Tegang! Debat Panas Anggota DPR saat Pangkat Mayor AHY Disinggung dalam Rapat' downloaded successfully to './video-data/NI7FqT7hPXI.mp4'.\n",
      "orAxVGdA06o\n",
      "Video 'Mahfud MD 'Ajari' Suhartoyo Jadi Hakim MK yang Berani saat Sidang Sengketa Pilpres 2024' downloaded successfully to './video-data/orAxVGdA06o.mp4'.\n",
      "pd6ZPrE8rro\n",
      "Video 'Prof. Denny Indrayana. Hampir pasti gugatan 01 dan 03 dikabulkan MK' downloaded successfully to './video-data/pd6ZPrE8rro.mp4'.\n",
      "Pf75yLACa3w\n",
      "Video 'Pendaftaran Gugat Sengketa Hasil Pemilu 2024 #shorts' downloaded successfully to './video-data/Pf75yLACa3w.mp4'.\n",
      "QWCCkyghu5Y\n",
      "Video 'Tiba-tiba Ketua MK Minta Video Jokowi Cawe cawe yang Diputar Tim Hukum AMIN Distop' downloaded successfully to './video-data/QWCCkyghu5Y.mp4'.\n",
      "VzmydAZGAAo\n",
      "Video 'Inalilahi bnyak yg nggak menyangka #steviagnecya #stevia #meninggaldunia #news #trending #fyp #viral' downloaded successfully to './video-data/VzmydAZGAAo.mp4'.\n",
      "_W3QvIJ3zrw\n",
      "Video 'YUSRIL Balas MAHFUD MD di SIDANG Sengketa Pilpres MK Gara2 Kutip Omongannya Soal MAHKAMAH KALKULATOR' downloaded successfully to './video-data/_W3QvIJ3zrw.mp4'.\n",
      "WvQeXgrpRb0\n",
      "Video 'Merespons Gugatan Timnas AMIN dan TPN, Otto: Apa yang Mau Dibongkar? | Breaking News tvOne' downloaded successfully to './video-data/WvQeXgrpRb0.mp4'.\n"
     ]
    }
   ],
   "source": [
    "for index in range(len(df_video)):\n",
    "    s_video_id = str(df_video['id'].iloc[index])\n",
    "    s_video_data = './video-data'\n",
    "    print(s_video_id)\n",
    "    download_youtube_video(s_video_id, target_path=s_video_data, output_filename=s_video_id+'.mp4')"
   ]
  }
 ],
 "metadata": {
  "kernelspec": {
   "display_name": "Python 3 (ipykernel)",
   "language": "python",
   "name": "python3"
  },
  "language_info": {
   "codemirror_mode": {
    "name": "ipython",
    "version": 3
   },
   "file_extension": ".py",
   "mimetype": "text/x-python",
   "name": "python",
   "nbconvert_exporter": "python",
   "pygments_lexer": "ipython3",
   "version": "3.8.10"
  }
 },
 "nbformat": 4,
 "nbformat_minor": 5
}
