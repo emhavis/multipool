{
 "cells": [
  {
   "cell_type": "markdown",
   "id": "dc88b042-9d24-48fc-94a3-6009b4951e7b",
   "metadata": {},
   "source": [
    "# Multipool Tribrata News Sentiment Analysis\n",
    "\n",
    "this function will get data from google_result table\n",
    "and calculate the sentiment analysis. Result is store in google_result_sentiment\n",
    "\n",
    "crontab command\n",
    "* * * * * /home/haviz/multipool/ai-case-study/run-ai-sa-tbn.sh >> /home/haviz/multipool/ai-sa-tbn.log\n",
    "\n"
   ]
  },
  {
   "cell_type": "code",
   "execution_count": 1,
   "id": "39d0afb3-cd43-479c-a645-5eb16d589ba4",
   "metadata": {
    "execution": {
<<<<<<< HEAD
     "iopub.execute_input": "2024-06-01T12:34:08.712391Z",
     "iopub.status.busy": "2024-06-01T12:34:08.711651Z",
     "iopub.status.idle": "2024-06-01T12:34:27.492117Z",
     "shell.execute_reply": "2024-06-01T12:34:27.486113Z"
=======
     "iopub.execute_input": "2024-03-12T00:02:03.367288Z",
     "iopub.status.busy": "2024-03-12T00:02:03.366765Z",
     "iopub.status.idle": "2024-03-12T00:02:09.628476Z",
     "shell.execute_reply": "2024-03-12T00:02:09.627538Z"
>>>>>>> ce1d860e8f986e5a64cc79d9c113b22d7c00ddef
    }
   },
   "outputs": [],
   "source": [
    "import numpy as np\n",
    "import pandas as pd\n",
    "import seaborn as sn\n",
    "import matplotlib.pyplot as plt\n",
    "import pymysql.cursors\n",
    "import sqlalchemy as sa\n",
    "import nltk\n",
    "import string\n",
    "import os\n",
    "\n",
    "from nltk.corpus import stopwords \n",
    "from sqlalchemy import create_engine, Column, Integer, String, MetaData, Table\n",
    "from sqlalchemy.sql import text\n",
    "from sqlalchemy.orm import sessionmaker\n",
    "import pandas as pd\n",
    "\n",
    "# nltk.download('stopwords')\n",
    "\n",
    "\n",
    "os.environ['TF_CPP_MIN_LOG_LEVEL'] = '2'\n",
    "\n",
    "# Use a pipeline as a high-level helper\n",
    "from transformers import pipeline\n",
    "pipe = pipeline(\"text-classification\", model=\"ayameRushia/bert-base-indonesian-1.5G-sentiment-analysis-smsa\")"
   ]
  },
  {
   "cell_type": "code",
   "execution_count": 2,
   "id": "ec64d1af-b458-4c9e-9762-1d3d780b616f",
   "metadata": {
    "execution": {
<<<<<<< HEAD
     "iopub.execute_input": "2024-06-01T12:34:27.501016Z",
     "iopub.status.busy": "2024-06-01T12:34:27.498081Z",
     "iopub.status.idle": "2024-06-01T12:34:27.525317Z",
     "shell.execute_reply": "2024-06-01T12:34:27.519686Z"
=======
     "iopub.execute_input": "2024-03-12T00:02:09.632476Z",
     "iopub.status.busy": "2024-03-12T00:02:09.631767Z",
     "iopub.status.idle": "2024-03-12T00:02:09.638473Z",
     "shell.execute_reply": "2024-03-12T00:02:09.637808Z"
>>>>>>> ce1d860e8f986e5a64cc79d9c113b22d7c00ddef
    }
   },
   "outputs": [],
   "source": [
    "from sqlalchemy.util import deprecations\n",
    "deprecations.SILENCE_UBER_WARNING = True\n",
    "\n",
    "def execute_query(query, params=None):\n",
    "    # Set your PostgreSQL connection parameters\n",
    "    db_params = {\n",
    "        'host': '98.98.117.105',\n",
    "        'port': '5432',\n",
    "        'database': 'medols',\n",
    "        'user': 'postgres',\n",
    "        'password': 'FEWcTB3JIX5gK4T06c1MdkM9N2S8w9pb',\n",
    "    }\n",
    "\n",
    "    # Create a SQLAlchemy engine\n",
    "    engine = create_engine(f\"postgresql+psycopg2://{db_params['user']}:{db_params['password']}@{db_params['host']}:{db_params['port']}/{db_params['database']}\")\n",
    "\n",
    "    # Create a session\n",
    "    Session = sessionmaker(bind=engine)\n",
    "    session = Session()\n",
    "\n",
    "    try:\n",
    "        # Execute the query with optional parameters\n",
    "        result = session.execute(text(query), params)\n",
    "\n",
    "        # Check if the query is a SELECT query\n",
    "        is_select_query = result.returns_rows\n",
    "\n",
    "        if is_select_query:\n",
    "            # Fetch the data and return as a Pandas DataFrame\n",
    "            columns = result.keys()\n",
    "            fetched_data = result.fetchall()\n",
    "            df = pd.DataFrame(fetched_data, columns=columns)\n",
    "            # print(\"Fetched Data as DataFrame:\")\n",
    "            # print(df)\n",
    "            return df\n",
    "        else:\n",
    "            # Get the number of rows affected for non-SELECT queries\n",
    "            rows_affected = result.rowcount\n",
    "\n",
    "            # Commit the changes to the database for non-SELECT queries\n",
    "            session.commit()\n",
    "\n",
    "            print(f\"Query executed successfully. {rows_affected} rows affected.\")\n",
    "            return rows_affected\n",
    "    except Exception as e:\n",
    "        # Rollback changes if there's an error\n",
    "        session.rollback()\n",
    "        print(f\"Error executing query: {e}\")\n",
    "    finally:\n",
    "        # Close the session\n",
    "        session.close()"
   ]
  },
  {
   "cell_type": "code",
   "execution_count": 3,
   "id": "97cf0378-4165-46bd-abc9-05c3a9fe18ba",
   "metadata": {
    "execution": {
<<<<<<< HEAD
     "iopub.execute_input": "2024-06-01T12:34:27.533262Z",
     "iopub.status.busy": "2024-06-01T12:34:27.531116Z",
     "iopub.status.idle": "2024-06-01T12:34:27.562510Z",
     "shell.execute_reply": "2024-06-01T12:34:27.556970Z"
=======
     "iopub.execute_input": "2024-03-12T00:02:09.641088Z",
     "iopub.status.busy": "2024-03-12T00:02:09.640684Z",
     "iopub.status.idle": "2024-03-12T00:02:09.646568Z",
     "shell.execute_reply": "2024-03-12T00:02:09.645940Z"
>>>>>>> ce1d860e8f986e5a64cc79d9c113b22d7c00ddef
    }
   },
   "outputs": [],
   "source": [
    "import pandas as pd\n",
    "import re\n",
    "from sqlalchemy import create_engine\n",
    "\n",
    "def stemming(comment):\n",
    "    factory = StemmerFactory()\n",
    "    stemmer = factory.create_stemmer()\n",
    "    do = []\n",
    "    for w in comment:\n",
    "        dt = stemmer.stem(w)\n",
    "        do.append(dt)\n",
    "    d_clean = []\n",
    "    d_clean = \" \".join(do)\n",
    "    return d_clean\n",
    "    \n",
    "# function case folding\n",
    "def casefolding(comment):\n",
    "    comment = comment.lower()\n",
    "    comment = comment.strip(\" \")\n",
    "    comment = re.sub(r'[?|$|.|!_:\")(-+,]','',comment)\n",
    "    return comment\n",
    "\n",
    "def clean_up_tag(comment):\n",
    "    x_ret = ' '.join(re.sub(\"(@[A-Za-z0-9]+)|([^0-9A-Za-z \\t])|(\\w+:\\/\\/\\S+)\",\" \",comment).split())\n",
    "    return x_ret\n",
    "\n",
    "# Text Preprocessing, \n",
    "def text_preproc(strIn):\n",
    "    # case folding\n",
    "    strOut = strIn.lower()\n",
    "    \n",
    "    # remove numbers\n",
    "    strOut = re.sub(r\"\\d+\", \"\", strOut)\n",
    "    \n",
    "    # remote punctuation\n",
    "    strOut = strOut.translate(str.maketrans(\"\",\"\",string.punctuation))\n",
    "    \n",
    "    # remove whitspace\n",
    "    strOut = strOut.strip()\n",
    "    \n",
    "    # \n",
    "    strOut = re.sub('\\s+',' ',strOut)\n",
    "    return strOut"
   ]
  },
  {
   "cell_type": "code",
   "execution_count": 4,
   "id": "438a292a-3e97-4161-bcaf-1887c838ae1f",
   "metadata": {
    "execution": {
<<<<<<< HEAD
     "iopub.execute_input": "2024-06-01T12:34:27.574572Z",
     "iopub.status.busy": "2024-06-01T12:34:27.574077Z",
     "iopub.status.idle": "2024-06-01T12:34:27.599737Z",
     "shell.execute_reply": "2024-06-01T12:34:27.595203Z"
=======
     "iopub.execute_input": "2024-03-12T00:02:09.649197Z",
     "iopub.status.busy": "2024-03-12T00:02:09.648808Z",
     "iopub.status.idle": "2024-03-12T00:02:09.658066Z",
     "shell.execute_reply": "2024-03-12T00:02:09.657424Z"
>>>>>>> ce1d860e8f986e5a64cc79d9c113b22d7c00ddef
    }
   },
   "outputs": [],
   "source": [
    "def process_by_df(source_ds):\n",
    "    from tqdm import tqdm\n",
    "    pd.options.mode.chained_assignment = None \n",
    "\n",
    "    # we calculate sentiment for 'title' and 'description' column\n",
    "\n",
    "    # remove first\n",
    "    source_ds['title'] = source_ds['title'].apply(clean_up_tag)\n",
    "    source_ds['description'] = source_ds['content'].apply(clean_up_tag)\n",
    "\n",
    "\n",
    "    # skip stemming\n",
    "    source_ds['stemmed'] = source_ds['title']\n",
    "    source_ds['stemmed'] = source_ds['stemmed'].apply(casefolding)\n",
    "    source_ds['stemmed'] = source_ds['stemmed'].apply(text_preproc)\n",
    "\n",
    "    sw = stopwords.words('indonesian')\n",
    "    #tokenized\n",
    "    source_ds['tokenized_tweet'] = source_ds.apply(lambda row: nltk.word_tokenize(row['stemmed']), axis=1)\n",
    "\n",
    "    # apply stopword removal\n",
    "    source_ds['tokenized_tweet'] = source_ds.apply(lambda row: {w for w in row['tokenized_tweet'] if not w in sw}, axis=1)\n",
    "    sw = stopwords.words('indonesian')\n",
    "\n",
    "    #tokenized\n",
    "    source_ds['tokenized_tweet'] = source_ds.apply(lambda row: nltk.word_tokenize(row['stemmed']), axis=1)\n",
    "\n",
    "    # apply stopword removal\n",
    "    source_ds['tokenized_tweet'] = source_ds.apply(lambda row: {w for w in row['tokenized_tweet'] if not w in sw}, axis=1)\n",
    "\n",
    "    # Notes on return sentiment values\n",
    "    # 1 >> positif >> stay\n",
    "    # 2 >> negatif >> convert to -1\n",
    "    # 0 >> netral >> stay\n",
    "\n",
    "    # Create a new list and insert each element from the original list\n",
    "    from tqdm import tqdm\n",
    "\n",
    "    list_text = source_ds['stemmed'].tolist()\n",
    "    new_list = []\n",
    "    for i in tqdm(range( len(list_text) )):\n",
    "        res = pipe(list_text[i])\n",
    "        #print(res)\n",
    "        new_list.append(res)\n",
    "\n",
    "    # Notes on return sentiment values\n",
    "    # 1 >> positif >> stay\n",
    "    # 2 >> negatif >> convert to -1\n",
    "    # 0 >> netral >> stay\n",
    "    # create a list of our conditions\n",
    "    for i in range(0, len(new_list)):\n",
    "        # print(new_list[i][0]['label'])\n",
    "        if new_list[i][0]['label'] == 'Positive':\n",
    "            new_list[i][0]['Value'] = 1\n",
    "        elif new_list[i][0]['label'] == 'Negative':\n",
    "            new_list[i][0]['Value'] = -1\n",
    "        elif new_list[i][0]['label'] == 'Neutral':\n",
    "            new_list[i][0]['Value'] = 0\n",
    "\n",
    "    for index, row in source_ds.iterrows():\n",
    "        source_ds.at[index,'Prediction'] = new_list[index][0]['label']\n",
    "\n",
    "    for index, row in source_ds.iterrows():\n",
    "        source_ds.at[index,'Prediction'] = new_list[index][0]['label']\n",
    "        source_ds.at[index,'Score'] = new_list[index][0]['score']\n",
    "        #source_ds.at[index,'Score'] = new_list[index][0]['Value']\n",
    "        \n",
    "    return source_ds\n"
   ]
  },
  {
   "cell_type": "code",
   "execution_count": 5,
   "id": "3853b4df-3823-4ce4-8b18-bfe24581c81a",
   "metadata": {
    "execution": {
<<<<<<< HEAD
     "iopub.execute_input": "2024-06-01T12:34:27.607196Z",
     "iopub.status.busy": "2024-06-01T12:34:27.606791Z",
     "iopub.status.idle": "2024-06-01T12:34:27.650280Z",
     "shell.execute_reply": "2024-06-01T12:34:27.645546Z"
=======
     "iopub.execute_input": "2024-03-12T00:02:09.660584Z",
     "iopub.status.busy": "2024-03-12T00:02:09.660373Z",
     "iopub.status.idle": "2024-03-12T00:02:09.670326Z",
     "shell.execute_reply": "2024-03-12T00:02:09.669714Z"
>>>>>>> ce1d860e8f986e5a64cc79d9c113b22d7c00ddef
    }
   },
   "outputs": [],
   "source": [
    "def process_by_df_col(source_ds, col_name):\n",
    "    from tqdm import tqdm\n",
    "    pd.options.mode.chained_assignment = None \n",
    "    \n",
    "    # trim to 2500 character\n",
    "    source_ds[col_name] = source_ds[col_name].str.slice(0,2000)\n",
    "\n",
    "    # skip stemming\n",
    "    source_ds['stemmed'] = source_ds[col_name].apply(clean_up_tag)\n",
    "    source_ds['stemmed'] = source_ds['stemmed'].apply(casefolding)\n",
    "    source_ds['stemmed'] = source_ds['stemmed'].apply(text_preproc)\n",
    "\n",
    "    sw = stopwords.words('indonesian')\n",
    "    #tokenized\n",
    "    source_ds['tokenized_tweet'] = source_ds.apply(lambda row: nltk.word_tokenize(row['stemmed']), axis=1)\n",
    "\n",
    "    # apply stopword removal\n",
    "    source_ds['tokenized_tweet'] = source_ds.apply(lambda row: {w for w in row['tokenized_tweet'] if not w in sw}, axis=1)\n",
    "    sw = stopwords.words('indonesian')\n",
    "\n",
    "    #tokenized\n",
    "    source_ds['tokenized_tweet'] = source_ds.apply(lambda row: nltk.word_tokenize(row['stemmed']), axis=1)\n",
    "\n",
    "    # apply stopword removal\n",
    "    source_ds['tokenized_tweet'] = source_ds.apply(lambda row: {w for w in row['tokenized_tweet'] if not w in sw}, axis=1)\n",
    "\n",
    "    # Notes on return sentiment values\n",
    "    # 1 >> positif >> stay\n",
    "    # 2 >> negatif >> convert to -1\n",
    "    # 0 >> netral >> stay\n",
    "\n",
    "    # Create a new list and insert each element from the original list\n",
    "    from tqdm import tqdm\n",
    "\n",
    "    list_text = source_ds['stemmed'].tolist()\n",
    "    new_list = []\n",
    "    for i in tqdm(range( len(list_text) )):\n",
    "        # print(len(list_text[i]))\n",
    "        try:\n",
    "            if len(list_text[i]) > 0:\n",
    "                res = pipe( list_text[i] )\n",
    "                new_list.append(res)\n",
    "            else:\n",
    "                res = pipe( 'kalimat netral' )\n",
    "                new_list.append(res)\n",
    "                zip\n",
    "        except Exception as e:\n",
    "            # Handle the exception (error) here\n",
    "            print(f\"Error processing value at index {i}: {list_text[i]}\")\n",
    "            print(f\"Error message: {str(e)}\")\n",
    "            res = pipe( 'kalimat netral' )\n",
    "            new_list.append(res)      \n",
    "            \n",
    "            continue\n",
    "\n",
    "    # Notes on return sentiment values\n",
    "    # 1 >> positif >> stay\n",
    "    # 2 >> negatif >> convert to -1\n",
    "    # 0 >> netral >> stay\n",
    "    # create a list of our conditions\n",
    "    for i in range(0, len(new_list)):\n",
    "        # print(new_list[i][0]['label'])\n",
    "        if new_list[i][0]['label'] == 'Positive':\n",
    "            new_list[i][0]['Value'] = 1\n",
    "        elif new_list[i][0]['label'] == 'Negative':\n",
    "            new_list[i][0]['Value'] = -1\n",
    "        elif new_list[i][0]['label'] == 'Neutral':\n",
    "            new_list[i][0]['Value'] = 0\n",
    "\n",
    "    for index, row in source_ds.iterrows():\n",
    "        source_ds.at[index,'Prediction'] = new_list[index][0]['label']\n",
    "\n",
    "    for index, row in source_ds.iterrows():\n",
    "        source_ds.at[index,'Prediction'] = new_list[index][0]['label']\n",
    "        source_ds.at[index,'Score'] = new_list[index][0]['score']\n",
    "        #source_ds.at[index,'Score'] = new_list[index][0]['Value']\n",
    "        \n",
    "    return source_ds"
   ]
  },
  {
   "cell_type": "code",
   "execution_count": 6,
   "id": "325b5528-6ca4-411d-9b57-069e3a6d3a25",
   "metadata": {
    "execution": {
<<<<<<< HEAD
     "iopub.execute_input": "2024-06-01T12:34:27.658360Z",
     "iopub.status.busy": "2024-06-01T12:34:27.657321Z",
     "iopub.status.idle": "2024-06-01T12:34:27.833012Z",
     "shell.execute_reply": "2024-06-01T12:34:27.832032Z"
=======
     "iopub.execute_input": "2024-03-12T00:02:09.672783Z",
     "iopub.status.busy": "2024-03-12T00:02:09.672410Z",
     "iopub.status.idle": "2024-03-12T00:02:09.740318Z",
     "shell.execute_reply": "2024-03-12T00:02:09.739611Z"
>>>>>>> ce1d860e8f986e5a64cc79d9c113b22d7c00ddef
    }
   },
   "outputs": [],
   "source": [
    "# query 400 rows of data query data from table\n",
    "select_query = \"select * \\\n",
    "from news_tbn_medol gr \\\n",
    "where id not in (select id_tbn_news from news_tbn_sentiment) \\\n",
    "order by id desc limit 500\"\n",
    "\n",
    "source_ds = execute_query(select_query)\n",
    "\n",
    "if len(source_ds) == 0:\n",
    "    # get out, nothing to do\n",
    "    print('Zero jobs, quitting now')\n",
    "    quit()\n",
    "    \n",
    "# source_ds.head()"
   ]
  },
  {
   "cell_type": "code",
   "execution_count": 7,
   "id": "5a9fe7d0-c005-45ad-8291-16c8bd9f7dbf",
   "metadata": {
    "execution": {
<<<<<<< HEAD
     "iopub.execute_input": "2024-06-01T12:34:27.840374Z",
     "iopub.status.busy": "2024-06-01T12:34:27.839964Z",
     "iopub.status.idle": "2024-06-01T12:36:03.226615Z",
     "shell.execute_reply": "2024-06-01T12:36:03.220978Z"
=======
     "iopub.execute_input": "2024-03-12T00:02:09.743304Z",
     "iopub.status.busy": "2024-03-12T00:02:09.742718Z",
     "iopub.status.idle": "2024-03-12T00:02:09.795564Z",
     "shell.execute_reply": "2024-03-12T00:02:09.794787Z"
>>>>>>> ce1d860e8f986e5a64cc79d9c113b22d7c00ddef
    }
   },
   "outputs": [
    {
     "name": "stderr",
     "output_type": "stream",
     "text": [
      "\r",
<<<<<<< HEAD
      "  0%|          | 0/47 [00:00<?, ?it/s]"
=======
      "  0%|          | 0/1 [00:00<?, ?it/s]"
>>>>>>> ce1d860e8f986e5a64cc79d9c113b22d7c00ddef
     ]
    },
    {
     "name": "stderr",
     "output_type": "stream",
     "text": [
      "\r",
<<<<<<< HEAD
      "  2%|▏         | 1/47 [00:01<01:12,  1.59s/it]"
     ]
    },
    {
     "name": "stderr",
     "output_type": "stream",
     "text": [
      "\r",
      "  4%|▍         | 2/47 [00:03<01:16,  1.69s/it]"
     ]
    },
    {
     "name": "stderr",
     "output_type": "stream",
     "text": [
      "\r",
      "  6%|▋         | 3/47 [00:05<01:17,  1.76s/it]"
     ]
    },
    {
     "name": "stderr",
     "output_type": "stream",
     "text": [
      "\r",
      "  9%|▊         | 4/47 [00:06<01:13,  1.71s/it]"
     ]
    },
    {
     "name": "stderr",
     "output_type": "stream",
     "text": [
      "\r",
      " 11%|█         | 5/47 [00:08<01:16,  1.81s/it]"
     ]
    },
    {
     "name": "stderr",
     "output_type": "stream",
     "text": [
      "\r",
      " 13%|█▎        | 6/47 [00:10<01:12,  1.76s/it]"
     ]
    },
    {
     "name": "stderr",
     "output_type": "stream",
     "text": [
      "\r",
      " 15%|█▍        | 7/47 [00:12<01:10,  1.76s/it]"
     ]
    },
    {
     "name": "stderr",
     "output_type": "stream",
     "text": [
      "\r",
      " 17%|█▋        | 8/47 [00:14<01:12,  1.85s/it]"
     ]
    },
    {
     "name": "stderr",
     "output_type": "stream",
     "text": [
      "\r",
      " 19%|█▉        | 9/47 [00:16<01:12,  1.91s/it]"
     ]
    },
    {
     "name": "stderr",
     "output_type": "stream",
     "text": [
      "\r",
      " 21%|██▏       | 10/47 [00:18<01:09,  1.87s/it]"
     ]
    },
    {
     "name": "stderr",
     "output_type": "stream",
     "text": [
      "\r",
      " 23%|██▎       | 11/47 [00:20<01:08,  1.91s/it]"
     ]
    },
    {
     "name": "stderr",
     "output_type": "stream",
     "text": [
      "\r",
      " 26%|██▌       | 12/47 [00:22<01:09,  1.99s/it]"
     ]
    },
    {
     "name": "stderr",
     "output_type": "stream",
     "text": [
      "\r",
      " 28%|██▊       | 13/47 [00:24<01:09,  2.04s/it]"
     ]
    },
    {
     "name": "stderr",
     "output_type": "stream",
     "text": [
      "\r",
      " 30%|██▉       | 14/47 [00:26<01:04,  1.97s/it]"
     ]
    },
    {
     "name": "stderr",
     "output_type": "stream",
     "text": [
      "\r",
      " 32%|███▏      | 15/47 [00:28<01:03,  1.99s/it]"
     ]
    },
    {
     "name": "stderr",
     "output_type": "stream",
     "text": [
      "\r",
      " 34%|███▍      | 16/47 [00:30<00:59,  1.91s/it]"
     ]
    },
    {
     "name": "stderr",
     "output_type": "stream",
     "text": [
      "\r",
      " 36%|███▌      | 17/47 [00:32<00:58,  1.94s/it]"
     ]
    },
    {
     "name": "stderr",
     "output_type": "stream",
     "text": [
      "\r",
      " 38%|███▊      | 18/47 [00:34<00:57,  1.99s/it]"
     ]
    },
    {
     "name": "stderr",
     "output_type": "stream",
     "text": [
      "\r",
      " 40%|████      | 19/47 [00:36<00:54,  1.96s/it]"
     ]
    },
    {
     "name": "stderr",
     "output_type": "stream",
     "text": [
      "\r",
      " 43%|████▎     | 20/47 [00:38<00:59,  2.19s/it]"
     ]
    },
    {
     "name": "stderr",
     "output_type": "stream",
     "text": [
      "\r",
      " 45%|████▍     | 21/47 [00:41<01:00,  2.31s/it]"
     ]
    },
    {
     "name": "stderr",
     "output_type": "stream",
     "text": [
      "\r",
      " 47%|████▋     | 22/47 [00:43<00:59,  2.36s/it]"
     ]
    },
    {
     "name": "stderr",
     "output_type": "stream",
     "text": [
      "\r",
      " 49%|████▉     | 23/47 [00:45<00:55,  2.31s/it]"
     ]
    },
    {
     "name": "stderr",
     "output_type": "stream",
     "text": [
      "\r",
      " 51%|█████     | 24/47 [00:48<00:54,  2.36s/it]"
     ]
    },
    {
     "name": "stderr",
     "output_type": "stream",
     "text": [
      "\r",
      " 53%|█████▎    | 25/47 [00:50<00:51,  2.33s/it]"
     ]
    },
    {
     "name": "stderr",
     "output_type": "stream",
     "text": [
      "\r",
      " 55%|█████▌    | 26/47 [00:52<00:47,  2.27s/it]"
     ]
    },
    {
     "name": "stderr",
     "output_type": "stream",
     "text": [
      "\r",
      " 57%|█████▋    | 27/47 [00:55<00:45,  2.25s/it]"
     ]
    },
    {
     "name": "stderr",
     "output_type": "stream",
     "text": [
      "\r",
      " 60%|█████▉    | 28/47 [00:57<00:42,  2.25s/it]"
     ]
    },
    {
     "name": "stderr",
     "output_type": "stream",
     "text": [
      "\r",
      " 62%|██████▏   | 29/47 [00:59<00:38,  2.13s/it]"
     ]
    },
    {
     "name": "stderr",
     "output_type": "stream",
     "text": [
      "\r",
      " 64%|██████▍   | 30/47 [01:01<00:36,  2.13s/it]"
     ]
    },
    {
     "name": "stderr",
     "output_type": "stream",
     "text": [
      "\r",
      " 66%|██████▌   | 31/47 [01:03<00:33,  2.11s/it]"
     ]
    },
    {
     "name": "stderr",
     "output_type": "stream",
     "text": [
      "\r",
      " 68%|██████▊   | 32/47 [01:05<00:31,  2.11s/it]"
     ]
    },
    {
     "name": "stderr",
     "output_type": "stream",
     "text": [
      "\r",
      " 70%|███████   | 33/47 [01:07<00:28,  2.04s/it]"
     ]
    },
    {
     "name": "stderr",
     "output_type": "stream",
     "text": [
      "\r",
      " 72%|███████▏  | 34/47 [01:09<00:26,  2.06s/it]"
     ]
    },
    {
     "name": "stderr",
     "output_type": "stream",
     "text": [
      "\r",
      " 74%|███████▍  | 35/47 [01:11<00:23,  1.99s/it]"
     ]
    },
    {
     "name": "stderr",
     "output_type": "stream",
     "text": [
      "\r",
      " 77%|███████▋  | 36/47 [01:13<00:22,  2.04s/it]"
     ]
    },
    {
     "name": "stderr",
     "output_type": "stream",
     "text": [
      "\r",
      " 79%|███████▊  | 37/47 [01:15<00:19,  1.98s/it]"
     ]
    },
    {
     "name": "stderr",
     "output_type": "stream",
     "text": [
      "\r",
      " 81%|████████  | 38/47 [01:17<00:18,  2.05s/it]"
     ]
    },
    {
     "name": "stderr",
     "output_type": "stream",
     "text": [
      "\r",
      " 83%|████████▎ | 39/47 [01:19<00:16,  2.05s/it]"
     ]
    },
    {
     "name": "stderr",
     "output_type": "stream",
     "text": [
      "\r",
      " 85%|████████▌ | 40/47 [01:21<00:14,  2.07s/it]"
     ]
    },
    {
     "name": "stderr",
     "output_type": "stream",
     "text": [
      "\r",
      " 87%|████████▋ | 41/47 [01:23<00:11,  1.92s/it]"
     ]
    },
    {
     "name": "stderr",
     "output_type": "stream",
     "text": [
      "\r",
      " 89%|████████▉ | 42/47 [01:25<00:09,  1.91s/it]"
     ]
    },
    {
     "name": "stderr",
     "output_type": "stream",
     "text": [
      "\r",
      " 91%|█████████▏| 43/47 [01:27<00:07,  1.96s/it]"
     ]
    },
    {
     "name": "stderr",
     "output_type": "stream",
     "text": [
      "\r",
      " 94%|█████████▎| 44/47 [01:28<00:05,  1.91s/it]"
     ]
    },
    {
     "name": "stderr",
     "output_type": "stream",
     "text": [
      "\r",
      " 96%|█████████▌| 45/47 [01:30<00:03,  1.94s/it]"
     ]
    },
    {
     "name": "stderr",
     "output_type": "stream",
     "text": [
      "\r",
      " 98%|█████████▊| 46/47 [01:33<00:02,  2.01s/it]"
     ]
    },
    {
     "name": "stderr",
     "output_type": "stream",
     "text": [
      "\r",
      "100%|██████████| 47/47 [01:35<00:00,  2.02s/it]"
     ]
    },
    {
     "name": "stderr",
     "output_type": "stream",
     "text": [
      "\r",
      "100%|██████████| 47/47 [01:35<00:00,  2.03s/it]"
=======
      "100%|██████████| 1/1 [00:00<00:00, 33.30it/s]"
>>>>>>> ce1d860e8f986e5a64cc79d9c113b22d7c00ddef
     ]
    },
    {
     "name": "stderr",
     "output_type": "stream",
     "text": [
      "\n"
     ]
    }
   ],
   "source": [
    "# Processing title sentiment analysis\n",
    "content_ds = source_ds\n",
    "res_ds = process_by_df(source_ds)"
   ]
  },
  {
   "cell_type": "code",
   "execution_count": 8,
   "id": "4d30b8a9-31bc-4bd6-a4da-7484686cac4b",
   "metadata": {
    "execution": {
<<<<<<< HEAD
     "iopub.execute_input": "2024-06-01T12:36:03.238467Z",
     "iopub.status.busy": "2024-06-01T12:36:03.233933Z",
     "iopub.status.idle": "2024-06-01T12:36:03.302334Z",
     "shell.execute_reply": "2024-06-01T12:36:03.298700Z"
=======
     "iopub.execute_input": "2024-03-12T00:02:09.798513Z",
     "iopub.status.busy": "2024-03-12T00:02:09.798029Z",
     "iopub.status.idle": "2024-03-12T00:02:09.814330Z",
     "shell.execute_reply": "2024-03-12T00:02:09.813690Z"
>>>>>>> ce1d860e8f986e5a64cc79d9c113b22d7c00ddef
    }
   },
   "outputs": [
    {
     "data": {
      "text/html": [
       "<div>\n",
       "<style scoped>\n",
       "    .dataframe tbody tr th:only-of-type {\n",
       "        vertical-align: middle;\n",
       "    }\n",
       "\n",
       "    .dataframe tbody tr th {\n",
       "        vertical-align: top;\n",
       "    }\n",
       "\n",
       "    .dataframe thead th {\n",
       "        text-align: right;\n",
       "    }\n",
       "</style>\n",
       "<table border=\"1\" class=\"dataframe\">\n",
       "  <thead>\n",
       "    <tr style=\"text-align: right;\">\n",
       "      <th></th>\n",
       "      <th>id</th>\n",
       "      <th>title</th>\n",
       "      <th>content</th>\n",
       "      <th>publish_date</th>\n",
       "      <th>publisher</th>\n",
       "      <th>source</th>\n",
       "      <th>search_url</th>\n",
       "      <th>created_date</th>\n",
       "      <th>tbn_medol_id</th>\n",
       "      <th>is_polri</th>\n",
       "      <th>reporter</th>\n",
       "      <th>editor</th>\n",
       "      <th>converted_date</th>\n",
       "      <th>description</th>\n",
       "      <th>stemmed</th>\n",
       "      <th>tokenized_tweet</th>\n",
       "      <th>Prediction</th>\n",
       "      <th>Score</th>\n",
       "    </tr>\n",
       "  </thead>\n",
       "  <tbody>\n",
       "    <tr>\n",
       "      <th>0</th>\n",
<<<<<<< HEAD
       "      <td>5655</td>\n",
       "      <td>Kapolda NTT Pastikan Rekrutmen Anggota Polri 2...</td>\n",
       "      <td>Tribratanews.polri.go.id - Kupang. Kapolda NTT...</td>\n",
       "      <td>1 June 2024 - 18:30 WIB</td>\n",
       "      <td></td>\n",
       "      <td>https://tribratanews.polri.go.id/</td>\n",
       "      <td>https://tribratanews.polri.go.id/blog/nasional...</td>\n",
       "      <td>2024-06-01 12:17:54.133912</td>\n",
       "      <td>35</td>\n",
       "      <td>True</td>\n",
       "      <td></td>\n",
       "      <td>pt/hn/nm</td>\n",
       "      <td>2024-06-01 18:30:00</td>\n",
       "      <td>Tribratanews polri go id Kupang Kapolda NTT Ir...</td>\n",
       "      <td>kapolda ntt pastikan rekrutmen anggota polri s...</td>\n",
       "      <td>{anggota, rekrutmen, aturan, polri, ntt, kapol...</td>\n",
       "      <td>Neutral</td>\n",
       "      <td>0.999695</td>\n",
       "    </tr>\n",
       "    <tr>\n",
       "      <th>1</th>\n",
       "      <td>5654</td>\n",
       "      <td>Gempa Magnitudo 3 8 Guncang Wilayah Pacitan Jatim</td>\n",
       "      <td>Tribratanews.polri.go.id - Info gempa hari ini...</td>\n",
       "      <td>1 June 2024 - 17:23 WIB</td>\n",
       "      <td></td>\n",
       "      <td>https://tribratanews.polri.go.id/</td>\n",
       "      <td>https://tribratanews.polri.go.id/blog/nasional...</td>\n",
       "      <td>2024-06-01 12:17:54.127053</td>\n",
       "      <td>35</td>\n",
       "      <td>True</td>\n",
       "      <td></td>\n",
       "      <td>ek/hn/nm</td>\n",
       "      <td>2024-06-01 17:23:00</td>\n",
       "      <td>Tribratanews polri go id Info gempa hari ini B...</td>\n",
       "      <td>gempa magnitudo guncang wilayah pacitan jatim</td>\n",
       "      <td>{pacitan, jatim, magnitudo, guncang, wilayah, ...</td>\n",
       "      <td>Neutral</td>\n",
       "      <td>0.999725</td>\n",
       "    </tr>\n",
       "    <tr>\n",
       "      <th>2</th>\n",
       "      <td>5653</td>\n",
       "      <td>Gempa Magnitudo 4 8 Guncang Wilayah Kabupaten ...</td>\n",
       "      <td>Tribratanews.polri.go.id - Info gempa hari ini...</td>\n",
       "      <td>1 June 2024 - 17:22 WIB</td>\n",
       "      <td></td>\n",
       "      <td>https://tribratanews.polri.go.id/</td>\n",
       "      <td>https://tribratanews.polri.go.id/blog/nasional...</td>\n",
       "      <td>2024-06-01 12:17:54.118823</td>\n",
       "      <td>35</td>\n",
       "      <td>True</td>\n",
       "      <td></td>\n",
       "      <td>ek/hn/nm</td>\n",
       "      <td>2024-06-01 17:22:00</td>\n",
       "      <td>Tribratanews polri go id Info gempa hari ini B...</td>\n",
       "      <td>gempa magnitudo guncang wilayah kabupaten alor...</td>\n",
       "      <td>{alor, magnitudo, ntt, guncang, kabupaten, wil...</td>\n",
       "      <td>Neutral</td>\n",
       "      <td>0.999731</td>\n",
       "    </tr>\n",
       "    <tr>\n",
       "      <th>3</th>\n",
       "      <td>5652</td>\n",
       "      <td>Ketua MPR Minta Polri Kejar KKB Pelaku Penemba...</td>\n",
       "      <td></td>\n",
       "      <td>1 June 2024 - 16:53 WIB</td>\n",
       "      <td></td>\n",
       "      <td>https://tribratanews.polri.go.id/</td>\n",
       "      <td>https://tribratanews.polri.go.id/blog/nasional...</td>\n",
       "      <td>2024-06-01 12:17:54.111774</td>\n",
       "      <td>35</td>\n",
       "      <td>False</td>\n",
       "      <td></td>\n",
       "      <td></td>\n",
       "      <td>2024-06-01 16:53:00</td>\n",
       "      <td></td>\n",
       "      <td>ketua mpr minta polri kejar kkb pelaku penemba...</td>\n",
       "      <td>{kejar, jaya, polri, pelaku, mpr, puncak, pene...</td>\n",
       "      <td>Neutral</td>\n",
       "      <td>0.999692</td>\n",
       "    </tr>\n",
       "    <tr>\n",
       "      <th>4</th>\n",
       "      <td>5651</td>\n",
       "      <td>Pesan Berantai Kelompok Gaza Polda Bali Imbau ...</td>\n",
       "      <td>Tribratanews.polri.go.id - Jakarta. Masyarakat...</td>\n",
       "      <td>1 June 2024 - 16:00 WIB</td>\n",
       "      <td></td>\n",
       "      <td>https://tribratanews.polri.go.id/</td>\n",
       "      <td>https://tribratanews.polri.go.id/blog/nasional...</td>\n",
       "      <td>2024-06-01 12:17:54.103088</td>\n",
       "      <td>35</td>\n",
       "      <td>True</td>\n",
       "      <td></td>\n",
       "      <td>sy/hn/nm</td>\n",
       "      <td>2024-06-01 16:00:00</td>\n",
       "      <td>Tribratanews polri go id Jakarta Masyarakat Ba...</td>\n",
       "      <td>pesan berantai kelompok gaza polda bali imbau ...</td>\n",
       "      <td>{pesan, terprovokasi, gaza, berantai, bali, ke...</td>\n",
       "      <td>Neutral</td>\n",
       "      <td>0.999716</td>\n",
=======
       "      <td>2044</td>\n",
       "      <td>Simak Kiat kiat Berolahraga Saat Menjalankan I...</td>\n",
       "      <td>Tribratanews.polri.go.id - Jakarta. Menjelang ...</td>\n",
       "      <td>12 March 2024 - 06:45 WIB</td>\n",
       "      <td></td>\n",
       "      <td>https://tribratanews.polri.go.id/</td>\n",
       "      <td>https://tribratanews.polri.go.id/blog/kesehata...</td>\n",
       "      <td>2024-03-12 00:00:40.985403</td>\n",
       "      <td>35</td>\n",
       "      <td>False</td>\n",
       "      <td></td>\n",
       "      <td>fa/hn/nm</td>\n",
       "      <td>Tribratanews polri go id Jakarta Menjelang bul...</td>\n",
       "      <td>simak kiat kiat berolahraga saat menjalankan i...</td>\n",
       "      <td>{menjalankan, puasa, berolahraga, ibadah, kiat...</td>\n",
       "      <td>Neutral</td>\n",
       "      <td>0.99938</td>\n",
>>>>>>> ce1d860e8f986e5a64cc79d9c113b22d7c00ddef
       "    </tr>\n",
       "  </tbody>\n",
       "</table>\n",
       "</div>"
      ],
      "text/plain": [
       "     id                                              title  \\\n",
<<<<<<< HEAD
       "0  5655  Kapolda NTT Pastikan Rekrutmen Anggota Polri 2...   \n",
       "1  5654  Gempa Magnitudo 3 8 Guncang Wilayah Pacitan Jatim   \n",
       "2  5653  Gempa Magnitudo 4 8 Guncang Wilayah Kabupaten ...   \n",
       "3  5652  Ketua MPR Minta Polri Kejar KKB Pelaku Penemba...   \n",
       "4  5651  Pesan Berantai Kelompok Gaza Polda Bali Imbau ...   \n",
       "\n",
       "                                             content             publish_date  \\\n",
       "0  Tribratanews.polri.go.id - Kupang. Kapolda NTT...  1 June 2024 - 18:30 WIB   \n",
       "1  Tribratanews.polri.go.id - Info gempa hari ini...  1 June 2024 - 17:23 WIB   \n",
       "2  Tribratanews.polri.go.id - Info gempa hari ini...  1 June 2024 - 17:22 WIB   \n",
       "3                                                     1 June 2024 - 16:53 WIB   \n",
       "4  Tribratanews.polri.go.id - Jakarta. Masyarakat...  1 June 2024 - 16:00 WIB   \n",
       "\n",
       "  publisher                             source  \\\n",
       "0            https://tribratanews.polri.go.id/   \n",
       "1            https://tribratanews.polri.go.id/   \n",
       "2            https://tribratanews.polri.go.id/   \n",
       "3            https://tribratanews.polri.go.id/   \n",
       "4            https://tribratanews.polri.go.id/   \n",
       "\n",
       "                                          search_url  \\\n",
       "0  https://tribratanews.polri.go.id/blog/nasional...   \n",
       "1  https://tribratanews.polri.go.id/blog/nasional...   \n",
       "2  https://tribratanews.polri.go.id/blog/nasional...   \n",
       "3  https://tribratanews.polri.go.id/blog/nasional...   \n",
       "4  https://tribratanews.polri.go.id/blog/nasional...   \n",
       "\n",
       "                created_date  tbn_medol_id  is_polri reporter    editor  \\\n",
       "0 2024-06-01 12:17:54.133912            35      True           pt/hn/nm   \n",
       "1 2024-06-01 12:17:54.127053            35      True           ek/hn/nm   \n",
       "2 2024-06-01 12:17:54.118823            35      True           ek/hn/nm   \n",
       "3 2024-06-01 12:17:54.111774            35     False                      \n",
       "4 2024-06-01 12:17:54.103088            35      True           sy/hn/nm   \n",
       "\n",
       "       converted_date                                        description  \\\n",
       "0 2024-06-01 18:30:00  Tribratanews polri go id Kupang Kapolda NTT Ir...   \n",
       "1 2024-06-01 17:23:00  Tribratanews polri go id Info gempa hari ini B...   \n",
       "2 2024-06-01 17:22:00  Tribratanews polri go id Info gempa hari ini B...   \n",
       "3 2024-06-01 16:53:00                                                      \n",
       "4 2024-06-01 16:00:00  Tribratanews polri go id Jakarta Masyarakat Ba...   \n",
       "\n",
       "                                             stemmed  \\\n",
       "0  kapolda ntt pastikan rekrutmen anggota polri s...   \n",
       "1      gempa magnitudo guncang wilayah pacitan jatim   \n",
       "2  gempa magnitudo guncang wilayah kabupaten alor...   \n",
       "3  ketua mpr minta polri kejar kkb pelaku penemba...   \n",
       "4  pesan berantai kelompok gaza polda bali imbau ...   \n",
       "\n",
       "                                     tokenized_tweet Prediction     Score  \n",
       "0  {anggota, rekrutmen, aturan, polri, ntt, kapol...    Neutral  0.999695  \n",
       "1  {pacitan, jatim, magnitudo, guncang, wilayah, ...    Neutral  0.999725  \n",
       "2  {alor, magnitudo, ntt, guncang, kabupaten, wil...    Neutral  0.999731  \n",
       "3  {kejar, jaya, polri, pelaku, mpr, puncak, pene...    Neutral  0.999692  \n",
       "4  {pesan, terprovokasi, gaza, berantai, bali, ke...    Neutral  0.999716  "
=======
       "0  2044  Simak Kiat kiat Berolahraga Saat Menjalankan I...   \n",
       "\n",
       "                                             content  \\\n",
       "0  Tribratanews.polri.go.id - Jakarta. Menjelang ...   \n",
       "\n",
       "                publish_date publisher                             source  \\\n",
       "0  12 March 2024 - 06:45 WIB            https://tribratanews.polri.go.id/   \n",
       "\n",
       "                                          search_url  \\\n",
       "0  https://tribratanews.polri.go.id/blog/kesehata...   \n",
       "\n",
       "                created_date  tbn_medol_id  is_polri reporter    editor  \\\n",
       "0 2024-03-12 00:00:40.985403            35     False           fa/hn/nm   \n",
       "\n",
       "                                         description  \\\n",
       "0  Tribratanews polri go id Jakarta Menjelang bul...   \n",
       "\n",
       "                                             stemmed  \\\n",
       "0  simak kiat kiat berolahraga saat menjalankan i...   \n",
       "\n",
       "                                     tokenized_tweet Prediction    Score  \n",
       "0  {menjalankan, puasa, berolahraga, ibadah, kiat...    Neutral  0.99938  "
>>>>>>> ce1d860e8f986e5a64cc79d9c113b22d7c00ddef
      ]
     },
     "execution_count": 8,
     "metadata": {},
     "output_type": "execute_result"
    }
   ],
   "source": [
    "res_ds.head()"
   ]
  },
  {
   "cell_type": "code",
   "execution_count": 9,
   "id": "831df3a7-7791-4587-91d0-8f785c8988b0",
   "metadata": {
    "execution": {
<<<<<<< HEAD
     "iopub.execute_input": "2024-06-01T12:36:03.322993Z",
     "iopub.status.busy": "2024-06-01T12:36:03.315059Z",
     "iopub.status.idle": "2024-06-01T12:39:28.665168Z",
     "shell.execute_reply": "2024-06-01T12:39:28.660295Z"
=======
     "iopub.execute_input": "2024-03-12T00:02:09.817184Z",
     "iopub.status.busy": "2024-03-12T00:02:09.816641Z",
     "iopub.status.idle": "2024-03-12T00:02:09.995183Z",
     "shell.execute_reply": "2024-03-12T00:02:09.994390Z"
>>>>>>> ce1d860e8f986e5a64cc79d9c113b22d7c00ddef
    }
   },
   "outputs": [
    {
     "name": "stderr",
     "output_type": "stream",
     "text": [
      "\r",
<<<<<<< HEAD
      "  0%|          | 0/47 [00:00<?, ?it/s]"
=======
      "  0%|          | 0/1 [00:00<?, ?it/s]"
>>>>>>> ce1d860e8f986e5a64cc79d9c113b22d7c00ddef
     ]
    },
    {
     "name": "stderr",
     "output_type": "stream",
     "text": [
      "\r",
<<<<<<< HEAD
      "  2%|▏         | 1/47 [00:06<04:42,  6.15s/it]"
=======
      "100%|██████████| 1/1 [00:00<00:00,  6.25it/s]"
>>>>>>> ce1d860e8f986e5a64cc79d9c113b22d7c00ddef
     ]
    },
    {
     "name": "stderr",
     "output_type": "stream",
     "text": [
      "\r",
<<<<<<< HEAD
      "  4%|▍         | 2/47 [00:10<04:02,  5.38s/it]"
     ]
    },
    {
     "name": "stderr",
     "output_type": "stream",
     "text": [
      "\r",
      "  6%|▋         | 3/47 [00:14<03:21,  4.58s/it]"
     ]
    },
    {
     "name": "stderr",
     "output_type": "stream",
     "text": [
      "\r",
      "  9%|▊         | 4/47 [00:16<02:26,  3.42s/it]"
     ]
    },
    {
     "name": "stderr",
     "output_type": "stream",
     "text": [
      "\r",
      " 11%|█         | 5/47 [00:20<02:37,  3.75s/it]"
     ]
    },
    {
     "name": "stderr",
     "output_type": "stream",
     "text": [
      "\r",
      " 13%|█▎        | 6/47 [00:24<02:41,  3.95s/it]"
     ]
    },
    {
     "name": "stderr",
     "output_type": "stream",
     "text": [
      "\r",
      " 15%|█▍        | 7/47 [00:29<02:42,  4.06s/it]"
     ]
    },
    {
     "name": "stderr",
     "output_type": "stream",
     "text": [
      "\r",
      " 17%|█▋        | 8/47 [00:33<02:39,  4.10s/it]"
     ]
    },
    {
     "name": "stderr",
     "output_type": "stream",
     "text": [
      "\r",
      " 19%|█▉        | 9/47 [00:37<02:31,  3.99s/it]"
     ]
    },
    {
     "name": "stderr",
     "output_type": "stream",
     "text": [
      "\r",
      " 21%|██▏       | 10/47 [00:41<02:31,  4.09s/it]"
     ]
    },
    {
     "name": "stderr",
     "output_type": "stream",
     "text": [
      "\r",
      " 23%|██▎       | 11/47 [00:45<02:29,  4.14s/it]"
     ]
    },
    {
     "name": "stderr",
     "output_type": "stream",
     "text": [
      "\r",
      " 26%|██▌       | 12/47 [00:50<02:27,  4.21s/it]"
     ]
    },
    {
     "name": "stderr",
     "output_type": "stream",
     "text": [
      "\r",
      " 28%|██▊       | 13/47 [00:54<02:26,  4.32s/it]"
     ]
    },
    {
     "name": "stderr",
     "output_type": "stream",
     "text": [
      "\r",
      " 30%|██▉       | 14/47 [00:59<02:23,  4.34s/it]"
     ]
    },
    {
     "name": "stderr",
     "output_type": "stream",
     "text": [
      "\r",
      " 32%|███▏      | 15/47 [01:04<02:26,  4.59s/it]"
     ]
    },
    {
     "name": "stderr",
     "output_type": "stream",
     "text": [
      "\r",
      " 34%|███▍      | 16/47 [01:09<02:29,  4.83s/it]"
     ]
    },
    {
     "name": "stderr",
     "output_type": "stream",
     "text": [
      "\r",
      " 36%|███▌      | 17/47 [01:14<02:26,  4.90s/it]"
     ]
    },
    {
     "name": "stderr",
     "output_type": "stream",
     "text": [
      "\r",
      " 38%|███▊      | 18/47 [01:18<02:13,  4.60s/it]"
     ]
    },
    {
     "name": "stderr",
     "output_type": "stream",
     "text": [
      "\r",
      " 40%|████      | 19/47 [01:23<02:08,  4.60s/it]"
     ]
    },
    {
     "name": "stderr",
     "output_type": "stream",
     "text": [
      "\r",
      " 43%|████▎     | 20/47 [01:27<02:01,  4.48s/it]"
     ]
    },
    {
     "name": "stderr",
     "output_type": "stream",
     "text": [
      "\r",
      " 45%|████▍     | 21/47 [01:31<01:54,  4.42s/it]"
     ]
    },
    {
     "name": "stderr",
     "output_type": "stream",
     "text": [
      "\r",
      " 47%|████▋     | 22/47 [01:35<01:49,  4.37s/it]"
     ]
    },
    {
     "name": "stderr",
     "output_type": "stream",
     "text": [
      "\r",
      " 49%|████▉     | 23/47 [01:40<01:45,  4.39s/it]"
     ]
    },
    {
     "name": "stderr",
     "output_type": "stream",
     "text": [
      "\r",
      " 51%|█████     | 24/47 [01:44<01:40,  4.37s/it]"
     ]
    },
    {
     "name": "stderr",
     "output_type": "stream",
     "text": [
      "\r",
      " 53%|█████▎    | 25/47 [01:48<01:32,  4.21s/it]"
     ]
    },
    {
     "name": "stderr",
     "output_type": "stream",
     "text": [
      "\r",
      " 55%|█████▌    | 26/47 [01:52<01:26,  4.12s/it]"
     ]
    },
    {
     "name": "stderr",
     "output_type": "stream",
     "text": [
      "\r",
      " 57%|█████▋    | 27/47 [01:56<01:22,  4.10s/it]"
     ]
    },
    {
     "name": "stderr",
     "output_type": "stream",
     "text": [
      "\r",
      " 60%|█████▉    | 28/47 [02:00<01:16,  4.05s/it]"
     ]
    },
    {
     "name": "stderr",
     "output_type": "stream",
     "text": [
      "\r",
      " 62%|██████▏   | 29/47 [02:06<01:21,  4.55s/it]"
     ]
    },
    {
     "name": "stderr",
     "output_type": "stream",
     "text": [
      "\r",
      " 64%|██████▍   | 30/47 [02:10<01:18,  4.64s/it]"
     ]
    },
    {
     "name": "stderr",
     "output_type": "stream",
     "text": [
      "\r",
      " 66%|██████▌   | 31/47 [02:15<01:13,  4.58s/it]"
     ]
    },
    {
     "name": "stderr",
     "output_type": "stream",
     "text": [
      "\r",
      " 68%|██████▊   | 32/47 [02:19<01:07,  4.48s/it]"
     ]
    },
    {
     "name": "stderr",
     "output_type": "stream",
     "text": [
      "\r",
      " 70%|███████   | 33/47 [02:23<01:00,  4.33s/it]"
     ]
    },
    {
     "name": "stderr",
     "output_type": "stream",
     "text": [
      "\r",
      " 72%|███████▏  | 34/47 [02:27<00:56,  4.32s/it]"
     ]
    },
    {
     "name": "stderr",
     "output_type": "stream",
     "text": [
      "\r",
      " 74%|███████▍  | 35/47 [02:31<00:50,  4.18s/it]"
     ]
    },
    {
     "name": "stderr",
     "output_type": "stream",
     "text": [
      "\r",
      " 77%|███████▋  | 36/47 [02:36<00:46,  4.22s/it]"
     ]
    },
    {
     "name": "stderr",
     "output_type": "stream",
     "text": [
      "\r",
      " 79%|███████▊  | 37/47 [02:40<00:42,  4.29s/it]"
     ]
    },
    {
     "name": "stderr",
     "output_type": "stream",
     "text": [
      "\r",
      " 81%|████████  | 38/47 [02:44<00:38,  4.31s/it]"
     ]
    },
    {
     "name": "stderr",
     "output_type": "stream",
     "text": [
      "\r",
      " 83%|████████▎ | 39/47 [02:49<00:34,  4.27s/it]"
     ]
    },
    {
     "name": "stderr",
     "output_type": "stream",
     "text": [
      "\r",
      " 85%|████████▌ | 40/47 [02:53<00:30,  4.30s/it]"
     ]
    },
    {
     "name": "stderr",
     "output_type": "stream",
     "text": [
      "\r",
      " 87%|████████▋ | 41/47 [02:57<00:25,  4.32s/it]"
     ]
    },
    {
     "name": "stderr",
     "output_type": "stream",
     "text": [
      "\r",
      " 89%|████████▉ | 42/47 [03:02<00:22,  4.47s/it]"
     ]
    },
    {
     "name": "stderr",
     "output_type": "stream",
     "text": [
      "\r",
      " 91%|█████████▏| 43/47 [03:08<00:19,  4.76s/it]"
     ]
    },
    {
     "name": "stderr",
     "output_type": "stream",
     "text": [
      "\r",
      " 94%|█████████▎| 44/47 [03:12<00:14,  4.77s/it]"
     ]
    },
    {
     "name": "stderr",
     "output_type": "stream",
     "text": [
      "\r",
      " 96%|█████████▌| 45/47 [03:16<00:09,  4.57s/it]"
     ]
    },
    {
     "name": "stderr",
     "output_type": "stream",
     "text": [
      "\r",
      " 98%|█████████▊| 46/47 [03:20<00:04,  4.24s/it]"
     ]
    },
    {
     "name": "stderr",
     "output_type": "stream",
     "text": [
      "\r",
      "100%|██████████| 47/47 [03:24<00:00,  4.24s/it]"
     ]
    },
    {
     "name": "stderr",
     "output_type": "stream",
     "text": [
      "\r",
      "100%|██████████| 47/47 [03:24<00:00,  4.36s/it]"
=======
      "100%|██████████| 1/1 [00:00<00:00,  6.18it/s]"
>>>>>>> ce1d860e8f986e5a64cc79d9c113b22d7c00ddef
     ]
    },
    {
     "name": "stderr",
     "output_type": "stream",
     "text": [
      "\n"
     ]
    }
   ],
   "source": [
    "# Processing content sentiment analysis\n",
    "res_content_ds = process_by_df_col(content_ds,'content')"
   ]
  },
  {
   "cell_type": "code",
   "execution_count": 10,
   "id": "4bb26a23-a143-4f85-a299-d3cae3692ae0",
   "metadata": {
    "execution": {
<<<<<<< HEAD
     "iopub.execute_input": "2024-06-01T12:39:28.672037Z",
     "iopub.status.busy": "2024-06-01T12:39:28.671498Z",
     "iopub.status.idle": "2024-06-01T12:39:28.734350Z",
     "shell.execute_reply": "2024-06-01T12:39:28.727218Z"
=======
     "iopub.execute_input": "2024-03-12T00:02:09.998269Z",
     "iopub.status.busy": "2024-03-12T00:02:09.997702Z",
     "iopub.status.idle": "2024-03-12T00:02:10.011397Z",
     "shell.execute_reply": "2024-03-12T00:02:10.010757Z"
>>>>>>> ce1d860e8f986e5a64cc79d9c113b22d7c00ddef
    }
   },
   "outputs": [
    {
     "data": {
      "text/html": [
       "<div>\n",
       "<style scoped>\n",
       "    .dataframe tbody tr th:only-of-type {\n",
       "        vertical-align: middle;\n",
       "    }\n",
       "\n",
       "    .dataframe tbody tr th {\n",
       "        vertical-align: top;\n",
       "    }\n",
       "\n",
       "    .dataframe thead th {\n",
       "        text-align: right;\n",
       "    }\n",
       "</style>\n",
       "<table border=\"1\" class=\"dataframe\">\n",
       "  <thead>\n",
       "    <tr style=\"text-align: right;\">\n",
       "      <th></th>\n",
       "      <th>id</th>\n",
       "      <th>title</th>\n",
       "      <th>content</th>\n",
       "      <th>publish_date</th>\n",
       "      <th>publisher</th>\n",
       "      <th>source</th>\n",
       "      <th>search_url</th>\n",
       "      <th>created_date</th>\n",
       "      <th>tbn_medol_id</th>\n",
       "      <th>is_polri</th>\n",
       "      <th>reporter</th>\n",
       "      <th>editor</th>\n",
       "      <th>converted_date</th>\n",
       "      <th>description</th>\n",
       "      <th>stemmed</th>\n",
       "      <th>tokenized_tweet</th>\n",
       "      <th>Prediction</th>\n",
       "      <th>Score</th>\n",
       "    </tr>\n",
       "  </thead>\n",
       "  <tbody>\n",
       "    <tr>\n",
       "      <th>0</th>\n",
<<<<<<< HEAD
       "      <td>5655</td>\n",
       "      <td>Kapolda NTT Pastikan Rekrutmen Anggota Polri 2...</td>\n",
       "      <td>Tribratanews.polri.go.id - Kupang. Kapolda NTT...</td>\n",
       "      <td>1 June 2024 - 18:30 WIB</td>\n",
       "      <td></td>\n",
       "      <td>https://tribratanews.polri.go.id/</td>\n",
       "      <td>https://tribratanews.polri.go.id/blog/nasional...</td>\n",
       "      <td>2024-06-01 12:17:54.133912</td>\n",
       "      <td>35</td>\n",
       "      <td>True</td>\n",
       "      <td></td>\n",
       "      <td>pt/hn/nm</td>\n",
       "      <td>2024-06-01 18:30:00</td>\n",
       "      <td>Tribratanews polri go id Kupang Kapolda NTT Ir...</td>\n",
       "      <td>tribratanews polri go id kupang kapolda ntt ir...</td>\n",
       "      <td>{seleksi, rupatama, penerimaan, kesempatan, wa...</td>\n",
       "      <td>Neutral</td>\n",
       "      <td>0.999085</td>\n",
       "    </tr>\n",
       "    <tr>\n",
       "      <th>1</th>\n",
       "      <td>5654</td>\n",
       "      <td>Gempa Magnitudo 3 8 Guncang Wilayah Pacitan Jatim</td>\n",
       "      <td>Tribratanews.polri.go.id - Info gempa hari ini...</td>\n",
       "      <td>1 June 2024 - 17:23 WIB</td>\n",
       "      <td></td>\n",
       "      <td>https://tribratanews.polri.go.id/</td>\n",
       "      <td>https://tribratanews.polri.go.id/blog/nasional...</td>\n",
       "      <td>2024-06-01 12:17:54.127053</td>\n",
       "      <td>35</td>\n",
       "      <td>True</td>\n",
       "      <td></td>\n",
       "      <td>ek/hn/nm</td>\n",
       "      <td>2024-06-01 17:23:00</td>\n",
       "      <td>Tribratanews polri go id Info gempa hari ini B...</td>\n",
       "      <td>tribratanews polri go id info gempa hari ini b...</td>\n",
       "      <td>{berubah, data, wib, ek, hasil, stabil, seirin...</td>\n",
       "      <td>Neutral</td>\n",
       "      <td>0.999662</td>\n",
       "    </tr>\n",
       "    <tr>\n",
       "      <th>2</th>\n",
       "      <td>5653</td>\n",
       "      <td>Gempa Magnitudo 4 8 Guncang Wilayah Kabupaten ...</td>\n",
       "      <td>Tribratanews.polri.go.id - Info gempa hari ini...</td>\n",
       "      <td>1 June 2024 - 17:22 WIB</td>\n",
       "      <td></td>\n",
       "      <td>https://tribratanews.polri.go.id/</td>\n",
       "      <td>https://tribratanews.polri.go.id/blog/nasional...</td>\n",
       "      <td>2024-06-01 12:17:54.118823</td>\n",
       "      <td>35</td>\n",
       "      <td>True</td>\n",
       "      <td></td>\n",
       "      <td>ek/hn/nm</td>\n",
       "      <td>2024-06-01 17:22:00</td>\n",
       "      <td>Tribratanews polri go id Info gempa hari ini B...</td>\n",
       "      <td>tribratanews polri go id info gempa hari ini b...</td>\n",
       "      <td>{alor, berubah, data, akun, wib, twitter, ek, ...</td>\n",
       "      <td>Neutral</td>\n",
       "      <td>0.999668</td>\n",
       "    </tr>\n",
       "    <tr>\n",
       "      <th>3</th>\n",
       "      <td>5652</td>\n",
       "      <td>Ketua MPR Minta Polri Kejar KKB Pelaku Penemba...</td>\n",
       "      <td></td>\n",
       "      <td>1 June 2024 - 16:53 WIB</td>\n",
       "      <td></td>\n",
       "      <td>https://tribratanews.polri.go.id/</td>\n",
       "      <td>https://tribratanews.polri.go.id/blog/nasional...</td>\n",
       "      <td>2024-06-01 12:17:54.111774</td>\n",
       "      <td>35</td>\n",
       "      <td>False</td>\n",
       "      <td></td>\n",
       "      <td></td>\n",
       "      <td>2024-06-01 16:53:00</td>\n",
       "      <td></td>\n",
       "      <td></td>\n",
       "      <td>{}</td>\n",
       "      <td>Positive</td>\n",
       "      <td>0.994275</td>\n",
       "    </tr>\n",
       "    <tr>\n",
       "      <th>4</th>\n",
       "      <td>5651</td>\n",
       "      <td>Pesan Berantai Kelompok Gaza Polda Bali Imbau ...</td>\n",
       "      <td>Tribratanews.polri.go.id - Jakarta. Masyarakat...</td>\n",
       "      <td>1 June 2024 - 16:00 WIB</td>\n",
       "      <td></td>\n",
       "      <td>https://tribratanews.polri.go.id/</td>\n",
       "      <td>https://tribratanews.polri.go.id/blog/nasional...</td>\n",
       "      <td>2024-06-01 12:17:54.103088</td>\n",
       "      <td>35</td>\n",
       "      <td>True</td>\n",
       "      <td></td>\n",
       "      <td>sy/hn/nm</td>\n",
       "      <td>2024-06-01 16:00:00</td>\n",
       "      <td>Tribratanews polri go id Jakarta Masyarakat Ba...</td>\n",
       "      <td>tribratanews polri go id jakarta masyarakat ba...</td>\n",
       "      <td>{panjaitan, janji, bertanggung, kamtibmas, sek...</td>\n",
       "      <td>Negative</td>\n",
       "      <td>0.544135</td>\n",
=======
       "      <td>2044</td>\n",
       "      <td>Simak Kiat kiat Berolahraga Saat Menjalankan I...</td>\n",
       "      <td>Tribratanews.polri.go.id - Jakarta. Menjelang ...</td>\n",
       "      <td>12 March 2024 - 06:45 WIB</td>\n",
       "      <td></td>\n",
       "      <td>https://tribratanews.polri.go.id/</td>\n",
       "      <td>https://tribratanews.polri.go.id/blog/kesehata...</td>\n",
       "      <td>2024-03-12 00:00:40.985403</td>\n",
       "      <td>35</td>\n",
       "      <td>False</td>\n",
       "      <td></td>\n",
       "      <td>fa/hn/nm</td>\n",
       "      <td>Tribratanews polri go id Jakarta Menjelang bul...</td>\n",
       "      <td>tribratanews polri go id jakarta menjelang bul...</td>\n",
       "      <td>{dilansir, aktif, bersantai, cari, perhatikan,...</td>\n",
       "      <td>Neutral</td>\n",
       "      <td>0.553056</td>\n",
>>>>>>> ce1d860e8f986e5a64cc79d9c113b22d7c00ddef
       "    </tr>\n",
       "  </tbody>\n",
       "</table>\n",
       "</div>"
      ],
      "text/plain": [
       "     id                                              title  \\\n",
<<<<<<< HEAD
       "0  5655  Kapolda NTT Pastikan Rekrutmen Anggota Polri 2...   \n",
       "1  5654  Gempa Magnitudo 3 8 Guncang Wilayah Pacitan Jatim   \n",
       "2  5653  Gempa Magnitudo 4 8 Guncang Wilayah Kabupaten ...   \n",
       "3  5652  Ketua MPR Minta Polri Kejar KKB Pelaku Penemba...   \n",
       "4  5651  Pesan Berantai Kelompok Gaza Polda Bali Imbau ...   \n",
       "\n",
       "                                             content             publish_date  \\\n",
       "0  Tribratanews.polri.go.id - Kupang. Kapolda NTT...  1 June 2024 - 18:30 WIB   \n",
       "1  Tribratanews.polri.go.id - Info gempa hari ini...  1 June 2024 - 17:23 WIB   \n",
       "2  Tribratanews.polri.go.id - Info gempa hari ini...  1 June 2024 - 17:22 WIB   \n",
       "3                                                     1 June 2024 - 16:53 WIB   \n",
       "4  Tribratanews.polri.go.id - Jakarta. Masyarakat...  1 June 2024 - 16:00 WIB   \n",
       "\n",
       "  publisher                             source  \\\n",
       "0            https://tribratanews.polri.go.id/   \n",
       "1            https://tribratanews.polri.go.id/   \n",
       "2            https://tribratanews.polri.go.id/   \n",
       "3            https://tribratanews.polri.go.id/   \n",
       "4            https://tribratanews.polri.go.id/   \n",
       "\n",
       "                                          search_url  \\\n",
       "0  https://tribratanews.polri.go.id/blog/nasional...   \n",
       "1  https://tribratanews.polri.go.id/blog/nasional...   \n",
       "2  https://tribratanews.polri.go.id/blog/nasional...   \n",
       "3  https://tribratanews.polri.go.id/blog/nasional...   \n",
       "4  https://tribratanews.polri.go.id/blog/nasional...   \n",
       "\n",
       "                created_date  tbn_medol_id  is_polri reporter    editor  \\\n",
       "0 2024-06-01 12:17:54.133912            35      True           pt/hn/nm   \n",
       "1 2024-06-01 12:17:54.127053            35      True           ek/hn/nm   \n",
       "2 2024-06-01 12:17:54.118823            35      True           ek/hn/nm   \n",
       "3 2024-06-01 12:17:54.111774            35     False                      \n",
       "4 2024-06-01 12:17:54.103088            35      True           sy/hn/nm   \n",
       "\n",
       "       converted_date                                        description  \\\n",
       "0 2024-06-01 18:30:00  Tribratanews polri go id Kupang Kapolda NTT Ir...   \n",
       "1 2024-06-01 17:23:00  Tribratanews polri go id Info gempa hari ini B...   \n",
       "2 2024-06-01 17:22:00  Tribratanews polri go id Info gempa hari ini B...   \n",
       "3 2024-06-01 16:53:00                                                      \n",
       "4 2024-06-01 16:00:00  Tribratanews polri go id Jakarta Masyarakat Ba...   \n",
       "\n",
       "                                             stemmed  \\\n",
       "0  tribratanews polri go id kupang kapolda ntt ir...   \n",
       "1  tribratanews polri go id info gempa hari ini b...   \n",
       "2  tribratanews polri go id info gempa hari ini b...   \n",
       "3                                                      \n",
       "4  tribratanews polri go id jakarta masyarakat ba...   \n",
       "\n",
       "                                     tokenized_tweet Prediction     Score  \n",
       "0  {seleksi, rupatama, penerimaan, kesempatan, wa...    Neutral  0.999085  \n",
       "1  {berubah, data, wib, ek, hasil, stabil, seirin...    Neutral  0.999662  \n",
       "2  {alor, berubah, data, akun, wib, twitter, ek, ...    Neutral  0.999668  \n",
       "3                                                 {}   Positive  0.994275  \n",
       "4  {panjaitan, janji, bertanggung, kamtibmas, sek...   Negative  0.544135  "
=======
       "0  2044  Simak Kiat kiat Berolahraga Saat Menjalankan I...   \n",
       "\n",
       "                                             content  \\\n",
       "0  Tribratanews.polri.go.id - Jakarta. Menjelang ...   \n",
       "\n",
       "                publish_date publisher                             source  \\\n",
       "0  12 March 2024 - 06:45 WIB            https://tribratanews.polri.go.id/   \n",
       "\n",
       "                                          search_url  \\\n",
       "0  https://tribratanews.polri.go.id/blog/kesehata...   \n",
       "\n",
       "                created_date  tbn_medol_id  is_polri reporter    editor  \\\n",
       "0 2024-03-12 00:00:40.985403            35     False           fa/hn/nm   \n",
       "\n",
       "                                         description  \\\n",
       "0  Tribratanews polri go id Jakarta Menjelang bul...   \n",
       "\n",
       "                                             stemmed  \\\n",
       "0  tribratanews polri go id jakarta menjelang bul...   \n",
       "\n",
       "                                     tokenized_tweet Prediction     Score  \n",
       "0  {dilansir, aktif, bersantai, cari, perhatikan,...    Neutral  0.553056  "
>>>>>>> ce1d860e8f986e5a64cc79d9c113b22d7c00ddef
      ]
     },
     "execution_count": 10,
     "metadata": {},
     "output_type": "execute_result"
    }
   ],
   "source": [
    "res_content_ds.head()"
   ]
  },
  {
   "cell_type": "code",
   "execution_count": 11,
   "id": "c5d92f04-856f-49d7-ac4c-b10fb4516774",
   "metadata": {
    "execution": {
<<<<<<< HEAD
     "iopub.execute_input": "2024-06-01T12:39:28.739288Z",
     "iopub.status.busy": "2024-06-01T12:39:28.738741Z",
     "iopub.status.idle": "2024-06-01T12:39:30.822600Z",
     "shell.execute_reply": "2024-06-01T12:39:30.821561Z"
=======
     "iopub.execute_input": "2024-03-12T00:02:10.014273Z",
     "iopub.status.busy": "2024-03-12T00:02:10.013809Z",
     "iopub.status.idle": "2024-03-12T00:02:10.040992Z",
     "shell.execute_reply": "2024-03-12T00:02:10.040308Z"
>>>>>>> ce1d860e8f986e5a64cc79d9c113b22d7c00ddef
    }
   },
   "outputs": [
    {
     "name": "stdout",
     "output_type": "stream",
     "text": [
      "Query executed successfully. 1 rows affected.\n"
     ]
    },
    {
     "name": "stdout",
     "output_type": "stream",
     "text": [
      "Query executed successfully. 1 rows affected.\n",
      "Query executed successfully. 1 rows affected.\n",
      "Query executed successfully. 1 rows affected.\n",
      "Query executed successfully. 1 rows affected.\n",
      "Query executed successfully. 1 rows affected.\n",
      "Query executed successfully. 1 rows affected.\n"
     ]
    },
    {
     "name": "stdout",
     "output_type": "stream",
     "text": [
      "Query executed successfully. 1 rows affected.\n",
      "Query executed successfully. 1 rows affected.\n",
      "Query executed successfully. 1 rows affected.\n",
      "Query executed successfully. 1 rows affected.\n",
      "Query executed successfully. 1 rows affected.\n"
     ]
    },
    {
     "name": "stdout",
     "output_type": "stream",
     "text": [
      "Query executed successfully. 1 rows affected.\n",
      "Query executed successfully. 1 rows affected.\n",
      "Query executed successfully. 1 rows affected.\n",
      "Query executed successfully. 1 rows affected.\n",
      "Query executed successfully. 1 rows affected.\n"
     ]
    },
    {
     "name": "stdout",
     "output_type": "stream",
     "text": [
      "Query executed successfully. 1 rows affected.\n",
      "Query executed successfully. 1 rows affected.\n",
      "Query executed successfully. 1 rows affected.\n",
      "Query executed successfully. 1 rows affected.\n",
      "Query executed successfully. 1 rows affected.\n",
      "Query executed successfully. 1 rows affected.\n"
     ]
    },
    {
     "name": "stdout",
     "output_type": "stream",
     "text": [
      "Query executed successfully. 1 rows affected.\n",
      "Query executed successfully. 1 rows affected.\n",
      "Query executed successfully. 1 rows affected.\n",
      "Query executed successfully. 1 rows affected.\n",
      "Query executed successfully. 1 rows affected.\n",
      "Query executed successfully. 1 rows affected.\n"
     ]
    },
    {
     "name": "stdout",
     "output_type": "stream",
     "text": [
      "Query executed successfully. 1 rows affected.\n",
      "Query executed successfully. 1 rows affected.\n",
      "Query executed successfully. 1 rows affected.\n",
      "Query executed successfully. 1 rows affected.\n",
      "Query executed successfully. 1 rows affected.\n"
     ]
    },
    {
     "name": "stdout",
     "output_type": "stream",
     "text": [
      "Query executed successfully. 1 rows affected.\n",
      "Query executed successfully. 1 rows affected.\n",
      "Query executed successfully. 1 rows affected.\n",
      "Query executed successfully. 1 rows affected.\n"
     ]
    },
    {
     "name": "stdout",
     "output_type": "stream",
     "text": [
      "Query executed successfully. 1 rows affected.\n",
      "Query executed successfully. 1 rows affected.\n",
      "Query executed successfully. 1 rows affected.\n",
      "Query executed successfully. 1 rows affected.\n",
      "Query executed successfully. 1 rows affected.\n"
     ]
    }
   ],
   "source": [
    "# record result\n",
    "sentiment_class = 0\n",
    "\n",
    "for index, row in res_ds.iterrows():\n",
    "    if row['Prediction'] == 'Positive':\n",
    "        sentiment_class = 1\n",
    "    elif row['Prediction'] == 'Negative':\n",
    "        sentiment_class = -1\n",
    "    else:\n",
    "        sentiment_class = 0\n",
    "        \n",
    "    # sql = \"INSERT INTO cekmedsos_database.ret_sentiment_result (job_id, tweet_id, sentiment_class) VALUES(%s, %s , %s);\" % (str(const_job_id), row['id_str'], str(sentiment_class))\n",
    "    sql = \"INSERT INTO public.news_tbn_sentiment (id_tbn_news, sentiment_title, sentiment_title_value) VALUES( %s, %s, %s);\" % (row['id'], sentiment_class, row['Score'],) \n",
    "    #print(sql)\n",
    "    execute_query(sql)"
   ]
  },
  {
   "cell_type": "code",
   "execution_count": 12,
   "id": "fab6b6ed-3360-44d3-b72b-d82c53410061",
   "metadata": {
    "execution": {
<<<<<<< HEAD
     "iopub.execute_input": "2024-06-01T12:39:30.827735Z",
     "iopub.status.busy": "2024-06-01T12:39:30.826838Z",
     "iopub.status.idle": "2024-06-01T12:39:33.006551Z",
     "shell.execute_reply": "2024-06-01T12:39:33.005387Z"
=======
     "iopub.execute_input": "2024-03-12T00:02:10.043802Z",
     "iopub.status.busy": "2024-03-12T00:02:10.043385Z",
     "iopub.status.idle": "2024-03-12T00:02:10.066965Z",
     "shell.execute_reply": "2024-03-12T00:02:10.066280Z"
>>>>>>> ce1d860e8f986e5a64cc79d9c113b22d7c00ddef
    }
   },
   "outputs": [
    {
     "name": "stdout",
     "output_type": "stream",
     "text": [
<<<<<<< HEAD
      "Query executed successfully. 1 rows affected.\n",
      "Query executed successfully. 1 rows affected.\n",
      "Query executed successfully. 1 rows affected.\n",
      "Query executed successfully. 1 rows affected.\n",
      "Query executed successfully. 1 rows affected.\n",
      "Query executed successfully. 1 rows affected.\n"
     ]
    },
    {
     "name": "stdout",
     "output_type": "stream",
     "text": [
      "Query executed successfully. 1 rows affected.\n",
      "Query executed successfully. 1 rows affected.\n",
      "Query executed successfully. 1 rows affected.\n",
      "Query executed successfully. 1 rows affected.\n"
     ]
    },
    {
     "name": "stdout",
     "output_type": "stream",
     "text": [
      "Query executed successfully. 1 rows affected.\n",
      "Query executed successfully. 1 rows affected.\n",
      "Query executed successfully. 1 rows affected.\n",
      "Query executed successfully. 1 rows affected.\n"
     ]
    },
    {
     "name": "stdout",
     "output_type": "stream",
     "text": [
      "Query executed successfully. 1 rows affected.\n",
      "Query executed successfully. 1 rows affected.\n",
      "Query executed successfully. 1 rows affected.\n",
      "Query executed successfully. 1 rows affected.\n",
      "Query executed successfully. 1 rows affected.\n"
     ]
    },
    {
     "name": "stdout",
     "output_type": "stream",
     "text": [
      "Query executed successfully. 1 rows affected.\n",
      "Query executed successfully. 1 rows affected.\n",
      "Query executed successfully. 1 rows affected.\n",
      "Query executed successfully. 1 rows affected.\n",
      "Query executed successfully. 1 rows affected.\n"
     ]
    },
    {
     "name": "stdout",
     "output_type": "stream",
     "text": [
      "Query executed successfully. 1 rows affected.\n",
      "Query executed successfully. 1 rows affected.\n",
      "Query executed successfully. 1 rows affected.\n",
      "Query executed successfully. 1 rows affected.\n",
      "Query executed successfully. 1 rows affected.\n",
      "Query executed successfully. 1 rows affected.\n"
     ]
    },
    {
     "name": "stdout",
     "output_type": "stream",
     "text": [
      "Query executed successfully. 1 rows affected.\n",
      "Query executed successfully. 1 rows affected.\n",
      "Query executed successfully. 1 rows affected.\n",
      "Query executed successfully. 1 rows affected.\n",
      "Query executed successfully. 1 rows affected.\n"
     ]
    },
    {
     "name": "stdout",
     "output_type": "stream",
     "text": [
      "Query executed successfully. 1 rows affected.\n",
      "Query executed successfully. 1 rows affected.\n",
      "Query executed successfully. 1 rows affected.\n",
      "Query executed successfully. 1 rows affected.\n",
      "Query executed successfully. 1 rows affected.\n"
     ]
    },
    {
     "name": "stdout",
     "output_type": "stream",
     "text": [
      "Query executed successfully. 1 rows affected.\n",
      "Query executed successfully. 1 rows affected.\n",
      "Query executed successfully. 1 rows affected.\n",
      "Query executed successfully. 1 rows affected.\n",
      "Query executed successfully. 1 rows affected.\n"
     ]
    },
    {
     "name": "stdout",
     "output_type": "stream",
     "text": [
      "Query executed successfully. 1 rows affected.\n",
=======
>>>>>>> ce1d860e8f986e5a64cc79d9c113b22d7c00ddef
      "Query executed successfully. 1 rows affected.\n"
     ]
    }
   ],
   "source": [
    "# record result\n",
    "sentiment_class = 0\n",
    "\n",
    "for index, row in res_ds.iterrows():\n",
    "    if row['Prediction'] == 'Positive':\n",
    "        sentiment_class = 1\n",
    "    elif row['Prediction'] == 'Negative':\n",
    "        sentiment_class = -1\n",
    "    else:\n",
    "        sentiment_class = 0\n",
    "        \n",
    "    sql = \"UPDATE public.news_tbn_sentiment set sentiment_content = %s, sentiment_content_value = %s where id_tbn_news = %s;\" % (sentiment_class, row['Score'], row['id'])\n",
    "    \n",
    "    execute_query(sql)"
   ]
  }
 ],
 "metadata": {
  "kernelspec": {
   "display_name": "Python 3 (ipykernel)",
   "language": "python",
   "name": "python3"
  },
  "language_info": {
   "codemirror_mode": {
    "name": "ipython",
    "version": 3
   },
   "file_extension": ".py",
   "mimetype": "text/x-python",
   "name": "python",
   "nbconvert_exporter": "python",
   "pygments_lexer": "ipython3",
   "version": "3.8.10"
  }
 },
 "nbformat": 4,
 "nbformat_minor": 5
}
