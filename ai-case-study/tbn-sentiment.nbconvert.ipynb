{
 "cells": [
  {
   "cell_type": "markdown",
   "id": "dc88b042-9d24-48fc-94a3-6009b4951e7b",
   "metadata": {},
   "source": [
    "# Multipool Tribrata News Sentiment Analysis\n",
    "\n",
    "this function will get data from google_result table\n",
    "and calculate the sentiment analysis. Result is store in google_result_sentiment\n",
    "\n",
    "crontab command\n",
    "* * * * * /home/haviz/multipool/ai-case-study/run-ai-sa-tbn.sh >> /home/haviz/multipool/ai-sa-tbn.log\n",
    "\n"
   ]
  },
  {
   "cell_type": "code",
   "execution_count": 1,
   "id": "39d0afb3-cd43-479c-a645-5eb16d589ba4",
   "metadata": {
    "execution": {
     "iopub.execute_input": "2024-06-08T09:15:27.155125Z",
     "iopub.status.busy": "2024-06-08T09:15:27.154490Z",
     "iopub.status.idle": "2024-06-08T09:21:04.130342Z",
     "shell.execute_reply": "2024-06-08T09:21:04.127223Z"
    }
   },
   "outputs": [],
   "source": [
    "import numpy as np\n",
    "import pandas as pd\n",
    "import seaborn as sn\n",
    "import matplotlib.pyplot as plt\n",
    "import pymysql.cursors\n",
    "import sqlalchemy as sa\n",
    "import nltk\n",
    "import string\n",
    "import os\n",
    "\n",
    "from nltk.corpus import stopwords \n",
    "from sqlalchemy import create_engine, Column, Integer, String, MetaData, Table\n",
    "from sqlalchemy.sql import text\n",
    "from sqlalchemy.orm import sessionmaker\n",
    "import pandas as pd\n",
    "\n",
    "# nltk.download('stopwords')\n",
    "\n",
    "\n",
    "os.environ['TF_CPP_MIN_LOG_LEVEL'] = '2'\n",
    "\n",
    "# Use a pipeline as a high-level helper\n",
    "from transformers import pipeline\n",
    "pipe = pipeline(\"text-classification\", model=\"ayameRushia/bert-base-indonesian-1.5G-sentiment-analysis-smsa\")"
   ]
  },
  {
   "cell_type": "code",
   "execution_count": 2,
   "id": "ec64d1af-b458-4c9e-9762-1d3d780b616f",
   "metadata": {
    "execution": {
     "iopub.execute_input": "2024-06-08T09:21:04.187876Z",
     "iopub.status.busy": "2024-06-08T09:21:04.185828Z",
     "iopub.status.idle": "2024-06-08T09:21:04.215253Z",
     "shell.execute_reply": "2024-06-08T09:21:04.213713Z"
    }
   },
   "outputs": [],
   "source": [
    "from sqlalchemy.util import deprecations\n",
    "deprecations.SILENCE_UBER_WARNING = True\n",
    "\n",
    "def execute_query(query, params=None):\n",
    "    # Set your PostgreSQL connection parameters\n",
    "    db_params = {\n",
    "        'host': '98.98.117.105',\n",
    "        'port': '5432',\n",
    "        'database': 'medols',\n",
    "        'user': 'postgres',\n",
    "        'password': 'FEWcTB3JIX5gK4T06c1MdkM9N2S8w9pb',\n",
    "    }\n",
    "\n",
    "    # Create a SQLAlchemy engine\n",
    "    engine = create_engine(f\"postgresql+psycopg2://{db_params['user']}:{db_params['password']}@{db_params['host']}:{db_params['port']}/{db_params['database']}\")\n",
    "\n",
    "    # Create a session\n",
    "    Session = sessionmaker(bind=engine)\n",
    "    session = Session()\n",
    "\n",
    "    try:\n",
    "        # Execute the query with optional parameters\n",
    "        result = session.execute(text(query), params)\n",
    "\n",
    "        # Check if the query is a SELECT query\n",
    "        is_select_query = result.returns_rows\n",
    "\n",
    "        if is_select_query:\n",
    "            # Fetch the data and return as a Pandas DataFrame\n",
    "            columns = result.keys()\n",
    "            fetched_data = result.fetchall()\n",
    "            df = pd.DataFrame(fetched_data, columns=columns)\n",
    "            # print(\"Fetched Data as DataFrame:\")\n",
    "            # print(df)\n",
    "            return df\n",
    "        else:\n",
    "            # Get the number of rows affected for non-SELECT queries\n",
    "            rows_affected = result.rowcount\n",
    "\n",
    "            # Commit the changes to the database for non-SELECT queries\n",
    "            session.commit()\n",
    "\n",
    "            print(f\"Query executed successfully. {rows_affected} rows affected.\")\n",
    "            return rows_affected\n",
    "    except Exception as e:\n",
    "        # Rollback changes if there's an error\n",
    "        session.rollback()\n",
    "        print(f\"Error executing query: {e}\")\n",
    "    finally:\n",
    "        # Close the session\n",
    "        session.close()"
   ]
  },
  {
   "cell_type": "code",
   "execution_count": 3,
   "id": "97cf0378-4165-46bd-abc9-05c3a9fe18ba",
   "metadata": {
    "execution": {
     "iopub.execute_input": "2024-06-08T09:21:04.223793Z",
     "iopub.status.busy": "2024-06-08T09:21:04.223196Z",
     "iopub.status.idle": "2024-06-08T09:21:04.237726Z",
     "shell.execute_reply": "2024-06-08T09:21:04.234714Z"
    }
   },
   "outputs": [],
   "source": [
    "import pandas as pd\n",
    "import re\n",
    "from sqlalchemy import create_engine\n",
    "\n",
    "def stemming(comment):\n",
    "    factory = StemmerFactory()\n",
    "    stemmer = factory.create_stemmer()\n",
    "    do = []\n",
    "    for w in comment:\n",
    "        dt = stemmer.stem(w)\n",
    "        do.append(dt)\n",
    "    d_clean = []\n",
    "    d_clean = \" \".join(do)\n",
    "    return d_clean\n",
    "    \n",
    "# function case folding\n",
    "def casefolding(comment):\n",
    "    comment = comment.lower()\n",
    "    comment = comment.strip(\" \")\n",
    "    comment = re.sub(r'[?|$|.|!_:\")(-+,]','',comment)\n",
    "    return comment\n",
    "\n",
    "def clean_up_tag(comment):\n",
    "    x_ret = ' '.join(re.sub(\"(@[A-Za-z0-9]+)|([^0-9A-Za-z \\t])|(\\w+:\\/\\/\\S+)\",\" \",comment).split())\n",
    "    return x_ret\n",
    "\n",
    "# Text Preprocessing, \n",
    "def text_preproc(strIn):\n",
    "    # case folding\n",
    "    strOut = strIn.lower()\n",
    "    \n",
    "    # remove numbers\n",
    "    strOut = re.sub(r\"\\d+\", \"\", strOut)\n",
    "    \n",
    "    # remote punctuation\n",
    "    strOut = strOut.translate(str.maketrans(\"\",\"\",string.punctuation))\n",
    "    \n",
    "    # remove whitspace\n",
    "    strOut = strOut.strip()\n",
    "    \n",
    "    # \n",
    "    strOut = re.sub('\\s+',' ',strOut)\n",
    "    return strOut"
   ]
  },
  {
   "cell_type": "code",
   "execution_count": 4,
   "id": "438a292a-3e97-4161-bcaf-1887c838ae1f",
   "metadata": {
    "execution": {
     "iopub.execute_input": "2024-06-08T09:21:04.243971Z",
     "iopub.status.busy": "2024-06-08T09:21:04.243290Z",
     "iopub.status.idle": "2024-06-08T09:21:04.262971Z",
     "shell.execute_reply": "2024-06-08T09:21:04.261222Z"
    }
   },
   "outputs": [],
   "source": [
    "def process_by_df(source_ds):\n",
    "    from tqdm import tqdm\n",
    "    pd.options.mode.chained_assignment = None \n",
    "\n",
    "    # we calculate sentiment for 'title' and 'description' column\n",
    "\n",
    "    # remove first\n",
    "    source_ds['title'] = source_ds['title'].apply(clean_up_tag)\n",
    "    source_ds['description'] = source_ds['content'].apply(clean_up_tag)\n",
    "\n",
    "\n",
    "    # skip stemming\n",
    "    source_ds['stemmed'] = source_ds['title']\n",
    "    source_ds['stemmed'] = source_ds['stemmed'].apply(casefolding)\n",
    "    source_ds['stemmed'] = source_ds['stemmed'].apply(text_preproc)\n",
    "\n",
    "    sw = stopwords.words('indonesian')\n",
    "    #tokenized\n",
    "    source_ds['tokenized_tweet'] = source_ds.apply(lambda row: nltk.word_tokenize(row['stemmed']), axis=1)\n",
    "\n",
    "    # apply stopword removal\n",
    "    source_ds['tokenized_tweet'] = source_ds.apply(lambda row: {w for w in row['tokenized_tweet'] if not w in sw}, axis=1)\n",
    "    sw = stopwords.words('indonesian')\n",
    "\n",
    "    #tokenized\n",
    "    source_ds['tokenized_tweet'] = source_ds.apply(lambda row: nltk.word_tokenize(row['stemmed']), axis=1)\n",
    "\n",
    "    # apply stopword removal\n",
    "    source_ds['tokenized_tweet'] = source_ds.apply(lambda row: {w for w in row['tokenized_tweet'] if not w in sw}, axis=1)\n",
    "\n",
    "    # Notes on return sentiment values\n",
    "    # 1 >> positif >> stay\n",
    "    # 2 >> negatif >> convert to -1\n",
    "    # 0 >> netral >> stay\n",
    "\n",
    "    # Create a new list and insert each element from the original list\n",
    "    from tqdm import tqdm\n",
    "\n",
    "    list_text = source_ds['stemmed'].tolist()\n",
    "    new_list = []\n",
    "    for i in tqdm(range( len(list_text) )):\n",
    "        res = pipe(list_text[i])\n",
    "        #print(res)\n",
    "        new_list.append(res)\n",
    "\n",
    "    # Notes on return sentiment values\n",
    "    # 1 >> positif >> stay\n",
    "    # 2 >> negatif >> convert to -1\n",
    "    # 0 >> netral >> stay\n",
    "    # create a list of our conditions\n",
    "    for i in range(0, len(new_list)):\n",
    "        # print(new_list[i][0]['label'])\n",
    "        if new_list[i][0]['label'] == 'Positive':\n",
    "            new_list[i][0]['Value'] = 1\n",
    "        elif new_list[i][0]['label'] == 'Negative':\n",
    "            new_list[i][0]['Value'] = -1\n",
    "        elif new_list[i][0]['label'] == 'Neutral':\n",
    "            new_list[i][0]['Value'] = 0\n",
    "\n",
    "    for index, row in source_ds.iterrows():\n",
    "        source_ds.at[index,'Prediction'] = new_list[index][0]['label']\n",
    "\n",
    "    for index, row in source_ds.iterrows():\n",
    "        source_ds.at[index,'Prediction'] = new_list[index][0]['label']\n",
    "        source_ds.at[index,'Score'] = new_list[index][0]['score']\n",
    "        #source_ds.at[index,'Score'] = new_list[index][0]['Value']\n",
    "        \n",
    "    return source_ds\n"
   ]
  },
  {
   "cell_type": "code",
   "execution_count": 5,
   "id": "3853b4df-3823-4ce4-8b18-bfe24581c81a",
   "metadata": {
    "execution": {
     "iopub.execute_input": "2024-06-08T09:21:04.272338Z",
     "iopub.status.busy": "2024-06-08T09:21:04.271070Z",
     "iopub.status.idle": "2024-06-08T09:21:04.297088Z",
     "shell.execute_reply": "2024-06-08T09:21:04.295731Z"
    }
   },
   "outputs": [],
   "source": [
    "def process_by_df_col(source_ds, col_name):\n",
    "    from tqdm import tqdm\n",
    "    pd.options.mode.chained_assignment = None \n",
    "    \n",
    "    # trim to 2500 character\n",
    "    source_ds[col_name] = source_ds[col_name].str.slice(0,2000)\n",
    "\n",
    "    # skip stemming\n",
    "    source_ds['stemmed'] = source_ds[col_name].apply(clean_up_tag)\n",
    "    source_ds['stemmed'] = source_ds['stemmed'].apply(casefolding)\n",
    "    source_ds['stemmed'] = source_ds['stemmed'].apply(text_preproc)\n",
    "\n",
    "    sw = stopwords.words('indonesian')\n",
    "    #tokenized\n",
    "    source_ds['tokenized_tweet'] = source_ds.apply(lambda row: nltk.word_tokenize(row['stemmed']), axis=1)\n",
    "\n",
    "    # apply stopword removal\n",
    "    source_ds['tokenized_tweet'] = source_ds.apply(lambda row: {w for w in row['tokenized_tweet'] if not w in sw}, axis=1)\n",
    "    sw = stopwords.words('indonesian')\n",
    "\n",
    "    #tokenized\n",
    "    source_ds['tokenized_tweet'] = source_ds.apply(lambda row: nltk.word_tokenize(row['stemmed']), axis=1)\n",
    "\n",
    "    # apply stopword removal\n",
    "    source_ds['tokenized_tweet'] = source_ds.apply(lambda row: {w for w in row['tokenized_tweet'] if not w in sw}, axis=1)\n",
    "\n",
    "    # Notes on return sentiment values\n",
    "    # 1 >> positif >> stay\n",
    "    # 2 >> negatif >> convert to -1\n",
    "    # 0 >> netral >> stay\n",
    "\n",
    "    # Create a new list and insert each element from the original list\n",
    "    from tqdm import tqdm\n",
    "\n",
    "    list_text = source_ds['stemmed'].tolist()\n",
    "    new_list = []\n",
    "    for i in tqdm(range( len(list_text) )):\n",
    "        # print(len(list_text[i]))\n",
    "        try:\n",
    "            if len(list_text[i]) > 0:\n",
    "                res = pipe( list_text[i] )\n",
    "                new_list.append(res)\n",
    "            else:\n",
    "                res = pipe( 'kalimat netral' )\n",
    "                new_list.append(res)\n",
    "                zip\n",
    "        except Exception as e:\n",
    "            # Handle the exception (error) here\n",
    "            print(f\"Error processing value at index {i}: {list_text[i]}\")\n",
    "            print(f\"Error message: {str(e)}\")\n",
    "            res = pipe( 'kalimat netral' )\n",
    "            new_list.append(res)      \n",
    "            \n",
    "            continue\n",
    "\n",
    "    # Notes on return sentiment values\n",
    "    # 1 >> positif >> stay\n",
    "    # 2 >> negatif >> convert to -1\n",
    "    # 0 >> netral >> stay\n",
    "    # create a list of our conditions\n",
    "    for i in range(0, len(new_list)):\n",
    "        # print(new_list[i][0]['label'])\n",
    "        if new_list[i][0]['label'] == 'Positive':\n",
    "            new_list[i][0]['Value'] = 1\n",
    "        elif new_list[i][0]['label'] == 'Negative':\n",
    "            new_list[i][0]['Value'] = -1\n",
    "        elif new_list[i][0]['label'] == 'Neutral':\n",
    "            new_list[i][0]['Value'] = 0\n",
    "\n",
    "    for index, row in source_ds.iterrows():\n",
    "        source_ds.at[index,'Prediction'] = new_list[index][0]['label']\n",
    "\n",
    "    for index, row in source_ds.iterrows():\n",
    "        source_ds.at[index,'Prediction'] = new_list[index][0]['label']\n",
    "        source_ds.at[index,'Score'] = new_list[index][0]['score']\n",
    "        #source_ds.at[index,'Score'] = new_list[index][0]['Value']\n",
    "        \n",
    "    return source_ds"
   ]
  },
  {
   "cell_type": "code",
   "execution_count": 6,
   "id": "325b5528-6ca4-411d-9b57-069e3a6d3a25",
   "metadata": {
    "execution": {
     "iopub.execute_input": "2024-06-08T09:21:04.303763Z",
     "iopub.status.busy": "2024-06-08T09:21:04.303279Z",
     "iopub.status.idle": "2024-06-08T09:21:05.786289Z",
     "shell.execute_reply": "2024-06-08T09:21:05.782421Z"
    }
   },
   "outputs": [],
   "source": [
    "# query 400 rows of data query data from table\n",
    "select_query = \"select * \\\n",
    "from news_tbn_medol gr \\\n",
    "where id not in (select id_tbn_news from news_tbn_sentiment) \\\n",
    "order by id desc limit 500\"\n",
    "\n",
    "source_ds = execute_query(select_query)\n",
    "\n",
    "if len(source_ds) == 0:\n",
    "    # get out, nothing to do\n",
    "    print('Zero jobs, quitting now')\n",
    "    quit()\n",
    "    \n",
    "# source_ds.head()"
   ]
  },
  {
   "cell_type": "code",
   "execution_count": 7,
   "id": "5a9fe7d0-c005-45ad-8291-16c8bd9f7dbf",
   "metadata": {
    "execution": {
     "iopub.execute_input": "2024-06-08T09:21:05.792487Z",
     "iopub.status.busy": "2024-06-08T09:21:05.791859Z",
     "iopub.status.idle": "2024-06-08T09:21:22.186385Z",
     "shell.execute_reply": "2024-06-08T09:21:22.178411Z"
    }
   },
   "outputs": [
    {
     "name": "stderr",
     "output_type": "stream",
     "text": [
      "\r",
      "  0%|          | 0/2 [00:00<?, ?it/s]"
     ]
    },
    {
     "name": "stderr",
     "output_type": "stream",
     "text": [
      "\r",
      " 50%|█████     | 1/2 [00:11<00:11, 11.00s/it]"
     ]
    },
    {
     "name": "stderr",
     "output_type": "stream",
     "text": [
      "\r",
      "100%|██████████| 2/2 [00:15<00:00,  7.46s/it]"
     ]
    },
    {
     "name": "stderr",
     "output_type": "stream",
     "text": [
      "\r",
      "100%|██████████| 2/2 [00:15<00:00,  8.00s/it]"
     ]
    },
    {
     "name": "stderr",
     "output_type": "stream",
     "text": [
      "\n"
     ]
    }
   ],
   "source": [
    "# Processing title sentiment analysis\n",
    "content_ds = source_ds\n",
    "res_ds = process_by_df(source_ds)"
   ]
  },
  {
   "cell_type": "code",
   "execution_count": 8,
   "id": "4d30b8a9-31bc-4bd6-a4da-7484686cac4b",
   "metadata": {
    "execution": {
     "iopub.execute_input": "2024-06-08T09:21:22.202714Z",
     "iopub.status.busy": "2024-06-08T09:21:22.191872Z",
     "iopub.status.idle": "2024-06-08T09:21:22.560473Z",
     "shell.execute_reply": "2024-06-08T09:21:22.559259Z"
    }
   },
   "outputs": [
    {
     "data": {
      "text/html": [
       "<div>\n",
       "<style scoped>\n",
       "    .dataframe tbody tr th:only-of-type {\n",
       "        vertical-align: middle;\n",
       "    }\n",
       "\n",
       "    .dataframe tbody tr th {\n",
       "        vertical-align: top;\n",
       "    }\n",
       "\n",
       "    .dataframe thead th {\n",
       "        text-align: right;\n",
       "    }\n",
       "</style>\n",
       "<table border=\"1\" class=\"dataframe\">\n",
       "  <thead>\n",
       "    <tr style=\"text-align: right;\">\n",
       "      <th></th>\n",
       "      <th>id</th>\n",
       "      <th>title</th>\n",
       "      <th>content</th>\n",
       "      <th>publish_date</th>\n",
       "      <th>publisher</th>\n",
       "      <th>source</th>\n",
       "      <th>search_url</th>\n",
       "      <th>created_date</th>\n",
       "      <th>tbn_medol_id</th>\n",
       "      <th>is_polri</th>\n",
       "      <th>reporter</th>\n",
       "      <th>editor</th>\n",
       "      <th>converted_date</th>\n",
       "      <th>description</th>\n",
       "      <th>stemmed</th>\n",
       "      <th>tokenized_tweet</th>\n",
       "      <th>Prediction</th>\n",
       "      <th>Score</th>\n",
       "    </tr>\n",
       "  </thead>\n",
       "  <tbody>\n",
       "    <tr>\n",
       "      <th>0</th>\n",
       "      <td>6836</td>\n",
       "      <td></td>\n",
       "      <td></td>\n",
       "      <td></td>\n",
       "      <td></td>\n",
       "      <td>https://tribratanews.babel.polri.go.id/</td>\n",
       "      <td>https://tribratanews.babel.polri.go.id/2024/06...</td>\n",
       "      <td>2024-06-08 09:19:59.207755</td>\n",
       "      <td>9</td>\n",
       "      <td>False</td>\n",
       "      <td></td>\n",
       "      <td></td>\n",
       "      <td>None</td>\n",
       "      <td></td>\n",
       "      <td></td>\n",
       "      <td>{}</td>\n",
       "      <td>Positive</td>\n",
       "      <td>0.999596</td>\n",
       "    </tr>\n",
       "    <tr>\n",
       "      <th>1</th>\n",
       "      <td>6835</td>\n",
       "      <td></td>\n",
       "      <td></td>\n",
       "      <td></td>\n",
       "      <td></td>\n",
       "      <td>https://tribratanews.babel.polri.go.id/</td>\n",
       "      <td>https://tribratanews.babel.polri.go.id/2024/06...</td>\n",
       "      <td>2024-06-08 09:19:59.194760</td>\n",
       "      <td>9</td>\n",
       "      <td>False</td>\n",
       "      <td></td>\n",
       "      <td></td>\n",
       "      <td>None</td>\n",
       "      <td></td>\n",
       "      <td></td>\n",
       "      <td>{}</td>\n",
       "      <td>Positive</td>\n",
       "      <td>0.999596</td>\n",
       "    </tr>\n",
       "  </tbody>\n",
       "</table>\n",
       "</div>"
      ],
      "text/plain": [
       "     id title content publish_date publisher  \\\n",
       "0  6836                                        \n",
       "1  6835                                        \n",
       "\n",
       "                                    source  \\\n",
       "0  https://tribratanews.babel.polri.go.id/   \n",
       "1  https://tribratanews.babel.polri.go.id/   \n",
       "\n",
       "                                          search_url  \\\n",
       "0  https://tribratanews.babel.polri.go.id/2024/06...   \n",
       "1  https://tribratanews.babel.polri.go.id/2024/06...   \n",
       "\n",
       "                created_date  tbn_medol_id  is_polri reporter editor  \\\n",
       "0 2024-06-08 09:19:59.207755             9     False                   \n",
       "1 2024-06-08 09:19:59.194760             9     False                   \n",
       "\n",
       "  converted_date description stemmed tokenized_tweet Prediction     Score  \n",
       "0           None                                  {}   Positive  0.999596  \n",
       "1           None                                  {}   Positive  0.999596  "
      ]
     },
     "execution_count": 8,
     "metadata": {},
     "output_type": "execute_result"
    }
   ],
   "source": [
    "res_ds.head()"
   ]
  },
  {
   "cell_type": "code",
   "execution_count": 9,
   "id": "831df3a7-7791-4587-91d0-8f785c8988b0",
   "metadata": {
    "execution": {
     "iopub.execute_input": "2024-06-08T09:21:22.578913Z",
     "iopub.status.busy": "2024-06-08T09:21:22.564992Z",
     "iopub.status.idle": "2024-06-08T09:21:44.093666Z",
     "shell.execute_reply": "2024-06-08T09:21:44.090384Z"
    }
   },
   "outputs": [
    {
     "name": "stderr",
     "output_type": "stream",
     "text": [
      "\r",
      "  0%|          | 0/2 [00:00<?, ?it/s]"
     ]
    },
    {
     "name": "stderr",
     "output_type": "stream",
     "text": [
      "\r",
      " 50%|█████     | 1/2 [00:06<00:06,  6.57s/it]"
     ]
    },
    {
     "name": "stderr",
     "output_type": "stream",
     "text": [
      "\r",
      "100%|██████████| 2/2 [00:21<00:00, 11.41s/it]"
     ]
    },
    {
     "name": "stderr",
     "output_type": "stream",
     "text": [
      "\r",
      "100%|██████████| 2/2 [00:21<00:00, 10.69s/it]"
     ]
    },
    {
     "name": "stderr",
     "output_type": "stream",
     "text": [
      "\n"
     ]
    }
   ],
   "source": [
    "# Processing content sentiment analysis\n",
    "res_content_ds = process_by_df_col(content_ds,'content')"
   ]
  },
  {
   "cell_type": "code",
   "execution_count": 10,
   "id": "4bb26a23-a143-4f85-a299-d3cae3692ae0",
   "metadata": {
    "execution": {
     "iopub.execute_input": "2024-06-08T09:21:44.119547Z",
     "iopub.status.busy": "2024-06-08T09:21:44.103477Z",
     "iopub.status.idle": "2024-06-08T09:21:44.418889Z",
     "shell.execute_reply": "2024-06-08T09:21:44.413534Z"
    }
   },
   "outputs": [
    {
     "data": {
      "text/html": [
       "<div>\n",
       "<style scoped>\n",
       "    .dataframe tbody tr th:only-of-type {\n",
       "        vertical-align: middle;\n",
       "    }\n",
       "\n",
       "    .dataframe tbody tr th {\n",
       "        vertical-align: top;\n",
       "    }\n",
       "\n",
       "    .dataframe thead th {\n",
       "        text-align: right;\n",
       "    }\n",
       "</style>\n",
       "<table border=\"1\" class=\"dataframe\">\n",
       "  <thead>\n",
       "    <tr style=\"text-align: right;\">\n",
       "      <th></th>\n",
       "      <th>id</th>\n",
       "      <th>title</th>\n",
       "      <th>content</th>\n",
       "      <th>publish_date</th>\n",
       "      <th>publisher</th>\n",
       "      <th>source</th>\n",
       "      <th>search_url</th>\n",
       "      <th>created_date</th>\n",
       "      <th>tbn_medol_id</th>\n",
       "      <th>is_polri</th>\n",
       "      <th>reporter</th>\n",
       "      <th>editor</th>\n",
       "      <th>converted_date</th>\n",
       "      <th>description</th>\n",
       "      <th>stemmed</th>\n",
       "      <th>tokenized_tweet</th>\n",
       "      <th>Prediction</th>\n",
       "      <th>Score</th>\n",
       "    </tr>\n",
       "  </thead>\n",
       "  <tbody>\n",
       "    <tr>\n",
       "      <th>0</th>\n",
       "      <td>6836</td>\n",
       "      <td></td>\n",
       "      <td></td>\n",
       "      <td></td>\n",
       "      <td></td>\n",
       "      <td>https://tribratanews.babel.polri.go.id/</td>\n",
       "      <td>https://tribratanews.babel.polri.go.id/2024/06...</td>\n",
       "      <td>2024-06-08 09:19:59.207755</td>\n",
       "      <td>9</td>\n",
       "      <td>False</td>\n",
       "      <td></td>\n",
       "      <td></td>\n",
       "      <td>None</td>\n",
       "      <td></td>\n",
       "      <td></td>\n",
       "      <td>{}</td>\n",
       "      <td>Positive</td>\n",
       "      <td>0.994275</td>\n",
       "    </tr>\n",
       "    <tr>\n",
       "      <th>1</th>\n",
       "      <td>6835</td>\n",
       "      <td></td>\n",
       "      <td></td>\n",
       "      <td></td>\n",
       "      <td></td>\n",
       "      <td>https://tribratanews.babel.polri.go.id/</td>\n",
       "      <td>https://tribratanews.babel.polri.go.id/2024/06...</td>\n",
       "      <td>2024-06-08 09:19:59.194760</td>\n",
       "      <td>9</td>\n",
       "      <td>False</td>\n",
       "      <td></td>\n",
       "      <td></td>\n",
       "      <td>None</td>\n",
       "      <td></td>\n",
       "      <td></td>\n",
       "      <td>{}</td>\n",
       "      <td>Positive</td>\n",
       "      <td>0.994275</td>\n",
       "    </tr>\n",
       "  </tbody>\n",
       "</table>\n",
       "</div>"
      ],
      "text/plain": [
       "     id title content publish_date publisher  \\\n",
       "0  6836                                        \n",
       "1  6835                                        \n",
       "\n",
       "                                    source  \\\n",
       "0  https://tribratanews.babel.polri.go.id/   \n",
       "1  https://tribratanews.babel.polri.go.id/   \n",
       "\n",
       "                                          search_url  \\\n",
       "0  https://tribratanews.babel.polri.go.id/2024/06...   \n",
       "1  https://tribratanews.babel.polri.go.id/2024/06...   \n",
       "\n",
       "                created_date  tbn_medol_id  is_polri reporter editor  \\\n",
       "0 2024-06-08 09:19:59.207755             9     False                   \n",
       "1 2024-06-08 09:19:59.194760             9     False                   \n",
       "\n",
       "  converted_date description stemmed tokenized_tweet Prediction     Score  \n",
       "0           None                                  {}   Positive  0.994275  \n",
       "1           None                                  {}   Positive  0.994275  "
      ]
     },
     "execution_count": 10,
     "metadata": {},
     "output_type": "execute_result"
    }
   ],
   "source": [
    "res_content_ds.head()"
   ]
  },
  {
   "cell_type": "code",
   "execution_count": 11,
   "id": "c5d92f04-856f-49d7-ac4c-b10fb4516774",
   "metadata": {
    "execution": {
     "iopub.execute_input": "2024-06-08T09:21:44.437163Z",
     "iopub.status.busy": "2024-06-08T09:21:44.434086Z",
     "iopub.status.idle": "2024-06-08T09:21:44.759517Z",
     "shell.execute_reply": "2024-06-08T09:21:44.758604Z"
    }
   },
   "outputs": [
    {
     "name": "stdout",
     "output_type": "stream",
     "text": [
      "Query executed successfully. 1 rows affected.\n",
      "Query executed successfully. 1 rows affected.\n"
     ]
    }
   ],
   "source": [
    "# record result\n",
    "sentiment_class = 0\n",
    "\n",
    "for index, row in res_ds.iterrows():\n",
    "    if row['Prediction'] == 'Positive':\n",
    "        sentiment_class = 1\n",
    "    elif row['Prediction'] == 'Negative':\n",
    "        sentiment_class = -1\n",
    "    else:\n",
    "        sentiment_class = 0\n",
    "        \n",
    "    # sql = \"INSERT INTO cekmedsos_database.ret_sentiment_result (job_id, tweet_id, sentiment_class) VALUES(%s, %s , %s);\" % (str(const_job_id), row['id_str'], str(sentiment_class))\n",
    "    sql = \"INSERT INTO public.news_tbn_sentiment (id_tbn_news, sentiment_title, sentiment_title_value) VALUES( %s, %s, %s);\" % (row['id'], sentiment_class, row['Score'],) \n",
    "    #print(sql)\n",
    "    execute_query(sql)"
   ]
  },
  {
   "cell_type": "code",
   "execution_count": 12,
   "id": "fab6b6ed-3360-44d3-b72b-d82c53410061",
   "metadata": {
    "execution": {
     "iopub.execute_input": "2024-06-08T09:21:44.787249Z",
     "iopub.status.busy": "2024-06-08T09:21:44.770750Z",
     "iopub.status.idle": "2024-06-08T09:21:45.046943Z",
     "shell.execute_reply": "2024-06-08T09:21:45.045350Z"
    }
   },
   "outputs": [
    {
     "name": "stdout",
     "output_type": "stream",
     "text": [
      "Query executed successfully. 1 rows affected.\n",
      "Query executed successfully. 1 rows affected.\n"
     ]
    }
   ],
   "source": [
    "# record result\n",
    "sentiment_class = 0\n",
    "\n",
    "for index, row in res_ds.iterrows():\n",
    "    if row['Prediction'] == 'Positive':\n",
    "        sentiment_class = 1\n",
    "    elif row['Prediction'] == 'Negative':\n",
    "        sentiment_class = -1\n",
    "    else:\n",
    "        sentiment_class = 0\n",
    "        \n",
    "    sql = \"UPDATE public.news_tbn_sentiment set sentiment_content = %s, sentiment_content_value = %s where id_tbn_news = %s;\" % (sentiment_class, row['Score'], row['id'])\n",
    "    \n",
    "    execute_query(sql)"
   ]
  }
 ],
 "metadata": {
  "kernelspec": {
   "display_name": "Python 3 (ipykernel)",
   "language": "python",
   "name": "python3"
  },
  "language_info": {
   "codemirror_mode": {
    "name": "ipython",
    "version": 3
   },
   "file_extension": ".py",
   "mimetype": "text/x-python",
   "name": "python",
   "nbconvert_exporter": "python",
   "pygments_lexer": "ipython3",
   "version": "3.8.10"
  }
 },
 "nbformat": 4,
 "nbformat_minor": 5
}
