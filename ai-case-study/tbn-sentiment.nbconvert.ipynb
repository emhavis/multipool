{
 "cells": [
  {
   "cell_type": "markdown",
   "id": "dc88b042-9d24-48fc-94a3-6009b4951e7b",
   "metadata": {},
   "source": [
    "# Multipool Tribrata News Sentiment Analysis\n",
    "\n",
    "this function will get data from google_result table\n",
    "and calculate the sentiment analysis. Result is store in google_result_sentiment\n",
    "\n",
    "crontab command\n",
    "* * * * * /home/haviz/multipool/ai-case-study/run-ai-sa-tbn.sh >> /home/haviz/multipool/ai-sa-tbn.log\n",
    "\n"
   ]
  },
  {
   "cell_type": "code",
   "execution_count": 1,
   "id": "39d0afb3-cd43-479c-a645-5eb16d589ba4",
   "metadata": {
    "execution": {
     "iopub.execute_input": "2024-06-05T13:01:05.608118Z",
     "iopub.status.busy": "2024-06-05T13:01:05.607768Z",
     "iopub.status.idle": "2024-06-05T13:01:16.797688Z",
     "shell.execute_reply": "2024-06-05T13:01:16.796618Z"
    }
   },
   "outputs": [],
   "source": [
    "import numpy as np\n",
    "import pandas as pd\n",
    "import seaborn as sn\n",
    "import matplotlib.pyplot as plt\n",
    "import pymysql.cursors\n",
    "import sqlalchemy as sa\n",
    "import nltk\n",
    "import string\n",
    "import os\n",
    "\n",
    "from nltk.corpus import stopwords \n",
    "from sqlalchemy import create_engine, Column, Integer, String, MetaData, Table\n",
    "from sqlalchemy.sql import text\n",
    "from sqlalchemy.orm import sessionmaker\n",
    "import pandas as pd\n",
    "\n",
    "# nltk.download('stopwords')\n",
    "\n",
    "\n",
    "os.environ['TF_CPP_MIN_LOG_LEVEL'] = '2'\n",
    "\n",
    "# Use a pipeline as a high-level helper\n",
    "from transformers import pipeline\n",
    "pipe = pipeline(\"text-classification\", model=\"ayameRushia/bert-base-indonesian-1.5G-sentiment-analysis-smsa\")"
   ]
  },
  {
   "cell_type": "code",
   "execution_count": 2,
   "id": "ec64d1af-b458-4c9e-9762-1d3d780b616f",
   "metadata": {
    "execution": {
     "iopub.execute_input": "2024-06-05T13:01:16.805225Z",
     "iopub.status.busy": "2024-06-05T13:01:16.803710Z",
     "iopub.status.idle": "2024-06-05T13:01:16.816192Z",
     "shell.execute_reply": "2024-06-05T13:01:16.815055Z"
    }
   },
   "outputs": [],
   "source": [
    "from sqlalchemy.util import deprecations\n",
    "deprecations.SILENCE_UBER_WARNING = True\n",
    "\n",
    "def execute_query(query, params=None):\n",
    "    # Set your PostgreSQL connection parameters\n",
    "    db_params = {\n",
    "        'host': '98.98.117.105',\n",
    "        'port': '5432',\n",
    "        'database': 'medols',\n",
    "        'user': 'postgres',\n",
    "        'password': 'FEWcTB3JIX5gK4T06c1MdkM9N2S8w9pb',\n",
    "    }\n",
    "\n",
    "    # Create a SQLAlchemy engine\n",
    "    engine = create_engine(f\"postgresql+psycopg2://{db_params['user']}:{db_params['password']}@{db_params['host']}:{db_params['port']}/{db_params['database']}\")\n",
    "\n",
    "    # Create a session\n",
    "    Session = sessionmaker(bind=engine)\n",
    "    session = Session()\n",
    "\n",
    "    try:\n",
    "        # Execute the query with optional parameters\n",
    "        result = session.execute(text(query), params)\n",
    "\n",
    "        # Check if the query is a SELECT query\n",
    "        is_select_query = result.returns_rows\n",
    "\n",
    "        if is_select_query:\n",
    "            # Fetch the data and return as a Pandas DataFrame\n",
    "            columns = result.keys()\n",
    "            fetched_data = result.fetchall()\n",
    "            df = pd.DataFrame(fetched_data, columns=columns)\n",
    "            # print(\"Fetched Data as DataFrame:\")\n",
    "            # print(df)\n",
    "            return df\n",
    "        else:\n",
    "            # Get the number of rows affected for non-SELECT queries\n",
    "            rows_affected = result.rowcount\n",
    "\n",
    "            # Commit the changes to the database for non-SELECT queries\n",
    "            session.commit()\n",
    "\n",
    "            print(f\"Query executed successfully. {rows_affected} rows affected.\")\n",
    "            return rows_affected\n",
    "    except Exception as e:\n",
    "        # Rollback changes if there's an error\n",
    "        session.rollback()\n",
    "        print(f\"Error executing query: {e}\")\n",
    "    finally:\n",
    "        # Close the session\n",
    "        session.close()"
   ]
  },
  {
   "cell_type": "code",
   "execution_count": 3,
   "id": "97cf0378-4165-46bd-abc9-05c3a9fe18ba",
   "metadata": {
    "execution": {
     "iopub.execute_input": "2024-06-05T13:01:16.822450Z",
     "iopub.status.busy": "2024-06-05T13:01:16.821353Z",
     "iopub.status.idle": "2024-06-05T13:01:16.831224Z",
     "shell.execute_reply": "2024-06-05T13:01:16.830363Z"
    }
   },
   "outputs": [],
   "source": [
    "import pandas as pd\n",
    "import re\n",
    "from sqlalchemy import create_engine\n",
    "\n",
    "def stemming(comment):\n",
    "    factory = StemmerFactory()\n",
    "    stemmer = factory.create_stemmer()\n",
    "    do = []\n",
    "    for w in comment:\n",
    "        dt = stemmer.stem(w)\n",
    "        do.append(dt)\n",
    "    d_clean = []\n",
    "    d_clean = \" \".join(do)\n",
    "    return d_clean\n",
    "    \n",
    "# function case folding\n",
    "def casefolding(comment):\n",
    "    comment = comment.lower()\n",
    "    comment = comment.strip(\" \")\n",
    "    comment = re.sub(r'[?|$|.|!_:\")(-+,]','',comment)\n",
    "    return comment\n",
    "\n",
    "def clean_up_tag(comment):\n",
    "    x_ret = ' '.join(re.sub(\"(@[A-Za-z0-9]+)|([^0-9A-Za-z \\t])|(\\w+:\\/\\/\\S+)\",\" \",comment).split())\n",
    "    return x_ret\n",
    "\n",
    "# Text Preprocessing, \n",
    "def text_preproc(strIn):\n",
    "    # case folding\n",
    "    strOut = strIn.lower()\n",
    "    \n",
    "    # remove numbers\n",
    "    strOut = re.sub(r\"\\d+\", \"\", strOut)\n",
    "    \n",
    "    # remote punctuation\n",
    "    strOut = strOut.translate(str.maketrans(\"\",\"\",string.punctuation))\n",
    "    \n",
    "    # remove whitspace\n",
    "    strOut = strOut.strip()\n",
    "    \n",
    "    # \n",
    "    strOut = re.sub('\\s+',' ',strOut)\n",
    "    return strOut"
   ]
  },
  {
   "cell_type": "code",
   "execution_count": 4,
   "id": "438a292a-3e97-4161-bcaf-1887c838ae1f",
   "metadata": {
    "execution": {
     "iopub.execute_input": "2024-06-05T13:01:16.837768Z",
     "iopub.status.busy": "2024-06-05T13:01:16.836835Z",
     "iopub.status.idle": "2024-06-05T13:01:16.850629Z",
     "shell.execute_reply": "2024-06-05T13:01:16.849409Z"
    }
   },
   "outputs": [],
   "source": [
    "def process_by_df(source_ds):\n",
    "    from tqdm import tqdm\n",
    "    pd.options.mode.chained_assignment = None \n",
    "\n",
    "    # we calculate sentiment for 'title' and 'description' column\n",
    "\n",
    "    # remove first\n",
    "    source_ds['title'] = source_ds['title'].apply(clean_up_tag)\n",
    "    source_ds['description'] = source_ds['content'].apply(clean_up_tag)\n",
    "\n",
    "\n",
    "    # skip stemming\n",
    "    source_ds['stemmed'] = source_ds['title']\n",
    "    source_ds['stemmed'] = source_ds['stemmed'].apply(casefolding)\n",
    "    source_ds['stemmed'] = source_ds['stemmed'].apply(text_preproc)\n",
    "\n",
    "    sw = stopwords.words('indonesian')\n",
    "    #tokenized\n",
    "    source_ds['tokenized_tweet'] = source_ds.apply(lambda row: nltk.word_tokenize(row['stemmed']), axis=1)\n",
    "\n",
    "    # apply stopword removal\n",
    "    source_ds['tokenized_tweet'] = source_ds.apply(lambda row: {w for w in row['tokenized_tweet'] if not w in sw}, axis=1)\n",
    "    sw = stopwords.words('indonesian')\n",
    "\n",
    "    #tokenized\n",
    "    source_ds['tokenized_tweet'] = source_ds.apply(lambda row: nltk.word_tokenize(row['stemmed']), axis=1)\n",
    "\n",
    "    # apply stopword removal\n",
    "    source_ds['tokenized_tweet'] = source_ds.apply(lambda row: {w for w in row['tokenized_tweet'] if not w in sw}, axis=1)\n",
    "\n",
    "    # Notes on return sentiment values\n",
    "    # 1 >> positif >> stay\n",
    "    # 2 >> negatif >> convert to -1\n",
    "    # 0 >> netral >> stay\n",
    "\n",
    "    # Create a new list and insert each element from the original list\n",
    "    from tqdm import tqdm\n",
    "\n",
    "    list_text = source_ds['stemmed'].tolist()\n",
    "    new_list = []\n",
    "    for i in tqdm(range( len(list_text) )):\n",
    "        res = pipe(list_text[i])\n",
    "        #print(res)\n",
    "        new_list.append(res)\n",
    "\n",
    "    # Notes on return sentiment values\n",
    "    # 1 >> positif >> stay\n",
    "    # 2 >> negatif >> convert to -1\n",
    "    # 0 >> netral >> stay\n",
    "    # create a list of our conditions\n",
    "    for i in range(0, len(new_list)):\n",
    "        # print(new_list[i][0]['label'])\n",
    "        if new_list[i][0]['label'] == 'Positive':\n",
    "            new_list[i][0]['Value'] = 1\n",
    "        elif new_list[i][0]['label'] == 'Negative':\n",
    "            new_list[i][0]['Value'] = -1\n",
    "        elif new_list[i][0]['label'] == 'Neutral':\n",
    "            new_list[i][0]['Value'] = 0\n",
    "\n",
    "    for index, row in source_ds.iterrows():\n",
    "        source_ds.at[index,'Prediction'] = new_list[index][0]['label']\n",
    "\n",
    "    for index, row in source_ds.iterrows():\n",
    "        source_ds.at[index,'Prediction'] = new_list[index][0]['label']\n",
    "        source_ds.at[index,'Score'] = new_list[index][0]['score']\n",
    "        #source_ds.at[index,'Score'] = new_list[index][0]['Value']\n",
    "        \n",
    "    return source_ds\n"
   ]
  },
  {
   "cell_type": "code",
   "execution_count": 5,
   "id": "3853b4df-3823-4ce4-8b18-bfe24581c81a",
   "metadata": {
    "execution": {
     "iopub.execute_input": "2024-06-05T13:01:16.856698Z",
     "iopub.status.busy": "2024-06-05T13:01:16.855996Z",
     "iopub.status.idle": "2024-06-05T13:01:16.873583Z",
     "shell.execute_reply": "2024-06-05T13:01:16.871464Z"
    }
   },
   "outputs": [],
   "source": [
    "def process_by_df_col(source_ds, col_name):\n",
    "    from tqdm import tqdm\n",
    "    pd.options.mode.chained_assignment = None \n",
    "    \n",
    "    # trim to 2500 character\n",
    "    source_ds[col_name] = source_ds[col_name].str.slice(0,2000)\n",
    "\n",
    "    # skip stemming\n",
    "    source_ds['stemmed'] = source_ds[col_name].apply(clean_up_tag)\n",
    "    source_ds['stemmed'] = source_ds['stemmed'].apply(casefolding)\n",
    "    source_ds['stemmed'] = source_ds['stemmed'].apply(text_preproc)\n",
    "\n",
    "    sw = stopwords.words('indonesian')\n",
    "    #tokenized\n",
    "    source_ds['tokenized_tweet'] = source_ds.apply(lambda row: nltk.word_tokenize(row['stemmed']), axis=1)\n",
    "\n",
    "    # apply stopword removal\n",
    "    source_ds['tokenized_tweet'] = source_ds.apply(lambda row: {w for w in row['tokenized_tweet'] if not w in sw}, axis=1)\n",
    "    sw = stopwords.words('indonesian')\n",
    "\n",
    "    #tokenized\n",
    "    source_ds['tokenized_tweet'] = source_ds.apply(lambda row: nltk.word_tokenize(row['stemmed']), axis=1)\n",
    "\n",
    "    # apply stopword removal\n",
    "    source_ds['tokenized_tweet'] = source_ds.apply(lambda row: {w for w in row['tokenized_tweet'] if not w in sw}, axis=1)\n",
    "\n",
    "    # Notes on return sentiment values\n",
    "    # 1 >> positif >> stay\n",
    "    # 2 >> negatif >> convert to -1\n",
    "    # 0 >> netral >> stay\n",
    "\n",
    "    # Create a new list and insert each element from the original list\n",
    "    from tqdm import tqdm\n",
    "\n",
    "    list_text = source_ds['stemmed'].tolist()\n",
    "    new_list = []\n",
    "    for i in tqdm(range( len(list_text) )):\n",
    "        # print(len(list_text[i]))\n",
    "        try:\n",
    "            if len(list_text[i]) > 0:\n",
    "                res = pipe( list_text[i] )\n",
    "                new_list.append(res)\n",
    "            else:\n",
    "                res = pipe( 'kalimat netral' )\n",
    "                new_list.append(res)\n",
    "                zip\n",
    "        except Exception as e:\n",
    "            # Handle the exception (error) here\n",
    "            print(f\"Error processing value at index {i}: {list_text[i]}\")\n",
    "            print(f\"Error message: {str(e)}\")\n",
    "            res = pipe( 'kalimat netral' )\n",
    "            new_list.append(res)      \n",
    "            \n",
    "            continue\n",
    "\n",
    "    # Notes on return sentiment values\n",
    "    # 1 >> positif >> stay\n",
    "    # 2 >> negatif >> convert to -1\n",
    "    # 0 >> netral >> stay\n",
    "    # create a list of our conditions\n",
    "    for i in range(0, len(new_list)):\n",
    "        # print(new_list[i][0]['label'])\n",
    "        if new_list[i][0]['label'] == 'Positive':\n",
    "            new_list[i][0]['Value'] = 1\n",
    "        elif new_list[i][0]['label'] == 'Negative':\n",
    "            new_list[i][0]['Value'] = -1\n",
    "        elif new_list[i][0]['label'] == 'Neutral':\n",
    "            new_list[i][0]['Value'] = 0\n",
    "\n",
    "    for index, row in source_ds.iterrows():\n",
    "        source_ds.at[index,'Prediction'] = new_list[index][0]['label']\n",
    "\n",
    "    for index, row in source_ds.iterrows():\n",
    "        source_ds.at[index,'Prediction'] = new_list[index][0]['label']\n",
    "        source_ds.at[index,'Score'] = new_list[index][0]['score']\n",
    "        #source_ds.at[index,'Score'] = new_list[index][0]['Value']\n",
    "        \n",
    "    return source_ds"
   ]
  },
  {
   "cell_type": "code",
   "execution_count": 6,
   "id": "325b5528-6ca4-411d-9b57-069e3a6d3a25",
   "metadata": {
    "execution": {
     "iopub.execute_input": "2024-06-05T13:01:16.879269Z",
     "iopub.status.busy": "2024-06-05T13:01:16.878874Z",
     "iopub.status.idle": "2024-06-05T13:01:16.987503Z",
     "shell.execute_reply": "2024-06-05T13:01:16.985848Z"
    }
   },
   "outputs": [],
   "source": [
    "# query 400 rows of data query data from table\n",
    "select_query = \"select * \\\n",
    "from news_tbn_medol gr \\\n",
    "where id not in (select id_tbn_news from news_tbn_sentiment) \\\n",
    "order by id desc limit 500\"\n",
    "\n",
    "source_ds = execute_query(select_query)\n",
    "\n",
    "if len(source_ds) == 0:\n",
    "    # get out, nothing to do\n",
    "    print('Zero jobs, quitting now')\n",
    "    quit()\n",
    "    \n",
    "# source_ds.head()"
   ]
  },
  {
   "cell_type": "code",
   "execution_count": 7,
   "id": "5a9fe7d0-c005-45ad-8291-16c8bd9f7dbf",
   "metadata": {
    "execution": {
     "iopub.execute_input": "2024-06-05T13:01:16.993675Z",
     "iopub.status.busy": "2024-06-05T13:01:16.992329Z",
     "iopub.status.idle": "2024-06-05T13:01:20.554043Z",
     "shell.execute_reply": "2024-06-05T13:01:20.552797Z"
    }
   },
   "outputs": [
    {
     "name": "stderr",
     "output_type": "stream",
     "text": [
      "\r",
      "  0%|          | 0/43 [00:00<?, ?it/s]"
     ]
    },
    {
     "name": "stderr",
     "output_type": "stream",
     "text": [
      "\r",
      "  2%|▏         | 1/43 [00:00<00:21,  1.94it/s]"
     ]
    },
    {
     "name": "stderr",
     "output_type": "stream",
     "text": [
      "\r",
      "  7%|▋         | 3/43 [00:00<00:07,  5.31it/s]"
     ]
    },
    {
     "name": "stderr",
     "output_type": "stream",
     "text": [
      "\r",
      " 12%|█▏        | 5/43 [00:00<00:04,  7.85it/s]"
     ]
    },
    {
     "name": "stderr",
     "output_type": "stream",
     "text": [
      "\r",
      " 16%|█▋        | 7/43 [00:00<00:03,  9.69it/s]"
     ]
    },
    {
     "name": "stderr",
     "output_type": "stream",
     "text": [
      "\r",
      " 21%|██        | 9/43 [00:01<00:03, 10.42it/s]"
     ]
    },
    {
     "name": "stderr",
     "output_type": "stream",
     "text": [
      "\r",
      " 26%|██▌       | 11/43 [00:01<00:02, 11.62it/s]"
     ]
    },
    {
     "name": "stderr",
     "output_type": "stream",
     "text": [
      "\r",
      " 30%|███       | 13/43 [00:01<00:02, 12.32it/s]"
     ]
    },
    {
     "name": "stderr",
     "output_type": "stream",
     "text": [
      "\r",
      " 35%|███▍      | 15/43 [00:01<00:02, 13.10it/s]"
     ]
    },
    {
     "name": "stderr",
     "output_type": "stream",
     "text": [
      "\r",
      " 40%|███▉      | 17/43 [00:01<00:01, 13.56it/s]"
     ]
    },
    {
     "name": "stderr",
     "output_type": "stream",
     "text": [
      "\r",
      " 44%|████▍     | 19/43 [00:01<00:01, 13.59it/s]"
     ]
    },
    {
     "name": "stderr",
     "output_type": "stream",
     "text": [
      "\r",
      " 49%|████▉     | 21/43 [00:01<00:01, 13.18it/s]"
     ]
    },
    {
     "name": "stderr",
     "output_type": "stream",
     "text": [
      "\r",
      " 53%|█████▎    | 23/43 [00:02<00:01, 12.80it/s]"
     ]
    },
    {
     "name": "stderr",
     "output_type": "stream",
     "text": [
      "\r",
      " 58%|█████▊    | 25/43 [00:02<00:01, 12.76it/s]"
     ]
    },
    {
     "name": "stderr",
     "output_type": "stream",
     "text": [
      "\r",
      " 63%|██████▎   | 27/43 [00:02<00:01, 14.14it/s]"
     ]
    },
    {
     "name": "stderr",
     "output_type": "stream",
     "text": [
      "\r",
      " 67%|██████▋   | 29/43 [00:02<00:00, 14.98it/s]"
     ]
    },
    {
     "name": "stderr",
     "output_type": "stream",
     "text": [
      "\r",
      " 72%|███████▏  | 31/43 [00:02<00:00, 15.10it/s]"
     ]
    },
    {
     "name": "stderr",
     "output_type": "stream",
     "text": [
      "\r",
      " 77%|███████▋  | 33/43 [00:02<00:00, 14.93it/s]"
     ]
    },
    {
     "name": "stderr",
     "output_type": "stream",
     "text": [
      "\r",
      " 81%|████████▏ | 35/43 [00:02<00:00, 14.53it/s]"
     ]
    },
    {
     "name": "stderr",
     "output_type": "stream",
     "text": [
      "\r",
      " 86%|████████▌ | 37/43 [00:03<00:00, 14.01it/s]"
     ]
    },
    {
     "name": "stderr",
     "output_type": "stream",
     "text": [
      "\r",
      " 91%|█████████ | 39/43 [00:03<00:00, 14.64it/s]"
     ]
    },
    {
     "name": "stderr",
     "output_type": "stream",
     "text": [
      "\r",
      " 95%|█████████▌| 41/43 [00:03<00:00, 14.46it/s]"
     ]
    },
    {
     "name": "stderr",
     "output_type": "stream",
     "text": [
      "\r",
      "100%|██████████| 43/43 [00:03<00:00, 15.11it/s]"
     ]
    },
    {
     "name": "stderr",
     "output_type": "stream",
     "text": [
      "\r",
      "100%|██████████| 43/43 [00:03<00:00, 12.41it/s]"
     ]
    },
    {
     "name": "stderr",
     "output_type": "stream",
     "text": [
      "\n"
     ]
    }
   ],
   "source": [
    "# Processing title sentiment analysis\n",
    "content_ds = source_ds\n",
    "res_ds = process_by_df(source_ds)"
   ]
  },
  {
   "cell_type": "code",
   "execution_count": 8,
   "id": "4d30b8a9-31bc-4bd6-a4da-7484686cac4b",
   "metadata": {
    "execution": {
     "iopub.execute_input": "2024-06-05T13:01:20.560879Z",
     "iopub.status.busy": "2024-06-05T13:01:20.559856Z",
     "iopub.status.idle": "2024-06-05T13:01:20.591885Z",
     "shell.execute_reply": "2024-06-05T13:01:20.590489Z"
    }
   },
   "outputs": [
    {
     "data": {
      "text/html": [
       "<div>\n",
       "<style scoped>\n",
       "    .dataframe tbody tr th:only-of-type {\n",
       "        vertical-align: middle;\n",
       "    }\n",
       "\n",
       "    .dataframe tbody tr th {\n",
       "        vertical-align: top;\n",
       "    }\n",
       "\n",
       "    .dataframe thead th {\n",
       "        text-align: right;\n",
       "    }\n",
       "</style>\n",
       "<table border=\"1\" class=\"dataframe\">\n",
       "  <thead>\n",
       "    <tr style=\"text-align: right;\">\n",
       "      <th></th>\n",
       "      <th>id</th>\n",
       "      <th>title</th>\n",
       "      <th>content</th>\n",
       "      <th>publish_date</th>\n",
       "      <th>publisher</th>\n",
       "      <th>source</th>\n",
       "      <th>search_url</th>\n",
       "      <th>created_date</th>\n",
       "      <th>tbn_medol_id</th>\n",
       "      <th>is_polri</th>\n",
       "      <th>reporter</th>\n",
       "      <th>editor</th>\n",
       "      <th>converted_date</th>\n",
       "      <th>description</th>\n",
       "      <th>stemmed</th>\n",
       "      <th>tokenized_tweet</th>\n",
       "      <th>Prediction</th>\n",
       "      <th>Score</th>\n",
       "    </tr>\n",
       "  </thead>\n",
       "  <tbody>\n",
       "    <tr>\n",
       "      <th>0</th>\n",
       "      <td>6566</td>\n",
       "      <td>Polda Sulbar Buka Hotline Pengaduan Masalah Re...</td>\n",
       "      <td>Tribratanews.polri.go.id - Mamuju. Biro Sumber...</td>\n",
       "      <td>5 June 2024 - 19:30 WIB</td>\n",
       "      <td></td>\n",
       "      <td>https://tribratanews.polri.go.id/</td>\n",
       "      <td>https://tribratanews.polri.go.id/blog/nasional...</td>\n",
       "      <td>2024-06-05 12:59:46.103697</td>\n",
       "      <td>35</td>\n",
       "      <td>True</td>\n",
       "      <td></td>\n",
       "      <td>mz/pr/nm</td>\n",
       "      <td>2024-06-05 19:30:00</td>\n",
       "      <td>Tribratanews polri go id Mamuju Biro Sumber Da...</td>\n",
       "      <td>polda sulbar buka hotline pengaduan masalah re...</td>\n",
       "      <td>{pengaduan, buka, rekrutmen, polri, hotline, s...</td>\n",
       "      <td>Neutral</td>\n",
       "      <td>0.999653</td>\n",
       "    </tr>\n",
       "    <tr>\n",
       "      <th>1</th>\n",
       "      <td>6565</td>\n",
       "      <td>Presiden Jokowi Meyakini Kualitas Udara IKN Le...</td>\n",
       "      <td>Tribratanews.polri.go.id - Jakarta. Presiden J...</td>\n",
       "      <td>5 June 2024 - 19:00 WIB</td>\n",
       "      <td></td>\n",
       "      <td>https://tribratanews.polri.go.id/</td>\n",
       "      <td>https://tribratanews.polri.go.id/blog/nasional...</td>\n",
       "      <td>2024-06-05 12:59:46.095435</td>\n",
       "      <td>35</td>\n",
       "      <td>True</td>\n",
       "      <td></td>\n",
       "      <td>ndt/hn/nm</td>\n",
       "      <td>2024-06-05 19:00:00</td>\n",
       "      <td>Tribratanews polri go id Jakarta Presiden Joko...</td>\n",
       "      <td>presiden jokowi meyakini kualitas udara ikn le...</td>\n",
       "      <td>{melbourne, presiden, paris, kualitas, jokowi,...</td>\n",
       "      <td>Positive</td>\n",
       "      <td>0.991976</td>\n",
       "    </tr>\n",
       "    <tr>\n",
       "      <th>2</th>\n",
       "      <td>6564</td>\n",
       "      <td>Gempa Magnitudo 4 7 Guncang Wilayah Kota Bima NTB</td>\n",
       "      <td>Tribratanews.polri.go.id - Info gempa hari ini...</td>\n",
       "      <td>5 June 2024 - 18:50 WIB</td>\n",
       "      <td></td>\n",
       "      <td>https://tribratanews.polri.go.id/</td>\n",
       "      <td>https://tribratanews.polri.go.id/blog/nasional...</td>\n",
       "      <td>2024-06-05 12:59:46.086984</td>\n",
       "      <td>35</td>\n",
       "      <td>True</td>\n",
       "      <td></td>\n",
       "      <td>ek/hn/nm</td>\n",
       "      <td>2024-06-05 18:50:00</td>\n",
       "      <td>Tribratanews polri go id Info gempa hari ini B...</td>\n",
       "      <td>gempa magnitudo guncang wilayah kota bima ntb</td>\n",
       "      <td>{gempa, guncang, magnitudo, bima, ntb, wilayah...</td>\n",
       "      <td>Neutral</td>\n",
       "      <td>0.999732</td>\n",
       "    </tr>\n",
       "    <tr>\n",
       "      <th>3</th>\n",
       "      <td>6563</td>\n",
       "      <td>Indonesia Open 2024 Leo Danie Menang dari Faja...</td>\n",
       "      <td>Tribratanews.polri.go.id - Jakarta. Leo Rolly ...</td>\n",
       "      <td>5 June 2024 - 18:48 WIB</td>\n",
       "      <td></td>\n",
       "      <td>https://tribratanews.polri.go.id/</td>\n",
       "      <td>https://tribratanews.polri.go.id/blog/olahraga...</td>\n",
       "      <td>2024-06-05 12:59:46.078943</td>\n",
       "      <td>35</td>\n",
       "      <td>True</td>\n",
       "      <td></td>\n",
       "      <td>rz/hn/nm</td>\n",
       "      <td>2024-06-05 18:48:00</td>\n",
       "      <td>Tribratanews polri go id Jakarta Leo Rolly Car...</td>\n",
       "      <td>indonesia open leo danie menang dari fajar rian</td>\n",
       "      <td>{menang, fajar, open, indonesia, rian, danie, ...</td>\n",
       "      <td>Neutral</td>\n",
       "      <td>0.999582</td>\n",
       "    </tr>\n",
       "    <tr>\n",
       "      <th>4</th>\n",
       "      <td>6562</td>\n",
       "      <td>Presiden Jokowi Optimistis Bisa Berkantor di I...</td>\n",
       "      <td>Tribratanews.polri.go.id - Jakarta. Presiden J...</td>\n",
       "      <td>5 June 2024 - 18:30 WIB</td>\n",
       "      <td></td>\n",
       "      <td>https://tribratanews.polri.go.id/</td>\n",
       "      <td>https://tribratanews.polri.go.id/blog/nasional...</td>\n",
       "      <td>2024-06-05 12:59:46.070067</td>\n",
       "      <td>35</td>\n",
       "      <td>True</td>\n",
       "      <td></td>\n",
       "      <td>ndt/pr/nm</td>\n",
       "      <td>2024-06-05 18:30:00</td>\n",
       "      <td>Tribratanews polri go id Jakarta Presiden Joko...</td>\n",
       "      <td>presiden jokowi optimistis bisa berkantor di i...</td>\n",
       "      <td>{juli, optimistis, presiden, berkantor, jokowi...</td>\n",
       "      <td>Neutral</td>\n",
       "      <td>0.992382</td>\n",
       "    </tr>\n",
       "  </tbody>\n",
       "</table>\n",
       "</div>"
      ],
      "text/plain": [
       "     id                                              title  \\\n",
       "0  6566  Polda Sulbar Buka Hotline Pengaduan Masalah Re...   \n",
       "1  6565  Presiden Jokowi Meyakini Kualitas Udara IKN Le...   \n",
       "2  6564  Gempa Magnitudo 4 7 Guncang Wilayah Kota Bima NTB   \n",
       "3  6563  Indonesia Open 2024 Leo Danie Menang dari Faja...   \n",
       "4  6562  Presiden Jokowi Optimistis Bisa Berkantor di I...   \n",
       "\n",
       "                                             content             publish_date  \\\n",
       "0  Tribratanews.polri.go.id - Mamuju. Biro Sumber...  5 June 2024 - 19:30 WIB   \n",
       "1  Tribratanews.polri.go.id - Jakarta. Presiden J...  5 June 2024 - 19:00 WIB   \n",
       "2  Tribratanews.polri.go.id - Info gempa hari ini...  5 June 2024 - 18:50 WIB   \n",
       "3  Tribratanews.polri.go.id - Jakarta. Leo Rolly ...  5 June 2024 - 18:48 WIB   \n",
       "4  Tribratanews.polri.go.id - Jakarta. Presiden J...  5 June 2024 - 18:30 WIB   \n",
       "\n",
       "  publisher                             source  \\\n",
       "0            https://tribratanews.polri.go.id/   \n",
       "1            https://tribratanews.polri.go.id/   \n",
       "2            https://tribratanews.polri.go.id/   \n",
       "3            https://tribratanews.polri.go.id/   \n",
       "4            https://tribratanews.polri.go.id/   \n",
       "\n",
       "                                          search_url  \\\n",
       "0  https://tribratanews.polri.go.id/blog/nasional...   \n",
       "1  https://tribratanews.polri.go.id/blog/nasional...   \n",
       "2  https://tribratanews.polri.go.id/blog/nasional...   \n",
       "3  https://tribratanews.polri.go.id/blog/olahraga...   \n",
       "4  https://tribratanews.polri.go.id/blog/nasional...   \n",
       "\n",
       "                created_date  tbn_medol_id  is_polri reporter     editor  \\\n",
       "0 2024-06-05 12:59:46.103697            35      True            mz/pr/nm   \n",
       "1 2024-06-05 12:59:46.095435            35      True           ndt/hn/nm   \n",
       "2 2024-06-05 12:59:46.086984            35      True            ek/hn/nm   \n",
       "3 2024-06-05 12:59:46.078943            35      True            rz/hn/nm   \n",
       "4 2024-06-05 12:59:46.070067            35      True           ndt/pr/nm   \n",
       "\n",
       "       converted_date                                        description  \\\n",
       "0 2024-06-05 19:30:00  Tribratanews polri go id Mamuju Biro Sumber Da...   \n",
       "1 2024-06-05 19:00:00  Tribratanews polri go id Jakarta Presiden Joko...   \n",
       "2 2024-06-05 18:50:00  Tribratanews polri go id Info gempa hari ini B...   \n",
       "3 2024-06-05 18:48:00  Tribratanews polri go id Jakarta Leo Rolly Car...   \n",
       "4 2024-06-05 18:30:00  Tribratanews polri go id Jakarta Presiden Joko...   \n",
       "\n",
       "                                             stemmed  \\\n",
       "0  polda sulbar buka hotline pengaduan masalah re...   \n",
       "1  presiden jokowi meyakini kualitas udara ikn le...   \n",
       "2      gempa magnitudo guncang wilayah kota bima ntb   \n",
       "3    indonesia open leo danie menang dari fajar rian   \n",
       "4  presiden jokowi optimistis bisa berkantor di i...   \n",
       "\n",
       "                                     tokenized_tweet Prediction     Score  \n",
       "0  {pengaduan, buka, rekrutmen, polri, hotline, s...    Neutral  0.999653  \n",
       "1  {melbourne, presiden, paris, kualitas, jokowi,...   Positive  0.991976  \n",
       "2  {gempa, guncang, magnitudo, bima, ntb, wilayah...    Neutral  0.999732  \n",
       "3  {menang, fajar, open, indonesia, rian, danie, ...    Neutral  0.999582  \n",
       "4  {juli, optimistis, presiden, berkantor, jokowi...    Neutral  0.992382  "
      ]
     },
     "execution_count": 8,
     "metadata": {},
     "output_type": "execute_result"
    }
   ],
   "source": [
    "res_ds.head()"
   ]
  },
  {
   "cell_type": "code",
   "execution_count": 9,
   "id": "831df3a7-7791-4587-91d0-8f785c8988b0",
   "metadata": {
    "execution": {
     "iopub.execute_input": "2024-06-05T13:01:20.596621Z",
     "iopub.status.busy": "2024-06-05T13:01:20.596156Z",
     "iopub.status.idle": "2024-06-05T13:01:30.433472Z",
     "shell.execute_reply": "2024-06-05T13:01:30.431953Z"
    }
   },
   "outputs": [
    {
     "name": "stderr",
     "output_type": "stream",
     "text": [
      "\r",
      "  0%|          | 0/43 [00:00<?, ?it/s]"
     ]
    },
    {
     "name": "stderr",
     "output_type": "stream",
     "text": [
      "\r",
      "  2%|▏         | 1/43 [00:00<00:13,  3.11it/s]"
     ]
    },
    {
     "name": "stderr",
     "output_type": "stream",
     "text": [
      "\r",
      "  5%|▍         | 2/43 [00:00<00:10,  3.74it/s]"
     ]
    },
    {
     "name": "stderr",
     "output_type": "stream",
     "text": [
      "\r",
      "  7%|▋         | 3/43 [00:00<00:08,  4.59it/s]"
     ]
    },
    {
     "name": "stderr",
     "output_type": "stream",
     "text": [
      "\r",
      "  9%|▉         | 4/43 [00:00<00:07,  5.33it/s]"
     ]
    },
    {
     "name": "stderr",
     "output_type": "stream",
     "text": [
      "\r",
      " 12%|█▏        | 5/43 [00:01<00:07,  4.82it/s]"
     ]
    },
    {
     "name": "stderr",
     "output_type": "stream",
     "text": [
      "\r",
      " 14%|█▍        | 6/43 [00:01<00:06,  5.69it/s]"
     ]
    },
    {
     "name": "stderr",
     "output_type": "stream",
     "text": [
      "\r",
      " 16%|█▋        | 7/43 [00:01<00:06,  5.96it/s]"
     ]
    },
    {
     "name": "stderr",
     "output_type": "stream",
     "text": [
      "\r",
      " 21%|██        | 9/43 [00:01<00:05,  6.63it/s]"
     ]
    },
    {
     "name": "stderr",
     "output_type": "stream",
     "text": [
      "\r",
      " 23%|██▎       | 10/43 [00:01<00:04,  6.64it/s]"
     ]
    },
    {
     "name": "stderr",
     "output_type": "stream",
     "text": [
      "\r",
      " 26%|██▌       | 11/43 [00:02<00:05,  5.52it/s]"
     ]
    },
    {
     "name": "stderr",
     "output_type": "stream",
     "text": [
      "\r",
      " 28%|██▊       | 12/43 [00:02<00:06,  4.92it/s]"
     ]
    },
    {
     "name": "stderr",
     "output_type": "stream",
     "text": [
      "\r",
      " 30%|███       | 13/43 [00:02<00:06,  4.75it/s]"
     ]
    },
    {
     "name": "stderr",
     "output_type": "stream",
     "text": [
      "\r",
      " 33%|███▎      | 14/43 [00:02<00:07,  4.06it/s]"
     ]
    },
    {
     "name": "stderr",
     "output_type": "stream",
     "text": [
      "\r",
      " 35%|███▍      | 15/43 [00:03<00:06,  4.16it/s]"
     ]
    },
    {
     "name": "stderr",
     "output_type": "stream",
     "text": [
      "\r",
      " 37%|███▋      | 16/43 [00:03<00:06,  4.31it/s]"
     ]
    },
    {
     "name": "stderr",
     "output_type": "stream",
     "text": [
      "\r",
      " 40%|███▉      | 17/43 [00:03<00:06,  4.02it/s]"
     ]
    },
    {
     "name": "stderr",
     "output_type": "stream",
     "text": [
      "\r",
      " 42%|████▏     | 18/43 [00:03<00:05,  4.40it/s]"
     ]
    },
    {
     "name": "stderr",
     "output_type": "stream",
     "text": [
      "\r",
      " 44%|████▍     | 19/43 [00:03<00:05,  4.76it/s]"
     ]
    },
    {
     "name": "stderr",
     "output_type": "stream",
     "text": [
      "\r",
      " 47%|████▋     | 20/43 [00:04<00:05,  4.38it/s]"
     ]
    },
    {
     "name": "stderr",
     "output_type": "stream",
     "text": [
      "\r",
      " 49%|████▉     | 21/43 [00:04<00:04,  4.41it/s]"
     ]
    },
    {
     "name": "stderr",
     "output_type": "stream",
     "text": [
      "\r",
      " 51%|█████     | 22/43 [00:04<00:04,  4.26it/s]"
     ]
    },
    {
     "name": "stderr",
     "output_type": "stream",
     "text": [
      "\r",
      " 53%|█████▎    | 23/43 [00:05<00:05,  3.76it/s]"
     ]
    },
    {
     "name": "stderr",
     "output_type": "stream",
     "text": [
      "\r",
      " 56%|█████▌    | 24/43 [00:05<00:04,  3.85it/s]"
     ]
    },
    {
     "name": "stderr",
     "output_type": "stream",
     "text": [
      "\r",
      " 58%|█████▊    | 25/43 [00:05<00:04,  3.87it/s]"
     ]
    },
    {
     "name": "stderr",
     "output_type": "stream",
     "text": [
      "\r",
      " 60%|██████    | 26/43 [00:05<00:03,  4.26it/s]"
     ]
    },
    {
     "name": "stderr",
     "output_type": "stream",
     "text": [
      "\r",
      " 63%|██████▎   | 27/43 [00:05<00:03,  4.49it/s]"
     ]
    },
    {
     "name": "stderr",
     "output_type": "stream",
     "text": [
      "\r",
      " 65%|██████▌   | 28/43 [00:06<00:03,  4.22it/s]"
     ]
    },
    {
     "name": "stderr",
     "output_type": "stream",
     "text": [
      "\r",
      " 67%|██████▋   | 29/43 [00:06<00:03,  3.59it/s]"
     ]
    },
    {
     "name": "stderr",
     "output_type": "stream",
     "text": [
      "\r",
      " 70%|██████▉   | 30/43 [00:06<00:03,  3.80it/s]"
     ]
    },
    {
     "name": "stderr",
     "output_type": "stream",
     "text": [
      "\r",
      " 72%|███████▏  | 31/43 [00:06<00:02,  4.42it/s]"
     ]
    },
    {
     "name": "stderr",
     "output_type": "stream",
     "text": [
      "\r",
      " 74%|███████▍  | 32/43 [00:07<00:02,  4.60it/s]"
     ]
    },
    {
     "name": "stderr",
     "output_type": "stream",
     "text": [
      "\r",
      " 77%|███████▋  | 33/43 [00:07<00:02,  4.40it/s]"
     ]
    },
    {
     "name": "stderr",
     "output_type": "stream",
     "text": [
      "\r",
      " 79%|███████▉  | 34/43 [00:07<00:02,  4.48it/s]"
     ]
    },
    {
     "name": "stderr",
     "output_type": "stream",
     "text": [
      "\r",
      " 81%|████████▏ | 35/43 [00:07<00:01,  4.13it/s]"
     ]
    },
    {
     "name": "stderr",
     "output_type": "stream",
     "text": [
      "\r",
      " 84%|████████▎ | 36/43 [00:08<00:01,  3.98it/s]"
     ]
    },
    {
     "name": "stderr",
     "output_type": "stream",
     "text": [
      "\r",
      " 86%|████████▌ | 37/43 [00:08<00:01,  3.97it/s]"
     ]
    },
    {
     "name": "stderr",
     "output_type": "stream",
     "text": [
      "\r",
      " 88%|████████▊ | 38/43 [00:08<00:01,  4.37it/s]"
     ]
    },
    {
     "name": "stderr",
     "output_type": "stream",
     "text": [
      "\r",
      " 91%|█████████ | 39/43 [00:08<00:00,  4.47it/s]"
     ]
    },
    {
     "name": "stderr",
     "output_type": "stream",
     "text": [
      "\r",
      " 93%|█████████▎| 40/43 [00:08<00:00,  5.04it/s]"
     ]
    },
    {
     "name": "stderr",
     "output_type": "stream",
     "text": [
      "\r",
      " 95%|█████████▌| 41/43 [00:09<00:00,  4.86it/s]"
     ]
    },
    {
     "name": "stderr",
     "output_type": "stream",
     "text": [
      "\r",
      " 98%|█████████▊| 42/43 [00:09<00:00,  5.21it/s]"
     ]
    },
    {
     "name": "stderr",
     "output_type": "stream",
     "text": [
      "\r",
      "100%|██████████| 43/43 [00:09<00:00,  4.97it/s]"
     ]
    },
    {
     "name": "stderr",
     "output_type": "stream",
     "text": [
      "\r",
      "100%|██████████| 43/43 [00:09<00:00,  4.52it/s]"
     ]
    },
    {
     "name": "stderr",
     "output_type": "stream",
     "text": [
      "\n"
     ]
    }
   ],
   "source": [
    "# Processing content sentiment analysis\n",
    "res_content_ds = process_by_df_col(content_ds,'content')"
   ]
  },
  {
   "cell_type": "code",
   "execution_count": 10,
   "id": "4bb26a23-a143-4f85-a299-d3cae3692ae0",
   "metadata": {
    "execution": {
     "iopub.execute_input": "2024-06-05T13:01:30.440145Z",
     "iopub.status.busy": "2024-06-05T13:01:30.438743Z",
     "iopub.status.idle": "2024-06-05T13:01:30.470688Z",
     "shell.execute_reply": "2024-06-05T13:01:30.469407Z"
    }
   },
   "outputs": [
    {
     "data": {
      "text/html": [
       "<div>\n",
       "<style scoped>\n",
       "    .dataframe tbody tr th:only-of-type {\n",
       "        vertical-align: middle;\n",
       "    }\n",
       "\n",
       "    .dataframe tbody tr th {\n",
       "        vertical-align: top;\n",
       "    }\n",
       "\n",
       "    .dataframe thead th {\n",
       "        text-align: right;\n",
       "    }\n",
       "</style>\n",
       "<table border=\"1\" class=\"dataframe\">\n",
       "  <thead>\n",
       "    <tr style=\"text-align: right;\">\n",
       "      <th></th>\n",
       "      <th>id</th>\n",
       "      <th>title</th>\n",
       "      <th>content</th>\n",
       "      <th>publish_date</th>\n",
       "      <th>publisher</th>\n",
       "      <th>source</th>\n",
       "      <th>search_url</th>\n",
       "      <th>created_date</th>\n",
       "      <th>tbn_medol_id</th>\n",
       "      <th>is_polri</th>\n",
       "      <th>reporter</th>\n",
       "      <th>editor</th>\n",
       "      <th>converted_date</th>\n",
       "      <th>description</th>\n",
       "      <th>stemmed</th>\n",
       "      <th>tokenized_tweet</th>\n",
       "      <th>Prediction</th>\n",
       "      <th>Score</th>\n",
       "    </tr>\n",
       "  </thead>\n",
       "  <tbody>\n",
       "    <tr>\n",
       "      <th>0</th>\n",
       "      <td>6566</td>\n",
       "      <td>Polda Sulbar Buka Hotline Pengaduan Masalah Re...</td>\n",
       "      <td>Tribratanews.polri.go.id - Mamuju. Biro Sumber...</td>\n",
       "      <td>5 June 2024 - 19:30 WIB</td>\n",
       "      <td></td>\n",
       "      <td>https://tribratanews.polri.go.id/</td>\n",
       "      <td>https://tribratanews.polri.go.id/blog/nasional...</td>\n",
       "      <td>2024-06-05 12:59:46.103697</td>\n",
       "      <td>35</td>\n",
       "      <td>True</td>\n",
       "      <td></td>\n",
       "      <td>mz/pr/nm</td>\n",
       "      <td>2024-06-05 19:30:00</td>\n",
       "      <td>Tribratanews polri go id Mamuju Biro Sumber Da...</td>\n",
       "      <td>tribratanews polri go id mamuju biro sumber da...</td>\n",
       "      <td>{pungky, pembangunan, langsung, data, luasnya,...</td>\n",
       "      <td>Neutral</td>\n",
       "      <td>0.999186</td>\n",
       "    </tr>\n",
       "    <tr>\n",
       "      <th>1</th>\n",
       "      <td>6565</td>\n",
       "      <td>Presiden Jokowi Meyakini Kualitas Udara IKN Le...</td>\n",
       "      <td>Tribratanews.polri.go.id - Jakarta. Presiden J...</td>\n",
       "      <td>5 June 2024 - 19:00 WIB</td>\n",
       "      <td></td>\n",
       "      <td>https://tribratanews.polri.go.id/</td>\n",
       "      <td>https://tribratanews.polri.go.id/blog/nasional...</td>\n",
       "      <td>2024-06-05 12:59:46.095435</td>\n",
       "      <td>35</td>\n",
       "      <td>True</td>\n",
       "      <td></td>\n",
       "      <td>ndt/hn/nm</td>\n",
       "      <td>2024-06-05 19:00:00</td>\n",
       "      <td>Tribratanews polri go id Jakarta Presiden Joko...</td>\n",
       "      <td>tribratanews polri go id jakarta presiden joko...</td>\n",
       "      <td>{membandingkan, ditopang, joko, melbourne, pre...</td>\n",
       "      <td>Neutral</td>\n",
       "      <td>0.997196</td>\n",
       "    </tr>\n",
       "    <tr>\n",
       "      <th>2</th>\n",
       "      <td>6564</td>\n",
       "      <td>Gempa Magnitudo 4 7 Guncang Wilayah Kota Bima NTB</td>\n",
       "      <td>Tribratanews.polri.go.id - Info gempa hari ini...</td>\n",
       "      <td>5 June 2024 - 18:50 WIB</td>\n",
       "      <td></td>\n",
       "      <td>https://tribratanews.polri.go.id/</td>\n",
       "      <td>https://tribratanews.polri.go.id/blog/nasional...</td>\n",
       "      <td>2024-06-05 12:59:46.086984</td>\n",
       "      <td>35</td>\n",
       "      <td>True</td>\n",
       "      <td></td>\n",
       "      <td>ek/hn/nm</td>\n",
       "      <td>2024-06-05 18:50:00</td>\n",
       "      <td>Tribratanews polri go id Info gempa hari ini B...</td>\n",
       "      <td>tribratanews polri go id info gempa hari ini b...</td>\n",
       "      <td>{tsunami, selatan, jarak, aftershock, kota, kl...</td>\n",
       "      <td>Neutral</td>\n",
       "      <td>0.999654</td>\n",
       "    </tr>\n",
       "    <tr>\n",
       "      <th>3</th>\n",
       "      <td>6563</td>\n",
       "      <td>Indonesia Open 2024 Leo Danie Menang dari Faja...</td>\n",
       "      <td>Tribratanews.polri.go.id - Jakarta. Leo Rolly ...</td>\n",
       "      <td>5 June 2024 - 18:48 WIB</td>\n",
       "      <td></td>\n",
       "      <td>https://tribratanews.polri.go.id/</td>\n",
       "      <td>https://tribratanews.polri.go.id/blog/olahraga...</td>\n",
       "      <td>2024-06-05 12:59:46.078943</td>\n",
       "      <td>35</td>\n",
       "      <td>True</td>\n",
       "      <td></td>\n",
       "      <td>rz/hn/nm</td>\n",
       "      <td>2024-06-05 18:48:00</td>\n",
       "      <td>Tribratanews polri go id Jakarta Leo Rolly Car...</td>\n",
       "      <td>tribratanews polri go id jakarta leo rolly car...</td>\n",
       "      <td>{rolly, langsung, laga, carnando, memimpin, al...</td>\n",
       "      <td>Neutral</td>\n",
       "      <td>0.998022</td>\n",
       "    </tr>\n",
       "    <tr>\n",
       "      <th>4</th>\n",
       "      <td>6562</td>\n",
       "      <td>Presiden Jokowi Optimistis Bisa Berkantor di I...</td>\n",
       "      <td>Tribratanews.polri.go.id - Jakarta. Presiden J...</td>\n",
       "      <td>5 June 2024 - 18:30 WIB</td>\n",
       "      <td></td>\n",
       "      <td>https://tribratanews.polri.go.id/</td>\n",
       "      <td>https://tribratanews.polri.go.id/blog/nasional...</td>\n",
       "      <td>2024-06-05 12:59:46.070067</td>\n",
       "      <td>35</td>\n",
       "      <td>True</td>\n",
       "      <td></td>\n",
       "      <td>ndt/pr/nm</td>\n",
       "      <td>2024-06-05 18:30:00</td>\n",
       "      <td>Tribratanews polri go id Jakarta Presiden Joko...</td>\n",
       "      <td>tribratanews polri go id jakarta presiden joko...</td>\n",
       "      <td>{pembangunan, pasokan, kota, menaikkan, kantor...</td>\n",
       "      <td>Neutral</td>\n",
       "      <td>0.993217</td>\n",
       "    </tr>\n",
       "  </tbody>\n",
       "</table>\n",
       "</div>"
      ],
      "text/plain": [
       "     id                                              title  \\\n",
       "0  6566  Polda Sulbar Buka Hotline Pengaduan Masalah Re...   \n",
       "1  6565  Presiden Jokowi Meyakini Kualitas Udara IKN Le...   \n",
       "2  6564  Gempa Magnitudo 4 7 Guncang Wilayah Kota Bima NTB   \n",
       "3  6563  Indonesia Open 2024 Leo Danie Menang dari Faja...   \n",
       "4  6562  Presiden Jokowi Optimistis Bisa Berkantor di I...   \n",
       "\n",
       "                                             content             publish_date  \\\n",
       "0  Tribratanews.polri.go.id - Mamuju. Biro Sumber...  5 June 2024 - 19:30 WIB   \n",
       "1  Tribratanews.polri.go.id - Jakarta. Presiden J...  5 June 2024 - 19:00 WIB   \n",
       "2  Tribratanews.polri.go.id - Info gempa hari ini...  5 June 2024 - 18:50 WIB   \n",
       "3  Tribratanews.polri.go.id - Jakarta. Leo Rolly ...  5 June 2024 - 18:48 WIB   \n",
       "4  Tribratanews.polri.go.id - Jakarta. Presiden J...  5 June 2024 - 18:30 WIB   \n",
       "\n",
       "  publisher                             source  \\\n",
       "0            https://tribratanews.polri.go.id/   \n",
       "1            https://tribratanews.polri.go.id/   \n",
       "2            https://tribratanews.polri.go.id/   \n",
       "3            https://tribratanews.polri.go.id/   \n",
       "4            https://tribratanews.polri.go.id/   \n",
       "\n",
       "                                          search_url  \\\n",
       "0  https://tribratanews.polri.go.id/blog/nasional...   \n",
       "1  https://tribratanews.polri.go.id/blog/nasional...   \n",
       "2  https://tribratanews.polri.go.id/blog/nasional...   \n",
       "3  https://tribratanews.polri.go.id/blog/olahraga...   \n",
       "4  https://tribratanews.polri.go.id/blog/nasional...   \n",
       "\n",
       "                created_date  tbn_medol_id  is_polri reporter     editor  \\\n",
       "0 2024-06-05 12:59:46.103697            35      True            mz/pr/nm   \n",
       "1 2024-06-05 12:59:46.095435            35      True           ndt/hn/nm   \n",
       "2 2024-06-05 12:59:46.086984            35      True            ek/hn/nm   \n",
       "3 2024-06-05 12:59:46.078943            35      True            rz/hn/nm   \n",
       "4 2024-06-05 12:59:46.070067            35      True           ndt/pr/nm   \n",
       "\n",
       "       converted_date                                        description  \\\n",
       "0 2024-06-05 19:30:00  Tribratanews polri go id Mamuju Biro Sumber Da...   \n",
       "1 2024-06-05 19:00:00  Tribratanews polri go id Jakarta Presiden Joko...   \n",
       "2 2024-06-05 18:50:00  Tribratanews polri go id Info gempa hari ini B...   \n",
       "3 2024-06-05 18:48:00  Tribratanews polri go id Jakarta Leo Rolly Car...   \n",
       "4 2024-06-05 18:30:00  Tribratanews polri go id Jakarta Presiden Joko...   \n",
       "\n",
       "                                             stemmed  \\\n",
       "0  tribratanews polri go id mamuju biro sumber da...   \n",
       "1  tribratanews polri go id jakarta presiden joko...   \n",
       "2  tribratanews polri go id info gempa hari ini b...   \n",
       "3  tribratanews polri go id jakarta leo rolly car...   \n",
       "4  tribratanews polri go id jakarta presiden joko...   \n",
       "\n",
       "                                     tokenized_tweet Prediction     Score  \n",
       "0  {pungky, pembangunan, langsung, data, luasnya,...    Neutral  0.999186  \n",
       "1  {membandingkan, ditopang, joko, melbourne, pre...    Neutral  0.997196  \n",
       "2  {tsunami, selatan, jarak, aftershock, kota, kl...    Neutral  0.999654  \n",
       "3  {rolly, langsung, laga, carnando, memimpin, al...    Neutral  0.998022  \n",
       "4  {pembangunan, pasokan, kota, menaikkan, kantor...    Neutral  0.993217  "
      ]
     },
     "execution_count": 10,
     "metadata": {},
     "output_type": "execute_result"
    }
   ],
   "source": [
    "res_content_ds.head()"
   ]
  },
  {
   "cell_type": "code",
   "execution_count": 11,
   "id": "c5d92f04-856f-49d7-ac4c-b10fb4516774",
   "metadata": {
    "execution": {
     "iopub.execute_input": "2024-06-05T13:01:30.475875Z",
     "iopub.status.busy": "2024-06-05T13:01:30.475394Z",
     "iopub.status.idle": "2024-06-05T13:01:32.090171Z",
     "shell.execute_reply": "2024-06-05T13:01:32.088898Z"
    }
   },
   "outputs": [
    {
     "name": "stdout",
     "output_type": "stream",
     "text": [
      "Query executed successfully. 1 rows affected.\n",
      "Query executed successfully. 1 rows affected.\n",
      "Query executed successfully. 1 rows affected.\n",
      "Query executed successfully. 1 rows affected.\n",
      "Query executed successfully. 1 rows affected.\n",
      "Query executed successfully. 1 rows affected.\n"
     ]
    },
    {
     "name": "stdout",
     "output_type": "stream",
     "text": [
      "Query executed successfully. 1 rows affected.\n",
      "Query executed successfully. 1 rows affected.\n",
      "Query executed successfully. 1 rows affected.\n",
      "Query executed successfully. 1 rows affected.\n",
      "Query executed successfully. 1 rows affected.\n",
      "Query executed successfully. 1 rows affected.\n"
     ]
    },
    {
     "name": "stdout",
     "output_type": "stream",
     "text": [
      "Query executed successfully. 1 rows affected.\n",
      "Query executed successfully. 1 rows affected.\n",
      "Query executed successfully. 1 rows affected.\n",
      "Query executed successfully. 1 rows affected.\n",
      "Query executed successfully. 1 rows affected.\n",
      "Query executed successfully. 1 rows affected.\n"
     ]
    },
    {
     "name": "stdout",
     "output_type": "stream",
     "text": [
      "Query executed successfully. 1 rows affected.\n",
      "Query executed successfully. 1 rows affected.\n",
      "Query executed successfully. 1 rows affected.\n",
      "Query executed successfully. 1 rows affected.\n",
      "Query executed successfully. 1 rows affected.\n",
      "Query executed successfully. 1 rows affected.\n"
     ]
    },
    {
     "name": "stdout",
     "output_type": "stream",
     "text": [
      "Query executed successfully. 1 rows affected.\n",
      "Query executed successfully. 1 rows affected.\n",
      "Query executed successfully. 1 rows affected.\n",
      "Query executed successfully. 1 rows affected.\n",
      "Query executed successfully. 1 rows affected.\n",
      "Query executed successfully. 1 rows affected.\n"
     ]
    },
    {
     "name": "stdout",
     "output_type": "stream",
     "text": [
      "Query executed successfully. 1 rows affected.\n",
      "Query executed successfully. 1 rows affected.\n",
      "Query executed successfully. 1 rows affected.\n",
      "Query executed successfully. 1 rows affected.\n",
      "Query executed successfully. 1 rows affected.\n",
      "Query executed successfully. 1 rows affected.\n"
     ]
    },
    {
     "name": "stdout",
     "output_type": "stream",
     "text": [
      "Query executed successfully. 1 rows affected.\n",
      "Query executed successfully. 1 rows affected.\n",
      "Query executed successfully. 1 rows affected.\n",
      "Query executed successfully. 1 rows affected.\n",
      "Query executed successfully. 1 rows affected.\n",
      "Query executed successfully. 1 rows affected.\n"
     ]
    },
    {
     "name": "stdout",
     "output_type": "stream",
     "text": [
      "Query executed successfully. 1 rows affected.\n"
     ]
    }
   ],
   "source": [
    "# record result\n",
    "sentiment_class = 0\n",
    "\n",
    "for index, row in res_ds.iterrows():\n",
    "    if row['Prediction'] == 'Positive':\n",
    "        sentiment_class = 1\n",
    "    elif row['Prediction'] == 'Negative':\n",
    "        sentiment_class = -1\n",
    "    else:\n",
    "        sentiment_class = 0\n",
    "        \n",
    "    # sql = \"INSERT INTO cekmedsos_database.ret_sentiment_result (job_id, tweet_id, sentiment_class) VALUES(%s, %s , %s);\" % (str(const_job_id), row['id_str'], str(sentiment_class))\n",
    "    sql = \"INSERT INTO public.news_tbn_sentiment (id_tbn_news, sentiment_title, sentiment_title_value) VALUES( %s, %s, %s);\" % (row['id'], sentiment_class, row['Score'],) \n",
    "    #print(sql)\n",
    "    execute_query(sql)"
   ]
  },
  {
   "cell_type": "code",
   "execution_count": 12,
   "id": "fab6b6ed-3360-44d3-b72b-d82c53410061",
   "metadata": {
    "execution": {
     "iopub.execute_input": "2024-06-05T13:01:32.096816Z",
     "iopub.status.busy": "2024-06-05T13:01:32.095569Z",
     "iopub.status.idle": "2024-06-05T13:01:33.743954Z",
     "shell.execute_reply": "2024-06-05T13:01:33.742844Z"
    }
   },
   "outputs": [
    {
     "name": "stdout",
     "output_type": "stream",
     "text": [
      "Query executed successfully. 1 rows affected.\n",
      "Query executed successfully. 1 rows affected.\n",
      "Query executed successfully. 1 rows affected.\n",
      "Query executed successfully. 1 rows affected.\n"
     ]
    },
    {
     "name": "stdout",
     "output_type": "stream",
     "text": [
      "Query executed successfully. 1 rows affected.\n",
      "Query executed successfully. 1 rows affected.\n"
     ]
    },
    {
     "name": "stdout",
     "output_type": "stream",
     "text": [
      "Query executed successfully. 1 rows affected.\n",
      "Query executed successfully. 1 rows affected.\n",
      "Query executed successfully. 1 rows affected.\n",
      "Query executed successfully. 1 rows affected.\n"
     ]
    },
    {
     "name": "stdout",
     "output_type": "stream",
     "text": [
      "Query executed successfully. 1 rows affected.\n"
     ]
    },
    {
     "name": "stdout",
     "output_type": "stream",
     "text": [
      "Query executed successfully. 1 rows affected.\n",
      "Query executed successfully. 1 rows affected.\n",
      "Query executed successfully. 1 rows affected.\n",
      "Query executed successfully. 1 rows affected.\n",
      "Query executed successfully. 1 rows affected.\n"
     ]
    },
    {
     "name": "stdout",
     "output_type": "stream",
     "text": [
      "Query executed successfully. 1 rows affected.\n"
     ]
    },
    {
     "name": "stdout",
     "output_type": "stream",
     "text": [
      "Query executed successfully. 1 rows affected.\n",
      "Query executed successfully. 1 rows affected.\n",
      "Query executed successfully. 1 rows affected.\n",
      "Query executed successfully. 1 rows affected.\n",
      "Query executed successfully. 1 rows affected.\n"
     ]
    },
    {
     "name": "stdout",
     "output_type": "stream",
     "text": [
      "Query executed successfully. 1 rows affected.\n"
     ]
    },
    {
     "name": "stdout",
     "output_type": "stream",
     "text": [
      "Query executed successfully. 1 rows affected.\n",
      "Query executed successfully. 1 rows affected.\n",
      "Query executed successfully. 1 rows affected.\n",
      "Query executed successfully. 1 rows affected.\n",
      "Query executed successfully. 1 rows affected.\n"
     ]
    },
    {
     "name": "stdout",
     "output_type": "stream",
     "text": [
      "Query executed successfully. 1 rows affected.\n"
     ]
    },
    {
     "name": "stdout",
     "output_type": "stream",
     "text": [
      "Query executed successfully. 1 rows affected.\n",
      "Query executed successfully. 1 rows affected.\n",
      "Query executed successfully. 1 rows affected.\n",
      "Query executed successfully. 1 rows affected.\n",
      "Query executed successfully. 1 rows affected.\n"
     ]
    },
    {
     "name": "stdout",
     "output_type": "stream",
     "text": [
      "Query executed successfully. 1 rows affected.\n"
     ]
    },
    {
     "name": "stdout",
     "output_type": "stream",
     "text": [
      "Query executed successfully. 1 rows affected.\n",
      "Query executed successfully. 1 rows affected.\n",
      "Query executed successfully. 1 rows affected.\n",
      "Query executed successfully. 1 rows affected.\n",
      "Query executed successfully. 1 rows affected.\n"
     ]
    },
    {
     "name": "stdout",
     "output_type": "stream",
     "text": [
      "Query executed successfully. 1 rows affected.\n"
     ]
    },
    {
     "name": "stdout",
     "output_type": "stream",
     "text": [
      "Query executed successfully. 1 rows affected.\n",
      "Query executed successfully. 1 rows affected.\n"
     ]
    }
   ],
   "source": [
    "# record result\n",
    "sentiment_class = 0\n",
    "\n",
    "for index, row in res_ds.iterrows():\n",
    "    if row['Prediction'] == 'Positive':\n",
    "        sentiment_class = 1\n",
    "    elif row['Prediction'] == 'Negative':\n",
    "        sentiment_class = -1\n",
    "    else:\n",
    "        sentiment_class = 0\n",
    "        \n",
    "    sql = \"UPDATE public.news_tbn_sentiment set sentiment_content = %s, sentiment_content_value = %s where id_tbn_news = %s;\" % (sentiment_class, row['Score'], row['id'])\n",
    "    \n",
    "    execute_query(sql)"
   ]
  }
 ],
 "metadata": {
  "kernelspec": {
   "display_name": "Python 3 (ipykernel)",
   "language": "python",
   "name": "python3"
  },
  "language_info": {
   "codemirror_mode": {
    "name": "ipython",
    "version": 3
   },
   "file_extension": ".py",
   "mimetype": "text/x-python",
   "name": "python",
   "nbconvert_exporter": "python",
   "pygments_lexer": "ipython3",
   "version": "3.8.10"
  }
 },
 "nbformat": 4,
 "nbformat_minor": 5
}
