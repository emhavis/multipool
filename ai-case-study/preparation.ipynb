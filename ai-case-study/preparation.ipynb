{
 "cells": [
  {
   "cell_type": "code",
   "execution_count": 1,
   "id": "bd6b3eba-45f3-4092-85a7-b9686b4f40b2",
   "metadata": {},
   "outputs": [
    {
     "name": "stdout",
     "output_type": "stream",
     "text": [
      "Requirement already satisfied: numpy in /home/haviz/cekmedsos/lib/python3.6/site-packages (1.19.5)\n",
      "Collecting pandas\n",
      "  Downloading pandas-1.1.5-cp36-cp36m-manylinux1_x86_64.whl (9.5 MB)\n",
      "     |████████████████████████████████| 9.5 MB 4.6 MB/s            \n",
      "\u001b[?25hRequirement already satisfied: numpy>=1.15.4 in /home/haviz/cekmedsos/lib/python3.6/site-packages (from pandas) (1.19.5)\n",
      "Requirement already satisfied: python-dateutil>=2.7.3 in /home/haviz/cekmedsos/lib/python3.6/site-packages (from pandas) (2.8.2)\n",
      "Requirement already satisfied: pytz>=2017.2 in /home/haviz/cekmedsos/lib/python3.6/site-packages (from pandas) (2023.3.post1)\n",
      "Requirement already satisfied: six>=1.5 in /home/haviz/cekmedsos/lib/python3.6/site-packages (from python-dateutil>=2.7.3->pandas) (1.15.0)\n",
      "Installing collected packages: pandas\n",
      "Successfully installed pandas-1.1.5\n",
      "Collecting seaborn\n",
      "  Downloading seaborn-0.11.2-py3-none-any.whl (292 kB)\n",
      "     |████████████████████████████████| 292 kB 4.5 MB/s            \n",
      "\u001b[?25hCollecting scipy>=1.0\n",
      "  Downloading scipy-1.5.4-cp36-cp36m-manylinux1_x86_64.whl (25.9 MB)\n",
      "     |████████████████████████████████| 25.9 MB 3.8 MB/s             \n",
      "\u001b[?25hCollecting matplotlib>=2.2\n",
      "  Downloading matplotlib-3.3.4-cp36-cp36m-manylinux1_x86_64.whl (11.5 MB)\n",
      "     |████████████████████████████████| 11.5 MB 8.6 MB/s            \n",
      "\u001b[?25hRequirement already satisfied: numpy>=1.15 in /home/haviz/cekmedsos/lib/python3.6/site-packages (from seaborn) (1.19.5)\n",
      "Requirement already satisfied: pandas>=0.23 in /home/haviz/cekmedsos/lib/python3.6/site-packages (from seaborn) (1.1.5)\n",
      "Requirement already satisfied: pyparsing!=2.0.4,!=2.1.2,!=2.1.6,>=2.0.3 in /home/haviz/cekmedsos/lib/python3.6/site-packages (from matplotlib>=2.2->seaborn) (3.1.1)\n",
      "Collecting cycler>=0.10\n",
      "  Downloading cycler-0.11.0-py3-none-any.whl (6.4 kB)\n",
      "Collecting kiwisolver>=1.0.1\n",
      "  Downloading kiwisolver-1.3.1-cp36-cp36m-manylinux1_x86_64.whl (1.1 MB)\n",
      "     |████████████████████████████████| 1.1 MB 9.9 MB/s            \n",
      "\u001b[?25hRequirement already satisfied: python-dateutil>=2.1 in /home/haviz/cekmedsos/lib/python3.6/site-packages (from matplotlib>=2.2->seaborn) (2.8.2)\n",
      "Collecting pillow>=6.2.0\n",
      "  Downloading Pillow-8.4.0-cp36-cp36m-manylinux_2_17_x86_64.manylinux2014_x86_64.whl (3.1 MB)\n",
      "     |████████████████████████████████| 3.1 MB 9.2 MB/s            \n",
      "\u001b[?25hRequirement already satisfied: pytz>=2017.2 in /home/haviz/cekmedsos/lib/python3.6/site-packages (from pandas>=0.23->seaborn) (2023.3.post1)\n",
      "Requirement already satisfied: six>=1.5 in /home/haviz/cekmedsos/lib/python3.6/site-packages (from python-dateutil>=2.1->matplotlib>=2.2->seaborn) (1.15.0)\n",
      "Installing collected packages: pillow, kiwisolver, cycler, scipy, matplotlib, seaborn\n",
      "Successfully installed cycler-0.11.0 kiwisolver-1.3.1 matplotlib-3.3.4 pillow-8.4.0 scipy-1.5.4 seaborn-0.11.2\n",
      "Requirement already satisfied: matplotlib in /home/haviz/cekmedsos/lib/python3.6/site-packages (3.3.4)\n",
      "Requirement already satisfied: kiwisolver>=1.0.1 in /home/haviz/cekmedsos/lib/python3.6/site-packages (from matplotlib) (1.3.1)\n",
      "Requirement already satisfied: numpy>=1.15 in /home/haviz/cekmedsos/lib/python3.6/site-packages (from matplotlib) (1.19.5)\n",
      "Requirement already satisfied: pyparsing!=2.0.4,!=2.1.2,!=2.1.6,>=2.0.3 in /home/haviz/cekmedsos/lib/python3.6/site-packages (from matplotlib) (3.1.1)\n",
      "Requirement already satisfied: python-dateutil>=2.1 in /home/haviz/cekmedsos/lib/python3.6/site-packages (from matplotlib) (2.8.2)\n",
      "Requirement already satisfied: pillow>=6.2.0 in /home/haviz/cekmedsos/lib/python3.6/site-packages (from matplotlib) (8.4.0)\n",
      "Requirement already satisfied: cycler>=0.10 in /home/haviz/cekmedsos/lib/python3.6/site-packages (from matplotlib) (0.11.0)\n",
      "Requirement already satisfied: six>=1.5 in /home/haviz/cekmedsos/lib/python3.6/site-packages (from python-dateutil>=2.1->matplotlib) (1.15.0)\n",
      "Collecting pymysql\n",
      "  Downloading PyMySQL-1.0.2-py3-none-any.whl (43 kB)\n",
      "     |████████████████████████████████| 43 kB 855 kB/s             \n",
      "\u001b[?25hInstalling collected packages: pymysql\n",
      "Successfully installed pymysql-1.0.2\n",
      "Collecting sqlalchemy\n",
      "  Downloading SQLAlchemy-1.4.50-cp36-cp36m-manylinux_2_5_x86_64.manylinux1_x86_64.manylinux_2_17_x86_64.manylinux2014_x86_64.whl (1.6 MB)\n",
      "     |████████████████████████████████| 1.6 MB 5.6 MB/s            �███████████████▍              | 880 kB 5.6 MB/s eta 0:00:01\n",
      "\u001b[?25hRequirement already satisfied: importlib-metadata in /home/haviz/cekmedsos/lib/python3.6/site-packages (from sqlalchemy) (4.8.3)\n",
      "Collecting greenlet!=0.4.17\n",
      "  Downloading greenlet-2.0.2-cp36-cp36m-manylinux_2_17_x86_64.manylinux2014_x86_64.whl (564 kB)\n",
      "     |████████████████████████████████| 564 kB 13.7 MB/s            \n",
      "\u001b[?25hRequirement already satisfied: zipp>=0.5 in /home/haviz/cekmedsos/lib/python3.6/site-packages (from importlib-metadata->sqlalchemy) (3.6.0)\n",
      "Requirement already satisfied: typing-extensions>=3.6.4 in /home/haviz/cekmedsos/lib/python3.6/site-packages (from importlib-metadata->sqlalchemy) (3.7.4.3)\n",
      "Installing collected packages: greenlet, sqlalchemy\n",
      "Successfully installed greenlet-2.0.2 sqlalchemy-1.4.50\n",
      "Collecting nltk\n",
      "  Downloading nltk-3.6.7-py3-none-any.whl (1.5 MB)\n",
      "     |████████████████████████████████| 1.5 MB 4.5 MB/s            \n",
      "\u001b[?25hRequirement already satisfied: click in /home/haviz/cekmedsos/lib/python3.6/site-packages (from nltk) (8.0.4)\n",
      "Requirement already satisfied: joblib in /home/haviz/cekmedsos/lib/python3.6/site-packages (from nltk) (1.1.1)\n",
      "Requirement already satisfied: regex>=2021.8.3 in /home/haviz/cekmedsos/lib/python3.6/site-packages (from nltk) (2023.8.8)\n",
      "Requirement already satisfied: tqdm in /home/haviz/cekmedsos/lib/python3.6/site-packages (from nltk) (4.64.1)\n",
      "Requirement already satisfied: importlib-metadata in /home/haviz/cekmedsos/lib/python3.6/site-packages (from click->nltk) (4.8.3)\n",
      "Requirement already satisfied: importlib-resources in /home/haviz/cekmedsos/lib/python3.6/site-packages (from tqdm->nltk) (5.4.0)\n",
      "Requirement already satisfied: zipp>=0.5 in /home/haviz/cekmedsos/lib/python3.6/site-packages (from importlib-metadata->click->nltk) (3.6.0)\n",
      "Requirement already satisfied: typing-extensions>=3.6.4 in /home/haviz/cekmedsos/lib/python3.6/site-packages (from importlib-metadata->click->nltk) (3.7.4.3)\n",
      "Installing collected packages: nltk\n",
      "Successfully installed nltk-3.6.7\n"
     ]
    }
   ],
   "source": [
    "!pip install numpy\n",
    "!pip install pandas\n",
    "!pip install seaborn\n",
    "!pip install matplotlib\n",
    "!pip install pymysql\n",
    "!pip install sqlalchemy\n",
    "!pip install nltk"
   ]
  },
  {
   "cell_type": "code",
   "execution_count": 2,
   "id": "a93c701f-28b3-4390-9234-315d366114a4",
   "metadata": {},
   "outputs": [
    {
     "name": "stdout",
     "output_type": "stream",
     "text": [
      "Requirement already satisfied: keras in /home/haviz/cekmedsos/lib/python3.6/site-packages (2.6.0)\n"
     ]
    }
   ],
   "source": [
    "!pip install keras "
   ]
  },
  {
   "cell_type": "code",
   "execution_count": 3,
   "id": "dfa47f7d-064f-46ca-8ec1-cbbd366285b4",
   "metadata": {},
   "outputs": [],
   "source": [
    "#!pip install tensorflow"
   ]
  },
  {
   "cell_type": "code",
   "execution_count": 4,
   "id": "5aa690c2-2ea2-4da0-8dcf-47c0f355084d",
   "metadata": {},
   "outputs": [
    {
     "name": "stdout",
     "output_type": "stream",
     "text": [
      "Found existing installation: tensorflow 2.15.0\n",
      "Uninstalling tensorflow-2.15.0:\n",
      "  Would remove:\n",
      "    /home/haviz/cekmedsos/bin/estimator_ckpt_converter\n",
      "    /home/haviz/cekmedsos/bin/import_pb_to_tensorboard\n",
      "    /home/haviz/cekmedsos/bin/saved_model_cli\n",
      "    /home/haviz/cekmedsos/bin/tensorboard\n",
      "    /home/haviz/cekmedsos/bin/tf_upgrade_v2\n",
      "    /home/haviz/cekmedsos/bin/tflite_convert\n",
      "    /home/haviz/cekmedsos/bin/toco\n",
      "    /home/haviz/cekmedsos/bin/toco_from_protos\n",
      "    /home/haviz/cekmedsos/lib/python3.10/site-packages/tensorflow-2.15.0.dist-info/*\n",
      "    /home/haviz/cekmedsos/lib/python3.10/site-packages/tensorflow/*\n",
      "Proceed (Y/n)? ^C\n",
      "\u001b[31mERROR: Operation cancelled by user\u001b[0m\u001b[31m\n",
      "\u001b[0mNote: you may need to restart the kernel to use updated packages.\n"
     ]
    }
   ],
   "source": [
    "pip uninstall tensorflow"
   ]
  },
  {
   "cell_type": "code",
   "execution_count": 4,
   "id": "de79aed6-76c3-44e7-ad72-d56c5090d18d",
   "metadata": {},
   "outputs": [
    {
     "name": "stdout",
     "output_type": "stream",
     "text": [
      "Requirement already satisfied: sklearn in /home/haviz/cekmedsos/lib/python3.6/site-packages (0.0)\n",
      "Requirement already satisfied: scikit-learn in /home/haviz/cekmedsos/lib/python3.6/site-packages (from sklearn) (0.24.2)\n",
      "Requirement already satisfied: threadpoolctl>=2.0.0 in /home/haviz/cekmedsos/lib/python3.6/site-packages (from scikit-learn->sklearn) (3.1.0)\n",
      "Requirement already satisfied: joblib>=0.11 in /home/haviz/cekmedsos/lib/python3.6/site-packages (from scikit-learn->sklearn) (1.1.1)\n",
      "Requirement already satisfied: numpy>=1.13.3 in /home/haviz/cekmedsos/lib/python3.6/site-packages (from scikit-learn->sklearn) (1.19.5)\n",
      "Requirement already satisfied: scipy>=0.19.1 in /home/haviz/cekmedsos/lib/python3.6/site-packages (from scikit-learn->sklearn) (1.5.4)\n"
     ]
    }
   ],
   "source": [
    "!pip install sklearn"
   ]
  }
 ],
 "metadata": {
  "kernelspec": {
   "display_name": "Python 3",
   "language": "python",
   "name": "python3"
  },
  "language_info": {
   "codemirror_mode": {
    "name": "ipython",
    "version": 3
   },
   "file_extension": ".py",
   "mimetype": "text/x-python",
   "name": "python",
   "nbconvert_exporter": "python",
   "pygments_lexer": "ipython3",
   "version": "3.6.8"
  }
 },
 "nbformat": 4,
 "nbformat_minor": 5
}
