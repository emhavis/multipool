{
 "cells": [
  {
   "cell_type": "code",
   "execution_count": null,
   "id": "0ed565e4-65ab-463a-b16e-e4fbe978bd0d",
   "metadata": {},
   "outputs": [
    {
     "name": "stdout",
     "output_type": "stream",
     "text": [
      "Job started.\n",
      "Instance 0 started.\n",
      "Instance 1 started.\n"
     ]
    },
    {
     "name": "stderr",
     "output_type": "stream",
     "text": [
      "2024-08-04 07:35:54.227268: E external/local_xla/xla/stream_executor/cuda/cuda_fft.cc:485] Unable to register cuFFT factory: Attempting to register factory for plugin cuFFT when one has already been registered\n",
      "2024-08-04 07:35:54.249392: E external/local_xla/xla/stream_executor/cuda/cuda_dnn.cc:8454] Unable to register cuDNN factory: Attempting to register factory for plugin cuDNN when one has already been registered\n",
      "2024-08-04 07:35:54.255109: E external/local_xla/xla/stream_executor/cuda/cuda_blas.cc:1452] Unable to register cuBLAS factory: Attempting to register factory for plugin cuBLAS when one has already been registered\n",
      "2024-08-04 07:35:54.268208: I tensorflow/core/platform/cpu_feature_guard.cc:210] This TensorFlow binary is optimized to use available CPU instructions in performance-critical operations.\n",
      "To enable the following instructions: AVX2 FMA, in other operations, rebuild TensorFlow with the appropriate compiler flags.\n"
     ]
    },
    {
     "name": "stdout",
     "output_type": "stream",
     "text": [
      "Instance 2 started.\n"
     ]
    },
    {
     "name": "stderr",
     "output_type": "stream",
     "text": [
      "2024-08-04 07:35:55.159032: W tensorflow/compiler/tf2tensorrt/utils/py_utils.cc:38] TF-TRT Warning: Could not find TensorRT\n"
     ]
    },
    {
     "name": "stdout",
     "output_type": "stream",
     "text": [
      "Instance 3 started.\n"
     ]
    },
    {
     "name": "stderr",
     "output_type": "stream",
     "text": [
      "2024-08-04 07:35:57.000495: E external/local_xla/xla/stream_executor/cuda/cuda_fft.cc:485] Unable to register cuFFT factory: Attempting to register factory for plugin cuFFT when one has already been registered\n",
      "2024-08-04 07:35:57.022671: E external/local_xla/xla/stream_executor/cuda/cuda_dnn.cc:8454] Unable to register cuDNN factory: Attempting to register factory for plugin cuDNN when one has already been registered\n",
      "2024-08-04 07:35:57.028396: E external/local_xla/xla/stream_executor/cuda/cuda_blas.cc:1452] Unable to register cuBLAS factory: Attempting to register factory for plugin cuBLAS when one has already been registered\n",
      "2024-08-04 07:35:57.041562: I tensorflow/core/platform/cpu_feature_guard.cc:210] This TensorFlow binary is optimized to use available CPU instructions in performance-critical operations.\n",
      "To enable the following instructions: AVX2 FMA, in other operations, rebuild TensorFlow with the appropriate compiler flags.\n",
      "2024-08-04 07:35:58.095956: W tensorflow/compiler/tf2tensorrt/utils/py_utils.cc:38] TF-TRT Warning: Could not find TensorRT\n"
     ]
    },
    {
     "name": "stdout",
     "output_type": "stream",
     "text": [
      "Instance 4 started.\n"
     ]
    },
    {
     "name": "stderr",
     "output_type": "stream",
     "text": [
      "2024-08-04 07:35:59.218778: E external/local_xla/xla/stream_executor/cuda/cuda_fft.cc:485] Unable to register cuFFT factory: Attempting to register factory for plugin cuFFT when one has already been registered\n",
      "2024-08-04 07:35:59.247046: E external/local_xla/xla/stream_executor/cuda/cuda_dnn.cc:8454] Unable to register cuDNN factory: Attempting to register factory for plugin cuDNN when one has already been registered\n",
      "2024-08-04 07:35:59.255431: E external/local_xla/xla/stream_executor/cuda/cuda_blas.cc:1452] Unable to register cuBLAS factory: Attempting to register factory for plugin cuBLAS when one has already been registered\n",
      "2024-08-04 07:35:59.274855: I tensorflow/core/platform/cpu_feature_guard.cc:210] This TensorFlow binary is optimized to use available CPU instructions in performance-critical operations.\n",
      "To enable the following instructions: AVX2 FMA, in other operations, rebuild TensorFlow with the appropriate compiler flags.\n",
      "2024-08-04 07:36:00.533448: W tensorflow/compiler/tf2tensorrt/utils/py_utils.cc:38] TF-TRT Warning: Could not find TensorRT\n",
      "2024-08-04 07:36:02.362331: E external/local_xla/xla/stream_executor/cuda/cuda_fft.cc:485] Unable to register cuFFT factory: Attempting to register factory for plugin cuFFT when one has already been registered\n",
      "2024-08-04 07:36:02.390698: E external/local_xla/xla/stream_executor/cuda/cuda_dnn.cc:8454] Unable to register cuDNN factory: Attempting to register factory for plugin cuDNN when one has already been registered\n",
      "2024-08-04 07:36:02.399407: E external/local_xla/xla/stream_executor/cuda/cuda_blas.cc:1452] Unable to register cuBLAS factory: Attempting to register factory for plugin cuBLAS when one has already been registered\n",
      "2024-08-04 07:36:02.417941: I tensorflow/core/platform/cpu_feature_guard.cc:210] This TensorFlow binary is optimized to use available CPU instructions in performance-critical operations.\n",
      "To enable the following instructions: AVX2 FMA, in other operations, rebuild TensorFlow with the appropriate compiler flags.\n",
      "2024-08-04 07:36:03.875842: W tensorflow/compiler/tf2tensorrt/utils/py_utils.cc:38] TF-TRT Warning: Could not find TensorRT\n",
      "2024-08-04 07:36:04.500419: E external/local_xla/xla/stream_executor/cuda/cuda_fft.cc:485] Unable to register cuFFT factory: Attempting to register factory for plugin cuFFT when one has already been registered\n",
      "2024-08-04 07:36:04.528618: E external/local_xla/xla/stream_executor/cuda/cuda_dnn.cc:8454] Unable to register cuDNN factory: Attempting to register factory for plugin cuDNN when one has already been registered\n",
      "2024-08-04 07:36:04.537269: E external/local_xla/xla/stream_executor/cuda/cuda_blas.cc:1452] Unable to register cuBLAS factory: Attempting to register factory for plugin cuBLAS when one has already been registered\n",
      "2024-08-04 07:36:04.574047: I tensorflow/core/platform/cpu_feature_guard.cc:210] This TensorFlow binary is optimized to use available CPU instructions in performance-critical operations.\n",
      "To enable the following instructions: AVX2 FMA, in other operations, rebuild TensorFlow with the appropriate compiler flags.\n",
      "2024-08-04 07:36:06.307533: W tensorflow/compiler/tf2tensorrt/utils/py_utils.cc:38] TF-TRT Warning: Could not find TensorRT\n"
     ]
    },
    {
     "name": "stdout",
     "output_type": "stream",
     "text": [
      "Instance 1 finished.\n",
      "Instance 0 finished.\n",
      "Instance 2 finished.\n",
      "Instance 3 finished.\n"
     ]
    }
   ],
   "source": [
    "import os\n",
    "import time\n",
    "import datetime\n",
    "import nbformat\n",
    "from nbconvert.preprocessors import ExecutePreprocessor\n",
    "import concurrent.futures\n",
    "\n",
    "lock_file = 'job-multipool-sentiment.lock'\n",
    "timeout_seconds = 3600  # Timeout period to consider a job as halted, e.g., 10 minutes\n",
    "num_parallel_executions = 5  # Number of parallel executions\n",
    "delay_between_starts = 2  # Delay in seconds between starts\n",
    "\n",
    "def create_lock_file():\n",
    "    with open(lock_file, 'w') as f:\n",
    "        f.write(datetime.datetime.now().isoformat())\n",
    "\n",
    "def update_lock_file():\n",
    "    with open(lock_file, 'w') as f:\n",
    "        f.write(datetime.datetime.now().isoformat())\n",
    "\n",
    "def check_lock_file():\n",
    "    if os.path.exists(lock_file):\n",
    "        with open(lock_file, 'r') as f:\n",
    "            timestamp = f.read()\n",
    "            last_run_time = datetime.datetime.fromisoformat(timestamp)\n",
    "            if (datetime.datetime.now() - last_run_time).total_seconds() < timeout_seconds:\n",
    "                return True  # Job is still running\n",
    "    return False  # Job is not running or has halted\n",
    "\n",
    "def run_notebook(instance_id, notebook_path, timeout=600):\n",
    "    try:\n",
    "        print(f\"Instance {instance_id} started.\")\n",
    "        with open(notebook_path) as f:\n",
    "            nb = nbformat.read(f, as_version=4)\n",
    "        ep = ExecutePreprocessor(timeout=timeout, kernel_name='python3')\n",
    "        ep.preprocess(nb, {'metadata': {'path': '/home/ubuntu/ml_project/notebook_directory/multipool/ai-case-study/'}})\n",
    "        with open(notebook_path, 'w') as f:\n",
    "            nbformat.write(nb, f)\n",
    "        print(f\"Instance {instance_id} finished.\")\n",
    "    except Exception as e:\n",
    "        print(f\"Instance {instance_id} failed: {e}\")\n",
    "\n",
    "# Check if the lock file exists and the job is still running\n",
    "if check_lock_file():\n",
    "    print(\"Previous job is still running. Exiting.\")\n",
    "else:\n",
    "    # Create a lock file to indicate that the job is running\n",
    "    create_lock_file()\n",
    "    print(\"Job started.\")\n",
    "    try:\n",
    "        # Run the notebook in parallel\n",
    "        with concurrent.futures.ThreadPoolExecutor(max_workers=num_parallel_executions) as executor:\n",
    "            futures = {}\n",
    "            for i in range(num_parallel_executions):\n",
    "                futures[executor.submit(run_notebook, i, '/home/ubuntu/ml_project/notebook_directory/multipool/ai-case-study/google-sentiment.ipynb')] = i\n",
    "                time.sleep(delay_between_starts)  # Delay between starting each instance\n",
    "            for future in concurrent.futures.as_completed(futures):\n",
    "                instance_id = futures[future]\n",
    "                try:\n",
    "                    future.result()\n",
    "                except Exception as e:\n",
    "                    print(f\"Instance {instance_id} generated an exception: {e}\")\n",
    "        print(\"All instances finished.\")\n",
    "    finally:\n",
    "        # Remove the lock file when the job is done\n",
    "        if os.path.exists(lock_file):\n",
    "            os.remove(lock_file)\n"
   ]
  },
  {
   "cell_type": "code",
   "execution_count": null,
   "id": "05bb0a07-7ec3-4fff-a252-72c0ad890c43",
   "metadata": {},
   "outputs": [],
   "source": []
  }
 ],
 "metadata": {
  "kernelspec": {
   "display_name": "Python 3 (ipykernel)",
   "language": "python",
   "name": "python3"
  },
  "language_info": {
   "codemirror_mode": {
    "name": "ipython",
    "version": 3
   },
   "file_extension": ".py",
   "mimetype": "text/x-python",
   "name": "python",
   "nbconvert_exporter": "python",
   "pygments_lexer": "ipython3",
   "version": "3.10.9"
  }
 },
 "nbformat": 4,
 "nbformat_minor": 5
}
