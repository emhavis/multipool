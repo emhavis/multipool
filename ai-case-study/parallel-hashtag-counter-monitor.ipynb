{
 "cells": [
  {
   "cell_type": "code",
   "execution_count": 1,
   "id": "471d8110-b1e9-4728-995a-a28f0e632945",
   "metadata": {},
   "outputs": [
    {
     "name": "stdout",
     "output_type": "stream",
     "text": [
      "Instance 0 finished execution with output:\n",
      "\n",
      "Instance 1 finished execution with output:\n",
      "\n",
      "Instance 2 finished execution with output:\n",
      "\n",
      "Instance 4 finished execution with output:\n",
      "\n",
      "Instance 3 finished execution with output:\n",
      "\n",
      "Instance 5 finished execution with output:\n",
      "\n",
      "Instance 6 finished execution with output:\n",
      "\n",
      "Instance 7 finished execution with output:\n",
      "\n",
      "Instance 8 finished execution with output:\n",
      "\n",
      "Instance 9 finished execution with output:\n",
      "\n"
     ]
    }
   ],
   "source": [
    "import subprocess\n",
    "import concurrent.futures\n",
    "import time\n",
    "\n",
    "# Define the function to run the Jupyter notebook\n",
    "def run_notebook(instance_id):\n",
    "    try:\n",
    "        command = ['jupyter', 'nbconvert', '--to', 'notebook', '--execute', '--inplace', '/home/ubuntu/ml_project/notebook_directory/multipool/ai-case-study/hashtag-counter-monitor.ipynb']\n",
    "        result = subprocess.run(command, capture_output=True, text=True)\n",
    "        print(f\"Instance {instance_id} finished execution with output:\\n{result.stdout}\")\n",
    "    except Exception as e:\n",
    "        print(f\"Instance {instance_id} generated an exception: {e}\")\n",
    "\n",
    "# Create a function to manage parallel execution\n",
    "def run_notebooks_in_parallel(num_instances, delay):\n",
    "    with concurrent.futures.ThreadPoolExecutor(max_workers=num_instances) as executor:\n",
    "        futures = {}\n",
    "        for i in range(num_instances):\n",
    "            futures[executor.submit(run_notebook, i)] = i\n",
    "            time.sleep(delay)  # Delay between starting each instance\n",
    "        for future in concurrent.futures.as_completed(futures):\n",
    "            instance_id = futures[future]\n",
    "            try:\n",
    "                future.result()\n",
    "            except Exception as e:\n",
    "                print(f\"Instance {instance_id} generated an exception: {e}\")\n",
    "\n",
    "# Define the path to the notebook, number of parallel instances, and delay in seconds\n",
    "num_instances = 10\n",
    "delay = 1  # 5 seconds delay between each start\n",
    "\n",
    "# Run the notebooks in parallel\n",
    "run_notebooks_in_parallel(num_instances, delay)\n"
   ]
  },
  {
   "cell_type": "code",
   "execution_count": null,
   "id": "ff1484bd-992c-45a5-ac3b-76e1d1fa1bda",
   "metadata": {},
   "outputs": [],
   "source": []
  }
 ],
 "metadata": {
  "kernelspec": {
   "display_name": "Python 3 (ipykernel)",
   "language": "python",
   "name": "python3"
  },
  "language_info": {
   "codemirror_mode": {
    "name": "ipython",
    "version": 3
   },
   "file_extension": ".py",
   "mimetype": "text/x-python",
   "name": "python",
   "nbconvert_exporter": "python",
   "pygments_lexer": "ipython3",
   "version": "3.10.9"
  }
 },
 "nbformat": 4,
 "nbformat_minor": 5
}
