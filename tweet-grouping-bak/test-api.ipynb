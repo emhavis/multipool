{
 "cells": [
  {
   "cell_type": "code",
   "execution_count": 9,
   "id": "static-savings",
   "metadata": {},
   "outputs": [
    {
     "name": "stdout",
     "output_type": "stream",
     "text": [
      "25823\n"
     ]
    }
   ],
   "source": [
    "import numpy as np\n",
    "import array as arr\n",
    "\n",
    "matrix_length = 25823\n",
    "\n",
    "cosine_matrix = np.zeros(( matrix_length, matrix_length ), dtype=np.dtype('f4'))\n",
    "\n",
    "# np.iinfo(np.int32)\n",
    "# np.iinfo(np.int64)\n",
    "\n",
    "print(len(cosine_matrix))"
   ]
  }
 ],
 "metadata": {
  "kernelspec": {
   "display_name": "Python 3",
   "language": "python",
   "name": "python3"
  },
  "language_info": {
   "codemirror_mode": {
    "name": "ipython",
    "version": 3
   },
   "file_extension": ".py",
   "mimetype": "text/x-python",
   "name": "python",
   "nbconvert_exporter": "python",
   "pygments_lexer": "ipython3",
   "version": "3.8.5"
  }
 },
 "nbformat": 4,
 "nbformat_minor": 5
}
