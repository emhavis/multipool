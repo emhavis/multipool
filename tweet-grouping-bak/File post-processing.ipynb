{
 "cells": [
  {
   "cell_type": "markdown",
   "id": "confirmed-turner",
   "metadata": {},
   "source": [
    "## Reload file from storage"
   ]
  },
  {
   "cell_type": "code",
   "execution_count": 1,
   "id": "adjusted-apparatus",
   "metadata": {},
   "outputs": [
    {
     "name": "stdout",
     "output_type": "stream",
     "text": [
      "<numpy.lib.npyio.NpzFile object at 0x106189610>\n"
     ]
    }
   ],
   "source": [
    "# save numpy array as npz file\n",
    "import numpy\n",
    "from numpy import asarray\n",
    "from numpy import savez_compressed\n",
    "\n",
    "# read data\n",
    "df = numpy.load('./output/data_380.npz')\n",
    "\n",
    "print(df)"
   ]
  }
 ],
 "metadata": {
  "kernelspec": {
   "display_name": "Python 3",
   "language": "python",
   "name": "python3"
  },
  "language_info": {
   "codemirror_mode": {
    "name": "ipython",
    "version": 3
   },
   "file_extension": ".py",
   "mimetype": "text/x-python",
   "name": "python",
   "nbconvert_exporter": "python",
   "pygments_lexer": "ipython3",
   "version": "3.8.5"
  }
 },
 "nbformat": 4,
 "nbformat_minor": 5
}
